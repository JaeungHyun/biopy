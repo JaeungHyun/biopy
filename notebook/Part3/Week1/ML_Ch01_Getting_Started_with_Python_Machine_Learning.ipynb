{
 "metadata": {
  "name": "",
  "signature": "sha256:8bdc6e385fc74859a421a9a1248186a1833baecf60f0bcbb2eb39696e6ee9aa3"
 },
 "nbformat": 3,
 "nbformat_minor": 0,
 "worksheets": [
  {
   "cells": [
    {
     "cell_type": "heading",
     "level": 1,
     "metadata": {},
     "source": [
      "1\uc7a5 \uae30\uacc4 \ud559\uc2b5 \ud30c\uc774\uc36c\uc73c\ub85c \uc2dc\uc791\ud558\uae30"
     ]
    },
    {
     "cell_type": "markdown",
     "metadata": {},
     "source": [
      "contents\n",
      "\n",
      "\uae30\uacc4 \ud559\uc2b5\uacfc \ud30c\uc774\uc36c : \uafc8\uc758 \uc870\ud569 \n",
      "\n",
      "\uc774 \ucc45\uc774 \uc54c\ub824\uc8fc\ub294 \ub0b4\uc6a9(\uacfc \uc54c\ub824\uc8fc\uc9c0 \uc54a\ub294 \ub0b4\uc6a9) \n",
      "\n",
      "\uc815\uccb4\ub410\uc744 \ub300 \ud574\uc57c \ud560 \uc791\uc5c5  \n",
      "\n",
      "\uc2dc\uc791 \n",
      "* NumPy, SciPy, and Matplotlib \uc18c\uac1c\n",
      "* \ud30c\uc774\uc36c \uc124\uce58  \n",
      "* NumPy\uc640 \ud6a8\uacfc\uc801\uc73c\ub85c, SciPy\uc640 \uc9c0\ub2a5\uc801\uc73c\ub85c \uc801\uc6a9\ud558\uae30 \uc26c\uc6b4 \ub370\uc774\ud130 \ub9cc\ub4e4\uae30\n",
      "* NumPy \ubc30\uc6b0\uae30 \n",
      " * \uc778\ub371\uc2f1\n",
      " * \uc874\uc7ac\ud558\uc9c0 \uc54a\ub294 \uac12 \ucc98\ub9ac  \n",
      " * \uc2e4\ud589 \uc2dc\uac04 \ube44\uad50 \n",
      "* SciPy \ubc30\uc6b0\uae30\n",
      "\n",
      "\uccab \ubc88\uc9f8 \uae30\uacc4 \ud559\uc2b5 \uc560\ud50c\ub9ac\ucf00\uc774\uc158 \n",
      "* \ub370\uc774\ud130 \uc77d\uae30 \n",
      "* \ub370\uc774\ud130 \uc815\ub9ac\uc640 \uc804\ucc98\ub9ac \n",
      "* \uc801\uc808\ud55c \ubaa8\ub378\uacfc \ud559\uc2b5 \uc54c\uace0\ub9ac\uc998 \uc120\ud0dd  \n",
      " * \ubaa8\ub378\uc744 \ub9cc\ub4e4\uae30\uc5d0 \uc55e\uc11c  \n",
      " * \ub2e8\uc21c\ud55c \uc9c1\uc120\uc73c\ub85c \uc2dc\uc791\ud558\uae30   \n",
      " * \uc880 \ub354 \ubcf5\uc7a1\ud55c \ubaa8\ub378  \n",
      " * \uc77c\ubcf4\ud6c4\ud1f4, \uc774\ubcf4\uc804\uc9c4 : \ub370\uc774\ud130 \ub2e4\uc2dc \ubcf4\uae30\n",
      " * \ud6c8\ub828\uacfc \ud14c\uc2a4\ud2b8\n",
      " * \ucd5c\ucd08 \uc9c8\ubb38\uc5d0 \ub300\ub2f5\ud558\uae30"
     ]
    },
    {
     "cell_type": "heading",
     "level": 1,
     "metadata": {},
     "source": [
      "\uae30\uacc4 \ud559\uc2b5\uacfc \ud30c\uc774\uc36c : \uafc8\uc758 \uc870\ud569"
     ]
    },
    {
     "cell_type": "markdown",
     "metadata": {},
     "source": [
      "\uae30\uacc4\ud559\uc2b5\uc774\ub780? \n",
      "* \uae30\uacc4\uc5d0\uac8c \uba87 \uac00\uc9c0 \uc608\ub97c \uc8fc\uace0 \uc791\uc5c5\uc744 \uc218\ud589\ud558\ub3c4\ub85d \uac00\ub974\uce58\ub294 \uc77c\n",
      "\n",
      "ML(\uae30\uacc4\ud559\uc2b5)\uc740 \uc560\uc790\uc77c\ud558\uac8c\n",
      "* \uc77c\ubc18\uc801\uc778 ML\uc740 \ubd84\uc11d \uc2dc \uc55e\ub4a4 \ub2e8\uacc4\ub97c \uc624\uac00\uba70 \ub2e4\uc591\ud55c ML \uc54c\uace0\ub9ac\uc998\uc5d0 \uc5ec\ub7ec \ubc84\uc804\uc758 \uc785\ub825 \ub370\uc774\ud130\ub97c \uc801\uc6a9\ud574 \uc2dc\ub3c4\n",
      "\n",
      "\ud30c\uc774\uc36c \uc4f0\uba74 \uc88b\ub2e4\n",
      "* \ub300\ud654\ud615, \ub3d9\uc801\ud0c0\uc785, \uc27d\uace0 \ub2e4\uc591\ud55c \ub77c\uc774\ube0c\ub7ec\ub9ac\n",
      "* \uc2e4\ud589\uc18d\ub3c4 \ud76c\uc0dd"
     ]
    },
    {
     "cell_type": "heading",
     "level": 1,
     "metadata": {},
     "source": [
      "\uc774 \ucc45\uc774 \uc54c\ub824\uc8fc\ub294 \ub0b4\uc6a9(\uacfc \uc54c\ub824\uc8fc\uc9c0 \uc54a\ub294 \ub0b4\uc6a9)"
     ]
    },
    {
     "cell_type": "markdown",
     "metadata": {},
     "source": [
      "\uc54c\ub824\uc8fc\uc9c0 \uc54a\ub294 \uac83 - \uc815\uad50\ud55c \uc5ec\ub7ec \uae30\uacc4\ud559\uc2b5 \uc54c\uace0\ub9ac\uc998\ub4e4\uc5d0 \ub300\ud55c \uc774\ub860\uc801 \uc811\uadfc.\n",
      "\n",
      "\uc54c\ub824\uc8fc\ub294 \uac83\n",
      "1. \ub370\uc774\ud130 \uc77d\uae30\uc640 \uc815\ub9ac\n",
      "2. \uc785\ub825 \ub370\uc774\ud130\uc758 \ud0d0\uad6c\uc640 \uc774\ud574\n",
      "3. \uae30\uacc4 \ud559\uc2b5 \uc54c\uace0\ub9ac\uc998\uc744 \uc704\ud574 \uc5b4\ub5bb\uac8c \ucd5c\uc801\uc73c\ub85c \ub370\uc774\ud130\ub97c \ub098\ud0c0\ub0bc\uc9c0\uc5d0 \ub300\ud55c \ubd84\uc11d\n",
      "4. \uc801\uc808\ud55c \ubaa8\ub378\uacfc \ud559\uc2b5 \uc54c\uace0\ub9ac\uc998 \uc120\ud0dd\n",
      "5. \uc218\ud589 \uc815\ud655\ub3c4 \uce21\uc815"
     ]
    },
    {
     "cell_type": "heading",
     "level": 1,
     "metadata": {},
     "source": [
      "\uc815\uccb4\ub410\uc744 \ub54c \ud574\uc57c \ud560 \uc791\uc5c5"
     ]
    },
    {
     "cell_type": "markdown",
     "metadata": {},
     "source": [
      "\uad6c\uae00\ub9c1 & \ucd94\ucc9c \uc0ac\uc774\ud2b8\n",
      "\n",
      "* http://metaoptimize.com/qa\n",
      "* https://stats.stackexchange.com\n",
      "* https://stackoverflow.com\n",
      "* Feenode\uc758 #machinelearning\n",
      "* http://www.TwoToReal.com\n",
      "\n",
      "\ud558\uc9c0\ub9cc, kaggle\ub85c \ub300\ub3d9\ub2e8\uacb0.(kaggle \ube14\ub85c\uadf8\ub85c \uac11\uc2dc\ub2e4)\n",
      "* http://blog.kaggle.com\n"
     ]
    },
    {
     "cell_type": "heading",
     "level": 1,
     "metadata": {},
     "source": [
      "\uc2dc\uc791"
     ]
    },
    {
     "cell_type": "heading",
     "level": 2,
     "metadata": {},
     "source": [
      "NumPy, SciPy, Matplotlib \uc18c\uac1c"
     ]
    },
    {
     "cell_type": "heading",
     "level": 2,
     "metadata": {},
     "source": [
      "\ud30c\uc774\uc36c \uc124\uce58"
     ]
    },
    {
     "cell_type": "heading",
     "level": 2,
     "metadata": {},
     "source": [
      "NumPy\uc640 \ud6a8\uacfc\uc801\uc73c\ub85c, SciPy\uc640 \uc9c0\ub2a5\uc801\uc73c\ub85c \uc801\uc6a9\ud558\uae30 \uc26c\uc6b4 \ub370\uc774\ud130 \ub9cc\ub4e4\uae30"
     ]
    },
    {
     "cell_type": "heading",
     "level": 2,
     "metadata": {},
     "source": [
      "NumPy \ubc30\uc6b0\uae30"
     ]
    },
    {
     "cell_type": "code",
     "collapsed": false,
     "input": [
      "import numpy\n",
      "numpy.version.full_version"
     ],
     "language": "python",
     "metadata": {},
     "outputs": [
      {
       "metadata": {},
       "output_type": "pyout",
       "prompt_number": 1,
       "text": [
        "'1.8.2'"
       ]
      }
     ],
     "prompt_number": 1
    },
    {
     "cell_type": "code",
     "collapsed": false,
     "input": [
      "import numpy as np\n",
      "a = np.array([0,1,2,3,4,5])\n",
      "a"
     ],
     "language": "python",
     "metadata": {},
     "outputs": [
      {
       "metadata": {},
       "output_type": "pyout",
       "prompt_number": 2,
       "text": [
        "array([0, 1, 2, 3, 4, 5])"
       ]
      }
     ],
     "prompt_number": 2
    },
    {
     "cell_type": "code",
     "collapsed": false,
     "input": [
      "a.ndim"
     ],
     "language": "python",
     "metadata": {},
     "outputs": [
      {
       "metadata": {},
       "output_type": "pyout",
       "prompt_number": 3,
       "text": [
        "1"
       ]
      }
     ],
     "prompt_number": 3
    },
    {
     "cell_type": "code",
     "collapsed": false,
     "input": [
      "a.shape"
     ],
     "language": "python",
     "metadata": {},
     "outputs": [
      {
       "metadata": {},
       "output_type": "pyout",
       "prompt_number": 4,
       "text": [
        "(6,)"
       ]
      }
     ],
     "prompt_number": 4
    },
    {
     "cell_type": "code",
     "collapsed": false,
     "input": [
      "b = a.reshape((3,2))\n",
      "b"
     ],
     "language": "python",
     "metadata": {},
     "outputs": [
      {
       "metadata": {},
       "output_type": "pyout",
       "prompt_number": 5,
       "text": [
        "array([[0, 1],\n",
        "       [2, 3],\n",
        "       [4, 5]])"
       ]
      }
     ],
     "prompt_number": 5
    },
    {
     "cell_type": "code",
     "collapsed": false,
     "input": [
      "b.ndim"
     ],
     "language": "python",
     "metadata": {},
     "outputs": [
      {
       "metadata": {},
       "output_type": "pyout",
       "prompt_number": 6,
       "text": [
        "2"
       ]
      }
     ],
     "prompt_number": 6
    },
    {
     "cell_type": "code",
     "collapsed": false,
     "input": [
      "b.shape"
     ],
     "language": "python",
     "metadata": {},
     "outputs": [
      {
       "metadata": {},
       "output_type": "pyout",
       "prompt_number": 7,
       "text": [
        "(3, 2)"
       ]
      }
     ],
     "prompt_number": 7
    },
    {
     "cell_type": "code",
     "collapsed": false,
     "input": [
      "b[1][0] = 77\n",
      "b"
     ],
     "language": "python",
     "metadata": {},
     "outputs": [
      {
       "metadata": {},
       "output_type": "pyout",
       "prompt_number": 8,
       "text": [
        "array([[ 0,  1],\n",
        "       [77,  3],\n",
        "       [ 4,  5]])"
       ]
      }
     ],
     "prompt_number": 8
    },
    {
     "cell_type": "code",
     "collapsed": false,
     "input": [
      "a"
     ],
     "language": "python",
     "metadata": {},
     "outputs": [
      {
       "metadata": {},
       "output_type": "pyout",
       "prompt_number": 9,
       "text": [
        "array([ 0,  1, 77,  3,  4,  5])"
       ]
      }
     ],
     "prompt_number": 9
    },
    {
     "cell_type": "code",
     "collapsed": false,
     "input": [
      "a*2"
     ],
     "language": "python",
     "metadata": {},
     "outputs": [
      {
       "metadata": {},
       "output_type": "pyout",
       "prompt_number": 10,
       "text": [
        "array([  0,   2, 154,   6,   8,  10])"
       ]
      }
     ],
     "prompt_number": 10
    },
    {
     "cell_type": "code",
     "collapsed": false,
     "input": [
      "a**2"
     ],
     "language": "python",
     "metadata": {},
     "outputs": [
      {
       "metadata": {},
       "output_type": "pyout",
       "prompt_number": 11,
       "text": [
        "array([   0,    1, 5929,    9,   16,   25])"
       ]
      }
     ],
     "prompt_number": 11
    },
    {
     "cell_type": "code",
     "collapsed": false,
     "input": [
      "[1,2,3,4,5]*2"
     ],
     "language": "python",
     "metadata": {},
     "outputs": [
      {
       "metadata": {},
       "output_type": "pyout",
       "prompt_number": 12,
       "text": [
        "[1, 2, 3, 4, 5, 1, 2, 3, 4, 5]"
       ]
      }
     ],
     "prompt_number": 12
    },
    {
     "cell_type": "code",
     "collapsed": false,
     "input": [
      "[1,2,3,4,5]**2"
     ],
     "language": "python",
     "metadata": {},
     "outputs": [
      {
       "ename": "TypeError",
       "evalue": "unsupported operand type(s) for ** or pow(): 'list' and 'int'",
       "output_type": "pyerr",
       "traceback": [
        "\u001b[1;31m---------------------------------------------------------------------------\u001b[0m\n\u001b[1;31mTypeError\u001b[0m                                 Traceback (most recent call last)",
        "\u001b[1;32m<ipython-input-13-c54f0681399f>\u001b[0m in \u001b[0;36m<module>\u001b[1;34m()\u001b[0m\n\u001b[1;32m----> 1\u001b[1;33m \u001b[1;33m[\u001b[0m\u001b[1;36m1\u001b[0m\u001b[1;33m,\u001b[0m\u001b[1;36m2\u001b[0m\u001b[1;33m,\u001b[0m\u001b[1;36m3\u001b[0m\u001b[1;33m,\u001b[0m\u001b[1;36m4\u001b[0m\u001b[1;33m,\u001b[0m\u001b[1;36m5\u001b[0m\u001b[1;33m]\u001b[0m\u001b[1;33m**\u001b[0m\u001b[1;36m2\u001b[0m\u001b[1;33m\u001b[0m\u001b[0m\n\u001b[0m",
        "\u001b[1;31mTypeError\u001b[0m: unsupported operand type(s) for ** or pow(): 'list' and 'int'"
       ]
      }
     ],
     "prompt_number": 13
    },
    {
     "cell_type": "heading",
     "level": 3,
     "metadata": {},
     "source": [
      "\uc778\ub371\uc2f1"
     ]
    },
    {
     "cell_type": "code",
     "collapsed": false,
     "input": [
      "a[np.array([2,3,4])]"
     ],
     "language": "python",
     "metadata": {},
     "outputs": [
      {
       "metadata": {},
       "output_type": "pyout",
       "prompt_number": 14,
       "text": [
        "array([77,  3,  4])"
       ]
      }
     ],
     "prompt_number": 14
    },
    {
     "cell_type": "code",
     "collapsed": false,
     "input": [
      "a>4"
     ],
     "language": "python",
     "metadata": {},
     "outputs": [
      {
       "metadata": {},
       "output_type": "pyout",
       "prompt_number": 15,
       "text": [
        "array([False, False,  True, False, False,  True], dtype=bool)"
       ]
      }
     ],
     "prompt_number": 15
    },
    {
     "cell_type": "code",
     "collapsed": false,
     "input": [
      "a[a>4]"
     ],
     "language": "python",
     "metadata": {},
     "outputs": [
      {
       "metadata": {},
       "output_type": "pyout",
       "prompt_number": 16,
       "text": [
        "array([77,  5])"
       ]
      }
     ],
     "prompt_number": 16
    },
    {
     "cell_type": "code",
     "collapsed": false,
     "input": [
      "a[a>4] = 4"
     ],
     "language": "python",
     "metadata": {},
     "outputs": [],
     "prompt_number": 17
    },
    {
     "cell_type": "code",
     "collapsed": false,
     "input": [
      "a"
     ],
     "language": "python",
     "metadata": {},
     "outputs": [
      {
       "metadata": {},
       "output_type": "pyout",
       "prompt_number": 18,
       "text": [
        "array([0, 1, 4, 3, 4, 4])"
       ]
      }
     ],
     "prompt_number": 18
    },
    {
     "cell_type": "code",
     "collapsed": false,
     "input": [
      "a.clip(0,3)"
     ],
     "language": "python",
     "metadata": {},
     "outputs": [
      {
       "metadata": {},
       "output_type": "pyout",
       "prompt_number": 19,
       "text": [
        "array([0, 1, 3, 3, 3, 3])"
       ]
      }
     ],
     "prompt_number": 19
    },
    {
     "cell_type": "heading",
     "level": 3,
     "metadata": {},
     "source": [
      "\uc874\uc7ac\ud558\uc9c0 \uc54a\ub294 \uac12 \ucc98\ub9ac"
     ]
    },
    {
     "cell_type": "code",
     "collapsed": false,
     "input": [
      "c = np.array([1,2, np.NAN, 3, 4])\n",
      "c"
     ],
     "language": "python",
     "metadata": {},
     "outputs": [
      {
       "metadata": {},
       "output_type": "pyout",
       "prompt_number": 20,
       "text": [
        "array([  1.,   2.,  nan,   3.,   4.])"
       ]
      }
     ],
     "prompt_number": 20
    },
    {
     "cell_type": "code",
     "collapsed": false,
     "input": [
      "np.isnan(c)"
     ],
     "language": "python",
     "metadata": {},
     "outputs": [
      {
       "metadata": {},
       "output_type": "pyout",
       "prompt_number": 21,
       "text": [
        "array([False, False,  True, False, False], dtype=bool)"
       ]
      }
     ],
     "prompt_number": 21
    },
    {
     "cell_type": "code",
     "collapsed": false,
     "input": [
      "c[~np.isnan(c)]"
     ],
     "language": "python",
     "metadata": {},
     "outputs": [
      {
       "metadata": {},
       "output_type": "pyout",
       "prompt_number": 22,
       "text": [
        "array([ 1.,  2.,  3.,  4.])"
       ]
      }
     ],
     "prompt_number": 22
    },
    {
     "cell_type": "code",
     "collapsed": false,
     "input": [
      "np.mean(c[~np.isnan(c)])"
     ],
     "language": "python",
     "metadata": {},
     "outputs": [
      {
       "metadata": {},
       "output_type": "pyout",
       "prompt_number": 23,
       "text": [
        "2.5"
       ]
      }
     ],
     "prompt_number": 23
    },
    {
     "cell_type": "heading",
     "level": 3,
     "metadata": {},
     "source": [
      "\uc2e4\ud589\uc2dc\uac04 \ube44\uad50 "
     ]
    },
    {
     "cell_type": "code",
     "collapsed": false,
     "input": [
      "import timeit\n",
      "normal_py_sec = timeit.timeit('sum(x*x for x in xrange(1000))',\n",
      "                              number=10000)\n",
      "naive_np_sec = timeit.timeit('sum(na*na)',\n",
      "                             setup=\"import numpy as np; na=np.arange(1000)\",\n",
      "                             number=10000)\n",
      "good_np_sec = timeit.timeit('na.dot(na)',\n",
      "                            setup=\"import numpy as np; na=np.arange(1000)\",\n",
      "                            number=10000)\n",
      "   \n",
      "print(\"Normal Python: %f sec\"%normal_py_sec)\n",
      "print(\"Naive NumPy: %f sec\"%naive_np_sec)\n",
      "print(\"Good NumPy: %f sec\"%good_np_sec)"
     ],
     "language": "python",
     "metadata": {},
     "outputs": [
      {
       "output_type": "stream",
       "stream": "stdout",
       "text": [
        "Normal Python: 0.683391 sec\n",
        "Naive NumPy: 3.358966 sec\n",
        "Good NumPy: 0.025946 sec\n"
       ]
      }
     ],
     "prompt_number": 24
    },
    {
     "cell_type": "code",
     "collapsed": false,
     "input": [
      "a.dtype"
     ],
     "language": "python",
     "metadata": {},
     "outputs": [
      {
       "metadata": {},
       "output_type": "pyout",
       "prompt_number": 25,
       "text": [
        "dtype('int64')"
       ]
      }
     ],
     "prompt_number": 25
    },
    {
     "cell_type": "code",
     "collapsed": false,
     "input": [
      "np.array([1, \"stringy\"])"
     ],
     "language": "python",
     "metadata": {},
     "outputs": [
      {
       "metadata": {},
       "output_type": "pyout",
       "prompt_number": 26,
       "text": [
        "array(['1', 'stringy'], \n",
        "      dtype='|S7')"
       ]
      }
     ],
     "prompt_number": 26
    },
    {
     "cell_type": "code",
     "collapsed": false,
     "input": [
      "np.array([1, \"stringy\", set([1,2,3])])"
     ],
     "language": "python",
     "metadata": {},
     "outputs": [
      {
       "metadata": {},
       "output_type": "pyout",
       "prompt_number": 27,
       "text": [
        "array([1, 'stringy', set([1, 2, 3])], dtype=object)"
       ]
      }
     ],
     "prompt_number": 27
    },
    {
     "cell_type": "heading",
     "level": 2,
     "metadata": {},
     "source": [
      "SciPy \ubc30\uc6b0\uae30"
     ]
    },
    {
     "cell_type": "code",
     "collapsed": false,
     "input": [
      "import scipy, numpy"
     ],
     "language": "python",
     "metadata": {},
     "outputs": [],
     "prompt_number": 28
    },
    {
     "cell_type": "code",
     "collapsed": false,
     "input": [
      "scipy.version.full_version"
     ],
     "language": "python",
     "metadata": {},
     "outputs": [
      {
       "metadata": {},
       "output_type": "pyout",
       "prompt_number": 29,
       "text": [
        "'0.14.0'"
       ]
      }
     ],
     "prompt_number": 29
    },
    {
     "cell_type": "code",
     "collapsed": false,
     "input": [
      "scipy.dot is numpy.dot"
     ],
     "language": "python",
     "metadata": {},
     "outputs": [
      {
       "metadata": {},
       "output_type": "pyout",
       "prompt_number": 30,
       "text": [
        "True"
       ]
      }
     ],
     "prompt_number": 30
    },
    {
     "cell_type": "markdown",
     "metadata": {},
     "source": [
      "<img src='./img/tbl_01_scipytoolbox.png'/>"
     ]
    },
    {
     "cell_type": "heading",
     "level": 1,
     "metadata": {},
     "source": [
      "\uccab \ubc88\uc9f8 \uae30\uacc4 \ud559\uc2b5 \uc560\ud50c\ub9ac\ucf00\uc774\uc158"
     ]
    },
    {
     "cell_type": "markdown",
     "metadata": {},
     "source": [
      "\uac00\uc0c1 \ucc3d\uc5c5 \ud68c\uc0ac\uc778 MLAAS. \n",
      "* \uc6f9\uc0c1\uc5d0\uc11c \uae30\uacc4 \ud559\uc2b5 \uc54c\uace0\ub9ac\uc998\uc744 \uc81c\uacf5\ud558\ub294 \uc11c\ube44\uc2a4\ub97c \ud568.\n",
      "* \uc6f9 \uc694\uccad\uc744 \ucc98\ub9ac\ud558\uace0\uc790 \uae30\ubc18 \uc2dc\uc124\uc744 \ub298\ub9ac\ub824\uace0 \ud568\n",
      "* \ube44\uc2fc \uc7a5\ube44\ub97c \ubb34\ud131\ub300\ub85c \uc0b4 \uc218\ub294 \uc5c6\ub2e4.\n",
      "* \ud604\uc7ac \uc2dc\uac04\ub2f9 100,000 \uc694\uccad\uc774 \uc788\ub2e4.\n",
      "* \ucd5c\ub300\ub85c \uac00\uc6a9\ud558\uba70 \ubaa8\ub4e0 \uc694\uccad\uc744 \uc644\ubcbd\ud558\uac8c \ucc98\ub9ac\ud558\uae30 \uc704\ud574 \uc55e\uc73c\ub85c \ud074\ub77c\uc6b0\ub4dc\uc5d0 \ucd94\uac00 \uc7a5\ube44\ub97c \uc124\uce58\ud574\uc57c \ud558\ub294 \uc2dc\uc810\uc744 \uc54c\uace0 \uc2f6\ub2e4 "
     ]
    },
    {
     "cell_type": "heading",
     "level": 2,
     "metadata": {},
     "source": [
      "\ub370\uc774\ud130 \uc77d\uae30"
     ]
    },
    {
     "cell_type": "markdown",
     "metadata": {},
     "source": [
      "\ub370\uc774\ud130 \uc124\uba85 : web_traffic.tsv\n",
      "* \uc9c0\ub09c\ub2ec \ud1b5\uacc4 \n",
      "* \ud0ed\uc73c\ub85c \uad6c\ubd84\ub428\n",
      "* \uc2dc\uac04\ub2f9 \uc694\uccad \uc218\n",
      "* \uac01 \uc904\uc740 \uc5f0\uc18d\uc801\uc73c\ub85c \ub098\uc5f4\ub41c \uc2dc\uac04, \uadf8 \uc2dc\uac04\uc758 \uc694\uccad\uc218\n"
     ]
    },
    {
     "cell_type": "code",
     "collapsed": false,
     "input": [
      "!head ./data/web_traffic.tsv"
     ],
     "language": "python",
     "metadata": {},
     "outputs": [
      {
       "output_type": "stream",
       "stream": "stdout",
       "text": [
        "1\t2272\r\n",
        "2\tnan\r\n",
        "3\t1386\r\n",
        "4\t1365\r\n",
        "5\t1488\r\n",
        "6\t1337\r\n",
        "7\t1883\r\n",
        "8\t2283\r\n",
        "9\t1335\r\n",
        "10\t1025\r\n"
       ]
      }
     ],
     "prompt_number": 31
    },
    {
     "cell_type": "code",
     "collapsed": false,
     "input": [
      "import scipy as sp\n",
      "data = sp.genfromtxt(\"./data/web_traffic.tsv\", delimiter=\"\\t\")\n",
      "data"
     ],
     "language": "python",
     "metadata": {},
     "outputs": [
      {
       "metadata": {},
       "output_type": "pyout",
       "prompt_number": 32,
       "text": [
        "array([[  1.00000000e+00,   2.27200000e+03],\n",
        "       [  2.00000000e+00,              nan],\n",
        "       [  3.00000000e+00,   1.38600000e+03],\n",
        "       ..., \n",
        "       [  7.41000000e+02,   5.39200000e+03],\n",
        "       [  7.42000000e+02,   5.90600000e+03],\n",
        "       [  7.43000000e+02,   4.88100000e+03]])"
       ]
      }
     ],
     "prompt_number": 32
    },
    {
     "cell_type": "code",
     "collapsed": false,
     "input": [
      "print(data.shape)"
     ],
     "language": "python",
     "metadata": {},
     "outputs": [
      {
       "output_type": "stream",
       "stream": "stdout",
       "text": [
        "(743, 2)\n"
       ]
      }
     ],
     "prompt_number": 33
    },
    {
     "cell_type": "code",
     "collapsed": false,
     "input": [
      "data"
     ],
     "language": "python",
     "metadata": {},
     "outputs": [
      {
       "metadata": {},
       "output_type": "pyout",
       "prompt_number": 34,
       "text": [
        "array([[  1.00000000e+00,   2.27200000e+03],\n",
        "       [  2.00000000e+00,              nan],\n",
        "       [  3.00000000e+00,   1.38600000e+03],\n",
        "       ..., \n",
        "       [  7.41000000e+02,   5.39200000e+03],\n",
        "       [  7.42000000e+02,   5.90600000e+03],\n",
        "       [  7.43000000e+02,   4.88100000e+03]])"
       ]
      }
     ],
     "prompt_number": 34
    },
    {
     "cell_type": "heading",
     "level": 2,
     "metadata": {},
     "source": [
      "\ub370\uc774\ud130 \uc815\ub9ac\uc640 \uc804\ucc98\ub9ac"
     ]
    },
    {
     "cell_type": "code",
     "collapsed": false,
     "input": [
      "# 743\uac1c\uc758 \ub370\uc774\ud130\ub97c \uc2dc\uac04\uacfc \ud2b9\uc815\uc2dc\uac04 \uc694\uccad\uc218\ub97c \ub098\ud0c0\ub0b4\ub294 2\uac1c\uc758 \ubca1\ud130\ub85c \ub098\ub204\uc790\n",
      "x = data[:,0]\n",
      "y = data[:,1]"
     ],
     "language": "python",
     "metadata": {},
     "outputs": [],
     "prompt_number": 35
    },
    {
     "cell_type": "code",
     "collapsed": false,
     "input": [
      "# \uc2dc\uac04 \uc815\ubcf4\uc5d0 \uc798\ubabb\ub41c \uac12 nan\uc774 \uc5bc\ub9c8\ub098 \ud3ec\ud568\ub418\uc5b4 \uc788\ub294\uac00?\n",
      "sp.sum(sp.isnan(y))"
     ],
     "language": "python",
     "metadata": {},
     "outputs": [
      {
       "metadata": {},
       "output_type": "pyout",
       "prompt_number": 36,
       "text": [
        "8"
       ]
      }
     ],
     "prompt_number": 36
    },
    {
     "cell_type": "code",
     "collapsed": false,
     "input": [
      "# \uac78\ub7ec\ub0b4\uace0, \uc720\ud6a8 \uc5d4\ud2b8\uae30\ub9cc \uc120\ubcc4\ud558\uc790\n",
      "x = x[~sp.isnan(y)]\n",
      "y = y[~sp.isnan(y)]"
     ],
     "language": "python",
     "metadata": {},
     "outputs": [],
     "prompt_number": 37
    },
    {
     "cell_type": "code",
     "collapsed": false,
     "input": [
      "# \ub370\uc774\ud130 \ud615\ud0dc\ub97c \ud30c\uc545\ud558\uae30 \uc704\ud574 \uadf8\ub798\ud504\ub97c \uadf8\ub9ac\uc790\n",
      "import matplotlib.pyplot as plt\n",
      "plt.scatter(x,y)\n",
      "plt.title(\"Web traffic over the last month\")\n",
      "plt.xlabel(\"Time\")\n",
      "plt.ylabel(\"Hits/hour\")\n",
      "plt.xticks([w*7*24 for w in range(10)],\n",
      "           ['week %i'%w for w in range(10)])\n",
      "plt.autoscale(tight=True)\n",
      "plt.grid()\n",
      "plt.show()"
     ],
     "language": "python",
     "metadata": {},
     "outputs": [
      {
       "metadata": {},
       "output_type": "display_data",
       "png": "[encoded data removed]",
       "text": [
        "<matplotlib.figure.Figure at 0x35e7690>"
       ]
      }
     ],
     "prompt_number": 38
    },
    {
     "cell_type": "heading",
     "level": 2,
     "metadata": {},
     "source": [
      "\uc801\ud569\ud55c \ubaa8\ub378\uacfc \ud559\uc2b5 \uc54c\uace0\ub9ac\uc998 \uc120\ud0dd"
     ]
    },
    {
     "cell_type": "markdown",
     "metadata": {},
     "source": [
      "[\uc9c8\ubb38] \uc11c\ubc84\ub294 \ub4e4\uc5b4\uc624\ub294 \uc6f9 \ud2b8\ub798\ud53c\uc5d0 \uc5bc\ub9c8 \ub3d9\uc548 \ub300\uc751\ud560 \uc218 \uc788\uc744\uae4c?\n",
      "* \ub178\uc774\uc988\ub97c \uace0\ub824\ud55c \uc2e4\uc81c \ubaa8\ub378 \ucc3e\uae30\n",
      "* \ubaa8\ub378\uc744 \uc0ac\uc6a9\ud574 \uc124\ube44\ub97c \uc99d\uc124\ud574\uc57c \ud560 \uc2dc\uc810"
     ]
    },
    {
     "cell_type": "heading",
     "level": 3,
     "metadata": {},
     "source": [
      "\ubaa8\ub378\uc744 \ub9cc\ub4e4\uae30\uc5d0 \uc55e\uc11c"
     ]
    },
    {
     "cell_type": "markdown",
     "metadata": {},
     "source": [
      "\uc6a9\uc5b4\ub4e4\n",
      "* \ubaa8\ub378 : \uc774\ub860\uc801 \uadfc\uc0ac\uce58 - \ub2e8\uc21c\ud55c \ubaa8\ub378\ub85c \uc2dc\uc791\n",
      "* approximation error - \uadfc\uc0ac\uce58 \uc624\ucc28\n",
      "* squared distance - \uac70\ub9ac \uc81c\uacf1 \uc624\ucc28 \uce21\uc815\uce58"
     ]
    },
    {
     "cell_type": "code",
     "collapsed": false,
     "input": [
      "# \ud559\uc2b5\ub41c \ubaa8\ub378 \ud568\uc218 f\uc5d0 \ub300\ud55c \uc624\ucc28\ub97c \uad6c\ud558\ub294 \ud568\uc218(squared distance \uc0ac\uc6a9)\n",
      "def error(f, x, y) : \n",
      "    return sp.sum((f(x)-y)**2)"
     ],
     "language": "python",
     "metadata": {},
     "outputs": [],
     "prompt_number": 39
    },
    {
     "cell_type": "heading",
     "level": 3,
     "metadata": {},
     "source": [
      "\ub2e8\uc21c\ud55c \uc9c1\uc120\uc73c\ub85c \uc2dc\uc791\ud558\uae30"
     ]
    },
    {
     "cell_type": "code",
     "collapsed": false,
     "input": [
      "fp1, residuals, rank, sv, rcond = sp.polyfit(x, y, 1, full=True)"
     ],
     "language": "python",
     "metadata": {},
     "outputs": [],
     "prompt_number": 40
    },
    {
     "cell_type": "code",
     "collapsed": false,
     "input": [
      "fp1"
     ],
     "language": "python",
     "metadata": {},
     "outputs": [
      {
       "metadata": {},
       "output_type": "pyout",
       "prompt_number": 41,
       "text": [
        "array([   2.59619213,  989.02487106])"
       ]
      }
     ],
     "prompt_number": 41
    },
    {
     "cell_type": "code",
     "collapsed": false,
     "input": [
      "residuals"
     ],
     "language": "python",
     "metadata": {},
     "outputs": [
      {
       "metadata": {},
       "output_type": "pyout",
       "prompt_number": 42,
       "text": [
        "array([  3.17389767e+08])"
       ]
      }
     ],
     "prompt_number": 42
    },
    {
     "cell_type": "code",
     "collapsed": false,
     "input": [
      "f1 = sp.poly1d(fp1)\n",
      "print(error(f1, x, y))"
     ],
     "language": "python",
     "metadata": {},
     "outputs": [
      {
       "output_type": "stream",
       "stream": "stdout",
       "text": [
        "317389767.34\n"
       ]
      }
     ],
     "prompt_number": 43
    },
    {
     "cell_type": "code",
     "collapsed": false,
     "input": [
      "plt.scatter(x,y)\n",
      "plt.title(\"Web traffic over the last month\")\n",
      "plt.xlabel(\"Time\")\n",
      "plt.ylabel(\"Hits/hour\")\n",
      "plt.xticks([w*7*24 for w in range(10)],\n",
      "           ['week %i'%w for w in range(10)])\n",
      "plt.autoscale(tight=True)\n",
      "\n",
      "fx = sp.linspace(0, x[-1], 1000) \n",
      "plt.plot(fx, f1(fx), linewidth=4)\n",
      "plt.legend([\"d=%i\" % f1.order], loc=\"upper left\")\n",
      "\n",
      "plt.grid()\n",
      "plt.show()"
     ],
     "language": "python",
     "metadata": {},
     "outputs": [
      {
       "metadata": {},
       "output_type": "display_data",
       "png": "[encoded data removed]",
       "text": [
        "<matplotlib.figure.Figure at 0x3985550>"
       ]
      }
     ],
     "prompt_number": 47
    },
    {
     "cell_type": "raw",
     "metadata": {},
     "source": [
      "f(x) = 2.59619213 * x + 989.0248716"
     ]
    },
    {
     "cell_type": "heading",
     "level": 3,
     "metadata": {},
     "source": [
      "\uc880 \ub354 \ubcf5\uc7a1\ud55c \ubaa8\ub378"
     ]
    },
    {
     "cell_type": "code",
     "collapsed": false,
     "input": [
      "# 2\ucc28\uc6d0 \ub2e4\ud56d\uc2dd \ubaa8\ub378\n",
      "f2p = sp.polyfit(x, y, 2)\n",
      "f2p"
     ],
     "language": "python",
     "metadata": {},
     "outputs": [
      {
       "metadata": {},
       "output_type": "pyout",
       "prompt_number": 48,
       "text": [
        "array([  1.05322215e-02,  -5.26545650e+00,   1.97476082e+03])"
       ]
      }
     ],
     "prompt_number": 48
    },
    {
     "cell_type": "code",
     "collapsed": false,
     "input": [
      "f2 = sp.poly1d(f2p)\n",
      "error(f2, x, y)"
     ],
     "language": "python",
     "metadata": {},
     "outputs": [
      {
       "metadata": {},
       "output_type": "pyout",
       "prompt_number": 49,
       "text": [
        "179983507.87817931"
       ]
      }
     ],
     "prompt_number": 49
    },
    {
     "cell_type": "code",
     "collapsed": false,
     "input": [
      "plt.scatter(x,y)\n",
      "plt.title(\"Web traffic over the last month\")\n",
      "plt.xlabel(\"Time\")\n",
      "plt.ylabel(\"Hits/hour\")\n",
      "plt.xticks([w*7*24 for w in range(10)],\n",
      "           ['week %i'%w for w in range(10)])\n",
      "plt.autoscale(tight=True)\n",
      "\n",
      "fx = sp.linspace(0, x[-1], 1000)\n",
      "\n",
      "plt.plot(fx, f1(fx), linewidth=4)\n",
      "#plt.legend([\"d=%i\" % f1.order],loc=\"upper left\")\n",
      "\n",
      "plt.plot(fx, f2(fx), linewidth=4)\n",
      "plt.legend([[\"d=%i\" % f1.order],[\"d=%i\" % f2.order]], loc=\"upper left\")\n",
      "\n",
      "plt.grid()\n",
      "plt.show()"
     ],
     "language": "python",
     "metadata": {},
     "outputs": [
      {
       "metadata": {},
       "output_type": "display_data",
       "png": "[encoded data removed]",
       "text": [
        "<matplotlib.figure.Figure at 0x4213c90>"
       ]
      }
     ],
     "prompt_number": 52
    },
    {
     "cell_type": "raw",
     "metadata": {},
     "source": [
      "f(x) = 0.0105322215 * x ** 2 - 5.26545650 * x + 1974.76082"
     ]
    },
    {
     "cell_type": "code",
     "collapsed": false,
     "input": [
      "# \uc2e4\uc2b5 - \ucc28\uc218 3\uc73c\ub85c \ub3c4\uc804\n",
      "# \uc5d0\ub7ec\ub294?"
     ],
     "language": "python",
     "metadata": {},
     "outputs": []
    },
    {
     "cell_type": "code",
     "collapsed": false,
     "input": [
      "# \uc2e4\uc2b5 - \ucc28\uc218 10\uc73c\ub85c \ub3c4\uc804\n",
      "# \uc5d0\ub7ec\ub294?"
     ],
     "language": "python",
     "metadata": {},
     "outputs": []
    },
    {
     "cell_type": "code",
     "collapsed": false,
     "input": [
      "# \uc2e4\uc2b5 - \ucc28\uc218 100\uc73c\ub85c \ub3c4\uc804\n",
      "# \uc5d0\ub7ec\ub294?"
     ],
     "language": "python",
     "metadata": {},
     "outputs": []
    },
    {
     "cell_type": "code",
     "collapsed": false,
     "input": [
      "f3p = sp.polyfit(x, y, 3)\n",
      "f3 = sp.poly1d(f3p)\n",
      "\n",
      "f10p = sp.polyfit(x, y, 10)\n",
      "f10 = sp.poly1d(f10p)\n",
      "\n",
      "f100p = sp.polyfit(x, y, 100)\n",
      "f100 = sp.poly1d(f100p)\n",
      "\n",
      "\n",
      "plt.scatter(x,y)\n",
      "plt.title(\"Web traffic over the last month\")\n",
      "plt.xlabel(\"Time\")\n",
      "plt.ylabel(\"Hits/hour\")\n",
      "plt.xticks([w*7*24 for w in range(10)],\n",
      "           ['week %i'%w for w in range(10)])\n",
      "plt.autoscale(tight=True)\n",
      "\n",
      "fx = sp.linspace(0, x[-1], 1000)\n",
      "\n",
      "plt.plot(fx, f1(fx), linewidth=4)\n",
      "plt.plot(fx, f2(fx), linewidth=4)\n",
      "plt.plot(fx, f3(fx), linewidth=4)\n",
      "plt.plot(fx, f10(fx), linewidth=4)\n",
      "plt.plot(fx, f100(fx), linewidth=4)\n",
      "\n",
      "plt.legend([[\"d=%i\" % f1.order],\n",
      "            [\"d=%i\" % f2.order],\n",
      "            [\"d=%i\" % f3.order],\n",
      "            [\"d=%i\" % f10.order],\n",
      "            [\"d=%i\" % f100.order]\n",
      "            ], \n",
      "           loc=\"upper left\")\n",
      "\n",
      "plt.grid()\n",
      "plt.show()"
     ],
     "language": "python",
     "metadata": {},
     "outputs": [
      {
       "output_type": "stream",
       "stream": "stderr",
       "text": [
        "/home/moodern/.venv/nlp/local/lib/python2.7/site-packages/numpy/lib/polynomial.py:587: RankWarning: Polyfit may be poorly conditioned\n",
        "  warnings.warn(msg, RankWarning)\n"
       ]
      },
      {
       "metadata": {},
       "output_type": "display_data",
       "png": "[encoded data removed]",
       "text": [
        "<matplotlib.figure.Figure at 0x451ad90>"
       ]
      }
     ],
     "prompt_number": 60
    },
    {
     "cell_type": "code",
     "collapsed": false,
     "input": [
      "for f in [f1, f2, f3, f10, f100]:\n",
      "    print(\"Error d=%i: %f\" % (f.order, error(f, x, y)))"
     ],
     "language": "python",
     "metadata": {},
     "outputs": [
      {
       "output_type": "stream",
       "stream": "stdout",
       "text": [
        "Error d=1: 317389767.339778\n",
        "Error d=2: 179983507.878179\n",
        "Error d=3: 139350144.031725\n",
        "Error d=10: 121942326.363576\n",
        "Error d=53: 109452399.264534\n"
       ]
      }
     ],
     "prompt_number": 61
    },
    {
     "cell_type": "heading",
     "level": 4,
     "metadata": {},
     "source": [
      "overfitting \uacfc\uc801\ud569"
     ]
    },
    {
     "cell_type": "markdown",
     "metadata": {},
     "source": [
      "overfillting(\uacfc\uc801\ud569)\n",
      "\n",
      "* \uc704\uc758 \uacb0\uacfc\ub97c \ubcf4\uba74 10\ucc28 \uc774\uc0c1\uc740 \ub108\ubb34 \uad74\uace1\uc774 \ub9ce\uc74c. \n",
      "* \uc774\ub294 \ubaa8\ub378\uc774 \ub108\ubb34 \ub9ce\uc740 \ub370\uc774\ud130\uc5d0 fitting \ub428\n",
      "* \uc8fc\uc694 \ub370\uc774\ud130 \ubfd0\ub9cc \uc544\ub2c8\ub77c \ub178\uc774\uc988\uae4c\uc9c0 \ubc18\uc601\ud558\ub294 \uac83\uc744 overfitting\uc774\ub77c\uace0 \ud55c\ub2e4.\n",
      "\n",
      "\ub2e4\uc74c \uc911\uc5d0 \ud558\ub098 \uc120\ud0dd\ud574\uc57c \ud55c\ub2e4.\n",
      "\n",
      "* \uc801\ud569\ud654\ub41c \ub2e4\ud56d\uc2dd \ubaa8\ub378 \uc911 \ud558\ub098\ub97c \uc120\ud0dd\ud574\uc57c \ud560\uc9c0\n",
      "* \uc2a4\ud50c\ub77c\uc778spline \uac19\uc740 \uc880 \ub354 \ubcf5\uc7a1\ud55c \ubaa8\ub378\ub85c \ubc14\uafd4\uc57c \ud560\uc9c0\n",
      "* \ub370\uc774\ud130\ub97c \ub2e4\ub974\uac8c \ubd84\uc11d\ud558\uace0 \ub2e4\uc2dc \uc2dc\uc791\ud574\uc57c \ud560\uc9c0\n"
     ]
    },
    {
     "cell_type": "heading",
     "level": 4,
     "metadata": {},
     "source": [
      "\uc77c\ubcf4\ud6c4\ud1f4, \uc77c\ubcf4\uc804\uc9c4 : \ub370\uc774\ud130 \ub2e4\uc2dc \ubcf4\uae30"
     ]
    },
    {
     "cell_type": "markdown",
     "metadata": {},
     "source": [
      "\ub370\uc774\ud130\ub97c \ub2e4\uc2dc \ubcf4\uc790"
     ]
    },
    {
     "cell_type": "code",
     "collapsed": false,
     "input": [
      "# \ub370\uc774\ud130 \ud615\ud0dc\ub97c \ud30c\uc545\ud558\uae30 \uc704\ud574 \uadf8\ub798\ud504\ub97c \uadf8\ub9ac\uc790\n",
      "import matplotlib.pyplot as plt\n",
      "plt.scatter(x,y)\n",
      "plt.title(\"Web traffic over the last month\")\n",
      "plt.xlabel(\"Time\")\n",
      "plt.ylabel(\"Hits/hour\")\n",
      "plt.xticks([w*7*24 for w in range(10)],\n",
      "           ['week %i'%w for w in range(10)])\n",
      "plt.autoscale(tight=True)\n",
      "plt.grid()\n",
      "plt.show()"
     ],
     "language": "python",
     "metadata": {},
     "outputs": [
      {
       "metadata": {},
       "output_type": "display_data",
       "png": "[encoded data removed]",
       "text": [
        "<matplotlib.figure.Figure at 0x41a6f10>"
       ]
      }
     ],
     "prompt_number": 62
    },
    {
     "cell_type": "markdown",
     "metadata": {},
     "source": [
      "* 3\uc8fc\ucc28\uc640 4\uc8fc\ucc28 \uc0ac\uc774\uc5d0 \ubcc0\uace1\uc810\uc774 \uc788\ub2e4.\n",
      "* 3.5\uc8fc\ucc28\ub97c \uae30\uc900\uc73c\ub85c \ub370\uc774\ud130\ub97c \ub458\ub85c \ub098\ub204\uace0 \ub450 \uc120\uc744 \ub530\ub85c \ud6c8\ub828\ud558\uc790\n",
      "* 3\uc8fc\ucc28\uae4c\uc9c0 \uccab \ubc88\uc9f8 \uc9c1\uc120\uc744 \ud6c8\ub828\ud558\uace0, \ub098\uba38\uc9c0\ub97c \ub450 \ubc88\uc9f8 \uc9c1\uc120\uc73c\ub85c \ud6c8\ub828\ud558\uc790"
     ]
    },
    {
     "cell_type": "code",
     "collapsed": false,
     "input": [
      "inflection = 3.5 * 7 * 24"
     ],
     "language": "python",
     "metadata": {},
     "outputs": []
    },
    {
     "cell_type": "code",
     "collapsed": false,
     "input": [
      "# \uccab\ubc88\uc9f8 \uc9c1\uc120\n",
      "xa = x[:inflection]\n",
      "ya = y[:inflection]\n",
      "\n",
      "fa = sp.poly1d(sp.polyfit(xa, ya, 1))\n",
      "\n",
      "plt.scatter(x,y)\n",
      "plt.title(\"Web traffic over the last month\")\n",
      "plt.xlabel(\"Time\")\n",
      "plt.ylabel(\"Hits/hour\")\n",
      "plt.xticks([w*7*24 for w in range(10)],\n",
      "           ['week %i'%w for w in range(10)])\n",
      "\n",
      "fax = sp.linspace(0, xa[-1], 1000)\n",
      "\n",
      "plt.plot(fax, fa(fax), linewidth=4)\n",
      "\n",
      "plt.legend([[\"d=%i\" % fa.order],\n",
      "            ], \n",
      "           loc=\"upper left\")\n",
      "\n",
      "plt.autoscale(tight=True)\n",
      "plt.grid()\n",
      "plt.show()"
     ],
     "language": "python",
     "metadata": {},
     "outputs": [
      {
       "metadata": {},
       "output_type": "display_data",
       "png": "[encoded data removed]",
       "text": [
        "<matplotlib.figure.Figure at 0x3614510>"
       ]
      }
     ],
     "prompt_number": 65
    },
    {
     "cell_type": "code",
     "collapsed": false,
     "input": [
      "# \ub450\ubc88\uc9f8 \uc9c1\uc120\n",
      "xb = x[inflection:]\n",
      "yb = y[inflection:]\n",
      "\n",
      "fb = sp.poly1d(sp.polyfit(xb, yb, 1))\n",
      "\n",
      "plt.scatter(x,y)\n",
      "plt.title(\"Web traffic over the last month\")\n",
      "plt.xlabel(\"Time\")\n",
      "plt.ylabel(\"Hits/hour\")\n",
      "plt.xticks([w*7*24 for w in range(10)],\n",
      "           ['week %i'%w for w in range(10)])\n",
      "\n",
      "fax = sp.linspace(0, xa[-1], 1000)\n",
      "fbx = sp.linspace(xb[0], xb[-1], 1000)\n",
      "\n",
      "plt.plot(fax, fa(fax), linewidth=4)\n",
      "plt.plot(fbx, fb(fbx), linewidth=4)\n",
      "\n",
      "plt.legend([[\"d=%i\" % fa.order],\n",
      "            [\"d=%i\" % fb.order]\n",
      "            ], \n",
      "           loc=\"upper left\")\n",
      "\n",
      "plt.autoscale(tight=True)\n",
      "plt.grid()\n",
      "plt.show()"
     ],
     "language": "python",
     "metadata": {},
     "outputs": [
      {
       "metadata": {},
       "output_type": "display_data",
       "png": "[encoded data removed]",
       "text": [
        "<matplotlib.figure.Figure at 0x448bb50>"
       ]
      }
     ],
     "prompt_number": 67
    },
    {
     "cell_type": "code",
     "collapsed": false,
     "input": [
      "fa_error = error(fa, xa, ya)\n",
      "fb_error = error(fb, xb, yb)\n",
      "print(\"Error inflection=%f\" %(fa_error + fb_error))"
     ],
     "language": "python",
     "metadata": {},
     "outputs": [
      {
       "output_type": "stream",
       "stream": "stdout",
       "text": [
        "Error inflection=132950348.197616\n"
       ]
      }
     ],
     "prompt_number": 68
    },
    {
     "cell_type": "heading",
     "level": 4,
     "metadata": {},
     "source": [
      "\ubbf8\ub798\ub97c \uc608\uce21\ud574\ubcf4\uc790!"
     ]
    },
    {
     "cell_type": "markdown",
     "metadata": {},
     "source": [
      "\uc5b4\ub290 \ubaa8\ub378\uc744 \uc368\uc57c \ud558\ub294\uac00?\n",
      "\n",
      "* \ub450 \uc9c1\uc120\uc758 \uacb0\ud569\uc740 \uc774\uc804 \ubaa8\ub378\ubcf4\ub2e4 overfitting\uc744 \ud53c\ud55c \uac83 \ucc98\ub7fc \ubcf4\uc778\ub2e4.\n",
      "* \ud558\uc9c0\ub9cc \uc5ec\uc804\ud788 \uace0\ucc28\ubaa8\ub378\ubcf4\ub2e4\ub294 \uc624\ucc28\uac00 \ub192\ub2e4.\n",
      "* \uc65c \uc9c1\uc120 \ubaa8\ub378\uc744 \uc2e0\uc6a9\ud558\ub294\uac00?"
     ]
    },
    {
     "cell_type": "code",
     "collapsed": false,
     "input": [
      "colors = ['g', 'k', 'b', 'm', 'r']\n",
      "linestyles = ['-', '-.', '--', ':', '-']\n",
      "\n",
      "def plot_models(x, y, models, mx=None, ymax=None, xmin=None):\n",
      "    plt.clf()\n",
      "    plt.scatter(x, y, s=10)\n",
      "    plt.title(\"Web traffic over the last month\")\n",
      "    plt.xlabel(\"Time\")\n",
      "    plt.ylabel(\"Hits/hour\")\n",
      "    plt.xticks(\n",
      "        [w * 7 * 24 for w in range(10)], ['week %i' % w for w in range(10)])\n",
      "\n",
      "    if models:\n",
      "        if mx is None:\n",
      "            mx = sp.linspace(0, x[-1], 1000)\n",
      "        for model, style, color in zip(models, linestyles, colors):\n",
      "            # print \"Model:\",model\n",
      "            # print \"Coeffs:\",model.coeffs\n",
      "            plt.plot(mx, model(mx), linestyle=style, linewidth=2, c=color)\n",
      "\n",
      "        plt.legend([\"d=%i\" % m.order for m in models], loc=\"upper left\")\n",
      "\n",
      "    plt.autoscale(tight=True)\n",
      "    plt.ylim(ymin=0)\n",
      "    if ymax:\n",
      "        plt.ylim(ymax=ymax)\n",
      "    if xmin:\n",
      "        plt.xlim(xmin=xmin)\n",
      "    plt.grid(True, linestyle='-', color='0.75')\n",
      "    plt.show()"
     ],
     "language": "python",
     "metadata": {},
     "outputs": [],
     "prompt_number": 72
    },
    {
     "cell_type": "code",
     "collapsed": false,
     "input": [
      "# \uc774\uc804 \ubaa8\ub378\ub4e4\uc758 \uc608\uce21\ub825 \uadf8\ub798\ud504 \uadf8\ub9ac\uae30\n",
      "plot_models(\n",
      "    x, y, [f1, f2, f3, f10, f100],\n",
      "    mx=sp.linspace(0 * 7 * 24, 6 * 7 * 24, 100),\n",
      "    ymax=10000, xmin=0 * 7 * 24)"
     ],
     "language": "python",
     "metadata": {},
     "outputs": [
      {
       "metadata": {},
       "output_type": "display_data",
       "png": "[encoded data removed]",
       "text": [
        "<matplotlib.figure.Figure at 0x3bf0cd0>"
       ]
      }
     ],
     "prompt_number": 74
    },
    {
     "cell_type": "markdown",
     "metadata": {},
     "source": [
      "\uc608\uce21 \uacb0\uacfc \n",
      "\n",
      "* \uace0\ucc28 \ub2e4\ud56d\uc2dd \ubaa8\ub378 - \uacfc\uc801\ud569(overfitting). \ud68c\uc0ac\uc758 \ubbf8\ub798\uac00 \ubc1d\uc9c0 \uc54a\ub2e4. \ub370\uc774\ud130\ub97c \ub108\ubb34 \uc798 \ubc18\uc601\ud574\uc11c \ubbf8\ub798\uc758 \uc608\uce21\ub3c4 \uc4f8\ubaa8\uc5c6\uc5b4\uc84c\ub2e4\n",
      "* \uc800\ucc28 \ub2e4\ud56d\uc2dd \ubaa8\ub378 - \uacfc\uc18c\uc801\ud569(under-fitting). \uc5ed\uc2dc \uc88b\uc9c0 \uc54a\ub2e4. \ub370\uc774\ud130\ub97c \uc81c\ub300\ub85c \ubc18\uc601\ud558\uc9c0 \ubabb\ud558\ub294\ub4ef."
     ]
    },
    {
     "cell_type": "code",
     "collapsed": false,
     "input": [
      "# \ub9c8\uc9c0\ub9c9 \uc8fc\uc758 \ub370\uc774\ud130\ub9cc\uc73c\ub85c \ud6c8\ub828\ud558\uae30\n",
      "fb1 = fb\n",
      "fb2 = sp.poly1d(sp.polyfit(xb, yb, 2))\n",
      "fb3 = sp.poly1d(sp.polyfit(xb, yb, 3))\n",
      "fb10 = sp.poly1d(sp.polyfit(xb, yb, 10))\n",
      "fb100 = sp.poly1d(sp.polyfit(xb, yb, 100))\n",
      "\n",
      "print(\"Errors for only the time after inflection point\")\n",
      "for f in [fb1, fb2, fb3, fb10, fb100]:\n",
      "    print(\"Error d=%i: %f\" % (f.order, error(f, xb, yb)))\n",
      "\n",
      "plot_models(\n",
      "    x, y, [fb1, fb2, fb3, fb10, fb100], \n",
      "    mx=sp.linspace(0 * 7 * 24, 6 * 7 * 24, 100),\n",
      "    ymax=10000, xmin=0 * 7 * 24)"
     ],
     "language": "python",
     "metadata": {},
     "outputs": [
      {
       "output_type": "stream",
       "stream": "stdout",
       "text": [
        "Errors for only the time after inflection point\n",
        "Error d=1: 22143941.107618\n",
        "Error d=2: 19768846.989176\n",
        "Error d=3: 19766452.361027\n",
        "Error d=10: 18949296.559320\n",
        "Error d=53: 18300689.261429\n"
       ]
      },
      {
       "output_type": "stream",
       "stream": "stderr",
       "text": [
        "/home/moodern/.venv/nlp/local/lib/python2.7/site-packages/numpy/lib/polynomial.py:587: RankWarning: Polyfit may be poorly conditioned\n",
        "  warnings.warn(msg, RankWarning)\n",
        "/home/moodern/.venv/nlp/local/lib/python2.7/site-packages/numpy/lib/polynomial.py:587: RankWarning: Polyfit may be poorly conditioned\n",
        "  warnings.warn(msg, RankWarning)\n"
       ]
      },
      {
       "metadata": {},
       "output_type": "display_data",
       "png": "[encoded data removed]",
       "text": [
        "<matplotlib.figure.Figure at 0x39a0090>"
       ]
      }
     ],
     "prompt_number": 75
    },
    {
     "cell_type": "markdown",
     "metadata": {},
     "source": [
      "\uacb0\uacfc \n",
      "\n",
      "* \uc9c1\uc120 \ubaa8\ub378\uc758 \uacbd\uc6b0, \ub9c8\uc9c0\ub9c9 \uc8fc\uc758 \ub370\uc774\ud130\ub9cc \ud559\uc2b5\ud558\uba74 \ub354 \uc608\uce21\ub825\uc774 \ub192\uc544\uc9c4\ub2e4(\ucc28\uc218 \ub0ae\uc740 \ubaa8\ub378\ub4e4)\n",
      "* \uace0\ucc28 \ubaa8\ub378\uc758 \uacbd\uc6b0, \uc608\uce21\ub825\uc774 \ub354 \uc5c9\ub9dd\uc774 \ub41c\ub2e4.\n",
      "* \uadf8\ub7f0\ub370\ub3c4 \uc624\ucc28\ub9cc\uc73c\ub85c \ubaa8\ub378 \ud310\ub2e8 \uae30\uc900\uc744 \uc815\ud558\uba74 \uace0\ucc28\ubaa8\ub378\uc744 \ud0dd\ud574\uc57c \ud558\ub294 \uac83\ucc98\ub7fc \ub098\uc628\ub2e4.\n",
      "\n",
      "\uc5b4\ub5bb\uac8c \ud574\uc57c\ud558\ub098??!!!\n"
     ]
    },
    {
     "cell_type": "code",
     "collapsed": false,
     "input": [
      "print(\"Errors for only the time after inflection point\")\n",
      "for f in [fb1, fb2, fb3, fb10, fb100]:\n",
      "    print(\"Error d=%i: %f\" % (f.order, error(f, xb, yb)))"
     ],
     "language": "python",
     "metadata": {},
     "outputs": [
      {
       "output_type": "stream",
       "stream": "stdout",
       "text": [
        "Errors for only the time after inflection point\n",
        "Error d=1: 22143941.107618\n",
        "Error d=2: 19768846.989176\n",
        "Error d=3: 19766452.361027\n",
        "Error d=10: 18949296.559320\n",
        "Error d=53: 18300689.261429\n"
       ]
      }
     ],
     "prompt_number": 76
    },
    {
     "cell_type": "heading",
     "level": 3,
     "metadata": {},
     "source": [
      "\ud6c8\ub828\uacfc \ud14c\uc2a4\ud2b8"
     ]
    },
    {
     "cell_type": "markdown",
     "metadata": {},
     "source": [
      "\uac00\ub839, \ubaa8\ub378\uc758 \uc815\ud655\ub3c4\ub97c \ub0ae\ucd94\ub294 \ubbf8\ub798\uc758 \ub370\uc774\ud130\ub97c \uac16\uace0 \uc788\ub354\ub77c\ub3c4, \ub2e8\uc9c0 \uacb0\uacfc\uc778 \uadfc\uc0ac\uce58 \uc624\ucc28\ub97c \ubc14\ud0d5\uc73c\ub85c \ubaa8\ub378\uc744 \uc120\ud0dd\ud560 \uc218 \uc788\uc5b4\uc57c \ud55c\ub2e4.\n",
      "\n",
      "\ud640\ub4dc\uc544\uc6c3 \ub370\uc774\ud130(\ud559\uc2b5 \ub370\uc774\ud130\uc640 \ud14c\uc2a4\ud2b8 \ub370\uc774\ud130\ub97c \ubd84\ub9ac\ud55c\ub2e4) \ubc29\uc2dd!\n",
      "\n",
      "* \ub9c8\uc9c0\ub9c9 \uc8fc\uc758 \ub370\uc774\ud130\uc5d0\uc11c\n",
      "* \ud14c\uc2a4\ud2b8\uc6a9 \ub370\uc774\ud130\ub85c \uc4f0\uae30 \uc704\ud574 \uc77c\ubd80 \ub370\uc774\ud130\ub97c \ube80\ub2e4(test data set)\n",
      "* \uadf8\ub9ac\uace0 \uadf8 \ub098\uba38\uc9c0 \ub370\uc774\ud130\ub85c \ud559\uc2b5\ud574\uc11c \ubaa8\ub378\uc744 \ub9cc\ub4e0\ub2e4(training data set)\n",
      "* \ud559\uc2b5 \uacb0\uacfc\ub85c \ub098\uc628 \ubaa8\ub378\uc758 \uc131\ub2a5\uc744 \ud14c\uc2a4\ud2b8 \ub370\uc774\ud130\ub85c \uce21\uc815\ud55c\ub2e4. (\uc624\ucc28 \uad6c\ud568)\n"
     ]
    },
    {
     "cell_type": "code",
     "collapsed": false,
     "input": [
      "frac = 0.3\n",
      "split_idx = int(frac * len(xb))\n",
      "split_idx"
     ],
     "language": "python",
     "metadata": {},
     "outputs": [
      {
       "metadata": {},
       "output_type": "pyout",
       "prompt_number": 77,
       "text": [
        "44"
       ]
      }
     ],
     "prompt_number": 77
    },
    {
     "cell_type": "code",
     "collapsed": false,
     "input": [
      "shuffled = sp.random.permutation(list(range(len(xb))))\n",
      "shuffled"
     ],
     "language": "python",
     "metadata": {},
     "outputs": [
      {
       "metadata": {},
       "output_type": "pyout",
       "prompt_number": 78,
       "text": [
        "array([107,  74,   1,  89,  44, 140, 108,  45,  91,  90,  82,  39,  41,\n",
        "        32,  33,  54,  12,  17, 143,  13,   9,  85, 106,  86,  75,  62,\n",
        "        88, 145, 125, 101,  18, 136,  52,  66,  96,   4,  83,  93,  22,\n",
        "         5,   7,  23, 114, 119, 113,  38,   0,  49,  60, 117,  10,  42,\n",
        "       133, 100,  24,  35,  48,  68,  34, 139, 128,  55,  67, 141, 134,\n",
        "        77,  21,  81, 130,  73,  94,  25,   3,  72,  47, 110,  95,  87,\n",
        "         2,  15, 137,  51,  92,  79,  84,  40,  46, 120,  63, 124,  76,\n",
        "        14,  30,  37, 131, 112, 122, 109, 115,  50,  65,  64,  19, 142,\n",
        "       127, 129,  36, 144,  97,  11, 135,  59,  29,  69,  56,   6, 104,\n",
        "       118, 132, 105,  80, 121,  31,  28,  98, 126, 111,  43, 116, 123,\n",
        "         8,  57,  20,  16,  99, 146,  26,  53, 102, 138,  70,  27,  58,\n",
        "        78,  71, 103,  61])"
       ]
      }
     ],
     "prompt_number": 78
    },
    {
     "cell_type": "code",
     "collapsed": false,
     "input": [
      "test = sorted(shuffled[:split_idx])\n",
      "test"
     ],
     "language": "python",
     "metadata": {},
     "outputs": [
      {
       "metadata": {},
       "output_type": "pyout",
       "prompt_number": 79,
       "text": [
        "[1,\n",
        " 4,\n",
        " 5,\n",
        " 7,\n",
        " 9,\n",
        " 12,\n",
        " 13,\n",
        " 17,\n",
        " 18,\n",
        " 22,\n",
        " 23,\n",
        " 32,\n",
        " 33,\n",
        " 39,\n",
        " 41,\n",
        " 44,\n",
        " 45,\n",
        " 52,\n",
        " 54,\n",
        " 62,\n",
        " 66,\n",
        " 74,\n",
        " 75,\n",
        " 82,\n",
        " 83,\n",
        " 85,\n",
        " 86,\n",
        " 88,\n",
        " 89,\n",
        " 90,\n",
        " 91,\n",
        " 93,\n",
        " 96,\n",
        " 101,\n",
        " 106,\n",
        " 107,\n",
        " 108,\n",
        " 114,\n",
        " 119,\n",
        " 125,\n",
        " 136,\n",
        " 140,\n",
        " 143,\n",
        " 145]"
       ]
      }
     ],
     "prompt_number": 79
    },
    {
     "cell_type": "code",
     "collapsed": false,
     "input": [
      "train = sorted(shuffled[split_idx:])\n",
      "train"
     ],
     "language": "python",
     "metadata": {},
     "outputs": [
      {
       "metadata": {},
       "output_type": "pyout",
       "prompt_number": 80,
       "text": [
        "[0,\n",
        " 2,\n",
        " 3,\n",
        " 6,\n",
        " 8,\n",
        " 10,\n",
        " 11,\n",
        " 14,\n",
        " 15,\n",
        " 16,\n",
        " 19,\n",
        " 20,\n",
        " 21,\n",
        " 24,\n",
        " 25,\n",
        " 26,\n",
        " 27,\n",
        " 28,\n",
        " 29,\n",
        " 30,\n",
        " 31,\n",
        " 34,\n",
        " 35,\n",
        " 36,\n",
        " 37,\n",
        " 38,\n",
        " 40,\n",
        " 42,\n",
        " 43,\n",
        " 46,\n",
        " 47,\n",
        " 48,\n",
        " 49,\n",
        " 50,\n",
        " 51,\n",
        " 53,\n",
        " 55,\n",
        " 56,\n",
        " 57,\n",
        " 58,\n",
        " 59,\n",
        " 60,\n",
        " 61,\n",
        " 63,\n",
        " 64,\n",
        " 65,\n",
        " 67,\n",
        " 68,\n",
        " 69,\n",
        " 70,\n",
        " 71,\n",
        " 72,\n",
        " 73,\n",
        " 76,\n",
        " 77,\n",
        " 78,\n",
        " 79,\n",
        " 80,\n",
        " 81,\n",
        " 84,\n",
        " 87,\n",
        " 92,\n",
        " 94,\n",
        " 95,\n",
        " 97,\n",
        " 98,\n",
        " 99,\n",
        " 100,\n",
        " 102,\n",
        " 103,\n",
        " 104,\n",
        " 105,\n",
        " 109,\n",
        " 110,\n",
        " 111,\n",
        " 112,\n",
        " 113,\n",
        " 115,\n",
        " 116,\n",
        " 117,\n",
        " 118,\n",
        " 120,\n",
        " 121,\n",
        " 122,\n",
        " 123,\n",
        " 124,\n",
        " 126,\n",
        " 127,\n",
        " 128,\n",
        " 129,\n",
        " 130,\n",
        " 131,\n",
        " 132,\n",
        " 133,\n",
        " 134,\n",
        " 135,\n",
        " 137,\n",
        " 138,\n",
        " 139,\n",
        " 141,\n",
        " 142,\n",
        " 144,\n",
        " 146]"
       ]
      }
     ],
     "prompt_number": 80
    },
    {
     "cell_type": "code",
     "collapsed": false,
     "input": [
      "fbt1 = sp.poly1d(sp.polyfit(xb[train], yb[train], 1))\n",
      "fbt2 = sp.poly1d(sp.polyfit(xb[train], yb[train], 2))\n",
      "fbt3 = sp.poly1d(sp.polyfit(xb[train], yb[train], 3))\n",
      "fbt10 = sp.poly1d(sp.polyfit(xb[train], yb[train], 10))\n",
      "fbt100 = sp.poly1d(sp.polyfit(xb[train], yb[train], 100))\n",
      "\n",
      "plot_models(\n",
      "    x, y, [fbt1, fbt2, fbt3, fbt10, fbt100], \n",
      "    mx=sp.linspace(0 * 7 * 24, 6 * 7 * 24, 100),\n",
      "    ymax=10000, xmin=0 * 7 * 24)"
     ],
     "language": "python",
     "metadata": {},
     "outputs": [
      {
       "output_type": "stream",
       "stream": "stderr",
       "text": [
        "/home/moodern/.venv/nlp/local/lib/python2.7/site-packages/numpy/lib/polynomial.py:587: RankWarning: Polyfit may be poorly conditioned\n",
        "  warnings.warn(msg, RankWarning)\n",
        "/home/moodern/.venv/nlp/local/lib/python2.7/site-packages/numpy/lib/polynomial.py:587: RankWarning: Polyfit may be poorly conditioned\n",
        "  warnings.warn(msg, RankWarning)\n"
       ]
      },
      {
       "metadata": {},
       "output_type": "display_data",
       "png": "[encoded data removed]",
       "text": [
        "<matplotlib.figure.Figure at 0x4193490>"
       ]
      }
     ],
     "prompt_number": 81
    },
    {
     "cell_type": "markdown",
     "metadata": {},
     "source": [
      "\uadf8\ub798\ud504\uc0c1\uc73c\ub85c d=2\uc640 d=3\uc774 \uc608\uce21\ub825\uc774 \uc81c\uc77c \uc88b\uc544\ubcf4\uc778\ub2e4.\n",
      "\n",
      "\ud14c\uc2a4\ud2b8 \ub370\uc774\ud130\uc5d0 \ubaa8\ub378\uc744 \uc801\uc6a9\ud574\uc11c \uc624\ucc28\ub97c \uad6c\ud574\ubcf4\uc790."
     ]
    },
    {
     "cell_type": "code",
     "collapsed": false,
     "input": [
      "print(\"Test errors for only the time after inflection point\")\n",
      "for f in [fbt1, fbt2, fbt3, fbt10, fbt100]:\n",
      "    print(\"Error d=%i: %f\" % (f.order, error(f, xb[test], yb[test])))"
     ],
     "language": "python",
     "metadata": {},
     "outputs": [
      {
       "output_type": "stream",
       "stream": "stdout",
       "text": [
        "Test errors for only the time after inflection point\n",
        "Error d=1: 8552691.163738\n",
        "Error d=2: 7210266.057211\n",
        "Error d=3: 7211250.803329\n",
        "Error d=10: 7121348.948685\n",
        "Error d=53: 7547998.028991\n"
       ]
      }
     ],
     "prompt_number": 82
    },
    {
     "cell_type": "markdown",
     "metadata": {},
     "source": [
      "\uc624\ucc28 \uacc4\uc0b0 \uacb0\uacfc d=2 \ubaa8\ub378\uc774 \uac00\uc7a5 \uc88b\uc740 \uac83\uc73c\ub85c !!"
     ]
    },
    {
     "cell_type": "heading",
     "level": 3,
     "metadata": {},
     "source": [
      "\ucd5c\ucd08\uc758 \uc9c8\ubb38\uc5d0 \ub300\ub2f5\ud558\uae30"
     ]
    },
    {
     "cell_type": "markdown",
     "metadata": {},
     "source": [
      "\uc2dc\uac04\ub2f9 100,000 \uc694\uccad\uc774 \uc5b8\uc81c \ub4e4\uc5b4\uc62c\uae4c? \uc7a5\ube44\ub97c \uc5b8\uc81c\ub97c \uae30\uc900\uc73c\ub85c \uad6c\ub9e4\ud574\uc57c \ud560\uae4c?\n",
      "\n",
      "* \ubaa8\ub378\uc778 2\ucc28 \ub2e4\ud56d\uc2dd\uc758 y\uac12\uc774 100,000\uc774 \ub418\ub294 x\ub97c \ucc3e\uc73c\uba74 \ub41c\ub2e4. = \ub2e4\ud56d\uc2dd\uc758 \uadfc \ucc3e\uae30\n",
      "* \ub2e4\ud56d\uc2dd\uc5d0\uc11c 100,000\uc744 \ube7c\uace0 \uadfc\uc744 \uad6c\ud55c\ub2e4."
     ]
    },
    {
     "cell_type": "code",
     "collapsed": false,
     "input": [
      "fb2 = sp.poly1d(sp.polyfit(xb[train], yb[train], 2))\n",
      "print(fb2)"
     ],
     "language": "python",
     "metadata": {},
     "outputs": [
      {
       "output_type": "stream",
       "stream": "stdout",
       "text": [
        "         2\n",
        "0.06171 x - 61.55 x + 1.663e+04\n"
       ]
      }
     ],
     "prompt_number": 84
    },
    {
     "cell_type": "code",
     "collapsed": false,
     "input": [
      "print(fb2-100000)"
     ],
     "language": "python",
     "metadata": {},
     "outputs": [
      {
       "output_type": "stream",
       "stream": "stdout",
       "text": [
        "         2\n",
        "0.06171 x - 61.55 x - 8.337e+04\n"
       ]
      }
     ],
     "prompt_number": 85
    },
    {
     "cell_type": "code",
     "collapsed": false,
     "input": [
      "from scipy.optimize import fsolve\n",
      "reached_max = fsolve(fb2-100000, 800)/(7*24)\n",
      "reached_max"
     ],
     "language": "python",
     "metadata": {},
     "outputs": [
      {
       "metadata": {},
       "output_type": "pyout",
       "prompt_number": 97,
       "text": [
        "array([ 10.4973706])"
       ]
      }
     ],
     "prompt_number": 97
    },
    {
     "cell_type": "code",
     "collapsed": false,
     "input": [
      "print(\"100,000 hits/hour expected at week %f\" % reached_max[0])"
     ],
     "language": "python",
     "metadata": {},
     "outputs": [
      {
       "output_type": "stream",
       "stream": "stdout",
       "text": [
        "100,000 hits/hour expected at week 10.497371\n"
       ]
      }
     ],
     "prompt_number": 87
    },
    {
     "cell_type": "markdown",
     "metadata": {},
     "source": [
      "\uc608\uce21\uacb0\uacfc : 10\uc8fc \ub4a4\uc5d4 \ucd5c\ub300 \uc218\uc6a9\uce58(\uc2dc\uac04\ub2f9 100,000\ubc88 \uc811\uc18d)\uc5d0 \ub3c4\ub2ec\ud560 \uac83\uc774\ub2e4."
     ]
    },
    {
     "cell_type": "heading",
     "level": 1,
     "metadata": {},
     "source": [
      "\uc815\ub9ac"
     ]
    },
    {
     "cell_type": "markdown",
     "metadata": {},
     "source": [
      "\uc804\ud615\uc801\uc778 \uae30\uacc4 \ud559\uc2b5 \uc791\uc5c5\uc740\n",
      "\n",
      "* \ub370\uc774\ud130 \uc815\uc81c\uc640 \uc774\ud574\uc5d0 \ub300\ubd80\ubd84\uc758 \uc2dc\uac04\uc744 \ubcf4\ub0b8\ub2e4.\n",
      "* \uc62c\ubc14\ub978 \uc2e4\ud5d8 \uc900\ube44\uac00 \ud544\uc694\ud558\ub2e4.\n",
      "* \ud6c8\ub828\uacfc \ud14c\uc2a4\ud2b8\uac00 \uc11e\uc774\uc9c0 \uc54a\uc544\uc57c \ud55c\ub2e4.\n"
     ]
    },
    {
     "cell_type": "heading",
     "level": 1,
     "metadata": {},
     "source": [
      "\uac10\uc0ac\ud569\ub2c8\ub2e4."
     ]
    },
    {
     "cell_type": "code",
     "collapsed": false,
     "input": [],
     "language": "python",
     "metadata": {},
     "outputs": []
    }
   ],
   "metadata": {}
  }
 ]
}