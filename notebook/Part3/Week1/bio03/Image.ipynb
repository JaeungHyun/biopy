{
 "metadata": {
  "name": "",
  "signature": "sha256:e4413f52bf02a562f63017162af123003b912618311d91b7f75babb2b434e6b3"
 },
 "nbformat": 3,
 "nbformat_minor": 0,
 "worksheets": [
  {
   "cells": [
    {
     "cell_type": "markdown",
     "metadata": {},
     "source": [
      "Python For Bioinformatics\n",
      "\n",
      "3. Image Manipulation\n",
      "\n",
      "    3.1 The Image Module\n",
      "    \n",
      "    \n",
      "    \n",
      "    \n",
      "\n"
     ]
    },
    {
     "cell_type": "code",
     "collapsed": false,
     "input": [
      "import Image #versions 1.1.5 or earlier\n",
      "from PIL import Image #version 1.1.6\n",
      "\n",
      "mg = Image.open('data/bird.jpg') #jpg\ud30c\uc77c \uc624\ud508 "
     ],
     "language": "python",
     "metadata": {},
     "outputs": [],
     "prompt_number": 2
    },
    {
     "cell_type": "code",
     "collapsed": false,
     "input": [
      "#\ud30c\uc77c \uc0ac\uc774\uc988 \n",
      "mg.size"
     ],
     "language": "python",
     "metadata": {},
     "outputs": [
      {
       "metadata": {},
       "output_type": "pyout",
       "prompt_number": 3,
       "text": [
        "(653, 519)"
       ]
      }
     ],
     "prompt_number": 3
    },
    {
     "cell_type": "code",
     "collapsed": false,
     "input": [
      "mg.filename #\ud30c\uc77c\uc774\ub984 \uac00\uc838\uc624\uae30 "
     ],
     "language": "python",
     "metadata": {},
     "outputs": [
      {
       "metadata": {},
       "output_type": "pyout",
       "prompt_number": 4,
       "text": [
        "'data/bird.jpg'"
       ]
      }
     ],
     "prompt_number": 4
    },
    {
     "cell_type": "code",
     "collapsed": false,
     "input": [
      "mg.format #\ud30c\uc77c \ud615\uc2dd "
     ],
     "language": "python",
     "metadata": {},
     "outputs": [
      {
       "metadata": {},
       "output_type": "pyout",
       "prompt_number": 5,
       "text": [
        "'JPEG'"
       ]
      }
     ],
     "prompt_number": 5
    },
    {
     "cell_type": "code",
     "collapsed": false,
     "input": [
      "mg.format_description #\ud30c\uc77c \ud45c\uc900\uaddc\uaca9 "
     ],
     "language": "python",
     "metadata": {},
     "outputs": [
      {
       "metadata": {},
       "output_type": "pyout",
       "prompt_number": 6,
       "text": [
        "'JPEG (ISO 10918)'"
       ]
      }
     ],
     "prompt_number": 6
    },
    {
     "cell_type": "code",
     "collapsed": false,
     "input": [
      "mg.info #\ud30c\uc77c \uc815\ubcf4 "
     ],
     "language": "python",
     "metadata": {},
     "outputs": [
      {
       "metadata": {},
       "output_type": "pyout",
       "prompt_number": 7,
       "text": [
        "{'dpi': (72, 72),\n",
        " 'jfif': 257,\n",
        " 'jfif_density': (72, 72),\n",
        " 'jfif_unit': 1,\n",
        " 'jfif_version': (1, 1)}"
       ]
      }
     ],
     "prompt_number": 7
    },
    {
     "cell_type": "code",
     "collapsed": false,
     "input": [
      "mg.save('mypict.png') #png \ud30c\uc77c\ub85c \uc800\uc7a5 \n",
      "\n",
      "mg.show()\n"
     ],
     "language": "python",
     "metadata": {},
     "outputs": [],
     "prompt_number": 8
    },
    {
     "cell_type": "markdown",
     "metadata": {},
     "source": [
      "3.2 Colors and Conversions\n",
      "\n",
      "getpixel : \ud574\ub2f9 \uc88c\ud45c\uc758 pixel\uac12 \uac00\uc838\uc624\uae30 \n",
      "\n",
      "putpixel : \ud574\ub2f9 \uc88c\ud45c\uc758 pixel\uac12 \uc785\ub825\ud558\uae30 "
     ]
    },
    {
     "cell_type": "code",
     "collapsed": false,
     "input": [
      "mg.getpixel((10,20))\n",
      "\n"
     ],
     "language": "python",
     "metadata": {},
     "outputs": [
      {
       "metadata": {},
       "output_type": "pyout",
       "prompt_number": 9,
       "text": [
        "(166, 38, 113)"
       ]
      }
     ],
     "prompt_number": 9
    },
    {
     "cell_type": "code",
     "collapsed": false,
     "input": [
      "newmg = mg.convert('L')\n",
      "\n",
      "r,g,b = mg.split()\n",
      "\n",
      "r.mode\n",
      "\n"
     ],
     "language": "python",
     "metadata": {},
     "outputs": [
      {
       "metadata": {},
       "output_type": "pyout",
       "prompt_number": 10,
       "text": [
        "'L'"
       ]
      }
     ],
     "prompt_number": 10
    },
    {
     "cell_type": "code",
     "collapsed": false,
     "input": [
      "r.size"
     ],
     "language": "python",
     "metadata": {},
     "outputs": [
      {
       "metadata": {},
       "output_type": "pyout",
       "prompt_number": 11,
       "text": [
        "(653, 519)"
       ]
      }
     ],
     "prompt_number": 11
    },
    {
     "cell_type": "code",
     "collapsed": false,
     "input": [
      "mg2 = Image.merge('RGB', (r,g,b))\n",
      "mg2 = Image.merge('RGB', (g,b,r))\n",
      "\n",
      "mg2.show()"
     ],
     "language": "python",
     "metadata": {},
     "outputs": [],
     "prompt_number": 12
    },
    {
     "cell_type": "markdown",
     "metadata": {},
     "source": [
      "3.3 Digital Image Formats\n",
      "\n",
      "\n"
     ]
    },
    {
     "cell_type": "code",
     "collapsed": false,
     "input": [
      "mg = Image.new('L',(200,200)) #200X200\n",
      "\n",
      "for i in range(10,180):   \n",
      "    for j in range(90,110): \n",
      "        mg.putpixel((j,i),250) #stripe 250 \n",
      "        "
     ],
     "language": "python",
     "metadata": {},
     "outputs": [],
     "prompt_number": 13
    },
    {
     "cell_type": "code",
     "collapsed": false,
     "input": [
      "mg.save('line.bmp')"
     ],
     "language": "python",
     "metadata": {},
     "outputs": [],
     "prompt_number": 14
    },
    {
     "cell_type": "code",
     "collapsed": false,
     "input": [
      "mg.save('line.jpg')\n",
      "mg2 = Image.open('line.jpg')"
     ],
     "language": "python",
     "metadata": {},
     "outputs": [],
     "prompt_number": 15
    },
    {
     "cell_type": "code",
     "collapsed": false,
     "input": [
      "for j in range(90,110):  \n",
      "    print mg2.getpixel((j,11)),  #stripe 11row \n"
     ],
     "language": "python",
     "metadata": {},
     "outputs": [
      {
       "output_type": "stream",
       "stream": "stdout",
       "text": [
        "255 244 235 241 240 255 248 248 248 248 248 248 248 248 255 240 241 235 244 255\n"
       ]
      }
     ],
     "prompt_number": 16
    },
    {
     "cell_type": "code",
     "collapsed": false,
     "input": [
      "for j in range(90,110):   \n",
      "    print mg2.getpixel((j,50)),  # middle row50"
     ],
     "language": "python",
     "metadata": {},
     "outputs": [
      {
       "output_type": "stream",
       "stream": "stdout",
       "text": [
        "248 253 249 249 254 249 250 250 250 250 250 250 250 250 249 254 249 249 253 248\n"
       ]
      }
     ],
     "prompt_number": 17
    },
    {
     "cell_type": "markdown",
     "metadata": {},
     "source": [
      "3.4 Simple Image Manipulations\n",
      "\n"
     ]
    },
    {
     "cell_type": "code",
     "collapsed": false,
     "input": [
      "mg = Image.open('data/bird.jpg')\n",
      "mg2 = mg.crop((10,10,30,50)) #\uc88c\ud45c\n",
      "mg2.show()"
     ],
     "language": "python",
     "metadata": {},
     "outputs": [],
     "prompt_number": 18
    },
    {
     "cell_type": "code",
     "collapsed": false,
     "input": [
      "mg2 = mg.resize((100,300)) #\uc0ac\uc774\uc988 \n",
      "mg2.save('test.jpg')\n"
     ],
     "language": "python",
     "metadata": {},
     "outputs": [],
     "prompt_number": 19
    },
    {
     "cell_type": "code",
     "collapsed": false,
     "input": [
      "mg2 = mg.rotate(5) #\uc2dc\uacc4 \ubc18\ub300\ubc29\ud5a5\uc73c\ub85c 5\ub3c4~\n",
      "mg2.show()"
     ],
     "language": "python",
     "metadata": {},
     "outputs": [],
     "prompt_number": 20
    },
    {
     "cell_type": "code",
     "collapsed": false,
     "input": [
      "\n",
      "mg.getpixel((50,50))\n"
     ],
     "language": "python",
     "metadata": {},
     "outputs": [
      {
       "metadata": {},
       "output_type": "pyout",
       "prompt_number": 21,
       "text": [
        "(182, 211, 181)"
       ]
      }
     ],
     "prompt_number": 21
    },
    {
     "cell_type": "code",
     "collapsed": false,
     "input": [
      "mg2 = mg.rotate(0)\n",
      "mg3 = mg2.rotate(-5)\n",
      "mg3.show()\n",
      "mg3.getpixel((50,50))"
     ],
     "language": "python",
     "metadata": {},
     "outputs": [
      {
       "metadata": {},
       "output_type": "pyout",
       "prompt_number": 22,
       "text": [
        "(37, 65, 51)"
       ]
      }
     ],
     "prompt_number": 22
    },
    {
     "cell_type": "code",
     "collapsed": false,
     "input": [
      "mg2 = mg.rotate(5)\n",
      "\n",
      "for i in range(5,360,5):\n",
      "    mg2 = mg2.rotate(5)\n",
      "\n",
      "    "
     ],
     "language": "python",
     "metadata": {},
     "outputs": [],
     "prompt_number": 23
    },
    {
     "cell_type": "code",
     "collapsed": false,
     "input": [
      "mg2.show()"
     ],
     "language": "python",
     "metadata": {},
     "outputs": [],
     "prompt_number": 24
    },
    {
     "cell_type": "code",
     "collapsed": false,
     "input": [
      "#transpose \uc815\uc758 (0,1,2,3,4)\n",
      "\n",
      "mg2 = mg.transpose(Image.FLIP_LEFT_RIGHT)\n",
      "mg2 = mg.transpose(Image.FLIP_TOP_BOTTOM)\n",
      "mg2 = mg.transpose(Image.ROTATE_90)\n",
      "mg2 = mg.transpose(Image.ROTATE_180)\n",
      "mg2 = mg.transpose(Image.ROTATE_270)\n",
      "\n",
      "print(Image.FLIP_LEFT_RIGHT)"
     ],
     "language": "python",
     "metadata": {},
     "outputs": [
      {
       "output_type": "stream",
       "stream": "stdout",
       "text": [
        "0\n"
       ]
      }
     ],
     "prompt_number": 25
    },
    {
     "cell_type": "code",
     "collapsed": false,
     "input": [
      "print(Image.ROTATE_90)"
     ],
     "language": "python",
     "metadata": {},
     "outputs": [
      {
       "output_type": "stream",
       "stream": "stdout",
       "text": [
        "2\n"
       ]
      }
     ],
     "prompt_number": 26
    },
    {
     "cell_type": "code",
     "collapsed": false,
     "input": [
      "mg2 = mg.transpose(0)\n",
      "\n",
      "mg2.show()"
     ],
     "language": "python",
     "metadata": {},
     "outputs": [],
     "prompt_number": 27
    },
    {
     "cell_type": "markdown",
     "metadata": {},
     "source": [
      "3.5 Conversions to and from Arrays\n",
      "\n"
     ]
    },
    {
     "cell_type": "code",
     "collapsed": false,
     "input": [
      "import numpy as np\n",
      "import Image\n",
      "mgt = mg.transpose(2).transpose(1)\n",
      "f = mgt.getdata()\n",
      "# a structure\n"
     ],
     "language": "python",
     "metadata": {},
     "outputs": [],
     "prompt_number": 28
    },
    {
     "cell_type": "code",
     "collapsed": false,
     "input": [
      "\n",
      "\n",
      "z = np.array(f)\n",
      "z.resize((mg.size))\n",
      "zz = np.transpose(np.reshape(z,mg.size))\n",
      "\n"
     ],
     "language": "python",
     "metadata": {},
     "outputs": [],
     "prompt_number": 29
    },
    {
     "cell_type": "code",
     "collapsed": false,
     "input": [
      "data = zz"
     ],
     "language": "python",
     "metadata": {},
     "outputs": [],
     "prompt_number": 30
    },
    {
     "cell_type": "code",
     "collapsed": false,
     "input": [
      "data"
     ],
     "language": "python",
     "metadata": {},
     "outputs": [
      {
       "metadata": {},
       "output_type": "pyout",
       "prompt_number": 31,
       "text": [
        "array([[181,   5,   7, ..., 145, 206, 102],\n",
        "       [228,  27,  23, ..., 174, 243, 135],\n",
        "       [238, 188, 194, ..., 126, 255, 106],\n",
        "       ..., \n",
        "       [  6,   7,  11, ...,   0, 111, 138],\n",
        "       [ 25,  23,  19, ...,  17, 144, 167],\n",
        "       [190, 194, 152, ..., 145, 123, 111]])"
       ]
      }
     ],
     "prompt_number": 31
    },
    {
     "cell_type": "code",
     "collapsed": false,
     "input": [
      "\n",
      "mg = Image.new('L',np.transpose(data).shape)\n",
      "mn = data.min()\n",
      "a = data - mn\n",
      "mx = a.max()\n",
      "a = a*256./mx\n",
      "mg.putdata(np.ravel(a))"
     ],
     "language": "python",
     "metadata": {},
     "outputs": []
    },
    {
     "cell_type": "code",
     "collapsed": false,
     "input": [],
     "language": "python",
     "metadata": {},
     "outputs": [],
     "prompt_number": 134
    },
    {
     "cell_type": "code",
     "collapsed": false,
     "input": [],
     "language": "python",
     "metadata": {},
     "outputs": []
    }
   ],
   "metadata": {}
  }
 ]
}