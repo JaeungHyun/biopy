{
 "metadata": {
  "name": "",
  "signature": "sha256:0a6f3aa2690bf8da54df6f6be740e19e4ef32aadfcc75bc88ca5b0678434e607"
 },
 "nbformat": 3,
 "nbformat_minor": 0,
 "worksheets": [
  {
   "cells": [
    {
     "cell_type": "heading",
     "level": 1,
     "metadata": {},
     "source": [
      "Ipython notebook\uc5d0\uc11c gnuplot \uc4f0\ub294 \ubc95 (\ub9ac\ub205\uc2a4\uc5d0\uc11c \ud14c\uc2a4\ud2b8)"
     ]
    },
    {
     "cell_type": "code",
     "collapsed": false,
     "input": [
      "import sys, os\n",
      "import matplotlib.pyplot as plt\n",
      "import matplotlib.image as mpimg"
     ],
     "language": "python",
     "metadata": {},
     "outputs": [],
     "prompt_number": 1
    },
    {
     "cell_type": "code",
     "collapsed": false,
     "input": [
      "# \uc544\uce78\ub3c4 \ubaa8\ub4c8 \uc784\ud3ec\ud2b8\ub97c \uc704\ud574\n",
      "sys.path.append(os.path.abspath('./pysrc'))\n",
      "\n",
      "# \uc124\uce58\ub41c Image \ud328\ud0a4\uc9c0 \ubc84\uc804\uc774 \ub0ae\uc73c\uba74 \uc218\uc815\uc5c6\uc774 \uc6d0\ub798 \ud30c\uc77c\uc744 \uc774\uc6a9.\n",
      "# \ubc84\uc804\uc774 \uc62c\ub77c\uac14\uc73c\uba74 akando.py \ud30c\uc77c\uc758 import Image \ubd80\ubd84\uc744  from PIL import Image\ub85c \uace0\uce5c \ud6c4 \uc784\ud3ec\ud2b8\n",
      "import akando \n",
      "from numpy import cos, arange"
     ],
     "language": "python",
     "metadata": {},
     "outputs": [],
     "prompt_number": 2
    },
    {
     "cell_type": "code",
     "collapsed": false,
     "input": [
      "# \ucc45\uc758 \uc608\uc81c\n",
      "a = cos(arange(100)*0.3)\n",
      "akando.PlotSave('plot.txt',a)"
     ],
     "language": "python",
     "metadata": {},
     "outputs": [],
     "prompt_number": 3
    },
    {
     "cell_type": "code",
     "collapsed": false,
     "input": [
      "# \uc2dc\uc2a4\ud15c\uc5d0 gnuplot\uc774 \uc124\uce58\ub418\uc5b4 \uc788\uc744 \uc2dc\n",
      "# gnuplot \uba85\ub839\uc5b4\ub85c \ucee8\ub9e8\ub4dc\uc758 \uc778\ud130\ub809\ud2f0\ube0c \ubaa8\ub4dc\ub85c \ub4e4\uc5b4\uac00\uc9c0 \uc54a\uace0\n",
      "# \uba85\ub839 \uc2a4\ud06c\ub9bd\ud2b8\ub97c \ud30c\uc77c\ub85c \ub9cc\ub4e4\uc5b4\uc11c \uc2e4\ud589\uc2dc\ud0a8\ub2e4\n",
      "# \uc774\ub54c \uc2a4\ud06c\ub9bd\ud2b8 \ub9e8 \ucc98\uc74c\uc5d0 \uc544\uc6c3\ud48b\uc744 \uc774\ubbf8\uc9c0 \ud30c\uc77c\ub85c \uc124\uc815\ud574 \ub193\uc73c\uba74 gnuplot\uc758 \uacb0\uacfc\uac00 \uc774\ubbf8\uc9c0\ub85c \uc800\uc7a5\ub41c\ub2e4."
     ],
     "language": "python",
     "metadata": {},
     "outputs": [],
     "prompt_number": 4
    },
    {
     "cell_type": "code",
     "collapsed": false,
     "input": [
      "# \uba85\ub839 \uc2a4\ud06c\ub9bd\ud2b8\ub97c \ub9cc\ub4e4\uc5b4\uc11c \ud30c\uc77c\ub85c \uc800\uc7a5\n",
      "cmd = '''set output 'plot.png'\n",
      "set terminal png small size 400,300\n",
      "set style data lines\n",
      "plot 'plot.txt'\n",
      "'''\n",
      "f = open('cmd.txt', 'w')\n",
      "f.write(cmd)\n",
      "f.close()"
     ],
     "language": "python",
     "metadata": {},
     "outputs": [],
     "prompt_number": 5
    },
    {
     "cell_type": "code",
     "collapsed": false,
     "input": [
      "# \uc2e4\ud589 \n",
      "os.system('gnuplot cmd.txt')"
     ],
     "language": "python",
     "metadata": {},
     "outputs": [
      {
       "metadata": {},
       "output_type": "pyout",
       "prompt_number": 6,
       "text": [
        "0"
       ]
      }
     ],
     "prompt_number": 6
    },
    {
     "cell_type": "code",
     "collapsed": false,
     "input": [
      "#  !gnuplot cmd.txt \ub85c \ud574\ub3c4 \ub41c\ub2e4\n",
      "!gnuplot cmd.txt"
     ],
     "language": "python",
     "metadata": {},
     "outputs": [],
     "prompt_number": 8
    },
    {
     "cell_type": "code",
     "collapsed": false,
     "input": [
      "# \uacb0\uacfc \uc774\ubbf8\uc9c0\ub97c matplotlib\ub85c \uc77d\uc5b4\ub4e4\uc5ec\uc11c \uc544\uc774\ud30c\uc774\uc36c \ub178\ud2b8\ubd81\uc5d0 \ucd9c\ub825\n",
      "img=mpimg.imread('plot.png')\n",
      "plt.imshow(img)"
     ],
     "language": "python",
     "metadata": {},
     "outputs": [
      {
       "metadata": {},
       "output_type": "pyout",
       "prompt_number": 9,
       "text": [
        "<matplotlib.image.AxesImage at 0x46c3550>"
       ]
      },
      {
       "metadata": {},
       "output_type": "display_data",
       "png": "[encoded data removed]",
       "text": [
        "<matplotlib.figure.Figure at 0x4492890>"
       ]
      }
     ],
     "prompt_number": 9
    },
    {
     "cell_type": "code",
     "collapsed": false,
     "input": [],
     "language": "python",
     "metadata": {},
     "outputs": []
    }
   ],
   "metadata": {}
  }
 ]
}