{
 "metadata": {
  "name": "",
  "signature": "sha256:6ff425cc4f65bd04a94287d7508bf6e3f067d67811fc1faef78679656ab28647"
 },
 "nbformat": 3,
 "nbformat_minor": 0,
 "worksheets": [
  {
   "cells": [
    {
     "cell_type": "heading",
     "level": 1,
     "metadata": {},
     "source": [
      "4. Akando and Dancer Modules \n",
      "    "
     ]
    },
    {
     "cell_type": "heading",
     "level": 2,
     "metadata": {},
     "source": [
      " 4.1 The Akando Mo dule\n",
      "    "
     ]
    },
    {
     "cell_type": "markdown",
     "metadata": {},
     "source": [
      "   \n",
      "\n",
      "\n",
      "\n",
      "\n",
      "\n",
      "\n",
      "\n",
      "\n",
      "\n",
      "\n",
      "\n",
      "\n",
      "########  Section 4. Image Conversions\n",
      "# Code 4-18\n",
      "# converts 2D array to an image\n",
      "def a2i( data ):\n",
      "    mg = Image.new( 'L', transpose(data).shape)\n",
      "    mn = data.min()\n",
      "    a = data - mn\n",
      "    mx = a.max()\n",
      "    a = a*256./mx\n",
      "    mg.putdata( ravel(a))\n",
      "    return mg\n",
      "\n",
      "# Code 4-18\n",
      "# converts 2D array to image without auto-scaling\n",
      "# user is reponsible to ensure all values in data are between 0 and 255\n",
      "def a2if( data ):\n",
      "    mg = Image.new( 'L', transpose(data).shape)\n",
      "    mg.putdata( ravel(data))\n",
      "    return mg\n",
      "\n",
      "# Code 4-18\n",
      "# Converts gray scale image to a matrix.  Do not use if mg.mode != 'L'\n",
      "def i2a( mg ):\n",
      "    mgt = mg.transpose(2).transpose(1)\n",
      "    f = mgt.getdata()\t# a structure\n",
      "    z = array(f)\n",
      "    zz = z.reshape( mg.size )\n",
      "    zz = zz.transpose()\n",
      "    #zz = transpose(reshape(z,mg.size))\n",
      "    return zz\n",
      "\n"
     ]
    },
    {
     "cell_type": "code",
     "collapsed": false,
     "input": [
      "import akando"
     ],
     "language": "python",
     "metadata": {},
     "outputs": [],
     "prompt_number": 52
    },
    {
     "cell_type": "heading",
     "level": 3,
     "metadata": {},
     "source": [
      "4.1.1 Plotting Routines"
     ]
    },
    {
     "cell_type": "markdown",
     "metadata": {},
     "source": [
      "# akando.py  (Native American name meaning Ambush)\n",
      "# copyright (c) Jason M. Kinser 2008\n",
      "# This code is intended for non-commercial, educational use.\n",
      "# This code may not be used for commercial purposes without written permission from the author.\n",
      "# Many routines in this file are found in:\n",
      "#  \"Python for Bioinformatics\", J. Kinser,  Jones & Bartlett pub, 2008\n",
      "\n",
      "\n",
      "from scipy import fftpack\n",
      "from numpy import arange, array, ravel, transpose, zeros, sqrt, \\\n",
      "     nonzero, greater_equal, equal, conjugate, indices, less_equal, \\\n",
      "     arctan, pi, less, logical_and\n",
      "import Image\n",
      "import copy\n",
      "\n",
      "########  Section 1. Plotting\n",
      "# save a vector so that GnuPlot or a spreadsheet can read and plot\n",
      "# Code 4-2\n",
      "def PlotSave( fname, data ):\n",
      "    L = len( data )\n",
      "    fp = file( fname, 'w' )\n",
      "    for i in range( L ):\n",
      "        fp.write( str(data[i]) + '\\n' )\n",
      "    fp.close()"
     ]
    },
    {
     "cell_type": "code",
     "collapsed": false,
     "input": [
      "from numpy import cos,arange\n",
      "a = cos(arange(100)*0.3)\n",
      "akando.PlotSave('plot.txt',a)\n"
     ],
     "language": "python",
     "metadata": {},
     "outputs": [],
     "prompt_number": 53
    },
    {
     "cell_type": "markdown",
     "metadata": {},
     "source": [
      "gnuplot> cd 'C:\\Users\\EPOCH\\Documents\\IPython Notebooks'\n",
      "\n",
      "gnuplot> plot 'file.txt'\n",
      "gnuplot> plot 'file.txt' with line\n",
      "gnuplot> unset key\n",
      "gnuplot> set style data lines\n",
      "gnuplot> plot 'file.txt'          \n",
      "gnuplot> \n",
      "gnuplot> set output 'file.gif'\n",
      "gnuplot> set terminal gif small size 400,300\n",
      "Terminal type set to 'gif'\n",
      "Options are 'nocrop small size 400,300 '\n",
      "gnuplot> plot 'file.txt'                    \n",
      "gnuplot> set terminal windows\n",
      "Terminal type set to 'windows'\n",
      "Options are '0 color solid noenhanced'"
     ]
    },
    {
     "cell_type": "markdown",
     "metadata": {},
     "source": [
      "def PlotMultiple( fname, data ):\n",
      "    V, H = data.shape\n",
      "    fp = file( fname, 'w' )\n",
      "    for i in range( V ):\n",
      "        for j in range( H ):\n",
      "            fp.write( str(data[i,j]) + ' ' )\n",
      "        fp.write( '\\n' )\n",
      "    fp.close()"
     ]
    },
    {
     "cell_type": "code",
     "collapsed": false,
     "input": [
      "from numpy import zeros\n",
      "mat = zeros((100,2),float)\n",
      "mat[:,1] = cos(arange(100)*0.3)\n",
      "mat[:,0] = cos(arange(100)*0.2+5)\n",
      "akando.PlotMultiple('file.txt',mat)"
     ],
     "language": "python",
     "metadata": {},
     "outputs": [],
     "prompt_number": 54
    },
    {
     "cell_type": "markdown",
     "metadata": {},
     "source": [
      "gnuplot> plot 'file.txt' with linespoints "
     ]
    },
    {
     "cell_type": "markdown",
     "metadata": {},
     "source": [
      "# surface plot\n",
      "def Plot2D( fname, data ):\n",
      "    V,H = data.shape\n",
      "    fp = file( fname, 'w' )\n",
      "    for i in range( V ):\n",
      "        for j in range(  H ):\n",
      "            fp.write( str(data[i,j]) + '\\n' )\n",
      "        fp.write( '\\n' )\n",
      "    fp.close()\n"
     ]
    },
    {
     "cell_type": "code",
     "collapsed": false,
     "input": [
      "mat = zeros((100,100))\n",
      "for i in range(100):\n",
      "    for j in range(100):\n",
      "        mat[i,j] = cos((i+j)*0.1)\n",
      "        \n",
      "akando.Plot2D('file.txt',mat)"
     ],
     "language": "python",
     "metadata": {},
     "outputs": [],
     "prompt_number": 55
    },
    {
     "cell_type": "heading",
     "level": 3,
     "metadata": {},
     "source": [
      "4.1.2 Algebraic and Geometric Functions"
     ]
    },
    {
     "cell_type": "code",
     "collapsed": false,
     "input": [
      "import numpy as np\n",
      "import math\n",
      "import akando"
     ],
     "language": "python",
     "metadata": {},
     "outputs": [],
     "prompt_number": 56
    },
    {
     "cell_type": "markdown",
     "metadata": {},
     "source": [
      "########  Section 2. Algebra and Geometry\n",
      "# Code 4-8\n",
      "# Compute the distance between two vectors\n",
      "def Distance( vec1, vec2 ):\n",
      "    a = vec1 - vec2\n",
      "    dist = sqrt( a*a )\n",
      "    return dist\n",
      "\n",
      "    \n",
      "# Code 4-9\n",
      "# Smooth a vector\n",
      "def Smooth(data,window):    \n",
      "    # data is the input data\n",
      "    # window is the linear dimension of the smoothing kernel\n",
      "    dim = data.shape\n",
      "    ndim = len( dim )\t# the number of dimensions\n",
      "    \n",
      "    # for a 1D vector smooth it\n",
      "    if ndim == 1 :\n",
      "        ans = zeros( dim, float )\n",
      "        K = sum(data[0:window+1])\n",
      "        ans[0] = K/(window+1)\n",
      "    \t# ramp up\n",
      "    \tfor i in range(1,window+1):\n",
      "    \t\tK = K + data[i+window]\n",
      "    \t\tans[i] = K / (i+window+1)\n",
      "        # steady as she goes\n",
      "        for i in range(window+1,dim[0]-window) :\n",
      "            K = K + data[window+i] - data[i-window-1];\n",
      "            ans[i] = K / (2*window+1)\n",
      "        # Ramp down\n",
      "        j = 0\n",
      "        if dim<window+window : j =window+window-dim[0]\n",
      "        for i in range(dim[0]-window,dim[0]):\n",
      "            K = K - data[i-window-1]\n",
      "            ans[i] = K / (2*window-j)\n",
      "            j = j+1\n",
      "        # end of vector smooth\n",
      "    else :\t# you have more than 1 dimension.  For now assume that it is 2\n",
      "    \t# smooth the columns and then the rows\n",
      "    \tt = data + 0\t# the +0 insures that t and data do not use the same memory\n",
      "    \tfor i in range(0,dim[0]):\n",
      "    \t\tt[i,:] = Smooth(t[i,:],window)\n",
      "    \tfor j in range(0,dim[1]):\n",
      "    \t\tz = (Smooth(t[:,j],window))[0:dim[0]]\n",
      "    \t\tt[:,j] = z\n",
      "    \tans = t\n",
      "    # end the 2D\n",
      "    return ans    "
     ]
    },
    {
     "cell_type": "code",
     "collapsed": false,
     "input": [
      " \n",
      "a = np.cos( arange( 100 )* 0.3 )+ 0.3 * random.rand(100)\n",
      "b = akando.Smooth(a,1)\n",
      "c = akando.Smooth(a,4)\n",
      "\n",
      "akando.PlotSave('plot.txt',a)\n",
      "akando.PlotSave('plot0.txt',b)\n",
      "akando.PlotSave('plot1.txt',c)\n"
     ],
     "language": "python",
     "metadata": {},
     "outputs": [],
     "prompt_number": 57
    },
    {
     "cell_type": "markdown",
     "metadata": {},
     "source": [
      "gnuplot> plot 'plot.txt' with points, 'plot0.txt', 'plot1.txt'"
     ]
    },
    {
     "cell_type": "markdown",
     "metadata": {},
     "source": [
      "# Code 4-11\n",
      "# Subtract the baseline from an oscillating signal\n",
      "def Baseline(data, WN=100):\n",
      "    # data: input vector\n",
      "    # WN: window size\n",
      "    # returns smoothed vector\n",
      "    L = len(data)\n",
      "    pts=[]\n",
      "    for i in range(0, L, WN):\n",
      "        a=data[i:i+WN]\n",
      "        mn = a.min()\n",
      "        x=nonzero(equal(a, mn))[0][0]\n",
      "        pts.append([i+x, mn])\n",
      "    nd=zeros(len(data), float)\n",
      "    nsegs=len(pts)-1    \n",
      "    for i in range(nsegs):\n",
      "        x1, y1 = pts[i]\n",
      "        x2, y2 = pts[i+1]\n",
      "        m = (y2-y1)/(x2-x1)\n",
      "        b = y1 - m*x1\n",
      "        w = arange(x1,x2)\n",
      "        y=m*w + b\n",
      "        nd[x1:x2]=data[x1:x2]-y\n",
      "    # create a vector containing 0 if nd is less than zero\n",
      "    mask=greater_equal(nd, 0)\n",
      "    # new new data\n",
      "    nnd = mask*nd\n",
      "    return nnd\n"
     ]
    },
    {
     "cell_type": "code",
     "collapsed": false,
     "input": [
      "a = cos(arange(100))+2\n",
      "b = cos(arange(100)*0.1)\n",
      "c = a + b\n",
      "\n",
      "akando.PlotSave('plot.txt',a)\n",
      "akando.PlotSave('plot0.txt',b)\n",
      "akando.PlotSave('plot1.txt',c)\n",
      "\n",
      "nnd = akando.Baseline(c,10)"
     ],
     "language": "python",
     "metadata": {},
     "outputs": [],
     "prompt_number": 58
    },
    {
     "cell_type": "markdown",
     "metadata": {},
     "source": [
      "gnuplot> plot 'plot.txt' with lines, 'plot0.txt' with lines, 'plot1.txt' with lines"
     ]
    },
    {
     "cell_type": "markdown",
     "metadata": {},
     "source": [
      "# histogram.\n",
      "# if min and max not given then\n",
      "# automatically sets the range to the max and min value\n",
      "# Code 4-13\n",
      "\n",
      "def RangeHistogram( indata, nbins, mn=-1, mx=-1 ):\n",
      "    # indata is the input data\n",
      "    # nbins is the number of bins\n",
      "    ans = zeros(nbins)\n",
      "    L = len( indata )\n",
      "    data = indata + 0\n",
      "    fix = 0\n",
      "    if mn==-1 and mx==-1:\n",
      "        # no limits were given so - create an autoscale\n",
      "        mx = indata.max( )*1.01\n",
      "        mn = indata.min()\n",
      "    else:\n",
      "        mx *= 1.01\n",
      "    data = (indata-mn)/(mx-mn)*nbins\n",
      "    print data.max()\n",
      "    hst = zeros( nbins, int )\n",
      "    for i in range( L ):\n",
      "        k = int( data[i] )\n",
      "        hst[k] += 1\n",
      "    return hst\n",
      "\n",
      "# Code 4-14\n",
      "# x,y: x and y values for multiple data points\n",
      "# returns slope, intercept\n",
      "\n",
      "def linearRegression( x,y ):\n",
      "    \"\"\"Returns m,b.  x and Y are vectors\"\"\"\n",
      "    sxy = ( x * y +0.0).sum()\t# also ensures at least a float type\n",
      "    sx = ( x +0.0).sum()\n",
      "    sy = ( y +0.0).sum()\n",
      "    sx2 = ( x*x +0.0).sum()\n",
      "    n = len( x )\n",
      "    m = ( n * sxy - sx * sy ) / ( n * sx2 - sx*sx)\n",
      "    b = ( sy - m * sx ) / n\n",
      "    return m,b\n"
     ]
    },
    {
     "cell_type": "code",
     "collapsed": false,
     "input": [
      "x = arange(100)\n",
      "y = arange(100) + 10*random.rand(100)\n",
      "\n",
      "mat = zeros((100,2))\n",
      "mat[:,0] = x;\n",
      "mat[:,1] = y\n",
      "\n",
      "akando.PlotMultiple('plot.txt',mat)\n",
      "\n",
      "m,b = akando.linearRegression(x,y)\n",
      "m,b\n",
      "\n",
      "\n"
     ],
     "language": "python",
     "metadata": {},
     "outputs": [
      {
       "metadata": {},
       "output_type": "pyout",
       "prompt_number": 59,
       "text": [
        "(0.99907604905610059, 5.3732095433803257)"
       ]
      }
     ],
     "prompt_number": 59
    },
    {
     "cell_type": "markdown",
     "metadata": {},
     "source": [
      "# Code 4-14\n",
      "def Circle( size, loc,rad):\n",
      "    # size is (v,h) of size of array\n",
      "    # loc is (v,h) of circle location\n",
      "    # rad is integer of radius\n",
      "    # returns matrix with binary values.  Circle is filled with 1\n",
      "    b1,b2 = indices( size )\n",
      "    b1,b2 = b1-loc[0], b2-loc[1]\n",
      "    mask = b1*b1 + b2*b2\n",
      "    mask = less_equal( mask, rad*rad ).astype(int)\n",
      "    return mask\n",
      "    \n",
      "def WedgeFilter( vh, t1, t2 ):\n",
      "    \"\"\"in degrees\"\"\"\n",
      "    ans = zeros( vh )\n",
      "    ndx = indices( vh ).astype(float)\n",
      "    ndx[0] = ndx[0] - vh[0]/2\n",
      "    ndx[1] = ndx[1] - vh[1]/2\n",
      "    # watch out for divide by zero\n",
      "    mask = equal( ndx[0], 0 )\n",
      "    ndx[0] = (1-mask)*ndx[0] + mask*1e-10\n",
      "    # compute the angles\n",
      "    ans = arctan( ndx[1] / ndx[0] )\n",
      "    # mask off the angle\n",
      "    ans = ans + pi/2    # scales from 0 to pi\n",
      "    mask = greater_equal( ans, t1/180.*pi )\n",
      "    mask2 = less( ans, t2/180.*pi )\n",
      "    mask = logical_and( mask, mask2).astype(int)\n",
      "    return mask"
     ]
    },
    {
     "cell_type": "heading",
     "level": 3,
     "metadata": {},
     "source": [
      "4.1.3 Correalation"
     ]
    },
    {
     "cell_type": "markdown",
     "metadata": {},
     "source": [
      "########  Section 3. Correlations\n",
      "#  Code 4-17\n",
      "# performs a correlation between two vectors or two matrices\n",
      "# returns correlation.\n",
      "def Correlate( a, b ):\n",
      "    # performs Fourier space correlation\n",
      "    n = len( a.shape )\n",
      "    if n==1:\n",
      "        A = fftpack.fft(a)\n",
      "        B = fftpack.fft(b)\n",
      "        C = A * conjugate( B )\n",
      "        d = fftpack.ifft( C );\n",
      "        d = Swap(d);\n",
      "    if n==2:\n",
      "        A = fftpack.fft2(a) \n",
      "        B = fftpack.fft2(b)\n",
      "        C = A * conjugate( B )\n",
      "        d = fftpack.ifft2( C )\n",
      "        d = Swap(d)\n",
      "    return d\n",
      "\n",
      "# Code 4-17\n",
      "# swaps half-segments of vectors or quadrants of matrices\n",
      "# A: input array\n",
      "# returns swapped array\n",
      "def Swap( A ):\n",
      "    #performs a quadrant swap\n",
      "    if len(A.shape) == 2:\n",
      "        (v,h) = A.shape\n",
      "        ans = zeros(A.shape,A.dtype)\n",
      "        ans[0:v/2,0:h/2] = A[v/2:v,h/2:h]\n",
      "        ans[0:v/2,h/2:h] = A[v/2:v,0:h/2]\n",
      "        ans[v/2:v,h/2:h] = A[0:v/2,0:h/2]\n",
      "        ans[v/2:v,0:h/2] = A[0:v/2,h/2:h]\n",
      "    # perform a vector swap\n",
      "    if len(A.shape) ==1 :\n",
      "        v = A.shape[0]\n",
      "        ans = zeros(A.shape,A.dtype)\n",
      "        if v%2==0:\t# even number of elements\n",
      "            ans[0:v/2] = A[v/2:v]\n",
      "            ans[v/2:v] = A[0:v/2]\n",
      "        else:\t\t# odd number of elements\n",
      "            ans[0:v/2] = A[v-v/2:v]\n",
      "            ans[v/2:v] = A[0:v/2+1]\n",
      "    return ans"
     ]
    },
    {
     "cell_type": "heading",
     "level": 2,
     "metadata": {},
     "source": [
      "4.2 The Dancer Module"
     ]
    },
    {
     "cell_type": "code",
     "collapsed": false,
     "input": [
      "import os, sys, stat, re\n",
      "#os.chdir('C:\\Users\\EPOCH\\Documents\\IPython Notebooks')\n",
      "#sys.path.append('pysrc')\n",
      "\n",
      "import dancer\n",
      "\n",
      "q = dancer.Dancer(os.getcwd())"
     ],
     "language": "python",
     "metadata": {},
     "outputs": [
      {
       "ename": "IOError",
       "evalue": "cannot identify image file 'startup.jpg'",
       "output_type": "pyerr",
       "traceback": [
        "\u001b[1;31m---------------------------------------------------------------------------\u001b[0m\n\u001b[1;31mIOError\u001b[0m                                   Traceback (most recent call last)",
        "\u001b[1;32m<ipython-input-2-78ed6850b712>\u001b[0m in \u001b[0;36m<module>\u001b[1;34m()\u001b[0m\n\u001b[0;32m      5\u001b[0m \u001b[1;32mimport\u001b[0m \u001b[0mdancer\u001b[0m\u001b[1;33m\u001b[0m\u001b[0m\n\u001b[0;32m      6\u001b[0m \u001b[1;33m\u001b[0m\u001b[0m\n\u001b[1;32m----> 7\u001b[1;33m \u001b[0mq\u001b[0m \u001b[1;33m=\u001b[0m \u001b[0mdancer\u001b[0m\u001b[1;33m.\u001b[0m\u001b[0mDancer\u001b[0m\u001b[1;33m(\u001b[0m\u001b[0mos\u001b[0m\u001b[1;33m.\u001b[0m\u001b[0mgetcwd\u001b[0m\u001b[1;33m(\u001b[0m\u001b[1;33m)\u001b[0m\u001b[1;33m)\u001b[0m\u001b[1;33m\u001b[0m\u001b[0m\n\u001b[0m",
        "\u001b[1;32mC:\\Users\\EPOCH\\Documents\\IPython Notebooks\\dancer.pyc\u001b[0m in \u001b[0;36m__init__\u001b[1;34m(self, JPY)\u001b[0m\n\u001b[0;32m     20\u001b[0m         \u001b[0mself\u001b[0m\u001b[1;33m.\u001b[0m\u001b[0mtp\u001b[0m \u001b[1;33m=\u001b[0m \u001b[1;33m[\u001b[0m \u001b[0mTkinter\u001b[0m\u001b[1;33m.\u001b[0m\u001b[0mToplevel\u001b[0m\u001b[1;33m(\u001b[0m\u001b[0mself\u001b[0m\u001b[1;33m.\u001b[0m\u001b[0mrt\u001b[0m\u001b[1;33m,\u001b[0m\u001b[0mvisual\u001b[0m\u001b[1;33m=\u001b[0m\u001b[1;34m\"best\"\u001b[0m\u001b[1;33m)\u001b[0m\u001b[1;33m]\u001b[0m\u001b[1;33m\u001b[0m\u001b[0m\n\u001b[0;32m     21\u001b[0m         \u001b[0mself\u001b[0m\u001b[1;33m.\u001b[0m\u001b[0mtp\u001b[0m\u001b[1;33m[\u001b[0m\u001b[1;36m0\u001b[0m\u001b[1;33m]\u001b[0m\u001b[1;33m.\u001b[0m\u001b[0mtitle\u001b[0m\u001b[1;33m(\u001b[0m\u001b[1;34m'Image #1'\u001b[0m\u001b[1;33m)\u001b[0m\u001b[1;33m\u001b[0m\u001b[0m\n\u001b[1;32m---> 22\u001b[1;33m         \u001b[0mself\u001b[0m\u001b[1;33m.\u001b[0m\u001b[0mmg\u001b[0m \u001b[1;33m=\u001b[0m \u001b[1;33m[\u001b[0m \u001b[0mImage\u001b[0m\u001b[1;33m.\u001b[0m\u001b[0mopen\u001b[0m\u001b[1;33m(\u001b[0m \u001b[0mJPY\u001b[0m \u001b[1;33m+\u001b[0m \u001b[1;34m'startup.jpg'\u001b[0m\u001b[1;33m)\u001b[0m\u001b[1;33m]\u001b[0m\u001b[1;33m\u001b[0m\u001b[0m\n\u001b[0m\u001b[0;32m     23\u001b[0m         \u001b[0mself\u001b[0m\u001b[1;33m.\u001b[0m\u001b[0mph\u001b[0m \u001b[1;33m=\u001b[0m \u001b[1;33m[\u001b[0m \u001b[0mImageTk\u001b[0m\u001b[1;33m.\u001b[0m\u001b[0mPhotoImage\u001b[0m\u001b[1;33m(\u001b[0m \u001b[0mself\u001b[0m\u001b[1;33m.\u001b[0m\u001b[0mmg\u001b[0m\u001b[1;33m[\u001b[0m\u001b[1;36m0\u001b[0m\u001b[1;33m]\u001b[0m\u001b[1;33m)\u001b[0m \u001b[1;33m]\u001b[0m\u001b[1;33m\u001b[0m\u001b[0m\n\u001b[0;32m     24\u001b[0m         \u001b[0mself\u001b[0m\u001b[1;33m.\u001b[0m\u001b[0mlb\u001b[0m \u001b[1;33m=\u001b[0m \u001b[1;33m[\u001b[0m \u001b[0mTkinter\u001b[0m\u001b[1;33m.\u001b[0m\u001b[0mLabel\u001b[0m\u001b[1;33m(\u001b[0m \u001b[0mself\u001b[0m\u001b[1;33m.\u001b[0m\u001b[0mtp\u001b[0m\u001b[1;33m[\u001b[0m\u001b[1;36m0\u001b[0m\u001b[1;33m]\u001b[0m\u001b[1;33m,\u001b[0m \u001b[0mimage\u001b[0m \u001b[1;33m=\u001b[0m \u001b[0mself\u001b[0m\u001b[1;33m.\u001b[0m\u001b[0mph\u001b[0m\u001b[1;33m[\u001b[0m\u001b[1;36m0\u001b[0m\u001b[1;33m]\u001b[0m \u001b[1;33m)\u001b[0m \u001b[1;33m]\u001b[0m\u001b[1;33m\u001b[0m\u001b[0m\n",
        "\u001b[1;32mC:\\Users\\EPOCH\\Anaconda\\lib\\site-packages\\PIL\\Image.pyc\u001b[0m in \u001b[0;36mopen\u001b[1;34m(fp, mode)\u001b[0m\n\u001b[0;32m   2286\u001b[0m \u001b[1;33m\u001b[0m\u001b[0m\n\u001b[0;32m   2287\u001b[0m     raise IOError(\"cannot identify image file %r\"\n\u001b[1;32m-> 2288\u001b[1;33m                   % (filename if filename else fp))\n\u001b[0m\u001b[0;32m   2289\u001b[0m \u001b[1;33m\u001b[0m\u001b[0m\n\u001b[0;32m   2290\u001b[0m \u001b[1;33m\u001b[0m\u001b[0m\n",
        "\u001b[1;31mIOError\u001b[0m: cannot identify image file 'startup.jpg'"
       ]
      }
     ],
     "prompt_number": 2
    },
    {
     "cell_type": "code",
     "collapsed": false,
     "input": [
      "#assume that Dancer has been loaded\n",
      "for i in range(10):\n",
      "    data = Your Computation for this array\n",
      "    mg = akando.a2i(data) #convert to an image\n",
      "    q.Pasete(mg,1) #Display image in window\n",
      "    \n",
      "    "
     ],
     "language": "python",
     "metadata": {},
     "outputs": [
      {
       "ename": "SyntaxError",
       "evalue": "invalid syntax (<ipython-input-74-dd7892c52ac1>, line 3)",
       "output_type": "pyerr",
       "traceback": [
        "\u001b[1;36m  File \u001b[1;32m\"<ipython-input-74-dd7892c52ac1>\"\u001b[1;36m, line \u001b[1;32m3\u001b[0m\n\u001b[1;33m    data = Your Computation for this array\u001b[0m\n\u001b[1;37m                          ^\u001b[0m\n\u001b[1;31mSyntaxError\u001b[0m\u001b[1;31m:\u001b[0m invalid syntax\n"
       ]
      }
     ],
     "prompt_number": 74
    },
    {
     "cell_type": "code",
     "collapsed": false,
     "input": [],
     "language": "python",
     "metadata": {},
     "outputs": []
    }
   ],
   "metadata": {}
  }
 ]
}