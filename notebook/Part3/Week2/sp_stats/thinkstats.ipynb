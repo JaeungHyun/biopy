{
 "metadata": {
  "name": "",
  "signature": "sha256:6c0e79cee767b201ae7314052a9390fdee49902ddab2cfcc63cd85e91041c076"
 },
 "nbformat": 3,
 "nbformat_minor": 0,
 "worksheets": [
  {
   "cells": [
    {
     "cell_type": "heading",
     "level": 1,
     "metadata": {},
     "source": [
      "Think Stats \ud504\ub85c\uadf8\ub798\uba38\ub97c \uc704\ud55c \ud1b5\uacc4 \ubc0f \ub370\uc774\ud130 \ubd84\uc11d \ubc29\ubc95"
     ]
    },
    {
     "cell_type": "markdown",
     "metadata": {},
     "source": [
      "\ucc28\ub840 \n",
      "\n",
      "ch01 \ud504\ub85c\uadf8\ub798\uba38\ub97c \uc704\ud55c \ud1b5\uacc4\uc801 \uc0ac\uace0\n",
      "\n",
      "ch02. \uae30\uc220 \ud1b5\uacc4\n",
      "\n",
      "ch03 \ub204\uc801 \ubd84\ud3ec \ud568\uc218\n",
      "\n",
      "ch04 \uc5f0\uc18d \ubd84\ud3ec\n",
      "\n",
      "ch05 \ud655\ub960\n",
      "\n",
      "ch06 \ubd84\ud3ec\uc5d0 \ub300\ud55c \uc5f0\uc0b0\n",
      "\n",
      "ch07 \uac00\uc124 \uac80\uc815(\uac80\uc99d)\n",
      "\n",
      "ch08  \ucd94\uc815\n",
      "\n",
      "ch09 \uc0c1\uad00"
     ]
    },
    {
     "cell_type": "heading",
     "level": 2,
     "metadata": {},
     "source": [
      "1. \ud504\ub85c\uadf8\ub798\uba38\ub97c \uc704\ud55c \ud1b5\uacc4\uc801 \uc0ac\uace0"
     ]
    },
    {
     "cell_type": "heading",
     "level": 3,
     "metadata": {},
     "source": [
      "\u2018\uc804\ubbf8 \uac00\uc871 \uc131\uc7a5 \uc870\uc0acNational Survey of Family Growth, NSFG(\uc774\ud558 NSFG)\u2019"
     ]
    },
    {
     "cell_type": "code",
     "collapsed": false,
     "input": [
      "!ls booksrc/*.dat.gz"
     ],
     "language": "python",
     "metadata": {},
     "outputs": [
      {
       "output_type": "stream",
       "stream": "stdout",
       "text": [
        "booksrc/2002FemPreg.dat.gz  booksrc/2002FemResp.dat.gz\tbooksrc/2002Male.dat.gz\r\n"
       ]
      }
     ],
     "prompt_number": 37
    },
    {
     "cell_type": "code",
     "collapsed": false,
     "input": [
      "!python booksrc/survey.py "
     ],
     "language": "python",
     "metadata": {},
     "outputs": [
      {
       "output_type": "stream",
       "stream": "stdout",
       "text": [
        "Number of respondents 7643\r\n"
       ]
      },
      {
       "output_type": "stream",
       "stream": "stdout",
       "text": [
        "Number of pregnancies 13593\r\n"
       ]
      }
     ],
     "prompt_number": 24
    },
    {
     "cell_type": "code",
     "collapsed": false,
     "input": [
      "!cat booksrc/survey.py"
     ],
     "language": "python",
     "metadata": {},
     "outputs": [
      {
       "output_type": "stream",
       "stream": "stdout",
       "text": [
        "\"\"\"This file contains code for use with \"Think Stats\",\r\n",
        "by Allen B. Downey, available from greenteapress.com\r\n",
        "\r\n",
        "Copyright 2010 Allen B. Downey\r\n",
        "License: GNU GPLv3 http://www.gnu.org/licenses/gpl.html\r\n",
        "\"\"\"\r\n",
        "\r\n",
        "import sys\r\n",
        "import gzip\r\n",
        "import os\r\n",
        "\r\n",
        "class Record(object):\r\n",
        "    \"\"\"Represents a record.\"\"\"\r\n",
        "\r\n",
        "class Respondent(Record): \r\n",
        "    \"\"\"Represents a respondent.\"\"\"\r\n",
        "\r\n",
        "class Pregnancy(Record):\r\n",
        "    \"\"\"Represents a pregnancy.\"\"\"\r\n",
        "\r\n",
        "class Table(object):\r\n",
        "    \"\"\"Represents a table as a list of objects\"\"\"\r\n",
        "\r\n",
        "    def __init__(self):\r\n",
        "        self.records = []\r\n",
        "        \r\n",
        "    def __len__(self):\r\n",
        "        return len(self.records)\r\n",
        "\r\n",
        "    def ReadFile(self, data_dir, filename, fields, constructor, n=None):\r\n",
        "        \"\"\"Reads a compressed data file builds one object per record.\r\n",
        "\r\n",
        "        Args:\r\n",
        "            data_dir: string directory name\r\n",
        "            filename: string name of the file to read\r\n",
        "\r\n",
        "            fields: sequence of (name, start, end, case) tuples specifying \r\n",
        "            the fields to extract\r\n",
        "\r\n",
        "            constructor: what kind of object to create\r\n",
        "        \"\"\"\r\n",
        "        filename = os.path.join(data_dir, filename)\r\n",
        "\r\n",
        "        if filename.endswith('gz'):\r\n",
        "            fp = gzip.open(filename)\r\n",
        "        else:\r\n",
        "            fp = open(filename)\r\n",
        "\r\n",
        "        for i, line in enumerate(fp):\r\n",
        "            if i == n:\r\n",
        "                break\r\n",
        "            record = self.MakeRecord(line, fields, constructor)\r\n",
        "            self.AddRecord(record)\r\n",
        "        fp.close()\r\n",
        "\r\n",
        "    def MakeRecord(self, line, fields, constructor):\r\n",
        "        \"\"\"Scans a line and returns an object with the appropriate fields.\r\n",
        "\r\n",
        "        Args:\r\n",
        "            line: string line from a data file\r\n",
        "\r\n",
        "            fields: sequence of (name, start, end, cast) tuples specifying \r\n",
        "            the fields to extract\r\n",
        "\r\n",
        "            constructor: callable that makes an object for the record.\r\n",
        "\r\n",
        "        Returns:\r\n",
        "            Record with appropriate fields.\r\n",
        "        \"\"\"\r\n",
        "        obj = constructor()\r\n",
        "        for (field, start, end, cast) in fields:\r\n",
        "            try:\r\n",
        "                s = line[start-1:end]\r\n",
        "                val = cast(s)\r\n",
        "            except ValueError:\r\n",
        "                # If you are using Visual Studio, you might see an\r\n",
        "                # \"error\" at this point, but it is not really an error;\r\n",
        "                # I am just using try...except to handle not-available (NA)\r\n",
        "                # data.  You should be able to tell Visual Studio to\r\n",
        "                # ignore this non-error.\r\n",
        "                val = 'NA'\r\n",
        "            setattr(obj, field, val)\r\n",
        "        return obj\r\n",
        "\r\n",
        "    def AddRecord(self, record):\r\n",
        "        \"\"\"Adds a record to this table.\r\n",
        "\r\n",
        "        Args:\r\n",
        "            record: an object of one of the record types.\r\n",
        "        \"\"\"\r\n",
        "        self.records.append(record)\r\n",
        "\r\n",
        "    def ExtendRecords(self, records):\r\n",
        "        \"\"\"Adds records to this table.\r\n",
        "\r\n",
        "        Args:\r\n",
        "            records: a sequence of record object\r\n",
        "        \"\"\"\r\n",
        "        self.records.extend(records)\r\n",
        "\r\n",
        "    def Recode(self):\r\n",
        "        \"\"\"Child classes can override this to recode values.\"\"\"\r\n",
        "        pass\r\n",
        "\r\n",
        "\r\n",
        "class Respondents(Table):\r\n",
        "    \"\"\"Represents the respondent table.\"\"\"\r\n",
        "\r\n",
        "    def ReadRecords(self, data_dir='.', n=None):\r\n",
        "        filename = self.GetFilename()\r\n",
        "        self.ReadFile(data_dir, filename, self.GetFields(), Respondent, n)\r\n",
        "        self.Recode()\r\n",
        "\r\n",
        "    def GetFilename(self):\r\n",
        "        return '2002FemResp.dat.gz'\r\n",
        "\r\n",
        "    def GetFields(self):\r\n",
        "        \"\"\"Returns a tuple specifying the fields to extract.\r\n",
        "\r\n",
        "        The elements of the tuple are field, start, end, case.\r\n",
        "\r\n",
        "                field is the name of the variable\r\n",
        "                start and end are the indices as specified in the NSFG docs\r\n",
        "                cast is a callable that converts the result to int, float, etc.\r\n",
        "        \"\"\"\r\n",
        "        return [\r\n",
        "            ('caseid', 1, 12, int),\r\n",
        "            ]\r\n",
        "\r\n",
        "class Pregnancies(Table):\r\n",
        "    \"\"\"Contains survey data about a Pregnancy.\"\"\"\r\n",
        "\r\n",
        "    def ReadRecords(self, data_dir='.', n=None):\r\n",
        "        filename = self.GetFilename()\r\n",
        "        self.ReadFile(data_dir, filename, self.GetFields(), Pregnancy, n)\r\n",
        "        self.Recode()\r\n",
        "\r\n",
        "    def GetFilename(self):\r\n",
        "        return '2002FemPreg.dat.gz'\r\n",
        "\r\n",
        "    def GetFields(self):\r\n",
        "        \"\"\"Gets information about the fields to extract from the survey data.\r\n",
        "\r\n",
        "        Documentation of the fields for Cycle 6 is at\r\n",
        "        http://nsfg.icpsr.umich.edu/cocoon/WebDocs/NSFG/public/index.htm\r\n",
        "\r\n",
        "        Returns:\r\n",
        "            sequence of (name, start, end, type) tuples\r\n",
        "        \"\"\"\r\n",
        "        return [\r\n",
        "            ('caseid', 1, 12, int),\r\n",
        "            ('nbrnaliv', 22, 22, int),\r\n",
        "            ('babysex', 56, 56, int),\r\n",
        "            ('birthwgt_lb', 57, 58, int),\r\n",
        "            ('birthwgt_oz', 59, 60, int),\r\n",
        "            ('prglength', 275, 276, int),\r\n",
        "            ('outcome', 277, 277, int),\r\n",
        "            ('birthord', 278, 279, int),\r\n",
        "            ('agepreg', 284, 287, int),\r\n",
        "            ('finalwgt', 423, 440, float),\r\n",
        "            ]\r\n",
        "\r\n",
        "    def Recode(self):\r\n",
        "        for rec in self.records:\r\n",
        "\r\n",
        "            # divide mother's age by 100\r\n",
        "            try:\r\n",
        "                if rec.agepreg != 'NA':\r\n",
        "                    rec.agepreg /= 100.0\r\n",
        "            except AttributeError:\r\n",
        "                pass\r\n",
        "\r\n",
        "            # convert weight at birth from lbs/oz to total ounces\r\n",
        "            # note: there are some very low birthweights\r\n",
        "            # that are almost certainly errors, but for now I am not\r\n",
        "            # filtering\r\n",
        "            try:\r\n",
        "                if (rec.birthwgt_lb != 'NA' and rec.birthwgt_lb < 20 and\r\n",
        "                    rec.birthwgt_oz != 'NA' and rec.birthwgt_oz <= 16):\r\n",
        "                    rec.totalwgt_oz = rec.birthwgt_lb * 16 + rec.birthwgt_oz\r\n",
        "                else:\r\n",
        "                    rec.totalwgt_oz = 'NA'\r\n",
        "            except AttributeError:\r\n",
        "                pass\r\n",
        "\r\n",
        "\r\n",
        "def main(name, data_dir='.'):\r\n",
        "    resp = Respondents()\r\n",
        "    resp.ReadRecords(data_dir)\r\n",
        "    print 'Number of respondents', len(resp.records)\r\n",
        "\r\n",
        "    preg = Pregnancies()\r\n",
        "    preg.ReadRecords(data_dir)\r\n",
        "    print 'Number of pregnancies', len(preg.records)\r\n",
        "\r\n",
        "    \r\n",
        "if __name__ == '__main__':\r\n",
        "    main(*sys.argv)\r\n"
       ]
      }
     ],
     "prompt_number": 38
    },
    {
     "cell_type": "heading",
     "level": 4,
     "metadata": {},
     "source": [
      "first.py"
     ]
    },
    {
     "cell_type": "code",
     "collapsed": false,
     "input": [
      "import sys, os\n",
      "sys.path.append(os.path.abspath('./booksrc'))\n",
      "\n",
      "import survey\n",
      "table = survey.Pregnancies()\n",
      "table.ReadRecords('./booksrc')\n",
      "print 'Number of pregnancies', len(table.records)"
     ],
     "language": "python",
     "metadata": {},
     "outputs": [
      {
       "output_type": "stream",
       "stream": "stdout",
       "text": [
        "Number of pregnancies 13593\n"
       ]
      }
     ],
     "prompt_number": 3
    },
    {
     "cell_type": "heading",
     "level": 2,
     "metadata": {},
     "source": [
      "2. \uae30\uc220 \ud1b5\uacc4"
     ]
    },
    {
     "cell_type": "code",
     "collapsed": false,
     "input": [
      "# 2.4 \ud788\uc2a4\ud1a0\uadf8\ub7a8\uc73c\ub85c \ud45c\ud604\ud558\uae30\n",
      "import Pmf\n",
      "hist = Pmf.MakeHistFromList([1,2,2,3,5])\n",
      "print hist"
     ],
     "language": "python",
     "metadata": {},
     "outputs": [
      {
       "output_type": "stream",
       "stream": "stdout",
       "text": [
        "<Pmf.Hist object at 0x386e150>\n"
       ]
      }
     ],
     "prompt_number": 41
    },
    {
     "cell_type": "code",
     "collapsed": false,
     "input": [
      "hist.Freq(2)"
     ],
     "language": "python",
     "metadata": {},
     "outputs": [
      {
       "metadata": {},
       "output_type": "pyout",
       "prompt_number": 42,
       "text": [
        "2"
       ]
      }
     ],
     "prompt_number": 42
    },
    {
     "cell_type": "code",
     "collapsed": false,
     "input": [
      "hist.Freq(4)"
     ],
     "language": "python",
     "metadata": {},
     "outputs": [
      {
       "metadata": {},
       "output_type": "pyout",
       "prompt_number": 43,
       "text": [
        "0"
       ]
      }
     ],
     "prompt_number": 43
    },
    {
     "cell_type": "code",
     "collapsed": false,
     "input": [
      "hist.Values()"
     ],
     "language": "python",
     "metadata": {},
     "outputs": [
      {
       "metadata": {},
       "output_type": "pyout",
       "prompt_number": 44,
       "text": [
        "[1, 2, 3, 5]"
       ]
      }
     ],
     "prompt_number": 44
    },
    {
     "cell_type": "code",
     "collapsed": false,
     "input": [
      "#2.5 \ud788\uc2a4\ud1a0\uadf8\ub7a8 \uadf8\ub9ac\uae30"
     ],
     "language": "python",
     "metadata": {},
     "outputs": [],
     "prompt_number": 45
    },
    {
     "cell_type": "code",
     "collapsed": false,
     "input": [
      "# matplotlib \uc774\uc6a9\ud55c \uadf8\ub798\ud504 \uadf8\ub9ac\uae30 \uc608\uc81c\n",
      "import matplotlib.pyplot as pyplot\n",
      "pyplot.pie([1,2,3])\n",
      "pyplot.show()"
     ],
     "language": "python",
     "metadata": {},
     "outputs": [
      {
       "metadata": {},
       "output_type": "display_data",
       "png": "[encoded data removed]",
       "text": [
        "<matplotlib.figure.Figure at 0x3dee290>"
       ]
      }
     ],
     "prompt_number": 6
    },
    {
     "cell_type": "code",
     "collapsed": false,
     "input": [
      "# \ud788\uc2a4\ud1a0\uadf8\ub7a8 \uadf8\ub9ac\uae30\n",
      "vals, freqs = hist.Render()\n",
      "rectangles = pyplot.bar(vals, freqs)\n",
      "pyplot.show()"
     ],
     "language": "python",
     "metadata": {},
     "outputs": [
      {
       "metadata": {},
       "output_type": "display_data",
       "png": "[encoded data removed]",
       "text": [
        "<matplotlib.figure.Figure at 0x3859410>"
       ]
      }
     ],
     "prompt_number": 47
    },
    {
     "cell_type": "code",
     "collapsed": false,
     "input": [
      "import descriptive as desc\n",
      "\n",
      "pool, firsts, others = desc.MakeTables('booksrc')\n",
      "desc.Summarize(pool, firsts, others)\n",
      "desc.MakeFigures(firsts, others)\n",
      "desc.MakeDiffFigure(firsts, others)"
     ],
     "language": "python",
     "metadata": {},
     "outputs": [
      {
       "output_type": "stream",
       "stream": "stdout",
       "text": [
        "\n",
        "Variance\n",
        "First babies 7.79294720207\n",
        "Others 6.84123839078\n",
        "Difference in mean 0.0780372667775\n",
        "Pooled mean 38.5605596852\n",
        "Pooled variance 7.3018637882\n",
        "Pooled sigma 2.70219610469\n",
        "38.6009517335 38.5229144667\n",
        "38.6834682081 38.6108597285\n",
        "Shortest lengths:\n",
        "0 1\n",
        "4 1\n",
        "9 1\n",
        "13 1\n",
        "17 2\n",
        "18 1\n",
        "19 1\n",
        "20 1\n",
        "21 2\n",
        "22 7\n",
        "Longest lengths:\n",
        "40 1116\n",
        "41 587\n",
        "42 328\n",
        "43 148\n",
        "44 46\n",
        "45 10\n",
        "46 1\n",
        "47 1\n",
        "48 7\n",
        "50 2\n",
        "Writing"
       ]
      },
      {
       "output_type": "stream",
       "stream": "stdout",
       "text": [
        " nsfg_hist.pdf\n",
        "Writing"
       ]
      },
      {
       "output_type": "stream",
       "stream": "stdout",
       "text": [
        " nsfg_hist.eps\n",
        "Writing"
       ]
      },
      {
       "output_type": "stream",
       "stream": "stdout",
       "text": [
        " nsfg_pmf.pdf\n",
        "Writing"
       ]
      },
      {
       "output_type": "stream",
       "stream": "stdout",
       "text": [
        " nsfg_pmf.eps\n",
        "Writing"
       ]
      },
      {
       "output_type": "stream",
       "stream": "stdout",
       "text": [
        " nsfg_diffs.pdf\n",
        "Writing"
       ]
      },
      {
       "output_type": "stream",
       "stream": "stdout",
       "text": [
        " nsfg_diffs.eps\n"
       ]
      },
      {
       "metadata": {},
       "output_type": "display_data",
       "text": [
        "<matplotlib.figure.Figure at 0x4b23290>"
       ]
      }
     ],
     "prompt_number": 52
    },
    {
     "cell_type": "code",
     "collapsed": false,
     "input": [
      "!ls booksrc/*.pdf"
     ],
     "language": "python",
     "metadata": {},
     "outputs": [
      {
       "output_type": "stream",
       "stream": "stdout",
       "text": [
        "booksrc/nsfg_diffs.pdf\tbooksrc/nsfg_hist.pdf  booksrc/nsfg_pmf.pdf\r\n"
       ]
      }
     ],
     "prompt_number": 50
    },
    {
     "cell_type": "code",
     "collapsed": false,
     "input": [
      "#!pip install Wand"
     ],
     "language": "python",
     "metadata": {},
     "outputs": [
      {
       "output_type": "stream",
       "stream": "stdout",
       "text": [
        "Downloading/unpacking Wand\r\n"
       ]
      },
      {
       "output_type": "stream",
       "stream": "stdout",
       "text": [
        "  Downloading Wand-0.3.8.tar.gz (43kB): \r",
        "  Downloading Wand-0.3.8.tar.gz (43kB):   9%  4.1kB\r",
        "  Downloading Wand-0.3.8.tar.gz (43kB):  18%  8.2kB"
       ]
      },
      {
       "output_type": "stream",
       "stream": "stdout",
       "text": [
        "\r",
        "  Downloading Wand-0.3.8.tar.gz (43kB):  28%  12kB \r",
        "  Downloading Wand-0.3.8.tar.gz (43kB):  37%  16kB\r",
        "  Downloading Wand-0.3.8.tar.gz (43kB):  46%  20kB\r",
        "  Downloading Wand-0.3.8.tar.gz (43kB):  56%  24kB"
       ]
      },
      {
       "output_type": "stream",
       "stream": "stdout",
       "text": [
        "\r",
        "  Downloading Wand-0.3.8.tar.gz (43kB):  65%  28kB\r",
        "  Downloading Wand-0.3.8.tar.gz (43kB):  75%  32kB\r",
        "  Downloading Wand-0.3.8.tar.gz (43kB):  84%  36kB\r",
        "  Downloading Wand-0.3.8.tar.gz (43kB):  93%  40kB\r",
        "  Downloading Wand-0.3.8.tar.gz (43kB): 100%  43kB\r",
        "  Downloading Wand-0.3.8.tar.gz (43kB):           \r",
        "  Downloading Wand-0.3.8.tar.gz (43kB): 43kB downloaded\r\n"
       ]
      },
      {
       "output_type": "stream",
       "stream": "stdout",
       "text": [
        "  Running setup.py (path:/home/moodern/.venv/nlp/build/Wand/setup.py) egg_info for package Wand\r\n"
       ]
      },
      {
       "output_type": "stream",
       "stream": "stdout",
       "text": [
        "    \r\n"
       ]
      },
      {
       "output_type": "stream",
       "stream": "stdout",
       "text": [
        "Installing collected packages: Wand\r\n",
        "  Running setup.py install for Wand\r\n"
       ]
      },
      {
       "output_type": "stream",
       "stream": "stdout",
       "text": [
        "    \r\n"
       ]
      },
      {
       "output_type": "stream",
       "stream": "stdout",
       "text": [
        "Successfully installed Wand\r\n",
        "Cleaning up...\r\n"
       ]
      }
     ],
     "prompt_number": 53
    },
    {
     "cell_type": "code",
     "collapsed": false,
     "input": [
      "# pdf\ub97c \ubc14\ub85c \uc77d\uc744 \uc218\uac00 \uc5c6\uc5b4\uc11c(matplotlib\uc5d0\uc11c\ub294)\n",
      "from wand.image import Image as WImage\n",
      "img = WImage(filename='nsfg_hist.pdf')\n",
      "img"
     ],
     "language": "python",
     "metadata": {},
     "outputs": [
      {
       "metadata": {},
       "output_type": "pyout",
       "png": "[encoded data removed]",
       "prompt_number": 2,
       "text": [
        "<wand.image.Image: f6764e3 'PDF' (432x288)>"
       ]
      }
     ],
     "prompt_number": 2
    },
    {
     "cell_type": "code",
     "collapsed": false,
     "input": [
      "img = WImage(filename='nsfg_pmf.pdf')\n",
      "img"
     ],
     "language": "python",
     "metadata": {},
     "outputs": [
      {
       "metadata": {},
       "output_type": "pyout",
       "png": "[encoded data removed]",
       "prompt_number": 64,
       "text": [
        "<wand.image.Image: 009d0b2 'PDF' (432x288)>"
       ]
      }
     ],
     "prompt_number": 64
    },
    {
     "cell_type": "code",
     "collapsed": false,
     "input": [
      "img = WImage(filename='nsfg_diffs.pdf')\n",
      "img"
     ],
     "language": "python",
     "metadata": {},
     "outputs": [
      {
       "metadata": {},
       "output_type": "pyout",
       "png": "[encoded data removed]",
       "prompt_number": 65,
       "text": [
        "<wand.image.Image: 0c5cbcb 'PDF' (432x288)>"
       ]
      }
     ],
     "prompt_number": 65
    },
    {
     "cell_type": "code",
     "collapsed": false,
     "input": [
      "# \uc0c1\ub300\uc704\ud5d8\ub3c4\n",
      "import risk\n",
      "\n",
      "pool, firsts, others = risk.descriptive.MakeTables('booksrc')\n",
      "risk.ComputeRelativeRisk(firsts.pmf, others.pmf)"
     ],
     "language": "python",
     "metadata": {},
     "outputs": [
      {
       "output_type": "stream",
       "stream": "stdout",
       "text": [
        "Risks:\n",
        "ProbEarly first babies 0.182415590301\n",
        "ProbEarly others 0.168321013728\n",
        "ProbOnTime first babies 0.662134602311\n",
        "ProbOnTime others 0.737909186906\n",
        "ProbLate first babies 0.155449807387\n",
        "ProbLate others 0.0937697993664\n",
        "\n",
        "Risk ratios (first babies / others):\n",
        "ProbEarly 1.08373628617\n",
        "ProbOnTime 0.897311775027\n",
        "ProbLate 1.65778116662\n"
       ]
      }
     ],
     "prompt_number": 58
    },
    {
     "cell_type": "code",
     "collapsed": false,
     "input": [
      "#2.11 \uc870\uac74\ubd80 \ud655\ub960\n",
      "import conditional as con\n",
      "\n",
      "pool, firsts, others = con.descriptive.MakeTables('booksrc')\n",
      "con.RelativeRisk(firsts, others)\n",
      "con.MakeFigure(firsts, others)"
     ],
     "language": "python",
     "metadata": {},
     "outputs": [
      {
       "output_type": "stream",
       "stream": "stdout",
       "text": [
        "<class 'survey.Pregnancies'>\n",
        "Risks:\n",
        "ProbEarly first babies 0.0\n",
        "ProbEarly others 0.0\n",
        "ProbOnTime first babies 0.809866962306\n",
        "ProbOnTime others 0.887252412392\n",
        "ProbLate first babies 0.190133037694\n",
        "ProbLate others 0.112747587608\n",
        "\n",
        "Risk ratios (first babies / others):\n",
        "ProbOnTime 0.912780794952\n",
        "ProbLate 1.68636014063\n",
        "35 0.0383409693755 first babies\n",
        "36 0.0431293881645 first babies\n",
        "37 0.0545073375262 first babies\n",
        "38 0.0753880266075 first babies\n",
        "39 0.633693045564 first babies\n",
        "40 0.438625204583 first babies\n",
        "41 0.524781341108 first babies\n",
        "42 0.628834355828 first babies\n",
        "43 0.719008264463 first babies\n",
        "44 0.676470588235 first babies\n",
        "45 0.545454545455 first babies\n",
        "35 0.0338831921534 others\n",
        "36 0.0343793262575 others\n",
        "37 0.0590203106332 others\n",
        "38 0.0850685627222 others\n",
        "39 0.715792395226 others\n",
        "40 0.56640625 others\n",
        "41 0.511261261261 others\n",
        "42 0.566820276498 others\n",
        "43 0.648936170213 others\n",
        "44 0.69696969697 others\n",
        "45 0.4 others\n",
        "first babies [0.03834096937545214, 0.043129388164493486, 0.05450733752620546, 0.07538802660753881, 0.6336930455635491, 0.4386252045826515, 0.5247813411078718, 0.6288343558282209, 0.71900826446281, 0.6764705882352942, 0.5454545454545455]\n",
        "others"
       ]
      },
      {
       "output_type": "stream",
       "stream": "stdout",
       "text": [
        " [0.033883192153366035, 0.03437932625749884, 0.059020310633213856, 0.085068562722194, 0.7157923952262003, 0.56640625, 0.5112612612612613, 0.5668202764976957, 0.6489361702127661, 0.696969696969697, 0.4]\n",
        "Writing conditional.pdf\n",
        "Writing"
       ]
      },
      {
       "output_type": "stream",
       "stream": "stdout",
       "text": [
        " conditional.eps\n"
       ]
      },
      {
       "metadata": {},
       "output_type": "display_data",
       "text": [
        "<matplotlib.figure.Figure at 0x386a410>"
       ]
      }
     ],
     "prompt_number": 59
    },
    {
     "cell_type": "code",
     "collapsed": false,
     "input": [
      "img = WImage(filename='conditional.pdf')\n",
      "img"
     ],
     "language": "python",
     "metadata": {},
     "outputs": [
      {
       "metadata": {},
       "output_type": "pyout",
       "png": "[encoded data removed]",
       "prompt_number": 66,
       "text": [
        "<wand.image.Image: 5f95a23 'PDF' (432x288)>"
       ]
      }
     ],
     "prompt_number": 66
    },
    {
     "cell_type": "heading",
     "level": 2,
     "metadata": {},
     "source": [
      "3. \ub204\uc801 \ubd84\ud3ec \ud568\uc218"
     ]
    },
    {
     "cell_type": "code",
     "collapsed": false,
     "input": [
      "#Exercise 3-1\n",
      "\n",
      "import class_size as cs\n",
      "\n",
      "cs.ClassSizes()"
     ],
     "language": "python",
     "metadata": {},
     "outputs": [
      {
       "output_type": "stream",
       "stream": "stdout",
       "text": [
        "mean 23.6923076923\n",
        "var 128.674556213\n",
        "mean 29.1233766234\n",
        "var 109.225037949\n",
        "mean 23.6923076923\n",
        "var 128.674556213\n"
       ]
      },
      {
       "metadata": {},
       "output_type": "display_data",
       "png": "[encoded data removed]",
       "text": [
        "<matplotlib.figure.Figure at 0x5af0c10>"
       ]
      }
     ],
     "prompt_number": 67
    },
    {
     "cell_type": "code",
     "collapsed": false,
     "input": [
      "#Exercise 3-2\n",
      "import relay\n",
      "\n",
      "results = relay.ReadResults()\n",
      "speeds = relay.GetSpeeds(results)\n",
      "pmf = relay.Pmf.MakePmfFromList(speeds, 'speeds')\n",
      "relay.myplot.Pmf(pmf)\n",
      "relay.myplot.Show(title='PMF of running speed',\n",
      "               xlabel='speed (mph)',\n",
      "               ylabel='probability')"
     ],
     "language": "python",
     "metadata": {},
     "outputs": [
      {
       "metadata": {},
       "output_type": "display_data",
       "png": "[encoded data removed]",
       "text": [
        "<matplotlib.figure.Figure at 0x5af5910>"
       ]
      }
     ],
     "prompt_number": 70
    },
    {
     "cell_type": "code",
     "collapsed": false,
     "input": [
      "#\uc774 \uadf8\ub8f9\uc758 \uc8fc\uc790\ub4e4\uc774 \uc2dc\uc18d 7.5\ub9c8\uc77c(7.5mph)\ub85c \ub9b4\ub808\uc774 \uacbd\uae30\ub97c \ub6f4\ub2e4\uace0 \ud560 \uacbd\uc6b0, \uc5ec\ub7ec\ubd84\uc774\n",
      "# \uad00\ucc30\ud560 \uc218 \uc788\ub294 \ubd84\ud3ec\ub97c \uc0b0\ucd9c\ud574 \ubcf4\uc790.\n",
      "import relay_soln\n",
      "relay_soln.main()"
     ],
     "language": "python",
     "metadata": {},
     "outputs": [
      {
       "output_type": "stream",
       "stream": "stdout",
       "text": [
        "Writing observed_speeds.pdf\n",
        "Writing"
       ]
      },
      {
       "output_type": "stream",
       "stream": "stdout",
       "text": [
        " observed_speeds.eps\n",
        "Writing"
       ]
      },
      {
       "output_type": "stream",
       "stream": "stdout",
       "text": [
        " observed_speeds_cdf.pdf\n",
        "Writing"
       ]
      },
      {
       "output_type": "stream",
       "stream": "stdout",
       "text": [
        " observed_speeds_cdf.eps\n"
       ]
      },
      {
       "metadata": {},
       "output_type": "display_data",
       "text": [
        "<matplotlib.figure.Figure at 0x6426a50>"
       ]
      }
     ],
     "prompt_number": 71
    },
    {
     "cell_type": "code",
     "collapsed": false,
     "input": [
      "img = WImage(filename='observed_speeds.pdf')\n",
      "img"
     ],
     "language": "python",
     "metadata": {},
     "outputs": [
      {
       "metadata": {},
       "output_type": "pyout",
       "png": "[encoded data removed]",
       "prompt_number": 74,
       "text": [
        "<wand.image.Image: 0aae974 'PDF' (432x288)>"
       ]
      }
     ],
     "prompt_number": 74
    },
    {
     "cell_type": "code",
     "collapsed": false,
     "input": [
      "img = WImage(filename='observed_speeds_cdf.pdf')\n",
      "img"
     ],
     "language": "python",
     "metadata": {},
     "outputs": [
      {
       "metadata": {},
       "output_type": "pyout",
       "png": "[encoded data removed]",
       "prompt_number": 75,
       "text": [
        "<wand.image.Image: 1c438ea 'PDF' (432x288)>"
       ]
      }
     ],
     "prompt_number": 75
    },
    {
     "cell_type": "code",
     "collapsed": false,
     "input": [
      "#3.2 PMF\uc758 \ud55c\uacc4"
     ],
     "language": "python",
     "metadata": {},
     "outputs": []
    },
    {
     "cell_type": "code",
     "collapsed": false,
     "input": [
      "#3.3 \ubc31\ubd84\uc704\uc218"
     ],
     "language": "python",
     "metadata": {},
     "outputs": []
    },
    {
     "cell_type": "code",
     "collapsed": false,
     "input": [
      "#Exercise 3-3\n",
      "!python booksrc/score_example.py"
     ],
     "language": "python",
     "metadata": {},
     "outputs": [
      {
       "output_type": "stream",
       "stream": "stdout",
       "text": [
        "score, percentile rank\r\n",
        "55 20.0\r\n",
        "66 40.0\r\n",
        "77 60.0\r\n",
        "88 80.0\r\n",
        "99 100.0\r\n",
        "\r\n",
        "prank, score, score\r\n",
        "0 55 55\r\n",
        "20 55 55\r\n",
        "25 66 66\r\n",
        "40 66 66\r\n",
        "50 77 77\r\n",
        "60 77 77\r\n",
        "75 88 88\r\n",
        "80 88 88\r\n",
        "100 99 99\r\n"
       ]
      }
     ],
     "prompt_number": 76
    },
    {
     "cell_type": "code",
     "collapsed": false,
     "input": [
      "#3.4 \ub204\uc801 \ubd84\ud3ec \ud568\uc218"
     ],
     "language": "python",
     "metadata": {},
     "outputs": []
    },
    {
     "cell_type": "code",
     "collapsed": false,
     "input": [
      "#3.5 CDF \ud45c\ud604\ud558\uae30"
     ],
     "language": "python",
     "metadata": {},
     "outputs": []
    },
    {
     "cell_type": "code",
     "collapsed": false,
     "input": [
      "#Exercise 3-5\n",
      "import relay_cdf\n",
      "\n",
      "relay_cdf.main()"
     ],
     "language": "python",
     "metadata": {},
     "outputs": [
      {
       "output_type": "stream",
       "stream": "stdout",
       "text": [
        "Writing relay_cdf.pdf\n",
        "Writing"
       ]
      },
      {
       "output_type": "stream",
       "stream": "stdout",
       "text": [
        " relay_cdf.eps\n"
       ]
      },
      {
       "metadata": {},
       "output_type": "display_data",
       "text": [
        "<matplotlib.figure.Figure at 0x4e3e750>"
       ]
      }
     ],
     "prompt_number": 77
    },
    {
     "cell_type": "code",
     "collapsed": false,
     "input": [
      "img = WImage(filename='relay_cdf.pdf')\n",
      "img"
     ],
     "language": "python",
     "metadata": {},
     "outputs": [
      {
       "metadata": {},
       "output_type": "pyout",
       "png": "[encoded data removed]",
       "prompt_number": 78,
       "text": [
        "<wand.image.Image: d5a9a1d 'PDF' (432x288)>"
       ]
      }
     ],
     "prompt_number": 78
    },
    {
     "cell_type": "code",
     "collapsed": false,
     "input": [
      "# 3.6 \ub2e4\uc2dc \uc124\ubb38 \uc870\uc0ac \ub370\uc774\ud130 \uc0b4\ud3b4\ubcf4\uae30"
     ],
     "language": "python",
     "metadata": {},
     "outputs": [],
     "prompt_number": 79
    },
    {
     "cell_type": "code",
     "collapsed": false,
     "input": [
      "# 3.7 \uc870\uac74\ubd80 \ubd84\ud3ec"
     ],
     "language": "python",
     "metadata": {},
     "outputs": []
    },
    {
     "cell_type": "code",
     "collapsed": false,
     "input": [
      "# 3.8 \ub09c\uc218"
     ],
     "language": "python",
     "metadata": {},
     "outputs": [],
     "prompt_number": 80
    },
    {
     "cell_type": "code",
     "collapsed": false,
     "input": [
      "# 3.9 \uc694\uc57d \ud1b5\uacc4 \ub2e4\uc2dc \uc9da\uc5b4 \ubcf4\uae30"
     ],
     "language": "python",
     "metadata": {},
     "outputs": [],
     "prompt_number": 81
    },
    {
     "cell_type": "heading",
     "level": 2,
     "metadata": {},
     "source": [
      "4. \uc5f0\uc18d \ubd84\ud3ec"
     ]
    },
    {
     "cell_type": "code",
     "collapsed": false,
     "input": [
      "#4.1 \uc9c0\uc218 \ubd84\ud3ec\n",
      "http://ko.wikipedia.org/wiki/%EC%A7%80%EC%88%98%EB%B6%84%ED%8F%AC"
     ],
     "language": "python",
     "metadata": {},
     "outputs": [],
     "prompt_number": 82
    },
    {
     "cell_type": "code",
     "collapsed": false,
     "input": [
      "#4.2 \ud30c\ub808\ud1a0 \ubd84\ud3ec\n",
      "http://ko.wikipedia.org/wiki/%ED%8C%8C%EB%A0%88%ED%86%A0_%EB%B6%84%ED%8F%AC"
     ],
     "language": "python",
     "metadata": {},
     "outputs": []
    },
    {
     "cell_type": "code",
     "collapsed": false,
     "input": [
      "#4.3 \uc815\uaddc \ubd84\ud3ec"
     ],
     "language": "python",
     "metadata": {},
     "outputs": []
    },
    {
     "cell_type": "code",
     "collapsed": false,
     "input": [
      "#4.4 \uc815\uaddc \ud655\ub960 \uadf8\ub9bc"
     ],
     "language": "python",
     "metadata": {},
     "outputs": []
    },
    {
     "cell_type": "code",
     "collapsed": false,
     "input": [
      "#Exercise 4-10\n",
      "\n",
      "import relay_normal\n",
      "\n",
      "relay_normal.main()"
     ],
     "language": "python",
     "metadata": {},
     "outputs": [
      {
       "output_type": "stream",
       "stream": "stdout",
       "text": [
        "Writing relay_normal.pdf\n",
        "Writing"
       ]
      },
      {
       "output_type": "stream",
       "stream": "stdout",
       "text": [
        " relay_normal.eps\n"
       ]
      },
      {
       "metadata": {},
       "output_type": "display_data",
       "text": [
        "<matplotlib.figure.Figure at 0x4e217d0>"
       ]
      }
     ],
     "prompt_number": 83
    },
    {
     "cell_type": "code",
     "collapsed": false,
     "input": [
      "img = WImage(filename='relay_normal.pdf')\n",
      "img"
     ],
     "language": "python",
     "metadata": {},
     "outputs": [
      {
       "metadata": {},
       "output_type": "pyout",
       "png": "[encoded data removed]",
       "prompt_number": 85,
       "text": [
        "<wand.image.Image: 65287b7 'PDF' (432x288)>"
       ]
      }
     ],
     "prompt_number": 85
    },
    {
     "cell_type": "code",
     "collapsed": false,
     "input": [
      "#4.5 \ub85c\uadf8 \uc815\uaddc \ubd84\ud3ec"
     ],
     "language": "python",
     "metadata": {},
     "outputs": [],
     "prompt_number": 86
    },
    {
     "cell_type": "code",
     "collapsed": false,
     "input": [
      "# Exercise 4-11\n",
      "import brfss_figs\n",
      "\n",
      "resp = brfss_figs.Respondents()\n",
      "resp.ReadRecords('booksrc')\n",
      "resp.MakeFigures()"
     ],
     "language": "python",
     "metadata": {},
     "outputs": [
      {
       "output_type": "stream",
       "stream": "stdout",
       "text": [
        "n, Mean, Var 398484 78.595995657 315.224230058\n",
        "Sigma 17.7545551918\n",
        "Writing"
       ]
      },
      {
       "output_type": "stream",
       "stream": "stdout",
       "text": [
        " brfss_weight_model.pdf\n",
        "Writing"
       ]
      },
      {
       "output_type": "stream",
       "stream": "stdout",
       "text": [
        " brfss_weight_model.eps\n",
        "Writing"
       ]
      },
      {
       "output_type": "stream",
       "stream": "stdout",
       "text": [
        " brfss_weight_normal.pdf\n",
        "Writing"
       ]
      }
     ]
    },
    {
     "cell_type": "code",
     "collapsed": false,
     "input": [
      "img = WImage(filename='brfss_weight_model.pdf')\n",
      "img"
     ],
     "language": "python",
     "metadata": {},
     "outputs": [
      {
       "ename": "NameError",
       "evalue": "name 'WImage' is not defined",
       "output_type": "pyerr",
       "traceback": [
        "\u001b[1;31m---------------------------------------------------------------------------\u001b[0m\n\u001b[1;31mNameError\u001b[0m                                 Traceback (most recent call last)",
        "\u001b[1;32m<ipython-input-1-c748a2eac1f3>\u001b[0m in \u001b[0;36m<module>\u001b[1;34m()\u001b[0m\n\u001b[1;32m----> 1\u001b[1;33m \u001b[0mimg\u001b[0m \u001b[1;33m=\u001b[0m \u001b[0mWImage\u001b[0m\u001b[1;33m(\u001b[0m\u001b[0mfilename\u001b[0m\u001b[1;33m=\u001b[0m\u001b[1;34m'brfss_weight_model.pdf'\u001b[0m\u001b[1;33m)\u001b[0m\u001b[1;33m\u001b[0m\u001b[0m\n\u001b[0m\u001b[0;32m      2\u001b[0m \u001b[0mimg\u001b[0m\u001b[1;33m\u001b[0m\u001b[0m\n",
        "\u001b[1;31mNameError\u001b[0m: name 'WImage' is not defined"
       ]
      }
     ],
     "prompt_number": 1
    },
    {
     "cell_type": "code",
     "collapsed": false,
     "input": [
      "img = WImage(filename='brfss_weight_normal.pdf')\n",
      "img"
     ],
     "language": "python",
     "metadata": {},
     "outputs": [
      {
       "metadata": {},
       "output_type": "pyout",
       "png": "[encoded data removed]",
       "prompt_number": 3,
       "text": [
        "<wand.image.Image: b737a0b 'PDF' (432x288)>"
       ]
      }
     ],
     "prompt_number": 3
    },
    {
     "cell_type": "code",
     "collapsed": false,
     "input": [
      "# Exercise 4-13\n",
      "import irs\n",
      "\n",
      "data = irs.ReadIncomeFile('booksrc/08in11si.csv')\n",
      "hist, pmf, cdf = irs.MakeIncomeDist(data)\n",
      "\n",
      "# plot the CDF on a log-x scale\n",
      "irs.myplot.Clf()\n",
      "irs.myplot.Cdf(cdf)\n",
      "irs.myplot.Save(root='income_logx',\n",
      "                xscale='log',\n",
      "                xlabel='income',\n",
      "                ylabel='CDF')\n",
      "\n",
      "# plot the complementary CDF on a log-log scale\n",
      "irs.myplot.Clf()\n",
      "irs.myplot.Cdf(cdf, complement=True)\n",
      "irs.myplot.Save(root='income_loglog',\n",
      "                complement=True,\n",
      "                xscale='log',\n",
      "                yscale='log',\n",
      "                xlabel='income',\n",
      "                ylabel='complementary CDF')"
     ],
     "language": "python",
     "metadata": {},
     "outputs": [
      {
       "output_type": "stream",
       "stream": "stdout",
       "text": [
        "0 2489989\n",
        "2500 11638707\n",
        "7500 12139638\n",
        "12500 11702056\n",
        "17500 11076002\n",
        "22500 9866247\n",
        "27500 8743581\n",
        "35000 14554280\n",
        "45000 11087123\n",
        "62500 19196461\n",
        "87500 11729485\n",
        "150000 13851341\n",
        "350000 3476747\n",
        "750000 577618\n",
        "1250000 140635\n",
        "1750000 59460\n",
        "3500000 86329\n",
        "7500000 21390\n",
        "15000000 13480\n",
        "Writing"
       ]
      },
      {
       "output_type": "stream",
       "stream": "stdout",
       "text": [
        " income_logx.pdf\n",
        "Writing"
       ]
      },
      {
       "output_type": "stream",
       "stream": "stdout",
       "text": [
        " income_logx.eps\n",
        "Writing"
       ]
      },
      {
       "output_type": "stream",
       "stream": "stdout",
       "text": [
        " income_loglog.pdf\n",
        "Writing"
       ]
      },
      {
       "output_type": "stream",
       "stream": "stdout",
       "text": [
        " income_loglog.eps\n"
       ]
      },
      {
       "output_type": "stream",
       "stream": "stderr",
       "text": [
        "/home/moodern/.venv/nlp/local/lib/python2.7/site-packages/matplotlib/axes/_axes.py:475: UserWarning: No labelled objects found. Use label='...' kwarg on individual plots.\n",
        "  warnings.warn(\"No labelled objects found. \"\n"
       ]
      },
      {
       "metadata": {},
       "output_type": "display_data",
       "text": [
        "<matplotlib.figure.Figure at 0x5531650>"
       ]
      }
     ],
     "prompt_number": 15
    },
    {
     "cell_type": "code",
     "collapsed": false,
     "input": [
      "img = WImage(filename='income_logx.pdf')\n",
      "img"
     ],
     "language": "python",
     "metadata": {},
     "outputs": [
      {
       "metadata": {},
       "output_type": "pyout",
       "png": "[encoded data removed]",
       "prompt_number": 16,
       "text": [
        "<wand.image.Image: 130e014 'PDF' (432x288)>"
       ]
      }
     ],
     "prompt_number": 16
    },
    {
     "cell_type": "code",
     "collapsed": false,
     "input": [
      "img = WImage(filename='income_loglog.pdf')\n",
      "img"
     ],
     "language": "python",
     "metadata": {},
     "outputs": [
      {
       "metadata": {},
       "output_type": "pyout",
       "png": "[encoded data removed]",
       "prompt_number": 17,
       "text": [
        "<wand.image.Image: d2f4957 'PDF' (432x288)>"
       ]
      }
     ],
     "prompt_number": 17
    },
    {
     "cell_type": "code",
     "collapsed": false,
     "input": [
      "#4.6 \uc65c \ubaa8\ub378\ub9c1\uc744 \ud574\uc57c \ud558\ub294\uac00?"
     ],
     "language": "python",
     "metadata": {},
     "outputs": []
    },
    {
     "cell_type": "code",
     "collapsed": false,
     "input": [
      "#4.7 \ub09c\uc218 \uc0dd\uc131\ud558\uae30"
     ],
     "language": "python",
     "metadata": {},
     "outputs": []
    },
    {
     "cell_type": "heading",
     "level": 2,
     "metadata": {},
     "source": [
      "5. \ud655\ub960 "
     ]
    },
    {
     "cell_type": "code",
     "collapsed": false,
     "input": [
      "# 5.1 \ud655\ub960 \ubc95\uce59"
     ],
     "language": "python",
     "metadata": {},
     "outputs": []
    },
    {
     "cell_type": "code",
     "collapsed": false,
     "input": [
      "#5.2 \ubaac\ud2f0 \ud640"
     ],
     "language": "python",
     "metadata": {},
     "outputs": []
    },
    {
     "cell_type": "code",
     "collapsed": false,
     "input": [
      "#5.3 \ud478\uc575\uce74\ub808"
     ],
     "language": "python",
     "metadata": {},
     "outputs": [],
     "prompt_number": 18
    },
    {
     "cell_type": "code",
     "collapsed": false,
     "input": [
      "#5.4 \uadf8 \uc678\uc758 \ud655\ub960 \ubc95\uce59"
     ],
     "language": "python",
     "metadata": {},
     "outputs": [],
     "prompt_number": 19
    },
    {
     "cell_type": "code",
     "collapsed": false,
     "input": [
      "#5.5 \uc774\ud56d \ubd84\ud3ec"
     ],
     "language": "python",
     "metadata": {},
     "outputs": []
    },
    {
     "cell_type": "code",
     "collapsed": false,
     "input": [
      "#5.6 \uc2a4\ud2b8\ub9ac\ud06c\uc640 \ud56b\uc2a4\ud31f"
     ],
     "language": "python",
     "metadata": {},
     "outputs": []
    },
    {
     "cell_type": "code",
     "collapsed": false,
     "input": [
      "#5.7 \ubca0\uc774\uc988 \uc815\ub9ac"
     ],
     "language": "python",
     "metadata": {},
     "outputs": []
    },
    {
     "cell_type": "heading",
     "level": 2,
     "metadata": {},
     "source": [
      "6. \ubd84\ud3ec\uc5d0 \ub300\ud55c \uc5f0\uc0b0"
     ]
    },
    {
     "cell_type": "code",
     "collapsed": false,
     "input": [
      "#6.1 \uc65c\ub3c4 "
     ],
     "language": "python",
     "metadata": {},
     "outputs": []
    },
    {
     "cell_type": "code",
     "collapsed": false,
     "input": [
      "#Exercise 6-3\n",
      "\n",
      "import gini\n",
      "\n",
      "data = gini.irs.ReadIncomeFile('booksrc/08in11si.csv')\n",
      "hist, pmf, cdf = gini.irs.MakeIncomeDist(data)\n",
      "gini.SummarizeData(pmf, cdf)"
     ],
     "language": "python",
     "metadata": {},
     "outputs": [
      {
       "output_type": "stream",
       "stream": "stdout",
       "text": [
        "0 2489989\n",
        "2500 11638707\n",
        "7500 12139638\n",
        "12500 11702056\n",
        "17500 11076002\n",
        "22500 9866247\n",
        "27500 8743581\n",
        "35000 14554280\n",
        "45000 11087123\n",
        "62500 19196461\n",
        "87500 11729485\n",
        "150000 13851341\n",
        "350000 3476747\n",
        "750000 577618\n",
        "1250000 140635\n",
        "1750000 59460\n",
        "3500000 86329\n",
        "7500000 21390\n",
        "15000000 13480\n",
        "mean: 61983.0395869\n",
        "median: 35000\n",
        "fraction below mean: 0.654947352299\n",
        "sigma: 212514.249186\n",
        "skewness: 9021278.49022\n",
        "Pearsons skewness: 0.380911487445\n",
        "74698.975274 61983.0395869\n",
        "gini 0.602575928608\n"
       ]
      }
     ],
     "prompt_number": 23
    },
    {
     "cell_type": "code",
     "collapsed": false,
     "input": [
      "#6.2 \ud655\ub960\ubcc0\uc218"
     ],
     "language": "python",
     "metadata": {},
     "outputs": [],
     "prompt_number": 22
    },
    {
     "cell_type": "code",
     "collapsed": false,
     "input": [
      "#6.3 \ud655\ub960\ubc00\ub3c4\ud568\uc218, PDF"
     ],
     "language": "python",
     "metadata": {},
     "outputs": []
    },
    {
     "cell_type": "code",
     "collapsed": false,
     "input": [
      "#6.4 \ud569\uc131\uacf1"
     ],
     "language": "python",
     "metadata": {},
     "outputs": []
    },
    {
     "cell_type": "code",
     "collapsed": false,
     "input": [
      "#6.5 \uc65c \uc815\uaddc \ubd84\ud3ec\uc778\uac00?"
     ],
     "language": "python",
     "metadata": {},
     "outputs": []
    },
    {
     "cell_type": "code",
     "collapsed": false,
     "input": [
      "#6.6 \uc911\uc2ec\uadf9\ud55c \uc815\ub9ac\n",
      "http://ko.wikipedia.org/wiki/%EC%A4%91%EC%8B%AC%EA%B7%B9%ED%95%9C%EC%A0%95%EB%A6%AC"
     ],
     "language": "python",
     "metadata": {},
     "outputs": [],
     "prompt_number": 24
    },
    {
     "cell_type": "code",
     "collapsed": false,
     "input": [
      "#6.7 \ubd84\ud3ec \ud504\ub808\uc784\uc6cc\ud06c"
     ],
     "language": "python",
     "metadata": {},
     "outputs": []
    }
   ],
   "metadata": {}
  }
 ]
}