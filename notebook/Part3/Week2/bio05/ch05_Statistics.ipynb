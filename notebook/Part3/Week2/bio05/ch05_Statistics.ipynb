{
 "metadata": {
  "name": "",
  "signature": "sha256:879f185abf71b40540baf8a36624da2dc8106f4b4082e10f32c9ce1e09f22d73"
 },
 "nbformat": 3,
 "nbformat_minor": 0,
 "worksheets": [
  {
   "cells": [
    {
     "cell_type": "heading",
     "level": 1,
     "metadata": {},
     "source": [
      "5. Statistics"
     ]
    },
    {
     "cell_type": "markdown",
     "metadata": {},
     "source": [
      "contents\n",
      "\n",
      "5.1 Simple Statistics\n",
      "\n",
      "\ufffc\ufffc5.2 Distributions\n",
      "\n",
      "5.3 Normalization\n",
      "\n",
      "5.4 MultivariateStatistics\n",
      "\n",
      "5.5 Probabilities\n",
      "\n",
      "5.6 Odds\n",
      "\n",
      "5.7 Decisions from Distributions"
     ]
    },
    {
     "cell_type": "heading",
     "level": 2,
     "metadata": {},
     "source": [
      "5.1 Simple Statistics"
     ]
    },
    {
     "cell_type": "markdown",
     "metadata": {},
     "source": [
      "* average\n",
      "* standard deviation\n",
      "* variance\n",
      "* running average (= smoothing operation)"
     ]
    },
    {
     "cell_type": "code",
     "collapsed": false,
     "input": [
      "from numpy import random, set_printoptions # use only to replicate the following results\n",
      "random.seed(520987)\n",
      "set_printoptions(precision=3)\n",
      "vec = random.rand( 10 )\n",
      "vec"
     ],
     "language": "python",
     "metadata": {},
     "outputs": [
      {
       "metadata": {},
       "output_type": "pyout",
       "prompt_number": 1,
       "text": [
        "array([ 0.319,  0.269,  0.778,  0.972,  0.543,  0.416,  0.109,  0.355,\n",
        "        0.226,  0.41 ])"
       ]
      }
     ],
     "prompt_number": 1
    },
    {
     "cell_type": "heading",
     "level": 3,
     "metadata": {},
     "source": [
      "average"
     ]
    },
    {
     "cell_type": "markdown",
     "metadata": {},
     "source": [
      "<img src='./figure/eq5-1.png' />"
     ]
    },
    {
     "cell_type": "code",
     "collapsed": false,
     "input": [
      "vec.mean()"
     ],
     "language": "python",
     "metadata": {},
     "outputs": [
      {
       "metadata": {},
       "output_type": "pyout",
       "prompt_number": 2,
       "text": [
        "0.43973563112184361"
       ]
      }
     ],
     "prompt_number": 2
    },
    {
     "cell_type": "heading",
     "level": 3,
     "metadata": {},
     "source": [
      "standard deviation"
     ]
    },
    {
     "cell_type": "markdown",
     "metadata": {},
     "source": [
      "<img src='./figure/eq5-2.png' />"
     ]
    },
    {
     "cell_type": "code",
     "collapsed": false,
     "input": [
      "vec.std()"
     ],
     "language": "python",
     "metadata": {},
     "outputs": [
      {
       "metadata": {},
       "output_type": "pyout",
       "prompt_number": 3,
       "text": [
        "0.24822049000045263"
       ]
      }
     ],
     "prompt_number": 3
    },
    {
     "cell_type": "heading",
     "level": 3,
     "metadata": {},
     "source": [
      "variance"
     ]
    },
    {
     "cell_type": "markdown",
     "metadata": {},
     "source": [
      "<img src='./figure/eq5-3.png' />"
     ]
    },
    {
     "cell_type": "heading",
     "level": 3,
     "metadata": {},
     "source": [
      "running average (= smoothing operation)"
     ]
    },
    {
     "cell_type": "markdown",
     "metadata": {},
     "source": [
      "<img src='./figure/eq5-4.png' />"
     ]
    },
    {
     "cell_type": "code",
     "collapsed": false,
     "input": [
      "import akando\n",
      "akando.Smooth(vec, 1)"
     ],
     "language": "python",
     "metadata": {},
     "outputs": [
      {
       "metadata": {},
       "output_type": "pyout",
       "prompt_number": 4,
       "text": [
        "array([ 0.294,  0.455,  0.673,  0.764,  0.644,  0.356,  0.293,  0.23 ,\n",
        "        0.33 ,  0.318])"
       ]
      }
     ],
     "prompt_number": 4
    },
    {
     "cell_type": "heading",
     "level": 2,
     "metadata": {},
     "source": [
      "5.2 Distributions"
     ]
    },
    {
     "cell_type": "markdown",
     "metadata": {},
     "source": [
      "* normal (or Gaussian)\n",
      "* first moment = mean\n",
      "* second moment = standard deviation\n",
      "* third moment = skewness\n",
      "* fourth moment = kurtosis"
     ]
    },
    {
     "cell_type": "heading",
     "level": 3,
     "metadata": {},
     "source": [
      "Normal or Gaussian"
     ]
    },
    {
     "cell_type": "markdown",
     "metadata": {},
     "source": [
      "<img src='./figure/eq5-5.png' />\n",
      "\n",
      "<img src='./figure/eq5-6.png' />"
     ]
    },
    {
     "cell_type": "markdown",
     "metadata": {},
     "source": [
      "<img src='./figure/fg5-1.png' />"
     ]
    },
    {
     "cell_type": "heading",
     "level": 3,
     "metadata": {},
     "source": [
      "skewness"
     ]
    },
    {
     "cell_type": "markdown",
     "metadata": {},
     "source": [
      "<img src='http://upload.wikimedia.org/wikipedia/commons/thumb/f/f8/Negative_and_positive_skew_diagrams_(English).svg/446px-Negative_and_positive_skew_diagrams_(English).svg.png' />"
     ]
    },
    {
     "cell_type": "heading",
     "level": 3,
     "metadata": {},
     "source": [
      "kurtosis"
     ]
    },
    {
     "cell_type": "markdown",
     "metadata": {},
     "source": [
      "<img src='http://mvpprograms.com/help/images/KurtosisPict.jpg' />"
     ]
    },
    {
     "cell_type": "heading",
     "level": 2,
     "metadata": {},
     "source": [
      "5.3 Normalization"
     ]
    },
    {
     "cell_type": "code",
     "collapsed": false,
     "input": [
      "from numpy import array ,random , zeros\n",
      "\n",
      "# normalizer. py\n",
      "# generate a normal distribution of  data\n",
      "def MakeNormData(N=100, mu=3.2 , dev=2.1) :\n",
      "    v = random.normal(mu , dev , N)\n",
      "    return v\n",
      "\n",
      "random.seed(91057)\n",
      "exps = zeros((10,1000), float)\n",
      "for i in range(10) :\n",
      "    mu = 2 * random.rand() + 2\n",
      "    sigma = random.rand() + 0.5\n",
      "    exps[i] = MakeNormData(1000, mu, sigma)\n",
      "    \n",
      "exps    "
     ],
     "language": "python",
     "metadata": {},
     "outputs": [
      {
       "metadata": {},
       "output_type": "pyout",
       "prompt_number": 62,
       "text": [
        "array([[ 7.349,  4.98 ,  5.196, ...,  2.363,  0.699,  1.732],\n",
        "       [ 4.172,  2.334, -0.049, ...,  2.001,  3.864,  0.157],\n",
        "       [ 1.703,  2.64 ,  1.878, ...,  1.598,  2.006,  1.535],\n",
        "       ..., \n",
        "       [ 2.185,  3.679,  2.687, ...,  3.666,  3.654,  1.832],\n",
        "       [ 2.733,  2.996,  1.631, ...,  1.549,  3.092,  3.705],\n",
        "       [ 3.493,  2.916,  5.845, ...,  2.192, -0.053,  3.604]])"
       ]
      }
     ],
     "prompt_number": 62
    },
    {
     "cell_type": "code",
     "collapsed": false,
     "input": [
      "hsts = zeros((10,25))\n",
      "for i in range(10) :\n",
      "    hsts[i] = akando.RangeHistogram(exps[i] , 25 , -5., 10.)\n",
      "\n",
      "akando.PlotMultiple('plot.txt', hsts.transpose())"
     ],
     "language": "python",
     "metadata": {},
     "outputs": [
      {
       "output_type": "stream",
       "stream": "stdout",
       "text": [
        "21.4893996789\n",
        "18.3838103701\n",
        "15.5968985509\n",
        "17.4916515944\n",
        "16.1795000644\n",
        "19.0131640682\n",
        "19.2666057405\n",
        "16.9890706636\n",
        "18.8939895149\n",
        "22.2481933163\n"
       ]
      }
     ],
     "prompt_number": 37
    },
    {
     "cell_type": "code",
     "collapsed": false,
     "input": [
      "import matplotlib.pyplot as plt\n",
      "import matplotlib.image as mpimg"
     ],
     "language": "python",
     "metadata": {},
     "outputs": [],
     "prompt_number": 38
    },
    {
     "cell_type": "code",
     "collapsed": false,
     "input": [
      "# \uba85\ub839 \uc2a4\ud06c\ub9bd\ud2b8\ub97c \ub9cc\ub4e4\uc5b4\uc11c \ud30c\uc77c\ub85c \uc800\uc7a5\n",
      "cmd = '''set output 'plot.png'\n",
      "set terminal png\n",
      "set style data lines\n",
      "plot 'plot.txt'\n",
      "'''\n",
      "f = open('cmd.txt', 'w')\n",
      "f.write(cmd)\n",
      "f.close()"
     ],
     "language": "python",
     "metadata": {},
     "outputs": [],
     "prompt_number": 39
    },
    {
     "cell_type": "code",
     "collapsed": false,
     "input": [
      "!gnuplot cmd.txt"
     ],
     "language": "python",
     "metadata": {},
     "outputs": [],
     "prompt_number": 40
    },
    {
     "cell_type": "code",
     "collapsed": false,
     "input": [
      "!cat plot.txt "
     ],
     "language": "python",
     "metadata": {},
     "outputs": [
      {
       "output_type": "stream",
       "stream": "stdout",
       "text": [
        "0.0 0.0 0.0 0.0 0.0 0.0 0.0 0.0 0.0 0.0 \r\n",
        "0.0 0.0 0.0 0.0 0.0 0.0 0.0 0.0 0.0 0.0 \r\n",
        "0.0 0.0 0.0 0.0 0.0 0.0 0.0 0.0 0.0 0.0 \r\n",
        "0.0 0.0 0.0 0.0 0.0 0.0 0.0 0.0 0.0 0.0 \r\n",
        "0.0 0.0 0.0 0.0 0.0 0.0 0.0 0.0 0.0 0.0 \r\n",
        "5.0 0.0 0.0 0.0 0.0 0.0 0.0 0.0 0.0 0.0 \r\n",
        "4.0 0.0 0.0 0.0 0.0 0.0 0.0 0.0 0.0 0.0 \r\n",
        "17.0 3.0 1.0 0.0 1.0 1.0 0.0 0.0 0.0 2.0 \r\n",
        "25.0 14.0 18.0 0.0 17.0 3.0 0.0 0.0 0.0 8.0 \r\n",
        "52.0 32.0 64.0 0.0 66.0 13.0 5.0 0.0 7.0 17.0 \r\n",
        "94.0 102.0 175.0 18.0 158.0 58.0 19.0 7.0 69.0 39.0 \r\n",
        "145.0 152.0 283.0 102.0 271.0 132.0 68.0 77.0 201.0 69.0 \r\n",
        "148.0 218.0 278.0 289.0 264.0 233.0 152.0 238.0 311.0 100.0 \r\n",
        "146.0 222.0 131.0 380.0 160.0 253.0 227.0 358.0 272.0 168.0 \r\n",
        "139.0 141.0 44.0 175.0 51.0 177.0 251.0 237.0 109.0 178.0 \r\n",
        "104.0 75.0 6.0 33.0 10.0 99.0 171.0 73.0 29.0 166.0 \r\n",
        "62.0 27.0 0.0 2.0 2.0 25.0 81.0 10.0 1.0 104.0 \r\n",
        "33.0 12.0 0.0 1.0 0.0 5.0 23.0 0.0 0.0 91.0 \r\n",
        "18.0 2.0 0.0 0.0 0.0 0.0 2.0 0.0 1.0 33.0 \r\n",
        "4.0 0.0 0.0 0.0 0.0 1.0 1.0 0.0 0.0 19.0 \r\n",
        "3.0 0.0 0.0 0.0 0.0 0.0 0.0 0.0 0.0 3.0 \r\n",
        "1.0 0.0 0.0 0.0 0.0 0.0 0.0 0.0 0.0 2.0 \r\n",
        "0.0 0.0 0.0 0.0 0.0 0.0 0.0 0.0 0.0 1.0 \r\n",
        "0.0 0.0 0.0 0.0 0.0 0.0 0.0 0.0 0.0 0.0 \r\n",
        "0.0 0.0 0.0 0.0 0.0 0.0 0.0 0.0 0.0 0.0 \r\n"
       ]
      }
     ],
     "prompt_number": 41
    },
    {
     "cell_type": "code",
     "collapsed": false,
     "input": [
      "img=mpimg.imread('plot.png')\n",
      "plt.imshow(img)"
     ],
     "language": "python",
     "metadata": {},
     "outputs": [
      {
       "metadata": {},
       "output_type": "pyout",
       "prompt_number": 42,
       "text": [
        "<matplotlib.image.AxesImage at 0x4346dd0>"
       ]
      },
      {
       "metadata": {},
       "output_type": "display_data",
       "png": "[encoded data removed]",
       "text": [
        "<matplotlib.figure.Figure at 0x4005cd0>"
       ]
      }
     ],
     "prompt_number": 42
    },
    {
     "cell_type": "markdown",
     "metadata": {},
     "source": [
      "<img src='figure/fg5-2.png' />"
     ]
    },
    {
     "cell_type": "code",
     "collapsed": false,
     "input": [
      "def PlotCandle( filename, data ):\n",
      "    N, L = data.shape # number of vectors, length of vectors\n",
      "    avgs = zeros( N, float ) # will contain the averages\n",
      "    devs = zeros( N, float )\n",
      "    for i in range( N ):\n",
      "        avgs[i] = data[i].mean()\n",
      "        devs[i] = data[i].std()\n",
      "    # save the data\n",
      "    M = zeros( (10,5), float )\n",
      "    for i in range( 10 ):\n",
      "        mx = data[i].max()\n",
      "        mn = data[i].min()\n",
      "        M[i] = i+1, avgs[i]-devs[i], mn, mx, avgs[i]+devs[i]        \n",
      "    akando.PlotMultiple( filename, M )\n",
      "    \n",
      "PlotCandle('candle.txt', exps)    \n"
     ],
     "language": "python",
     "metadata": {},
     "outputs": [],
     "prompt_number": 43
    },
    {
     "cell_type": "code",
     "collapsed": false,
     "input": [
      "# \uba85\ub839 \uc2a4\ud06c\ub9bd\ud2b8\ub97c \ub9cc\ub4e4\uc5b4\uc11c \ud30c\uc77c\ub85c \uc800\uc7a5\n",
      "cmd = '''set output 'candle.png'\n",
      "set terminal png\n",
      "set bar 2\n",
      "plot [0:11] 'candle.txt' with candlesticks\n",
      "'''\n",
      "f = open('cmd.txt', 'w')\n",
      "f.write(cmd)\n",
      "f.close()"
     ],
     "language": "python",
     "metadata": {},
     "outputs": [],
     "prompt_number": 47
    },
    {
     "cell_type": "code",
     "collapsed": false,
     "input": [
      "!gnuplot cmd.txt"
     ],
     "language": "python",
     "metadata": {},
     "outputs": [],
     "prompt_number": 48
    },
    {
     "cell_type": "code",
     "collapsed": false,
     "input": [
      "img=mpimg.imread('candle.png')\n",
      "plt.imshow(img)"
     ],
     "language": "python",
     "metadata": {},
     "outputs": [
      {
       "metadata": {},
       "output_type": "pyout",
       "prompt_number": 49,
       "text": [
        "<matplotlib.image.AxesImage at 0x5708cd0>"
       ]
      },
      {
       "metadata": {},
       "output_type": "display_data",
       "png": "[encoded data removed]",
       "text": [
        "<matplotlib.figure.Figure at 0x3186750>"
       ]
      }
     ],
     "prompt_number": 49
    },
    {
     "cell_type": "heading",
     "level": 3,
     "metadata": {},
     "source": [
      "Nomalization by the mean"
     ]
    },
    {
     "cell_type": "markdown",
     "metadata": {},
     "source": [
      "* noramlization by the average simply subtracts the average of each vector from itself.\n",
      "* = zero sum vector"
     ]
    },
    {
     "cell_type": "code",
     "collapsed": false,
     "input": [
      "# normalize via the mean.  Create data that has a 0-mean\n",
      "# Code 5-8\n",
      "def MeanNorm( vec ):\n",
      "    sm = vec.sum()\n",
      "    answ = vec - sm/len(vec)\n",
      "    return answ\n",
      "\n",
      "for i in range(10) :\n",
      "    exps[i] = MeanNorm(exps[i])\n",
      "    \n",
      "PlotCandle('candle.txt', exps) "
     ],
     "language": "python",
     "metadata": {},
     "outputs": [],
     "prompt_number": 51
    },
    {
     "cell_type": "code",
     "collapsed": false,
     "input": [
      "%%writefile cmd.txt\n",
      "set output 'candle.png'\n",
      "set terminal png\n",
      "set bar 2\n",
      "plot [0:11] 'candle.txt' with candlesticks"
     ],
     "language": "python",
     "metadata": {},
     "outputs": [
      {
       "output_type": "stream",
       "stream": "stdout",
       "text": [
        "Overwriting cmd.txt\n"
       ]
      }
     ],
     "prompt_number": 54
    },
    {
     "cell_type": "code",
     "collapsed": false,
     "input": [
      "!gnuplot cmd.txt"
     ],
     "language": "python",
     "metadata": {},
     "outputs": [],
     "prompt_number": 55
    },
    {
     "cell_type": "code",
     "collapsed": false,
     "input": [
      "img=mpimg.imread('candle.png')\n",
      "plt.imshow(img)"
     ],
     "language": "python",
     "metadata": {},
     "outputs": [
      {
       "metadata": {},
       "output_type": "pyout",
       "prompt_number": 56,
       "text": [
        "<matplotlib.image.AxesImage at 0x5be65d0>"
       ]
      },
      {
       "metadata": {},
       "output_type": "display_data",
       "png": "[encoded data removed]",
       "text": [
        "<matplotlib.figure.Figure at 0x5bb2390>"
       ]
      }
     ],
     "prompt_number": 56
    },
    {
     "cell_type": "heading",
     "level": 3,
     "metadata": {},
     "source": [
      "Normalization using the standard deviation"
     ]
    },
    {
     "cell_type": "code",
     "collapsed": false,
     "input": [
      "# normalize via the std dev\n",
      "# Code 5-9\n",
      "def StdNorm( vec ):\n",
      "    b = vec.std()\n",
      "    return vec/b\n",
      "\n",
      "for i in range(10) :\n",
      "    exps[i] = StdNorm(exps[i])\n",
      "    \n",
      "PlotCandle('candle.txt', exps) "
     ],
     "language": "python",
     "metadata": {},
     "outputs": [],
     "prompt_number": 57
    },
    {
     "cell_type": "code",
     "collapsed": false,
     "input": [
      "%%writefile cmd.txt\n",
      "set output 'candle.png'\n",
      "set terminal png\n",
      "set bar 2\n",
      "plot [0:11] 'candle.txt' with candlesticks"
     ],
     "language": "python",
     "metadata": {},
     "outputs": [
      {
       "output_type": "stream",
       "stream": "stdout",
       "text": [
        "Overwriting cmd.txt\n"
       ]
      }
     ],
     "prompt_number": 58
    },
    {
     "cell_type": "code",
     "collapsed": false,
     "input": [
      "!gnuplot cmd.txt"
     ],
     "language": "python",
     "metadata": {},
     "outputs": [],
     "prompt_number": 59
    },
    {
     "cell_type": "code",
     "collapsed": false,
     "input": [
      "img=mpimg.imread('candle.png')\n",
      "plt.imshow(img)"
     ],
     "language": "python",
     "metadata": {},
     "outputs": [
      {
       "metadata": {},
       "output_type": "pyout",
       "prompt_number": 60,
       "text": [
        "<matplotlib.image.AxesImage at 0x5f0b850>"
       ]
      },
      {
       "metadata": {},
       "output_type": "display_data",
       "png": "[encoded data removed]",
       "text": [
        "<matplotlib.figure.Figure at 0x5bed210>"
       ]
      }
     ],
     "prompt_number": 60
    },
    {
     "cell_type": "heading",
     "level": 3,
     "metadata": {},
     "source": [
      "Normalization by LOESS"
     ]
    },
    {
     "cell_type": "markdown",
     "metadata": {},
     "source": [
      "LOESS = locally weighted scatterplot smoothing)"
     ]
    },
    {
     "cell_type": "code",
     "collapsed": false,
     "input": [
      "# create data for LOESS normalization\n",
      "def MakeLData():\n",
      "    ydata = MakeNormData( 1000 )\n",
      "    xdata = random.rand( 1000 )*100\n",
      "    # impose a long range average bias\n",
      "    for i in range( 1000 ):\n",
      "        ydata[i] = ydata[i] + 3*((-((xdata[i]-50.)/10)**2)/25 + 1)\n",
      "    # plot this data\n",
      "    M = zeros( (1000,2), float )\n",
      "    M[:,0] = xdata + 0\n",
      "    M[:,1] = ydata + 0\n",
      "    return M\n",
      "\n",
      "M = MakeLData()\n",
      "akando.Plot2D( 'ldata.txt', M )"
     ],
     "language": "python",
     "metadata": {},
     "outputs": [],
     "prompt_number": 71
    },
    {
     "cell_type": "code",
     "collapsed": false,
     "input": [
      "!head ldata.txt"
     ],
     "language": "python",
     "metadata": {},
     "outputs": [
      {
       "output_type": "stream",
       "stream": "stdout",
       "text": [
        "0.160373045947\r\n",
        "-1.8672535298\r\n",
        "\r\n",
        "0.19458781642\r\n",
        "0.0943456869609\r\n",
        "\r\n",
        "0.215336871197\r\n",
        "1.59385764221\r\n",
        "\r\n",
        "0.376478830464\r\n"
       ]
      }
     ],
     "prompt_number": 121
    },
    {
     "cell_type": "code",
     "collapsed": false,
     "input": [
      "%%writefile cmd.txt\n",
      "set output 'ldata.png'\n",
      "set terminal png\n",
      "plot 'ldata.txt'"
     ],
     "language": "python",
     "metadata": {},
     "outputs": [
      {
       "output_type": "stream",
       "stream": "stdout",
       "text": [
        "Overwriting cmd.txt\n"
       ]
      }
     ],
     "prompt_number": 72
    },
    {
     "cell_type": "code",
     "collapsed": false,
     "input": [
      "!gnuplot cmd.txt"
     ],
     "language": "python",
     "metadata": {},
     "outputs": [],
     "prompt_number": 73
    },
    {
     "cell_type": "code",
     "collapsed": false,
     "input": [
      "img=mpimg.imread('ldata.png')\n",
      "plt.imshow(img)"
     ],
     "language": "python",
     "metadata": {},
     "outputs": [
      {
       "metadata": {},
       "output_type": "pyout",
       "prompt_number": 74,
       "text": [
        "<matplotlib.image.AxesImage at 0x6c90550>"
       ]
      },
      {
       "metadata": {},
       "output_type": "display_data",
       "png": "[encoded data removed]",
       "text": [
        "<matplotlib.figure.Figure at 0x6eb4290>"
       ]
      }
     ],
     "prompt_number": 74
    },
    {
     "cell_type": "markdown",
     "metadata": {},
     "source": [
      "<img src='figure/fg5-7.png' />"
     ]
    },
    {
     "cell_type": "heading",
     "level": 4,
     "metadata": {},
     "source": [
      "nomalize"
     ]
    },
    {
     "cell_type": "code",
     "collapsed": false,
     "input": [
      "def Loess( M, np=50 ):\n",
      "    # sort the data\n",
      "    ag = M[:,0].argsort()\n",
      "    M[:,0] = M[:,0].take( ag )\n",
      "    M[:,1] = M[:,1].take( ag )\n",
      "    # normalize\n",
      "    V,H = M.shape\n",
      "    niters = V/np\n",
      "    for i in range( niters ):\n",
      "        avg = M[i*np:i*np+np,1].mean()\n",
      "        M[i*np:i*np+np,1] -= avg\n",
      "        \n",
      "        \n",
      "Loess(M)\n",
      "akando.Plot2D( 'ldata.txt', M )"
     ],
     "language": "python",
     "metadata": {},
     "outputs": [],
     "prompt_number": 77
    },
    {
     "cell_type": "code",
     "collapsed": false,
     "input": [
      "!head ldata.txt"
     ],
     "language": "python",
     "metadata": {},
     "outputs": [
      {
       "output_type": "stream",
       "stream": "stdout",
       "text": [
        "0.160373045947\r\n",
        "-1.8672535298\r\n",
        "\r\n",
        "0.19458781642\r\n",
        "0.0943456869609\r\n",
        "\r\n",
        "0.215336871197\r\n",
        "1.59385764221\r\n",
        "\r\n",
        "0.376478830464\r\n"
       ]
      }
     ],
     "prompt_number": 122
    },
    {
     "cell_type": "code",
     "collapsed": false,
     "input": [
      "%%writefile cmd.txt\n",
      "set output 'ldata.png'\n",
      "set terminal png\n",
      "plot 'ldata.txt'"
     ],
     "language": "python",
     "metadata": {},
     "outputs": [
      {
       "output_type": "stream",
       "stream": "stdout",
       "text": [
        "Overwriting cmd.txt\n"
       ]
      }
     ],
     "prompt_number": 79
    },
    {
     "cell_type": "code",
     "collapsed": false,
     "input": [
      "!gnuplot cmd.txt"
     ],
     "language": "python",
     "metadata": {},
     "outputs": [],
     "prompt_number": 80
    },
    {
     "cell_type": "code",
     "collapsed": false,
     "input": [
      "img=mpimg.imread('ldata.png')\n",
      "plt.imshow(img)"
     ],
     "language": "python",
     "metadata": {},
     "outputs": [
      {
       "metadata": {},
       "output_type": "pyout",
       "prompt_number": 81,
       "text": [
        "<matplotlib.image.AxesImage at 0x87d65d0>"
       ]
      },
      {
       "metadata": {},
       "output_type": "display_data",
       "png": "[encoded data removed]",
       "text": [
        "<matplotlib.figure.Figure at 0x6c75dd0>"
       ]
      }
     ],
     "prompt_number": 81
    },
    {
     "cell_type": "markdown",
     "metadata": {},
     "source": [
      "<img src='figure/fg5-8.png' />"
     ]
    },
    {
     "cell_type": "heading",
     "level": 2,
     "metadata": {},
     "source": [
      "5.4 Multivariate Statistics"
     ]
    },
    {
     "cell_type": "heading",
     "level": 3,
     "metadata": {},
     "source": [
      "covariance matrix"
     ]
    },
    {
     "cell_type": "markdown",
     "metadata": {},
     "source": [
      "<img src='./figure/eq5-7.png' />"
     ]
    },
    {
     "cell_type": "markdown",
     "metadata": {},
     "source": [
      "<img src='http://www.niehs.nih.gov/research/resources/assets/images/graphic1gif.gif' />"
     ]
    },
    {
     "cell_type": "markdown",
     "metadata": {},
     "source": [
      "<img src='http://upload.wikimedia.org/math/5/8/5/58572fa5b05e778f5a5eff9ec1b3ddb6.png' />"
     ]
    },
    {
     "cell_type": "heading",
     "level": 3,
     "metadata": {},
     "source": [
      "multivariatve normal distribution"
     ]
    },
    {
     "cell_type": "markdown",
     "metadata": {},
     "source": [
      "1d case\n",
      "\n",
      "<img src='./figure/eq5-5.png' />\n",
      "\n",
      "<img src='./figure/eq5-6.png' />"
     ]
    },
    {
     "cell_type": "heading",
     "level": 4,
     "metadata": {},
     "source": [
      "n-d case"
     ]
    },
    {
     "cell_type": "markdown",
     "metadata": {},
     "source": [
      "<img src='./figure/eq5-8.png' />"
     ]
    },
    {
     "cell_type": "heading",
     "level": 3,
     "metadata": {},
     "source": [
      "2D covariance matrix - independent? dependent?"
     ]
    },
    {
     "cell_type": "heading",
     "level": 4,
     "metadata": {},
     "source": [
      "2d normal case plot"
     ]
    },
    {
     "cell_type": "markdown",
     "metadata": {},
     "source": [
      "<img src='http://www.holehouse.org/mlclass/15_Anomaly_Detection_files/Image%20[28].png' />"
     ]
    },
    {
     "cell_type": "heading",
     "level": 4,
     "metadata": {},
     "source": [
      "independent case code"
     ]
    },
    {
     "cell_type": "code",
     "collapsed": false,
     "input": [
      "from numpy import linalg\n",
      "x = MakeNormData(1000, 3.2, 2.1)\n",
      "y = MakeNormData(1000, 5., 3.)"
     ],
     "language": "python",
     "metadata": {},
     "outputs": [],
     "prompt_number": 86
    },
    {
     "cell_type": "code",
     "collapsed": false,
     "input": [
      "print x[:10]"
     ],
     "language": "python",
     "metadata": {},
     "outputs": [
      {
       "output_type": "stream",
       "stream": "stdout",
       "text": [
        "[ 1.91   2.382  4.951  2.409  2.196  2.941  0.084  2.468  3.458  5.192]\n"
       ]
      }
     ],
     "prompt_number": 89
    },
    {
     "cell_type": "code",
     "collapsed": false,
     "input": [
      "print y[:10]"
     ],
     "language": "python",
     "metadata": {},
     "outputs": [
      {
       "output_type": "stream",
       "stream": "stdout",
       "text": [
        "[  1.373   1.235   7.78    1.771  -0.368   6.584  10.745   9.019   5.559\n",
        "   6.383]\n"
       ]
      }
     ],
     "prompt_number": 90
    },
    {
     "cell_type": "code",
     "collapsed": false,
     "input": [
      "covmat = zeros((2,2), float)\n",
      "covmat"
     ],
     "language": "python",
     "metadata": {},
     "outputs": [
      {
       "metadata": {},
       "output_type": "pyout",
       "prompt_number": 91,
       "text": [
        "array([[ 0.,  0.],\n",
        "       [ 0.,  0.]])"
       ]
      }
     ],
     "prompt_number": 91
    },
    {
     "cell_type": "code",
     "collapsed": false,
     "input": [
      "covmat[0,0] = 2.1**2\n",
      "covmat[1,1] = 3.0**2\n",
      "covmat"
     ],
     "language": "python",
     "metadata": {},
     "outputs": [
      {
       "metadata": {},
       "output_type": "pyout",
       "prompt_number": 92,
       "text": [
        "array([[ 4.41,  0.  ],\n",
        "       [ 0.  ,  9.  ]])"
       ]
      }
     ],
     "prompt_number": 92
    },
    {
     "cell_type": "code",
     "collapsed": false,
     "input": [
      "dt = linalg.det(covmat)\n",
      "dt"
     ],
     "language": "python",
     "metadata": {},
     "outputs": [
      {
       "metadata": {},
       "output_type": "pyout",
       "prompt_number": 94,
       "text": [
        "39.690000000000012"
       ]
      }
     ],
     "prompt_number": 94
    },
    {
     "cell_type": "code",
     "collapsed": false,
     "input": [
      "avg = array([x.mean(), y.mean()])\n",
      "avg"
     ],
     "language": "python",
     "metadata": {},
     "outputs": [
      {
       "metadata": {},
       "output_type": "pyout",
       "prompt_number": 96,
       "text": [
        "array([ 3.16 ,  4.945])"
       ]
      }
     ],
     "prompt_number": 96
    },
    {
     "cell_type": "code",
     "collapsed": false,
     "input": [
      "A = 1./((2*pi)*sqrt(dt))\n",
      "A"
     ],
     "language": "python",
     "metadata": {},
     "outputs": [
      {
       "metadata": {},
       "output_type": "pyout",
       "prompt_number": 97,
       "text": [
        "0.025262689379665925"
       ]
      }
     ],
     "prompt_number": 97
    },
    {
     "cell_type": "code",
     "collapsed": false,
     "input": [
      "covinv  = linalg.inv(covmat)\n",
      "covinv"
     ],
     "language": "python",
     "metadata": {},
     "outputs": [
      {
       "metadata": {},
       "output_type": "pyout",
       "prompt_number": 98,
       "text": [
        "array([[ 0.227,  0.   ],\n",
        "       [ 0.   ,  0.111]])"
       ]
      }
     ],
     "prompt_number": 98
    },
    {
     "cell_type": "code",
     "collapsed": false,
     "input": [
      "g = zeros((100,100), float)\n",
      "g"
     ],
     "language": "python",
     "metadata": {},
     "outputs": [
      {
       "metadata": {},
       "output_type": "pyout",
       "prompt_number": 99,
       "text": [
        "array([[ 0.,  0.,  0., ...,  0.,  0.,  0.],\n",
        "       [ 0.,  0.,  0., ...,  0.,  0.,  0.],\n",
        "       [ 0.,  0.,  0., ...,  0.,  0.,  0.],\n",
        "       ..., \n",
        "       [ 0.,  0.,  0., ...,  0.,  0.,  0.],\n",
        "       [ 0.,  0.,  0., ...,  0.,  0.,  0.],\n",
        "       [ 0.,  0.,  0., ...,  0.,  0.,  0.]])"
       ]
      }
     ],
     "prompt_number": 99
    },
    {
     "cell_type": "code",
     "collapsed": false,
     "input": [
      "for i in range(100) :\n",
      "    for j in range(100) :\n",
      "        xvec = array([i,j]) / 10.\n",
      "        t = xvec - avg\n",
      "        temp = -0.5*dot(dot(t, covinv), transpose(t))\n",
      "        g[i,j] = A * ( exp(temp))\n",
      "g"
     ],
     "language": "python",
     "metadata": {},
     "outputs": [
      {
       "metadata": {},
       "output_type": "pyout",
       "prompt_number": 102,
       "text": [
        "array([[  2.094e-03,   2.211e-03,   2.332e-03, ...,   2.318e-03,\n",
        "          2.198e-03,   2.081e-03],\n",
        "       [  2.247e-03,   2.372e-03,   2.502e-03, ...,   2.488e-03,\n",
        "          2.358e-03,   2.233e-03],\n",
        "       [  2.405e-03,   2.540e-03,   2.679e-03, ...,   2.663e-03,\n",
        "          2.525e-03,   2.391e-03],\n",
        "       ..., \n",
        "       [  5.088e-05,   5.372e-05,   5.666e-05, ...,   5.634e-05,\n",
        "          5.341e-05,   5.058e-05],\n",
        "       [  4.382e-05,   4.627e-05,   4.880e-05, ...,   4.852e-05,\n",
        "          4.600e-05,   4.356e-05],\n",
        "       [  3.765e-05,   3.975e-05,   4.193e-05, ...,   4.169e-05,\n",
        "          3.952e-05,   3.743e-05]])"
       ]
      }
     ],
     "prompt_number": 102
    },
    {
     "cell_type": "code",
     "collapsed": false,
     "input": [
      "akando.Plot2D('plot.txt', g)"
     ],
     "language": "python",
     "metadata": {},
     "outputs": [],
     "prompt_number": 104
    },
    {
     "cell_type": "code",
     "collapsed": false,
     "input": [
      "%%writefile cmd.txt\n",
      "set output 'plot.png'\n",
      "set terminal png\n",
      "plot 'plot.txt'"
     ],
     "language": "python",
     "metadata": {},
     "outputs": [
      {
       "output_type": "stream",
       "stream": "stdout",
       "text": [
        "Overwriting cmd.txt\n"
       ]
      }
     ],
     "prompt_number": 105
    },
    {
     "cell_type": "code",
     "collapsed": false,
     "input": [
      "!gnuplot cmd.txt"
     ],
     "language": "python",
     "metadata": {},
     "outputs": [],
     "prompt_number": 108
    },
    {
     "cell_type": "code",
     "collapsed": false,
     "input": [
      "img=mpimg.imread('ldata.png')\n",
      "plt.imshow(img)"
     ],
     "language": "python",
     "metadata": {},
     "outputs": [
      {
       "metadata": {},
       "output_type": "pyout",
       "prompt_number": 109,
       "text": [
        "<matplotlib.image.AxesImage at 0x8c59710>"
       ]
      },
      {
       "metadata": {},
       "output_type": "display_data",
       "png": "[encoded data removed]",
       "text": [
        "<matplotlib.figure.Figure at 0x87c2ad0>"
       ]
      }
     ],
     "prompt_number": 109
    },
    {
     "cell_type": "markdown",
     "metadata": {},
     "source": [
      "<img src='figure/fg5-9.png' />"
     ]
    },
    {
     "cell_type": "heading",
     "level": 4,
     "metadata": {},
     "source": [
      "dependent case code"
     ]
    },
    {
     "cell_type": "code",
     "collapsed": false,
     "input": [
      "x = MakeNormData(1000, 3.2, 2.1)\n",
      "y = MakeNormData(1000, 5., 2.)\n",
      "y2 = 0.5*y + 0.5*x\n",
      "M = zeros((1000,2), float)\n",
      "M[:,0] = x + 0\n",
      "M[:,1] = y2 + 0\n",
      "covmat = cov(M.transpose())\n",
      "dt = linalg.det(covmat)\n",
      "A = 1./((2*pi)*sqrt(dt))\n",
      "covinv = linalg.inv(covmat)\n",
      "g = zeros((100,100), float)\n",
      "avg = M.mean(0)\n",
      "for i in range(100) :\n",
      "    for j in range(100) :\n",
      "        xvec = array([i,j]) / 10.\n",
      "        t = xvec - avg\n",
      "        temp = -0.5*dot(dot(t, covinv), transpose(t))\n",
      "        g[i,j] = A * ( exp(temp))\n",
      "        \n",
      "akando.Plot2D('plot.txt',g)"
     ],
     "language": "python",
     "metadata": {},
     "outputs": [],
     "prompt_number": 110
    },
    {
     "cell_type": "code",
     "collapsed": false,
     "input": [
      "%%writefile cmd.txt\n",
      "set output 'plot.png'\n",
      "set terminal png\n",
      "plot 'plot.txt'"
     ],
     "language": "python",
     "metadata": {},
     "outputs": [
      {
       "output_type": "stream",
       "stream": "stdout",
       "text": [
        "Overwriting cmd.txt\n"
       ]
      }
     ],
     "prompt_number": 111
    },
    {
     "cell_type": "code",
     "collapsed": false,
     "input": [
      "!gnuplot cmd.txt"
     ],
     "language": "python",
     "metadata": {},
     "outputs": [],
     "prompt_number": 112
    },
    {
     "cell_type": "code",
     "collapsed": false,
     "input": [
      "img=mpimg.imread('ldata.png')\n",
      "plt.imshow(img)"
     ],
     "language": "python",
     "metadata": {},
     "outputs": [
      {
       "metadata": {},
       "output_type": "pyout",
       "prompt_number": 113,
       "text": [
        "<matplotlib.image.AxesImage at 0x8f51d90>"
       ]
      },
      {
       "metadata": {},
       "output_type": "display_data",
       "png": "[encoded data removed]",
       "text": [
        "<matplotlib.figure.Figure at 0x87db350>"
       ]
      }
     ],
     "prompt_number": 113
    },
    {
     "cell_type": "markdown",
     "metadata": {},
     "source": [
      "<img src='figure/fg5-10.png' />"
     ]
    },
    {
     "cell_type": "heading",
     "level": 2,
     "metadata": {},
     "source": [
      "5.5 Probabilities"
     ]
    },
    {
     "cell_type": "markdown",
     "metadata": {},
     "source": [
      "4 alphabet(A, G, C, T) case, \n",
      "\n",
      "* p(A) = 0.25\n",
      "* p(A) + p(C) + p(G) + p(T) = 1.00\n",
      "* p(A|1)p(A|2) = .0625\n",
      "* P(~A) = 0.75\n",
      "* all A(10 length) ?"
     ]
    },
    {
     "cell_type": "markdown",
     "metadata": {},
     "source": [
      "<img src='./figure/eq5-12.png' />"
     ]
    },
    {
     "cell_type": "code",
     "collapsed": false,
     "input": [
      "1- (0.75)**10"
     ],
     "language": "python",
     "metadata": {},
     "outputs": [
      {
       "metadata": {},
       "output_type": "pyout",
       "prompt_number": 120,
       "text": [
        "0.9436864852905273"
       ]
      }
     ],
     "prompt_number": 120
    },
    {
     "cell_type": "heading",
     "level": 2,
     "metadata": {},
     "source": [
      "5.6 Odds"
     ]
    },
    {
     "cell_type": "markdown",
     "metadata": {},
     "source": [
      "<img src='./figure/eq5-13.png' />"
     ]
    },
    {
     "cell_type": "heading",
     "level": 2,
     "metadata": {},
     "source": [
      "5.7 Decisions from Distributions"
     ]
    },
    {
     "cell_type": "markdown",
     "metadata": {},
     "source": [
      "<img src='./figure/fg5-11.png' />"
     ]
    }
   ],
   "metadata": {}
  }
 ]
}