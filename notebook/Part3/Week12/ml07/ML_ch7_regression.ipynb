{
 "metadata": {
  "name": "",
  "signature": "sha256:31eb3f17e7a149bd5e0c6b7dcd0d7c3bb4f235c2320e0c9b7f00e922b8347d01"
 },
 "nbformat": 3,
 "nbformat_minor": 0,
 "worksheets": [
  {
   "cells": [
    {
     "cell_type": "markdown",
     "metadata": {},
     "source": [
      " #ML CH7. \ud68c\uadc0 : \ucd94\ucc9c\n",
      "\n",
      "- OLS (\ucd5c\uc18c\uc81c\uacf1\ubc95 : \uadfc\uc0ac\uc801\uc73c\ub85c \uad6c\ud560\ub294 \ud574\uc640 \uc2e4\uc81c \ud574\uc758 \uc624\ucc28\uc758 \uc81c\uacf1\ud569\uc774 \ucd5c\uc18c\uac00\ub418\ub294 \ud574\ub97c \uad6c\ud558\ub294 \ubc29\ubc95) \ud68c\uadc0\uc758 \uc0ac\uc6a9 \ubc29\ubc95\uc744 \uc775\ud788\uace0, Numpy\uc640 Scikit-learn\uc73c\ub85c \uad6c\ud604\ud574 \ubd04.\n",
      "- \uc608\uc81c \uc218(N)\ubcf4\ub2e4 \uc18d\uc131(feature)\uc758 \uc218\uac00 \ub354 \ub9ce\uc744 \ub54c\uc758 \ucc98\ub9ac \ubb38\uc81c - \ub77c\uc18classo, \ub9ac\uc9c0ridge, \uc568\ub798\uc2a4\ud2f1 \ub137 elastic net \ubc29\ubc95.\n",
      "\n",
      "## Regression\n",
      "![\ud14d\uc2a4\ud2b8](regression-to-the-mean.png)\n",
      "- \uace8\ud2bc, \"Regression to the mean\"\n",
      "- \uc694\uc998 \ub9d0\ub85c \ud55c\ub2e4\uba74 \"\uc62c\ub77c\uac08 \ud300\uc740 \uc62c\ub77c\uac00\uace0, \ub0b4\ub824\uac08 \ud300\uc740 \ub0b4\ub824\uac04\ub2e4\"... \uc815\ub3c4?"
     ]
    },
    {
     "cell_type": "markdown",
     "metadata": {},
     "source": [
      "- \uc774 \ucc55\ud130\ub294 \ud68c\uadc0\ub97c \uba38\uc2e0\ub7ec\ub2dd\uc758 \uad00\uc810\uc5d0\uc11c \uc811\uadfc\ud568.\n",
      "- \ud68c\uadc0\uc5d0 \ub300\ud55c \uc124\uba85 \ubcf4\ub2e4\ub294 \uba38\uc2e0\ub7ec\ub2dd\uc744 \ub3cc\ub9ac\uace0, \ubb38\uc81c\ub97c \ud574\uacb0\ud558\ub294 \uad00\uc810.\n",
      "- \ud3c9\uac00 \uc5ed\uc2dc \ubaa8\ub378\uc744 \ud3c9\uac00\ud558\ub294 \uac83\uc774 \uc544\ub2c8\ub77c, \ubaa8\ub378\uc758 \ud37c\ud3ec\uba3c\uc2a4\ub97c \ud3c9\uac00\ud568."
     ]
    },
    {
     "cell_type": "markdown",
     "metadata": {},
     "source": [
      "## \ud68c\uadc0\ub97c \ud1b5\ud55c \uc8fc\ud0dd \uac00\uaca9 \uc608\uc0c1\n",
      "\n",
      "- \ubcf4\uc2a4\ud134\uc758 \uc8fc\ud0dd \uac00\uaca9\uc744 \uc608\uc0c1\ud558\ub294 \ubb38\uc81c.\n",
      "- scikit-learn\uc5d0 \ud3ec\ud568\ub41c load_boston \ub370\uc774\ud130\uc14b \uc774\uc6a9.\n",
      "- feature: \uacf5\uac1c\ub41c \ub370\uc774\ud130\ub294 \ubc94\uc8c4 \ube44\uc728, \ud559\uc0dd\uacfc \uc120\uc0dd\ub2d8 \ube44\uc728 \ub4f1 \uc778\uad6c \ud1b5\uacc4\ud559\uc801 \uc18d\uc131\uc744 \ud1b5\ud56d\n",
      "- \ud0c0\uac9f\ubcc0\uc218: \ubcf4\uc2a4\ud134\uc758 \ud2b9\uc815 \uc9c0\uc5ed \uc8fc\ud0dd\uc758 \uc911\uac04\uac12\uc744 \uc608\uce21\ud568"
     ]
    },
    {
     "cell_type": "code",
     "collapsed": false,
     "input": [
      "from sklearn.datasets import load_boston   #\ub370\uc774\ud130 \uc14b\uc744 \ub85c\ub4dc\ud568\n",
      "boston = load_boston()"
     ],
     "language": "python",
     "metadata": {},
     "outputs": [],
     "prompt_number": 1
    },
    {
     "cell_type": "markdown",
     "metadata": {},
     "source": [
      "\ub370\uc774\ud130\ub97c \uc870\uae08 \ud0d0\uc0c9\ud574\ubcf4\uc790."
     ]
    },
    {
     "cell_type": "code",
     "collapsed": false,
     "input": [
      "print boston.DESCR\n",
      "\n",
      "# 506\uac1c\uc758 case \uc218 - \ub9c8\uc744(\uad6c\uc5ed?)\ubcc4 \ud3c9\uade0\uac12\uc778\ub4ef.\n",
      "# \ud0c0\uac9f \ubcc0\uc218 : MEDV _ \uc790\uac00 \uc18c\uc720 \uc9d1\ub4e4\uc758  \uc911\uac04\uac12. \ub2e8\uc704: 1000$\n",
      "\n",
      "\"\"\"\n",
      "\uc608\uce21\ubcc0\uc218 (N: numerical, C: categorical)\n",
      "CRIM (N) _ \ub9c8\uc744(town)\uc758 \uc778\uad6c\ub2f9 \ubc94\uc8c4\uc728 \n",
      "ZN (N) _ 25000\ud3c9\ubc29\ud53c\ud2f0\ub97c \ucd08\uacfc\ud558\ub294 \ud0dd\uc9c0(\uac70\uc8fc\uc6a9 \ub545)\uc758 \ube44\uc728\n",
      "INDUS (N) _  \ube44\uc18c\ub9e4\uc5c5 \uba74\uc801\uc758 \ube44\uc911\n",
      "CHAS (C) _ \ucc30\uc2a4\uac15\uc744 \ub07c\uace0 \uc788\ub294 \uc9c0\uc5ed 1, \uadf8\uc678\ub294 0\n",
      "NOX (N) _ \uc9c8\uc18c\uc0b0\ud654\ubb3c\uc758 \ub18d\ub3c4 (\uacf5\uae30\uc624\uc5fc \uc815\ub3c4)\n",
      "RM (N)_ \uc8fc\ud0dd\uc758 \ud3c9\uade0 \ubc29 \uac2f\uc218\n",
      "AGE (N)_ 1940\ub144 \uc774\uc804\uc5d0 \uc9c0\uc5b4\uc9c4 \uc9d1\ub4e4\uc758 \ube44\uc728 (\ub9c8\uc744\uc758 \ub178\ud6c4\ud654 \uc815\ub3c4)\n",
      "DIS (N) _  \ubcf4\uc2a4\ud134\uc758 5\uac1c \uace0\uc6a9\uc13c\ud130\uc640\uc758 \uac70\ub9ac \n",
      "RAD  (N) _ \ub3c4\uc2dc\uace0\uc18d\ub3c4\ub85c?(radial highway)\uc640\uc758 \uc811\uadfc\uc131 \uc9c0\uc218\n",
      "TAX (N) _ \uc7ac\uc0b0\uc138 \ube44\uc728 (\uc5bc\ub9c8\ub098 \uc790\uc0b0\uc774 \ub9ce\uc740\uc9c0, \ubd80\uc790\uc778\uc9c0)\n",
      "PTRATIO (N) _ \ud559\uc0dd/\uad50\uc0ac \ube44\uc728\n",
      "B (N) _ \ud751\uc778\uc758 \ube44\uc728\n",
      "LSTAT (N)_  \ud558\uc704 \uacc4\uce35 \ube44\uc728 \n",
      "\"\"\"\n",
      "\n",
      "print \n",
      "\n"
     ],
     "language": "python",
     "metadata": {},
     "outputs": [
      {
       "output_type": "stream",
       "stream": "stdout",
       "text": [
        "Boston House Prices dataset\n",
        "\n",
        "Notes\n",
        "------\n",
        "Data Set Characteristics:  \n",
        "\n",
        "    :Number of Instances: 506 \n",
        "\n",
        "    :Number of Attributes: 13 numeric/categorical predictive\n",
        "    \n",
        "    :Median Value (attribute 14) is usually the target\n",
        "\n",
        "    :Attribute Information (in order):\n",
        "        - CRIM     per capita crime rate by town\n",
        "        - ZN       proportion of residential land zoned for lots over 25,000 sq.ft.\n",
        "        - INDUS    proportion of non-retail business acres per town\n",
        "        - CHAS     Charles River dummy variable (= 1 if tract bounds river; 0 otherwise)\n",
        "        - NOX      nitric oxides concentration (parts per 10 million)\n",
        "        - RM       average number of rooms per dwelling\n",
        "        - AGE      proportion of owner-occupied units built prior to 1940\n",
        "        - DIS      weighted distances to five Boston employment centres\n",
        "        - RAD      index of accessibility to radial highways\n",
        "        - TAX      full-value property-tax rate per $10,000\n",
        "        - PTRATIO  pupil-teacher ratio by town\n",
        "        - B        1000(Bk - 0.63)^2 where Bk is the proportion of blacks by town\n",
        "        - LSTAT    % lower status of the population\n",
        "        - MEDV     Median value of owner-occupied homes in $1000's\n",
        "\n",
        "    :Missing Attribute Values: None\n",
        "\n",
        "    :Creator: Harrison, D. and Rubinfeld, D.L.\n",
        "\n",
        "This is a copy of UCI ML housing dataset.\n",
        "http://archive.ics.uci.edu/ml/datasets/Housing\n",
        "\n",
        "\n",
        "This dataset was taken from the StatLib library which is maintained at Carnegie Mellon University.\n",
        "\n",
        "The Boston house-price data of Harrison, D. and Rubinfeld, D.L. 'Hedonic\n",
        "prices and the demand for clean air', J. Environ. Economics & Management,\n",
        "vol.5, 81-102, 1978.   Used in Belsley, Kuh & Welsch, 'Regression diagnostics\n",
        "...', Wiley, 1980.   N.B. Various transformations are used in the table on\n",
        "pages 244-261 of the latter.\n",
        "\n",
        "The Boston house-price data has been used in many machine learning papers that address regression\n",
        "problems.   \n",
        "     \n",
        "**References**\n",
        "\n",
        "   - Belsley, Kuh & Welsch, 'Regression diagnostics: Identifying Influential Data and Sources of Collinearity', Wiley, 1980. 244-261.\n",
        "   - Quinlan,R. (1993). Combining Instance-Based and Model-Based Learning. In Proceedings on the Tenth International Conference of Machine Learning, 236-243, University of Massachusetts, Amherst. Morgan Kaufmann.\n",
        "   - many more! (see http://archive.ics.uci.edu/ml/datasets/Housing)\n",
        "\n",
        "\n"
       ]
      }
     ],
     "prompt_number": 2
    },
    {
     "cell_type": "markdown",
     "metadata": {},
     "source": [
      "- \uc8fc\uac70\uc9c0\uc758 \ud3c9\uade0 \ubc29 \uac2f\uc218(RM) \ud558\ub098\uc758 \uc18d\uc131\uc73c\ub85c \uac00\uaca9\uc744 \uc608\uce21\ud574\ubcf4\uc790.\n",
      "- \ubc29 \uac2f\uc218\uac00 \ub9ce\uc740\uc9d1 _ \ud070 \uc9d1\uc774 \ub9ce\uc740 \uacf3\uc740 \uac00\uaca9\ub3c4 \ube44\uc2f8\uc9c0 \uc54a\uc744\uae4c?"
     ]
    },
    {
     "cell_type": "code",
     "collapsed": false,
     "input": [
      "# \ub370\uc774\ud130 \ud0d0\uc0c9\n",
      "# X\ucd95\uc5d0\ub294 \ubc29\uc758 \uac2f\uc218, Y\ucd95\uc5d0\ub294 \uc9d1\uac12\uc73c\ub85c \uadf8\ub824\ubcf4\uc790.\n",
      "\n",
      "%matplotlib inline                                                                              \n",
      "from matplotlib import pyplot as plt\n",
      "plt.scatter(boston.data[:,5], boston.target, color = 'r')\n",
      "plt.xlabel('RM')\n",
      "plt.ylabel('MEDV')\n",
      "plt.show()"
     ],
     "language": "python",
     "metadata": {},
     "outputs": [
      {
       "metadata": {},
       "output_type": "display_data",
       "png": "[encoded data removed]",
       "text": [
        "<matplotlib.figure.Figure at 0xd02cad0>"
       ]
      }
     ],
     "prompt_number": 3
    },
    {
     "cell_type": "code",
     "collapsed": false,
     "input": [
      "# \ucd5c\uc18c\uc81c\uacf1 \ud68c\uadc0\ub97c \uc0ac\uc6a9\ud568.\n",
      "\n",
      "import numpy as np\n",
      "\n",
      "x = boston.data[:,5]                        # \ubc29 \uc218 \ub370\uc774\ud130\ub97c x\uc5d0 \uc0bd\uc785\n",
      "x = np.array([[v] for v in x])       # 2\ucc28\uc6d0 \ubca1\ud130\ub85c \ubcc0\ud658. linalg\uc758 \uc785\ub825\uac12\uc740 2\ucc28\uc6d0 \ubca1\ud130\uc784. 1X506 -> 506X1\n",
      "print x[:10]"
     ],
     "language": "python",
     "metadata": {},
     "outputs": [
      {
       "output_type": "stream",
       "stream": "stdout",
       "text": [
        "[[ 6.575]\n",
        " [ 6.421]\n",
        " [ 7.185]\n",
        " [ 6.998]\n",
        " [ 7.147]\n",
        " [ 6.43 ]\n",
        " [ 6.012]\n",
        " [ 6.172]\n",
        " [ 5.631]\n",
        " [ 6.004]]\n"
       ]
      }
     ],
     "prompt_number": 4
    },
    {
     "cell_type": "code",
     "collapsed": false,
     "input": [
      "# \ud68c\uadc0\uc2dd \uacc4\uc0b0\n",
      "\n",
      "y = boston.target\n",
      "slope,_,_,_ = np.linalg.lstsq(x,y)\n",
      "\n",
      "print slope # \uae30\uc6b8\uae30\ub9cc \uc77c\ub2e8 \ucde8\ud568\n"
     ],
     "language": "python",
     "metadata": {},
     "outputs": [
      {
       "output_type": "stream",
       "stream": "stdout",
       "text": [
        "[ 3.6533504]\n"
       ]
      }
     ],
     "prompt_number": 5
    },
    {
     "cell_type": "code",
     "collapsed": false,
     "input": [
      "fx = range(0, 11)\n",
      "fy = [slope * x for x in fx]\n",
      "\n",
      "plt.scatter(boston.data[:,5], boston.target, color = 'r')                  # \uc0b0\ud3ec\ub3c4.\n",
      "plt.plot(fx, fy, color = 'b', label='Fitted line')                            # \ud30c\ub780\uc0c9\uc73c\ub85c \uc120 \uadf8\ub798\ud504 \uc62c\ub9ac\uace0. # \uc548\uc608\uc058\uad70.\n",
      "\n",
      "plt.xlabel('RM')           # x\ucd95 \ub77c\ubca8. \ud55c\uae00\uc740 \uae68\uc9d0. \n",
      "plt.ylabel('MEDV')     # y\ucd95 \ub77c\ubca8.\n",
      "plt.show()"
     ],
     "language": "python",
     "metadata": {},
     "outputs": [
      {
       "metadata": {},
       "output_type": "display_data",
       "png": "[encoded data removed]",
       "text": [
        "<matplotlib.figure.Figure at 0xd049fb0>"
       ]
      }
     ],
     "prompt_number": 6
    },
    {
     "cell_type": "markdown",
     "metadata": {},
     "source": [
      "- \uc9d1\uc758 \uac00\uaca9 (MEDV) = \ud68c\uadc0\uc2dd\uc758 \uae30\uc6b8\uae30 (slope) * \ubc29\uc218(RM) \uc73c\ub85c \uac00\uc815\ud558\uace0 \uadf8\ub9b0 \uac83.\n",
      "- \uc77c\ub2e8 \ub9de\uc544\ubcf4\uc774\uc9c0 \uc54a\uc74c. why?\n",
      "\n",
      "\ubb38\uc81c\uac00 \ub418\ub294 \uac00\uc815\n",
      "- \ubc29\uc758 \uc218\uac00 2\ubc30\uac00 \ub41c\ub2e4\uace0, \uc9d1\uc758 \uac00\uaca9\uc774 2\ubc30\uac00 \ub41c\ub2e4\uace0 \uc0c1\uc2dd\uc801\uc73c\ub85c \uc0dd\uac01\ud560 \uc218 \uc5c6\uc74c.\n",
      "- \ubc29\uc758 \uc218\uac00 0\uc774\uba74 \uc9d1\uac12\ub3c4 0? \n",
      "\n",
      "\uadf8\ub7fc \uc5b4\ub5bb\uac8c?\n",
      "- \uc77c\ub2e8, \uce68\uc2e4\uc774 \uc5c6\ub294 \uc544\ud30c\ud2b8\uc758 \uae30\ubcf8 \uac00\uaca9(\ud3b8\ud5a5, bias)\uc744 \ub354\ud558\ub294 \ubc29\ubc95\uc774 \uc788\uc744 \uc218 \uc788\uc74c.\n",
      "- '\ubaa8\ub4e0' \uc9d1\uc758 \ubc29 \uc218\ub97c 0\ubcf4\ub2e4 \ud06c\uac8c \ub9cc\ub4e4\uae30 \uc704\ud558\uc5ec, \ubaa8\ub4e0 RM \uac12\uc5d0 1\uc529\uc744 \ub354\ud574\ubcf4\uc790."
     ]
    },
    {
     "cell_type": "code",
     "collapsed": false,
     "input": [
      "x = boston.data[:,5]\n",
      "\n",
      "x = np.array([[v,1] for v in x])   # [v] \ub300\uc2e0\uc5d0 [v,1]\uc744 \uc0ac\uc6a9\ud55c\ub2e4.                 #  \uc65c \uc774\uac8c x \uac12\uc5d0 1\uc529\uc744 \ub354\ud558\ub294 \uc2dd\uc774 \ub418\ub294 \uac70\uc9c0????\n",
      "y = boston.target\n",
      "(slope,bias),_,_,_ = np.linalg.lstsq(x,y)    # \uae30\uc6b8\uae30\uc640 y \uc808\ud3b8 \uad6c\ud568.\n",
      "\n",
      "\n",
      "fx = range(3, 10)\n",
      "fy = [slope  * i + bias for i in fx]\n",
      "\n",
      "plt.scatter(boston.data[:,5], boston.target, color = 'r')                  # \uc0b0\ud3ec\ub3c4.\n",
      "plt.plot(fx,fy, color = 'b', label='Fitted line')  \n",
      "\n",
      "plt.xlabel('RM')           # x\ucd95 \ub77c\ubca8. \ud55c\uae00\uc740 \uae68\uc9d0. \n",
      "plt.ylabel('MEDV')     # y\ucd95 \ub77c\ubca8.\n",
      "plt.show()\n",
      "\n"
     ],
     "language": "python",
     "metadata": {},
     "outputs": [
      {
       "metadata": {},
       "output_type": "display_data",
       "png": "[encoded data removed]",
       "text": [
        "<matplotlib.figure.Figure at 0xd183f70>"
       ]
      }
     ],
     "prompt_number": 7
    },
    {
     "cell_type": "markdown",
     "metadata": {},
     "source": [
      "\ud3c9\uac00\n",
      "- \uc544\uae4c\ubcf4\ub2e4\ub294 \uc870\uae08 \ub354 \ub098\uc544 \ubcf4\uc784.\n",
      "\n",
      "\uacb0\uacfc\uc758 \uce21\uc815\n",
      "- \uc815\ub7c9\uc801\uc73c\ub85c \uc5bc\ub9c8\ub098 \uc798 \uc801\ud569\ud654 \ub410\ub294\uc9c0 \uce21\uc815\ud574\ubcf4\uc790.\n",
      "- \ud68c\uadc0\uc120\uc774 \uc608\uce21\ud55c \uacb0\uacfc(blue line)\uc640, \uc2e4\uc81c\uc758 \uc8fc\ud0dd \uac00\uaca9(red dots)\uc774 \uc5bc\ub9c8\ub098 \uc720\uc0ac\ud55c\uc9c0 \uc54c\uc544\ubcf4\uc544\uc57c \ud55c\ub2e4.\n",
      "\n",
      "RMSE(root mean squared error, \ud3c9\uade0 \uc81c\uacf1\uadfc \uc624\ucc28)\ub85c \uce21\uc815\ud568.\n",
      "- \uac01 \uc810\ub4e4\uacfc \ud68c\uadc0\uc120\uacfc\uc758 \uac70\ub9ac \ub4e4\uc744 \uad6c\ud568 (error) \n",
      "- \uac70\ub9ac\ub4e4\uc758 \uc81c\uacf1\uc744 \ucde8\ud568 (squared error)\n",
      "- \uc774\ub4e4\uc758 \ud3c9\uade0\uc744 \uad6c\ud568 (mean squared error)\n",
      "- \ud3c9\uade0\uc758 \uc81c\uacf1\uadfc\uc744 \uad6c\ud568. "
     ]
    },
    {
     "cell_type": "code",
     "collapsed": false,
     "input": [
      "(slope, bias), total_error,_,_ = np.linalg.lstsq(x,y)\n",
      "rmse = np.sqrt(total_error[0]/len(x))\n",
      "\n",
      "print \"RMSE=\", rmse"
     ],
     "language": "python",
     "metadata": {},
     "outputs": [
      {
       "output_type": "stream",
       "stream": "stdout",
       "text": [
        "RMSE= 6.60307138922\n"
       ]
      }
     ],
     "prompt_number": 8
    },
    {
     "cell_type": "markdown",
     "metadata": {},
     "source": [
      "- \uccab \ubc88\uc9f8 \ubaa8\ub378\uc758 RMSE\ub294 7.6\n",
      "- \ub450 \ubc88\uc9f8 \ubaa8\ub378 (\ud3b8\ud5a5 \ucd94\uac00\ud55c)\uc758 RMSE\ub294 6.6\n",
      "\n",
      "\uc774\ub294 \uc774 \ubaa8\ub378\uc774 \ud3c9\uade0 6.6 MEDV\uc758 \uc624\ucc28\ub97c \uac16\ub294\ub2e4\ub294 \ub9d0\ub85c, \uc2e4\uc81c \uac00\uaca9\uacfc \uac70\uc758 \ub9cc\uc0bc\ucc9c\ub2ec\ub7ec \uc815\ub3c4 \ucc28\uc774 \uc788\uc74c\uc744 \ub73b\ud568. \n",
      "(6600\ub2ec\ub7ec\uac00 \uc544\ub2c8\ub77c??)"
     ]
    },
    {
     "cell_type": "markdown",
     "metadata": {},
     "source": [
      "# \ub2e4\ucc28\uc6d0 \ud68c\uadc0\n",
      "\n",
      "- \uc704 \uae4c\uc9c0\ub294 '\ubc29\uc758 \uc218'\ub77c\ub294 \ud558\ub098\uc758 \ubcc0\uc218\ub9cc\uc744 \uc0ac\uc6a9\ud558\uc5ec \uc9d1\uac12\uc744 \uc608\uce21\ud588\uc74c.\n",
      "- \uadf8\ub807\ub2e4\uba74, \uc774 \ub370\uc774\ud130\uc758 13\uac1c \ubaa8\ub4e0 attribute\ub97c \uc804\ubd80 \uc0ac\uc6a9\ud558\uc5ec \uc608\uce21\ud574 \ubcf4\uc790."
     ]
    },
    {
     "cell_type": "code",
     "collapsed": false,
     "input": [
      "x = np.array([np.concatenate((v, [1])) for v in boston.data])       # \uc65c concatenate ?\n",
      "y = boston.target\n",
      "\n",
      "s, total_error,_,_ = np.linalg.lstsq(x,y)\n",
      "rmse = np.sqrt(total_error[0]/len(x))\n",
      "\n",
      "print \"RMSE=\", rmse"
     ],
     "language": "python",
     "metadata": {},
     "outputs": [
      {
       "output_type": "stream",
       "stream": "stdout",
       "text": [
        "RMSE= 4.67950630064\n"
       ]
      }
     ],
     "prompt_number": 9
    },
    {
     "cell_type": "markdown",
     "metadata": {},
     "source": [
      "\n",
      "- 13\uac1c\uc758 \ubcc0\uc218\ub97c \ubaa8\ub450 \uc0ac\uc6a9\ud574\uc11c, RMSE\uac12\uc740 \ub354 \ub098\uc544\uc84c\ub2e4. (6.6 ->4.7)\n",
      "- \uadf8\ub7ec\ub098 \uad50\ucc28 \uac80\uc99d\uc744 \ud574\ubcf4\uae30 \uc704\ud558\uc5ec, scikit-learn\uc744 \uc774\uc6a9\ud558\uc5ec \ud14c\uc2a4\ud2b8 \ud574\ubcf4\uc790.\n",
      "- scikit-learn\uc758 \uc120\ud615 \ud68c\uadc0 \ud074\ub798\uc2a4\uc640 kfold \uc774\uc6a9."
     ]
    },
    {
     "cell_type": "code",
     "collapsed": false,
     "input": [
      "from sklearn.linear_model import LinearRegression                        # sklearn\uc758 \uc120\ud615\ud68c\uadc0 \ud074\ub798\uc11c \ubd88\ub7ec\uc624\uae30.\n",
      "\n",
      "lr = LinearRegression(fit_intercept=True)                                            # \ud3b8\ud5a5 \ud56d\uc744 \ucd94\uac00\ud558\uae30 \uc704\ud558\uc5ec, fit_intercept = True\ub85c \uc124\uc815. ??\n",
      "\n",
      "lr.fit(x,y)\n",
      "p = map(lr.predict, x)   # lr.predict -> \ud68c\uadc0\uc2dd \uc790\uccb4\ub97c \ubc1b\uc544\uc634. x\uac12\uc744 \ud68c\uadc0\uc2dd\uc5d0 \ub123\uc5b4, \uc608\uce21\uac12\uc758 \ub9ac\uc2a4\ud2b8\ub97c \ub9ac\ud134\ud568.\n",
      "\n",
      "print zip(p,y)[:10]   \n",
      "# \ucd9c\ub825\ub41c tuple\uc758 \uc55e\uc774 \uc608\uce21\uac12, \ub4a4\uac00 \uc815\ub2f5\uc784."
     ],
     "language": "python",
     "metadata": {},
     "outputs": [
      {
       "output_type": "stream",
       "stream": "stdout",
       "text": [
        "[(30.008212692344618, 24.0), (25.029860603818804, 21.600000000000001), (30.570231695891625, 34.700000000000003), (28.608140549202236, 33.399999999999999), (27.942882319320439, 36.200000000000003), (25.25940047937797, 28.699999999999999), (23.004339941026412, 22.899999999999999), (19.534755802206455, 27.100000000000001), (11.516965391483481, 16.5), (18.919814830982894, 18.899999999999999)]\n"
       ]
      }
     ],
     "prompt_number": 10
    },
    {
     "cell_type": "code",
     "collapsed": false,
     "input": [
      "e =p - y                                                # \uac01 \uc608\uce21\uac12\uacfc, \uc815\ub2f5\uac12\uc758 \ucc28\uc774\ub4e4\uc744 \uad6c\ud568\n",
      "total_error = np.sum(e*e)                                  # \uc624\ucc28\uc758 \uc81c\uacf1\uc758 \ud569.\n",
      "rmse_train = np.sqrt(total_error/len(p))     #  \ud3c9\uade0 \uc81c\uacf1\uadfc \uc624\ucc28.\n",
      "print \"RMSE on training : {}\".format(rmse_train)\n",
      "\n",
      "# \uc774\uc804 \uac12\uacfc \uac19\uc740 \uac12\uc774 \ub098\uc654\uc74c."
     ],
     "language": "python",
     "metadata": {},
     "outputs": [
      {
       "output_type": "stream",
       "stream": "stdout",
       "text": [
        "RMSE on training : 4.67950630064\n"
       ]
      }
     ],
     "prompt_number": 11
    },
    {
     "cell_type": "code",
     "collapsed": false,
     "input": [
      "# k-fold \ud074\ub798\uc2a4\ub97c \uc0ac\uc6a9\ud55c 10\uc911\ucca9 \uad50\ucc28 \uac80\uc99d \ubc18\ubcf5.\n",
      "\n",
      "x = np.array([np.concatenate((v, [1])) for v in boston.data])   \n",
      "y = boston.target\n",
      "\n",
      "from sklearn.cross_validation import KFold\n",
      "kf = KFold(len(x), n_folds = 10)       # kFold object \uc0dd\uc131, \ucd1d case \uc218\uc640, fold \uc218 \uc785\ub825.\n",
      "err = 0\n",
      "for train, test in kf :                             # kf\uc5d0\uc11c train set\uacfc, test set\uc758 index\ub97c \ubc1b\uc544 \uc624\ub294 \uc791\uc5c5\uc744 \ubc18\ubcf5.\n",
      "    #print y[train]\n",
      "    lr.fit(x[train], y[train])                 # attribute\ub4e4\uc758 train \uc14b\uacfc, target\uc758 train set\uc73c\ub85c \ud68c\uadc0 \ubaa8\ub378 \uc218\ud589.\n",
      "    p = map(lr.predict, x[test])       # \ud14c\uc2a4\ud2b8 \uac12\uc744 \ud68c\uadc0\uc2dd\uc5d0 \ud1b5\uacfc\uc2dc\ucf1c\uc11c, \ud14c\uc2a4\ud2b8 \uac12\uc758 \uc608\uce21 \uac12\ub4e4\uc744 \ub9ac\uc2a4\ud2b8\ub85c \ubc18\ud658.\n",
      "    e = p-y[test]                                    # \uc624\ucc28\uc758 \ud569 \uad6c\ud568.\n",
      "    err += np.sum(e*e)                      # \uc81c\uacf1\ud569 \uc0b0\ucd9c. 10\ubc88\uc758 \uad50\ucc28\uac80\uc99d\uc5d0 \ub300\ud55c, 10\uac1c\uc758 \ud14c\uc2a4\ud2b8 \uc14b \uc794\ucc28\ub97c \ubaa8\ub450 \ub354\ud55c \uac83.\n",
      "    \n",
      "rmse_10cv = np.sqrt(err/len(x))  # \ud3c9\uade0 \uc81c\uacf1\uadfc.\n",
      "print \"RMSE on 10-fold CV : {}\".format(rmse_10cv)"
     ],
     "language": "python",
     "metadata": {},
     "outputs": [
      {
       "output_type": "stream",
       "stream": "stdout",
       "text": [
        "RMSE on 10-fold CV : 5.88192507243\n"
       ]
      }
     ],
     "prompt_number": 12
    },
    {
     "cell_type": "markdown",
     "metadata": {},
     "source": [
      "- 10\uc911\ucca9 \uad50\ucc28 \uac80\uc99d\uc758 \ud3c9\uade0 RMSE\ub294 5.88. \uc774\uc804 \ubaa8\ub378\ubcf4\ub2e4 \uc57d\uac04 \ubabb\ud558\ub2e4.\n",
      "\n",
      "Q. 10\uac1c\uc758 \ud68c\uadc0\uc2dd\uc774 \ub098\uc624\ub294\uac70 \uc544\ub2d8??\n",
      "\n",
      "## \ubc8c\uc810\ud654 \ud68c\uadc0 (penalized regression)\n",
      "\n",
      "\ubc8c\uc810\ud654 \ud68c\uadc0\ub294 \uc77c\ubc18\ucd5c\uc18c\uc81c\uacf1(OLS) \ud68c\uadc0\uc758 \ubcc0\ud615\uc784.\n",
      "- OLS\uc5d0\uc11c\ub294 \uacfc\uc801\ud569\ud654 \ub420 \uc218 \uc788\ub294 \ud6c8\ub828 \ub370\uc774\ud130\uc5d0 \ub300\ud574, \ucd5c\uc801\ud654\ub41c \uc801\ud569\uc131\uc744 \ubc18\ud658\ud568.\n",
      "- \ubc8c\uc810\ud654\ub294 \uacfc\uc801\ud569\ub41c \ubcc0\uc218\uc5d0 \ub300\ud558\uc5ec \ud328\ub110\ud2f0\ub97c \uc900\ub2e4\ub294 \uc758\ubbf8\n",
      "- \ud3b8\ud5a5(bias)\uacfc \ubcc0\ud654\ub7c9(variance)\uc758 \uade0\ud615\uc758 \uc608. \n",
      "- \uc911\uc694\ud558\uc9c0 \uc54a\uc740 \ub9e4\uac1c\ubcc0\uc218\uc5d0, \ubc8c\uc810\uc744 \ubd80\uc5ec\ud558\uc5ec \uc904\uc5ec \ubc84\ub9bc (\ucd95\uc18c)\n",
      "- \ub530\ub77c\uc11c \uc608\uce21 \uc131\ub2a5\uc744 \uac1c\uc120\ud558\uba74\uc11c\ub3c4, \uc18d\uc131\uc744 \uc120\ud0dd\ud558\uae30 \ub54c\ubb38\uc5d0, \uacc4\uc218\ub97c \ud574\uc11d\ud558\ub294\ub370 \ub354 \ub3c4\uc6c0\uc744 \uc90c.\n",
      "\n",
      "L1 \ubc8c\uce59 (\ub77c\uc18c, Lasso \ubc8c\uce59)\n",
      "- \uacc4\uc218\uc758 \uc808\ub300\uac12\uc758 \ud569\uc73c\ub85c \ud68c\uadc0\uc5d0 \ubc8c\uc810\uc744 \ubd80\uc5ec\ud568.\n",
      "\n",
      "L2 \ubc8c\uce59 (\ub9ac\uc9c0, Ridge \ubc8c\uce59) \n",
      "- \uacc4\uc218\uc758 \uc81c\uacf1\uc758 \ud569\uc73c\ub85c \ubc8c\uc810 \ubd80\uc5ec\ud568.\n",
      "\n",
      "\uc77c\ub798\uc2a4\ud2f1 \ub137(Elastic net) \n",
      "- L1\uacfc L2\uc758 \uacb0\ud569\n",
      "\n",
      "![\ud14d\uc2a4\ud2b8](argument.jpg)\n",
      "\n",
      "## \uc880 \uc27d\uac8c \uc124\uba85\ud574\ubcf8\ub2e4\uba74. (\uc790\uc2e0\uc5c6\uc74c)\n",
      "- OLS \ubaa8\ub378 = RMSE\ub97c \ucd5c\uc18c\ud654 \uc2dc\ud0a4\ub294 \ud68c\uadc0\uc2dd. -> bias\ub97c \ucd5c\uc18c\ud654\ud55c\ub2e4\ub294 \uc758\ubbf8.\n",
      "- \ubc8c\uc810\ud654 \ud68c\uadc0 : Bias(RMSE) + Variance(\ub78c\ub2e4x\uacc4\uc218\ud569) \uc758 \ucd5c\uc18c\ud654.\n",
      "- Bias\ub294 \ubaa8\ub4e0 \ub370\uc774\ud130\ub97c \ucd5c\ub300\ud55c \uc124\uba85\ud558\ub294 \uac83\uc784. \uadf8\ub7ec\ub098 Bias\uac00 \uc791\uc73c\uba74 overfitting\uc774 \uc77c\uc5b4\ub0a8. \ucee4\uc9c0\uba74 underfitting.\n",
      "- Variance\ub294 (\ubd84\uc0b0\uc774 \uc544\ub2c8\ub77c) \ud68c\uadc0 \ubaa8\ub378\uc758 '\ubbfc\uac10\ub3c4'\ub97c \ub73b\ud558\ub294 \uac83. variance\uac00 \ud06c\uba74 overfitting\uc774 \uc77c\uc5b4\ub09c\ub2e4\ub294 \uac83.\n",
      "- \uc989, \uc6b0\ub9ac\ub294 Bias\uc640 Variance\ub97c \ubaa8\ub450 \uace0\ub824\ud574\uc57c\ud558\uace0, \uc774\ub97c \ucd5c\uc801\ud654\uc2dc\ucf1c\uc57c \ud568.\n",
      "\n",
      " - Variance\ub294 \uc5b4\ub5bb\uac8c \uc904\uc774\ub294\uac00 ?\n",
      " - \ucc28\uc218\ub97c \uc904\uc774\ub358\uac00 \uacc4\uc218(\uc758 \uc808\ub300\uac12)\ub97c \uc904\uc774\ub358\uac00.\n",
      " - x\uac12\uc758 \uc6c0\uc9c1\uc784\uc5d0 \ub300\ud55c, y\uac12 \ubcc0\ud654\uc758 \ubbfc\uac10\ub3c4\ub97c \uc904\uc774\uc790\ub294 \uac83.\n",
      " - \ub530\ub77c\uc11c L1, L2 \ubc8c\uc810\ud654 \ud68c\uadc0\uc5d0\uc11c\ub294 variance\ub97c \"\uacc4\uc218\uc758 \ud569\"\uc73c\ub85c \uce21\uc815\ud558\uc5ec \ucd5c\uc801\ud654 \uacf5\uc2dd\uc5d0 \ub123\ub294 \uac70\uc784.\n",
      " \n",
      "![\ud14d\uc2a4\ud2b8](overfitting.jpg)\n",
      "\n",
      "- \uc67c\ucabd \uadf8\ub9bc: ch1\uc758 '\ucc28\uc218\uac00 \ub192\uc544\uc84c\uc744 \ub54c'\uc758 overfitting (\ud574\uacb0\ucc45: bias\ub97c \uc880 \uc190\ud574\ubcf4\uace0 \ucc28\uc218\ub97c \ub0ae\ucd98\ub2e4. = \ubbfc\uac10\ub3c4\ub97c \uc904\uc778\ub2e4.)\n",
      "- \uc624\ub978\ucabd \uadf8\ub9bc : ch7\uc758 '\uacc4\uc218\uac00 \ub192\uc544\uc84c\uc744 \ub54c'\uc758 overfitting (\ud574\uacb0\ucc45: bias\ub97c \uc880 \uc190\ud574\ubcf4\uace0 \uacc4\uc218\uc758 \uc808\ub300\uac12\uc744 \ub0ae\ucd98\ub2e4. = \ubbfc\uac10\ub3c4\ub97c \uc904\uc778\ub2e4.)\n",
      "- \uc774\uac83\uc774 'Bias\uc640 Variance\uc758 \uade0\ud615'\n",
      "- \uc774 \uc218\uc2dd\uc744 \uc5b4\ub5bb\uac8c \uacc4\uc0b0\ud558\ub294\uc9c0\ub294, \ub2e4\ud589\ud788\ub3c4 \ucc45\uc5d0 \ub098\uc640\uc788\uc9c0 \uc54a\uc74c.\n",
      "\n",
      "## \ub2e4\uc2dc \uad50\uc7ac\ub85c \ub3cc\uc544\uac00\uc11c,\n",
      "- \ub77c\uc18c\uc640 \ub9ac\uc9c0 \ubaa8\ub450 OLS\ubcf4\ub2e4 \uc791\uc740(smaller) \uacc4\uc218\ub97c \ub9cc\ub4ec\n",
      "- \ub77c\uc18c\ub294 0\uc774 \ub418\ub294 \uacc4\uc218\ub97c \ub9cc\ub4dc\ub294 \ucd94\uac00\uc801 \ud2b9\uc131\uc774 \uc788\ub2e4\uace0\ud568. (\uc18d\uc131 \uc120\ud0dd)\n",
      "\n",
      "- \uc5b4\ub5a0\ud55c \ubc8c\uce59\uc744 \ubd80\uc5ec\ud558\ub354\ub77c\ub3c4 \uac00\uc911\uce58 \ub78c\ub2e4(\u03bb)\ub97c \ud1b5\ud574 \uc870\uc815\ud560 \uc218 \uc788\uc74c\n",
      "- \ub78c\ub2e4\uac00 0\uc5d0 \uac00\uae4c\uc6b0\uba74 OLS\uc640 \ub9e4\uc6b0 \uc720\uc0ac\ud574\uc9c0\uace0, \ud074 \uacbd\uc6b0 \uc804\ud600 \ub2e4\ub978 \ubaa8\ub378\uc774 \ub428.\n"
     ]
    },
    {
     "cell_type": "code",
     "collapsed": false,
     "input": [
      "#\uc704\uc5d0\uc11c\uc758 \uc608\uc81c\uc640 \ube44\uad50\ud574 \ubcf4\uc790.\n",
      "\n",
      "from sklearn.datasets import load_boston   \n",
      "boston = load_boston()\n",
      "\n",
      "x = np.array([np.concatenate((v, [1])) for v in boston.data])    \n",
      "y = boston.target\n",
      "\n",
      "# \uc5ec\uae30\ubd80\ud130\n",
      "# \uc5d8\ub77c\uc2a4\ud2f1 \ub137 \ubaa8\ub378\n",
      "from sklearn.linear_model import ElasticNet\n",
      "en = ElasticNet(fit_intercept=True, alpha = 0.5)\n",
      "\n",
      "# OLS \ubaa8\ub378. \ube44\uad50\uc6a9\n",
      "from sklearn.linear_model import LinearRegression     \n",
      "lr = LinearRegression(fit_intercept=True)\n",
      "\n",
      "en.fit(x,y)  # \uc5d8\ub77c\uc2a4\ud2f1 \ub137 \ubaa8\ub378 \uc0dd\uc131\n",
      "p_en = map(en.predict,x) # \uc608\uce21\uac12 \uc0dd\uc131\n",
      "\n",
      "lr.fit(x,y)  # OLS \ubaa8\ub378 \uc0dd\uc131\n",
      "p_lr = map(lr.predict, x)  # \uc608\uce21\uac12 \uc0dd\uc131\n",
      "\n",
      "e =p_lr - y                                                \n",
      "total_error = np.sum(e*e)                                 \n",
      "rmse_train = np.sqrt(total_error/len(p_lr))     \n",
      "print \"RMSE on training (OLS): {}\".format(rmse_train)\n",
      "\n",
      "e =p_en - y                                                \n",
      "total_error = np.sum(e*e)                                 \n",
      "rmse_train = np.sqrt(total_error/len(p_en))     \n",
      "print \"RMSE on training (E.N): {}\".format(rmse_train)\n",
      "print\n",
      "\n",
      "\n",
      "from sklearn.cross_validation import KFold\n",
      "kf = KFold(len(x), n_folds = 10)       # kFold object \uc0dd\uc131, \ucd1d case \uc218\uc640, fold \uc218 \uc785\ub825.\n",
      "err_lr = 0\n",
      "err_en = 0\n",
      "\n",
      "for train, test in kf : \n",
      "    lr.fit(x[train],y[train])\n",
      "    en.fit(x[train], y[train])\n",
      "\n",
      "    p_lr = map (lr.predict, x[test])\n",
      "    p_en = map(en.predict, x[test])       \n",
      "\n",
      "    e_lr = p_lr - y[test]\n",
      "    e_en = p_en-y[test]\n",
      "\n",
      "    err_lr += np.sum(e_lr**2)\n",
      "    err_en += np.sum(e_en**2)\n",
      "\n",
      "rmse_10cv_lr = np.sqrt(err_lr/len(x))\n",
      "rmse_10cv_en = np.sqrt(err_en/len(x))\n",
      "\n",
      "print \"RMSE on 10-fold CV (OLS) : {}\".format(rmse_10cv_lr)\n",
      "print \"RMSE on 10-fold CV (E.N) : {}\".format(rmse_10cv_en)\n"
     ],
     "language": "python",
     "metadata": {},
     "outputs": [
      {
       "output_type": "stream",
       "stream": "stdout",
       "text": [
        "RMSE on training (OLS): 4.67950630064\n",
        "RMSE on training (E.N): 4.98547427243\n",
        "\n",
        "RMSE on 10-fold CV (OLS) : 5.88192507243\n",
        "RMSE on 10-fold CV (E.N) : 5.47790646659\n"
       ]
      }
     ],
     "prompt_number": 13
    },
    {
     "cell_type": "markdown",
     "metadata": {},
     "source": [
      "\uc124\uba85.\n",
      "- \uc989, \uc77c\ub798\uc2a4\ud2f1 \ub137 \uc54c\uace0\ub9ac\uc998\uc744 \uc0ac\uc6a9\ud558\uc600\uc744 \ub54c, OLS \ub300\ube44\ud558\uc5ec\n",
      "- Bias\ub294 \ucee4\uc84c\uc73c\ub098 (4.67 -> 4.98), \uc608\uce21\ub825(variance?, \ud14c\uc2a4\ud2b8\uc14b \uc815\ud655\ub3c4.)\uc740 \ub354 \uc88b\uc544\uc84c\uc74c. (5.88 ->5.47)\n",
      "\n",
      "\n",
      "## P\uac00 N\ubcf4\ub2e4 \ud070 \uc2dc\ub098\ub9ac\uc624.\n",
      "- \uc18d\uc131\uc758 \uac1c\uc218(P)\uac00 \ub370\uc774\ud130\uc758 \uac1c\uc218(N)\ubcf4\ub2e4 \ud070 \ucf00\uc774\uc2a4\uc758 \uacbd\uc6b0.\n",
      "- \uc608\ub97c \ub4e4\uc5b4, \uc785\ub825\uac12\uc774 \ud14d\uc2a4\ud2b8\uc758 \uc9d1\ud569\ub4e4\uc774\ub77c\uba74, \ud14d\uc2a4\ud2b8\uc5d0 \ud3ec\ud568\ub41c \ubaa8\ub4e0 \ub2e8\uc5b4\ub4e4\uc744 \uc18d\uc131\uc73c\ub85c \uace0\ub824\ud558\uc600\uc744 \ub54c, \n",
      "\uc18d\uc131\uc758 \uac2f\uc218\uac00 \ub354 \ud070 \ucf00\uc774\uc2a4\uac00 \ub098\ud0c0\ub0ac\ub358 \uac83.\n",
      "- \uc18d\uc131\uc758 \uac1c\uc218(P)\uac00 \uc608\uc81c\uc758 \uac1c\uc218(N)\ubcf4\ub2e4 \ud074 \uacbd\uc6b0, \ud6c8\ub828 \ub370\uc774\ud130\uc5d0 \ub300\ud55c \uc644\ubcbd\ud55c \uc801\ud569\ud654\ub294 \uac00\ub2a5\ud568. \uadf8\ub7ec\ub098 overfitting \ubb38\uc81c \ubc1c\uc0dd.\n",
      "- \uc704\uc758 \uc0ac\ub840\ub97c \uc751\uc6a9\ud558\uc5ec \uc774 \ubb38\uc81c\ub97c \ud480\uc5b4\ubcf4\uc790.\n",
      "\n",
      "\uce74\ub124\uae30 \uba5c\ub860 \ub300\ud559\uc758 \ub370\uc774\ud130\n",
      "- \uacf5\uacf5\uc815\ubcf4\uc5d0 \uae30\ubc18\uc744 \ub454 \ud68c\uc0ac \uc8fc\uc2dd\uc758 \ubbf8\ub798 \ubcc0\ub3d9\uc131 \uc608\uce21 \ubb38\uc81c.\n",
      "- N = 16087, \uc18d\uc131\uc740 \ub2e8\uc5b4\ub4e4\ub85c, P = 150,360\uac1c\n",
      "\n"
     ]
    },
    {
     "cell_type": "code",
     "collapsed": false,
     "input": [
      "from sklearn.datasets import load_svmlight_file\n",
      "data, target = load_svmlight_file('E2006.train')"
     ],
     "language": "python",
     "metadata": {},
     "outputs": [],
     "prompt_number": 14
    },
    {
     "cell_type": "code",
     "collapsed": false,
     "input": [
      "#\uac04\ub2e8\ud55c \ud0c0\uac9f \ub370\uc774\ud130 \ud0d0\uc0c9\n",
      "print \"Min target value: {}\".format(target.min())\n",
      "print \"Max target value: {}\".format(target.max())\n",
      "print \"Mean target value: {}\".format(target.mean())\n",
      "print \"Std.dev. target: {}\".format(target.std())\n",
      "print \"N : {}\".format(len(target))\n",
      "\n",
      "# \ub2e4\uc6b4\ubc1b\ub2e4\uac00 \uc880 \uc798\ub824\uc11c, 9513\uac1c\ub9cc \uc788\uc74c. \uc774\uac78\ub85c \uc77c\ub2e8 \ud558\uc790."
     ],
     "language": "python",
     "metadata": {},
     "outputs": [
      {
       "output_type": "stream",
       "stream": "stdout",
       "text": [
        "Min target value: -6.938111399\n",
        "Max target value: -0.51940952694\n",
        "Mean target value: -3.520779444\n",
        "Std.dev. target: 0.629230217947\n",
        "N : 9513\n"
       ]
      }
     ],
     "prompt_number": 15
    },
    {
     "cell_type": "code",
     "collapsed": false,
     "input": [
      "from sklearn.linear_model import LinearRegression\n",
      "lr= LinearRegression(fit_intercept=True)\n",
      "lr.fit(data, target)\n",
      "p = np.array(map(lr.predict,data))\n",
      "p = p.ravel()  # (1,9513)\ubc30\uc5f4\uc744, 9513\ud56d\uc758 1\ucc28\uc6d0 \ubc30\uc5f4\ub85c \ubcc0\ud658\n",
      "e = p-target # \uc608\uce21\uac12\uacfc \uc2e4\uc81c\uac12\uc758 \uc624\ucc28.\n",
      "total_sq_error = np.sum(e*e)\n",
      "rmse_train = np.sqrt(total_sq_error/len(p))\n",
      "\n",
      "print \"RMSE _ train : \" , rmse_train"
     ],
     "language": "python",
     "metadata": {},
     "outputs": [
      {
       "output_type": "stream",
       "stream": "stdout",
       "text": [
        "RMSE _ train :  0.00170044778398\n"
       ]
      }
     ],
     "prompt_number": 16
    },
    {
     "cell_type": "markdown",
     "metadata": {},
     "source": [
      " - \ud68c\uadc0\uc2dd\uc758 RMSE\ub294 0.0017\uc774\ub2e4. \uc6d0\ub798\uc758 \ud45c\uc900\ud3b8\ucc28\uc778 0.629\ubcf4\ub2e4 \uc791\uc740 \uc218\uce58\uc774\ub2e4.\n",
      " - \uad50\ucc28 \uac80\uc99d\uc744 \uc0ac\uc6a9\ud558\uba74, 0.78\ub85c \ucee4\uc9c4\ub2e4. "
     ]
    },
    {
     "cell_type": "markdown",
     "metadata": {},
     "source": [
      "\n",
      "- \uc6d0 \ub370\uc774\ud130\uc758 \ud3c9\uade0\uacfc \ud45c\uc900\ud3b8\ucc28\uac00 -3.5, 0.6\uc784\uc744 \uc0dd\uac01\ud574\ubcf4\uba74,\n",
      "- OLS\uc758 \ud6c8\ub828\uc624\ucc28\ub294 \ub9e4\uc6b0 \uc791\uc73c\ub098(0.0025), \uc77c\ubc18\ud654\ud560\ub54c(\uad50\ucc28 \uac80\uc99d) \uc624\ucc28\ub294 0.78 > 0.6\uc774\uace0,\n",
      "- \uc774\ub294 \uc6d0\ub798 \ub370\uc774\ud130\uc758 \ud3c9\uade0\ub9cc\uc73c\ub85c \uc608\uce21\ud558\ub294 \uac83\ubcf4\ub2e4 \uc131\ub2a5\uc774 \ub5a8\uc5b4\uc9d0\uc744 \uc758\ubbf8\ud55c\ub2e4.\n",
      "   \n"
     ]
    },
    {
     "cell_type": "markdown",
     "metadata": {},
     "source": [
      "- \uc989, \uc18d\uc131\uc758 \uac2f\uc218\uac00 \ub370\uc774\ud130\uc758 \uc218\ubcf4\ub2e4 \ub9ce\uc744 \ub54c, \ud6c8\ub828 \uc624\ucc28\ub294 \ub9e4\uc6b0 \uc791\uc544\uc9c0\uc9c0\ub9cc, \uadf8\ub807\ub2e4\uace0 '\uc77c\ubc18\ud654'\uac00 \uc798 \uc791\ub3d9\ud55c\ub2e4\ub294 \uac83\uc740 \uc544\ub2d8. -> \uc5ed\uc2dc \uacfc\uc801\ud569\ud654 \ubb38\uc81c.\n",
      "- \ubc8c\uce59\uc744 \ucd94\uac00\ud558\uc5ec \ud559\uc2b5\uc2dc\ud0a4\uba74, \ubc8c\uce59 \ub9e4\uac1c\ubcc0\uc218 1\uc778 \uc77c\ub798\uc2a4\ud2f1 \ub137 \ud559\uc2b5\uae30\uc758 \uad50\ucc28\uac80\uc99d\uc73c\ub85c RMSE = 0.4\uac00 \ub098\uc634. (\ub098\uc628\ub2e4\uace0\ud568). '\ud3c9\uade0\uc73c\ub85c \uc608\uc0c1\ud558\ub294 \uac83 \ubcf4\ub2e4 \ub098\uc740 \uc218\uce58.'"
     ]
    },
    {
     "cell_type": "markdown",
     "metadata": {},
     "source": [
      "## \uc601\ub9ac\ud55c \ubc29\ubc95\uc73c\ub85c \ud558\uc774\ud37c\ub9e4\uac1c\ubcc0\uc218(hyperparameter, \ub78c\ub2e4) \uc124\uc815\n",
      "\n",
      "\ubc8c\uce59 \ub9e4\uac1c\ubcc0\uc218\ub294 \uc5b4\ub5bb\uac8c \uc124\uc815\ud558\ub294\uac00? \n",
      "- \uc9c0\ub098\uce58\uac8c \ud06c\uba74 \uacfc\uc18c \uc801\ud569\ud654. (\ub9cc\uc77c \uadf9\ub2e8\uc801\uc73c\ub85c \ud06c\uac8c \uc124\uc815\ud55c\ub2e4\uba74, \ubaa8\ub4e0 \uacc4\uc218\ub97c 0\uc73c\ub85c \ubc18\ud658\ud558\uae30 \ub54c\ubb38)\n",
      "- \ub530\ub77c\uc11c, \ubc8c\uce59 \ub9e4\uac1c\ubcc0\uc218 \uc5ed\uc2dc \uad50\ucc28 \uac80\uc99d\uc73c\ub85c \uc124\uc815\ud558\uc5ec, \uac00\uc7a5 \uc88b\uc740 \uac12\uc744 \uace8\ub77c\ubcf4\uc790.\n",
      "\n",
      "\ub450 \ub2e8\uacc4\uc758 \uad50\ucc28 \uac80\uc99d \ud574\uc57c\ud568.\n",
      "- 1\ub2e8\uacc4. \uc77c\ubc18\ud654\uc5d0 \ub300\ud55c \uce21\uc815. (\uc6d0\ub798 \ud558\ub358 \uac83) \n",
      "- 2\ub2e8\uacc4. \uad1c\ucc2e\uc740 \ubc8c\uce59 \ub9e4\uac1c\ubcc0\uc218\ub97c \uad6c\ud558\ub294 \uac83.\n",
      "- 10\uc911\ucca9\uc758 \ub370\uc774\ud130\ub97c \uc798\ub77c, 9\uac1c\ub85c \ud559\uc2b5\uc744 \ud558\uace0, \ub2e4\uc2dc \uc774 \ub370\uc774\ud130\ub97c 10\uc911\ucca9\uc73c\ub85c \ub098\ub204\uc5b4\uc11c \ub9e4\uac1c\ubcc0\uc218 \uc124\uc815. \ub9e4\uac1c\ubcc0\uc218 \uc124\uc815\ud558\uba74, \ub0a8\uaca8\uc9c4 \uccab\ubc88\uc9f8 \uc911\ucca9\uc73c\ub85c \ud14c\uc2a4\ud2b8 (???)\n",
      "\n",
      "\uc544\ub798 \uadf8\ub9bc \ucc38\uc870. (\uadf8\ub7ec\ub098 \ud070 \ub3c4\uc6c0 \uc548 \ub418\ub294 \ub4ef)\n",
      "![\ud14d\uc2a4\ud2b8](5fold.jpg)\n",
      "\n",
      "- \uc544\ub798\ub294 \ub9e4\uac1c\ubcc0\uc218 \uac12\uae4c\uc9c0 \uc54c\uc544\uc11c \ucc98\ub9ac\ud558\ub294 \uce5c\uc808\ud55c \ud328\ud0a4\uc9c0 \uc0ac\ub840."
     ]
    },
    {
     "cell_type": "code",
     "collapsed": false,
     "input": [
      "from sklearn.linear_model import ElasticNetCV\n",
      "met = ElasticNetCV(fit_intercept=True)   # \ub9e4\uac1c\ubcc0\uc218 \uac12 \uc9c0\uc815 \uc548\ud568.\n",
      "kf = KFold(len(target), n_folds=10)\n",
      "err =0 \n",
      "for train, test in kf :\n",
      "    met.fit(data[train], target[train])\n",
      "    p = map(met.predict, data[test])\n",
      "    p = np.array(p).ravel()\n",
      "    e = p - target[test]\n",
      "    err += np.dot(e,e)\n",
      "rmse_10cv = np.sqrt(err/len(target))\n",
      "print \"RMSE_10cv = \", rmse_10cv\n",
      "\n",
      "# \uba54\ubaa8\ub9ac \uc5d0\ub7ec \ub098\ub124...\n",
      "# \uc5ec\ud2bc, \uc54c\ud30c\uac12\uc744 \uc9c0\uc815\ud560 \ud544\uc694 \uc5c6\uc9c0\ub9cc, \uc774\uc804 \ucf54\ub4dc\uc640 \uc644\uc804\ud788 \ub611\uac19\uc740 \ud328\ud0a4\uc9c0\uac00 \uc788\ub2e4\ub294 \uac83... LassoCV, RidgeCV, ElasticNetCV."
     ],
     "language": "python",
     "metadata": {},
     "outputs": [
      {
       "ename": "MemoryError",
       "evalue": "",
       "output_type": "pyerr",
       "traceback": [
        "\u001b[1;31m---------------------------------------------------------------------------\u001b[0m\n\u001b[1;31mMemoryError\u001b[0m                               Traceback (most recent call last)",
        "\u001b[1;32m<ipython-input-17-565e0d422c5f>\u001b[0m in \u001b[0;36m<module>\u001b[1;34m()\u001b[0m\n\u001b[0;32m      4\u001b[0m \u001b[0merr\u001b[0m \u001b[1;33m=\u001b[0m\u001b[1;36m0\u001b[0m\u001b[1;33m\u001b[0m\u001b[0m\n\u001b[0;32m      5\u001b[0m \u001b[1;32mfor\u001b[0m \u001b[0mtrain\u001b[0m\u001b[1;33m,\u001b[0m \u001b[0mtest\u001b[0m \u001b[1;32min\u001b[0m \u001b[0mkf\u001b[0m \u001b[1;33m:\u001b[0m\u001b[1;33m\u001b[0m\u001b[0m\n\u001b[1;32m----> 6\u001b[1;33m     \u001b[0mmet\u001b[0m\u001b[1;33m.\u001b[0m\u001b[0mfit\u001b[0m\u001b[1;33m(\u001b[0m\u001b[0mdata\u001b[0m\u001b[1;33m[\u001b[0m\u001b[0mtrain\u001b[0m\u001b[1;33m]\u001b[0m\u001b[1;33m,\u001b[0m \u001b[0mtarget\u001b[0m\u001b[1;33m[\u001b[0m\u001b[0mtrain\u001b[0m\u001b[1;33m]\u001b[0m\u001b[1;33m)\u001b[0m\u001b[1;33m\u001b[0m\u001b[0m\n\u001b[0m\u001b[0;32m      7\u001b[0m     \u001b[0mp\u001b[0m \u001b[1;33m=\u001b[0m \u001b[0mmap\u001b[0m\u001b[1;33m(\u001b[0m\u001b[0mmet\u001b[0m\u001b[1;33m.\u001b[0m\u001b[0mpredict\u001b[0m\u001b[1;33m,\u001b[0m \u001b[0mdata\u001b[0m\u001b[1;33m[\u001b[0m\u001b[0mtest\u001b[0m\u001b[1;33m]\u001b[0m\u001b[1;33m)\u001b[0m\u001b[1;33m\u001b[0m\u001b[0m\n\u001b[0;32m      8\u001b[0m     \u001b[0mp\u001b[0m \u001b[1;33m=\u001b[0m \u001b[0mnp\u001b[0m\u001b[1;33m.\u001b[0m\u001b[0marray\u001b[0m\u001b[1;33m(\u001b[0m\u001b[0mp\u001b[0m\u001b[1;33m)\u001b[0m\u001b[1;33m.\u001b[0m\u001b[0mravel\u001b[0m\u001b[1;33m(\u001b[0m\u001b[1;33m)\u001b[0m\u001b[1;33m\u001b[0m\u001b[0m\n",
        "\u001b[1;32mC:\\Users\\jykim\\Anaconda\\lib\\site-packages\\sklearn\\linear_model\\coordinate_descent.pyc\u001b[0m in \u001b[0;36mfit\u001b[1;34m(self, X, y)\u001b[0m\n\u001b[0;32m   1070\u001b[0m                     \u001b[0meps\u001b[0m\u001b[1;33m=\u001b[0m\u001b[0mself\u001b[0m\u001b[1;33m.\u001b[0m\u001b[0meps\u001b[0m\u001b[1;33m,\u001b[0m \u001b[0mn_alphas\u001b[0m\u001b[1;33m=\u001b[0m\u001b[0mself\u001b[0m\u001b[1;33m.\u001b[0m\u001b[0mn_alphas\u001b[0m\u001b[1;33m,\u001b[0m\u001b[1;33m\u001b[0m\u001b[0m\n\u001b[0;32m   1071\u001b[0m                     \u001b[0mnormalize\u001b[0m\u001b[1;33m=\u001b[0m\u001b[0mself\u001b[0m\u001b[1;33m.\u001b[0m\u001b[0mnormalize\u001b[0m\u001b[1;33m,\u001b[0m\u001b[1;33m\u001b[0m\u001b[0m\n\u001b[1;32m-> 1072\u001b[1;33m                     copy_X=self.copy_X))\n\u001b[0m\u001b[0;32m   1073\u001b[0m         \u001b[1;32melse\u001b[0m\u001b[1;33m:\u001b[0m\u001b[1;33m\u001b[0m\u001b[0m\n\u001b[0;32m   1074\u001b[0m             \u001b[1;31m# Making sure alphas is properly ordered.\u001b[0m\u001b[1;33m\u001b[0m\u001b[1;33m\u001b[0m\u001b[0m\n",
        "\u001b[1;32mC:\\Users\\jykim\\Anaconda\\lib\\site-packages\\sklearn\\linear_model\\coordinate_descent.pyc\u001b[0m in \u001b[0;36m_alpha_grid\u001b[1;34m(X, y, Xy, l1_ratio, fit_intercept, eps, n_alphas, normalize, copy_X)\u001b[0m\n\u001b[0;32m     87\u001b[0m             _, _, X_mean, _, X_std = sparse_center_data(X, y, fit_intercept,\n\u001b[0;32m     88\u001b[0m                                                         normalize)\n\u001b[1;32m---> 89\u001b[1;33m             \u001b[0mmean_dot\u001b[0m \u001b[1;33m=\u001b[0m \u001b[0mnp\u001b[0m\u001b[1;33m.\u001b[0m\u001b[0msum\u001b[0m\u001b[1;33m(\u001b[0m\u001b[0mX_mean\u001b[0m\u001b[1;33m[\u001b[0m\u001b[1;33m:\u001b[0m\u001b[1;33m,\u001b[0m \u001b[0mnp\u001b[0m\u001b[1;33m.\u001b[0m\u001b[0mnewaxis\u001b[0m\u001b[1;33m]\u001b[0m \u001b[1;33m*\u001b[0m \u001b[0my\u001b[0m\u001b[1;33m,\u001b[0m \u001b[0maxis\u001b[0m\u001b[1;33m=\u001b[0m\u001b[1;36m1\u001b[0m\u001b[1;33m)\u001b[0m\u001b[1;33m\u001b[0m\u001b[0m\n\u001b[0m\u001b[0;32m     90\u001b[0m \u001b[1;33m\u001b[0m\u001b[0m\n\u001b[0;32m     91\u001b[0m     \u001b[1;32mif\u001b[0m \u001b[0mXy\u001b[0m\u001b[1;33m.\u001b[0m\u001b[0mndim\u001b[0m \u001b[1;33m==\u001b[0m \u001b[1;36m1\u001b[0m\u001b[1;33m:\u001b[0m\u001b[1;33m\u001b[0m\u001b[0m\n",
        "\u001b[1;31mMemoryError\u001b[0m: "
       ]
      }
     ],
     "prompt_number": 17
    },
    {
     "cell_type": "markdown",
     "metadata": {},
     "source": [
      "## \uc608\uce21\uacfc \ucd94\ucc9c\uc758 \ud3c9\uc810\n",
      "\n",
      "\ub137\ud50c\ub9ad\uc2a4\uc758 \ud3c9\uc810\uc608\uce21 \ubb38\uc81c. (\ubbf8\ub124\uc18c\ud0c0 \ub300\ud559\uc758 GroupLens Dataset)\n",
      "- \uc0ac\uc6a9\uc790\uac00 \uc601\ud654\uc5d0 \uc900 \ud3c9\uc810\uc744 \ud1a0\ub300\ub85c, \ub2e4\ub978 \uc601\ud654 \ucd94\ucc9c. (\uc774 \uc0ac\uc6a9\uc790\uac00 \ub192\uc740 \uc810\uc218\ub97c \uc904\ub9cc\ud55c \uc601\ud654 \uc608\uce21. \ubb3c\ub860 \ub9de\ucd94\uae30\ubd80\ud130 \ud574\uc57c\ud568)\n",
      "- 1~5\uac1c\uc758 \ubcc4\uc810 \uac2f\uc218 \uc608\uce21\n",
      "\n",
      "\ubd84\ub958 \ubb38\uc81c\uac00 \uc544\ub2cc, \ud68c\uadc0 \ubb38\uc81c\ub85c \uc811\uadfc\ud574\uc57c \ud558\ub294 \uc774\uc720\n",
      "- 1,2,3,4,5\ub97c \ubaa8\ub450 \ub611\uac19\uc740 \ubc94\uc8fc\uac00 \uc544\ub2c8\ub77c '\uc21c\uc11c\uc801\uc778 \ubcc0\uc218'\ub85c \uc0dd\uac01\ud574\uc57c \ud568. (\ubcc4 4\uac1c\ub97c 5\uac1c\ub85c \uc608\uce21\ud558\ub294 \uac83\uacfc, 1\uac1c\ub97c 5\uac1c\ub85c \uc608\uce21\ud558\ub294 \uac83\uc758 \ucc28\uc774\ub294 \ud07c)\n",
      "- \uc911\uac04 \uac12\ub3c4 \uc758\ubbf8\uac00 \uc788\uc74c. 1,2,3,4,5\uac00 \ubd84\uc808\uc801\uc774\uc9c0 \uc54a\uace0, \uc608\uce21\uac12\uc774 4.7, \ud639\uc740 4.2 \ub4f1\uc73c\ub85c \ub098\uc624\ub354\ub77c\ub3c4 \uc758\ubbf8 \uc788\uace0, \uad6c\ubd84\ub428.\n",
      "\n",
      "\uc790, \uadf8\ub798\uc11c \ud68c\uadc0 \ud504\ub808\uc784\uc6cc\ud06c\ub97c \uc0ac\uc6a9\ud574\ubcf4\uc790.\n",
      "- \uc5ec\uae30\uc11c\ub294 (\uc601\ud654\uc5d0 \uc911\uc810\uc744 \ub454 \ubaa8\ub378\uc774 \uc544\ub2cc) \uc0ac\uc6a9\uc790\uc5d0 \uc911\uc810\uc744 \ub454 \ubaa8\ub378(?)\uc744 \ub9cc\ub4e4\uc5b4 \ubcf8\ub2e4.\n",
      "- \uc0ac\uc6a9\uc790\uc758 \ud3c9\uc810\uc744 \uc785\ub825\uac12\uc73c\ub85c, \uc720\uc0ac\ud55c \uc0ac\uc6a9\uc790\uc5d0\uac8c \ub192\uc740 \uac12\uc744 \ubd80\uc5ec"
     ]
    },
    {
     "cell_type": "code",
     "collapsed": false,
     "input": [
      "from scipy import sparse\n",
      "\n",
      "data = np.array([[int(tok) for tok in line.split('\\t')[:3]]\n",
      "                for line in open('u.data')])\n",
      "\n",
      "print data\n",
      "# user id > item id > rating\n",
      "\n",
      "ij = data[:, :2]   #user id> item id\ub9cc \uc120\ubcc4\n",
      "ij -= 1                   # original data is in 1-based system  #???\n",
      "values = data[:, 2]\n",
      "reviews = sparse.csc_matrix((values, ij.T)).astype(float) # \ud76c\uc18c \ub9e4\ud2b8\ub9ac\uc2a4\ub85c \ubcc0\ud658"
     ],
     "language": "python",
     "metadata": {},
     "outputs": [
      {
       "output_type": "stream",
       "stream": "stdout",
       "text": [
        "[[ 196  242    3]\n",
        " [ 186  302    3]\n",
        " [  22  377    1]\n",
        " ..., \n",
        " [ 276 1090    1]\n",
        " [  13  225    2]\n",
        " [  12  203    3]]\n"
       ]
      }
     ],
     "prompt_number": 18
    },
    {
     "cell_type": "code",
     "collapsed": false,
     "input": [
      "# LassoCV\ub97c \uc0ac\uc6a9\ud574\ubcf4\uc790. (\uc548\uc368\ubcf8\uac70\ub2c8\uae4c.)\n",
      "import numpy as np\n",
      "from scipy import sparse\n",
      "from sklearn.linear_model import LassoCV, RidgeCV, ElasticNetCV\n",
      "from sklearn.cross_validation import KFold\n",
      "\n",
      "data = np.array([[int(tok) for tok in line.split('\\t')[:3]]\n",
      "                for line in open('u.data')])\n",
      "ij = data[:, :2]\n",
      "ij -= 1  # original data is in 1-based system\n",
      "values = data[:, 2]\n",
      "reviews = sparse.csc_matrix((values, ij.T)).astype(float)\n",
      "\n",
      "reg = ElasticNetCV(fit_intercept=True, alphas=[\n",
      "                   0.0125, 0.025, 0.05, .125, .25, .5, 1., 2., 4.])\n",
      "\n",
      "\n",
      "def movie_norm(xc):\n",
      "    '''Normalize per movie'''\n",
      "    xc = xc.copy().toarray()\n",
      "    # xpos is the mean of the positive items\n",
      "    xpos = np.array([xi[xi > 0].mean() for xi in xc])\n",
      "    xpos = np.nan_to_num(xpos)\n",
      "\n",
      "    for i in range(xc.shape[0]):\n",
      "        xc[i] -= (xc[i] > 0) * xpos[i]\n",
      "    return xc, xpos\n",
      "\n",
      "\n",
      "def learn_for(i):\n",
      "    u = reviews[i]\n",
      "    us = np.delete(np.arange(reviews.shape[0]), i)\n",
      "    ps, = np.where(u.toarray().ravel() > 0)\n",
      "    x = reviews[us][:, ps].T\n",
      "    y = u.data\n",
      "    err = 0\n",
      "    eb = 0\n",
      "    kf = KFold(len(y), n_folds=5)\n",
      "    for train, test in kf:\n",
      "        xc, xpos = movie_norm(x[train])\n",
      "        reg.fit(xc, y[train] - xpos)\n",
      "\n",
      "        xc, xpos = movie_norm(x[test])\n",
      "        p = reg.predict(xc).ravel()\n",
      "        e = (p + xpos) - y[test]\n",
      "        err += np.sum(e * e)\n",
      "        eb += np.sum((y[train].mean() - y[test]) ** 2)\n",
      "    return np.sqrt(err / float(len(y))), np.sqrt(eb / float(len(y)))\n",
      "\n",
      "whole_data = []\n",
      "num_of_true = 0\n",
      "case = 0\n",
      "for i in range(reviews.shape[0]):\n",
      "    case +=1\n",
      "    s = learn_for(i)\n",
      "    if s[0] < s[1] :     # \ud14c\uc2a4\ud2b8\uc14b\uc758 RMSE < \ud3c9\uade0\uc5d0 \ub300\ud55c \ud45c\uc900\ud3b8\ucc28 \uac00 \ub354 \uc791\uc73c\uba74 True\n",
      "        num_of_true += 1\n",
      "    whole_data.append(s)\n",
      "\n",
      "print num_of_true, case, num_of_true/float(case)"
     ],
     "language": "python",
     "metadata": {},
     "outputs": [
      {
       "output_type": "stream",
       "stream": "stdout",
       "text": [
        "741 943 0.785790031813\n"
       ]
      }
     ],
     "prompt_number": 23
    },
    {
     "cell_type": "markdown",
     "metadata": {},
     "source": [
      "- \ucd94\uac00 PPT \ucc38\uc870\n",
      "\n",
      "\n",
      "\n",
      "# End of Document\n"
     ]
    },
    {
     "cell_type": "code",
     "collapsed": false,
     "input": [],
     "language": "python",
     "metadata": {},
     "outputs": []
    }
   ],
   "metadata": {}
  }
 ]
}