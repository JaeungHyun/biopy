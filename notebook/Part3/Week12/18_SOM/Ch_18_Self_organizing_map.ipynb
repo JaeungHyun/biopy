{
 "metadata": {
  "name": "",
  "signature": "sha256:a86a84eedda6f1bfe9aaedba8d28baa95ed186bf6a5387777f91b33c7170d3da"
 },
 "nbformat": 3,
 "nbformat_minor": 0,
 "worksheets": [
  {
   "cells": [
    {
     "cell_type": "heading",
     "level": 1,
     "metadata": {},
     "source": [
      "Chapter 18"
     ]
    },
    {
     "cell_type": "markdown",
     "metadata": {},
     "source": [
      "#Self organizing map\n",
      "\n",
      "> ##Contents\n",
      "\n",
      "    - \uc694\uc57d\n",
      "    - SOM \uc21c\uc11c\n",
      "    - \ucc45\uc758 SOM example\n",
      "    \n",
      "<br>\n",
      "\n",
      "> ##\uc694\uc57d\n",
      "\n",
      "- \ud30c\ub791\uc0c9 \uad6c\ub984 : training vector\n",
      "- lattice : set of vectors arranged in lattice (SOM)\n",
      "\n",
      "<img src=\"http://upload.wikimedia.org/wikipedia/commons/thumb/9/91/Somtraining.svg/500px-Somtraining.svg.png\">"
     ]
    },
    {
     "cell_type": "markdown",
     "metadata": {},
     "source": [
      "\n",
      "\n",
      "### **Self organizing map** (SOM)\n"
     ]
    },
    {
     "cell_type": "markdown",
     "metadata": {},
     "source": [
      "    - \uc720\uc6a9\ud55c \uc54c\uace0\ub9ac\uc998\uc774\ub2e4."
     ]
    },
    {
     "cell_type": "markdown",
     "metadata": {},
     "source": [
      "\n",
      "    - \uc790\uc2e0\uc758 \ubc31\ud130\ub4e4\uc744 \uc870\uae08\uc529 \uace0\uccd0\ub098\uac04\ub2e4."
     ]
    },
    {
     "cell_type": "markdown",
     "metadata": {},
     "source": [
      "\n",
      "    - Training vector\ub4e4\uacfc \ube44\uc2b7\ud574 \uc9c8\ub54c\uae4c\uc9c0 !"
     ]
    },
    {
     "cell_type": "markdown",
     "metadata": {},
     "source": [
      "## SOM training \uacfc\uc815"
     ]
    },
    {
     "cell_type": "markdown",
     "metadata": {},
     "source": [
      "### 1. \ucd08\uae30\uc758 SOM\uc744 \ub9cc\ub4e0\ub2e4\n",
      "\n",
      "- #### *\ubb34\uc791\uc704* \ub610\ub294 *\uc0ac\uc6a9\uc790\uac00 \uc9c0\uc815*\n",
      "- #### SOM\uc548\uc5d0 vector\ub97c \uac00\uc9c0\ub294 Node \uac2f\uc218 > 20\uac1c  \ucd94\ucc9c\n",
      "- \uc544\ub798 \ub3d9\uc601\uc0c1\uc758 2\ubd84"
     ]
    },
    {
     "cell_type": "code",
     "collapsed": false,
     "input": [
      "# at 2:00\n",
      "YouTubeVideo(\"H9H6s-x-0YE\")"
     ],
     "language": "python",
     "metadata": {},
     "outputs": [
      {
       "html": [
        "\n",
        "        <iframe\n",
        "            width=\"400\"\n",
        "            height=300\"\n",
        "            src=\"https://www.youtube.com/embed/H9H6s-x-0YE\"\n",
        "            frameborder=\"0\"\n",
        "            allowfullscreen\n",
        "        ></iframe>\n",
        "        "
       ],
       "metadata": {},
       "output_type": "pyout",
       "prompt_number": 238,
       "text": [
        "<IPython.lib.display.YouTubeVideo at 0x10705fb10>"
       ]
      }
     ],
     "prompt_number": 238
    },
    {
     "cell_type": "code",
     "collapsed": false,
     "input": [
      "# at 5:15\n",
      "YouTubeVideo(\"wRcnNyoXm_M\")"
     ],
     "language": "python",
     "metadata": {},
     "outputs": [
      {
       "html": [
        "\n",
        "        <iframe\n",
        "            width=\"400\"\n",
        "            height=300\"\n",
        "            src=\"https://www.youtube.com/embed/wRcnNyoXm_M\"\n",
        "            frameborder=\"0\"\n",
        "            allowfullscreen\n",
        "        ></iframe>\n",
        "        "
       ],
       "metadata": {},
       "output_type": "pyout",
       "prompt_number": 239,
       "text": [
        "<IPython.lib.display.YouTubeVideo at 0x10705fa10>"
       ]
      }
     ],
     "prompt_number": 239
    },
    {
     "cell_type": "markdown",
     "metadata": {},
     "source": [
      "### 2. SOM \uc548\uc758 Node(neuron) \uc911, \ud558\ub098\uc758 training vector\uc640 \uac00\uc7a5 \uac00\uae4c\uc6b4 node\ub97c \ucc3e\ub294\ub2e4\n",
      "- #### Euclidean distance\n",
      "- #### \uc774\ub97c best matching unit\uc774\ub77c\uace0 \ubd80\ub978\ub2e4\n",
      "<img src=\"http://www.generation5.org/content/2004/images/somBmu.jpg\", width=170>"
     ]
    },
    {
     "cell_type": "markdown",
     "metadata": {},
     "source": [
      "### 3. BMU\ub97c \uc5c5\ub370\uc774\ud2b8 \ud55c\ub2e4\n",
      "\n",
      "<img src=\"http://upload.wikimedia.org/wikipedia/commons/thumb/9/91/Somtraining.svg/500px-Somtraining.svg.png\", width=300>\n",
      "- #### co-operation (hrad, neighborhood)\n",
      "<img src=\"http://www.intechopen.com/source/html/40904/media/image1_w.jpg\",width=500>\n"
     ]
    },
    {
     "cell_type": "markdown",
     "metadata": {},
     "source": [
      "### 4. \ubc18\ubcf5\ud55c\ub2e4\n",
      "\n",
      "- #### hrad / neighborhood decreases every step\n"
     ]
    },
    {
     "cell_type": "code",
     "collapsed": false,
     "input": [
      "# at 5:30\n",
      "# at 7:05\n",
      "YouTubeVideo(\"wRcnNyoXm_M\")"
     ],
     "language": "python",
     "metadata": {},
     "outputs": [
      {
       "html": [
        "\n",
        "        <iframe\n",
        "            width=\"400\"\n",
        "            height=300\"\n",
        "            src=\"https://www.youtube.com/embed/wRcnNyoXm_M\"\n",
        "            frameborder=\"0\"\n",
        "            allowfullscreen\n",
        "        ></iframe>\n",
        "        "
       ],
       "metadata": {},
       "output_type": "pyout",
       "prompt_number": 240,
       "text": [
        "<IPython.lib.display.YouTubeVideo at 0x10705f850>"
       ]
      }
     ],
     "prompt_number": 240
    },
    {
     "cell_type": "code",
     "collapsed": false,
     "input": [
      "# at 2:40\n",
      "YouTubeVideo(\"H9H6s-x-0YE\")"
     ],
     "language": "python",
     "metadata": {},
     "outputs": [
      {
       "html": [
        "\n",
        "        <iframe\n",
        "            width=\"400\"\n",
        "            height=300\"\n",
        "            src=\"https://www.youtube.com/embed/H9H6s-x-0YE\"\n",
        "            frameborder=\"0\"\n",
        "            allowfullscreen\n",
        "        ></iframe>\n",
        "        "
       ],
       "metadata": {},
       "output_type": "pyout",
       "prompt_number": 241,
       "text": [
        "<IPython.lib.display.YouTubeVideo at 0x10705a050>"
       ]
      }
     ],
     "prompt_number": 241
    },
    {
     "cell_type": "markdown",
     "metadata": {},
     "source": [
      "### 5. \ud074\ub7ec\uc2a4\ud130\ub9c1\uc5d0 \uc0ac\uc6a9\ud55c\ub2e4"
     ]
    },
    {
     "cell_type": "code",
     "collapsed": false,
     "input": [
      "# at 4:09\n",
      "YouTubeVideo(\"H9H6s-x-0YE\")"
     ],
     "language": "python",
     "metadata": {},
     "outputs": [
      {
       "html": [
        "\n",
        "        <iframe\n",
        "            width=\"400\"\n",
        "            height=300\"\n",
        "            src=\"https://www.youtube.com/embed/H9H6s-x-0YE\"\n",
        "            frameborder=\"0\"\n",
        "            allowfullscreen\n",
        "        ></iframe>\n",
        "        "
       ],
       "metadata": {},
       "output_type": "pyout",
       "prompt_number": 242,
       "text": [
        "<IPython.lib.display.YouTubeVideo at 0x10705a0d0>"
       ]
      }
     ],
     "prompt_number": 242
    },
    {
     "cell_type": "markdown",
     "metadata": {},
     "source": [
      "\ub05d."
     ]
    },
    {
     "cell_type": "markdown",
     "metadata": {},
     "source": [
      "> ##Summary\n",
      "\n",
      "- #### SOM\n",
      "    - competition\n",
      "    - co-operation\n",
      "    - synaptic adaptation\n",
      "    - clustering\n"
     ]
    },
    {
     "cell_type": "markdown",
     "metadata": {},
     "source": [
      "##### Extra sources\n",
      "\n",
      "Good lecture on youtube\n",
      "- Prof.S. Sengupta, Department of Electronics and Electrical Communication Engineering, IIT Kharagpur : http://www.youtube.com/watch?v=LjJeT7rwvF4\n",
      "\n",
      "Plenty more visualization videos on youtube\n",
      "- 'self organizing map'"
     ]
    },
    {
     "cell_type": "markdown",
     "metadata": {},
     "source": [
      "# Python example"
     ]
    },
    {
     "cell_type": "markdown",
     "metadata": {},
     "source": [
      "> Import libraries"
     ]
    },
    {
     "cell_type": "code",
     "collapsed": false,
     "input": [
      "import PIL\n",
      "from IPython.display import YouTubeVideo"
     ],
     "language": "python",
     "metadata": {},
     "outputs": [],
     "prompt_number": 1
    },
    {
     "cell_type": "code",
     "collapsed": false,
     "input": [
      "from numpy import zeros, random, sqrt, indices, less, multiply, ones,logical_and"
     ],
     "language": "python",
     "metadata": {},
     "outputs": [],
     "prompt_number": 2
    },
    {
     "cell_type": "code",
     "collapsed": false,
     "input": [
      "import sys\n",
      "sys.path.append('/ccnc_bin/Kinser_Applications/pysrc/')\n",
      "import akando"
     ],
     "language": "python",
     "metadata": {},
     "outputs": [],
     "prompt_number": 3
    },
    {
     "cell_type": "code",
     "collapsed": false,
     "input": [
      "from numpy import set_printoptions\n",
      "set_printoptions( precision=3 )"
     ],
     "language": "python",
     "metadata": {},
     "outputs": [],
     "prompt_number": 4
    },
    {
     "cell_type": "markdown",
     "metadata": {},
     "source": [
      "> \uc774\ubbf8\uc9c0\ub97c \ubd88\ub7ec\uc624\ub294 function \ub9cc\ub4e4\uae30 : ReadImage\n",
      "\n",
      "- \uc774\ubbf8\uc9c0\ub97c \ubd88\ub7ec \uc628 \ud6c4\uc5d0,\n",
      "    - \ube68\uac15\uc0c9\n",
      "    - \ub179\uc0c9\n",
      "    - \ud30c\ub791\uc0c9\n",
      "    \uc73c\ub85c \uc774\ubbf8\uc9c0\ub97c \ub098\ub220\uc900\ub2e4\n",
      "    \n",
      "- akando.i2a function\uc744 \uc0ac\uc6a9\ud574\uc11c 3D matrix\ub85c \ub2e4\uc2dc \ub9cc\ub4e0\ub2e4"
     ]
    },
    {
     "cell_type": "code",
     "collapsed": false,
     "input": [
      "def ReadImage( fname ):\n",
      "    mg = PIL.Image.open( fname )\n",
      "    #print mg.split()\n",
      "    r, g, b, a = mg.split()\n",
      "    \n",
      "    h, v = r.size\n",
      "    data = zeros( (v, h, 3), float )\n",
      "    data[:,:,0] = akando.i2a( r )  #converts gray scale image to a matrix\n",
      "    data[:,:,1] = akando.i2a( g )\n",
      "    data[:,:,2] = akando.i2a( b )\n",
      "    return data"
     ],
     "language": "python",
     "metadata": {},
     "outputs": [],
     "prompt_number": 5
    },
    {
     "cell_type": "markdown",
     "metadata": {},
     "source": [
      "#### Example \ub85c \uc0ac\uc6a9\ud574\ubcfc image"
     ]
    },
    {
     "cell_type": "markdown",
     "metadata": {},
     "source": [
      "> Example image\n",
      "\n",
      "<img src=\"windows.png\", width=200>"
     ]
    },
    {
     "cell_type": "code",
     "collapsed": false,
     "input": [
      "data = ReadImage('windows.png')"
     ],
     "language": "python",
     "metadata": {},
     "outputs": [],
     "prompt_number": 6
    },
    {
     "cell_type": "markdown",
     "metadata": {},
     "source": [
      "### 1. \ucd08\uae30\uc758 SOM\uc744 \ub9cc\ub4e0\ub2e4\n",
      "\n",
      "> random matrix\ub97c \ub9cc\ub4dc\ub294 function\n",
      "\n",
      "- \uc5ec\uae30\uc11c 'dm'\uc740 training vector\uc758 dimension\uc774\ub2e4."
     ]
    },
    {
     "cell_type": "code",
     "collapsed": false,
     "input": [
      "# Code 18-2\n",
      "def SOMinit( N, dm ):\n",
      "    som = random.ranf( (N,N,dm) )\n",
      "    return som"
     ],
     "language": "python",
     "metadata": {},
     "outputs": [],
     "prompt_number": 7
    },
    {
     "cell_type": "markdown",
     "metadata": {},
     "source": [
      "> 30 x 30 x 3 \uc758 vector \ub9cc\ub4e4\uae30"
     ]
    },
    {
     "cell_type": "code",
     "collapsed": false,
     "input": [
      "som = SOMinit(30,3)"
     ],
     "language": "python",
     "metadata": {},
     "outputs": [],
     "prompt_number": 8
    },
    {
     "cell_type": "markdown",
     "metadata": {},
     "source": [
      "> som matrix\ub97c visualize \ud560 \uc218 \uc788\ub294 function"
     ]
    },
    {
     "cell_type": "code",
     "collapsed": false,
     "input": [
      "# Code 18-3\n",
      "def SOMmg( som ):\n",
      "    r = akando.a2i( som[:,:,0] )\n",
      "    g = akando.a2i( som[:,:,1] )\n",
      "    b = akando.a2i( som[:,:,2] )\n",
      "    mg = PIL.Image.merge( 'RGB', (r,g,b) )\n",
      "    return mg"
     ],
     "language": "python",
     "metadata": {},
     "outputs": [],
     "prompt_number": 9
    },
    {
     "cell_type": "code",
     "collapsed": false,
     "input": [
      "mg = SOMmg(som)\n",
      "mg.save('som_visualized.jpg')"
     ],
     "language": "python",
     "metadata": {},
     "outputs": [],
     "prompt_number": 10
    },
    {
     "cell_type": "markdown",
     "metadata": {},
     "source": [
      "> Random matrix\ub85c \ub9cc\ub4e4\uc5b4\uc9c4 \ucd08\uae30 SOM"
     ]
    },
    {
     "cell_type": "markdown",
     "metadata": {},
     "source": [
      "<img src=\"som_visualized.jpg\", width=\"200\">"
     ]
    },
    {
     "cell_type": "markdown",
     "metadata": {},
     "source": [
      "### 2. SOM \uc548\uc758 Node(neuron) \uc911, \ud558\ub098\uc758 training vector\uc640 \uac00\uc7a5 \uac00\uae4c\uc6b4 node\ub97c \ucc3e\ub294\ub2e4\n",
      "> BMU \ucc3e\uae30"
     ]
    },
    {
     "cell_type": "markdown",
     "metadata": {},
     "source": [
      "<img src=\"http://www.generation5.org/content/2004/images/somBmu.jpg\", width=170>"
     ]
    },
    {
     "cell_type": "markdown",
     "metadata": {},
     "source": [
      "> Training data vector set\uc5d0\uc11c \ub79c\ub364\ud558\uac8c \ud558\ub098\uc758 vector\ub97c \ubf51\ub294 function\n",
      "\n",
      "    random.rand() # gives random float\n"
     ]
    },
    {
     "cell_type": "code",
     "collapsed": false,
     "input": [
      "# Code 18-4\n",
      "def RandomVec( data ):\n",
      "    V,H,n = data.shape\n",
      "    y = int( H*random.rand() )\n",
      "    x = int( V*random.rand() )\n",
      "    vec = data[x,y]\n",
      "    return vec\n"
     ],
     "language": "python",
     "metadata": {},
     "outputs": [],
     "prompt_number": 11
    },
    {
     "cell_type": "code",
     "collapsed": false,
     "input": [
      "# vec : array of [r, g, b] from training vectors\n",
      "vec = RandomVec( data )\n",
      "vec"
     ],
     "language": "python",
     "metadata": {},
     "outputs": [
      {
       "metadata": {},
       "output_type": "pyout",
       "prompt_number": 12,
       "text": [
        "array([ 220.,   62.,    0.])"
       ]
      }
     ],
     "prompt_number": 12
    },
    {
     "cell_type": "markdown",
     "metadata": {},
     "source": [
      "> Euclidean measure \ub97c \uc0ac\uc6a9\ud574\uc11c \n",
      "- \ud558\ub098\uc758 training vector\uc640\n",
      "- \uac00\uc7a5 \uac00\uae4c\uc6b4\n",
      "- SOM\uc758 vector \ucc3e\uae30"
     ]
    },
    {
     "cell_type": "markdown",
     "metadata": {},
     "source": [
      "    divmod returns (\ubaab, \ub098\uba38\uc9c0)"
     ]
    },
    {
     "cell_type": "code",
     "collapsed": false,
     "input": [
      "# Code 18-5\n",
      "def GetBMU( som, vec ):\n",
      "    # measure the distance to all vectors\n",
      "    t = som - vec\n",
      "\n",
      "    dist = sqrt( ( t*t).sum(2) )  # som \uc804\uccb4 vector\ub4e4\uacfc vec\uc0ac\uc774\uc758 \uae38\uc774\n",
      "    \n",
      "    \n",
      "    # find the smallest distance\n",
      "    H = som.shape[1]\n",
      "    som_vector_with_minimum_distance = dist.argmin() # \uc81c\uc77c \uac00\uae4c\uc6b4 som vector\uc758 \uc21c\uc11c\n",
      "    v,h = divmod( dist.argmin(), H ) # divmod returns(\ubaab, \ub098\uba38\uc9c0)\n",
      "    # dist.argmin() indices of the minimum value\n",
      "    return v,h"
     ],
     "language": "python",
     "metadata": {},
     "outputs": [],
     "prompt_number": 13
    },
    {
     "cell_type": "markdown",
     "metadata": {},
     "source": [
      "> The Best Matching Unit (BMU) \ucc3e\uc544\ub0b4\uace0, output \ube44\uad50\ud558\uae30"
     ]
    },
    {
     "cell_type": "code",
     "collapsed": false,
     "input": [
      "vec = RandomVec( data )\n",
      "bmu = GetBMU( som, vec )\n",
      "bmu"
     ],
     "language": "python",
     "metadata": {},
     "outputs": [
      {
       "metadata": {},
       "output_type": "pyout",
       "prompt_number": 14,
       "text": [
        "(16, 13)"
       ]
      }
     ],
     "prompt_number": 14
    },
    {
     "cell_type": "code",
     "collapsed": false,
     "input": [
      "som[bmu]"
     ],
     "language": "python",
     "metadata": {},
     "outputs": [
      {
       "metadata": {},
       "output_type": "pyout",
       "prompt_number": 15,
       "text": [
        "array([ 0.953,  0.997,  0.994])"
       ]
      }
     ],
     "prompt_number": 15
    },
    {
     "cell_type": "code",
     "collapsed": false,
     "input": [
      "vec"
     ],
     "language": "python",
     "metadata": {},
     "outputs": [
      {
       "metadata": {},
       "output_type": "pyout",
       "prompt_number": 16,
       "text": [
        "array([ 106.,  164.,   19.])"
       ]
      }
     ],
     "prompt_number": 16
    },
    {
     "cell_type": "markdown",
     "metadata": {},
     "source": [
      "### 3. BMU\ub97c \uc5c5\ub370\uc774\ud2b8 \ud55c\ub2e4"
     ]
    },
    {
     "cell_type": "markdown",
     "metadata": {},
     "source": [
      "- hrad \uc758 \ubc94\uc704 \uc548\uc5d0 \uc788\ub294 vector\ub4e4\ub3c4 \uac19\uc774 update (weight\ub97c 0.05\ub97c \uc900\ub2e4)"
     ]
    },
    {
     "cell_type": "code",
     "collapsed": false,
     "input": [
      "# Code 18-12\n",
      "def Update( som, vec, hrad, bmu ):\n",
      "    # compute the vectors inside of a radius\n",
      "    V,H,n = som.shape\n",
      "    bmuv, bmuh = bmu\n",
      "    ndx = indices( (V,H) ) # 2d input --> 3d out, increments along the columns\n",
      "    ndx[0] -= bmuv\n",
      "    ndx[1] -= bmuh\n",
      "    dist = sqrt( ndx[0]**2 + ndx[1]**2 )\n",
      "    mask = less( dist, hrad ).astype(float)\n",
      "    \n",
      "    # \ub9c8\uc2a4\ud06c\uc5d0 weight \ucd94\uac00\ud558\uae30\n",
      "    mask *= 0.05\n",
      "    \n",
      "    # update\n",
      "    #for i in range( n ):\n",
      "    #    som[:,:,i] = som[:,:,i] + mask*(vec-som)[:,:,i]\n",
      "    # loop\uc73c\ub85c \ud558\uc9c0 \uc54a\uace0, array\ub85c \uacc4\uc0b0\n",
      "    # \ub9c8\uc2a4\ud06c \ub9cc\ub4e4\uae30\n",
      "    mask = multiply.outer( mask,ones(n,int) )\n",
      "    \n",
      "    # SOM\uc774 vector\uc5d0 \uac00\uae4c\uc6cc\uc9c8 \uc218 \uc788\ub3c4\ub85d \uc5c5\ub370\uc774\ud2b8 !\n",
      "    som += mask*(vec-som)"
     ],
     "language": "python",
     "metadata": {},
     "outputs": [],
     "prompt_number": 17
    },
    {
     "cell_type": "markdown",
     "metadata": {},
     "source": [
      "### 3. hrad\ub97c \uc904\uc5ec\uac00\uba74\uc11c, SOM\uc744 \uc5c5\ub370\uc774\ud2b8 \ud55c\ub2e4.\n",
      "\n",
      "- hrad\uac00 1\uc774 \ub420 \ub54c\uae4c\uc9c0 !"
     ]
    },
    {
     "cell_type": "code",
     "collapsed": false,
     "input": [
      "# Code 18-14\n",
      "# hrad \ucc98\uc74c \uac12\uc740 user\uac00 \uc815\ud55c\ub2e4.\n",
      "# \ud55c iteration\uc5d0 \uc5bc\ub9cc\ud07c hrad\uac00 \uc904\uc5b4\ub4e4\uc9c0\ub3c4 user\uac00 \uc815\ud55c\ub2e4.\n",
      "def SOMiterate( data, som, hradinit, hrate ):\n",
      "    hrad = hradinit\n",
      "    while hrad > 1:\n",
      "        vec = RandomVec( data )\n",
      "        bmu = GetBMU( som, vec )\n",
      "        Update( som, vec, hrad, bmu )\n",
      "        hrad *= hrate\n",
      "    return som"
     ],
     "language": "python",
     "metadata": {},
     "outputs": [],
     "prompt_number": 18
    },
    {
     "cell_type": "markdown",
     "metadata": {},
     "source": [
      "## 1\ubd80\ud130 3\uae4c\uc9c0 \ud574\ubcf4\uae30\n",
      "- som\uc744 \ub9cc\ub4e4\uace0\n",
      "- update\ud558\uc5ec output \uc0b4\ud53c\uae30"
     ]
    },
    {
     "cell_type": "code",
     "collapsed": false,
     "input": [
      "som = SOMinit(30, 3)\n",
      "som = SOMiterate(data, som, 30, 0.999)\n",
      "SOMmg(som).save('prac.png')"
     ],
     "language": "python",
     "metadata": {},
     "outputs": [],
     "prompt_number": 21
    },
    {
     "cell_type": "markdown",
     "metadata": {},
     "source": [
      "<img src=\"prac.png\", width=200>"
     ]
    },
    {
     "cell_type": "markdown",
     "metadata": {},
     "source": [
      "# \ub9cc\ub4e4\uc5b4\uc9c4 SOM \uc0ac\uc6a9\ud558\uae30\n",
      "\n",
      "- random vector\ub97c \ubf51\uc544\ub0b4\uc5b4, SOM\uc758 vector\ub4e4\uacfc \ube44\uad50\ud574\ubcf8\ub2e4"
     ]
    },
    {
     "cell_type": "code",
     "collapsed": false,
     "input": [
      "vec = RandomVec( data )\n",
      "vec"
     ],
     "language": "python",
     "metadata": {},
     "outputs": [
      {
       "metadata": {},
       "output_type": "pyout",
       "prompt_number": 20,
       "text": [
        "array([ 220.,   62.,    0.])"
       ]
      }
     ],
     "prompt_number": 20
    },
    {
     "cell_type": "code",
     "collapsed": false,
     "input": [
      "a = (abs( som - vec)).sum(2)\n",
      "akando.a2i(a).save('difference.gif')"
     ],
     "language": "python",
     "metadata": {},
     "outputs": [],
     "prompt_number": 22
    },
    {
     "cell_type": "markdown",
     "metadata": {},
     "source": [
      "<img src=\"difference.gif\",width=200>"
     ]
    },
    {
     "cell_type": "markdown",
     "metadata": {},
     "source": [
      "- \uc5b4\ub450\uc6b4 \uacf3 : \ube44\uc2b7\ud55c\uacf3\n",
      "- training data\uc548\uc758 \ubaa8\ub4e0 vector\ub97c \uc774\ub7f0\uc2dd\uc73c\ub85c \uad6c\ubd84\ud558\uba74 boundary\ub97c \ub9cc\ub4e4 \uc218 \uc788\ub2e4."
     ]
    },
    {
     "cell_type": "markdown",
     "metadata": {},
     "source": [
      "> Define the boundaries in the SOM"
     ]
    },
    {
     "cell_type": "code",
     "collapsed": false,
     "input": [
      "# Code 18-17\n",
      "# find boundaries given a SOM\n",
      "def FindBoundaries( som, gamma=0.3 ):\n",
      "    V,H,N = som.shape\n",
      "    \n",
      "    used = zeros( (V,H), int )\n",
      "    groups = zeros( (V,H), int )\n",
      "    \n",
      "    ctr = 1\n",
      "    while used.sum() < V*H:\n",
      "        \n",
      "        # pick a point\n",
      "        for i in range( V ):\n",
      "            for j in range( H ): # looping through each nodes : \uacb0\uc815\uc548\ub41c \ub178\ud2b8 \ucc3e\uae30\n",
      "                \n",
      "                if used[i,j]==0: \n",
      "                    pi, pj = i,j \n",
      "                    break\n",
      "            if used[i,j]==0:\n",
      "                break\n",
      "                \n",
      "        # find similar vectors\n",
      "        probe = som[pi,pj]\n",
      "        hits = abs(som-probe).sum(2) # SOM \uc804\uccb4 \ubca1\ud130\uc640 \ud55c \ubca1\ud130\uc640\uc758 \ucc28\uc774\uac00 \uac10\ub9c8\ubcf4\ub2e4 \uc791\uc73c\uba74\n",
      "        hits = less( hits, gamma).astype(int)\n",
      "        \n",
      "        # define a group, update mask\n",
      "        hits = logical_and( hits, (1-used) ) # \uc774\ub4e4\uc744 \ub2e4\uc2dc \uc0ac\uc6a9\ud558\uc9c0 \uc54a\ub3c4\ub85d \ud574\ub450\uace0\n",
      "        used += hits\n",
      "          \n",
      "        if hits.sum() > 10:    # 10\uac1c \uc774\uc0c1\uc758 node\uac00 \uc788\uc744\ub54c \uadf8\ub8f9\uc73c\ub85c \uc9c0\uc815\ud55c\ub2e4\n",
      "            groups += ctr*hits\n",
      "            ctr +=1\n",
      "    print ctr\n",
      "    return groups\n",
      "\n"
     ],
     "language": "python",
     "metadata": {},
     "outputs": [],
     "prompt_number": 197
    },
    {
     "cell_type": "code",
     "collapsed": false,
     "input": [
      "groups = FindBoundaries(som)\n",
      "akando.a2i(groups).save('groups.gif')"
     ],
     "language": "python",
     "metadata": {},
     "outputs": [
      {
       "output_type": "stream",
       "stream": "stdout",
       "text": [
        "6\n"
       ]
      }
     ],
     "prompt_number": 198
    },
    {
     "cell_type": "markdown",
     "metadata": {},
     "source": [
      "<img src='groups.gif',width=200>"
     ]
    },
    {
     "cell_type": "code",
     "collapsed": false,
     "input": [
      "len(groups)"
     ],
     "language": "python",
     "metadata": {},
     "outputs": [
      {
       "metadata": {},
       "output_type": "pyout",
       "prompt_number": 199,
       "text": [
        "30"
       ]
      }
     ],
     "prompt_number": 199
    },
    {
     "cell_type": "markdown",
     "metadata": {},
     "source": [
      "> training data vector\uc758 BMU\ub97c FindBoundaries function\uc73c\ub85c processing\ub41c SOM\uacfc \ube44\uad50\ud558\uc5ec clustering \ud558\uae30 !"
     ]
    },
    {
     "cell_type": "code",
     "collapsed": false,
     "input": [
      "# Code 18-18\n",
      "def Cluster( data, som, groups ):\n",
      "    M = groups.max()\n",
      "    print M\n",
      "    mmbs = {}\n",
      "    for i in range( M+1 ):\n",
      "        mmbs[i] = []\n",
      "    V,H,N = data.shape\n",
      "    for i in range( V ):\n",
      "        for j in range( H ):\n",
      "            bmu = GetBMU( som, data[i,j] )\n",
      "            groupid = groups[bmu]\n",
      "            mmbs[groupid].append([i,j])\n",
      "            \n",
      "    return mmbs"
     ],
     "language": "python",
     "metadata": {},
     "outputs": [],
     "prompt_number": 207
    },
    {
     "cell_type": "code",
     "collapsed": false,
     "input": [
      "mmbs = Cluster( data, som, groups)"
     ],
     "language": "python",
     "metadata": {},
     "outputs": [
      {
       "output_type": "stream",
       "stream": "stdout",
       "text": [
        "5\n"
       ]
      }
     ],
     "prompt_number": 238
    },
    {
     "cell_type": "code",
     "collapsed": false,
     "input": [
      "matrix = zeros((data.shape[0],data.shape[1]),int)\n",
      "\n",
      "for group, arrays in mmbs.iteritems():\n",
      "    if group != 0:\n",
      "        for point in arrays:\n",
      "            matrix[(point[0],point[1])] = 1\n",
      "            akando.a2i(matrix).save('{}_cluster.gif'.format(group))\n",
      "        matrix = zeros((data.shape[0],data.shape[1]),int)"
     ],
     "language": "python",
     "metadata": {},
     "outputs": [],
     "prompt_number": 243
    },
    {
     "cell_type": "markdown",
     "metadata": {},
     "source": [
      "<img src = 'windows.png'>\n",
      "<img src = '1_cluster.gif'>\n",
      "<img src = '2_cluster.gif'>\n",
      "<img src = '3_cluster.gif'>\n",
      "<img src = '5_cluster.gif'>\n",
      "\n"
     ]
    }
   ],
   "metadata": {}
  }
 ]
}