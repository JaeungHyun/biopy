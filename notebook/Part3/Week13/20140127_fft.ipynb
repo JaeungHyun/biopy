{
 "metadata": {
  "name": "",
  "signature": "sha256:7013410ea2755e9ea97062e18c1961aa1a66c48da04ad88e246cc846426f9ce1"
 },
 "nbformat": 3,
 "nbformat_minor": 0,
 "worksheets": [
  {
   "cells": [
    {
     "cell_type": "code",
     "collapsed": false,
     "input": [
      "#FFTs in SciPy"
     ],
     "language": "python",
     "metadata": {},
     "outputs": [],
     "prompt_number": 1
    },
    {
     "cell_type": "code",
     "collapsed": false,
     "input": [
      "from scipy import fftpack"
     ],
     "language": "python",
     "metadata": {},
     "outputs": [],
     "prompt_number": 2
    },
    {
     "cell_type": "code",
     "collapsed": false,
     "input": [
      "from numpy import random, conjugate"
     ],
     "language": "python",
     "metadata": {},
     "outputs": [],
     "prompt_number": 3
    },
    {
     "cell_type": "code",
     "collapsed": false,
     "input": [
      "#8\uac1c\uc758 random number\ub97c \ub9cc\ub4e4\uace0"
     ],
     "language": "python",
     "metadata": {},
     "outputs": [],
     "prompt_number": 4
    },
    {
     "cell_type": "code",
     "collapsed": false,
     "input": [
      "a=random.rand(8)\n",
      "a"
     ],
     "language": "python",
     "metadata": {},
     "outputs": [
      {
       "metadata": {},
       "output_type": "pyout",
       "prompt_number": 24,
       "text": [
        "array([ 0.12687164,  0.41115637,  0.86457634,  0.12379549,  0.83063202,\n",
        "        0.38960919,  0.16322097,  0.4962883 ])"
       ]
      }
     ],
     "prompt_number": 24
    },
    {
     "cell_type": "code",
     "collapsed": false,
     "input": [
      "# 8\uac1c\uc758 complexed valued elements\ub97c \ub9cc\ub4dc\ub294 \uacfc\uc815"
     ],
     "language": "python",
     "metadata": {},
     "outputs": [],
     "prompt_number": 25
    },
    {
     "cell_type": "code",
     "collapsed": false,
     "input": [
      "af=fftpack.fft(a)\n",
      "af"
     ],
     "language": "python",
     "metadata": {},
     "outputs": [
      {
       "metadata": {},
       "output_type": "pyout",
       "prompt_number": 26,
       "text": [
        "array([ 3.40615033+0.j        , -0.42513203-0.45319933j,\n",
        "       -0.07029365-0.18068177j, -0.98238873+0.94951142j,\n",
        "        0.56445162+0.j        , -0.98238873-0.94951142j,\n",
        "       -0.07029365+0.18068177j, -0.42513203+0.45319933j])"
       ]
      }
     ],
     "prompt_number": 26
    },
    {
     "cell_type": "code",
     "collapsed": false,
     "input": [
      "#DC (direct current)\n",
      "#\uccab\ubc88 \uc9f8 \uc218\uc2dd\uc5d0\uc11c\ucc98\ub7fc input signal\uc744 summation\ud568"
     ],
     "language": "python",
     "metadata": {},
     "outputs": [],
     "prompt_number": 12
    },
    {
     "cell_type": "code",
     "collapsed": false,
     "input": [
      "a.sum(), af[0]"
     ],
     "language": "python",
     "metadata": {},
     "outputs": [
      {
       "metadata": {},
       "output_type": "pyout",
       "prompt_number": 28,
       "text": [
        "(3.4061503268684201, (3.4061503268684197+0j))"
       ]
      }
     ],
     "prompt_number": 28
    },
    {
     "cell_type": "code",
     "collapsed": false,
     "input": [
      "#Forward and Reverse\n",
      "#\ub450\ubc88 \uc9f8 \uc218\uc2dd\ucc98\ub7fc forward transform \ud6c4 inverse transform \uc744 \ud1b5\ud574\uc11c original signal \uc744 \uc7ac\uc0dd\uc131"
     ],
     "language": "python",
     "metadata": {},
     "outputs": [],
     "prompt_number": 29
    },
    {
     "cell_type": "code",
     "collapsed": false,
     "input": [
      "a2=fftpack.ifft(af)"
     ],
     "language": "python",
     "metadata": {},
     "outputs": [],
     "prompt_number": 30
    },
    {
     "cell_type": "code",
     "collapsed": false,
     "input": [
      "(abs(a-a2)).sum()"
     ],
     "language": "python",
     "metadata": {},
     "outputs": [
      {
       "metadata": {},
       "output_type": "pyout",
       "prompt_number": 17,
       "text": [
        "3.6007437866787036e-16"
       ]
      }
     ],
     "prompt_number": 17
    },
    {
     "cell_type": "code",
     "collapsed": false,
     "input": [
      "#Parseval\n",
      "#\uc138\ubc88 \uc9f8 \uc218\uc2dd : Parseval\u2019s theorem\uc5d0 \ub530\ub77c Fourier \uc804\ud658\ub41c \uac12\uc774 \uc6d0 signal energy\uc758 \ud569\uacfc \uac19\ub2e4\ub294 \uac83\uc744 \ubcf4\uc5ec\uc90c\n",
      "#\ub9c8\uc9c0\ub9c9\uc5d0 8\ub85c \ub098\ub220\uc8fc\ub294 \uac83\uc740 \uc6d0\ub798 \ud568\uc218\ub97c length\ub85c \ub098\ub220\uc11c scaling\ud574\uc8fc\ub294 \uacfc\uc815\uc784."
     ],
     "language": "python",
     "metadata": {},
     "outputs": [],
     "prompt_number": 35
    },
    {
     "cell_type": "code",
     "collapsed": false,
     "input": [
      "(a*a).sum(), (af*conjugate(af)).sum().real/8"
     ],
     "language": "python",
     "metadata": {},
     "outputs": [
      {
       "metadata": {},
       "output_type": "pyout",
       "prompt_number": 36,
       "text": [
        "(2.975634813251042, 2.9756348132510415)"
       ]
      }
     ],
     "prompt_number": 36
    },
    {
     "cell_type": "code",
     "collapsed": false,
     "input": [],
     "language": "python",
     "metadata": {},
     "outputs": [],
     "prompt_number": 36
    },
    {
     "cell_type": "code",
     "collapsed": false,
     "input": [
      "#Frequency Analysis"
     ],
     "language": "python",
     "metadata": {},
     "outputs": [],
     "prompt_number": 32
    },
    {
     "cell_type": "code",
     "collapsed": false,
     "input": [
      "from numpy import arange, cos, pi"
     ],
     "language": "python",
     "metadata": {},
     "outputs": [],
     "prompt_number": 33
    },
    {
     "cell_type": "code",
     "collapsed": false,
     "input": [
      "from scipy import fftpack"
     ],
     "language": "python",
     "metadata": {},
     "outputs": [],
     "prompt_number": 34
    },
    {
     "cell_type": "code",
     "collapsed": false,
     "input": [
      "import sys, os"
     ],
     "language": "python",
     "metadata": {},
     "outputs": [],
     "prompt_number": 35
    },
    {
     "cell_type": "code",
     "collapsed": false,
     "input": [
      "# \uc544\uce78\ub3c4 \ubaa8\ub4c8 \uc784\ud3ec\ud2b8\ub97c \uc704\ud574\n",
      "sys.path.append(os.path.abspath('./pysrc'))"
     ],
     "language": "python",
     "metadata": {},
     "outputs": [],
     "prompt_number": 36
    },
    {
     "cell_type": "code",
     "collapsed": false,
     "input": [
      "from PIL import Image"
     ],
     "language": "python",
     "metadata": {},
     "outputs": [],
     "prompt_number": 37
    },
    {
     "cell_type": "code",
     "collapsed": false,
     "input": [
      "import akando"
     ],
     "language": "python",
     "metadata": {},
     "outputs": [],
     "prompt_number": 38
    },
    {
     "cell_type": "code",
     "collapsed": false,
     "input": [
      "#256\uac1c\uc758 element\ub97c \uac00\uc9c4 8-peaked cosine \ud568\uc218\ub97c \ub9cc\ub4ec"
     ],
     "language": "python",
     "metadata": {},
     "outputs": [],
     "prompt_number": 39
    },
    {
     "cell_type": "code",
     "collapsed": false,
     "input": [
      "x=arange(256)"
     ],
     "language": "python",
     "metadata": {},
     "outputs": [],
     "prompt_number": 40
    },
    {
     "cell_type": "code",
     "collapsed": false,
     "input": [
      "y1=cos(2*pi/256*x*8)"
     ],
     "language": "python",
     "metadata": {},
     "outputs": [],
     "prompt_number": 41
    },
    {
     "cell_type": "code",
     "collapsed": false,
     "input": [
      "Y=fftpack.fft(y1)"
     ],
     "language": "python",
     "metadata": {},
     "outputs": [],
     "prompt_number": 42
    },
    {
     "cell_type": "code",
     "collapsed": false,
     "input": [
      "akando.PlotSave('fig16_7a.txt',Y.real)"
     ],
     "language": "python",
     "metadata": {},
     "outputs": [],
     "prompt_number": 98
    },
    {
     "cell_type": "code",
     "collapsed": false,
     "input": [
      "#256\uac1c\uc758 element\ub97c \uac00\uc9c4 64-peaked cosine \ud568\uc218\ub97c \ub9cc\ub4ec"
     ],
     "language": "python",
     "metadata": {},
     "outputs": [],
     "prompt_number": 99
    },
    {
     "cell_type": "code",
     "collapsed": false,
     "input": [
      "y2=cos(2*pi/256*x*64)"
     ],
     "language": "python",
     "metadata": {},
     "outputs": [],
     "prompt_number": 100
    },
    {
     "cell_type": "code",
     "collapsed": false,
     "input": [
      "Y=fftpack.fft(y2)"
     ],
     "language": "python",
     "metadata": {},
     "outputs": [],
     "prompt_number": 101
    },
    {
     "cell_type": "code",
     "collapsed": false,
     "input": [
      "akando.PlotSave('fig16_7b.txt',Y.real)"
     ],
     "language": "python",
     "metadata": {},
     "outputs": [],
     "prompt_number": 102
    },
    {
     "cell_type": "code",
     "collapsed": false,
     "input": [],
     "language": "python",
     "metadata": {},
     "outputs": []
    },
    {
     "cell_type": "code",
     "collapsed": false,
     "input": [
      "#\ucc28\uc774\uac00 \ub098\ub294 weighting factor\ub97c \uac00\uc9c0\uace0 \uc5b4\ub5bb\uac8c signal\uc5d0 \ucc28\uc774\ub97c \uc904 \uc218 \uc788\ub294\uc9c0"
     ],
     "language": "python",
     "metadata": {},
     "outputs": []
    },
    {
     "cell_type": "code",
     "collapsed": false,
     "input": [
      "y=cos(2*pi/256*x*8) + 0.5*cos(2*pi/256*x*64)"
     ],
     "language": "python",
     "metadata": {},
     "outputs": [],
     "prompt_number": 103
    },
    {
     "cell_type": "code",
     "collapsed": false,
     "input": [
      "Y=fftpack.fft(y)"
     ],
     "language": "python",
     "metadata": {},
     "outputs": [],
     "prompt_number": 104
    },
    {
     "cell_type": "code",
     "collapsed": false,
     "input": [
      "#\uc2e4\uc81c weight \uc8fc\ub294 \uac83\uc5d0 \ub530\ub77c\uc11c amplitude \uac00 \uc5b4\ub5bb\uac8c \ub2ec\ub77c\uc9c0\ub294\uc9c0 \ubcfc \uc218 \uc788\ub2e4."
     ],
     "language": "python",
     "metadata": {},
     "outputs": [],
     "prompt_number": 105
    },
    {
     "cell_type": "code",
     "collapsed": false,
     "input": [
      "akando.PlotSave('fig16_7c.txt',Y.real)"
     ],
     "language": "python",
     "metadata": {},
     "outputs": [],
     "prompt_number": 107
    }
   ],
   "metadata": {}
  }
 ]
}