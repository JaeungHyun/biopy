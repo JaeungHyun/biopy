{
 "metadata": {
  "name": "",
  "signature": "sha256:cd2dfb5c2fc73e58d061931eac19d3f89f5121ab56702bd30fbc1c84a1aadcd7"
 },
 "nbformat": 3,
 "nbformat_minor": 0,
 "worksheets": [
  {
   "cells": [
    {
     "cell_type": "markdown",
     "metadata": {},
     "source": [
      "# chapter 9. \ubd84\ub958 III : \uc74c\uc545 \uc7a5\ub974 \ubd84\ub958"
     ]
    },
    {
     "cell_type": "code",
     "collapsed": false,
     "input": [
      "%matplotlib inline"
     ],
     "language": "python",
     "metadata": {},
     "outputs": [],
     "prompt_number": 1
    },
    {
     "cell_type": "markdown",
     "metadata": {},
     "source": [
      "# \uc74c\uc545\ub370\uc774\ud130 \uac00\uc838\uc624\uae30 "
     ]
    },
    {
     "cell_type": "markdown",
     "metadata": {},
     "source": [
      "### wav \ud615\ud0dc\ub85c \ubcc0\ud658"
     ]
    },
    {
     "cell_type": "markdown",
     "metadata": {},
     "source": [
      "sox \ud504\ub85c\uadf8\ub7a8 \uc0ac\uc6a9\ud558\uc790."
     ]
    },
    {
     "cell_type": "code",
     "collapsed": false,
     "input": [
      "%load sox_conv.py"
     ],
     "language": "python",
     "metadata": {},
     "outputs": [],
     "prompt_number": 3
    },
    {
     "cell_type": "code",
     "collapsed": false,
     "input": [
      "import os\n",
      "\n",
      "for base, dirs, files in os.walk('/home/parkhh/genres'):\n",
      "    for f in files:\n",
      "        name, ext = os.path.splitext(f)\n",
      "        if ext == '.au':\n",
      "            s = os.path.abspath(os.path.join(base,f))\n",
      "            d = os.path.abspath(os.path.join(base, name+'.wav'))\n",
      "            print d\n",
      "            os.system('sox %s %s' % (s,d))\n"
     ],
     "language": "python",
     "metadata": {},
     "outputs": []
    },
    {
     "cell_type": "code",
     "collapsed": false,
     "input": [
      "from scipy.io import wavfile\n",
      "f= '/home/parkhh/genres/rock/rock.00099.wav'\n",
      "sr , x = wavfile.read(f)   # sr --> sample rate\n",
      "sr, x"
     ],
     "language": "python",
     "metadata": {},
     "outputs": [
      {
       "metadata": {},
       "output_type": "pyout",
       "prompt_number": 5,
       "text": [
        "(22050, array([ -692, -1131, -1159, ...,    44,    82,   -61], dtype=int16))"
       ]
      }
     ],
     "prompt_number": 5
    },
    {
     "cell_type": "code",
     "collapsed": false,
     "input": [
      "len(x)"
     ],
     "language": "python",
     "metadata": {},
     "outputs": [
      {
       "metadata": {},
       "output_type": "pyout",
       "prompt_number": 6,
       "text": [
        "661794"
       ]
      }
     ],
     "prompt_number": 6
    },
    {
     "cell_type": "code",
     "collapsed": false,
     "input": [
      "len(x)/sr"
     ],
     "language": "python",
     "metadata": {},
     "outputs": [
      {
       "metadata": {},
       "output_type": "pyout",
       "prompt_number": 7,
       "text": [
        "30"
       ]
      }
     ],
     "prompt_number": 7
    },
    {
     "cell_type": "code",
     "collapsed": false,
     "input": [
      "print sr, x.shape"
     ],
     "language": "python",
     "metadata": {},
     "outputs": [
      {
       "output_type": "stream",
       "stream": "stdout",
       "text": [
        "22050 (661794,)\n"
       ]
      }
     ],
     "prompt_number": 8
    },
    {
     "cell_type": "markdown",
     "metadata": {},
     "source": [
      "# \uc74c\uc545 \uc0b4\ud3b4\ubcf4\uae30 "
     ]
    },
    {
     "cell_type": "markdown",
     "metadata": {},
     "source": [
      "- \ub178\ub798\uc758 \uc2a4\ud399\ud2b8\ub7fc\uc744 \uadf8\ub824\ubcf4\uc790.\n",
      "- \uc2a4\ud399\ud2b8\ub7fc\uc740 \ub178\ub798\uc758 \uc9c4\ub3d9\uc218\ub97c \uc2dc\uac01\uc801\uc73c\ub85c \ud45c\ud604\ud55c\ub2e4.\n",
      "- \ub178\ub798\uc758 \ud2b9\uc815\uc2dc\uac04 \ubc94\uc704\uc5d0\uc11c \uc0c9\uc774 \uc5b4\ub450\uc6b8\uc218\ub85d \uc9c4\ub3d9\uc218\ub294 \ub354 \uac15\ud574\uc9c4\ub2e4"
     ]
    },
    {
     "cell_type": "markdown",
     "metadata": {},
     "source": [
      "### fft.py  \uc911 \uc77c\ubd80..."
     ]
    },
    {
     "cell_type": "code",
     "collapsed": false,
     "input": [
      "import sys\n",
      "import os\n",
      "import glob\n",
      "\n",
      "import numpy as np\n",
      "import scipy\n",
      "import scipy.io.wavfile\n",
      "\n",
      "from utils import GENRE_DIR, CHART_DIR\n",
      "\n",
      "import matplotlib.pyplot as plt\n",
      "from matplotlib.ticker import EngFormatter\n",
      "\n",
      "\n",
      "\n",
      "def plot_specgram(ax, fn):\n",
      "    sample_rate, X = scipy.io.wavfile.read(fn)\n",
      "    ax.specgram(X, Fs=sample_rate, xextent=(0, 30))\n",
      "\n",
      "\n",
      "def plot_specgrams(base_dir=CHART_DIR):\n",
      "    \"\"\"\n",
      "    Plot a bunch of spectrograms of wav files in different genres\n",
      "    \"\"\"\n",
      "    print 'base_dir == ', base_dir\n",
      "    plt.clf()\n",
      "    genres = [\"classical\", \"jazz\", \"country\", \"pop\", \"rock\", \"metal\"]\n",
      "    num_files = 3\n",
      "    f, axes = plt.subplots(len(genres), num_files)\n",
      "\n",
      "    for genre_idx, genre in enumerate(genres):\n",
      "        for idx, fn in enumerate(glob.glob(os.path.join(GENRE_DIR, genre, \"*.wav\"))):\n",
      "            if idx == num_files:\n",
      "                break\n",
      "            axis = axes[genre_idx, idx]\n",
      "            axis.yaxis.set_major_formatter(EngFormatter())\n",
      "            axis.set_title(\"%s song %i\" % (genre, idx + 1))\n",
      "            plot_specgram(axis, fn)\n",
      "\n",
      "    specgram_file = os.path.join(base_dir, \"Spectrogram_Genres.png\")\n",
      "    plt.savefig(specgram_file, bbox_inches=\"tight\")\n",
      "\n",
      "    plt.show()\n",
      "\n",
      "\n",
      "if __name__ == \"__main__\":\n",
      "    plot_specgrams()\n"
     ],
     "language": "python",
     "metadata": {},
     "outputs": [
      {
       "output_type": "stream",
       "stream": "stdout",
       "text": [
        "base_dir ==  ./charts\n"
       ]
      },
      {
       "metadata": {},
       "output_type": "display_data",
       "text": [
        "<matplotlib.figure.Figure at 0xb19b8c6c>"
       ]
      },
      {
       "metadata": {},
       "output_type": "display_data",
       "png": "[encoded data removed]",
       "text": [
        "<matplotlib.figure.Figure at 0xb07be24c>"
       ]
      }
     ],
     "prompt_number": 4
    },
    {
     "cell_type": "markdown",
     "metadata": {},
     "source": [
      "## \uc74c\uc545\uc744 \uc0ac\uc778 \uace1\uc120 \uc694\uc18c\ub85c \ubd84\ud574\ud558\uae30"
     ]
    },
    {
     "cell_type": "raw",
     "metadata": {},
     "source": [
      "sox --null -r 22050 sine_a.wav synth 0.2 sine 400\n",
      "sox --null -r 22050 sine_b.wav synth 0.2 sine 3000\n",
      "sox --combine mix --volume 1 sine_b.wav --volume 0.5  sine_a.wav sine_mix.wav"
     ]
    },
    {
     "cell_type": "markdown",
     "metadata": {},
     "source": [
      "### fft.py  \uc911 \uc77c\ubd80..."
     ]
    },
    {
     "cell_type": "code",
     "collapsed": false,
     "input": [
      "import sys\n",
      "import os\n",
      "import glob\n",
      "\n",
      "import numpy as np\n",
      "import scipy\n",
      "import scipy.io.wavfile\n",
      "\n",
      "from utils import GENRE_DIR, CHART_DIR\n",
      "\n",
      "import matplotlib.pyplot as plt\n",
      "from matplotlib.ticker import EngFormatter\n",
      "\n",
      "\n",
      "\n",
      "def plot_wav_fft(wav_filename, desc=None):\n",
      "    plt.clf()\n",
      "    plt.figure(num=None, figsize=(6, 4))\n",
      "    sample_rate, X = scipy.io.wavfile.read(wav_filename)\n",
      "    spectrum = np.fft.fft(X)\n",
      "    freq = np.fft.fftfreq(len(X), 1.0 / sample_rate)\n",
      "\n",
      "    plt.subplot(211)\n",
      "    num_samples = 200.0\n",
      "    plt.xlim(0, num_samples / sample_rate)\n",
      "    plt.xlabel(\"time [s]\")\n",
      "    plt.title(desc or wav_filename)\n",
      "    plt.plot(np.arange(num_samples) / sample_rate, X[:num_samples])\n",
      "    plt.grid(True)\n",
      "\n",
      "    plt.subplot(212)\n",
      "    plt.xlim(0, 5000)\n",
      "    plt.xlabel(\"frequency [Hz]\")\n",
      "    plt.xticks(np.arange(5) * 1000)\n",
      "    if desc:\n",
      "        desc = desc.strip()\n",
      "        fft_desc = desc[0].lower() + desc[1:]\n",
      "    else:\n",
      "        fft_desc = wav_filename\n",
      "    plt.title(\"FFT of %s\" % fft_desc)\n",
      "    plt.plot(freq, abs(spectrum), linewidth=5)\n",
      "    plt.grid(True)\n",
      "\n",
      "    plt.tight_layout()\n",
      "\n",
      "    rel_filename = os.path.split(wav_filename)[1]\n",
      "    plt.savefig(\"%s_wav_fft.png\" % os.path.splitext(rel_filename)[0],\n",
      "                bbox_inches='tight')\n",
      "\n",
      "    plt.show()\n",
      "\n",
      "\n",
      "def plot_wav_fft_demo():\n",
      "    plot_wav_fft(\"sine_a.wav\", \"400Hz sine wave\")\n",
      "    plot_wav_fft(\"sine_b.wav\", \"3,000Hz sine wave\")\n",
      "    plot_wav_fft(\"sine_mix.wav\", \"Mixed sine wave\")\n",
      "\n",
      "\n",
      "\n",
      "if __name__ == \"__main__\":\n",
      "    plot_wav_fft_demo()\n",
      "\n"
     ],
     "language": "python",
     "metadata": {},
     "outputs": [
      {
       "metadata": {},
       "output_type": "display_data",
       "text": [
        "<matplotlib.figure.Figure at 0xa2d8990c>"
       ]
      },
      {
       "metadata": {},
       "output_type": "display_data",
       "png": "[encoded data removed]",
       "text": [
        "<matplotlib.figure.Figure at 0xa2de54ec>"
       ]
      },
      {
       "metadata": {},
       "output_type": "display_data",
       "text": [
        "<matplotlib.figure.Figure at 0xb02cbb6c>"
       ]
      },
      {
       "metadata": {},
       "output_type": "display_data",
       "png": "[encoded data removed]",
       "text": [
        "<matplotlib.figure.Figure at 0xb04236cc>"
       ]
      },
      {
       "metadata": {},
       "output_type": "display_data",
       "text": [
        "<matplotlib.figure.Figure at 0xafc0c3cc>"
       ]
      },
      {
       "metadata": {},
       "output_type": "display_data",
       "png": "[encoded data removed]",
       "text": [
        "<matplotlib.figure.Figure at 0xafc7b92c>"
       ]
      }
     ],
     "prompt_number": 7
    },
    {
     "cell_type": "heading",
     "level": 4,
     "metadata": {},
     "source": [
      "\uc2e4\uc81c \uc74c\uc545\uc758 FFT \uc608"
     ]
    },
    {
     "cell_type": "heading",
     "level": 6,
     "metadata": {},
     "source": [
      "fft.py  \uc911 \uc77c\ubd80..."
     ]
    },
    {
     "cell_type": "code",
     "collapsed": false,
     "input": [
      "import sys\n",
      "import os\n",
      "import glob\n",
      "\n",
      "import numpy as np\n",
      "import scipy\n",
      "import scipy.io.wavfile\n",
      "\n",
      "from utils import GENRE_DIR, CHART_DIR\n",
      "\n",
      "import matplotlib.pyplot as plt\n",
      "from matplotlib.ticker import EngFormatter\n",
      "\n",
      "\n",
      "\n",
      "def plot_wav_fft(wav_filename, desc=None):\n",
      "    plt.clf()\n",
      "    plt.figure(num=None, figsize=(6, 4))\n",
      "    sample_rate, X = scipy.io.wavfile.read(wav_filename)\n",
      "    spectrum = np.fft.fft(X)\n",
      "    freq = np.fft.fftfreq(len(X), 1.0 / sample_rate)\n",
      "\n",
      "    plt.subplot(211)\n",
      "    num_samples = 200.0\n",
      "    plt.xlim(0, num_samples / sample_rate)\n",
      "    plt.xlabel(\"time [s]\")\n",
      "    plt.title(desc or wav_filename)\n",
      "    plt.plot(np.arange(num_samples) / sample_rate, X[:num_samples])\n",
      "    plt.grid(True)\n",
      "\n",
      "    plt.subplot(212)\n",
      "    plt.xlim(0, 5000)\n",
      "    plt.xlabel(\"frequency [Hz]\")\n",
      "    plt.xticks(np.arange(5) * 1000)\n",
      "    if desc:\n",
      "        desc = desc.strip()\n",
      "        fft_desc = desc[0].lower() + desc[1:]\n",
      "    else:\n",
      "        fft_desc = wav_filename\n",
      "    plt.title(\"FFT of %s\" % fft_desc)\n",
      "    plt.plot(freq, abs(spectrum), linewidth=5)\n",
      "    plt.grid(True)\n",
      "\n",
      "    plt.tight_layout()\n",
      "\n",
      "    rel_filename = os.path.split(wav_filename)[1]\n",
      "    plt.savefig(\"%s_wav_fft.png\" % os.path.splitext(rel_filename)[0],\n",
      "                bbox_inches='tight')\n",
      "\n",
      "    plt.show()\n",
      "\n",
      "\n",
      "if __name__ == \"__main__\":\n",
      "    plot_wav_fft('/home/parkhh/genres/rock/rock.00099.wav', desc=\"some sample song\")\n",
      "\n"
     ],
     "language": "python",
     "metadata": {},
     "outputs": [
      {
       "metadata": {},
       "output_type": "display_data",
       "text": [
        "<matplotlib.figure.Figure at 0xb071ed4c>"
       ]
      },
      {
       "metadata": {},
       "output_type": "display_data",
       "png": "[encoded data removed]",
       "text": [
        "<matplotlib.figure.Figure at 0xa2d8972c>"
       ]
      }
     ],
     "prompt_number": 8
    },
    {
     "cell_type": "markdown",
     "metadata": {},
     "source": [
      "# FFT\ub97c \uc0ac\uc6a9\ud574 \uccab \ubc88\uc9f8 \ubd84\ub958\uae30 \ub9cc\ub4e4\uae30"
     ]
    },
    {
     "cell_type": "markdown",
     "metadata": {},
     "source": [
      "- FFT\ub97c \uc0ac\uc6a9\ud574\uc11c \uc77c\uc885\uc758 \ub178\ub798 \uc9c0\ubb38\uc744 \ub9cc\ub4e4 \uc218 \uc788\ub2e4."
     ]
    },
    {
     "cell_type": "markdown",
     "metadata": {},
     "source": [
      "## \uc2e4\ud5d8 \uae30\ubbfc\uc131 \uc99d\uac00 \n",
      "### -- wav \ud30c\uc77c fft \ub85c \ubcc0\ud658\ud558\uae30..\n"
     ]
    },
    {
     "cell_type": "markdown",
     "metadata": {},
     "source": [
      "- \uc791\uc5c5 \uc18d\ub3c4\ub97c \ube60\ub974\uac8c \ud558\uae30\uc704\ud574, wav \ub300\uc2e0\uc5d0 FFT \ud45c\ud604\uc744 \uc800\uc7a5\ud558\uc5ec \uc0ac\uc6a9\ud558\uc790.\n",
      "- FFT \uc694\uc18c\uc758 \uac1c\uc218\ub97c \ucc98\uc74c\uc758 1000\uac1c\ub85c \uace0\uc815\ud558\uc790.\n",
      "- \ud604\uc7ac\ub294 \uc774\ub7ec\ud55c \uac83\uc774 \uc74c\uc545 \uc7a5\ub974 \ubd84\ub958\uc5d0 \uc788\uc5b4 \uac00\uc7a5 \uc911\uc694\ud55c \uc694\uc18c\uc778\uc9c0 \uc5ec\ubd80\ub294 \uc54c \uc218 \uc5c6\ub2e4."
     ]
    },
    {
     "cell_type": "markdown",
     "metadata": {},
     "source": [
      "### fft.py \uc911 \uc77c\ubd80... \ubcc0\uacbd\ud558\uc5ec \uc0ac\uc6a9"
     ]
    },
    {
     "cell_type": "code",
     "collapsed": false,
     "input": [
      "import sys\n",
      "import os\n",
      "import glob\n",
      "\n",
      "import numpy as np\n",
      "import scipy\n",
      "import scipy.io.wavfile\n",
      "\n",
      "from utils import GENRE_DIR, CHART_DIR\n",
      "\n",
      "\n",
      "def write_fft(fft_features, fn):\n",
      "    \"\"\"\n",
      "    Write the FFT features to separate files to speed up processing.\n",
      "    \"\"\"\n",
      "    base_fn, ext = os.path.splitext(fn)\n",
      "    data_fn = base_fn + \".fft\"\n",
      "\n",
      "    np.save(data_fn, fft_features)\n",
      "    print \"Written\", data_fn\n",
      "\n",
      "\n",
      "def create_fft(fn):\n",
      "    sample_rate, X = scipy.io.wavfile.read(fn)\n",
      "\n",
      "    fft_features = abs(scipy.fft(X)[:1000])\n",
      "    write_fft(fft_features, fn)\n",
      "\n",
      "\n",
      "\n",
      "if __name__ == \"__main__\":\n",
      "    print '-- ', sys.argv\n",
      "\n",
      "    for fn in glob.glob(\"/home/parkhh/genres/*.wav\"):\n",
      "        print fn\n",
      "        create_fft(fn)\n",
      "\n",
      "    # plot_decomp()\n",
      "\n",
      "\n"
     ],
     "language": "python",
     "metadata": {},
     "outputs": [
      {
       "output_type": "stream",
       "stream": "stdout",
       "text": [
        "--  ['-c', '-f', '/home/parkhh/.ipython/profile_default/security/kernel-08292fb2-3697-4048-a92d-d07f11acc562.json', \"--IPKernelApp.parent_appname='ipython-notebook'\", '--profile-dir', '/home/parkhh/.ipython/profile_default', '--parent=1']\n",
        "/home/parkhh/genres/rock.00023.wav\n",
        "Written"
       ]
      },
      {
       "output_type": "stream",
       "stream": "stdout",
       "text": [
        " /home/parkhh/genres/rock.00023.fft\n",
        "/home/parkhh/genres/rock.00079.wav\n",
        "Written"
       ]
      },
      {
       "output_type": "stream",
       "stream": "stdout",
       "text": [
        " /home/parkhh/genres/rock.00079.fft\n",
        "/home/parkhh/genres/rock.00063.wav\n",
        "Written"
       ]
      },
      {
       "output_type": "stream",
       "stream": "stdout",
       "text": [
        " /home/parkhh/genres/rock.00063.fft\n",
        "/home/parkhh/genres/rock.00088.wav\n",
        "Written"
       ]
      },
      {
       "output_type": "stream",
       "stream": "stdout",
       "text": [
        " /home/parkhh/genres/rock.00088.fft\n",
        "/home/parkhh/genres/rock.00005.wav\n",
        "Written"
       ]
      },
      {
       "output_type": "stream",
       "stream": "stdout",
       "text": [
        " /home/parkhh/genres/rock.00005.fft\n",
        "/home/parkhh/genres/rock.00086.wav\n",
        "Written"
       ]
      },
      {
       "output_type": "stream",
       "stream": "stdout",
       "text": [
        " /home/parkhh/genres/rock.00086.fft\n",
        "/home/parkhh/genres/rock.00026.wav\n",
        "Written"
       ]
      },
      {
       "output_type": "stream",
       "stream": "stdout",
       "text": [
        " /home/parkhh/genres/rock.00026.fft\n",
        "/home/parkhh/genres/rock.00032.wav\n",
        "Written"
       ]
      },
      {
       "output_type": "stream",
       "stream": "stdout",
       "text": [
        " /home/parkhh/genres/rock.00032.fft\n",
        "/home/parkhh/genres/rock.00065.wav\n",
        "Written"
       ]
      },
      {
       "output_type": "stream",
       "stream": "stdout",
       "text": [
        " /home/parkhh/genres/rock.00065.fft\n",
        "/home/parkhh/genres/rock.00062.wav\n",
        "Written"
       ]
      },
      {
       "output_type": "stream",
       "stream": "stdout",
       "text": [
        " /home/parkhh/genres/rock.00062.fft\n",
        "/home/parkhh/genres/rock.00076.wav\n",
        "Written"
       ]
      },
      {
       "output_type": "stream",
       "stream": "stdout",
       "text": [
        " /home/parkhh/genres/rock.00076.fft\n",
        "/home/parkhh/genres/rock.00090.wav\n",
        "Written"
       ]
      },
      {
       "output_type": "stream",
       "stream": "stdout",
       "text": [
        " /home/parkhh/genres/rock.00090.fft\n",
        "/home/parkhh/genres/rock.00009.wav\n",
        "Written"
       ]
      },
      {
       "output_type": "stream",
       "stream": "stdout",
       "text": [
        " /home/parkhh/genres/rock.00009.fft\n",
        "/home/parkhh/genres/rock.00006.wav\n",
        "Written"
       ]
      },
      {
       "output_type": "stream",
       "stream": "stdout",
       "text": [
        " /home/parkhh/genres/rock.00006.fft\n",
        "/home/parkhh/genres/rock.00089.wav\n",
        "Written"
       ]
      },
      {
       "output_type": "stream",
       "stream": "stdout",
       "text": [
        " /home/parkhh/genres/rock.00089.fft\n",
        "/home/parkhh/genres/rock.00040.wav\n",
        "Written"
       ]
      },
      {
       "output_type": "stream",
       "stream": "stdout",
       "text": [
        " /home/parkhh/genres/rock.00040.fft\n",
        "/home/parkhh/genres/rock.00021.wav\n",
        "Written"
       ]
      },
      {
       "output_type": "stream",
       "stream": "stdout",
       "text": [
        " /home/parkhh/genres/rock.00021.fft\n",
        "/home/parkhh/genres/rock.00050.wav\n",
        "Written"
       ]
      },
      {
       "output_type": "stream",
       "stream": "stdout",
       "text": [
        " /home/parkhh/genres/rock.00050.fft\n",
        "/home/parkhh/genres/rock.00015.wav\n",
        "Written"
       ]
      },
      {
       "output_type": "stream",
       "stream": "stdout",
       "text": [
        " /home/parkhh/genres/rock.00015.fft\n",
        "/home/parkhh/genres/rock.00045.wav\n",
        "Written"
       ]
      },
      {
       "output_type": "stream",
       "stream": "stdout",
       "text": [
        " /home/parkhh/genres/rock.00045.fft\n",
        "/home/parkhh/genres/rock.00084.wav\n",
        "Written"
       ]
      },
      {
       "output_type": "stream",
       "stream": "stdout",
       "text": [
        " /home/parkhh/genres/rock.00084.fft\n",
        "/home/parkhh/genres/rock.00051.wav\n",
        "Written"
       ]
      },
      {
       "output_type": "stream",
       "stream": "stdout",
       "text": [
        " /home/parkhh/genres/rock.00051.fft\n",
        "/home/parkhh/genres/rock.00007.wav\n",
        "Written"
       ]
      },
      {
       "output_type": "stream",
       "stream": "stdout",
       "text": [
        " /home/parkhh/genres/rock.00007.fft\n",
        "/home/parkhh/genres/rock.00071.wav\n",
        "Written"
       ]
      },
      {
       "output_type": "stream",
       "stream": "stdout",
       "text": [
        " /home/parkhh/genres/rock.00071.fft\n",
        "/home/parkhh/genres/rock.00073.wav\n",
        "Written"
       ]
      },
      {
       "output_type": "stream",
       "stream": "stdout",
       "text": [
        " /home/parkhh/genres/rock.00073.fft\n",
        "/home/parkhh/genres/rock.00025.wav\n",
        "Written"
       ]
      },
      {
       "output_type": "stream",
       "stream": "stdout",
       "text": [
        " /home/parkhh/genres/rock.00025.fft\n",
        "/home/parkhh/genres/rock.00049.wav\n",
        "Written"
       ]
      },
      {
       "output_type": "stream",
       "stream": "stdout",
       "text": [
        " /home/parkhh/genres/rock.00049.fft\n",
        "/home/parkhh/genres/rock.00041.wav\n",
        "Written"
       ]
      },
      {
       "output_type": "stream",
       "stream": "stdout",
       "text": [
        " /home/parkhh/genres/rock.00041.fft\n",
        "/home/parkhh/genres/rock.00095.wav\n",
        "Written"
       ]
      },
      {
       "output_type": "stream",
       "stream": "stdout",
       "text": [
        " /home/parkhh/genres/rock.00095.fft\n",
        "/home/parkhh/genres/rock.00053.wav\n",
        "Written"
       ]
      },
      {
       "output_type": "stream",
       "stream": "stdout",
       "text": [
        " /home/parkhh/genres/rock.00053.fft\n",
        "/home/parkhh/genres/rock.00014.wav\n",
        "Written"
       ]
      },
      {
       "output_type": "stream",
       "stream": "stdout",
       "text": [
        " /home/parkhh/genres/rock.00014.fft\n",
        "/home/parkhh/genres/rock.00048.wav\n",
        "Written"
       ]
      },
      {
       "output_type": "stream",
       "stream": "stdout",
       "text": [
        " /home/parkhh/genres/rock.00048.fft\n",
        "/home/parkhh/genres/rock.00098.wav\n",
        "Written"
       ]
      },
      {
       "output_type": "stream",
       "stream": "stdout",
       "text": [
        " /home/parkhh/genres/rock.00098.fft\n",
        "/home/parkhh/genres/rock.00072.wav\n",
        "Written"
       ]
      },
      {
       "output_type": "stream",
       "stream": "stdout",
       "text": [
        " /home/parkhh/genres/rock.00072.fft\n",
        "/home/parkhh/genres/rock.00080.wav\n",
        "Written"
       ]
      },
      {
       "output_type": "stream",
       "stream": "stdout",
       "text": [
        " /home/parkhh/genres/rock.00080.fft\n",
        "/home/parkhh/genres/rock.00033.wav\n",
        "Written"
       ]
      },
      {
       "output_type": "stream",
       "stream": "stdout",
       "text": [
        " /home/parkhh/genres/rock.00033.fft\n",
        "/home/parkhh/genres/rock.00042.wav\n",
        "Written"
       ]
      },
      {
       "output_type": "stream",
       "stream": "stdout",
       "text": [
        " /home/parkhh/genres/rock.00042.fft\n",
        "/home/parkhh/genres/rock.00055.wav\n",
        "Written"
       ]
      },
      {
       "output_type": "stream",
       "stream": "stdout",
       "text": [
        " /home/parkhh/genres/rock.00055.fft\n",
        "/home/parkhh/genres/rock.00059.wav\n",
        "Written"
       ]
      },
      {
       "output_type": "stream",
       "stream": "stdout",
       "text": [
        " /home/parkhh/genres/rock.00059.fft\n",
        "/home/parkhh/genres/rock.00081.wav\n",
        "Written"
       ]
      },
      {
       "output_type": "stream",
       "stream": "stdout",
       "text": [
        " /home/parkhh/genres/rock.00081.fft\n",
        "/home/parkhh/genres/rock.00091.wav\n",
        "Written"
       ]
      },
      {
       "output_type": "stream",
       "stream": "stdout",
       "text": [
        " /home/parkhh/genres/rock.00091.fft\n",
        "/home/parkhh/genres/rock.00034.wav\n",
        "Written"
       ]
      },
      {
       "output_type": "stream",
       "stream": "stdout",
       "text": [
        " /home/parkhh/genres/rock.00034.fft\n",
        "/home/parkhh/genres/rock.00060.wav\n",
        "Written"
       ]
      },
      {
       "output_type": "stream",
       "stream": "stdout",
       "text": [
        " /home/parkhh/genres/rock.00060.fft\n",
        "/home/parkhh/genres/rock.00096.wav\n",
        "Written"
       ]
      },
      {
       "output_type": "stream",
       "stream": "stdout",
       "text": [
        " /home/parkhh/genres/rock.00096.fft\n",
        "/home/parkhh/genres/rock.00087.wav\n",
        "Written"
       ]
      },
      {
       "output_type": "stream",
       "stream": "stdout",
       "text": [
        " /home/parkhh/genres/rock.00087.fft\n",
        "/home/parkhh/genres/rock.00018.wav\n",
        "Written"
       ]
      },
      {
       "output_type": "stream",
       "stream": "stdout",
       "text": [
        " /home/parkhh/genres/rock.00018.fft\n",
        "/home/parkhh/genres/rock.00027.wav\n",
        "Written"
       ]
      },
      {
       "output_type": "stream",
       "stream": "stdout",
       "text": [
        " /home/parkhh/genres/rock.00027.fft\n",
        "/home/parkhh/genres/rock.00038.wav\n",
        "Written"
       ]
      },
      {
       "output_type": "stream",
       "stream": "stdout",
       "text": [
        " /home/parkhh/genres/rock.00038.fft\n",
        "/home/parkhh/genres/rock.00016.wav\n",
        "Written"
       ]
      },
      {
       "output_type": "stream",
       "stream": "stdout",
       "text": [
        " /home/parkhh/genres/rock.00016.fft\n",
        "/home/parkhh/genres/rock.00011.wav\n",
        "Written"
       ]
      },
      {
       "output_type": "stream",
       "stream": "stdout",
       "text": [
        " /home/parkhh/genres/rock.00011.fft\n",
        "/home/parkhh/genres/rock.00064.wav\n",
        "Written"
       ]
      },
      {
       "output_type": "stream",
       "stream": "stdout",
       "text": [
        " /home/parkhh/genres/rock.00064.fft\n",
        "/home/parkhh/genres/rock.00092.wav\n",
        "Written"
       ]
      },
      {
       "output_type": "stream",
       "stream": "stdout",
       "text": [
        " /home/parkhh/genres/rock.00092.fft\n",
        "/home/parkhh/genres/rock.00031.wav\n",
        "Written"
       ]
      },
      {
       "output_type": "stream",
       "stream": "stdout",
       "text": [
        " /home/parkhh/genres/rock.00031.fft\n",
        "/home/parkhh/genres/rock.00017.wav\n",
        "Written"
       ]
      },
      {
       "output_type": "stream",
       "stream": "stdout",
       "text": [
        " /home/parkhh/genres/rock.00017.fft\n",
        "/home/parkhh/genres/rock.00067.wav\n",
        "Written"
       ]
      },
      {
       "output_type": "stream",
       "stream": "stdout",
       "text": [
        " /home/parkhh/genres/rock.00067.fft\n",
        "/home/parkhh/genres/rock.00077.wav\n",
        "Written"
       ]
      },
      {
       "output_type": "stream",
       "stream": "stdout",
       "text": [
        " /home/parkhh/genres/rock.00077.fft\n",
        "/home/parkhh/genres/rock.00012.wav\n",
        "Written"
       ]
      },
      {
       "output_type": "stream",
       "stream": "stdout",
       "text": [
        " /home/parkhh/genres/rock.00012.fft\n",
        "/home/parkhh/genres/rock.00030.wav\n",
        "Written"
       ]
      },
      {
       "output_type": "stream",
       "stream": "stdout",
       "text": [
        " /home/parkhh/genres/rock.00030.fft\n",
        "/home/parkhh/genres/rock.00000.wav\n",
        "Written"
       ]
      },
      {
       "output_type": "stream",
       "stream": "stdout",
       "text": [
        " /home/parkhh/genres/rock.00000.fft\n",
        "/home/parkhh/genres/rock.00001.wav\n",
        "Written"
       ]
      },
      {
       "output_type": "stream",
       "stream": "stdout",
       "text": [
        " /home/parkhh/genres/rock.00001.fft\n",
        "/home/parkhh/genres/rock.00052.wav\n",
        "Written"
       ]
      },
      {
       "output_type": "stream",
       "stream": "stdout",
       "text": [
        " /home/parkhh/genres/rock.00052.fft\n",
        "/home/parkhh/genres/rock.00002.wav\n",
        "Written"
       ]
      },
      {
       "output_type": "stream",
       "stream": "stdout",
       "text": [
        " /home/parkhh/genres/rock.00002.fft\n",
        "/home/parkhh/genres/rock.00019.wav\n",
        "Written"
       ]
      },
      {
       "output_type": "stream",
       "stream": "stdout",
       "text": [
        " /home/parkhh/genres/rock.00019.fft\n",
        "/home/parkhh/genres/rock.00093.wav\n",
        "Written"
       ]
      },
      {
       "output_type": "stream",
       "stream": "stdout",
       "text": [
        " /home/parkhh/genres/rock.00093.fft\n",
        "/home/parkhh/genres/rock.00020.wav\n",
        "Written"
       ]
      },
      {
       "output_type": "stream",
       "stream": "stdout",
       "text": [
        " /home/parkhh/genres/rock.00020.fft\n",
        "/home/parkhh/genres/rock.00046.wav\n",
        "Written"
       ]
      },
      {
       "output_type": "stream",
       "stream": "stdout",
       "text": [
        " /home/parkhh/genres/rock.00046.fft\n",
        "/home/parkhh/genres/rock.00085.wav\n",
        "Written"
       ]
      },
      {
       "output_type": "stream",
       "stream": "stdout",
       "text": [
        " /home/parkhh/genres/rock.00085.fft\n",
        "/home/parkhh/genres/rock.00054.wav\n",
        "Written"
       ]
      },
      {
       "output_type": "stream",
       "stream": "stdout",
       "text": [
        " /home/parkhh/genres/rock.00054.fft\n",
        "/home/parkhh/genres/rock.00010.wav\n",
        "Written"
       ]
      },
      {
       "output_type": "stream",
       "stream": "stdout",
       "text": [
        " /home/parkhh/genres/rock.00010.fft\n",
        "/home/parkhh/genres/rock.00058.wav\n",
        "Written"
       ]
      },
      {
       "output_type": "stream",
       "stream": "stdout",
       "text": [
        " /home/parkhh/genres/rock.00058.fft\n",
        "/home/parkhh/genres/rock.00035.wav\n",
        "Written"
       ]
      },
      {
       "output_type": "stream",
       "stream": "stdout",
       "text": [
        " /home/parkhh/genres/rock.00035.fft\n",
        "/home/parkhh/genres/rock.00013.wav\n",
        "Written"
       ]
      },
      {
       "output_type": "stream",
       "stream": "stdout",
       "text": [
        " /home/parkhh/genres/rock.00013.fft\n",
        "/home/parkhh/genres/rock.00003.wav\n",
        "Written"
       ]
      },
      {
       "output_type": "stream",
       "stream": "stdout",
       "text": [
        " /home/parkhh/genres/rock.00003.fft\n",
        "/home/parkhh/genres/rock.00047.wav\n",
        "Written"
       ]
      },
      {
       "output_type": "stream",
       "stream": "stdout",
       "text": [
        " /home/parkhh/genres/rock.00047.fft\n",
        "/home/parkhh/genres/rock.00075.wav\n",
        "Written"
       ]
      },
      {
       "output_type": "stream",
       "stream": "stdout",
       "text": [
        " /home/parkhh/genres/rock.00075.fft\n",
        "/home/parkhh/genres/rock.00066.wav\n",
        "Written"
       ]
      },
      {
       "output_type": "stream",
       "stream": "stdout",
       "text": [
        " /home/parkhh/genres/rock.00066.fft\n",
        "/home/parkhh/genres/rock.00057.wav\n",
        "Written"
       ]
      },
      {
       "output_type": "stream",
       "stream": "stdout",
       "text": [
        " /home/parkhh/genres/rock.00057.fft\n",
        "/home/parkhh/genres/rock.00083.wav\n",
        "Written"
       ]
      },
      {
       "output_type": "stream",
       "stream": "stdout",
       "text": [
        " /home/parkhh/genres/rock.00083.fft\n",
        "/home/parkhh/genres/rock.00022.wav\n",
        "Written"
       ]
      },
      {
       "output_type": "stream",
       "stream": "stdout",
       "text": [
        " /home/parkhh/genres/rock.00022.fft\n",
        "/home/parkhh/genres/rock.00029.wav\n",
        "Written"
       ]
      },
      {
       "output_type": "stream",
       "stream": "stdout",
       "text": [
        " /home/parkhh/genres/rock.00029.fft\n",
        "/home/parkhh/genres/rock.00094.wav\n",
        "Written"
       ]
      },
      {
       "output_type": "stream",
       "stream": "stdout",
       "text": [
        " /home/parkhh/genres/rock.00094.fft\n",
        "/home/parkhh/genres/rock.00004.wav\n",
        "Written"
       ]
      },
      {
       "output_type": "stream",
       "stream": "stdout",
       "text": [
        " /home/parkhh/genres/rock.00004.fft\n",
        "/home/parkhh/genres/rock.00069.wav\n",
        "Written"
       ]
      },
      {
       "output_type": "stream",
       "stream": "stdout",
       "text": [
        " /home/parkhh/genres/rock.00069.fft\n",
        "/home/parkhh/genres/rock.00036.wav\n",
        "Written"
       ]
      },
      {
       "output_type": "stream",
       "stream": "stdout",
       "text": [
        " /home/parkhh/genres/rock.00036.fft\n",
        "/home/parkhh/genres/rock.00008.wav\n",
        "Written"
       ]
      },
      {
       "output_type": "stream",
       "stream": "stdout",
       "text": [
        " /home/parkhh/genres/rock.00008.fft\n",
        "/home/parkhh/genres/rock.00028.wav\n",
        "Written"
       ]
      },
      {
       "output_type": "stream",
       "stream": "stdout",
       "text": [
        " /home/parkhh/genres/rock.00028.fft\n",
        "/home/parkhh/genres/rock.00061.wav\n",
        "Written"
       ]
      },
      {
       "output_type": "stream",
       "stream": "stdout",
       "text": [
        " /home/parkhh/genres/rock.00061.fft\n",
        "/home/parkhh/genres/rock.00056.wav\n",
        "Written"
       ]
      },
      {
       "output_type": "stream",
       "stream": "stdout",
       "text": [
        " /home/parkhh/genres/rock.00056.fft\n",
        "/home/parkhh/genres/rock.00097.wav\n",
        "Written"
       ]
      },
      {
       "output_type": "stream",
       "stream": "stdout",
       "text": [
        " /home/parkhh/genres/rock.00097.fft\n",
        "/home/parkhh/genres/rock.00043.wav\n",
        "Written"
       ]
      },
      {
       "output_type": "stream",
       "stream": "stdout",
       "text": [
        " /home/parkhh/genres/rock.00043.fft\n",
        "/home/parkhh/genres/rock.00068.wav\n",
        "Written"
       ]
      },
      {
       "output_type": "stream",
       "stream": "stdout",
       "text": [
        " /home/parkhh/genres/rock.00068.fft\n",
        "/home/parkhh/genres/rock.00082.wav\n",
        "Written"
       ]
      },
      {
       "output_type": "stream",
       "stream": "stdout",
       "text": [
        " /home/parkhh/genres/rock.00082.fft\n",
        "/home/parkhh/genres/rock.00044.wav\n",
        "Written"
       ]
      },
      {
       "output_type": "stream",
       "stream": "stdout",
       "text": [
        " /home/parkhh/genres/rock.00044.fft\n",
        "/home/parkhh/genres/rock.00078.wav\n",
        "Written"
       ]
      },
      {
       "output_type": "stream",
       "stream": "stdout",
       "text": [
        " /home/parkhh/genres/rock.00078.fft\n",
        "/home/parkhh/genres/rock.00074.wav\n",
        "Written"
       ]
      },
      {
       "output_type": "stream",
       "stream": "stdout",
       "text": [
        " /home/parkhh/genres/rock.00074.fft\n",
        "/home/parkhh/genres/rock.00024.wav\n",
        "Written"
       ]
      },
      {
       "output_type": "stream",
       "stream": "stdout",
       "text": [
        " /home/parkhh/genres/rock.00024.fft\n",
        "/home/parkhh/genres/rock.00039.wav\n",
        "Written"
       ]
      },
      {
       "output_type": "stream",
       "stream": "stdout",
       "text": [
        " /home/parkhh/genres/rock.00039.fft\n",
        "/home/parkhh/genres/rock.00037.wav\n",
        "Written"
       ]
      },
      {
       "output_type": "stream",
       "stream": "stdout",
       "text": [
        " /home/parkhh/genres/rock.00037.fft\n",
        "/home/parkhh/genres/rock.00070.wav\n",
        "Written"
       ]
      },
      {
       "output_type": "stream",
       "stream": "stdout",
       "text": [
        " /home/parkhh/genres/rock.00070.fft\n",
        "/home/parkhh/genres/rock.00099.wav\n",
        "Written"
       ]
      },
      {
       "output_type": "stream",
       "stream": "stdout",
       "text": [
        " /home/parkhh/genres/rock.00099.fft\n"
       ]
      }
     ],
     "prompt_number": 16
    },
    {
     "cell_type": "markdown",
     "metadata": {},
     "source": [
      "## \ubd84\ub958\uae30 \ud6c8\ub828\n",
      "### -- \ub85c\uc9c0\uc2a4\ud2f1 \ud68c\uadc0 \ubd84\ub958\uae30 \uc0ac\uc6a9\ud558\uc790...\n",
      "- \ubb38\uc81c\ub294 \ub2e4\uc911 \ubc94\uc8fc \ubb38\ub958\uc774\ub2e4..."
     ]
    },
    {
     "cell_type": "markdown",
     "metadata": {},
     "source": [
      "## \ub2e4\uc911 \ubc94\uc8fc \ubb38\uc81c\uc758 \uc815\ud655\ub3c4 (accuracy) \uce21\uc815\uc744 \uc704\ud55c \ud63c\ub3c8 \uba54\ud2b8\ub9ad\uc2a4 "
     ]
    },
    {
     "cell_type": "heading",
     "level": 3,
     "metadata": {},
     "source": [
      "http://en.wikipedia.org/wiki/Confusion_matrix"
     ]
    },
    {
     "cell_type": "markdown",
     "metadata": {},
     "source": [
      "<img src=\"confusion.png\">"
     ]
    },
    {
     "cell_type": "markdown",
     "metadata": {},
     "source": [
      "<img src=\"table1.png\">"
     ]
    },
    {
     "cell_type": "markdown",
     "metadata": {},
     "source": [
      "- \ud074\ub798\uc2dd \ub178\ub798\ub9cc \uc801\uc808\ud788 \uc608\uce21\ud588\ub2e4.\n",
      "- \uad1c\ucc2e\uc740 \ubd84\ub958\uae30\ub97c \uc5bb\uc9c0 \ubabb\ud568.\n",
      "- but, FFT\ub294 \uc7a5\ub958 \ubd84\ub958\ub97c \uc704\ud55c \uc801\uc808\ud55c \uc18d\uc131\uc774\ub2e4. \ub2e8\uc9c0 \ucda9\ubd84\ud788 \uc815\uc81c\ud558\uc9c0 \uc54a\uc558\uc744 \ubfd0\uc774\ub2e4."
     ]
    },
    {
     "cell_type": "markdown",
     "metadata": {},
     "source": [
      "## \uc218\uc6a9\uc790 \ubc18\uc751 \ud2b9\uc131(ROC)\uc744 \uc774\uc6a9\ud55c \ubd84\ub958\uae30 \uc131\ub2a5 \uce21\uc815 \ub300\uc548 "
     ]
    },
    {
     "cell_type": "markdown",
     "metadata": {},
     "source": [
      "- \uc815\ud655\ub3c4(accuracy) \uce21\uc815\uc740 \ubd84\ub958\uae30\ub97c \uce21\uc815\ud558\ub294\ub370 \ucda9\ubd84\ud558\uc9c0 \uc54a\ub2e4\ub294 \uc0ac\uc2e4\uc744 \uc54c\uc558\ub2e4.\n",
      "\n",
      "- \uc815\ubc00\ub3c4-\uc7ac\ud604\uc728 (precision-recall) \uace1\uc120 : P-R \uace1\uc120\n",
      "     - \ubd80\uc815\uc801\uc778 \ubc94\uc8fc\ubcf4\ub2e4 \uae0d\uc815\uc801\uc778 \ubc94\uc8fc\uc5d0 \ub354 \uad00\uc2ec\uc774 \uc788\ub294 \uc791\uc5c5.\n",
      "     - \uae0d\uc815\uc801\uc778 \uc608\uc81c\uc758 \uac1c\uc218\uac00 \ubd80\uc815\uc801\uc778 \uc608\uc81c\uc758 \uac1c\uc218\ubcf4\ub2e4 \ud6e8\uc52c \uc801\uc740 \uc791\uc5c5\uc5d0 \uc801\ud569\ud558\ub2e4.\n",
      "     - \uc608) \uc815\ubcf4\uac80\uc0c9, \uc0ac\uae30 \ud0d0\uc9c0\n",
      "     \n",
      "- ROC \uace1\uc120 : \uc77c\ubc18\uc801\uc73c\ub85c \ubd84\ub958\uae30\uac00 \uc5bc\ub9c8\ub098 \uc798 \uc791\ub3d9\ud558\ub294\uc9c0\ub97c \ub354 \uc798 \ubcf4\uc5ec\uc900\ub2e4.\n",
      "     - \uac70\uc9d3\uae0d\uc815(false positive)\uc5d0 \ub300\ud55c \ucc38\uae0d\uc815(true positive)\uc758 \ube44\uc728\uc744 \ub3c4\uc2dd\ud55c\ub2e4.\n",
      "\n",
      "- \ub3d9\uc77c\ud55c \ud14c\uc774\ud130\uc14b\uc73c\ub85c \ub450 \ubd84\ub958\uae30\ub97c \ube44\uad50\ud560\ub54c, \ud558\ub098\uc758 \ubd84\ub958\uae30\uc5d0 \ub300\ud55c P/R \uc758 AUC\uac00 \ub192\uc73c\uba74, \ud574\ub2f9 ROC \uace1\uc120\uc758 AUC \ub3c4 \ub192\ub2e4\uace0 \uac00\uc815\ud558\ub294 \uac83\uc774 \ud56d\uc0c1 \uc548\uc804\ud558\ub2e4. \uc5ed\ub3c4 \ub9c8\ucc2c\uac00\uc9c0. --> \uadf8\ub7ec\ubbc0\ub85c \ud55c\uac1c\ub9cc \ubcf4\uc790!! \n",
      "     \n",
      "        "
     ]
    },
    {
     "cell_type": "markdown",
     "metadata": {},
     "source": [
      "<img src=\"table2.png\">"
     ]
    },
    {
     "cell_type": "markdown",
     "metadata": {},
     "source": [
      "<img src=\"fig1.png\">"
     ]
    },
    {
     "cell_type": "code",
     "collapsed": false,
     "input": [
      "%load 01_fft_based_classifier.py"
     ],
     "language": "python",
     "metadata": {},
     "outputs": [],
     "prompt_number": 3
    },
    {
     "cell_type": "code",
     "collapsed": false,
     "input": [
      "import numpy as np\n",
      "from collections import defaultdict\n",
      "\n",
      "from sklearn.metrics import precision_recall_curve, roc_curve\n",
      "from sklearn.metrics import auc\n",
      "from sklearn.cross_validation import ShuffleSplit\n",
      "\n",
      "from sklearn.metrics import confusion_matrix\n",
      "\n",
      "from utils import plot_pr, plot_roc, plot_confusion_matrix, GENRE_LIST\n",
      "\n",
      "from fft import read_fft\n",
      "\n",
      "TEST_DIR = \"/media/sf_P/pymlbook-data/09-genre-class/private\"\n",
      "\n",
      "genre_list = GENRE_LIST\n",
      "\n",
      "\n",
      "def train_model(clf_factory, X, Y, name, plot=False):\n",
      "    labels = np.unique(Y)\n",
      "\n",
      "    cv = ShuffleSplit(\n",
      "        n=len(X), n_iter=1, test_size=0.3, indices=True, random_state=0)\n",
      "\n",
      "    train_errors = []\n",
      "    test_errors = []\n",
      "\n",
      "    scores = []\n",
      "    pr_scores = defaultdict(list)\n",
      "    precisions, recalls, thresholds = defaultdict(\n",
      "        list), defaultdict(list), defaultdict(list)\n",
      "\n",
      "    roc_scores = defaultdict(list)\n",
      "    tprs = defaultdict(list)\n",
      "    fprs = defaultdict(list)\n",
      "\n",
      "    clfs = []  # just to later get the median\n",
      "\n",
      "    cms = []\n",
      "\n",
      "    for train, test in cv:\n",
      "        X_train, y_train = X[train], Y[train]\n",
      "        X_test, y_test = X[test], Y[test]\n",
      "\n",
      "        clf = clf_factory()\n",
      "        clf.fit(X_train, y_train)\n",
      "        clfs.append(clf)\n",
      "\n",
      "        train_score = clf.score(X_train, y_train)\n",
      "        test_score = clf.score(X_test, y_test)\n",
      "        scores.append(test_score)\n",
      "\n",
      "        train_errors.append(1 - train_score)\n",
      "        test_errors.append(1 - test_score)\n",
      "\n",
      "        y_pred = clf.predict(X_test)\n",
      "        cm = confusion_matrix(y_test, y_pred)\n",
      "        print ' --------cm --------- '\n",
      "        print  cm\n",
      "        print ' ----------end of cm -------'\n",
      "        cms.append(cm)\n",
      "\n",
      "        for label in labels:\n",
      "            y_label_test = np.asarray(y_test == label, dtype=int)\n",
      "            proba = clf.predict_proba(X_test)\n",
      "            proba_label = proba[:, label]\n",
      "\n",
      "            precision, recall, pr_thresholds = precision_recall_curve(\n",
      "                y_label_test, proba_label)\n",
      "            pr_scores[label].append(auc(recall, precision))\n",
      "            precisions[label].append(precision)\n",
      "            recalls[label].append(recall)\n",
      "            thresholds[label].append(pr_thresholds)\n",
      "\n",
      "            fpr, tpr, roc_thresholds = roc_curve(y_label_test, proba_label)\n",
      "            roc_scores[label].append(auc(fpr, tpr))\n",
      "            tprs[label].append(tpr)\n",
      "            fprs[label].append(fpr)\n",
      "\n",
      "    if plot:\n",
      "        for label in labels:\n",
      "            print \"Plotting\", genre_list[label]\n",
      "            scores_to_sort = roc_scores[label]\n",
      "            median = np.argsort(scores_to_sort)[len(scores_to_sort) / 2]\n",
      "            print ' ---- roc 1 -----'\n",
      "            desc = \"%s %s\" % (name, genre_list[label])\n",
      "            \n",
      "            plot_pr(pr_scores[label][median], desc, precisions[label][median],\n",
      "                    recalls[label][median], label='%s vs rest' % genre_list[label])\n",
      "            plot_roc(roc_scores[label][median], desc, tprs[label][median],\n",
      "                     fprs[label][median], label='%s vs rest' % genre_list[label])\n",
      "            print ' ---- roc 2 -----'\n",
      "\n",
      "    all_pr_scores = np.asarray(pr_scores.values()).flatten()\n",
      "    summary = (np.mean(scores), np.std(scores),\n",
      "               np.mean(all_pr_scores), np.std(all_pr_scores))\n",
      "    print \"%.3f\\t%.3f\\t%.3f\\t%.3f\\t\" % summary\n",
      "\n",
      "    return np.mean(train_errors), np.mean(test_errors), np.asarray(cms)\n",
      "\n",
      "\n",
      "def create_model():\n",
      "    from sklearn.linear_model.logistic import LogisticRegression\n",
      "    clf = LogisticRegression()\n",
      "\n",
      "    return clf\n",
      "\n",
      "\n",
      "if __name__ == \"__main__\":\n",
      "    X, y = read_fft(genre_list)\n",
      "\n",
      "    train_avg, test_avg, cms = train_model(\n",
      "        create_model, X, y, \"Log Reg FFT\", plot=True)\n",
      "\n",
      "    \n",
      "    print '.. train_avg == ', train_avg\n",
      "    print ' .. test_avg == ', test_avg\n",
      "    print ' .. cms == ' , cms\n",
      "    print ' ====================================== '\n",
      "    \n",
      "    cm_avg = np.mean(cms, axis=0)\n",
      "    cm_norm = cm_avg / np.sum(cm_avg, axis=0)\n",
      "\n",
      "    print cm_norm\n",
      "    \n",
      "    print ' --------==================================== '\n",
      "\n",
      "    plot_confusion_matrix(cm_norm, genre_list, \"fft\",\n",
      "                          \"Confusion matrix of an FFT based classifier\")\n"
     ],
     "language": "python",
     "metadata": {},
     "outputs": [
      {
       "output_type": "stream",
       "stream": "stdout",
       "text": [
        " --------cm --------- \n",
        "[[24  5  0  0  1  1]\n",
        " [ 4 14  0  0  4  2]\n",
        " [ 3  5 13  1  6  2]\n",
        " [ 2  5  8  7  6  3]\n",
        " [ 1  4 10  0  9 10]\n",
        " [ 0  1  7  1 11 10]]\n",
        " ----------end of cm -------\n",
        "Plotting classical\n",
        " ---- roc 1 -----\n"
       ]
      },
      {
       "output_type": "stream",
       "stream": "stderr",
       "text": [
        "/usr/local/lib/python2.7/dist-packages/sklearn/cross_validation.py:758: DeprecationWarning: The indices parameter is deprecated and will be removed (assumed True) in 0.17\n",
        "  \"removed (assumed True) in 0.17\", DeprecationWarning)\n"
       ]
      },
      {
       "metadata": {},
       "output_type": "display_data",
       "text": [
        "<matplotlib.figure.Figure at 0xaf164d2c>"
       ]
      },
      {
       "metadata": {},
       "output_type": "display_data",
       "png": "[encoded data removed]",
       "text": [
        "<matplotlib.figure.Figure at 0xaf2d508c>"
       ]
      },
      {
       "metadata": {},
       "output_type": "display_data",
       "text": [
        "<matplotlib.figure.Figure at 0xaf08774c>"
       ]
      },
      {
       "metadata": {},
       "output_type": "display_data",
       "png": "[encoded data removed]",
       "text": [
        "<matplotlib.figure.Figure at 0xaf3f59ac>"
       ]
      },
      {
       "output_type": "stream",
       "stream": "stdout",
       "text": [
        " ---- roc 2 -----\n",
        "Plotting jazz\n",
        " ---- roc 1 -----\n"
       ]
      },
      {
       "metadata": {},
       "output_type": "display_data",
       "text": [
        "<matplotlib.figure.Figure at 0xb4ec218c>"
       ]
      },
      {
       "metadata": {},
       "output_type": "display_data",
       "png": "[encoded data removed]",
       "text": [
        "<matplotlib.figure.Figure at 0xaf09428c>"
       ]
      },
      {
       "metadata": {},
       "output_type": "display_data",
       "text": [
        "<matplotlib.figure.Figure at 0xaf04be8c>"
       ]
      },
      {
       "metadata": {},
       "output_type": "display_data",
       "png": "[encoded data removed]",
       "text": [
        "<matplotlib.figure.Figure at 0xaf2d52ac>"
       ]
      },
      {
       "output_type": "stream",
       "stream": "stdout",
       "text": [
        " ---- roc 2 -----\n",
        "Plotting country\n",
        " ---- roc 1 -----\n"
       ]
      },
      {
       "metadata": {},
       "output_type": "display_data",
       "text": [
        "<matplotlib.figure.Figure at 0xaf10f2ac>"
       ]
      },
      {
       "metadata": {},
       "output_type": "display_data",
       "png": "[encoded data removed]",
       "text": [
        "<matplotlib.figure.Figure at 0xaf3e87cc>"
       ]
      },
      {
       "metadata": {},
       "output_type": "display_data",
       "text": [
        "<matplotlib.figure.Figure at 0xaf2bcb4c>"
       ]
      },
      {
       "metadata": {},
       "output_type": "display_data",
       "png": "[encoded data removed]",
       "text": [
        "<matplotlib.figure.Figure at 0xaf3829ec>"
       ]
      },
      {
       "output_type": "stream",
       "stream": "stdout",
       "text": [
        " ---- roc 2 -----\n",
        "Plotting pop\n",
        " ---- roc 1 -----\n"
       ]
      },
      {
       "metadata": {},
       "output_type": "display_data",
       "text": [
        "<matplotlib.figure.Figure at 0xaf16e96c>"
       ]
      },
      {
       "metadata": {},
       "output_type": "display_data",
       "png": "[encoded data removed]",
       "text": [
        "<matplotlib.figure.Figure at 0xaf1a6c0c>"
       ]
      },
      {
       "metadata": {},
       "output_type": "display_data",
       "text": [
        "<matplotlib.figure.Figure at 0xaf2b2a8c>"
       ]
      },
      {
       "metadata": {},
       "output_type": "display_data",
       "png": "[encoded data removed]",
       "text": [
        "<matplotlib.figure.Figure at 0xaf2b208c>"
       ]
      },
      {
       "output_type": "stream",
       "stream": "stdout",
       "text": [
        " ---- roc 2 -----\n",
        "Plotting rock\n",
        " ---- roc 1 -----\n"
       ]
      },
      {
       "metadata": {},
       "output_type": "display_data",
       "text": [
        "<matplotlib.figure.Figure at 0xaf13aeec>"
       ]
      },
      {
       "metadata": {},
       "output_type": "display_data",
       "png": "[encoded data removed]",
       "text": [
        "<matplotlib.figure.Figure at 0xaf10edac>"
       ]
      },
      {
       "metadata": {},
       "output_type": "display_data",
       "text": [
        "<matplotlib.figure.Figure at 0xb18f154c>"
       ]
      },
      {
       "metadata": {},
       "output_type": "display_data",
       "png": "[encoded data removed]",
       "text": [
        "<matplotlib.figure.Figure at 0xaf382c8c>"
       ]
      },
      {
       "output_type": "stream",
       "stream": "stdout",
       "text": [
        " ---- roc 2 -----\n",
        "Plotting metal\n",
        " ---- roc 1 -----\n"
       ]
      },
      {
       "metadata": {},
       "output_type": "display_data",
       "text": [
        "<matplotlib.figure.Figure at 0xaf4dfc8c>"
       ]
      },
      {
       "metadata": {},
       "output_type": "display_data",
       "png": "[encoded data removed]",
       "text": [
        "<matplotlib.figure.Figure at 0xaf3e8fac>"
       ]
      },
      {
       "metadata": {},
       "output_type": "display_data",
       "text": [
        "<matplotlib.figure.Figure at 0xaf3f252c>"
       ]
      },
      {
       "metadata": {},
       "output_type": "display_data",
       "png": "[encoded data removed]",
       "text": [
        "<matplotlib.figure.Figure at 0xaf9e60cc>"
       ]
      },
      {
       "output_type": "stream",
       "stream": "stdout",
       "text": [
        " ---- roc 2 -----\n",
        "0.428\t0.000\t0.389\t0.115\t\n",
        ".. train_avg ==  0.0\n",
        " .. test_avg ==  0.572222222222\n",
        " .. cms ==  [[[24  5  0  0  1  1]\n",
        "  [ 4 14  0  0  4  2]\n",
        "  [ 3  5 13  1  6  2]\n",
        "  [ 2  5  8  7  6  3]\n",
        "  [ 1  4 10  0  9 10]\n",
        "  [ 0  1  7  1 11 10]]]\n",
        " ====================================== \n",
        "[[ 0.70588235  0.14705882  0.          0.          0.02702703  0.03571429]\n",
        " [ 0.11764706  0.41176471  0.          0.          0.10810811  0.07142857]\n",
        " [ 0.08823529  0.14705882  0.34210526  0.11111111  0.16216216  0.07142857]\n",
        " [ 0.05882353  0.14705882  0.21052632  0.77777778  0.16216216  0.10714286]\n",
        " [ 0.02941176  0.11764706  0.26315789  0.          0.24324324  0.35714286]\n",
        " [ 0.          0.02941176  0.18421053  0.11111111  0.2972973   0.35714286]]\n",
        " --------==================================== \n",
        " -------1-------"
       ]
      },
      {
       "output_type": "stream",
       "stream": "stdout",
       "text": [
        "\n",
        " -------2-------"
       ]
      },
      {
       "output_type": "stream",
       "stream": "stdout",
       "text": [
        "\n"
       ]
      },
      {
       "metadata": {},
       "output_type": "display_data",
       "png": "[encoded data removed]",
       "text": [
        "<matplotlib.figure.Figure at 0xafa0874c>"
       ]
      }
     ],
     "prompt_number": 5
    },
    {
     "cell_type": "markdown",
     "metadata": {},
     "source": [
      "# \uba5c \uc8fc\ud30c\uc2a4 \ucf11\uc2a4\ud2b8\ub7f4 \uacc4\uc218\uc640 \ubd84\ub958 \uc131\ub2a5 \ud5a5\uc0c1\n"
     ]
    },
    {
     "cell_type": "markdown",
     "metadata": {},
     "source": [
      "- \uad6d\uc81c\uc74c\uc545\uc815\ubcf4\uac80\uc0c9\ud559\ud68c --> \uc790\ub3d9\uc74c\uc545\uc7a5\ub974\ubd84\ub958\n",
      "- \uba5c \uc8fc\ud30c\uc218 \ucf11\uc2a4\ud2b8\ub7f4 \uacc4\uc218 (MFCC) : Mel Frequency Cepstral  Coefficients\n",
      "    - \uc18c\ub9ac\uc758 \ud30c\uc6cc \uc2a4\ud399\ud2b8\ub7fc\uc744 \ubd80\ud638\ud654\ud558\ub294\ub370, \uc2e0\ud638 \uc2a4\ud399\ud2b8\ub7fc\uc758 \ub85c\uadf8 \ud478\ub9ac\uc5d0 \ubcc0\ud658\uc73c\ub85c \uacc4\uc0b0\ub41c\ub2e4.\n",
      "        \n",
      "- scikits.talkbox \uc0ac\uc6a9\n",
      "- ceps : \ub178\ub798\ud30c\uc77c \uc774\ub984\uc5d0 \ub300\ud574 4135\uac1c\uc758 \ud504\ub808\uc784\uacfc \uac01 \ud504\ub808\uc784\uc5d0 \ub300\ud55c 13\uac1c\uc758 \uacc4\uc218\ub97c \ud3ec\ud568.\n",
      "\n",
      "- \ub178\ub798\uc758 \uc2dc\uc791\uacfc \ub05d\uc774 \uc911\uac04\ubd80\ubd84\ubcf4\ub2e4 \uc7a5\ub974\uc758 \ud2b9\uc131\uc774 \ub35c\ud558\ub2e4\uace0 \uac00\uc815, \uc55e,\ub4a4 10% \ubb34\uc2dc."
     ]
    },
    {
     "cell_type": "code",
     "collapsed": false,
     "input": [
      "%load ceps.py"
     ],
     "language": "python",
     "metadata": {},
     "outputs": [],
     "prompt_number": 1
    },
    {
     "cell_type": "code",
     "collapsed": false,
     "input": [
      "import os\n",
      "import glob\n",
      "import sys\n",
      "\n",
      "import numpy as np\n",
      "import scipy\n",
      "import scipy.io.wavfile\n",
      "from scikits.talkbox.features import mfcc\n",
      "\n",
      "from utils import GENRE_DIR\n",
      "\n",
      "\n",
      "def write_ceps(ceps, fn):\n",
      "    \"\"\"\n",
      "    Write the MFCC to separate files to speed up processing.\n",
      "    \"\"\"\n",
      "    base_fn, ext = os.path.splitext(fn)\n",
      "    data_fn = base_fn + \".ceps\"\n",
      "    np.save(data_fn, ceps)\n",
      "    print \"Written\", data_fn\n",
      "\n",
      "\n",
      "def create_ceps(fn):\n",
      "    sample_rate, X = scipy.io.wavfile.read(fn)\n",
      "\n",
      "    ceps, mspec, spec = mfcc(X)\n",
      "    write_ceps(ceps, fn)\n",
      "\n",
      "\n",
      "def read_ceps(genre_list, base_dir=GENRE_DIR):\n",
      "    X = []\n",
      "    y = []\n",
      "    for label, genre in enumerate(genre_list):\n",
      "        for fn in glob.glob(os.path.join(base_dir, genre, \"*.ceps.npy\")):\n",
      "            ceps = np.load(fn)\n",
      "            num_ceps = len(ceps)\n",
      "            X.append(\n",
      "                np.mean(ceps[int(num_ceps / 10):int(num_ceps * 9 / 10)], axis=0))\n",
      "            y.append(label)\n",
      "\n",
      "    return np.array(X), np.array(y)\n",
      "\n",
      "\n",
      "if __name__ == \"__main__\":\n",
      "    os.chdir(GENRE_DIR)\n",
      "    # glob_wav = os.path.join(sys.argv[1], \"*.wav\")\n",
      "    GENRE_LIST = [\"classical\", \"jazz\", \"country\", \"pop\", \"rock\", \"metal\"]\n",
      "    for sub_dir in GENRE_LIST:\n",
      "        glob_wav = os.path.join(sub_dir, \"*.wav\")\n",
      "        print glob_wav\n",
      "        for fn in glob.glob(glob_wav):\n",
      "            create_ceps(fn)\n",
      "            \n"
     ],
     "language": "python",
     "metadata": {},
     "outputs": [
      {
       "output_type": "stream",
       "stream": "stdout",
       "text": [
        "classical/*.wav\n",
        "Written"
       ]
      },
      {
       "output_type": "stream",
       "stream": "stdout",
       "text": [
        " classical/classical.00007.ceps\n",
        "Written"
       ]
      },
      {
       "output_type": "stream",
       "stream": "stdout",
       "text": [
        " classical/classical.00082.ceps\n",
        "Written"
       ]
      },
      {
       "output_type": "stream",
       "stream": "stdout",
       "text": [
        " classical/classical.00016.ceps\n",
        "Written"
       ]
      },
      {
       "output_type": "stream",
       "stream": "stdout",
       "text": [
        " classical/classical.00070.ceps\n",
        "Written"
       ]
      },
      {
       "output_type": "stream",
       "stream": "stdout",
       "text": [
        " classical/classical.00080.ceps\n",
        "Written"
       ]
      },
      {
       "output_type": "stream",
       "stream": "stdout",
       "text": [
        " classical/classical.00042.ceps\n",
        "Written"
       ]
      },
      {
       "output_type": "stream",
       "stream": "stdout",
       "text": [
        " classical/classical.00031.ceps\n",
        "Written"
       ]
      },
      {
       "output_type": "stream",
       "stream": "stdout",
       "text": [
        " classical/classical.00075.ceps\n",
        "Written"
       ]
      },
      {
       "output_type": "stream",
       "stream": "stdout",
       "text": [
        " classical/classical.00043.ceps\n",
        "Written"
       ]
      },
      {
       "output_type": "stream",
       "stream": "stdout",
       "text": [
        " classical/classical.00034.ceps\n",
        "Written"
       ]
      },
      {
       "output_type": "stream",
       "stream": "stdout",
       "text": [
        " classical/classical.00036.ceps\n",
        "Written"
       ]
      },
      {
       "output_type": "stream",
       "stream": "stdout",
       "text": [
        " classical/classical.00065.ceps\n",
        "Written"
       ]
      },
      {
       "output_type": "stream",
       "stream": "stdout",
       "text": [
        " classical/classical.00030.ceps\n",
        "Written"
       ]
      },
      {
       "output_type": "stream",
       "stream": "stdout",
       "text": [
        " classical/classical.00062.ceps\n",
        "Written"
       ]
      },
      {
       "output_type": "stream",
       "stream": "stdout",
       "text": [
        " classical/classical.00038.ceps\n",
        "Written"
       ]
      },
      {
       "output_type": "stream",
       "stream": "stdout",
       "text": [
        " classical/classical.00085.ceps\n",
        "Written"
       ]
      },
      {
       "output_type": "stream",
       "stream": "stdout",
       "text": [
        " classical/classical.00051.ceps\n",
        "Written"
       ]
      },
      {
       "output_type": "stream",
       "stream": "stdout",
       "text": [
        " classical/classical.00089.ceps\n",
        "Written"
       ]
      },
      {
       "output_type": "stream",
       "stream": "stdout",
       "text": [
        " classical/classical.00063.ceps\n",
        "Written"
       ]
      },
      {
       "output_type": "stream",
       "stream": "stdout",
       "text": [
        " classical/classical.00002.ceps\n",
        "Written"
       ]
      },
      {
       "output_type": "stream",
       "stream": "stdout",
       "text": [
        " classical/classical.00064.ceps\n",
        "Written"
       ]
      },
      {
       "output_type": "stream",
       "stream": "stdout",
       "text": [
        " classical/classical.00046.ceps\n",
        "Written"
       ]
      },
      {
       "output_type": "stream",
       "stream": "stdout",
       "text": [
        " classical/classical.00035.ceps\n",
        "Written"
       ]
      },
      {
       "output_type": "stream",
       "stream": "stdout",
       "text": [
        " classical/classical.00019.ceps\n",
        "Written"
       ]
      },
      {
       "output_type": "stream",
       "stream": "stdout",
       "text": [
        " classical/classical.00086.ceps\n",
        "Written"
       ]
      },
      {
       "output_type": "stream",
       "stream": "stdout",
       "text": [
        " classical/classical.00060.ceps\n",
        "Written"
       ]
      },
      {
       "output_type": "stream",
       "stream": "stdout",
       "text": [
        " classical/classical.00098.ceps\n",
        "Written"
       ]
      },
      {
       "output_type": "stream",
       "stream": "stdout",
       "text": [
        " classical/classical.00094.ceps\n",
        "Written"
       ]
      },
      {
       "output_type": "stream",
       "stream": "stdout",
       "text": [
        " classical/classical.00027.ceps\n",
        "Written"
       ]
      },
      {
       "output_type": "stream",
       "stream": "stdout",
       "text": [
        " classical/classical.00012.ceps\n",
        "Written"
       ]
      },
      {
       "output_type": "stream",
       "stream": "stdout",
       "text": [
        " classical/classical.00073.ceps\n",
        "Written"
       ]
      },
      {
       "output_type": "stream",
       "stream": "stdout",
       "text": [
        " classical/classical.00072.ceps\n",
        "Written"
       ]
      },
      {
       "output_type": "stream",
       "stream": "stdout",
       "text": [
        " classical/classical.00009.ceps\n",
        "Written"
       ]
      },
      {
       "output_type": "stream",
       "stream": "stdout",
       "text": [
        " classical/classical.00045.ceps\n",
        "Written"
       ]
      },
      {
       "output_type": "stream",
       "stream": "stdout",
       "text": [
        " classical/classical.00003.ceps\n",
        "Written"
       ]
      },
      {
       "output_type": "stream",
       "stream": "stdout",
       "text": [
        " classical/classical.00033.ceps\n",
        "Written"
       ]
      },
      {
       "output_type": "stream",
       "stream": "stdout",
       "text": [
        " classical/classical.00067.ceps\n",
        "Written"
       ]
      },
      {
       "output_type": "stream",
       "stream": "stdout",
       "text": [
        " classical/classical.00081.ceps\n",
        "Written"
       ]
      },
      {
       "output_type": "stream",
       "stream": "stdout",
       "text": [
        " classical/classical.00096.ceps\n",
        "Written"
       ]
      },
      {
       "output_type": "stream",
       "stream": "stdout",
       "text": [
        " classical/classical.00053.ceps\n",
        "Written"
       ]
      },
      {
       "output_type": "stream",
       "stream": "stdout",
       "text": [
        " classical/classical.00015.ceps\n",
        "Written"
       ]
      },
      {
       "output_type": "stream",
       "stream": "stdout",
       "text": [
        " classical/classical.00008.ceps\n",
        "Written"
       ]
      },
      {
       "output_type": "stream",
       "stream": "stdout",
       "text": [
        " classical/classical.00066.ceps\n",
        "Written"
       ]
      },
      {
       "output_type": "stream",
       "stream": "stdout",
       "text": [
        " classical/classical.00091.ceps\n",
        "Written"
       ]
      },
      {
       "output_type": "stream",
       "stream": "stdout",
       "text": [
        " classical/classical.00074.ceps\n",
        "Written"
       ]
      },
      {
       "output_type": "stream",
       "stream": "stdout",
       "text": [
        " classical/classical.00068.ceps\n",
        "Written"
       ]
      },
      {
       "output_type": "stream",
       "stream": "stdout",
       "text": [
        " classical/classical.00028.ceps\n",
        "Written"
       ]
      },
      {
       "output_type": "stream",
       "stream": "stdout",
       "text": [
        " classical/classical.00054.ceps\n",
        "Written"
       ]
      },
      {
       "output_type": "stream",
       "stream": "stdout",
       "text": [
        " classical/classical.00020.ceps\n",
        "Written"
       ]
      },
      {
       "output_type": "stream",
       "stream": "stdout",
       "text": [
        " classical/classical.00076.ceps\n",
        "Written"
       ]
      },
      {
       "output_type": "stream",
       "stream": "stdout",
       "text": [
        " classical/classical.00056.ceps\n",
        "Written"
       ]
      },
      {
       "output_type": "stream",
       "stream": "stdout",
       "text": [
        " classical/classical.00022.ceps\n",
        "Written"
       ]
      },
      {
       "output_type": "stream",
       "stream": "stdout",
       "text": [
        " classical/classical.00017.ceps\n",
        "Written"
       ]
      },
      {
       "output_type": "stream",
       "stream": "stdout",
       "text": [
        " classical/classical.00050.ceps\n",
        "Written"
       ]
      },
      {
       "output_type": "stream",
       "stream": "stdout",
       "text": [
        " classical/classical.00079.ceps\n",
        "Written"
       ]
      },
      {
       "output_type": "stream",
       "stream": "stdout",
       "text": [
        " classical/classical.00092.ceps\n",
        "Written"
       ]
      },
      {
       "output_type": "stream",
       "stream": "stdout",
       "text": [
        " classical/classical.00078.ceps\n",
        "Written"
       ]
      },
      {
       "output_type": "stream",
       "stream": "stdout",
       "text": [
        " classical/classical.00083.ceps\n",
        "Written"
       ]
      },
      {
       "output_type": "stream",
       "stream": "stdout",
       "text": [
        " classical/classical.00071.ceps\n",
        "Written"
       ]
      },
      {
       "output_type": "stream",
       "stream": "stdout",
       "text": [
        " classical/classical.00023.ceps\n",
        "Written"
       ]
      },
      {
       "output_type": "stream",
       "stream": "stdout",
       "text": [
        " classical/classical.00026.ceps\n",
        "Written"
       ]
      },
      {
       "output_type": "stream",
       "stream": "stdout",
       "text": [
        " classical/classical.00000.ceps\n",
        "Written"
       ]
      },
      {
       "output_type": "stream",
       "stream": "stdout",
       "text": [
        " classical/classical.00040.ceps\n",
        "Written"
       ]
      },
      {
       "output_type": "stream",
       "stream": "stdout",
       "text": [
        " classical/classical.00059.ceps\n",
        "Written"
       ]
      },
      {
       "output_type": "stream",
       "stream": "stdout",
       "text": [
        " classical/classical.00011.ceps\n",
        "Written"
       ]
      },
      {
       "output_type": "stream",
       "stream": "stdout",
       "text": [
        " classical/classical.00099.ceps\n",
        "Written"
       ]
      },
      {
       "output_type": "stream",
       "stream": "stdout",
       "text": [
        " classical/classical.00014.ceps\n",
        "Written"
       ]
      },
      {
       "output_type": "stream",
       "stream": "stdout",
       "text": [
        " classical/classical.00004.ceps\n",
        "Written"
       ]
      },
      {
       "output_type": "stream",
       "stream": "stdout",
       "text": [
        " classical/classical.00090.ceps\n",
        "Written"
       ]
      },
      {
       "output_type": "stream",
       "stream": "stdout",
       "text": [
        " classical/classical.00029.ceps\n",
        "Written"
       ]
      },
      {
       "output_type": "stream",
       "stream": "stdout",
       "text": [
        " classical/classical.00048.ceps\n",
        "Written"
       ]
      },
      {
       "output_type": "stream",
       "stream": "stdout",
       "text": [
        " classical/classical.00087.ceps\n",
        "Written"
       ]
      },
      {
       "output_type": "stream",
       "stream": "stdout",
       "text": [
        " classical/classical.00069.ceps\n",
        "Written"
       ]
      },
      {
       "output_type": "stream",
       "stream": "stdout",
       "text": [
        " classical/classical.00097.ceps\n",
        "Written"
       ]
      },
      {
       "output_type": "stream",
       "stream": "stdout",
       "text": [
        " classical/classical.00041.ceps\n",
        "Written"
       ]
      },
      {
       "output_type": "stream",
       "stream": "stdout",
       "text": [
        " classical/classical.00061.ceps\n",
        "Written"
       ]
      },
      {
       "output_type": "stream",
       "stream": "stdout",
       "text": [
        " classical/classical.00010.ceps\n",
        "Written"
       ]
      },
      {
       "output_type": "stream",
       "stream": "stdout",
       "text": [
        " classical/classical.00055.ceps\n",
        "Written"
       ]
      },
      {
       "output_type": "stream",
       "stream": "stdout",
       "text": [
        " classical/classical.00044.ceps\n",
        "Written"
       ]
      },
      {
       "output_type": "stream",
       "stream": "stdout",
       "text": [
        " classical/classical.00093.ceps\n",
        "Written"
       ]
      },
      {
       "output_type": "stream",
       "stream": "stdout",
       "text": [
        " classical/classical.00049.ceps\n",
        "Written"
       ]
      },
      {
       "output_type": "stream",
       "stream": "stdout",
       "text": [
        " classical/classical.00025.ceps\n",
        "Written"
       ]
      },
      {
       "output_type": "stream",
       "stream": "stdout",
       "text": [
        " classical/classical.00052.ceps\n",
        "Written"
       ]
      },
      {
       "output_type": "stream",
       "stream": "stdout",
       "text": [
        " classical/classical.00013.ceps\n",
        "Written"
       ]
      },
      {
       "output_type": "stream",
       "stream": "stdout",
       "text": [
        " classical/classical.00001.ceps\n",
        "Written"
       ]
      },
      {
       "output_type": "stream",
       "stream": "stdout",
       "text": [
        " classical/classical.00039.ceps\n",
        "Written"
       ]
      },
      {
       "output_type": "stream",
       "stream": "stdout",
       "text": [
        " classical/classical.00095.ceps\n",
        "Written"
       ]
      },
      {
       "output_type": "stream",
       "stream": "stdout",
       "text": [
        " classical/classical.00077.ceps\n",
        "Written"
       ]
      },
      {
       "output_type": "stream",
       "stream": "stdout",
       "text": [
        " classical/classical.00021.ceps\n",
        "Written"
       ]
      },
      {
       "output_type": "stream",
       "stream": "stdout",
       "text": [
        " classical/classical.00006.ceps\n",
        "Written"
       ]
      },
      {
       "output_type": "stream",
       "stream": "stdout",
       "text": [
        " classical/classical.00057.ceps\n",
        "Written"
       ]
      },
      {
       "output_type": "stream",
       "stream": "stdout",
       "text": [
        " classical/classical.00047.ceps\n",
        "Written"
       ]
      },
      {
       "output_type": "stream",
       "stream": "stdout",
       "text": [
        " classical/classical.00024.ceps\n",
        "Written"
       ]
      },
      {
       "output_type": "stream",
       "stream": "stdout",
       "text": [
        " classical/classical.00032.ceps\n",
        "Written"
       ]
      },
      {
       "output_type": "stream",
       "stream": "stdout",
       "text": [
        " classical/classical.00084.ceps\n",
        "Written"
       ]
      },
      {
       "output_type": "stream",
       "stream": "stdout",
       "text": [
        " classical/classical.00005.ceps\n",
        "Written"
       ]
      },
      {
       "output_type": "stream",
       "stream": "stdout",
       "text": [
        " classical/classical.00058.ceps\n",
        "Written"
       ]
      },
      {
       "output_type": "stream",
       "stream": "stdout",
       "text": [
        " classical/classical.00088.ceps\n",
        "Written"
       ]
      },
      {
       "output_type": "stream",
       "stream": "stdout",
       "text": [
        " classical/classical.00037.ceps\n",
        "Written"
       ]
      },
      {
       "output_type": "stream",
       "stream": "stdout",
       "text": [
        " classical/classical.00018.ceps\n",
        "jazz/*.wav\n",
        "Written"
       ]
      },
      {
       "output_type": "stream",
       "stream": "stdout",
       "text": [
        " jazz/jazz.00036.ceps\n",
        "Written"
       ]
      },
      {
       "output_type": "stream",
       "stream": "stdout",
       "text": [
        " jazz/jazz.00028.ceps\n",
        "Written"
       ]
      },
      {
       "output_type": "stream",
       "stream": "stdout",
       "text": [
        " jazz/jazz.00059.ceps\n",
        "Written"
       ]
      },
      {
       "output_type": "stream",
       "stream": "stdout",
       "text": [
        " jazz/jazz.00022.ceps\n",
        "Written"
       ]
      },
      {
       "output_type": "stream",
       "stream": "stdout",
       "text": [
        " jazz/jazz.00007.ceps\n",
        "Written"
       ]
      },
      {
       "output_type": "stream",
       "stream": "stdout",
       "text": [
        " jazz/jazz.00038.ceps\n",
        "Written"
       ]
      },
      {
       "output_type": "stream",
       "stream": "stdout",
       "text": [
        " jazz/jazz.00079.ceps\n",
        "Written"
       ]
      },
      {
       "output_type": "stream",
       "stream": "stdout",
       "text": [
        " jazz/jazz.00021.ceps\n",
        "Written"
       ]
      },
      {
       "output_type": "stream",
       "stream": "stdout",
       "text": [
        " jazz/jazz.00061.ceps\n",
        "Written"
       ]
      },
      {
       "output_type": "stream",
       "stream": "stdout",
       "text": [
        " jazz/jazz.00045.ceps\n",
        "Written"
       ]
      },
      {
       "output_type": "stream",
       "stream": "stdout",
       "text": [
        " jazz/jazz.00056.ceps\n",
        "Written"
       ]
      },
      {
       "output_type": "stream",
       "stream": "stdout",
       "text": [
        " jazz/jazz.00004.ceps\n",
        "Written"
       ]
      },
      {
       "output_type": "stream",
       "stream": "stdout",
       "text": [
        " jazz/jazz.00035.ceps\n",
        "Written"
       ]
      },
      {
       "output_type": "stream",
       "stream": "stdout",
       "text": [
        " jazz/jazz.00095.ceps\n",
        "Written"
       ]
      },
      {
       "output_type": "stream",
       "stream": "stdout",
       "text": [
        " jazz/jazz.00091.ceps\n",
        "Written"
       ]
      },
      {
       "output_type": "stream",
       "stream": "stdout",
       "text": [
        " jazz/jazz.00047.ceps\n",
        "Written"
       ]
      },
      {
       "output_type": "stream",
       "stream": "stdout",
       "text": [
        " jazz/jazz.00030.ceps\n",
        "Written"
       ]
      },
      {
       "output_type": "stream",
       "stream": "stdout",
       "text": [
        " jazz/jazz.00078.ceps\n",
        "Written"
       ]
      },
      {
       "output_type": "stream",
       "stream": "stdout",
       "text": [
        " jazz/jazz.00055.ceps\n",
        "Written"
       ]
      },
      {
       "output_type": "stream",
       "stream": "stdout",
       "text": [
        " jazz/jazz.00069.ceps\n",
        "Written"
       ]
      },
      {
       "output_type": "stream",
       "stream": "stdout",
       "text": [
        " jazz/jazz.00033.ceps\n",
        "Written"
       ]
      },
      {
       "output_type": "stream",
       "stream": "stdout",
       "text": [
        " jazz/jazz.00085.ceps\n",
        "Written"
       ]
      },
      {
       "output_type": "stream",
       "stream": "stdout",
       "text": [
        " jazz/jazz.00019.ceps\n",
        "Written"
       ]
      },
      {
       "output_type": "stream",
       "stream": "stdout",
       "text": [
        " jazz/jazz.00089.ceps\n",
        "Written"
       ]
      },
      {
       "output_type": "stream",
       "stream": "stdout",
       "text": [
        " jazz/jazz.00082.ceps\n",
        "Written"
       ]
      },
      {
       "output_type": "stream",
       "stream": "stdout",
       "text": [
        " jazz/jazz.00034.ceps\n",
        "Written"
       ]
      },
      {
       "output_type": "stream",
       "stream": "stdout",
       "text": [
        " jazz/jazz.00050.ceps\n",
        "Written"
       ]
      },
      {
       "output_type": "stream",
       "stream": "stdout",
       "text": [
        " jazz/jazz.00068.ceps\n",
        "Written"
       ]
      },
      {
       "output_type": "stream",
       "stream": "stdout",
       "text": [
        " jazz/jazz.00051.ceps\n",
        "Written"
       ]
      },
      {
       "output_type": "stream",
       "stream": "stdout",
       "text": [
        " jazz/jazz.00017.ceps\n",
        "Written"
       ]
      },
      {
       "output_type": "stream",
       "stream": "stdout",
       "text": [
        " jazz/jazz.00063.ceps\n",
        "Written"
       ]
      },
      {
       "output_type": "stream",
       "stream": "stdout",
       "text": [
        " jazz/jazz.00058.ceps\n",
        "Written"
       ]
      },
      {
       "output_type": "stream",
       "stream": "stdout",
       "text": [
        " jazz/jazz.00080.ceps\n",
        "Written"
       ]
      },
      {
       "output_type": "stream",
       "stream": "stdout",
       "text": [
        " jazz/jazz.00084.ceps\n",
        "Written"
       ]
      },
      {
       "output_type": "stream",
       "stream": "stdout",
       "text": [
        " jazz/jazz.00012.ceps\n",
        "Written"
       ]
      },
      {
       "output_type": "stream",
       "stream": "stdout",
       "text": [
        " jazz/jazz.00096.ceps\n",
        "Written"
       ]
      },
      {
       "output_type": "stream",
       "stream": "stdout",
       "text": [
        " jazz/jazz.00062.ceps\n",
        "Written"
       ]
      },
      {
       "output_type": "stream",
       "stream": "stdout",
       "text": [
        " jazz/jazz.00057.ceps\n",
        "Written"
       ]
      },
      {
       "output_type": "stream",
       "stream": "stdout",
       "text": [
        " jazz/jazz.00073.ceps\n",
        "Written"
       ]
      },
      {
       "output_type": "stream",
       "stream": "stdout",
       "text": [
        " jazz/jazz.00086.ceps\n",
        "Written"
       ]
      },
      {
       "output_type": "stream",
       "stream": "stdout",
       "text": [
        " jazz/jazz.00083.ceps\n",
        "Written"
       ]
      },
      {
       "output_type": "stream",
       "stream": "stdout",
       "text": [
        " jazz/jazz.00072.ceps\n",
        "Written"
       ]
      },
      {
       "output_type": "stream",
       "stream": "stdout",
       "text": [
        " jazz/jazz.00087.ceps\n",
        "Written"
       ]
      },
      {
       "output_type": "stream",
       "stream": "stdout",
       "text": [
        " jazz/jazz.00042.ceps\n",
        "Written"
       ]
      },
      {
       "output_type": "stream",
       "stream": "stdout",
       "text": [
        " jazz/jazz.00077.ceps\n",
        "Written"
       ]
      },
      {
       "output_type": "stream",
       "stream": "stdout",
       "text": [
        " jazz/jazz.00024.ceps\n",
        "Written"
       ]
      },
      {
       "output_type": "stream",
       "stream": "stdout",
       "text": [
        " jazz/jazz.00013.ceps\n",
        "Written"
       ]
      },
      {
       "output_type": "stream",
       "stream": "stdout",
       "text": [
        " jazz/jazz.00093.ceps\n",
        "Written"
       ]
      },
      {
       "output_type": "stream",
       "stream": "stdout",
       "text": [
        " jazz/jazz.00000.ceps\n",
        "Written"
       ]
      },
      {
       "output_type": "stream",
       "stream": "stdout",
       "text": [
        " jazz/jazz.00052.ceps\n",
        "Written"
       ]
      },
      {
       "output_type": "stream",
       "stream": "stdout",
       "text": [
        " jazz/jazz.00026.ceps\n",
        "Written"
       ]
      },
      {
       "output_type": "stream",
       "stream": "stdout",
       "text": [
        " jazz/jazz.00046.ceps\n",
        "Written"
       ]
      },
      {
       "output_type": "stream",
       "stream": "stdout",
       "text": [
        " jazz/jazz.00037.ceps\n",
        "Written"
       ]
      },
      {
       "output_type": "stream",
       "stream": "stdout",
       "text": [
        " jazz/jazz.00043.ceps\n",
        "Written"
       ]
      },
      {
       "output_type": "stream",
       "stream": "stdout",
       "text": [
        " jazz/jazz.00064.ceps\n",
        "Written"
       ]
      },
      {
       "output_type": "stream",
       "stream": "stdout",
       "text": [
        " jazz/jazz.00018.ceps\n",
        "Written"
       ]
      },
      {
       "output_type": "stream",
       "stream": "stdout",
       "text": [
        " jazz/jazz.00023.ceps\n",
        "Written"
       ]
      },
      {
       "output_type": "stream",
       "stream": "stdout",
       "text": [
        " jazz/jazz.00031.ceps\n",
        "Written"
       ]
      },
      {
       "output_type": "stream",
       "stream": "stdout",
       "text": [
        " jazz/jazz.00032.ceps\n",
        "Written"
       ]
      },
      {
       "output_type": "stream",
       "stream": "stdout",
       "text": [
        " jazz/jazz.00039.ceps\n",
        "Written"
       ]
      },
      {
       "output_type": "stream",
       "stream": "stdout",
       "text": [
        " jazz/jazz.00029.ceps\n",
        "Written"
       ]
      },
      {
       "output_type": "stream",
       "stream": "stdout",
       "text": [
        " jazz/jazz.00048.ceps\n",
        "Written"
       ]
      },
      {
       "output_type": "stream",
       "stream": "stdout",
       "text": [
        " jazz/jazz.00054.ceps\n",
        "Written"
       ]
      },
      {
       "output_type": "stream",
       "stream": "stdout",
       "text": [
        " jazz/jazz.00070.ceps\n",
        "Written"
       ]
      },
      {
       "output_type": "stream",
       "stream": "stdout",
       "text": [
        " jazz/jazz.00027.ceps\n",
        "Written"
       ]
      },
      {
       "output_type": "stream",
       "stream": "stdout",
       "text": [
        " jazz/jazz.00065.ceps\n",
        "Written"
       ]
      },
      {
       "output_type": "stream",
       "stream": "stdout",
       "text": [
        " jazz/jazz.00092.ceps\n",
        "Written"
       ]
      },
      {
       "output_type": "stream",
       "stream": "stdout",
       "text": [
        " jazz/jazz.00097.ceps\n",
        "Written"
       ]
      },
      {
       "output_type": "stream",
       "stream": "stdout",
       "text": [
        " jazz/jazz.00041.ceps\n",
        "Written"
       ]
      },
      {
       "output_type": "stream",
       "stream": "stdout",
       "text": [
        " jazz/jazz.00006.ceps\n",
        "Written"
       ]
      },
      {
       "output_type": "stream",
       "stream": "stdout",
       "text": [
        " jazz/jazz.00053.ceps\n",
        "Written"
       ]
      },
      {
       "output_type": "stream",
       "stream": "stdout",
       "text": [
        " jazz/jazz.00014.ceps\n",
        "Written"
       ]
      },
      {
       "output_type": "stream",
       "stream": "stdout",
       "text": [
        " jazz/jazz.00002.ceps\n",
        "Written"
       ]
      },
      {
       "output_type": "stream",
       "stream": "stdout",
       "text": [
        " jazz/jazz.00001.ceps\n",
        "Written"
       ]
      },
      {
       "output_type": "stream",
       "stream": "stdout",
       "text": [
        " jazz/jazz.00074.ceps\n",
        "Written"
       ]
      },
      {
       "output_type": "stream",
       "stream": "stdout",
       "text": [
        " jazz/jazz.00005.ceps\n",
        "Written"
       ]
      },
      {
       "output_type": "stream",
       "stream": "stdout",
       "text": [
        " jazz/jazz.00040.ceps\n",
        "Written"
       ]
      },
      {
       "output_type": "stream",
       "stream": "stdout",
       "text": [
        " jazz/jazz.00025.ceps\n",
        "Written"
       ]
      },
      {
       "output_type": "stream",
       "stream": "stdout",
       "text": [
        " jazz/jazz.00071.ceps\n",
        "Written"
       ]
      },
      {
       "output_type": "stream",
       "stream": "stdout",
       "text": [
        " jazz/jazz.00081.ceps\n",
        "Written"
       ]
      },
      {
       "output_type": "stream",
       "stream": "stdout",
       "text": [
        " jazz/jazz.00008.ceps\n",
        "Written"
       ]
      },
      {
       "output_type": "stream",
       "stream": "stdout",
       "text": [
        " jazz/jazz.00049.ceps\n",
        "Written"
       ]
      },
      {
       "output_type": "stream",
       "stream": "stdout",
       "text": [
        " jazz/jazz.00066.ceps\n",
        "Written"
       ]
      },
      {
       "output_type": "stream",
       "stream": "stdout",
       "text": [
        " jazz/jazz.00003.ceps\n",
        "Written"
       ]
      },
      {
       "output_type": "stream",
       "stream": "stdout",
       "text": [
        " jazz/jazz.00088.ceps\n",
        "Written"
       ]
      },
      {
       "output_type": "stream",
       "stream": "stdout",
       "text": [
        " jazz/jazz.00099.ceps\n",
        "Written"
       ]
      },
      {
       "output_type": "stream",
       "stream": "stdout",
       "text": [
        " jazz/jazz.00010.ceps\n",
        "Written"
       ]
      },
      {
       "output_type": "stream",
       "stream": "stdout",
       "text": [
        " jazz/jazz.00076.ceps\n",
        "Written"
       ]
      },
      {
       "output_type": "stream",
       "stream": "stdout",
       "text": [
        " jazz/jazz.00009.ceps\n",
        "Written"
       ]
      },
      {
       "output_type": "stream",
       "stream": "stdout",
       "text": [
        " jazz/jazz.00015.ceps\n",
        "Written"
       ]
      },
      {
       "output_type": "stream",
       "stream": "stdout",
       "text": [
        " jazz/jazz.00067.ceps\n",
        "Written"
       ]
      },
      {
       "output_type": "stream",
       "stream": "stdout",
       "text": [
        " jazz/jazz.00044.ceps\n",
        "Written"
       ]
      },
      {
       "output_type": "stream",
       "stream": "stdout",
       "text": [
        " jazz/jazz.00016.ceps\n",
        "Written"
       ]
      },
      {
       "output_type": "stream",
       "stream": "stdout",
       "text": [
        " jazz/jazz.00020.ceps\n",
        "Written"
       ]
      },
      {
       "output_type": "stream",
       "stream": "stdout",
       "text": [
        " jazz/jazz.00011.ceps\n",
        "Written"
       ]
      },
      {
       "output_type": "stream",
       "stream": "stdout",
       "text": [
        " jazz/jazz.00075.ceps\n",
        "Written"
       ]
      },
      {
       "output_type": "stream",
       "stream": "stdout",
       "text": [
        " jazz/jazz.00090.ceps\n",
        "Written"
       ]
      },
      {
       "output_type": "stream",
       "stream": "stdout",
       "text": [
        " jazz/jazz.00094.ceps\n",
        "Written"
       ]
      },
      {
       "output_type": "stream",
       "stream": "stdout",
       "text": [
        " jazz/jazz.00098.ceps\n",
        "Written"
       ]
      },
      {
       "output_type": "stream",
       "stream": "stdout",
       "text": [
        " jazz/jazz.00060.ceps\n",
        "country/*.wav\n",
        "Written"
       ]
      },
      {
       "output_type": "stream",
       "stream": "stdout",
       "text": [
        " country/country.00062.ceps\n",
        "Written"
       ]
      },
      {
       "output_type": "stream",
       "stream": "stdout",
       "text": [
        " country/country.00011.ceps\n",
        "Written"
       ]
      },
      {
       "output_type": "stream",
       "stream": "stdout",
       "text": [
        " country/country.00043.ceps\n",
        "Written"
       ]
      },
      {
       "output_type": "stream",
       "stream": "stdout",
       "text": [
        " country/country.00093.ceps\n",
        "Written"
       ]
      },
      {
       "output_type": "stream",
       "stream": "stdout",
       "text": [
        " country/country.00073.ceps\n",
        "Written"
       ]
      },
      {
       "output_type": "stream",
       "stream": "stdout",
       "text": [
        " country/country.00016.ceps\n",
        "Written"
       ]
      },
      {
       "output_type": "stream",
       "stream": "stdout",
       "text": [
        " country/country.00052.ceps\n",
        "Written"
       ]
      },
      {
       "output_type": "stream",
       "stream": "stdout",
       "text": [
        " country/country.00084.ceps\n",
        "Written"
       ]
      },
      {
       "output_type": "stream",
       "stream": "stdout",
       "text": [
        " country/country.00008.ceps\n",
        "Written"
       ]
      },
      {
       "output_type": "stream",
       "stream": "stdout",
       "text": [
        " country/country.00091.ceps\n",
        "Written"
       ]
      },
      {
       "output_type": "stream",
       "stream": "stdout",
       "text": [
        " country/country.00040.ceps\n",
        "Written"
       ]
      },
      {
       "output_type": "stream",
       "stream": "stdout",
       "text": [
        " country/country.00020.ceps\n",
        "Written"
       ]
      },
      {
       "output_type": "stream",
       "stream": "stdout",
       "text": [
        " country/country.00000.ceps\n",
        "Written"
       ]
      },
      {
       "output_type": "stream",
       "stream": "stdout",
       "text": [
        " country/country.00054.ceps\n",
        "Written"
       ]
      },
      {
       "output_type": "stream",
       "stream": "stdout",
       "text": [
        " country/country.00036.ceps\n",
        "Written"
       ]
      },
      {
       "output_type": "stream",
       "stream": "stdout",
       "text": [
        " country/country.00025.ceps\n",
        "Written"
       ]
      },
      {
       "output_type": "stream",
       "stream": "stdout",
       "text": [
        " country/country.00096.ceps\n",
        "Written"
       ]
      },
      {
       "output_type": "stream",
       "stream": "stdout",
       "text": [
        " country/country.00089.ceps\n",
        "Written"
       ]
      },
      {
       "output_type": "stream",
       "stream": "stdout",
       "text": [
        " country/country.00012.ceps\n",
        "Written"
       ]
      },
      {
       "output_type": "stream",
       "stream": "stdout",
       "text": [
        " country/country.00082.ceps\n",
        "Written"
       ]
      },
      {
       "output_type": "stream",
       "stream": "stdout",
       "text": [
        " country/country.00057.ceps\n",
        "Written"
       ]
      },
      {
       "output_type": "stream",
       "stream": "stdout",
       "text": [
        " country/country.00014.ceps\n",
        "Written"
       ]
      },
      {
       "output_type": "stream",
       "stream": "stdout",
       "text": [
        " country/country.00037.ceps\n",
        "Written"
       ]
      },
      {
       "output_type": "stream",
       "stream": "stdout",
       "text": [
        " country/country.00077.ceps\n",
        "Written"
       ]
      },
      {
       "output_type": "stream",
       "stream": "stdout",
       "text": [
        " country/country.00067.ceps\n",
        "Written"
       ]
      },
      {
       "output_type": "stream",
       "stream": "stdout",
       "text": [
        " country/country.00072.ceps\n",
        "Written"
       ]
      },
      {
       "output_type": "stream",
       "stream": "stdout",
       "text": [
        " country/country.00027.ceps\n",
        "Written"
       ]
      },
      {
       "output_type": "stream",
       "stream": "stdout",
       "text": [
        " country/country.00094.ceps\n",
        "Written"
       ]
      },
      {
       "output_type": "stream",
       "stream": "stdout",
       "text": [
        " country/country.00078.ceps\n",
        "Written"
       ]
      },
      {
       "output_type": "stream",
       "stream": "stdout",
       "text": [
        " country/country.00051.ceps\n",
        "Written"
       ]
      },
      {
       "output_type": "stream",
       "stream": "stdout",
       "text": [
        " country/country.00056.ceps\n",
        "Written"
       ]
      },
      {
       "output_type": "stream",
       "stream": "stdout",
       "text": [
        " country/country.00068.ceps\n",
        "Written"
       ]
      },
      {
       "output_type": "stream",
       "stream": "stdout",
       "text": [
        " country/country.00021.ceps\n",
        "Written"
       ]
      },
      {
       "output_type": "stream",
       "stream": "stdout",
       "text": [
        " country/country.00046.ceps\n",
        "Written"
       ]
      },
      {
       "output_type": "stream",
       "stream": "stdout",
       "text": [
        " country/country.00010.ceps\n",
        "Written"
       ]
      },
      {
       "output_type": "stream",
       "stream": "stdout",
       "text": [
        " country/country.00033.ceps\n",
        "Written"
       ]
      },
      {
       "output_type": "stream",
       "stream": "stdout",
       "text": [
        " country/country.00038.ceps\n",
        "Written"
       ]
      },
      {
       "output_type": "stream",
       "stream": "stdout",
       "text": [
        " country/country.00090.ceps\n",
        "Written"
       ]
      },
      {
       "output_type": "stream",
       "stream": "stdout",
       "text": [
        " country/country.00049.ceps\n",
        "Written"
       ]
      },
      {
       "output_type": "stream",
       "stream": "stdout",
       "text": [
        " country/country.00059.ceps\n",
        "Written"
       ]
      },
      {
       "output_type": "stream",
       "stream": "stdout",
       "text": [
        " country/country.00063.ceps\n",
        "Written"
       ]
      },
      {
       "output_type": "stream",
       "stream": "stdout",
       "text": [
        " country/country.00058.ceps\n",
        "Written"
       ]
      },
      {
       "output_type": "stream",
       "stream": "stdout",
       "text": [
        " country/country.00065.ceps\n",
        "Written"
       ]
      },
      {
       "output_type": "stream",
       "stream": "stdout",
       "text": [
        " country/country.00080.ceps\n",
        "Written"
       ]
      },
      {
       "output_type": "stream",
       "stream": "stdout",
       "text": [
        " country/country.00053.ceps\n",
        "Written"
       ]
      },
      {
       "output_type": "stream",
       "stream": "stdout",
       "text": [
        " country/country.00095.ceps\n",
        "Written"
       ]
      },
      {
       "output_type": "stream",
       "stream": "stdout",
       "text": [
        " country/country.00099.ceps\n",
        "Written"
       ]
      },
      {
       "output_type": "stream",
       "stream": "stdout",
       "text": [
        " country/country.00047.ceps\n",
        "Written"
       ]
      },
      {
       "output_type": "stream",
       "stream": "stdout",
       "text": [
        " country/country.00007.ceps\n",
        "Written"
       ]
      },
      {
       "output_type": "stream",
       "stream": "stdout",
       "text": [
        " country/country.00075.ceps\n",
        "Written"
       ]
      },
      {
       "output_type": "stream",
       "stream": "stdout",
       "text": [
        " country/country.00015.ceps\n",
        "Written"
       ]
      },
      {
       "output_type": "stream",
       "stream": "stdout",
       "text": [
        " country/country.00055.ceps\n",
        "Written"
       ]
      },
      {
       "output_type": "stream",
       "stream": "stdout",
       "text": [
        " country/country.00066.ceps\n",
        "Written"
       ]
      },
      {
       "output_type": "stream",
       "stream": "stdout",
       "text": [
        " country/country.00026.ceps\n",
        "Written"
       ]
      },
      {
       "output_type": "stream",
       "stream": "stdout",
       "text": [
        " country/country.00070.ceps\n",
        "Written"
       ]
      },
      {
       "output_type": "stream",
       "stream": "stdout",
       "text": [
        " country/country.00035.ceps\n",
        "Written"
       ]
      },
      {
       "output_type": "stream",
       "stream": "stdout",
       "text": [
        " country/country.00031.ceps\n",
        "Written"
       ]
      },
      {
       "output_type": "stream",
       "stream": "stdout",
       "text": [
        " country/country.00006.ceps\n",
        "Written"
       ]
      },
      {
       "output_type": "stream",
       "stream": "stdout",
       "text": [
        " country/country.00086.ceps\n",
        "Written"
       ]
      },
      {
       "output_type": "stream",
       "stream": "stdout",
       "text": [
        " country/country.00005.ceps\n",
        "Written"
       ]
      },
      {
       "output_type": "stream",
       "stream": "stdout",
       "text": [
        " country/country.00076.ceps\n",
        "Written"
       ]
      },
      {
       "output_type": "stream",
       "stream": "stdout",
       "text": [
        " country/country.00060.ceps\n",
        "Written"
       ]
      },
      {
       "output_type": "stream",
       "stream": "stdout",
       "text": [
        " country/country.00034.ceps\n",
        "Written"
       ]
      },
      {
       "output_type": "stream",
       "stream": "stdout",
       "text": [
        " country/country.00074.ceps\n",
        "Written"
       ]
      },
      {
       "output_type": "stream",
       "stream": "stdout",
       "text": [
        " country/country.00087.ceps\n",
        "Written"
       ]
      },
      {
       "output_type": "stream",
       "stream": "stdout",
       "text": [
        " country/country.00022.ceps\n",
        "Written"
       ]
      },
      {
       "output_type": "stream",
       "stream": "stdout",
       "text": [
        " country/country.00017.ceps\n",
        "Written"
       ]
      },
      {
       "output_type": "stream",
       "stream": "stdout",
       "text": [
        " country/country.00071.ceps\n",
        "Written"
       ]
      },
      {
       "output_type": "stream",
       "stream": "stdout",
       "text": [
        " country/country.00030.ceps\n",
        "Written"
       ]
      },
      {
       "output_type": "stream",
       "stream": "stdout",
       "text": [
        " country/country.00050.ceps\n",
        "Written"
       ]
      },
      {
       "output_type": "stream",
       "stream": "stdout",
       "text": [
        " country/country.00039.ceps\n",
        "Written"
       ]
      },
      {
       "output_type": "stream",
       "stream": "stdout",
       "text": [
        " country/country.00088.ceps\n",
        "Written"
       ]
      },
      {
       "output_type": "stream",
       "stream": "stdout",
       "text": [
        " country/country.00041.ceps\n",
        "Written"
       ]
      },
      {
       "output_type": "stream",
       "stream": "stdout",
       "text": [
        " country/country.00085.ceps\n",
        "Written"
       ]
      },
      {
       "output_type": "stream",
       "stream": "stdout",
       "text": [
        " country/country.00064.ceps\n",
        "Written"
       ]
      },
      {
       "output_type": "stream",
       "stream": "stdout",
       "text": [
        " country/country.00061.ceps\n",
        "Written"
       ]
      },
      {
       "output_type": "stream",
       "stream": "stdout",
       "text": [
        " country/country.00001.ceps\n",
        "Written"
       ]
      },
      {
       "output_type": "stream",
       "stream": "stdout",
       "text": [
        " country/country.00032.ceps\n",
        "Written"
       ]
      },
      {
       "output_type": "stream",
       "stream": "stdout",
       "text": [
        " country/country.00023.ceps\n",
        "Written"
       ]
      },
      {
       "output_type": "stream",
       "stream": "stdout",
       "text": [
        " country/country.00045.ceps\n",
        "Written"
       ]
      },
      {
       "output_type": "stream",
       "stream": "stdout",
       "text": [
        " country/country.00083.ceps\n",
        "Written"
       ]
      },
      {
       "output_type": "stream",
       "stream": "stdout",
       "text": [
        " country/country.00002.ceps\n",
        "Written"
       ]
      },
      {
       "output_type": "stream",
       "stream": "stdout",
       "text": [
        " country/country.00044.ceps\n",
        "Written"
       ]
      },
      {
       "output_type": "stream",
       "stream": "stdout",
       "text": [
        " country/country.00081.ceps\n",
        "Written"
       ]
      },
      {
       "output_type": "stream",
       "stream": "stdout",
       "text": [
        " country/country.00019.ceps\n",
        "Written"
       ]
      },
      {
       "output_type": "stream",
       "stream": "stdout",
       "text": [
        " country/country.00024.ceps\n",
        "Written"
       ]
      },
      {
       "output_type": "stream",
       "stream": "stdout",
       "text": [
        " country/country.00048.ceps\n",
        "Written"
       ]
      },
      {
       "output_type": "stream",
       "stream": "stdout",
       "text": [
        " country/country.00013.ceps\n",
        "Written"
       ]
      },
      {
       "output_type": "stream",
       "stream": "stdout",
       "text": [
        " country/country.00097.ceps\n",
        "Written"
       ]
      },
      {
       "output_type": "stream",
       "stream": "stdout",
       "text": [
        " country/country.00009.ceps\n",
        "Written"
       ]
      },
      {
       "output_type": "stream",
       "stream": "stdout",
       "text": [
        " country/country.00042.ceps\n",
        "Written"
       ]
      },
      {
       "output_type": "stream",
       "stream": "stdout",
       "text": [
        " country/country.00028.ceps\n",
        "Written"
       ]
      },
      {
       "output_type": "stream",
       "stream": "stdout",
       "text": [
        " country/country.00098.ceps\n",
        "Written"
       ]
      },
      {
       "output_type": "stream",
       "stream": "stdout",
       "text": [
        " country/country.00029.ceps\n",
        "Written"
       ]
      },
      {
       "output_type": "stream",
       "stream": "stdout",
       "text": [
        " country/country.00003.ceps\n",
        "Written"
       ]
      },
      {
       "output_type": "stream",
       "stream": "stdout",
       "text": [
        " country/country.00079.ceps\n",
        "Written"
       ]
      },
      {
       "output_type": "stream",
       "stream": "stdout",
       "text": [
        " country/country.00092.ceps\n",
        "Written"
       ]
      },
      {
       "output_type": "stream",
       "stream": "stdout",
       "text": [
        " country/country.00069.ceps\n",
        "Written"
       ]
      },
      {
       "output_type": "stream",
       "stream": "stdout",
       "text": [
        " country/country.00018.ceps\n",
        "Written"
       ]
      },
      {
       "output_type": "stream",
       "stream": "stdout",
       "text": [
        " country/country.00004.ceps\n",
        "pop/*.wav\n",
        "Written"
       ]
      },
      {
       "output_type": "stream",
       "stream": "stdout",
       "text": [
        " pop/pop.00017.ceps\n",
        "Written"
       ]
      },
      {
       "output_type": "stream",
       "stream": "stdout",
       "text": [
        " pop/pop.00075.ceps\n",
        "Written"
       ]
      },
      {
       "output_type": "stream",
       "stream": "stdout",
       "text": [
        " pop/pop.00005.ceps\n",
        "Written"
       ]
      },
      {
       "output_type": "stream",
       "stream": "stdout",
       "text": [
        " pop/pop.00095.ceps\n",
        "Written"
       ]
      },
      {
       "output_type": "stream",
       "stream": "stdout",
       "text": [
        " pop/pop.00060.ceps\n",
        "Written"
       ]
      },
      {
       "output_type": "stream",
       "stream": "stdout",
       "text": [
        " pop/pop.00056.ceps\n",
        "Written"
       ]
      },
      {
       "output_type": "stream",
       "stream": "stdout",
       "text": [
        " pop/pop.00004.ceps\n",
        "Written"
       ]
      },
      {
       "output_type": "stream",
       "stream": "stdout",
       "text": [
        " pop/pop.00090.ceps\n",
        "Written"
       ]
      },
      {
       "output_type": "stream",
       "stream": "stdout",
       "text": [
        " pop/pop.00067.ceps\n",
        "Written"
       ]
      },
      {
       "output_type": "stream",
       "stream": "stdout",
       "text": [
        " pop/pop.00048.ceps\n",
        "Written"
       ]
      },
      {
       "output_type": "stream",
       "stream": "stdout",
       "text": [
        " pop/pop.00073.ceps\n",
        "Written"
       ]
      },
      {
       "output_type": "stream",
       "stream": "stdout",
       "text": [
        " pop/pop.00080.ceps\n",
        "Written"
       ]
      },
      {
       "output_type": "stream",
       "stream": "stdout",
       "text": [
        " pop/pop.00082.ceps\n",
        "Written"
       ]
      },
      {
       "output_type": "stream",
       "stream": "stdout",
       "text": [
        " pop/pop.00071.ceps\n",
        "Written"
       ]
      },
      {
       "output_type": "stream",
       "stream": "stdout",
       "text": [
        " pop/pop.00053.ceps\n",
        "Written"
       ]
      },
      {
       "output_type": "stream",
       "stream": "stdout",
       "text": [
        " pop/pop.00019.ceps\n",
        "Written"
       ]
      },
      {
       "output_type": "stream",
       "stream": "stdout",
       "text": [
        " pop/pop.00078.ceps\n",
        "Written"
       ]
      },
      {
       "output_type": "stream",
       "stream": "stdout",
       "text": [
        " pop/pop.00069.ceps\n",
        "Written"
       ]
      },
      {
       "output_type": "stream",
       "stream": "stdout",
       "text": [
        " pop/pop.00050.ceps\n",
        "Written"
       ]
      },
      {
       "output_type": "stream",
       "stream": "stdout",
       "text": [
        " pop/pop.00047.ceps\n",
        "Written"
       ]
      },
      {
       "output_type": "stream",
       "stream": "stdout",
       "text": [
        " pop/pop.00007.ceps\n",
        "Written"
       ]
      },
      {
       "output_type": "stream",
       "stream": "stdout",
       "text": [
        " pop/pop.00088.ceps\n",
        "Written"
       ]
      },
      {
       "output_type": "stream",
       "stream": "stdout",
       "text": [
        " pop/pop.00051.ceps\n",
        "Written"
       ]
      },
      {
       "output_type": "stream",
       "stream": "stdout",
       "text": [
        " pop/pop.00002.ceps\n",
        "Written"
       ]
      },
      {
       "output_type": "stream",
       "stream": "stdout",
       "text": [
        " pop/pop.00042.ceps\n",
        "Written"
       ]
      },
      {
       "output_type": "stream",
       "stream": "stdout",
       "text": [
        " pop/pop.00012.ceps\n",
        "Written"
       ]
      },
      {
       "output_type": "stream",
       "stream": "stdout",
       "text": [
        " pop/pop.00014.ceps\n",
        "Written"
       ]
      },
      {
       "output_type": "stream",
       "stream": "stdout",
       "text": [
        " pop/pop.00003.ceps\n",
        "Written"
       ]
      },
      {
       "output_type": "stream",
       "stream": "stdout",
       "text": [
        " pop/pop.00009.ceps\n",
        "Written"
       ]
      },
      {
       "output_type": "stream",
       "stream": "stdout",
       "text": [
        " pop/pop.00062.ceps\n",
        "Written"
       ]
      },
      {
       "output_type": "stream",
       "stream": "stdout",
       "text": [
        " pop/pop.00099.ceps\n",
        "Written"
       ]
      },
      {
       "output_type": "stream",
       "stream": "stdout",
       "text": [
        " pop/pop.00098.ceps\n",
        "Written"
       ]
      },
      {
       "output_type": "stream",
       "stream": "stdout",
       "text": [
        " pop/pop.00016.ceps\n",
        "Written"
       ]
      },
      {
       "output_type": "stream",
       "stream": "stdout",
       "text": [
        " pop/pop.00091.ceps\n",
        "Written"
       ]
      },
      {
       "output_type": "stream",
       "stream": "stdout",
       "text": [
        " pop/pop.00046.ceps\n",
        "Written"
       ]
      },
      {
       "output_type": "stream",
       "stream": "stdout",
       "text": [
        " pop/pop.00043.ceps\n",
        "Written"
       ]
      },
      {
       "output_type": "stream",
       "stream": "stdout",
       "text": [
        " pop/pop.00076.ceps\n",
        "Written"
       ]
      },
      {
       "output_type": "stream",
       "stream": "stdout",
       "text": [
        " pop/pop.00061.ceps\n",
        "Written"
       ]
      },
      {
       "output_type": "stream",
       "stream": "stdout",
       "text": [
        " pop/pop.00036.ceps\n",
        "Written"
       ]
      },
      {
       "output_type": "stream",
       "stream": "stdout",
       "text": [
        " pop/pop.00034.ceps\n",
        "Written"
       ]
      },
      {
       "output_type": "stream",
       "stream": "stdout",
       "text": [
        " pop/pop.00001.ceps\n",
        "Written"
       ]
      },
      {
       "output_type": "stream",
       "stream": "stdout",
       "text": [
        " pop/pop.00031.ceps\n",
        "Written"
       ]
      },
      {
       "output_type": "stream",
       "stream": "stdout",
       "text": [
        " pop/pop.00052.ceps\n",
        "Written"
       ]
      },
      {
       "output_type": "stream",
       "stream": "stdout",
       "text": [
        " pop/pop.00064.ceps\n",
        "Written"
       ]
      },
      {
       "output_type": "stream",
       "stream": "stdout",
       "text": [
        " pop/pop.00041.ceps\n",
        "Written"
       ]
      },
      {
       "output_type": "stream",
       "stream": "stdout",
       "text": [
        " pop/pop.00086.ceps\n",
        "Written"
       ]
      },
      {
       "output_type": "stream",
       "stream": "stdout",
       "text": [
        " pop/pop.00022.ceps\n",
        "Written"
       ]
      },
      {
       "output_type": "stream",
       "stream": "stdout",
       "text": [
        " pop/pop.00024.ceps\n",
        "Written"
       ]
      },
      {
       "output_type": "stream",
       "stream": "stdout",
       "text": [
        " pop/pop.00070.ceps\n",
        "Written"
       ]
      },
      {
       "output_type": "stream",
       "stream": "stdout",
       "text": [
        " pop/pop.00089.ceps\n",
        "Written"
       ]
      },
      {
       "output_type": "stream",
       "stream": "stdout",
       "text": [
        " pop/pop.00011.ceps\n",
        "Written"
       ]
      },
      {
       "output_type": "stream",
       "stream": "stdout",
       "text": [
        " pop/pop.00010.ceps\n",
        "Written"
       ]
      },
      {
       "output_type": "stream",
       "stream": "stdout",
       "text": [
        " pop/pop.00020.ceps\n",
        "Written"
       ]
      },
      {
       "output_type": "stream",
       "stream": "stdout",
       "text": [
        " pop/pop.00079.ceps\n",
        "Written"
       ]
      },
      {
       "output_type": "stream",
       "stream": "stdout",
       "text": [
        " pop/pop.00026.ceps\n",
        "Written"
       ]
      },
      {
       "output_type": "stream",
       "stream": "stdout",
       "text": [
        " pop/pop.00065.ceps\n",
        "Written"
       ]
      },
      {
       "output_type": "stream",
       "stream": "stdout",
       "text": [
        " pop/pop.00054.ceps\n",
        "Written"
       ]
      },
      {
       "output_type": "stream",
       "stream": "stdout",
       "text": [
        " pop/pop.00068.ceps\n",
        "Written"
       ]
      },
      {
       "output_type": "stream",
       "stream": "stdout",
       "text": [
        " pop/pop.00085.ceps\n",
        "Written"
       ]
      },
      {
       "output_type": "stream",
       "stream": "stdout",
       "text": [
        " pop/pop.00087.ceps\n",
        "Written"
       ]
      },
      {
       "output_type": "stream",
       "stream": "stdout",
       "text": [
        " pop/pop.00028.ceps\n",
        "Written"
       ]
      },
      {
       "output_type": "stream",
       "stream": "stdout",
       "text": [
        " pop/pop.00059.ceps\n",
        "Written"
       ]
      },
      {
       "output_type": "stream",
       "stream": "stdout",
       "text": [
        " pop/pop.00084.ceps\n",
        "Written"
       ]
      },
      {
       "output_type": "stream",
       "stream": "stdout",
       "text": [
        " pop/pop.00077.ceps\n",
        "Written"
       ]
      },
      {
       "output_type": "stream",
       "stream": "stdout",
       "text": [
        " pop/pop.00093.ceps\n",
        "Written"
       ]
      },
      {
       "output_type": "stream",
       "stream": "stdout",
       "text": [
        " pop/pop.00039.ceps\n",
        "Written"
       ]
      },
      {
       "output_type": "stream",
       "stream": "stdout",
       "text": [
        " pop/pop.00037.ceps\n",
        "Written"
       ]
      },
      {
       "output_type": "stream",
       "stream": "stdout",
       "text": [
        " pop/pop.00045.ceps\n",
        "Written"
       ]
      },
      {
       "output_type": "stream",
       "stream": "stdout",
       "text": [
        " pop/pop.00081.ceps\n",
        "Written"
       ]
      },
      {
       "output_type": "stream",
       "stream": "stdout",
       "text": [
        " pop/pop.00018.ceps\n",
        "Written"
       ]
      },
      {
       "output_type": "stream",
       "stream": "stdout",
       "text": [
        " pop/pop.00013.ceps\n",
        "Written"
       ]
      },
      {
       "output_type": "stream",
       "stream": "stdout",
       "text": [
        " pop/pop.00027.ceps\n",
        "Written"
       ]
      },
      {
       "output_type": "stream",
       "stream": "stdout",
       "text": [
        " pop/pop.00023.ceps\n",
        "Written"
       ]
      },
      {
       "output_type": "stream",
       "stream": "stdout",
       "text": [
        " pop/pop.00015.ceps\n",
        "Written"
       ]
      },
      {
       "output_type": "stream",
       "stream": "stdout",
       "text": [
        " pop/pop.00057.ceps\n",
        "Written"
       ]
      },
      {
       "output_type": "stream",
       "stream": "stdout",
       "text": [
        " pop/pop.00006.ceps\n",
        "Written"
       ]
      },
      {
       "output_type": "stream",
       "stream": "stdout",
       "text": [
        " pop/pop.00074.ceps\n",
        "Written"
       ]
      },
      {
       "output_type": "stream",
       "stream": "stdout",
       "text": [
        " pop/pop.00083.ceps\n",
        "Written"
       ]
      },
      {
       "output_type": "stream",
       "stream": "stdout",
       "text": [
        " pop/pop.00033.ceps\n",
        "Written"
       ]
      },
      {
       "output_type": "stream",
       "stream": "stdout",
       "text": [
        " pop/pop.00030.ceps\n",
        "Written"
       ]
      },
      {
       "output_type": "stream",
       "stream": "stdout",
       "text": [
        " pop/pop.00055.ceps\n",
        "Written"
       ]
      },
      {
       "output_type": "stream",
       "stream": "stdout",
       "text": [
        " pop/pop.00063.ceps\n",
        "Written"
       ]
      },
      {
       "output_type": "stream",
       "stream": "stdout",
       "text": [
        " pop/pop.00049.ceps\n",
        "Written"
       ]
      },
      {
       "output_type": "stream",
       "stream": "stdout",
       "text": [
        " pop/pop.00025.ceps\n",
        "Written"
       ]
      },
      {
       "output_type": "stream",
       "stream": "stdout",
       "text": [
        " pop/pop.00044.ceps\n",
        "Written"
       ]
      },
      {
       "output_type": "stream",
       "stream": "stdout",
       "text": [
        " pop/pop.00000.ceps\n",
        "Written"
       ]
      },
      {
       "output_type": "stream",
       "stream": "stdout",
       "text": [
        " pop/pop.00008.ceps\n",
        "Written"
       ]
      },
      {
       "output_type": "stream",
       "stream": "stdout",
       "text": [
        " pop/pop.00035.ceps\n",
        "Written"
       ]
      },
      {
       "output_type": "stream",
       "stream": "stdout",
       "text": [
        " pop/pop.00038.ceps\n",
        "Written"
       ]
      },
      {
       "output_type": "stream",
       "stream": "stdout",
       "text": [
        " pop/pop.00066.ceps\n",
        "Written"
       ]
      },
      {
       "output_type": "stream",
       "stream": "stdout",
       "text": [
        " pop/pop.00072.ceps\n",
        "Written"
       ]
      },
      {
       "output_type": "stream",
       "stream": "stdout",
       "text": [
        " pop/pop.00029.ceps\n",
        "Written"
       ]
      },
      {
       "output_type": "stream",
       "stream": "stdout",
       "text": [
        " pop/pop.00094.ceps\n",
        "Written"
       ]
      },
      {
       "output_type": "stream",
       "stream": "stdout",
       "text": [
        " pop/pop.00032.ceps\n",
        "Written"
       ]
      },
      {
       "output_type": "stream",
       "stream": "stdout",
       "text": [
        " pop/pop.00092.ceps\n",
        "Written"
       ]
      },
      {
       "output_type": "stream",
       "stream": "stdout",
       "text": [
        " pop/pop.00058.ceps\n",
        "Written"
       ]
      },
      {
       "output_type": "stream",
       "stream": "stdout",
       "text": [
        " pop/pop.00096.ceps\n",
        "Written"
       ]
      },
      {
       "output_type": "stream",
       "stream": "stdout",
       "text": [
        " pop/pop.00021.ceps\n",
        "Written"
       ]
      },
      {
       "output_type": "stream",
       "stream": "stdout",
       "text": [
        " pop/pop.00097.ceps\n",
        "Written"
       ]
      },
      {
       "output_type": "stream",
       "stream": "stdout",
       "text": [
        " pop/pop.00040.ceps\n",
        "rock/*.wav\n",
        "Written"
       ]
      },
      {
       "output_type": "stream",
       "stream": "stdout",
       "text": [
        " rock/rock.00023.ceps\n",
        "Written"
       ]
      },
      {
       "output_type": "stream",
       "stream": "stdout",
       "text": [
        " rock/rock.00079.ceps\n",
        "Written"
       ]
      },
      {
       "output_type": "stream",
       "stream": "stdout",
       "text": [
        " rock/rock.00063.ceps\n",
        "Written"
       ]
      },
      {
       "output_type": "stream",
       "stream": "stdout",
       "text": [
        " rock/rock.00088.ceps\n",
        "Written"
       ]
      },
      {
       "output_type": "stream",
       "stream": "stdout",
       "text": [
        " rock/rock.00005.ceps\n",
        "Written"
       ]
      },
      {
       "output_type": "stream",
       "stream": "stdout",
       "text": [
        " rock/rock.00086.ceps\n",
        "Written"
       ]
      },
      {
       "output_type": "stream",
       "stream": "stdout",
       "text": [
        " rock/rock.00026.ceps\n",
        "Written"
       ]
      },
      {
       "output_type": "stream",
       "stream": "stdout",
       "text": [
        " rock/rock.00032.ceps\n",
        "Written"
       ]
      },
      {
       "output_type": "stream",
       "stream": "stdout",
       "text": [
        " rock/rock.00065.ceps\n",
        "Written"
       ]
      },
      {
       "output_type": "stream",
       "stream": "stdout",
       "text": [
        " rock/rock.00062.ceps\n",
        "Written"
       ]
      },
      {
       "output_type": "stream",
       "stream": "stdout",
       "text": [
        " rock/rock.00076.ceps\n",
        "Written"
       ]
      },
      {
       "output_type": "stream",
       "stream": "stdout",
       "text": [
        " rock/rock.00090.ceps\n",
        "Written"
       ]
      },
      {
       "output_type": "stream",
       "stream": "stdout",
       "text": [
        " rock/rock.00009.ceps\n",
        "Written"
       ]
      },
      {
       "output_type": "stream",
       "stream": "stdout",
       "text": [
        " rock/rock.00006.ceps\n",
        "Written"
       ]
      },
      {
       "output_type": "stream",
       "stream": "stdout",
       "text": [
        " rock/rock.00089.ceps\n",
        "Written"
       ]
      },
      {
       "output_type": "stream",
       "stream": "stdout",
       "text": [
        " rock/rock.00040.ceps\n",
        "Written"
       ]
      },
      {
       "output_type": "stream",
       "stream": "stdout",
       "text": [
        " rock/rock.00021.ceps\n",
        "Written"
       ]
      },
      {
       "output_type": "stream",
       "stream": "stdout",
       "text": [
        " rock/rock.00050.ceps\n",
        "Written"
       ]
      },
      {
       "output_type": "stream",
       "stream": "stdout",
       "text": [
        " rock/rock.00015.ceps\n",
        "Written"
       ]
      },
      {
       "output_type": "stream",
       "stream": "stdout",
       "text": [
        " rock/rock.00045.ceps\n",
        "Written"
       ]
      },
      {
       "output_type": "stream",
       "stream": "stdout",
       "text": [
        " rock/rock.00084.ceps\n",
        "Written"
       ]
      },
      {
       "output_type": "stream",
       "stream": "stdout",
       "text": [
        " rock/rock.00051.ceps\n",
        "Written"
       ]
      },
      {
       "output_type": "stream",
       "stream": "stdout",
       "text": [
        " rock/rock.00007.ceps\n",
        "Written"
       ]
      },
      {
       "output_type": "stream",
       "stream": "stdout",
       "text": [
        " rock/rock.00071.ceps\n",
        "Written"
       ]
      },
      {
       "output_type": "stream",
       "stream": "stdout",
       "text": [
        " rock/rock.00073.ceps\n",
        "Written"
       ]
      },
      {
       "output_type": "stream",
       "stream": "stdout",
       "text": [
        " rock/rock.00025.ceps\n",
        "Written"
       ]
      },
      {
       "output_type": "stream",
       "stream": "stdout",
       "text": [
        " rock/rock.00049.ceps\n",
        "Written"
       ]
      },
      {
       "output_type": "stream",
       "stream": "stdout",
       "text": [
        " rock/rock.00041.ceps\n",
        "Written"
       ]
      },
      {
       "output_type": "stream",
       "stream": "stdout",
       "text": [
        " rock/rock.00095.ceps\n",
        "Written"
       ]
      },
      {
       "output_type": "stream",
       "stream": "stdout",
       "text": [
        " rock/rock.00053.ceps\n",
        "Written"
       ]
      },
      {
       "output_type": "stream",
       "stream": "stdout",
       "text": [
        " rock/rock.00014.ceps\n",
        "Written"
       ]
      },
      {
       "output_type": "stream",
       "stream": "stdout",
       "text": [
        " rock/rock.00048.ceps\n",
        "Written"
       ]
      },
      {
       "output_type": "stream",
       "stream": "stdout",
       "text": [
        " rock/rock.00098.ceps\n",
        "Written"
       ]
      },
      {
       "output_type": "stream",
       "stream": "stdout",
       "text": [
        " rock/rock.00072.ceps\n",
        "Written"
       ]
      },
      {
       "output_type": "stream",
       "stream": "stdout",
       "text": [
        " rock/rock.00080.ceps\n",
        "Written"
       ]
      },
      {
       "output_type": "stream",
       "stream": "stdout",
       "text": [
        " rock/rock.00033.ceps\n",
        "Written"
       ]
      },
      {
       "output_type": "stream",
       "stream": "stdout",
       "text": [
        " rock/rock.00042.ceps\n",
        "Written"
       ]
      },
      {
       "output_type": "stream",
       "stream": "stdout",
       "text": [
        " rock/rock.00055.ceps\n",
        "Written"
       ]
      },
      {
       "output_type": "stream",
       "stream": "stdout",
       "text": [
        " rock/rock.00059.ceps\n",
        "Written"
       ]
      },
      {
       "output_type": "stream",
       "stream": "stdout",
       "text": [
        " rock/rock.00081.ceps\n",
        "Written"
       ]
      },
      {
       "output_type": "stream",
       "stream": "stdout",
       "text": [
        " rock/rock.00091.ceps\n",
        "Written"
       ]
      },
      {
       "output_type": "stream",
       "stream": "stdout",
       "text": [
        " rock/rock.00034.ceps\n",
        "Written"
       ]
      },
      {
       "output_type": "stream",
       "stream": "stdout",
       "text": [
        " rock/rock.00060.ceps\n",
        "Written"
       ]
      },
      {
       "output_type": "stream",
       "stream": "stdout",
       "text": [
        " rock/rock.00096.ceps\n",
        "Written"
       ]
      },
      {
       "output_type": "stream",
       "stream": "stdout",
       "text": [
        " rock/rock.00087.ceps\n",
        "Written"
       ]
      },
      {
       "output_type": "stream",
       "stream": "stdout",
       "text": [
        " rock/rock.00018.ceps\n",
        "Written"
       ]
      },
      {
       "output_type": "stream",
       "stream": "stdout",
       "text": [
        " rock/rock.00027.ceps\n",
        "Written"
       ]
      },
      {
       "output_type": "stream",
       "stream": "stdout",
       "text": [
        " rock/rock.00038.ceps\n",
        "Written"
       ]
      },
      {
       "output_type": "stream",
       "stream": "stdout",
       "text": [
        " rock/rock.00016.ceps\n",
        "Written"
       ]
      },
      {
       "output_type": "stream",
       "stream": "stdout",
       "text": [
        " rock/rock.00011.ceps\n",
        "Written"
       ]
      },
      {
       "output_type": "stream",
       "stream": "stdout",
       "text": [
        " rock/rock.00064.ceps\n",
        "Written"
       ]
      },
      {
       "output_type": "stream",
       "stream": "stdout",
       "text": [
        " rock/rock.00092.ceps\n",
        "Written"
       ]
      },
      {
       "output_type": "stream",
       "stream": "stdout",
       "text": [
        " rock/rock.00031.ceps\n",
        "Written"
       ]
      },
      {
       "output_type": "stream",
       "stream": "stdout",
       "text": [
        " rock/rock.00017.ceps\n",
        "Written"
       ]
      },
      {
       "output_type": "stream",
       "stream": "stdout",
       "text": [
        " rock/rock.00067.ceps\n",
        "Written"
       ]
      },
      {
       "output_type": "stream",
       "stream": "stdout",
       "text": [
        " rock/rock.00077.ceps\n",
        "Written"
       ]
      },
      {
       "output_type": "stream",
       "stream": "stdout",
       "text": [
        " rock/rock.00012.ceps\n",
        "Written"
       ]
      },
      {
       "output_type": "stream",
       "stream": "stdout",
       "text": [
        " rock/rock.00030.ceps\n",
        "Written"
       ]
      },
      {
       "output_type": "stream",
       "stream": "stdout",
       "text": [
        " rock/rock.00000.ceps\n",
        "Written"
       ]
      },
      {
       "output_type": "stream",
       "stream": "stdout",
       "text": [
        " rock/rock.00001.ceps\n",
        "Written"
       ]
      },
      {
       "output_type": "stream",
       "stream": "stdout",
       "text": [
        " rock/rock.00052.ceps\n",
        "Written"
       ]
      },
      {
       "output_type": "stream",
       "stream": "stdout",
       "text": [
        " rock/rock.00002.ceps\n",
        "Written"
       ]
      },
      {
       "output_type": "stream",
       "stream": "stdout",
       "text": [
        " rock/rock.00019.ceps\n",
        "Written"
       ]
      },
      {
       "output_type": "stream",
       "stream": "stdout",
       "text": [
        " rock/rock.00093.ceps\n",
        "Written"
       ]
      },
      {
       "output_type": "stream",
       "stream": "stdout",
       "text": [
        " rock/rock.00020.ceps\n",
        "Written"
       ]
      },
      {
       "output_type": "stream",
       "stream": "stdout",
       "text": [
        " rock/rock.00046.ceps\n",
        "Written"
       ]
      },
      {
       "output_type": "stream",
       "stream": "stdout",
       "text": [
        " rock/rock.00085.ceps\n",
        "Written"
       ]
      },
      {
       "output_type": "stream",
       "stream": "stdout",
       "text": [
        " rock/rock.00054.ceps\n",
        "Written"
       ]
      },
      {
       "output_type": "stream",
       "stream": "stdout",
       "text": [
        " rock/rock.00010.ceps\n",
        "Written"
       ]
      },
      {
       "output_type": "stream",
       "stream": "stdout",
       "text": [
        " rock/rock.00058.ceps\n",
        "Written"
       ]
      },
      {
       "output_type": "stream",
       "stream": "stdout",
       "text": [
        " rock/rock.00035.ceps\n",
        "Written"
       ]
      },
      {
       "output_type": "stream",
       "stream": "stdout",
       "text": [
        " rock/rock.00013.ceps\n",
        "Written"
       ]
      },
      {
       "output_type": "stream",
       "stream": "stdout",
       "text": [
        " rock/rock.00003.ceps\n",
        "Written"
       ]
      },
      {
       "output_type": "stream",
       "stream": "stdout",
       "text": [
        " rock/rock.00047.ceps\n",
        "Written"
       ]
      },
      {
       "output_type": "stream",
       "stream": "stdout",
       "text": [
        " rock/rock.00075.ceps\n",
        "Written"
       ]
      },
      {
       "output_type": "stream",
       "stream": "stdout",
       "text": [
        " rock/rock.00066.ceps\n",
        "Written"
       ]
      },
      {
       "output_type": "stream",
       "stream": "stdout",
       "text": [
        " rock/rock.00057.ceps\n",
        "Written"
       ]
      },
      {
       "output_type": "stream",
       "stream": "stdout",
       "text": [
        " rock/rock.00083.ceps\n",
        "Written"
       ]
      },
      {
       "output_type": "stream",
       "stream": "stdout",
       "text": [
        " rock/rock.00022.ceps\n",
        "Written"
       ]
      },
      {
       "output_type": "stream",
       "stream": "stdout",
       "text": [
        " rock/rock.00029.ceps\n",
        "Written"
       ]
      },
      {
       "output_type": "stream",
       "stream": "stdout",
       "text": [
        " rock/rock.00094.ceps\n",
        "Written"
       ]
      },
      {
       "output_type": "stream",
       "stream": "stdout",
       "text": [
        " rock/rock.00004.ceps\n",
        "Written"
       ]
      },
      {
       "output_type": "stream",
       "stream": "stdout",
       "text": [
        " rock/rock.00069.ceps\n",
        "Written"
       ]
      },
      {
       "output_type": "stream",
       "stream": "stdout",
       "text": [
        " rock/rock.00036.ceps\n",
        "Written"
       ]
      },
      {
       "output_type": "stream",
       "stream": "stdout",
       "text": [
        " rock/rock.00008.ceps\n",
        "Written"
       ]
      },
      {
       "output_type": "stream",
       "stream": "stdout",
       "text": [
        " rock/rock.00028.ceps\n",
        "Written"
       ]
      },
      {
       "output_type": "stream",
       "stream": "stdout",
       "text": [
        " rock/rock.00061.ceps\n",
        "Written"
       ]
      },
      {
       "output_type": "stream",
       "stream": "stdout",
       "text": [
        " rock/rock.00056.ceps\n",
        "Written"
       ]
      },
      {
       "output_type": "stream",
       "stream": "stdout",
       "text": [
        " rock/rock.00097.ceps\n",
        "Written"
       ]
      },
      {
       "output_type": "stream",
       "stream": "stdout",
       "text": [
        " rock/rock.00043.ceps\n",
        "Written"
       ]
      },
      {
       "output_type": "stream",
       "stream": "stdout",
       "text": [
        " rock/rock.00068.ceps\n",
        "Written"
       ]
      },
      {
       "output_type": "stream",
       "stream": "stdout",
       "text": [
        " rock/rock.00082.ceps\n",
        "Written"
       ]
      },
      {
       "output_type": "stream",
       "stream": "stdout",
       "text": [
        " rock/rock.00044.ceps\n",
        "Written"
       ]
      },
      {
       "output_type": "stream",
       "stream": "stdout",
       "text": [
        " rock/rock.00078.ceps\n",
        "Written"
       ]
      },
      {
       "output_type": "stream",
       "stream": "stdout",
       "text": [
        " rock/rock.00074.ceps\n",
        "Written"
       ]
      },
      {
       "output_type": "stream",
       "stream": "stdout",
       "text": [
        " rock/rock.00024.ceps\n",
        "Written"
       ]
      },
      {
       "output_type": "stream",
       "stream": "stdout",
       "text": [
        " rock/rock.00039.ceps\n",
        "Written"
       ]
      },
      {
       "output_type": "stream",
       "stream": "stdout",
       "text": [
        " rock/rock.00037.ceps\n",
        "Written"
       ]
      },
      {
       "output_type": "stream",
       "stream": "stdout",
       "text": [
        " rock/rock.00070.ceps\n",
        "Written"
       ]
      },
      {
       "output_type": "stream",
       "stream": "stdout",
       "text": [
        " rock/rock.00099.ceps\n",
        "metal/*.wav\n",
        "Written"
       ]
      },
      {
       "output_type": "stream",
       "stream": "stdout",
       "text": [
        " metal/metal.00023.ceps\n",
        "Written"
       ]
      },
      {
       "output_type": "stream",
       "stream": "stdout",
       "text": [
        " metal/metal.00050.ceps\n",
        "Written"
       ]
      },
      {
       "output_type": "stream",
       "stream": "stdout",
       "text": [
        " metal/metal.00021.ceps\n",
        "Written"
       ]
      },
      {
       "output_type": "stream",
       "stream": "stdout",
       "text": [
        " metal/metal.00088.ceps\n",
        "Written"
       ]
      },
      {
       "output_type": "stream",
       "stream": "stdout",
       "text": [
        " metal/metal.00013.ceps\n",
        "Written"
       ]
      },
      {
       "output_type": "stream",
       "stream": "stdout",
       "text": [
        " metal/metal.00049.ceps\n",
        "Written"
       ]
      },
      {
       "output_type": "stream",
       "stream": "stdout",
       "text": [
        " metal/metal.00026.ceps\n",
        "Written"
       ]
      },
      {
       "output_type": "stream",
       "stream": "stdout",
       "text": [
        " metal/metal.00031.ceps\n",
        "Written"
       ]
      },
      {
       "output_type": "stream",
       "stream": "stdout",
       "text": [
        " metal/metal.00005.ceps\n",
        "Written"
       ]
      },
      {
       "output_type": "stream",
       "stream": "stdout",
       "text": [
        " metal/metal.00009.ceps\n",
        "Written"
       ]
      },
      {
       "output_type": "stream",
       "stream": "stdout",
       "text": [
        " metal/metal.00084.ceps\n",
        "Written"
       ]
      },
      {
       "output_type": "stream",
       "stream": "stdout",
       "text": [
        " metal/metal.00011.ceps\n",
        "Written"
       ]
      },
      {
       "output_type": "stream",
       "stream": "stdout",
       "text": [
        " metal/metal.00071.ceps\n",
        "Written"
       ]
      },
      {
       "output_type": "stream",
       "stream": "stdout",
       "text": [
        " metal/metal.00012.ceps\n",
        "Written"
       ]
      },
      {
       "output_type": "stream",
       "stream": "stdout",
       "text": [
        " metal/metal.00008.ceps\n",
        "Written"
       ]
      },
      {
       "output_type": "stream",
       "stream": "stdout",
       "text": [
        " metal/metal.00001.ceps\n",
        "Written"
       ]
      },
      {
       "output_type": "stream",
       "stream": "stdout",
       "text": [
        " metal/metal.00047.ceps\n",
        "Written"
       ]
      },
      {
       "output_type": "stream",
       "stream": "stdout",
       "text": [
        " metal/metal.00064.ceps\n",
        "Written"
       ]
      },
      {
       "output_type": "stream",
       "stream": "stdout",
       "text": [
        " metal/metal.00045.ceps\n",
        "Written"
       ]
      },
      {
       "output_type": "stream",
       "stream": "stdout",
       "text": [
        " metal/metal.00037.ceps\n",
        "Written"
       ]
      },
      {
       "output_type": "stream",
       "stream": "stdout",
       "text": [
        " metal/metal.00041.ceps\n",
        "Written"
       ]
      },
      {
       "output_type": "stream",
       "stream": "stdout",
       "text": [
        " metal/metal.00044.ceps\n",
        "Written"
       ]
      },
      {
       "output_type": "stream",
       "stream": "stdout",
       "text": [
        " metal/metal.00035.ceps\n",
        "Written"
       ]
      },
      {
       "output_type": "stream",
       "stream": "stdout",
       "text": [
        " metal/metal.00072.ceps\n",
        "Written"
       ]
      },
      {
       "output_type": "stream",
       "stream": "stdout",
       "text": [
        " metal/metal.00051.ceps\n",
        "Written"
       ]
      },
      {
       "output_type": "stream",
       "stream": "stdout",
       "text": [
        " metal/metal.00039.ceps\n",
        "Written"
       ]
      },
      {
       "output_type": "stream",
       "stream": "stdout",
       "text": [
        " metal/metal.00092.ceps\n",
        "Written"
       ]
      },
      {
       "output_type": "stream",
       "stream": "stdout",
       "text": [
        " metal/metal.00024.ceps\n",
        "Written"
       ]
      },
      {
       "output_type": "stream",
       "stream": "stdout",
       "text": [
        " metal/metal.00027.ceps\n",
        "Written"
       ]
      },
      {
       "output_type": "stream",
       "stream": "stdout",
       "text": [
        " metal/metal.00053.ceps\n",
        "Written"
       ]
      },
      {
       "output_type": "stream",
       "stream": "stdout",
       "text": [
        " metal/metal.00065.ceps\n",
        "Written"
       ]
      },
      {
       "output_type": "stream",
       "stream": "stdout",
       "text": [
        " metal/metal.00098.ceps\n",
        "Written"
       ]
      },
      {
       "output_type": "stream",
       "stream": "stdout",
       "text": [
        " metal/metal.00032.ceps\n",
        "Written"
       ]
      },
      {
       "output_type": "stream",
       "stream": "stdout",
       "text": [
        " metal/metal.00091.ceps\n",
        "Written"
       ]
      },
      {
       "output_type": "stream",
       "stream": "stdout",
       "text": [
        " metal/metal.00099.ceps\n",
        "Written"
       ]
      },
      {
       "output_type": "stream",
       "stream": "stdout",
       "text": [
        " metal/metal.00004.ceps\n",
        "Written"
       ]
      },
      {
       "output_type": "stream",
       "stream": "stdout",
       "text": [
        " metal/metal.00085.ceps\n",
        "Written"
       ]
      },
      {
       "output_type": "stream",
       "stream": "stdout",
       "text": [
        " metal/metal.00080.ceps\n",
        "Written"
       ]
      },
      {
       "output_type": "stream",
       "stream": "stdout",
       "text": [
        " metal/metal.00095.ceps\n",
        "Written"
       ]
      },
      {
       "output_type": "stream",
       "stream": "stdout",
       "text": [
        " metal/metal.00052.ceps\n",
        "Written"
       ]
      },
      {
       "output_type": "stream",
       "stream": "stdout",
       "text": [
        " metal/metal.00043.ceps\n",
        "Written"
       ]
      },
      {
       "output_type": "stream",
       "stream": "stdout",
       "text": [
        " metal/metal.00036.ceps\n",
        "Written"
       ]
      },
      {
       "output_type": "stream",
       "stream": "stdout",
       "text": [
        " metal/metal.00034.ceps\n",
        "Written"
       ]
      },
      {
       "output_type": "stream",
       "stream": "stdout",
       "text": [
        " metal/metal.00042.ceps\n",
        "Written"
       ]
      },
      {
       "output_type": "stream",
       "stream": "stdout",
       "text": [
        " metal/metal.00066.ceps\n",
        "Written"
       ]
      },
      {
       "output_type": "stream",
       "stream": "stdout",
       "text": [
        " metal/metal.00075.ceps\n",
        "Written"
       ]
      },
      {
       "output_type": "stream",
       "stream": "stdout",
       "text": [
        " metal/metal.00030.ceps\n",
        "Written"
       ]
      },
      {
       "output_type": "stream",
       "stream": "stdout",
       "text": [
        " metal/metal.00054.ceps\n",
        "Written"
       ]
      },
      {
       "output_type": "stream",
       "stream": "stdout",
       "text": [
        " metal/metal.00015.ceps\n",
        "Written"
       ]
      },
      {
       "output_type": "stream",
       "stream": "stdout",
       "text": [
        " metal/metal.00070.ceps\n",
        "Written"
       ]
      },
      {
       "output_type": "stream",
       "stream": "stdout",
       "text": [
        " metal/metal.00002.ceps\n",
        "Written"
       ]
      },
      {
       "output_type": "stream",
       "stream": "stdout",
       "text": [
        " metal/metal.00000.ceps\n",
        "Written"
       ]
      },
      {
       "output_type": "stream",
       "stream": "stdout",
       "text": [
        " metal/metal.00033.ceps\n",
        "Written"
       ]
      },
      {
       "output_type": "stream",
       "stream": "stdout",
       "text": [
        " metal/metal.00074.ceps\n",
        "Written"
       ]
      },
      {
       "output_type": "stream",
       "stream": "stdout",
       "text": [
        " metal/metal.00014.ceps\n",
        "Written"
       ]
      },
      {
       "output_type": "stream",
       "stream": "stdout",
       "text": [
        " metal/metal.00061.ceps\n",
        "Written"
       ]
      },
      {
       "output_type": "stream",
       "stream": "stdout",
       "text": [
        " metal/metal.00086.ceps\n",
        "Written"
       ]
      },
      {
       "output_type": "stream",
       "stream": "stdout",
       "text": [
        " metal/metal.00093.ceps\n",
        "Written"
       ]
      },
      {
       "output_type": "stream",
       "stream": "stdout",
       "text": [
        " metal/metal.00003.ceps\n",
        "Written"
       ]
      },
      {
       "output_type": "stream",
       "stream": "stdout",
       "text": [
        " metal/metal.00048.ceps\n",
        "Written"
       ]
      },
      {
       "output_type": "stream",
       "stream": "stdout",
       "text": [
        " metal/metal.00073.ceps\n",
        "Written"
       ]
      },
      {
       "output_type": "stream",
       "stream": "stdout",
       "text": [
        " metal/metal.00056.ceps\n",
        "Written"
       ]
      },
      {
       "output_type": "stream",
       "stream": "stdout",
       "text": [
        " metal/metal.00069.ceps\n",
        "Written"
       ]
      },
      {
       "output_type": "stream",
       "stream": "stdout",
       "text": [
        " metal/metal.00078.ceps\n",
        "Written"
       ]
      },
      {
       "output_type": "stream",
       "stream": "stdout",
       "text": [
        " metal/metal.00082.ceps\n",
        "Written"
       ]
      },
      {
       "output_type": "stream",
       "stream": "stdout",
       "text": [
        " metal/metal.00022.ceps\n",
        "Written"
       ]
      },
      {
       "output_type": "stream",
       "stream": "stdout",
       "text": [
        " metal/metal.00040.ceps\n",
        "Written"
       ]
      },
      {
       "output_type": "stream",
       "stream": "stdout",
       "text": [
        " metal/metal.00089.ceps\n",
        "Written"
       ]
      },
      {
       "output_type": "stream",
       "stream": "stdout",
       "text": [
        " metal/metal.00081.ceps\n",
        "Written"
       ]
      },
      {
       "output_type": "stream",
       "stream": "stdout",
       "text": [
        " metal/metal.00020.ceps\n",
        "Written"
       ]
      },
      {
       "output_type": "stream",
       "stream": "stdout",
       "text": [
        " metal/metal.00076.ceps\n",
        "Written"
       ]
      },
      {
       "output_type": "stream",
       "stream": "stdout",
       "text": [
        " metal/metal.00077.ceps\n",
        "Written"
       ]
      },
      {
       "output_type": "stream",
       "stream": "stdout",
       "text": [
        " metal/metal.00010.ceps\n",
        "Written"
       ]
      },
      {
       "output_type": "stream",
       "stream": "stdout",
       "text": [
        " metal/metal.00046.ceps\n",
        "Written"
       ]
      },
      {
       "output_type": "stream",
       "stream": "stdout",
       "text": [
        " metal/metal.00018.ceps\n",
        "Written"
       ]
      },
      {
       "output_type": "stream",
       "stream": "stdout",
       "text": [
        " metal/metal.00019.ceps\n",
        "Written"
       ]
      },
      {
       "output_type": "stream",
       "stream": "stdout",
       "text": [
        " metal/metal.00096.ceps\n",
        "Written"
       ]
      },
      {
       "output_type": "stream",
       "stream": "stdout",
       "text": [
        " metal/metal.00067.ceps\n",
        "Written"
       ]
      },
      {
       "output_type": "stream",
       "stream": "stdout",
       "text": [
        " metal/metal.00016.ceps\n",
        "Written"
       ]
      },
      {
       "output_type": "stream",
       "stream": "stdout",
       "text": [
        " metal/metal.00017.ceps\n",
        "Written"
       ]
      },
      {
       "output_type": "stream",
       "stream": "stdout",
       "text": [
        " metal/metal.00038.ceps\n",
        "Written"
       ]
      },
      {
       "output_type": "stream",
       "stream": "stdout",
       "text": [
        " metal/metal.00028.ceps\n",
        "Written"
       ]
      },
      {
       "output_type": "stream",
       "stream": "stdout",
       "text": [
        " metal/metal.00059.ceps\n",
        "Written"
       ]
      },
      {
       "output_type": "stream",
       "stream": "stdout",
       "text": [
        " metal/metal.00057.ceps\n",
        "Written"
       ]
      },
      {
       "output_type": "stream",
       "stream": "stdout",
       "text": [
        " metal/metal.00097.ceps\n",
        "Written"
       ]
      },
      {
       "output_type": "stream",
       "stream": "stdout",
       "text": [
        " metal/metal.00079.ceps\n",
        "Written"
       ]
      },
      {
       "output_type": "stream",
       "stream": "stdout",
       "text": [
        " metal/metal.00087.ceps\n",
        "Written"
       ]
      },
      {
       "output_type": "stream",
       "stream": "stdout",
       "text": [
        " metal/metal.00006.ceps\n",
        "Written"
       ]
      },
      {
       "output_type": "stream",
       "stream": "stdout",
       "text": [
        " metal/metal.00068.ceps\n",
        "Written"
       ]
      },
      {
       "output_type": "stream",
       "stream": "stdout",
       "text": [
        " metal/metal.00094.ceps\n",
        "Written"
       ]
      },
      {
       "output_type": "stream",
       "stream": "stdout",
       "text": [
        " metal/metal.00007.ceps\n",
        "Written"
       ]
      },
      {
       "output_type": "stream",
       "stream": "stdout",
       "text": [
        " metal/metal.00063.ceps\n",
        "Written"
       ]
      },
      {
       "output_type": "stream",
       "stream": "stdout",
       "text": [
        " metal/metal.00060.ceps\n",
        "Written"
       ]
      },
      {
       "output_type": "stream",
       "stream": "stdout",
       "text": [
        " metal/metal.00029.ceps\n",
        "Written"
       ]
      },
      {
       "output_type": "stream",
       "stream": "stdout",
       "text": [
        " metal/metal.00055.ceps\n",
        "Written"
       ]
      },
      {
       "output_type": "stream",
       "stream": "stdout",
       "text": [
        " metal/metal.00083.ceps\n",
        "Written"
       ]
      },
      {
       "output_type": "stream",
       "stream": "stdout",
       "text": [
        " metal/metal.00062.ceps\n",
        "Written"
       ]
      },
      {
       "output_type": "stream",
       "stream": "stdout",
       "text": [
        " metal/metal.00058.ceps\n",
        "Written"
       ]
      },
      {
       "output_type": "stream",
       "stream": "stdout",
       "text": [
        " metal/metal.00025.ceps\n",
        "Written"
       ]
      },
      {
       "output_type": "stream",
       "stream": "stdout",
       "text": [
        " metal/metal.00090.ceps\n"
       ]
      },
      {
       "output_type": "stream",
       "stream": "stderr",
       "text": [
        "/usr/local/lib/python2.7/dist-packages/scikits/talkbox/features/mfcc.py:108: RuntimeWarning: divide by zero encountered in log10\n",
        "  mspec = np.log10(np.dot(spec, fbank.T))\n"
       ]
      }
     ],
     "prompt_number": 4
    },
    {
     "cell_type": "code",
     "collapsed": false,
     "input": [
      "%load 02_ceps_based_classifier.py"
     ],
     "language": "python",
     "metadata": {},
     "outputs": [],
     "prompt_number": 1
    },
    {
     "cell_type": "code",
     "collapsed": false,
     "input": [
      "import numpy as np\n",
      "from collections import defaultdict\n",
      "\n",
      "from sklearn.metrics import precision_recall_curve, roc_curve\n",
      "from sklearn.metrics import auc\n",
      "from sklearn.cross_validation import ShuffleSplit\n",
      "\n",
      "from sklearn.metrics import confusion_matrix\n",
      "\n",
      "from utils import plot_roc, plot_confusion_matrix, GENRE_LIST\n",
      "\n",
      "from ceps import read_ceps\n",
      "\n",
      "TEST_DIR = \"/media/sf_P/pymlbook-data/09-genre-class/private\"\n",
      "\n",
      "genre_list = GENRE_LIST\n",
      "\n",
      "\n",
      "def train_model(clf_factory, X, Y, name, plot=False):\n",
      "    labels = np.unique(Y)\n",
      "\n",
      "    cv = ShuffleSplit(\n",
      "        n=len(X), n_iter=1, test_size=0.3, indices=True, random_state=0)\n",
      "\n",
      "    train_errors = []\n",
      "    test_errors = []\n",
      "\n",
      "    scores = []\n",
      "    pr_scores = defaultdict(list)\n",
      "    precisions, recalls, thresholds = defaultdict(\n",
      "        list), defaultdict(list), defaultdict(list)\n",
      "\n",
      "    roc_scores = defaultdict(list)\n",
      "    tprs = defaultdict(list)\n",
      "    fprs = defaultdict(list)\n",
      "\n",
      "    clfs = []  # just to later get the median\n",
      "\n",
      "    cms = []\n",
      "\n",
      "    for train, test in cv:\n",
      "        X_train, y_train = X[train], Y[train]\n",
      "        X_test, y_test = X[test], Y[test]\n",
      "\n",
      "        clf = clf_factory()\n",
      "        clf.fit(X_train, y_train)\n",
      "        clfs.append(clf)\n",
      "\n",
      "        train_score = clf.score(X_train, y_train)\n",
      "        test_score = clf.score(X_test, y_test)\n",
      "        scores.append(test_score)\n",
      "\n",
      "        train_errors.append(1 - train_score)\n",
      "        test_errors.append(1 - test_score)\n",
      "\n",
      "        y_pred = clf.predict(X_test)\n",
      "        cm = confusion_matrix(y_test, y_pred)\n",
      "        cms.append(cm)\n",
      "\n",
      "        for label in labels:\n",
      "            y_label_test = np.asarray(y_test == label, dtype=int)\n",
      "            proba = clf.predict_proba(X_test)\n",
      "            proba_label = proba[:, label]\n",
      "\n",
      "            precision, recall, pr_thresholds = precision_recall_curve(\n",
      "                y_label_test, proba_label)\n",
      "            pr_scores[label].append(auc(recall, precision))\n",
      "            precisions[label].append(precision)\n",
      "            recalls[label].append(recall)\n",
      "            thresholds[label].append(pr_thresholds)\n",
      "\n",
      "            fpr, tpr, roc_thresholds = roc_curve(y_label_test, proba_label)\n",
      "            roc_scores[label].append(auc(fpr, tpr))\n",
      "            tprs[label].append(tpr)\n",
      "            fprs[label].append(fpr)\n",
      "\n",
      "    if plot:\n",
      "        for label in labels:\n",
      "            print \"Plotting\", genre_list[label]\n",
      "            scores_to_sort = roc_scores[label]\n",
      "            median = np.argsort(scores_to_sort)[len(scores_to_sort) / 2]\n",
      "\n",
      "            desc = \"%s %s\" % (name, genre_list[label])\n",
      "            plot_roc(roc_scores[label][median], desc, tprs[label][median],\n",
      "                     fprs[label][median], label='%s vs rest' % genre_list[label])\n",
      "\n",
      "    all_pr_scores = np.asarray(pr_scores.values()).flatten()\n",
      "    summary = (np.mean(scores), np.std(scores),\n",
      "               np.mean(all_pr_scores), np.std(all_pr_scores))\n",
      "    print \"%.3f\\t%.3f\\t%.3f\\t%.3f\\t\" % summary\n",
      "\n",
      "    return np.mean(train_errors), np.mean(test_errors), np.asarray(cms)\n",
      "\n",
      "\n",
      "def create_model():\n",
      "    from sklearn.linear_model.logistic import LogisticRegression\n",
      "    clf = LogisticRegression()\n",
      "\n",
      "    return clf\n",
      "\n",
      "\n",
      "if __name__ == \"__main__\":\n",
      "    X, y = read_ceps(genre_list)\n",
      "\n",
      "    train_avg, test_avg, cms = train_model(\n",
      "        create_model, X, y, \"Log Reg CEPS\", plot=True)\n",
      "\n",
      "    cm_avg = np.mean(cms, axis=0)\n",
      "    cm_norm = cm_avg / np.sum(cm_avg, axis=0)\n",
      "\n",
      "    print cm_norm\n",
      "\n",
      "    plot_confusion_matrix(cm_norm, genre_list, \"ceps\",\n",
      "                          \"Confusion matrix of a CEPS based classifier\")\n"
     ],
     "language": "python",
     "metadata": {},
     "outputs": [
      {
       "output_type": "stream",
       "stream": "stdout",
       "text": [
        "Plotting classical\n"
       ]
      },
      {
       "output_type": "stream",
       "stream": "stderr",
       "text": [
        "/usr/local/lib/python2.7/dist-packages/sklearn/cross_validation.py:758: DeprecationWarning: The indices parameter is deprecated and will be removed (assumed True) in 0.17\n",
        "  \"removed (assumed True) in 0.17\", DeprecationWarning)\n"
       ]
      },
      {
       "metadata": {},
       "output_type": "display_data",
       "text": [
        "<matplotlib.figure.Figure at 0xa794b1cc>"
       ]
      },
      {
       "metadata": {},
       "output_type": "display_data",
       "png": "[encoded data removed]",
       "text": [
        "<matplotlib.figure.Figure at 0xa79662ac>"
       ]
      },
      {
       "output_type": "stream",
       "stream": "stdout",
       "text": [
        "Plotting jazz\n"
       ]
      },
      {
       "metadata": {},
       "output_type": "display_data",
       "text": [
        "<matplotlib.figure.Figure at 0xa75d7bec>"
       ]
      },
      {
       "metadata": {},
       "output_type": "display_data",
       "png": "[encoded data removed]",
       "text": [
        "<matplotlib.figure.Figure at 0xa807dc0c>"
       ]
      },
      {
       "output_type": "stream",
       "stream": "stdout",
       "text": [
        "Plotting country\n"
       ]
      },
      {
       "metadata": {},
       "output_type": "display_data",
       "text": [
        "<matplotlib.figure.Figure at 0xae0f576c>"
       ]
      },
      {
       "metadata": {},
       "output_type": "display_data",
       "png": "[encoded data removed]",
       "text": [
        "<matplotlib.figure.Figure at 0xa7966eec>"
       ]
      },
      {
       "output_type": "stream",
       "stream": "stdout",
       "text": [
        "Plotting pop\n"
       ]
      },
      {
       "metadata": {},
       "output_type": "display_data",
       "text": [
        "<matplotlib.figure.Figure at 0xa8922eec>"
       ]
      },
      {
       "metadata": {},
       "output_type": "display_data",
       "png": "[encoded data removed]",
       "text": [
        "<matplotlib.figure.Figure at 0xa8a253cc>"
       ]
      },
      {
       "output_type": "stream",
       "stream": "stdout",
       "text": [
        "Plotting rock\n"
       ]
      },
      {
       "metadata": {},
       "output_type": "display_data",
       "text": [
        "<matplotlib.figure.Figure at 0xa8a943cc>"
       ]
      },
      {
       "metadata": {},
       "output_type": "display_data",
       "png": "[encoded data removed]",
       "text": [
        "<matplotlib.figure.Figure at 0xa833156c>"
       ]
      },
      {
       "output_type": "stream",
       "stream": "stdout",
       "text": [
        "Plotting metal\n"
       ]
      },
      {
       "metadata": {},
       "output_type": "display_data",
       "text": [
        "<matplotlib.figure.Figure at 0xa89eb4ec>"
       ]
      },
      {
       "metadata": {},
       "output_type": "display_data",
       "png": "[encoded data removed]",
       "text": [
        "<matplotlib.figure.Figure at 0xa89f23ac>"
       ]
      },
      {
       "output_type": "stream",
       "stream": "stdout",
       "text": [
        "0.650\t0.000\t0.706\t0.203\t\n",
        "[[ 0.79411765  0.09090909  0.04761905  0.          0.03448276  0.        ]\n",
        " [ 0.14705882  0.36363636  0.19047619  0.12820513  0.03448276  0.02857143]\n",
        " [ 0.02941176  0.36363636  0.61904762  0.12820513  0.06896552  0.02857143]\n",
        " [ 0.          0.          0.04761905  0.66666667  0.13793103  0.        ]\n",
        " [ 0.02941176  0.18181818  0.0952381   0.07692308  0.5862069   0.2       ]\n",
        " [ 0.          0.          0.          0.          0.13793103  0.74285714]]\n",
        " -------1-------"
       ]
      },
      {
       "output_type": "stream",
       "stream": "stdout",
       "text": [
        "\n",
        " -------2-------"
       ]
      },
      {
       "output_type": "stream",
       "stream": "stdout",
       "text": [
        "\n"
       ]
      },
      {
       "metadata": {},
       "output_type": "display_data",
       "png": "[encoded data removed]",
       "text": [
        "<matplotlib.figure.Figure at 0xa89d8aac>"
       ]
      }
     ],
     "prompt_number": 4
    },
    {
     "cell_type": "markdown",
     "metadata": {},
     "source": [
      "## \uc815\ub9ac"
     ]
    },
    {
     "cell_type": "markdown",
     "metadata": {},
     "source": [
      "\uc55e\uc758 \ub450 \ubd84\ub958\uae30 \uc0ac\uc774\uc758 \ucc28\uc774\uc810\uc740 \ub450\ubc88\uc9f8 \uacbd\uc6b0\uc5d0\ub294 \uc74c\uc545\ubd84\uc57c\uc758 \uc804\ubb38\uac00\uac00 \ub9cc\ub4e0 \uc18d\uc131\uc5d0 \uc758\uc874\ud588\ub2e4."
     ]
    }
   ],
   "metadata": {}
  }
 ]
}