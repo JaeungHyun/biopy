{
 "metadata": {
  "name": "",
  "signature": "sha256:79066b203ece3fb732c456772f8bb8228f89a511dccd5cc6a652ace4f7d875ab"
 },
 "nbformat": 3,
 "nbformat_minor": 0,
 "worksheets": [
  {
   "cells": [
    {
     "cell_type": "heading",
     "level": 1,
     "metadata": {},
     "source": [
      "17. Clustering"
     ]
    },
    {
     "cell_type": "heading",
     "level": 2,
     "metadata": {},
     "source": [
      "17.1 The Purpose of Clustering"
     ]
    },
    {
     "cell_type": "markdown",
     "metadata": {},
     "source": [
      "- **Given a set of data vectors** $\\{X: \\vec{x_1}, \\vec{x_2}, \\ldots, \\vec{x_N}  \\}$,\n",
      "- **Group the vectors** so that each group contains only those vectors that are similar to each other.\n",
      "- **measure of similarity**: is defined by the user for each particular application.\n",
      "- **number of clusters**: can either be fixed or dynamic depending on the algorithm chosen.\n",
      "- **Result**: a set of groups(cluster)"
     ]
    },
    {
     "cell_type": "code",
     "collapsed": false,
     "input": [
      "import sys\n",
      "print(sys.version)"
     ],
     "language": "python",
     "metadata": {},
     "outputs": [
      {
       "output_type": "stream",
       "stream": "stdout",
       "text": [
        "2.7.9 (default, Dec 10 2014, 12:24:55) [MSC v.1500 32 bit (Intel)]\n"
       ]
      }
     ],
     "prompt_number": 2
    },
    {
     "cell_type": "markdown",
     "metadata": {},
     "source": [
      "#### Code (clustering.py): greedy clustering algorithm (\uc21c\ucc28 \uc54c\uace0\ub9ac\ub4ec)"
     ]
    },
    {
     "cell_type": "code",
     "collapsed": false,
     "input": [
      "%load book-example/pysrc/clustering.py"
     ],
     "language": "python",
     "metadata": {},
     "outputs": [],
     "prompt_number": 3
    },
    {
     "cell_type": "code",
     "collapsed": false,
     "input": [
      "# clustering.py\n",
      "# copyright (c) Jason M. Kinser 2008\n",
      "# This code is intended for non-commercial, educational use.\n",
      "# This code may not be used for commercial purposes without written permission from the author.\n",
      "# Many routines in this file are found in:\n",
      "#  \"Python for Bioinformatics\", J. Kinser,  Jones & Bartlett pub, 2008\n",
      "\n",
      "from numpy import random, zeros\n",
      "\n",
      "# Code 17-1\n",
      "def CData( N, L, scale = 1, K=-1 ):\n",
      "    # N = number of data vectors\n",
      "    # L = length of data vectors\n",
      "    # create a random seeds\n",
      "    if K==-1:\n",
      "        K = int( random.rand()*N/20 + N/20)\n",
      "    seeds = random.ranf( (K,L) )\n",
      "    # create random data based on deviations from seeds\n",
      "    data = zeros( (N,L), float )\n",
      "    for i in range( N ):\n",
      "        pick = int( random.ranf() * K )\n",
      "        data[i] = seeds[pick] +scale*(0.5*random.ranf(L)-0.25)\n",
      "    return data\n",
      "\n",
      "# Code 17-2\n",
      "# compare all of the vectors to a target: abs-subtraction\n",
      "def CompareVecs( target, vecs ):\n",
      "    N = len( vecs ) # number of vectors\n",
      "    diffs = abs( target - vecs )\n",
      "    scores = diffs.sum( 1 )\n",
      "    return scores\n",
      "\n",
      "# Code 17-4\n",
      "# greedy clustering algorithm\n",
      "def CheapClustering( vecs, gamma ):\n",
      "    # vecs: array of data vectors\n",
      "    # gamma: threshold.  Below this is a match\n",
      "    clusters = [ ]  # collect the clusters here.\n",
      "    ok = 1\n",
      "    work = list(vecs) # copy of data that can be destroyed\n",
      "    while ok:\n",
      "        target = work.pop( 0 )\n",
      "        # score for all remaining vecs in work\n",
      "        scores = CompareVecs(target, work )\n",
      "        # threshold vectors\n",
      "        nz = nonzero( less( scores, gamma) )[0][::-1]\n",
      "        group = []\n",
      "        group.append( target )\n",
      "        # add vectors to group\n",
      "        for i in nz:\n",
      "            group.append( work.pop( i ) )\n",
      "        clusters.append( group )\n",
      "        if len( work )==1:\n",
      "            clusters.append( [work.pop(0)])\n",
      "        if len(work)==0:\n",
      "            ok = 0\n",
      "    return clusters\n",
      "\n"
     ],
     "language": "python",
     "metadata": {},
     "outputs": []
    },
    {
     "cell_type": "code",
     "collapsed": false,
     "input": [
      "# clustering.py\n",
      "# copyright (c) Jason M. Kinser 2008\n",
      "# This code is intended for non-commercial, educational use.\n",
      "# This code may not be used for commercial purposes without written permission from the author.\n",
      "# Many routines in this file are found in:\n",
      "#  \"Python for Bioinformatics\", J. Kinser,  Jones & Bartlett pub, 2008\n",
      "\n",
      "from numpy import random, zeros\n",
      "\n",
      "# Code 17-1\n",
      "def CData( N, L, scale = 1, K=-1 ):\n",
      "    # N = number of data vectors\n",
      "    # L = length of data vectors\n",
      "    # create a random seeds\n",
      "    if K==-1:\n",
      "        K = int( random.rand()*N/20 + N/20)\n",
      "    seeds = random.ranf( (K,L) )\n",
      "    # create random data based on deviations from seeds\n",
      "    data = zeros( (N,L), float )\n",
      "    for i in range( N ):\n",
      "        pick = int( random.ranf() * K )\n",
      "        data[i] = seeds[pick] +scale*(0.5*random.ranf(L)-0.25)\n",
      "    return data\n",
      "\n",
      "# Code 17-2\n",
      "# compare all of the vectors to a target: abs-subtraction\n",
      "def CompareVecs( target, vecs ):\n",
      "    N = len( vecs ) # number of vectors\n",
      "    diffs = abs( target - vecs )\n",
      "    scores = diffs.sum( 1 )\n",
      "    return scores\n",
      "\n",
      "# Code 17-4\n",
      "# greedy clustering algorithm\n",
      "def CheapClustering( vecs, gamma ):\n",
      "    # vecs: array of data vectors\n",
      "    # gamma: threshold.  Below this is a match\n",
      "    clusters = [ ]  # collect the clusters here.\n",
      "    ok = 1\n",
      "    work = list(vecs) # copy of data that can be destroyed\n",
      "    while ok:\n",
      "        target = work.pop( 0 )\n",
      "        # score for all remaining vecs in work\n",
      "        scores = CompareVecs(target, work )\n",
      "        # threshold vectors\n",
      "        nz = nonzero( less( scores, gamma) )[0][::-1]\n",
      "        group = []\n",
      "        group.append( target )\n",
      "        # add vectors to group\n",
      "        for i in nz:\n",
      "            group.append( work.pop( i ) )\n",
      "        clusters.append( group )\n",
      "        if len( work )==1:\n",
      "            clusters.append( [work.pop(0)])\n",
      "        if len(work)==0:\n",
      "            ok = 0\n",
      "    return clusters\n",
      "\n"
     ],
     "language": "python",
     "metadata": {},
     "outputs": [],
     "prompt_number": 4
    },
    {
     "cell_type": "markdown",
     "metadata": {},
     "source": [
      "#### Code 17-1 (clustering.py)\n",
      "- a simple function that generates random data for clustering.\n",
      "- this algorithm generates a small number of random seeds and then generates data vectors that are random deviations from these seeds .\n"
     ]
    },
    {
     "cell_type": "code",
     "collapsed": false,
     "input": [
      "from numpy import random, zeros\n",
      "\n",
      "# Code 17-1\n",
      "def CData( N, L, scale = 1, K=-1 ):\n",
      "    # N = number of data vectors\n",
      "    # L = length of data vectors\n",
      "    # create a random seeds\n",
      "    if K==-1:\n",
      "        K = int( random.rand()*N/20 + N/20)\n",
      "    seeds = random.ranf( (K,L) )\n",
      "    # create random data based on deviations from seeds\n",
      "    data = zeros( (N,L), float )\n",
      "    for i in range( N ):\n",
      "        pick = int( random.ranf() * K )\n",
      "        data[i] = seeds[pick] +scale*(0.5*random.ranf(L)-0.25)\n",
      "    return data"
     ],
     "language": "python",
     "metadata": {},
     "outputs": [],
     "prompt_number": 5
    },
    {
     "cell_type": "code",
     "collapsed": false,
     "input": [
      "random.seed(3996)\n",
      "data = CData(100,10)\n",
      "print(len(data))\n",
      "print(data)"
     ],
     "language": "python",
     "metadata": {},
     "outputs": [
      {
       "output_type": "stream",
       "stream": "stdout",
       "text": [
        "100\n",
        "[[ 0.18767734  0.88699093  1.12872663  0.30643215  0.11858741  0.79003463\n",
        "  -0.03967975  0.68810991  0.95190413  0.64934477]\n",
        " [ 0.9308871   0.78856008  0.17980244  1.01306473  0.59579267  0.45423198\n",
        "   0.13946639  0.24873222 -0.0431162   0.42927505]\n",
        " [ 0.24733923  0.65731939  0.00802193  0.52402093  0.54600256  0.63270486\n",
        "   0.74052878  1.14009319  0.26762729  0.96934239]\n",
        " [ 0.52359831  0.73601395  0.22271592  0.29343468  0.50919107  0.93929115\n",
        "   0.97745678  1.04062302  0.06173864  1.0059561 ]\n",
        " [ 0.99064371  0.55877016  0.07140121  0.77111058  0.61562119  0.60851766\n",
        "   0.23978551  0.16139342  0.00676077  0.41521124]\n",
        " [ 0.25919113  0.89181561  0.35551564  0.29746112  0.33985864  1.00723942\n",
        "   0.11076244  0.90990584  0.78857798  0.52809329]\n",
        " [ 0.07799156  0.81897306  0.89846466  0.17819347  0.11898862  0.78129654\n",
        "   0.16698273  0.54636486  0.83417182  0.75276994]\n",
        " [-0.02276049  0.71252886  1.10474876 -0.0022255   0.50094983  0.96795736\n",
        "   0.09080974  0.49030903  0.85320943  0.38710155]\n",
        " [ 0.44293757  0.7876325   0.49501442  0.3005178   0.71273918  1.05579568\n",
        "  -0.1865792   0.61874277  0.52833187  0.4924926 ]\n",
        " [ 0.24179484  0.81640823  0.53110836  0.02610907  0.42722074  0.90392937\n",
        "   0.09962794  0.83651139  0.66092118  0.28716247]\n",
        " [ 0.06400861  0.76526483  0.18678632  0.09815039  0.415726    0.86158098\n",
        "   0.25481722  0.62192185  0.41124236  0.38415864]\n",
        " [ 0.3682926   0.87249464  0.19036856  0.26788506  0.47516039  0.58929874\n",
        "   1.03873401  0.75640162  0.22521681  0.62719701]\n",
        " [ 0.2778776   0.16139761  0.20199192  0.81744615  0.50987869 -0.12660871\n",
        "   0.57794545  0.61969704  0.58586167  0.43460701]\n",
        " [ 0.21319989  1.11298971  0.95623242  0.29210805  0.43918813  1.18682486\n",
        "   0.04092864  0.31863038  0.78139808  0.63968026]\n",
        " [ 0.3407913   0.12612467  0.12823028  0.91691613  0.3997122   0.1878742\n",
        "   0.52716563  0.59556329  1.01859426  0.02203704]\n",
        " [ 0.20825526  0.96927384  1.14492804 -0.00510566  0.07419349  0.90185631\n",
        "   0.17456225  0.52526974  0.64611727  0.57549427]\n",
        " [ 0.25552923  1.07551109  0.49668322 -0.03024739  0.70498829  1.10748218\n",
        "   0.06002429  0.60085028  0.39075993  0.34782748]\n",
        " [ 1.02098222  0.96676125  0.24029117  0.68584184  0.34553023  0.45476084\n",
        "   0.56395763  0.10330792  0.18807635  0.64631076]\n",
        " [ 0.46458682  0.09645057  0.18067117  0.5945194   0.35781522 -0.01081541\n",
        "   0.27496574  0.60711709  0.99821427  0.42925794]\n",
        " [ 0.89975596  0.50161765  0.38330713  1.04289581  0.44637842  0.57528456\n",
        "   0.2950273   0.03980124 -0.04914618  0.62275949]\n",
        " [ 0.74262091  0.69313171  0.21146846  0.83871432  0.5600112   0.67639179\n",
        "   0.45738027  0.3517401  -0.17056663  0.57670191]\n",
        " [ 0.24125121  0.9477004   0.56838488  0.10274909  0.64785713  0.78331542\n",
        "  -0.14588801  0.89761166  0.78655768  0.2011529 ]\n",
        " [ 0.48038964  0.76894465  0.40521939  0.09375841  0.48235708  0.87655322\n",
        "   0.14957165  0.80461143  0.54624897  0.45747879]\n",
        " [ 0.26324401  0.79527337  0.11531932  0.35644906  0.26902845  0.52670087\n",
        "   0.85269672  1.15672384  0.25916943  0.97522489]\n",
        " [ 0.63868503  0.30232566 -0.05366435  0.58069635  0.51165264  0.32816876\n",
        "   0.30991297  0.63396326  0.99914381  0.19500183]\n",
        " [ 0.84898545  0.58235411  0.37933191  0.8528203   0.1844674   0.29049062\n",
        "   0.34207168  0.3644071  -0.12425242  0.50058124]\n",
        " [ 0.50601066  0.18112133  0.07628624  0.88522373  0.12913431  0.27903156\n",
        "   0.17892335  0.28240895  0.69283818  0.08756264]\n",
        " [ 0.20575028  0.52990928 -0.17985367  0.43343381  0.37137421  0.63784644\n",
        "   0.92132923  1.19924728  0.31111838  0.99717455]\n",
        " [ 0.06401488  0.74538223  0.22780615  0.239727    0.61034838  1.03389312\n",
        "   0.26971958  0.89417559  0.65305264  0.22530989]\n",
        " [ 0.4499773   0.68394443  0.15134807  0.33242982  0.6341505   0.93776418\n",
        "   0.97030787  0.91431664 -0.10401145  0.67285022]\n",
        " [ 1.06823521  0.75544122  0.18945626  1.10159614  0.56591662  0.6892693\n",
        "   0.48209533  0.21381741  0.22170705  0.34899196]\n",
        " [ 0.61338387  0.46946074  0.17912305  0.47733261  0.39036929  0.36419536\n",
        "   0.50545612  0.72288738  0.80987859  0.32342353]\n",
        " [ 0.47031656  0.71130225  0.36731266  0.22161567  0.36249229  0.93341824\n",
        "   0.26996254  0.84388237  0.5664668   0.32237896]\n",
        " [ 0.89565145  0.63224785  0.32437793  1.01092588  0.55777363  0.54899429\n",
        "   0.60593191  0.00904237  0.20238687  0.55323258]\n",
        " [ 0.34454217  0.69758831  0.00297181  0.29293759  0.41407843  0.67818819\n",
        "   0.95284598  0.75604005  0.25665408  0.72753316]\n",
        " [ 0.79894072  0.53901296  0.04137483  0.72624929  0.6063534   0.48575453\n",
        "   0.44814518  0.21859973  0.22837441  0.55910988]\n",
        " [-0.04221781  0.95306486  0.97853633  0.0627544   0.03493714  0.95464288\n",
        "  -0.0518963   0.45695982  0.9250528   0.62427074]\n",
        " [ 0.21072667  0.74374144  0.20400966  0.57192976  0.51616962  0.68874392\n",
        "   0.79678642  0.92042023 -0.01779317  0.89442288]\n",
        " [ 0.79150015  0.56589827  0.49653307  0.74981569  0.57607545  0.6340603\n",
        "   0.32733997 -0.0016364   0.0037803   0.16375582]\n",
        " [ 0.59102071  0.30525763 -0.19900567  0.72620984  0.0819651  -0.10831671\n",
        "   0.46070084  0.28459953  0.63081202  0.40250664]\n",
        " [ 0.63404364  0.61567836  0.14637521  0.86031517  0.5196065   0.27192929\n",
        "   0.33207515  0.36576293  0.13530307  0.48808381]\n",
        " [ 0.65498331  0.15571405 -0.21092721  0.52367102  0.23456596  0.14957325\n",
        "   0.58422799  0.43717887  0.88721031  0.25468637]\n",
        " [ 0.68742845  0.76573732 -0.15499501  0.38412551  0.52902349  0.74521671\n",
        "   0.95873712  1.15969062  0.28481474  1.04083513]\n",
        " [ 0.61014807  0.19382311 -0.08134284  0.88530792  0.42844618  0.29095741\n",
        "   0.4432047   0.562824    0.59915579  0.26224172]\n",
        " [ 0.32055397  0.92259531  1.12108705  0.32600494  0.49246958  1.20387377\n",
        "   0.00522982  0.33184214  0.68315809  0.74683067]\n",
        " [ 0.09531657  0.61264265  0.42047483  0.04599882  0.56260332  0.88153106\n",
        "   0.26890367  0.69186566  0.3975086   0.5500021 ]\n",
        " [ 0.28323652  0.09014522  0.11932235  0.86668059  0.16304205  0.10638606\n",
        "   0.35076808  0.7389291   0.68736024 -0.00500195]\n",
        " [ 1.03672281  0.66838443  0.2121565   1.16548761  0.24447939  0.65001265\n",
        "   0.45923238  0.00379172 -0.11206256  0.60989972]\n",
        " [ 0.19271747  0.75659031  0.21029067  0.29158744  0.77581114  0.83971199\n",
        "   0.12461654  0.61641057  0.75709631  0.50420743]\n",
        " [ 0.97263943  0.74037949  0.50896948  0.84414101  0.59353924  0.50637055\n",
        "   0.60542589  0.23779389 -0.18003599  0.24722934]\n",
        " [ 0.42794642  0.0102598  -0.07647387  0.44842094  0.25981549  0.09270881\n",
        "   0.21356318  0.74586786  1.02966953  0.01124254]\n",
        " [ 1.11127452  0.82821542  0.21661529  0.85489937  0.17973201  0.5856353\n",
        "   0.47400349  0.08711492  0.07214986  0.56979037]\n",
        " [ 1.06127865  0.788247    0.07578043  1.12326853  0.13493079  0.45440511\n",
        "   0.51618097  0.37241689  0.01571464  0.49918245]\n",
        " [ 0.28057828  0.80289347  0.22637738 -0.00789354  0.35462278  0.98867736\n",
        "   0.052136    0.68348204  0.49904858  0.34448788]\n",
        " [ 0.3015926   0.83074772  1.18529005  0.01002179  0.25784668  1.15650047\n",
        "  -0.20434248  0.65218196  0.78696949  0.37840462]\n",
        " [ 0.55541323  0.51428164 -0.18739964  0.15764041  0.40312112  0.87923383\n",
        "   0.74821633  0.92523139 -0.13348079  1.02146489]\n",
        " [ 0.53536681  0.54537278  0.17893737  0.29624286  0.6254648   0.7411239\n",
        "   1.00005192  1.17472941 -0.08354587  0.79794899]\n",
        " [ 0.3367826   1.09779613  1.04743598 -0.0824906   0.34441943  1.05185262\n",
        "  -0.21563614  0.27209064  0.88328134  0.45516745]\n",
        " [ 0.07310596  0.82085125  0.25403172  0.07733788  0.69880911  1.06234545\n",
        "  -0.09545984  0.92374039  0.68665888  0.36811391]\n",
        " [ 0.36989042  0.80268256  0.17898112  0.62454795  0.31561845  0.50511062\n",
        "   0.73580708  0.71029957 -0.05199769  0.98997802]\n",
        " [ 0.40929646  0.64522708 -0.15219317  0.45613632  0.37123478  0.764881\n",
        "   0.85886813  0.91746429  0.20734035  0.57912515]\n",
        " [ 0.25737465  1.03166973  0.68059221  0.02017725  0.33170161  0.77422834\n",
        "   0.23672737  0.54618644  0.80492901  0.19534489]\n",
        " [ 0.25928466  0.87564213  0.53034225 -0.04165582  0.43534713  0.67678578\n",
        "  -0.01748857  0.68015684  0.78258373  0.5051687 ]\n",
        " [ 0.24638579  0.42934938 -0.22029593  0.66115232  0.15510797 -0.11373423\n",
        "   0.39107257  0.46485903  0.59027063  0.25256262]\n",
        " [ 0.5409379   0.6098647   0.14979678  0.6098461   0.30921964  0.81760608\n",
        "   1.03968987  0.77236725  0.31145595  0.81770395]\n",
        " [ 0.46819722  0.05600429 -0.05800395  0.45397187  0.17296966 -0.0111143\n",
        "   0.46917599  0.38301322  0.64505619  0.24704671]\n",
        " [ 0.02038335  0.89640589  1.14647476 -0.05144442  0.17372841  1.0221761\n",
        "  -0.14117305  0.71355445  0.66805109  0.3963374 ]\n",
        " [ 1.10876115  0.82812515  0.16590972  1.10392866  0.46045936  0.57744705\n",
        "   0.26678273  0.36064286  0.22409637  0.31872985]\n",
        " [ 1.0745998   0.55455533  0.12464146  0.72748208  0.58765079  0.39236052\n",
        "   0.27414268  0.27822902 -0.04109436  0.32505996]\n",
        " [ 0.21120191  0.06406254 -0.22537706  0.70043677  0.26123507  0.24067903\n",
        "   0.55695942  0.67798517  0.77722247  0.11882912]\n",
        " [ 0.28727073  0.74543186  0.91313845 -0.11696072  0.25010157  1.17776968\n",
        "  -0.18762358  0.59269659  0.7628856   0.57792163]\n",
        " [ 0.30274343  0.8586303   1.01275939  0.17359438  0.50041605  1.06648329\n",
        "   0.23731792  0.4566991   0.91616948  0.68235324]\n",
        " [ 0.2847138   0.36746562  0.20388799  0.88464253  0.14505889  0.10144934\n",
        "   0.39594317  0.6008584   0.66851325 -0.00920107]\n",
        " [ 0.0958872   1.12227809  0.77820712  0.06993086  0.06325992  1.17331224\n",
        "   0.28098982  0.49992121  0.91854407  0.6702739 ]\n",
        " [-0.01958044  0.84078426  0.79797685  0.00717544  0.04901882  1.085742\n",
        "   0.24170826  0.61554441  0.84927988  0.79997764]\n",
        " [ 0.89940933  0.66519059  0.22964868  0.73579992  0.55678066  0.5301035\n",
        "   0.56429004  0.49248738  0.242808    0.21145958]\n",
        " [ 0.85238521  0.62037852  0.36428739  1.1145834   0.17088289  0.3208219\n",
        "   0.18591014  0.21934659  0.2365302   0.54770543]\n",
        " [ 0.42637419  0.29844188  0.07254663  0.70302849  0.16511286  0.00159493\n",
        "   0.31880173  0.63502025  0.8930709   0.31621953]\n",
        " [ 0.48305854  0.18154713 -0.21805765  0.59636535  0.13100519  0.28323749\n",
        "   0.23573882  0.36320513  0.61097441  0.19355218]\n",
        " [-0.0073301   0.73954896  0.94054301  0.12562798  0.25124552  0.81954043\n",
        "  -0.09794179  0.48908548  0.77193437  0.48440589]\n",
        " [ 0.01877301  0.74652915  0.72336129  0.0793612   0.08143348  1.05606733\n",
        "   0.26780545  0.61200904  0.99790759  0.62607542]\n",
        " [ 1.06859403  0.98043643  0.17913022  0.7191742   0.16923228  0.27638962\n",
        "   0.15928681  0.25809541 -0.09237458  0.45722762]\n",
        " [ 0.49524726  0.35433554  0.05503325  0.64616124  0.46393783  0.21257692\n",
        "   0.21188751  0.48577569  0.79808839  0.13876094]\n",
        " [ 0.28912879  0.442783    0.13476378  0.73766659  0.29025562 -0.07529158\n",
        "   0.39666969  0.44862326  0.76778084  0.34401568]\n",
        " [ 0.32585724  0.9850111   0.95869148  0.25313826  0.11353084  0.92403503\n",
        "   0.17290701  0.72671083  0.91710598  0.39069853]\n",
        " [ 0.61764086  0.08903121 -0.17041181  0.83903818  0.37246661 -0.09638992\n",
        "   0.61490606  0.32498179  0.70942566  0.35524604]\n",
        " [-0.02961169  0.96318095  0.78001538  0.16501138  0.11105628  1.03776745\n",
        "  -0.10588373  0.33182361  0.68310367  0.6727675 ]\n",
        " [ 0.2239458   0.66761892 -0.01861994  0.23528215  0.49826149  0.76504475\n",
        "   1.03205195  1.15337869  0.22431262  0.85974919]\n",
        " [ 0.08633457  1.02508743  0.96220995  0.34349413  0.25830757  1.17679324\n",
        "   0.06469091  0.4972111   0.9381558   0.37537485]\n",
        " [ 0.46784211  0.92827397  0.1085331   0.2573985   0.71487108  0.66110286\n",
        "   0.88528885  1.09908005  0.12011435  0.91828182]\n",
        " [ 0.20967398  1.10057659  0.20228303 -0.09080965  0.5553107   0.86178551\n",
        "   0.18311666  0.84781786  0.64163274  0.38465283]\n",
        " [ 0.55120495  0.69313676  0.11062556  0.3153809   0.48442341  0.67242608\n",
        "   0.65087067  0.76290782 -0.12436984  0.57328169]\n",
        " [ 0.52167721  0.65154392  0.23418555  0.41946936  0.37665751  0.94151537\n",
        "   0.84769731  1.02385721 -0.05833231  0.73108705]\n",
        " [ 0.42153164  0.36428253 -0.19488804  0.69437294  0.45761013  0.20653931\n",
        "   0.42073867  0.3798318   0.98894702  0.26766846]\n",
        " [ 0.25977256  0.07196592  0.12026196  0.58233193  0.26263934  0.20587573\n",
        "   0.32406358  0.4718627   0.70174518  0.08947224]\n",
        " [ 0.13847036  0.956065    0.40060284 -0.12287978  0.37900888  0.92796714\n",
        "   0.02460079  0.60837388  0.40691434  0.60317956]\n",
        " [ 0.6382097   0.75557112  0.12457571  0.98834158  0.59365042  0.64719762\n",
        "   0.35190431  0.26017731  0.10338616  0.42382066]\n",
        " [ 0.15680023  1.0098576   0.27502769  0.28155593  0.66640398  0.71374019\n",
        "   0.30159261  0.74746395  0.57957161  0.35119601]\n",
        " [ 0.18370692  0.2028399  -0.17559483  0.86011269  0.07472571  0.12265464\n",
        "   0.5684717   0.5786656   0.91151959  0.08135363]\n",
        " [ 0.23436095  0.65534019  0.09671306  0.15501964  0.52981218  0.76943001\n",
        "   0.9243523   1.18389061  0.03766561  0.79529155]]\n"
       ]
      }
     ],
     "prompt_number": 45
    },
    {
     "cell_type": "markdown",
     "metadata": {},
     "source": [
      "#### Code 17-2 (clustering.py)\n",
      "- a simple algorithm for computing scores - manhatan distances of each vectors in a set of vectors from a vector.\n",
      "- $score = \\displaystyle\\sum_i { |\\vec{t} - \\vec{d_i}| }$\n"
     ]
    },
    {
     "cell_type": "code",
     "collapsed": false,
     "input": [
      "# Code 17-2\n",
      "# compare all of the vectors to a target: abs-subtraction\n",
      "def CompareVecs( target, vecs ):\n",
      "    N = len( vecs ) # number of vectors\n",
      "    diffs = abs( target - vecs )\n",
      "    scores = diffs.sum( 1 )\n",
      "    return scores"
     ],
     "language": "python",
     "metadata": {},
     "outputs": [],
     "prompt_number": 7
    },
    {
     "cell_type": "code",
     "collapsed": false,
     "input": [
      "scores = CompareVecs(data[0], data)\n",
      "print(scores)"
     ],
     "language": "python",
     "metadata": {},
     "outputs": [
      {
       "output_type": "stream",
       "stream": "stdout",
       "text": [
        "[ 0.          5.14381917  4.44883811  4.56219276  5.31720039  1.95381225\n",
        "  1.11490859  1.96704885  2.65084908  2.36604404  2.93083475  3.62486615\n",
        "  4.82829521  1.78598908  4.76163561  1.34353518  3.17856859  4.69843812\n",
        "  4.00570567  5.13252746  4.78195323  2.34354541  2.70050188  4.02408847\n",
        "  4.25258123  4.75752613  4.62213702  4.67647341  3.20686764  4.4476307\n",
        "  5.32125396  3.70922204  2.86966474  5.32209484  3.72674861  5.02955612\n",
        "  1.23338765  4.13893823  5.10443376  5.13938153  4.84500164  4.84610649\n",
        "  4.96625107  5.06154153  1.75082397  2.83698391  4.55031847  5.39583359\n",
        "  2.35156329  5.47713267  4.32961191  4.78248209  5.15200628  2.68250751\n",
        "  1.66532284  5.0616187   4.91547968  2.17254963  2.97491945  4.15854938\n",
        "  4.11449361  2.1969915   1.80307776  4.572801    4.1033686   4.82440644\n",
        "  1.50341438  4.98707475  5.55221728  4.59852576  1.90318153  1.62766062\n",
        "  4.2994787   1.91585064  1.85595753  4.90667608  4.53678546  3.918517\n",
        "  4.55380307  1.47579623  1.6978479   4.76636746  4.29475696  4.17313957\n",
        "  1.14321813  5.75426259  1.75358847  4.35379741  1.55248442  4.55255599\n",
        "  3.02520955  3.98556153  4.30167908  4.57805193  4.28971753  2.4092423\n",
        "  4.77947129  2.72753763  4.58333659  4.41358788]\n"
       ]
      }
     ],
     "prompt_number": 46
    },
    {
     "cell_type": "markdown",
     "metadata": {},
     "source": [
      "#### Code 17-3"
     ]
    },
    {
     "cell_type": "code",
     "collapsed": false,
     "input": [
      "import sys\n",
      "sys.path.append('book-example/pysrc')\n",
      "import akando\n",
      "import numpy as np\n",
      "ag = np.argsort(scores)\n",
      "akando.PlotSave('plot.txt', scores[ag])\n",
      "\n",
      "%matplotlib inline\n",
      "import matplotlib.pyplot as plt\n",
      "plt.plot(range(100), scores[ag], '.')\n",
      "\n",
      "# plt.plot(scores[ag])\n",
      "# import numpy as np\n",
      "# plotdata = np.genfromtxt('plot.txt')\n",
      "# plt.plot(plotdata)\n",
      "\n",
      "\n"
     ],
     "language": "python",
     "metadata": {},
     "outputs": [
      {
       "metadata": {},
       "output_type": "pyout",
       "prompt_number": 9,
       "text": [
        "[<matplotlib.lines.Line2D at 0x6366990>]"
       ]
      },
      {
       "metadata": {},
       "output_type": "display_data",
       "png": "[encoded data removed]",
       "text": [
        "<matplotlib.figure.Figure at 0x3bfb890>"
       ]
      }
     ],
     "prompt_number": 9
    },
    {
     "cell_type": "markdown",
     "metadata": {},
     "source": [
      "#### Code 17.4\n",
      "\n",
      "- \uc54c\uace0\ub9ac\ub4ec\n",
      "    1. \ub0a8\uc544\uc788\ub294 \uc0d8\ud50c vector \uc911\uc5d0\uc11c \ud55c\uac1c\uc758 vector\ub97c \ub300\ud45c\ub85c \uc120\uc815\ud558\uc5ec \uc0c8\ub85c\uc6b4 \uad70\uc9d1\uc744 \ub9cc\ub4e4\uc5b4 \ud3ec\ud568\uc2dc\ud0a8\ub2e4.\n",
      "    2. \ub0a8\uc544\uc788\ub294 \ub2e4\ub978 \uc0d8\ud50c vector \uac01\uac01\uc5d0 \ub300\ud558\uc5ec \uadf8 \ub300\ud45c vector\uc640\uc758 \uac70\ub9ac\uac00 threshold \uc774\ub0b4\uc774\uba74 \uadf8 \uad70\uc9d1\uc5d0 \ud3ec\ud568\uc2dc\ud0a8\ub2e4.\n",
      "    3. \ub0a8\uc544\uc788\ub294 \uc0d8\ud50c vector\uac00 \uc788\ub294 \ub3d9\uc548 1, 2 \uc808\ucc28\ub97c \ubc18\ubcf5\ud55c\ub2e4.\n",
      "\n",
      "- \ub2e8\uc810\n",
      "    * a vector may not belong to the best group\n",
      "\n",
      "- \uc18c\uc2a4 \uc218\uc815 \uc0ac\ud56d\n",
      "    \uc2e4\ud589 \uc624\ub958\uac00 \ubc1c\uc0dd\ud558\ub294 \uacbd\uc6b0\uac00 \uc788\uc5b4 nonzero, less\ub97c \uac01\uac01  np.nonzero, np.less\ub85c \ubcc0\uacbd\ud568\n"
     ]
    },
    {
     "cell_type": "code",
     "collapsed": false,
     "input": [
      "# Code 17-4\n",
      "# greedy clustering algorithm\n",
      "def CheapClustering( vecs, gamma ):\n",
      "    # vecs: array of data vectors\n",
      "    # gamma: threshold.  Below this is a match\n",
      "    clusters = [ ]  # collect the clusters here.\n",
      "    ok = 1\n",
      "    work = list(vecs) # copy of data that can be destroyed\n",
      "    while ok:\n",
      "        target = work.pop( 0 )\n",
      "        # score for all remaining vecs in work\n",
      "        scores = CompareVecs(target, work )\n",
      "        # threshold vectors\n",
      "        nz = np.nonzero( np.less( scores, gamma) )[0][::-1]\n",
      "        group = []\n",
      "        group.append( target )\n",
      "        # add vectors to group\n",
      "        for i in nz:\n",
      "            group.append( work.pop( i ) )\n",
      "        clusters.append( group )\n",
      "        if len( work )==1:\n",
      "            clusters.append( [work.pop(0)])\n",
      "        if len(work)==0:\n",
      "            ok = 0\n",
      "    return clusters\n"
     ],
     "language": "python",
     "metadata": {},
     "outputs": [],
     "prompt_number": 10
    },
    {
     "cell_type": "code",
     "collapsed": false,
     "input": [
      "clusts = CheapClustering(data, 2.5)\n",
      "map(len, clusts) # print length of each cluster"
     ],
     "language": "python",
     "metadata": {},
     "outputs": [
      {
       "metadata": {},
       "output_type": "pyout",
       "prompt_number": 47,
       "text": [
        "[26, 21, 19, 11, 21, 2]"
       ]
      }
     ],
     "prompt_number": 47
    },
    {
     "cell_type": "heading",
     "level": 2,
     "metadata": {},
     "source": [
      "17.2 k-Means Clustering"
     ]
    },
    {
     "cell_type": "markdown",
     "metadata": {},
     "source": [
      "#### Code (kmeans.py): K-means clustering algorithm"
     ]
    },
    {
     "cell_type": "code",
     "collapsed": false,
     "input": [
      "%load book-example/pysrc/kmeans.py"
     ],
     "language": "python",
     "metadata": {},
     "outputs": [],
     "prompt_number": 12
    },
    {
     "cell_type": "code",
     "collapsed": false,
     "input": [
      "# kmeans.py\n",
      "# copyright (c) Jason M. Kinser 2008\n",
      "# This code is intended for non-commercial, educational use.\n",
      "# This code may not be used for commercial purposes without written permission from the author.\n",
      "# Many routines in this file are found in:\n",
      "#  \"Python for Bioinformatics\", J. Kinser,  Jones & Bartlett pub, 2008\n",
      "\n",
      "# See chapter 17 for explanation of codes\n",
      "\n",
      "from numpy import random, take, zeros, sqrt, ravel\n",
      "\n",
      "# Code 17-5\n",
      "# Measure the variance of a cluster\n",
      "def ClusterVar( vecs ):\n",
      "    a = vecs.std( 0 )\n",
      "    a = sum( a**2 )/len(vecs[0])\n",
      "    return a\n",
      "\n",
      "# Code 17-6\n",
      "# initialize with random vectors\n",
      "def Init1( K, L ):\n",
      "    # K is the # of clusters\n",
      "    # L is the length of the vectors\n",
      "    \"\"\"K=Number of clusters, L=Length of vectors\"\"\"\n",
      "    clusts = random.ranf( (K,L) )\n",
      "    return clusts\n",
      "\n",
      "# Code 17-6\n",
      "# initialize with random data vectors\n",
      "def Init2( K, data ):\n",
      "    \"\"\"K=Number of clusters\"\"\"\n",
      "    r = range( len(data) )\n",
      "    random.shuffle( r )\n",
      "    clusts = data.take( r[:K],0 )\n",
      "    return clusts\n",
      "\n",
      "# Code 17-7\n",
      "# Decide which cluster each vector belongs to\n",
      "def AssignMembership( clusts, data ):\n",
      "    mmb = []\n",
      "    NC = len( clusts )\n",
      "    for i in range( NC ):\n",
      "        mmb.append( [] )\n",
      "    for i in range( len( data )):\n",
      "        sc = zeros( NC )\n",
      "        for j in range( NC ):\n",
      "            sc[j] = sqrt( ((clusts[j]-data[i])**2 ).sum() )\n",
      "        mn = sc.argmin()\n",
      "        mmb[mn].append( i )\n",
      "    return mmb\n",
      "\n",
      "# Code 17-8\n",
      "# compute the average of the clusters\n",
      "def ClusterAverage( mmb, data ):\n",
      "    K = len( mmb )\n",
      "    N = len( data[0] )\n",
      "    clusts = zeros( (K,N), float )\n",
      "    for i in range( K ):\n",
      "        vecs = data.take( mmb[i],0 )\n",
      "        clusts[i] = vecs.mean(0)\n",
      "    return clusts\n",
      "\n",
      "# Code 17-9\n",
      "# typical driver\n",
      "def KMeans( K, data ):\n",
      "    clust1 = Init2( K, data )\n",
      "    ok = 1\n",
      "    while ok:\n",
      "        mmb = AssignMembership( clust1, data )\n",
      "        clust2 = ClusterAverage( mmb, data )\n",
      "        diff = ( abs( ravel(clust1)-ravel(clust2))).sum()\n",
      "        if diff==0:\n",
      "            ok = 0\n",
      "        print 'Difference', diff\n",
      "        clust1 = clust2 + 0\n",
      "    return clust1, mmb\n",
      "\n",
      "# Code 17-21\n",
      "# split a cluster\n",
      "def Split( mmbi ):\n",
      "    # mmbi is a single mmb[i]\n",
      "    m1, m2 = [], []\n",
      "    N = len( mmbi )\n",
      "    for i in range( N ):\n",
      "        r = random.rand()\n",
      "        if r < 0.5:\n",
      "            m1.append( mmbi[i] )\n",
      "        else:\n",
      "            m2.append( mmbi[i] )\n",
      "    return m1, m2\n"
     ],
     "language": "python",
     "metadata": {},
     "outputs": []
    },
    {
     "cell_type": "markdown",
     "metadata": {},
     "source": [
      "#### Code17-5: \uc54c\uace0\ub9ac\ub4ec \ud3c9\uac00 \uae30\uc900\n",
      "- A good cluster would collect vectors that are similar.\n",
      "- A single cluster should have small cluster variance as measured by\n",
      "    $\\displaystyle w_k = {1 \\over N_k} \\sum_i \\sigma_{k,i}^2$\n"
     ]
    },
    {
     "cell_type": "code",
     "collapsed": false,
     "input": [
      "from numpy import random, take, zeros, sqrt, ravel\n",
      "\n",
      "# Code 17-5\n",
      "# Measure the variance of a cluster\n",
      "def ClusterVar( vecs ):\n",
      "    a = vecs.std( 0 )\n",
      "    a = sum( a**2 )/len(vecs[0])\n",
      "    return a\n"
     ],
     "language": "python",
     "metadata": {},
     "outputs": [],
     "prompt_number": 14
    },
    {
     "cell_type": "code",
     "collapsed": false,
     "input": [
      "for i in range(6):\n",
      "    print i, \"%.3f\" %ClusterVar(np.array(clusts[i]))"
     ],
     "language": "python",
     "metadata": {},
     "outputs": [
      {
       "output_type": "stream",
       "stream": "stdout",
       "text": [
        "0 0.027\n",
        "1 0.020\n",
        "2 0.019\n",
        "3 0.016\n",
        "4 0.020\n",
        "5 0.012\n"
       ]
      }
     ],
     "prompt_number": 48
    },
    {
     "cell_type": "markdown",
     "metadata": {},
     "source": [
      "#### k-Means Clustering algorithm\n",
      "- extremely popular and easy algorithm\n",
      "- user defines the number of clusters, k, and a method by which these clusters are seeded.\n",
      "- The algorithm will then perform several iterations until the clusters do not change.\n",
      "\n",
      "- Algorithm\n",
      "    1. Initialize k clusters .\n",
      "\n",
      "    2. Iterate until there is no change.\n",
      "\n",
      "        2.1 Assign vectors to clusters .\n",
      "\n",
      "        2.2 Compute the average of each cluster.\n",
      "\n",
      "        2.3 If none of the clusters have changed, create a stop condition.\n",
      "\n",
      "\n"
     ]
    },
    {
     "cell_type": "markdown",
     "metadata": {},
     "source": [
      "#### Code 17-6 (kmeans.py): Initialize k clusters\n"
     ]
    },
    {
     "cell_type": "code",
     "collapsed": false,
     "input": [
      "# Code 17-6\n",
      "# initialize with random vectors\n",
      "def Init1( K, L ):\n",
      "    # K is the # of clusters\n",
      "    # L is the length of the vectors\n",
      "    \"\"\"K=Number of clusters, L=Length of vectors\"\"\"\n",
      "    clusts = random.ranf( (K,L) )\n",
      "    return clusts\n",
      "\n",
      "# Code 17-6\n",
      "# initialize with random data vectors\n",
      "def Init2( K, data ):\n",
      "    \"\"\"K=Number of clusters\"\"\"\n",
      "    r = range( len(data) )\n",
      "    random.shuffle( r )\n",
      "    clusts = data.take( r[:K],0 )\n",
      "    return clusts\n"
     ],
     "language": "python",
     "metadata": {},
     "outputs": [],
     "prompt_number": 51
    },
    {
     "cell_type": "markdown",
     "metadata": {},
     "source": [
      "#### Code 17-7 (kmeans.py): Decide which cluster each vector belongs to\n",
      "- closest Euclidean distance from the vector to each cluster.\n",
      "- mmb: a list that collects the constituents for each cluster\n",
      "- mmb[0]: list of the members of the first cluster that contains the vector identities(indices)\n",
      "- sc: score for each cluster\n",
      "- mn: indicates which cluster has the best score\n"
     ]
    },
    {
     "cell_type": "code",
     "collapsed": false,
     "input": [
      "# Code 17-7\n",
      "# Decide which cluster each vector belongs to\n",
      "def AssignMembership( clusts, data ):\n",
      "    mmb = []\n",
      "    NC = len( clusts )\n",
      "    for i in range( NC ):\n",
      "        mmb.append( [] )\n",
      "    for i in range( len( data )):\n",
      "        sc = zeros( NC )\n",
      "        for j in range( NC ):\n",
      "            sc[j] = sqrt( ((clusts[j]-data[i])**2 ).sum() )\n",
      "        mn = sc.argmin()\n",
      "        mmb[mn].append( i )\n",
      "    return mmb\n"
     ],
     "language": "python",
     "metadata": {},
     "outputs": [],
     "prompt_number": 52
    },
    {
     "cell_type": "markdown",
     "metadata": {},
     "source": [
      "#### Code 17-8 (kmeans.py): compute the average of the clusters"
     ]
    },
    {
     "cell_type": "code",
     "collapsed": false,
     "input": [
      "# Code 17-8\n",
      "# compute the average of the clusters\n",
      "def ClusterAverage( mmb, data ):\n",
      "    K = len( mmb )\n",
      "    N = len( data[0] )\n",
      "    clusts = zeros( (K,N), float )\n",
      "    for i in range( K ):\n",
      "        vecs = data.take( mmb[i],0 )\n",
      "        clusts[i] = vecs.mean(0)\n",
      "    return clusts\n"
     ],
     "language": "python",
     "metadata": {},
     "outputs": [],
     "prompt_number": 53
    },
    {
     "cell_type": "markdown",
     "metadata": {},
     "source": [
      "#### Code 17-9 (kmeans.py): typical driver"
     ]
    },
    {
     "cell_type": "code",
     "collapsed": false,
     "input": [
      "# Code 17-9\n",
      "# typical driver\n",
      "def KMeans( K, data ):\n",
      "    clust1 = Init2( K, data )\n",
      "    ok = 1\n",
      "    while ok:\n",
      "        mmb = AssignMembership( clust1, data )\n",
      "        clust2 = ClusterAverage( mmb, data )\n",
      "        diff = ( abs( ravel(clust1)-ravel(clust2))).sum()\n",
      "        if diff==0:\n",
      "            ok = 0\n",
      "        print 'Difference', diff\n",
      "        clust1 = clust2 + 0\n",
      "    return clust1, mmb\n"
     ],
     "language": "python",
     "metadata": {},
     "outputs": [],
     "prompt_number": 54
    },
    {
     "cell_type": "markdown",
     "metadata": {},
     "source": [
      "#### Code 17-10"
     ]
    },
    {
     "cell_type": "code",
     "collapsed": false,
     "input": [
      "random.seed(8193)\n",
      "clust1, mmb = KMeans(6, data)\n",
      "for i in range(6):\n",
      "    print i, \"%.3f\" %ClusterVar(data.take(mmb[i], 0))\n"
     ],
     "language": "python",
     "metadata": {},
     "outputs": [
      {
       "output_type": "stream",
       "stream": "stdout",
       "text": [
        "Difference 7.41782845541\n",
        "Difference 2.70456785889\n",
        "Difference 0.180388645499\n",
        "Difference 0.0\n",
        "0 0.014\n",
        "1 0.020\n",
        "2 0.018\n",
        "3 0.021\n",
        "4 0.019\n",
        "5 0.017\n"
       ]
      }
     ],
     "prompt_number": 55
    },
    {
     "cell_type": "heading",
     "level": 2,
     "metadata": {},
     "source": [
      "17.3 Solving More Difficult Problems"
     ]
    },
    {
     "cell_type": "markdown",
     "metadata": {},
     "source": [
      "#### Code (swissroll.py): Swiss roll problem\n"
     ]
    },
    {
     "cell_type": "code",
     "collapsed": false,
     "input": [
      "%load book-example/pysrc/swissroll.py"
     ],
     "language": "python",
     "metadata": {},
     "outputs": [],
     "prompt_number": 21
    },
    {
     "cell_type": "code",
     "collapsed": false,
     "input": [
      "# swussroll.py\n",
      "# using k-means to solve the Swiss Roll problem\n",
      "# copyright (c) Jason M. Kinser 2008\n",
      "# This code is intended for non-commercial, educational use.\n",
      "# This code may not be used for commercial purposes without written permission from the author.\n",
      "# Many routines in this file are found in:\n",
      "#  \"Python for Bioinformatics\", J. Kinser,  Jones & Bartlett pub, 2008\n",
      "\n",
      "# See chapter 17 for explanation of codes\n",
      "\n",
      "from math import atan2\n",
      "from numpy import add, cos, greater, less, pi, random, sqrt,sin, zeros\n",
      "import Image\n",
      "import kmeans, akando\n",
      "\n",
      "# Code 17-11\n",
      "# create the data file\n",
      "def MakeRoll( N=1000 ):\n",
      "    # N = number of data points\n",
      "    data = zeros( (N,2), float )\n",
      "    for i in range( N ):\n",
      "        r = random.rand( 2 )\n",
      "        theta = 720*r[0] *pi/180\n",
      "        radius = r[0] + (r[1]-0.5)*0.2\n",
      "        # convert to x-y coords\n",
      "        x = radius * cos( theta )\n",
      "        y = radius * sin( theta )\n",
      "        data[i] = x,y\n",
      "    return data\n",
      "\n",
      "# create an image from the data points\n",
      "def MakePic( data ):\n",
      "    # assume that the maximum radius of the data is 1\n",
      "    pic = zeros( (512,512), int )\n",
      "    for i in data:\n",
      "        x,y = (i+1)*240\n",
      "        pic[ int(x), int(y)] +=1\n",
      "    mg = akando.a2i( pic )\n",
      "    return mg\n",
      "\n",
      "# Code 17-12\n",
      "# run k-means\n",
      "def RunKMeans( data, K=4 ):\n",
      "    clust1 = kmeans.Init2( K, data )\n",
      "    dff = 1\n",
      "    while dff > 0:\n",
      "        mmb = kmeans.AssignMembership( clust1, data )\n",
      "        clust2 = kmeans.ClusterAverage( mmb, data )\n",
      "        dff = ( abs( clust1.ravel()-clust2.ravel() )).sum()\n",
      "        print dff\n",
      "        clust1 = clust2 + 0\n",
      "    return clust1, mmb\n",
      "\n",
      "# Code 17-12\n",
      "# save multiple files for GnuPlot\n",
      "def GnuPlotFiles( mmb, data, fname ):\n",
      "    # mmb is from RunKMeans\n",
      "    # fname is a partial filename\n",
      "    NC = len( mmb )  # number of clusters\n",
      "    for i in range( NC ):\n",
      "        filename = fname + str(i) + '.txt'\n",
      "        fp = open( filename, 'w' )\n",
      "        for j in mmb[i]:\n",
      "            x,y = data[j]\n",
      "            fp.write( str(x) + ' ' + str(y) + '\\n')\n",
      "        fp.close()\n",
      "\n",
      "# make a color image showing the different clusters\n",
      "# returns an Image\n",
      "def MakeColorPic( mmb, data ):\n",
      "    pic = zeros( (512,512,3), int )\n",
      "    NC = len( mmb ) # number of clusters = number of colors\n",
      "    for i in range( NC ):\n",
      "        # for each color\n",
      "        for j in mmb[i]:\n",
      "            x,y = (data[j]+1)*240\n",
      "            x,y = int(x), int(y)\n",
      "            pic[x,y,0] = 250 - 250/NC*i # red\n",
      "            if i>150: pic[x,y,1] = (i-150) *20 # green\n",
      "            pic[x,y,2] = i*250 # blue\n",
      "    r = akando.a2i( pic[:,:,0] )\n",
      "    g = akando.a2i( pic[:,:,1] )\n",
      "    b = akando.a2i( pic[:,:,2] )\n",
      "    mg = Image.merge( 'RGB', (r,g,b) )\n",
      "    return mg\n",
      "\n",
      "# Code 17-13\n",
      "# Change data from rectangular coordinates to polar coordinates\n",
      "def GoPolar( data ):\n",
      "    N = len( data ) # number of data points\n",
      "    pdata = zeros( (N,2), float )\n",
      "    for i in range( N ):\n",
      "        x,y = data[i]\n",
      "        r = sqrt( x*x + y*y )\n",
      "        theta = atan2( y,x)\n",
      "        pdata[i] = r, theta\n",
      "    pdata[:,0] *=10    # scale the radius\n",
      "    return pdata\n",
      "\n",
      "\n",
      "# create a color image from Polar data by converting it to rect\n",
      "# >>> clusts, mmb = RunKMeans( pdata )\n",
      "# >>> mg = MakeColorPic( mmb, data )\n",
      "\n",
      "# Code 17-16\n",
      "# compute the distances for all pairs\n",
      "def Neighbors( data ):\n",
      "    ND = len( data )\n",
      "    d = zeros( (ND,ND), float )\n",
      "    for i in range( ND ):\n",
      "        for j in range( i ):\n",
      "            a = data[i] - data[j]\n",
      "            a = sqrt( ( a*a ).sum() )\n",
      "            d[i,j] = d[j,i] = a\n",
      "    return d\n",
      "\n",
      "def FastFloyd( w ):\n",
      "    d = w + 0\n",
      "    N = len( d )\n",
      "    oldd = d + 0\n",
      "    for k in range( N ):\n",
      "        print k,\n",
      "        newd = add.outer( oldd[:,k], oldd[k] )\n",
      "        m = greater( newd, 700 )\n",
      "        newd = (1-m)*newd + m * oldd\n",
      "        mask = less( newd, oldd )\n",
      "        mmask = 1-mask\n",
      "        g = mask*newd + mmask * oldd\n",
      "        oldd = g + 0\n",
      "    return g\n",
      "\n",
      "# Code 17-17\n",
      "# Decide which cluster each vector belongs to\n",
      "def AssignMembership( clusts, data, floyd ):\n",
      "    mmb = []\n",
      "    NC = len( clusts )\n",
      "    ND = len( data )\n",
      "    for i in range( NC ):\n",
      "        mmb.append( [] )\n",
      "    # for each cluster - compute the distance to all data points\n",
      "    dists = zeros( (NC,ND), float )\n",
      "    for i in range( NC ):\n",
      "        # find the data point closest to the cluster\n",
      "        d = zeros( ND, float )\n",
      "        for j in range( ND ):\n",
      "            t = clusts[i] - data[j]\n",
      "            d[j] = sqrt( sum( t*t) )\n",
      "            mn = d.argmin() # index of closest point\n",
      "        mndist = d[mn] # distance from cluster to closest point\n",
      "        # use floyd distances\n",
      "        dists[i] = mndist + floyd[mn] # dists from cluster to all points\n",
      "    # for each data point - find the closest cluster and assign\n",
      "    for i in range( ND ):\n",
      "        # find the cluster with the min distance\n",
      "        mn = dists[:,i].argmin()\n",
      "        # assign\n",
      "        mmb[mn].append( i )\n",
      "    return mmb\n",
      "\n",
      "### compute the average of the clusters\n",
      "##def ClusterAverage( mmb, data, floyd ):\n",
      "##    K = len( mmb )\n",
      "##    N = len( data[0] )\n",
      "##    clusts = zeros( (K,N), float )\n",
      "##    for i in range( K ):\n",
      "##        vecs = data.take( mmb[i],0 )\n",
      "##        vecs = \n",
      "##        clusts[i] = vecs.mean(0)\n",
      "##    return clusts\n"
     ],
     "language": "python",
     "metadata": {},
     "outputs": []
    },
    {
     "cell_type": "markdown",
     "metadata": {},
     "source": [
      "#### Code 17-11 (kmeans.py): MakeRoll"
     ]
    },
    {
     "cell_type": "code",
     "collapsed": false,
     "input": [
      "from math import atan2\n",
      "from numpy import add, cos, greater, less, pi, random, sqrt,sin, zeros\n",
      "import Image\n",
      "import kmeans, akando\n",
      "\n",
      "# Code 17-11\n",
      "# create the data file\n",
      "def MakeRoll( N=1000 ):\n",
      "    # N = number of data points\n",
      "    data = zeros( (N,2), float )\n",
      "    for i in range( N ):\n",
      "        r = random.rand( 2 )\n",
      "        theta = 720*r[0] *pi/180\n",
      "        radius = r[0] + (r[1]-0.5)*0.2\n",
      "        # convert to x-y coords\n",
      "        x = radius * cos( theta )\n",
      "        y = radius * sin( theta )\n",
      "        data[i] = x,y\n",
      "    return data"
     ],
     "language": "python",
     "metadata": {},
     "outputs": [],
     "prompt_number": 23
    },
    {
     "cell_type": "code",
     "collapsed": false,
     "input": [
      "import sys\n",
      "sys.path.append('book-example/pysrc')\n",
      "import akando\n",
      "\n",
      "random.seed(284554)\n",
      "data = MakeRoll()\n",
      "akando.PlotMultiple('swiss.txt', data)\n",
      "\n",
      "%matplotlib inline\n",
      "import matplotlib.pyplot as plt\n",
      "plt.plot([p[0] for p in data], [p[1] for p in data], '.')"
     ],
     "language": "python",
     "metadata": {},
     "outputs": [
      {
       "metadata": {},
       "output_type": "pyout",
       "prompt_number": 24,
       "text": [
        "[<matplotlib.lines.Line2D at 0x8713f90>]"
       ]
      },
      {
       "metadata": {},
       "output_type": "display_data",
       "png": "[encoded data removed]",
       "text": [
        "<matplotlib.figure.Figure at 0x618de10>"
       ]
      }
     ],
     "prompt_number": 24
    },
    {
     "cell_type": "markdown",
     "metadata": {},
     "source": [
      "#### Code 17-12 (kmeans.py)\n",
      "- the algorithm has selected **two different arms** of the spiral to belong to the same cluster - a result that is undesirable.\n",
      "- Before the k-means algorithm is applied to a problem, it is essential to **understand the nature of the problem** itself.\n",
      "- Quite often the data needs to be **processed before** applying the algorithm.\n",
      "- Or modify the k-means engine."
     ]
    },
    {
     "cell_type": "code",
     "collapsed": false,
     "input": [
      "# Code 17-12\n",
      "# run k-means\n",
      "def RunKMeans( data, K=4 ):\n",
      "    clust1 = kmeans.Init2( K, data )\n",
      "    dff = 1\n",
      "    while dff > 0:\n",
      "        mmb = kmeans.AssignMembership( clust1, data )\n",
      "        clust2 = kmeans.ClusterAverage( mmb, data )\n",
      "        dff = ( abs( clust1.ravel()-clust2.ravel() )).sum()\n",
      "        print dff\n",
      "        clust1 = clust2 + 0\n",
      "    return clust1, mmb\n",
      "\n",
      "# Code 17-12\n",
      "# save multiple files for GnuPlot\n",
      "def GnuPlotFiles( mmb, data, fname ):\n",
      "    # mmb is from RunKMeans\n",
      "    # fname is a partial filename\n",
      "    NC = len( mmb )  # number of clusters\n",
      "    for i in range( NC ):\n",
      "        filename = fname + str(i) + '.txt'\n",
      "        fp = open( filename, 'w' )\n",
      "        for j in mmb[i]:\n",
      "            x,y = data[j]\n",
      "            fp.write( str(x) + ' ' + str(y) + '\\n')\n",
      "        fp.close()"
     ],
     "language": "python",
     "metadata": {},
     "outputs": [],
     "prompt_number": 25
    },
    {
     "cell_type": "code",
     "collapsed": false,
     "input": [
      "clust, mmb = RunKMeans(data, 4)\n",
      "GnuPlotFiles(mmb, data, 'mp')\n",
      "# gnuplot> plot'mpO.txt', 'mpl.txt', 'mp2.txt', 'mp3.txt'\n",
      "#plt.plot([p[0] for p in data], [p[1] for p in data], '.')\n"
     ],
     "language": "python",
     "metadata": {},
     "outputs": [
      {
       "output_type": "stream",
       "stream": "stdout",
       "text": [
        "0.710931793222\n",
        "0.325999948487\n",
        "0.12624231047"
       ]
      },
      {
       "output_type": "stream",
       "stream": "stdout",
       "text": [
        "\n",
        "0.0806069335025\n",
        "0.0761093134958"
       ]
      },
      {
       "output_type": "stream",
       "stream": "stdout",
       "text": [
        "\n",
        "0.0651855256135\n",
        "0.0635471897364"
       ]
      },
      {
       "output_type": "stream",
       "stream": "stdout",
       "text": [
        "\n",
        "0.0215767441489\n",
        "0.0382736274681"
       ]
      },
      {
       "output_type": "stream",
       "stream": "stdout",
       "text": [
        "\n",
        "0.0459382128117\n",
        "0.0303820439009"
       ]
      },
      {
       "output_type": "stream",
       "stream": "stdout",
       "text": [
        "\n",
        "0.0204101177178\n",
        "0.0118937618692"
       ]
      },
      {
       "output_type": "stream",
       "stream": "stdout",
       "text": [
        "\n",
        "0.00457461861886\n",
        "0.00470311660385"
       ]
      },
      {
       "output_type": "stream",
       "stream": "stdout",
       "text": [
        "\n",
        "0.0\n"
       ]
      }
     ],
     "prompt_number": 26
    },
    {
     "cell_type": "heading",
     "level": 3,
     "metadata": {},
     "source": [
      "17.3.1 Preprocessing Data 264"
     ]
    },
    {
     "cell_type": "markdown",
     "metadata": {},
     "source": [
      "#### Code 17-13 (kmeans.py)"
     ]
    },
    {
     "cell_type": "code",
     "collapsed": false,
     "input": [
      "# Code 17-13\n",
      "# Change data from rectangular coordinates to polar coordinates\n",
      "def GoPolar( data ):\n",
      "    N = len( data ) # number of data points\n",
      "    pdata = zeros( (N,2), float )\n",
      "    for i in range( N ):\n",
      "        x,y = data[i]\n",
      "        r = sqrt( x*x + y*y )\n",
      "        theta = atan2( y,x)\n",
      "        pdata[i] = r, theta\n",
      "    pdata[:,0] *=10    # scale the radius\n",
      "    return pdata\n"
     ],
     "language": "python",
     "metadata": {},
     "outputs": [],
     "prompt_number": 27
    },
    {
     "cell_type": "code",
     "collapsed": false,
     "input": [
      "pdata = GoPolar(data)"
     ],
     "language": "python",
     "metadata": {},
     "outputs": [],
     "prompt_number": 28
    },
    {
     "cell_type": "markdown",
     "metadata": {},
     "source": [
      "#### Code 17-14"
     ]
    },
    {
     "cell_type": "code",
     "collapsed": false,
     "input": [
      "clust, mmb = RunKMeans(pdata, 4)\n",
      "GnuPlotFiles(mmb, data, 'mp')\n",
      "#gnuplot>plot'mpO.txt', 'mpl.txt', 'mp2.txt', 'mp3.txt'\n",
      "#plt.plot([p[0] for p in data], [p[1] for p in data], '.')"
     ],
     "language": "python",
     "metadata": {},
     "outputs": [
      {
       "output_type": "stream",
       "stream": "stdout",
       "text": [
        "9.03398038588\n",
        "2.35753508679\n",
        "2.03567427001"
       ]
      },
      {
       "output_type": "stream",
       "stream": "stdout",
       "text": [
        "\n",
        "2.09987310331\n",
        "0.220392130703"
       ]
      },
      {
       "output_type": "stream",
       "stream": "stdout",
       "text": [
        "\n",
        "0.0\n"
       ]
      }
     ],
     "prompt_number": 30
    },
    {
     "cell_type": "heading",
     "level": 3,
     "metadata": {},
     "source": [
      "17.3.2 Modifications of k-Means"
     ]
    },
    {
     "cell_type": "markdown",
     "metadata": {},
     "source": [
      "#### Code 17-15 (kmeans.py)\n",
      "\n",
      "- a better metric is to measure the geodesic distances\n",
      "- Floyd-Warshall algorithm\n",
      "- outer-addition algorithm\n",
      "- input: a matrix of all the Euclidean distances for all pairs of\n",
      "points\n",
      "- output: distances using combinations of intermediate data points\n",
      "- \uc758\ubb38\uc810\n",
      "    \n",
      "    euclidian distance \uc5d0\uc11c\ub294 \uc9c1\uc120 \uac70\ub9ac\ubcf4\ub2e4 \uacbd\uc720\ud558\ub294 \uac70\ub9ac\uac00 \ub354 \uac00\uae4c\uc640\uc9c8 \uc218 \uc788\uc744\uae4c?"
     ]
    },
    {
     "cell_type": "code",
     "collapsed": false,
     "input": [
      "def FastFloyd( w ):\n",
      "    d = w + 0\n",
      "    N = len( d )\n",
      "    oldd = d + 0\n",
      "    for k in range( N ):\n",
      "        print k,\n",
      "        newd = add.outer( oldd[:,k], oldd[k] )\n",
      "        m = greater( newd, 700 )\n",
      "        newd = (1-m)*newd + m * oldd\n",
      "        mask = less( newd, oldd )\n",
      "        mmask = 1-mask\n",
      "        g = mask*newd + mmask * oldd\n",
      "        oldd = g + 0\n",
      "    return g"
     ],
     "language": "python",
     "metadata": {},
     "outputs": [],
     "prompt_number": 31
    },
    {
     "cell_type": "markdown",
     "metadata": {},
     "source": [
      "#### Code 17-16 (kmeans.py)"
     ]
    },
    {
     "cell_type": "code",
     "collapsed": false,
     "input": [
      "# Code 17-16\n",
      "# compute the distances for all pairs\n",
      "def Neighbors( data ):\n",
      "    ND = len( data )\n",
      "    d = zeros( (ND,ND), float )\n",
      "    for i in range( ND ):\n",
      "        for j in range( i ):\n",
      "            a = data[i] - data[j]\n",
      "            a = sqrt( ( a*a ).sum() )\n",
      "            d[i,j] = d[j,i] = a\n",
      "    return d\n"
     ],
     "language": "python",
     "metadata": {},
     "outputs": [],
     "prompt_number": 32
    },
    {
     "cell_type": "code",
     "collapsed": false,
     "input": [
      "dists = Neighbors(data)\n",
      "floyd = FastFloyd(dists)\n",
      "f = floyd**2\n"
     ],
     "language": "python",
     "metadata": {},
     "outputs": [
      {
       "output_type": "stream",
       "stream": "stdout",
       "text": [
        "0 1 "
       ]
      },
      {
       "output_type": "stream",
       "stream": "stdout",
       "text": [
        "2 3 "
       ]
      },
      {
       "output_type": "stream",
       "stream": "stdout",
       "text": [
        "4 5 "
       ]
      },
      {
       "output_type": "stream",
       "stream": "stdout",
       "text": [
        "6 7 "
       ]
      },
      {
       "output_type": "stream",
       "stream": "stdout",
       "text": [
        "8 9 "
       ]
      },
      {
       "output_type": "stream",
       "stream": "stdout",
       "text": [
        "10 11 "
       ]
      },
      {
       "output_type": "stream",
       "stream": "stdout",
       "text": [
        "12 13 "
       ]
      },
      {
       "output_type": "stream",
       "stream": "stdout",
       "text": [
        "14 15 "
       ]
      },
      {
       "output_type": "stream",
       "stream": "stdout",
       "text": [
        "16 17 "
       ]
      },
      {
       "output_type": "stream",
       "stream": "stdout",
       "text": [
        "18 19 "
       ]
      },
      {
       "output_type": "stream",
       "stream": "stdout",
       "text": [
        "20 21 "
       ]
      },
      {
       "output_type": "stream",
       "stream": "stdout",
       "text": [
        "22 23 "
       ]
      },
      {
       "output_type": "stream",
       "stream": "stdout",
       "text": [
        "24 25 "
       ]
      },
      {
       "output_type": "stream",
       "stream": "stdout",
       "text": [
        "26 27 "
       ]
      },
      {
       "output_type": "stream",
       "stream": "stdout",
       "text": [
        "28 29 "
       ]
      },
      {
       "output_type": "stream",
       "stream": "stdout",
       "text": [
        "30 31 "
       ]
      },
      {
       "output_type": "stream",
       "stream": "stdout",
       "text": [
        "32 33 "
       ]
      },
      {
       "output_type": "stream",
       "stream": "stdout",
       "text": [
        "34 35 "
       ]
      },
      {
       "output_type": "stream",
       "stream": "stdout",
       "text": [
        "36 37 "
       ]
      },
      {
       "output_type": "stream",
       "stream": "stdout",
       "text": [
        "38 39 "
       ]
      },
      {
       "output_type": "stream",
       "stream": "stdout",
       "text": [
        "40 41 "
       ]
      },
      {
       "output_type": "stream",
       "stream": "stdout",
       "text": [
        "42 43 "
       ]
      },
      {
       "output_type": "stream",
       "stream": "stdout",
       "text": [
        "44 45 "
       ]
      },
      {
       "output_type": "stream",
       "stream": "stdout",
       "text": [
        "46 47 "
       ]
      },
      {
       "output_type": "stream",
       "stream": "stdout",
       "text": [
        "48 49 "
       ]
      },
      {
       "output_type": "stream",
       "stream": "stdout",
       "text": [
        "50 51 "
       ]
      },
      {
       "output_type": "stream",
       "stream": "stdout",
       "text": [
        "52 53 "
       ]
      },
      {
       "output_type": "stream",
       "stream": "stdout",
       "text": [
        "54 55 "
       ]
      },
      {
       "output_type": "stream",
       "stream": "stdout",
       "text": [
        "56 57 "
       ]
      },
      {
       "output_type": "stream",
       "stream": "stdout",
       "text": [
        "58 59 "
       ]
      },
      {
       "output_type": "stream",
       "stream": "stdout",
       "text": [
        "60 61 "
       ]
      },
      {
       "output_type": "stream",
       "stream": "stdout",
       "text": [
        "62 63 "
       ]
      },
      {
       "output_type": "stream",
       "stream": "stdout",
       "text": [
        "64 65 "
       ]
      },
      {
       "output_type": "stream",
       "stream": "stdout",
       "text": [
        "66 67 "
       ]
      },
      {
       "output_type": "stream",
       "stream": "stdout",
       "text": [
        "68 69 "
       ]
      },
      {
       "output_type": "stream",
       "stream": "stdout",
       "text": [
        "70 71 "
       ]
      },
      {
       "output_type": "stream",
       "stream": "stdout",
       "text": [
        "72 73 "
       ]
      },
      {
       "output_type": "stream",
       "stream": "stdout",
       "text": [
        "74 75 "
       ]
      },
      {
       "output_type": "stream",
       "stream": "stdout",
       "text": [
        "76 77 "
       ]
      },
      {
       "output_type": "stream",
       "stream": "stdout",
       "text": [
        "78 79 "
       ]
      },
      {
       "output_type": "stream",
       "stream": "stdout",
       "text": [
        "80 81 "
       ]
      },
      {
       "output_type": "stream",
       "stream": "stdout",
       "text": [
        "82 83 "
       ]
      },
      {
       "output_type": "stream",
       "stream": "stdout",
       "text": [
        "84 85 "
       ]
      },
      {
       "output_type": "stream",
       "stream": "stdout",
       "text": [
        "86 87 "
       ]
      },
      {
       "output_type": "stream",
       "stream": "stdout",
       "text": [
        "88 89 "
       ]
      },
      {
       "output_type": "stream",
       "stream": "stdout",
       "text": [
        "90 91 "
       ]
      },
      {
       "output_type": "stream",
       "stream": "stdout",
       "text": [
        "92 93 "
       ]
      },
      {
       "output_type": "stream",
       "stream": "stdout",
       "text": [
        "94 95 "
       ]
      },
      {
       "output_type": "stream",
       "stream": "stdout",
       "text": [
        "96 97 "
       ]
      },
      {
       "output_type": "stream",
       "stream": "stdout",
       "text": [
        "98 99 "
       ]
      },
      {
       "output_type": "stream",
       "stream": "stdout",
       "text": [
        "100 101 "
       ]
      },
      {
       "output_type": "stream",
       "stream": "stdout",
       "text": [
        "102 103 "
       ]
      },
      {
       "output_type": "stream",
       "stream": "stdout",
       "text": [
        "104 105 "
       ]
      },
      {
       "output_type": "stream",
       "stream": "stdout",
       "text": [
        "106 107 "
       ]
      },
      {
       "output_type": "stream",
       "stream": "stdout",
       "text": [
        "108 109 "
       ]
      },
      {
       "output_type": "stream",
       "stream": "stdout",
       "text": [
        "110 111 "
       ]
      },
      {
       "output_type": "stream",
       "stream": "stdout",
       "text": [
        "112 113 "
       ]
      },
      {
       "output_type": "stream",
       "stream": "stdout",
       "text": [
        "114 115 "
       ]
      },
      {
       "output_type": "stream",
       "stream": "stdout",
       "text": [
        "116 117 "
       ]
      },
      {
       "output_type": "stream",
       "stream": "stdout",
       "text": [
        "118 119 "
       ]
      },
      {
       "output_type": "stream",
       "stream": "stdout",
       "text": [
        "120 121 "
       ]
      },
      {
       "output_type": "stream",
       "stream": "stdout",
       "text": [
        "122 123 "
       ]
      },
      {
       "output_type": "stream",
       "stream": "stdout",
       "text": [
        "124 125 "
       ]
      },
      {
       "output_type": "stream",
       "stream": "stdout",
       "text": [
        "126 127 "
       ]
      },
      {
       "output_type": "stream",
       "stream": "stdout",
       "text": [
        "128 129 "
       ]
      },
      {
       "output_type": "stream",
       "stream": "stdout",
       "text": [
        "130 131 "
       ]
      },
      {
       "output_type": "stream",
       "stream": "stdout",
       "text": [
        "132 133 "
       ]
      },
      {
       "output_type": "stream",
       "stream": "stdout",
       "text": [
        "134 135 "
       ]
      },
      {
       "output_type": "stream",
       "stream": "stdout",
       "text": [
        "136 137 "
       ]
      },
      {
       "output_type": "stream",
       "stream": "stdout",
       "text": [
        "138 139 "
       ]
      },
      {
       "output_type": "stream",
       "stream": "stdout",
       "text": [
        "140 141 "
       ]
      },
      {
       "output_type": "stream",
       "stream": "stdout",
       "text": [
        "142 143 "
       ]
      },
      {
       "output_type": "stream",
       "stream": "stdout",
       "text": [
        "144 145 "
       ]
      },
      {
       "output_type": "stream",
       "stream": "stdout",
       "text": [
        "146 147 "
       ]
      },
      {
       "output_type": "stream",
       "stream": "stdout",
       "text": [
        "148 149 "
       ]
      },
      {
       "output_type": "stream",
       "stream": "stdout",
       "text": [
        "150 151 "
       ]
      },
      {
       "output_type": "stream",
       "stream": "stdout",
       "text": [
        "152 153 "
       ]
      },
      {
       "output_type": "stream",
       "stream": "stdout",
       "text": [
        "154 155 "
       ]
      },
      {
       "output_type": "stream",
       "stream": "stdout",
       "text": [
        "156 157 "
       ]
      },
      {
       "output_type": "stream",
       "stream": "stdout",
       "text": [
        "158 159 "
       ]
      },
      {
       "output_type": "stream",
       "stream": "stdout",
       "text": [
        "160 161 "
       ]
      },
      {
       "output_type": "stream",
       "stream": "stdout",
       "text": [
        "162 163 "
       ]
      },
      {
       "output_type": "stream",
       "stream": "stdout",
       "text": [
        "164 165 "
       ]
      },
      {
       "output_type": "stream",
       "stream": "stdout",
       "text": [
        "166 167 "
       ]
      },
      {
       "output_type": "stream",
       "stream": "stdout",
       "text": [
        "168 169 "
       ]
      },
      {
       "output_type": "stream",
       "stream": "stdout",
       "text": [
        "170 171 "
       ]
      },
      {
       "output_type": "stream",
       "stream": "stdout",
       "text": [
        "172 173 "
       ]
      },
      {
       "output_type": "stream",
       "stream": "stdout",
       "text": [
        "174 175 "
       ]
      },
      {
       "output_type": "stream",
       "stream": "stdout",
       "text": [
        "176 177 "
       ]
      },
      {
       "output_type": "stream",
       "stream": "stdout",
       "text": [
        "178 179 "
       ]
      },
      {
       "output_type": "stream",
       "stream": "stdout",
       "text": [
        "180 181 "
       ]
      },
      {
       "output_type": "stream",
       "stream": "stdout",
       "text": [
        "182 183 "
       ]
      },
      {
       "output_type": "stream",
       "stream": "stdout",
       "text": [
        "184 185 "
       ]
      },
      {
       "output_type": "stream",
       "stream": "stdout",
       "text": [
        "186 187 "
       ]
      },
      {
       "output_type": "stream",
       "stream": "stdout",
       "text": [
        "188 189 "
       ]
      },
      {
       "output_type": "stream",
       "stream": "stdout",
       "text": [
        "190 191 "
       ]
      },
      {
       "output_type": "stream",
       "stream": "stdout",
       "text": [
        "192 193 "
       ]
      },
      {
       "output_type": "stream",
       "stream": "stdout",
       "text": [
        "194 195 "
       ]
      },
      {
       "output_type": "stream",
       "stream": "stdout",
       "text": [
        "196 197 "
       ]
      },
      {
       "output_type": "stream",
       "stream": "stdout",
       "text": [
        "198 199 "
       ]
      },
      {
       "output_type": "stream",
       "stream": "stdout",
       "text": [
        "200 201 "
       ]
      },
      {
       "output_type": "stream",
       "stream": "stdout",
       "text": [
        "202 203 "
       ]
      },
      {
       "output_type": "stream",
       "stream": "stdout",
       "text": [
        "204 205 "
       ]
      },
      {
       "output_type": "stream",
       "stream": "stdout",
       "text": [
        "206 207 "
       ]
      },
      {
       "output_type": "stream",
       "stream": "stdout",
       "text": [
        "208 209 "
       ]
      },
      {
       "output_type": "stream",
       "stream": "stdout",
       "text": [
        "210 211 "
       ]
      },
      {
       "output_type": "stream",
       "stream": "stdout",
       "text": [
        "212 213 "
       ]
      },
      {
       "output_type": "stream",
       "stream": "stdout",
       "text": [
        "214 215 "
       ]
      },
      {
       "output_type": "stream",
       "stream": "stdout",
       "text": [
        "216 217 "
       ]
      },
      {
       "output_type": "stream",
       "stream": "stdout",
       "text": [
        "218 219 "
       ]
      },
      {
       "output_type": "stream",
       "stream": "stdout",
       "text": [
        "220 221 "
       ]
      },
      {
       "output_type": "stream",
       "stream": "stdout",
       "text": [
        "222 223 "
       ]
      },
      {
       "output_type": "stream",
       "stream": "stdout",
       "text": [
        "224 225 "
       ]
      },
      {
       "output_type": "stream",
       "stream": "stdout",
       "text": [
        "226 227 "
       ]
      },
      {
       "output_type": "stream",
       "stream": "stdout",
       "text": [
        "228 229 "
       ]
      },
      {
       "output_type": "stream",
       "stream": "stdout",
       "text": [
        "230 231 "
       ]
      },
      {
       "output_type": "stream",
       "stream": "stdout",
       "text": [
        "232 233 "
       ]
      },
      {
       "output_type": "stream",
       "stream": "stdout",
       "text": [
        "234 235 "
       ]
      },
      {
       "output_type": "stream",
       "stream": "stdout",
       "text": [
        "236 237 "
       ]
      },
      {
       "output_type": "stream",
       "stream": "stdout",
       "text": [
        "238 239 "
       ]
      },
      {
       "output_type": "stream",
       "stream": "stdout",
       "text": [
        "240 241 "
       ]
      },
      {
       "output_type": "stream",
       "stream": "stdout",
       "text": [
        "242 243 "
       ]
      },
      {
       "output_type": "stream",
       "stream": "stdout",
       "text": [
        "244 245 "
       ]
      },
      {
       "output_type": "stream",
       "stream": "stdout",
       "text": [
        "246 247 "
       ]
      },
      {
       "output_type": "stream",
       "stream": "stdout",
       "text": [
        "248 249 "
       ]
      },
      {
       "output_type": "stream",
       "stream": "stdout",
       "text": [
        "250 251 "
       ]
      },
      {
       "output_type": "stream",
       "stream": "stdout",
       "text": [
        "252 253 "
       ]
      },
      {
       "output_type": "stream",
       "stream": "stdout",
       "text": [
        "254 255 "
       ]
      },
      {
       "output_type": "stream",
       "stream": "stdout",
       "text": [
        "256 257 "
       ]
      },
      {
       "output_type": "stream",
       "stream": "stdout",
       "text": [
        "258 259 "
       ]
      },
      {
       "output_type": "stream",
       "stream": "stdout",
       "text": [
        "260 261 "
       ]
      },
      {
       "output_type": "stream",
       "stream": "stdout",
       "text": [
        "262 263 "
       ]
      },
      {
       "output_type": "stream",
       "stream": "stdout",
       "text": [
        "264 265 "
       ]
      },
      {
       "output_type": "stream",
       "stream": "stdout",
       "text": [
        "266 267 "
       ]
      },
      {
       "output_type": "stream",
       "stream": "stdout",
       "text": [
        "268 269 "
       ]
      },
      {
       "output_type": "stream",
       "stream": "stdout",
       "text": [
        "270 271 "
       ]
      },
      {
       "output_type": "stream",
       "stream": "stdout",
       "text": [
        "272 273 "
       ]
      },
      {
       "output_type": "stream",
       "stream": "stdout",
       "text": [
        "274 275 "
       ]
      },
      {
       "output_type": "stream",
       "stream": "stdout",
       "text": [
        "276 277 "
       ]
      },
      {
       "output_type": "stream",
       "stream": "stdout",
       "text": [
        "278 279 "
       ]
      },
      {
       "output_type": "stream",
       "stream": "stdout",
       "text": [
        "280 281 "
       ]
      },
      {
       "output_type": "stream",
       "stream": "stdout",
       "text": [
        "282 283 "
       ]
      },
      {
       "output_type": "stream",
       "stream": "stdout",
       "text": [
        "284 285 "
       ]
      },
      {
       "output_type": "stream",
       "stream": "stdout",
       "text": [
        "286 287 "
       ]
      },
      {
       "output_type": "stream",
       "stream": "stdout",
       "text": [
        "288 289 "
       ]
      },
      {
       "output_type": "stream",
       "stream": "stdout",
       "text": [
        "290 291 "
       ]
      },
      {
       "output_type": "stream",
       "stream": "stdout",
       "text": [
        "292 293 "
       ]
      },
      {
       "output_type": "stream",
       "stream": "stdout",
       "text": [
        "294 295 "
       ]
      },
      {
       "output_type": "stream",
       "stream": "stdout",
       "text": [
        "296 297 "
       ]
      },
      {
       "output_type": "stream",
       "stream": "stdout",
       "text": [
        "298 299 "
       ]
      },
      {
       "output_type": "stream",
       "stream": "stdout",
       "text": [
        "300 301 "
       ]
      },
      {
       "output_type": "stream",
       "stream": "stdout",
       "text": [
        "302 303 "
       ]
      },
      {
       "output_type": "stream",
       "stream": "stdout",
       "text": [
        "304 305 "
       ]
      },
      {
       "output_type": "stream",
       "stream": "stdout",
       "text": [
        "306 307 "
       ]
      },
      {
       "output_type": "stream",
       "stream": "stdout",
       "text": [
        "308 309 "
       ]
      },
      {
       "output_type": "stream",
       "stream": "stdout",
       "text": [
        "310 311 "
       ]
      },
      {
       "output_type": "stream",
       "stream": "stdout",
       "text": [
        "312 313 "
       ]
      },
      {
       "output_type": "stream",
       "stream": "stdout",
       "text": [
        "314 315 "
       ]
      },
      {
       "output_type": "stream",
       "stream": "stdout",
       "text": [
        "316 317 "
       ]
      },
      {
       "output_type": "stream",
       "stream": "stdout",
       "text": [
        "318 319 "
       ]
      },
      {
       "output_type": "stream",
       "stream": "stdout",
       "text": [
        "320 321 "
       ]
      },
      {
       "output_type": "stream",
       "stream": "stdout",
       "text": [
        "322 323 "
       ]
      },
      {
       "output_type": "stream",
       "stream": "stdout",
       "text": [
        "324 325 "
       ]
      },
      {
       "output_type": "stream",
       "stream": "stdout",
       "text": [
        "326 327 "
       ]
      },
      {
       "output_type": "stream",
       "stream": "stdout",
       "text": [
        "328 329 "
       ]
      },
      {
       "output_type": "stream",
       "stream": "stdout",
       "text": [
        "330 331 "
       ]
      },
      {
       "output_type": "stream",
       "stream": "stdout",
       "text": [
        "332 333 "
       ]
      },
      {
       "output_type": "stream",
       "stream": "stdout",
       "text": [
        "334 335 "
       ]
      },
      {
       "output_type": "stream",
       "stream": "stdout",
       "text": [
        "336 337 "
       ]
      },
      {
       "output_type": "stream",
       "stream": "stdout",
       "text": [
        "338 339 "
       ]
      },
      {
       "output_type": "stream",
       "stream": "stdout",
       "text": [
        "340 341 "
       ]
      },
      {
       "output_type": "stream",
       "stream": "stdout",
       "text": [
        "342 343 "
       ]
      },
      {
       "output_type": "stream",
       "stream": "stdout",
       "text": [
        "344 345 "
       ]
      },
      {
       "output_type": "stream",
       "stream": "stdout",
       "text": [
        "346 347 "
       ]
      },
      {
       "output_type": "stream",
       "stream": "stdout",
       "text": [
        "348 349 "
       ]
      },
      {
       "output_type": "stream",
       "stream": "stdout",
       "text": [
        "350 351 "
       ]
      },
      {
       "output_type": "stream",
       "stream": "stdout",
       "text": [
        "352 353 "
       ]
      },
      {
       "output_type": "stream",
       "stream": "stdout",
       "text": [
        "354 355 "
       ]
      },
      {
       "output_type": "stream",
       "stream": "stdout",
       "text": [
        "356 357 "
       ]
      },
      {
       "output_type": "stream",
       "stream": "stdout",
       "text": [
        "358 359 "
       ]
      },
      {
       "output_type": "stream",
       "stream": "stdout",
       "text": [
        "360 361 "
       ]
      },
      {
       "output_type": "stream",
       "stream": "stdout",
       "text": [
        "362 363 "
       ]
      },
      {
       "output_type": "stream",
       "stream": "stdout",
       "text": [
        "364 365 "
       ]
      },
      {
       "output_type": "stream",
       "stream": "stdout",
       "text": [
        "366 367 "
       ]
      },
      {
       "output_type": "stream",
       "stream": "stdout",
       "text": [
        "368 369 "
       ]
      },
      {
       "output_type": "stream",
       "stream": "stdout",
       "text": [
        "370 371 "
       ]
      },
      {
       "output_type": "stream",
       "stream": "stdout",
       "text": [
        "372 373 "
       ]
      },
      {
       "output_type": "stream",
       "stream": "stdout",
       "text": [
        "374 375 "
       ]
      },
      {
       "output_type": "stream",
       "stream": "stdout",
       "text": [
        "376 377 "
       ]
      },
      {
       "output_type": "stream",
       "stream": "stdout",
       "text": [
        "378 379 "
       ]
      },
      {
       "output_type": "stream",
       "stream": "stdout",
       "text": [
        "380 381 "
       ]
      },
      {
       "output_type": "stream",
       "stream": "stdout",
       "text": [
        "382 383 "
       ]
      },
      {
       "output_type": "stream",
       "stream": "stdout",
       "text": [
        "384 385 "
       ]
      },
      {
       "output_type": "stream",
       "stream": "stdout",
       "text": [
        "386 387 "
       ]
      },
      {
       "output_type": "stream",
       "stream": "stdout",
       "text": [
        "388 389 "
       ]
      },
      {
       "output_type": "stream",
       "stream": "stdout",
       "text": [
        "390 391 "
       ]
      },
      {
       "output_type": "stream",
       "stream": "stdout",
       "text": [
        "392 393 "
       ]
      },
      {
       "output_type": "stream",
       "stream": "stdout",
       "text": [
        "394 395 "
       ]
      },
      {
       "output_type": "stream",
       "stream": "stdout",
       "text": [
        "396 397 "
       ]
      },
      {
       "output_type": "stream",
       "stream": "stdout",
       "text": [
        "398 399 "
       ]
      },
      {
       "output_type": "stream",
       "stream": "stdout",
       "text": [
        "400 401 "
       ]
      },
      {
       "output_type": "stream",
       "stream": "stdout",
       "text": [
        "402 403 "
       ]
      },
      {
       "output_type": "stream",
       "stream": "stdout",
       "text": [
        "404 405 "
       ]
      },
      {
       "output_type": "stream",
       "stream": "stdout",
       "text": [
        "406 407 "
       ]
      },
      {
       "output_type": "stream",
       "stream": "stdout",
       "text": [
        "408 409 "
       ]
      },
      {
       "output_type": "stream",
       "stream": "stdout",
       "text": [
        "410 411 "
       ]
      },
      {
       "output_type": "stream",
       "stream": "stdout",
       "text": [
        "412 413 "
       ]
      },
      {
       "output_type": "stream",
       "stream": "stdout",
       "text": [
        "414 415 "
       ]
      },
      {
       "output_type": "stream",
       "stream": "stdout",
       "text": [
        "416 417 "
       ]
      },
      {
       "output_type": "stream",
       "stream": "stdout",
       "text": [
        "418 419 "
       ]
      },
      {
       "output_type": "stream",
       "stream": "stdout",
       "text": [
        "420 421 "
       ]
      },
      {
       "output_type": "stream",
       "stream": "stdout",
       "text": [
        "422 423 "
       ]
      },
      {
       "output_type": "stream",
       "stream": "stdout",
       "text": [
        "424 425 "
       ]
      },
      {
       "output_type": "stream",
       "stream": "stdout",
       "text": [
        "426 427 "
       ]
      },
      {
       "output_type": "stream",
       "stream": "stdout",
       "text": [
        "428 429 "
       ]
      },
      {
       "output_type": "stream",
       "stream": "stdout",
       "text": [
        "430 431 "
       ]
      },
      {
       "output_type": "stream",
       "stream": "stdout",
       "text": [
        "432 433 "
       ]
      },
      {
       "output_type": "stream",
       "stream": "stdout",
       "text": [
        "434 435 "
       ]
      },
      {
       "output_type": "stream",
       "stream": "stdout",
       "text": [
        "436 437 "
       ]
      },
      {
       "output_type": "stream",
       "stream": "stdout",
       "text": [
        "438 439 "
       ]
      },
      {
       "output_type": "stream",
       "stream": "stdout",
       "text": [
        "440 441 "
       ]
      },
      {
       "output_type": "stream",
       "stream": "stdout",
       "text": [
        "442 443 "
       ]
      },
      {
       "output_type": "stream",
       "stream": "stdout",
       "text": [
        "444 445 "
       ]
      },
      {
       "output_type": "stream",
       "stream": "stdout",
       "text": [
        "446 447 "
       ]
      },
      {
       "output_type": "stream",
       "stream": "stdout",
       "text": [
        "448 449 "
       ]
      },
      {
       "output_type": "stream",
       "stream": "stdout",
       "text": [
        "450 451 "
       ]
      },
      {
       "output_type": "stream",
       "stream": "stdout",
       "text": [
        "452 453 "
       ]
      },
      {
       "output_type": "stream",
       "stream": "stdout",
       "text": [
        "454 455 "
       ]
      },
      {
       "output_type": "stream",
       "stream": "stdout",
       "text": [
        "456 457 "
       ]
      },
      {
       "output_type": "stream",
       "stream": "stdout",
       "text": [
        "458 459 "
       ]
      },
      {
       "output_type": "stream",
       "stream": "stdout",
       "text": [
        "460 461 "
       ]
      },
      {
       "output_type": "stream",
       "stream": "stdout",
       "text": [
        "462 463 "
       ]
      },
      {
       "output_type": "stream",
       "stream": "stdout",
       "text": [
        "464 465 "
       ]
      },
      {
       "output_type": "stream",
       "stream": "stdout",
       "text": [
        "466 467 "
       ]
      },
      {
       "output_type": "stream",
       "stream": "stdout",
       "text": [
        "468 469 "
       ]
      },
      {
       "output_type": "stream",
       "stream": "stdout",
       "text": [
        "470 471 "
       ]
      },
      {
       "output_type": "stream",
       "stream": "stdout",
       "text": [
        "472 473 "
       ]
      },
      {
       "output_type": "stream",
       "stream": "stdout",
       "text": [
        "474 475 "
       ]
      },
      {
       "output_type": "stream",
       "stream": "stdout",
       "text": [
        "476 477 "
       ]
      },
      {
       "output_type": "stream",
       "stream": "stdout",
       "text": [
        "478 479 "
       ]
      },
      {
       "output_type": "stream",
       "stream": "stdout",
       "text": [
        "480 481 "
       ]
      },
      {
       "output_type": "stream",
       "stream": "stdout",
       "text": [
        "482 483 "
       ]
      },
      {
       "output_type": "stream",
       "stream": "stdout",
       "text": [
        "484 485 "
       ]
      },
      {
       "output_type": "stream",
       "stream": "stdout",
       "text": [
        "486 487 "
       ]
      },
      {
       "output_type": "stream",
       "stream": "stdout",
       "text": [
        "488 489 "
       ]
      },
      {
       "output_type": "stream",
       "stream": "stdout",
       "text": [
        "490 491 "
       ]
      },
      {
       "output_type": "stream",
       "stream": "stdout",
       "text": [
        "492 493 "
       ]
      },
      {
       "output_type": "stream",
       "stream": "stdout",
       "text": [
        "494 495 "
       ]
      },
      {
       "output_type": "stream",
       "stream": "stdout",
       "text": [
        "496 497 "
       ]
      },
      {
       "output_type": "stream",
       "stream": "stdout",
       "text": [
        "498 499 "
       ]
      },
      {
       "output_type": "stream",
       "stream": "stdout",
       "text": [
        "500 501 "
       ]
      },
      {
       "output_type": "stream",
       "stream": "stdout",
       "text": [
        "502 503 "
       ]
      },
      {
       "output_type": "stream",
       "stream": "stdout",
       "text": [
        "504 505 "
       ]
      },
      {
       "output_type": "stream",
       "stream": "stdout",
       "text": [
        "506 507 "
       ]
      },
      {
       "output_type": "stream",
       "stream": "stdout",
       "text": [
        "508 509 "
       ]
      },
      {
       "output_type": "stream",
       "stream": "stdout",
       "text": [
        "510 511 "
       ]
      },
      {
       "output_type": "stream",
       "stream": "stdout",
       "text": [
        "512 513 "
       ]
      },
      {
       "output_type": "stream",
       "stream": "stdout",
       "text": [
        "514 515 "
       ]
      },
      {
       "output_type": "stream",
       "stream": "stdout",
       "text": [
        "516 517 "
       ]
      },
      {
       "output_type": "stream",
       "stream": "stdout",
       "text": [
        "518 519 "
       ]
      },
      {
       "output_type": "stream",
       "stream": "stdout",
       "text": [
        "520 521 "
       ]
      },
      {
       "output_type": "stream",
       "stream": "stdout",
       "text": [
        "522 523 "
       ]
      },
      {
       "output_type": "stream",
       "stream": "stdout",
       "text": [
        "524 525 "
       ]
      },
      {
       "output_type": "stream",
       "stream": "stdout",
       "text": [
        "526 527 "
       ]
      },
      {
       "output_type": "stream",
       "stream": "stdout",
       "text": [
        "528 529 "
       ]
      },
      {
       "output_type": "stream",
       "stream": "stdout",
       "text": [
        "530 531 "
       ]
      },
      {
       "output_type": "stream",
       "stream": "stdout",
       "text": [
        "532 533 "
       ]
      },
      {
       "output_type": "stream",
       "stream": "stdout",
       "text": [
        "534 535 "
       ]
      },
      {
       "output_type": "stream",
       "stream": "stdout",
       "text": [
        "536 537 "
       ]
      },
      {
       "output_type": "stream",
       "stream": "stdout",
       "text": [
        "538 539 "
       ]
      },
      {
       "output_type": "stream",
       "stream": "stdout",
       "text": [
        "540 541 "
       ]
      },
      {
       "output_type": "stream",
       "stream": "stdout",
       "text": [
        "542 543 "
       ]
      },
      {
       "output_type": "stream",
       "stream": "stdout",
       "text": [
        "544 545 "
       ]
      },
      {
       "output_type": "stream",
       "stream": "stdout",
       "text": [
        "546 547 "
       ]
      },
      {
       "output_type": "stream",
       "stream": "stdout",
       "text": [
        "548 549 "
       ]
      },
      {
       "output_type": "stream",
       "stream": "stdout",
       "text": [
        "550 551 "
       ]
      },
      {
       "output_type": "stream",
       "stream": "stdout",
       "text": [
        "552 553 "
       ]
      },
      {
       "output_type": "stream",
       "stream": "stdout",
       "text": [
        "554 555 "
       ]
      },
      {
       "output_type": "stream",
       "stream": "stdout",
       "text": [
        "556 557 "
       ]
      },
      {
       "output_type": "stream",
       "stream": "stdout",
       "text": [
        "558 559 "
       ]
      },
      {
       "output_type": "stream",
       "stream": "stdout",
       "text": [
        "560 561 "
       ]
      },
      {
       "output_type": "stream",
       "stream": "stdout",
       "text": [
        "562 563 "
       ]
      },
      {
       "output_type": "stream",
       "stream": "stdout",
       "text": [
        "564 565 "
       ]
      },
      {
       "output_type": "stream",
       "stream": "stdout",
       "text": [
        "566 567 "
       ]
      },
      {
       "output_type": "stream",
       "stream": "stdout",
       "text": [
        "568 569 "
       ]
      },
      {
       "output_type": "stream",
       "stream": "stdout",
       "text": [
        "570 571 "
       ]
      },
      {
       "output_type": "stream",
       "stream": "stdout",
       "text": [
        "572 573 "
       ]
      },
      {
       "output_type": "stream",
       "stream": "stdout",
       "text": [
        "574 575 "
       ]
      },
      {
       "output_type": "stream",
       "stream": "stdout",
       "text": [
        "576 577 "
       ]
      },
      {
       "output_type": "stream",
       "stream": "stdout",
       "text": [
        "578 579 "
       ]
      },
      {
       "output_type": "stream",
       "stream": "stdout",
       "text": [
        "580 581 "
       ]
      },
      {
       "output_type": "stream",
       "stream": "stdout",
       "text": [
        "582 583 "
       ]
      },
      {
       "output_type": "stream",
       "stream": "stdout",
       "text": [
        "584 585 "
       ]
      },
      {
       "output_type": "stream",
       "stream": "stdout",
       "text": [
        "586 587 "
       ]
      },
      {
       "output_type": "stream",
       "stream": "stdout",
       "text": [
        "588 589 "
       ]
      },
      {
       "output_type": "stream",
       "stream": "stdout",
       "text": [
        "590 591 "
       ]
      },
      {
       "output_type": "stream",
       "stream": "stdout",
       "text": [
        "592 593 "
       ]
      },
      {
       "output_type": "stream",
       "stream": "stdout",
       "text": [
        "594 595 "
       ]
      },
      {
       "output_type": "stream",
       "stream": "stdout",
       "text": [
        "596 597 "
       ]
      },
      {
       "output_type": "stream",
       "stream": "stdout",
       "text": [
        "598 599 "
       ]
      },
      {
       "output_type": "stream",
       "stream": "stdout",
       "text": [
        "600 601 "
       ]
      },
      {
       "output_type": "stream",
       "stream": "stdout",
       "text": [
        "602 603 "
       ]
      },
      {
       "output_type": "stream",
       "stream": "stdout",
       "text": [
        "604 605 "
       ]
      },
      {
       "output_type": "stream",
       "stream": "stdout",
       "text": [
        "606 607 "
       ]
      },
      {
       "output_type": "stream",
       "stream": "stdout",
       "text": [
        "608 609 "
       ]
      },
      {
       "output_type": "stream",
       "stream": "stdout",
       "text": [
        "610 611 "
       ]
      },
      {
       "output_type": "stream",
       "stream": "stdout",
       "text": [
        "612 613 "
       ]
      },
      {
       "output_type": "stream",
       "stream": "stdout",
       "text": [
        "614 615 "
       ]
      },
      {
       "output_type": "stream",
       "stream": "stdout",
       "text": [
        "616 617 "
       ]
      },
      {
       "output_type": "stream",
       "stream": "stdout",
       "text": [
        "618 619 "
       ]
      },
      {
       "output_type": "stream",
       "stream": "stdout",
       "text": [
        "620 621 "
       ]
      },
      {
       "output_type": "stream",
       "stream": "stdout",
       "text": [
        "622 623 "
       ]
      },
      {
       "output_type": "stream",
       "stream": "stdout",
       "text": [
        "624 625 "
       ]
      },
      {
       "output_type": "stream",
       "stream": "stdout",
       "text": [
        "626 627 "
       ]
      },
      {
       "output_type": "stream",
       "stream": "stdout",
       "text": [
        "628 629 "
       ]
      },
      {
       "output_type": "stream",
       "stream": "stdout",
       "text": [
        "630 631 "
       ]
      },
      {
       "output_type": "stream",
       "stream": "stdout",
       "text": [
        "632 633 "
       ]
      },
      {
       "output_type": "stream",
       "stream": "stdout",
       "text": [
        "634 635 "
       ]
      },
      {
       "output_type": "stream",
       "stream": "stdout",
       "text": [
        "636 637 "
       ]
      },
      {
       "output_type": "stream",
       "stream": "stdout",
       "text": [
        "638 639 "
       ]
      },
      {
       "output_type": "stream",
       "stream": "stdout",
       "text": [
        "640 641 "
       ]
      },
      {
       "output_type": "stream",
       "stream": "stdout",
       "text": [
        "642 643 "
       ]
      },
      {
       "output_type": "stream",
       "stream": "stdout",
       "text": [
        "644 645 "
       ]
      },
      {
       "output_type": "stream",
       "stream": "stdout",
       "text": [
        "646 647 "
       ]
      },
      {
       "output_type": "stream",
       "stream": "stdout",
       "text": [
        "648 649 "
       ]
      },
      {
       "output_type": "stream",
       "stream": "stdout",
       "text": [
        "650 651 "
       ]
      },
      {
       "output_type": "stream",
       "stream": "stdout",
       "text": [
        "652 653 "
       ]
      },
      {
       "output_type": "stream",
       "stream": "stdout",
       "text": [
        "654 655 "
       ]
      },
      {
       "output_type": "stream",
       "stream": "stdout",
       "text": [
        "656 657 "
       ]
      },
      {
       "output_type": "stream",
       "stream": "stdout",
       "text": [
        "658 659 "
       ]
      },
      {
       "output_type": "stream",
       "stream": "stdout",
       "text": [
        "660 661 "
       ]
      },
      {
       "output_type": "stream",
       "stream": "stdout",
       "text": [
        "662 663 "
       ]
      },
      {
       "output_type": "stream",
       "stream": "stdout",
       "text": [
        "664 665 "
       ]
      },
      {
       "output_type": "stream",
       "stream": "stdout",
       "text": [
        "666 667 "
       ]
      },
      {
       "output_type": "stream",
       "stream": "stdout",
       "text": [
        "668 669 "
       ]
      },
      {
       "output_type": "stream",
       "stream": "stdout",
       "text": [
        "670 671 "
       ]
      },
      {
       "output_type": "stream",
       "stream": "stdout",
       "text": [
        "672 673 "
       ]
      },
      {
       "output_type": "stream",
       "stream": "stdout",
       "text": [
        "674 675 "
       ]
      },
      {
       "output_type": "stream",
       "stream": "stdout",
       "text": [
        "676 677 "
       ]
      },
      {
       "output_type": "stream",
       "stream": "stdout",
       "text": [
        "678 679 "
       ]
      },
      {
       "output_type": "stream",
       "stream": "stdout",
       "text": [
        "680 681 "
       ]
      },
      {
       "output_type": "stream",
       "stream": "stdout",
       "text": [
        "682 683 "
       ]
      },
      {
       "output_type": "stream",
       "stream": "stdout",
       "text": [
        "684 685 "
       ]
      },
      {
       "output_type": "stream",
       "stream": "stdout",
       "text": [
        "686 687 "
       ]
      },
      {
       "output_type": "stream",
       "stream": "stdout",
       "text": [
        "688 689 "
       ]
      },
      {
       "output_type": "stream",
       "stream": "stdout",
       "text": [
        "690 691 "
       ]
      },
      {
       "output_type": "stream",
       "stream": "stdout",
       "text": [
        "692 693 "
       ]
      },
      {
       "output_type": "stream",
       "stream": "stdout",
       "text": [
        "694 695 "
       ]
      },
      {
       "output_type": "stream",
       "stream": "stdout",
       "text": [
        "696 697 "
       ]
      },
      {
       "output_type": "stream",
       "stream": "stdout",
       "text": [
        "698 699 "
       ]
      },
      {
       "output_type": "stream",
       "stream": "stdout",
       "text": [
        "700 701 "
       ]
      },
      {
       "output_type": "stream",
       "stream": "stdout",
       "text": [
        "702 703 "
       ]
      },
      {
       "output_type": "stream",
       "stream": "stdout",
       "text": [
        "704 705 "
       ]
      },
      {
       "output_type": "stream",
       "stream": "stdout",
       "text": [
        "706 707 "
       ]
      },
      {
       "output_type": "stream",
       "stream": "stdout",
       "text": [
        "708 709 "
       ]
      },
      {
       "output_type": "stream",
       "stream": "stdout",
       "text": [
        "710 711 "
       ]
      },
      {
       "output_type": "stream",
       "stream": "stdout",
       "text": [
        "712 713 "
       ]
      },
      {
       "output_type": "stream",
       "stream": "stdout",
       "text": [
        "714 715 "
       ]
      },
      {
       "output_type": "stream",
       "stream": "stdout",
       "text": [
        "716 717 "
       ]
      },
      {
       "output_type": "stream",
       "stream": "stdout",
       "text": [
        "718 719 "
       ]
      },
      {
       "output_type": "stream",
       "stream": "stdout",
       "text": [
        "720 721 "
       ]
      },
      {
       "output_type": "stream",
       "stream": "stdout",
       "text": [
        "722 723 "
       ]
      },
      {
       "output_type": "stream",
       "stream": "stdout",
       "text": [
        "724 725 "
       ]
      },
      {
       "output_type": "stream",
       "stream": "stdout",
       "text": [
        "726 727 "
       ]
      },
      {
       "output_type": "stream",
       "stream": "stdout",
       "text": [
        "728 729 "
       ]
      },
      {
       "output_type": "stream",
       "stream": "stdout",
       "text": [
        "730 731 "
       ]
      },
      {
       "output_type": "stream",
       "stream": "stdout",
       "text": [
        "732 733 "
       ]
      },
      {
       "output_type": "stream",
       "stream": "stdout",
       "text": [
        "734 735 "
       ]
      },
      {
       "output_type": "stream",
       "stream": "stdout",
       "text": [
        "736 737 "
       ]
      },
      {
       "output_type": "stream",
       "stream": "stdout",
       "text": [
        "738 739 "
       ]
      },
      {
       "output_type": "stream",
       "stream": "stdout",
       "text": [
        "740 741 "
       ]
      },
      {
       "output_type": "stream",
       "stream": "stdout",
       "text": [
        "742 743 "
       ]
      },
      {
       "output_type": "stream",
       "stream": "stdout",
       "text": [
        "744 745 "
       ]
      },
      {
       "output_type": "stream",
       "stream": "stdout",
       "text": [
        "746 747 "
       ]
      },
      {
       "output_type": "stream",
       "stream": "stdout",
       "text": [
        "748 749 "
       ]
      },
      {
       "output_type": "stream",
       "stream": "stdout",
       "text": [
        "750 751 "
       ]
      },
      {
       "output_type": "stream",
       "stream": "stdout",
       "text": [
        "752 753 "
       ]
      },
      {
       "output_type": "stream",
       "stream": "stdout",
       "text": [
        "754 755 "
       ]
      },
      {
       "output_type": "stream",
       "stream": "stdout",
       "text": [
        "756 757 "
       ]
      },
      {
       "output_type": "stream",
       "stream": "stdout",
       "text": [
        "758 759 "
       ]
      },
      {
       "output_type": "stream",
       "stream": "stdout",
       "text": [
        "760 761 "
       ]
      },
      {
       "output_type": "stream",
       "stream": "stdout",
       "text": [
        "762 763 "
       ]
      },
      {
       "output_type": "stream",
       "stream": "stdout",
       "text": [
        "764 765 "
       ]
      },
      {
       "output_type": "stream",
       "stream": "stdout",
       "text": [
        "766 767 "
       ]
      },
      {
       "output_type": "stream",
       "stream": "stdout",
       "text": [
        "768 769 "
       ]
      },
      {
       "output_type": "stream",
       "stream": "stdout",
       "text": [
        "770 771 "
       ]
      },
      {
       "output_type": "stream",
       "stream": "stdout",
       "text": [
        "772 773 "
       ]
      },
      {
       "output_type": "stream",
       "stream": "stdout",
       "text": [
        "774 775 "
       ]
      },
      {
       "output_type": "stream",
       "stream": "stdout",
       "text": [
        "776 777 "
       ]
      },
      {
       "output_type": "stream",
       "stream": "stdout",
       "text": [
        "778 779 "
       ]
      },
      {
       "output_type": "stream",
       "stream": "stdout",
       "text": [
        "780 781 "
       ]
      },
      {
       "output_type": "stream",
       "stream": "stdout",
       "text": [
        "782 783 "
       ]
      },
      {
       "output_type": "stream",
       "stream": "stdout",
       "text": [
        "784 785 "
       ]
      },
      {
       "output_type": "stream",
       "stream": "stdout",
       "text": [
        "786 787 "
       ]
      },
      {
       "output_type": "stream",
       "stream": "stdout",
       "text": [
        "788 789 "
       ]
      },
      {
       "output_type": "stream",
       "stream": "stdout",
       "text": [
        "790 791 "
       ]
      },
      {
       "output_type": "stream",
       "stream": "stdout",
       "text": [
        "792 793 "
       ]
      },
      {
       "output_type": "stream",
       "stream": "stdout",
       "text": [
        "794 795 "
       ]
      },
      {
       "output_type": "stream",
       "stream": "stdout",
       "text": [
        "796 797 "
       ]
      },
      {
       "output_type": "stream",
       "stream": "stdout",
       "text": [
        "798 799 "
       ]
      },
      {
       "output_type": "stream",
       "stream": "stdout",
       "text": [
        "800 801 "
       ]
      },
      {
       "output_type": "stream",
       "stream": "stdout",
       "text": [
        "802 803 "
       ]
      },
      {
       "output_type": "stream",
       "stream": "stdout",
       "text": [
        "804 805 "
       ]
      },
      {
       "output_type": "stream",
       "stream": "stdout",
       "text": [
        "806 807 "
       ]
      },
      {
       "output_type": "stream",
       "stream": "stdout",
       "text": [
        "808 809 "
       ]
      },
      {
       "output_type": "stream",
       "stream": "stdout",
       "text": [
        "810 811 "
       ]
      },
      {
       "output_type": "stream",
       "stream": "stdout",
       "text": [
        "812 813 "
       ]
      },
      {
       "output_type": "stream",
       "stream": "stdout",
       "text": [
        "814 815 "
       ]
      },
      {
       "output_type": "stream",
       "stream": "stdout",
       "text": [
        "816 817 "
       ]
      },
      {
       "output_type": "stream",
       "stream": "stdout",
       "text": [
        "818 819 "
       ]
      },
      {
       "output_type": "stream",
       "stream": "stdout",
       "text": [
        "820 821 "
       ]
      },
      {
       "output_type": "stream",
       "stream": "stdout",
       "text": [
        "822 823 "
       ]
      },
      {
       "output_type": "stream",
       "stream": "stdout",
       "text": [
        "824 825 "
       ]
      },
      {
       "output_type": "stream",
       "stream": "stdout",
       "text": [
        "826 827 "
       ]
      },
      {
       "output_type": "stream",
       "stream": "stdout",
       "text": [
        "828 829 "
       ]
      },
      {
       "output_type": "stream",
       "stream": "stdout",
       "text": [
        "830 831 "
       ]
      },
      {
       "output_type": "stream",
       "stream": "stdout",
       "text": [
        "832 833 "
       ]
      },
      {
       "output_type": "stream",
       "stream": "stdout",
       "text": [
        "834 835 "
       ]
      },
      {
       "output_type": "stream",
       "stream": "stdout",
       "text": [
        "836 837 "
       ]
      },
      {
       "output_type": "stream",
       "stream": "stdout",
       "text": [
        "838 839 "
       ]
      },
      {
       "output_type": "stream",
       "stream": "stdout",
       "text": [
        "840 841 "
       ]
      },
      {
       "output_type": "stream",
       "stream": "stdout",
       "text": [
        "842 843 "
       ]
      },
      {
       "output_type": "stream",
       "stream": "stdout",
       "text": [
        "844 845 "
       ]
      },
      {
       "output_type": "stream",
       "stream": "stdout",
       "text": [
        "846 847 "
       ]
      },
      {
       "output_type": "stream",
       "stream": "stdout",
       "text": [
        "848 849 "
       ]
      },
      {
       "output_type": "stream",
       "stream": "stdout",
       "text": [
        "850 851 "
       ]
      },
      {
       "output_type": "stream",
       "stream": "stdout",
       "text": [
        "852 853 "
       ]
      },
      {
       "output_type": "stream",
       "stream": "stdout",
       "text": [
        "854 855 "
       ]
      },
      {
       "output_type": "stream",
       "stream": "stdout",
       "text": [
        "856 857 "
       ]
      },
      {
       "output_type": "stream",
       "stream": "stdout",
       "text": [
        "858 859 "
       ]
      },
      {
       "output_type": "stream",
       "stream": "stdout",
       "text": [
        "860 861 "
       ]
      },
      {
       "output_type": "stream",
       "stream": "stdout",
       "text": [
        "862 863 "
       ]
      },
      {
       "output_type": "stream",
       "stream": "stdout",
       "text": [
        "864 865 "
       ]
      },
      {
       "output_type": "stream",
       "stream": "stdout",
       "text": [
        "866 867 "
       ]
      },
      {
       "output_type": "stream",
       "stream": "stdout",
       "text": [
        "868 869 "
       ]
      },
      {
       "output_type": "stream",
       "stream": "stdout",
       "text": [
        "870 871 "
       ]
      },
      {
       "output_type": "stream",
       "stream": "stdout",
       "text": [
        "872 873 "
       ]
      },
      {
       "output_type": "stream",
       "stream": "stdout",
       "text": [
        "874 875 "
       ]
      },
      {
       "output_type": "stream",
       "stream": "stdout",
       "text": [
        "876 877 "
       ]
      },
      {
       "output_type": "stream",
       "stream": "stdout",
       "text": [
        "878 879 "
       ]
      },
      {
       "output_type": "stream",
       "stream": "stdout",
       "text": [
        "880 881 "
       ]
      },
      {
       "output_type": "stream",
       "stream": "stdout",
       "text": [
        "882 883 "
       ]
      },
      {
       "output_type": "stream",
       "stream": "stdout",
       "text": [
        "884 885 "
       ]
      },
      {
       "output_type": "stream",
       "stream": "stdout",
       "text": [
        "886 887 "
       ]
      },
      {
       "output_type": "stream",
       "stream": "stdout",
       "text": [
        "888 889 "
       ]
      },
      {
       "output_type": "stream",
       "stream": "stdout",
       "text": [
        "890 891 "
       ]
      },
      {
       "output_type": "stream",
       "stream": "stdout",
       "text": [
        "892 893 "
       ]
      },
      {
       "output_type": "stream",
       "stream": "stdout",
       "text": [
        "894 895 "
       ]
      },
      {
       "output_type": "stream",
       "stream": "stdout",
       "text": [
        "896 897 "
       ]
      },
      {
       "output_type": "stream",
       "stream": "stdout",
       "text": [
        "898 899 "
       ]
      },
      {
       "output_type": "stream",
       "stream": "stdout",
       "text": [
        "900 901 "
       ]
      },
      {
       "output_type": "stream",
       "stream": "stdout",
       "text": [
        "902 903 "
       ]
      },
      {
       "output_type": "stream",
       "stream": "stdout",
       "text": [
        "904 905 "
       ]
      },
      {
       "output_type": "stream",
       "stream": "stdout",
       "text": [
        "906 907 "
       ]
      },
      {
       "output_type": "stream",
       "stream": "stdout",
       "text": [
        "908 909 "
       ]
      },
      {
       "output_type": "stream",
       "stream": "stdout",
       "text": [
        "910 911 "
       ]
      },
      {
       "output_type": "stream",
       "stream": "stdout",
       "text": [
        "912 913 "
       ]
      },
      {
       "output_type": "stream",
       "stream": "stdout",
       "text": [
        "914 915 "
       ]
      },
      {
       "output_type": "stream",
       "stream": "stdout",
       "text": [
        "916 917 "
       ]
      },
      {
       "output_type": "stream",
       "stream": "stdout",
       "text": [
        "918 919 "
       ]
      },
      {
       "output_type": "stream",
       "stream": "stdout",
       "text": [
        "920 921 "
       ]
      },
      {
       "output_type": "stream",
       "stream": "stdout",
       "text": [
        "922 923 "
       ]
      },
      {
       "output_type": "stream",
       "stream": "stdout",
       "text": [
        "924 925 "
       ]
      },
      {
       "output_type": "stream",
       "stream": "stdout",
       "text": [
        "926 927 "
       ]
      },
      {
       "output_type": "stream",
       "stream": "stdout",
       "text": [
        "928 929 "
       ]
      },
      {
       "output_type": "stream",
       "stream": "stdout",
       "text": [
        "930 931 "
       ]
      },
      {
       "output_type": "stream",
       "stream": "stdout",
       "text": [
        "932 933 "
       ]
      },
      {
       "output_type": "stream",
       "stream": "stdout",
       "text": [
        "934 935 "
       ]
      },
      {
       "output_type": "stream",
       "stream": "stdout",
       "text": [
        "936 937 "
       ]
      },
      {
       "output_type": "stream",
       "stream": "stdout",
       "text": [
        "938 939 "
       ]
      },
      {
       "output_type": "stream",
       "stream": "stdout",
       "text": [
        "940 941 "
       ]
      },
      {
       "output_type": "stream",
       "stream": "stdout",
       "text": [
        "942 943 "
       ]
      },
      {
       "output_type": "stream",
       "stream": "stdout",
       "text": [
        "944 945 "
       ]
      },
      {
       "output_type": "stream",
       "stream": "stdout",
       "text": [
        "946 947 "
       ]
      },
      {
       "output_type": "stream",
       "stream": "stdout",
       "text": [
        "948 949 "
       ]
      },
      {
       "output_type": "stream",
       "stream": "stdout",
       "text": [
        "950 951 "
       ]
      },
      {
       "output_type": "stream",
       "stream": "stdout",
       "text": [
        "952 953 "
       ]
      },
      {
       "output_type": "stream",
       "stream": "stdout",
       "text": [
        "954 955 "
       ]
      },
      {
       "output_type": "stream",
       "stream": "stdout",
       "text": [
        "956 957 "
       ]
      },
      {
       "output_type": "stream",
       "stream": "stdout",
       "text": [
        "958 959 "
       ]
      },
      {
       "output_type": "stream",
       "stream": "stdout",
       "text": [
        "960 961 "
       ]
      },
      {
       "output_type": "stream",
       "stream": "stdout",
       "text": [
        "962 963 "
       ]
      },
      {
       "output_type": "stream",
       "stream": "stdout",
       "text": [
        "964 965 "
       ]
      },
      {
       "output_type": "stream",
       "stream": "stdout",
       "text": [
        "966 967 "
       ]
      },
      {
       "output_type": "stream",
       "stream": "stdout",
       "text": [
        "968 969 "
       ]
      },
      {
       "output_type": "stream",
       "stream": "stdout",
       "text": [
        "970 971 "
       ]
      },
      {
       "output_type": "stream",
       "stream": "stdout",
       "text": [
        "972 973 "
       ]
      },
      {
       "output_type": "stream",
       "stream": "stdout",
       "text": [
        "974 975 "
       ]
      },
      {
       "output_type": "stream",
       "stream": "stdout",
       "text": [
        "976 977 "
       ]
      },
      {
       "output_type": "stream",
       "stream": "stdout",
       "text": [
        "978 979 "
       ]
      },
      {
       "output_type": "stream",
       "stream": "stdout",
       "text": [
        "980 981 "
       ]
      },
      {
       "output_type": "stream",
       "stream": "stdout",
       "text": [
        "982 983 "
       ]
      },
      {
       "output_type": "stream",
       "stream": "stdout",
       "text": [
        "984 985 "
       ]
      },
      {
       "output_type": "stream",
       "stream": "stdout",
       "text": [
        "986 987 "
       ]
      },
      {
       "output_type": "stream",
       "stream": "stdout",
       "text": [
        "988 989 "
       ]
      },
      {
       "output_type": "stream",
       "stream": "stdout",
       "text": [
        "990 991 "
       ]
      },
      {
       "output_type": "stream",
       "stream": "stdout",
       "text": [
        "992 993 "
       ]
      },
      {
       "output_type": "stream",
       "stream": "stdout",
       "text": [
        "994 995 "
       ]
      },
      {
       "output_type": "stream",
       "stream": "stdout",
       "text": [
        "996 997 "
       ]
      },
      {
       "output_type": "stream",
       "stream": "stdout",
       "text": [
        "998 999\n"
       ]
      }
     ],
     "prompt_number": 33
    },
    {
     "cell_type": "markdown",
     "metadata": {},
     "source": [
      "#### Code 17-17 (kmeans.py)"
     ]
    },
    {
     "cell_type": "code",
     "collapsed": false,
     "input": [
      "# Code 17-17\n",
      "# Decide which cluster each vector belongs to\n",
      "def AssignMembership( clusts, data, floyd ):\n",
      "    mmb = []\n",
      "    NC = len( clusts )\n",
      "    ND = len( data )\n",
      "    for i in range( NC ):\n",
      "        mmb.append( [] )\n",
      "    # for each cluster - compute the distance to all data points\n",
      "    dists = zeros( (NC,ND), float )\n",
      "    for i in range( NC ):\n",
      "        # find the data point closest to the cluster\n",
      "        d = zeros( ND, float )\n",
      "        for j in range( ND ):\n",
      "            t = clusts[i] - data[j]\n",
      "            d[j] = sqrt( sum( t*t) )\n",
      "            mn = d.argmin() # index of closest point\n",
      "        mndist = d[mn] # distance from cluster to closest point\n",
      "        # use floyd distances\n",
      "        dists[i] = mndist + floyd[mn] # dists from cluster to all points\n",
      "    # for each data point - find the closest cluster and assign\n",
      "    for i in range( ND ):\n",
      "        # find the cluster with the min distance\n",
      "        mn = dists[:,i].argmin()\n",
      "        # assign\n",
      "        mmb[mn].append( i )\n",
      "    return mmb"
     ],
     "language": "python",
     "metadata": {},
     "outputs": [],
     "prompt_number": 34
    },
    {
     "cell_type": "heading",
     "level": 2,
     "metadata": {},
     "source": [
      "17.4 Dynamic k-Means"
     ]
    },
    {
     "cell_type": "markdown",
     "metadata": {},
     "source": [
      "- dynamic decision of K\n",
      "- dynamic combination and split of clusters"
     ]
    },
    {
     "cell_type": "markdown",
     "metadata": {},
     "source": [
      "#### Code 17-18: generation of 5 clusters"
     ]
    },
    {
     "cell_type": "code",
     "collapsed": false,
     "input": [
      "random.seed(234)\n",
      "data = CData(1000, 2, 0.3, 5)\n",
      "akando.PlotMultiple('plot.txt', data)\n",
      "#gnuplot>plot'plot.txt'\n",
      "plt.plot([p[0] for p in data], [p[1] for p in data], '.')\n"
     ],
     "language": "python",
     "metadata": {},
     "outputs": [
      {
       "metadata": {},
       "output_type": "pyout",
       "prompt_number": 36,
       "text": [
        "[<matplotlib.lines.Line2D at 0x87a66f0>]"
       ]
      },
      {
       "metadata": {},
       "output_type": "display_data",
       "png": "[encoded data removed]",
       "text": [
        "<matplotlib.figure.Figure at 0x88d6790>"
       ]
      }
     ],
     "prompt_number": 36
    },
    {
     "cell_type": "markdown",
     "metadata": {},
     "source": [
      "#### Code 17-19: normal k-means fail"
     ]
    },
    {
     "cell_type": "code",
     "collapsed": false,
     "input": [
      "cl = kmeans.Init2(5, data)\n",
      "clust, mmb = RunKMeans(data, 5)\n",
      "GnuPlotFiles(mmb, data, 'mp')\n",
      "#gnuplot>plot'mpO.txt', 'mpl.txt', 'mp2.txt', 'mp3.txt'\n"
     ],
     "language": "python",
     "metadata": {},
     "outputs": [
      {
       "output_type": "stream",
       "stream": "stdout",
       "text": [
        "0.732427681586\n",
        "0.366621123717\n",
        "0.113355120433"
       ]
      },
      {
       "output_type": "stream",
       "stream": "stdout",
       "text": [
        "\n",
        "0.00295167954512\n",
        "0.00275021500148"
       ]
      },
      {
       "output_type": "stream",
       "stream": "stdout",
       "text": [
        "\n",
        "0.0\n"
       ]
      }
     ],
     "prompt_number": 37
    },
    {
     "cell_type": "markdown",
     "metadata": {},
     "source": [
      "#### Code 17-20: analysis for split and merging of cluster\n",
      "- large intracluster variance\n",
      "    => split (1, 4)\n",
      "- small intercluster difference (cluster average vectors difference)\n",
      "    => merge (0, 2, 3)\n"
     ]
    },
    {
     "cell_type": "code",
     "collapsed": false,
     "input": [
      "for i in range(5):\n",
      "    print \"%.6f\" % kmeans.ClusterVar(data[mmb[i]])\n",
      "for i in range(5):\n",
      "    for j in range(i):\n",
      "        a = clust[i] - clust[j]\n",
      "        d = sqrt((a*a).sum())\n",
      "        print i, j, \"%.3f\" % d\n"
     ],
     "language": "python",
     "metadata": {},
     "outputs": [
      {
       "output_type": "stream",
       "stream": "stdout",
       "text": [
        "0.000749\n",
        "0.015767\n",
        "0.000763\n",
        "0.000518\n",
        "0.012182\n",
        "1 0 1.023\n",
        "2 0 0.080\n",
        "2 1 1.046\n",
        "3 0 0.083\n",
        "3 1 0.963\n",
        "3 2 0.084\n",
        "4 0 0.490\n",
        "4 1 0.567\n",
        "4 2 0.495\n",
        "4 3 0.417\n"
       ]
      }
     ],
     "prompt_number": 38
    },
    {
     "cell_type": "markdown",
     "metadata": {},
     "source": [
      "#### Code 17-21 (kmeans.py): manually split and merger clusters"
     ]
    },
    {
     "cell_type": "code",
     "collapsed": false,
     "input": [
      "# Code 17-21\n",
      "# split a cluster\n",
      "def Split( mmbi ):\n",
      "    # mmbi is a single mmb[i]\n",
      "    m1, m2 = [], []\n",
      "    N = len( mmbi )\n",
      "    for i in range( N ):\n",
      "        r = random.rand()\n",
      "        if r < 0.5:\n",
      "            m1.append( mmbi[i] )\n",
      "        else:\n",
      "            m2.append( mmbi[i] )\n",
      "    return m1, m2\n"
     ],
     "language": "python",
     "metadata": {},
     "outputs": [],
     "prompt_number": 39
    },
    {
     "cell_type": "code",
     "collapsed": false,
     "input": [
      "m1, m2 = kmeans.Split(mmb[1])\n",
      "m3, m4 = kmeans.Split(mmb[4])\n",
      "m5 = mmb[0] + mmb[2] + mmb[3]\n",
      "mmb = [m1, m2, m3, m4, m5 ]\n",
      "#GnuPlotFiles(mmb, data, 'mp')"
     ],
     "language": "python",
     "metadata": {},
     "outputs": [],
     "prompt_number": 40
    },
    {
     "cell_type": "markdown",
     "metadata": {},
     "source": [
      "#### Code 17-22 final run"
     ]
    },
    {
     "cell_type": "code",
     "collapsed": false,
     "input": [
      "c2 = kmeans.ClusterAverage(mmb, data)\n",
      "cl = c2 +0\n",
      "diff = 1\n",
      "while diff > 0:\n",
      "    mmb = kmeans.AssignMembership(cl, data)\n",
      "    c2 = kmeans.ClusterAverage(mmb, data)\n",
      "    diff = (abs(ravel(cl)-ravel(c2))).sum()\n",
      "    print diff\n",
      "    cl = c2 + 0\n",
      "GnuPlotFiles(mmb, data, 'mp')"
     ],
     "language": "python",
     "metadata": {},
     "outputs": [
      {
       "output_type": "stream",
       "stream": "stdout",
       "text": [
        "0.764564470925\n",
        "0.0\n"
       ]
      }
     ],
     "prompt_number": 41
    },
    {
     "cell_type": "heading",
     "level": 2,
     "metadata": {},
     "source": [
      "17.5 Comments on k-Means"
     ]
    },
    {
     "cell_type": "heading",
     "level": 2,
     "metadata": {},
     "source": [
      "17.6 Summary"
     ]
    }
   ],
   "metadata": {}
  }
 ]
}