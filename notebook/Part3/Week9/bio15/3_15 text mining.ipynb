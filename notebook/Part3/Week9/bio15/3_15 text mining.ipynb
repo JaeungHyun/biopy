{
 "metadata": {
  "name": "",
  "signature": "sha256:f3caf3dfc057d096112b6442de51e547337e30cf10c67cac804472228135742a"
 },
 "nbformat": 3,
 "nbformat_minor": 0,
 "worksheets": [
  {
   "cells": [
    {
     "cell_type": "code",
     "collapsed": false,
     "input": [
      "import miner"
     ],
     "language": "python",
     "metadata": {},
     "outputs": [],
     "prompt_number": 47
    },
    {
     "cell_type": "code",
     "collapsed": false,
     "input": [
      "dir(miner)"
     ],
     "language": "python",
     "metadata": {},
     "outputs": [
      {
       "metadata": {},
       "output_type": "pyout",
       "prompt_number": 48,
       "text": [
        "['AllWordDict',\n",
        " 'FiveLetterDict',\n",
        " 'GetList',\n",
        " 'GoodWords',\n",
        " 'Hoover',\n",
        " 'IndicWords',\n",
        " 'StemSlice',\n",
        " 'WordCountMat',\n",
        " 'WordFreqMat',\n",
        " 'WordProb',\n",
        " '__builtins__',\n",
        " '__doc__',\n",
        " '__file__',\n",
        " '__name__',\n",
        " '__package__',\n",
        " 'argsort',\n",
        " 'dot',\n",
        " 'greater',\n",
        " 'greater_equal',\n",
        " 'logical_and',\n",
        " 'nonzero',\n",
        " 'os',\n",
        " 'sqrt',\n",
        " 'take',\n",
        " 'zeros']"
       ]
      }
     ],
     "prompt_number": 48
    },
    {
     "cell_type": "code",
     "collapsed": false,
     "input": [
      "help(miner.Hoover)"
     ],
     "language": "python",
     "metadata": {},
     "outputs": [
      {
       "output_type": "stream",
       "stream": "stdout",
       "text": [
        "Help on function Hoover in module miner:\n",
        "\n",
        "Hoover(txt)\n",
        "    # Code 15-1\n",
        "    # read and clean\n",
        "\n"
       ]
      }
     ],
     "prompt_number": 40
    },
    {
     "cell_type": "code",
     "collapsed": false,
     "input": [
      "# Code 15-1\n",
      "# read and clean\n",
      "def Hoover( txt ):\n",
      "    # clean it up\n",
      "    work = txt.lower()\n",
      "    work = work.replace( '\\n',' ')\n",
      "    valid = [32] + range( 97,123)\n",
      "    for i in range( 256 ):\n",
      "        if i not in valid:\n",
      "            work = work.replace( chr(i), '' )\n",
      "    return work"
     ],
     "language": "python",
     "metadata": {},
     "outputs": [],
     "prompt_number": 49
    },
    {
     "cell_type": "code",
     "collapsed": false,
     "input": [
      "fp = file('data/pdf.txt')"
     ],
     "language": "python",
     "metadata": {},
     "outputs": [],
     "prompt_number": 50
    },
    {
     "cell_type": "code",
     "collapsed": false,
     "input": [
      "txt  = fp.read()"
     ],
     "language": "python",
     "metadata": {},
     "outputs": [],
     "prompt_number": 51
    },
    {
     "cell_type": "code",
     "collapsed": false,
     "input": [
      "fp"
     ],
     "language": "python",
     "metadata": {},
     "outputs": [
      {
       "metadata": {},
       "output_type": "pyout",
       "prompt_number": 52,
       "text": [
        "<open file 'data/pdf.txt', mode 'r' at 0x04DD3E38>"
       ]
      }
     ],
     "prompt_number": 52
    },
    {
     "cell_type": "code",
     "collapsed": false,
     "input": [
      "fp.close()"
     ],
     "language": "python",
     "metadata": {},
     "outputs": [],
     "prompt_number": 53
    },
    {
     "cell_type": "code",
     "collapsed": false,
     "input": [
      "fp\n"
     ],
     "language": "python",
     "metadata": {},
     "outputs": [
      {
       "metadata": {},
       "output_type": "pyout",
       "prompt_number": 54,
       "text": [
        "<closed file 'data/pdf.txt', mode 'r' at 0x04DD3E38>"
       ]
      }
     ],
     "prompt_number": 54
    },
    {
     "cell_type": "code",
     "collapsed": false,
     "input": [
      "#txt ##\uae38\uc5b4\uc11c \uc8fc\uc11d\ucc98\ub9ac"
     ],
     "language": "python",
     "metadata": {},
     "outputs": [],
     "prompt_number": 175
    },
    {
     "cell_type": "code",
     "collapsed": false,
     "input": [
      "clean = Hoover(txt)"
     ],
     "language": "python",
     "metadata": {},
     "outputs": [],
     "prompt_number": 55
    },
    {
     "cell_type": "code",
     "collapsed": false,
     "input": [
      "#clean   ##\uae38\uc5b4\uc11c\uc8fc\uc11d\ucc98\ub9ac"
     ],
     "language": "python",
     "metadata": {},
     "outputs": [],
     "prompt_number": 174
    },
    {
     "cell_type": "code",
     "collapsed": false,
     "input": [
      "# Code 15-2\n",
      "# make a dictionary\n",
      "def AllWordDict( txt ):\n",
      "    dct = { }\n",
      "    work = txt.split()\n",
      "    for i in range( len( work )):\n",
      "        wd = work[i]\n",
      "        if wd in dct:\n",
      "            dct[wd].append( i )\n",
      "        else:\n",
      "            dct[wd] = [i]\n",
      "    return dct"
     ],
     "language": "python",
     "metadata": {},
     "outputs": [],
     "prompt_number": 57
    },
    {
     "cell_type": "code",
     "collapsed": false,
     "input": [
      "#clean"
     ],
     "language": "python",
     "metadata": {},
     "outputs": [],
     "prompt_number": 25
    },
    {
     "cell_type": "code",
     "collapsed": false,
     "input": [
      "dct = AllWordDict(clean)"
     ],
     "language": "python",
     "metadata": {},
     "outputs": [],
     "prompt_number": 58
    },
    {
     "cell_type": "code",
     "collapsed": false,
     "input": [
      "len(dct)"
     ],
     "language": "python",
     "metadata": {},
     "outputs": [
      {
       "metadata": {},
       "output_type": "pyout",
       "prompt_number": 59,
       "text": [
        "745"
       ]
      }
     ],
     "prompt_number": 59
    },
    {
     "cell_type": "code",
     "collapsed": false,
     "input": [
      "#dct"
     ],
     "language": "python",
     "metadata": {},
     "outputs": [],
     "prompt_number": 562
    },
    {
     "cell_type": "code",
     "collapsed": false,
     "input": [
      "# \ub108\ubb34 \ub9ce\uc73c\ub2c8 100\uc790\ub9cc \uc904\uc5ec\uc11c \uc0b4\ud3b4\ubcf4\uc790"
     ],
     "language": "python",
     "metadata": {},
     "outputs": []
    },
    {
     "cell_type": "code",
     "collapsed": false,
     "input": [
      "clean[:100]"
     ],
     "language": "python",
     "metadata": {},
     "outputs": [
      {
       "metadata": {},
       "output_type": "pyout",
       "prompt_number": 23,
       "text": [
        "'image primitives jason m kinser bioinformatics and computational biology george mason university man'"
       ]
      }
     ],
     "prompt_number": 23
    },
    {
     "cell_type": "code",
     "collapsed": false,
     "input": [
      "# \ub108\ubb34 \ub9ce\uc73c\ub2c8 5\uc790 \uc774\uc0c1\ub418\ub294 \ub2e8\uc5b4\ub9cc \uc0b4\ud3b4\ubcf4\uc790"
     ],
     "language": "python",
     "metadata": {},
     "outputs": []
    },
    {
     "cell_type": "code",
     "collapsed": false,
     "input": [
      "# Code 15-4\n",
      "# build a dictionary with 5 lettter words\n",
      "def FiveLetterDict( txt ):\n",
      "    dct = { }\n",
      "    work = txt.split()\n",
      "    for i in range( len( work )):\n",
      "        wd = work[i]\n",
      "        if len(wd)>=5:\n",
      "            wd5 = wd[:5]\n",
      "            if wd5 in dct:\n",
      "                dct[wd5].append( i )\n",
      "            else:\n",
      "                dct[wd5] = [i]\n",
      "    return dct"
     ],
     "language": "python",
     "metadata": {},
     "outputs": [],
     "prompt_number": 60
    },
    {
     "cell_type": "code",
     "collapsed": false,
     "input": [
      "dct = FiveLetterDict(clean)"
     ],
     "language": "python",
     "metadata": {},
     "outputs": [],
     "prompt_number": 61
    },
    {
     "cell_type": "code",
     "collapsed": false,
     "input": [
      "len(dct)"
     ],
     "language": "python",
     "metadata": {},
     "outputs": [
      {
       "metadata": {},
       "output_type": "pyout",
       "prompt_number": 62,
       "text": [
        "425"
       ]
      }
     ],
     "prompt_number": 62
    },
    {
     "cell_type": "code",
     "collapsed": false,
     "input": [
      "# dct"
     ],
     "language": "python",
     "metadata": {},
     "outputs": [],
     "prompt_number": 79
    },
    {
     "cell_type": "code",
     "collapsed": false,
     "input": [
      "##########"
     ],
     "language": "python",
     "metadata": {},
     "outputs": [],
     "prompt_number": 36
    },
    {
     "cell_type": "code",
     "collapsed": false,
     "input": [
      "ps = PorterStemmer()"
     ],
     "language": "python",
     "metadata": {},
     "outputs": [
      {
       "ename": "NameError",
       "evalue": "name 'PorterStemmer' is not defined",
       "output_type": "pyerr",
       "traceback": [
        "\u001b[1;31m---------------------------------------------------------------------------\u001b[0m\n\u001b[1;31mNameError\u001b[0m                                 Traceback (most recent call last)",
        "\u001b[1;32m<ipython-input-14-2f3936466eec>\u001b[0m in \u001b[0;36m<module>\u001b[1;34m()\u001b[0m\n\u001b[1;32m----> 1\u001b[1;33m \u001b[0mps\u001b[0m \u001b[1;33m=\u001b[0m \u001b[0mPorterStemmer\u001b[0m\u001b[1;33m(\u001b[0m\u001b[1;33m)\u001b[0m\u001b[1;33m\u001b[0m\u001b[0m\n\u001b[0m",
        "\u001b[1;31mNameError\u001b[0m: name 'PorterStemmer' is not defined"
       ]
      }
     ],
     "prompt_number": 14
    },
    {
     "cell_type": "code",
     "collapsed": false,
     "input": [
      "# https://pypi.python.org/pypi/PorterStemmer\n",
      "#pip install http://pypi.python.org/packages/source/P/PorterStemmer/PorterStemmer-0.5.tar.gz"
     ],
     "language": "python",
     "metadata": {},
     "outputs": [],
     "prompt_number": 74
    },
    {
     "cell_type": "code",
     "collapsed": false,
     "input": [
      "ps = PorterStemmer()"
     ],
     "language": "python",
     "metadata": {},
     "outputs": [
      {
       "ename": "NameError",
       "evalue": "name 'PorterStemmer' is not defined",
       "output_type": "pyerr",
       "traceback": [
        "\u001b[1;31m---------------------------------------------------------------------------\u001b[0m\n\u001b[1;31mNameError\u001b[0m                                 Traceback (most recent call last)",
        "\u001b[1;32m<ipython-input-75-2f3936466eec>\u001b[0m in \u001b[0;36m<module>\u001b[1;34m()\u001b[0m\n\u001b[1;32m----> 1\u001b[1;33m \u001b[0mps\u001b[0m \u001b[1;33m=\u001b[0m \u001b[0mPorterStemmer\u001b[0m\u001b[1;33m(\u001b[0m\u001b[1;33m)\u001b[0m\u001b[1;33m\u001b[0m\u001b[0m\n\u001b[0m",
        "\u001b[1;31mNameError\u001b[0m: name 'PorterStemmer' is not defined"
       ]
      }
     ],
     "prompt_number": 75
    },
    {
     "cell_type": "code",
     "collapsed": false,
     "input": [
      "## \uc774\uac8c \uc544\ub2cc\uac00 \ubcf4\ub2e4 help \ub97c \ubcf4\uc790"
     ],
     "language": "python",
     "metadata": {},
     "outputs": [],
     "prompt_number": 9
    },
    {
     "cell_type": "code",
     "collapsed": false,
     "input": [
      "help('porterstemmer')"
     ],
     "language": "python",
     "metadata": {},
     "outputs": [
      {
       "output_type": "stream",
       "stream": "stdout",
       "text": [
        "Help on module porterstemmer:\n",
        "\n",
        "NAME\n",
        "    porterstemmer - Porter Stemmer Algorithm\n",
        "\n",
        "FILE\n",
        "    d:\\anaconda\\lib\\site-packages\\porterstemmer.pyd\n",
        "\n",
        "DESCRIPTION\n",
        "    \"The Porter stemming algorithm (or \u2018Porter stemmer\u2019) is a process for\n",
        "    removing the most common morphological and inflexional endings from words\n",
        "    in English. Its main use is as part of a term normalisation process\n",
        "    that is usually done when setting up Information Retrieval systems.\"\n",
        "      (http://tartarus.org/~martin/PorterStemmer/)\n",
        "    \n",
        "    >>> from porterstemmer import Stemmer\n",
        "    >>> stemmer = Stemmer()\n",
        "    >>> stemmer('acceptable')\n",
        "    'accept'\n",
        "    >>> stemmer(u'acceptable')\n",
        "    u'accept'\n",
        "\n",
        "CLASSES\n",
        "    __builtin__.object\n",
        "        Stemmer\n",
        "    \n",
        "    class Stemmer(__builtin__.object)\n",
        "     |  A Stemmer is a callable object without any methods or members.\n",
        "     |  Stemmer.__call__(self, word)\n",
        "     |  word must be a str or unicode object.\n",
        "     |  returns stemmed word as a str or unicode object.\n",
        "     |  \n",
        "     |  Methods defined here:\n",
        "     |  \n",
        "     |  __call__(...)\n",
        "     |      x.__call__(...) <==> x(...)\n",
        "     |  \n",
        "     |  ----------------------------------------------------------------------\n",
        "     |  Data and other attributes defined here:\n",
        "     |  \n",
        "     |  __new__ = <built-in method __new__ of type object>\n",
        "     |      T.__new__(S, ...) -> a new object with type S, a subtype of T\n",
        "\n",
        "\n"
       ]
      }
     ],
     "prompt_number": 8
    },
    {
     "cell_type": "code",
     "collapsed": false,
     "input": [
      "from porterstemmer import Stemmer"
     ],
     "language": "python",
     "metadata": {},
     "outputs": [],
     "prompt_number": 2
    },
    {
     "cell_type": "code",
     "collapsed": false,
     "input": [
      "stemmer = Stemmer()"
     ],
     "language": "python",
     "metadata": {},
     "outputs": [],
     "prompt_number": 3
    },
    {
     "cell_type": "code",
     "collapsed": false,
     "input": [
      "stemmer('acceptable')"
     ],
     "language": "python",
     "metadata": {},
     "outputs": [
      {
       "metadata": {},
       "output_type": "pyout",
       "prompt_number": 4,
       "text": [
        "'accept'"
       ]
      }
     ],
     "prompt_number": 4
    },
    {
     "cell_type": "code",
     "collapsed": false,
     "input": [
      "stemmer(u'acceptable')"
     ],
     "language": "python",
     "metadata": {},
     "outputs": [
      {
       "metadata": {},
       "output_type": "pyout",
       "prompt_number": 5,
       "text": [
        "u'accept'"
       ]
      }
     ],
     "prompt_number": 5
    },
    {
     "cell_type": "code",
     "collapsed": false,
     "input": [
      "## \uc6d0\ub798 code \ub97c \uace0\uce58\uae30 \uc2dc\uc791\ud568."
     ],
     "language": "python",
     "metadata": {},
     "outputs": []
    },
    {
     "cell_type": "code",
     "collapsed": false,
     "input": [
      "ps = Stemmer()"
     ],
     "language": "python",
     "metadata": {},
     "outputs": [],
     "prompt_number": 10
    },
    {
     "cell_type": "code",
     "collapsed": false,
     "input": [
      "w = 'running'"
     ],
     "language": "python",
     "metadata": {},
     "outputs": [],
     "prompt_number": 11
    },
    {
     "cell_type": "code",
     "collapsed": false,
     "input": [
      "dir(ps)"
     ],
     "language": "python",
     "metadata": {},
     "outputs": [
      {
       "metadata": {},
       "output_type": "pyout",
       "prompt_number": 12,
       "text": [
        "['__call__',\n",
        " '__class__',\n",
        " '__delattr__',\n",
        " '__doc__',\n",
        " '__format__',\n",
        " '__getattribute__',\n",
        " '__hash__',\n",
        " '__init__',\n",
        " '__new__',\n",
        " '__reduce__',\n",
        " '__reduce_ex__',\n",
        " '__repr__',\n",
        " '__setattr__',\n",
        " '__sizeof__',\n",
        " '__str__',\n",
        " '__subclasshook__']"
       ]
      }
     ],
     "prompt_number": 12
    },
    {
     "cell_type": "code",
     "collapsed": false,
     "input": [
      "ps.stem(w, 0, len(w) -1)"
     ],
     "language": "python",
     "metadata": {},
     "outputs": [
      {
       "ename": "AttributeError",
       "evalue": "'porterstemmer.Stemmer' object has no attribute 'stem'",
       "output_type": "pyerr",
       "traceback": [
        "\u001b[1;31m---------------------------------------------------------------------------\u001b[0m\n\u001b[1;31mAttributeError\u001b[0m                            Traceback (most recent call last)",
        "\u001b[1;32m<ipython-input-15-225328b2876d>\u001b[0m in \u001b[0;36m<module>\u001b[1;34m()\u001b[0m\n\u001b[1;32m----> 1\u001b[1;33m \u001b[0mps\u001b[0m\u001b[1;33m.\u001b[0m\u001b[0mstem\u001b[0m\u001b[1;33m(\u001b[0m\u001b[0mw\u001b[0m\u001b[1;33m,\u001b[0m \u001b[1;36m0\u001b[0m\u001b[1;33m,\u001b[0m \u001b[0mlen\u001b[0m\u001b[1;33m(\u001b[0m\u001b[0mw\u001b[0m\u001b[1;33m)\u001b[0m \u001b[1;33m-\u001b[0m\u001b[1;36m1\u001b[0m\u001b[1;33m)\u001b[0m\u001b[1;33m\u001b[0m\u001b[0m\n\u001b[0m",
        "\u001b[1;31mAttributeError\u001b[0m: 'porterstemmer.Stemmer' object has no attribute 'stem'"
       ]
      }
     ],
     "prompt_number": 15
    },
    {
     "cell_type": "code",
     "collapsed": false,
     "input": [
      "stemmer(w)"
     ],
     "language": "python",
     "metadata": {},
     "outputs": [
      {
       "metadata": {},
       "output_type": "pyout",
       "prompt_number": 18,
       "text": [
        "'run'"
       ]
      }
     ],
     "prompt_number": 18
    },
    {
     "cell_type": "code",
     "collapsed": false,
     "input": [
      "stemmer('gassing')"
     ],
     "language": "python",
     "metadata": {},
     "outputs": [
      {
       "metadata": {},
       "output_type": "pyout",
       "prompt_number": 19,
       "text": [
        "'gass'"
       ]
      }
     ],
     "prompt_number": 19
    },
    {
     "cell_type": "code",
     "collapsed": false,
     "input": [
      "stemmer('conditionner')"
     ],
     "language": "python",
     "metadata": {},
     "outputs": [
      {
       "metadata": {},
       "output_type": "pyout",
       "prompt_number": 20,
       "text": [
        "'conditionn'"
       ]
      }
     ],
     "prompt_number": 20
    },
    {
     "cell_type": "code",
     "collapsed": false,
     "input": [
      "stemmer('runnable')"
     ],
     "language": "python",
     "metadata": {},
     "outputs": [
      {
       "metadata": {},
       "output_type": "pyout",
       "prompt_number": 21,
       "text": [
        "'runnabl'"
       ]
      }
     ],
     "prompt_number": 21
    },
    {
     "cell_type": "code",
     "collapsed": false,
     "input": [
      "stemmer('doable')"
     ],
     "language": "python",
     "metadata": {},
     "outputs": [
      {
       "metadata": {},
       "output_type": "pyout",
       "prompt_number": 22,
       "text": [
        "'doabl'"
       ]
      }
     ],
     "prompt_number": 22
    },
    {
     "cell_type": "code",
     "collapsed": false,
     "input": [
      "stemmer('excitable')"
     ],
     "language": "python",
     "metadata": {},
     "outputs": [
      {
       "metadata": {},
       "output_type": "pyout",
       "prompt_number": 23,
       "text": [
        "'excit'"
       ]
      }
     ],
     "prompt_number": 23
    },
    {
     "cell_type": "code",
     "collapsed": false,
     "input": [
      "stemmer('atomizer')"
     ],
     "language": "python",
     "metadata": {},
     "outputs": [
      {
       "metadata": {},
       "output_type": "pyout",
       "prompt_number": 64,
       "text": [
        "'atom'"
       ]
      }
     ],
     "prompt_number": 64
    },
    {
     "cell_type": "code",
     "collapsed": false,
     "input": [
      "def StemSlice(wrd):\n",
      "\tsuff=['ing','ings','ed','ly'.'ance','ence','s','ize','le','er','ers'J\n",
      "\tnwrd=wrd#newword\n",
      "\tfor i in suff:\n",
      "\t\tif i==nwrd[-1en(i): J :\n",
      "\t\t\t#ahit\n",
      "\t\t\ttemp=nwrd[:-1en(i)-1J\n",
      "\t\tif len(temp)>=3:\n",
      "\t\t\tnwrd=temp\n",
      "\treturn nwrd"
     ],
     "language": "python",
     "metadata": {},
     "outputs": []
    },
    {
     "cell_type": "code",
     "collapsed": false,
     "input": [
      "# \ucc28\ub77c\ub9ac \ub0b4\uac00 \ud55c\ub2e4 \uc624\ud0c0\ub97c \uc218\uc815\ud574 \ubd05\uc2dc\ub2e4. \ud2c0\ub9b0\uacf3 6\uad70\ub370 \ucc3e\uae30."
     ],
     "language": "python",
     "metadata": {},
     "outputs": [],
     "prompt_number": 66
    },
    {
     "cell_type": "code",
     "collapsed": false,
     "input": [
      "def StemSlice(wrd):\n",
      "    suff=['ing','ings','ed','ly','ance','ence','s','ize','le','er','ers']\n",
      "    nwrd=wrd#newword\n",
      "    for i in suff:\n",
      "        if i==nwrd[-len(i): ]:\n",
      "            #ahit\n",
      "            temp=nwrd[:-len(i)-1]\n",
      "        if len(temp)>=3:\n",
      "            nwrd=temp\n",
      "    return nwrd"
     ],
     "language": "python",
     "metadata": {},
     "outputs": [],
     "prompt_number": 55
    },
    {
     "cell_type": "code",
     "collapsed": false,
     "input": [
      "StemSlice('lasing')"
     ],
     "language": "python",
     "metadata": {},
     "outputs": [
      {
       "metadata": {},
       "output_type": "pyout",
       "prompt_number": 56,
       "text": [
        "'lasing'"
       ]
      }
     ],
     "prompt_number": 56
    },
    {
     "cell_type": "code",
     "collapsed": false,
     "input": [
      "StemSlice('lasting')"
     ],
     "language": "python",
     "metadata": {},
     "outputs": [
      {
       "metadata": {},
       "output_type": "pyout",
       "prompt_number": 51,
       "text": [
        "'las'"
       ]
      }
     ],
     "prompt_number": 51
    },
    {
     "cell_type": "code",
     "collapsed": false,
     "input": [
      "StemSlice('running')"
     ],
     "language": "python",
     "metadata": {},
     "outputs": [
      {
       "metadata": {},
       "output_type": "pyout",
       "prompt_number": 40,
       "text": [
        "'run'"
       ]
      }
     ],
     "prompt_number": 40
    },
    {
     "cell_type": "code",
     "collapsed": false,
     "input": [
      "StemSlice('gassing')"
     ],
     "language": "python",
     "metadata": {},
     "outputs": [
      {
       "metadata": {},
       "output_type": "pyout",
       "prompt_number": 41,
       "text": [
        "'gas'"
       ]
      }
     ],
     "prompt_number": 41
    },
    {
     "cell_type": "code",
     "collapsed": false,
     "input": [
      "StemSlice('conditioning')"
     ],
     "language": "python",
     "metadata": {},
     "outputs": [
      {
       "metadata": {},
       "output_type": "pyout",
       "prompt_number": 42,
       "text": [
        "'conditio'"
       ]
      }
     ],
     "prompt_number": 42
    },
    {
     "cell_type": "code",
     "collapsed": false,
     "input": [
      "StemSlice('conditioner')"
     ],
     "language": "python",
     "metadata": {},
     "outputs": [
      {
       "ename": "UnboundLocalError",
       "evalue": "local variable 'temp' referenced before assignment",
       "output_type": "pyerr",
       "traceback": [
        "\u001b[1;31m---------------------------------------------------------------------------\u001b[0m\n\u001b[1;31mUnboundLocalError\u001b[0m                         Traceback (most recent call last)",
        "\u001b[1;32m<ipython-input-58-b70d9b5da2ed>\u001b[0m in \u001b[0;36m<module>\u001b[1;34m()\u001b[0m\n\u001b[1;32m----> 1\u001b[1;33m \u001b[0mStemSlice\u001b[0m\u001b[1;33m(\u001b[0m\u001b[1;34m'conditioner'\u001b[0m\u001b[1;33m)\u001b[0m\u001b[1;33m\u001b[0m\u001b[0m\n\u001b[0m",
        "\u001b[1;32m<ipython-input-57-9180eb84b502>\u001b[0m in \u001b[0;36mStemSlice\u001b[1;34m(wrd)\u001b[0m\n\u001b[0;32m      6\u001b[0m             \u001b[1;31m#ahit\u001b[0m\u001b[1;33m\u001b[0m\u001b[1;33m\u001b[0m\u001b[0m\n\u001b[0;32m      7\u001b[0m             \u001b[0mtemp\u001b[0m\u001b[1;33m=\u001b[0m\u001b[0mnwrd\u001b[0m\u001b[1;33m[\u001b[0m\u001b[1;33m:\u001b[0m\u001b[1;33m-\u001b[0m\u001b[0mlen\u001b[0m\u001b[1;33m(\u001b[0m\u001b[0mi\u001b[0m\u001b[1;33m)\u001b[0m\u001b[1;33m-\u001b[0m\u001b[1;36m1\u001b[0m\u001b[1;33m]\u001b[0m\u001b[1;33m\u001b[0m\u001b[0m\n\u001b[1;32m----> 8\u001b[1;33m         \u001b[1;32mif\u001b[0m \u001b[0mlen\u001b[0m\u001b[1;33m(\u001b[0m\u001b[0mtemp\u001b[0m\u001b[1;33m)\u001b[0m\u001b[1;33m>=\u001b[0m\u001b[1;36m3\u001b[0m\u001b[1;33m:\u001b[0m\u001b[1;33m\u001b[0m\u001b[0m\n\u001b[0m\u001b[0;32m      9\u001b[0m             \u001b[0mnwrd\u001b[0m\u001b[1;33m=\u001b[0m\u001b[0mtemp\u001b[0m\u001b[1;33m\u001b[0m\u001b[0m\n\u001b[0;32m     10\u001b[0m     \u001b[1;32mreturn\u001b[0m \u001b[0mnwrd\u001b[0m\u001b[1;33m\u001b[0m\u001b[0m\n",
        "\u001b[1;31mUnboundLocalError\u001b[0m: local variable 'temp' referenced before assignment"
       ]
      }
     ],
     "prompt_number": 58
    },
    {
     "cell_type": "code",
     "collapsed": false,
     "input": [
      "def StemSlice(wrd):\n",
      "    temp = '' # \ucd94\uac00  temp \ucd08\uae30\ud654\n",
      "    suff=['ing','ings','ed','ly','ance','ence','s','ize','le','er','ers']\n",
      "    nwrd=wrd#newword\n",
      "    for i in suff:\n",
      "        if i==nwrd[-len(i): ]:\n",
      "            #a hit\n",
      "            temp=nwrd[:-len(i)-1]\n",
      "        if len(temp)>=3:\n",
      "            nwrd=temp\n",
      "    return nwrd"
     ],
     "language": "python",
     "metadata": {},
     "outputs": [],
     "prompt_number": 63
    },
    {
     "cell_type": "code",
     "collapsed": false,
     "input": [
      "StemSlice('conditioner')"
     ],
     "language": "python",
     "metadata": {},
     "outputs": [
      {
       "metadata": {},
       "output_type": "pyout",
       "prompt_number": 61,
       "text": [
        "'conditio'"
       ]
      }
     ],
     "prompt_number": 61
    },
    {
     "cell_type": "code",
     "collapsed": false,
     "input": [
      "StemSlice('runnable')"
     ],
     "language": "python",
     "metadata": {},
     "outputs": [
      {
       "metadata": {},
       "output_type": "pyout",
       "prompt_number": 62,
       "text": [
        "'runna'"
       ]
      }
     ],
     "prompt_number": 62
    },
    {
     "cell_type": "code",
     "collapsed": false,
     "input": [
      "StemSlice('doable')"
     ],
     "language": "python",
     "metadata": {},
     "outputs": [
      {
       "metadata": {},
       "output_type": "pyout",
       "prompt_number": 63,
       "text": [
        "'doa'"
       ]
      }
     ],
     "prompt_number": 63
    },
    {
     "cell_type": "code",
     "collapsed": false,
     "input": [
      "StemSlice('atomizer')"
     ],
     "language": "python",
     "metadata": {},
     "outputs": [
      {
       "metadata": {},
       "output_type": "pyout",
       "prompt_number": 54,
       "text": [
        "'atomi'"
       ]
      }
     ],
     "prompt_number": 54
    },
    {
     "cell_type": "code",
     "collapsed": false,
     "input": [
      "################################"
     ],
     "language": "python",
     "metadata": {},
     "outputs": [],
     "prompt_number": 82
    },
    {
     "cell_type": "code",
     "collapsed": false,
     "input": [
      "import os"
     ],
     "language": "python",
     "metadata": {},
     "outputs": [],
     "prompt_number": 64
    },
    {
     "cell_type": "code",
     "collapsed": false,
     "input": [
      "nms = os.listdir('data/10docs')"
     ],
     "language": "python",
     "metadata": {},
     "outputs": [],
     "prompt_number": 65
    },
    {
     "cell_type": "code",
     "collapsed": false,
     "input": [
      "dcts = []"
     ],
     "language": "python",
     "metadata": {},
     "outputs": [],
     "prompt_number": 66
    },
    {
     "cell_type": "code",
     "collapsed": false,
     "input": [
      "for i in  nms :\n",
      "    if '.txt' in i :\n",
      "        txt = file('data/10docs/' + i).read()\n",
      "        clean =  Hoover(txt)\n",
      "        dcts.append(FiveLetterDict(clean))"
     ],
     "language": "python",
     "metadata": {},
     "outputs": [],
     "prompt_number": 67
    },
    {
     "cell_type": "code",
     "collapsed": false,
     "input": [
      "#dcts   ##\uae38\uc5b4\uc11c \uc8fc\uc11d\ucc98\ub9ac"
     ],
     "language": "python",
     "metadata": {},
     "outputs": [],
     "prompt_number": 553
    },
    {
     "cell_type": "code",
     "collapsed": false,
     "input": [
      "#################"
     ],
     "language": "python",
     "metadata": {},
     "outputs": [],
     "prompt_number": 154
    },
    {
     "cell_type": "code",
     "collapsed": false,
     "input": [
      "len(dcts)"
     ],
     "language": "python",
     "metadata": {},
     "outputs": [
      {
       "metadata": {},
       "output_type": "pyout",
       "prompt_number": 136,
       "text": [
        "10"
       ]
      }
     ],
     "prompt_number": 136
    },
    {
     "cell_type": "code",
     "collapsed": false,
     "input": [
      "## dcts  #5000\uc5ec\uac1c"
     ],
     "language": "python",
     "metadata": {},
     "outputs": [],
     "prompt_number": 135
    },
    {
     "cell_type": "code",
     "collapsed": false,
     "input": [
      "dcts[0]"
     ],
     "language": "python",
     "metadata": {},
     "outputs": [
      {
       "metadata": {},
       "output_type": "pyout",
       "prompt_number": 69,
       "text": [
        "{'aarhu': [37, 41, 6061],\n",
        " 'abili': [3059],\n",
        " 'about': [5016, 5431],\n",
        " 'above': [715, 2780, 5406],\n",
        " 'abril': [4265, 5595],\n",
        " 'absol': [4716],\n",
        " 'abstr': [73],\n",
        " 'accep': [70, 1445],\n",
        " 'accor': [581, 1265, 1288, 1296, 1464, 1520, 2199, 4089, 4246],\n",
        " 'accur': [3305, 3597, 3635, 4131, 4269, 4317, 4455, 4500, 4720],\n",
        " 'acids': [5700, 5895, 6082],\n",
        " 'ackno': [5482],\n",
        " 'acros': [1631],\n",
        " 'addit': [4879],\n",
        " 'addre': [327],\n",
        " 'adiff': [5246],\n",
        " 'adopt': [778],\n",
        " 'advan': [4762],\n",
        " 'affec': [2904],\n",
        " 'again': [639, 657, 1478, 2987, 3648, 3733, 5152],\n",
        " 'agene': [486],\n",
        " 'agrow': [75],\n",
        " 'ahypo': [1069],\n",
        " 'alexa': [5980],\n",
        " 'algor': [205, 2186, 2381, 2715, 2878, 2890, 6112],\n",
        " 'align': [189,\n",
        "  214,\n",
        "  367,\n",
        "  448,\n",
        "  461,\n",
        "  513,\n",
        "  534,\n",
        "  543,\n",
        "  573,\n",
        "  647,\n",
        "  683,\n",
        "  839,\n",
        "  918,\n",
        "  959,\n",
        "  971,\n",
        "  1147,\n",
        "  1449,\n",
        "  1506,\n",
        "  1597,\n",
        "  1704,\n",
        "  1738,\n",
        "  1763,\n",
        "  2014,\n",
        "  2019,\n",
        "  2043,\n",
        "  2205,\n",
        "  2219,\n",
        "  2610,\n",
        "  2623,\n",
        "  2677,\n",
        "  2709,\n",
        "  2747,\n",
        "  2888,\n",
        "  2896,\n",
        "  2938,\n",
        "  2956,\n",
        "  2986,\n",
        "  2996,\n",
        "  3040,\n",
        "  3118,\n",
        "  3136,\n",
        "  3206,\n",
        "  3250,\n",
        "  3395,\n",
        "  3570,\n",
        "  3604,\n",
        "  3721,\n",
        "  3740,\n",
        "  3759,\n",
        "  3845,\n",
        "  4155,\n",
        "  4204,\n",
        "  4208,\n",
        "  4212,\n",
        "  4332,\n",
        "  4379,\n",
        "  4403,\n",
        "  4422,\n",
        "  4478,\n",
        "  4516,\n",
        "  4524,\n",
        "  4563,\n",
        "  4713,\n",
        "  5096,\n",
        "  5159,\n",
        "  5164,\n",
        "  5187,\n",
        "  5194,\n",
        "  5206,\n",
        "  5218,\n",
        "  5245,\n",
        "  5255,\n",
        "  5288,\n",
        "  5332,\n",
        "  5384,\n",
        "  5391,\n",
        "  5403,\n",
        "  5727,\n",
        "  5991,\n",
        "  6094],\n",
        " 'alike': [3909],\n",
        " 'allow': [302, 1348],\n",
        " 'alone': [4964],\n",
        " 'along': [969, 1726, 2665],\n",
        " 'alpha': [1211, 1235, 1263, 1687, 1701, 2209, 2238, 2262, 2485],\n",
        " 'amino': [588, 1040],\n",
        " 'among': [5065],\n",
        " 'amoun': [3575],\n",
        " 'amste': [5863],\n",
        " 'analy': [314, 376, 769, 814, 4868, 5464, 5481, 5632, 5693, 5749, 5944, 6120],\n",
        " 'ander': [5485],\n",
        " 'annot': [116, 366, 450, 545, 2787, 3080, 3112, 3174, 3181, 4234, 5257, 5601],\n",
        " 'anony': [5547],\n",
        " 'anoth': [1952],\n",
        " 'appli': [222, 765, 1169, 5495, 5634, 5829, 5983, 6044],\n",
        " 'apply': [2558],\n",
        " 'appro': [881, 2597, 2776, 3278, 4637, 4920, 5266, 5444, 5649, 5714],\n",
        " 'aprob': [132],\n",
        " 'archi': [1365, 3227],\n",
        " 'areas': [5477],\n",
        " 'argma': [2734, 2740, 2863, 2868],\n",
        " 'assem': [5648],\n",
        " 'asses': [5965],\n",
        " 'assum': [2168, 5300],\n",
        " 'asymp': [6109],\n",
        " 'athlo': [3266],\n",
        " 'attem': [4617],\n",
        " 'attra': [4980],\n",
        " 'attri': [3838],\n",
        " 'autom': [5872],\n",
        " 'avail': [252, 254, 723, 4642, 4678, 4846, 5131],\n",
        " 'avera': [2599],\n",
        " 'avoid': [2968, 4560],\n",
        " 'bafna': [521, 5270, 5603],\n",
        " 'based': [166, 680, 1175, 3171, 3605, 4538, 4812],\n",
        " 'batzo': [476, 570, 3075, 3123, 4283, 4293, 5620],\n",
        " 'baumw': [2396, 2437, 2469, 2507, 2554, 2629, 3185],\n",
        " 'becau': [3199],\n",
        " 'becom': [2764, 2809, 3541, 4450, 4609],\n",
        " 'begun': [300],\n",
        " 'being': [154, 5084],\n",
        " 'belon': [3552],\n",
        " 'below': [713, 1932, 4795],\n",
        " 'benef': [230, 841, 3271, 3316, 4633],\n",
        " 'berge': [5623],\n",
        " 'bette': [4482, 5141],\n",
        " 'betwe': [86,\n",
        "  294,\n",
        "  385,\n",
        "  528,\n",
        "  984,\n",
        "  2009,\n",
        "  2364,\n",
        "  3329,\n",
        "  3339,\n",
        "  3372,\n",
        "  3421,\n",
        "  3792,\n",
        "  3844,\n",
        "  4043,\n",
        "  4106,\n",
        "  4238,\n",
        "  5179],\n",
        " 'bigge': [4493],\n",
        " 'bindi': [4779],\n",
        " 'bioin': [2, 22, 625, 5592, 5602, 5803, 5816],\n",
        " 'biolo': [33, 767, 1110, 1168, 5479, 5691, 5848, 5860, 6012],\n",
        " 'bjarn': [5530],\n",
        " 'blast': [614],\n",
        " 'blayo': [560, 5273, 5640],\n",
        " 'bogus': [4096, 5935],\n",
        " 'botto': [4218],\n",
        " 'bound': [2771, 4359, 4569, 6103],\n",
        " 'branc': [1728, 1853, 1972, 2001, 2122, 2769, 2921],\n",
        " 'brent': [5808],\n",
        " 'build': [38, 53],\n",
        " 'burge': [504, 601, 796, 1669, 4288, 5651],\n",
        " 'burse': [3311, 5666],\n",
        " 'butis': [2470],\n",
        " 'buttr': [4995],\n",
        " 'calcu': [1797, 1838, 2078, 2117, 2138, 2174, 2701, 2907, 2909],\n",
        " 'calle': [147, 485, 4902],\n",
        " 'cambr': [5701, 5704, 6031, 6034],\n",
        " 'canno': [4907],\n",
        " 'capab': [1202, 4874],\n",
        " 'cause': [4442],\n",
        " 'cawle': [5982],\n",
        " 'ccode': [5514],\n",
        " 'cente': [24],\n",
        " 'chain': [752, 803, 1123, 1918],\n",
        " 'chall': [5202],\n",
        " 'chang': [3535, 3662, 3976],\n",
        " 'chapt': [5861],\n",
        " 'chara': [405, 1694, 1926, 1950, 2056, 2081, 2125, 2155, 5279],\n",
        " 'cheap': [4335],\n",
        " 'chimp': [1745, 1813],\n",
        " 'choos': [1284],\n",
        " 'chose': [1463, 1483],\n",
        " 'chris': [5532],\n",
        " 'churc': [771, 5676],\n",
        " 'circa': [4511],\n",
        " 'class': [679, 688, 1025],\n",
        " 'clear': [4384],\n",
        " 'clock': [5782],\n",
        " 'close': [290, 1091, 5111],\n",
        " 'codes': [6106],\n",
        " 'codin': [408, 2365, 2963, 3670, 5024, 6075],\n",
        " 'codon': [1104,\n",
        "  1390,\n",
        "  1393,\n",
        "  1395,\n",
        "  1398,\n",
        "  1415,\n",
        "  1476,\n",
        "  1481,\n",
        "  1518,\n",
        "  1559,\n",
        "  1567,\n",
        "  1582,\n",
        "  1612,\n",
        "  1641,\n",
        "  1793,\n",
        "  2250,\n",
        "  2254,\n",
        "  2259,\n",
        "  2283,\n",
        "  2324,\n",
        "  2327,\n",
        "  2343,\n",
        "  2352,\n",
        "  2491,\n",
        "  2516,\n",
        "  3661,\n",
        "  3955,\n",
        "  3983,\n",
        "  4001,\n",
        "  4049,\n",
        "  5757,\n",
        "  6067],\n",
        " 'coeff': [4302],\n",
        " 'colin': [574, 5119, 5302],\n",
        " 'colle': [6128],\n",
        " 'color': [4245],\n",
        " 'colum': [1507,\n",
        "  1512,\n",
        "  1598,\n",
        "  1705,\n",
        "  1764,\n",
        "  1772,\n",
        "  1804,\n",
        "  1809,\n",
        "  1818,\n",
        "  1845,\n",
        "  1867,\n",
        "  2020,\n",
        "  2044,\n",
        "  2206,\n",
        "  2241,\n",
        "  2265,\n",
        "  2997,\n",
        "  3846,\n",
        "  5066],\n",
        " 'combi': [453, 493, 1126, 1411, 2394, 5190, 5260, 5408, 5460],\n",
        " 'comme': [5554],\n",
        " 'commo': [4606, 5197],\n",
        " 'commu': [336, 783],\n",
        " 'compa': [124,\n",
        "  304,\n",
        "  610,\n",
        "  3332,\n",
        "  3832,\n",
        "  3991,\n",
        "  4528,\n",
        "  4735,\n",
        "  4849,\n",
        "  4859,\n",
        "  5631,\n",
        "  5747],\n",
        " 'compe': [867, 4651],\n",
        " 'compi': [3078],\n",
        " 'compl': [202, 278, 3096, 4020, 5306, 5373, 5656],\n",
        " 'compo': [155, 607, 1220],\n",
        " 'compu': [2579, 3268, 5060, 5856, 6011],\n",
        " 'conce': [4906],\n",
        " 'condi': [992, 4887, 4916],\n",
        " 'confe': [6009],\n",
        " 'confi': [2145, 3745],\n",
        " 'conju': [2659],\n",
        " 'conne': [1789, 1893],\n",
        " 'conse': [467, 518, 3525, 3854, 3917, 4072, 4588, 5177, 5607],\n",
        " 'consi': [473, 1143, 1881, 1992, 2882, 2898, 3083, 3248, 4481],\n",
        " 'const': [820, 2587, 3454, 3499, 5118, 5155, 5175, 5204, 5405],\n",
        " 'conta': [262, 895, 1039, 1676, 1868, 2998, 3094, 3101],\n",
        " 'conte': [1059, 1062, 5798],\n",
        " 'conti': [750, 801, 1121, 1916],\n",
        " 'contr': [3923],\n",
        " 'conve': [3307, 4692, 5013],\n",
        " 'convo': [6105],\n",
        " 'corre': [199, 324, 365, 391, 887, 1305, 1331, 2021, 3064, 3549, 4301, 5230],\n",
        " 'costl': [2580],\n",
        " 'could': [2113, 2465, 5395],\n",
        " 'counc': [5572],\n",
        " 'count': [2551, 2615, 2812],\n",
        " 'crite': [586],\n",
        " 'cross': [3161],\n",
        " 'curre': [5083],\n",
        " 'danis': [5568, 6057],\n",
        " 'datab': [356, 360, 643, 5133, 5154, 5867],\n",
        " 'datin': [5773],\n",
        " 'decod': [6111],\n",
        " 'defin': [5397],\n",
        " 'demon': [236, 4687],\n",
        " 'denma': [43, 6063],\n",
        " 'denot': [1391, 1401, 1407, 1424, 1437, 2212],\n",
        " 'depar': [25, 45],\n",
        " 'depen': [3325, 4938, 5064],\n",
        " 'deriv': [1980],\n",
        " 'descr': [482, 1172, 2358],\n",
        " 'desig': [141],\n",
        " 'deskt': [3267],\n",
        " 'detec': [4400, 5874],\n",
        " 'devel': [4914],\n",
        " 'devia': [698],\n",
        " 'diago': [5517],\n",
        " 'diffe': [82,\n",
        "  105,\n",
        "  386,\n",
        "  411,\n",
        "  669,\n",
        "  759,\n",
        "  985,\n",
        "  2360,\n",
        "  3055,\n",
        "  3335,\n",
        "  3368,\n",
        "  3483,\n",
        "  4042,\n",
        "  4105,\n",
        "  5127,\n",
        "  5283,\n",
        "  5412],\n",
        " 'diffi': [5116],\n",
        " 'direc': [437, 2557, 2660, 2831],\n",
        " 'disca': [3107],\n",
        " 'discr': [1921, 4376],\n",
        " 'discu': [4684, 5504, 5542],\n",
        " 'disju': [4012],\n",
        " 'disti': [4041],\n",
        " 'distr': [1241,\n",
        "  1247,\n",
        "  1268,\n",
        "  1469,\n",
        "  1526,\n",
        "  1690,\n",
        "  1709,\n",
        "  1903,\n",
        "  2164,\n",
        "  2302,\n",
        "  2463,\n",
        "  2495,\n",
        "  3665,\n",
        "  4183,\n",
        "  4189,\n",
        "  4786,\n",
        "  4973],\n",
        " 'distu': [5223],\n",
        " 'diver': [101, 281, 382, 392, 474, 3328, 3347, 3841, 3912, 4366],\n",
        " 'divid': [2195, 2418, 3153, 3986],\n",
        " 'doing': [5331],\n",
        " 'donor': [1432],\n",
        " 'downl': [618, 1353, 2093, 2834, 3611, 4192, 4763, 5573, 6130],\n",
        " 'drawb': [5297],\n",
        " 'droso': [5876],\n",
        " 'dsrat': [711,\n",
        "  2347,\n",
        "  3379,\n",
        "  3444,\n",
        "  3448,\n",
        "  3471,\n",
        "  3503,\n",
        "  3520,\n",
        "  3629,\n",
        "  3653,\n",
        "  3774,\n",
        "  3881,\n",
        "  3899],\n",
        " 'duand': [5806],\n",
        " 'durbi': [514, 1212, 5340, 5686],\n",
        " 'dynam': [2184, 2713],\n",
        " 'early': [5503],\n",
        " 'easil': [734, 3017],\n",
        " 'ecolo': [29],\n",
        " 'eddys': [5687],\n",
        " 'eeckm': [5901],\n",
        " 'effec': [1756, 2912, 3381, 3561, 3626, 3719, 3866, 4162, 4382],\n",
        " 'ehmmb': [5090],\n",
        " 'ehmms': [1156, 2562, 4911, 4986],\n",
        " 'eight': [3586],\n",
        " 'eithe': [1029, 1333, 2767],\n",
        " 'elsev': [5862],\n",
        " 'emiss': [1240,\n",
        "  1525,\n",
        "  1689,\n",
        "  1708,\n",
        "  1799,\n",
        "  1840,\n",
        "  1887,\n",
        "  2494,\n",
        "  2820,\n",
        "  4182,\n",
        "  4789,\n",
        "  4889,\n",
        "  4972],\n",
        " 'emits': [1257],\n",
        " 'emitt': [1600, 2517],\n",
        " 'empir': [5973],\n",
        " 'enter': [4342],\n",
        " 'entri': [1759, 1862, 1870, 1955, 2016],\n",
        " 'equal': [2049, 3419, 3461, 4970],\n",
        " 'equat': [2688, 2833],\n",
        " 'equil': [1902, 2163, 2171, 2301, 2421, 2584, 3664, 3960, 4188, 4932, 4967],\n",
        " 'equiv': [4953],\n",
        " 'error': [6102],\n",
        " 'estim': [175,\n",
        "  2383,\n",
        "  2391,\n",
        "  2431,\n",
        "  2451,\n",
        "  2467,\n",
        "  2509,\n",
        "  2575,\n",
        "  2581,\n",
        "  2630,\n",
        "  2645,\n",
        "  2721,\n",
        "  2861,\n",
        "  3166,\n",
        "  3189,\n",
        "  3196,\n",
        "  3214,\n",
        "  3943,\n",
        "  3958,\n",
        "  3981,\n",
        "  4028,\n",
        "  4034,\n",
        "  4054,\n",
        "  4080,\n",
        "  4110,\n",
        "  4125,\n",
        "  4145,\n",
        "  4798],\n",
        " 'eukar': [282, 856, 1181, 1328, 1367, 1685, 3024, 4750],\n",
        " 'evalu': [4133, 4148, 4314, 4460, 5669],\n",
        " 'event': [983, 3510],\n",
        " 'every': [1696, 2121],\n",
        " 'evide': [1100, 5410],\n",
        " 'evolu': [15,\n",
        "  84,\n",
        "  102,\n",
        "  120,\n",
        "  139,\n",
        "  149,\n",
        "  164,\n",
        "  198,\n",
        "  234,\n",
        "  309,\n",
        "  315,\n",
        "  378,\n",
        "  393,\n",
        "  398,\n",
        "  726,\n",
        "  756,\n",
        "  811,\n",
        "  824,\n",
        "  902,\n",
        "  905,\n",
        "  976,\n",
        "  982,\n",
        "  995,\n",
        "  1043,\n",
        "  1119,\n",
        "  1134,\n",
        "  1185,\n",
        "  1715,\n",
        "  1724,\n",
        "  1794,\n",
        "  1830,\n",
        "  1907,\n",
        "  2007,\n",
        "  2027,\n",
        "  2065,\n",
        "  2107,\n",
        "  2170,\n",
        "  2270,\n",
        "  2294,\n",
        "  2305,\n",
        "  2362,\n",
        "  2413,\n",
        "  2427,\n",
        "  3230,\n",
        "  3274,\n",
        "  3320,\n",
        "  3337,\n",
        "  3370,\n",
        "  3462,\n",
        "  3486,\n",
        "  3509,\n",
        "  3577,\n",
        "  3842,\n",
        "  3903,\n",
        "  3913,\n",
        "  3946,\n",
        "  3992,\n",
        "  4037,\n",
        "  4057,\n",
        "  4108,\n",
        "  4117,\n",
        "  4166,\n",
        "  4178,\n",
        "  4367,\n",
        "  4445,\n",
        "  4679,\n",
        "  4690,\n",
        "  4867,\n",
        "  4917,\n",
        "  4936,\n",
        "  5041,\n",
        "  5081,\n",
        "  5224,\n",
        "  5280,\n",
        "  5358,\n",
        "  5433,\n",
        "  5463,\n",
        "  5706,\n",
        "  5738,\n",
        "  5801,\n",
        "  5928,\n",
        "  5936,\n",
        "  6089],\n",
        " 'evolv': [3556, 4595],\n",
        " 'examp': [2978, 4532, 5021],\n",
        " 'excep': [2476],\n",
        " 'exclu': [425, 3027],\n",
        " 'exhau': [2755],\n",
        " 'exhib': [695],\n",
        " 'exist': [123, 869, 4848, 4983, 4988],\n",
        " 'exons': [526,\n",
        "  580,\n",
        "  686,\n",
        "  3047,\n",
        "  3067,\n",
        "  3373,\n",
        "  3467,\n",
        "  3491,\n",
        "  3793,\n",
        "  3850,\n",
        "  3884,\n",
        "  3908,\n",
        "  4253,\n",
        "  4345,\n",
        "  4349,\n",
        "  4370,\n",
        "  4392,\n",
        "  4428,\n",
        "  4550,\n",
        "  4788],\n",
        " 'expec': [2441, 2499, 2504, 2511, 2522, 2529, 2626, 3660, 3972],\n",
        " 'expen': [5061],\n",
        " 'exper': [4509, 4625],\n",
        " 'expla': [4346, 5493],\n",
        " 'expli': [555],\n",
        " 'explo': [110, 719, 5277, 5441],\n",
        " 'expon': [1985, 5369],\n",
        " 'exptq': [1987],\n",
        " 'exten': [599, 735, 1162, 1662, 4670, 4756, 4982, 5321, 5334, 5362],\n",
        " 'extra': [4876],\n",
        " 'extre': [4583],\n",
        " 'fabpi': [3104],\n",
        " 'falli': [3442, 3501],\n",
        " 'false': [4338, 4596],\n",
        " 'felse': [2187, 2778, 2889, 5705, 6087],\n",
        " 'fifth': [6007],\n",
        " 'figur': [1005,\n",
        "  1623,\n",
        "  1672,\n",
        "  2037,\n",
        "  2923,\n",
        "  3035,\n",
        "  3429,\n",
        "  3727,\n",
        "  3750,\n",
        "  3817,\n",
        "  3820,\n",
        "  3927,\n",
        "  4387,\n",
        "  4436,\n",
        "  4536,\n",
        "  4882],\n",
        " 'fille': [2949],\n",
        " 'final': [3127],\n",
        " 'finde': [126, 419, 871, 2483, 4119, 4578, 4665, 4775, 4809, 4886],\n",
        " 'findi': [5,\n",
        "  228,\n",
        "  500,\n",
        "  782,\n",
        "  848,\n",
        "  933,\n",
        "  1189,\n",
        "  1361,\n",
        "  2655,\n",
        "  2842,\n",
        "  3406,\n",
        "  4200,\n",
        "  4631,\n",
        "  4697,\n",
        "  5010,\n",
        "  5092,\n",
        "  5500,\n",
        "  5581,\n",
        "  5612,\n",
        "  5646,\n",
        "  5832,\n",
        "  5994],\n",
        " 'finds': [524, 5888],\n",
        " 'first': [1286, 1425, 1438, 3179],\n",
        " 'flann': [6024],\n",
        " 'flexi': [1159],\n",
        " 'flice': [5805],\n",
        " 'follo': [1171, 1291, 1536, 3403, 5264],\n",
        " 'forma': [3237],\n",
        " 'forsb': [5537],\n",
        " 'forwa': [1658, 2716],\n",
        " 'found': [1281, 2115, 2553, 2686, 2729, 2875, 3602],\n",
        " 'fragm': [5219],\n",
        " 'frame': [484, 1630, 1652, 2961, 3219, 4255, 4825, 4990],\n",
        " 'frequ': [2422, 2500, 2585, 3961, 4933, 4968, 5033],\n",
        " 'fulll': [5098, 5113],\n",
        " 'fully': [3012],\n",
        " 'funct': [87, 106, 387, 412, 3341, 5284],\n",
        " 'gains': [3930],\n",
        " 'gaple': [2975, 5198],\n",
        " 'gelfa': [5426, 5718],\n",
        " 'genba': [4205, 4209, 4233],\n",
        " 'genef': [335, 3310, 3323, 3386, 5420],\n",
        " 'gener': [495, 1205, 1451, 1509, 2041, 3039, 5903, 5985],\n",
        " 'genes': [546, 1603, 1655, 1686, 2885, 5889, 5912],\n",
        " 'genet': [27],\n",
        " 'genid': [6058],\n",
        " 'genom': [12,\n",
        "  78,\n",
        "  93,\n",
        "  115,\n",
        "  136,\n",
        "  190,\n",
        "  217,\n",
        "  266,\n",
        "  279,\n",
        "  292,\n",
        "  313,\n",
        "  370,\n",
        "  380,\n",
        "  530,\n",
        "  548,\n",
        "  576,\n",
        "  609,\n",
        "  638,\n",
        "  660,\n",
        "  670,\n",
        "  738,\n",
        "  891,\n",
        "  915,\n",
        "  986,\n",
        "  1074,\n",
        "  1081,\n",
        "  1182,\n",
        "  1329,\n",
        "  1335,\n",
        "  2371,\n",
        "  2982,\n",
        "  3025,\n",
        "  3086,\n",
        "  3396,\n",
        "  3587,\n",
        "  3723,\n",
        "  3818,\n",
        "  3831,\n",
        "  4864,\n",
        "  4880,\n",
        "  5099,\n",
        "  5114,\n",
        "  5120,\n",
        "  5135,\n",
        "  5151,\n",
        "  5303,\n",
        "  5311,\n",
        "  5375,\n",
        "  5600,\n",
        "  5638,\n",
        "  5661,\n",
        "  5675,\n",
        "  5810,\n",
        "  5877,\n",
        "  5931,\n",
        "  5942,\n",
        "  5970,\n",
        "  5977],\n",
        " 'gensc': [600, 4287, 4334, 4667, 4732, 4814],\n",
        " 'gffps': [4264, 5598],\n",
        " 'given': [1548,\n",
        "  1571,\n",
        "  1803,\n",
        "  1844,\n",
        "  1949,\n",
        "  1970,\n",
        "  2055,\n",
        "  2063,\n",
        "  2154,\n",
        "  2160,\n",
        "  2826,\n",
        "  2830,\n",
        "  2854,\n",
        "  3068,\n",
        "  3590,\n",
        "  4893],\n",
        " 'givin': [1942, 4585],\n",
        " 'glass': [567, 3121],\n",
        " 'goldm': [817, 1011, 1990, 2286, 2289, 5468, 5733, 5753, 5924],\n",
        " 'gphmm': [491],\n",
        " 'gramm': [1063, 1201, 5799],\n",
        " 'grant': [5565],\n",
        " 'graph': [1373, 1500, 4529],\n",
        " 'great': [2589],\n",
        " 'group': [444, 4426],\n",
        " 'growi': [5454],\n",
        " 'growt': [5370],\n",
        " 'guest': [622, 1357, 2097, 2838, 3615, 4196, 4767, 5577, 6134],\n",
        " 'guigo': [3313, 4267, 5597, 5668],\n",
        " 'handl': [185, 208, 952, 962],\n",
        " 'haseg': [2278, 5769],\n",
        " 'hauss': [5882, 5898],\n",
        " 'havin': [1699, 3892],\n",
        " 'heinj': [5791],\n",
        " 'helix': [1031],\n",
        " 'helpf': [5553],\n",
        " 'hence': [3928],\n",
        " 'heter': [5680],\n",
        " 'heuri': [2775, 5378],\n",
        " 'hidde': [8, 150, 488, 825, 1191, 5844, 5884, 5904, 5987, 6039],\n",
        " 'highe': [948, 4066, 4545, 4792, 4903, 4925, 4949, 4956],\n",
        " 'highs': [5240],\n",
        " 'histo': [5802],\n",
        " 'hkymo': [2267],\n",
        " 'hmmba': [2481, 4663, 4884],\n",
        " 'hmmge': [4816, 5870],\n",
        " 'homol': [321, 352, 369, 430, 575, 1077, 4639, 4843, 5811],\n",
        " 'howev': [4571, 4649, 4723, 5059, 5364],\n",
        " 'httpb': [620, 1355, 2095, 2836, 3613, 4194, 4765, 5575, 6132],\n",
        " 'httpw': [261, 6054],\n",
        " 'human': [249,\n",
        "  1744,\n",
        "  2795,\n",
        "  2981,\n",
        "  3003,\n",
        "  3092,\n",
        "  3140,\n",
        "  3245,\n",
        "  4005,\n",
        "  4016,\n",
        "  4228,\n",
        "  4276,\n",
        "  5182,\n",
        "  5626,\n",
        "  5660,\n",
        "  5776,\n",
        "  5911,\n",
        "  5949],\n",
        " 'huson': [523, 5272, 5605],\n",
        " 'hypot': [1741],\n",
        " 'ident': [6073],\n",
        " 'illus': [876, 3624, 3717, 3862],\n",
        " 'imple': [2930, 3216, 3222, 5085, 5527],\n",
        " 'impro': [130, 434, 4410, 4709, 4840, 5419, 5822],\n",
        " 'inapp': [5069],\n",
        " 'inclu': [179, 587, 605, 1607, 1820, 2886, 3763, 5239],\n",
        " 'incom': [3111],\n",
        " 'incor': [980, 5452],\n",
        " 'incre': [423, 3438, 3474, 3542, 3563, 3607, 3765, 4513],\n",
        " 'indep': [990, 1099, 1635],\n",
        " 'indic': [4111],\n",
        " 'infor': [310,\n",
        "  316,\n",
        "  395,\n",
        "  722,\n",
        "  3578,\n",
        "  3925,\n",
        "  4179,\n",
        "  4680,\n",
        "  4694,\n",
        "  4877,\n",
        "  5015,\n",
        "  5430,\n",
        "  5455,\n",
        "  6115],\n",
        " 'inher': [5355],\n",
        " 'initi': [1245, 1467, 2461, 2538],\n",
        " 'inner': [1397,\n",
        "  1475,\n",
        "  1480,\n",
        "  1566,\n",
        "  1611,\n",
        "  2085,\n",
        "  2128,\n",
        "  2147,\n",
        "  2253,\n",
        "  3046,\n",
        "  3954,\n",
        "  3982,\n",
        "  4000],\n",
        " 'input': [1142],\n",
        " 'inspi': [1009],\n",
        " 'insta': [1938],\n",
        " 'inste': [5074],\n",
        " 'insti': [31],\n",
        " 'integ': [307, 5809],\n",
        " 'intel': [5616, 5836, 5918],\n",
        " 'inter': [257,\n",
        "  303,\n",
        "  1402,\n",
        "  1460,\n",
        "  1540,\n",
        "  1589,\n",
        "  2478,\n",
        "  2672,\n",
        "  2946,\n",
        "  3032,\n",
        "  3746,\n",
        "  3950,\n",
        "  3999,\n",
        "  4045,\n",
        "  4061,\n",
        "  6008],\n",
        " 'intro': [264,\n",
        "  1420,\n",
        "  1632,\n",
        "  1644,\n",
        "  1645,\n",
        "  2226,\n",
        "  2960,\n",
        "  3375,\n",
        "  3465,\n",
        "  3489,\n",
        "  3668,\n",
        "  3690,\n",
        "  3795,\n",
        "  3848,\n",
        "  3906,\n",
        "  4372,\n",
        "  4390,\n",
        "  4554,\n",
        "  5210,\n",
        "  5252,\n",
        "  5842],\n",
        " 'inves': [762, 850, 3280, 3389, 3415],\n",
        " 'isola': [3868],\n",
        " 'istra': [5999],\n",
        " 'itera': [3796],\n",
        " 'itsel': [5435, 5446],\n",
        " 'jakob': [16],\n",
        " 'janua': [624, 1359, 2099, 2840, 3617, 4198, 4769, 5579, 6136],\n",
        " 'jhein': [635, 2102, 3620, 4772],\n",
        " 'jones': [5736],\n",
        " 'jotun': [20],\n",
        " 'jspda': [263],\n",
        " 'jsped': [633, 2100, 3618, 4770],\n",
        " 'karli': [506, 603, 798, 1671, 4290, 5653],\n",
        " 'kasif': [5854],\n",
        " 'kishi': [5770, 6085],\n",
        " 'known': [806, 2090, 2805, 2815],\n",
        " 'knuds': [1051, 5519, 5531, 5789],\n",
        " 'korfi': [5804],\n",
        " 'krogh': [784,\n",
        "  799,\n",
        "  1633,\n",
        "  2821,\n",
        "  4817,\n",
        "  5429,\n",
        "  5486,\n",
        "  5688,\n",
        "  5818,\n",
        "  5840,\n",
        "  5865,\n",
        "  5879],\n",
        " 'kulpd': [5897],\n",
        " 'lacki': [3789],\n",
        " 'lande': [5625],\n",
        " 'large': [4800],\n",
        " 'larse': [5490],\n",
        " 'later': [775],\n",
        " 'leadi': [1854, 4728],\n",
        " 'leave': [127, 2031, 2060],\n",
        " 'leavi': [3901],\n",
        " 'lenga': [5997],\n",
        " 'lengt': [215,\n",
        "  1278,\n",
        "  1973,\n",
        "  2002,\n",
        "  2710,\n",
        "  2943,\n",
        "  3254,\n",
        "  3440,\n",
        "  3457,\n",
        "  3478,\n",
        "  3495,\n",
        "  3539,\n",
        "  3632,\n",
        "  3650,\n",
        "  3658,\n",
        "  3686,\n",
        "  3691,\n",
        "  3694,\n",
        "  3799,\n",
        "  4785,\n",
        "  5312],\n",
        " 'letti': [2970],\n",
        " 'level': [1042, 3639, 3645, 3731, 4491, 4499, 4717],\n",
        " 'likel': [178,\n",
        "  2134,\n",
        "  2173,\n",
        "  2407,\n",
        "  2668,\n",
        "  2674,\n",
        "  2720,\n",
        "  2823,\n",
        "  2906,\n",
        "  3543,\n",
        "  4027,\n",
        "  4439,\n",
        "  4592,\n",
        "  4602,\n",
        "  5228,\n",
        "  5713,\n",
        "  6093,\n",
        "  6123],\n",
        " 'limit': [346, 4857],\n",
        " 'linea': [212, 2179, 2707, 5379],\n",
        " 'logen': [1909],\n",
        " 'londo': [6129],\n",
        " 'lower': [1543, 1734, 4724, 5226],\n",
        " 'maint': [1627],\n",
        " 'makal': [4094, 5933],\n",
        " 'makes': [927, 2926, 4872],\n",
        " 'makov': [5957],\n",
        " 'mamma': [5941],\n",
        " 'manus': [5557],\n",
        " 'march': [66],\n",
        " 'marko': [9,\n",
        "  151,\n",
        "  489,\n",
        "  751,\n",
        "  802,\n",
        "  826,\n",
        "  1122,\n",
        "  1192,\n",
        "  1917,\n",
        "  5845,\n",
        "  5885,\n",
        "  5905,\n",
        "  5988,\n",
        "  6040],\n",
        " 'marti': [5518],\n",
        " 'maste': [6051],\n",
        " 'match': [650, 5241, 5868],\n",
        " 'matri': [1226, 1486, 1940, 1960, 1984, 2453, 5516],\n",
        " 'maxim': [177,\n",
        "  2406,\n",
        "  2442,\n",
        "  2542,\n",
        "  2546,\n",
        "  2669,\n",
        "  2719,\n",
        "  2858,\n",
        "  4026,\n",
        "  5712,\n",
        "  6092,\n",
        "  6122],\n",
        " 'mclac': [339, 5425, 6066],\n",
        " 'measu': [3300],\n",
        " 'medaw': [52],\n",
        " 'memor': [3203],\n",
        " 'menti': [536, 5249],\n",
        " 'mesir': [5622],\n",
        " 'metho': [446,\n",
        "  456,\n",
        "  520,\n",
        "  566,\n",
        "  716,\n",
        "  1018,\n",
        "  2408,\n",
        "  2443,\n",
        "  2641,\n",
        "  2772,\n",
        "  4319,\n",
        "  4658,\n",
        "  4730,\n",
        "  4736,\n",
        "  4850,\n",
        "  5165,\n",
        "  5263,\n",
        "  5609,\n",
        "  5820,\n",
        "  5857],\n",
        " 'miani': [5880],\n",
        " 'mikke': [5543],\n",
        " 'minim': [853, 1678, 4747],\n",
        " 'miron': [5719],\n",
        " 'misal': [653, 5295],\n",
        " 'misma': [651],\n",
        " 'mispl': [2953],\n",
        " 'mispr': [4350],\n",
        " 'missi': [1778, 1816, 1857, 1874, 2131, 2894, 2918, 4998],\n",
        " 'mista': [4558],\n",
        " 'mitch': [5690],\n",
        " 'mitoc': [5784],\n",
        " 'model': [10,\n",
        "  118,\n",
        "  133,\n",
        "  145,\n",
        "  152,\n",
        "  165,\n",
        "  196,\n",
        "  210,\n",
        "  220,\n",
        "  232,\n",
        "  490,\n",
        "  667,\n",
        "  746,\n",
        "  754,\n",
        "  808,\n",
        "  819,\n",
        "  827,\n",
        "  854,\n",
        "  863,\n",
        "  898,\n",
        "  908,\n",
        "  977,\n",
        "  1044,\n",
        "  1106,\n",
        "  1114,\n",
        "  1129,\n",
        "  1132,\n",
        "  1179,\n",
        "  1193,\n",
        "  1330,\n",
        "  1379,\n",
        "  1413,\n",
        "  1454,\n",
        "  1534,\n",
        "  1605,\n",
        "  1661,\n",
        "  1674,\n",
        "  1684,\n",
        "  1716,\n",
        "  1795,\n",
        "  1831,\n",
        "  1908,\n",
        "  1912,\n",
        "  2271,\n",
        "  2284,\n",
        "  2295,\n",
        "  2311,\n",
        "  2320,\n",
        "  2349,\n",
        "  2353,\n",
        "  2380,\n",
        "  2414,\n",
        "  2428,\n",
        "  2802,\n",
        "  2853,\n",
        "  3026,\n",
        "  3043,\n",
        "  3062,\n",
        "  3231,\n",
        "  3273,\n",
        "  3318,\n",
        "  3349,\n",
        "  3366,\n",
        "  3788,\n",
        "  3932,\n",
        "  3947,\n",
        "  4038,\n",
        "  4075,\n",
        "  4164,\n",
        "  4446,\n",
        "  4581,\n",
        "  4645,\n",
        "  4759,\n",
        "  4776,\n",
        "  4790,\n",
        "  4830,\n",
        "  4904,\n",
        "  4918,\n",
        "  4937,\n",
        "  4993,\n",
        "  5042,\n",
        "  5045,\n",
        "  5052,\n",
        "  5078,\n",
        "  5359,\n",
        "  5450,\n",
        "  5507,\n",
        "  5678,\n",
        "  5695,\n",
        "  5758,\n",
        "  5846,\n",
        "  5886,\n",
        "  5906,\n",
        "  5925,\n",
        "  5989,\n",
        "  6041,\n",
        "  6090],\n",
        " 'molec': [810, 5781, 5859, 5927],\n",
        " 'motiv': [74],\n",
        " 'mouse': [1746, 3090, 3103, 3142, 3210, 3294, 3941, 4003, 4222, 5180, 5628],\n",
        " 'movin': [270],\n",
        " 'multi': [737, 1601, 3722, 5095, 5110, 5193, 5344, 5402],\n",
        " 'munke': [40],\n",
        " 'musac': [4203, 4224],\n",
        " 'natur': [5569],\n",
        " 'nearl': [3453],\n",
        " 'neces': [1682, 2315, 2765],\n",
        " 'neith': [728],\n",
        " 'nekru': [672, 4099, 5956],\n",
        " 'nodes': [2086, 2129, 2148],\n",
        " 'noise': [5212],\n",
        " 'nonco': [2367, 4807, 5123],\n",
        " 'nonge': [4784],\n",
        " 'nonsy': [705],\n",
        " 'norma': [4452],\n",
        " 'nucle': [1078,\n",
        "  1829,\n",
        "  1928,\n",
        "  2276,\n",
        "  2489,\n",
        "  2514,\n",
        "  3256,\n",
        "  3638,\n",
        "  3687,\n",
        "  3730,\n",
        "  3975,\n",
        "  4490,\n",
        "  4589,\n",
        "  5699,\n",
        "  5760,\n",
        "  5894,\n",
        "  6081],\n",
        " 'numbe': [76,\n",
        "  187,\n",
        "  218,\n",
        "  954,\n",
        "  966,\n",
        "  1549,\n",
        "  1572,\n",
        "  1679,\n",
        "  2214,\n",
        "  2512,\n",
        "  2523,\n",
        "  2530,\n",
        "  2989,\n",
        "  3283,\n",
        "  3565,\n",
        "  3711,\n",
        "  3735,\n",
        "  3829,\n",
        "  3973,\n",
        "  5376],\n",
        " 'numer': [6025],\n",
        " 'obser': [92, 1259, 1308, 2053, 2104, 2152, 2604, 2617, 2819, 3516],\n",
        " 'obvio': [4373, 4755],\n",
        " 'occur': [5027],\n",
        " 'often': [1113, 2444],\n",
        " 'onlin': [5593],\n",
        " 'optim': [1045, 2640, 5004, 5035, 5087, 6110],\n",
        " 'order': [2318, 3766, 3860, 4158, 4793],\n",
        " 'organ': [99, 283, 297, 641, 2994, 5128, 5162],\n",
        " 'orpha': [5644],\n",
        " 'ortho': [248, 3085, 3293, 4002, 5946],\n",
        " 'other': [2993, 3811, 3891, 4071, 5476, 5746],\n",
        " 'overa': [2373, 3352, 4304],\n",
        " 'overp': [4548],\n",
        " 'oxfor': [48, 60, 626],\n",
        " 'pacht': [479, 5267, 5621, 5979],\n",
        " 'pages': [3],\n",
        " 'pairs': [251, 527, 3088, 3116, 3296, 4007],\n",
        " 'pairw': [682, 5158, 5186, 5244],\n",
        " 'param': [172,\n",
        "  897,\n",
        "  2308,\n",
        "  2333,\n",
        "  2356,\n",
        "  2377,\n",
        "  2382,\n",
        "  2385,\n",
        "  2410,\n",
        "  2429,\n",
        "  2545,\n",
        "  2566,\n",
        "  2570,\n",
        "  2593,\n",
        "  2663,\n",
        "  2680,\n",
        "  2827,\n",
        "  3056,\n",
        "  3071,\n",
        "  3165,\n",
        "  3364,\n",
        "  3384,\n",
        "  3401,\n",
        "  3410,\n",
        "  3412,\n",
        "  3808,\n",
        "  3812,\n",
        "  3942,\n",
        "  3993,\n",
        "  4024,\n",
        "  4033,\n",
        "  4109,\n",
        "  4126,\n",
        "  4797,\n",
        "  5316,\n",
        "  5349,\n",
        "  5937],\n",
        " 'parks': [58],\n",
        " 'parsi': [1207],\n",
        " 'parti': [5157],\n",
        " 'patho': [55],\n",
        " 'paths': [2694],\n",
        " 'patie': [5492],\n",
        " 'patte': [85,\n",
        "  103,\n",
        "  394,\n",
        "  399,\n",
        "  662,\n",
        "  727,\n",
        "  757,\n",
        "  2057,\n",
        "  2363,\n",
        "  3338,\n",
        "  3371,\n",
        "  3463,\n",
        "  3487,\n",
        "  3843,\n",
        "  3904,\n",
        "  3914,\n",
        "  4368,\n",
        "  4464,\n",
        "  4691,\n",
        "  5225,\n",
        "  5281],\n",
        " 'peder': [18, 5534],\n",
        " 'perfo': [873,\n",
        "  2913,\n",
        "  3053,\n",
        "  3163,\n",
        "  3298,\n",
        "  3387,\n",
        "  3431,\n",
        "  3451,\n",
        "  3473,\n",
        "  3497,\n",
        "  3515,\n",
        "  3802,\n",
        "  3822,\n",
        "  3875,\n",
        "  3929,\n",
        "  4150,\n",
        "  4475,\n",
        "  4626,\n",
        "  4683,\n",
        "  4699,\n",
        "  4834,\n",
        "  4841,\n",
        "  5421,\n",
        "  5823],\n",
        " 'peter': [51],\n",
        " 'pevzn': [5721, 6000],\n",
        " 'phylo': [169,\n",
        "  181,\n",
        "  193,\n",
        "  813,\n",
        "  911,\n",
        "  1002,\n",
        "  1070,\n",
        "  1154,\n",
        "  1720,\n",
        "  1754,\n",
        "  1835,\n",
        "  2034,\n",
        "  2649,\n",
        "  3593,\n",
        "  3752,\n",
        "  5930,\n",
        "  6119],\n",
        " 'pleas': [5589],\n",
        " 'plots': [4257],\n",
        " 'plott': [3427, 3647, 3732],\n",
        " 'posit': [1027,\n",
        "  1409,\n",
        "  1428,\n",
        "  1441,\n",
        "  1494,\n",
        "  1639,\n",
        "  3533,\n",
        "  3710,\n",
        "  3978,\n",
        "  4895,\n",
        "  4899,\n",
        "  4942],\n",
        " 'possi': [374, 947, 2144, 2693, 2751],\n",
        " 'poste': [2860],\n",
        " 'poten': [525, 2959, 4114, 5968],\n",
        " 'powel': [2399, 2635, 2731, 3198],\n",
        " 'power': [416, 878],\n",
        " 'prece': [4898],\n",
        " 'predi': [415,\n",
        "  1023,\n",
        "  1067,\n",
        "  2846,\n",
        "  2881,\n",
        "  3065,\n",
        "  3239,\n",
        "  3550,\n",
        "  3600,\n",
        "  3634,\n",
        "  4130,\n",
        "  4217,\n",
        "  4241,\n",
        "  4273,\n",
        "  4364,\n",
        "  4423,\n",
        "  4424,\n",
        "  4518,\n",
        "  4537,\n",
        "  5231,\n",
        "  5637,\n",
        "  5654,\n",
        "  5673,\n",
        "  5744,\n",
        "  5795,\n",
        "  5815],\n",
        " 'prefe': [6068],\n",
        " 'prepr': [460, 838],\n",
        " 'prese': [350, 832, 5103, 5130, 5144],\n",
        " 'press': [384, 628, 2400, 5703, 6016, 6020, 6033],\n",
        " 'previ': [4941],\n",
        " 'proba': [1229,\n",
        "  1299,\n",
        "  1489,\n",
        "  1495,\n",
        "  1800,\n",
        "  1841,\n",
        "  1888,\n",
        "  1959,\n",
        "  1965,\n",
        "  2039,\n",
        "  2051,\n",
        "  2092,\n",
        "  2150,\n",
        "  2456,\n",
        "  2548,\n",
        "  2849,\n",
        "  3013,\n",
        "  3679,\n",
        "  4064,\n",
        "  4890,\n",
        "  5694],\n",
        " 'probl': [225, 5347, 5995],\n",
        " 'proce': [113,\n",
        "  379,\n",
        "  454,\n",
        "  903,\n",
        "  906,\n",
        "  1725,\n",
        "  2028,\n",
        "  2066,\n",
        "  2108,\n",
        "  2306,\n",
        "  2582,\n",
        "  2781,\n",
        "  2957,\n",
        "  3186,\n",
        "  3321,\n",
        "  4146,\n",
        "  4167,\n",
        "  5007,\n",
        "  5289,\n",
        "  5434,\n",
        "  6004],\n",
        " 'produ': [1650, 3044, 4259],\n",
        " 'progr': [2185, 2714, 3122, 4263, 5674],\n",
        " 'proje': [268],\n",
        " 'promo': [4068, 4782],\n",
        " 'prono': [3482, 4708],\n",
        " 'prope': [925, 943, 2316, 2925, 4978],\n",
        " 'prote': [1020, 1026, 5697, 5741, 5763, 5967, 6074],\n",
        " 'provi': [5513],\n",
        " 'proxi': [5399],\n",
        " 'pseud': [4610, 4924, 4948],\n",
        " 'publi': [6055],\n",
        " 'purel': [2899],\n",
        " 'putat': [685, 692],\n",
        " 'pxabe': [2695, 2696, 2698, 2735, 2741],\n",
        " 'quadr': [5309],\n",
        " 'quali': [361, 594],\n",
        " 'quant': [4160],\n",
        " 'query': [355, 637, 659],\n",
        " 'rabin': [1249, 2397, 2717, 6035],\n",
        " 'raise': [4682],\n",
        " 'range': [240, 584, 923, 3049, 3399, 3938],\n",
        " 'rates': [3967],\n",
        " 'ratio': [703, 2330, 2337, 3780, 4085, 5962],\n",
        " 'readi': [1629, 4254, 5320, 5351],\n",
        " 'recei': [64],\n",
        " 'recen': [276, 433, 5438],\n",
        " 'recip': [6026],\n",
        " 'recog': [5723, 5909, 6047],\n",
        " 'recom': [6013],\n",
        " 'recur': [541, 551],\n",
        " 'reduc': [1834, 1847, 2916, 3042, 4185, 5236, 5291],\n",
        " 'reese': [5899],\n",
        " 'refer': [2976, 3137, 3177, 3207, 4945, 4962, 5150, 5199, 5548, 5590, 5594],\n",
        " 'regar': [363],\n",
        " 'regio': [88,\n",
        "  107,\n",
        "  163,\n",
        "  388,\n",
        "  409,\n",
        "  413,\n",
        "  671,\n",
        "  760,\n",
        "  892,\n",
        "  1336,\n",
        "  2368,\n",
        "  2964,\n",
        "  3342,\n",
        "  4069,\n",
        "  4783,\n",
        "  5025,\n",
        "  5215,\n",
        "  5285,\n",
        "  5971,\n",
        "  6076],\n",
        " 'regis': [4407],\n",
        " 'regul': [1200, 1342],\n",
        " 'reimp': [4818],\n",
        " 'relat': [291, 913, 996, 1092, 1153, 1757, 1769, 2008, 3592, 3754, 5112],\n",
        " 'relev': [901, 1596, 1906, 2920],\n",
        " 'relie': [835, 2653],\n",
        " 'remai': [2426, 3114, 3452, 3498],\n",
        " 'remov': [3006],\n",
        " 'repor': [3969, 4092, 4299],\n",
        " 'repre': [4531],\n",
        " 'resea': [23, 56, 5559, 5571],\n",
        " 'resem': [5166],\n",
        " 'reser': [631],\n",
        " 'respe': [1399],\n",
        " 'restr': [3201],\n",
        " 'resul': [131, 389, 1877, 3269, 3425, 4827],\n",
        " 'revis': [67],\n",
        " 'ribos': [4778],\n",
        " 'right': [630, 1089, 3646, 3724, 4231],\n",
        " 'roald': [5536],\n",
        " 'roden': [5947],\n",
        " 'roset': [569, 4282, 4333, 4738, 4853],\n",
        " 'rouze': [5641],\n",
        " 'sagot': [5643],\n",
        " 'salzb': [5851],\n",
        " 'sanko': [5998],\n",
        " 'scale': [3359],\n",
        " 'schar': [563, 5276, 5529, 6050],\n",
        " 'schie': [5544],\n",
        " 'schou': [5489],\n",
        " 'scien': [34, 5570],\n",
        " 'scope': [860],\n",
        " 'score': [579],\n",
        " 'scori': [532],\n",
        " 'searc': [328, 344, 431, 617, 2756, 5148],\n",
        " 'searl': [5852],\n",
        " 'secon': [1021, 1066, 1427, 1440, 3193, 3259, 3595, 5742, 5793, 6029],\n",
        " 'sekve': [6060],\n",
        " 'selec': [383, 6043],\n",
        " 'sense': [3134],\n",
        " 'sensi': [3636, 3728],\n",
        " 'separ': [4077, 4313],\n",
        " 'seque': [80,\n",
        "  233,\n",
        "  267,\n",
        "  286,\n",
        "  288,\n",
        "  475,\n",
        "  549,\n",
        "  577,\n",
        "  648,\n",
        "  665,\n",
        "  768,\n",
        "  939,\n",
        "  956,\n",
        "  968,\n",
        "  1086,\n",
        "  1111,\n",
        "  1133,\n",
        "  1149,\n",
        "  1208,\n",
        "  1306,\n",
        "  1742,\n",
        "  1925,\n",
        "  2011,\n",
        "  2216,\n",
        "  2607,\n",
        "  2620,\n",
        "  2748,\n",
        "  2762,\n",
        "  2897,\n",
        "  2935,\n",
        "  2972,\n",
        "  2983,\n",
        "  2991,\n",
        "  3004,\n",
        "  3087,\n",
        "  3099,\n",
        "  3115,\n",
        "  3147,\n",
        "  3178,\n",
        "  3331,\n",
        "  3346,\n",
        "  3567,\n",
        "  3693,\n",
        "  3713,\n",
        "  3737,\n",
        "  3756,\n",
        "  3761,\n",
        "  3798,\n",
        "  4156,\n",
        "  4175,\n",
        "  4354,\n",
        "  4380,\n",
        "  4398,\n",
        "  4479,\n",
        "  4487,\n",
        "  4507,\n",
        "  4525,\n",
        "  4542,\n",
        "  4564,\n",
        "  4640,\n",
        "  4714,\n",
        "  4837,\n",
        "  4844,\n",
        "  4861,\n",
        "  4894,\n",
        "  4946,\n",
        "  4963,\n",
        "  4976,\n",
        "  5178,\n",
        "  5200,\n",
        "  5324,\n",
        "  5345,\n",
        "  5480,\n",
        "  5682,\n",
        "  5692,\n",
        "  5710,\n",
        "  5726,\n",
        "  5748,\n",
        "  5765,\n",
        "  5849,\n",
        "  5950,\n",
        "  6080,\n",
        "  6097],\n",
        " 'serve': [260],\n",
        " 'setti': [3057, 3072, 3402, 5073],\n",
        " 'sheet': [1033],\n",
        " 'short': [4348, 4389, 4549, 4553],\n",
        " 'shoul': [325, 1094, 5471],\n",
        " 'showe': [4706],\n",
        " 'shown': [1083, 1351, 1497, 3964, 4236, 4316, 4534],\n",
        " 'shows': [1736, 1752, 1766, 1806, 1864],\n",
        " 'signa': [894, 3530, 3858, 3889, 3918, 4073, 5214],\n",
        " 'signi': [697],\n",
        " 'simil': [590],\n",
        " 'simpl': [1178, 1667, 2077, 2811, 3236, 4584, 4644, 5076],\n",
        " 'simul': [242,\n",
        "  3021,\n",
        "  3051,\n",
        "  3285,\n",
        "  3314,\n",
        "  3391,\n",
        "  3584,\n",
        "  3589,\n",
        "  3622,\n",
        "  3705,\n",
        "  3715,\n",
        "  3768,\n",
        "  3783,\n",
        "  3873,\n",
        "  3883,\n",
        "  4686,\n",
        "  5975],\n",
        " 'singl': [938,\n",
        "  1408,\n",
        "  1528,\n",
        "  1625,\n",
        "  1808,\n",
        "  1824,\n",
        "  1866,\n",
        "  1884,\n",
        "  1891,\n",
        "  1927,\n",
        "  2223,\n",
        "  2230,\n",
        "  2275,\n",
        "  4153,\n",
        "  4174,\n",
        "  4206,\n",
        "  4210,\n",
        "  4216,\n",
        "  4330,\n",
        "  4353,\n",
        "  4397,\n",
        "  4419,\n",
        "  4486,\n",
        "  4506,\n",
        "  4521,\n",
        "  4541,\n",
        "  4711,\n",
        "  4729,\n",
        "  4836,\n",
        "  4975],\n",
        " 'sites': [2322, 3547, 3697, 3701, 3704, 3791, 3894, 4340, 4598],\n",
        " 'situa': [2931],\n",
        " 'skipp': [4394],\n",
        " 'sligh': [4573],\n",
        " 'slowl': [3555, 4594],\n",
        " 'small': [1647, 3512],\n",
        " 'solut': [5036, 5381],\n",
        " 'solve': [5352],\n",
        " 'sourc': [5413, 5456],\n",
        " 'south': [57],\n",
        " 'space': [1923, 2664, 5392],\n",
        " 'speci': [642,\n",
        "  890,\n",
        "  1217,\n",
        "  1524,\n",
        "  1711,\n",
        "  1762,\n",
        "  1792,\n",
        "  1935,\n",
        "  1962,\n",
        "  2005,\n",
        "  2067,\n",
        "  2106,\n",
        "  3233,\n",
        "  3642,\n",
        "  4497],\n",
        " 'speec': [6046],\n",
        " 'splic': [592,\n",
        "  1431,\n",
        "  1444,\n",
        "  2235,\n",
        "  2321,\n",
        "  3528,\n",
        "  3546,\n",
        "  3557,\n",
        "  3696,\n",
        "  3700,\n",
        "  3703,\n",
        "  3790,\n",
        "  3856,\n",
        "  3887,\n",
        "  3893,\n",
        "  4339,\n",
        "  4576,\n",
        "  4597,\n",
        "  4773,\n",
        "  5725],\n",
        " 'split': [1418, 1642, 5778],\n",
        " 'stade': [337, 5423, 6064],\n",
        " 'start': [1103, 1387, 1392, 1456, 1517, 1537, 1558, 2249, 2323, 3029],\n",
        " 'state': [540,\n",
        "  556,\n",
        "  883,\n",
        "  972,\n",
        "  1224,\n",
        "  1246,\n",
        "  1252,\n",
        "  1275,\n",
        "  1287,\n",
        "  1294,\n",
        "  1325,\n",
        "  1345,\n",
        "  1376,\n",
        "  1381,\n",
        "  1403,\n",
        "  1457,\n",
        "  1461,\n",
        "  1468,\n",
        "  1471,\n",
        "  1503,\n",
        "  1519,\n",
        "  1523,\n",
        "  1541,\n",
        "  1545,\n",
        "  1560,\n",
        "  1568,\n",
        "  1583,\n",
        "  1590,\n",
        "  1593,\n",
        "  1613,\n",
        "  1616,\n",
        "  1626,\n",
        "  1681,\n",
        "  1697,\n",
        "  1714,\n",
        "  1787,\n",
        "  1825,\n",
        "  1915,\n",
        "  1922,\n",
        "  2024,\n",
        "  2047,\n",
        "  2082,\n",
        "  2126,\n",
        "  2189,\n",
        "  2224,\n",
        "  2227,\n",
        "  2231,\n",
        "  2236,\n",
        "  2247,\n",
        "  2251,\n",
        "  2255,\n",
        "  2260,\n",
        "  2277,\n",
        "  2299,\n",
        "  2462,\n",
        "  2475,\n",
        "  2520,\n",
        "  2525,\n",
        "  2534,\n",
        "  2539,\n",
        "  2601,\n",
        "  2816,\n",
        "  3033,\n",
        "  3423,\n",
        "  3559,\n",
        "  3671,\n",
        "  3951,\n",
        "  3956,\n",
        "  3995,\n",
        "  4046,\n",
        "  4050,\n",
        "  4062,\n",
        "  4078,\n",
        "  4181,\n",
        "  4654],\n",
        " 'stati': [47, 3306, 4270, 4280, 4306, 4414, 4456, 4721],\n",
        " 'still': [4572, 5365],\n",
        " 'stoch': [1061, 1199, 5677, 5797],\n",
        " 'stopc': [1653],\n",
        " 'storm': [5533],\n",
        " 'stran': [1659, 1665],\n",
        " 'strat': [1056, 5001, 5142, 5168, 5247, 5417],\n",
        " 'strin': [5449],\n",
        " 'stron': [4113],\n",
        " 'struc': [13,\n",
        "  137,\n",
        "  312,\n",
        "  470,\n",
        "  748,\n",
        "  858,\n",
        "  1022,\n",
        "  1036,\n",
        "  1049,\n",
        "  1108,\n",
        "  1136,\n",
        "  1183,\n",
        "  4752,\n",
        "  5019,\n",
        "  5047,\n",
        "  5461,\n",
        "  5630,\n",
        "  5658,\n",
        "  5672,\n",
        "  5743,\n",
        "  5794,\n",
        "  5814],\n",
        " 'studi': [305, 3286],\n",
        " 'study': [3585, 3623, 3716, 5976],\n",
        " 'subse': [3156, 3169, 3608, 4013],\n",
        " 'subst': [708, 1946, 1964, 2344, 2374, 3353, 3708, 3966, 5761],\n",
        " 'succe': [341, 4806],\n",
        " 'suffe': [5366],\n",
        " 'sugge': [5445],\n",
        " 'suite': [930],\n",
        " 'summi': [2690],\n",
        " 'suppl': [5584, 5587],\n",
        " 'suppo': [5561],\n",
        " 'surpr': [4744],\n",
        " 'symbo': [654, 1892],\n",
        " 'symme': [3131],\n",
        " 'synon': [707, 2340, 2342],\n",
        " 'table': [3935, 4052, 4268, 4318, 4416, 4473, 4660, 4740],\n",
        " 'taken': [1097, 1899],\n",
        " 'takes': [3257],\n",
        " 'tende': [4546],\n",
        " 'terme': [822],\n",
        " 'teste': [3074, 3581],\n",
        " 'tests': [689],\n",
        " 'teuko': [6021],\n",
        " 'thank': [5484, 5511, 5521, 5539, 5550],\n",
        " 'their': [192, 533, 994, 1037, 1118, 1152, 2208, 4375, 5196, 5552, 5828],\n",
        " 'theor': [6116],\n",
        " 'there': [401, 421, 1131, 1880, 2911, 3016, 3572, 4604, 4675, 5146, 5290],\n",
        " 'these': [343,\n",
        "  1127,\n",
        "  2502,\n",
        "  2550,\n",
        "  3383,\n",
        "  3408,\n",
        "  3610,\n",
        "  3865,\n",
        "  4147,\n",
        "  4256,\n",
        "  4437,\n",
        "  4557,\n",
        "  4821,\n",
        "  4900,\n",
        "  5153],\n",
        " 'thesi': [6052],\n",
        " 'thoma': [5488],\n",
        " 'thorn': [5053, 5734, 6084],\n",
        " 'those': [4091, 4726],\n",
        " 'three': [1048, 1073, 1076, 1761, 2229, 3807, 3988],\n",
        " 'throu': [997, 2110, 2567, 2800, 2851, 3281],\n",
        " 'times': [2532],\n",
        " 'tkfmo': [5057],\n",
        " 'toget': [2004],\n",
        " 'topol': [1995, 2759],\n",
        " 'total': [3253, 3574, 3692],\n",
        " 'tradi': [429, 946, 2480, 2577, 2639],\n",
        " 'trans': [1228,\n",
        "  1295,\n",
        "  1349,\n",
        "  1472,\n",
        "  1488,\n",
        "  1492,\n",
        "  1552,\n",
        "  1555,\n",
        "  1563,\n",
        "  1575,\n",
        "  1578,\n",
        "  1586,\n",
        "  1608,\n",
        "  1958,\n",
        "  2329,\n",
        "  2455,\n",
        "  2526,\n",
        "  2817,\n",
        "  3678,\n",
        "  4614,\n",
        "  4909,\n",
        "  5940,\n",
        "  6114],\n",
        " 'treat': [989, 1636, 2891],\n",
        " 'treeb': [4866],\n",
        " 'trees': [5707, 5739],\n",
        " 'tripl': [1771, 1786, 1930, 2246, 2298, 5029],\n",
        " 'tstvr': [3676],\n",
        " 'tutor': [6037],\n",
        " 'twins': [595, 4855],\n",
        " 'twost': [565, 5077],\n",
        " 'types': [463, 1050, 1130],\n",
        " 'unali': [2945],\n",
        " 'unava': [5104],\n",
        " 'under': [3397, 3414],\n",
        " 'unifo': [3675],\n",
        " 'unive': [35, 49, 627, 5702, 6032, 6062, 6127],\n",
        " 'unpub': [558, 5650],\n",
        " 'until': [5437],\n",
        " 'upper': [1619, 1750],\n",
        " 'upstr': [4429],\n",
        " 'usefu': [3924, 4693, 5473],\n",
        " 'using': [191,\n",
        "  843,\n",
        "  3054,\n",
        "  3119,\n",
        "  3301,\n",
        "  3407,\n",
        "  4260,\n",
        "  4799,\n",
        "  5195,\n",
        "  5737,\n",
        "  5796,\n",
        "  5866],\n",
        " 'valua': [5541],\n",
        " 'value': [3420, 3994],\n",
        " 'varia': [963],\n",
        " 'versi': [615, 3182],\n",
        " 'vette': [6022],\n",
        " 'visit': [1255, 1274, 1504, 1594],\n",
        " 'visua': [4262, 5599],\n",
        " 'viter': [2877, 2879, 6101],\n",
        " 'water': [6002],\n",
        " 'welch': [2808],\n",
        " 'wellk': [5416],\n",
        " 'where': [787, 4388],\n",
        " 'which': [447,\n",
        "  457,\n",
        "  492,\n",
        "  926,\n",
        "  1416,\n",
        "  1811,\n",
        "  2003,\n",
        "  2354,\n",
        "  2403,\n",
        "  2438,\n",
        "  2636,\n",
        "  2666,\n",
        "  2789,\n",
        "  2933,\n",
        "  3157,\n",
        "  3885,\n",
        "  4176,\n",
        "  4468,\n",
        "  4921,\n",
        "  5043,\n",
        "  5307,\n",
        "  5317],\n",
        " 'while': [2242],\n",
        " 'whole': [96],\n",
        " 'widel': [791],\n",
        " 'withi': [296],\n",
        " 'witho': [424, 4912],\n",
        " 'would': [2074, 4063, 4826],\n",
        " 'wrong': [4357, 4574, 5217],\n",
        " 'xgive': [2678],\n",
        " 'yangz': [5755, 6118],\n",
        " 'yanot': [5772],\n",
        " 'years': [277, 774],\n",
        " 'zihen': [5508]}"
       ]
      }
     ],
     "prompt_number": 69
    },
    {
     "cell_type": "code",
     "collapsed": false,
     "input": [
      "dcts[0].keys()"
     ],
     "language": "python",
     "metadata": {},
     "outputs": [
      {
       "metadata": {},
       "output_type": "pyout",
       "prompt_number": 70,
       "text": [
        "['chain',\n",
        " 'funct',\n",
        " 'leadi',\n",
        " 'agrow',\n",
        " 'attri',\n",
        " 'asymp',\n",
        " 'query',\n",
        " 'anony',\n",
        " 'helpf',\n",
        " 'selec',\n",
        " 'accur',\n",
        " 'const',\n",
        " 'regar',\n",
        " 'graph',\n",
        " 'marko',\n",
        " 'nonsy',\n",
        " 'becau',\n",
        " 'evolv',\n",
        " 'crite',\n",
        " 'conse',\n",
        " 'under',\n",
        " 'consi',\n",
        " 'nodes',\n",
        " 'heter',\n",
        " 'jakob',\n",
        " 'unali',\n",
        " 'sourc',\n",
        " 'cheap',\n",
        " 'mitoc',\n",
        " 'every',\n",
        " 'depar',\n",
        " 'blast',\n",
        " 'relev',\n",
        " 'recip',\n",
        " 'level',\n",
        " 'disti',\n",
        " 'leave',\n",
        " 'dsrat',\n",
        " 'distr',\n",
        " 'small',\n",
        " 'poste',\n",
        " 'leavi',\n",
        " 'valua',\n",
        " 'pleas',\n",
        " 'upper',\n",
        " 'tkfmo',\n",
        " 'speci',\n",
        " 'exten',\n",
        " 'codin',\n",
        " 'genba',\n",
        " 'imple',\n",
        " 'direc',\n",
        " 'colin',\n",
        " 'heinj',\n",
        " 'manus',\n",
        " 'setti',\n",
        " 'clock',\n",
        " 'indep',\n",
        " 'predi',\n",
        " 'unifo',\n",
        " 'forsb',\n",
        " 'twins',\n",
        " 'above',\n",
        " 'viter',\n",
        " 'jhein',\n",
        " 'chose',\n",
        " 'gener',\n",
        " 'genes',\n",
        " 'genet',\n",
        " 'avera',\n",
        " 'elsev',\n",
        " 'benef',\n",
        " 'inher',\n",
        " 'alone',\n",
        " 'ratio',\n",
        " 'along',\n",
        " 'becom',\n",
        " 'genef',\n",
        " 'janua',\n",
        " 'great',\n",
        " 'repre',\n",
        " 'conta',\n",
        " 'restr',\n",
        " 'study',\n",
        " 'conti',\n",
        " 'goldm',\n",
        " 'examp',\n",
        " 'diffe',\n",
        " 'studi',\n",
        " 'diffi',\n",
        " 'makes',\n",
        " 'extre',\n",
        " 'extra',\n",
        " 'appli',\n",
        " 'strat',\n",
        " 'calcu',\n",
        " 'inste',\n",
        " 'stran',\n",
        " 'insta',\n",
        " 'welch',\n",
        " 'apply',\n",
        " 'total',\n",
        " 'insti',\n",
        " 'memor',\n",
        " 'takes',\n",
        " 'would',\n",
        " 'httpb',\n",
        " 'unive',\n",
        " 'provi',\n",
        " 'visit',\n",
        " 'suppl',\n",
        " 'suppo',\n",
        " 'httpw',\n",
        " 'chapt',\n",
        " 'taken',\n",
        " 'scope',\n",
        " 'until',\n",
        " 'repor',\n",
        " 'mclac',\n",
        " 'depen',\n",
        " 'recen',\n",
        " 'relat',\n",
        " 'ecolo',\n",
        " 'desig',\n",
        " 'quali',\n",
        " 'absol',\n",
        " 'confe',\n",
        " 'suite',\n",
        " 'known',\n",
        " 'confi',\n",
        " 'stade',\n",
        " 'promo',\n",
        " 'annot',\n",
        " 'situa',\n",
        " 'trans',\n",
        " 'adiff',\n",
        " 'lacki',\n",
        " 'recom',\n",
        " 'sugge',\n",
        " 'nearl',\n",
        " 'emiss',\n",
        " 'produ',\n",
        " 'indic',\n",
        " 'addre',\n",
        " 'sense',\n",
        " 'onlin',\n",
        " 'sensi',\n",
        " 'bjarn',\n",
        " 'occur',\n",
        " 'prece',\n",
        " 'agene',\n",
        " 'divid',\n",
        " 'parsi',\n",
        " 'burge',\n",
        " 'roden',\n",
        " 'flann',\n",
        " 'mikke',\n",
        " 'stron',\n",
        " 'stoch',\n",
        " 'sanko',\n",
        " 'exhau',\n",
        " 'respe',\n",
        " 'yanot',\n",
        " 'heuri',\n",
        " 'appro',\n",
        " 'knuds',\n",
        " 'remai',\n",
        " 'highe',\n",
        " 'types',\n",
        " 'short',\n",
        " 'blayo',\n",
        " 'growi',\n",
        " 'advan',\n",
        " 'ortho',\n",
        " 'patie',\n",
        " 'allow',\n",
        " 'anoth',\n",
        " 'gaple',\n",
        " 'isola',\n",
        " 'order',\n",
        " 'linea',\n",
        " 'commu',\n",
        " 'tradi',\n",
        " 'signa',\n",
        " 'enter',\n",
        " 'areas',\n",
        " 'signi',\n",
        " 'years',\n",
        " 'inspi',\n",
        " 'commo',\n",
        " 'still',\n",
        " 'dynam',\n",
        " 'equiv',\n",
        " 'forma',\n",
        " 'group',\n",
        " 'thank',\n",
        " 'droso',\n",
        " 'proje',\n",
        " 'assem',\n",
        " 'cross',\n",
        " 'oxfor',\n",
        " 'proce',\n",
        " 'aprob',\n",
        " 'initi',\n",
        " 'devel',\n",
        " 'downl',\n",
        " 'doing',\n",
        " 'gphmm',\n",
        " 'flexi',\n",
        " 'simpl',\n",
        " 'visua',\n",
        " 'separ',\n",
        " 'genom',\n",
        " 'found',\n",
        " 'fulll',\n",
        " 'sagot',\n",
        " 'rouze',\n",
        " 'searc',\n",
        " 'jones',\n",
        " 'exons',\n",
        " 'resul',\n",
        " 'searl',\n",
        " 'itsel',\n",
        " 'begun',\n",
        " 'event',\n",
        " 'danis',\n",
        " 'large',\n",
        " 'shown',\n",
        " 'space',\n",
        " 'showe',\n",
        " 'amste',\n",
        " 'deskt',\n",
        " 'comme',\n",
        " 'durbi',\n",
        " 'cause',\n",
        " 'highs',\n",
        " 'symme',\n",
        " 'shows',\n",
        " 'quadr',\n",
        " 'proxi',\n",
        " 'lenga',\n",
        " 'twost',\n",
        " 'publi',\n",
        " 'recog',\n",
        " 'pairs',\n",
        " 'pairw',\n",
        " 'londo',\n",
        " 'could',\n",
        " 'asses',\n",
        " 'aarhu',\n",
        " 'wrong',\n",
        " 'times',\n",
        " 'hence',\n",
        " 'south',\n",
        " 'first',\n",
        " 'musac',\n",
        " 'betwe',\n",
        " 'given',\n",
        " 'sheet',\n",
        " 'guest',\n",
        " 'start',\n",
        " 'capab',\n",
        " 'conne',\n",
        " 'metho',\n",
        " 'their',\n",
        " 'rates',\n",
        " 'prono',\n",
        " 'storm',\n",
        " 'natur',\n",
        " 'circa',\n",
        " 'final',\n",
        " 'kulpd',\n",
        " 'progr',\n",
        " 'grant',\n",
        " 'abril',\n",
        " 'orpha',\n",
        " 'norma',\n",
        " 'jotun',\n",
        " 'serve',\n",
        " 'fabpi',\n",
        " 'eddys',\n",
        " 'flice',\n",
        " 'algor',\n",
        " 'pevzn',\n",
        " 'remov',\n",
        " 'bindi',\n",
        " 'exptq',\n",
        " 'histo',\n",
        " 'kishi',\n",
        " 'posit',\n",
        " 'scien',\n",
        " 'follo',\n",
        " 'surpr',\n",
        " 'false',\n",
        " 'burse',\n",
        " 'bigge',\n",
        " 'biolo',\n",
        " 'alike',\n",
        " 'churc',\n",
        " 'exper',\n",
        " 'prepr',\n",
        " 'paths',\n",
        " 'disju',\n",
        " 'schou',\n",
        " 'exhib',\n",
        " 'parks',\n",
        " 'eukar',\n",
        " 'build',\n",
        " 'which',\n",
        " 'thoma',\n",
        " 'donor',\n",
        " 'patho',\n",
        " 'singl',\n",
        " 'compa',\n",
        " 'maste',\n",
        " 'compe',\n",
        " 'compi',\n",
        " 'inves',\n",
        " 'compo',\n",
        " 'compl',\n",
        " 'eight',\n",
        " 'falli',\n",
        " 'wellk',\n",
        " 'compu',\n",
        " 'chara',\n",
        " 'alpha',\n",
        " 'class',\n",
        " 'putat',\n",
        " 'obvio',\n",
        " 'archi',\n",
        " 'ackno',\n",
        " 'munke',\n",
        " 'clear',\n",
        " 'adopt',\n",
        " 'logen',\n",
        " 'datab',\n",
        " 'fille',\n",
        " 'gramm',\n",
        " 'attra',\n",
        " 'miron',\n",
        " 'probl',\n",
        " 'maint',\n",
        " 'proba',\n",
        " 'empir',\n",
        " 'fifth',\n",
        " 'equil',\n",
        " 'based',\n",
        " 'vette',\n",
        " 'conju',\n",
        " 'varia',\n",
        " 'state',\n",
        " 'combi',\n",
        " 'denma',\n",
        " 'helix',\n",
        " 'hidde',\n",
        " 'gains',\n",
        " 'nonco',\n",
        " 'tripl',\n",
        " 'trees',\n",
        " 'autom',\n",
        " 'accep',\n",
        " 'secon',\n",
        " 'struc',\n",
        " 'abstr',\n",
        " 'slowl',\n",
        " 'treeb',\n",
        " 'disca',\n",
        " 'witho',\n",
        " 'withi',\n",
        " 'organ',\n",
        " 'frequ',\n",
        " 'athlo',\n",
        " 'forwa',\n",
        " 'huson',\n",
        " 'eithe',\n",
        " 'discr',\n",
        " 'discu',\n",
        " 'letti',\n",
        " 'where',\n",
        " 'expen',\n",
        " 'analy',\n",
        " 'expec',\n",
        " 'frame',\n",
        " 'inapp',\n",
        " 'larse',\n",
        " 'hauss',\n",
        " 'corre',\n",
        " 'close',\n",
        " 'diver',\n",
        " 'deriv',\n",
        " 'prope',\n",
        " 'movin',\n",
        " 'error',\n",
        " 'synon',\n",
        " 'mitch',\n",
        " 'possi',\n",
        " 'sites',\n",
        " 'figur',\n",
        " 'score',\n",
        " 'makov',\n",
        " 'drawb',\n",
        " 'stati',\n",
        " 'scori',\n",
        " 'measu',\n",
        " 'istra',\n",
        " 'numer',\n",
        " 'seque',\n",
        " 'effec',\n",
        " 'duand',\n",
        " 'terme',\n",
        " 'buttr',\n",
        " 'resem',\n",
        " 'condi',\n",
        " 'addit',\n",
        " 'water',\n",
        " 'patte',\n",
        " 'conce',\n",
        " 'findi',\n",
        " 'howev',\n",
        " 'finde',\n",
        " 'equal',\n",
        " 'schar',\n",
        " 'marti',\n",
        " 'equat',\n",
        " 'whole',\n",
        " 'finds',\n",
        " 'usefu',\n",
        " 'jsped',\n",
        " 'cawle',\n",
        " 'unava',\n",
        " 'salzb',\n",
        " 'widel',\n",
        " 'color',\n",
        " 'miani',\n",
        " 'likel',\n",
        " 'codon',\n",
        " 'xgive',\n",
        " 'skipp',\n",
        " 'table',\n",
        " 'assum',\n",
        " 'abili',\n",
        " 'amino',\n",
        " 'ribos',\n",
        " 'krogh',\n",
        " 'raise',\n",
        " 'recur',\n",
        " 'expli',\n",
        " 'three',\n",
        " 'devia',\n",
        " 'tutor',\n",
        " 'treat',\n",
        " 'phylo',\n",
        " 'cambr',\n",
        " 'conte',\n",
        " 'nucle',\n",
        " 'regul',\n",
        " 'ccode',\n",
        " 'sekve',\n",
        " 'nonge',\n",
        " 'poten',\n",
        " 'baumw',\n",
        " 'hmmba',\n",
        " 'upstr',\n",
        " 'those',\n",
        " 'tstvr',\n",
        " 'multi',\n",
        " 'ident',\n",
        " 'thesi',\n",
        " 'conve',\n",
        " 'these',\n",
        " 'align',\n",
        " 'convo',\n",
        " 'value',\n",
        " 'nekru',\n",
        " 'defin',\n",
        " 'while',\n",
        " 'explo',\n",
        " 'match',\n",
        " 'chall',\n",
        " 'expla',\n",
        " 'amoun',\n",
        " 'incor',\n",
        " 'readi',\n",
        " 'demon',\n",
        " 'motiv',\n",
        " 'summi',\n",
        " 'numbe',\n",
        " 'incom',\n",
        " 'revis',\n",
        " 'mouse',\n",
        " 'cente',\n",
        " 'splic',\n",
        " 'neith',\n",
        " 'evide',\n",
        " 'minim',\n",
        " 'parti',\n",
        " 'toget',\n",
        " 'prote',\n",
        " 'handl',\n",
        " 'gelfa',\n",
        " 'simil',\n",
        " 'quant',\n",
        " 'split',\n",
        " 'teuko',\n",
        " 'growt',\n",
        " 'again',\n",
        " 'optim',\n",
        " 'perfo',\n",
        " 'contr',\n",
        " 'colle',\n",
        " 'overa',\n",
        " 'solut',\n",
        " 'chang',\n",
        " 'rabin',\n",
        " 'batzo',\n",
        " 'lower',\n",
        " 'mesir',\n",
        " 'entri',\n",
        " 'costl',\n",
        " 'solve',\n",
        " 'reese',\n",
        " 'choos',\n",
        " 'genid',\n",
        " 'model',\n",
        " 'eeckm',\n",
        " 'purel',\n",
        " 'givin',\n",
        " 'among',\n",
        " 'being',\n",
        " 'hkymo',\n",
        " 'incre',\n",
        " 'hmmge',\n",
        " 'topol',\n",
        " 'human',\n",
        " 'pacht',\n",
        " 'speec',\n",
        " 'fragm',\n",
        " 'shoul',\n",
        " 'param',\n",
        " 'havin',\n",
        " 'unpub',\n",
        " 'input',\n",
        " 'expon',\n",
        " 'versi',\n",
        " 'suffe',\n",
        " 'tests',\n",
        " 'march',\n",
        " 'prese',\n",
        " 'regis',\n",
        " 'early',\n",
        " 'regio',\n",
        " 'teste',\n",
        " 'overp',\n",
        " 'press',\n",
        " 'using',\n",
        " 'zihen',\n",
        " 'intel',\n",
        " 'mispr',\n",
        " 'previ',\n",
        " 'obser',\n",
        " 'integ',\n",
        " 'fully',\n",
        " 'mispl',\n",
        " 'inter',\n",
        " 'right',\n",
        " 'often',\n",
        " 'korfi',\n",
        " 'bette',\n",
        " 'maxim',\n",
        " 'easil',\n",
        " 'pseud',\n",
        " 'hypot',\n",
        " 'peter',\n",
        " 'gensc',\n",
        " 'brent',\n",
        " 'tende',\n",
        " 'scale',\n",
        " 'butis',\n",
        " 'avoid',\n",
        " 'medaw',\n",
        " 'evolu',\n",
        " 'estim',\n",
        " 'detec',\n",
        " 'bogus',\n",
        " 'datin',\n",
        " 'guigo',\n",
        " 'stopc',\n",
        " 'refer',\n",
        " 'reimp',\n",
        " 'noise',\n",
        " 'power',\n",
        " 'peder',\n",
        " 'karli',\n",
        " 'schie',\n",
        " 'canno',\n",
        " 'argma',\n",
        " 'powel',\n",
        " 'plots',\n",
        " 'emitt',\n",
        " 'emits',\n",
        " 'plott',\n",
        " 'throu',\n",
        " 'curre',\n",
        " 'about',\n",
        " 'accor',\n",
        " 'ehmmb',\n",
        " 'simul',\n",
        " 'range',\n",
        " 'ander',\n",
        " 'misma',\n",
        " 'ehmms',\n",
        " 'strin',\n",
        " 'chimp',\n",
        " 'bound',\n",
        " 'prefe',\n",
        " 'lande',\n",
        " 'makal',\n",
        " 'yangz',\n",
        " 'subse',\n",
        " 'missi',\n",
        " 'bioin',\n",
        " 'there',\n",
        " 'diago',\n",
        " 'pages',\n",
        " 'avail',\n",
        " 'lengt',\n",
        " 'subst',\n",
        " 'inner',\n",
        " 'botto',\n",
        " 'relie',\n",
        " 'alexa',\n",
        " 'impro',\n",
        " 'roald',\n",
        " 'branc',\n",
        " 'felse',\n",
        " 'inclu',\n",
        " 'infor',\n",
        " 'illus',\n",
        " 'count',\n",
        " 'succe',\n",
        " 'reser',\n",
        " 'coeff',\n",
        " 'belon',\n",
        " 'molec',\n",
        " 'gffps',\n",
        " 'below',\n",
        " 'kasif',\n",
        " 'limit',\n",
        " 'resea',\n",
        " 'counc',\n",
        " 'mista',\n",
        " 'thorn',\n",
        " 'later',\n",
        " 'colum',\n",
        " 'evalu',\n",
        " 'bafna',\n",
        " 'attem',\n",
        " 'matri',\n",
        " 'intro',\n",
        " 'exist',\n",
        " 'pxabe',\n",
        " 'acros',\n",
        " 'denot',\n",
        " 'sligh',\n",
        " 'codes',\n",
        " 'descr',\n",
        " 'distu',\n",
        " 'excep',\n",
        " 'other',\n",
        " 'roset',\n",
        " 'theor',\n",
        " 'ahypo',\n",
        " 'haseg',\n",
        " 'jspda',\n",
        " 'decod',\n",
        " 'mamma',\n",
        " 'recei',\n",
        " 'chris',\n",
        " 'itera',\n",
        " 'reduc',\n",
        " 'berge',\n",
        " 'symbo',\n",
        " 'glass',\n",
        " 'menti',\n",
        " 'exclu',\n",
        " 'acids',\n",
        " 'homol',\n",
        " 'calle',\n",
        " 'misal',\n",
        " 'neces',\n",
        " 'affec']"
       ]
      }
     ],
     "prompt_number": 70
    },
    {
     "cell_type": "code",
     "collapsed": false,
     "input": [
      "['aa','bb']+['cc']"
     ],
     "language": "python",
     "metadata": {},
     "outputs": [
      {
       "metadata": {},
       "output_type": "pyout",
       "prompt_number": 94,
       "text": [
        "['aa', 'bb', 'cc']"
       ]
      }
     ],
     "prompt_number": 94
    },
    {
     "cell_type": "code",
     "collapsed": false,
     "input": [
      "# Code 15-6\n",
      "def GoodWords( dcts ):\n",
      "    ND = len( dcts )\n",
      "    gw = []\n",
      "    for i in range( ND ):\n",
      "        gw = gw + dcts[i].keys()\n",
      "    gw = set( gw )\n",
      "    gw = list( gw )\n",
      "    return gw"
     ],
     "language": "python",
     "metadata": {},
     "outputs": [],
     "prompt_number": 71
    },
    {
     "cell_type": "code",
     "collapsed": false,
     "input": [
      "s= 0\n",
      "for i in range(10) :\n",
      "    s += len(dcts[i])\n",
      "print s  "
     ],
     "language": "python",
     "metadata": {},
     "outputs": [
      {
       "output_type": "stream",
       "stream": "stdout",
       "text": [
        "5279\n"
       ]
      }
     ],
     "prompt_number": 137
    },
    {
     "cell_type": "code",
     "collapsed": false,
     "input": [
      "gw = GoodWords(dcts)"
     ],
     "language": "python",
     "metadata": {},
     "outputs": [],
     "prompt_number": 73
    },
    {
     "cell_type": "code",
     "collapsed": false,
     "input": [
      "len(gw)"
     ],
     "language": "python",
     "metadata": {},
     "outputs": [
      {
       "metadata": {},
       "output_type": "pyout",
       "prompt_number": 74,
       "text": [
        "2615"
       ]
      }
     ],
     "prompt_number": 74
    },
    {
     "cell_type": "code",
     "collapsed": false,
     "input": [
      "gw[0:10]"
     ],
     "language": "python",
     "metadata": {},
     "outputs": [
      {
       "metadata": {},
       "output_type": "pyout",
       "prompt_number": 75,
       "text": [
        "['elega',\n",
        " 'noisy',\n",
        " 'proli',\n",
        " 'prere',\n",
        " 'asymp',\n",
        " 'messe',\n",
        " 'surve',\n",
        " 'selec',\n",
        " 'votes',\n",
        " 'accur']"
       ]
      }
     ],
     "prompt_number": 75
    },
    {
     "cell_type": "code",
     "collapsed": false,
     "input": [
      "list(['aa','bb','cc'])[2]"
     ],
     "language": "python",
     "metadata": {},
     "outputs": [
      {
       "metadata": {},
       "output_type": "pyout",
       "prompt_number": 83,
       "text": [
        "'cc'"
       ]
      }
     ],
     "prompt_number": 83
    },
    {
     "cell_type": "code",
     "collapsed": false,
     "input": [
      "set(['aa','bb','cc'])[2]  # set \uc740 index \uac00 \uc548\ub41c\ub2e4"
     ],
     "language": "python",
     "metadata": {},
     "outputs": [
      {
       "ename": "TypeError",
       "evalue": "'set' object does not support indexing",
       "output_type": "pyerr",
       "traceback": [
        "\u001b[1;31m---------------------------------------------------------------------------\u001b[0m\n\u001b[1;31mTypeError\u001b[0m                                 Traceback (most recent call last)",
        "\u001b[1;32m<ipython-input-98-7145247f333c>\u001b[0m in \u001b[0;36m<module>\u001b[1;34m()\u001b[0m\n\u001b[1;32m----> 1\u001b[1;33m \u001b[0mset\u001b[0m\u001b[1;33m(\u001b[0m\u001b[1;33m[\u001b[0m\u001b[1;34m'aa'\u001b[0m\u001b[1;33m,\u001b[0m\u001b[1;34m'bb'\u001b[0m\u001b[1;33m,\u001b[0m\u001b[1;34m'cc'\u001b[0m\u001b[1;33m]\u001b[0m\u001b[1;33m)\u001b[0m\u001b[1;33m[\u001b[0m\u001b[1;36m2\u001b[0m\u001b[1;33m]\u001b[0m  \u001b[1;31m# set \uc740 index \uac00 \uc548\ub41c\ub2e4\u001b[0m\u001b[1;33m\u001b[0m\u001b[0m\n\u001b[0m",
        "\u001b[1;31mTypeError\u001b[0m: 'set' object does not support indexing"
       ]
      }
     ],
     "prompt_number": 98
    },
    {
     "cell_type": "code",
     "collapsed": false,
     "input": [
      "len(list(gw))"
     ],
     "language": "python",
     "metadata": {},
     "outputs": [
      {
       "metadata": {},
       "output_type": "pyout",
       "prompt_number": 76,
       "text": [
        "2615"
       ]
      }
     ],
     "prompt_number": 76
    },
    {
     "cell_type": "code",
     "collapsed": false,
     "input": [
      "#############  code 15-9 \ubd80\ud130 \uacc4\uc18d"
     ],
     "language": "python",
     "metadata": {},
     "outputs": [],
     "prompt_number": 171
    },
    {
     "cell_type": "code",
     "collapsed": false,
     "input": [
      "from numpy import * # for zeros func"
     ],
     "language": "python",
     "metadata": {},
     "outputs": [],
     "prompt_number": 205
    },
    {
     "cell_type": "code",
     "collapsed": false,
     "input": [
      "# Code 15-9\n",
      "# build a word count matrix\n",
      "def WordCountMat(dcts ):\n",
      "    # dcts is a list of dct\n",
      "    ND = len( dcts )  # number of dicts\n",
      "    # find all words in all dicts\n",
      "    goodwords = GoodWords( dcts )\n",
      "    LW = len( goodwords )\n",
      "    wcmat = zeros( (ND,LW), int )\n",
      "    for i in range( ND ):\n",
      "        for j in range( LW ):\n",
      "            if goodwords[j] in dcts[i]:\n",
      "                wcmat[i,j] = len( dcts[i][goodwords[j]] )\n",
      "    return wcmat"
     ],
     "language": "python",
     "metadata": {},
     "outputs": [],
     "prompt_number": 78
    },
    {
     "cell_type": "code",
     "collapsed": false,
     "input": [
      "wcm = WordCountMat(dcts)"
     ],
     "language": "python",
     "metadata": {},
     "outputs": [],
     "prompt_number": 79
    },
    {
     "cell_type": "code",
     "collapsed": false,
     "input": [
      "wcm.shape\n"
     ],
     "language": "python",
     "metadata": {},
     "outputs": [
      {
       "metadata": {},
       "output_type": "pyout",
       "prompt_number": 80,
       "text": [
        "(10, 2615)"
       ]
      }
     ],
     "prompt_number": 80
    },
    {
     "cell_type": "code",
     "collapsed": false,
     "input": [
      "wcm[:,:10]"
     ],
     "language": "python",
     "metadata": {},
     "outputs": [
      {
       "metadata": {},
       "output_type": "pyout",
       "prompt_number": 81,
       "text": [
        "array([[ 0,  0,  0,  0,  1,  0,  0,  2,  0,  9],\n",
        "       [ 0,  0,  0,  0,  0,  0,  0,  0,  0,  0],\n",
        "       [ 0,  0,  0,  0,  0,  0,  0,  0,  0,  0],\n",
        "       [ 0,  0,  0,  0,  0,  0,  0, 15,  0,  0],\n",
        "       [ 0,  0,  0,  1,  0,  1,  3,  7,  0,  1],\n",
        "       [ 0,  0,  0,  0,  0,  0,  1,  6,  1,  1],\n",
        "       [ 0,  0,  0,  0,  0,  0,  0,  0,  0,  2],\n",
        "       [ 2,  0,  3,  0,  0,  0,  2,  5,  0, 25],\n",
        "       [ 0,  0,  0,  0,  0,  0,  0,  0,  0,  0],\n",
        "       [ 0,  4,  0,  0,  0,  0,  0,  1,  0,  5]])"
       ]
      }
     ],
     "prompt_number": 81
    },
    {
     "cell_type": "code",
     "collapsed": false,
     "input": [
      "wcm[:10]"
     ],
     "language": "python",
     "metadata": {},
     "outputs": [
      {
       "metadata": {},
       "output_type": "pyout",
       "prompt_number": 82,
       "text": [
        "array([[0, 0, 0, ..., 0, 0, 0],\n",
        "       [0, 0, 0, ..., 0, 0, 0],\n",
        "       [0, 0, 0, ..., 0, 0, 0],\n",
        "       ..., \n",
        "       [2, 0, 3, ..., 0, 0, 0],\n",
        "       [0, 0, 0, ..., 0, 0, 0],\n",
        "       [0, 4, 0, ..., 0, 0, 0]])"
       ]
      }
     ],
     "prompt_number": 82
    },
    {
     "cell_type": "code",
     "collapsed": false,
     "input": [
      "gw[:12]"
     ],
     "language": "python",
     "metadata": {},
     "outputs": [
      {
       "metadata": {},
       "output_type": "pyout",
       "prompt_number": 83,
       "text": [
        "['elega',\n",
        " 'noisy',\n",
        " 'proli',\n",
        " 'prere',\n",
        " 'asymp',\n",
        " 'messe',\n",
        " 'surve',\n",
        " 'selec',\n",
        " 'votes',\n",
        " 'accur',\n",
        " 'const',\n",
        " 'consu']"
       ]
      }
     ],
     "prompt_number": 83
    },
    {
     "cell_type": "code",
     "collapsed": false,
     "input": [
      "# Code 15-10\n",
      "# probabilities of words occuring in docs\n",
      "def WordFreqMat( wcmat ):\n",
      "    V = len( wcmat )\n",
      "    pmat = zeros( wcmat.shape, float )\n",
      "    for i in range( V ):\n",
      "        pmat[i] = wcmat[i]/float( wcmat[i].sum() )\n",
      "    return pmat"
     ],
     "language": "python",
     "metadata": {},
     "outputs": [],
     "prompt_number": 84
    },
    {
     "cell_type": "code",
     "collapsed": false,
     "input": [
      "(wcm[9]/float( wcm[9].sum()) )[0:10]  ## 10\ud589 2\uc5f4"
     ],
     "language": "python",
     "metadata": {},
     "outputs": [
      {
       "metadata": {},
       "output_type": "pyout",
       "prompt_number": 90,
       "text": [
        "array([ 0.    ,  0.0028,  0.    ,  0.    ,  0.    ,  0.    ,  0.    ,\n",
        "        0.0007,  0.    ,  0.0035])"
       ]
      }
     ],
     "prompt_number": 90
    },
    {
     "cell_type": "code",
     "collapsed": false,
     "input": [
      "wcm[9].sum()"
     ],
     "language": "python",
     "metadata": {},
     "outputs": [
      {
       "metadata": {},
       "output_type": "pyout",
       "prompt_number": 91,
       "text": [
        "1449"
       ]
      }
     ],
     "prompt_number": 91
    },
    {
     "cell_type": "code",
     "collapsed": false,
     "input": [
      "set_printoptions(precision=4)"
     ],
     "language": "python",
     "metadata": {},
     "outputs": [],
     "prompt_number": 87
    },
    {
     "cell_type": "code",
     "collapsed": false,
     "input": [
      "wfm = WordFreqMat(wcm)"
     ],
     "language": "python",
     "metadata": {},
     "outputs": [],
     "prompt_number": 92
    },
    {
     "cell_type": "code",
     "collapsed": false,
     "input": [
      "wfm[:,:7]"
     ],
     "language": "python",
     "metadata": {},
     "outputs": [
      {
       "metadata": {},
       "output_type": "pyout",
       "prompt_number": 93,
       "text": [
        "array([[ 0.    ,  0.    ,  0.    ,  0.    ,  0.0003,  0.    ,  0.    ],\n",
        "       [ 0.    ,  0.    ,  0.    ,  0.    ,  0.    ,  0.    ,  0.    ],\n",
        "       [ 0.    ,  0.    ,  0.    ,  0.    ,  0.    ,  0.    ,  0.    ],\n",
        "       [ 0.    ,  0.    ,  0.    ,  0.    ,  0.    ,  0.    ,  0.    ],\n",
        "       [ 0.    ,  0.    ,  0.    ,  0.0003,  0.    ,  0.0003,  0.0009],\n",
        "       [ 0.    ,  0.    ,  0.    ,  0.    ,  0.    ,  0.    ,  0.0006],\n",
        "       [ 0.    ,  0.    ,  0.    ,  0.    ,  0.    ,  0.    ,  0.    ],\n",
        "       [ 0.0004,  0.    ,  0.0006,  0.    ,  0.    ,  0.    ,  0.0004],\n",
        "       [ 0.    ,  0.    ,  0.    ,  0.    ,  0.    ,  0.    ,  0.    ],\n",
        "       [ 0.    ,  0.0028,  0.    ,  0.    ,  0.    ,  0.    ,  0.    ]])"
       ]
      }
     ],
     "prompt_number": 93
    },
    {
     "cell_type": "code",
     "collapsed": false,
     "input": [
      "4.0/wcm[9].sum() # 10\ud589 2\uc5f4 , 10\ud589\ud569"
     ],
     "language": "python",
     "metadata": {},
     "outputs": [
      {
       "metadata": {},
       "output_type": "pyout",
       "prompt_number": 94,
       "text": [
        "0.0027605244996549345"
       ]
      }
     ],
     "prompt_number": 94
    },
    {
     "cell_type": "code",
     "collapsed": false,
     "input": [
      "wcm[9].sum() "
     ],
     "language": "python",
     "metadata": {},
     "outputs": [
      {
       "metadata": {},
       "output_type": "pyout",
       "prompt_number": 95,
       "text": [
        "1449"
       ]
      }
     ],
     "prompt_number": 95
    },
    {
     "cell_type": "code",
     "collapsed": false,
     "input": [
      "# Code 15-11\n",
      "# probablitiy of seeing a word in ANY doc\n",
      "def WordProb( wcmat ):\n",
      "    vsum = wcmat.sum( 0 )  # number of times each word is seen\n",
      "    tot = vsum.sum() # total number of words\n",
      "    pvec = vsum/float(tot)\n",
      "    return pvec"
     ],
     "language": "python",
     "metadata": {},
     "outputs": [],
     "prompt_number": 96
    },
    {
     "cell_type": "code",
     "collapsed": false,
     "input": [
      "wpr = WordProb(wcm)"
     ],
     "language": "python",
     "metadata": {},
     "outputs": [],
     "prompt_number": 97
    },
    {
     "cell_type": "code",
     "collapsed": false,
     "input": [
      "wpr[0:9]"
     ],
     "language": "python",
     "metadata": {},
     "outputs": [
      {
       "metadata": {},
       "output_type": "pyout",
       "prompt_number": 98,
       "text": [
        "array([  9.4666e-05,   1.8933e-04,   1.4200e-04,   4.7333e-05,\n",
        "         4.7333e-05,   4.7333e-05,   2.8400e-04,   1.7040e-03,   4.7333e-05])"
       ]
      }
     ],
     "prompt_number": 98
    },
    {
     "cell_type": "code",
     "collapsed": false,
     "input": [
      "wpr[1]"
     ],
     "language": "python",
     "metadata": {},
     "outputs": [
      {
       "metadata": {},
       "output_type": "pyout",
       "prompt_number": 99,
       "text": [
        "0.0001893311875798741"
       ]
      }
     ],
     "prompt_number": 99
    },
    {
     "cell_type": "code",
     "collapsed": false,
     "input": [
      "wcm.sum(0)[0:10]"
     ],
     "language": "python",
     "metadata": {},
     "outputs": [
      {
       "metadata": {},
       "output_type": "pyout",
       "prompt_number": 100,
       "text": [
        "array([ 2,  4,  3,  1,  1,  1,  6, 36,  1, 43])"
       ]
      }
     ],
     "prompt_number": 100
    },
    {
     "cell_type": "code",
     "collapsed": false,
     "input": [
      "wcm[0:,:11]"
     ],
     "language": "python",
     "metadata": {},
     "outputs": [
      {
       "metadata": {},
       "output_type": "pyout",
       "prompt_number": 101,
       "text": [
        "array([[ 0,  0,  0,  0,  1,  0,  0,  2,  0,  9,  9],\n",
        "       [ 0,  0,  0,  0,  0,  0,  0,  0,  0,  0,  0],\n",
        "       [ 0,  0,  0,  0,  0,  0,  0,  0,  0,  0,  0],\n",
        "       [ 0,  0,  0,  0,  0,  0,  0, 15,  0,  0,  8],\n",
        "       [ 0,  0,  0,  1,  0,  1,  3,  7,  0,  1, 33],\n",
        "       [ 0,  0,  0,  0,  0,  0,  1,  6,  1,  1,  8],\n",
        "       [ 0,  0,  0,  0,  0,  0,  0,  0,  0,  2,  0],\n",
        "       [ 2,  0,  3,  0,  0,  0,  2,  5,  0, 25,  0],\n",
        "       [ 0,  0,  0,  0,  0,  0,  0,  0,  0,  0,  0],\n",
        "       [ 0,  4,  0,  0,  0,  0,  0,  1,  0,  5,  4]])"
       ]
      }
     ],
     "prompt_number": 101
    },
    {
     "cell_type": "code",
     "collapsed": false,
     "input": [
      "wcm.sum()"
     ],
     "language": "python",
     "metadata": {},
     "outputs": [
      {
       "metadata": {},
       "output_type": "pyout",
       "prompt_number": 102,
       "text": [
        "21127"
       ]
      }
     ],
     "prompt_number": 102
    },
    {
     "cell_type": "code",
     "collapsed": false,
     "input": [
      "4.0/21127   # 10\ud589 2\uc5f4"
     ],
     "language": "python",
     "metadata": {},
     "outputs": [
      {
       "metadata": {},
       "output_type": "pyout",
       "prompt_number": 103,
       "text": [
        "0.0001893311875798741"
       ]
      }
     ],
     "prompt_number": 103
    },
    {
     "cell_type": "code",
     "collapsed": false,
     "input": [
      "###############"
     ],
     "language": "python",
     "metadata": {},
     "outputs": [],
     "prompt_number": 46
    },
    {
     "cell_type": "code",
     "collapsed": false,
     "input": [
      "voracity = wfm/wpr"
     ],
     "language": "python",
     "metadata": {},
     "outputs": [],
     "prompt_number": 104
    },
    {
     "cell_type": "code",
     "collapsed": false,
     "input": [
      "voracity[0:,:6]"
     ],
     "language": "python",
     "metadata": {},
     "outputs": [
      {
       "metadata": {},
       "output_type": "pyout",
       "prompt_number": 106,
       "text": [
        "array([[  0.    ,   0.    ,   0.    ,   0.    ,   6.9565,   0.    ],\n",
        "       [  0.    ,   0.    ,   0.    ,   0.    ,   0.    ,   0.    ],\n",
        "       [  0.    ,   0.    ,   0.    ,   0.    ,   0.    ,   0.    ],\n",
        "       [  0.    ,   0.    ,   0.    ,   0.    ,   0.    ,   0.    ],\n",
        "       [  0.    ,   0.    ,   0.    ,   6.271 ,   0.    ,   6.271 ],\n",
        "       [  0.    ,   0.    ,   0.    ,   0.    ,   0.    ,   0.    ],\n",
        "       [  0.    ,   0.    ,   0.    ,   0.    ,   0.    ,   0.    ],\n",
        "       [  4.2061,   0.    ,   4.2061,   0.    ,   0.    ,   0.    ],\n",
        "       [  0.    ,   0.    ,   0.    ,   0.    ,   0.    ,   0.    ],\n",
        "       [  0.    ,  14.5804,   0.    ,   0.    ,   0.    ,   0.    ]])"
       ]
      }
     ],
     "prompt_number": 106
    },
    {
     "cell_type": "code",
     "collapsed": false,
     "input": [
      "0.0027605244996549345/0.0001893311875798741  # 10\ud589 2\uc5f4"
     ],
     "language": "python",
     "metadata": {},
     "outputs": [
      {
       "metadata": {},
       "output_type": "pyout",
       "prompt_number": 107,
       "text": [
        "14.58040027605245"
       ]
      }
     ],
     "prompt_number": 107
    },
    {
     "cell_type": "code",
     "collapsed": false,
     "input": [
      "# Code 15-13\n",
      "def IndicWords( wcm, voracity, pdoc, ndoc, mincount=5 ):\n",
      "    # mask for words with minimun number of occurrences\n",
      "    vsum = wcm.sum(0)\n",
      "    mask = greater( vsum, mincount ).astype(int)\n",
      "    # allocate\n",
      "    ND, NW = wcm.shape # num doc , num words\n",
      "    paccum = zeros( NW, float )\n",
      "    for i in pdoc:\n",
      "        m = greater( voracity[i], 1 ).astype(int)\n",
      "        paccum += m * voracity[i]\n",
      "    naccum = zeros( NW, float )\n",
      "    for i in ndoc:\n",
      "        naccum += voracity[i]\n",
      "    paccum /= len( pdoc )\n",
      "    naccum /= len( ndoc )\n",
      "    scores = mask * paccum/(naccum+1)\n",
      "    ag = argsort( scores )[::-1]\n",
      "    return ag, scores"
     ],
     "language": "python",
     "metadata": {},
     "outputs": [],
     "prompt_number": 194
    },
    {
     "cell_type": "code",
     "collapsed": false,
     "input": [
      "x = array([30, 1, 52,4])"
     ],
     "language": "python",
     "metadata": {},
     "outputs": [],
     "prompt_number": 216
    },
    {
     "cell_type": "code",
     "collapsed": false,
     "input": [
      "argsort(x)"
     ],
     "language": "python",
     "metadata": {},
     "outputs": [
      {
       "metadata": {},
       "output_type": "pyout",
       "prompt_number": 217,
       "text": [
        "array([1, 3, 0, 2])"
       ]
      }
     ],
     "prompt_number": 217
    },
    {
     "cell_type": "code",
     "collapsed": false,
     "input": [
      "argsort(x)[::-1]"
     ],
     "language": "python",
     "metadata": {},
     "outputs": [
      {
       "metadata": {},
       "output_type": "pyout",
       "prompt_number": 218,
       "text": [
        "array([2, 0, 3, 1])"
       ]
      }
     ],
     "prompt_number": 218
    },
    {
     "cell_type": "code",
     "collapsed": false,
     "input": [
      "help(argsort)"
     ],
     "language": "python",
     "metadata": {},
     "outputs": [
      {
       "output_type": "stream",
       "stream": "stdout",
       "text": [
        "Help on function argsort in module numpy.core.fromnumeric:\n",
        "\n",
        "argsort(a, axis=-1, kind='quicksort', order=None)\n",
        "    Returns the indices that would sort an array.\n",
        "    \n",
        "    Perform an indirect sort along the given axis using the algorithm specified\n",
        "    by the `kind` keyword. It returns an array of indices of the same shape as\n",
        "    `a` that index data along the given axis in sorted order.\n",
        "    \n",
        "    Parameters\n",
        "    ----------\n",
        "    a : array_like\n",
        "        Array to sort.\n",
        "    axis : int or None, optional\n",
        "        Axis along which to sort.  The default is -1 (the last axis). If None,\n",
        "        the flattened array is used.\n",
        "    kind : {'quicksort', 'mergesort', 'heapsort'}, optional\n",
        "        Sorting algorithm.\n",
        "    order : list, optional\n",
        "        When `a` is an array with fields defined, this argument specifies\n",
        "        which fields to compare first, second, etc.  Not all fields need be\n",
        "        specified.\n",
        "    \n",
        "    Returns\n",
        "    -------\n",
        "    index_array : ndarray, int\n",
        "        Array of indices that sort `a` along the specified axis.\n",
        "        In other words, ``a[index_array]`` yields a sorted `a`.\n",
        "    \n",
        "    See Also\n",
        "    --------\n",
        "    sort : Describes sorting algorithms used.\n",
        "    lexsort : Indirect stable sort with multiple keys.\n",
        "    ndarray.sort : Inplace sort.\n",
        "    argpartition : Indirect partial sort.\n",
        "    \n",
        "    Notes\n",
        "    -----\n",
        "    See `sort` for notes on the different sorting algorithms.\n",
        "    \n",
        "    As of NumPy 1.4.0 `argsort` works with real/complex arrays containing\n",
        "    nan values. The enhanced sort order is documented in `sort`.\n",
        "    \n",
        "    Examples\n",
        "    --------\n",
        "    One dimensional array:\n",
        "    \n",
        "    >>> x = np.array([3, 1, 2])\n",
        "    >>> np.argsort(x)\n",
        "    array([1, 2, 0])\n",
        "    \n",
        "    Two-dimensional array:\n",
        "    \n",
        "    >>> x = np.array([[0, 3], [2, 2]])\n",
        "    >>> x\n",
        "    array([[0, 3],\n",
        "           [2, 2]])\n",
        "    \n",
        "    >>> np.argsort(x, axis=0)\n",
        "    array([[0, 1],\n",
        "           [1, 0]])\n",
        "    \n",
        "    >>> np.argsort(x, axis=1)\n",
        "    array([[0, 1],\n",
        "           [0, 1]])\n",
        "    \n",
        "    Sorting with keys:\n",
        "    \n",
        "    >>> x = np.array([(1, 0), (0, 1)], dtype=[('x', '<i4'), ('y', '<i4')])\n",
        "    >>> x\n",
        "    array([(1, 0), (0, 1)],\n",
        "          dtype=[('x', '<i4'), ('y', '<i4')])\n",
        "    \n",
        "    >>> np.argsort(x, order=('x','y'))\n",
        "    array([1, 0])\n",
        "    \n",
        "    >>> np.argsort(x, order=('y','x'))\n",
        "    array([0, 1])\n",
        "\n"
       ]
      }
     ],
     "prompt_number": 200
    },
    {
     "cell_type": "code",
     "collapsed": false,
     "input": [
      "greater(1,3).astype(int) # \uc0dd\ub7b5"
     ],
     "language": "python",
     "metadata": {},
     "outputs": [
      {
       "metadata": {},
       "output_type": "pyout",
       "prompt_number": 143,
       "text": [
        "0"
       ]
      }
     ],
     "prompt_number": 143
    },
    {
     "cell_type": "code",
     "collapsed": false,
     "input": [
      "wcm.shape # \uc0dd\ub7b5"
     ],
     "language": "python",
     "metadata": {},
     "outputs": [
      {
       "metadata": {},
       "output_type": "pyout",
       "prompt_number": 147,
       "text": [
        "(10, 2615)"
       ]
      }
     ],
     "prompt_number": 147
    },
    {
     "cell_type": "code",
     "collapsed": false,
     "input": [
      "aa =zeros(20, float) +[10]# \uc0dd\ub7b5"
     ],
     "language": "python",
     "metadata": {},
     "outputs": [],
     "prompt_number": 187
    },
    {
     "cell_type": "code",
     "collapsed": false,
     "input": [
      "aa # \uc0dd\ub7b5\n"
     ],
     "language": "python",
     "metadata": {},
     "outputs": [
      {
       "metadata": {},
       "output_type": "pyout",
       "prompt_number": 219,
       "text": [
        "array([ 5.,  5.,  5.,  5.,  5.,  5.,  5.,  5.,  5.,  5.,  5.,  5.,  5.,\n",
        "        5.,  5.,  5.,  5.,  5.,  5.,  5.])"
       ]
      }
     ],
     "prompt_number": 219
    },
    {
     "cell_type": "code",
     "collapsed": false,
     "input": [
      "type(aa) # \uc0dd\ub7b5"
     ],
     "language": "python",
     "metadata": {},
     "outputs": [
      {
       "metadata": {},
       "output_type": "pyout",
       "prompt_number": 220,
       "text": [
        "numpy.ndarray"
       ]
      }
     ],
     "prompt_number": 220
    },
    {
     "cell_type": "code",
     "collapsed": false,
     "input": [
      "aa /=2"
     ],
     "language": "python",
     "metadata": {},
     "outputs": [],
     "prompt_number": 190
    },
    {
     "cell_type": "code",
     "collapsed": false,
     "input": [
      "aa"
     ],
     "language": "python",
     "metadata": {},
     "outputs": [
      {
       "metadata": {},
       "output_type": "pyout",
       "prompt_number": 191,
       "text": [
        "array([ 5.,  5.,  5.,  5.,  5.,  5.,  5.,  5.,  5.,  5.,  5.,  5.,  5.,\n",
        "        5.,  5.,  5.,  5.,  5.,  5.,  5.])"
       ]
      }
     ],
     "prompt_number": 191
    },
    {
     "cell_type": "code",
     "collapsed": false,
     "input": [
      "#help(greater)"
     ],
     "language": "python",
     "metadata": {},
     "outputs": [],
     "prompt_number": 340
    },
    {
     "cell_type": "code",
     "collapsed": false,
     "input": [
      "pdoc = [0,1,2,3,4,5,6,7,8]"
     ],
     "language": "python",
     "metadata": {},
     "outputs": [],
     "prompt_number": 109
    },
    {
     "cell_type": "code",
     "collapsed": false,
     "input": [
      "ndoc = [9]"
     ],
     "language": "python",
     "metadata": {},
     "outputs": [],
     "prompt_number": 110
    },
    {
     "cell_type": "code",
     "collapsed": false,
     "input": [
      "voracity[0:,:6]"
     ],
     "language": "python",
     "metadata": {},
     "outputs": [
      {
       "metadata": {},
       "output_type": "pyout",
       "prompt_number": 192,
       "text": [
        "array([[  0.    ,   0.    ,   0.    ,   0.    ,   6.9565,   0.    ],\n",
        "       [  0.    ,   0.    ,   0.    ,   0.    ,   0.    ,   0.    ],\n",
        "       [  0.    ,   0.    ,   0.    ,   0.    ,   0.    ,   0.    ],\n",
        "       [  0.    ,   0.    ,   0.    ,   0.    ,   0.    ,   0.    ],\n",
        "       [  0.    ,   0.    ,   0.    ,   6.271 ,   0.    ,   6.271 ],\n",
        "       [  0.    ,   0.    ,   0.    ,   0.    ,   0.    ,   0.    ],\n",
        "       [  0.    ,   0.    ,   0.    ,   0.    ,   0.    ,   0.    ],\n",
        "       [  4.2061,   0.    ,   4.2061,   0.    ,   0.    ,   0.    ],\n",
        "       [  0.    ,   0.    ,   0.    ,   0.    ,   0.    ,   0.    ],\n",
        "       [  0.    ,  14.5804,   0.    ,   0.    ,   0.    ,   0.    ]])"
       ]
      }
     ],
     "prompt_number": 192
    },
    {
     "cell_type": "code",
     "collapsed": false,
     "input": [
      "ag,scores = IndicWords(wcm, voracity, pdoc , ndoc)"
     ],
     "language": "python",
     "metadata": {},
     "outputs": [],
     "prompt_number": 113
    },
    {
     "cell_type": "code",
     "collapsed": false,
     "input": [
      "ag[0:10]"
     ],
     "language": "python",
     "metadata": {},
     "outputs": [
      {
       "metadata": {},
       "output_type": "pyout",
       "prompt_number": 193,
       "text": [
        "array([ 712,  704, 1505, 1822, 2081,  871, 2211,  404, 2464,  994])"
       ]
      }
     ],
     "prompt_number": 193
    },
    {
     "cell_type": "code",
     "collapsed": false,
     "input": [
      "scores[ag[0:10]]"
     ],
     "language": "python",
     "metadata": {},
     "outputs": [
      {
       "metadata": {},
       "output_type": "pyout",
       "prompt_number": 115,
       "text": [
        "array([ 11.0578,   7.4237,   4.6028,   4.6028,   4.6028,   4.459 ,\n",
        "         3.8994,   3.8994,   3.8994,   3.4266])"
       ]
      }
     ],
     "prompt_number": 115
    },
    {
     "cell_type": "code",
     "collapsed": false,
     "input": [
      "take(gw,ag[0:10])"
     ],
     "language": "python",
     "metadata": {},
     "outputs": [
      {
       "metadata": {},
       "output_type": "pyout",
       "prompt_number": 116,
       "text": [
        "array(['httpw', 'httpb', 'fijgp', 'iseli', 'proof', 'elimi', 'scene',\n",
        "       'catch', 'camer', 'sites'], \n",
        "      dtype='|S5')"
       ]
      }
     ],
     "prompt_number": 116
    },
    {
     "cell_type": "code",
     "collapsed": false,
     "input": [
      "len(gw)"
     ],
     "language": "python",
     "metadata": {},
     "outputs": [
      {
       "metadata": {},
       "output_type": "pyout",
       "prompt_number": 117,
       "text": [
        "2615"
       ]
      }
     ],
     "prompt_number": 117
    },
    {
     "cell_type": "code",
     "collapsed": false,
     "input": [
      "#help(take)"
     ],
     "language": "python",
     "metadata": {},
     "outputs": [],
     "prompt_number": 550
    },
    {
     "cell_type": "code",
     "collapsed": false,
     "input": [
      "a = [4, 3, 5, 7, 6, 8]"
     ],
     "language": "python",
     "metadata": {},
     "outputs": [],
     "prompt_number": 118
    },
    {
     "cell_type": "code",
     "collapsed": false,
     "input": [
      "indices = [0, 1, 4]"
     ],
     "language": "python",
     "metadata": {},
     "outputs": [],
     "prompt_number": 119
    },
    {
     "cell_type": "code",
     "collapsed": false,
     "input": [
      "take(a, indices)"
     ],
     "language": "python",
     "metadata": {},
     "outputs": [
      {
       "metadata": {},
       "output_type": "pyout",
       "prompt_number": 120,
       "text": [
        "array([4, 3, 6])"
       ]
      }
     ],
     "prompt_number": 120
    },
    {
     "cell_type": "code",
     "collapsed": false,
     "input": [
      "##################################"
     ],
     "language": "python",
     "metadata": {},
     "outputs": [],
     "prompt_number": 369
    },
    {
     "cell_type": "code",
     "collapsed": false,
     "input": [
      "zt  = file('data/zhangstat.txt').read()"
     ],
     "language": "python",
     "metadata": {},
     "outputs": [],
     "prompt_number": 121
    },
    {
     "cell_type": "code",
     "collapsed": false,
     "input": [
      "zt =  Hoover(zt)"
     ],
     "language": "python",
     "metadata": {},
     "outputs": [],
     "prompt_number": 122
    },
    {
     "cell_type": "code",
     "collapsed": false,
     "input": [
      "zt"
     ],
     "language": "python",
     "metadata": {},
     "outputs": [
      {
       "metadata": {},
       "output_type": "pyout",
       "prompt_number": 123,
       "text": [
        "'fijgp untra       yeast splic regio findi codin termi biolo accor fijgp untra promo yeast splic regio findi codin termi  accor fijgp untra       yeast splic        findi codin termi biolo accor fijgp untra       yeast splic regio findi codin termi biolo accor fijgp untra       yeast splic regio findi codin termi  accor                permi'"
       ]
      }
     ],
     "prompt_number": 123
    },
    {
     "cell_type": "code",
     "collapsed": false,
     "input": [
      "ztdict = FiveLetterDict(zt)"
     ],
     "language": "python",
     "metadata": {},
     "outputs": [],
     "prompt_number": 124
    },
    {
     "cell_type": "code",
     "collapsed": false,
     "input": [
      "ztdict  ## "
     ],
     "language": "python",
     "metadata": {},
     "outputs": [
      {
       "metadata": {},
       "output_type": "pyout",
       "prompt_number": 125,
       "text": [
        "{'accor': [9, 19, 28, 38, 47],\n",
        " 'biolo': [8, 27, 37],\n",
        " 'codin': [6, 17, 25, 35, 45],\n",
        " 'fijgp': [0, 10, 20, 29, 39],\n",
        " 'findi': [5, 16, 24, 34, 44],\n",
        " 'permi': [48],\n",
        " 'promo': [12],\n",
        " 'regio': [4, 15, 33, 43],\n",
        " 'splic': [3, 14, 23, 32, 42],\n",
        " 'termi': [7, 18, 26, 36, 46],\n",
        " 'untra': [1, 11, 21, 30, 40],\n",
        " 'yeast': [2, 13, 22, 31, 41]}"
       ]
      }
     ],
     "prompt_number": 125
    },
    {
     "cell_type": "code",
     "collapsed": false,
     "input": [
      "zlen = len(ztdict)"
     ],
     "language": "python",
     "metadata": {},
     "outputs": [],
     "prompt_number": 126
    },
    {
     "cell_type": "code",
     "collapsed": false,
     "input": [
      "zlen"
     ],
     "language": "python",
     "metadata": {},
     "outputs": [
      {
       "metadata": {},
       "output_type": "pyout",
       "prompt_number": 127,
       "text": [
        "12"
       ]
      }
     ],
     "prompt_number": 127
    },
    {
     "cell_type": "code",
     "collapsed": false,
     "input": [
      "hits, nohits = [], []\n",
      "i = 0\n",
      "sc = 0\n",
      "while scores[ag[i]] > 1  :\n",
      "    if gw[ag[i]] in ztdict :\n",
      "        hits.append(gw[ag[i]])\n",
      "        sc += len(ztdict[gw[ag[i]]]) /float(zlen)\n",
      "    else:\n",
      "        nohits.append(gw[ag[i]])\n",
      "    i += 1\n",
      "    "
     ],
     "language": "python",
     "metadata": {},
     "outputs": [],
     "prompt_number": 128
    },
    {
     "cell_type": "code",
     "collapsed": false,
     "input": [
      "sc"
     ],
     "language": "python",
     "metadata": {},
     "outputs": [
      {
       "metadata": {},
       "output_type": "pyout",
       "prompt_number": 129,
       "text": [
        "2.0833333333333335"
       ]
      }
     ],
     "prompt_number": 129
    },
    {
     "cell_type": "code",
     "collapsed": false,
     "input": [
      "scores[ag[10]]\n"
     ],
     "language": "python",
     "metadata": {},
     "outputs": [
      {
       "metadata": {},
       "output_type": "pyout",
       "prompt_number": 130,
       "text": [
        "3.3887552404819501"
       ]
      }
     ],
     "prompt_number": 130
    },
    {
     "cell_type": "code",
     "collapsed": false,
     "input": [
      "hits"
     ],
     "language": "python",
     "metadata": {},
     "outputs": [
      {
       "metadata": {},
       "output_type": "pyout",
       "prompt_number": 131,
       "text": [
        "['fijgp', 'permi', 'untra', 'termi', 'codin', 'regio']"
       ]
      }
     ],
     "prompt_number": 131
    },
    {
     "cell_type": "code",
     "collapsed": false,
     "input": [
      "len(nohits)"
     ],
     "language": "python",
     "metadata": {},
     "outputs": [
      {
       "metadata": {},
       "output_type": "pyout",
       "prompt_number": 132,
       "text": [
        "87"
       ]
      }
     ],
     "prompt_number": 132
    },
    {
     "cell_type": "code",
     "collapsed": false,
     "input": [
      "sc/len(hits)"
     ],
     "language": "python",
     "metadata": {},
     "outputs": [
      {
       "metadata": {},
       "output_type": "pyout",
       "prompt_number": 133,
       "text": [
        "0.34722222222222227"
       ]
      }
     ],
     "prompt_number": 133
    },
    {
     "cell_type": "code",
     "collapsed": false,
     "input": [
      "########################## end ##############"
     ],
     "language": "python",
     "metadata": {},
     "outputs": [],
     "prompt_number": 551
    }
   ],
   "metadata": {}
  }
 ]
}