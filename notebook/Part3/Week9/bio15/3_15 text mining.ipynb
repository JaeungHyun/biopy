{
 "metadata": {
  "name": "",
  "signature": "sha256:128581a338993e2af00f794f52dd8a55fda5b1cedfcceaf9bc6d150397d2669e"
 },
 "nbformat": 3,
 "nbformat_minor": 0,
 "worksheets": [
  {
   "cells": [
    {
     "cell_type": "code",
     "collapsed": false,
     "input": [
      "import miner"
     ],
     "language": "python",
     "metadata": {},
     "outputs": [],
     "prompt_number": 47
    },
    {
     "cell_type": "code",
     "collapsed": false,
     "input": [
      "dir(miner)"
     ],
     "language": "python",
     "metadata": {},
     "outputs": [
      {
       "metadata": {},
       "output_type": "pyout",
       "prompt_number": 48,
       "text": [
        "['AllWordDict',\n",
        " 'FiveLetterDict',\n",
        " 'GetList',\n",
        " 'GoodWords',\n",
        " 'Hoover',\n",
        " 'IndicWords',\n",
        " 'StemSlice',\n",
        " 'WordCountMat',\n",
        " 'WordFreqMat',\n",
        " 'WordProb',\n",
        " '__builtins__',\n",
        " '__doc__',\n",
        " '__file__',\n",
        " '__name__',\n",
        " '__package__',\n",
        " 'argsort',\n",
        " 'dot',\n",
        " 'greater',\n",
        " 'greater_equal',\n",
        " 'logical_and',\n",
        " 'nonzero',\n",
        " 'os',\n",
        " 'sqrt',\n",
        " 'take',\n",
        " 'zeros']"
       ]
      }
     ],
     "prompt_number": 48
    },
    {
     "cell_type": "code",
     "collapsed": false,
     "input": [
      "help(miner.Hoover)"
     ],
     "language": "python",
     "metadata": {},
     "outputs": [
      {
       "output_type": "stream",
       "stream": "stdout",
       "text": [
        "Help on function Hoover in module miner:\n",
        "\n",
        "Hoover(txt)\n",
        "    # Code 15-1\n",
        "    # read and clean\n",
        "\n"
       ]
      }
     ],
     "prompt_number": 221
    },
    {
     "cell_type": "code",
     "collapsed": false,
     "input": [
      "# Code 15-1\n",
      "# read and clean\n",
      "def Hoover( txt ):\n",
      "    # clean it up\n",
      "    work = txt.lower()\n",
      "    work = work.replace( '\\n',' ')\n",
      "    valid = [32] + range( 97,123)\n",
      "    for i in range( 256 ):\n",
      "        if i not in valid:\n",
      "            work = work.replace( chr(i), '' )\n",
      "    return work"
     ],
     "language": "python",
     "metadata": {},
     "outputs": [],
     "prompt_number": 49
    },
    {
     "cell_type": "code",
     "collapsed": false,
     "input": [
      "fp = file('data/pdf.txt')"
     ],
     "language": "python",
     "metadata": {},
     "outputs": [],
     "prompt_number": 50
    },
    {
     "cell_type": "code",
     "collapsed": false,
     "input": [
      "txt  = fp.read()"
     ],
     "language": "python",
     "metadata": {},
     "outputs": [],
     "prompt_number": 51
    },
    {
     "cell_type": "code",
     "collapsed": false,
     "input": [
      "fp"
     ],
     "language": "python",
     "metadata": {},
     "outputs": [
      {
       "metadata": {},
       "output_type": "pyout",
       "prompt_number": 52,
       "text": [
        "<open file 'data/pdf.txt', mode 'r' at 0x04DD3E38>"
       ]
      }
     ],
     "prompt_number": 52
    },
    {
     "cell_type": "code",
     "collapsed": false,
     "input": [
      "fp.close()"
     ],
     "language": "python",
     "metadata": {},
     "outputs": [],
     "prompt_number": 53
    },
    {
     "cell_type": "code",
     "collapsed": false,
     "input": [
      "fp\n"
     ],
     "language": "python",
     "metadata": {},
     "outputs": [
      {
       "metadata": {},
       "output_type": "pyout",
       "prompt_number": 54,
       "text": [
        "<closed file 'data/pdf.txt', mode 'r' at 0x04DD3E38>"
       ]
      }
     ],
     "prompt_number": 54
    },
    {
     "cell_type": "code",
     "collapsed": false,
     "input": [
      "#txt ##\uae38\uc5b4\uc11c \uc8fc\uc11d\ucc98\ub9ac"
     ],
     "language": "python",
     "metadata": {},
     "outputs": [],
     "prompt_number": 276
    },
    {
     "cell_type": "code",
     "collapsed": false,
     "input": [
      "clean = Hoover(txt)"
     ],
     "language": "python",
     "metadata": {},
     "outputs": [],
     "prompt_number": 55
    },
    {
     "cell_type": "code",
     "collapsed": false,
     "input": [
      "#clean   ##\uae38\uc5b4\uc11c\uc8fc\uc11d\ucc98\ub9ac"
     ],
     "language": "python",
     "metadata": {},
     "outputs": [],
     "prompt_number": 277
    },
    {
     "cell_type": "code",
     "collapsed": false,
     "input": [
      "# Code 15-2\n",
      "# make a dictionary\n",
      "def AllWordDict( txt ):\n",
      "    dct = { }\n",
      "    work = txt.split()\n",
      "    for i in range( len( work )):\n",
      "        wd = work[i]\n",
      "        if wd in dct:\n",
      "            dct[wd].append( i )\n",
      "        else:\n",
      "            dct[wd] = [i]\n",
      "    return dct"
     ],
     "language": "python",
     "metadata": {},
     "outputs": [],
     "prompt_number": 57
    },
    {
     "cell_type": "code",
     "collapsed": false,
     "input": [
      "#clean"
     ],
     "language": "python",
     "metadata": {},
     "outputs": [],
     "prompt_number": 25
    },
    {
     "cell_type": "code",
     "collapsed": false,
     "input": [
      "dct = AllWordDict(clean)"
     ],
     "language": "python",
     "metadata": {},
     "outputs": [],
     "prompt_number": 229
    },
    {
     "cell_type": "code",
     "collapsed": false,
     "input": [
      "len(dct)"
     ],
     "language": "python",
     "metadata": {},
     "outputs": [
      {
       "metadata": {},
       "output_type": "pyout",
       "prompt_number": 230,
       "text": [
        "816"
       ]
      }
     ],
     "prompt_number": 230
    },
    {
     "cell_type": "code",
     "collapsed": false,
     "input": [
      "#dct"
     ],
     "language": "python",
     "metadata": {},
     "outputs": [],
     "prompt_number": 562
    },
    {
     "cell_type": "code",
     "collapsed": false,
     "input": [
      "# \ub108\ubb34 \ub9ce\uc73c\ub2c8 100\uc790\ub9cc \uc904\uc5ec\uc11c \uc0b4\ud3b4\ubcf4\uc790"
     ],
     "language": "python",
     "metadata": {},
     "outputs": []
    },
    {
     "cell_type": "code",
     "collapsed": false,
     "input": [
      "clean[:100]"
     ],
     "language": "python",
     "metadata": {},
     "outputs": [
      {
       "metadata": {},
       "output_type": "pyout",
       "prompt_number": 231,
       "text": [
        "'mitsubishi electric research laboratories  httpwwwmerlcom   audio events detection based highlights '"
       ]
      }
     ],
     "prompt_number": 231
    },
    {
     "cell_type": "code",
     "collapsed": false,
     "input": [
      "# \ub108\ubb34 \ub9ce\uc73c\ub2c8 5\uc790 \uc774\uc0c1\ub418\ub294 \ub2e8\uc5b4\ub9cc \uc0b4\ud3b4\ubcf4\uc790"
     ],
     "language": "python",
     "metadata": {},
     "outputs": []
    },
    {
     "cell_type": "code",
     "collapsed": false,
     "input": [
      "# Code 15-4\n",
      "# build a dictionary with 5 lettter words\n",
      "def FiveLetterDict( txt ):\n",
      "    dct = { }\n",
      "    work = txt.split()\n",
      "    for i in range( len( work )):\n",
      "        wd = work[i]\n",
      "        if len(wd)>=5:\n",
      "            wd5 = wd[:5]\n",
      "            if wd5 in dct:\n",
      "                dct[wd5].append( i )\n",
      "            else:\n",
      "                dct[wd5] = [i]\n",
      "    return dct"
     ],
     "language": "python",
     "metadata": {},
     "outputs": [],
     "prompt_number": 232
    },
    {
     "cell_type": "code",
     "collapsed": false,
     "input": [
      "dct = FiveLetterDict(clean)"
     ],
     "language": "python",
     "metadata": {},
     "outputs": [],
     "prompt_number": 233
    },
    {
     "cell_type": "code",
     "collapsed": false,
     "input": [
      "len(dct)"
     ],
     "language": "python",
     "metadata": {},
     "outputs": [
      {
       "metadata": {},
       "output_type": "pyout",
       "prompt_number": 234,
       "text": [
        "457"
       ]
      }
     ],
     "prompt_number": 234
    },
    {
     "cell_type": "code",
     "collapsed": false,
     "input": [
      "#dct"
     ],
     "language": "python",
     "metadata": {},
     "outputs": [],
     "prompt_number": 278
    },
    {
     "cell_type": "code",
     "collapsed": false,
     "input": [
      "##########"
     ],
     "language": "python",
     "metadata": {},
     "outputs": [],
     "prompt_number": 36
    },
    {
     "cell_type": "code",
     "collapsed": false,
     "input": [
      "ps = PorterStemmer()"
     ],
     "language": "python",
     "metadata": {},
     "outputs": [
      {
       "ename": "NameError",
       "evalue": "name 'PorterStemmer' is not defined",
       "output_type": "pyerr",
       "traceback": [
        "\u001b[1;31m---------------------------------------------------------------------------\u001b[0m\n\u001b[1;31mNameError\u001b[0m                                 Traceback (most recent call last)",
        "\u001b[1;32m<ipython-input-14-2f3936466eec>\u001b[0m in \u001b[0;36m<module>\u001b[1;34m()\u001b[0m\n\u001b[1;32m----> 1\u001b[1;33m \u001b[0mps\u001b[0m \u001b[1;33m=\u001b[0m \u001b[0mPorterStemmer\u001b[0m\u001b[1;33m(\u001b[0m\u001b[1;33m)\u001b[0m\u001b[1;33m\u001b[0m\u001b[0m\n\u001b[0m",
        "\u001b[1;31mNameError\u001b[0m: name 'PorterStemmer' is not defined"
       ]
      }
     ],
     "prompt_number": 14
    },
    {
     "cell_type": "code",
     "collapsed": false,
     "input": [
      "# https://pypi.python.org/pypi/PorterStemmer\n",
      "#pip install http://pypi.python.org/packages/source/P/PorterStemmer/PorterStemmer-0.5.tar.gz"
     ],
     "language": "python",
     "metadata": {},
     "outputs": [],
     "prompt_number": 74
    },
    {
     "cell_type": "code",
     "collapsed": false,
     "input": [
      "ps = PorterStemmer()"
     ],
     "language": "python",
     "metadata": {},
     "outputs": [
      {
       "ename": "NameError",
       "evalue": "name 'PorterStemmer' is not defined",
       "output_type": "pyerr",
       "traceback": [
        "\u001b[1;31m---------------------------------------------------------------------------\u001b[0m\n\u001b[1;31mNameError\u001b[0m                                 Traceback (most recent call last)",
        "\u001b[1;32m<ipython-input-75-2f3936466eec>\u001b[0m in \u001b[0;36m<module>\u001b[1;34m()\u001b[0m\n\u001b[1;32m----> 1\u001b[1;33m \u001b[0mps\u001b[0m \u001b[1;33m=\u001b[0m \u001b[0mPorterStemmer\u001b[0m\u001b[1;33m(\u001b[0m\u001b[1;33m)\u001b[0m\u001b[1;33m\u001b[0m\u001b[0m\n\u001b[0m",
        "\u001b[1;31mNameError\u001b[0m: name 'PorterStemmer' is not defined"
       ]
      }
     ],
     "prompt_number": 75
    },
    {
     "cell_type": "code",
     "collapsed": false,
     "input": [
      "## \uc774\uac8c \uc544\ub2cc\uac00 \ubcf4\ub2e4 help \ub97c \ubcf4\uc790"
     ],
     "language": "python",
     "metadata": {},
     "outputs": [],
     "prompt_number": 9
    },
    {
     "cell_type": "code",
     "collapsed": false,
     "input": [
      "help('porterstemmer')"
     ],
     "language": "python",
     "metadata": {},
     "outputs": [
      {
       "output_type": "stream",
       "stream": "stdout",
       "text": [
        "Help on module porterstemmer:\n",
        "\n",
        "NAME\n",
        "    porterstemmer - Porter Stemmer Algorithm\n",
        "\n",
        "FILE\n",
        "    d:\\anaconda\\lib\\site-packages\\porterstemmer.pyd\n",
        "\n",
        "DESCRIPTION\n",
        "    \"The Porter stemming algorithm (or \u2018Porter stemmer\u2019) is a process for\n",
        "    removing the most common morphological and inflexional endings from words\n",
        "    in English. Its main use is as part of a term normalisation process\n",
        "    that is usually done when setting up Information Retrieval systems.\"\n",
        "      (http://tartarus.org/~martin/PorterStemmer/)\n",
        "    \n",
        "    >>> from porterstemmer import Stemmer\n",
        "    >>> stemmer = Stemmer()\n",
        "    >>> stemmer('acceptable')\n",
        "    'accept'\n",
        "    >>> stemmer(u'acceptable')\n",
        "    u'accept'\n",
        "\n",
        "CLASSES\n",
        "    __builtin__.object\n",
        "        Stemmer\n",
        "    \n",
        "    class Stemmer(__builtin__.object)\n",
        "     |  A Stemmer is a callable object without any methods or members.\n",
        "     |  Stemmer.__call__(self, word)\n",
        "     |  word must be a str or unicode object.\n",
        "     |  returns stemmed word as a str or unicode object.\n",
        "     |  \n",
        "     |  Methods defined here:\n",
        "     |  \n",
        "     |  __call__(...)\n",
        "     |      x.__call__(...) <==> x(...)\n",
        "     |  \n",
        "     |  ----------------------------------------------------------------------\n",
        "     |  Data and other attributes defined here:\n",
        "     |  \n",
        "     |  __new__ = <built-in method __new__ of type object>\n",
        "     |      T.__new__(S, ...) -> a new object with type S, a subtype of T\n",
        "\n",
        "\n"
       ]
      }
     ],
     "prompt_number": 8
    },
    {
     "cell_type": "code",
     "collapsed": false,
     "input": [
      "from porterstemmer import Stemmer"
     ],
     "language": "python",
     "metadata": {},
     "outputs": [],
     "prompt_number": 236
    },
    {
     "cell_type": "code",
     "collapsed": false,
     "input": [
      "stemmer = Stemmer()"
     ],
     "language": "python",
     "metadata": {},
     "outputs": [],
     "prompt_number": 237
    },
    {
     "cell_type": "code",
     "collapsed": false,
     "input": [
      "stemmer('acceptable')"
     ],
     "language": "python",
     "metadata": {},
     "outputs": [
      {
       "metadata": {},
       "output_type": "pyout",
       "prompt_number": 238,
       "text": [
        "'accept'"
       ]
      }
     ],
     "prompt_number": 238
    },
    {
     "cell_type": "code",
     "collapsed": false,
     "input": [
      "stemmer(u'acceptable')"
     ],
     "language": "python",
     "metadata": {},
     "outputs": [
      {
       "metadata": {},
       "output_type": "pyout",
       "prompt_number": 5,
       "text": [
        "u'accept'"
       ]
      }
     ],
     "prompt_number": 5
    },
    {
     "cell_type": "code",
     "collapsed": false,
     "input": [
      "## \uc6d0\ub798 code \ub97c \uace0\uce58\uae30 \uc2dc\uc791\ud568."
     ],
     "language": "python",
     "metadata": {},
     "outputs": []
    },
    {
     "cell_type": "code",
     "collapsed": false,
     "input": [
      "ps = Stemmer()"
     ],
     "language": "python",
     "metadata": {},
     "outputs": [],
     "prompt_number": 10
    },
    {
     "cell_type": "code",
     "collapsed": false,
     "input": [
      "w = 'running'"
     ],
     "language": "python",
     "metadata": {},
     "outputs": [],
     "prompt_number": 11
    },
    {
     "cell_type": "code",
     "collapsed": false,
     "input": [
      "dir(ps)"
     ],
     "language": "python",
     "metadata": {},
     "outputs": [
      {
       "metadata": {},
       "output_type": "pyout",
       "prompt_number": 12,
       "text": [
        "['__call__',\n",
        " '__class__',\n",
        " '__delattr__',\n",
        " '__doc__',\n",
        " '__format__',\n",
        " '__getattribute__',\n",
        " '__hash__',\n",
        " '__init__',\n",
        " '__new__',\n",
        " '__reduce__',\n",
        " '__reduce_ex__',\n",
        " '__repr__',\n",
        " '__setattr__',\n",
        " '__sizeof__',\n",
        " '__str__',\n",
        " '__subclasshook__']"
       ]
      }
     ],
     "prompt_number": 12
    },
    {
     "cell_type": "code",
     "collapsed": false,
     "input": [
      "ps.stem(w, 0, len(w) -1)"
     ],
     "language": "python",
     "metadata": {},
     "outputs": [
      {
       "ename": "AttributeError",
       "evalue": "'porterstemmer.Stemmer' object has no attribute 'stem'",
       "output_type": "pyerr",
       "traceback": [
        "\u001b[1;31m---------------------------------------------------------------------------\u001b[0m\n\u001b[1;31mAttributeError\u001b[0m                            Traceback (most recent call last)",
        "\u001b[1;32m<ipython-input-15-225328b2876d>\u001b[0m in \u001b[0;36m<module>\u001b[1;34m()\u001b[0m\n\u001b[1;32m----> 1\u001b[1;33m \u001b[0mps\u001b[0m\u001b[1;33m.\u001b[0m\u001b[0mstem\u001b[0m\u001b[1;33m(\u001b[0m\u001b[0mw\u001b[0m\u001b[1;33m,\u001b[0m \u001b[1;36m0\u001b[0m\u001b[1;33m,\u001b[0m \u001b[0mlen\u001b[0m\u001b[1;33m(\u001b[0m\u001b[0mw\u001b[0m\u001b[1;33m)\u001b[0m \u001b[1;33m-\u001b[0m\u001b[1;36m1\u001b[0m\u001b[1;33m)\u001b[0m\u001b[1;33m\u001b[0m\u001b[0m\n\u001b[0m",
        "\u001b[1;31mAttributeError\u001b[0m: 'porterstemmer.Stemmer' object has no attribute 'stem'"
       ]
      }
     ],
     "prompt_number": 15
    },
    {
     "cell_type": "code",
     "collapsed": false,
     "input": [
      "stemmer(w)"
     ],
     "language": "python",
     "metadata": {},
     "outputs": [
      {
       "metadata": {},
       "output_type": "pyout",
       "prompt_number": 18,
       "text": [
        "'run'"
       ]
      }
     ],
     "prompt_number": 18
    },
    {
     "cell_type": "code",
     "collapsed": false,
     "input": [
      "stemmer('gassing')"
     ],
     "language": "python",
     "metadata": {},
     "outputs": [
      {
       "metadata": {},
       "output_type": "pyout",
       "prompt_number": 19,
       "text": [
        "'gass'"
       ]
      }
     ],
     "prompt_number": 19
    },
    {
     "cell_type": "code",
     "collapsed": false,
     "input": [
      "stemmer('conditionner')"
     ],
     "language": "python",
     "metadata": {},
     "outputs": [
      {
       "metadata": {},
       "output_type": "pyout",
       "prompt_number": 20,
       "text": [
        "'conditionn'"
       ]
      }
     ],
     "prompt_number": 20
    },
    {
     "cell_type": "code",
     "collapsed": false,
     "input": [
      "stemmer('runnable')"
     ],
     "language": "python",
     "metadata": {},
     "outputs": [
      {
       "metadata": {},
       "output_type": "pyout",
       "prompt_number": 21,
       "text": [
        "'runnabl'"
       ]
      }
     ],
     "prompt_number": 21
    },
    {
     "cell_type": "code",
     "collapsed": false,
     "input": [
      "stemmer('doable')"
     ],
     "language": "python",
     "metadata": {},
     "outputs": [
      {
       "metadata": {},
       "output_type": "pyout",
       "prompt_number": 22,
       "text": [
        "'doabl'"
       ]
      }
     ],
     "prompt_number": 22
    },
    {
     "cell_type": "code",
     "collapsed": false,
     "input": [
      "stemmer('excitable')"
     ],
     "language": "python",
     "metadata": {},
     "outputs": [
      {
       "metadata": {},
       "output_type": "pyout",
       "prompt_number": 23,
       "text": [
        "'excit'"
       ]
      }
     ],
     "prompt_number": 23
    },
    {
     "cell_type": "code",
     "collapsed": false,
     "input": [
      "stemmer('atomizer')"
     ],
     "language": "python",
     "metadata": {},
     "outputs": [
      {
       "metadata": {},
       "output_type": "pyout",
       "prompt_number": 64,
       "text": [
        "'atom'"
       ]
      }
     ],
     "prompt_number": 64
    },
    {
     "cell_type": "code",
     "collapsed": false,
     "input": [
      "def StemSlice(wrd):\n",
      "\tsuff=['ing','ings','ed','ly'.'ance','ence','s','ize','le','er','ers'J\n",
      "\tnwrd=wrd#newword\n",
      "\tfor i in suff:\n",
      "\t\tif i==nwrd[-1en(i): J :\n",
      "\t\t\t#ahit\n",
      "\t\t\ttemp=nwrd[:-1en(i)-1J\n",
      "\t\tif len(temp)>=3:\n",
      "\t\t\tnwrd=temp\n",
      "\treturn nwrd"
     ],
     "language": "python",
     "metadata": {},
     "outputs": []
    },
    {
     "cell_type": "code",
     "collapsed": false,
     "input": [
      "# \ucc28\ub77c\ub9ac \ub0b4\uac00 \ud55c\ub2e4 \uc624\ud0c0\ub97c \uc218\uc815\ud574 \ubd05\uc2dc\ub2e4. \ud2c0\ub9b0\uacf3 6\uad70\ub370 \ucc3e\uae30."
     ],
     "language": "python",
     "metadata": {},
     "outputs": [],
     "prompt_number": 66
    },
    {
     "cell_type": "code",
     "collapsed": false,
     "input": [
      "def StemSlice(wrd):\n",
      "    suff=['ing','ings','ed','ly','ance','ence','s','ize','le','er','ers']\n",
      "    nwrd=wrd#newword\n",
      "    for i in suff:\n",
      "        if i==nwrd[-len(i): ]:\n",
      "            #ahit\n",
      "            temp=nwrd[:-len(i)-1]\n",
      "        if len(temp)>=3:\n",
      "            nwrd=temp\n",
      "    return nwrd"
     ],
     "language": "python",
     "metadata": {},
     "outputs": [],
     "prompt_number": 239
    },
    {
     "cell_type": "code",
     "collapsed": false,
     "input": [
      "StemSlice('lasing')"
     ],
     "language": "python",
     "metadata": {},
     "outputs": [
      {
       "metadata": {},
       "output_type": "pyout",
       "prompt_number": 240,
       "text": [
        "'lasing'"
       ]
      }
     ],
     "prompt_number": 240
    },
    {
     "cell_type": "code",
     "collapsed": false,
     "input": [
      "StemSlice('lasting')"
     ],
     "language": "python",
     "metadata": {},
     "outputs": [
      {
       "metadata": {},
       "output_type": "pyout",
       "prompt_number": 241,
       "text": [
        "'las'"
       ]
      }
     ],
     "prompt_number": 241
    },
    {
     "cell_type": "code",
     "collapsed": false,
     "input": [
      "StemSlice('running')"
     ],
     "language": "python",
     "metadata": {},
     "outputs": [
      {
       "metadata": {},
       "output_type": "pyout",
       "prompt_number": 40,
       "text": [
        "'run'"
       ]
      }
     ],
     "prompt_number": 40
    },
    {
     "cell_type": "code",
     "collapsed": false,
     "input": [
      "StemSlice('gassing')"
     ],
     "language": "python",
     "metadata": {},
     "outputs": [
      {
       "metadata": {},
       "output_type": "pyout",
       "prompt_number": 41,
       "text": [
        "'gas'"
       ]
      }
     ],
     "prompt_number": 41
    },
    {
     "cell_type": "code",
     "collapsed": false,
     "input": [
      "StemSlice('conditioning')"
     ],
     "language": "python",
     "metadata": {},
     "outputs": [
      {
       "metadata": {},
       "output_type": "pyout",
       "prompt_number": 42,
       "text": [
        "'conditio'"
       ]
      }
     ],
     "prompt_number": 42
    },
    {
     "cell_type": "code",
     "collapsed": false,
     "input": [
      "StemSlice('conditioner')"
     ],
     "language": "python",
     "metadata": {},
     "outputs": [
      {
       "ename": "UnboundLocalError",
       "evalue": "local variable 'temp' referenced before assignment",
       "output_type": "pyerr",
       "traceback": [
        "\u001b[1;31m---------------------------------------------------------------------------\u001b[0m\n\u001b[1;31mUnboundLocalError\u001b[0m                         Traceback (most recent call last)",
        "\u001b[1;32m<ipython-input-58-b70d9b5da2ed>\u001b[0m in \u001b[0;36m<module>\u001b[1;34m()\u001b[0m\n\u001b[1;32m----> 1\u001b[1;33m \u001b[0mStemSlice\u001b[0m\u001b[1;33m(\u001b[0m\u001b[1;34m'conditioner'\u001b[0m\u001b[1;33m)\u001b[0m\u001b[1;33m\u001b[0m\u001b[0m\n\u001b[0m",
        "\u001b[1;32m<ipython-input-57-9180eb84b502>\u001b[0m in \u001b[0;36mStemSlice\u001b[1;34m(wrd)\u001b[0m\n\u001b[0;32m      6\u001b[0m             \u001b[1;31m#ahit\u001b[0m\u001b[1;33m\u001b[0m\u001b[1;33m\u001b[0m\u001b[0m\n\u001b[0;32m      7\u001b[0m             \u001b[0mtemp\u001b[0m\u001b[1;33m=\u001b[0m\u001b[0mnwrd\u001b[0m\u001b[1;33m[\u001b[0m\u001b[1;33m:\u001b[0m\u001b[1;33m-\u001b[0m\u001b[0mlen\u001b[0m\u001b[1;33m(\u001b[0m\u001b[0mi\u001b[0m\u001b[1;33m)\u001b[0m\u001b[1;33m-\u001b[0m\u001b[1;36m1\u001b[0m\u001b[1;33m]\u001b[0m\u001b[1;33m\u001b[0m\u001b[0m\n\u001b[1;32m----> 8\u001b[1;33m         \u001b[1;32mif\u001b[0m \u001b[0mlen\u001b[0m\u001b[1;33m(\u001b[0m\u001b[0mtemp\u001b[0m\u001b[1;33m)\u001b[0m\u001b[1;33m>=\u001b[0m\u001b[1;36m3\u001b[0m\u001b[1;33m:\u001b[0m\u001b[1;33m\u001b[0m\u001b[0m\n\u001b[0m\u001b[0;32m      9\u001b[0m             \u001b[0mnwrd\u001b[0m\u001b[1;33m=\u001b[0m\u001b[0mtemp\u001b[0m\u001b[1;33m\u001b[0m\u001b[0m\n\u001b[0;32m     10\u001b[0m     \u001b[1;32mreturn\u001b[0m \u001b[0mnwrd\u001b[0m\u001b[1;33m\u001b[0m\u001b[0m\n",
        "\u001b[1;31mUnboundLocalError\u001b[0m: local variable 'temp' referenced before assignment"
       ]
      }
     ],
     "prompt_number": 58
    },
    {
     "cell_type": "code",
     "collapsed": false,
     "input": [
      "def StemSlice(wrd):\n",
      "    temp = '' # \ucd94\uac00  temp \ucd08\uae30\ud654\n",
      "    suff=['ing','ings','ed','ly','ance','ence','s','ize','le','er','ers']\n",
      "    nwrd=wrd#newword\n",
      "    for i in suff:\n",
      "        if i==nwrd[-len(i): ]:\n",
      "            #a hit\n",
      "            temp=nwrd[:-len(i)-1]\n",
      "        if len(temp)>=3:\n",
      "            nwrd=temp\n",
      "    return nwrd"
     ],
     "language": "python",
     "metadata": {},
     "outputs": [],
     "prompt_number": 63
    },
    {
     "cell_type": "code",
     "collapsed": false,
     "input": [
      "StemSlice('conditioner')"
     ],
     "language": "python",
     "metadata": {},
     "outputs": [
      {
       "metadata": {},
       "output_type": "pyout",
       "prompt_number": 61,
       "text": [
        "'conditio'"
       ]
      }
     ],
     "prompt_number": 61
    },
    {
     "cell_type": "code",
     "collapsed": false,
     "input": [
      "StemSlice('runnable')"
     ],
     "language": "python",
     "metadata": {},
     "outputs": [
      {
       "metadata": {},
       "output_type": "pyout",
       "prompt_number": 62,
       "text": [
        "'runna'"
       ]
      }
     ],
     "prompt_number": 62
    },
    {
     "cell_type": "code",
     "collapsed": false,
     "input": [
      "StemSlice('doable')"
     ],
     "language": "python",
     "metadata": {},
     "outputs": [
      {
       "metadata": {},
       "output_type": "pyout",
       "prompt_number": 63,
       "text": [
        "'doa'"
       ]
      }
     ],
     "prompt_number": 63
    },
    {
     "cell_type": "code",
     "collapsed": false,
     "input": [
      "StemSlice('atomizer')"
     ],
     "language": "python",
     "metadata": {},
     "outputs": [
      {
       "metadata": {},
       "output_type": "pyout",
       "prompt_number": 54,
       "text": [
        "'atomi'"
       ]
      }
     ],
     "prompt_number": 54
    },
    {
     "cell_type": "code",
     "collapsed": false,
     "input": [
      "################################"
     ],
     "language": "python",
     "metadata": {},
     "outputs": [],
     "prompt_number": 82
    },
    {
     "cell_type": "code",
     "collapsed": false,
     "input": [
      "import os"
     ],
     "language": "python",
     "metadata": {},
     "outputs": [],
     "prompt_number": 242
    },
    {
     "cell_type": "code",
     "collapsed": false,
     "input": [
      "nms = os.listdir('data/10docs')"
     ],
     "language": "python",
     "metadata": {},
     "outputs": [],
     "prompt_number": 243
    },
    {
     "cell_type": "code",
     "collapsed": false,
     "input": [
      "dcts = []"
     ],
     "language": "python",
     "metadata": {},
     "outputs": [],
     "prompt_number": 244
    },
    {
     "cell_type": "code",
     "collapsed": false,
     "input": [
      "for i in  nms :\n",
      "    if '.txt' in i :\n",
      "        txt = file('data/10docs/' + i).read()\n",
      "        clean =  Hoover(txt)\n",
      "        dcts.append(FiveLetterDict(clean))"
     ],
     "language": "python",
     "metadata": {},
     "outputs": [],
     "prompt_number": 245
    },
    {
     "cell_type": "code",
     "collapsed": false,
     "input": [
      "#dcts   ##\uae38\uc5b4\uc11c \uc8fc\uc11d\ucc98\ub9ac"
     ],
     "language": "python",
     "metadata": {},
     "outputs": [],
     "prompt_number": 279
    },
    {
     "cell_type": "code",
     "collapsed": false,
     "input": [
      "#################"
     ],
     "language": "python",
     "metadata": {},
     "outputs": [],
     "prompt_number": 154
    },
    {
     "cell_type": "code",
     "collapsed": false,
     "input": [
      "len(dcts)"
     ],
     "language": "python",
     "metadata": {},
     "outputs": [
      {
       "metadata": {},
       "output_type": "pyout",
       "prompt_number": 247,
       "text": [
        "10"
       ]
      }
     ],
     "prompt_number": 247
    },
    {
     "cell_type": "code",
     "collapsed": false,
     "input": [
      "## dcts  #5000\uc5ec\uac1c"
     ],
     "language": "python",
     "metadata": {},
     "outputs": [],
     "prompt_number": 135
    },
    {
     "cell_type": "code",
     "collapsed": false,
     "input": [
      "#dcts[0]"
     ],
     "language": "python",
     "metadata": {},
     "outputs": [],
     "prompt_number": 280
    },
    {
     "cell_type": "code",
     "collapsed": false,
     "input": [
      "#dcts[0].keys()"
     ],
     "language": "python",
     "metadata": {},
     "outputs": [],
     "prompt_number": 281
    },
    {
     "cell_type": "code",
     "collapsed": false,
     "input": [
      "['aa','bb']+['cc']"
     ],
     "language": "python",
     "metadata": {},
     "outputs": [
      {
       "metadata": {},
       "output_type": "pyout",
       "prompt_number": 94,
       "text": [
        "['aa', 'bb', 'cc']"
       ]
      }
     ],
     "prompt_number": 94
    },
    {
     "cell_type": "code",
     "collapsed": false,
     "input": [
      "# Code 15-6\n",
      "def GoodWords( dcts ):\n",
      "    ND = len( dcts )\n",
      "    gw = []\n",
      "    for i in range( ND ):\n",
      "        gw = gw + dcts[i].keys()\n",
      "    gw = set( gw )\n",
      "    gw = list( gw )\n",
      "    return gw"
     ],
     "language": "python",
     "metadata": {},
     "outputs": [],
     "prompt_number": 248
    },
    {
     "cell_type": "code",
     "collapsed": false,
     "input": [
      "s= 0\n",
      "for i in range(10) :\n",
      "    s += len(dcts[i])\n",
      "print s  "
     ],
     "language": "python",
     "metadata": {},
     "outputs": [
      {
       "output_type": "stream",
       "stream": "stdout",
       "text": [
        "5279\n"
       ]
      }
     ],
     "prompt_number": 249
    },
    {
     "cell_type": "code",
     "collapsed": false,
     "input": [
      "gw = GoodWords(dcts)"
     ],
     "language": "python",
     "metadata": {},
     "outputs": [],
     "prompt_number": 250
    },
    {
     "cell_type": "code",
     "collapsed": false,
     "input": [
      "len(gw)"
     ],
     "language": "python",
     "metadata": {},
     "outputs": [
      {
       "metadata": {},
       "output_type": "pyout",
       "prompt_number": 251,
       "text": [
        "2615"
       ]
      }
     ],
     "prompt_number": 251
    },
    {
     "cell_type": "code",
     "collapsed": false,
     "input": [
      "gw[0:10]"
     ],
     "language": "python",
     "metadata": {},
     "outputs": [
      {
       "metadata": {},
       "output_type": "pyout",
       "prompt_number": 252,
       "text": [
        "['elega',\n",
        " 'noisy',\n",
        " 'proli',\n",
        " 'prere',\n",
        " 'asymp',\n",
        " 'messe',\n",
        " 'surve',\n",
        " 'selec',\n",
        " 'votes',\n",
        " 'accur']"
       ]
      }
     ],
     "prompt_number": 252
    },
    {
     "cell_type": "code",
     "collapsed": false,
     "input": [
      "list(['aa','bb','cc'])[2]"
     ],
     "language": "python",
     "metadata": {},
     "outputs": [
      {
       "metadata": {},
       "output_type": "pyout",
       "prompt_number": 83,
       "text": [
        "'cc'"
       ]
      }
     ],
     "prompt_number": 83
    },
    {
     "cell_type": "code",
     "collapsed": false,
     "input": [
      "set(['aa','bb','cc'])[2]  # set \uc740 index \uac00 \uc548\ub41c\ub2e4"
     ],
     "language": "python",
     "metadata": {},
     "outputs": [
      {
       "ename": "TypeError",
       "evalue": "'set' object does not support indexing",
       "output_type": "pyerr",
       "traceback": [
        "\u001b[1;31m---------------------------------------------------------------------------\u001b[0m\n\u001b[1;31mTypeError\u001b[0m                                 Traceback (most recent call last)",
        "\u001b[1;32m<ipython-input-98-7145247f333c>\u001b[0m in \u001b[0;36m<module>\u001b[1;34m()\u001b[0m\n\u001b[1;32m----> 1\u001b[1;33m \u001b[0mset\u001b[0m\u001b[1;33m(\u001b[0m\u001b[1;33m[\u001b[0m\u001b[1;34m'aa'\u001b[0m\u001b[1;33m,\u001b[0m\u001b[1;34m'bb'\u001b[0m\u001b[1;33m,\u001b[0m\u001b[1;34m'cc'\u001b[0m\u001b[1;33m]\u001b[0m\u001b[1;33m)\u001b[0m\u001b[1;33m[\u001b[0m\u001b[1;36m2\u001b[0m\u001b[1;33m]\u001b[0m  \u001b[1;31m# set \uc740 index \uac00 \uc548\ub41c\ub2e4\u001b[0m\u001b[1;33m\u001b[0m\u001b[0m\n\u001b[0m",
        "\u001b[1;31mTypeError\u001b[0m: 'set' object does not support indexing"
       ]
      }
     ],
     "prompt_number": 98
    },
    {
     "cell_type": "code",
     "collapsed": false,
     "input": [
      "len(list(gw))"
     ],
     "language": "python",
     "metadata": {},
     "outputs": [
      {
       "metadata": {},
       "output_type": "pyout",
       "prompt_number": 253,
       "text": [
        "2615"
       ]
      }
     ],
     "prompt_number": 253
    },
    {
     "cell_type": "code",
     "collapsed": false,
     "input": [
      "#############  code 15-9 \ubd80\ud130 \uacc4\uc18d"
     ],
     "language": "python",
     "metadata": {},
     "outputs": [],
     "prompt_number": 171
    },
    {
     "cell_type": "code",
     "collapsed": false,
     "input": [
      "from numpy import * # for zeros func"
     ],
     "language": "python",
     "metadata": {},
     "outputs": [],
     "prompt_number": 205
    },
    {
     "cell_type": "code",
     "collapsed": false,
     "input": [
      "# Code 15-9\n",
      "# build a word count matrix\n",
      "def WordCountMat(dcts ):\n",
      "    # dcts is a list of dct\n",
      "    ND = len( dcts )  # number of dicts\n",
      "    # find all words in all dicts\n",
      "    goodwords = GoodWords( dcts )\n",
      "    LW = len( goodwords )\n",
      "    wcmat = zeros( (ND,LW), int )\n",
      "    for i in range( ND ):\n",
      "        for j in range( LW ):\n",
      "            if goodwords[j] in dcts[i]:\n",
      "                wcmat[i,j] = len( dcts[i][goodwords[j]] )\n",
      "    return wcmat"
     ],
     "language": "python",
     "metadata": {},
     "outputs": [],
     "prompt_number": 254
    },
    {
     "cell_type": "code",
     "collapsed": false,
     "input": [
      "wcm = WordCountMat(dcts)"
     ],
     "language": "python",
     "metadata": {},
     "outputs": [],
     "prompt_number": 255
    },
    {
     "cell_type": "code",
     "collapsed": false,
     "input": [
      "wcm.shape\n"
     ],
     "language": "python",
     "metadata": {},
     "outputs": [
      {
       "metadata": {},
       "output_type": "pyout",
       "prompt_number": 256,
       "text": [
        "(10, 2615)"
       ]
      }
     ],
     "prompt_number": 256
    },
    {
     "cell_type": "code",
     "collapsed": false,
     "input": [
      "wcm[:,:10]"
     ],
     "language": "python",
     "metadata": {},
     "outputs": [
      {
       "metadata": {},
       "output_type": "pyout",
       "prompt_number": 258,
       "text": [
        "array([[ 0,  0,  0,  0,  1,  0,  0,  2,  0,  9],\n",
        "       [ 0,  0,  0,  0,  0,  0,  0,  0,  0,  0],\n",
        "       [ 0,  0,  0,  0,  0,  0,  0,  0,  0,  0],\n",
        "       [ 0,  0,  0,  0,  0,  0,  0, 15,  0,  0],\n",
        "       [ 0,  0,  0,  1,  0,  1,  3,  7,  0,  1],\n",
        "       [ 0,  0,  0,  0,  0,  0,  1,  6,  1,  1],\n",
        "       [ 0,  0,  0,  0,  0,  0,  0,  0,  0,  2],\n",
        "       [ 2,  0,  3,  0,  0,  0,  2,  5,  0, 25],\n",
        "       [ 0,  0,  0,  0,  0,  0,  0,  0,  0,  0],\n",
        "       [ 0,  4,  0,  0,  0,  0,  0,  1,  0,  5]])"
       ]
      }
     ],
     "prompt_number": 258
    },
    {
     "cell_type": "code",
     "collapsed": false,
     "input": [
      "wcm[:10]"
     ],
     "language": "python",
     "metadata": {},
     "outputs": [
      {
       "metadata": {},
       "output_type": "pyout",
       "prompt_number": 82,
       "text": [
        "array([[0, 0, 0, ..., 0, 0, 0],\n",
        "       [0, 0, 0, ..., 0, 0, 0],\n",
        "       [0, 0, 0, ..., 0, 0, 0],\n",
        "       ..., \n",
        "       [2, 0, 3, ..., 0, 0, 0],\n",
        "       [0, 0, 0, ..., 0, 0, 0],\n",
        "       [0, 4, 0, ..., 0, 0, 0]])"
       ]
      }
     ],
     "prompt_number": 82
    },
    {
     "cell_type": "code",
     "collapsed": false,
     "input": [
      "gw[:12]"
     ],
     "language": "python",
     "metadata": {},
     "outputs": [
      {
       "metadata": {},
       "output_type": "pyout",
       "prompt_number": 259,
       "text": [
        "['elega',\n",
        " 'noisy',\n",
        " 'proli',\n",
        " 'prere',\n",
        " 'asymp',\n",
        " 'messe',\n",
        " 'surve',\n",
        " 'selec',\n",
        " 'votes',\n",
        " 'accur',\n",
        " 'const',\n",
        " 'consu']"
       ]
      }
     ],
     "prompt_number": 259
    },
    {
     "cell_type": "code",
     "collapsed": false,
     "input": [
      "# Code 15-10\n",
      "# probabilities of words occuring in docs\n",
      "def WordFreqMat( wcmat ):\n",
      "    V = len( wcmat )\n",
      "    pmat = zeros( wcmat.shape, float )\n",
      "    for i in range( V ):\n",
      "        pmat[i] = wcmat[i]/float( wcmat[i].sum() )\n",
      "    return pmat"
     ],
     "language": "python",
     "metadata": {},
     "outputs": [],
     "prompt_number": 260
    },
    {
     "cell_type": "code",
     "collapsed": false,
     "input": [
      "(wcm[9]/float( wcm[9].sum()) )[0:10]  ## 10\ud589 2\uc5f4"
     ],
     "language": "python",
     "metadata": {},
     "outputs": [
      {
       "metadata": {},
       "output_type": "pyout",
       "prompt_number": 90,
       "text": [
        "array([ 0.    ,  0.0028,  0.    ,  0.    ,  0.    ,  0.    ,  0.    ,\n",
        "        0.0007,  0.    ,  0.0035])"
       ]
      }
     ],
     "prompt_number": 90
    },
    {
     "cell_type": "code",
     "collapsed": false,
     "input": [
      "wcm[9].sum()"
     ],
     "language": "python",
     "metadata": {},
     "outputs": [
      {
       "metadata": {},
       "output_type": "pyout",
       "prompt_number": 91,
       "text": [
        "1449"
       ]
      }
     ],
     "prompt_number": 91
    },
    {
     "cell_type": "code",
     "collapsed": false,
     "input": [
      "set_printoptions(precision=4)"
     ],
     "language": "python",
     "metadata": {},
     "outputs": [],
     "prompt_number": 87
    },
    {
     "cell_type": "code",
     "collapsed": false,
     "input": [
      "wfm = WordFreqMat(wcm)"
     ],
     "language": "python",
     "metadata": {},
     "outputs": [],
     "prompt_number": 92
    },
    {
     "cell_type": "code",
     "collapsed": false,
     "input": [
      "wfm[:,:7]"
     ],
     "language": "python",
     "metadata": {},
     "outputs": [
      {
       "metadata": {},
       "output_type": "pyout",
       "prompt_number": 93,
       "text": [
        "array([[ 0.    ,  0.    ,  0.    ,  0.    ,  0.0003,  0.    ,  0.    ],\n",
        "       [ 0.    ,  0.    ,  0.    ,  0.    ,  0.    ,  0.    ,  0.    ],\n",
        "       [ 0.    ,  0.    ,  0.    ,  0.    ,  0.    ,  0.    ,  0.    ],\n",
        "       [ 0.    ,  0.    ,  0.    ,  0.    ,  0.    ,  0.    ,  0.    ],\n",
        "       [ 0.    ,  0.    ,  0.    ,  0.0003,  0.    ,  0.0003,  0.0009],\n",
        "       [ 0.    ,  0.    ,  0.    ,  0.    ,  0.    ,  0.    ,  0.0006],\n",
        "       [ 0.    ,  0.    ,  0.    ,  0.    ,  0.    ,  0.    ,  0.    ],\n",
        "       [ 0.0004,  0.    ,  0.0006,  0.    ,  0.    ,  0.    ,  0.0004],\n",
        "       [ 0.    ,  0.    ,  0.    ,  0.    ,  0.    ,  0.    ,  0.    ],\n",
        "       [ 0.    ,  0.0028,  0.    ,  0.    ,  0.    ,  0.    ,  0.    ]])"
       ]
      }
     ],
     "prompt_number": 93
    },
    {
     "cell_type": "code",
     "collapsed": false,
     "input": [
      "4.0/wcm[9].sum() # 10\ud589 2\uc5f4 , 10\ud589\ud569"
     ],
     "language": "python",
     "metadata": {},
     "outputs": [
      {
       "metadata": {},
       "output_type": "pyout",
       "prompt_number": 94,
       "text": [
        "0.0027605244996549345"
       ]
      }
     ],
     "prompt_number": 94
    },
    {
     "cell_type": "code",
     "collapsed": false,
     "input": [
      "wcm[9].sum() "
     ],
     "language": "python",
     "metadata": {},
     "outputs": [
      {
       "metadata": {},
       "output_type": "pyout",
       "prompt_number": 95,
       "text": [
        "1449"
       ]
      }
     ],
     "prompt_number": 95
    },
    {
     "cell_type": "code",
     "collapsed": false,
     "input": [
      "# Code 15-11\n",
      "# probablitiy of seeing a word in ANY doc\n",
      "def WordProb( wcmat ):\n",
      "    vsum = wcmat.sum( 0 )  # number of times each word is seen\n",
      "    tot = vsum.sum() # total number of words\n",
      "    pvec = vsum/float(tot)\n",
      "    return pvec"
     ],
     "language": "python",
     "metadata": {},
     "outputs": [],
     "prompt_number": 96
    },
    {
     "cell_type": "code",
     "collapsed": false,
     "input": [
      "wpr = WordProb(wcm)"
     ],
     "language": "python",
     "metadata": {},
     "outputs": [],
     "prompt_number": 261
    },
    {
     "cell_type": "code",
     "collapsed": false,
     "input": [
      "wpr[0:9]"
     ],
     "language": "python",
     "metadata": {},
     "outputs": [
      {
       "metadata": {},
       "output_type": "pyout",
       "prompt_number": 262,
       "text": [
        "array([  9.4666e-05,   1.8933e-04,   1.4200e-04,   4.7333e-05,\n",
        "         4.7333e-05,   4.7333e-05,   2.8400e-04,   1.7040e-03,   4.7333e-05])"
       ]
      }
     ],
     "prompt_number": 262
    },
    {
     "cell_type": "code",
     "collapsed": false,
     "input": [
      "wpr[1]"
     ],
     "language": "python",
     "metadata": {},
     "outputs": [
      {
       "metadata": {},
       "output_type": "pyout",
       "prompt_number": 99,
       "text": [
        "0.0001893311875798741"
       ]
      }
     ],
     "prompt_number": 99
    },
    {
     "cell_type": "code",
     "collapsed": false,
     "input": [
      "wcm.sum(0)[0:10]"
     ],
     "language": "python",
     "metadata": {},
     "outputs": [
      {
       "metadata": {},
       "output_type": "pyout",
       "prompt_number": 100,
       "text": [
        "array([ 2,  4,  3,  1,  1,  1,  6, 36,  1, 43])"
       ]
      }
     ],
     "prompt_number": 100
    },
    {
     "cell_type": "code",
     "collapsed": false,
     "input": [
      "wcm[0:,:11]"
     ],
     "language": "python",
     "metadata": {},
     "outputs": [
      {
       "metadata": {},
       "output_type": "pyout",
       "prompt_number": 263,
       "text": [
        "array([[ 0,  0,  0,  0,  1,  0,  0,  2,  0,  9,  9],\n",
        "       [ 0,  0,  0,  0,  0,  0,  0,  0,  0,  0,  0],\n",
        "       [ 0,  0,  0,  0,  0,  0,  0,  0,  0,  0,  0],\n",
        "       [ 0,  0,  0,  0,  0,  0,  0, 15,  0,  0,  8],\n",
        "       [ 0,  0,  0,  1,  0,  1,  3,  7,  0,  1, 33],\n",
        "       [ 0,  0,  0,  0,  0,  0,  1,  6,  1,  1,  8],\n",
        "       [ 0,  0,  0,  0,  0,  0,  0,  0,  0,  2,  0],\n",
        "       [ 2,  0,  3,  0,  0,  0,  2,  5,  0, 25,  0],\n",
        "       [ 0,  0,  0,  0,  0,  0,  0,  0,  0,  0,  0],\n",
        "       [ 0,  4,  0,  0,  0,  0,  0,  1,  0,  5,  4]])"
       ]
      }
     ],
     "prompt_number": 263
    },
    {
     "cell_type": "code",
     "collapsed": false,
     "input": [
      "wcm.sum()"
     ],
     "language": "python",
     "metadata": {},
     "outputs": [
      {
       "metadata": {},
       "output_type": "pyout",
       "prompt_number": 102,
       "text": [
        "21127"
       ]
      }
     ],
     "prompt_number": 102
    },
    {
     "cell_type": "code",
     "collapsed": false,
     "input": [
      "4.0/21127   # 10\ud589 2\uc5f4"
     ],
     "language": "python",
     "metadata": {},
     "outputs": [
      {
       "metadata": {},
       "output_type": "pyout",
       "prompt_number": 103,
       "text": [
        "0.0001893311875798741"
       ]
      }
     ],
     "prompt_number": 103
    },
    {
     "cell_type": "code",
     "collapsed": false,
     "input": [
      "###############"
     ],
     "language": "python",
     "metadata": {},
     "outputs": [],
     "prompt_number": 46
    },
    {
     "cell_type": "code",
     "collapsed": false,
     "input": [
      "voracity = wfm/wpr"
     ],
     "language": "python",
     "metadata": {},
     "outputs": [],
     "prompt_number": 104
    },
    {
     "cell_type": "code",
     "collapsed": false,
     "input": [
      "voracity[0:,:6]"
     ],
     "language": "python",
     "metadata": {},
     "outputs": [
      {
       "metadata": {},
       "output_type": "pyout",
       "prompt_number": 106,
       "text": [
        "array([[  0.    ,   0.    ,   0.    ,   0.    ,   6.9565,   0.    ],\n",
        "       [  0.    ,   0.    ,   0.    ,   0.    ,   0.    ,   0.    ],\n",
        "       [  0.    ,   0.    ,   0.    ,   0.    ,   0.    ,   0.    ],\n",
        "       [  0.    ,   0.    ,   0.    ,   0.    ,   0.    ,   0.    ],\n",
        "       [  0.    ,   0.    ,   0.    ,   6.271 ,   0.    ,   6.271 ],\n",
        "       [  0.    ,   0.    ,   0.    ,   0.    ,   0.    ,   0.    ],\n",
        "       [  0.    ,   0.    ,   0.    ,   0.    ,   0.    ,   0.    ],\n",
        "       [  4.2061,   0.    ,   4.2061,   0.    ,   0.    ,   0.    ],\n",
        "       [  0.    ,   0.    ,   0.    ,   0.    ,   0.    ,   0.    ],\n",
        "       [  0.    ,  14.5804,   0.    ,   0.    ,   0.    ,   0.    ]])"
       ]
      }
     ],
     "prompt_number": 106
    },
    {
     "cell_type": "code",
     "collapsed": false,
     "input": [
      "0.0027605244996549345/0.0001893311875798741  # 10\ud589 2\uc5f4"
     ],
     "language": "python",
     "metadata": {},
     "outputs": [
      {
       "metadata": {},
       "output_type": "pyout",
       "prompt_number": 107,
       "text": [
        "14.58040027605245"
       ]
      }
     ],
     "prompt_number": 107
    },
    {
     "cell_type": "code",
     "collapsed": false,
     "input": [
      "# Code 15-13\n",
      "def IndicWords( wcm, voracity, pdoc, ndoc, mincount=5 ):\n",
      "    # mask for words with minimun number of occurrences\n",
      "    vsum = wcm.sum(0)\n",
      "    mask = greater( vsum, mincount ).astype(int)\n",
      "    # allocate\n",
      "    ND, NW = wcm.shape # num doc , num words\n",
      "    paccum = zeros( NW, float )\n",
      "    for i in pdoc:\n",
      "        m = greater( voracity[i], 1 ).astype(int)\n",
      "        paccum += m * voracity[i]\n",
      "    naccum = zeros( NW, float )\n",
      "    for i in ndoc:\n",
      "        naccum += voracity[i]\n",
      "    paccum /= len( pdoc )\n",
      "    naccum /= len( ndoc )\n",
      "    scores = mask * paccum/(naccum+1)\n",
      "    ag = argsort( scores )[::-1]\n",
      "    return ag, scores"
     ],
     "language": "python",
     "metadata": {},
     "outputs": [],
     "prompt_number": 194
    },
    {
     "cell_type": "code",
     "collapsed": false,
     "input": [
      "x = array([30, 1, 52,4])"
     ],
     "language": "python",
     "metadata": {},
     "outputs": [],
     "prompt_number": 216
    },
    {
     "cell_type": "code",
     "collapsed": false,
     "input": [
      "argsort(x)"
     ],
     "language": "python",
     "metadata": {},
     "outputs": [
      {
       "metadata": {},
       "output_type": "pyout",
       "prompt_number": 217,
       "text": [
        "array([1, 3, 0, 2])"
       ]
      }
     ],
     "prompt_number": 217
    },
    {
     "cell_type": "code",
     "collapsed": false,
     "input": [
      "argsort(x)[::-1]"
     ],
     "language": "python",
     "metadata": {},
     "outputs": [
      {
       "metadata": {},
       "output_type": "pyout",
       "prompt_number": 218,
       "text": [
        "array([2, 0, 3, 1])"
       ]
      }
     ],
     "prompt_number": 218
    },
    {
     "cell_type": "code",
     "collapsed": false,
     "input": [
      "help(argsort)"
     ],
     "language": "python",
     "metadata": {},
     "outputs": [
      {
       "output_type": "stream",
       "stream": "stdout",
       "text": [
        "Help on function argsort in module numpy.core.fromnumeric:\n",
        "\n",
        "argsort(a, axis=-1, kind='quicksort', order=None)\n",
        "    Returns the indices that would sort an array.\n",
        "    \n",
        "    Perform an indirect sort along the given axis using the algorithm specified\n",
        "    by the `kind` keyword. It returns an array of indices of the same shape as\n",
        "    `a` that index data along the given axis in sorted order.\n",
        "    \n",
        "    Parameters\n",
        "    ----------\n",
        "    a : array_like\n",
        "        Array to sort.\n",
        "    axis : int or None, optional\n",
        "        Axis along which to sort.  The default is -1 (the last axis). If None,\n",
        "        the flattened array is used.\n",
        "    kind : {'quicksort', 'mergesort', 'heapsort'}, optional\n",
        "        Sorting algorithm.\n",
        "    order : list, optional\n",
        "        When `a` is an array with fields defined, this argument specifies\n",
        "        which fields to compare first, second, etc.  Not all fields need be\n",
        "        specified.\n",
        "    \n",
        "    Returns\n",
        "    -------\n",
        "    index_array : ndarray, int\n",
        "        Array of indices that sort `a` along the specified axis.\n",
        "        In other words, ``a[index_array]`` yields a sorted `a`.\n",
        "    \n",
        "    See Also\n",
        "    --------\n",
        "    sort : Describes sorting algorithms used.\n",
        "    lexsort : Indirect stable sort with multiple keys.\n",
        "    ndarray.sort : Inplace sort.\n",
        "    argpartition : Indirect partial sort.\n",
        "    \n",
        "    Notes\n",
        "    -----\n",
        "    See `sort` for notes on the different sorting algorithms.\n",
        "    \n",
        "    As of NumPy 1.4.0 `argsort` works with real/complex arrays containing\n",
        "    nan values. The enhanced sort order is documented in `sort`.\n",
        "    \n",
        "    Examples\n",
        "    --------\n",
        "    One dimensional array:\n",
        "    \n",
        "    >>> x = np.array([3, 1, 2])\n",
        "    >>> np.argsort(x)\n",
        "    array([1, 2, 0])\n",
        "    \n",
        "    Two-dimensional array:\n",
        "    \n",
        "    >>> x = np.array([[0, 3], [2, 2]])\n",
        "    >>> x\n",
        "    array([[0, 3],\n",
        "           [2, 2]])\n",
        "    \n",
        "    >>> np.argsort(x, axis=0)\n",
        "    array([[0, 1],\n",
        "           [1, 0]])\n",
        "    \n",
        "    >>> np.argsort(x, axis=1)\n",
        "    array([[0, 1],\n",
        "           [0, 1]])\n",
        "    \n",
        "    Sorting with keys:\n",
        "    \n",
        "    >>> x = np.array([(1, 0), (0, 1)], dtype=[('x', '<i4'), ('y', '<i4')])\n",
        "    >>> x\n",
        "    array([(1, 0), (0, 1)],\n",
        "          dtype=[('x', '<i4'), ('y', '<i4')])\n",
        "    \n",
        "    >>> np.argsort(x, order=('x','y'))\n",
        "    array([1, 0])\n",
        "    \n",
        "    >>> np.argsort(x, order=('y','x'))\n",
        "    array([0, 1])\n",
        "\n"
       ]
      }
     ],
     "prompt_number": 200
    },
    {
     "cell_type": "code",
     "collapsed": false,
     "input": [
      "greater(1,3).astype(int) # \uc0dd\ub7b5"
     ],
     "language": "python",
     "metadata": {},
     "outputs": [
      {
       "metadata": {},
       "output_type": "pyout",
       "prompt_number": 143,
       "text": [
        "0"
       ]
      }
     ],
     "prompt_number": 143
    },
    {
     "cell_type": "code",
     "collapsed": false,
     "input": [
      "wcm.shape # \uc0dd\ub7b5"
     ],
     "language": "python",
     "metadata": {},
     "outputs": [
      {
       "metadata": {},
       "output_type": "pyout",
       "prompt_number": 147,
       "text": [
        "(10, 2615)"
       ]
      }
     ],
     "prompt_number": 147
    },
    {
     "cell_type": "code",
     "collapsed": false,
     "input": [
      "aa =zeros(20, float) +[10]# \uc0dd\ub7b5"
     ],
     "language": "python",
     "metadata": {},
     "outputs": [],
     "prompt_number": 187
    },
    {
     "cell_type": "code",
     "collapsed": false,
     "input": [
      "aa # \uc0dd\ub7b5\n"
     ],
     "language": "python",
     "metadata": {},
     "outputs": [
      {
       "metadata": {},
       "output_type": "pyout",
       "prompt_number": 219,
       "text": [
        "array([ 5.,  5.,  5.,  5.,  5.,  5.,  5.,  5.,  5.,  5.,  5.,  5.,  5.,\n",
        "        5.,  5.,  5.,  5.,  5.,  5.,  5.])"
       ]
      }
     ],
     "prompt_number": 219
    },
    {
     "cell_type": "code",
     "collapsed": false,
     "input": [
      "type(aa) # \uc0dd\ub7b5"
     ],
     "language": "python",
     "metadata": {},
     "outputs": [
      {
       "metadata": {},
       "output_type": "pyout",
       "prompt_number": 220,
       "text": [
        "numpy.ndarray"
       ]
      }
     ],
     "prompt_number": 220
    },
    {
     "cell_type": "code",
     "collapsed": false,
     "input": [
      "aa /=2"
     ],
     "language": "python",
     "metadata": {},
     "outputs": [],
     "prompt_number": 190
    },
    {
     "cell_type": "code",
     "collapsed": false,
     "input": [
      "aa"
     ],
     "language": "python",
     "metadata": {},
     "outputs": [
      {
       "metadata": {},
       "output_type": "pyout",
       "prompt_number": 191,
       "text": [
        "array([ 5.,  5.,  5.,  5.,  5.,  5.,  5.,  5.,  5.,  5.,  5.,  5.,  5.,\n",
        "        5.,  5.,  5.,  5.,  5.,  5.,  5.])"
       ]
      }
     ],
     "prompt_number": 191
    },
    {
     "cell_type": "code",
     "collapsed": false,
     "input": [
      "#help(greater)"
     ],
     "language": "python",
     "metadata": {},
     "outputs": [],
     "prompt_number": 340
    },
    {
     "cell_type": "code",
     "collapsed": false,
     "input": [
      "pdoc = [0,1,2,3,4,5,6,7,8]"
     ],
     "language": "python",
     "metadata": {},
     "outputs": [],
     "prompt_number": 109
    },
    {
     "cell_type": "code",
     "collapsed": false,
     "input": [
      "ndoc = [9]"
     ],
     "language": "python",
     "metadata": {},
     "outputs": [],
     "prompt_number": 110
    },
    {
     "cell_type": "code",
     "collapsed": false,
     "input": [
      "voracity[0:,:6]"
     ],
     "language": "python",
     "metadata": {},
     "outputs": [
      {
       "metadata": {},
       "output_type": "pyout",
       "prompt_number": 192,
       "text": [
        "array([[  0.    ,   0.    ,   0.    ,   0.    ,   6.9565,   0.    ],\n",
        "       [  0.    ,   0.    ,   0.    ,   0.    ,   0.    ,   0.    ],\n",
        "       [  0.    ,   0.    ,   0.    ,   0.    ,   0.    ,   0.    ],\n",
        "       [  0.    ,   0.    ,   0.    ,   0.    ,   0.    ,   0.    ],\n",
        "       [  0.    ,   0.    ,   0.    ,   6.271 ,   0.    ,   6.271 ],\n",
        "       [  0.    ,   0.    ,   0.    ,   0.    ,   0.    ,   0.    ],\n",
        "       [  0.    ,   0.    ,   0.    ,   0.    ,   0.    ,   0.    ],\n",
        "       [  4.2061,   0.    ,   4.2061,   0.    ,   0.    ,   0.    ],\n",
        "       [  0.    ,   0.    ,   0.    ,   0.    ,   0.    ,   0.    ],\n",
        "       [  0.    ,  14.5804,   0.    ,   0.    ,   0.    ,   0.    ]])"
       ]
      }
     ],
     "prompt_number": 192
    },
    {
     "cell_type": "code",
     "collapsed": false,
     "input": [
      "ag,scores = IndicWords(wcm, voracity, pdoc , ndoc)"
     ],
     "language": "python",
     "metadata": {},
     "outputs": [],
     "prompt_number": 113
    },
    {
     "cell_type": "code",
     "collapsed": false,
     "input": [
      "ag[0:10]"
     ],
     "language": "python",
     "metadata": {},
     "outputs": [
      {
       "metadata": {},
       "output_type": "pyout",
       "prompt_number": 264,
       "text": [
        "array([ 712,  704, 1505, 1822, 2081,  871, 2211,  404, 2464,  994])"
       ]
      }
     ],
     "prompt_number": 264
    },
    {
     "cell_type": "code",
     "collapsed": false,
     "input": [
      "scores[ag[0:10]]"
     ],
     "language": "python",
     "metadata": {},
     "outputs": [
      {
       "metadata": {},
       "output_type": "pyout",
       "prompt_number": 265,
       "text": [
        "array([ 11.0578,   7.4237,   4.6028,   4.6028,   4.6028,   4.459 ,\n",
        "         3.8994,   3.8994,   3.8994,   3.4266])"
       ]
      }
     ],
     "prompt_number": 265
    },
    {
     "cell_type": "code",
     "collapsed": false,
     "input": [
      "take(gw,ag[0:10])"
     ],
     "language": "python",
     "metadata": {},
     "outputs": [
      {
       "metadata": {},
       "output_type": "pyout",
       "prompt_number": 116,
       "text": [
        "array(['httpw', 'httpb', 'fijgp', 'iseli', 'proof', 'elimi', 'scene',\n",
        "       'catch', 'camer', 'sites'], \n",
        "      dtype='|S5')"
       ]
      }
     ],
     "prompt_number": 116
    },
    {
     "cell_type": "code",
     "collapsed": false,
     "input": [
      "len(gw)"
     ],
     "language": "python",
     "metadata": {},
     "outputs": [
      {
       "metadata": {},
       "output_type": "pyout",
       "prompt_number": 117,
       "text": [
        "2615"
       ]
      }
     ],
     "prompt_number": 117
    },
    {
     "cell_type": "code",
     "collapsed": false,
     "input": [
      "#help(take)"
     ],
     "language": "python",
     "metadata": {},
     "outputs": [],
     "prompt_number": 550
    },
    {
     "cell_type": "code",
     "collapsed": false,
     "input": [
      "a = [4, 3, 5, 7, 6, 8]"
     ],
     "language": "python",
     "metadata": {},
     "outputs": [],
     "prompt_number": 118
    },
    {
     "cell_type": "code",
     "collapsed": false,
     "input": [
      "indices = [0, 1, 4]"
     ],
     "language": "python",
     "metadata": {},
     "outputs": [],
     "prompt_number": 119
    },
    {
     "cell_type": "code",
     "collapsed": false,
     "input": [
      "take(a, indices)"
     ],
     "language": "python",
     "metadata": {},
     "outputs": [
      {
       "metadata": {},
       "output_type": "pyout",
       "prompt_number": 120,
       "text": [
        "array([4, 3, 6])"
       ]
      }
     ],
     "prompt_number": 120
    },
    {
     "cell_type": "code",
     "collapsed": false,
     "input": [
      "##################################"
     ],
     "language": "python",
     "metadata": {},
     "outputs": [],
     "prompt_number": 369
    },
    {
     "cell_type": "code",
     "collapsed": false,
     "input": [
      "zt  = file('data/zhangstat.txt').read()"
     ],
     "language": "python",
     "metadata": {},
     "outputs": [],
     "prompt_number": 266
    },
    {
     "cell_type": "code",
     "collapsed": false,
     "input": [
      "zt =  Hoover(zt)"
     ],
     "language": "python",
     "metadata": {},
     "outputs": [],
     "prompt_number": 267
    },
    {
     "cell_type": "code",
     "collapsed": false,
     "input": [
      "zt"
     ],
     "language": "python",
     "metadata": {},
     "outputs": [
      {
       "metadata": {},
       "output_type": "pyout",
       "prompt_number": 268,
       "text": [
        "'fijgp untra       yeast splic regio findi codin termi biolo accor fijgp untra promo yeast splic regio findi codin termi  accor fijgp untra       yeast splic        findi codin termi biolo accor fijgp untra       yeast splic regio findi codin termi biolo accor fijgp untra       yeast splic regio findi codin termi  accor                permi'"
       ]
      }
     ],
     "prompt_number": 268
    },
    {
     "cell_type": "code",
     "collapsed": false,
     "input": [
      "ztdict = FiveLetterDict(zt)"
     ],
     "language": "python",
     "metadata": {},
     "outputs": [],
     "prompt_number": 270
    },
    {
     "cell_type": "code",
     "collapsed": false,
     "input": [
      "ztdict  ## "
     ],
     "language": "python",
     "metadata": {},
     "outputs": [
      {
       "metadata": {},
       "output_type": "pyout",
       "prompt_number": 271,
       "text": [
        "{'accor': [9, 19, 28, 38, 47],\n",
        " 'biolo': [8, 27, 37],\n",
        " 'codin': [6, 17, 25, 35, 45],\n",
        " 'fijgp': [0, 10, 20, 29, 39],\n",
        " 'findi': [5, 16, 24, 34, 44],\n",
        " 'permi': [48],\n",
        " 'promo': [12],\n",
        " 'regio': [4, 15, 33, 43],\n",
        " 'splic': [3, 14, 23, 32, 42],\n",
        " 'termi': [7, 18, 26, 36, 46],\n",
        " 'untra': [1, 11, 21, 30, 40],\n",
        " 'yeast': [2, 13, 22, 31, 41]}"
       ]
      }
     ],
     "prompt_number": 271
    },
    {
     "cell_type": "code",
     "collapsed": false,
     "input": [
      "zlen = len(ztdict)"
     ],
     "language": "python",
     "metadata": {},
     "outputs": [],
     "prompt_number": 126
    },
    {
     "cell_type": "code",
     "collapsed": false,
     "input": [
      "zlen"
     ],
     "language": "python",
     "metadata": {},
     "outputs": [
      {
       "metadata": {},
       "output_type": "pyout",
       "prompt_number": 127,
       "text": [
        "12"
       ]
      }
     ],
     "prompt_number": 127
    },
    {
     "cell_type": "code",
     "collapsed": false,
     "input": [
      "hits, nohits = [], []\n",
      "i = 0\n",
      "sc = 0\n",
      "while scores[ag[i]] > 1  :\n",
      "    if gw[ag[i]] in ztdict :\n",
      "        hits.append(gw[ag[i]])\n",
      "        sc += len(ztdict[gw[ag[i]]]) /float(zlen)\n",
      "    else:\n",
      "        nohits.append(gw[ag[i]])\n",
      "    i += 1\n",
      "    "
     ],
     "language": "python",
     "metadata": {},
     "outputs": [],
     "prompt_number": 128
    },
    {
     "cell_type": "code",
     "collapsed": false,
     "input": [
      "sc"
     ],
     "language": "python",
     "metadata": {},
     "outputs": [
      {
       "metadata": {},
       "output_type": "pyout",
       "prompt_number": 272,
       "text": [
        "2.0833333333333335"
       ]
      }
     ],
     "prompt_number": 272
    },
    {
     "cell_type": "code",
     "collapsed": false,
     "input": [
      "scores[ag[10]]\n"
     ],
     "language": "python",
     "metadata": {},
     "outputs": [
      {
       "metadata": {},
       "output_type": "pyout",
       "prompt_number": 273,
       "text": [
        "3.3887552404819501"
       ]
      }
     ],
     "prompt_number": 273
    },
    {
     "cell_type": "code",
     "collapsed": false,
     "input": [
      "hits"
     ],
     "language": "python",
     "metadata": {},
     "outputs": [
      {
       "metadata": {},
       "output_type": "pyout",
       "prompt_number": 274,
       "text": [
        "['fijgp', 'permi', 'untra', 'termi', 'codin', 'regio']"
       ]
      }
     ],
     "prompt_number": 274
    },
    {
     "cell_type": "code",
     "collapsed": false,
     "input": [
      "len(nohits)"
     ],
     "language": "python",
     "metadata": {},
     "outputs": [
      {
       "metadata": {},
       "output_type": "pyout",
       "prompt_number": 132,
       "text": [
        "87"
       ]
      }
     ],
     "prompt_number": 132
    },
    {
     "cell_type": "code",
     "collapsed": false,
     "input": [
      "sc/len(hits)"
     ],
     "language": "python",
     "metadata": {},
     "outputs": [
      {
       "metadata": {},
       "output_type": "pyout",
       "prompt_number": 275,
       "text": [
        "0.34722222222222227"
       ]
      }
     ],
     "prompt_number": 275
    },
    {
     "cell_type": "code",
     "collapsed": false,
     "input": [
      "########################## end ##############"
     ],
     "language": "python",
     "metadata": {},
     "outputs": [],
     "prompt_number": 551
    }
   ],
   "metadata": {}
  }
 ]
}