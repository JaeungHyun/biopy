{
 "metadata": {
  "name": "",
  "signature": "sha256:e9e2149d4965d1d39e4f64042f503028f93e81a99676e9bbf14bfea3312e9bf1"
 },
 "nbformat": 3,
 "nbformat_minor": 0,
 "worksheets": [
  {
   "cells": [
    {
     "cell_type": "markdown",
     "metadata": {},
     "source": [
      "#Ch. 23 Numerical Sequence Alignment"
     ]
    },
    {
     "cell_type": "markdown",
     "metadata": {},
     "source": [
      "###\uc11c\uc5f4 \uc815\ub82c(Sequence Alignment)\ub97c \uc774\uc6a9\ud55c \uc0dd\ubb3c\ud559 \ub370\uc774\ud130\ubca0\uc774\uc2a4 \uac80\uc0c9\uc744 \uc9c0\ud0f1\ud558\ub294 \uc0dd\ubb3c\ud559\uc801 \uadfc\uac70 4\uac00\uc9c0###"
     ]
    },
    {
     "cell_type": "markdown",
     "metadata": {},
     "source": [
      "##23.1 Alternative Encodings\n",
      "Numerical Encoding\n",
      "\n",
      "###G\u00f6del Numbering(encoding):###\n",
      "> A G\u00f6del numbering can be interpreted as an encoding in which a number is assigned to each symbol of a mathematical notation, after which a sequence of natural numbers can then represent a sequence of symbols. These sequences of natural numbers can again be represented by single natural numbers, facilitating their manipulation in formal theories of arithmetic."
     ]
    },
    {
     "cell_type": "markdown",
     "metadata": {},
     "source": [
      "###23.1.1 Hydrophobicity\n",
      "*Example of Expression*\n",
      "\n",
      "Of course, there are other measurements such as polarity, charge, and structure that are available (Wang and Atchley, 2006; Taylor et al., 2005)\n",
      "\n",
      "Property of amino acids\n",
      "![Amino acids properties](http://www.jalview.org/help/html/misc/properties.gif)\n"
     ]
    },
    {
     "cell_type": "code",
     "collapsed": false,
     "input": [
      "from numpy import zeros, nonzero, greater_equal, array, log2,\\\n",
      "     arange, sqrt, random, log\n",
      "import akando, genbank"
     ],
     "language": "python",
     "metadata": {},
     "outputs": [],
     "prompt_number": 1
    },
    {
     "cell_type": "code",
     "collapsed": false,
     "input": [
      "# hydro.py\n",
      "def MakeChart( ):\n",
      "    phob = []\n",
      "    phob.append(('Alanine','Ala','A',0.616))\n",
      "    phob.append(('Arginine','Arg','R',0))\n",
      "    phob.append(('Asparagine','Asn','N',0.236))\n",
      "    phob.append(('Aspartate','Asp','D',0.028))\n",
      "    phob.append(('Cysteine','Cys','C',0.68))\n",
      "    phob.append(('Glutamate','Glu','E',0.043))\n",
      "    phob.append(('Glutamine','Gln','Q',0.251))\n",
      "    phob.append(('Glycine','Gly','G',0.501))\n",
      "    phob.append(('Histidine','His','H',0.165))\n",
      "    phob.append(('Isoleucine','Ile','I',0.943))\n",
      "    phob.append(('Leucine','Leu','L',0.943))\n",
      "    phob.append(('Lysine','Lys','K',0.283))\n",
      "    phob.append(('Methionine','Met','M',0.738))\n",
      "    phob.append(('Phenylalanine','Phe','F',1))\n",
      "    phob.append(('Proline','Pro','P',0.711))\n",
      "    phob.append(('Serine','Ser','S',0.359))\n",
      "    phob.append(('Threonine','Thr','T', 0.45))\n",
      "    phob.append(('Tryptophan','Trp','W',0.878))\n",
      "    phob.append(('Tyrosine','Tyr','Y',0.88))\n",
      "    phob.append(('Valine','Val','V',0.825))\n",
      "    abet = 'ARNDCEQGHILKMFPSTWYV'\n",
      "    return phob, abet\n",
      "\n",
      "phob, abet = MakeChart()"
     ],
     "language": "python",
     "metadata": {},
     "outputs": [],
     "prompt_number": 2
    },
    {
     "cell_type": "markdown",
     "metadata": {},
     "source": [
      "Table 23-1 The Hydrophobicity Values for Each Amino Acid\n",
      "![The hydrophobicity values for each amino acid](./figures/table23-1.jpg)"
     ]
    },
    {
     "cell_type": "code",
     "collapsed": false,
     "input": [
      "# hydro.py\n",
      "def ConvertSequence( seq, phob, abet ):\n",
      "    N = len( seq )\n",
      "    vec = zeros( N, float )\n",
      "    for i in range( N ):\n",
      "        ndx = abet.find( seq[i] )\n",
      "        vec[i] = phob[ndx][3]\n",
      "    return vec"
     ],
     "language": "python",
     "metadata": {},
     "outputs": [],
     "prompt_number": 3
    },
    {
     "cell_type": "code",
     "collapsed": false,
     "input": [
      "vec = ConvertSequence( 'GQATDNWY', phob, abet )"
     ],
     "language": "python",
     "metadata": {},
     "outputs": [],
     "prompt_number": 4
    },
    {
     "cell_type": "code",
     "collapsed": false,
     "input": [
      "vec "
     ],
     "language": "python",
     "metadata": {},
     "outputs": [
      {
       "metadata": {},
       "output_type": "pyout",
       "prompt_number": 5,
       "text": [
        "array([ 0.501,  0.251,  0.616,  0.45 ,  0.028,  0.236,  0.878,  0.88 ])"
       ]
      }
     ],
     "prompt_number": 5
    },
    {
     "cell_type": "markdown",
     "metadata": {},
     "source": [
      "Example of protein structure cartoon\n",
      "![Cartoon of a stable protein structure](http://sciencegeist.net/wp-content/uploads/2011/02/hphobichphilic.png)"
     ]
    },
    {
     "cell_type": "markdown",
     "metadata": {},
     "source": [
      "###23.1.2 GC Content\n",
      "* DNA \uc11c\uc5f4 \ub0b4 GC Content\uac00 \ud48d\ubd80\ud55c \ubd80\ubd84\uc774 \uad6c\uc870\uc801 \uc548\uc815\uc131\uacfc \uc5f4 \ub0b4\uc131\uc774 \uc788\ub2e4. (X) --> \uc2e4\ud5d8\uc801\uc73c\ub85c \uc544\ub2d8\uc774 \uc99d\uba85.\n",
      "* RNA \uc11c\uc5f4 \ub0b4 GC Content\uac00 \ud48d\ubd80\ud55c \ubd80\ubd84\uc740 \uc5f4 \ub0b4\uc131\uc774 \uc788\ub2e4. (O) --> PCR Primer \uc124\uacc4 \uc2dc, GC Content \ube44\ub97c \uacc4\uc0b0\ud558\ub294 \uc774\uc720\n",
      "\n",
      "Nucleotide bonds showing AT and GC pairs. Arrows point to the hydrogen bonds.\n",
      "![Nucleotide bonds showing AT and GC pairs. Arrows point to the hydrogen bonds.](http://upload.wikimedia.org/wikipedia/commons/thumb/1/1a/AT-GC.jpg/600px-AT-GC.jpg)"
     ]
    },
    {
     "cell_type": "code",
     "collapsed": false,
     "input": [
      "# numseq.py\n",
      "def GCContent( seq, win ):\n",
      "    # win is the window size\n",
      "    N = len( seq )\n",
      "    D = N - win # number of windows\n",
      "    vec = zeros( D, float )\n",
      "    for i in range( D ):\n",
      "        a = seq[i:i + win].count( 'A' )\n",
      "        c = seq[i:i + win].count( 'C' )\n",
      "        g = seq[i:i + win].count( 'G' )\n",
      "        t = seq[i:i + win].count( 'T' )\n",
      "        vec[i] = float(c + g) / (a + c + g + t)\n",
      "    return vec"
     ],
     "language": "python",
     "metadata": {},
     "outputs": [],
     "prompt_number": 6
    },
    {
     "cell_type": "code",
     "collapsed": false,
     "input": [
      "vec = GCContent(\n",
      "'AGATGCTGAGATCGGTAGCGTGTATGCTAGCTGACATCATTTTCACGCGCGCGCGCGCGCCGCGCGCGCGCGGGCGATATATAGCT', \n",
      "10)"
     ],
     "language": "python",
     "metadata": {},
     "outputs": [],
     "prompt_number": 7
    },
    {
     "cell_type": "code",
     "collapsed": false,
     "input": [
      "vec"
     ],
     "language": "python",
     "metadata": {},
     "outputs": [
      {
       "metadata": {},
       "output_type": "pyout",
       "prompt_number": 8,
       "text": [
        "array([ 0.5,  0.5,  0.4,  0.5,  0.6,  0.6,  0.5,  0.5,  0.5,  0.6,  0.6,\n",
        "        0.6,  0.7,  0.6,  0.5,  0.4,  0.5,  0.6,  0.5,  0.4,  0.4,  0.5,\n",
        "        0.4,  0.5,  0.5,  0.6,  0.5,  0.4,  0.5,  0.5,  0.4,  0.3,  0.3,\n",
        "        0.2,  0.3,  0.2,  0.3,  0.4,  0.4,  0.5,  0.6,  0.7,  0.8,  0.9,\n",
        "        0.9,  1. ,  1. ,  1. ,  1. ,  1. ,  1. ,  1. ,  1. ,  1. ,  1. ,\n",
        "        1. ,  1. ,  1. ,  1. ,  1. ,  1. ,  1. ,  1. ,  1. ,  1. ,  1. ,\n",
        "        1. ,  0.9,  0.8,  0.7,  0.6,  0.5,  0.4,  0.3,  0.3,  0.3])"
       ]
      }
     ],
     "prompt_number": 8
    },
    {
     "cell_type": "markdown",
     "metadata": {},
     "source": [
      "![The GC content for the sequence](./figures/figure23-1.jpg)\n",
      "FIGURE 23-1 The GC content for the sequence in Code GCContent."
     ]
    },
    {
     "cell_type": "code",
     "collapsed": false,
     "input": [
      "# numseq.py\n",
      "def FastGCContent( seq, win ):\n",
      "    # win is the window size\n",
      "    N = len( seq )\n",
      "    D = N - win # number of windows\n",
      "    vec = zeros( D, float )\n",
      "    # first window\n",
      "    a = seq[:win].count( 'A' )\n",
      "    c = seq[:win].count( 'C' )\n",
      "    g = seq[:win].count( 'G' )\n",
      "    t = seq[:win].count( 'T' )\n",
      "    nmr = float(c + g)\n",
      "    vec[0] = nmr / win\n",
      "    w1 = win - 1\n",
      "    # subsequent windows\n",
      "    for i in range( 1, D ):\n",
      "        if seq[i-1]=='C' or seq[i-1]=='G':\n",
      "            nmr -=1\n",
      "        if seq[i+w1]=='C' or seq[i+w1]=='G':\n",
      "            nmr += 1\n",
      "        vec[i] = nmr / win\n",
      "    return vec"
     ],
     "language": "python",
     "metadata": {},
     "outputs": [],
     "prompt_number": 9
    },
    {
     "cell_type": "code",
     "collapsed": false,
     "input": [
      "vec = FastGCContent(\n",
      "'AGATGCTGAGATCGGTAGCGTGTATGCTAGCTGACATCATTTTCACGCGCGCGCGCGCGCCGCGCGCGCGCGGGCGATATATAGCT', \n",
      "10)"
     ],
     "language": "python",
     "metadata": {},
     "outputs": [],
     "prompt_number": 10
    },
    {
     "cell_type": "code",
     "collapsed": false,
     "input": [
      "vec"
     ],
     "language": "python",
     "metadata": {},
     "outputs": [
      {
       "metadata": {},
       "output_type": "pyout",
       "prompt_number": 11,
       "text": [
        "array([ 0.5,  0.5,  0.4,  0.5,  0.6,  0.6,  0.5,  0.5,  0.5,  0.6,  0.6,\n",
        "        0.6,  0.7,  0.6,  0.5,  0.4,  0.5,  0.6,  0.5,  0.4,  0.4,  0.5,\n",
        "        0.4,  0.5,  0.5,  0.6,  0.5,  0.4,  0.5,  0.5,  0.4,  0.3,  0.3,\n",
        "        0.2,  0.3,  0.2,  0.3,  0.4,  0.4,  0.5,  0.6,  0.7,  0.8,  0.9,\n",
        "        0.9,  1. ,  1. ,  1. ,  1. ,  1. ,  1. ,  1. ,  1. ,  1. ,  1. ,\n",
        "        1. ,  1. ,  1. ,  1. ,  1. ,  1. ,  1. ,  1. ,  1. ,  1. ,  1. ,\n",
        "        1. ,  0.9,  0.8,  0.7,  0.6,  0.5,  0.4,  0.3,  0.3,  0.3])"
       ]
      }
     ],
     "prompt_number": 11
    },
    {
     "cell_type": "markdown",
     "metadata": {},
     "source": [
      "###23.1.3 Numerical Methods\n",
      "Example of Presentation"
     ]
    },
    {
     "cell_type": "markdown",
     "metadata": {},
     "source": [
      "###A Three-Dimensional Equidistant Encoding###\n",
      "\n",
      "* 3\ucc28\uc6d0 \uacf5\uac04 \uc0c1, \uac01\uc790\uc5d0 \ub300\ud574 \ub3d9\uc77c \uac70\ub9ac\n",
      "\n",
      "A = (\u20130.5, \u20130.2886, \u20130.204)\n",
      "\n",
      "C = (0.5, \u20130.2886, \u20130.204)\n",
      "\n",
      "G = (0, 0.5774, \u20130.204)\n",
      "\n",
      "T = (0, 0, 0.6123)"
     ]
    },
    {
     "cell_type": "markdown",
     "metadata": {},
     "source": [
      "###An Encoding Using Smoothed Complex Numbers by Chang(2006)###\n",
      "\n",
      "* \ubcf5\uc18c\uc218 \uacf5\uac04\n",
      "\n",
      "A = 1 + j\n",
      "\n",
      "T = 1 \u2212 j\n",
      "\n",
      "C = \u22121 \u2212 j\n",
      "\n",
      "G = \u22121 + j"
     ]
    },
    {
     "cell_type": "markdown",
     "metadata": {},
     "source": [
      "Definition of transitions and transversions with Chang's coding space.\n",
      "\n",
      "![Definition of transitions and transversions on Chang's coding space.](./figures/Changs_encoding.png)"
     ]
    },
    {
     "cell_type": "markdown",
     "metadata": {},
     "source": [
      "weighted:\n",
      "\n",
      "$$y[n] = {x[n] + \\frac{x[n-1]}{2} + \\frac{x[n-2]}{4}}$$"
     ]
    },
    {
     "cell_type": "code",
     "collapsed": false,
     "input": [
      "# Chang's method\n",
      "def Chang( seq ):\n",
      "    a = [1 + 1j, 1 - 1j, -1 - 1j, -1 + 1j]\n",
      "    abet = 'ATCG'\n",
      "    N = len( seq )\n",
      "    vec = zeros( N - 2, complex )\n",
      "    for i in range( N - 2 ):\n",
      "        n1, n2, n3 = abet.find(seq[i + 2]), abet.find(seq[i + 1]), abet.find(seq[i])\n",
      "        vec[i] = a[n1] + 0.5 * a[n2] + 0.25 * a[n3]\n",
      "    return vec"
     ],
     "language": "python",
     "metadata": {},
     "outputs": [],
     "prompt_number": 12
    },
    {
     "cell_type": "code",
     "collapsed": false,
     "input": [
      "#vec = Chang( 'tacgtac')\n",
      "vec = Chang( 'tacgtac'.upper())"
     ],
     "language": "python",
     "metadata": {},
     "outputs": [],
     "prompt_number": 13
    },
    {
     "cell_type": "code",
     "collapsed": false,
     "input": [
      "vec"
     ],
     "language": "python",
     "metadata": {},
     "outputs": [
      {
       "metadata": {},
       "output_type": "pyout",
       "prompt_number": 14,
       "text": [
        "array([-0.25-0.75j, -1.25+0.75j,  0.25-0.75j,  1.25+0.75j, -0.25-0.75j])"
       ]
      }
     ],
     "prompt_number": 14
    },
    {
     "cell_type": "markdown",
     "metadata": {},
     "source": [
      "##23.2 Numerical Alignments"
     ]
    },
    {
     "cell_type": "markdown",
     "metadata": {},
     "source": [
      "Tempel et al. (2006)\n",
      "\n",
      "![A binary element conversion](./figures/figure23-2.jpg)\n",
      "FIGURE 23-2 A binary element conversion."
     ]
    },
    {
     "cell_type": "code",
     "collapsed": false,
     "input": [
      "# numseq.py\n",
      "def PartMatch( targ, seq, nhits ):\n",
      "    # targ = target sequence\n",
      "    # seq = data sequence\n",
      "    # nhits = minimum number of matches needed.\n",
      "    D = len( seq )\n",
      "    query = zeros( (4,D) )\n",
      "    data = zeros( (4,D) )\n",
      "    # convert targ\n",
      "    a = array( list( targ ))\n",
      "    lt = len( targ )\n",
      "    query[0,:lt] = (a=='A').astype(int)\n",
      "    query[1,:lt] = (a=='C').astype(int)\n",
      "    query[2,:lt] = (a=='G').astype(int)\n",
      "    query[3,:lt] = (a=='T').astype(int)\n",
      "    \n",
      "    # convert sequence\n",
      "    a = array( list( seq ))\n",
      "    data[0] = (a=='A').astype(int)\n",
      "    data[1] = (a=='C').astype(int)\n",
      "    data[2] = (a=='G').astype(int)\n",
      "    data[3] = (a=='T').astype(int)\n",
      "    \n",
      "    # correlate\n",
      "    corr = zeros( (4,D) )\n",
      "    for i in range( 4 ):\n",
      "        a = akando.Correlate( data[i], query[i] )\n",
      "        corr[i] = akando.Swap(a.real)\n",
      "    \n",
      "    corr = corr.sum(0)\n",
      "    \n",
      "    # find the peaks\n",
      "    hits = greater_equal( corr, nhits*0.9999 ).astype(int)\n",
      "    \n",
      "    nz = hits.nonzero( )[0]\n",
      "    if D%2==0: return nz\n",
      "    else: return nz+1"
     ],
     "language": "python",
     "metadata": {},
     "outputs": [],
     "prompt_number": 16
    },
    {
     "cell_type": "code",
     "collapsed": false,
     "input": [
      "targ = 'ACTTG'\n",
      "seq = 'TTAGCTAGACTTTTGACTGAGATTTG'\n",
      "pm = PartMatch(targ, seq, 4)\n",
      "pm"
     ],
     "language": "python",
     "metadata": {},
     "outputs": [
      {
       "metadata": {},
       "output_type": "pyout",
       "prompt_number": 17,
       "text": [
        "array([ 8, 21])"
       ]
      }
     ],
     "prompt_number": 17
    },
    {
     "cell_type": "code",
     "collapsed": false,
     "input": [
      "seq[pm[0]:pm[0] + len(targ)] #seq[8:8+5]"
     ],
     "language": "python",
     "metadata": {},
     "outputs": [
      {
       "metadata": {},
       "output_type": "pyout",
       "prompt_number": 18,
       "text": [
        "'ACTTT'"
       ]
      }
     ],
     "prompt_number": 18
    },
    {
     "cell_type": "code",
     "collapsed": false,
     "input": [
      "seq[pm[1]:pm[1] + len(targ)] #seq[21:21+5]"
     ],
     "language": "python",
     "metadata": {},
     "outputs": [
      {
       "metadata": {},
       "output_type": "pyout",
       "prompt_number": 19,
       "text": [
        "'ATTTG'"
       ]
      }
     ],
     "prompt_number": 19
    },
    {
     "cell_type": "markdown",
     "metadata": {},
     "source": [
      "##23.3 Measuring the Hurst Exponent"
     ]
    },
    {
     "cell_type": "markdown",
     "metadata": {},
     "source": [
      "According to the method presented in Yu and Chen (2000), a DNA string is converted to numbers using the simple encoding (ACGT) = (\u22122, \u22121, 1, 2)"
     ]
    },
    {
     "cell_type": "code",
     "collapsed": false,
     "input": [
      "# numseq.py\n",
      "def TwoEncode( seq ):\n",
      "    N = len( seq )\n",
      "    vec = zeros( N, int )\n",
      "    a = (-2, -1, 1, 2 )\n",
      "    b = 'ACGT'\n",
      "    for i in range( N ):\n",
      "        ndx = b.find( seq[i] )\n",
      "        vec[i] = a[ndx]\n",
      "    return vec"
     ],
     "language": "python",
     "metadata": {},
     "outputs": [],
     "prompt_number": 20
    },
    {
     "cell_type": "markdown",
     "metadata": {},
     "source": [
      "The R[n] is the range of X for this value of n, and S[n] is the standard deviation.\n",
      "The matrix M contains two columns used for plotting. The first column is the log(n) values and the second column is the log(R[n]/S[n]) values."
     ]
    },
    {
     "cell_type": "code",
     "collapsed": false,
     "input": [
      "# numseq.py\n",
      "def Hurst( seq ):\n",
      "    # n- averages\n",
      "    N = len( seq )\n",
      "    x = TwoEncode( seq )\n",
      "    R = zeros( N, float )\n",
      "    S = zeros( N, float )\n",
      "    for n in range( 1,N ):\n",
      "        avg = x[:n].mean()\n",
      "        X = zeros( n, float )\n",
      "        for t in range( 1, n ):\n",
      "            X[t] = X[t-1] + (x[t-1] - avg )\n",
      "        R[n] = X.max() - X.min()\n",
      "        S[n] = sqrt( 1./n * ((x[:n]-avg)**2).sum())\n",
      "    Z = R[3:]/S[3:]\n",
      "    M = zeros( (N-3,2), float )\n",
      "    M[:,0] = log(arange( 3,N))\n",
      "    M[:,1] = log(Z)\n",
      "    H = akando.linearRegression( M[:,0], M[:,1] )\n",
      "    return M, H[0]"
     ],
     "language": "python",
     "metadata": {},
     "outputs": [],
     "prompt_number": 21
    },
    {
     "cell_type": "code",
     "collapsed": false,
     "input": [
      "data = genbank.ReadGenbank( './data/AF033620.gb')\n",
      "dna = genbank.ParseDNA( data )\n",
      "seq = dna[1729:2560]\n",
      "Seq = seq.upper()\n",
      "M, H = Hurst( Seq )\n",
      "H"
     ],
     "language": "python",
     "metadata": {},
     "outputs": [
      {
       "metadata": {},
       "output_type": "pyout",
       "prompt_number": 22,
       "text": [
        "0.69538577629677079"
       ]
      }
     ],
     "prompt_number": 22
    },
    {
     "cell_type": "code",
     "collapsed": false,
     "input": [
      "akando.PlotMultiple('fig23-3.txt', M )"
     ],
     "language": "python",
     "metadata": {},
     "outputs": [],
     "prompt_number": 23
    },
    {
     "cell_type": "markdown",
     "metadata": {},
     "source": [
      "![Plot of log(R[n]/S[n]) versus log(n)](./figures/figure23-3.jpg)\n",
      "FIGURE 23-3. Plot of log(R[n]/S[n]) versus log(n)."
     ]
    },
    {
     "cell_type": "code",
     "collapsed": false,
     "input": [
      "# RandomString \ud568\uc218 \ucd94\uac00\n",
      "import random\n",
      "from itertools import islice\n",
      "\n",
      "random.seed()\n",
      "\n",
      "def RandomString(size, chars):\n",
      "    return ''.join(random.choice(chars) for i in xrange(size))\n",
      "\n",
      "#random_gen = RandomString(830, 'ACGT')\n",
      "#print random_gen\n",
      "#print next(random_gen)\n",
      "#print next(random_gen)"
     ],
     "language": "python",
     "metadata": {},
     "outputs": [],
     "prompt_number": 24
    },
    {
     "cell_type": "code",
     "collapsed": false,
     "input": [
      "rseq = RandomString( 830, 'ACGT' )\n",
      "M, H = Hurst( rseq )\n",
      "H"
     ],
     "language": "python",
     "metadata": {},
     "outputs": [
      {
       "metadata": {},
       "output_type": "pyout",
       "prompt_number": 28,
       "text": [
        "0.55600726007823875"
       ]
      }
     ],
     "prompt_number": 28
    },
    {
     "cell_type": "code",
     "collapsed": false,
     "input": [
      "M, H = Hurst( 'ATGTCATG'*100 )\n",
      "H"
     ],
     "language": "python",
     "metadata": {},
     "outputs": [
      {
       "metadata": {},
       "output_type": "pyout",
       "prompt_number": 29,
       "text": [
        "0.02142310607832406"
       ]
      }
     ],
     "prompt_number": 29
    },
    {
     "cell_type": "markdown",
     "metadata": {},
     "source": [
      "The Hurst exponent is used as a measure of long-term memory of time series.\n",
      "\n",
      "$${E\\left [ \\frac{R(n)}{S(n)}  \\right ]} = {C{n^{H}}} \\;\\;as\\;\\; {n \\to \\infty}$$\n",
      "\n",
      "where;\n",
      "* R(n) is the range of the first n values\n",
      "* S(n) is their standard deviation\n",
      "* E[x] is the expected value\n",
      "* n is the time span of the observation (number of data points in a time series)\n",
      "* C is a constant. "
     ]
    },
    {
     "cell_type": "markdown",
     "metadata": {},
     "source": [
      "> A value H in the range 0.5\u20131 indicates a high value in the series will probably be followed by another high value and that the values a long time into the future will also tend to be high.\n",
      "\n",
      "> A value in the range 0 \u2013 0.5 indicates a single high value will probably be followed by a low value and that the value after that will tend to be high, with this tendency to switch between high and low values lasting a long time into the future.\n",
      "\n",
      "> A value of H=0.5 can indicate a completely uncorrelated series."
     ]
    },
    {
     "cell_type": "markdown",
     "metadata": {},
     "source": [
      "##23.4 Chaos Representation\n",
      "\n",
      "###23.4.1 Representing the Data\n",
      "\n",
      "The work of Deschavanne et al. (1999) represented the data using an image.\n",
      "\n",
      "![The first three sequence combinations for the chaos representation](./figures/figure23-4.jpg)\n",
      "FIGURE 23-4. The first three sequence combinations for the chaos representation."
     ]
    },
    {
     "cell_type": "code",
     "collapsed": false,
     "input": [
      "from numpy import arange, zeros, array, take, ravel\n",
      "import copy\n",
      "#import Image\n",
      "from PIL import Image\n",
      "import akando, genbank, kmeans, eigimage"
     ],
     "language": "python",
     "metadata": {},
     "outputs": [],
     "prompt_number": 30
    },
    {
     "cell_type": "code",
     "collapsed": false,
     "input": [
      "# chaos.py\n",
      "def AllPossStrings( abet, SZ=8 ):\n",
      "    # SZ is number of iterations. 8 will make a 256x256 array\n",
      "    # is also the length of the strings\n",
      "    a = array( [[abet[0],abet[1]],[abet[2],abet[3]]] )\n",
      "    for n in range( SZ-1 ):\n",
      "        N = len( a )\n",
      "        grab = arange( 2*N )/2\n",
      "        b = zeros( (2*N,2*N), 'S8' )\n",
      "        # expand the matrix\n",
      "        for i in range( N ):\n",
      "            b[2*i] = take( a[i], grab )\n",
      "            b[2*i+1] = take( a[i], grab )\n",
      "        # left add the new character\n",
      "        for i in range( 2*N ):\n",
      "            for j in range( 2* N ):\n",
      "                k, l = i%2, j%2\n",
      "                m = k*2+l\n",
      "                b[i,j] = abet[m] + b[i,j]\n",
      "        a = copy.copy( b )\n",
      "    return b"
     ],
     "language": "python",
     "metadata": {},
     "outputs": [],
     "prompt_number": 31
    },
    {
     "cell_type": "code",
     "collapsed": false,
     "input": [
      "aps = AllPossStrings( 'ACGT', 7 )\n",
      "aps.shape"
     ],
     "language": "python",
     "metadata": {},
     "outputs": [
      {
       "metadata": {},
       "output_type": "pyout",
       "prompt_number": 32,
       "text": [
        "(128, 128)"
       ]
      }
     ],
     "prompt_number": 32
    },
    {
     "cell_type": "code",
     "collapsed": false,
     "input": [
      "aps[:5,:5]"
     ],
     "language": "python",
     "metadata": {},
     "outputs": [
      {
       "metadata": {},
       "output_type": "pyout",
       "prompt_number": 33,
       "text": [
        "array([['AAAAAAA', 'CAAAAAA', 'ACAAAAA', 'CCAAAAA', 'AACAAAA'],\n",
        "       ['GAAAAAA', 'TAAAAAA', 'GCAAAAA', 'TCAAAAA', 'GACAAAA'],\n",
        "       ['AGAAAAA', 'CGAAAAA', 'ATAAAAA', 'CTAAAAA', 'AGCAAAA'],\n",
        "       ['GGAAAAA', 'TGAAAAA', 'GTAAAAA', 'TTAAAAA', 'GGCAAAA'],\n",
        "       ['AAGAAAA', 'CAGAAAA', 'ACGAAAA', 'CCGAAAA', 'AATAAAA']], \n",
        "      dtype='|S8')"
       ]
      }
     ],
     "prompt_number": 33
    },
    {
     "cell_type": "code",
     "collapsed": false,
     "input": [
      "# chaos.py\n",
      "def Counter( aps, data ):\n",
      "    # aps from all possible strings\n",
      "    N = len( aps )\n",
      "    ctr = zeros( (N,N), int )\n",
      "    for i in range( N ):\n",
      "        for j in range( N ):\n",
      "            ctr[i,j] = data.count( aps[i,j] )\n",
      "    return ctr"
     ],
     "language": "python",
     "metadata": {},
     "outputs": [],
     "prompt_number": 34
    },
    {
     "cell_type": "raw",
     "metadata": {},
     "source": [
      "\uad50\uc7ac Accession ID: nc_00918\uc740 \uc624\ub958/ nc_000918\ub85c \uc218\uc815\n",
      "nc_000918.gb \ud30c\uc77c \ub0b4 sequence \ubd80\ubd84\uc778 ORIGIN \uc774\ud6c4, //\ub85c sequence \ub370\uc774\ud130\uac00 \uc81c\uc678 \ub418\uc5b4 \uc788\uc73c\ubbc0\ub85c\n",
      "nc_000918.gb\uc640 nc_000918.fasta\ub97c \ub0b4\ub824 \ubc1b\uc740 \ud6c4 fasta format\uc744 genebank format\uc73c\ub85c \ubcc0\ud658\ud558\uc5ec \ud30c\uc77c\uc5d0 \ucd94\uac00\ud574\uc57c \ud568.\n",
      "\ubcc0\ud658 \ubc29\ubc95\uc740 helperFASTA2GB.py \ud30c\uc77c \ub0b4 \ucf54\ub4dc \ucc38\uc870.\n",
      "\n",
      "\uba85\ub839 \uc2e4\ud589 \uc608)\n",
      "$python ./helperFASTA2GB.py -i ./data/nc_000918.fasta\n",
      "\n",
      "nc_000918_fasta2gbk.txt \ud30c\uc77c \ub0b4\uc6a9\uc744 nc_000918.gb \ud30c\uc77c \ub0b4 ORIGIN \uc774\ud6c4 \ubd99\uc5ec \ub123\uae30\n",
      "\n",
      "(\uc6d0\ubcf8)\n",
      "ORIGIN\n",
      "//\n",
      "\n",
      "(\uc218\uc815)\n",
      "ORIGIN\n",
      "     1 ATGCATGCCC CCAT....\n",
      "     2 ...\n",
      "  1000 ...\n",
      "//"
     ]
    },
    {
     "cell_type": "raw",
     "metadata": {},
     "source": [
      "#!/usr/bin/python\n",
      "# -*- coding:UTF-8 -*-\n",
      "\n",
      "from __future__ import print_function\n",
      "from __future__ import division\n",
      "import argparse, sys, os\n",
      "\n",
      "\n",
      "def insert_whitespaces(string, win_size):\n",
      "    hash_list = list(string)\n",
      "    hash_chunk_size = len(string) // win_size\n",
      "    for x in range(1, hash_chunk_size + 1):\n",
      "        hash_list.insert(x * 10 + x - 1, \" \")\n",
      "    return ''.join(hash_list)\n",
      "\n",
      "\n",
      "def transform(path):\n",
      "    # get tail(filename)\n",
      "    _, tail = os.path.split(path)\n",
      "\n",
      "    # set target file name from tail except extension name\n",
      "    target_filename = os.path.splitext(tail)[0] + \"_fasta2gbk.txt\"\n",
      "\n",
      "    #print(target_filename)\n",
      "\n",
      "    line_num = 1\n",
      "    seq = ''\n",
      "    win_size = 60\n",
      "\n",
      "    # GBK format\n",
      "    # lineNum    SEQ_10 * 6 w/ whitespace_delimiter\n",
      "\n",
      "    with open(path, \"r\") as fh:\n",
      "        lst_fasta = fh.readlines()\n",
      "        seq = \"\".join(map(lambda x: x.replace(\"\\n\", \"\"), lst_fasta)[1:])\n",
      "\n",
      "    #print (seq)\n",
      "\n",
      "    with open(target_filename, \"w\") as fh:\n",
      "        seq_size = len(seq)\n",
      "        #print (seq_size)\n",
      "        # imported __future__.division to set compatibility between py2 and py3\n",
      "        # so be careful about division symbol\n",
      "        chunk_size = seq_size // win_size\n",
      "        for i in range(chunk_size):\n",
      "            hash = insert_whitespaces(\n",
      "                    seq[i * win_size: i * win_size + win_size - 1],\n",
      "                    10\n",
      "                )\n",
      "            \n",
      "            #print (hash)\n",
      "\n",
      "            fh.write(\"{linenum: >{width}} {seq}{newline}\".format(\n",
      "                linenum=line_num,\n",
      "                width=len(str(chunk_size * win_size)),\n",
      "                seq=hash,\n",
      "                newline=\"\\n\"))\n",
      "            line_num += win_size\n",
      "\n",
      "        hash = insert_whitespaces(seq[chunk_size * win_size:], 10)\n",
      "        \n",
      "        #print (hash)\n",
      "\n",
      "        fh.write(\"{0} {1}\".format(line_num, hash))\n",
      "            \n",
      "    print(\"DONE\")\n",
      "\n",
      "\n",
      "def main():\n",
      "    parser = argparse.ArgumentParser()\n",
      "\n",
      "    parser.add_argument(\"-i\", action=\"store\", dest=\"inputfile\", help=\"input fasta file to transform GBK format. ex: -i NC_000918.fasta\")\n",
      "    parser.add_argument(\"-V\", \"--version\", action=\"version\",\n",
      "                        version=\"helperFASTA2GB.py version \" + __version__)\n",
      "\n",
      "    results = parser.parse_args()\n",
      "\n",
      "    if results.inputfile is None:\n",
      "        print(\"Missing input file.\")\n",
      "        sys.exit(-1)\n",
      "    else:\n",
      "        transform(results.inputfile)\n",
      "\n",
      "\n",
      "if __name__ == \"__main__\":\n",
      "    main()"
     ]
    },
    {
     "cell_type": "code",
     "collapsed": false,
     "input": [
      "#data = genbank.ReadGenbank('nc_00918.gb.txt')\n",
      "data = genbank.ReadGenbank('./data/nc_000918.gb')\n",
      "dna = genbank.ParseDNA( data )\n",
      "len( dna )"
     ],
     "language": "python",
     "metadata": {},
     "outputs": [
      {
       "metadata": {},
       "output_type": "pyout",
       "prompt_number": 35,
       "text": [
        "1525480"
       ]
      }
     ],
     "prompt_number": 35
    },
    {
     "cell_type": "code",
     "collapsed": false,
     "input": [
      "aps = AllPossStrings( 'cgat',7 )\n",
      "ctr = Counter( aps, dna.lower() )\n",
      "#ctr"
     ],
     "language": "python",
     "metadata": {},
     "outputs": [],
     "prompt_number": 36
    },
    {
     "cell_type": "raw",
     "metadata": {},
     "source": [
      "# \ubb50\uac00 \ubb38\uc81c\uc77c\uae4c?\n",
      "akando.a2i( ctr ).save('fig5.gif')"
     ]
    },
    {
     "cell_type": "raw",
     "metadata": {},
     "source": [
      "def a2i( data ):\n",
      "    mg = Image.new( 'L', transpose(data).shape)\n",
      "    mn = data.min()\n",
      "    a = data - mn\n",
      "    mx = a.max()\n",
      "    a = a*256./mx\n",
      "    #putdata\uc5d0\uc11c \uc624\ub958\n",
      "    mg.putdata( ravel(a))\n",
      "    return mg"
     ]
    },
    {
     "cell_type": "code",
     "collapsed": false,
     "input": [
      "from scipy.misc import imsave\n",
      "\n",
      "def a2i(data):\n",
      "    mn = data.min()\n",
      "    a = data - mn\n",
      "    mx = a.max()\n",
      "    a = a * 256. / mx\n",
      "    r = 1 - (a * 256. / mx)\n",
      "    return a, r"
     ],
     "language": "python",
     "metadata": {},
     "outputs": [],
     "prompt_number": 37
    },
    {
     "cell_type": "code",
     "collapsed": false,
     "input": [
      "img, r_img = a2i(ctr)\n",
      "\n",
      "imsave('fig23-5.png', img)\n",
      "imsave('fig23-5r.png', r_img)     # reversal; black to white vice versa."
     ],
     "language": "python",
     "metadata": {},
     "outputs": [],
     "prompt_number": 38
    },
    {
     "cell_type": "markdown",
     "metadata": {},
     "source": [
      "![The chaos representation from above Counter() function](./figures/figure23-5.jpg)\n",
      "FIGURE 23-5 The chaos representation from above Counter() function."
     ]
    },
    {
     "cell_type": "markdown",
     "metadata": {},
     "source": [
      "###23.4.2 A Simpler Method\n",
      "\n",
      "A simpler method is provided by Jeffrey (1990) and it has similar results.\n",
      "\n",
      "![The first few movements in an approach offered by Jeffrey (1990)](./figures/figure23-6.jpg)\n",
      "FIGURE 23-6 The first few movements in an approach offered by Jeffrey (1990).\n",
      "\n",
      "![An image created by the method discussed in Jeffrey (1990)](./figures/figure23-7.jpg)\n",
      "FIGURE 23-7 An image created by the method discussed in Jeffrey (1990)."
     ]
    },
    {
     "cell_type": "code",
     "collapsed": false,
     "input": [
      "# chaos.py\n",
      "def ChaosJeffrey( seq, D=256 ):\n",
      "    # D is the dimension of the picture space\n",
      "    N = len( seq )\n",
      "    A = zeros( (D,D) )\n",
      "    abet = 'acgt'\n",
      "    tg = array( [[0,0], [0,D], [D,0], [D,D]] )\n",
      "    me = array([D/2., D/2.])\n",
      "    for i in range( N ):\n",
      "        ndx = abet.find( seq[i] )\n",
      "        half = (me+tg[ndx])/2.\n",
      "        v,h = half.astype(int)\n",
      "        A[v,h ] += 1\n",
      "        me = half + 0\n",
      "    return A"
     ],
     "language": "python",
     "metadata": {},
     "outputs": [],
     "prompt_number": 39
    },
    {
     "cell_type": "code",
     "collapsed": false,
     "input": [
      "ctr = ChaosJeffrey(dna.lower())"
     ],
     "language": "python",
     "metadata": {},
     "outputs": [],
     "prompt_number": 40
    },
    {
     "cell_type": "raw",
     "metadata": {},
     "source": [
      "#akando.a2i( ctr ).save('fig6.gif')"
     ]
    },
    {
     "cell_type": "code",
     "collapsed": false,
     "input": [
      "img, r_img = a2i(ctr)\n",
      "\n",
      "imsave('fig23-6.png', img)\n",
      "imsave('fig23-6r.png', r_img) # reversal; black to white vice versa."
     ],
     "language": "python",
     "metadata": {},
     "outputs": [],
     "prompt_number": 41
    },
    {
     "cell_type": "markdown",
     "metadata": {},
     "source": [
      "###23.4.3 Comparing Chaos Images of Different Species\n",
      "\n",
      "* Three of the 1 Mb segments selected were extracted from genomes that came from maize (file 0), cress (file 1), rice (file 2), pine (file 3), and multiple strains of wheat (files 4, 5, 6).\n",
      "\n",
      "* The string is considered to be a 1 MB segment, and currently there is a limit of NP = 3 strings for each file.\n",
      "\n",
      "* This particular test generated 21 images."
     ]
    },
    {
     "cell_type": "raw",
     "metadata": {},
     "source": [
      "def Fasta(path):\n",
      "    seq = \"\"\n",
      "    with open(path, \"r\") as fh:\n",
      "        lst_fasta = fh.readlines()\n",
      "        seq = \"\".join(map(lambda x: x.replace(\"\\n\", \"\"), lst_fasta)[1:])\n",
      "    \n",
      "    return seq"
     ]
    },
    {
     "cell_type": "raw",
     "metadata": {},
     "source": [
      "# chaos.py\n",
      "def Run2( flist ):\n",
      "    aps = AllPossStrings( 'ACGT',7)\n",
      "    NF = len( flist ) # the number of files\n",
      "    for i in range( NF ):\n",
      "        print 'Working on ',flist[i]\n",
      "        # get the data\n",
      "        \n",
      "        #\n",
      "        # dna = fasta.Fasta( 'bacteria/' + flist[i] )\n",
      "        #\n",
      "\n",
      "        dna = Fasta('bacteria/' + flist[i])\n",
      "        \n",
      "        # count the number of genes\n",
      "        NG = len( dna )\n",
      "        # if there are multiple genes then combine\n",
      "        if NG >1:\n",
      "            t = []\n",
      "            for j in range( NG ):\n",
      "                t.append( dna[j][1] )\n",
      "            st = ''.join(t)\n",
      "            del t\n",
      "        else:\n",
      "            st = dna[0][1]\n",
      "        del dna\n",
      "        # for every million bases make a plot\n",
      "        NP = int(len( st )/1000000)\n",
      "        if NP > 3:\n",
      "            NP = 3\n",
      "        for j in range( NP ):\n",
      "            print '\\tPortion',j,'of',NP\n",
      "            ctr = Counter( aps, st[j*1000000:j*1000000+1000000] )\n",
      "            akando.a2i( ctr ).save('data/work/chaos'+str(i)+'c'+str(j)+'.gif' )\n",
      "\n",
      "\n",
      "flist = ['ASBs', 'athaliana_chr2.txt', 'chr01.seq', 'pine_EST_10132005', \n",
      "         'Triticum_aestivum_release_2.fasta', 'Triticum_monococcum_release_2.fasta', \n",
      "         'Triticum_turgidum_release_1.fasta']\n",
      "Run2( flist )"
     ]
    },
    {
     "cell_type": "markdown",
     "metadata": {},
     "source": [
      "###23.4.4 Organizing the Data\n",
      "\n",
      "Again following Deschavanne et al. (1999), the images are organized by principal component analysis (see again Section 19.3)."
     ]
    },
    {
     "cell_type": "markdown",
     "metadata": {},
     "source": [
      "![Three samples from different files. The columns represent: maize, cress, rice, pine, and two strains of wheat](./figures/figure23-8.jpg)\n",
      "FIGURE 23-8 Three samples from different files. The columns represent: maize, cress, rice, pine, and two strains of wheat."
     ]
    },
    {
     "cell_type": "code",
     "collapsed": false,
     "input": [
      "import os, numpy\n",
      "\n",
      "mglist = os.listdir( './data/chaos')\n",
      "\n",
      "if 'Thumbs.db' in mglist:\n",
      "    mglist.remove( 'Thumbs.db' )\n",
      "pics = eigimage.LoadImages( './data/chaos', mglist )\n",
      "avg, data = eigimage.SubAvg( pics )\n",
      "lcov = eigimage.Lcov( data )\n",
      "emg, evls = eigimage.Eimage( lcov, data )\n",
      "pca = [ emg[0], emg[1] ]\n",
      "cffs = eigimage.Coeffs( pca, data )\n",
      "\n",
      "# \ucc45\uacfc \ub2ec\ub9ac code \uc5d0\uc11c\ub294 x \ucd95 \uac12\uc774 \ub4a4\uc9d1\ud600 \uc788\uc5b4\uc11c x \ucd95 \uac12\ub9cc \uc120\ud615 \ubcc0\ud658\n",
      "lin_op = [[-1, 0], [0, 1]]\n",
      "cffs_lin_tf = numpy.dot(cffs, lin_op)\n",
      "\n",
      "akando.PlotMultiple( 'fig23-9.txt', cffs_lin_tf)"
     ],
     "language": "python",
     "metadata": {},
     "outputs": [],
     "prompt_number": 47
    },
    {
     "cell_type": "code",
     "collapsed": false,
     "input": [
      "# chaos.py\n",
      "#def PlotColors( mglist, cffs):\n",
      "def PlotColors( mglist, cffs, fnparam = \"\" ):\n",
      "    N = 7\n",
      "    pts = []\n",
      "    for i in range( 7 ):\n",
      "        pts.append( [] )\n",
      "    for i in range( len( cffs )):\n",
      "        d = int( mglist[i][5] )\n",
      "        pts[d].append( cffs[i] )\n",
      "    for i in range( 7 ):\n",
      "        #akando.PlotMultiple( 'd'+str(i)+'.txt' , array(pts[i]))\n",
      "        akando.PlotMultiple( 'd'+str(i)+fnparam+'.txt' , array(pts[i]))"
     ],
     "language": "python",
     "metadata": {},
     "outputs": [],
     "prompt_number": 48
    },
    {
     "cell_type": "code",
     "collapsed": false,
     "input": [
      "PlotColors(mglist, cffs_lin_tf)"
     ],
     "language": "python",
     "metadata": {},
     "outputs": [],
     "prompt_number": 49
    },
    {
     "cell_type": "raw",
     "metadata": {},
     "source": [
      "gnuplot> plot 'd0.txt', 'd1.txt', 'd2.txt', 'd3.txt', 'd4.txt', 'd5.txt', 'd6.txt'"
     ]
    },
    {
     "cell_type": "markdown",
     "metadata": {},
     "source": [
      "![The PCA plot of the 454 images](./figures/figure23-9.jpg)\n",
      "FIGURE 23-9 The PCA plot of the 454 images."
     ]
    },
    {
     "cell_type": "markdown",
     "metadata": {},
     "source": [
      "![Each marker represents chaos images from different genomes](./figures/figure23-10.jpg)\n",
      "FIGURE 23-10 Each marker represents chaos images from different genomes."
     ]
    },
    {
     "cell_type": "code",
     "collapsed": false,
     "input": [
      "evls[:10].astype(int)\n",
      "pca = [ emg[1], emg[2] ]\n",
      "cffs = eigimage.Coeffs( pca, data )\n",
      "\n",
      "# \ucc45\uacfc \ub2ec\ub9ac code \uc5d0\uc11c\ub294 x \ucd95 \uac12\uc774 \ub4a4\uc9d1\ud600 \uc788\uc5b4\uc11c x \ucd95 \uac12\ub9cc \uc120\ud615 \ubcc0\ud658\n",
      "lin_op = [[-1, 0], [0, 1]]\n",
      "cffs_lin_tf = numpy.dot(cffs, lin_op)\n",
      "\n",
      "#PlotColors( mglist, cffs_lin_tf )\n",
      "PlotColors( mglist, cffs_lin_tf, \"_2\" )"
     ],
     "language": "python",
     "metadata": {},
     "outputs": [],
     "prompt_number": 50
    },
    {
     "cell_type": "raw",
     "metadata": {},
     "source": [
      "gnuplot> plot 'd0_2.txt', 'd1_2.txt', 'd2_2.txt', 'd3_2.txt', 'd4_2.txt', 'd5_2.txt', 'd6_2.txt'"
     ]
    },
    {
     "cell_type": "markdown",
     "metadata": {},
     "source": [
      "![The same data points plotted according to the second and third eigenimages](./figures/figure23-11.jpg)\n",
      "FIGURE 23-11 The same data points plotted according to the second and third eigenimages."
     ]
    },
    {
     "cell_type": "markdown",
     "metadata": {},
     "source": [
      "In this case the d3 is well separated from the rest. The point to be made is that these two-dimensional images do not depict the entire story. In cases such as this, more than two dimensions are necessary to separate the data. Commonly, the PCA analysis is reduced to two dimensions purely for the convenience of display. In this experiment each 1 MB segment from the large genomes was converted to a chaos image. PCA was used to organize the images, which were demonstrated by two different views of three-dimensional PCA space."
     ]
    },
    {
     "cell_type": "markdown",
     "metadata": {},
     "source": [
      "##23.5 Summary\n",
      "> DNA information is commonly expressed as a string of characters, but it is also possible to represent DNA as a vector or matrix of numerical values. Several different encodings for doing this were considered in this chapter. Some were based on physical properties of the DNA, and others were simply conversions of the string to a numerical format. Numerical formats allow for the use of a new set of tools for the purposes of analysis and alignment. In this case the frequencies of the numerical values were used to find repetitive tendencies in coding regions and to align sequences."
     ]
    },
    {
     "cell_type": "markdown",
     "metadata": {},
     "source": [
      "##Bibliography\n",
      "-----------\n",
      "* Chang. (2006). Chang. Retrieved from http://www.hku.hk/facmed/images/document/04research/database/presentations/cq_chang.ppt.\n",
      "* Deschavanne, Patrick J. et al. (1999). Genomic Signature: Characterization and Classification of Species Assessed by Chaos Game Representation of Sequences. Molecular Biology and Evolution, 16 (10), 1391\u20131399.\n",
      "* Down, T. A., and T. J. P. Hubbard. (2002). Computational Detection and Location of Transcription Start Sites in Mammalian Genomic DNA. Genome Research, 12, 458\u2013461.\n",
      "* Jeffrey, H. J. (1990). Chaos game representation of gene structure. Nucleic Acids Research, 18 (8), 2163\u20132170.\n",
      "* Taylor, T., M. Rivera, G. Wilson, and I. I. Vaisman. (2005). New method for protein secondary structure assignment based on a simple topological descriptor. Proteins, 60 (3), 513\u2013524.\n",
      "* Tempel, S., et al. (2006). Domain organization within repeated DNA sequences: Application to the study of a family of transposable elements. Bioinformatics, 22 (16), 1948\u20131954.\n",
      "* Wang, Z., and W. R. Atchley. (2006). Spectral Analysis of Sequence Variability in Basic-Helix-Loop-Helix (bHLH) Protein Domains. Evolutionary Bioinformatics, 2, 199\u2013208.\n",
      "* Yu, Z-G., and G-Y. Chen. (2000). Rescaled range and transition matrix analysis of DNA sequences. Communications in Theoretical Physics, 33, 673."
     ]
    }
   ],
   "metadata": {}
  }
 ]
}