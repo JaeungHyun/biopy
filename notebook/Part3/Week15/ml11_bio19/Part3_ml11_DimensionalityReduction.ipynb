{
 "metadata": {
  "name": "",
  "signature": "sha256:b7256df4a418b1cb168d7c6e162deb1bceea7295bb2f9abf533b71a5b162e365"
 },
 "nbformat": 3,
 "nbformat_minor": 0,
 "worksheets": [
  {
   "cells": [
    {
     "cell_type": "heading",
     "level": 1,
     "metadata": {},
     "source": [
      "11 \ucc28\uc6d0\uc218 \uc904\uc774\uae30"
     ]
    },
    {
     "cell_type": "markdown",
     "metadata": {},
     "source": [
      "> ##Contents\n",
      "##\uc18c\uac1c\n",
      "###\uc18d\uc131\uc120\ud0dd\n",
      "####1. \ud544\ud130\ub97c \uc0ac\uc6a9\ud574 \uc911\ubcf5\ub41c \uc18d\uc131 \ud0d0\uc9c0\ud558\uae30\n",
      "#####- \uc0c1\uad00 \uad00\uacc4\n",
      "#####- \uc0c1\ud638 \uc815\ubcf4\n",
      "####2. \ub798\ud37c\ub97c \uc0ac\uc6a9\ud574 \uc18d\uc131\uc5d0 \ub300\ud55c \ubaa8\ub378 \ubb3b\uae30\n",
      "####3. \uadf8 \ubc16\uc758 \uc18d\uc131 \uc120\ud0dd \uae30\ubc95\n",
      "###\uc18d\uc131\ucd94\ucd9c\n",
      "####1. \uc8fc\uc694 \uad6c\uc131\uc694\uc18c \ubd84\uc11d(PCA)\n",
      "#####- \uac1c\ub150\n",
      "#####- \uc801\uc6a9\n",
      "#####- PCA\uc758 \ud55c\uacc4\uc640 LDA\uc758 \ub3c4\uc6c0\n",
      "####2. \ub2e4\ucc28\uc6d0 \ucd95\uc801(MDS)\n",
      "##\uc815\ub9ac"
     ]
    },
    {
     "cell_type": "markdown",
     "metadata": {},
     "source": [
      "Garbage in, garbage out!\n",
      "\n",
      "\ud765\ubbf8\ub85c\uc6b4 \uae30\uacc4 \ud559\uc2b5 \ub3c4\uc804\uc740 \ud56d\uc0c1 \uc18d\uc131 \uc5d4\uc9c0\ub2c8\uc5b4\ub9c1(feature engineering)\uacfc \uc5f0\uad00\ub418\uc5c8\uc74c.\n",
      "\n",
      "\uc774 \uc7a5\uc5d0\uc11c\ub294 \uae30\uacc4 \ud559\uc2b5\uc758 \ud5a5\uc0c1\uc744 \uc704\ud574 \ucd94\uac00\uc801\uc778 \uc18d\uc131\uc744 \uacf5\ub4e4\uc5ec \ub9cc\ub4dc\ub294 \ubb38\uc81c\uc5d0 \ub300\ud574 \ud1b5\ucc30\ud558\uace0\uc790 \ud568 (\ucc28\uc6d0 \ucd95\uc18c\uc758 \ubc18\ub300 \ubc29\ud5a5\uc73c\ub85c\ubd80\ud130 \uc2dc\uc791)\n",
      "\n",
      "####\ucc28\uc6d0\uc744 \uac00\ub2a5\ud55c \ub9ce\uc774 \uc904\uc77c \uc218\ub85d \uc88b\uc740 \uc774\uc720\n",
      "- \ubd88\ud544\uc694\ud55c \uc18d\uc131\uc740 \ud559\uc2b5\uae30\ub97c \uc624\ub3c4\ud558\uac70\ub098 \ubb34\ud6a8\ud558\uac8c \ud560 \uc218 \uc788\ub2e4. \ubaa8\ub4e0 \uae30\uacc4 \ud559\uc2b5 \uae30\ubc95\uc5d0 \ud574\ub2f9\ub418\ub294 \uc774\uc57c\uae34 \uc544\ub2c8\uc9c0\ub9cc(\uc608:\uc11c\ud3ec\ud2b8 \ubca1\ud130 \uba38\uc2e0) \ub300\ubd80\ubd84 \ubaa8\ub378\uc740 \ub0ae\uc740 \ucc28\uc6d0\uc5d0\uc11c \uc720\ub9ac\ud558\ub2e4.\n",
      "- \ucc28\uc6d0\uc774 \ub192\uc544\uc9c0\uba74 \uc870\uc728\ud558\ub294 \ub370 \ub354 \ub9ce\uc740 \ub9e4\uac1c\ubcc0\uc218\uac00 \ud544\uc694\ud558\uba70 \uacfc\uc801\ud569\ud654 \uc704\ud5d8\uc774 \uc788\ub2e4\ub294 \uac83\uc774\ub2e4.\n",
      "- \ubb38\uc81c\ub97c \ud574\uacb0\ud558\uae30 \uc704\ud574 \ucc3e\ub294 \ub370\uc774\ud130\ub294 \uc778\uacf5\uc801\uc778 \uace0\ucc28\uc6d0\uc744 \uac00\uc9c8 \uc218 \uc788\ub294 \ubc18\uba74, \uc2e4\uc81c \ucc28\uc6d0\uc740 \uc791\uc744 \uc218 \uc788\ub2e4.\n",
      "- \ucc28\uc6d0\uc774 \ub0ae\uc544\uc9c0\uba74 \ud6c8\ub828\uc774 \ube68\ub77c\uc9c0\uace0 \uc2dc\ub3c4\ud560 \uc218 \uc788\ub294 \ub2e4\uc591\uc131\uc774 \ub9ce\uc544\uc9c0\uba70 \ub354 \ub098\uc740 \uacb0\uacfc\ub97c \uac00\uc838\uc628\ub2e4. \ub370\uc774\ud130\ub97c \uc2dc\uac01\ud654\ud560 \ub54c, 2 \ub610\ub294 3\ucc28\uc6d0\uc73c\ub85c \uc81c\ud55c\ub41c\ub2e4. \uc774\ub97c \uc2dc\uac01\ud654\ub77c \ud55c\ub2e4."
     ]
    },
    {
     "cell_type": "heading",
     "level": 2,
     "metadata": {},
     "source": [
      "\uc18c\uac1c"
     ]
    },
    {
     "cell_type": "markdown",
     "metadata": {},
     "source": [
      "\ucc28\uc6d0 \uc904\uc774\uae30\ub294 \ud06c\uac8c \uc18d\uc131 \uc120\ud0dd(feature selection)\uacfc \uc18d\uc131 \ucd94\ucd9c(feature extraction)\ub85c \ub098\ub20c \uc218 \uc788\uc74c.\n",
      "\ub370\uc774\ud130\ub97c \ub9cc\ub4e4\uac70\ub098, \ubd84\uc11d\ud558\uac70\ub098, \uc81c\uac70\ud560 \ub54c \uac70\uc758 \ub9e4 \uc7a5\uc5d0\uc11c \uc774\ubbf8 \uc801\uc6a9\ud588\uc74c.\n",
      "\n",
      "\uc774\ubc88 \uc7a5\uc5d0\uc11c\ub3c4 \ud1b5\uacc4\uc801 \uae30\ubc95\uc778 \uc0c1\uad00 \uad00\uacc4(correlation)\uc640 \uac70\ub300\ud55c \uc18d\uc131 \uacf5\uac04\uc5d0\uc11c \uc18d\uc131\uc744 \uc120\ud0dd\ud560 \uc218 \uc788\ub294 \uc0c1\ud638 \uc815\ubcf4(mutual information) \uac19\uc740 \ubc29\ubc95\ub4e4\uc744 \ub2e4\ub8f8.\n",
      "\n",
      "\uc18d\uc131 \ucd94\ucd9c\uc740 \ubcf8\ub798\uc758 \uc18d\uc131 \uacf5\uac04\uc5d0\uc11c \ub0ae\uc740 \ucc28\uc6d0\uc758 \uc18d\uc131 \uacf5\uac04\uc73c\ub85c \ubcc0\ud658\ud55c\ub2e4. \uc774 \uae30\ubc95\uc740 \uc120\ud0dd \uae30\ubc95\uc744 \uc0ac\uc6a9\ud574 \uc18d\uc131\uc744 \uc81c\uac70\ud560 \uc218 \uc5c6\uc744 \ub54c \ud2b9\ud788 \uc720\uc6a9\ud558\ub2e4.\n",
      "\n",
      "\uadf8\ub7ec\ub098 \ud559\uc2b5\uae30 \uc785\uc7a5\uc5d0\uc11c\ub294 \uc544\uc9c1 \ub9ce\uc740 \uc18d\uc131\uc774 \uc788\ub294\ub370, \uc8fc\uc694 \uad6c\uc131\uc694\uc18c \ubd84\uc11d(PCA,principle component analysis)\uacfc \uc120\ud615 \ud310\ubcc4 \ubd84\uc11d(LDA, linear discriminant analysis), \ub2e4\ucc28\uc6d0 \ucd95\uc801(MDS, multidimensional scaling)\uc744 \uc0ac\uc6a9\ud574 \uc124\uba85 \ud55c\ub2e4."
     ]
    },
    {
     "cell_type": "heading",
     "level": 2,
     "metadata": {},
     "source": [
      "\uc18d\uc131\uc120\ud0dd"
     ]
    },
    {
     "cell_type": "markdown",
     "metadata": {},
     "source": [
      "\uc88b\uc740 \uae30\uacc4 \ud559\uc2b5 \uc54c\uace0\ub9ac\uc998\uc740 \uc11c\ub85c \uc758\uc874\uc801\uc774\uc9c0 \uc54a\uace0 \uc608\uce21\ub420 \uac12\uc5d0 \uc601\ud5a5\ub825\uc774 \uc788\ub294 \uc18d\uc131\uc744 \uc54c\uace0\ub9ac\uc998\uc5d0 \uc81c\uacf5\ud574\uc57c \ud55c\ub2e4. \uc774\ub294 \uac01 \uc18d\uc131\uc5d0 \uc77c\ubd80 \ud575\uc2ec\uc801\uc778 \uc815\ubcf4\ub97c \ucd94\uac00\ud558\ub77c\ub294 \ub73b\uc774\ub2e4. \uc5b4\ub5a4 \uc18d\uc131\uc744 \uc81c\uac70\ud558\uba74 \uc131\ub2a5\uc774 \ub5a8\uc5b4\uc9c4\ub2e4.\n",
      "\n",
      "\uc18d\uc131\uc774 \uba87 \uc548 \ub41c\ub2e4\uba74 \uc0b0\uc810\ub3c4(Scatter plot) \ub9e4\ud2b8\ub9ad\uc2a4\ub97c \uadf8\ub9b4 \uc218 \uc788\ub2e4(\ud558\ub098\uc758 \uc0b0\uc810\uc740 \ubaa8\ub4e0 \uc18d\uc131 \uc9dd(feature-pair) \uc870\ud569\uc744 \uadf8\ub9b0\ub2e4). \uc18d\uc131 \uac04\uc758 \uad00\uacc4\ub294 \uc27d\uac8c \uc810\uc73c\ub85c \ub098\ud0c0\ub0bc \uc218 \uc788\ub2e4. \uba85\ud655\ud788 \uc758\uc874\uc131\uc744 \ubcf4\uc5ec\uc8fc\ub294 \ubaa8\ub4e0 \uc18d\uc131 \uc9dd\uc5d0 \ub300\ud574, \uc77c\ubd80\ub97c \uc81c\uac70\ud560\uc9c0 \ub458\ub85c\ubd80\ud130 \ub354 \uc0c8\ub86d\uace0 \uba85\ud655\ud55c \ud558\ub098\uc758 \uc18d\uc131\uc774 \ub418\uac8c \ub514\uc790\uc778\ud560\uc9c0\ub97c \uace0\ub824\ud55c\ub2e4.\n",
      "\n",
      "\uadf8\ub7ec\ub098 \ub300\ubd80\ubd84\uc758 \uacbd\uc6b0, \uc18d\uc131\uc5d0\uc11c \uc120\ud0dd\ud560 \uc77c\ubd80 \uc18d\uc131\ubcf4\ub2e4 \uaf64 \ub9ce\uc740 \uc18d\uc131\uc744 \uac16\ub294\ub2e4. \ubd84\ub958 \uc791\uc5c5\uc744 \uc0dd\uac01\ud574\ubcf4\uba74, 1000 x 1000 \uc0b0\uc810\ub3c4\uc778 \ub2f5\ubcc0\uc758 \uc9c8\uc744 \ubd84\ub958\ud558\uae30 \uc704\ud574 \ub2e8\uc5b4 \uc8fc\uba38\ub2c8\ub97c \uc0ac\uc6a9\ud588\ub2e4. \uc774 \uacbd\uc6b0, \uacb9\uce58\ub294 \uc18d\uc131\uc744 \ucc3e\uc544\ub0b4\ub294 \uc880 \ub354 \uc790\ub3d9\ud654\ub41c \ubc29\ubc95\uacfc \uacb9\uce58\ub294 \uc18d\uc131\uc744 \ud574\uacb0\ud560 \ubc29\ubc95\uc774 \ud544\uc694\ud558\ub2e4.\n",
      "\n",
      "\uc774\ub97c \uc704\ud55c \uc77c\ubc18\uc801\uc778 \uae30\ubc95\uc778 \ud544\ud130\ub9c1(filing)\uacfc \uac10\uc2f8\uae30(wrapper)\ub97c \ubcf4\uc790."
     ]
    },
    {
     "cell_type": "heading",
     "level": 3,
     "metadata": {},
     "source": [
      "\ud544\ud130\ub97c \uc0ac\uc6a9\ud574 \uc911\ubcf5\ub41c \uc18d\uc131 \ud0d0\uc9c0\ud558\uae30"
     ]
    },
    {
     "cell_type": "markdown",
     "metadata": {},
     "source": [
      "\ud544\ud130\ub294 \ub098\uc911\uc5d0 \uc0ac\uc6a9\ud560 \uc5b4\ub5a4 \uae30\uacc4 \ud559\uc2b5 \uae30\ubc95\uc5d0 \ub3c5\ub9bd\uc801\uc778 \uaf64 \ub9ce\uc740 \uc18d\uc131\uc744 \uc815\ub9ac \ud55c\ub2e4. \ud544\ud130\ub294 \uc0c1\uad00\uc5c6\uac70\ub098 \uc911\ubcf5\ub41c \uc18d\uc131\uc744 \ucc3e\uae30 \uc704\ud574 \ud1b5\uacc4\uc801 \ubc29\ubc95\uc5d0 \uc758\uc874\ud55c\ub2e4(\uc774 \uacbd\uc6b0, \uc911\ubcf5 \uc18d\uc131 \uadf8\ub8f9\ub9c8\ub2e4 \ub2e8\uc9c0 \ud558\ub098\uc758 \uc18d\uc131\uc744 \uc720\uc9c0\ud560 \ud544\uc694\uac00 \uc788\ub2e4).\n",
      "\n",
      "\uc77c\ubc18\uc801\uc73c\ub85c \ud544\ud130\ub294 \ub2e4\uc74c \ub2e4\uc774\uc5b4\uadf8\ub7a8\uc5d0\uc11c \ubcf4\uc5ec\uc8fc\ub294 \uc791\uc5c5 \ud750\ub984\uc5d0 \ub530\ub77c \uc791\ub3d9\ud55c\ub2e4.\n",
      "<img src=\"ml11_img/fig11-1.png\" />"
     ]
    },
    {
     "cell_type": "heading",
     "level": 4,
     "metadata": {},
     "source": [
      "\uc0c1\uad00 \uad00\uacc4"
     ]
    },
    {
     "cell_type": "markdown",
     "metadata": {},
     "source": [
      "\uc0c1\uad00 \uad00\uacc4\ub97c \uc0ac\uc6a9\ud574\uc11c \uc18d\uc131 \uc9dd \uac04\uc758 \uc120\ud615 \uad00\uacc4\ub97c \uc27d\uac8c \ubcfc \uc218 \uc788\ub2e4. \uc774\ub7ec\ud55c \uc18d\uc131\uc740 \uc9c1\uc120\uc744 \uc0ac\uc6a9\ud574 \ubaa8\ub378\ud654\ud560 \uc218 \uc788\ub294 \uad00\uacc4\ub2e4. \ub2e4\uc74c \uadf8\ub798\ud504\uc5d0\uc11c \ubd89\uc740 \uc810\uc120(\uc801\ud569\ud654\ub41c 1\ucc28\uc6d0 \ub2e4\ud56d\uc2dd)\uc73c\ub85c \ud45c\uc2dc\ub41c \uc7a0\uc7ac\uc801\uc778 \uc120\ud615 \uc758\uc874\uc131\uacfc \ud568\uaed8 \ub2e4\ub978 \uc0c1\uad00 \uad00\uacc4\ub3c4(degree of correlation)\ub97c \ubcfc \uc218 \uc788\ub2e4.\n",
      "\n",
      "\uac01 \uadf8\ub798\ud504 \uc0c1\ub2e8\uc5d0 \uc788\ub294 \uc0c1\uad00 \uacc4\uc218(correlation coefficient) Cor(X<sub>l</sub>,X<sub>2</sub>)\ub294 scipy.stat\uc5d0 \uc788\ub294 pearsonr() \ud568\uc218\ub85c \uacf5\ud1b5 \ud53c\uc5b4\uc2a8 \uc0c1\uad00 \uacc4\uc218\ub97c \uc0ac\uc6a9\ud574 \uacc4\uc0b0\ud588\ub2e4. p \uac12\uc774 \ub192\uc744\uc218\ub85d \uc0c1\uad00 \uacc4\uc218\ub294 \uc2e0\ub8b0\uc131\uc774 \ub35c\ud558\ub2e4."
     ]
    },
    {
     "cell_type": "code",
     "collapsed": false,
     "input": [
      "#from import scipy.stats import pearsonr\n",
      "import scipy\n",
      "from scipy.stats import pearsonr"
     ],
     "language": "python",
     "metadata": {},
     "outputs": [],
     "prompt_number": 2
    },
    {
     "cell_type": "code",
     "collapsed": false,
     "input": [
      "pearsonr([1,2,3], [1,2,3.1])"
     ],
     "language": "python",
     "metadata": {},
     "outputs": [
      {
       "metadata": {},
       "output_type": "pyout",
       "prompt_number": 3,
       "text": [
        "(0.99962228516121843, 0.017498096813278487)"
       ]
      }
     ],
     "prompt_number": 3
    },
    {
     "cell_type": "code",
     "collapsed": false,
     "input": [
      "help(pearsonr)"
     ],
     "language": "python",
     "metadata": {},
     "outputs": [
      {
       "output_type": "stream",
       "stream": "stdout",
       "text": [
        "Help on function pearsonr in module scipy.stats.stats:\n",
        "\n",
        "pearsonr(x, y)\n",
        "    Calculates a Pearson correlation coefficient and the p-value for testing\n",
        "    non-correlation.\n",
        "    \n",
        "    The Pearson correlation coefficient measures the linear relationship\n",
        "    between two datasets. Strictly speaking, Pearson's correlation requires\n",
        "    that each dataset be normally distributed. Like other correlation\n",
        "    coefficients, this one varies between -1 and +1 with 0 implying no\n",
        "    correlation. Correlations of -1 or +1 imply an exact linear\n",
        "    relationship. Positive correlations imply that as x increases, so does\n",
        "    y. Negative correlations imply that as x increases, y decreases.\n",
        "    \n",
        "    The p-value roughly indicates the probability of an uncorrelated system\n",
        "    producing datasets that have a Pearson correlation at least as extreme\n",
        "    as the one computed from these datasets. The p-values are not entirely\n",
        "    reliable but are probably reasonable for datasets larger than 500 or so.\n",
        "    \n",
        "    Parameters\n",
        "    ----------\n",
        "    x : (N,) array_like\n",
        "        Input\n",
        "    y : (N,) array_like\n",
        "        Input\n",
        "    \n",
        "    Returns\n",
        "    -------\n",
        "    (Pearson's correlation coefficient,\n",
        "     2-tailed p-value)\n",
        "    \n",
        "    References\n",
        "    ----------\n",
        "    http://www.statsoft.com/textbook/glosp.html#Pearson%20Correlation\n",
        "\n"
       ]
      }
     ],
     "prompt_number": 4
    },
    {
     "cell_type": "code",
     "collapsed": false,
     "input": [
      "pearsonr([1,2,3], [1,20,6])"
     ],
     "language": "python",
     "metadata": {},
     "outputs": [
      {
       "metadata": {},
       "output_type": "pyout",
       "prompt_number": 3,
       "text": [
        "(0.25383654128340477, 0.83661493668227427)"
       ]
      }
     ],
     "prompt_number": 3
    },
    {
     "cell_type": "markdown",
     "metadata": {},
     "source": [
      "\uc0c1\uad00\uacc4\uc218\uc640 p\uac12\uc744 \ubaa8\ub450 \uace0\ub824\ud574\uc57c \ud568"
     ]
    },
    {
     "cell_type": "markdown",
     "metadata": {},
     "source": [
      "<img src=\"ml11_img/fig11-2.png\" />\n",
      "\n",
      "\ucc98\uc74c 3\uac1c\uc758 \uacbd\uc6b0 \uc0c1\uad00 \uacc4\uc218\uac00 \ub192\uace0, \ub611\uac19\uc740 \uc815\ubcf4\uac00 \uc544\ub2c8\ub77c\uba74 \uc11c\ub85c \uc720\uc0ac\ud574 \ubcf4\uc774\uae30 \ub54c\ubb38\uc5d0 X<sub>1</sub>\uc774\ub098 X<sub>2</sub>\ub97c \uc81c\uc678\ud558\uace0\uc790 \ud55c\ub2e4.\n",
      "\uadf8\ub7ec\ub098 \ub9c8\uc9c0\ub9c9 \uacbd\uc6b0\uc5d0\ub294 \ub450 \uc18d\uc131\uc744 \uc720\uc9c0\ud574\uc57c \ud55c\ub2e4. \ubb3c\ub860 \uc774 \uacb0\uc815\uc740 p \uac12\uc744 \ucc38\uc870\ud574\uc11c \ubc1b\uc544\ub4e4\uc778\ub2e4."
     ]
    },
    {
     "cell_type": "markdown",
     "metadata": {},
     "source": [
      "\uc0c1\uad00\ub3c4 \uae30\ubc18 \uc18d\uc131 \uc120\ud0dd\uc758 \ubb38\uc81c\ub294 \uc120\ud615 \uad00\uacc4(\uc9c1\uc120\uc73c\ub85c \ubaa8\ub378\ud654\ub418\ub294 \uad00\uacc4)\uc5d0\uc11c\ub9cc \uc801\uc6a9 \uac00\ub2a5\ud558\uace0 \ube44\uc120\ud615 \ub370\uc774\ud130\uc758 \uc0c1\uad00\ub3c4\ub97c \uc0ac\uc6a9\ud558\uba74 \ubb38\uc81c\uac00 \ub41c\ub2e4. \ub2e4\uc74c \uc608\uc81c\ub294 2\ucc28\uc758 \uad00\uacc4\ub97c \uac16\ub294\ub2e4.\n",
      "<img src=\"ml11_img/fig11-3.png\" />\n",
      "\ub9c8\uc9c0\ub9c9 \uadf8\ub798\ud504\ub97c \uc81c\uc678\ud55c \ubaa8\ub450\ub294 \uc0ac\ub78c\uc758 \ub208\uc73c\ub85c \ubd10\ub3c4 X<sub>1</sub>\uacfc X<sub>2</sub> \uc0ac\uc774\uc758 \uad00\uacc4\ub97c \ubc14\ub85c \ubcfc \uc218 \uc788\ub2e4. \ud558\uc9c0\ub9cc \uc0c1\uad00 \uacc4\uc218\ub294 \uadf8\ub807\uc9c0 \uc54a\ub2e4. \ube44\uc120\ud615 \uad00\uacc4\uc758 \uacbd\uc6b0 \uc0c1\ud638 \uc815\ubcf4\ub97c \uc0ac\uc6a9\ud560 \uc218 \uc788\ub2e4."
     ]
    },
    {
     "cell_type": "heading",
     "level": 4,
     "metadata": {},
     "source": [
      "\uc0c1\ud638 \uc815\ubcf4"
     ]
    },
    {
     "cell_type": "markdown",
     "metadata": {},
     "source": [
      "\uc18d\uc131 \uc120\ud0dd\uc744 \uc0b4\ud3b4\ubcfc \ub54c, \uc774\uc804 \uc808(\uc120\ud615 \uad00\uacc4)\uc5d0\uc11c \uc18c\uac1c\ud588\ub4ef\uc774 \uad00\uacc4\uc758 \uc885\ub958\uc5d0 \uc911\uc810\uc744 \ub458 \ud544\uc694\ub294 \uc5c6\ub2e4. \ub300\uc2e0 \uac16\uace0 \uc788\ub294 \ub2e4\ub978 \uc18d\uc131\uc744 \uace0\ub824\ud574\ubcfc \ub54c, \ud55c \uc18d\uc131\uc774 \uc5bc\ub9c8\ub098 \ub9ce\uc740 \uc815\ubcf4\ub97c \uc81c\uacf5\ud558\ub294\uc9c0\uc5d0 \ub300\ud55c \uad00\uc810\uc5d0\uc11c \uc0dd\uac01\ud574\uc57c \ud55c\ub2e4.\n",
      "\n",
      "\uc9d1\uc5d0 \uc5d8\ub9ac\ubca0\uc774\ud130\uac00 \uc788\ub294\uc9c0 \uc5c6\ub294\uc9c0\uc5d0 \ub300\ud55c \uacb0\uacfc\ub97c house size, number of levels, avg_rent_price \uc18d\uc131 \uc9d1\ud569\uc5d0\uc11c \uc18d\uc131\uc744 \uc0ac\uc6a9\ud574 \ubd84\ub958\uae30\ub97c \ud6c8\ub828\ud55c\ub2e4\uace0 \uac00\uc815\ud574\ubcf4\uc790. \uc9c1\uad00\uc801\uc73c\ub85c \ubcfc \ub54c, \uc774 \uc608\uc81c\uc5d0\uc11c house size\ub97c \uc548\ub2e4\uba74 number of levels\ub294 \ub354 \uc774\uc0c1 \ud544\uc694 \uc5c6\ub2e4. \ub450 \uc18d\uc131\uc740 \uc911\ubcf5\uc801\uc778 \uc815\ubcf4\ub97c \ud3ec\ud568\ud558\uae30 \ub54c\ubb38\uc774\ub2e4 avg_rent_price\uc758 \uacbd\uc6b0, \uce35 \uc218\uc640 \uc9d1\uc758 \ud06c\uae30\ub85c\ubd80\ud130 \ub2e8\uc21c\ud788 \uc784\ub300 \uacf5\uac04\uc758 \uac00\uaca9\uc744 \ucd94\ub860\ud560 \uc218 \uc5c6\uae30\uc5d0 \uc774\ub294 \uc880 \ub2e4\ub974\ub2e4. \uadf8\ub7ec\ubbc0\ub85c \ud3c9\uade0 \uc784\ub300 \uacf5\uac04 \uac00\uaca9\uacfc \ub354\ubd88\uc5b4 \uc18d\uc131\uc744 \ud558\ub098 \uc720\uc9c0\ud558\ub294 \ud3b8\uc774 \ud604\uba85\ud558\ub2e4."
     ]
    },
    {
     "cell_type": "markdown",
     "metadata": {},
     "source": [
      "\uc0c1\ud638 \uc815\ubcf4\ub294 \ub450 \uc815\ubcf4\uac00 \uc5bc\ub9c8\ub9cc\ub984 \uacf5\ud1b5\uc131\uc744 \uac16\ub294\uc9c0 \uacc4\uc0b0\ud574 \uc774\uc804 \ucd94\ub860\uc744 \ud615\uc2dd\ud654 \ud55c\ub2e4. \uadf8\ub7ec\ub098 \uc0c1\uad00 \uad00\uacc4\uc640 \ub2ec\ub9ac, \ub370\uc774\ud130\uc758 <b><i>\uc21c\uc11c</b></i>\uac00 \uc544\ub2c8\ub77c <b><i>\ubd84\ud3ec</b></i>\uc5d0 \uc758\uc874\ud55c\ub2e4. \uc5b4\ub5bb\uac8c \uc791\ub3d9\ud558\ub294\uc9c0 \uc774\ud574\ud558\uae30 \uc704\ud574\uc11c\ub294 <b>\"\uc815\ubcf4 \uc5d4\ud2b8\ub85c\ud53c(information entropy)\"</b>\ub97c \uc54c\uc544\uc57c \ud55c\ub2e4.\n",
      "\uc815\uc0c1\uc801\uc778 \ub3d9\uc804\uc774 \uc788\ub2e4\uace0 \uc0dd\uac01\ud574\ubcf4\uc790. \ub3d9\uc804\uc744 \ub358\uc9c0\uae30 \uc804\uc5d0, \uc55e\uba74 \ub610\ub294 \ub4b7\uba74\uc774 \ub098\uc62c \ucd5c\ub300 \ubd88\ud655\uc2e4\uc131\uc740 50%\uc529 \uac19\uc740 \ud655\ub960\uc744 \uac16\ub294\ub2e4. \uc774 \ubd88\ud655\uc2e4\uc131\uc740 <b>\ud074\ub85c\ub4dc \uc0c8\ub10c(Claude Shannon)</b>\uc758 \uc815\ubcf4 \uc5d4\ud2b8\ub85c\ud53c\ub85c \uce21\uc815\ud560 \uc218 \uc788\ub2e4.\n",
      "$$ H(X) = -\\sum^{n}_{i=1}log_{2}P(X_{i}) $$\n",
      "\uc815\uc0c1 \ub3d9\uc804 \uc2dc\ub098\ub9ac\uc624\uc5d0\uc11c X<sub>0</sub>\uc744 \uc55e\uba74, X<sub>1</sub>\uc744 \ub4b7\uba74\uc73c\ub85c \ud558\uba74 P(X<sub>0</sub>) = p(X<sub>1</sub>)\n",
      "\ub450 \uacbd\uc6b0\uac00 \uc788\ub2e4. \uadf8\ub7ec\ubbc0\ub85c \ub2e4\uc74c\uc744 \uc5bb\ub294\ub2e4.\n",
      "$$ H(X) = -P(X_{0})log_{2}P(\u03c7) - P(X_{1})log_{2}P(X_{1}) $$\n",
      "$$ = -0.5 . log_{2}(0.5) - 0.5 . log_{2}(0.5) = 1.0 $$\n",
      "\n",
      "\uc2e4\uc81c\ub85c \uc870\uc791\ub41c \ub3d9\uc804\uc744 \ub358\uc9c4 \ud6c4 \uc55e\uba74\uc774 60%\ub85c \ub354 \ub9ce\uc774 \ub098\uc628\ub2e4\ub294 \uc0ac\uc2e4\uc744 \uc54c\uc558\ub2e4\uace0 \ud574\ubcf4\uc790.\n",
      "$$ H(X) = -0.6log_{2}(0.6) - 0.4 log_{2}(0.4) = 0.97 $$\n",
      "\uc774 \uc0c1\ud669\uc740 \ub35c \ubd88\ud655\uc2e4\ud558\ub2e4\uace0 \ubcfc \uc218 \uc788\ub2e4. \ubd88\ud655\uc2e4\uc131\uc740 \uba40\uc5b4\uc9c0\uba74 \ub354 \uc904\uc5b4\ub4e0\ub2e4. \ub2e4\uc74c \uadf8\ub798\ud504\uc5d0\uc11c \ubcfc \uc218 \uc788\ub4ef\uc774 \ub3d9\uc804\uc758 \uc55e\uba74\uc774 \ub098\uc62c 0%\ub098 100%\uc5d0 \ub300\ud574 0.5\ubd80\ud130 \uadf9\ub2e8\uc801 \uc778 0 \uac12\uae4c\uc9c0 \uc5bb\ub294\ub2e4.\n",
      "\n",
      "<img src=\"ml11_img/fig11-4.png\" />"
     ]
    },
    {
     "cell_type": "markdown",
     "metadata": {},
     "source": [
      "\ud558\ub098\uc758 \uc18d\uc131 \ub300\uc2e0\uc5d0 2\uac1c\uc758 \uc18d\uc131\uc744 \uc801\uc6a9\ud574\uc11c \uc5d4\ud2b8\ub85c\ud53c H(X)\ub97c \ubcc0\ud658\ud558\uaca0\ub2e4. \uc774\ub294 Y\uc5d0 \ub300\ud574 \ud559\uc2b5\ud560 \ub54c, X\ub85c\ubd80\ud130 \uc5bc\ub9c8\ub098 \ubd88\ud655\uc2e4\uc131\uc774 \uc81c\uac70\ub418\ub294\uc9c0\ub97c \uce21\uc815\ud55c\ub2e4. \uadf8\ub7ec\uba74 \ud55c \uc18d\uc131\uc774 \ub2e4\ub978 \uc18d\uc131\uc758 \ubd88\ud655\uc2e4\uc131\uc744 \uc5b4\ub5bb\uac8c \uc904\uc5ec\uc8fc\ub294\uc9c0 \uc54c \uc218 \uc788\ub2e4.\n",
      "\uc608\ub97c \ub4e4\uc5b4, \ub0a0\uc528\uc5d0 \ub300\ud55c \ub354 \uc774\uc0c1\uc758 \uc815\ubcf4\uac00 \uc5c6\uc744 \ub54c, \ubc16\uc5d0 \ube44\uac00 \uc624\ub294\uc9c0 \uc548 \uc624\ub294 \uc9c0\ub294 \uc644\ubcbd\ud558\uac8c \ubd88\ud655\uc2e4\ud558\ub2e4. \uc794\ub514\uac00 \uc816\uc5c8\ub2e4\ub294 \uc0ac\uc2e4\uc744 \uc548\ub2e4\uba74 \ubd88\ud655\uc2e4\uc131\uc740 \uc904\uc5b4 \ub4e0\ub2e4(\uc544\uc9c1 \uc2a4\ud504\ub9c1 \ud074\ub7ec\uac00 \ucf1c\uc838 \uc788\ub294\uc9c0 \ud655\uc778\ud574\uc57c \ud55c\ub2e4).<br>\n",
      "\uc880 \ub354 \uc815\ud615\uc801\uc73c\ub85c, \uc0c1\ud638 \uc815\ubcf4\ub294 \ub2e4\uc74c\uacfc \uac19\uc774 \uc815\uc758\ub41c\ub2e4.\n",
      "$$ I(X;Y) = \\sum^{m}_{i=1}\\sum^{n}_{j=1}P(X_{i}, Y_{j})log_{2}\\frac{P(X_{i}, Y_{j})}{P(X_{i})P(Y_{j})} $$\n",
      "\n",
      "P()\uc758 \uacc4\uc0b0\uc740 \uc18d\uc131 \uac12\uc744 \uad6c\uc5ed\ud654\ud558\uace0 \uac01 \uad6c\uc5ed\uc758 \uac12\uc744 \uacc4\uc0b0\ud55c\ub2e4. \ub2e4\uc74c \ub3c4\uc2dd\uc5d0\uc11c \uad6c\uc5ed(bin)\uc758 \uac1c\uc218\ub97c 10\uc73c\ub85c\uc124\uc815\ud588\ub2e4.\n",
      "\uad6c\uac04 [0, 1]\ub85c \uc0c1\ud638 \uc815\ubcf4\ub97c \uc81c\ud55c\ud558\uae30 \uc704\ud574 \uac01 \uc5d4\ud2b8\ub85c\ud53c\ub97c \ub354\ud55c \uac12\uc73c\ub85c \ub098\ub204\uba74 \uc815\uaddc\ud654\ub41c \uc0c1\ud638 \uc815\ubcf4\uac00 \ub41c\ub2e4.\n",
      "$$ NI(X;Y) = \\frac{I(X;Y)}{H(X) + H(Y)} $$"
     ]
    },
    {
     "cell_type": "markdown",
     "metadata": {},
     "source": [
      "\ub2e4\uc74c \uadf8\ub798\ud504\uc5d0\uc11c \ubcf4\uc774\ub294 \uac83\ucc98\ub7fc \uc0c1\ud638 \uc815\ubcf4\ub97c \uac00\uc9c4 \uc810\uc740 \uc0c1\uad00 \uad00\uacc4\uc640\ub294 \ub2ec\ub9ac \uc120\ud615 \uad00\uacc4\ub9cc \uc801\uc6a9\ub418\uc9c0\ub294 \uc54a\ub294\ub2e4.\n",
      "<img src=\"ml11_img/fig11-5.png\" />\n",
      "<img src=\"ml11_img/fig11-6.png\" />"
     ]
    },
    {
     "cell_type": "markdown",
     "metadata": {},
     "source": [
      "\ub530\ub77c\uc11c \ubaa8\ub4e0 \uc18d\uc131 \uc9dd\uc5d0 \ub300\ud574 \uc815\uaddc\ud654\ub41c \uc0c1\ud638 \uc815\ubcf4\ub97c \uacc4\uc0b0\ud574\uc57c \ud55c\ub2e4. \ub192\uc740 \uac12\uc744 \uac00\uc9c4 \uc9dd \uc911 \ud558\ub098\ub97c \ube80\ub2e4. \ud68c\uadc0 \uae30\ubc95\uc5d0\uc11c, \uc6d0\ud558\ub294 \uacb0\uacfc \uac12\uacfc \ub9e4\uc6b0 \ub0ae\uc740 \uc0c1\ud638 \uc815\ubcf4\uc758 \uc18d\uc131\uc744 \uc81c\uc678\ud560 \uc218 \uc788\ub2e4.\n",
      "\uc774\ub294 \uc791\uc740 \uc18d\uc131 \uc9d1\ud569\uc5d0\uc11c \uc798 \uc791\ub3d9\ud558\uc9c0\ub9cc, \uc18d\uc131 \uc9dd \uc0ac\uc774\uc758 \uc0c1\ud638 \uc815\ubcf4\ub97c \uacc4\uc0b0\ud558\uae30 \ub54c\ubb38\uc5d0 \uacc4\uc0b0\uc758 \ucd1d\ub7c9\uc774 \uc5b4\ub290 \uc2dc\uc810\uc5d0\uc11c 2\ucc28\uc2dd\uc73c\ub85c \uc99d\uac00\ud574 \uc774 \uacfc\uc815\uc774 \ub9e4\uc6b0 \uace0\ube44\uc6a9\uc774 \ub41c\ub2e4.\n",
      "\n",
      "\ud544\ud130\uc758 \ub610 \ub2e4\ub978 \ud070 \ub2e8\uc810\uc740 \ub2e8\ub3c5\uc73c\ub85c \uc720\uc6a9\ud558\uc9c0 \uc54a\uc740 \uc18d\uc131\uc744 \uc81c\uac70\ud55c\ub2e4\ub294 \uc810\uc774\ub2e4. \ub300\uac1c \uba87 \uac1c\uc758 \uc18d\uc131\uc740 \ubaa9\uc801 \ubcc0\uc218\uc5d0 \uc644\uc804\ud788 \ub3c5\ub9bd\uc801\uc73c\ub85c \ubcf4\uc774\ub098 \uac19\uc774 \uacb0\ud569 \ud560 \ub54c \ud574\uacb0\ub41c\ub2e4. \uc774\ub7ec\ud55c \uc18d\uc131\uc740 \uc720\uc9c0\ud558\uae30 \uc704\ud574 wrapper\uac00 \ud544\uc694\ud558\ub2e4."
     ]
    },
    {
     "cell_type": "heading",
     "level": 3,
     "metadata": {},
     "source": [
      "\ub798\ud37c\ub97c \uc0ac\uc6a9\ud574 \uc18d\uc131\uc5d0 \ub300\ud55c \ubaa8\ub378 \ubb3b\uae30"
     ]
    },
    {
     "cell_type": "markdown",
     "metadata": {},
     "source": [
      "\ud544\ud130\ub294 \uc4f8\ubaa8\uc5c6\ub294 \uc18d\uc131\uc744 \uc81c\uac70\ud558\ub294 \ub370 \ud070 \ub3c4\uc6c0\uc774 \ub420 \uc218 \uc788\uc9c0\ub9cc \ud55c\uacc4\uac00 \uc788\ub2e4. \ubaa8\ub4e0 \ud544\ud130\ub9c1\uc744 \ud55c \ud6c4\uc5d0\ub3c4 \uc18d\uc131\ub4e4 \uc0ac\uc774\uc5d0\uc11c \uc77c\ubd80 \uc18d\uc131\uc740 \ub3c5\ub9bd\uc801\uc774\uace0 \uacb0\uacfc \uac12\uc5d0 \uc5b4\ub290 \uc815\ub3c4 \uc601\ud5a5\ub825\uc774 \uc788\uc74c\uc744 \ubcf4\uc5ec\uc900\ub2e4. \uadf8\ub7ec\ub098 \uc774\ub7ec\ud55c \uc18d\uc131\ub4e4\uc740 \ubaa8\ub378\uc758 \uad00\uc810\uc5d0\uc11c\ub294 \uc4f8\ubaa8\uac00 \uc5c6\ub2e4. XOR \ud568\uc218\ub97c \ub098\ud0c0\ub0b4\ub294 \ub2e4\uc74c \ub370\uc774\ud130\ub97c \uc0dd\uac01\ud574\ubcf4\uc790. \uac1c\ubcc4 \uc801\uc73c\ub85c A\ub3c4 \uc544\ub2c8\uace0 B\ub3c4 \uc544\ub2cc Y\uc5d0 \uc758\uc874\ud558\ub294 \uc5b4\ub5a4 \uc2e0\ud638\ub97c \ubcf4\uc5ec\uc900\ub2e4. \uadf8\ub807\uae30 \ub54c\ubb38\uc5d0 \ub458\uc744 \ud568\uaed8 \ud558\uba74 \uba85\ud655\ud558\ub2e4.\n",
      "\n",
      "A  |  B |  Y\n",
      "-- | -- | --\n",
      "0  | 0  | 0\n",
      "0  | 1  | 1\n",
      "1  | 0  | 1 \n",
      "1  | 1  | 0 \n",
      "\n",
      "<img src=\"ml11_img/fig11-7.png\" />"
     ]
    },
    {
     "cell_type": "markdown",
     "metadata": {},
     "source": [
      "\uadf8\ub798\uc11c \uac1c\ubcc4 \uc18d\uc131\uc5d0 \ub300\ud574 \ubaa8\ub378 \uc790\uccb4\uc5d0 \ud22c\ud45c\uad8c\uc744 \uc8fc\ub294 \uac74 \uc5b4\ub5a4\uac00? \uc544\ub798 \ucc28\ud2b8 \ub2e4\uc774\uc5b4\uadf8\ub7a8\uc5d0\uc11c \ubcfc \uc218 \uc788\ub4ef\uc774 \uc774\ub294 \ub798\ud37c\uac00 \ud558\ub294 \uc791\uc5c5\uc774\ub2e4.\n",
      "<img src=\"ml11_img/fig11-8.png\" />"
     ]
    },
    {
     "cell_type": "markdown",
     "metadata": {},
     "source": [
      "\uc5ec\uae30\uc11c \ubaa8\ub378 \ud6c8\ub828 \uacfc\uc815\uc5d0 \uc18d\uc131 \uc911\uc694\ub3c4 \uacc4\uc0b0\uc744 \ub123\uc5b4\uc57c \ud55c\ub2e4. \uc18d\uc131 \uc911\uc694\ub3c4\ub294 \uc774\ubd84\ubc95\uc801\uc73c\ub85c \uacb0\uc815\ub418\uc9c0 \uc54a\uace0 \uc810\uc218\ub85c \uacb0\uc815\ub418\ubbc0\ub85c \uc5b4\ub5a4 \uc18d\uc131\uc744 \uc81c\uac70\ud560\uc9c0 \ub9d0\uc9c0 \uba85\uc138\ud558\ub294 \uc791\uc5c5\uc774 \ub0a8\uc558\ub2e4.\n",
      "\n",
      "sklearn.feature_selection \ud328\ud0a4\uc9c0\uc5d0\ub294 \uc5ec\ub7ec \ub798\ud37c \ud074\ub798\uc2a4\uac00 \uc788\ub2e4. \uadf8 \uc911 RFE(recursive feauture elimination) \ud074\ub798\uc2a4\ub294 \uc5d0\uc2a4\ud130\uba54\uc774\ud130\uc640 \ub9e4\uac1c\ubcc0\uc218\ub85c\uc11c \uc6d0\ud558\ub294 \uc18d\uc131 \uac1c\uc218\ub97c \uc785\ub825\ubc1b\uc544 \ucda9\ubd84\ud788 \uc791\uc740 \uc18d\uc131\uc758 \ubd80\ubd84\uc9d1\ud569\uc744 \ucc3e\uc744 \ub3d9\uc548 \uc5d0\uc2a4\ud130\uba54\uc774\ud130\ub97c \ud6c8\ub828\ud55c\ub2e4. RFE \uc778\uc2a4\ud134\uc2a4 \uc790\uccb4\ub294 \uc8fc\uc5b4\uc9c4 \uc5d0\uc2a4\ud130\uba54\uc774\ud130\ub97c \ub798\ud551\ud588\uae30 \ub54c\ubb38\uc5d0 \uc5d0\uc2a4\ud130\uba54\uc774\ud130\ucc98\ub7fc \ud589\ub3d9\ud55c\ub2e4."
     ]
    },
    {
     "cell_type": "markdown",
     "metadata": {},
     "source": [
      "\ub2e4\uc74c \uc608\uc81c\ub294 \ud3b8\ub9ac\ud55c dataset\uc758 make_classification() \ud568\uc218\ub97c \uc0ac\uc6a9\ud574 100\uac1c\uc758 \uc0d8\ud50c\uc758 \ubd84\ub958 \ubb38\uc81c\ub97c \uc784\uc758\uc801\uc73c\ub85c \ub9cc\ub4e0\ub2e4. \ubd84\ub958 \ubb38\uc81c\ub97c \ud574\uacb0\ud560 \uc218 \uc788\ub294 3\uac1c\uc758 \uc18d\uc131\uc744 \ud3ec\ud568\ud55c 10\uac1c\uc758 \uc18d\uc131\uc744 \ub9cc\ub4e0\ub2e4. "
     ]
    },
    {
     "cell_type": "code",
     "collapsed": false,
     "input": [
      "from sklearn.feature_selection import RFE\n",
      "from sklearn.linear_model import LogisticRegression\n",
      "from sklearn.datasets import make_classification\n",
      "X,y = make_classification(n_samples=100, n_features=10, n_informative=3, random_state=0)\n",
      "clf = LogisticRegression()\n",
      "clf.fit(X, y)\n",
      "selector = RFE(clf, n_features_to_select=3)\n",
      "selector = selector.fit(X, y)\n",
      "print(selector.support_)"
     ],
     "language": "python",
     "metadata": {},
     "outputs": [
      {
       "output_type": "stream",
       "stream": "stdout",
       "text": [
        "[False  True False  True  True False False False False False]\n"
       ]
      }
     ],
     "prompt_number": 4
    },
    {
     "cell_type": "code",
     "collapsed": false,
     "input": [
      "print(selector.ranking_)"
     ],
     "language": "python",
     "metadata": {},
     "outputs": [
      {
       "output_type": "stream",
       "stream": "stdout",
       "text": [
        "[7 1 4 1 1 3 2 8 6 5]\n"
       ]
      }
     ],
     "prompt_number": 5
    },
    {
     "cell_type": "markdown",
     "metadata": {},
     "source": [
      "\uc2e4\uc138\uacc4\uc758 \ubb38\uc81c\uc5d0\uc11c n_features_to_select \uc758 \uc801\uc815\ud55c \uac12\uc744 \uc54c \uc218\ub294 \uc5c6\uc9c0\ub9cc, \ub370\uc774\ud130\uc758 \uc0d8\ud50c\uc744 \uc0ac\uc6a9\ud560 \uc218 \uc788\uace0 \uc801\ub2f9\ud55c \ub300\ub7b5\uac12\uc5d0 \ub300\ud55c \uc608\uac10\uc744 \uc5bb\uc744 \uc218 \uc788\ub3c4\ub85d \uc2dc\ub3c4\ud560 \uc218 \uc788\ub2e4.\n",
      "\ub798\ud37c\ub97c \uc0ac\uc6a9\ud560 \ub54c \uadf8\ub807\uac8c \uc815\ud655\ud560 \ud544\uc694\uac00 \uc5c6\ub2e4. support_\uc640 ranking_\uc774 \uc5b4\ub5bb\uac8c \ubcc0\ud558\ub294\uc9c0 \ubcf4\uae30 \uc704\ud574 n_features_to_select \uc758 \uac12\uc744 \ub2e4\uc591\ud558\uac8c \ud574\ubcf4\uc790.\n",
      "<img src=\"ml11_img/fig11-8.png\" />\n",
      "\uacb0\uacfc\ub294 \uaf64 \uc548\uc815\uc801\uc774\ub2e4. \uc880 \ub354 \uc791\uc740 \uc18d\uc131 \uc9d1\ud569\uc744 \uc694\uccad\ud560 \ub54c \uc0ac\uc6a9\ud55c \uc18d\uc131\uc740, \ub354 \ub9ce\uc740 \uc18d\uc131\uc73c\ub85c \ub298\uc5b4\ub0a0 \ub54c\ub3c4 \uacc4\uc18d \uc120\ud0dd\ub41c\ub2e4. \ub9c8\uc9c0\ub9c9\uc73c\ub85c \uc798\ubabb\ub41c \ubc29\ud5a5\uc73c\ub85c \ube60\uc9c8 \ub54c \ud6c8\ub828/\ud14c\uc2a4\ud2b8\ub97c \uc0ac\uc6a9\ud574 \uc624\ub958\ub97c \ubc1c\uacac\ud55c\ub2e4."
     ]
    },
    {
     "cell_type": "heading",
     "level": 2,
     "metadata": {},
     "source": [
      "\uadf8 \ubc16\uc758 \uc18d\uc131 \uc120\ud0dd \uae30\ubc95"
     ]
    },
    {
     "cell_type": "markdown",
     "metadata": {},
     "source": [
      "\uae30\uacc4 \ud559\uc2b5 \uacfc\uc815\uc5d0\ub294 \uc18d\uc131 \uc120\ud0dd \uae30\ubc95\uc774 \ud070 \uae30\uc5ec\ub97c \ud558\uba70 \uacb0\uc815 \ud2b8\ub9ac(decision tree)\uc640 \uac19\uc740 \uacbd\uc6b0\uc5d0\ub3c4 \uc774 \uacfc\uc815\uc774 \ud3ec\ud568\ub418\uc5b4 \uc788\ub2e4.  \uadf8 \ubc16\uc758 \ud559\uc2b5 \uae30\ubc95\ub3c4 \ubaa8\ub378\uc774 \ubcf5\uc7a1\ud574\uc9c0\uc9c0 \uc54a\uac8c \ud558\ub294 \uaddc\uce59\ud654(regularization) \uac19\uc740 \uae30\ubc95\uc744 \uc0ac\uc6a9\ud568\uc73c\ub85c\uc368 \ub2e8\uc21c\uc131(simple)\uc744 \uc720\uc9c0\ud55c \uad1c\ucc2e\uc740 \ubaa8\ub378\ub85c \uc9c4\ud589\ub41c\ub2e4. \uc18d\uc131 \uc120\ud0dd \uae30\ubc95\uc740 \uc601\ud5a5\uc744 \ub35c \uc8fc\ub294 \uc18d\uc131\uc758 \uc911\uc694\ub3c4\ub97c 0\uc73c\ub85c \uac10\uc18c\uc2dc\ud0a8 \ub2e4\uc74c\uc5d0 \uc18d\uc131\uc744 \uc81c\uac70\ud568\uc73c\ub85c\uc368(L<sub>l</sub> \uaddc\uce59\ud654) \uadf8\ub807\uac8c \ud55c\ub2e4."
     ]
    },
    {
     "cell_type": "heading",
     "level": 2,
     "metadata": {},
     "source": [
      "\uc18d\uc131\ucd94\ucd9c"
     ]
    },
    {
     "cell_type": "markdown",
     "metadata": {},
     "source": [
      "\ubd88\ud544\uc694\ud55c \uc18d\uc131\uc744 \uc81c\uac70\ud558\uace0 \uad00\ub828 \uc5c6\ub294 \uc18d\uc131\uc744 \ube80 \ud6c4\uc5d0\ub3c4 \uc18d\uc131\uc774 \ub108\ubb34 \ub9ce\uac70\ub098 \ub370\uc774\ud130 \uc2dc\uac01\ud654\ub97c \uc704\ud574\uc11c\ub294 \ucc28\uc6d0\uc744 \ucd95\uc18c\ud574\uc57c \ud55c\ub2e4. \uc758\ubbf8 \uc788\ub294 \uadf8\ub798\ud504\ub97c \uc81c\uacf5\ud558\uae30 \uc704\ud574 \ucd5c\ub300 3\ucc28\uc6d0\uc774 \ud544\uc694\ud558\ub2e4.\n",
      "\n",
      "\uc18d\uc131 \ucd94\ucd9c\uc740 \ubaa8\ub378\uc774 \uc880 \ub354 \uc27d\uac8c \uc811\uadfc\ud560 \uc218 \uc788\uac8c \ud558\uac70\ub098 \uc758\uc874\uc131\uc744 \uc2dc\uac01\uc801\uc73c\ub85c \ubcf4\uc5ec\uc904 \uc218 \uc788\ub3c4\ub85d 2, 3\ucc28\uc6d0\uc73c\ub85c \ucd95\uc18c\ud558\uace0\uc790 \uc18d\uc131 \uacf5\uac04\uc744 \uc7ac\uc0dd\uc131\ud55c\ub2e4.\n",
      "\n",
      "\uc120\ud615\uc778 \uacbd\uc6b0 \uc8fc\uc694 \uad6c\uc131\uc694\uc18c \ubd84\uc11d(PCA, principle component analysis)\ub97c, \ube44\uc120\ud615\uc778 \uacbd\uc6b0 \ub2e4\ucc28\uc6d0 \ucd95\uc801(MDS, multidimensional scaling)\uc744 \uc0ac\uc6a9\ud55c\ub2e4.\n",
      "\n",
      "\uc18d\uc131 \ucd94\ucd9c \ucc38\uace0 \uc790\ub8cc: \ud328\ud134\uc778\uc2dd, \uc624\uc77c\uc11d, 2008 [8\uc7a5 ppt \ub2e4\uc6b4\ub85c\ub4dc](https://www.google.co.kr/url?sa=t&rct=j&q&esrc=s&source=web&cd=1&ved=0CCEQFjAA&url=http%3A%2F%2Fcv.jbnu.ac.kr%2F~isoh%2Fwiki%2Flib%2Fexe%2Ffetch.php%3Fmedia%3D%25EA%25B0%2595%25EC%259D%2598%3A2012_1%3Apr_chap08.ppt&ei=sOXZVPrmAeXXmAXYpoKYBg&usg=AFQjCNF6qMooa1flqSR_VfVbnXjoZvO0dQ&sig2=yPbSJJ2iLSri6PfYQP6WXQ&bvm=bv.85464276%2Cd.dGY&cad=rjt)"
     ]
    },
    {
     "cell_type": "heading",
     "level": 3,
     "metadata": {},
     "source": [
      "\uc8fc\uc694 \uad6c\uc131\uc694\uc18c \ubd84\uc11d(PCA)"
     ]
    },
    {
     "cell_type": "markdown",
     "metadata": {},
     "source": [
      "\uc18d\uc131\uc758 \uac1c\uc218\ub97c \ub0ae\ucd94\uac70\ub098 \uc801\uc6a9\ud574\uc57c \ud560 \uc18d\uc131 \ucd94\ucd9c \uae30\ubc95\uc744 \ubaa8\ub97c \uacbd\uc6b0 \uc8fc\ub85c \uccab \ubc88\uc9f8\ub85c PCA\ub97c \uc2dc\ub3c4\ud55c\ub2e4. PCA\ub294 \uc120\ud615 \uae30\ubc95\uc774\ub77c\ub294 \uc81c\ud55c\uc774 \uc788\uc9c0\ub9cc \ubaa8\ub378\uc774 \ucda9\ubd84\ud788 \ud559\uc2b5\uc744 \ub354 \uc798\ud560 \uc218 \uc788\ub294 \uae30\ud68c\ub97c \uc900\ub2e4. PCA\uac00 \uc81c\uacf5\ud558\ub294 \uac15\ub825\ud55c \uc218\ud559\uc801 \ud2b9\uc131, \ubcc0\ud658\ub41c \uc18d\uc131 \uacf5\uac04\uc5d0\uc11c \ucc3e\ub294 \uc18d\ub3c4, \ubcf8\ub798 \uc18d\uc131\uacfc \ud6c4\uc5d0 \ubcc0\ud658 \ub41c \uc18d\uc131 \uac04\uc758 \ubcc0\ud658 \ub2a5\ub825\uacfc \ub354\ubd88\uc5b4, \uae30\uacc4 \ud559\uc2b5 \ud234 \uc911 \ube48\ubc88\ud788 \uc0ac\uc6a9\ub418\ub294 \uae30\ubc95\uc774\ub2e4.\n",
      "\n",
      "\uc989, PCA\ub294 \ubcf8\ub798 \uc18d\uc131 \uacf5\uac04\uc774 \uc8fc\uc5b4\uc9c0\uba74 \ub2e4\uc74c \ud2b9\uc131\uc774 \uc788\ub294 \ub0ae\uc740 \ucc28\uc6d0 \uacf5\uac04\uc73c\ub85c \uc120\ud615 \ud22c\uc601\uc744 \ucc3e\ub294\ub2e4.\n",
      "- \ubcf4\uc874\ub41c \ubcc0\ud654\ub7c9\uc744 \ucd5c\ub300\ud654\n",
      "- \ucd5c\uc885 \uc7ac\uc0dd\uc131(\ubcc0\ud658\ub41c \uc18d\uc131\uc5d0\uc11c \ubcf8\ub798\uc758 \uc18d\uc131\uc73c\ub85c \ub3cc\uc544\uac08 \ub54c) \uc624\ucc28\ub97c \ucd5c\uc18c\ud654\n",
      "\n",
      "PCA\ub294 \ub2e8\uc21c\ud788 \uc785\ub825 \ub370\uc774\ud130\ub97c \ubcc0\ud658\ud558\uae30 \ub54c\ubb38\uc5d0 \ubd84\ub958\uc640 \ud68c\uadc0 \ubb38\uc81c \ub458 \ub2e4\uc5d0 \uc801\uc6a9 \ud560 \uc218 \uc788\ub2e4. \uc774 \uc808\uc5d0\uc11c\ub294 \uae30\ubc95\uc744 \ub17c\uc758\ud558\uae30 \uc704\ud574 \ubd84\ub958 \uc791\uc5c5\uc744 \uc0ac\uc6a9\ud55c\ub2e4."
     ]
    },
    {
     "cell_type": "heading",
     "level": 4,
     "metadata": {},
     "source": [
      "PCA \ud6d1\uc5b4\ubcf4\uae30"
     ]
    },
    {
     "cell_type": "markdown",
     "metadata": {},
     "source": [
      "PCA\ub294 \uc120\ud615 \ub300\uc218\uc640 \ub9ce\uc740 \uc5f0\uad00\uc774 \uc788\uc9c0\ub9cc, \uae30\ubcf8 \uc54c\uace0\ub9ac\uc998\uc740 \ub2e4\uc74c \uc808\ucc28\ub85c \uc27d\uac8c \ub098\ud0c0\ub0bc \uc218 \uc788\ub2e4.\n",
      "1. \ub370\uc774\ud130\uc5d0\uc11c \ud3c9\uade0\uac12\uc744 \ube7c\uc11c \ub370\uc774\ud130\ub97c \uc911\uc2ec\uc5d0 \ub193\ub294\ub2e4. \n",
      "2. \uacf5\ubd84\uc0b0(covariance) \ub9e4\ud2b8\ub9ad\uc2a4\ub97c \uacc4\uc0b0\ud55c\ub2e4.\n",
      "3. \uacf5\ubd84\uc0b0\uc758 \uace0\uc720\ubca1\ud130(eigenvector)\ub97c \uacc4\uc0b0\ud55c\ub2e4.\n",
      "N\uac1c\uc758 \uc18d\uc131\uc73c\ub85c \uc2dc\uc791\ud558\uba74 \uc54c\uace0\ub9ac\uc998\uc740 \ub2e4\uc2dc \ubcc0\ud658\ub41c N\ucc28\uc6d0 \uc18d\uc131\uc744 \ubc18\ud658\ud55c\ub2e4. \uace0\uc720\uac12\uc740 \ud574\ub2f9\ud558\ub294 \uace0\uc720\ubca1\ud130\ub85c \ubcc0\ud654\ub7c9\uc774 \uc5bc\ub9c8\uc778\uc9c0 \ud45c\uc2dc\ud55c\ub2e4\ub294 \uc810\uc774 \uc7a5\uc810\uc774\ub2e4.\n",
      "N = 1000\uc774\uace0, \ubaa8\ud154\uc740 \uc18d\uc131\uc774 20\uac1c \uc774\uc0c1\uc774\uba74 \uc798 \uc791\ub3d9\ud558\uc9c0 \uc54a\ub294\ub2e4\uace0 \uac00\uc815\ud558\uc790. \uc774\ub54c \ub2e8\uc21c\ud788 \uac00\uc7a5 \ub192\uc740 \uace0\uc720\uac12\uc744 \uac16\ub294 20\uac1c\uc758 \uace0\uc720\ubca1\ud130\ub97c \uc120\ud0dd\ud55c\ub2e4."
     ]
    },
    {
     "cell_type": "heading",
     "level": 4,
     "metadata": {},
     "source": [
      "PCA \uc801\uc6a9\ud558\uae30"
     ]
    },
    {
     "cell_type": "code",
     "collapsed": false,
     "input": [
      "import numpy as np\n",
      "x1 = np.arange(0, 10, .2)\n",
      "x2 = x1 + np.random.normal(loc=0, scale=1, size=len(x1))\n",
      "X = np.c_[(x1, x2)]\n",
      "good = (x1>5) | (x2>5) #\uc77c\ubd80 \uc784\uc758\uc801\uc778 \ubc94\uc8fc\n",
      "bad = ~good #\ubcf4\uae30 \uc88b\uac8c \ub9cc\ub4e4\uae30 \uc704\ud574"
     ],
     "language": "python",
     "metadata": {},
     "outputs": [],
     "prompt_number": 6
    },
    {
     "cell_type": "markdown",
     "metadata": {},
     "source": [
      "scikit-learn\uc740 decomposition \ud328\ud0a4\uc9c0\uc5d0\uc11c PCA \ud074\ub798\uc2a4\ub97c \uc81c\uacf5\ud55c\ub2e4. \uc774 \uc608\uc81c\uc5d0\uc11c \ub370\uc774\ud130\ub97c \ub098\ud0c0\ub0b4\ub294 \ub370 1\ucc28\uc6d0\uc774\uba74 \ucda9\ubd84\ud558\ub2e4\ub294 \uc0ac\uc2e4\uc744 \uba85\ud655\ud788 \uc54c \uc218 \uc788\ub2e4. n_components \ub9e4\uac1c \ubcc0\uc218\ub97c \uc0ac\uc6a9\ud574 \uba85\uc2dc \ud55c\ub2e4."
     ]
    },
    {
     "cell_type": "markdown",
     "metadata": {},
     "source": [
      "\ub2e4\uc74c \uadf8\ub9bc \uc67c\ud3b8\uc758 \uc778\uacf5\uc801\uc778 \ub370\uc774\ud130\uc14b\uc744 \uace0\ub824\ud574\ubcf4\uc790.\n",
      "<img src=\"ml11_img/fig11-9.png\" />"
     ]
    },
    {
     "cell_type": "code",
     "collapsed": false,
     "input": [
      "from sklearn import linear_model, decomposition, datasets\n",
      "pca = decomposition.PCA(n_components=1)"
     ],
     "language": "python",
     "metadata": {},
     "outputs": [],
     "prompt_number": 7
    },
    {
     "cell_type": "markdown",
     "metadata": {},
     "source": [
      "PCA\uc758 \ub370\uc774\ud130\ub97c \ubd84\uc11d\ud558\uace0 \ubcc0\ud658\ub41c \uc18d\uc131 \uacf5\uac04\uc73c\ub85c \ud22c\uc601\ud558\uae30 \uc704\ud574 fit()\uc640 transform() \uba54\uc18c\ub4dc\ub3c4 \uc0ac\uc6a9\ud55c\ub2e4(\ub610\ub294 fit_transform() \uc870\ud569)."
     ]
    },
    {
     "cell_type": "code",
     "collapsed": false,
     "input": [
      "Xtrans = pca.fit_transform(X)"
     ],
     "language": "python",
     "metadata": {},
     "outputs": [],
     "prompt_number": 8
    },
    {
     "cell_type": "markdown",
     "metadata": {},
     "source": [
      "Xtrans\ub294 \uba85\uc2dc\ud55c \ub300\ub85c 1\ucc28\uc6d0\uc774\ub2e4. \uc774\uc81c \uc624\ub978\ucabd \uadf8\ub798\ud504\ub97c \ubcfc \uc218 \uc788\ub2e4. \uacb0\uacfc\ub294 \uc120\uc73c\ub85c \uad6c\ubd84\ub41c\ub2e4. \ub450 \ubc94\uc8fc\ub97c \uad6c\ubcc4\ud558\uae30 \uc704\ud574 \ubcf5\uc7a1\ud55c \ubd84\ub958\uae30\ub294 \ud544\uc694\ud558\uc9c0\ub3c4 \uc54a\ub2e4.\n",
      "\n",
      "\uc7ac\uc0dd\uc131 \uc624\ucc28\ub97c \uc774\ud574\ud558\uae30 \uc704\ud574 \ubcc0\ud658\uc5d0\uc11c \uc720\uc9c0\ud55c \ub370\uc774\ud130 \ubcc0\ud654\ub7c9\uc744 \ubcfc \uc218 \uc788\ub2e4."
     ]
    },
    {
     "cell_type": "code",
     "collapsed": false,
     "input": [
      "help(pca)"
     ],
     "language": "python",
     "metadata": {},
     "outputs": [
      {
       "output_type": "stream",
       "stream": "stdout",
       "text": [
        "Help on PCA in module sklearn.decomposition.pca object:\n",
        "\n",
        "class PCA(sklearn.base.BaseEstimator, sklearn.base.TransformerMixin)\n",
        " |  Principal component analysis (PCA)\n",
        " |  \n",
        " |  Linear dimensionality reduction using Singular Value Decomposition of the\n",
        " |  data and keeping only the most significant singular vectors to project the\n",
        " |  data to a lower dimensional space.\n",
        " |  \n",
        " |  This implementation uses the scipy.linalg implementation of the singular\n",
        " |  value decomposition. It only works for dense arrays and is not scalable to\n",
        " |  large dimensional data.\n",
        " |  \n",
        " |  The time complexity of this implementation is ``O(n ** 3)`` assuming\n",
        " |  n ~ n_samples ~ n_features.\n",
        " |  \n",
        " |  Parameters\n",
        " |  ----------\n",
        " |  n_components : int, None or string\n",
        " |      Number of components to keep.\n",
        " |      if n_components is not set all components are kept::\n",
        " |  \n",
        " |          n_components == min(n_samples, n_features)\n",
        " |  \n",
        " |      if n_components == 'mle', Minka's MLE is used to guess the dimension\n",
        " |      if ``0 < n_components < 1``, select the number of components such that\n",
        " |      the amount of variance that needs to be explained is greater than the\n",
        " |      percentage specified by n_components\n",
        " |  \n",
        " |  copy : bool\n",
        " |      If False, data passed to fit are overwritten and running\n",
        " |      fit(X).transform(X) will not yield the expected results,\n",
        " |      use fit_transform(X) instead.\n",
        " |  \n",
        " |  whiten : bool, optional\n",
        " |      When True (False by default) the `components_` vectors are divided\n",
        " |      by n_samples times singular values to ensure uncorrelated outputs\n",
        " |      with unit component-wise variances.\n",
        " |  \n",
        " |      Whitening will remove some information from the transformed signal\n",
        " |      (the relative variance scales of the components) but can sometime\n",
        " |      improve the predictive accuracy of the downstream estimators by\n",
        " |      making there data respect some hard-wired assumptions.\n",
        " |  \n",
        " |  Attributes\n",
        " |  ----------\n",
        " |  `components_` : array, [n_components, n_features]\n",
        " |      Components with maximum variance.\n",
        " |  \n",
        " |  `explained_variance_ratio_` : array, [n_components]\n",
        " |      Percentage of variance explained by each of the selected components.         k is not set then all components are stored and the sum of explained         variances is equal to 1.0\n",
        " |  \n",
        " |  `mean_` : array, [n_features]\n",
        " |      Per-feature empirical mean, estimated from the training set.\n",
        " |  \n",
        " |  `n_components_` : int\n",
        " |      The estimated number of components. Relevant when n_components is set\n",
        " |      to 'mle' or a number between 0 and 1 to select using explained\n",
        " |      variance.\n",
        " |  \n",
        " |  `noise_variance_` : float\n",
        " |      The estimated noise covariance following the Probabilistic PCA model\n",
        " |      from Tipping and Bishop 1999. See \"Pattern Recognition and\n",
        " |      Machine Learning\" by C. Bishop, 12.2.1 p. 574 or\n",
        " |      http://www.miketipping.com/papers/met-mppca.pdf. It is required to\n",
        " |      computed the estimated data covariance and score samples.\n",
        " |  \n",
        " |  Notes\n",
        " |  -----\n",
        " |  For n_components='mle', this class uses the method of `Thomas P. Minka:\n",
        " |  Automatic Choice of Dimensionality for PCA. NIPS 2000: 598-604`\n",
        " |  \n",
        " |  Implements the probabilistic PCA model from:\n",
        " |  M. Tipping and C. Bishop, Probabilistic Principal Component Analysis,\n",
        " |  Journal of the Royal Statistical Society, Series B, 61, Part 3, pp. 611-622\n",
        " |  via the score and score_samples methods.\n",
        " |  See http://www.miketipping.com/papers/met-mppca.pdf\n",
        " |  \n",
        " |  Due to implementation subtleties of the Singular Value Decomposition (SVD),\n",
        " |  which is used in this implementation, running fit twice on the same matrix\n",
        " |  can lead to principal components with signs flipped (change in direction).\n",
        " |  For this reason, it is important to always use the same estimator object to\n",
        " |  transform data in a consistent fashion.\n",
        " |  \n",
        " |  Examples\n",
        " |  --------\n",
        " |  \n",
        " |  >>> import numpy as np\n",
        " |  >>> from sklearn.decomposition import PCA\n",
        " |  >>> X = np.array([[-1, -1], [-2, -1], [-3, -2], [1, 1], [2, 1], [3, 2]])\n",
        " |  >>> pca = PCA(n_components=2)\n",
        " |  >>> pca.fit(X)\n",
        " |  PCA(copy=True, n_components=2, whiten=False)\n",
        " |  >>> print(pca.explained_variance_ratio_) # doctest: +ELLIPSIS\n",
        " |  [ 0.99244...  0.00755...]\n",
        " |  \n",
        " |  See also\n",
        " |  --------\n",
        " |  ProbabilisticPCA\n",
        " |  RandomizedPCA\n",
        " |  KernelPCA\n",
        " |  SparsePCA\n",
        " |  TruncatedSVD\n",
        " |  \n",
        " |  Method resolution order:\n",
        " |      PCA\n",
        " |      sklearn.base.BaseEstimator\n",
        " |      sklearn.base.TransformerMixin\n",
        " |      __builtin__.object\n",
        " |  \n",
        " |  Methods defined here:\n",
        " |  \n",
        " |  __init__(self, n_components=None, copy=True, whiten=False)\n",
        " |  \n",
        " |  fit(self, X, y=None)\n",
        " |      Fit the model with X.\n",
        " |      \n",
        " |      Parameters\n",
        " |      ----------\n",
        " |      X: array-like, shape (n_samples, n_features)\n",
        " |          Training data, where n_samples in the number of samples\n",
        " |          and n_features is the number of features.\n",
        " |      \n",
        " |      Returns\n",
        " |      -------\n",
        " |      self : object\n",
        " |          Returns the instance itself.\n",
        " |  \n",
        " |  fit_transform(self, X, y=None)\n",
        " |      Fit the model with X and apply the dimensionality reduction on X.\n",
        " |      \n",
        " |      Parameters\n",
        " |      ----------\n",
        " |      X : array-like, shape (n_samples, n_features)\n",
        " |          Training data, where n_samples is the number of samples\n",
        " |          and n_features is the number of features.\n",
        " |      \n",
        " |      Returns\n",
        " |      -------\n",
        " |      X_new : array-like, shape (n_samples, n_components)\n",
        " |  \n",
        " |  get_covariance(self)\n",
        " |      Compute data covariance with the generative model.\n",
        " |      \n",
        " |      ``cov = components_.T * S**2 * components_ + sigma2 * eye(n_features)``\n",
        " |      where  S**2 contains the explained variances.\n",
        " |      \n",
        " |      Returns\n",
        " |      -------\n",
        " |      cov : array, shape=(n_features, n_features)\n",
        " |          Estimated covariance of data.\n",
        " |  \n",
        " |  get_precision(self)\n",
        " |      Compute data precision matrix with the generative model.\n",
        " |      \n",
        " |      Equals the inverse of the covariance but computed with\n",
        " |      the matrix inversion lemma for efficiency.\n",
        " |      \n",
        " |      Returns\n",
        " |      -------\n",
        " |      precision : array, shape=(n_features, n_features)\n",
        " |          Estimated precision of data.\n",
        " |  \n",
        " |  inverse_transform(self, X)\n",
        " |      Transform data back to its original space, i.e.,\n",
        " |      return an input X_original whose transform would be X\n",
        " |      \n",
        " |      Parameters\n",
        " |      ----------\n",
        " |      X : array-like, shape (n_samples, n_components)\n",
        " |          New data, where n_samples is the number of samples\n",
        " |          and n_components is the number of components.\n",
        " |      \n",
        " |      Returns\n",
        " |      -------\n",
        " |      X_original array-like, shape (n_samples, n_features)\n",
        " |      \n",
        " |      Notes\n",
        " |      -----\n",
        " |      If whitening is enabled, inverse_transform does not compute the\n",
        " |      exact inverse operation as transform.\n",
        " |  \n",
        " |  score(self, X, y=None)\n",
        " |      Return the average log-likelihood of all samples\n",
        " |      \n",
        " |      See. \"Pattern Recognition and Machine Learning\"\n",
        " |      by C. Bishop, 12.2.1 p. 574\n",
        " |      or http://www.miketipping.com/papers/met-mppca.pdf\n",
        " |      \n",
        " |      Parameters\n",
        " |      ----------\n",
        " |      X: array, shape(n_samples, n_features)\n",
        " |          The data.\n",
        " |      \n",
        " |      Returns\n",
        " |      -------\n",
        " |      ll: float\n",
        " |          Average log-likelihood of the samples under the current model\n",
        " |  \n",
        " |  score_samples(self, X)\n",
        " |      Return the log-likelihood of each sample\n",
        " |      \n",
        " |      See. \"Pattern Recognition and Machine Learning\"\n",
        " |      by C. Bishop, 12.2.1 p. 574\n",
        " |      or http://www.miketipping.com/papers/met-mppca.pdf\n",
        " |      \n",
        " |      Parameters\n",
        " |      ----------\n",
        " |      X: array, shape(n_samples, n_features)\n",
        " |          The data.\n",
        " |      \n",
        " |      Returns\n",
        " |      -------\n",
        " |      ll: array, shape (n_samples,)\n",
        " |          Log-likelihood of each sample under the current model\n",
        " |  \n",
        " |  transform(self, X)\n",
        " |      Apply the dimensionality reduction on X.\n",
        " |      \n",
        " |      X is projected on the first principal components previous extracted\n",
        " |      from a training set.\n",
        " |      \n",
        " |      Parameters\n",
        " |      ----------\n",
        " |      X : array-like, shape (n_samples, n_features)\n",
        " |          New data, where n_samples is the number of samples\n",
        " |          and n_features is the number of features.\n",
        " |      \n",
        " |      Returns\n",
        " |      -------\n",
        " |      X_new : array-like, shape (n_samples, n_components)\n",
        " |  \n",
        " |  ----------------------------------------------------------------------\n",
        " |  Methods inherited from sklearn.base.BaseEstimator:\n",
        " |  \n",
        " |  __repr__(self)\n",
        " |  \n",
        " |  get_params(self, deep=True)\n",
        " |      Get parameters for this estimator.\n",
        " |      \n",
        " |      Parameters\n",
        " |      ----------\n",
        " |      deep: boolean, optional\n",
        " |          If True, will return the parameters for this estimator and\n",
        " |          contained subobjects that are estimators.\n",
        " |      \n",
        " |      Returns\n",
        " |      -------\n",
        " |      params : mapping of string to any\n",
        " |          Parameter names mapped to their values.\n",
        " |  \n",
        " |  set_params(self, **params)\n",
        " |      Set the parameters of this estimator.\n",
        " |      \n",
        " |      The method works on simple estimators as well as on nested objects\n",
        " |      (such as pipelines). The former have parameters of the form\n",
        " |      ``<component>__<parameter>`` so that it's possible to update each\n",
        " |      component of a nested object.\n",
        " |      \n",
        " |      Returns\n",
        " |      -------\n",
        " |      self\n",
        " |  \n",
        " |  ----------------------------------------------------------------------\n",
        " |  Data descriptors inherited from sklearn.base.BaseEstimator:\n",
        " |  \n",
        " |  __dict__\n",
        " |      dictionary for instance variables (if defined)\n",
        " |  \n",
        " |  __weakref__\n",
        " |      list of weak references to the object (if defined)\n",
        "\n"
       ]
      }
     ],
     "prompt_number": 9
    },
    {
     "cell_type": "code",
     "collapsed": false,
     "input": [
      "print(pca.explained_variance_ratio_)"
     ],
     "language": "python",
     "metadata": {},
     "outputs": [
      {
       "output_type": "stream",
       "stream": "stdout",
       "text": [
        "[ 0.9799976]\n"
       ]
      }
     ],
     "prompt_number": 10
    },
    {
     "cell_type": "markdown",
     "metadata": {},
     "source": [
      "\uc774\ub294 2\ucc28\uc6d0\uc744 1\ucc28\uc6d0\uc73c\ub85c \ub0ae\ucd98 \ud6c4, \ubcc0\ud654\ub7c9\uc774 97%\uac00 \ub0a8\uc558\uc74c\uc744 \uc758\ubbf8\ud55c\ub2e4.\n",
      "\n",
      "\ubb3c\ub860, \ud56d\uc0c1 \uadf8\ub807\uac8c \ub2e8\uc21c\ud558\uc9c4 \uc54a\ub2e4. \ucc28\uc218\ub97c \ubbf8\ub9ac \uc54c\uc9c0 \ubabb\ud558\ub294 \uacbd\uc6b0\uac00 \uc885\uc885 \uc788\ub2e4. \uc774 \uacbd\uc6b0\uc5d0\ub294 \ubaa8\ub4e0 \ubcc0\ud615\uc744 \uacc4\uc0b0\ud560 \uc218 \uc788\ub3c4\ub85d, PCA\ub97c \ucd08\uae30\ud654\ud560 \ub54c \ub9e4\uac1c \ubcc0\uc218 n_components\ub97c \uba85\uc2dc\ud558\uc9c0 \uc54a\uc558\ub2e4. \ub370\uc774\ud130\ub97c \uc801\ud569\ud654\ud55c \ud6c4, explained_variance_ratio \ub294 \ub0ae\uc740 \ucc28\uc218\ub85c \ube44\uc728 \ubc30\uc5f4\uc744 \ud3ec\ud568\ud55c\ub2e4.\n",
      "\n",
      "\uccab \ubc88\uc9f8 \uac12\uc740 \uac00\uc7a5 \ub192\uc740 \ubcc0\ud654\ub7c9\uc758 \ubc29\ud5a5\uc744 \ub098\ud0c0\ub0b4\ub294 \uae30\ubcf8 \ubca1\ud130\uc758 \ube44\uc728\uc744 \ub098\ud0c0\ub0b8\ub2e4. \ub450 \ubc88\uc9f8 \uac12\uc740 \ub450 \ubc88\uc9f8\ub85c \ub192\uc740 \ubcc0\ud654\ub7c9\uc758 \ubc29\ud5a5\uc758 \ube44\uc728\uc774\ub2e4. \ub098\uba38\uc9c0\ub3c4 \ub9c8\ucc2c\uac00\uc9c0\ub2e4. \uc774 \ubc30\uc5f4\uc744 \ub3c4\uc2dd\ud654 \ud55c \ud6c4 \ud544\uc694\ud55c \uc694\uc18c\uac00 \uc5bc\ub9c8\uc778\uc9c0 \uc27d\uac8c \uc54c \uc218 \uc788\ub294\ub370 \ucc28\ud2b8\uc5d0\uc11c \ud070\ud3ed\uc73c\ub85c \ubcc0\ud654 \ub418\uae30 \uc804\uc758 \uc694\uc18c \uac1c\uc218\uac00 \uc88b\uc740 \ucd94\uce21\uc774\ub2e4."
     ]
    },
    {
     "cell_type": "markdown",
     "metadata": {},
     "source": [
      "\uc694\uc18c\uc758 \uc218\uc5d0 \ub300\ud55c \uc124\uba85\ub41c \ubcc0\ud654\ub7c9(explain variance)\uc744 \ubcf4\uc5ec\uc8fc\ub294 \ub3c4\ud45c\ub97c Scree plot\uc774\ub77c \ud55c\ub2e4. \ubd84\ub958 \ubb38\uc81c\uc758 \ucd5c\uc801 \uc124\uc815\uc744 \ucc3e\ub294 \uaca9\uc790 \uac80\uc0c9\uacfc \uc2a4\ud06c\ub9ac \ub3c4\ud45c\ub97c \uacb0\ud569\ud55c \uc88b\uc740 \uc608\ub294 http://scikiHearn.sourceforge.net/stable/auto_examples/plot_digits_pipe.html \uc5d0\uc11c \ubcfc \uc218 \uc788\ub2e4."
     ]
    },
    {
     "cell_type": "heading",
     "level": 4,
     "metadata": {},
     "source": [
      "PCA\uc758 \ud55c\uacc4\uc640 LDA\uc758 \ub3c4\uc6c0"
     ]
    },
    {
     "cell_type": "markdown",
     "metadata": {},
     "source": [
      "\uc120\ud615 \uae30\ubc95\uc778 PCA\ub294 \ube44\uc120\ud615 \ub370\uc774\ud130\ub97c \ub2e4\ub8f0 \ub54c \uadf8 \ud55c\uacc4\ub97c \ubcf4\uc778\ub2e4. \uc5ec\uae30\uc11c \uc138\ubd80 \uc0ac\ud56d\uc744 \uc0b4\ud3b4\ubcf4\uc9c4 \uc54a\uaca0\uc9c0\ub9cc \ud655\uc7a5\ub41c PCA\uac00 \uc788\ub2e4. \uc774\ub97c\ud14c\uba74, Kernel PCA\ub294 PCA \uc811\uadfc\ubc95\uc744 \uc0ac\uc6a9\ud560 \uc218 \uc788\ub3c4\ub85d \ube44\uc120\ud615 \ucee4\ub110 \ud568\uc218\ub97c \ub3c4\uc785\ud55c\ub2e4.\n",
      "\uc5ec\uae30\uc11c \uc0b4\ud3b4\ubcf8 PCA\uc758 \ub610 \ub2e4\ub978 \ub2e8\uc810\uc740 \ud2b9\ubcc4\ud55c \ubd84\ub958 \ubb38\uc81c\uc5d0 \uc801\uc6a9\ud560 \ub54c \ubcfc \uc218\n",
      "\uc788\ub2e4.\n",
      "\n",
      "\ub2e4\uc74c\uc744\n",
      "#####>>> good = (xl>5) I (x2>5)\n",
      "\uc544\ub798\ub85c \ub300\uccb4\ud55c\ub2e4.\n",
      "#####>>> good = xl>x2\n",
      "\n",
      "\uc774\ub7f0 \ud2b9\ubcc4\ud55c \uacbd\uc6b0\ub85c \ubcc0\uacbd\ud558\uace0 \ubb38\uc81c\ub97c \ubcf4\uc790."
     ]
    },
    {
     "cell_type": "markdown",
     "metadata": {},
     "source": [
      "<img src=\"ml11_img/fig11-10.png\" />"
     ]
    },
    {
     "cell_type": "markdown",
     "metadata": {},
     "source": [
      "\uc5ec\uae30\uc11c \ubc94\uc8fc\ub294 \ucd95\uacfc \uac00\uc7a5 \ub192\uc740 \ubcc0\ud654\ub7c9\uc744 \ub530\ub77c \ubd84\ud3ec\ud558\uc9c0 \uc54a\uace0, \ucd95\uacfc \ub450 \ubc88\uc9f8 \ub192\uc740 \ubcc0\ud654\ub7c9\uc744 \ub530\ub77c \ubd84\ud3ec\ud55c\ub2e4. PCA\uc5d0\uc11c \ubc94\uc8fc \ub77c\ubca8\uc5d0 \uad00\ud55c \uc544\ubb34\ub7f0 \ub2e8\uc11c\ub3c4 \uc81c\uacf5\ud558\uc9c0 \uc54a\uc558\uae30\uc5d0 \uc5b4\ub5a4 \uac1c\uc120\ub3c4 \ud560 \uc218 \uc5c6\ub2e4.\n",
      "\uc774 \ubb38\uc81c\ub97c \ud574\uacb0\ud558\uae30 \uc704\ud574 \uc120\ud615 \ud310\ubcc4 \ubd84\uc11d(LDA, Linear Discrminant Analysis)\uc774 \uc788\ub2e4.\n",
      "\uc774 \uae30\ubc95\uc740 \uac19\uc740 \ubc94\uc8fc\uc5d0 \uc18d\ud55c \uc810\uc758 \uac70\ub9ac\ub294 \ucd5c\uc18c\ud654\ud558\ub294 \ubc18\uba74, \ub2e4\ub978 \ubc94\uc8fc\uc5d0 \uc18d\ud55c \uc810\uc758 \uac70\ub9ac\ub294 \ucd5c\ub300\ud654\ud55c\ub2e4."
     ]
    },
    {
     "cell_type": "markdown",
     "metadata": {},
     "source": [
      "#####>>> from sklearn import lda\n",
      "#####>>> lda inst = lda.LDA(n components=l)\n",
      "#####>>> Xtrans = lda inst.fit transform(X, good)"
     ]
    },
    {
     "cell_type": "markdown",
     "metadata": {},
     "source": [
      "\uc774\uc804 PCA \uc608\uc81c\uc640 \ube44\uad50\ud558\uba74, fit_transform() \uba54\uc18c\ub4dc\uc5d0 \ubc94\uc8fc \ub77c\ubca8\uc744 \ub123\ub294\ub2e4. \uc774\ub7ec\ud55c \uc774\uc720\ub85c PCA\ub294 \ube44\uc9c0\ub3c4(unsupervised) \uc18d\uc131 \ucd94\ucd9c \uae30\ubc95\uc778 \ubc18\uba74, LDA\ub294 \uc9c0\ub3c4(Superrvised) \uae30\ubc95\uc774\ub2e4. \uacb0\uacfc\ub294 \uc608\uc0c1\ud55c \ub300\ub85c \ub098\uc628\ub2e4.\n",
      "<img src=\"ml11_img/fig11-11.png\" />\n",
      "\uadf8\ub7ec\uba74 \uc65c LDA\uac00 \uc544\ub2cc PCA\ub97c \uac00\uc7a5 \uba3c\uc800 \uace0\ub824\ud558\ub294\uac00? \ubc94\uc8fc\uc758 \uc218\ub294 \uc99d\uac00\ud558\uace0 \uac01 \ubc94\uc8fc\ub9c8\ub2e4 \uc0d8\ud50c\uc774 \uc801\ub2e4\uba74, LDA\ub294 \uadf8\ub807\uac8c \uc798 \ub418\uc9c0\ub294 \uc54a\ub294\ub2e4. \ub610\ud55c PCA\ub294 LDA\ucc98\ub7fc \ub2e4\ub978 \ud6c8\ub828 \ub370\uc774\ud130\uc5d0 \ubbfc\uac10\ud558\uc9c0 \uc54a\ub2e4. \ub530\ub77c\uc11c '\uc0c1\ud669\uc5d0 \ub530\ub77c' \uc0ac\uc6a9\ud560 \uae30\ubc95\uc744 \uc815\ud558\ub77c."
     ]
    },
    {
     "cell_type": "heading",
     "level": 3,
     "metadata": {},
     "source": [
      "\ub2e4\ucc28\uc6d0 \ucd95\uc801(MDS)"
     ]
    },
    {
     "cell_type": "markdown",
     "metadata": {},
     "source": [
      "PCA\uac00 \ubcf4\uc720\ud55c \ubcc0\ud654\ub7c9\uc758 \ucd5c\uc801\ud654\ub97c \uc0ac\uc6a9\ud558\ub294 \ud55c\ud3b8, MDS\ub294 \ucc28\uc6d0\uc744 \ucd95\uc18c\ud560 \ub54c \uac00\ub2a5\ud55c \ud55c \ub9ce\uc774 \uc0c1\ub300\uc801\uc778 \uac70\ub9ac\ub97c \ubcf4\uc720\ud558\uace0\uc790 \ud55c\ub2e4. \uc774\ub294 \uace0\ucc28\uc6d0 \ub370\uc774\ud130\uc14b\uc5d0 \ub300\ud574 \uc2dc\uac01\uc801 \uac1c\uad04\uc744 \uc5bb\uace0\uc790 \ud560 \ub54c \uc720\uc6a9\ud558\ub2e4.\n",
      "\n",
      "MDS\ub294 \ub370\uc774\ud130 \uc810 \uc790\uccb4 \ub300\uc2e0\uc5d0, \ub370\uc774\ud130 \uc810\ub4e4 \uc9dd \uac04\uc758 \ucc28\uc774\uc810\uc5d0 \uad00\uc2ec\uc744 \uac16\uace0 \uac70\ub9ac\ub85c\uc11c \uc774\ub4e4\uc744 \ud574\uc11d\ud55c\ub2e4. \uc6b0\uc120 \uac70\ub9ac\ub97c \uce21\uc815\ud558\ub294 \uac70\ub9ac \ud568\uc218 (\ub300\ubd80\ubd84 \uc720\ud074\ub77c\ub4dc) d<sub>0</sub>\uc744 \uc0ac\uc6a9\ud574 \ubaa8\ub4e0 <i>k</i>\ucc28\uc6d0\uc758 <i>N</i> \ub370\uc774\ud130 \uc810\uc744 \uac00\uc9c0\uace0 \ubcf8\ub798 \uc18d\uc131 \uacf5\uac04\uc5d0\uc11c \uac70\ub9ac\ub97c \uacc4\uc0b0\ud55c\ub2e4."
     ]
    },
    {
     "cell_type": "markdown",
     "metadata": {},
     "source": [
      "$$\\begin{pmatrix}\n",
      "X_{11} & \\cdot \\cdot \\cdot  & X_{N1}\\\\ \n",
      " \\vdots & \\ddots  & \\vdots \\\\ \n",
      "X_{1k} & \\cdots  & X_{Nk}\n",
      "\\end{pmatrix}\n",
      "\\rightarrow \n",
      "\\begin{pmatrix}\n",
      "d_{0}(X_{1},X_{1})) & \\cdot \\cdot \\cdot  & d_{0}(X_{N},X_{1}))\\\\ \n",
      " \\vdots & \\ddots  & \\vdots \\\\ \n",
      "d_{0}(X_{1},X_{N}))& \\cdots  & d_{0}(X_{N},X_{N}))\n",
      "\\end{pmatrix}$$"
     ]
    },
    {
     "cell_type": "markdown",
     "metadata": {},
     "source": [
      "MDS\ub294 \ubcf8\ub798 \uacf5\uac04\uc5d0\uc11c\uc758 \uc810\ub4e4 \uac70\ub9ac\uc640 \ucd5c\ub300\ud55c \uc720\uc0ac\ud55c \uc0c8\ub85c\uc6b4 \uac70\ub9ac\ub85c \ub0ae\uc740 \ucc28\uc6d0 \uacf5\uac04\uc5d0 \uac1c\ubcc4 \ub370\uc774\ud130 \uc810\uc744 \ub193\ub294\ub2e4. MDS\uac00 \uc2dc\uac01\ud654\ub97c \uc704\ud574 \uc790\uc8fc \uc0ac\uc6a9\ub418\uae30 \ub54c\ubb38\uc5d0, \ub300\ubd80\ubd84 \ub0ae\uc740 2,3 \ucc28\uc6d0\uc73c\ub85c \uc120\ud0dd\ud55c\ub2e4.\n",
      "\n",
      "5\ucc28\uc6d0 \uacf5\uac04\uc5d0 \uc788\ub294 3\uac1c\uc758 \ub370\uc774\ud130 \uc810\uc5d0\uc11c 2\uac1c\uc758 \ub370\uc774\ud130 \uc810\uc740 \ub9e4\uc6b0 \uac00\uae5d\uace0 \ub2e4\ub978 \ud558\ub098\ub294 \uba40\ub9ac \uc788\uc744 \ub54c \ub2e4\uc74c\uacfc \uac19\uc774 2,3\ucc28\uc6d0\uc73c\ub85c \uc2dc\uac01\ud654 \ud574\ubcf4\uc790."
     ]
    },
    {
     "cell_type": "code",
     "collapsed": false,
     "input": [
      "X = np.c_[np.ones(5), 2*np.ones(5), 10*np.ones(5)].T"
     ],
     "language": "python",
     "metadata": {},
     "outputs": [],
     "prompt_number": 11
    },
    {
     "cell_type": "code",
     "collapsed": false,
     "input": [
      "help(np.c_)"
     ],
     "language": "python",
     "metadata": {},
     "outputs": [
      {
       "output_type": "stream",
       "stream": "stdout",
       "text": [
        "Help on CClass in module numpy.lib.index_tricks object:\n",
        "\n",
        "class CClass(AxisConcatenator)\n",
        " |  Translates slice objects to concatenation along the second axis.\n",
        " |  \n",
        " |  This is short-hand for ``np.r_['-1,2,0', index expression]``, which is\n",
        " |  useful because of its common occurrence. In particular, arrays will be\n",
        " |  stacked along their last axis after being upgraded to at least 2-D with\n",
        " |  1's post-pended to the shape (column vectors made out of 1-D arrays).\n",
        " |  \n",
        " |  For detailed documentation, see `r_`.\n",
        " |  \n",
        " |  Examples\n",
        " |  --------\n",
        " |  >>> np.c_[np.array([[1,2,3]]), 0, 0, np.array([[4,5,6]])]\n",
        " |  array([[1, 2, 3, 0, 0, 4, 5, 6]])\n",
        " |  \n",
        " |  Method resolution order:\n",
        " |      CClass\n",
        " |      AxisConcatenator\n",
        " |      __builtin__.object\n",
        " |  \n",
        " |  Methods defined here:\n",
        " |  \n",
        " |  __init__(self)\n",
        " |  \n",
        " |  ----------------------------------------------------------------------\n",
        " |  Methods inherited from AxisConcatenator:\n",
        " |  \n",
        " |  __getitem__(self, key)\n",
        " |  \n",
        " |  __getslice__(self, i, j)\n",
        " |  \n",
        " |  __len__(self)\n",
        " |  \n",
        " |  ----------------------------------------------------------------------\n",
        " |  Data descriptors inherited from AxisConcatenator:\n",
        " |  \n",
        " |  __dict__\n",
        " |      dictionary for instance variables (if defined)\n",
        " |  \n",
        " |  __weakref__\n",
        " |      list of weak references to the object (if defined)\n",
        "\n"
       ]
      }
     ],
     "prompt_number": 12
    },
    {
     "cell_type": "code",
     "collapsed": false,
     "input": [
      "print(X)"
     ],
     "language": "python",
     "metadata": {},
     "outputs": [
      {
       "output_type": "stream",
       "stream": "stdout",
       "text": [
        "[[  1.   1.   1.   1.   1.]\n",
        " [  2.   2.   2.   2.   2.]\n",
        " [ 10.  10.  10.  10.  10.]]\n"
       ]
      }
     ],
     "prompt_number": 13
    },
    {
     "cell_type": "markdown",
     "metadata": {},
     "source": [
      "Scikit-learn\uc758 manifold \ud328\ud0a4\uc9c0\uc5d0 \uc788\ub294 MDS \ud074\ub798\uc2a4\ub97c \uc0ac\uc6a9\ud574 \ub2e4\uc74c\uacfc \uac19\uc774 X\ub97c 3\ucc28\uc6d0\uc73c\ub85c \ubcc0\ud658\ud558\uc790."
     ]
    },
    {
     "cell_type": "code",
     "collapsed": false,
     "input": [
      "from sklearn import manifold\n",
      "mds = manifold.MDS(n_components=3)\n",
      "Xtrans = mds.fit_transform(X)"
     ],
     "language": "python",
     "metadata": {},
     "outputs": [],
     "prompt_number": 14
    },
    {
     "cell_type": "markdown",
     "metadata": {},
     "source": [
      "2\ucc28\uc6d0\uc73c\ub85c \uc2dc\uac01\ud654\ud558\uae30 \uc704\ud574, n_components\ub97c \ud1b5\ud574 \uba85\uc2dc\ud55c\ub2e4.\n",
      "\uacb0\uacfc\ub294 \ub2e4\uc74c \ub450 \uadf8\ub798\ud504\ub85c \ubcfc \uc218 \uc788\ub2e4. \uc0bc\uac01\ud615\uacfc \uc6d0\uc740 \uc11c\ub85c \uac00\uae4c\uc6b4 \ubc18\uba74 \ubcc4\uc740 \uc800 \uba40\ub9ac \uc788\ub2e4.\n",
      "<img src=\"ml11_img/fig11-12.png\" />"
     ]
    },
    {
     "cell_type": "markdown",
     "metadata": {},
     "source": [
      "\uc880 \ub354 \ubcf5\uc7a1\ud55c \uc544\uc774\ub9ac\uc2a4 \ub370\uc774\ud130\uc14b\uc744 \uc0b4\uc9dd \ubcf4\uae30\ub85c \ud558\uc790. LDA\uc640 PCA\ub97c \ube44\uad50\ud558\uae30 \uc704\ud574 \uc774 \ub370\uc774\ud130\uc14b\uc744 \ucc28\ud6c4\uc5d0 \uc0ac\uc6a9\ud560 \uac83\uc774\ub2e4. \uc544\uc774\ub9ac\uc2a4\uc758 \ub370\uc774\ud130\ub294 \uaf43\ub9c8\ub2e4 4\uac1c\uc758 \uc18d\uc131\uc744 \ud3ec\ud568\ud55c\ub2e4. \uc774\uc804 \ucf54\ub4dc\uc5d0\uc11c \uac00\ub2a5\ud55c \ud55c \ucd5c\ub300\ub85c \uac1c\ubcc4 \uaf43 \uc0ac\uc774\uc758 \uc0c1\ub300\uc801\uc778 \uac70\ub9ac\ub97c \uc720\uc9c0\ud558\uba74\uc11c 3\ucc28\uc6d0 \uacf5\uac04\uc73c\ub85c \ud22c\uc601\ud588\ub2e4. MDS\ub294 \uae30\ubcf8\uc801\uc73c\ub85c \uc720\ud074\ub9ac\ub4dc\ub85c \uc124\uc815\ub418\uc5b4 \uc788\ub2e4. MDS\ud654\ud55c 3\ucc28\uc6d0 \uacf5\uac04\uc5d0\uc11c 4\uac1c\uc758 \uc18d\uc131\uc5d0 \ub530\ub77c \uaf43\uc740 \ub2e4\ub974\ub2e4. \uadf8\ub9ac\uace0 \ub2e4\uc74c \uadf8\ub9bc\uacfc \uac19\uc774 \uc11c\ub85c \uc720\uc0ac\ud55c \uaf43\uc740 \uac00\uae4c\uc774 \uc788\uc5b4\uc57c \ud55c\ub2e4.\n",
      "<img src=\"ml11_img/fig11-13.png\" />"
     ]
    },
    {
     "cell_type": "markdown",
     "metadata": {},
     "source": [
      "\ub300\uc2e0\uc5d0 PCA\ub85c 2\ucc28\uc6d0, 3\ucc28\uc6d0\uc73c\ub85c \ucd95\uc18c\ud558\ubbc0\ub85c \ub2e4\uc74c \uadf8\ub9bc\uacfc \uac19\uc774 \ub3d9\uc77c\ud55c \ubc94\uc8fc\uc5d0 \uc18d\ud55c \uaf43\uc740 \uc608\uc0c1\ud55c \ub300\ub85c \uc880 \ub354 \ud070 \ud3b4\uc9d0\uc744 \ubcfc \uc218 \uc788\ub2e4.\n",
      "<img src=\"ml11_img/fig11-14.png\" />"
     ]
    },
    {
     "cell_type": "markdown",
     "metadata": {},
     "source": [
      "\ubb3c\ub860, MDS\ub97c \uc0ac\uc6a9 \ud558\ub824\uba74 \uac1c\ubcc4 \uc18d\uc131 \uc790\uccb4\uc5d0 \ub300\ud55c \uc774\ud574\uac00 \ud544\uc694\ud558\ub2e4. \uc5b4\uca4c\uba74 \uc720\ud074\ub9ac\ub4dc \uacc4\ub7c9\uc744 \uc0ac\uc6a9\ud574 \ube44\uad50\ud560 \uc218 \uc5c6\ub294 \uc18d\uc131\uc744 \uc0ac\uc6a9 \uc911\uc77c \uc218\ub3c4 \uc788\ub2e4. \uc608\ub97c \ub4e4\uba74, \uc815\uc218\ub85c \ubcc0\ud658 \ud55c\ub2e4\uace0 \ud558\ub354\ub77c\ub3c4(0 =\ubd89\uc740\uc0c9 \uc6d0, 1 =\ud30c\ub780\uc0c9 \ubcc4, 2 =\ucd08\ub85d\uc0c9 \uc0bc\uac01\ud615 \ub4f1) \ubc94\uc8fc \ubcc0\uc218\ub294 \uc720\ud074\ub9ac\ub4dc\ub97c \uc0ac\uc6a9\ud574 \ube44\uad50\ud560 \uc218 \uc5c6\ub2e4(\ubd89\uc740\uc0c9\uc740 \ucd08\ub85d\uc0c9\ubcf4\ub2e4 \ud30c\ub791\uc0c9\uc5d0 \uac00\uae5d\ub2e4).\n",
      "\uadf8\ub7ec\ub098 \uc77c\ub2e8 \uc774\ub7f0 \ubb38\uc81c\uc810\uc744 \uc54c\uace0 \uc788\ub354\ub77c\ub3c4, MDS\ub294 \ubcf8\ub798 \uc18d\uc131 \uacf5\uac04\uc5d0\uc11c \ubcf4\uae30 \uc5b4\ub824\uc6b4 \ub370\uc774\ud130\uc758 \uc720\uc0ac\uc131\uc744 \ub4dc\ub7ec\ub0b4\ub294 \uc720\uc6a9\ud55c \ud234\uc774\ub2e4.\n",
      "MDS\ub97c \uc880 \uae4a\uac8c \ubcf4\uc790\uba74, \uc774\ub294 \ub2e8\uc9c0 \ud558\ub098\uc758 \uc54c\uace0\ub9ac\uc998\uc774 \uc544\ub2c8\ub77c \ud558\ub098\ub85c \uc0ac\uc6a9\ud558\ub294 \uc5ec\ub7ec \uc54c\uace0\ub9ac\uc998 \uad70\uc774\ub77c\ub294 \uc0ac\uc2e4\uc744 \uc54c \uc218 \uc788\ub2e4. PCA\ub3c4 \ub9c8\ucc2c\uac00\uc9c0\ub2e4. \uadf8\ub9ac\uace0 PCA\ub098 MDS\ub85c\ub3c4 \ubb38\uc81c\ub97c \ud574\uacb0\ud560 \uc218 \uc5c6\ub294 \uacbd\uc6b0\ub97c \ub300\ube44\ud574, Scikit-learn \ud234\ud0b7\uc5d0\uc11c \uc0ac\uc6a9 \uac00\ub2a5\ud55c \uadf8 \ubc16\uc758 manifold \ud559\uc2b5 \uc54c\uace0\ub9ac\uc998\ub3c4 \uc0b4\ud3b4\ubcf4\uc790."
     ]
    },
    {
     "cell_type": "heading",
     "level": 2,
     "metadata": {},
     "source": [
      "\uc815\ub9ac"
     ]
    },
    {
     "cell_type": "markdown",
     "metadata": {},
     "source": [
      "\uc18d\uc131 \uc120\ud0dd \uae30\ubc95\uc744 \uc0ac\uc6a9\ud574 \uc18d\uc131\uc744 \uc81c\uac70\ud558\ub294 \ubc29\ubc95\uc744 \ubc30\uc6e0\ub2e4. \uacbd\uc6b0\uc5d0 \ub530\ub77c\uc11c \uc774 \ub610\ud55c \ucda9\ubd84\ud558\uc9c0 \uc54a\uc544 \ubaa8\ub378\uc5d0 \uc798 \uc801\uc6a9\ub420 \uc218 \uc788\ub3c4\ub85d \ub370\uc774\ud130\ub85c \uc2e4\uc9c8\uc801\uc774\uace0 \ub0ae\uc740 \ucc28\uc6d0 \uad6c\uc870\ub97c \ub4dc\ub7ec\ub0b4\ub294 \uc18d\uc131 \ucd94\ucd9c \uae30\ubc95\uc744 \uc801\uc6a9\ud574\uc57c\ub9cc \ud588\ub2e4.\n",
      "\uc0ac\uc6a9 \uac00\ub2a5\ud55c \ucc28\uc6d0 \ucd95\uc18c \uae30\ubc95\ub3c4 \uac00\ubccd\uac8c \uc0b4\ud3b4\ubd24\ub2e4. \uc120\ud0dd\ud560 \uc218 \uc788\ub294 \uae30\ubc95\ub4e4\uc740 \uc544\uc9c1 \ub9ce\uc73c\ubbc0\ub85c \uc774 \uc804\uccb4 \ubd84\uc57c\uc5d0 \uad00\uc2ec\uc744 \uac00\uc9c0\uae38 \ubc14\ub780\ub2e4. \uacb0\uad6d \uc18d\uc131 \uc120\ud0dd\uc774\ub098 \uc18d\uc131 \ucd94\ucd9c\uc740 \uc801\ub2f9\ud55c \ud559\uc2b5 \uae30\ubc95\uc774\ub098 \ud6c8\ub828 \ubaa8\ub378\uc744 \uc120\ud0dd\ud558\ub294 \uac83\uacfc \uac19\uc740 \uae30\uc220\uc774\ub2e4."
     ]
    }
   ],
   "metadata": {}
  }
 ]
}