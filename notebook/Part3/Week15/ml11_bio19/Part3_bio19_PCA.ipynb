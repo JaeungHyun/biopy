{
 "metadata": {
  "name": "",
  "signature": "sha256:4cbf638d25f61e7aa148106c571d95bca2cdb77231f945e1c57852c10877176d"
 },
 "nbformat": 3,
 "nbformat_minor": 0,
 "worksheets": [
  {
   "cells": [
    {
     "cell_type": "heading",
     "level": 2,
     "metadata": {},
     "source": [
      "CHAPTER 19 PRINCIPAL COMPONENT ANALYSIS"
     ]
    },
    {
     "cell_type": "markdown",
     "metadata": {},
     "source": [
      "The data generated from experiments in bioinformatics may contain several dimensions and be quite complicated. However, the dimensionality of the data may far exceed its complexity. A reduction in dimensionality often allows simpler algorithms to analyze the data effectively. The most common method of data reduction in bioinformatics is principal component analysis (PCA)."
     ]
    },
    {
     "cell_type": "markdown",
     "metadata": {},
     "source": [
      "\uc0dd\ubb3c\uc815\ubcf4\ud559 \uc2e4\ud5d8\uc5d0\uc11c \uc0dd\uc131\ub41c \ub370\uc774\ud130\ub294 \ucc28\uc6d0\uc774 \ub192\uace0 \ubcf5\uc7a1\ud560 \uc218 \uc788\ub2e4. \uadf8\ub7ec\ub098, \ub370\uc774\ud130\uc758 \ucc28\uc6d0\uc740 \ubcf5\uc7a1\uc131\uc744 \ub118\uc5b4\uc124 \uc218 \uc788\ub2e4. \ucc28\uc6d0\uc758 \ucd95\uc18c\ub294 \ub370\uc774\ud130\ub97c \ub354 \ud6a8\uacfc\uc801\uc73c\ub85c \ubd84\uc11d\ud558\ub294 \uac04\ub2e8\ud55c \uc54c\uace0\ub9ac\uc998\uc744 \ud5c8\ub77d\ud560 \uc218 \uc788\ub2e4. \uc0dd\ubb3c\uc815\ubcf4\ud559\uc5d0\uc11c \ucc28\uc6d0 \ucd95\uc18c\uc758 \uac00\uc7a5 \ud754\ud55c \ubc29\ubc95\uc740 principal component analysis (PCA)\uc774\ub2e4."
     ]
    },
    {
     "cell_type": "heading",
     "level": 3,
     "metadata": {},
     "source": [
      "19.1 The Purpose of PCA"
     ]
    },
    {
     "cell_type": "markdown",
     "metadata": {},
     "source": [
      "Principal component analysis is an often-used tool that reduces the dimensionality of a problem. Consider a set of vectors that lie in R<sup>N</sup> space. It is possible that the data is not scattered about but has an organization. When looked at in one view, the data looks scattered, but if viewed from a different orientation the data appears more organized. In this case the data does not need to be represented in the full RN space but can be viewed in a reduced dimensional space as represented by this view. PCA is then used to find the coordinate axes that best orient this data, which thus possibly reduces the number of dimensions that are needed to describe the data.\n",
      "\n",
      "In the following example there are three vectors of data, each with t hree dimensions. The data is three-dimensional, but the first dimension and the third are exactly the same. Thus one dimension is redundant, and in actuality the data is just two-dimensional.\n",
      "X<sub>1</sub> = { 2, 1 , 2 } X<sub>2</sub> = { 3 , 4 , 3 } X<sub>3</sub> = { 5, 6, 5 }\n",
      "\n",
      "Let's consider a more complicated example: a data set that consists of P vectors, each with N elements and N>>P. In this situation a vector v can be written in terms of scalar coefficients: {a<sub>1</sub>v<sub>1</sub>, a<sub>2</sub>v<sub>2</sub>, \u2022 \u2022 . ,a<sub>N</sub>v<sub>N</sub>}. It takes only N samples to compute all of the coefficients a<sub>k</sub>. Yet, there are only P samples, and therefore it is not possible to determine all of the values of the coefficients . Basically, it is the same as the situation above in that some of the elements in the vectors are redundancies of the others. The dimensionality of the problem can be reduced.\n",
      "\n",
      "The PCA approach is equivalent to rotating the coordinates of the space that could make some of the coordinates unimportant. Figure 19-1 shows a set of data points presented in two dimensions. Each data point requires an (x, y) coordinate to locate it in the space.\n",
      "Figure 19-2 shows that same data after rotation. \n",
      "\n",
      "In this case all of the x coordinates of the data are the same, and therefore this coordinate is no longer needed. The only necessary description of the data is the y coordinate. Thus through the process of rotation the dimensionality of the data has been reduced from R<sup>2</sup> to R<sup>1</sup>.\n",
      "\n",
      "Dimensionality can be reduced when one coordinate is very much like another or a linear combination of others. This type of redundancy becomes evident in the covariance matrix , which has the ability to indicate which dimensions are dependent on each other. The covariance matrix of a completely independent system will be diagonal; the covariance matrix of this new space will be as diagonal as possible for this data. If it were completely diagonal, then each data point would be found on an individual axis.\n",
      "\n",
      "For cases in which there are some dependencies, methods such as eigenvectors or SVD (singular valued & decomposition) are used to find a new system that optimally diagonalizes the covariance matrix. Thus before PCA is demonstrated, it is necessary to discuss eigenvectors."
     ]
    },
    {
     "cell_type": "markdown",
     "metadata": {},
     "source": [
      "Principal component analysis(\uc8fc\uc131\ubd84\ubd84\uc11d)\uc740 \ubb38\uc81c\uc758 \ucc28\uc6d0\uc744 \ucd95\uc18c\ud558\ub294\ub370 \uc790\uc8fc \uc0ac\uc6a9\ub41c\ub2e4. R<sup>N</sup> \uacf5\uac04\uc5d0 \ub193\uc5ec\uc9c4 \ubca1\ud130 \uc9d1\ud569\uc744 \uc0dd\uac01\ud574 \ubcf4\uc790. \ud55c \uba74\uc5d0\uc11c \ubcfc\ub54c \ub370\uc774\ud130\uac00 \ud769\uc5b4\uc838 \uc788\uc5b4 \ubcf4\uc774\uc9c0\ub9cc \ub2e4\ub978 \ubc29\ud5a5\uc5d0\uc11c \ubcf4\uba74 \ub370\uc774\ud130\ub294 \ub354 organized\ub418\uac8c \ubcf4\uc778\ub2e4. \uc774\ub7f0 \uacbd\uc6b0 \ub370\uc774\ud130\ub294 \uc804\uccb4 R<sup>N</sup> \uacf5\uac04\uc5d0\uc11c \ub300\ubcc0\ub420 \ud544\uc694\ub294 \uc5c6\uc9c0\ub9cc, \uc774\ub7f0 \uc2dc\uac01\uc5d0 \uc758\ud574 \ub300\ubcc0\ub418\ub294 \ucd95\uc18c\ub41c \ucc28\uc6d0 \uacf5\uac04\uc5d0\uc11c \ubcf4\uc5ec\uc9c8 \uc218 \uc788\ub2e4. PCA\ub294 \uc774 \ub370\uc774\ud130\uc5d0 \uac00\uc7a5 orient\ub41c \uc88c\ud45c \ucd95\uc744 \ucc3e\ub294\ub370 \uc0ac\uc6a9 \ub420 \uc218 \uc788\uace0, \uc774\uac83\uc740 \ub370\uc774\ud130\ub97c \uc124\uba85\ud558\ub294\ub370 \ud544\uc694\ud55c \ucc28\uc6d0 \ucd95\uc18c\ub97c \ud560 \uc218 \uc788\ub2e4.\n",
      "\n",
      "\ub2e4\uc74c \uc608\uc5d0\uc11c 3\uac1c\uc758 \ucc28\uc6d0\uc5d0 3\uac1c\uc758 \ub370\uc774\ud130 \ubca1\ud130\uac00 \uc788\ub2e4. \uc774 \ub370\uc774\ud130\ub294 3\ucc28\uc6d0\uc774\uc9c0\ub9cc, \ucc98\uc74c\uacfc \ub9c8\uc9c0\ub9c9 \ucc28\uc6d0\uc740 \uc815\ud655\ud558\uac8c \uc77c\uce58\ud55c\ub2e4. \uadf8\ub7ec\ubbc0\ub85c 1\uac1c\uc758 \ucc28\uc6d0\uc774 \uc911\ubcf5\ub418\uc11c \uc0ac\uc2e4\uc0c1 2\ucc28\uc6d0\uc758 \ub370\uc774\ud130\uc774\ub2e4.\n",
      "X<sub>1</sub> = { 2, 1 , 2 } X<sub>2</sub> = { 3 , 4 , 3 } X<sub>3</sub> = { 5, 6, 5 }\n",
      "\n",
      "P \ubca1\ud130\ub85c \uad6c\uc131\ub41c \ub370\uc774\ud130 \uc14b\ud2b8\uc640 N\uac1c\uc758 \uc694\uc18c\ub97c \uac00\uc9c0\uba70 N>>P\uc778 \ub354 \ubcf5\uc7a1\ud55c \uc608\ub97c \uace0\ub824\ud574\ubcf4\uc790. \uc774\ub7ec\ud55c \uc0c1\ud669\uc5d0\uc11c, \ubca1\ud130 v\ub294 scalar coeffients\uc758 \uc6a9\uc5b4\ub85c \uc4f8 \uc218 \uc788\ub2e4. {a<sub>1</sub>v<sub>1</sub>, a<sub>2</sub>v<sub>2</sub>, \u2022 \u2022 . ,a<sub>N</sub>v<sub>N</sub>}.\n",
      "\ubaa8\ub4e0 \ubcc0\uc218 a<sub>k</sub>\ub97c \uacc4\uc0b0\ud558\ub294\ub370 \ub2e8\uc9c0 N \uc0d8\ud50c\ub9cc \uc788\uc73c\uba74 \ub41c\ub2e4. \uadf8\ub7ec\ub098 P \uc0d8\ud50c\ub9cc \uc788\uace0 \ubaa8\ub4e0 \ubcc0\uc218 \uac12\uc744 \uacb0\uc815\ud558\uae30\ub294 \ubd88\uac00\ub2a5\ud558\ub2e4. \uae30\ubcf8\uc801\uc73c\ub85c, \uc704\uc5d0 \uc788\ub294 \uacbd\uc6b0\ucc98\ub7fc \ub3d9\uc77c\ud558\uac8c \ubca1\ud130\uc758 \uc5b4\ub5a4 \uc694\uc18c\ub4e4\uc740 \ub2e4\ub978 \uac83\ub4e4\uacfc \uc911\ubcf5\uc774 \ub41c\ub2e4. \ubb38\uc81c\uc758 \ucc28\uc6d0\uc740 \ucd95\uc18c \ub420 \uc218 \uc788\ub2e4.\n",
      "\n",
      "PCA \uc811\uadfc\uc740 \uc88c\ud45c\uc758 \uc77c\ubd80\ub97c \uc911\uc694\ud558\uc9c0 \uc54a\uac8c \ub9cc\ub4dc\ub294 \uacf5\uac04\uc758 \uc88c\ud45c\ub97c \ud68c\uc804\ud558\ub294 \uac83\uc5d0 \uc0c1\uc751\ud55c\ub2e4. Figure 19-1\uc740 2\ucc28\uc6d0\uc5d0\uc11c \ubcf4\uc774\ub294 \ub370\uc774\ud130 \uc810\uc758 \uc9d1\ud569\uc744 \ubcf4\uc5ec\uc900\ub2e4. \uac01 \ub370\uc774\ud130 \uc810\uc740 \uacf5\uac04\uc5d0 \uc704\uce58\ud558\ub294 (x, y) coordinate\ub97c \ud544\uc694\ub85c \ud55c\ub2e4.\n",
      "<img src=\"bio19_img/fig19-1.png\" />\n",
      "Figure 19-2 shows that same data after rotation. \n",
      "<img src=\"bio19_img/fig19-2.png\" />\n",
      "\n",
      "\uc774 \uacbd\uc6b0 \ubaa8\ub4e0 \ub370\uc774\ud130\uc758 x \uc88c\ud45c\ub294 \ub3d9\uc77c\ud558\ubbc0\ub85c x \uc88c\ud45c\ub294 \ub354 \uc774\uc0c1 \ud544\uc694\ud558\uc9c0 \uc54a\uace0 y \uc88c\ud45c\ub9cc \ud544\uc694\ud558\ub2e4. \ub530\ub77c\uc11c \ub370\uc774\ud130\uc758 \ucc28\uc6d0\uc744 \ud68c\uc804\ud558\ub294 \uacfc\uc815\uc744 \ud1b5\ud574\uc11c R<sup>2</sup>\uc73c\ub85c\ubd80\ud130 R<sup>1</sup> \ucd95\uc18c \ud560 \uc218 \uc788\ub2e4.\n",
      "\ucc28\uc6d0\uc740 \ud55c \uc88c\ud45c\uc640 \ub2e4\ub978 \uac83\uacfc \ub9e4\uc6b0 \uc720\uc0ac\ud558\uac70\ub098 \uc120\ud615 \uc870\ud569\uc744 \uac00\uc9c8 \ub54c \ucd95\uc18c \ub420 \uc218 \uc788\ub2e4. \uc774\ub7ec\ud55c \uc911\ubcf5\uc740 \uacf5\ubd84\uc0b0 \ud589\ub82c\uc5d0\uc11c \uba85\ubc31\ud574\uc9c0\uace0, \ub2e4\ub978 \uac83\uc5d0 \uc11c\ub85c \uc758\uc874\ud558\ub294 \ucc28\uc6d0\uc744 \uac00\ub9ac\ud0a4\ub294 \ub2a5\ub825\uc744 \uac00\uc9c4\ub2e4. \uc644\ubcbd\ud558\uac8c \ub3c5\ub9bd\uc801\uc778 \uc2dc\uc2a4\ud15c\uc758 \uacf5\ubd84\uc0b0 \ud589\ub82c\uc740 \ub300\uac01\uc120\uc774\uba70 \uc774\ub7ec\ud55c \uc0c8\ub85c\uc6b4 \uacf5\uac04\uc758 \uacf5\ubd84\uc0b0 \ud589\ub82c\uc740 \uc774 \ub370\uc774\ud130\ub97c \uc704\ud574 \ucd5c\ub300\ud55c \ub300\uac01\ud654 \ud560 \uac83\uc774\ub2e4. \uc644\uc804\ud788 \ub300\uac01\ud654\ud558\uba74, \uac01 \ub370\uc774\ud130 \uc810\uc740 \uac1c\ubcc4 \ucd95\uc5d0\uc11c \ubc1c\uacac\ub420 \uac83\uc774\ub2e4.\n",
      "\n",
      "\uc758\uc874\uc131\uc744 \uac00\uc9c0\ub294 \uacbd\uc6b0\uc5d0\ub294 eigenvectors\ub098 SVD (singular valued & decomposition)\uc774 covariance matrix(\uacf5\ubd84\uc0b0 \ud589\ub82c)\uc5d0 \ucd5c\uc801\uc73c\ub85c \ub300\uac01\ud654\ud558\uac8c \ud558\ub294 \uc2dc\uc2a4\ud15c\uc744 \ubc1c\uacac\ud558\ub294\ub370 \uc0ac\uc6a9\ub41c\ub2e4. \ub530\ub77c\uc11c PCA\ub97c \uc124\uba85\ud558\uae30 \uc804\uc5d0 eigenvectors(\uace0\uc720\ubca1\ud130)\ub97c \uc0b4\ud3b4\ubcf4\uc790."
     ]
    },
    {
     "cell_type": "heading",
     "level": 3,
     "metadata": {},
     "source": [
      "19.2 Eigenvectors"
     ]
    },
    {
     "cell_type": "markdown",
     "metadata": {},
     "source": [
      "Equation (19-1) is the eigenvector equation for a given matrix <b>A</b>. The matrix-vector multiplication of <b>A</b> with an eigenvector v is equal to the scalar-vector multiplication of an eigenvalue $\\mu$ with the same vector,\n",
      "$$A\\overrightarrow{v} = \\mu \\overrightarrow{v}\\quad (19-1)$$\n",
      "Generally, the matrix <b>A</b> is square, and for a matrix of <i>N</i> X <i>N</i> there are <i>N</i> different eigenvector or eigenvalue pairs.\n",
      "The numpy package provides an eigenvector solution engine. Code 19-1 creates a matrix <b>A</b> that is square and symmetric (which emulates the type of matrices that will be used in the PCA analysis). The call to <b>linalg.eig</b> returns the eigenvalues and eigenvectors. Since <b>A</b> is 3 X 3, there are three values and vectors. The eigenvectors are returned as a matrix, and in the newer versions of numpy the eigenvectors are columns in the matrix. (Earlier versions of the predecessor Numeric returned eigenvectors as rows in the matrix.) The last two lines in Code 19-1 show that Equation (19-1) holds for the first eigenvalue-eigenvector pair, and similar tests would reveal that it also holds for the other two pairs."
     ]
    },
    {
     "cell_type": "markdown",
     "metadata": {},
     "source": [
      "(19-1)\ub294 \uc8fc\uc5b4\uc9c4 <b>A</b> \ud589\ub82c\uc744 \uc704\ud55c eigenvector \uc218\uc2dd\uc774\ub2e4. eigenvector v\ub97c \uac00\uc9c4 <b>A</b>\uc758 matrix-vector \uacf1\uc740 \uac19\uc740 vector\ub97c \uac00\uc9c4 eigenvalue $\\mu$ \uc758 scalar-vector\uc640 \uac19\ub2e4.\n",
      "\n",
      "$$A\\overrightarrow{v} = \\mu \\overrightarrow{v} \\quad(19-1)$$\n",
      "\n",
      "\uc77c\ubc18\uc801\uc73c\ub85c, <b>A</b> \ud589\ub82c\uc740 \uc815\uc0ac\uac01\ud615\uc774\uba70, <i>N</i> X <i>N</i>\uc758 \ud589\ub82c\uc744 \uc704\ud574 <i>N</i>\uc758 \ub2e4\ub978  eigenvector\ub098 eigenvalue \uc30d\uc774 \uc788\ub2e4.\n",
      "\n",
      "numpy \ud328\ud0a4\uc9c0\ub294 eigenvector solution engine\uc744 \uac00\uc9c0\uace0 \uc788\ub2e4. Code 19-1\uc740 \uc815\ubc29\ud615\uc774\uace0 \ub300\uce6d\uc801\uc778 <b>A</b> \ud589\ub82c\uc744 \uc0dd\uc131\ud55c\ub2e4 (PCA \ubd84\uc11d\uc5d0\uc11c \uc0ac\uc6a9\ub418\ub294 \ud589\ub82c\uc758 \uc885\ub958\ub97c \ubaa8\ubc29\ud55c\ub2e4). <b>linalg.eig</b>\ub85c \ud638\ucd9c\uc740 eigenvalues\uc640 eigenvectors\ub97c \ubc18\ud658\ud55c\ub2e4.\n",
      "\n",
      "<b>A</b>\ub294 3 X 3 \uc774\uae30 \ub54c\ubb38\uc5d0, 3\uac1c\uc758 \uac12\uacfc 3\uac1c\uc758 \ubca1\ud130\uac00 \uc788\ub2e4. eigenvector\ub294 \ud589\ub82c\ucc98\ub7fc \ubc18\ud658\ub418\uace0, \uc0c8 numpy \ubc84\uc804\uc5d0\uc11c eigenvector\ub294 \ud589\ub82c\uc5d0\uc11c \uceec\ub7fc\uc774\ub2e4. (\uc774\uc804 \ubc84\uc804\uc5d0\uc11c\ub294, \ubc18\ud658\ub418\ub294 eigenvector\ub294 \ud589\ub82c\uc5d0\uc11c \ud589\uc784.) \ucf54\ub4dc 19-1\uc5d0\uc11c \ub9c8\uc9c0\ub9c9 2\ub77c\uc778\uc740 \ucc98\uc74c eigenvalue-eigenvector \uc9dd\uc744 \uc9c0\ub2c8\uace0, \ube44\uc2b7\ud55c \ud14c\uc2a4\ud2b8\ub294 \ub2e4\ub978 \ub450 \uc30d\uc744 \uc9c0\ub2cc\ub2e4."
     ]
    },
    {
     "cell_type": "code",
     "collapsed": false,
     "input": [
      "#Code 19-1\n",
      "import numpy\n",
      "from numpy import linalg, random, dot, set_printoptions\n",
      "#numpy.dot(a, b, out=None): Dot product of two arrays.\n",
      "#For 2-D arrays it is equivalent to matrix multiplication, and for 1-D arrays to inner product of vectors (without complex conjugation).\n",
      "#For N dimensions it is a sum product over the last axis of a and the second-to-last of b:\n",
      "#Set printing options determine the way floating point numbers, arrays and other NumPy objects are displayed.\n",
      "#precision : int, optional, Number of digits of precision for floating point output (default 8).\n",
      "set_printoptions(precision=3)"
     ],
     "language": "python",
     "metadata": {},
     "outputs": [],
     "prompt_number": 1
    },
    {
     "cell_type": "code",
     "collapsed": false,
     "input": [
      "#Code 19-1\n",
      "d = random.ranf((3,3))\n",
      "d"
     ],
     "language": "python",
     "metadata": {},
     "outputs": [
      {
       "metadata": {},
       "output_type": "pyout",
       "prompt_number": 2,
       "text": [
        "array([[ 0.07 ,  0.784,  0.205],\n",
        "       [ 0.726,  0.018,  0.051],\n",
        "       [ 0.699,  0.196,  0.014]])"
       ]
      }
     ],
     "prompt_number": 2
    },
    {
     "cell_type": "code",
     "collapsed": false,
     "input": [
      "#Code 19-1\n",
      "A = dot(d, d.transpose()) #matrix A: square, symmetric\n",
      "A"
     ],
     "language": "python",
     "metadata": {},
     "outputs": [
      {
       "metadata": {},
       "output_type": "pyout",
       "prompt_number": 3,
       "text": [
        "array([[ 0.662,  0.075,  0.205],\n",
        "       [ 0.075,  0.531,  0.512],\n",
        "       [ 0.205,  0.512,  0.527]])"
       ]
      }
     ],
     "prompt_number": 3
    },
    {
     "cell_type": "code",
     "collapsed": false,
     "input": [
      "#Code 19-1\n",
      "evl, evc = linalg.eig(A) #linalg.eig returns the eigenvalues and eigenvectors.\n",
      "evl"
     ],
     "language": "python",
     "metadata": {},
     "outputs": [
      {
       "metadata": {},
       "output_type": "pyout",
       "prompt_number": 4,
       "text": [
        "array([ 1.127,  0.59 ,  0.003])"
       ]
      }
     ],
     "prompt_number": 4
    },
    {
     "cell_type": "code",
     "collapsed": false,
     "input": [
      "#Code 19-1\n",
      "evc"
     ],
     "language": "python",
     "metadata": {},
     "outputs": [
      {
       "metadata": {},
       "output_type": "pyout",
       "prompt_number": 5,
       "text": [
        "array([[ 0.398,  0.906, -0.147],\n",
        "       [ 0.626, -0.385, -0.678],\n",
        "       [ 0.671, -0.178,  0.72 ]])"
       ]
      }
     ],
     "prompt_number": 5
    },
    {
     "cell_type": "code",
     "collapsed": false,
     "input": [
      "#Code 19-1\n",
      "dot(evc[:,0], A)"
     ],
     "language": "python",
     "metadata": {},
     "outputs": [
      {
       "metadata": {},
       "output_type": "pyout",
       "prompt_number": 6,
       "text": [
        "array([ 0.448,  0.706,  0.755])"
       ]
      }
     ],
     "prompt_number": 6
    },
    {
     "cell_type": "code",
     "collapsed": false,
     "input": [
      "#Code 19-1\n",
      "evc[0]*evc[:,0]"
     ],
     "language": "python",
     "metadata": {},
     "outputs": [
      {
       "metadata": {},
       "output_type": "pyout",
       "prompt_number": 7,
       "text": [
        "array([ 0.158,  0.567, -0.098])"
       ]
      }
     ],
     "prompt_number": 7
    },
    {
     "cell_type": "markdown",
     "metadata": {},
     "source": [
      "Another property of the eigenvectors of a symmetric matrix is that they are <i>orthonormal</i>, which means that they have a length of 1 and are perpendicular to each other. Code 19-2 demonstrates that the length of the first eigenvector is 1.0 (the self dot product is 1) and that the first two vectors are perpendicular (the dot product is 0)."
     ]
    },
    {
     "cell_type": "markdown",
     "metadata": {},
     "source": [
      "\ub300\uce6d \ud589\ub82c\uc758 \ub610\ub2e4\ub978 eigenvectors\uc758 \ud2b9\uc9d5\uc740 <i>orthonormal(\uc815\uaddc\uc9c1\uad50)</i>\ud558\ub2e4\ub294 \uac83\uc774\uba70, \uae38\uc774\uac00 1\uc774\uba70 \uc11c\ub85c \uc9c1\uac01\uc774\ub77c\ub294 \uac83\uc744 \uc758\ubbf8\ud55c\ub2e4. Code 19-2\ub294 \ucc98\uc74c eigenvector\uc758 \uae38\uc774\uac00 1\uc774\uace0 (self dot product\ub294 1) \ucc98\uc74c 2\uac1c\uc758 \ubca1\ud130\uac00 \uc9c1\uac01\uc774\ub77c\ub294 \uac83\uc744 \uc124\uba85\ud55c\ub2e4 (dot product\ub294 0)."
     ]
    },
    {
     "cell_type": "code",
     "collapsed": false,
     "input": [
      "#Code 19-2\n",
      "dot(evc[:,0], evc[:,0])"
     ],
     "language": "python",
     "metadata": {},
     "outputs": [
      {
       "metadata": {},
       "output_type": "pyout",
       "prompt_number": 8,
       "text": [
        "1.0"
       ]
      }
     ],
     "prompt_number": 8
    },
    {
     "cell_type": "code",
     "collapsed": false,
     "input": [
      "#Code 19-2\n",
      "dot(evc[:,0], evc[:,1])"
     ],
     "language": "python",
     "metadata": {},
     "outputs": [
      {
       "metadata": {},
       "output_type": "pyout",
       "prompt_number": 9,
       "text": [
        "0.0"
       ]
      }
     ],
     "prompt_number": 9
    },
    {
     "cell_type": "heading",
     "level": 3,
     "metadata": {},
     "source": [
      "19.3 The PCA Process"
     ]
    },
    {
     "cell_type": "markdown",
     "metadata": {},
     "source": [
      "Since the eigenvectors are orthonormal, they define a new coordinate space. The number of eigenvectors is the same as the number of dimensions in the original problem. In the PCA process a decision is made to get rid of some of the eigenvectors because they are deemed as not important, thus reducing the dimension. The matrix that is fed into the <b>linalg.eig</b> is the covariance matrix that measures the variance among the different elements in the input vectors. Basically, if element i and element j of the vectors are linked, the element <i>C[i,j]</i> (the covariance matrix) is a larger value. The eigen calculation finds a new space in which the covariance matrix is most diagonal. This is also the space in which different elements of the data vectors are least linked.\n",
      "\n",
      "The PCA reduction follows four steps:\n",
      "1. Compute the covariance matrix of the data.\n",
      "2. Compute the eigenvalues and eigenvectors of the covariance matrix.\n",
      "3. Decide which dimensions to keep.\n",
      "4. Convert the data points into the new space "
     ]
    },
    {
     "cell_type": "markdown",
     "metadata": {},
     "source": [
      "eigenvector\ub294 orthonormal\ud558\uae30 \ub54c\ubb38\uc5d0, \uadf8\ub4e4\uc740 \uc0c8\ub85c\uc6b4 \uc88c\ud45c \uacf5\uac04\uc744 \uc815\uc758\ud55c\ub2e4. eigenvector\uc758 \uc218\ub294 \uc6d0\ub798 \ubb38\uc81c\uc5d0\uc11c \ucc28\uc6d0\uc758 \uc218\uc640 \ub3d9\uc77c\ud558\ub2e4. PCA \uacfc\uc815\uc5d0\uc11c \uc911\uc694\ud558\uc9c0 \uc54a\uc740 \uc5b4\ub5a4 eigenvector\ub97c \uc81c\uac70\ud558\uae30 \uc704\ud574 \uacb0\uc815\ub418\uace0 \ub530\ub77c\uc11c \ucc28\uc6d0\uc744 \uc904\uc778\ub2e4. <b>linalg.eig</b> \ub85c fed\ub41c \ud589\ub82c\uc740 \uc785\ub825 \ubca1\ud130\uc5d0\uc11c \ub2e4\ub978 \uc694\uc18c \uac04\uc5d0 \ubd84\uc0b0\uc744 \uce21\uc815\ud558\ub294 \uacf5\ubd84\uc0b0 \ud589\ub82c\uc774\ub2e4. \uae30\ubcf8\uc801\uc73c\ub85c, \ubca1\ud130\uc758 i \uc694\uc18c\uc640 j \uc694\uc18c\uac00 \uc5f0\uacb0\ub418\uc5b4 \uc788\ub2e4\uba74, <i>C[i,j]</i> (covariance matrix)\uc758 \uc694\uc18c\ub294 \ub354 \ud070 \uac12\uc774\ub2e4. eigen \uacc4\uc0b0\uc740 \uacf5\ubd84\uc0b0 \ud589\ub82c\uc774 \uac00\uc7a5 \ub300\uac01\ud55c \uc0c8\ub85c\uc6b4 \uacf5\uac04\uc744 \ucc3e\ub294\ub2e4. \uc774\uac83\uc740 \ub370\uc774\ud130 \ubca1\ud130\uac00 \uac00\uc7a5 \ub35c \uc5f0\uacb0\ub41c \ub2e4\ub978 \uc694\uc18c\uc5d0\uc11c \uacf5\uac04\uc774\ub2e4.\n",
      "\n",
      "PCA \ucd95\uc18c\ub294 \ub2e4\uc74c 4\uac1c\uc758 \ub2e8\uacc4\ub97c \ub530\ub978\ub2e4:\n",
      "1. \ub370\uc774\ud130\uc758 \uacf5\ubd84\uc0b0 \ud589\ub82c\uc744 \uacc4\uc0b0\ud55c\ub2e4.\n",
      "2. \uacf5\ubd84\uc0b0 \ud589\ub82c\uc5d0\uc11c eigenvalue\uc640 eigenvector\ub97c \uacc4\uc0b0\ud55c\ub2e4.\n",
      "3. \uc5b4\ub5a4 \ucc28\uc6d0\uc744 \uc720\uc9c0\ud560 \uac83\uc778\uc9c0 \uacb0\uc815\ud55c\ub2e4.\n",
      "4. \ub370\uc774\ud130 \ud3ec\uc778\ud2b8\ub97c \uc0c8\ub85c\uc6b4 \uacf5\uac04\uc73c\ub85c \ubcc0\ud658\ud55c\ub2e4"
     ]
    },
    {
     "cell_type": "heading",
     "level": 4,
     "metadata": {},
     "source": [
      "19.3.1 Case 1: More Dimensions Than Vectors"
     ]
    },
    {
     "cell_type": "markdown",
     "metadata": {},
     "source": [
      "This demonstration begins with a simple problem of five vectors, each of length 10. Since the number of vectors is less than the dimension, a dimensionality reduction is guaranteed and at least five of the dimensions can be eliminated.\n",
      "\n",
      "The first step is to compute the covariance matrix, which measures the variation among pairs of dimensions. The covariance between d<sub>i</sub> and d<sub>j</sub> is large if these two dimensions are coupled. \n",
      "\n",
      "Basically, if it is possible to partially predict the behavior of\n",
      "\ufffcd based on the values of d<sub>i</sub>, then the dimensions are coupled. \n",
      "\n",
      "In Figure 19-1 the j behavior of the x and y dimensions were coupled, and they had a significant covariance. A covariance is 0 if the two dimensions are completely independent. The covariance of two variables is computed by\n",
      "\ufffc$$cov(d_{i},d_{j}) = E[(d_{i}-\\mu_{i})(d_{j}-\\mu_{j})] \\qquad(19-2)$$\n",
      "The $\\mu$<sub>i</sub> is the average of the ith variable.\n",
      "\n",
      "Code 19-3 demonstrates the creation of data vectors and the computation of the covariance matrix ."
     ]
    },
    {
     "cell_type": "markdown",
     "metadata": {},
     "source": [
      "\uac01\uac01 \uae38\uc774\uac00 10\uc778 5\uac1c\uc758 \ubca1\ud130\uc758 \ubb38\uc81c\ub85c\ubd80\ud130 \uc2dc\uc791\ud558\uc790. \ubca1\ud130\uc758 \uc218\ub294 \ucc28\uc6d0\ubcf4\ub2e4 \uc791\uae30 \ub54c\ubb38\uc5d0, \ucc28\uc6d0 \ucd95\uc18c\ub294 \ubcf4\uc7a5\ub418\uace0 \uc801\uc5b4\ub3c4 5\uac1c\uc758 \ucc28\uc6d0\uc740 \uc81c\uac70\ub420 \uc218 \uc788\ub2e4.\n",
      "\n",
      "\uccab\ubc88\uc9f8 \ub2e8\uacc4\ub294 \ucc28\uc6d0\uc758 \uc30d \uac04\uc5d0 \ubcc0\uc774\ub97c \uce21\uc815\ud558\ub294 \uacf5\ubd84\uc0b0 \ud589\ub82c\uc744 \uacc4\uc0b0\ud558\ub294 \uac83\uc774\ub2e4. d<sub>i</sub>\uc640 d<sub>j</sub> \uc0ac\uc774\uc5d0 \uacf5\ubd84\uc0b0\uc740 2\ucc28\uc6d0\uc774 \uacb0\ud569\ud55c\ub2e4\uba74 \ucee4\uc9c4\ub2e4. \uae30\ubcf8\uc801\uc73c\ub85c, d<sub>i</sub> \uc758 \uac12\uc5d0 \uae30\ubc18\ud55c \ud589\ub3d9\uc744 \ubd80\ubd84\uc801\uc73c\ub85c \uc608\uce21\ud558\ub294 \uac83\uc774 \uac00\ub2a5\ud558\ub2e4\uba74, \ucc28\uc6d0\uc740 \uacb0\ud569\ub41c\ub2e4.\n",
      "\n",
      "Figure 19-1\uc5d0\uc11c x\uc640 y \ucc28\uc6d0\uc774 \uacb0\ud569\ub418\ub294 j behavior \uac00 \uc788\uace0, \uc774\ub4e4\uc740 \uc911\uc694\ud55c \uacf5\ubd84\uc0b0\uc744 \uac00\uc9c8 \uac83\uc774\ub2e4. \ub450 \ucc28\uc6d0\uc774 \uc644\uc804\ud788 \ub3c5\ub9bd\uc801\uc774\ub77c\uba74 \uacf5\ubd84\uc0b0\uc740 0\uc774 \ub420 \uac83\uc774\ub2e4. \ub450 \ubcc0\uc218\uc758 \uacf5\ubd84\uc0b0\uc740 \ub2e4\uc74c\uacfc \uac19\uc774 \uacc4\uc0b0\ub41c\ub2e4.\n",
      "\ufffc$$cov(d_{i},d_{j}) = E[(d_{i}-\\mu_{i})(d_{j}-\\mu_{j})] \\qquad(19-2)$$\n",
      "\uc774\ub54c $\\mu$<sub>i</sub>\ub294 i\ubc88\uc9f8 \ubcc0\uc218\uc758 \ud3c9\uade0\uc774\ub2e4.\n",
      "\n",
      "Code 19-3\uc740 \ub370\uc774\ud130 \ubca1\ud130\uc758 \uc0dd\uc131\uacfc \uacf5\ubd84\uc0b0 \ud589\ub82c\uc758 \uacc4\uc0b0 \uacfc\uc815\uc774\ub2e4."
     ]
    },
    {
     "cell_type": "code",
     "collapsed": false,
     "input": [
      "#Code 19-3\n",
      "random.seed(1132)\n",
      "data = random.ranf((5,10))\n",
      "data"
     ],
     "language": "python",
     "metadata": {},
     "outputs": [
      {
       "metadata": {},
       "output_type": "pyout",
       "prompt_number": 10,
       "text": [
        "array([[  8.897e-01,   1.026e-01,   1.215e-01,   2.837e-01,   7.226e-01,\n",
        "          4.828e-02,   8.594e-01,   8.750e-01,   8.125e-02,   8.792e-01],\n",
        "       [  2.048e-01,   9.624e-01,   9.094e-01,   7.485e-01,   7.369e-01,\n",
        "          1.856e-01,   3.881e-02,   7.654e-01,   7.193e-01,   4.877e-01],\n",
        "       [  6.046e-05,   9.013e-01,   1.025e-01,   3.207e-01,   8.517e-01,\n",
        "          5.752e-01,   4.865e-01,   3.272e-01,   7.711e-01,   9.677e-01],\n",
        "       [  2.442e-01,   7.275e-01,   8.646e-01,   5.113e-03,   5.974e-01,\n",
        "          4.902e-01,   7.286e-01,   1.442e-01,   7.392e-02,   3.080e-01],\n",
        "       [  6.728e-01,   2.189e-01,   7.124e-01,   8.397e-02,   7.044e-01,\n",
        "          1.362e-01,   7.365e-01,   4.982e-01,   3.979e-01,   5.236e-01]])"
       ]
      }
     ],
     "prompt_number": 10
    },
    {
     "cell_type": "code",
     "collapsed": false,
     "input": [
      "#Code 19-3\n",
      "data -= data.mean(0) #.mean(0):  \uceec\ub7fc\ubcc4\ub85c \ud3c9\uade0\uc744 \uad6c\ud574\uc900\ub2e4\n",
      "data"
     ],
     "language": "python",
     "metadata": {},
     "outputs": [
      {
       "metadata": {},
       "output_type": "pyout",
       "prompt_number": 11,
       "text": [
        "array([[  4.874e-01,  -4.799e-01,  -4.206e-01,  -4.718e-03,  -3.912e-05,\n",
        "         -2.388e-01,   2.894e-01,   3.530e-01,  -3.275e-01,   2.460e-01],\n",
        "       [ -1.976e-01,   3.798e-01,   3.673e-01,   4.601e-01,   1.431e-02,\n",
        "         -1.015e-01,  -5.311e-01,   2.434e-01,   3.106e-01,  -1.455e-01],\n",
        "       [ -4.022e-01,   3.187e-01,  -4.396e-01,   3.232e-02,   1.291e-01,\n",
        "          2.881e-01,  -8.346e-02,  -1.948e-01,   3.624e-01,   3.344e-01],\n",
        "       [ -1.581e-01,   1.450e-01,   3.225e-01,  -2.833e-01,  -1.252e-01,\n",
        "          2.031e-01,   1.586e-01,  -3.779e-01,  -3.348e-01,  -3.253e-01],\n",
        "       [  2.705e-01,  -3.637e-01,   1.703e-01,  -2.044e-01,  -1.823e-02,\n",
        "         -1.509e-01,   1.665e-01,  -2.383e-02,  -1.078e-02,  -1.096e-01]])"
       ]
      }
     ],
     "prompt_number": 11
    },
    {
     "cell_type": "code",
     "collapsed": false,
     "input": [
      "#Code 19-3\n",
      "cv = dot(data.transpose(), data)\n",
      "cv"
     ],
     "language": "python",
     "metadata": {},
     "outputs": [
      {
       "metadata": {},
       "output_type": "pyout",
       "prompt_number": 12,
       "text": [
        "array([[ 0.537, -0.558, -0.106, -0.117, -0.04 , -0.285,  0.3  ,  0.256,\n",
        "        -0.317,  0.036],\n",
        "       [-0.558,  0.629,  0.186,  0.221,  0.035,  0.252, -0.405, -0.185,\n",
        "         0.346, -0.074],\n",
        "       [-0.106,  0.186,  0.638,  0.031, -0.095, -0.024, -0.201, -0.099,\n",
        "        -0.017, -0.427],\n",
        "       [-0.117,  0.221,  0.031,  0.335,  0.05 , -0.063, -0.327,  0.216,\n",
        "         0.253,  0.057],\n",
        "       [-0.04 ,  0.035, -0.095,  0.05 ,  0.033,  0.013, -0.041,  0.026,\n",
        "         0.093,  0.084],\n",
        "       [-0.285,  0.252, -0.024, -0.063,  0.013,  0.214, -0.032, -0.238,\n",
        "         0.085,  0.003],\n",
        "       [ 0.3  , -0.405, -0.201, -0.327, -0.041, -0.032,  0.426, -0.075,\n",
        "        -0.345,  0.051],\n",
        "       [ 0.256, -0.185, -0.099,  0.216,  0.026, -0.238, -0.075,  0.365,\n",
        "         0.016,  0.112],\n",
        "       [-0.317,  0.346, -0.017,  0.253,  0.093,  0.085, -0.345,  0.016,\n",
        "         0.447,  0.106],\n",
        "       [ 0.036, -0.074, -0.427,  0.057,  0.084,  0.003,  0.051,  0.112,\n",
        "         0.106,  0.311]])"
       ]
      }
     ],
     "prompt_number": 12
    },
    {
     "cell_type": "markdown",
     "metadata": {},
     "source": [
      "The covariance matrix is square and symmetric. Code 19-3 shows that the transpose function is used to orient the data vector as columns. A quick check to ensure that the correct computation is made is that the dimensions of the covariance matrix should be N X N, where N is the dimension of the vectors. Thus the covmat is 10 X 10 in this case.\n",
      "The second step is to compute the eigenvectors and eigenvalues of the covariance matrix, as shown in Code 19-4. This computation produced eigenvectors and eigenvalues with imaginary components. The imaginary parts of the numbers were on the order of 1e-18, which is 0. Because the data type is still complex, only the real part of the eigenvalues and vectors are used. As shown here, there are four eigenvalues that are not 0. Values in the range of e-16 are 0 except for computer bit error."
     ]
    },
    {
     "cell_type": "markdown",
     "metadata": {},
     "source": [
      "\uacf5\ubd84\uc0b0 \ud589\ub82c\uc740 \ub300\uce6d\uc801\uc778 \uc0ac\uac01\ud615\uc774\ub2e4. Code 19-3\uc740 transpose function\uc774 \uceec\ub7fc\ucc98\ub7fc \ub370\uc774\ud130 \ubca1\ud130\ub97c orient \ub418\uac8c \uc0ac\uc6a9\ub41c \uac83\uc744 \ubcf4\uc5ec\uc900\ub2e4. \ubca1\ud130\uc758 \ucc28\uc6d0\uc774 N \uc77c\ub54c \uacf5\ubd84\uc0b0 \ud589\ub82c\uc740 N X N \ucc28\uc6d0\uc774\ub2e4. \ub530\ub77c\uc11c covmat\uc740 \uc774 \uacbd\uc6b0 10 X 10 \uc774\ub2e4.\n",
      "\ub450\ubc88\uc9f8 \ub2e8\uacc4\ub294 Code 19-4\uc5d0\uc11c \ubcf4\ub294\ubc14\uc640 \uac19\uc774 \uacf5\ubd84\uc0b0 \ud589\ub82c\uc758 eigenvectors\uc640 eigenvalue\ub97c \uacc4\uc0b0\ud55c\ub2e4. \uc774 \uacc4\uc0b0\uc740 \uac00\uc0c1 \uc694\uc18c\uc640 \ud568\uaed8 eigenvectors\uc640 eigenvalues\ub97c \uc0dd\uc131\ud55c\ub2e4. \uc22b\uc790\uc758 \uac00\uc0c1 \ubd80\ubd84\uc740 1e-18\uc774\uba70, \uadf8\uac83\uc740 0\uacfc \uac19\ub2e4. \ub370\uc774\ud130 \ud0c0\uc785\uc740 \uc5ec\uc804\ud788 \ubcf5\uc7a1\ud558\uba70, \ub2e8\uc9c0 eigenvalue\uc640 vector\uc758 \uc815\uc218 \ubd80\ubd84\ub9cc \uc0ac\uc6a9\ub41c\ub2e4. \uc5ec\uae30\uc11c \ubcf4\ub294 \ubc14\uc640 \uac19\uc774, 0\uc774 \uc544\ub2cc 4\uac1c\uc758 eigenvalue\uac00 \uc788\ub2e4. e-16\uc758 \ubc94\uc704\uc5d0 \uc788\ub294 \uac12\uc740 \uc5d0\ub7ec\uac00 \uc5c6\ub2e4\uba74 0\uc774\ub2e4."
     ]
    },
    {
     "cell_type": "code",
     "collapsed": false,
     "input": [
      "#Code 19-4\n",
      "evl, evc = linalg.eig(cv)\n",
      "evl.real"
     ],
     "language": "python",
     "metadata": {},
     "outputs": [
      {
       "metadata": {},
       "output_type": "pyout",
       "prompt_number": 13,
       "text": [
        "array([  1.950e+00,   8.318e-01,   1.029e+00,   1.247e-01,  -9.168e-17,\n",
        "        -1.216e-16,  -6.193e-17,   7.960e-17,   2.442e-17,   3.435e-17])"
       ]
      }
     ],
     "prompt_number": 13
    },
    {
     "cell_type": "markdown",
     "metadata": {},
     "source": [
      "  These four eigenvalues indicate which of the eigenvectors are important. As indicated in Step 3, the other dimensions can be eliminated from further consideration. Consequently, the new space after rotation is only R<sup>4</sup> instead of the original R<sup>10</sup>.\n",
      "  Step 4 requires that the data points be converted into the new space. The location of the data points are computed by projecting them onto the new coordinates, which is the dot product of the data points with the new axes. The first example uses all ten dimensions in the new space to demonstrate that the data points can be converted to the new space and back to the old space. The coefficients <i>cffs</i> in Code 19-5 represent the data points in the new space. Each row in <i>cffs</i> is a vector that locates the data point with respect to the new axes as defined by the eigenvectors. The next two lines convert one of the data points from the new space back to the old space. In this case the conversion is performed for the first data vector (since there is a 0 as the first index for <i>cffs</i>). The vector z should be the same as the original data vector <i>data[0]</i>.The final print shows that this is the case and that the data points have been projected into the new space and then back to the original space without error."
     ]
    },
    {
     "cell_type": "markdown",
     "metadata": {},
     "source": [
      " 4\uac1c\uc758 eigenvalue\ub294 \uc5b4\ub5a4 eigenvector\uac00 \uc911\uc694\ud55c\uc9c0 \ub098\ud0c0\ub0b8\ub2e4. Step 3\uc5d0\uc11c, \ub2e4\ub978 \ucc28\uc6d0\uc740 \uace0\ub824\ud574\uc11c \uc81c\uac70\ub420 \uc218 \uc788\ub2e4. \uacb0\uacfc\uc801\uc73c\ub85c, \uc6d0\ub798\uc758 R<sup>10</sup> \uacf5\uac04\uc740 \ud68c\uc804 \ud6c4\uc5d0 \uc0c8\ub85c\uc6b4 R<sup>4</sup> \uacf5\uac04\uc774 \ub41c\ub2e4.\n",
      " Step 4\ub294 \ub370\uc774\ud130 \uacf5\uac04\uc774 \uc0c8 \uacf5\uac04\uc73c\ub85c \uc804\ud658\ub418\ub294 \ub370\uc774\ud130 \uc810\uc744 \ud544\uc694\ub85c \ud55c\ub2e4. \ub370\uc774\ud130 \uc810\uc758 \uc704\uce58\ub294 \uc0c8\ub85c\uc6b4 \uacf5\uac04\uc73c\ub85c \ud22c\uc0ac\ud568\uc73c\ub85c\uc368 \uacc4\uc0b0\ub418\uace0, \uc774\uac83\uc740 \uc0c8\ub85c\uc6b4 \ucd95\uacfc \ub370\uc774\ud130 \uc810\uc758 dot product\uc774\ub2e4.\n",
      " \uccab\ubc88\uc9f8 \uc608\ub294 \ub370\uc774\ud130 \uc810\uc774 \uc0c8\ub85c\uc6b4 \uacf5\uac04\uc5d0\uc11c \uc6d0\ub798\uc758 \uacf5\uac04\uc73c\ub85c \ub3cc\uc544\uac00 \ubaa8\ub4e0 10\ucc28\uc6d0\uc744 \uc0ac\uc6a9\ud55c\ub2e4. Code 19-5\uc5d0\uc11c <i>cffs</i> \ubcc0\uc218\ub294 \uc0c8\ub85c\uc6b4 \uacf5\uac04\uc5d0\uc11c \ub370\uc774\ud130 \uc810\uc744 \ub300\ubcc0\ud55c\ub2e4. <i>cffs</i>\uc5d0\uc11c \uac01 \uc5f4\uc740 eigenvector\uc5d0 \uc758\ud574 \uc815\uc758\ub41c \uc0c8\ucd95\uacfc \uad00\ub828\ub41c \ub370\uc774\ud130 \uc810\uc5d0 \uc704\uce58\ud558\ub294 \ubca1\ud130\uc774\ub2e4. \ub2e4\uc74c \ub450 \uc904\uc740 \uc0c8\ub85c\uc6b4 \uacf5\uac04\uc5d0\uc11c \uc6d0\ub798\uc758 \uacf5\uac04\uc73c\ub85c \ub370\uc774\ud130 \uc810\uc774 \ubcc0\ud658\ub418\ub294 \ucf54\ub4dc\uc774\ub2e4. \uc774 \uacbd\uc6b0 \ucc98\uc74c \ub370\uc774\ud130 \ubca1\ud130\ub97c \uc704\ud574 \ubcc0\ud658\uc774 \uc218\ud589\ub41c\ub2e4 (<i>cffs</i>\ub97c \uc704\ud55c \ucc98\uc74c \uc778\ub371\uc2a4\ub85c\uc11c 0\uc774 \uc788\uae30 \ub54c\ubb38\uc5d0). \ubca1\ud130 z\ub294 \uc6d0\ub798\uc758 \ub370\uc774\ud130 \ubca1\ud130 <i>data[0]</i>\uc640 \uac19\uc544\uc57c \ud55c\ub2e4. \ub9c8\uc9c0\ub9c9 print\ub294 \uc0c8\ub85c\uc6b4 \uacf5\uac04\uc73c\ub85c \ud22c\uc601\ub418\ub294 \uacbd\uc6b0\uc640 \ub370\uc774\ud130 \uc810\uc744 \ubcf4\uc5ec\uc8fc\uace0, \uc5d0\ub7ec \uc5c6\uc774 \uc6d0\ub798\uc758 \uacf5\uac04\uc73c\ub85c \ub3cc\uc544\uac00\ub294 \uac83\uc744 \ubcf4\uc5ec\uc900\ub2e4."
     ]
    },
    {
     "cell_type": "code",
     "collapsed": false,
     "input": [
      "#Code 19-5\n",
      "cffs = zeros((5,10), float)\n",
      "#print cffs\n",
      "for i in range(5):\n",
      "    for j in range(10):\n",
      "        cffs[i,j] = dot(data[i], evc[:,j].real)\n",
      "        print cffs[i,j]"
     ],
     "language": "python",
     "metadata": {},
     "outputs": [
      {
       "output_type": "stream",
       "stream": "stdout",
       "text": [
        "-0.943143576101\n",
        "0.0997422707381\n",
        "-0.394867375313\n",
        "-0.14998556614\n",
        "-5.55111512313e-17\n",
        "2.22044604925e-16\n",
        "2.77555756156e-17\n",
        "2.22044604925e-16\n",
        "5.55111512313e-17\n",
        "-1.04083408559e-16\n",
        "0.774423311609\n",
        "0.619982410648\n",
        "-0.114655511575\n",
        "-0.0467912541177\n",
        "1.38777878078e-16\n",
        "-2.91433543964e-16\n",
        "-1.04083408559e-16\n",
        "0.0\n",
        "-2.49800180541e-16\n",
        "-3.40005801291e-16\n",
        "0.515124186907\n",
        "-0.587546891339\n",
        "-0.481595086966\n",
        "0.0541904422028\n",
        "1.11022302463e-16\n",
        "-8.32667268469e-17\n",
        "-5.55111512313e-17\n",
        "-2.08166817117e-16\n",
        "-5.55111512313e-17\n",
        "-8.32667268469e-17\n",
        "0.0868300379073\n",
        "-0.270470255464\n",
        "0.757296248964\n",
        "-0.137220095436\n",
        "-5.55111512313e-17\n",
        "0.0\n",
        "-1.11022302463e-16\n",
        "-1.17961196366e-16\n",
        "-9.71445146547e-17\n",
        "-2.08166817117e-16\n",
        "-0.433233960321\n",
        "0.138292465417\n",
        "0.23382172489\n",
        "0.279806473492\n",
        "-1.38777878078e-16\n",
        "1.11022302463e-16\n",
        "1.11022302463e-16\n",
        "1.2490009027e-16\n",
        "1.38777878078e-17\n",
        "8.32667268469e-17\n"
       ]
      }
     ],
     "prompt_number": 14
    },
    {
     "cell_type": "code",
     "collapsed": false,
     "input": [
      "#Code 19-5\n",
      "z = zeros(10, float)\n",
      "for i in range(10):\n",
      "    z += cffs[0,i] * evc[:,-i].real\n",
      "z #\ucc45\uc5d0\ub294 z\uc640 data[0] \uac12\uc774 \ub3d9\uc77c\ud568"
     ],
     "language": "python",
     "metadata": {},
     "outputs": [
      {
       "metadata": {},
       "output_type": "pyout",
       "prompt_number": 15,
       "text": [
        "array([ 0.389, -0.696, -0.154, -0.156, -0.292,  0.031,  0.354,  0.205,\n",
        "       -0.313,  0.125])"
       ]
      }
     ],
     "prompt_number": 15
    },
    {
     "cell_type": "code",
     "collapsed": false,
     "input": [
      "data[0]"
     ],
     "language": "python",
     "metadata": {},
     "outputs": [
      {
       "metadata": {},
       "output_type": "pyout",
       "prompt_number": 16,
       "text": [
        "array([  4.874e-01,  -4.799e-01,  -4.206e-01,  -4.718e-03,  -3.912e-05,\n",
        "        -2.388e-01,   2.894e-01,   3.530e-01,  -3.275e-01,   2.460e-01])"
       ]
      }
     ],
     "prompt_number": 16
    },
    {
     "cell_type": "markdown",
     "metadata": {},
     "source": [
      "The PCA eliminates those eigenvectors that have small eigenvalues, so the PCA would reduce the space to R<sup>4</sup> In this example, that is accomplished by keeping only the first four eigenvectors . Code 1 9-6 shows the conversion to the new PCA space and the example of converting the first data vector back to the original space. The replication occurs again without error. This means that the data points in R<sup>10</sup> space were converted to the new R<sup>4</sup> space and then converted back again without error. Even though the data was originally in R<sup>10</sup>, there is actually only R<sup>4</sup> information contained therein. The dimensionality reduction was accomplished."
     ]
    },
    {
     "cell_type": "markdown",
     "metadata": {},
     "source": [
      "PCA\ub294 R<sup>4</sup> \uacf5\uac04\uc73c\ub85c \uc904\uc774\uae30 \uc704\ud574 \ucc98\uc74c 4\uac1c\uc758 eigenvector\ub97c \uc720\uc9c0\ud55c \ucc44 \uc791\uc740 eigenvalue\ub97c \uac16\ub294 eigenvector\ub97c \uc81c\uac70\ud55c\ub2e4. Code 19-6\uc740 \uc0c8\ub85c\uc6b4 PCA \uacf5\uac04\uc73c\ub85c \ubcc0\ud658\ub418\uace0 \ucc98\uc74c \ub370\uc774\ud130 \ubca1\ud130\ub97c \uc6d0\ub798\uc758 \uacf5\uac04\uc73c\ub85c \ubcc0\ud658\ud558\ub294 \uc608\ub97c \ubcf4\uc5ec\uc900\ub2e4. replication\uc740 \uc624\ub958 \uc5c6\uc774 \uc77c\uc5b4\ub09c\ub2e4. \uc989, R<sup>10</sup> \uacf5\uac04\uc740 \uc0c8\ub85c\uc6b4  R<sup>4</sup> \uacf5\uac04\uc73c\ub85c \ubcc0\ud658\ub418\uace0 \ub2e4\uc2dc \uc5d0\ub7ec \uc5c6\uc774 \ub418\ub3cc\ub824\uc9c4\ub2e4. \ub370\uc774\ud130\uac00 \uc6d0\ub798 R<sup>10</sup>\uc5d0 \uc788\uc74c\uc5d0\ub3c4 \ubd88\uad6c\ud558\uace0, \ub2e8\uc9c0 R<sup>4</sup> \uc815\ubcf4\uac00 \uac70\uae30 \ud3ec\ud568\ub418\ub294 \ucc28\uc6d0 \ucd95\uc18c\uac00 \uc218\ud589\ub418\uc5c8\ub2e4."
     ]
    },
    {
     "cell_type": "code",
     "collapsed": false,
     "input": [
      "#Code 19-6\n",
      "cffs = zeros((5,4), float)\n",
      "for i in range(5):\n",
      "    for j in range(4):\n",
      "        cffs[i,j] = dot(data[i], evc[:,j].real)\n",
      "\n",
      "z = zeros(10, float)\n",
      "for i in range(4):\n",
      "    z += cffs[0,1] * evc[:,i].real\n",
      "    \n",
      "z"
     ],
     "language": "python",
     "metadata": {},
     "outputs": [
      {
       "metadata": {},
       "output_type": "pyout",
       "prompt_number": 17,
       "text": [
        "array([-0.013,  0.006,  0.147, -0.002, -0.002, -0.023, -0.057, -0.025,\n",
        "        0.086, -0.079])"
       ]
      }
     ],
     "prompt_number": 17
    },
    {
     "cell_type": "heading",
     "level": 4,
     "metadata": {},
     "source": [
      "19.3.2 Case 2: Linear Combinations in the Data"
     ]
    },
    {
     "cell_type": "markdown",
     "metadata": {},
     "source": [
      "In this case the number of dimensions and number of vectors are the same, but one of the vectors is a linear combination of the others. When this occurs, the dimensions can be reduced. The data in Figure 19-1 illustrates such a case, where all data points are merely one of the data points multiplied by a scalar. Code 19-7 sets up the problem forcing data[4] to be a linear combination of three other vectors. The covariance matrix is computed and the eigenvectors extracted. When the eigenvalues are printed, note that evl[3] is 0 and therefore eve[:, 3] is removed from further consideration."
     ]
    },
    {
     "cell_type": "markdown",
     "metadata": {},
     "source": [
      "\uc774 \uacbd\uc6b0 \ucc28\uc6d0\uc758 \uc218\uc640 \ubca1\ud130 \uc218\ub294 \ub3d9\uc77c\ud558\uc9c0\ub9cc, \ud558\ub098\uc758 \ubca1\ud130\ub294 \ub2e4\ub978 \uac83\ub4e4\uacfc \uc120\ud615 \uc870\ud569\uc774\ub2e4. \uc774 \uacbd\uc6b0\uc5d0 \ucc28\uc6d0\uc740 \ucd95\uc18c\ub420 \uc218 \uc788\ub2e4. Figure 19-1\uc5d0\uc11c \ubaa8\ub4e0 \ub370\uc774\ud130 \uc810\uc774 \uc2a4\uce7c\ub77c\uc5d0 \uc758\ud574 \uacf1\ud574\uc9c0\ub294 \ub370\uc774\ud130 \uc810 \uc911 \ud558\ub098 \uc778 \uacf3\uc5d0\uc11c \ub370\uc774\ud130\ub294 \uadf8\ub7ec\ud55c \uacbd\uc6b0\ub97c \ub098\ud0c0\ub0b8\ub2e4. Code 19-7\uc740 3\uac1c\uc758 \ub2e4\ub978 \ubca1\ud130\uc640 \uc120\ud615 \uc870\ud569\uc778 data[4]\ub97c \uac15\uc81c\ud558\ub294 \ubb38\uc81c\ub97c \uc124\uc815\ud55c\ub2e4. \uacf5\ubd84\uc0b0 \ub9e4\ud2b8\ub9ad\uc2a4\ub294 \uacc4\uc0b0\ub418\uace0 eigenvector\uac00 \ucd94\ucd9c\ub41c\ub2e4. \ubaa8\ub4e0 eigenvalue\uac00 print \ub420\ub54c, evl[3]\uc740 0\uc774\uace0, \ub530\ub77c\uc11c eve[:, 3]\uc740 \uc81c\uac70\ub418\ub294 \uac83\uc744 \uc8fc\uc2dc\ud558\uc790."
     ]
    },
    {
     "cell_type": "code",
     "collapsed": false,
     "input": [
      "#Code 19-7\n",
      "data = random.ranf((5,5))\n",
      "data[4] = data[0] + 0.3*data[1] - 0.7*data[2]\n",
      "cv = dot(data.transpose(), data)\n",
      "cv"
     ],
     "language": "python",
     "metadata": {},
     "outputs": [
      {
       "metadata": {},
       "output_type": "pyout",
       "prompt_number": 18,
       "text": [
        "array([[ 2.343,  1.013,  1.895,  2.163,  1.723],\n",
        "       [ 1.013,  0.928,  0.8  ,  1.072,  1.084],\n",
        "       [ 1.895,  0.8  ,  1.672,  1.919,  1.555],\n",
        "       [ 2.163,  1.072,  1.919,  2.276,  1.97 ],\n",
        "       [ 1.723,  1.084,  1.555,  1.97 ,  1.937]])"
       ]
      }
     ],
     "prompt_number": 18
    },
    {
     "cell_type": "code",
     "collapsed": false,
     "input": [
      "#Code 19-7\n",
      "evl, evc = linalg.eig(cv)\n",
      "evl"
     ],
     "language": "python",
     "metadata": {},
     "outputs": [
      {
       "metadata": {},
       "output_type": "pyout",
       "prompt_number": 19,
       "text": [
        "array([  8.251e+00,   5.822e-01,   2.724e-01,   4.904e-02,   4.448e-17])"
       ]
      }
     ],
     "prompt_number": 19
    },
    {
     "cell_type": "markdown",
     "metadata": {},
     "source": [
      "Code 19-8 converts the data points to the new space and then converts the first data point back to the original space. This conversion is performed without error."
     ]
    },
    {
     "cell_type": "markdown",
     "metadata": {},
     "source": [
      "Code 19-8\uc740 \ub370\uc774\ud130 \uc810\uc744 \uc0c8 \uacf5\uac04\uc73c\ub85c \ubcc0\uacbd\ud558\uace0 \ucc98\uc74c \ub370\uc774\ud130 \uc810\uc744 \uc6d0\ub798\uc758 \uacf5\uac04\uc73c\ub85c \ubcc0\ud658\ud55c\ub2e4. \uc774\ub7ec\ud55c \ubcc0\ud658\uc740 \uc624\ub958 \uc5c6\uc774 \uc2dc\ud589\ub41c\ub2e4."
     ]
    },
    {
     "cell_type": "code",
     "collapsed": false,
     "input": [
      "#Code 19-8\n",
      "data = random.ranf((5,5))\n",
      "data[4] = data[0] + 0.3*data[1] - 0.7*data[2]\n",
      "cv = dot(data.transpose(), data)\n",
      "evl, evc = linalg.eig(cv)"
     ],
     "language": "python",
     "metadata": {},
     "outputs": [],
     "prompt_number": 20
    },
    {
     "cell_type": "code",
     "collapsed": false,
     "input": [
      "#Code 19-8\n",
      "pca = zeros((5,4), float)\n",
      "pca[:,:3] = evc[:,:3] + 0\n",
      "pca[:,3] = evc[:,4] + 0\n",
      "cffs = zeros((5,4), float)\n",
      "for i in range(5):\n",
      "    for j in range(4):\n",
      "        cffs[i,j] = dot(data[i], pca[:,j].real)\n",
      "z = zeros(5, float)\n",
      "for i in range(4):\n",
      "    z += cffs[0,i] * pca[:,i].real\n",
      "z"
     ],
     "language": "python",
     "metadata": {},
     "outputs": [
      {
       "metadata": {},
       "output_type": "pyout",
       "prompt_number": 21,
       "text": [
        "array([ 0.523,  0.479,  0.015,  0.703,  0.145])"
       ]
      }
     ],
     "prompt_number": 21
    },
    {
     "cell_type": "code",
     "collapsed": false,
     "input": [
      "data[0]"
     ],
     "language": "python",
     "metadata": {},
     "outputs": [
      {
       "metadata": {},
       "output_type": "pyout",
       "prompt_number": 22,
       "text": [
        "array([ 0.523,  0.479,  0.015,  0.703,  0.145])"
       ]
      }
     ],
     "prompt_number": 22
    },
    {
     "cell_type": "heading",
     "level": 4,
     "metadata": {},
     "source": [
      "19.3.3 Case 3: Imperfect Dimensionality Reductions"
     ]
    },
    {
     "cell_type": "markdown",
     "metadata": {},
     "source": [
      "Because errorless reduction is rarely possible, a key question must be asked: Is this error devastating? Usually, the answer is that it is not. A majority of the data is contained in the principal coordinates (those with the larger eigenvalues). In many applications the data is converted to PCA space and is then organized in a manner that makes it easy to analyze. Unless the analysis requires fine precision, the small errors do not interfere with the analysis.\n",
      "Very often a problem can be reduced in dimension but not perfectly so. The data contains linear combinations with deviations due to errors or noise. In Code 19-9 the data from Code 19-8 has a little noise added to it. The same process is run, and the differences are noticeable. To begin with, there are no eigenvalues that are 0 , but there is one that is much smaller than the others and is thus removed. The reproduction of the data in this case is not exact."
     ]
    },
    {
     "cell_type": "markdown",
     "metadata": {},
     "source": [
      "\uc624\ub958 \uc5c6\ub294 \ucd95\uc18c\ub294 \uac70\uc758 \ubd88\uac00\ub2a5\ud558\uae30 \ub54c\ubb38\uc5d0, \ub2e4\uc74c\uacfc \uac19\uc740 \uc9c8\ubb38\uc774 \uc8fc\uc5b4\uc838\uc57c \ud55c\ub2e4. \uc774 \uc624\ub958\ub294 \uacb0\uc815\uc801\uc778\uac00? \ubcf4\ud1b5, \ub2f5\uc740 \uadf8\ub807\uc9c0 \uc54a\ub2e4. \ub300\ubd80\ubd84\uc758 \ub370\uc774\ud130\ub294 \ud070 eigenvalue\ub97c \uac00\uc9c4 \uc8fc\uc88c\ud45c\uc5d0 \ud3ec\ud568\ub418\uc5b4 \uc788\ub2e4. \ub9ce\uc740 \uc751\uc6a9\uc5d0\uc11c \ub370\uc774\ud130\ub294 PCA \uacf5\uac04\uc73c\ub85c \ubcc0\ud658\ub418\uace0 \ubd84\uc11d\ud558\uae30 \uc27d\ub3c4\ub85d \ud558\ub294 \ubc29\ubc95\uc73c\ub85c \uc870\uc9c1\ub418\uc5b4 \uc788\ub2e4. \ubd84\uc11d\uc774 \uc815\ud655\uc131\uc744 \uc694\uad6c\ud558\uae30 \ub54c\ubb38\uc5d0 \uc791\uc740 \uc624\ub958\ub294 \ubd84\uc11d\uc744 \ubc29\ud574\ud558\uc9c0 \uc54a\uc744 \uac83\uc774\ub2e4.\n",
      "\uc885\uc885 \ubb38\uc81c\ub294 \ucc28\uc6d0 \ucd95\uc18c\ub294 \ub418\uc9c0\ub9cc \uc644\ubcbd\ud558\uac8c \ub418\uc9c0\ub294 \uc54a\ub294\ub2e4. \ub370\uc774\ud130\ub294 \uc624\ub958\ub098 \uc7a1\uc74c\uacfc \ud568\uaed8 \uc120\ud615 \uc870\ud569\uc744 \uac00\uc9c4\ub2e4. Code 19-9\uc5d0\uc11c Code 19-8\uc758 \ub370\uc774\ud130\uc5d0 \uc791\uc740 \uc7a1\uc74c\uc744 \ucd94\uac00\ud588\ub2e4. \uac19\uc740 \uacfc\uc815\uc774 \uc218\ud589\ub418\uc5c8\uace0, \ucc28\uc774\ub294 \uba85\ubc31\ud558\ub2e4. \uc6b0\uc120 0\uc778 eigenvalue\ub294 \uc5c6\uc9c0\ub9cc, \ub2e4\ub978 \uac12\ubcf4\ub2e4 \ud6e8\uc52c \uc791\uc740 \uac12\uc774\ub77c\uc11c \uc81c\uac70\ud560 \uc218 \uc788\ub2e4. \uc774 \uacbd\uc6b0 \ub370\uc774\ud130\uc758 \uc7ac\uc0dd\uc0b0\uc740 \uc815\ud655\ud558\uc9c0 \uc54a\ub2e4."
     ]
    },
    {
     "cell_type": "code",
     "collapsed": false,
     "input": [
      "#Code 19-9\ufffc\n",
      "data += (2*random.ranf((5,5))-1)*0.05\n",
      "cv = dot(transpose(data), data)\n",
      "ev1, evc = linalg.eig(cv)\n",
      "evl"
     ],
     "language": "python",
     "metadata": {},
     "outputs": [
      {
       "metadata": {},
       "output_type": "pyout",
       "prompt_number": 23,
       "text": [
        "array([  5.981e+00,   1.193e+00,   4.371e-01,  -1.001e-16,   4.306e-02])"
       ]
      }
     ],
     "prompt_number": 23
    },
    {
     "cell_type": "heading",
     "level": 4,
     "metadata": {},
     "source": [
      "19.3.4 Coordinate Selection"
     ]
    },
    {
     "cell_type": "markdown",
     "metadata": {},
     "source": [
      "The reduction of dimensions often incurs a n error since the eigenvalues are not usually 0. In this case a data set is generated that does have some linear dependencies but not completely so and a decision must be made to select which vectors will define the coordinates of the new space. Code 19-10 creates this data set and then computes the eigenvalues. The eigenvalues are sorted and plotted from the largest to the smallest, as shown in Figure 19-3. This plot behaves in a traditional manner in which a few of the eigenvalues are large and the rest are small. The user must decide which eigenvalues are significant and which are trivial. In this case there is justification for keeping just three of the eigenvectors."
     ]
    },
    {
     "cell_type": "markdown",
     "metadata": {},
     "source": [
      "\ucc28\uc6d0 \ucd95\uc18c\ub294 eigenvalue\uac00 \ubcf4\ud1b5 0\uc774 \uc544\ub2c8\uae30 \ub54c\ubb38\uc5d0 \uc885\uc885 n \uc624\ub958\ub97c \ubc1c\uc0dd\ud55c\ub2e4. \uc774 \uacbd\uc6b0 \ub370\uc774\ud130 \uc138\ud2b8\ub294 \uc120\ud615 \uc758\uc874\uc131\uc744 \uac00\uc9c0\uc9c0\ub9cc \uc644\ubcbd\ud558\uc9c0 \uc54a\uace0 \uc5b4\ub5a4 \ubca1\ud130\uac00 \uc0c8\ub85c\uc6b4 \uacf5\uac04\uc758 \uc88c\ud45c\ub97c \uc815\uc758\ud560\uc9c0 \uacb0\uc815\ub418\ub3c4\ub85d \uc0dd\uc131\ub41c\ub2e4. Code 19-10\ub294 \uc774 \ub370\uc774\ud130 \uc138\ud2b8\ub97c \uc0dd\uc131\ud558\uace0 eigenvalue\ub97c \uacc4\uc0b0\ud55c\ub2e4. Figure 19-3\ucc98\ub7fc eigenvalue\ub294 \ud070 \uac12\uc5d0\uc11c \uc791\uc740 \uac12\uc73c\ub85c \uc815\ub82c\ub418\uc5b4 \uadf8\ub824\uc9c4\ub2e4. \uc774 plot\uc740 eigenvalue\uc758 \uc77c\ubd80\ub294 \ud06c\uace0 \ub098\uba38\uc9c0\ub294 \uc791\uac8c \uc804\ud1b5\uc801\uc778 \ubc29\ubc95\ucc98\ub7fc \ud589\ub3d9\ud55c\ub2e4. \uc0ac\uc6a9\uc790\ub294 \uc5b4\ub5a4 eigenvalue\uac00 \uc911\uc694\ud558\uace0 \uadf8\ub807\uc9c0 \uc54a\uc740\uc9c0 \uacb0\uc815\ud574\uc57c \ud55c\ub2e4. \uc774 \uacbd\uc6b0 \ub2e8\uc9c0 3\uac1c\uc758 eigenvalues\ub97c \uc720\uc9c0\ud558\ub3c4\ub85d \uc815\uc758 \ud55c\ub2e4."
     ]
    },
    {
     "cell_type": "code",
     "collapsed": false,
     "input": [
      "#Code19-10\n",
      "from numpy import take\n",
      "ag = evl.argsort()\n",
      "ag"
     ],
     "language": "python",
     "metadata": {},
     "outputs": [
      {
       "metadata": {},
       "output_type": "pyout",
       "prompt_number": 24,
       "text": [
        "array([3, 4, 2, 1, 0])"
       ]
      }
     ],
     "prompt_number": 24
    },
    {
     "cell_type": "code",
     "collapsed": false,
     "input": [
      "#Code19-10\n",
      "data = random.ranf((10,10))\n",
      "data"
     ],
     "language": "python",
     "metadata": {},
     "outputs": [
      {
       "metadata": {},
       "output_type": "pyout",
       "prompt_number": 25,
       "text": [
        "array([[ 0.422,  0.764,  0.019,  0.867,  0.039,  0.53 ,  0.43 ,  0.487,\n",
        "         0.547,  0.826],\n",
        "       [ 0.702,  0.031,  0.238,  0.617,  0.524,  0.597,  0.53 ,  0.941,\n",
        "         0.331,  0.229],\n",
        "       [ 0.773,  0.705,  0.168,  0.989,  0.495,  0.192,  0.101,  0.653,\n",
        "         0.849,  0.435],\n",
        "       [ 0.571,  0.406,  0.644,  0.703,  0.757,  0.843,  0.671,  0.327,\n",
        "         0.876,  0.141],\n",
        "       [ 0.655,  0.87 ,  0.203,  0.689,  0.24 ,  0.65 ,  0.451,  0.652,\n",
        "         0.052,  0.869],\n",
        "       [ 0.642,  0.832,  0.272,  0.91 ,  0.535,  0.796,  0.353,  0.473,\n",
        "         0.724,  0.512],\n",
        "       [ 0.559,  0.897,  0.293,  0.336,  0.251,  0.056,  0.774,  0.329,\n",
        "         0.07 ,  0.23 ],\n",
        "       [ 0.458,  0.592,  0.836,  0.911,  0.374,  0.681,  0.24 ,  0.799,\n",
        "         0.66 ,  0.009],\n",
        "       [ 0.665,  0.411,  0.539,  0.028,  0.694,  0.101,  0.212,  0.56 ,\n",
        "         0.285,  0.215],\n",
        "       [ 0.26 ,  0.473,  0.542,  0.961,  0.248,  0.321,  0.334,  0.044,\n",
        "         0.276,  0.54 ]])"
       ]
      }
     ],
     "prompt_number": 25
    },
    {
     "cell_type": "code",
     "collapsed": false,
     "input": [
      "#Code19-10\n",
      "for i in range(1,9):\n",
      "    data[i] = (data[i]+data[i-1])/2\n",
      "print data"
     ],
     "language": "python",
     "metadata": {},
     "outputs": [
      {
       "output_type": "stream",
       "stream": "stdout",
       "text": [
        "[[ 0.422  0.764  0.019  0.867  0.039  0.53   0.43   0.487  0.547  0.826]\n",
        " [ 0.562  0.398  0.129  0.742  0.282  0.564  0.48   0.714  0.439  0.528]\n",
        " [ 0.668  0.552  0.148  0.865  0.388  0.378  0.291  0.684  0.644  0.481]\n",
        " [ 0.619  0.479  0.396  0.784  0.573  0.61   0.481  0.506  0.76   0.311]\n",
        " [ 0.637  0.675  0.3    0.737  0.406  0.63   0.466  0.579  0.406  0.59 ]\n",
        " [ 0.64   0.753  0.286  0.823  0.471  0.713  0.409  0.526  0.565  0.551]\n",
        " [ 0.599  0.825  0.289  0.58   0.361  0.384  0.591  0.427  0.318  0.391]\n",
        " [ 0.528  0.709  0.562  0.745  0.367  0.533  0.416  0.613  0.489  0.2  ]\n",
        " [ 0.597  0.56   0.551  0.387  0.531  0.317  0.314  0.586  0.387  0.207]\n",
        " [ 0.26   0.473  0.542  0.961  0.248  0.321  0.334  0.044  0.276  0.54 ]]\n"
       ]
      }
     ],
     "prompt_number": 26
    },
    {
     "cell_type": "code",
     "collapsed": false,
     "input": [
      "#Code19-10\n",
      "cv = dot(data.transpose(), data)\n",
      "cv"
     ],
     "language": "python",
     "metadata": {},
     "outputs": [
      {
       "metadata": {},
       "output_type": "pyout",
       "prompt_number": 27,
       "text": [
        "array([[ 3.2  ,  3.448,  1.739,  4.063,  2.14 ,  2.812,  2.349,  3.023,\n",
        "         2.75 ,  2.491],\n",
        "       [ 3.448,  4.018,  1.956,  4.604,  2.231,  3.115,  2.648,  3.198,\n",
        "         2.968,  2.904],\n",
        "       [ 1.739,  1.956,  1.364,  2.327,  1.315,  1.532,  1.319,  1.542,\n",
        "         1.477,  1.245],\n",
        "       [ 4.063,  4.604,  2.327,  5.85 ,  2.641,  3.785,  3.132,  3.773,\n",
        "         3.682,  3.63 ],\n",
        "       [ 2.14 ,  2.231,  1.315,  2.641,  1.554,  1.849,  1.537,  1.96 ,\n",
        "         1.83 ,  1.503],\n",
        "       [ 2.812,  3.115,  1.532,  3.785,  1.849,  2.654,  2.142,  2.658,\n",
        "         2.497,  2.367],\n",
        "       [ 2.349,  2.648,  1.319,  3.132,  1.537,  2.142,  1.848,  2.185,\n",
        "         2.024,  1.958],\n",
        "       [ 3.023,  3.198,  1.542,  3.773,  1.96 ,  2.658,  2.185,  2.987,\n",
        "         2.612,  2.332],\n",
        "       [ 2.75 ,  2.968,  1.477,  3.682,  1.83 ,  2.497,  2.024,  2.612,\n",
        "         2.535,  2.233],\n",
        "       [ 2.491,  2.904,  1.245,  3.63 ,  1.503,  2.367,  1.958,  2.332,\n",
        "         2.233,  2.468]])"
       ]
      }
     ],
     "prompt_number": 27
    },
    {
     "cell_type": "code",
     "collapsed": false,
     "input": [
      "#Code19-10\n",
      "evl, evc = linalg.eig(cv)\n",
      "print evl, evc"
     ],
     "language": "python",
     "metadata": {},
     "outputs": [
      {
       "output_type": "stream",
       "stream": "stdout",
       "text": [
        "[  2.655e+01   7.941e-01   5.079e-01   2.788e-01   1.771e-04   2.354e-02\n",
        "   5.258e-02   7.452e-02   1.049e-01   8.931e-02] [[-0.342 -0.24  -0.238 -0.088 -0.72  -0.239 -0.059  0.423  0.053  0.028]\n",
        " [-0.381  0.035  0.134 -0.687  0.159 -0.155  0.16  -0.137  0.171 -0.491]\n",
        " [-0.191 -0.453  0.647  0.015 -0.2    0.369  0.186 -0.188  0.161  0.26 ]\n",
        " [-0.46   0.353  0.347  0.429  0.09  -0.474 -0.228 -0.071  0.25   0.088]\n",
        " [-0.225 -0.461  0.052  0.155  0.56  -0.115  0.117  0.556 -0.241 -0.045]\n",
        " [-0.311  0.04  -0.1    0.067 -0.104 -0.174  0.377 -0.413 -0.719  0.132]\n",
        " [-0.259 -0.001  0.04  -0.276  0.079  0.27  -0.787 -0.033 -0.359  0.165]\n",
        " [-0.321 -0.217 -0.578 -0.025  0.265  0.074  0.046 -0.295  0.419  0.417]\n",
        " [-0.301 -0.047 -0.195  0.471 -0.081  0.468 -0.061 -0.125  0.021 -0.634]\n",
        " [-0.285  0.59   0.003 -0.095  0.026  0.467  0.322  0.422  0.002  0.247]]\n"
       ]
      }
     ],
     "prompt_number": 28
    },
    {
     "cell_type": "code",
     "collapsed": false,
     "input": [
      "#Code19-10\n",
      "ag = argsort(evl)\n",
      "ag"
     ],
     "language": "python",
     "metadata": {},
     "outputs": [
      {
       "metadata": {},
       "output_type": "pyout",
       "prompt_number": 29,
       "text": [
        "array([4, 5, 6, 7, 9, 8, 3, 2, 1, 0])"
       ]
      }
     ],
     "prompt_number": 29
    },
    {
     "cell_type": "code",
     "collapsed": false,
     "input": [
      "#http://nbviewer.ipython.org/github/biopy/biopy.github.io/blob/master/notebook/Part3/Week1/bio04_tip/tip_akando_gnuplot.ipynb\n",
      "import sys, os\n",
      "import matplotlib.pyplot as plt\n",
      "import matplotlib.image as mpimg\n",
      "\n",
      "sys.path.append(os.path.abspath('./pysrc'))\n",
      "import akando"
     ],
     "language": "python",
     "metadata": {},
     "outputs": [],
     "prompt_number": 30
    },
    {
     "cell_type": "code",
     "collapsed": false,
     "input": [
      "#Code19-10\n",
      "akando.PlotSave('fig3.txt', take(evl,ag[::-1]))"
     ],
     "language": "python",
     "metadata": {},
     "outputs": [],
     "prompt_number": 31
    },
    {
     "cell_type": "markdown",
     "metadata": {},
     "source": [
      "gnuplot\uc744 \ubbf8\ub9ac \uc124\uce58 \ud6c4 (mac\uc5d0\uc120 'brew install gnuplot') \uc258\uc5d0\uc11c \ub2e4\uc74c\uc744 \uc2e4\ud589 <br>\n",
      "$gnuplot <br>\n",
      "gnuplot> plot 'fig3.txt'"
     ]
    },
    {
     "cell_type": "markdown",
     "metadata": {},
     "source": [
      " The list ag represents the indices of the eigenvalues from lowest to highest. Thus, the last three entries in ag indicate which of the eigenvalues are the largest. In this case it is the last three eigenvectors, and these are copied into pea. The data points are moved to the new space and the first data point is converted back to the original space. The values of the original data range between 0 and 1. The last line of code in Code 19-11 measures the average error between the original data vector and the reproduced data vector. Thus there is about a 4% error."
     ]
    },
    {
     "cell_type": "markdown",
     "metadata": {},
     "source": [
      " ag \ub9ac\uc2a4\ud2b8\ub294 \ub0ae\uc740\uac12\uc5d0\uc11c \ub192\uc740 \uac12\uae4c\uc9c0 eigenvalue\ub97c \ub098\ud0c0\ub0b8\ub2e4. \ub530\ub77c\uc11c ag\uc758 \ub9c8\uc9c0\ub9c9 3\uac1c \ud56d\ubaa9\uc740 \uc5b4\ub5a4 eigenvalue\uac00 \uac00\uc7a5 \ud070\uc9c0\ub97c \ub098\ud0c0\ub0b8\ub2e4. \uc774\ub97c pea\uc5d0 \ubcf5\uc0ac\ud574\ubcf4\uc790. \ub370\uc774\ud130 \uc810\uc740 \uc0c8 \uacf5\uac04\uc73c\ub85c \uc774\ub3d9\ud558\uace0 \ucc98\uc74c \ub370\uc774\ud130 \uc810\uc740 \uc6d0\ub798\uc758 \uacf5\uac04\uc73c\ub85c \ubcc0\ud658\ub41c\ub2e4. \uc6d0\ub798\uc758 \ub370\uc774\ud130\uc758 \uac12\uc740 0\uacfc 1 \uc0ac\uc774\uc758 \uac12\uc774\ub2e4. Code 19-11\uc758 \ub9c8\uc9c0\ub9c9 \ub77c\uc778\uc740 \uc6d0\ub798\uc758 \ub370\uc774\ud130 \ubca1\ud130\uc640 \uc7ac\uc0dd\uc0b0\ub41c \ub370\uc774\ud130 \ubca1\ud130 \uc0ac\uc774\uc758 \ud3c9\uade0 \uc5d0\ub7ec\ub97c \uce21\uc815\ud558\uace0 4%\uc758 \uc5d0\ub7ec\ub97c \ubcf4\uc778\ub2e4.\n",
      "<img src=\"bio19_img/fig19-3.png\" />"
     ]
    },
    {
     "cell_type": "code",
     "collapsed": false,
     "input": [
      "#Code19-11\n",
      "ag[-3:]"
     ],
     "language": "python",
     "metadata": {},
     "outputs": [
      {
       "metadata": {},
       "output_type": "pyout",
       "prompt_number": 32,
       "text": [
        "array([2, 1, 0])"
       ]
      }
     ],
     "prompt_number": 32
    },
    {
     "cell_type": "code",
     "collapsed": false,
     "input": [
      "#Code19-11\n",
      "pca = zeros((10,3), float)\n",
      "pca"
     ],
     "language": "python",
     "metadata": {},
     "outputs": [
      {
       "metadata": {},
       "output_type": "pyout",
       "prompt_number": 33,
       "text": [
        "array([[ 0.,  0.,  0.],\n",
        "       [ 0.,  0.,  0.],\n",
        "       [ 0.,  0.,  0.],\n",
        "       [ 0.,  0.,  0.],\n",
        "       [ 0.,  0.,  0.],\n",
        "       [ 0.,  0.,  0.],\n",
        "       [ 0.,  0.,  0.],\n",
        "       [ 0.,  0.,  0.],\n",
        "       [ 0.,  0.,  0.],\n",
        "       [ 0.,  0.,  0.]])"
       ]
      }
     ],
     "prompt_number": 33
    },
    {
     "cell_type": "code",
     "collapsed": false,
     "input": [
      "#Code19-11\n",
      "pca[:,:3] = evc[:,:3] + 0\n",
      "pca"
     ],
     "language": "python",
     "metadata": {},
     "outputs": [
      {
       "metadata": {},
       "output_type": "pyout",
       "prompt_number": 34,
       "text": [
        "array([[-0.342, -0.24 , -0.238],\n",
        "       [-0.381,  0.035,  0.134],\n",
        "       [-0.191, -0.453,  0.647],\n",
        "       [-0.46 ,  0.353,  0.347],\n",
        "       [-0.225, -0.461,  0.052],\n",
        "       [-0.311,  0.04 , -0.1  ],\n",
        "       [-0.259, -0.001,  0.04 ],\n",
        "       [-0.321, -0.217, -0.578],\n",
        "       [-0.301, -0.047, -0.195],\n",
        "       [-0.285,  0.59 ,  0.003]])"
       ]
      }
     ],
     "prompt_number": 34
    },
    {
     "cell_type": "code",
     "collapsed": false,
     "input": [
      "#Code19-11\n",
      "cffs = zeros((10,3), float)\n",
      "for i in range(10):\n",
      "    for j in range(3):\n",
      "        cffs[i,j] = dot(data[i], pca[:,j].real)\n",
      "cffs"
     ],
     "language": "python",
     "metadata": {},
     "outputs": [
      {
       "metadata": {},
       "output_type": "pyout",
       "prompt_number": 35,
       "text": [
        "array([[-1.68 ,  0.582, -0.105],\n",
        "       [-1.585,  0.111, -0.26 ],\n",
        "       [-1.696,  0.039, -0.215],\n",
        "       [-1.754, -0.236, -0.007],\n",
        "       [-1.756,  0.036, -0.048],\n",
        "       [-1.869,  0.03 , -0.025],\n",
        "       [-1.539, -0.069,  0.052],\n",
        "       [-1.658, -0.28 ,  0.124],\n",
        "       [-1.364, -0.492,  0.017],\n",
        "       [-1.308,  0.243,  0.601]])"
       ]
      }
     ],
     "prompt_number": 35
    },
    {
     "cell_type": "code",
     "collapsed": false,
     "input": [
      "#Code19-11\n",
      "z = zeros(10, float)\n",
      "for i in range(3):\n",
      "    z += cffs[0,i] * pca[:,i].real\n",
      "z"
     ],
     "language": "python",
     "metadata": {},
     "outputs": [
      {
       "metadata": {},
       "output_type": "pyout",
       "prompt_number": 36,
       "text": [
        "array([ 0.46 ,  0.646, -0.01 ,  0.942,  0.105,  0.556,  0.43 ,  0.474,\n",
        "        0.499,  0.822])"
       ]
      }
     ],
     "prompt_number": 36
    },
    {
     "cell_type": "code",
     "collapsed": false,
     "input": [
      "#Code19-11\n",
      "abs(z-data[0]).mean()"
     ],
     "language": "python",
     "metadata": {},
     "outputs": [
      {
       "metadata": {},
       "output_type": "pyout",
       "prompt_number": 37,
       "text": [
        "0.042037066322444458"
       ]
      }
     ],
     "prompt_number": 37
    },
    {
     "cell_type": "heading",
     "level": 4,
     "metadata": {},
     "source": [
      "19.4 Using SVD to Compute PCA"
     ]
    },
    {
     "cell_type": "markdown",
     "metadata": {},
     "source": [
      "Singular valued decomposition (SVD) is another method of manipulating a matrix. Given a matrix A, the SVD is\n",
      "$$A = UWV_T.\\quad(19-3)$$\n",
      "The matrix W is diagonal, and the matrices U and V<sup>T</sup> are Hermitian conjugate, which means that the inverse of the matrix is also the conjugate transpose. One of the uses of SVD is that it can easily invert a matrix. The inverse of matrix A may be difficult to compute directly, but when using the SVD method it is simply\n",
      "$$A_{-1} = VW_{-1}U^{T}. \\quad(19-4)$$\n",
      "\ufffc\ufffc\ufffcThis is verified in Code 19-12."
     ]
    },
    {
     "cell_type": "markdown",
     "metadata": {},
     "source": [
      "Singular valued decomposition (SVD)\uc740 \ud589\ub82c\uc744 \ucc98\ub9ac\ud558\ub294 \ub610 \ub2e4\ub978 \ubc29\ubc95\uc774\ub2e4. \uc8fc\uc5b4\uc9c4 A \ud589\ub82c\uc5d0 \ub300\ud574\uc11c, SVD \ub294 \ub2e4\uc74c\uacfc \uac19\ub2e4\n",
      "$$A = UWV_T.\\quad(19-3)$$\n",
      "W \ud589\ub82c\uc740 \ub300\uac01\ud654\ud558\uace0, U\uc640 V<sup>T</sup> \ud589\ub82c\uc740 Hermitian conjugate(\uacf5\uc5ed \uc804\uce58\ud589\ub82c?)\uc774\uba70, \uc5ed\ud589\ub82c\uc740 \ub610\ud55c conjugate transpose\uc784\uc744 \uc758\ubbf8\ud55c\ub2e4. SVD\uc758 \uc6a9\ub3c4 \uc911 \ud558\ub098\ub294 \uc27d\uac8c \ud589\ub82c\uc744 \ub3c4\uce58 \uc2dc\ud0ac \uc218 \uc788\ub2e4\ub294 \uac83\uc774\ub2e4. A \ud589\ub82c\uc758 \uc5ed\ud589\ub82c\uc740 \uc9c1\uc811 \uacc4\uc0b0\ud558\uae30 \uc5b4\ub824\uc6b8 \uc218 \uc788\uc9c0\ub9cc, SVD \ubc29\ubc95\uc744 \uc0ac\uc6a9\ud560\ub54c \ub2e4\uc74c\uacfc \uac19\uc774 \ub2e8\uc21c\ud574\uc9c4\ub2e4\n",
      "$$A_{-1} = VW_{-1}U^{T}. \\quad(19-4)$$\n",
      "\ufffc\ufffc\ufffc\uc774\ub294 Code 19-12\uc5d0\uc11c \uc99d\uba85\ub41c\ub2e4."
     ]
    },
    {
     "cell_type": "markdown",
     "metadata": {},
     "source": [
      "SVD \ucc38\uace0 \uc790\ub8cc: http://en.wikipedia.org/wiki/Singular_value_decomposition"
     ]
    },
    {
     "cell_type": "code",
     "collapsed": false,
     "input": [
      "#Code19-12\n",
      "a = random.ranf((3,3))\n",
      "a"
     ],
     "language": "python",
     "metadata": {},
     "outputs": [
      {
       "metadata": {},
       "output_type": "pyout",
       "prompt_number": 38,
       "text": [
        "array([[ 0.364,  0.577,  0.98 ],\n",
        "       [ 0.964,  0.074,  0.726],\n",
        "       [ 0.064,  0.874,  0.205]])"
       ]
      }
     ],
     "prompt_number": 38
    },
    {
     "cell_type": "code",
     "collapsed": false,
     "input": [
      "#Code19-12\n",
      "u,w,vt = linalg.svd(a)\n",
      "u,w,vt"
     ],
     "language": "python",
     "metadata": {},
     "outputs": [
      {
       "metadata": {},
       "output_type": "pyout",
       "prompt_number": 39,
       "text": [
        "(array([[-0.691,  0.196, -0.696],\n",
        "        [-0.638, -0.617,  0.46 ],\n",
        "        [-0.34 ,  0.762,  0.551]]),\n",
        " array([ 1.675,  0.879,  0.345]),\n",
        " array([[-0.531, -0.443, -0.722],\n",
        "        [-0.54 ,  0.834, -0.114],\n",
        "        [ 0.653,  0.329, -0.682]]))"
       ]
      }
     ],
     "prompt_number": 39
    },
    {
     "cell_type": "code",
     "collapsed": false,
     "input": [
      "#Code19-12\n",
      "ut = u.transpose()\n",
      "w1 = 1./w\n",
      "v = vt.transpose()\n",
      "ut, w1, v"
     ],
     "language": "python",
     "metadata": {},
     "outputs": [
      {
       "metadata": {},
       "output_type": "pyout",
       "prompt_number": 40,
       "text": [
        "(array([[-0.691, -0.638, -0.34 ],\n",
        "        [ 0.196, -0.617,  0.762],\n",
        "        [-0.696,  0.46 ,  0.551]]),\n",
        " array([ 0.597,  1.137,  2.896]),\n",
        " array([[-0.531, -0.54 ,  0.653],\n",
        "        [-0.443,  0.834,  0.329],\n",
        "        [-0.722, -0.114, -0.682]]))"
       ]
      }
     ],
     "prompt_number": 40
    },
    {
     "cell_type": "code",
     "collapsed": false,
     "input": [
      "#Code19-12\n",
      "ai = linalg.inv(a)\n",
      "ai"
     ],
     "language": "python",
     "metadata": {},
     "outputs": [
      {
       "metadata": {},
       "output_type": "pyout",
       "prompt_number": 41,
       "text": [
        "array([[-1.218,  1.452,  0.682],\n",
        "       [-0.296,  0.023,  1.338],\n",
        "       [ 1.647, -0.553, -1.041]])"
       ]
      }
     ],
     "prompt_number": 41
    },
    {
     "cell_type": "code",
     "collapsed": false,
     "input": [
      "#Code19-12\n",
      "zi = dot(v*w1,ut)\n",
      "zi"
     ],
     "language": "python",
     "metadata": {},
     "outputs": [
      {
       "metadata": {},
       "output_type": "pyout",
       "prompt_number": 42,
       "text": [
        "array([[-1.218,  1.452,  0.682],\n",
        "       [-0.296,  0.023,  1.338],\n",
        "       [ 1.647, -0.553, -1.041]])"
       ]
      }
     ],
     "prompt_number": 42
    },
    {
     "cell_type": "code",
     "collapsed": false,
     "input": [
      "(abs(zi-ai)).sum() #\uc5d0\ub7ec \uac12\uc740 0\uc5d0 \uac00\uae4c\uc6c0"
     ],
     "language": "python",
     "metadata": {},
     "outputs": [
      {
       "metadata": {},
       "output_type": "pyout",
       "prompt_number": 43,
       "text": [
        "3.4729163989055678e-15"
       ]
      }
     ],
     "prompt_number": 43
    },
    {
     "cell_type": "markdown",
     "metadata": {},
     "source": [
      "The SVD can also be used for PCA. Squaring the values in W replicates the eigenvalues as shown in Code 19-13. This example uses the data from Code 19-10. The rows i n V<sup>T</sup> are the eigenvectors of the covariance matrix with the exception of a minus sign. This is verified in Code 19-14. The minus sign merely indicates that the vectors are collinear but pointing in opposite directions. This describes the same coordinate rotation with some mirrored dimensions."
     ]
    },
    {
     "cell_type": "markdown",
     "metadata": {},
     "source": [
      "SVD\ub294 PCA\uc5d0\ub3c4 \uc0ac\uc6a9\ub420 \uc218 \uc788\ub2e4.  Code 19-13\ucc98\ub7fc W \uc81c\uacf1\uac12\uc740 eigenvalue\ub97c \ubcf5\uc81c\ud55c\ub2e4. \uc774 \uc608\uc81c\ub294 Code 19-10 \ub370\uc774\ud130\ub97c \uc0ac\uc6a9\ud588\ub2e4. V<sup>T</sup>\uc5d0\uc11c i\ubc88\uc9f8 \ud589\uc740 \ub9c8\uc774\ub108\uc2a4 \ubd80\ud638\uc758 \uc608\uc678\uc640 \ud568\uaed8 \uacf5\ubd84\uc0b0 \ud589\ub82c\uc758 eigenvector\uc774\ub2e4. \uc774\uac83\uc740 Code 19-14\uc5d0\uc11c \uc99d\uba85\ub41c\ub2e4. \ub9c8\uc774\ub108\uc2a4 \ubd80\ud638\ub294 \ubca1\ud130\uac00 \ub3d9\uc77c \uc120\uc0c1\uc5d0 \uc788\uc9c0\ub9cc \ubc18\ub300 \ubc29\ud5a5\uc744 \uac00\ub974\ud0a4\ub294 \uac83\uc744 \uc758\ubbf8\ud55c\ub2e4. \uc774\uac83\uc740 \ubbf8\ub7ec\ub41c \ucc28\uc6d0\uacfc \ud568\uaed8 \uac19\uc740 \uc88c\ud45c \ud68c\uc804\uc744 \ub098\ud0c0\ub0b8\ub2e4."
     ]
    },
    {
     "cell_type": "code",
     "collapsed": false,
     "input": [
      "#Code 19-13\n",
      "u,w,vt = linalg.svd(data)\n",
      "w**2"
     ],
     "language": "python",
     "metadata": {},
     "outputs": [
      {
       "metadata": {},
       "output_type": "pyout",
       "prompt_number": 44,
       "text": [
        "array([  2.655e+01,   7.941e-01,   5.079e-01,   2.788e-01,   1.049e-01,\n",
        "         8.931e-02,   7.452e-02,   5.258e-02,   2.354e-02,   1.771e-04])"
       ]
      }
     ],
     "prompt_number": 44
    },
    {
     "cell_type": "code",
     "collapsed": false,
     "input": [
      "#Code 19-13\n",
      "evl"
     ],
     "language": "python",
     "metadata": {},
     "outputs": [
      {
       "metadata": {},
       "output_type": "pyout",
       "prompt_number": 45,
       "text": [
        "array([  2.655e+01,   7.941e-01,   5.079e-01,   2.788e-01,   1.771e-04,\n",
        "         2.354e-02,   5.258e-02,   7.452e-02,   1.049e-01,   8.931e-02])"
       ]
      }
     ],
     "prompt_number": 45
    },
    {
     "cell_type": "code",
     "collapsed": false,
     "input": [
      "#Code 19-14\n",
      "for i in range(10):\n",
      "    a = (abs(evc[:i] + vt[i])).sum()\n",
      "    b = (abs(evc[:i] - vt[i])).sum()\n",
      "    print min((a,b))"
     ],
     "language": "python",
     "metadata": {},
     "outputs": [
      {
       "output_type": "stream",
       "stream": "stdout",
       "text": [
        "0.0\n",
        "2.93129655579\n",
        "6.5107666005\n",
        "10.9077994279\n",
        "13.9192055827\n",
        "17.154841305\n",
        "19.9060313323\n",
        "24.3213486549\n",
        "25.7825274657\n",
        "29.1736009622\n"
       ]
      }
     ],
     "prompt_number": 46
    },
    {
     "cell_type": "heading",
     "level": 4,
     "metadata": {},
     "source": [
      "19.5 Describing Systems with Eigenvector"
     ]
    },
    {
     "cell_type": "markdown",
     "metadata": {},
     "source": [
      "Consider a system that contains a state vector that is altered in time through some sort of process. An example is the protein population within a cell. The state vector describes the population of proteins at a particular time. As time progresses the populations change, a process that is described as changes in the state vector.\n",
      "Eigenvectors are a useful tool for describing the progression of a state vector in an easy-to-read format. In this case the state vector is v[t] and the machine that changes the state vector is a simple matrix M. In reality the machine that changes the state vector can be quite complicated. The progress of the system is then expressed as\n",
      "$$v[t + 1] = v[t] + Mv[t]. \\quad(19-15)$$\n",
      "Code 19-15 runs the system for 20 iterations, storing each state vector as a row in data. The matrix M is forced to have a zero sum so that it does not induce energy into the system."
     ]
    },
    {
     "cell_type": "markdown",
     "metadata": {},
     "source": [
      "\uc5b4\ub5a4 \uacfc\uc815\uc744 \ud1b5\ud574 \uc2dc\uac04\ub0b4 \ubcc0\uacbd\ub418\ub294 \uc0c1\ud0dc \ubca1\ud130\ub97c \ud3ec\ud568\ud558\ub294 \uc2dc\uc2a4\ud15c\uc744 \uc0dd\uac01\ud574\ubcf4\uc790. \uc138\ud3ec \ub0b4\uc5d0 \ub2e8\ubc31\uc9c8  population \uc608\ub97c \ubcf4\uc790. \uc0c1\ud0dc \ubca1\ud130\ub294 \ud2b9\uc815 \uc2dc\uac04\uc5d0 \ub2e8\ubc31\uc9c8 population\uc744 \ubb18\uc0ac\ud55c\ub2e4. \n",
      "Eigenvector\ub294 \uc77d\uae30 \uc26c\uc6b4 \ud3ec\ub9f7\uc73c\ub85c \uc0c1\ud0dc \ubca1\ud130\uc758 \uc9c4\ud589\uc744 \uc124\uba85\ud558\ub294 \uc88b\uc740 \ub3c4\uad6c \uc774\ub2e4. \uc774 \uacbd\uc6b0 \uc0c1\ud0dc \ubca1\ud130\ub294 v[t]\uc774\uace0 \uc774\ub97c \ubcc0\ud658\uc2dc\ud0a4\ub294 \ub3c4\uad6c\ub294 \uac04\ub2e8\ud55c \ud589\ub82c M\uc774\ub2e4. \uc0ac\uc2e4\uc0c1 \uc0c1\ud0dc \ubca1\ud130\ub97c \ubcc0\ud658 \uc2dc\ud0a4\ub294 \uae30\uacc4\ub294 \uaf64 \ubcf5\uc7a1\ud560 \uc218 \uc788\ub2e4. \uc2dc\uc2a4\ud15c\uc758 \uacfc\uc815\uc740 \ub2e4\uc74c\uacfc \uac19\uc774 \ud45c\ud604\ub41c\ub2e4\n",
      "$$v[t + 1] = v[t] + Mv[t]. \\quad(19-15)$$\n",
      "Code 19-15\ub294 20\ud68c \ubc18\ubcf5\uc744 \ud558\uace0, \uac01 \uc0c1\ud0dc \ubca1\ud130\ub97c \ud589\uc73c\ub85c \uc800\uc7a5\ud55c\ub2e4. \ud589\ub82c M\uc740 \uc5d0\ub108\uc9c0\ub97c \uc2dc\uc2a4\ud15c\uc73c\ub85c \uc720\ub3c4\ud558\uc9c0 \uc54a\ub3c4\ub85d \uc81c\ub85c\ud569\uc744 \uac00\uc9c0\ub3c4\ub85d \uac15\uc81c\ud55c\ub2e4."
     ]
    },
    {
     "cell_type": "code",
     "collapsed": false,
     "input": [
      "#Code 19-15\n",
      "random.seed(5239)\n",
      "M = random.ranf((5,5))\n",
      "M = M - M.mean(0)\n",
      "data = zeros((20,5), float)\n",
      "data[0] = random.rand(5)\n",
      "for i in range(1, 20):\n",
      "    data[i] = data[i-1] + dot(M, data[i-1])\n",
      "    print data[i]"
     ],
     "language": "python",
     "metadata": {},
     "outputs": [
      {
       "output_type": "stream",
       "stream": "stdout",
       "text": [
        "[ 0.506  1.19   0.226  0.248  0.347]\n",
        "[-0.109  1.671  0.294  0.234  0.427]\n",
        "[-1.063  2.032  0.536  0.284  0.728]\n",
        "[-2.541  2.186  1.117  0.471  1.283]\n",
        "[-4.835  2.029  2.26   0.925  2.138]\n",
        "[-8.407  1.42   4.29   1.846  3.367]\n",
        "[-13.975   0.153   7.689   3.54    5.11 ]\n",
        "[-22.668  -2.087  13.196   6.469   7.607]\n",
        "[-36.25   -5.792  21.961  11.339  11.258]\n",
        "[-57.481 -11.736  35.778  19.242  16.713]\n",
        "[-90.673 -21.142  57.455  31.87   25.007]\n",
        "[-142.572  -35.928   91.39    51.86    37.767]\n",
        "[-223.723  -59.107  144.468   83.329   57.55 ]\n",
        "[-350.614  -95.399  227.464  132.715   88.351]\n",
        "[-549.024 -152.19   357.232  210.085  136.415]\n",
        "[-859.267 -241.036  560.133  331.184  211.503]\n",
        "[-1344.371  -380.006   877.391   520.634   328.868]\n",
        "[-2102.894  -597.359  1373.469   816.945   512.355]\n",
        "[-3288.941  -937.276  2149.16   1280.334   799.241]\n"
       ]
      }
     ],
     "prompt_number": 47
    },
    {
     "cell_type": "markdown",
     "metadata": {},
     "source": [
      "This system contains 20 vectors, and it is not easy to display all of the information. The plot in Figure 19-4 shows just of few of the data vectors. The first element increases in value as time progresses. Some of the others increase and some decrease. Certainly, if the system contained hundreds of vectors and the relationships were complicated, it would be difficult to use such a plot to understand the system.\n",
      "Code 19-16 computes the PCA of the covariance matrix. In this case the first two eigenvalues indicated that only the first two eigenvectors were to be kept. This data is plotted in Figure 19-5. The 20 data points represent the state of the system at the 20 time intervals. The first point cffs[0] is at 0.6,-0.1 and in this case the system is seen to create an outward spiral."
     ]
    },
    {
     "cell_type": "markdown",
     "metadata": {},
     "source": [
      "\uc774 \uc2dc\uc2a4\ud15c\uc740 20\uac1c\uc758 \ubca1\ud130\ub97c \ud3ec\ud568\ud558\uace0 \uc788\uace0, \ubaa8\ub4e0 \uc815\ubcf4\ub97c \ubcf4\uc5ec\uc8fc\ub294 \uac83\uc740 \uc27d\uc9c0 \uc54a\ub2e4. Figure 19-4\uc5d0\uc11c \uc810\uc740 \ub2e8\uc9c0 \uc801\uc740 \ub370\uc774\ud130 \ubca1\ud130\ub97c \ubcf4\uc5ec\uc900\ub2e4. \uc2dc\uac04\uc774 \uc9c0\ub0a8\uc5d0 \ub530\ub77c \ucc98\uc74c \uc6d0\uc18c\ub294 \uc99d\uac00\ud55c\ub2e4. \ub2e4\ub978 \uc6d0\uc18c \uc911 \uc77c\ubd80\ub294 \uc99d\uac00\ud558\uace0 \uc77c\ubd80\ub294 \uac10\uc18c\ud55c\ub2e4. \ubd84\uba85\ud788, \uc2dc\uc2a4\ud15c\uc774 \uc218\ubc31\uac1c\uc758 \ubca1\ud130\ub97c \ud3ec\ud568\ud558\uace0 \uad00\uacc4\uac00 \ubcf5\uc7a1\ud558\ub2e4\uba74, \uadf8\ub7ec\ud55c \uc810\uc744 \uc0ac\uc6a9\ud558\ub294 \uac83\uc774 \uc2dc\uc2a4\ud15c\uc744 \uc774\uc6a9\ud558\ub294\ub370 \uc5b4\ub824\uc6b8 \uac83\uc774\ub2e4.\n",
      "Code 19-16\uc740 \uacf5\ubd84\uc0b0 \ud589\ub82c\uc758 PCA\ub97c \uacc4\uc0b0\ud55c\ub2e4. \ucc98\uc74c \ub450\uac1c\uc758 eigenvalue\ub294 \ucc98\uc74c \ub450 eigenvector\uac00 \uc720\uc9c0\ub428\uc744 \ub098\ud0c0\ub0b8\ub2e4. \uc774 \ub370\uc774\ud130\ub294 Figure 19-5\uc5d0 \uadf8\ub824\uc9c4\ub2e4. 20\uac1c\uc758 \ub370\uc774\ud130 \uc810\uc740 20\uac1c \uc2dc\uac04 \uac04\uaca9\uc5d0\uc11c \uc2dc\uc2a4\ud15c\uc758 \uc0c1\ud0dc\ub97c \ubc18\uc601\ud55c\ub2e4. \ucc98\uc74c \uc810 cffs[0]\uc740 0.6,-0.1\uc5d0 \uc788\uace0 \uc774 \uacbd\uc6b0 \uc2dc\uc2a4\ud15c\uc740 \ubc14\uae65\uc73c\ub85c \ud5a5\ud558\ub294 \ub098\uc120\ud615\uc744 \uc0dd\uc131\ud558\uae30 \uc704\ud574 \ubcf4\uc5ec\uc9c4\ub2e4."
     ]
    },
    {
     "cell_type": "code",
     "collapsed": false,
     "input": [
      "#Code 19-16\n",
      "cv = dot(transpose(data), data)\n",
      "evl, evc = linalg.eig(cv)\n",
      "cffs = zeros((20,2), float)\n",
      "for i in range(20):\n",
      "    cffs[i,0] = dot(data[i], evc[:,0])\n",
      "    cffs[i,1] = dot(data[i], evc[:,1])\n",
      "akando.PlotMultiple('fig5.txt', cffs)\n",
      "cffs[0]"
     ],
     "language": "python",
     "metadata": {},
     "outputs": [
      {
       "metadata": {},
       "output_type": "pyout",
       "prompt_number": 48,
       "text": [
        "array([ 0.556,  0.306])"
       ]
      }
     ],
     "prompt_number": 48
    },
    {
     "cell_type": "markdown",
     "metadata": {},
     "source": [
      "<img src=\"bio19_img/fig19-4.png\" />"
     ]
    },
    {
     "cell_type": "markdown",
     "metadata": {},
     "source": [
      "$ gnuplot <br>\n",
      "\\> plot \"fig5.txt\""
     ]
    },
    {
     "cell_type": "markdown",
     "metadata": {},
     "source": [
      "<img src=\"bio19_img/fig19-5.png\" />"
     ]
    },
    {
     "cell_type": "markdown",
     "metadata": {},
     "source": [
      "The outward spiral indicates that the values in the system are increasing in magnitude. If this were to continue, the values of the system would approach infinity. This is an unstable system. An inward spiral would indicate that the system is tending toward a steady state in which the state vector stops changing.\n",
      "The most interesting cases occur when the spiral does not expand outward or move inward. The system draws overlapping circles (or other types of enclosed geometries). This indicates that the system has obtained a stable oscillation. If the path exactly repeats its path, the oscillations are exactly repeated."
     ]
    },
    {
     "cell_type": "markdown",
     "metadata": {},
     "source": [
      "\ubc14\uae65\ucabd \ub098\uc120\ud615\uc740 \uc2dc\uc2a4\ud15c\uc758 \uac12\uc774 \uaddc\ubaa8\uc788\uac8c \uc99d\uac00\ub428\uc744 \ub098\ud0c0\ub0b8\ub2e4. \uc774\uac83\uc774 \uacc4\uc18d\ub418\uba74, \uc2dc\uc2a4\ud15c \uac12\uc740 \ubb34\ud55c\ub300\ub85c \uc811\uadfc\ud560 \uac83\uc774\ub2e4. \uc774\uac83\uc740 \ubd88\uc548\uc815\ud55c \uc2dc\uc2a4\ud15c\uc774\ub2e4. \uc548\ucabd\uc73c\ub85c \ud5a5\ud558\ub294 \ub098\uc120\ud615\uc740 \uc2dc\uc2a4\ud15c \ubca1\ud130\uac00 \ubcc0\ud558\uae30\ub97c \uba48\ucd94\ub294 \uc0c1\ud0dc \ubca1\ud130\uc5d0\uc11c \uc2dc\uc2a4\ud15c\uc774 \uc548\uc815 \ub2e8\uacc4\ub97c \ud5a5\ud574 \uc788\uc74c\uc744 \ub098\ud0c0\ub0b8\ub2e4.\n",
      "\uac00\uc7a5 \ud765\ubbf8\ub85c\uc6b4 \uacbd\uc6b0\ub294 \ub098\uc120\ud615\uc774 \ubc14\uae65\uc774\ub098 \uc548\ucabd\uc73c\ub85c \ud33d\ucc3d\ud558\uc9c0 \uc54a\ub294 \uacbd\uc6b0\uc5d0 \uc77c\uc5b4\ub09c\ub2e4. \uc2dc\uc2a4\ud15c\uc740 \uc911\ubcf5\ub41c \uc6d0\uc744 \uadf8\ub9b0\ub2e4 (\ub610\ub294 \ub2e4\ub978 \ud615\ud0dc\uc758 enclosed geometries). \uc774\uac83\uc740 \uc2dc\uc2a4\ud15c\uc774 \uc548\uc815\ud654\ub41c \uc9c4\ub3d9\uc744 \ud68d\ub4dd\ud55c \uac83\uc744 \uc758\ubbf8\ud55c\ub2e4. \uacbd\ub85c\uac00 \uc815\ud655\ud788 \ubc18\ubcf5\ub418\uba74, \uc9c4\ub3d9\ub3c4 \uc815\ud655\ud788 \ubc18\ubcf5\ub41c\ub2e4."
     ]
    },
    {
     "cell_type": "code",
     "collapsed": false,
     "input": [
      "#Code 19-17\n",
      "from numpy import greater, sign\n",
      "data = zeros((1000,5))\n",
      "for i in range(1, 1000):\n",
      "    data[i] = data[i-1] + dot(M, data[i-1])\n",
      "    mask = greater(abs(data[i]), 1).astype(int)\n",
      "    data[i] = (1-mask)*data[i] + mask*sign(data[i])\n",
      "data"
     ],
     "language": "python",
     "metadata": {},
     "outputs": [
      {
       "metadata": {},
       "output_type": "pyout",
       "prompt_number": 49,
       "text": [
        "array([[ 0.,  0.,  0.,  0.,  0.],\n",
        "       [ 0.,  0.,  0.,  0.,  0.],\n",
        "       [ 0.,  0.,  0.,  0.,  0.],\n",
        "       ..., \n",
        "       [ 0.,  0.,  0.,  0.,  0.],\n",
        "       [ 0.,  0.,  0.,  0.,  0.],\n",
        "       [ 0.,  0.,  0.,  0.,  0.]])"
       ]
      }
     ],
     "prompt_number": 49
    },
    {
     "cell_type": "markdown",
     "metadata": {},
     "source": [
      " Code 19-17 generates a system in which values are not allowed to exceed a magnitude of 1. As plotted in Figure 19-6, it starts in the middle and quickly begins looping to the left. Although this system was run for 1,000 time steps, only a few points are visible because it gets into an oscillation. Code 19-18 presents some of the values, showing that there is a regular cycle that repeats every 44 time steps. The hard comers appear because the system forces values to be no greater than 1, which is a nonlinear operation. The comers occur when one of the elements of the state vector drastically exceeds 1 and the nonlinear restriction is employed."
     ]
    },
    {
     "cell_type": "markdown",
     "metadata": {},
     "source": [
      " Code 19-17\uc740 1\uc744 \ub118\ub294 \uc815\ub3c4\ub97c \ud5c8\ub77d\ud558\uc9c0 \uc54a\ub294 \uc2dc\uc2a4\ud15c\uc744 \uc0dd\uc131\ud55c\ub2e4. Figure 19-6\uc5d0 \ub3c4\uc2dd\ud654\ub41c \uac83\ucc98\ub7fc, \uc911\uac04\uc5d0 \uc2dc\uc791\ud574\uc11c \uc7ac\ube68\ub9ac \uc67c\ucabd\uc73c\ub85c looping\uc744 \uc2dc\uc791\ud55c\ub2e4. \uc774 \uc2dc\uc2a4\ud15c\uc774 1000\ubc88 \uc218\ud589\ub418\uc5c8\uc9c0\ub9cc, \uc548\uc815\ud654\ub85c \ub4e4\uc5b4\uac00\uae30 \ub54c\ubb38\uc5d0 \uc801\uc740 \uc218\uc758 \uc810\ub4e4\ub9cc\uc774 \ubcf4\uc778\ub2e4. Code 19-18\uc740 \ubaa8\ub4e0 44\ud68c \ub2e8\uacc4\ub97c \ubc18\ubcf5\ud558\ub294 \uc815\uaddc \uc2f8\uc774\ud074\uc774 \uc788\uc74c\uc744 \ubcf4\uc5ec\uc8fc\uba70 \uadf8 \uac12\uc758 \uc77c\ubd80\ub97c \ub300\ubcc0\ud55c\ub2e4. \ube44\uc120\ud615 \uc5f0\uc0b0\uc778 \uc2dc\uc2a4\ud15c\uc774 \uac12\uc744 1\ubcf4\ub2e4 \ud06c\uc9c0 \uc54a\uac8c \uac15\uc81c\ud568\uc73c\ub85c\uc368 hard comers\ub294 \ubcf4\uc778\ub2e4.\n",
      " \n",
      "<img src=\"bio19_img/fig19-6.png\" />"
     ]
    },
    {
     "cell_type": "code",
     "collapsed": false,
     "input": [
      "#Code 19-18\n",
      "cffs[0]"
     ],
     "language": "python",
     "metadata": {},
     "outputs": [
      {
       "metadata": {},
       "output_type": "pyout",
       "prompt_number": 50,
       "text": [
        "array([ 0.556,  0.306])"
       ]
      }
     ],
     "prompt_number": 50
    },
    {
     "cell_type": "code",
     "collapsed": false,
     "input": [
      "cffs[10]"
     ],
     "language": "python",
     "metadata": {},
     "outputs": [
      {
       "metadata": {},
       "output_type": "pyout",
       "prompt_number": 51,
       "text": [
        "array([-73.046,   5.979])"
       ]
      }
     ],
     "prompt_number": 51
    },
    {
     "cell_type": "code",
     "collapsed": false,
     "input": [
      "cffs[20] #\ucc45\uc5d0\ub294 \uacb0\uacfc \ub098\uc634!"
     ],
     "language": "python",
     "metadata": {},
     "outputs": [
      {
       "ename": "IndexError",
       "evalue": "index 20 is out of bounds for axis 0 with size 20",
       "output_type": "pyerr",
       "traceback": [
        "\u001b[0;31m---------------------------------------------------------------------------\u001b[0m\n\u001b[0;31mIndexError\u001b[0m                                Traceback (most recent call last)",
        "\u001b[0;32m<ipython-input-52-cfc6fdfd2e3a>\u001b[0m in \u001b[0;36m<module>\u001b[0;34m()\u001b[0m\n\u001b[0;32m----> 1\u001b[0;31m \u001b[0mcffs\u001b[0m\u001b[0;34m[\u001b[0m\u001b[0;36m20\u001b[0m\u001b[0;34m]\u001b[0m \u001b[0;31m#\ucc45\uc5d0\ub294 \uacb0\uacfc \ub098\uc634!\u001b[0m\u001b[0;34m\u001b[0m\u001b[0m\n\u001b[0m",
        "\u001b[0;31mIndexError\u001b[0m: index 20 is out of bounds for axis 0 with size 20"
       ]
      }
     ],
     "prompt_number": 52
    },
    {
     "cell_type": "markdown",
     "metadata": {},
     "source": [
      "The systems shown in Figures 19-5 and 19-6 plot a data point for each time step, which also makes it possible to look at changes in the system. Code 19-19 creates a case in which two systems (that are slightly different) are applied to the same initial state vector. Both are analyzed, but this time the covariance matrix is computed on the transpose of the data forcing the variables to be the time steps. As shown in Code 19-19, the computation for data followed a similar path."
     ]
    },
    {
     "cell_type": "markdown",
     "metadata": {},
     "source": [
      "Figures 19-5\uacfc 19-6\uc5d0\uc11c \ubcf4\uc774\ub294 \uc2dc\uc2a4\ud15c\uc740 \uc2dc\uc2a4\ud15c\uc5d0\uc11c \ubcc0\ud654\ub97c \ubcf4\ub3c4\ub85d \ud568\uc73c\ub85c\uc368 \uac01 \uc2dc\uac04 \ub2e8\uacc4\uc5d0\uc11c \ub370\uc774\ud130 \uc810\uc744 \uadf8\ub9b0\ub2e4. Code 19-19\uc740 2\uac1c\uc758 \uc2dc\uc2a4\ud15c\uc5d0\uc11c \uacbd\uc6b0\ub97c \uc0dd\uc131\ud558\uace0 (\uc870\uae08 \ub2e4\ub978) \ub3d9\uc77c\ud55c \ucd08\uae30 \uc0c1\ud0dc \ubca1\ud130\uc5d0 \uc801\uc6a9\ud55c\ub2e4. \ub458 \ub2e4 \ubd84\uc11d \ub418\uc5c8\uc9c0\ub9cc, \uc774\ubc88\uc5d4 \ubcc0\uc218\ub97c \uc2dc\uac04 \ub2e8\uacc4\ub85c \uac15\uc81c\ud558\ub294 \ub370\uc774\ud130\uc758 \ubcc0\uc218\ub97c \uc804\uce58\ud558\ub3c4\ub85d \uacf5\ubd84\uc0b0 \ud589\ub82c\uc774 \uacc4\uc0b0\ub41c\ub2e4. Code 19-19\uc5d0 \ubcf4\uc774\ub294 \uac83\ucc98\ub7fc, \ub370\uc774\ud130\uc758 \uacc4\uc0b0\uc740 \ube44\uc2b7\ud55c \uacbd\ub85c\ub97c \ub530\ub978\ub2e4."
     ]
    },
    {
     "cell_type": "code",
     "collapsed": false,
     "input": [
      "#Code 19-19\n",
      "random.seed(5654)\n",
      "data = zeros((10,5), float)\n",
      "for i in range(1,10):\n",
      "    data[i] = data[i-1] + dot(M, data[i-1])\n",
      "cv = dot(data, data.transpose())\n",
      "evl, evc = linalg.eig(cv)\n",
      "cffs = zeros((5,2), float)\n",
      "for i in range(5):\n",
      "    cffs[i,0] = dot(data[:,i], evc[:,0])\n",
      "    cffs[i,1] = dot(data[:,i], evc[:,1])\n",
      "data2 = zeros((10,5), float)\n",
      "M2 = M + (2*random.ranf((5,5))-1)/33.\n",
      "data2[0] = data[0] + 0\n",
      "for i in range(1,10):\n",
      "    data2[i] = data2[i-1] + dot(M2, data2[i-1])"
     ],
     "language": "python",
     "metadata": {},
     "outputs": [],
     "prompt_number": 53
    },
    {
     "cell_type": "markdown",
     "metadata": {},
     "source": [
      "In a sensitivity analysis the efts are just five data points in two-dimensional space. The plot in Figure 19-7 shows a set of + 's which represent the five dimensions of the first system. The * 's represent the same five dimensions in the second system. The two data points that moved apart the most are located around x to the data in Code 19-19, this is the second variable of the five. The conclusion to draw is that the change in the system affected the second variable more than the others. Likewise, the change in the system barely affected the first and fourth variables.\n",
      "In each case the system ran for ten time steps, and the plots in Figure 19-7 are sensitive to all of them. Thus the proximity of the data points infers that the first and fourth variables were similar throughout the ten time steps in both systems."
     ]
    },
    {
     "cell_type": "markdown",
     "metadata": {},
     "source": [
      "sensitivity \ubd84\uc11d\uc5d0\uc11c eft\ub294 2\ucc28\uc6d0 \uacf5\uac04\uc5d0\uc11c 5\uac1c \uc810\uc774\ub2e4. Figure 19-7\uc5d0\uc11c \uc810\uc740 \ucc98\uc74c \uc2dc\uc2a4\ud15c\uc5d0\uc11c 5\ucc28\uc6d0\uc744 \ub300\ubcc0\ud558\ub294 + \uc758 \uc9d1\ud569\uc774\ub2e4. * \uc740 \ub450\ubc88\uc9f8 \uc2dc\uc2a4\ud15c\uc758 \ub3d9\uc77c\ud55c 5\ucc28\uc6d0\uc744 \ub300\ubcc0\ud55c\ub2e4. Code 19-19\uc5d0\uc11c x \uc8fc\ubcc0\uc5d0 \uc704\uce58\ud55c \ub450\ubc88\uc9f8\ub85c \uc704\uce58\ud55c 2\uac1c\uc758 \ub370\uc774\ud130 \uc810\uc744 \uac00\uc7a5 \uba40\ub9ac \uc704\uce58\ud558\uac8c \ud55c\ub2e4. \ub2e4\ub978 \uac83\ubcf4\ub2e4 \ub450\ubc88\uc9f8 \ubcc0\uc218\uc5d0 \uc758\ud574 \uc601\ud5a5 \ubc1b\ub294 \uc2dc\uc2a4\ud15c\uc5d0\uc11c \ubcc0\ud654\ub97c \uc720\ub3c4\ud55c\ub2e4. \uc2dc\uc2a4\ud15c\uc5d0\uc11c \ubcc0\ud654\ub294 \uccab\ubc88\uc9f8\uc640 \ub124\ubc88\uc9f8 \ubcc0\uc218\uc5d0 \uc758\ud574 \uac70\uc758 \uc601\ud5a5\uc744 \ubc1b\uc9c0 \uc54a\ub294\ub2e4.\n",
      "\uc774 \uacbd\uc6b0 \uc2dc\uc2a4\ud15c\uc740 10\ubc88\uc758 \ub2e8\uacc4\ub85c \uc2e4\ud589\ub418\uace0, Figure 19-7\uc5d0\uc11c plot\uc740 \ubaa8\ub450 sensitive\ud558\ub2e4. \ub530\ub77c\uc11c \ub370\uc774\ud130 \uc810\uc758 \uadfc\uc811\uc740 \ub450 \uc2dc\uc2a4\ud15c\uc5d0\uc11c 10\ubc88\uc758 \ub2e8\uacc4\ub97c \ud1b5\ud574 \uccab\ubc88\uc9f8\uc640 \ub124\ubc88\uc9f8 \ubcc0\uc218\uac00 \uc720\uc0ac\ud558\ub2e4\ub294 \uac83\uc744 \uc758\ubbf8\ud55c\ub2e4."
     ]
    },
    {
     "cell_type": "heading",
     "level": 4,
     "metadata": {},
     "source": [
      "19.6 Eigenimages"
     ]
    },
    {
     "cell_type": "markdown",
     "metadata": {},
     "source": [
      "Creating a space defined from a set of eigenimages adds a complication . An image that measures 256 X 256 will have 65,536 pixels. The covariance matrix computed from a set of images of this size would be 65,536 X 65,536. This is too large. An altena\ufffctive is to compute a related set of eigenvectors and convert back to the eigenimages (Turk and  Pentland,1991).The process begins with a set of N images, {Mi;i = 1,...N} , in which the average is subtracted,\n",
      "$$ A = \\dfrac{1}{N} \\sum_{i}M{i}. \\qquad(19-6) $$\n",
      "$$ M'_{i} = M{i} - A\\quad\\forall{i}.\\quad(19-7) $$\n",
      "A matrix X is constructed so that the ith column of the matrix is the set of pixels from the ith image. The covariance matrix can be computed by the inner product of pairs of columns ,\n",
      "$$ c_{i,j} = \\sum_{k}X_{k,i}X_{k,j}. \\qquad(19-8) $$\n",
      "\ufffc\ufffcThis creates an extremely large matrix. The equation relating an eigenvector vi with an eigenvalue $\\mu_{i}\\;is$\n",
      "$$ Cv_{i} = \\mu_{i}v_{i}. \\qquad(19-9) $$\n",
      "This can be rewritten as\n",
      "$$ XX^{T}v_{i} = \\mu_{i}v_{i}. \\qquad(19-10) $$\n",
      "Now consider a slightly different eigenequation:\n",
      "$$ Lw_{i} = X^{T}Xw_{i} = \\mu_{i}w_{i}. \\quad(19-11) $$\n",
      "\ufffcThe matrix L is N X N, where N is the number of images. Usually, this is much smaller than the number of pixels, and so this equation is easier to solve. To connect 19.11 with 19.10, the 19.11 is left-multiplied by X.\n",
      "$$ XX^{T}Xw_{i} = \\mu_{i}Xw_{i}. \\qquad(19-12) $$\n",
      "By noting that C=XX<sup>T</sup> and that Xw creates a vector v, the two equations are related. The eigenvalues of 18.11 and 18.9 are the same and the eigenimages are related by\n",
      "$$ V_{i} = \\sum_{k}w_{i,k}M_{i}. \\qquad(19-13) $$\n",
      "To demonstrate this, a simple test will use three images, each image being 128 X 128 , as shown in Figure 19-8 . The first task is to load the images and subtract the average. Code 19-20 shows the Loadlmages function, which receives a directory and a list of image file names. It returns a list of matrices."
     ]
    },
    {
     "cell_type": "markdown",
     "metadata": {},
     "source": [
      "eigenimage\uc758 \uc9d1\ud569\uc73c\ub85c \uc815\uc758\ub41c \uacf5\uac04\uc744 \uc0dd\uc131\ud558\ub294 \uac83\uc740 \uc870\uae08 \ub354 \ubcf5\uc7a1\ud558\ub2e4. 256 X 256\uc740 65,536 \ud53d\uc140\uc744 \uce21\uc815\ud558\ub294 \uc774\ubbf8\uc9c0\uc774\ub2e4. \uc774 \uc774\ubbf8\uc9c0 \uc9d1\ud569\uc73c\ub85c \ubd80\ud130 \uacc4\uc0b0\ub418\ub294 \uacf5\ubd84\uc0b0 \ud589\ub82c\uc740 65,536 X 65,536\ub85c \ub108\ubb34 \ud06c\ub2e4. \ub300\uccb4 \ubc29\ubc95\uc740 \uad00\ub828\ub41c eigenvector \uc9d1\ud569\uc744 \uacc4\uc0b0\ud558\uace0 eigenimage\ub85c \ub2e4\uc2dc \ubcc0\ud658\ud558\ub294 \uac83\uc774\ub2e4 (Turk and  Pentland,1991). \uc774 \uacfc\uc815\uc740 \ud3c9\uade0\uc744 \ube80 N image {Mi;i = 1,...N} \uc640 \ud568\uaed8 \uc2dc\uc791\ud55c\ub2e4.\n",
      "$$ A = \\dfrac{1}{N} \\sum_{i}M{i}. \\qquad(19-6) $$\n",
      "$$ M'_{i} = M{i} - A\\quad\\forall{i}.\\quad(19-7) $$\n",
      "\n",
      "X\ud589\ub82c\uc740 i\ubc88\uc9f8 \uc774\ubbf8\uc9c0\ub85c\ubd80\ud130 \ud53d\uc140\uc758 \uc9d1\ud569\uc774 \ub418\ub3c4\ub85d \uc0dd\uc131\ub41c\ub2e4. \uacf5\ubd84\uc0b0 \ud589\ub82c\uc740 \uceec\ub7fc\uc758 \uc9dd\uc758 \ub0b4\uc801\uc5d0 \uc758\ud574 \uacc4\uc0b0\ub420 \uc218 \uc788\ub2e4.\n",
      "$$ c_{i,j} = \\sum_{k}X_{k,i}X_{k,j}. \\qquad(19-8) $$\n",
      "\ufffc\ufffc\n",
      "\uc774\uac83\uc740 \ucda9\ubd84\ud788 \ud070 \ud589\ub82c\uc744 \uc0dd\uc131\ud55c\ub2e4.eigenvector vi\uc640 \uad00\ub828\ub41c \uc218\uc2dd\uc740 $\\mu_{i}\\;\uc774\ub2e4$\n",
      "$$ Cv_{i} = \\mu_{i}v_{i}. \\qquad(19-9) $$\n",
      "\n",
      "\uc774\uac83\uc740 \ub2e4\uc74c\uacfc \uac19\uc774 \ub2e4\uc2dc \uc4f0\uc77c \uc218 \uc788\ub2e4.\n",
      "$$ XX^{T}v_{i} = \\mu_{i}v_{i}. \\qquad(19-10) $$\n",
      "\n",
      "\uc774\uc81c \uc870\uae08 \ub2e4\ub978 eigenequation\uc744 \uace0\ub824\ud574\ubcf4\uc790:\n",
      "$$ Lw_{i} = X^{T}Xw_{i} = \\mu_{i}w_{i}. \\quad(19-11) $$\n",
      "\ufffc\n",
      "L\ud589\ub82c\uc740 N X N\uc774\ub2e4 (N\uc740 \uc774\ubbf8\uc9c0 \uc218). \ubcf4\ud1b5, \uc774\uac83\uc740 \ud53d\uc140 \uc218\ubcf4\ub2e4 \ud6e8\uc52c \uc791\uace0, \uc774 \ubc29\uc815\uc2dd\uc740 \ud480\uae30 \uc27d\ub2e4. 19.11\uc744 19.10\uc640 \uacb0\ud569\ud558\uc5ec, 19.11\uc740 X\uc5d0 \uc758\ud574 left-multiply \ub41c\ub2e4.\n",
      "$$ XX^{T}Xw_{i} = \\mu_{i}Xw_{i}. \\qquad(19-12) $$\n",
      "\n",
      "C=XX<sup>T</sup>\uc774\uace0 Xw\uac00 v\ubca1\ud130\ub97c \uc0dd\uc131\ud558\ub294 \uac83\uc744 \uc8fc\uc758\ud558\uba74, 2\uac1c\uc758 \uc2dd\uc740 \uad00\ub828\uc774 \ub418\uc5b4 \uc788\ub2e4. 18.11\uc640 18.9\uc758 eigenvalue\ub294 \ub3d9\uc77c\ud558\uace0 eigenimage\ub294 \ub2e4\uc74c\uacfc \uad00\ub828\ub418\uc5b4 \uc788\ub2e4\n",
      "$$ V_{i} = \\sum_{k}w_{i,k}M_{i}. \\qquad(19-13) $$\n",
      "\n",
      "\uc774\ub97c \uc124\uba85\ud558\uae30 \uc704\ud574\uc11c, \uac04\ub2e8\ud55c \ud14c\uc2a4\ud2b8\ub294 3\uac1c image\ub97c \uc0ac\uc6a9\ud560 \uac83\uc774\uace0, \uac01 image\ub294 Figure 19-8\uc5d0\uc11c \ubcf4\uc774\ub294 \uac83\ucc98\ub7fc 128 X 128 \uc774 \ub41c\ub2e4. \ucc98\uc74c \uc791\uc5c5\uc740 \uc774\ubbf8\uc9c0\ub97c \ub85c\ub4dc\ud558\uace0 \ud3c9\uade0\uc744 \ube7c\ub294 \uac83\uc774\ub2e4. Code 19-20\ub294 \ub514\ub809\ud1a0\ub9ac\uc640 \uc774\ubbf8\uc9c0 \ud30c\uc77c \uc774\ub984\uc758 \ub9ac\uc2a4\ud2b8\ub97c \ubc1b\ub294 Loadlmages \ud568\uc218\ub97c \ubcf4\uc5ec\uc900\ub2e4. \uc774\uac83\uc740 \ud589\ub82c \ub9ac\uc2a4\ud2b8\ub97c \ubc18\ud658\ud55c\ub2e4."
     ]
    },
    {
     "cell_type": "code",
     "collapsed": false,
     "input": [
      "#Code 19-20\n",
      "#eigimage.py\n",
      "from PIL import Image #scipy\uc758 image library \uc0ac\uc6a9\ud560\uac83!\n",
      "from numpy import zeros, linalg\n",
      "import akando\n",
      "\n",
      "mglist = os.listdir( '.data/chaos')\n",
      "# Code 19-20\n",
      "if 'Thumbs.db' in mglist:\n",
      "    mglist.remove( 'Thumbs.db' )\n",
      "if '.DS_Store' in mglist:\n",
      "    mglist.remove( '.DS_Store' )\n",
      "    \n",
      "def LoadImages( dr, mglist ):\n",
      "    pics = []\n",
      "    for i in mglist:\n",
      "        mg = Image.open( dr +'/' + i )\n",
      "        pics.append(  akando.i2a( mg )/256. )\n",
      "    return pics\n",
      "\n",
      "pics = LoadImages('.data/chaos', mglist)"
     ],
     "language": "python",
     "metadata": {},
     "outputs": [],
     "prompt_number": 54
    },
    {
     "cell_type": "markdown",
     "metadata": {},
     "source": [
      "The average is subtracted in the SubAvg function in Code 19-21. The avg is needed later, and so it is returned. The subtraction is a centering process that moves the average of the data to the origin of the coordinate system. If this is not done, the first eigenvector becomes sensitive to the bias of the data."
     ]
    },
    {
     "cell_type": "markdown",
     "metadata": {},
     "source": [
      "\ud3c9\uade0\uc740 Code 19-21\uc758 SubAvg \ud568\uc218\uc5d0\uc11c \ube7c\uc9c4\ub2e4. avg\ub294 \ub098\uc911\uc5d0 \ud544\uc694\ud558\uace0, \ubc18\ud658\ub41c\ub2e4. subtraction\ub294 \uc88c\ud45c \uc2dc\uc2a4\ud15c\uc758 \uc6d0\ub798\uc758 \ub370\uc774\ud130 \ud3c9\uade0\uc73c\ub85c \uc62e\uaca8\uc9c0\ub294 \uc911\uc2ec \uacfc\uc815\uc774\ub2e4. \uc774\uac83\uc774 \ub418\uc9c0 \uc54a\uc73c\uba74, \uccab eigenvector\ub294 \ub370\uc774\ud130\uc758 bias\uc5d0 \ubbfc\uac10\ud574\uc9c4\ub2e4."
     ]
    },
    {
     "cell_type": "code",
     "collapsed": false,
     "input": [
      "# Code 19-21\n",
      "def SubAvg(data):\n",
      "    N = len(data)\n",
      "    avg = zeros( data[0].shape, float )\n",
      "    for i in data:\n",
      "        avg += i\n",
      "    avg /= N\n",
      "    #\n",
      "    for i in range(N):\n",
      "        data[i] -= avg\n",
      "    return avg, data\n",
      "\n",
      "avg, pics = SubAvg(pics)"
     ],
     "language": "python",
     "metadata": {},
     "outputs": [],
     "prompt_number": 55
    },
    {
     "cell_type": "markdown",
     "metadata": {},
     "source": [
      "The covariance matrix for <b>L</b> is computed by the <b>Lcov</b> function shown in Code 19-22. This computes the inner product of the different pairs of images."
     ]
    },
    {
     "cell_type": "markdown",
     "metadata": {},
     "source": [
      "<b>L</b>\uc758 \uacf5\ubd84\uc0b0 \ud589\ub82c\uc740 Code 19-22\uc5d0\uc11c <b>Lcov</b> \ud568\uc218\uc5d0 \uc758\ud574 \uacc4\uc0b0\ub41c\ub2e4. \uc774\uac83\uc740 \ub2e4\ub978 \uc774\ubbf8\uc9c0 \uc30d\uc758 \ub0b4\uc801\uc73c\ub85c \uacc4\uc0b0\ub41c\ub2e4."
     ]
    },
    {
     "cell_type": "code",
     "collapsed": false,
     "input": [
      "# Code 19-22\n",
      "def Lcov( data ):\n",
      "    N = len( data ) # number of images\n",
      "    L = zeros( (N,N), float )\n",
      "    for i in range( N ):\n",
      "        L[i,i] = ( data[i]*data[i]).sum()\n",
      "        for j in range( i ):\n",
      "            L[i,j] = L[j,i] = ( data[i]*data[j]).sum()\n",
      "    return L\n",
      "\n",
      "L = Lcov(pics)"
     ],
     "language": "python",
     "metadata": {},
     "outputs": [],
     "prompt_number": 56
    },
    {
     "cell_type": "markdown",
     "metadata": {},
     "source": [
      "<img src=\"bio19_img/fig19-8.png\" />\n",
      "<img src=\"bio19_img/fig19-9.png\" />"
     ]
    },
    {
     "cell_type": "markdown",
     "metadata": {},
     "source": [
      "The covariance matrix in this case is 3 X 3. It is this matrix that is used to determine the eigenvalues and eigenvectors. The eigenvectors are converted to eigenimages in Eimage, shown in Code 19-23, according to Equation (19-13). The resulting three eigenimages are shown in Figure 19-9."
     ]
    },
    {
     "cell_type": "markdown",
     "metadata": {},
     "source": [
      "\uc774 \uacbd\uc6b0 \uacf5\ubd84\uc0b0 \ud589\ub82c\uc740 3 X 3\uc774\uba70, eigenvalue\uc640 eigenvector\ub97c \uacb0\uc815\ud558\ub294\ub370 \uc0ac\uc6a9\ub41c\ub2e4. The eigenvector\ub294 Code 19-23\uc5d0\uc11c\ucc98\ub7fc Equation (19-13)\uc5d0 \ub530\ub77c Eimage\uc5d0\uc11c eigenimages\ub85c \ubcc0\ud658\ub41c\ub2e4. 3\uac1c\uc758 \uacb0\uacfc eigenimage\uac00 Figure 19-9\uc5d0 \ubcf4\uc5ec\uc9c4\ub2e4."
     ]
    },
    {
     "cell_type": "code",
     "collapsed": false,
     "input": [
      "# Code 19-23\n",
      "def Eimage( L, data ):\n",
      "    N = len( data )\n",
      "    evls, evcs = linalg.eig( L )\n",
      "    emg = []\n",
      "    V,H = data[0].shape\n",
      "    for j in range( N ):\n",
      "        temp = zeros( (V,H), float )\n",
      "        for i in range( N ):\n",
      "            temp +=  evcs[i,j] * data[i]\n",
      "        emg.append( temp )\n",
      "    return emg, evls\n",
      "\n",
      "emg, evls = Eimage(L, pics)"
     ],
     "language": "python",
     "metadata": {},
     "outputs": [],
     "prompt_number": 57
    },
    {
     "cell_type": "markdown",
     "metadata": {},
     "source": [
      "The eigenimages are used for multiple types of applications (see Section 23.4.4). One such example would be to use them as a classification resource. Coefficients of an image are created by multiplying the image with the eigenimages. In this case the original images can be reduced to just three scalars since there are three eigenimages . The eigenvalues are 34.8, 9.8, and 0, and the eigenimage associated with a very low eigenvalue can be removed from consideration. In this case, it is thus possible to reduce each of the three images to just two scalars. Code 19-24 shows this reduction."
     ]
    },
    {
     "cell_type": "markdown",
     "metadata": {},
     "source": [
      "eigenimage\ub294 \ub2e4\uc591\ud55c \ud615\uc2dd\uc758 \uc751\uc6a9\uc5d0 \uc0ac\uc6a9\ub41c\ub2e4 (Section 23.4.4 \ucc38\uc870). \uadf8\ub7ec\ud55c \uc608\ub294 \ubd84\ub958 \uc790\uc6d0\uc73c\ub85c\uc11c \uc0ac\uc6a9\ud558\ub294 \uac83\uc774\ub2e4. \ud558\ub098\uc758 \uc774\ubbf8\uc9c0\uc758 \uacc4\uc218\ub294 \uc774\ubbf8\uc9c0\uc640 eigenimage\ub97c \uacf1\ud574\uc8fc\uba74\uc11c \uc0dd\uc131\ub41c\ub2e4. In this case the original images \uc774 \uacbd\uc6b0 \uc6d0\ub798\uc758 \uc774\ubbf8\uc9c0\ub294 3\uac1c\uc758 eigenimage\uac00 \uc788\uae30 \ub54c\ubb38\uc5d0 3\uac1c\uc758 \uc2a4\uce7c\ub77c\ub85c \ucd95\uc18c\ub420 \uc218 \uc788\ub2e4. eigenvalue\ub294 34.8, 9.8, 0\uc774\uace0, \ub9e4\uc6b0 \ub0ae\uc740 eigenvalue\uc640 \uc5f0\uad00\ub41c eigenimage\ub97c \uace0\ub824\ud574\uc11c \uc81c\uac70\ub420 \uc218 \uc788\ub2e4. \uc774 \uacbd\uc6b0, 3\uac1c\uc758 \uc774\ubbf8\uc9c0 \uac01\uac01\uc744 2\uac1c\uc758 \uc2a4\uce7c\ub77c\ub85c \ucd95\uc18c \uc2dc\ud0ac \uc218 \uc788\ub2e4. Code 19-24\uc740 \uc774\ub7ec\ud55c \ucd95\uc18c\ub97c \ubcf4\uc5ec\uc900\ub2e4."
     ]
    },
    {
     "cell_type": "code",
     "collapsed": false,
     "input": [
      "# Code 19-24\n",
      "for i in range(2):\n",
      "    print (emg[i]*pics[0]).sum()"
     ],
     "language": "python",
     "metadata": {},
     "outputs": [
      {
       "output_type": "stream",
       "stream": "stdout",
       "text": [
        "-206.26331754\n",
        "-127.99491999\n"
       ]
      }
     ],
     "prompt_number": 58
    },
    {
     "cell_type": "markdown",
     "metadata": {},
     "source": [
      "In some applications these coefficients are used for recognition (Turk and Pentland, 1991). The theory is that similar images will be reduced to similar sets of coefficients, and it is much easier to compare the coefficients. The program Coeffs in Code 19-25 will compute the coefficients."
     ]
    },
    {
     "cell_type": "markdown",
     "metadata": {},
     "source": [
      "\uc5b4\ub5a4 \uc751\uc6a9\uc5d0\uc11c\ub294 \uc774\ub7ec\ud55c \uacc4\uc218\ub294 recognition\uc5d0 \uc0ac\uc6a9\ub41c\ub2e4 (Turk and Pentland, 1991). \uadf8 \uc774\ub860\uc740 \ube44\uc2b7\ud55c \uc774\ubbf8\uc9c0\uac00 \ube44\uc2b7\ud55c \uc9d1\ud569\uc758 \uacc4\uc218\ub85c \ucd95\uc18c\ub41c\ub2e4\ub294 \uac83\uc774\uace0, \uacc4\uc218\ub97c \ube44\uad50\ud558\uae30 \ud6e8\uc52c \uc26c\uc6cc\uc9c8 \uac83\uc774\ub2e4. Code 19-25\uc758 Coeffs \ud504\ub85c\uadf8\ub7a8\uc740 \uacc4\uc218\ub97c \uacc4\uc0b0\ud560 \uac83\uc774\ub2e4."
     ]
    },
    {
     "cell_type": "code",
     "collapsed": false,
     "input": [
      "# Code 19-25\n",
      "def Coeffs( pca, data ):\n",
      "    D = len( pca )\n",
      "    N = len( data )\n",
      "    cffs = zeros( (N,D), float )\n",
      "    for i in range( N ):\n",
      "        for j in range( D ):\n",
      "            cffs[i,j] = ( pca[j] * data[i]).sum()\n",
      "    return cffs\n",
      "\n",
      "def FindClose( cffs, pt ):\n",
      "    N = len( cffs )\n",
      "    d = zeros( N , float )\n",
      "    for i in range( N ):\n",
      "        d[i] = akando.Distance( cffs[i], array( pt ) )\n",
      "    ag = argsort( d )\n",
      "    return ag\n",
      "\n",
      "def ListBox( cffs, box ):\n",
      "    w, n, e, s = box\n",
      "    lb = []\n",
      "    for i in range(len(cffs)):\n",
      "        if n>=cffs[i][1]>=s and w<=cffs[i][0]<=e:\n",
      "            lb.append( i )\n",
      "    return lb"
     ],
     "language": "python",
     "metadata": {},
     "outputs": [],
     "prompt_number": 59
    },
    {
     "cell_type": "heading",
     "level": 4,
     "metadata": {},
     "source": [
      "19.7 Summary"
     ]
    },
    {
     "cell_type": "markdown",
     "metadata": {},
     "source": [
      "Principal component analysis (PCA) is an often-used tool that presents a new set of coordinates in which the data can be represented. These components are orthonormal vectors and are basically a rotation of the original coordinate system. However, the rotation minimizes the covariance matrix of the data, which means that some of the coordinates may become unimportant. Because these coordinates can be discarded, PCA space uses fewer dimensions to represent the data than the original coordinate system.\n",
      "Principal components can be computed using an eigenvector engine or singular valued decomposition (SVD). The NumPy package offers both and the interface is quite easy. Eigenvectors are also used to explore the progression of a system. Limit cycle plots using eigenvectors indicate if the system is shrinking, expanding, or caught in some sort of oscillation."
     ]
    },
    {
     "cell_type": "markdown",
     "metadata": {},
     "source": [
      "Principal component analysis (PCA, \uc8fc\uc131\ubd84\uc694\uc18c)\ub294 \ub370\uc774\ud130\uac00 \ub300\ud45c\ub420 \uc218 \uc788\ub294 \uc0c8\ub85c\uc6b4 \uc88c\ud45c\ub97c \ud45c\ud604\ud558\ub294\ub370 \uc790\uc8fc \uc0ac\uc6a9\ub418\ub294 \ub3c4\uad6c\uc774\ub2e4. \uc774\ub7ec\ud55c \uc131\ubd84\uc740 \uc9c1\uad50 \ubca1\ud130\uc774\uace0 \uae30\ubcf8\uc801\uc73c\ub85c \uc6d0\ub798 \uc88c\ud45c\uacc4\uc758 \ud68c\uc804\uc774\ub2e4. \uadf8\ub7ec\ub098, \ud68c\uc804\uc740 \ub370\uc774\ud130\uc758 \uacf5\ubd84\uc0b0 \ub9e4\ud2b8\ub9ad\uc2a4\ub97c \ucd5c\uc18c\ud654\ud558\uace0 \uc774\ub294 \uc88c\ud45c\uc758 \uc77c\ubd80\ub294 \uc911\uc694\ud558\uc9c0 \uc54a\uac8c \ub41c\ub2e4 \uc774\ub7ec\ud55c \uc88c\ud45c\uac00 \ubc84\ub824\uc9c8 \uc218 \uc788\uace0, PCA \uacf5\uac04\uc740 \uc6d0\ub798 \uc88c\ud45c\uacc4\uc758 \ub370\uc774\ud130\ub97c \ub300\ud45c\ud558\ub294 \ub354 \uc801\uc740 \ucc28\uc6d0\uc744 \uc0ac\uc6a9\ud55c\ub2e4.\n",
      "Principal component\ub294 eigenvector \uc5d4\uc9c4\uc774\ub098  singular valued decomposition (SVD)\uc744 \uc0ac\uc6a9\ud574 \uacc4\uc0b0\ub420 \uc218 \uc788\ub2e4. NumPy package\ub294 \ub458 \ub2e4 \uc81c\uacf5\ud558\uba70 \uc0ac\uc6a9\ubc95\uc774 \uc27d\ub2e4. Eigenvector\ub294 \ub610\ud55c \uc2dc\uc2a4\ud15c\uc758 \uc9c4\ud589\uc744 \ud0d0\uad6c\ud558\ub294\ub370 \uc0ac\uc6a9\ub41c\ub2e4. eigenvector\ub97c \uc0ac\uc6a9\ud55c \uc81c\ud55c\ub41c \uc2f8\uc774\ud074\uc758 plot\uc740 \uc2dc\uc2a4\ud15c\uc774 \ucd95\uc18c,\ud655\uc7a5 \ub418\ub294\uc9c0 \ub610\ub294 \uc9c4\ub3d9\uc5d0 \uc7a1\ud788\ub294\uc9c0 \uac00\ub974\ud0a8\ub2e4."
     ]
    }
   ],
   "metadata": {}
  }
 ]
}