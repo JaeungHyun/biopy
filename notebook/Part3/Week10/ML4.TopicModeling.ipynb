{
 "metadata": {
  "name": "",
  "signature": "sha256:5179f6842d68dc050ded98ae7a072ab1de761a46f79cb89055959bf3b1118afc"
 },
 "nbformat": 3,
 "nbformat_minor": 0,
 "worksheets": [
  {
   "cells": [
    {
     "cell_type": "heading",
     "level": 1,
     "metadata": {},
     "source": [
      "\uc624\ub298\uc758 \uc8fc\uc81c"
     ]
    },
    {
     "cell_type": "markdown",
     "metadata": {},
     "source": [
      "* \ub300\uc0c1\uc744 \uad70\uc9d1\ud654\ud558\uc9c0 \uc54a\uace0 \uc8fc\uc81c(subject)\ub77c \ubd88\ub9ac\ub294 \uc791\uc740 \uadf8\ub8f9\uc73c\ub85c \uad6c\ubd84\ud558\ub294 \ubc95\n",
      "* \ud14d\uc2a4\ud2b8\uc758 \uc911\uc2ec\uc5d0 \uc788\ub294 \uc8fc\uc81c\ub97c \uc720\ucd94\ud558\uac70\ub098 \uc8fc\uc81c\uac00 \ubaa8\ud638\ud55c \ud14d\uc2a4\ud2b8\uc758 \uc8fc\uc81c \uc720\ucd94"
     ]
    },
    {
     "cell_type": "heading",
     "level": 3,
     "metadata": {},
     "source": [
      "\uc7a0\uc7ac \ub514\ub9ac\ud074\ub808 \ud560\ub2f9(LDA, latent Dirichlet Allocation)???"
     ]
    },
    {
     "cell_type": "markdown",
     "metadata": {},
     "source": [
      "\uc544\uc27d\uac8c\ub3c4 Scikit-learn\uc740 LDA\ub97c \uc9c0\uc6d0\ud558\uc9c0 \uc54a\uc74c\n",
      "\n",
      "\uc608\ub97c \ub4e4\uc5b4, \uc6b0\ub9ac\uc5d0\uac8c \ub2e4\uc74c\uacfc \uac19\uc740 \uc138 \uac00\uc9c0 \uc8fc\uc81c\uac00 \uc788\ub2e4\uace0 \uc0dd\uac01\ud574\ubcf4\uc790. \uac01 \uc8fc\uc81c\ub294 \uadf8 \uc8fc\uc81c\uc640 \uad00\ub828\ub41c \ub2e8\uc5b4 \ub9ac\uc2a4\ud2b8\ub97c \uac16\uac8c \ub41c\ub2e4.\n",
      "* \uae30\uacc4\ud559\uc2b5\n",
      "* \ud30c\uc774\uc36c\n",
      "* \ube75 \uad7d\uae30\n",
      "\n",
      "\uc774 \ucc45\uc740 \ucc98\uc74c \ub450 \uac00\uc9c0 \uc8fc\uc81c\uac00 50%\uc529 \ud63c\ud569\ub418\uc5b4 \uc788\uc744 \uac83\uc774\ub2e4. \ube75 \uad7d\uae30\uc640 \uad00\ub828\ub41c(i.e. \ubc00\uac00\ub8e8) \ub2e8\uc5b4\uac00 \ub098\uc62c \ud655\ub960?"
     ]
    },
    {
     "cell_type": "heading",
     "level": 3,
     "metadata": {},
     "source": [
      "\uc74c \uc774\uac8c \ubb34\uc2a8 \uc18c\ub9ac???? \uadf8\ub798\uc11c \uad6c\uae00\ub2d8\uaed8 \ubb3c\uc5b4\ubd24\uc2b5\ub2c8\ub2e4."
     ]
    },
    {
     "cell_type": "markdown",
     "metadata": {},
     "source": [
      "\ubaa8\ub4e0 \ud14d\uc2a4\ud2b8\uc5d0\ub294 \uc8fc\uc81c\uac00 \uc788\uc74c -> \uc8fc\uc81c\uac00 \uac19\uc740 \uae00\uc5d0\ub294 \ub098\ud0c0\ub098\ub294 \ub2e8\uc5b4\uc758 \ud328\ud134\uc774 \ube44\uc2b7\n",
      "* \uc815\uce58\uc5d0 \uad00\ub828\ub41c \uae00\uc774\ub77c\uba74 '\uad6d\ud68c'\ub098 '\uc120\uac70' \uac19\uc740 \ub2e8\uc5b4\uac00 \ub9ce\uc774 \ub098\uc634\n",
      "* \uacbd\uc81c\uc5d0 \uad00\ub828\ub41c \uae00\uc774\ub77c\uba74 '\uace0\uc6a9'\uc774\ub098 '\uae08\uc735' \uac19\uc740 \ub2e8\uc5b4\uac00 \ub9ce\uc774 \ub098\uc634\n",
      "\n",
      "\uc989 \uc720\ub2c8\uadf8\ub7a8\uc740 \uc720\ub2c8\uadf8\ub7a8\uc778\ub370 \uc8fc\uc81c\uc5d0 \ub530\ub77c \uadf8 \ub2e8\uc5b4 \ubd84\ud3ec\uac00 \ub2ec\ub77c\uc9d0 (\uc720\ub2c8\uadf8\ub7a8 \ud63c\ud569 \ubaa8\ud615, Mixture of unigrams model) \uc720\ub2c8\uadf8\ub7a8 \ud63c\ud569 \ubaa8\ud615\uc5d0\uc11c \ubaa8\ub4e0 \ud14d\uc2a4\ud2b8\ub294 \uc5ec\ub7ec \uac00\uc9c0 \uc8fc\uc81c\uac00 \ud655\ub960\uc801\uc73c\ub85c \uc911\ucca9\ub41c \uc0c1\ud0dc \n",
      "\n",
      "\uc608\ub97c \ub4e4\uc5b4,\n",
      "* \uc815\uce58 \uad00\ub828 \uae00\uc5d0\uc11c,'\uad6d\ud68c'\ub77c\ub294 \ub2e8\uc5b4\uac00 \ub098\ud0c0\ub0a0 \ud655\ub960: 1%\n",
      "* \uacbd\uc81c \uad00\ub828 \uae00\uc5d0\uc11c '\uad6d\ud68c'\ub77c\ub294 \ub2e8\uc5b4\uac00 \ub098\ud0c0\ub0a0 \ud655\ub960: 0.5%\n",
      "* \uc5b4\ub5a4 \uae00\uc774 \uc815\uce58 \uad00\ub828 \uae00\uc77c \ud655\ub960\uc774 80%\uace0, \uacbd\uc81c \uad00\ub828 \uae00\uc77c \ud655\ub960\uc774 20%\uba74, \uc774 \uae00\uc5d0\uc11c '\uad6d\ud68c'\ub77c\ub294 \ub2e8\uc5b4\uac00 \ub098\ud0c0\ub0a0 \ud655\ub960: 80% \u00d7 1% + 20% \u00d7 0.5% = 0.9%\n",
      "\n",
      "\uc774 \ub118\ubc84\ub97c \uac00\uc9c0\uace0 \uc0dd\uac01\ud574 \ubcf8\ub2e4\uba74, \uc774 \uae00\uc740 \uacbd\uc81c \uad00\ub828 \uae00\uc774\uac70\ub098 \uc544\ub2c8\uba74 \uc815\uce58 \uad00\ub828 \uae00\uc774\uae34 \ud55c\ub370 \ud310\ub2e8\ud558\uae30 \uc5b4\ub835\ub2e4. \n",
      "\uadf8\ub807\ub2e4\uba74 '\uc774 \uae00\uc758 \uc8fc\uc81c \uc790\uccb4\uac00 80%\ub294 \uc815\uce58\uace0 20%\ub294 \uacbd\uc81c\ub2e4'\ub77c\uace0 \ud655\uc7a5\ud558\uba74 \uc5b4\ub5a8\uae4c?"
     ]
    },
    {
     "cell_type": "heading",
     "level": 3,
     "metadata": {},
     "source": [
      "\uc880 \ub354 \uc790\uc138\ud788 LDA!"
     ]
    },
    {
     "cell_type": "markdown",
     "metadata": {},
     "source": [
      "* \uc704\uc758 \uc544\uc774\ub514\uc5b4\ub97c \uc544\uc8fc \uc791\uc815\ud558\uace0 \ud655\uc7a5\ud55c \ubaa8\ub378\n",
      "* \uc8fc\uc5b4\uc9c4 \ubb38\uc11c\uc5d0 \ub300\ud558\uc5ec \uac01 \ubb38\uc11c\uc5d0 \uc5b4\ub5a4 \uc8fc\uc81c\ub4e4\uc774 \uc874\uc7ac\ud558\ub294\uc9c0\uc5d0 \ub300\ud55c \ud655\ub960 \ubaa8\ud615\n",
      "* \uc218\uc2dd\uc740 \uc774\ub807\uc2b5\ub2c8\ub2e4...\n",
      "<img src='http://www.4four.us/wordpress/wp-content/uploads/2010/10/zn.png'/>\n",
      "<img src='http://www.4four.us/wordpress/wp-content/uploads/2010/10/wz.png'/>\n",
      "<img src='http://www.4four.us/wordpress/wp-content/uploads/2010/10/bayes.png'/>\n",
      "\n",
      "* LDA \ubaa8\ud615\uc5d0\uc11c \ud558\ub098\uc758 \ubb38\uc11c\uc5d0\ub294 \uc5ec\ub7ec \uac00\uc9c0 \uc8fc\uc81c\uac00 \ud63c\ud569\ub418\uc5b4 \uc788\uace0, \ub2e8\uc5b4 \ud558\ub098 \ud558\ub098\ub294 \uc774\ub7f0 \uc8fc\uc81c\ub4e4 \uc911\uc758 \ud558\ub098\ub97c \ubc18\uc601\n",
      "* \uc608\ub97c \ub4e4\uc5b4 \"\uad6d\ud68c\ub294 \uae08\uc735 \uad00\ub828 \ubc95\uc548\uc744..\"\uc774\ub77c\ub294 \ubb38\uc7a5\uc774 \uc788\ub2e4\uba74, '\uad6d\ud68c'\uc640 '\ubc95\uc548'\uc740 \uc815\uce58\uc801 \uc8fc\uc81c\ub97c \ubc18\uc601\ud558\uace0, '\uae08\uc735'\uc740 \uacbd\uc81c\uc801 \uc8fc\uc81c\ub97c \ubc18\uc601\n",
      "\n",
      "<img src='http://pds16.egloos.com/pds/200910/14/94/a0007594_4ad4a0ba737f2.png'/>\n",
      "\n",
      "* \ube68\uac04\uc0c9\uc740 \uc608\uc220, \ucd08\ub85d\uc0c9\uc740 \uc608\uc0b0, \ud30c\ub780\uc0c9\uc740 \uc544\ub3d9, \uc790\uc8fc\uc0c9\uc740 \uad50\uc721\uc774\ub77c\ub294 \uc8fc\uc81c\ub97c \ubc18\uc601\ud560 \uac00\ub2a5\uc131\uc774 \ub192\uc74c"
     ]
    },
    {
     "cell_type": "heading",
     "level": 3,
     "metadata": {},
     "source": [
      "\ucc38\uc870"
     ]
    },
    {
     "cell_type": "markdown",
     "metadata": {},
     "source": [
      "* \uc704\ud0a4\ud53c\ub514\uc544: http://ko.wikipedia.org/wiki/%EC%9E%A0%EC%9E%AC_%EB%94%94%EB%A6%AC%ED%81%B4%EB%A0%88_%ED%95%A0%EB%8B%B9\n",
      "* LDA\uc5d0 \ub300\ud55c \uadf8\ub098\ub9c8 \uc26c\uc6b4 \uc124\uba85: http://www.4four.us/article/2010/11/latent-dirichlet-allocation-simply\n",
      "* LDA\uc5d0 \ub300\ud55c \uce7c\ub7fc: http://nullmodel.egloos.com/1958448\n",
      "* gensim API \ubaa9\ub85d: https://radimrehurek.com/gensim/apiref.html\n",
      "* \uc6cc\ub4e4: http://www.wordle.net/"
     ]
    },
    {
     "cell_type": "heading",
     "level": 2,
     "metadata": {},
     "source": [
      "\uc8fc\uc81c \ubaa8\ub378 \ub9cc\ub4e4\uae30"
     ]
    },
    {
     "cell_type": "markdown",
     "metadata": {},
     "source": [
      "Quick install\n",
      "\n",
      "* pip install gensim\n",
      "* easy_install gensim"
     ]
    },
    {
     "cell_type": "markdown",
     "metadata": {},
     "source": [
      "* gensim \uc124\uce58\ud558\ub294 \ubc95 \ucc38\uc870: https://radimrehurek.com/gensim/install.html"
     ]
    },
    {
     "cell_type": "code",
     "collapsed": false,
     "input": [
      "from gensim import corpora, models, similarities\n",
      "corpus = corpora.BleiCorpus('./data/ap/ap.dat', './data/ap/vocab.txt')"
     ],
     "language": "python",
     "metadata": {},
     "outputs": []
    },
    {
     "cell_type": "code",
     "collapsed": false,
     "input": [
      "model = models.ldamodel.LdaMode1(corpus,num_topics=100, id2word=corpus.id2word)\n",
      "#The constructor estimates Latent Dirichlet Allocation model parameters based on a training corpus.\n",
      "topics = [model[c] for c in corpus]\n",
      "print topics[0]\n",
      "'''format: (topic_index, topic_weight)\n",
      "Result: [(3, 0.023607255776894751),\n",
      "       (13, 0.11679936618551275),\n",
      "       (19, 0.075935855202707139),\n",
      "       (92, 0.10781541687001292)]'''"
     ],
     "language": "python",
     "metadata": {},
     "outputs": []
    },
    {
     "cell_type": "markdown",
     "metadata": {},
     "source": [
      "* \uc57d 150\uac1c\uc758 \ubb38\uc11c\uac00 5\uac1c\uc758 \uc8fc\uc81c\ub97c \uac16\ub294\ub2e4.\n",
      "* \ub300\ub2e4\uc218\ub294 10~12\uac1c\ub97c \uac00\uc9c4\ub2e4. \n",
      "* 20\uac1c \uc774\uc0c1\uc758 \uc8fc\uc81c\uc5d0 \ub300\ud574 \uc774\uc57c\uae30\ud558\ub294 \ubb38\uc11c\ub294 \uc5c6\ub2e4.\n",
      "\n",
      "<img src='https://scontent-a.xx.fbcdn.net/hphotos-xpa1/v/t1.0-9/10915148_10203539799871789_3909492498476746140_n.jpg?oh=3109c3d4c34f2b03233b206aa2f3ec7c&oe=5533AD76'/>"
     ]
    },
    {
     "cell_type": "code",
     "collapsed": false,
     "input": [
      "from gensim import corpora, models, similarities\n",
      "corpus - corpora.BleiCorpus('./data/ap/ap.dat','./data/ap/vocap.txt')\n",
      "\n",
      "model = models.ldamodel.LdaMode1(corpus,num_topics=100, id2word=corpus.id2word, alpha=1)\n",
      "#The constructor estimates Latent Dirichlet Allocation model parameters based on a training corpus.\n",
      "\n",
      "topics - [model[c] for c in corpus]\n",
      "print topics[0]\n",
      "#format: (topic_index, topic_weight)\n"
     ],
     "language": "python",
     "metadata": {},
     "outputs": []
    },
    {
     "cell_type": "markdown",
     "metadata": {},
     "source": [
      "* \ub9e4\uac1c\ubcc0\uc218 \uc54c\ud30c(alpha)\ub97c \uc0ac\uc6a9\ud558\uc5ec \uc8fc\uc81c \uc218\ub97c \uc880 \ub354 \ub113\ud600 \ubcf4\uc558\ub2e4. \n",
      "* \uc54c\ud30c\ub294 \uc591\uc218\uc5ec\uc57c \ud558\uace0 \ubcf4\ud1b5 1\ubcf4\ub2e4 \uc791\ub2e4.\n",
      "* gensim\uc740 \uc54c\ud30c\uc758 \uae30\ubcf8 \uac12\uc744 1.0/len(corpus)\ub85c \uc124\uc815\ud55c\ub2e4.\n",
      "\n",
      "<img src = 'https://fbcdn-sphotos-a-a.akamaihd.net/hphotos-ak-xpa1/v/t1.0-9/10430049_10203539799911790_2622314858795781802_n.jpg?oh=c9af8a7d7dc5379f5ff4ed1a8e3f311b&oe=553A553B&__gda__=1428849197_a54e06b3c6248b4c4191c5cf8fb129a5'/>"
     ]
    },
    {
     "cell_type": "heading",
     "level": 3,
     "metadata": {},
     "source": [
      "\uc804\uccb4 \ucf54\ub4dc"
     ]
    },
    {
     "cell_type": "code",
     "collapsed": false,
     "input": [
      "from __future__ import print_function\n",
      "from gensim import corpora, models, similarities\n",
      "from mpltools import style\n",
      "import matplotlib.pyplot as plt\n",
      "import numpy as np\n",
      "from os import path\n",
      "style.use('ggplot')\n",
      "\n",
      "if not path.exists('./data/ap/ap.dat'):\n",
      "    print('Error: Expected data to be present at data/ap/')\n",
      "\n",
      "corpus = corpora.BleiCorpus('./data/ap/ap.dat', './data/ap/vocab.txt')\n",
      "model = models.ldamodel.LdaModel(corpus, num_topics=100, id2word=corpus.id2word, alpha=None)\n",
      "\n",
      "for ti in xrange(84):\n",
      "    words = model.show_topic(ti, 64)\n",
      "    tf = sum(f for f,w in words)\n",
      "    print('\\n'.join('{}:{}'.format(w, int(1000.*f/tf)) for f,w in words))\n",
      "    print()\n",
      "    print()\n",
      "    print()\n",
      "\n",
      "thetas = [model[c] for c in corpus]\n",
      "plt.hist([len(t) for t in thetas], np.arange(42))\n",
      "plt.ylabel('Nr of documents')\n",
      "plt.xlabel('Nr of topics')\n",
      "plt.savefig('../1400OS_04_01+.png')\n",
      "\n",
      "model1 = models.ldamodel.LdaModel(corpus, num_topics=100, id2word=corpus.id2word, alpha=1.)\n",
      "thetas1 = [model1[c] for c in corpus]\n",
      "\n",
      "#model8 = models.ldamodel.LdaModel(corpus, num_topics=100, id2word=corpus.id2word, alpha=1.e-8)\n",
      "#thetas8 = [model8[c] for c in corpus]\n",
      "plt.clf()\n",
      "plt.hist([[len(t) for t in thetas], [len(t) for t in thetas1]], np.arange(42))\n",
      "plt.ylabel('Nr of documents')\n",
      "plt.xlabel('Nr of topics')\n",
      "plt.text(9,223, r'default alpha')\n",
      "plt.text(26,156, 'alpha=1.0')\n",
      "plt.savefig('../1400OS_04_02+.png')"
     ],
     "language": "python",
     "metadata": {},
     "outputs": []
    },
    {
     "cell_type": "heading",
     "level": 3,
     "metadata": {},
     "source": [
      "\uc815\ub9ac"
     ]
    },
    {
     "cell_type": "markdown",
     "metadata": {},
     "source": [
      "* \uc8fc\uc81c\ub294 \ub2e8\uc5b4\uc5d0 \ub300\ud55c \ub2e4\ucc28\uc6d0 \ubd84\uc0b0\uc774\ub77c\uace0 \ubcfc \uc218 \uc788\ub2e4.\n",
      "* \ud655\ub960\uc774 \ub192\uc740 \ub2e8\uc5b4\ub294 \ud655\ub960\uc774 \ub0ae\uc740 \ub2e8\uc5b4\ubcf4\ub2e4 \uc8fc\uc81c\uc640 \ub354 \uad00\ub828\ub418\uc5b4 \uc788\ub2e4.\n",
      "* \uac00\uc7a5 \uac00\uc911\uce58\uac00 \ub192\uc740 \ub2e8\uc5b4\uc758 \ub9ac\uc2a4\ud2b8\ub85c \uc8fc\uc81c\ub97c \uc694\uc57d\ud558\ub294 \ubc29\ubc95\uc774 \uc804\ud615\uc801\uc784\n",
      "* dress military societ president new state capt carlucci states leader stance government\n",
      "* bill employees experiments levin taxation federal measure legislation senate president whistleblowers sponsor"
     ]
    },
    {
     "cell_type": "heading",
     "level": 2,
     "metadata": {},
     "source": [
      "\uc8fc\uc81c \uacf5\uac04\uc5d0\uc11c\uc758 \uc720\uc0ac\uc131 \ube44\uad50"
     ]
    },
    {
     "cell_type": "markdown",
     "metadata": {},
     "source": [
      "* \uc8fc\uc81c \uacf5\uac04\uc5d0\uc11c \ubb38\uc11c\ub97c \ube44\uad50\ud560 \uc218 \uc788\ub2e4\uba74?\n",
      "* \ub450 \ubb38\uc11c\uac00 \uac19\uc740 \uc8fc\uc81c\ub97c \uc774\uc57c\uae30\ud55c\ub2e4\uba74 \ub458\uc740 \uc720\uc0ac\ud558\ub2e4\uace0 \ud560 \uc218 \uc788\ub2e4.\n",
      "* 100 \ud06c\uae30\uc758 \uc8fc\uc81c \ubca1\ud130 \uac00\uc911\uce58\ub97c \ube44\uad50\ud574 \uacc4\uc0b0\ud574 \ubcf4\uc790."
     ]
    },
    {
     "cell_type": "code",
     "collapsed": false,
     "input": [
      "import numpy as np\n",
      "from scipy.spatial import distance\n",
      "from gensim import corpora, models, similarities\n",
      "\n",
      "corpus - corpora.BleiCorpus('./data/ap/ap.dat','./data/ap/vocap.txt')\n",
      "\n",
      "model = models.ldamodel.LdaMode1(corpus,num_topics=100, id2word=corpus.id2word)\n",
      "topics - [model[c] for c in corpus]\n",
      "\n",
      "dense = np.zeros((len(topics), 100), float)\n",
      "\n",
      "for ti,t in enumerate(topics):\n",
      "    for tj,v in t:\n",
      "        dense[ti,tj] = v\n",
      "        \n",
      "pairwise = distance.square.squareform(distance.pdist(dense))\n",
      "# \ud55c\ubc88\uc758 \ud638\ucd9c\ub85c sum((dense[ti] - dense[ij]**2))\uc758 \ubaa8\ub4e0 \uac12\uc744 \uacc4\uc0b0\ud55c\ub2e4.\n",
      "\n",
      "largest = pairwise.max()\n",
      "\n",
      "for ti in range(len(topics)):\n",
      "    pairwise[ti,ti] = largest + 1\n",
      "# \ub9e4\ud2b8\ub9ad\uc2a4\uc758 \ub300\uac01\uc120 \uc694\uc18c\uc5d0 \ud070 \uac12\uc744 \uc124\uc815\n",
      "    \n",
      "def closest_to(doc_id):\n",
      "    return pairwise[doc_id].argmin()\n",
      "\n",
      "print closest_to(1)"
     ],
     "language": "python",
     "metadata": {},
     "outputs": []
    },
    {
     "cell_type": "heading",
     "level": 3,
     "metadata": {},
     "source": [
      "\uacb0\uacfc"
     ]
    },
    {
     "cell_type": "markdown",
     "metadata": {},
     "source": [
      "* close_to\ub97c \uc774\uc6a9\ud558\uc5ec \uc544\ub798 \ubb38\uc11c\uc640 \uac00\uc7a5 \ube44\uc2b7\ud55c \ubb38\uc11c\ub97c \uc694\uccad\ud574 \ubcf4\uc558\ub2e4.\n",
      "\n",
      "<img src='https://scontent-a.xx.fbcdn.net/hphotos-xap1/v/t1.0-9/10922760_10203539799991792_2436916611356751000_n.jpg?oh=d6fb01d25f61bfded215ff34ebc62f8e&oe=5568FBDA'/>\n",
      "\n",
      "* \uc544\ub798\uc640 \uac19\uc774 \uac19\uc740 \uc0ac\ub78c\uc774 \uc4f4 \ubb38\uc11c\ub97c \uc5bb\uc744 \uc218 \uc788\ub2e4.\n",
      "\n",
      "<img src='https://fbcdn-sphotos-e-a.akamaihd.net/hphotos-ak-xpa1/v/t1.0-9/1978877_10203539799791787_1774696591591545564_n.jpg?oh=2769c8cc498fae903b17d26bb6f70b80&oe=55369C37&__gda__=1432694621_da7eff6aa9b7ee9014735bcf0654d5e1'/>\n",
      "<img src='https://fbcdn-sphotos-c-a.akamaihd.net/hphotos-ak-xfa1/v/t1.0-9/10514488_10203539799951791_2215561568517152548_n.jpg?oh=90e7113776edd4707e2c86372afb7763&oe=552CD91F&__gda__=1429287154_53adbbe5470bd33eb28e2fe592a76c61'/>"
     ]
    },
    {
     "cell_type": "heading",
     "level": 3,
     "metadata": {},
     "source": [
      "\uc804\uccb4 \ucf54\ub4dc"
     ]
    },
    {
     "cell_type": "code",
     "collapsed": false,
     "input": [
      "import nltk.corpus\n",
      "import milk\n",
      "import numpy as np\n",
      "import string\n",
      "from gensim import corpora, models, similarities\n",
      "import sklearn.datasets\n",
      "import nltk.stem\n",
      "from collections import defaultdict\n",
      "\n",
      "english_stemmer = nltk.stem.SnowballStemmer('english')\n",
      "stopwords = set(nltk.corpus.stopwords.words('english'))\n",
      "stopwords.update(['from:', 'subject:', 'writes:', 'writes'])\n",
      "class DirectText(corpora.textcorpus.TextCorpus):\n",
      "    def get_texts(self):\n",
      "        return self.input\n",
      "    def __len__(self):\n",
      "        return len(self.input)\n",
      "dataset = sklearn.datasets.load_mlcomp(\"20news-18828\", \"train\", \n",
      "                                       mlcomp_root='../data')\n",
      "otexts = dataset.data\n",
      "texts = dataset.data\n",
      "\n",
      "texts = [t.decode('utf-8', 'ignore') for t in texts]\n",
      "texts = [t.split() for t in texts]\n",
      "texts = [map(lambda w: w.lower(), t) for t in texts]\n",
      "texts = [filter(lambda s : not len(set(\"+-.?!()>@012345689\") & set(s)), t) for t in texts]\n",
      "texts = [filter(lambda s : (len(s) > 3) and (s not in stopwords), t) for t in texts]\n",
      "texts = [map(english_stemmer.stem,t) for t in texts]\n",
      "usage = defaultdict(int)\n",
      "for t in texts:\n",
      "    for w in set(t):\n",
      "        usage[w] += 1\n",
      "limit = len(texts)/10\n",
      "too_common = [w for w in usage if usage[w] > limit]\n",
      "too_common = set(too_common)\n",
      "texts = [filter(lambda s : s not in too_common, t) for t in texts]\n",
      "\n",
      "corpus = DirectText(texts)\n",
      "dictionary = corpus.dictionary\n",
      "try:\n",
      "    dictionary['computer']\n",
      "except:\n",
      "    pass\n",
      "\n",
      "model = models.ldamodel.LdaModel(corpus, num_topics=100, id2word=dictionary.id2token)\n",
      "\n",
      "thetas = np.zeros((len(texts),100))\n",
      "for i,c in enumerate(corpus):\n",
      "    for ti,v in model[c]:\n",
      "        thetas[i,ti] += v\n",
      "distances = milk.unsupervised.pdist(thetas)\n",
      "large = distances.max() + 1\n",
      "for i in xrange(len(distances)): distances[i,i] = large\n",
      "\n",
      "print otexts[1]\n",
      "print\n",
      "print\n",
      "print\n",
      "print otexts[distances[1].argmin()]"
     ],
     "language": "python",
     "metadata": {},
     "outputs": []
    },
    {
     "cell_type": "heading",
     "level": 2,
     "metadata": {},
     "source": [
      "\uc704\ud0a4\ud53c\ub514\uc544 \uc804\uccb4\uc758 \ubaa8\ub378\ub9c1"
     ]
    },
    {
     "cell_type": "markdown",
     "metadata": {},
     "source": [
      "* \uc704\ud0a4\ud53c\ub514\uc544 \uc804\uccb4\ub97c \uc9c1\uc811 \uc778\ub371\uc2f1\ud558\ub824\uace0 \ud588\uc73c..\ub098 11G\uc758 \uc555\ubc15\uc73c\ub85c \uc2e4\ud328\ud558\uc5ec(\u3160\u3160) \ucc45\uc758 \uc608\uc81c\ub9cc \uc62c\ub9bd\ub2c8\ub2e4.\n",
      "* \uba3c\uc800 \uc704\ud0a4\ud53c\ub514\uc544 \ub364\ud504\ub97c http://dumps.wikimedia.org \uc5d0\uc11c \ub0b4\ub824\ubc1b\uc544 gensim\uc73c\ub85c \uc778\ub371\uc2f1\ud569\ub2c8\ub2e4."
     ]
    },
    {
     "cell_type": "code",
     "collapsed": false,
     "input": [
      "python -m gensim.script.make_wiki enwiki-latest-pages-articles.xml.bz2"
     ],
     "language": "python",
     "metadata": {},
     "outputs": []
    },
    {
     "cell_type": "heading",
     "level": 3,
     "metadata": {},
     "source": [
      "\uc804\uccb4 \ucf54\ub4dc"
     ]
    },
    {
     "cell_type": "code",
     "collapsed": false,
     "input": [
      "from __future__ import print_function\n",
      "import numpy as np\n",
      "import logging, gensim\n",
      "\n",
      "logging.basicConfig(\n",
      "    format='%(asctime)s : %(levelname)s : %(message)s',\n",
      "    level=logging.INFO)\n",
      "\n",
      "id2word = gensim.corpora.Dictionary.load_from_text('data/wiki_en_output_wordids.txt')\n",
      "mm = gensim.corpora.MmCorpus('data/wiki_en_output_tfidf.mm')\n",
      "# \uc804\ucc98\ub9ac \ub370\uc774\ud130 \uc62c\ub9bc\n",
      "\n",
      "model = gensim.models.ldamodel.LdaModel(\n",
      "          corpus=mm,\n",
      "          id2word=id2word,\n",
      "          num_topics=100,\n",
      "          update_every=1,\n",
      "          chunksize=10000,\n",
      "          passes=1)\n",
      "# LDA \ubaa8\ub378\ub9c1\n",
      "\n",
      "model.save('wiki_lda.pkl')\n",
      "# \uc800\uc7a5\n",
      "\n",
      "topics = [model[doc] for doc in mm]\n",
      "lens = np.array([len(t) for t in topics])\n",
      "\n",
      "print(np.mean(lens <= 10))\n",
      "# 0.932382190219\n",
      "\n",
      "print(np.mean(lens))\n",
      "# 6.55842326445\n",
      "\n",
      "counts = np.zeros(100)\n",
      "for doc_top in topics:\n",
      "    for ti,_ in doc_toc:\n",
      "        counts[ti] += 1\n",
      "        \n",
      "for doc_top in topics:\n",
      "    for ti,_ in doc_top:\n",
      "        counts[ti] += 1\n",
      "        \n",
      "words = model.show_topic(counts.argmax(), 64)\n",
      "# \uc704\ud0a4\ud53c\ub514\uc544\uc5d0\uc11c \uac00\uc7a5 \ub9ce\uc774 \ub2e4\ub8e8\uace0 \uc788\ub294 \uc8fc\uc81c\n",
      "\n",
      "print(words)\n",
      "print()\n",
      "print()\n",
      "print()\n",
      "words = model.show_topic(counts.argmin(), 64)\n",
      "# \uac00\uc7a5 \ub35c \ub2e4\ub8e8\uace0 \uc788\ub294 \uc8fc\uc81c\n",
      "\n",
      "print(words)\n",
      "print()\n",
      "print()\n",
      "print()"
     ],
     "language": "python",
     "metadata": {},
     "outputs": []
    },
    {
     "cell_type": "heading",
     "level": 3,
     "metadata": {},
     "source": [
      "\uc815\ub9ac"
     ]
    },
    {
     "cell_type": "markdown",
     "metadata": {},
     "source": [
      "* \uc704\ud0a4\ud53c\ub514\uc544 \ubb38\uc11c\ub294 \ud3c9\uade0 6.5\uac1c\uc758 \uc8fc\uc81c\ub97c \ub2e4\ub8e8\uace0, 93%\ub294 10\uac1c \uc774\ud558\uc758 \uc8fc\uc81c\ub97c \ub2e4\ub8ec\ub2e4.\n",
      "\n",
      "* print(np.mean(lens <= 10))\n",
      "* Result: 0.932382190219\n",
      "\n",
      "* print(np.mean(lens))\n",
      "* Result: 6.55842326445\n",
      "\n",
      "\n",
      "<img src='https://scontent-a-sea.xx.fbcdn.net/hphotos-xap1/v/l/t1.0-9/10906283_10203539708629508_7772095698773244462_n.jpg?oh=15d43fbf8b7c6c31bb0e2646abfa61ea&oe=552B0C2B'/>\n",
      "\n",
      "* \uac00\uc7a5 \ub9ce\uc774 \ub2e4\ub8ec \uc8fc\uc81c\ub294 \ucc45\uacfc \uc601\ud654 \uac19\uc740 \ud53d\uc158\uacfc \uc2a4\ud1a0\ub9ac\uc774\ub2e4.\n",
      "\n",
      "<img src='https://fbcdn-sphotos-d-a.akamaihd.net/hphotos-ak-xpf1/v/t1.0-9/10906551_10203539708589507_4347990174735863074_n.jpg?oh=9e151c4dee0eb6c3cf8b6b7218b28536&oe=556DB8E5&__gda__=1428811418_dbf9fc9c12046972e892ca68083fbcb3'/>\n",
      "\n",
      "* \uac00\uc7a5 \uc801\uac8c \ub2e4\ub8ec \uc8fc\uc81c\ub294 \uc911\uc559\uc544\ud504\ub9ac\uce74\uc758 \uacfc\uac70 \ud504\ub791\uc2a4 \uc2dd\ubbfc\uc9c0\ub2e4. (\ubb38\uc11c\uc758 1.5%, \ub2e8\uc5b4\uc758 0.08%)"
     ]
    },
    {
     "cell_type": "heading",
     "level": 2,
     "metadata": {},
     "source": [
      "\uc8fc\uc81c\uc758 \uac1c\uc218 \uace0\ub974\uae30"
     ]
    },
    {
     "cell_type": "markdown",
     "metadata": {},
     "source": [
      "* \uc8fc\uc81c\uc758 \uac1c\uc218\ub97c 100\uac1c\ub85c \uace0\uc815\ud588\uc9c0\ub9cc \uc784\uc758\ub85c \uc870\uc815\ud560 \uc218 \uc788\ub2e4.\n",
      "* \uc8fc\uc81c\uc758 \uac1c\uc218\ub97c \uc790\ub3d9\uc73c\ub85c \uacb0\uc815\ud558\ub294 \uacc4\uce35\uc801 \ub514\ub9ac\ud074\ub808 \uacfc\uc815(Hierarchical Dirichiet Process)\uc744 \ucd94\ucc9c\n",
      "* \uc0ac\uc6a9 \ubc29\ubc95\uc740 \uc774\uc804 \ucf54\ub4dc\uc5d0\uc11c, gensim.models.LdaModl \ud638\ucd9c\uc744 HDPModel \uc0dd\uc131\uc790 \ud638\ucd9c\ub85c \ub300\uccb4\ud558\uba74 \ub41c\ub2e4.\n",
      "* HDP API \ucc38\uc870: https://radimrehurek.com/gensim/models/hdpmodel.html"
     ]
    },
    {
     "cell_type": "code",
     "collapsed": false,
     "input": [
      "hdp = gensim.models.hdpmodel.hdpModel(mm, id2word)"
     ],
     "language": "python",
     "metadata": {},
     "outputs": []
    },
    {
     "cell_type": "heading",
     "level": 3,
     "metadata": {},
     "source": [
      "\ucc38\uc870"
     ]
    },
    {
     "cell_type": "markdown",
     "metadata": {},
     "source": [
      "* \uc591\uc774 \uc870\uae08 \ubd80\uc871\ud55c \ub4ef\ud558\uc5ec N-gram \uad00\ub828\ud558\uc5ec \uac04\ub2e8\ud55c \uc790\ub8cc\ub97c \ub9cc\ub4e4\uc5c8\uc2b5\ub2c8\ub2e4.\n",
      "\n",
      "* \uad6c\uae00 \ubb38\uc11c: https://docs.google.com/document/d/10kW-3nlizpVtiS3nNmo_8syMwlgJpdNOfGgVunE1hQ8/edit"
     ]
    }
   ],
   "metadata": {}
  }
 ]
}