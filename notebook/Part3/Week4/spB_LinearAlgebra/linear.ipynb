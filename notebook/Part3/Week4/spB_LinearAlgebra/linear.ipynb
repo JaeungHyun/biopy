{
 "metadata": {
  "name": "",
  "signature": "sha256:7e6c83e75fd3132b671a31ea20eee0c88f72d9309816be7239826c3592b38515"
 },
 "nbformat": 3,
 "nbformat_minor": 0,
 "worksheets": [
  {
   "cells": [
    {
     "cell_type": "markdown",
     "metadata": {},
     "source": [
      "---\n",
      "\n",
      "<h1> \ubcf4\uac15 : \ud589\ub82c\uc5d0 \uad00\ud55c python \ud65c\uc6a9 </h1>\n",
      "\n",
      "---\n"
     ]
    },
    {
     "cell_type": "markdown",
     "metadata": {},
     "source": [
      "<h2> 1. \ud589\ub82c\uc758 \uae30\ubcf8 \uc815\uc758 </h2>\n",
      "\ud589\ub82c \uae30\ubcf8, \ucc28\uc218, \uba85\uce6d \ub4f1\ub4f1\n",
      "\n",
      "<h2> 2. \uae30\ubcf8 \ud589\ub82c \uc5f0\uc0b0 </h2>\n",
      "\uac04\ub2e8\ud55c \ud589\ub82c \uc5f0\uc0b0\n",
      "\n",
      "<h2> 3. \ud589\ub82c\ub300\uc218\uc758 \uae30\ucd08 </h2>\n",
      "<br/>\n",
      "\n",
      "---\n"
     ]
    },
    {
     "cell_type": "markdown",
     "metadata": {},
     "source": [
      "<h3> 1. \ud589\ub82c\uc758 \uae30\ubcf8 \uc815\uc758 </h3>\n",
      "\n",
      "**m x n \ud589\ub82c = m \ud589, n \uc5f4**\n",
      "\n",
      "**n x n \ud589\ub82c = \uc815\ubc29\ud589\ub82c (square matrix)**\n",
      "\n",
      "**1 x 1 \ud589\ub82c = \uc2a4\uce7c\ub77c (scalar)**\n",
      "\n",
      "**m x 1 \ud589\ub82c = \uc5f4\ubca1\ud130 (column vector)**\n",
      "\n",
      "**1 x n \ud589\ub82c = \ud589\ubca1\ud130 (row vector)**\n",
      "\n",
      "<br>\n",
      "\n",
      "**0 \ud589\ub82c = (zero matrix) \ubaa8\ub4e0 \uc6d0\uc18c\uac00 0 **\n",
      "\n",
      "**I \ud589\ub82c = \ud56d\ub4f1\ud589\ub82c (identity matrix), \ub300\uac01\uc120 1, \ub098\uba38\uc9c0 0**\n",
      "\n",
      "**D \ud589\ub82c = \ub300\uac01\ud589\ub82c (diagonal matrix), \ub300\uac01\uc120 \uc678\ub294 \ubaa8\ub450 0\uc778 \uc815\ubc29\ud589\ub82c**\n",
      "\n",
      "**T \ud589\ub82c = \uc0bc\uac01\ud589\ub82c (triangular matrix), \ub300\uac01\uc120 \uae30\uc900\uc73c\ub85c \ud55c\ucabd\uc5d0\ub9cc \uac12\uc774 \uc788\ub294 \ud589\ub82c**\n",
      "\n",
      "**S \ud589\ub82c = \ub300\uce6d\ud589\ub82c (symmetric matrix), \ub300\uac01\uc120 \uae30\uc900 \ub300\uce6d**\n",
      "\n",
      "**P \ud589\ub82c = \uce58\ud658\ud589\ub82c (permutation matrix), \uac01\uac01\uc758 \ud589\uacfc\uc5f4 \uc785\uc7a5\uc5d0\uc11c 1\uc774 \ud558\ub098\uc774\uace0 \ub098\uba38\uc9c4 0**\n",
      "\n",
      "<br>\n",
      "\n",
      "**\ubd84\ud560\ud589\ub82c(partitioned matrix) = \uae30\uc874\uc758 \ud589\ub82c\uc740 \uc791\uc740\ub2e8\uc704 \ud589\ub82c\ub85c \ud45c\ud604**\n",
      "\n",
      "**\ube14\ub85d\ub85d\ub300\uac01\ud589\ub82c(block diagonal matrix) = \uc8fc\ub300\uac01\uc120 \uc704\uce58\ud55c \uc815\uc0ac\uac01\ud615 \ubd80 \ud589\ub82c\ub4e4\uc744 \uc81c\uc678\ud558\uace0\ub294 \ub2e4\ub978 \ubd80 \ud589\ub82c\uc744 \ubaa8\ub450 0\ud589\ub82c**"
     ]
    },
    {
     "cell_type": "code",
     "collapsed": false,
     "input": [
      "import numpy as np\n",
      "import scipy as sc\n",
      "import scipy.linalg\n",
      "# scipy linalg \ub77c\uc774\ube0c\ub7ec\ub9ac \ub808\ud37c\ub7f0\uc2a4 \n",
      "# http://docs.scipy.org/doc/scipy-0.14.0/reference/linalg.html"
     ],
     "language": "python",
     "metadata": {},
     "outputs": [],
     "prompt_number": 1
    },
    {
     "cell_type": "code",
     "collapsed": false,
     "input": [
      "# \ub300\uac01\ud589\ub82c \n",
      "D = np.array([[1,0,0],\n",
      "              [0,2,0],\n",
      "              [0,0,3]])"
     ],
     "language": "python",
     "metadata": {},
     "outputs": [],
     "prompt_number": 2
    },
    {
     "cell_type": "code",
     "collapsed": false,
     "input": [
      "# \uc0bc\uac01\ud589\ub82c\n",
      "T = np.array([[1,2,3],\n",
      "              [0,3,4],\n",
      "              [0,0,5]])"
     ],
     "language": "python",
     "metadata": {},
     "outputs": [],
     "prompt_number": 3
    },
    {
     "cell_type": "code",
     "collapsed": false,
     "input": [
      "# \ub300\uce6d\ud589\ub82c\n",
      "S = np.array([[1,2,3],\n",
      "              [2,1,2],\n",
      "              [3,2,1]])"
     ],
     "language": "python",
     "metadata": {},
     "outputs": [],
     "prompt_number": 4
    },
    {
     "cell_type": "code",
     "collapsed": false,
     "input": [
      "# \uce58\ud658\ud589\ub82c \n",
      "P = np.array([[0,1,0],\n",
      "              [1,0,0],\n",
      "              [0,0,1]])"
     ],
     "language": "python",
     "metadata": {},
     "outputs": [],
     "prompt_number": 5
    },
    {
     "cell_type": "code",
     "collapsed": false,
     "input": [
      "# \ubd84\ud560\ud589\ub82c\n",
      "p11 = np.array([[1,2],\n",
      "                [3,4]])\n",
      "p12 = np.array([[5],\n",
      "                [6]])\n",
      "p21 = np.array([[7,8]])\n",
      "p22 = np.array([[9]])\n",
      "\n",
      "p1 = np.column_stack([p11, p12])\n",
      "p2 = np.column_stack([p21, p22])\n",
      "p = np.vstack([p1,p2])\n",
      "p"
     ],
     "language": "python",
     "metadata": {},
     "outputs": [
      {
       "metadata": {},
       "output_type": "pyout",
       "prompt_number": 6,
       "text": [
        "array([[1, 2, 5],\n",
        "       [3, 4, 6],\n",
        "       [7, 8, 9]])"
       ]
      }
     ],
     "prompt_number": 6
    },
    {
     "cell_type": "code",
     "collapsed": false,
     "input": [
      "# \ube14\ub85d\ub85d\ub300\uac01\ud589\ub82c(block diagonal matrix)\n",
      "b = np.array([[1,2,0,0,0],\n",
      "              [3,4,0,0,0],\n",
      "              [0,0,5,0,0],\n",
      "              [0,0,0,6,7],\n",
      "              [0,0,0,8,9]])\n",
      "b"
     ],
     "language": "python",
     "metadata": {},
     "outputs": [
      {
       "metadata": {},
       "output_type": "pyout",
       "prompt_number": 7,
       "text": [
        "array([[1, 2, 0, 0, 0],\n",
        "       [3, 4, 0, 0, 0],\n",
        "       [0, 0, 5, 0, 0],\n",
        "       [0, 0, 0, 6, 7],\n",
        "       [0, 0, 0, 8, 9]])"
       ]
      }
     ],
     "prompt_number": 7
    },
    {
     "cell_type": "markdown",
     "metadata": {},
     "source": [
      "---\n",
      "<h3> 2. \uae30\ubcf8 \ud589\ub82c \uc5f0\uc0b0 </h3>\n",
      "---\n",
      "2.1 \uc804\uce58\n",
      "\n",
      "2.2 \ub3d9\ub4f1\n",
      "\n",
      "2.3 \ud589\ub82c \ub367\uc148,\ube84\uc148\n",
      "\n",
      "2.4 \ud589\ub82c \uacf1\uc148\n",
      "\n",
      "2.5 \ud06c\ub85c\ub125\ud130 \uacf1\n"
     ]
    },
    {
     "cell_type": "markdown",
     "metadata": {},
     "source": [
      "<h5> 2.1 \uc804\uce58 </h5>"
     ]
    },
    {
     "cell_type": "code",
     "collapsed": false,
     "input": [
      "A = np.array([[1,2,3],\n",
      "              [4,5,6],\n",
      "              [7,8,9]])\n",
      "np.transpose(A)"
     ],
     "language": "python",
     "metadata": {},
     "outputs": [
      {
       "metadata": {},
       "output_type": "pyout",
       "prompt_number": 8,
       "text": [
        "array([[1, 4, 7],\n",
        "       [2, 5, 8],\n",
        "       [3, 6, 9]])"
       ]
      }
     ],
     "prompt_number": 8
    },
    {
     "cell_type": "markdown",
     "metadata": {},
     "source": [
      "<h5> 2.2 \ub3d9\ub4f1 </h5>"
     ]
    },
    {
     "cell_type": "code",
     "collapsed": false,
     "input": [
      "np.equal(A,A)"
     ],
     "language": "python",
     "metadata": {},
     "outputs": [
      {
       "metadata": {},
       "output_type": "pyout",
       "prompt_number": 9,
       "text": [
        "array([[ True,  True,  True],\n",
        "       [ True,  True,  True],\n",
        "       [ True,  True,  True]], dtype=bool)"
       ]
      }
     ],
     "prompt_number": 9
    },
    {
     "cell_type": "markdown",
     "metadata": {},
     "source": [
      "<h5> 2.3 \ud589\ub82c \ub367\uc148, \ube84\uc148 </h5>"
     ]
    },
    {
     "cell_type": "code",
     "collapsed": false,
     "input": [
      "B = np.array([[1,1,1],\n",
      "              [1,1,1],\n",
      "              [1,1,1]])\n",
      "\n",
      "A + B"
     ],
     "language": "python",
     "metadata": {},
     "outputs": [
      {
       "metadata": {},
       "output_type": "pyout",
       "prompt_number": 10,
       "text": [
        "array([[ 2,  3,  4],\n",
        "       [ 5,  6,  7],\n",
        "       [ 8,  9, 10]])"
       ]
      }
     ],
     "prompt_number": 10
    },
    {
     "cell_type": "code",
     "collapsed": false,
     "input": [
      "A - B"
     ],
     "language": "python",
     "metadata": {},
     "outputs": [
      {
       "metadata": {},
       "output_type": "pyout",
       "prompt_number": 11,
       "text": [
        "array([[0, 1, 2],\n",
        "       [3, 4, 5],\n",
        "       [6, 7, 8]])"
       ]
      }
     ],
     "prompt_number": 11
    },
    {
     "cell_type": "markdown",
     "metadata": {},
     "source": [
      "<h5> 2.4 \ud589\ub82c \uacf1 </h5>"
     ]
    },
    {
     "cell_type": "code",
     "collapsed": false,
     "input": [
      "A * 2"
     ],
     "language": "python",
     "metadata": {},
     "outputs": [
      {
       "metadata": {},
       "output_type": "pyout",
       "prompt_number": 12,
       "text": [
        "array([[ 2,  4,  6],\n",
        "       [ 8, 10, 12],\n",
        "       [14, 16, 18]])"
       ]
      }
     ],
     "prompt_number": 12
    },
    {
     "cell_type": "code",
     "collapsed": false,
     "input": [
      "C = np.array([[1],[1],[1]])\n",
      "np.dot(A, C)"
     ],
     "language": "python",
     "metadata": {},
     "outputs": [
      {
       "metadata": {},
       "output_type": "pyout",
       "prompt_number": 13,
       "text": [
        "array([[ 6],\n",
        "       [15],\n",
        "       [24]])"
       ]
      }
     ],
     "prompt_number": 13
    },
    {
     "cell_type": "markdown",
     "metadata": {},
     "source": [
      "<h5> 2.5 \ud06c\ub85c\ub125\ud130 \uacf1 </h5>\n",
      "\n",
      "m x n \ud589\ub82c \u24e7 l x k \ud589\ub82c\n",
      "\n",
      "=> ml x nk \ud589\ub82c"
     ]
    },
    {
     "cell_type": "code",
     "collapsed": false,
     "input": [
      "sc.linalg.kron(A,C)"
     ],
     "language": "python",
     "metadata": {},
     "outputs": [
      {
       "metadata": {},
       "output_type": "pyout",
       "prompt_number": 14,
       "text": [
        "array([[1, 2, 3],\n",
        "       [1, 2, 3],\n",
        "       [1, 2, 3],\n",
        "       [4, 5, 6],\n",
        "       [4, 5, 6],\n",
        "       [4, 5, 6],\n",
        "       [7, 8, 9],\n",
        "       [7, 8, 9],\n",
        "       [7, 8, 9]])"
       ]
      }
     ],
     "prompt_number": 14
    },
    {
     "cell_type": "code",
     "collapsed": false,
     "input": [
      "sc.kron(A,C)"
     ],
     "language": "python",
     "metadata": {},
     "outputs": [
      {
       "metadata": {},
       "output_type": "pyout",
       "prompt_number": 15,
       "text": [
        "array([[1, 2, 3],\n",
        "       [1, 2, 3],\n",
        "       [1, 2, 3],\n",
        "       [4, 5, 6],\n",
        "       [4, 5, 6],\n",
        "       [4, 5, 6],\n",
        "       [7, 8, 9],\n",
        "       [7, 8, 9],\n",
        "       [7, 8, 9]])"
       ]
      }
     ],
     "prompt_number": 15
    },
    {
     "cell_type": "code",
     "collapsed": false,
     "input": [
      "np.kron(A,C)"
     ],
     "language": "python",
     "metadata": {},
     "outputs": [
      {
       "metadata": {},
       "output_type": "pyout",
       "prompt_number": 16,
       "text": [
        "array([[1, 2, 3],\n",
        "       [1, 2, 3],\n",
        "       [1, 2, 3],\n",
        "       [4, 5, 6],\n",
        "       [4, 5, 6],\n",
        "       [4, 5, 6],\n",
        "       [7, 8, 9],\n",
        "       [7, 8, 9],\n",
        "       [7, 8, 9]])"
       ]
      }
     ],
     "prompt_number": 16
    },
    {
     "cell_type": "markdown",
     "metadata": {},
     "source": [
      "---\n",
      "<h3> 3. \ud589\ub82c \ub300\uc218\uc758 \uae30\ucd08 </h3>\n",
      "---\n",
      "3.1 \ub300\uac01\ud569 (trace)\n",
      "\n",
      "3.2 \ud589\ub82c\uc2dd (deteminant)\n",
      "\n",
      "3.3 \uacc4\uc218 (rank) \uc640 \ube44\ud2b9\uc774\ud589\ub82c (nonsingular matrix)\n",
      "\n",
      "3.4 \uc120\ud615\uc885\uc18d (linear dependence)\n",
      "\n",
      "3.5 \uc5ed\ud589\ub82c (inverse matrix)\n",
      "\n",
      "3.6 \uc120\ud615\ub4f1\uc2dd\uccb4\uacc4 \ud574\n",
      "\n",
      "3.7 \uace0\uc720\uac12(eigenvalue) \uacfc \uace0\uc720\ubca1\ud130(eigenvector)\n",
      "\n",
      "3.8 \uc9c1\uad50\ud589\ub82c\uacfc \ub300\uce6d\ud589\ub82c\uc758 \ub300\uac01\ud654\n",
      "\n",
      "3.9 \uba71\ub4f1\ud589\ub82c (idempotent matrix)\n",
      "\n",
      "3.10 \uc774\ucc28\ud615\ud0dc (quadratic form)\n",
      "\n",
      "3.11 \ud655\ub960\ubcc0\uc218(random variables) \uc9d1\ud569\uc758 \uacf5\ubd84\uc0b0\ud589\ub82c (covariance matrix)\n",
      "\n",
      "3.12 \ucf5c\ub808\uc2a4\ud0a4 \ubd84\ud574 (Cholesky decomposition)\n",
      "\n",
      "3.13 QR \ubd84\ud574\n",
      "\n",
      "3.14 \ud2b9\uc774\uac12 \ubd84\ud574 (SVD \ubd84\ud574)\n",
      "\n",
      "3.15 \ubca1\ud130 \ubc0f \ud589\ub82c \ub178\uc634 (norm)\n",
      "\n",
      "---"
     ]
    },
    {
     "cell_type": "markdown",
     "metadata": {},
     "source": [
      "<h5> 3.1 \ub300\uac01\ud569 trace </h5>\n",
      "\n",
      "**\ub300\uac01\ud569\uc758 \uc18d\uc131**\n",
      "\n",
      "> tr(kA) = k * tr(A)\n",
      "\n",
      "> tr(A + B) = tr(A) + tr(B)\n",
      "\n",
      "> tr(A') = tr(A)\n",
      "\n",
      "> tr(AB) = tr(BA)"
     ]
    },
    {
     "cell_type": "code",
     "collapsed": false,
     "input": [
      "print A\n",
      "sc.trace(A)"
     ],
     "language": "python",
     "metadata": {},
     "outputs": [
      {
       "output_type": "stream",
       "stream": "stdout",
       "text": [
        "[[1 2 3]\n",
        " [4 5 6]\n",
        " [7 8 9]]\n"
       ]
      },
      {
       "metadata": {},
       "output_type": "pyout",
       "prompt_number": 17,
       "text": [
        "15"
       ]
      }
     ],
     "prompt_number": 17
    },
    {
     "cell_type": "markdown",
     "metadata": {},
     "source": [
      "<h5> 3.2 \ud589\ub82c\uc2dd deteminant </h5>\n",
      "\n",
      "\ud589\ub82c A \uc758 deteminant = |A| \ub85c \ud45c\uc2dc\n",
      "\n",
      "**\ud589\ub82c\uc2dd\uacfc \uad00\ub828 \uc18d\uc131**\n",
      "\n",
      "> |A'| = |A|\n",
      "\n",
      "> |AB| = |A||B|\n",
      "\n",
      "> \ub300\uac01\ud589\ub82c A \uc774\uba74, |A| = a<sub>11</sub>a<sub>22</sub>  ...  a<sub>mm</sub> \uc774\ub2e4. (\ub300\uac01\uc758 \uacf1)\n",
      "\n",
      "> \ud55c \ud589\uc774\ub77c\ub3c4 \ubaa8\ub450 0 \uc774\uba74 |A| = 0\n",
      "\n",
      "> \ub450 \ud589 \ub610\ub294 \ub450 \uc5f4\uc774 \ub3d9\ub4f1\ud558\uba74 |A| = 0\n",
      "\n",
      "> \ud55c \ud589\uc774\ub098 \ud55c \uc5f4\uc774 \ub2e4\ub978 \ud589\uc774\ub098 \uc5f4\uc758 \uacf1\uc774\uba74 |A| = 0"
     ]
    },
    {
     "cell_type": "code",
     "collapsed": false,
     "input": [
      "sc.linalg.det(A)"
     ],
     "language": "python",
     "metadata": {},
     "outputs": [
      {
       "metadata": {},
       "output_type": "pyout",
       "prompt_number": 18,
       "text": [
        "0.0"
       ]
      }
     ],
     "prompt_number": 18
    },
    {
     "cell_type": "markdown",
     "metadata": {},
     "source": [
      "<h5> 3.3 \uacc4\uc218\uc640 \ube44\ud2b9\uc774\ud589\ub82c </h5>\n",
      "\n",
      "**\uacc4\uc218(rank)** \ub780 \ud589\ub82c\uc758 \uc120\ud615\ub3c5\ub9bd\uc778 \ud589(\ub610\ub294 \uc5f4) \uc758 '\ucd5c\ub300 \uc218'\ub97c \ub9d0\ud55c\ub2e4.\n",
      "\n",
      "\ub2e4\ub978 \ud589\uc774\ub098 \uc5f4\uc774 \uc5b4\ub5a4 \ud589\uc774\ub098 \uc5f4\uc758 \uc2a4\uce7c\ub77c \uacf1\uc73c\ub85c \ud45c\ud604 \uac00\ub2a5\ud558\uc9c0 \uc54a\uc740 \uac2f\uc218\uc774\ub2e4.\n",
      "\n",
      "<pre>\n",
      "S = [1 2]\n",
      "    [2 4]\n",
      "</pre>\n",
      "         \n",
      "\uc758 \uacc4\uc218\uc778 r(S) = 1 \uc774\ub2e4.\n",
      "\n",
      "2\ubc88\uc9f8 \ud589\uc740 1\ubc88\uc9f8 \ud589\uc758 *2 \uc73c\ub85c \uad6c\ud574\uc9c0\uae30 \ub54c\ubb38.\n",
      "\n",
      "|S| = 0 \uc774 \ub098\uc624\uba70, \ub530\ub77c\uc11c \ud2b9\uc774\ud589\ub82c\uc774\ub77c\uace0 \ud55c\ub2e4.\n",
      "\n",
      "<br/>\n",
      "\n",
      "\ub9cc\uc57d |S| = 0 \uc774\uba74,\n",
      "\n",
      "S \ub294 **\ud2b9\uc774\ud589\ub82c(singular matrix)** \uc774\uace0,\n",
      "\n",
      "|S| != 0 \uc774\uba74 **\ube44\ud2b9\uc774\ud589\ub82c (nonsingular matrix)** \uc774\ub77c\uace0 \ud55c\ub2e4."
     ]
    },
    {
     "cell_type": "code",
     "collapsed": false,
     "input": [
      "S = np.array([[1,2],[2,4]])\n",
      "np.linalg.matrix_rank(S) # rank \uacc4\uc218\uac00 1 != 2"
     ],
     "language": "python",
     "metadata": {},
     "outputs": [
      {
       "metadata": {},
       "output_type": "pyout",
       "prompt_number": 19,
       "text": [
        "1"
       ]
      }
     ],
     "prompt_number": 19
    },
    {
     "cell_type": "code",
     "collapsed": false,
     "input": [
      "sc.linalg.det(S) # \ud589\ub82c\uc2dd = 0 => \ud2b9\uc774\ud589\ub82c\uc774\ub2e4."
     ],
     "language": "python",
     "metadata": {},
     "outputs": [
      {
       "metadata": {},
       "output_type": "pyout",
       "prompt_number": 20,
       "text": [
        "0.0"
       ]
      }
     ],
     "prompt_number": 20
    },
    {
     "cell_type": "markdown",
     "metadata": {},
     "source": [
      "**\ud589\ub82c \uacc4\uc218 \uc18d\uc131**\n",
      "\n",
      "> 0 \ud589\ub82c\uc740 \uacc4\uc218\uac00 0 \uc774\ub2e4.\n",
      "\n",
      "> m x n \ud589\ub82c\uc774\uba74, r(A) <= min(m,n)\n",
      "\n",
      "> r(AB) <= min(r(A), r(B))\n",
      "\n",
      "> r(A) = r(A') = r(AA') = r(A'A)\n",
      "\n",
      "> \ud589\ub82c\uacc4\uc218\ub294 \ube44\ud2b9\uc774\ud589\ub82c\uc758 \uc804\uc2b9, \ud6c4\uc2b9\uc5d0 \uc758\ud574 \ubcc0\ud558\uc9c0 \uc54a\ub294\ub2e4.(?)\n",
      "\n",
      "> m x n \ud589\ub82c\uc77c\ub54c,\n",
      "  A \uac00 \ube44\ud2b9\uc774\ud589\ub82c(|A| != 0) \uc774\uba74 r(A) = n \uc774\uace0,\n",
      "  A \uac00 \ud2b9\uc774\ud589\ub82c(|A| = 0) \uc774\uba74 r(A) < n \uc774\ub2e4."
     ]
    },
    {
     "cell_type": "markdown",
     "metadata": {},
     "source": [
      "<h5> 3.4 \uc120\ud615 \uc885\uc18d (linear dependence)</h5>\n",
      "\n",
      "n \uac1c\uc758 \ubca1\ud130{x1, x2, .. xn} \uacfc n \uac1c\uc758 \uc2a4\uce7c\ub77c {k1, k2, .. kn}\uc5d0\uc11c \n",
      "\n",
      "k1x1 + k2x2 + ... + knxn = 0 \uc744 \ucda9\uc871\ud558\ub294 \n",
      "\n",
      "0\uc774 \uc544\ub2cc \uc2a4\uce7c\ub77c \uc9d1\ud569\uc774 \uc788\ub2e4\uba74 \uc120\ud615\uc885\uc18d\uc774\ub2e4.\n",
      "\n",
      "\uc27d\uac8c \ub9d0\ud574,\n",
      "\n",
      "\uc5b4\ub5a4 \ubca1\ud130 x<sub>i</sub> \ub294 \ub2e4\ub978 \ubca1\ud130\uc758 \uc870\ud569\uc73c\ub85c \ub098\ud0c0\ub0bc \uc218 \uc788\uc744 \uacbd\uc6b0.\n",
      "\n",
      "\uadf8\ub807\uc9c0 \uc54a\uc740 \uacbd\uc6b0\ub97c \uc120\ud615\ub3c5\ub9bd (linear independence) \ub77c\uace0 \ud55c\ub2e4."
     ]
    },
    {
     "cell_type": "code",
     "collapsed": false,
     "input": [
      "X = np.array([[4,5,2,14],\n",
      "              [3,9,6,21],\n",
      "              [8,10,7,28],\n",
      "              [1,2,9,5]])\n",
      "\n",
      "# \uac01 \uc5f4\ubca1\ud130 \uc0dd\uc131\n",
      "x1 = X[:,[0]] \n",
      "x2 = X[:,[1]]\n",
      "x3 = X[:,[2]]\n",
      "x4 = X[:,[3]]\n",
      "x1"
     ],
     "language": "python",
     "metadata": {},
     "outputs": [
      {
       "metadata": {},
       "output_type": "pyout",
       "prompt_number": 21,
       "text": [
        "array([[4],\n",
        "       [3],\n",
        "       [8],\n",
        "       [1]])"
       ]
      }
     ],
     "prompt_number": 21
    },
    {
     "cell_type": "code",
     "collapsed": false,
     "input": [
      "# \uc120\ud615 \uc885\uc18d \uac80\uc99d \n",
      "x1 + 2*x2 + 0*x3 - x4 "
     ],
     "language": "python",
     "metadata": {},
     "outputs": [
      {
       "metadata": {},
       "output_type": "pyout",
       "prompt_number": 22,
       "text": [
        "array([[0],\n",
        "       [0],\n",
        "       [0],\n",
        "       [0]])"
       ]
      }
     ],
     "prompt_number": 22
    },
    {
     "cell_type": "code",
     "collapsed": false,
     "input": [
      "print sc.linalg.det(X)\n",
      "round(sc.linalg.det(X))"
     ],
     "language": "python",
     "metadata": {},
     "outputs": [
      {
       "output_type": "stream",
       "stream": "stdout",
       "text": [
        "6.15507644852e-13\n"
       ]
      },
      {
       "metadata": {},
       "output_type": "pyout",
       "prompt_number": 23,
       "text": [
        "0.0"
       ]
      }
     ],
     "prompt_number": 23
    },
    {
     "cell_type": "markdown",
     "metadata": {},
     "source": [
      "\uc120\ud615\uc885\uc18d => det(X) = 0 => \ud2b9\uc774\ud589\ub82c singular matrix   "
     ]
    },
    {
     "cell_type": "markdown",
     "metadata": {},
     "source": [
      "<h5> 3.5 \uc5ed\ud589\ub82c </h5>\n",
      "\n",
      "n x n \uc815\ubc29\ud589\ub82c A \uc758 \uc5ed\ud589\ub82c(inverse matrix)\uc740 \n",
      "\n",
      "A \uc758 \uc804\uc2b9 \ub610\ub294 \ud6c4\uc2b9(\uc55e\uc5d0\uc11c \uacf1, \ub4a4\uc5d0\uc11c \uacf1) \uc5d0 \uc758\ud574 \ud56d\ub4f1\ud589\ub82c I \ub97c \uc0dd\uc131\ud558\ub294 \ud589\ub82c\ub85c\uc11c,\n",
      "\n",
      "A<sup>-1</sup> \uc73c\ub85c \ud45c\uae30\ud55c\ub2e4.\n",
      "\n",
      "\uc5ed\ud589\ub82c\uc774 \uc874\uc7ac\ud558\uae30 \uc704\ud574\uc11c\ub294 **\ube44\ud2b9\uc774\ud589\ub82c** \uc774\uc5ec\uc57c \ud55c\ub2e4.\n",
      "\n",
      "\uc5ed\ud589\ub82c\uc744 \uad6c\ud558\ub294 \ubc29\ubc95.\n",
      "\n",
      "A<sup>-1</sup> = 1 / |A| * adjA\n",
      "\n",
      "\uc5ec\uc778\uc790\ud589\ub82c (cofactor matrix) \uc758 \uc804\uce58\ub41c \ud589\ub82c\uc774 \n",
      "\n",
      "\uc218\ubc18\ud589\ub82c (adjoint matrix) adjA \ub77c\uace0 \ud55c\ub2e4.\n",
      "\n"
     ]
    },
    {
     "cell_type": "code",
     "collapsed": false,
     "input": [
      "A = np.array([[1,2],[3,4]])\n",
      "inv_A = sc.linalg.inv(A)\n",
      "inv_A"
     ],
     "language": "python",
     "metadata": {},
     "outputs": [
      {
       "metadata": {},
       "output_type": "pyout",
       "prompt_number": 24,
       "text": [
        "array([[-2. ,  1. ],\n",
        "       [ 1.5, -0.5]])"
       ]
      }
     ],
     "prompt_number": 24
    },
    {
     "cell_type": "code",
     "collapsed": false,
     "input": [
      "sc.dot(A, inv_A)"
     ],
     "language": "python",
     "metadata": {},
     "outputs": [
      {
       "metadata": {},
       "output_type": "pyout",
       "prompt_number": 25,
       "text": [
        "array([[  1.00000000e+00,   0.00000000e+00],\n",
        "       [  8.88178420e-16,   1.00000000e+00]])"
       ]
      }
     ],
     "prompt_number": 25
    },
    {
     "cell_type": "code",
     "collapsed": false,
     "input": [
      "# np.round \ub97c \ud1b5\ud574 \ud56d\ub4f1\ud589\ub82c\uc774 \ub9de\ub294\uc9c0 \ud655\uc778\ud558\uc790.\n",
      "np.round(sc.dot(A, inv_A))"
     ],
     "language": "python",
     "metadata": {},
     "outputs": [
      {
       "metadata": {},
       "output_type": "pyout",
       "prompt_number": 26,
       "text": [
        "array([[ 1.,  0.],\n",
        "       [ 0.,  1.]])"
       ]
      }
     ],
     "prompt_number": 26
    },
    {
     "cell_type": "code",
     "collapsed": false,
     "input": [
      "# \uc77c\ubc18 \ud568\uc218 round \ub97c \ud589\ub82c\ud568\uc218\ub85c \ubc14\uafb8\uc5b4 \uc801\uc6a9\ud574\ubcf4\uc790.\n",
      "vfunc = np.vectorize(round)\n",
      "vfunc(sc.dot(A, inv_A))"
     ],
     "language": "python",
     "metadata": {},
     "outputs": [
      {
       "metadata": {},
       "output_type": "pyout",
       "prompt_number": 27,
       "text": [
        "array([[ 1.,  0.],\n",
        "       [ 0.,  1.]])"
       ]
      }
     ],
     "prompt_number": 27
    },
    {
     "cell_type": "markdown",
     "metadata": {},
     "source": [
      "**\uc5ed\ud589\ub82c \uc18d\uc131**\n",
      "\n",
      "> \uc5ed\ud589\ub82c\uc774 \uc874\uc7ac\ud558\uba74 \uadf8\uac83\uc774 \uc720\uc77c\ud558\ub2e4.\n",
      "\n",
      "> (A')<sup>-1</sup> = (A<sup>-1</sup>)'\n",
      "\n",
      "> (AB)<sup>-1</sup> = B<sup>-1</sup>A<sup>-1</sup>\n",
      "\n",
      "> |A<sup>-1</sup>| = 1/|A|"
     ]
    },
    {
     "cell_type": "markdown",
     "metadata": {},
     "source": [
      "<h5> 3.6 \uc120\ud615\ub4f1\uc2dd\uccb4\uacc4\uc758 \ud574 </h5>\n",
      "\n",
      "linear equation system \uc740 \ud45c\ud604\ud615\ud0dc \n",
      "\n",
      "> Ax = h\n",
      "\n",
      "**\uacc4\uc218\ud589\ub82c(coefficient matrix) A** \ub294 m x n \uc774\uace0,\n",
      "\n",
      "**\ubcc0\uc218\ud589\ub82c x**\ub294 n x 1 \uc774\uace0,\n",
      "\n",
      "**\uc0c1\uc218\ud589\ub82c h**\ub294 m x 1 \ud615\ud0dc\ub97c \uac16\ub294\ub2e4.\n",
      "\n",
      "> x = A<sup>-1</sup>h\n",
      "\n",
      "\ub9cc\uc57d A \uac00 \uc815\ubc29\ud589\ub82c\uc774\uace0 \ube44\ud2b9\uc774\ud589\ub82c\uc774\uba74, \uc5ed\ud589\ub82c\uc774 \uc874\uc7ac\ud558\uace0, \ub530\ub77c\uc11c \ud574\ub294 \uc720\uc77c\ud558\ub2e4."
     ]
    },
    {
     "cell_type": "code",
     "collapsed": false,
     "input": [
      "A = np.array([[3,5],[4,2]])\n",
      "h = np.array([[13],[8]])\n",
      "A"
     ],
     "language": "python",
     "metadata": {},
     "outputs": [
      {
       "metadata": {},
       "output_type": "pyout",
       "prompt_number": 28,
       "text": [
        "array([[3, 5],\n",
        "       [4, 2]])"
       ]
      }
     ],
     "prompt_number": 28
    },
    {
     "cell_type": "code",
     "collapsed": false,
     "input": [
      "sc.linalg.det(A) # \uc5ed\ud589\ub82c \uc874\uc7ac\uc5ec\ubd80 \ud655\uc778"
     ],
     "language": "python",
     "metadata": {},
     "outputs": [
      {
       "metadata": {},
       "output_type": "pyout",
       "prompt_number": 29,
       "text": [
        "-14.0"
       ]
      }
     ],
     "prompt_number": 29
    },
    {
     "cell_type": "code",
     "collapsed": false,
     "input": [
      "inv_A = sc.linalg.inv(A) # \uc5ed\ud589\ub82c"
     ],
     "language": "python",
     "metadata": {},
     "outputs": [],
     "prompt_number": 30
    },
    {
     "cell_type": "code",
     "collapsed": false,
     "input": [
      "sc.dot(inv_A, h) # x = inv(A) * h"
     ],
     "language": "python",
     "metadata": {},
     "outputs": [
      {
       "metadata": {},
       "output_type": "pyout",
       "prompt_number": 31,
       "text": [
        "array([[ 1.],\n",
        "       [ 2.]])"
       ]
      }
     ],
     "prompt_number": 31
    },
    {
     "cell_type": "code",
     "collapsed": false,
     "input": [
      "sc.linalg.solve(A, h) # \ud3b8\ub9ac\ud558\uac8c \uc120\ud615\ub4f1\uc2dd\uccb4\uacc4 \ud574\ub97c \uad6c\ud558\ub294 \ud568\uc218 \uc81c\uacf5"
     ],
     "language": "python",
     "metadata": {},
     "outputs": [
      {
       "metadata": {},
       "output_type": "pyout",
       "prompt_number": 32,
       "text": [
        "array([[ 1.],\n",
        "       [ 2.]])"
       ]
      }
     ],
     "prompt_number": 32
    },
    {
     "cell_type": "code",
     "collapsed": false,
     "input": [
      "# \ud574\ub97c \ub3c4\ucd9c\ud560 \uc218 \uc5c6\ub294 \uacbd\uc6b0\n",
      "A = np.array([[1,2],[2,4]])\n",
      "print \"deteminant = \", sc.linalg.det(A)\n",
      "inv_A = sc.linalg.inv(A) # \ud2b9\uc774\ud589\ub82c\uc758 \uc5ed\ud589\ub82c\uc744 \uad6c\ud558\ub824\uace0 \ud558\uba74 \uc5d0\ub7ec\ubc1c\uc0dd"
     ],
     "language": "python",
     "metadata": {},
     "outputs": [
      {
       "output_type": "stream",
       "stream": "stdout",
       "text": [
        "deteminant =  0.0\n"
       ]
      },
      {
       "ename": "LinAlgError",
       "evalue": "singular matrix",
       "output_type": "pyerr",
       "traceback": [
        "\u001b[0;31m---------------------------------------------------------------------------\u001b[0m\n\u001b[0;31mLinAlgError\u001b[0m                               Traceback (most recent call last)",
        "\u001b[0;32m<ipython-input-33-77aa071c7a8e>\u001b[0m in \u001b[0;36m<module>\u001b[0;34m()\u001b[0m\n\u001b[1;32m      2\u001b[0m \u001b[0mA\u001b[0m \u001b[0;34m=\u001b[0m \u001b[0mnp\u001b[0m\u001b[0;34m.\u001b[0m\u001b[0marray\u001b[0m\u001b[0;34m(\u001b[0m\u001b[0;34m[\u001b[0m\u001b[0;34m[\u001b[0m\u001b[0;36m1\u001b[0m\u001b[0;34m,\u001b[0m\u001b[0;36m2\u001b[0m\u001b[0;34m]\u001b[0m\u001b[0;34m,\u001b[0m\u001b[0;34m[\u001b[0m\u001b[0;36m2\u001b[0m\u001b[0;34m,\u001b[0m\u001b[0;36m4\u001b[0m\u001b[0;34m]\u001b[0m\u001b[0;34m]\u001b[0m\u001b[0;34m)\u001b[0m\u001b[0;34m\u001b[0m\u001b[0m\n\u001b[1;32m      3\u001b[0m \u001b[0;32mprint\u001b[0m \u001b[0;34m\"deteminant = \"\u001b[0m\u001b[0;34m,\u001b[0m \u001b[0msc\u001b[0m\u001b[0;34m.\u001b[0m\u001b[0mlinalg\u001b[0m\u001b[0;34m.\u001b[0m\u001b[0mdet\u001b[0m\u001b[0;34m(\u001b[0m\u001b[0mA\u001b[0m\u001b[0;34m)\u001b[0m\u001b[0;34m\u001b[0m\u001b[0m\n\u001b[0;32m----> 4\u001b[0;31m \u001b[0minv_A\u001b[0m \u001b[0;34m=\u001b[0m \u001b[0msc\u001b[0m\u001b[0;34m.\u001b[0m\u001b[0mlinalg\u001b[0m\u001b[0;34m.\u001b[0m\u001b[0minv\u001b[0m\u001b[0;34m(\u001b[0m\u001b[0mA\u001b[0m\u001b[0;34m)\u001b[0m \u001b[0;31m# \ud2b9\uc774\ud589\ub82c\uc758 \uc5ed\ud589\ub82c\uc744 \uad6c\ud558\ub824\uace0 \ud558\uba74 \uc5d0\ub7ec\ubc1c\uc0dd\u001b[0m\u001b[0;34m\u001b[0m\u001b[0m\n\u001b[0m",
        "\u001b[0;32m/Users/djey/.virtualenvs/bio/lib/python2.7/site-packages/scipy/linalg/basic.pyc\u001b[0m in \u001b[0;36minv\u001b[0;34m(a, overwrite_a, check_finite)\u001b[0m\n\u001b[1;32m    381\u001b[0m         \u001b[0minv_a\u001b[0m\u001b[0;34m,\u001b[0m \u001b[0minfo\u001b[0m \u001b[0;34m=\u001b[0m \u001b[0mgetri\u001b[0m\u001b[0;34m(\u001b[0m\u001b[0mlu\u001b[0m\u001b[0;34m,\u001b[0m \u001b[0mpiv\u001b[0m\u001b[0;34m,\u001b[0m \u001b[0mlwork\u001b[0m\u001b[0;34m=\u001b[0m\u001b[0mlwork\u001b[0m\u001b[0;34m,\u001b[0m \u001b[0moverwrite_lu\u001b[0m\u001b[0;34m=\u001b[0m\u001b[0;36m1\u001b[0m\u001b[0;34m)\u001b[0m\u001b[0;34m\u001b[0m\u001b[0m\n\u001b[1;32m    382\u001b[0m     \u001b[0;32mif\u001b[0m \u001b[0minfo\u001b[0m \u001b[0;34m>\u001b[0m \u001b[0;36m0\u001b[0m\u001b[0;34m:\u001b[0m\u001b[0;34m\u001b[0m\u001b[0m\n\u001b[0;32m--> 383\u001b[0;31m         \u001b[0;32mraise\u001b[0m \u001b[0mLinAlgError\u001b[0m\u001b[0;34m(\u001b[0m\u001b[0;34m\"singular matrix\"\u001b[0m\u001b[0;34m)\u001b[0m\u001b[0;34m\u001b[0m\u001b[0m\n\u001b[0m\u001b[1;32m    384\u001b[0m     \u001b[0;32mif\u001b[0m \u001b[0minfo\u001b[0m \u001b[0;34m<\u001b[0m \u001b[0;36m0\u001b[0m\u001b[0;34m:\u001b[0m\u001b[0;34m\u001b[0m\u001b[0m\n\u001b[1;32m    385\u001b[0m         raise ValueError('illegal value in %d-th argument of internal '\n",
        "\u001b[0;31mLinAlgError\u001b[0m: singular matrix"
       ]
      }
     ],
     "prompt_number": 33
    },
    {
     "cell_type": "markdown",
     "metadata": {},
     "source": [
      "<h5> 3.7 \uace0\uc720\uac12\uacfc \uace0\uc720\ubca1\ud130 </h5>\n",
      "\n",
      "n * n \uc815\ubc29\ud589\ub82c A \uc5d0 \ub300\ud558\uc5ec Ax = Lx \uc778 \uc2a4\uce7c\ub77c \uac12 L, \ubca1\ud130 x (\uc601\ubca1\ud130 \uc544\ub2d8) \uac00 \uc874\uc7ac\ud560\ub54c, \n",
      "\n",
      "L \uc744 \uace0\uc720\uac12, x \ub97c \uace0\uc720\ubca1\ud130\ub77c\uace0 \ud55c\ub2e4.\n",
      "\n",
      "A \ub77c\ub294 \ud589\ub82c\uc744 \uc77c\uc885\uc758 \ubcc0\ud658\ud589\ub82c\uc774\ub77c\uace0 \uc0dd\uac01\ud560\ub54c, \n",
      "\n",
      "\uadf8 \ubcc0\ud658\uc5d0 \ub300\ud574\uc11c (\ud06c\uae30\ub9cc \ubcc0\ud654) \ubc29\ud5a5\uc774 \ubcc0\ud558\uc9c0 \uc54a\ub294 \ubca1\ud130\uc774\uae30 \ub54c\ubb38\uc5d0 \uace0\uc720\ubca1\ud130\ub77c\uace0 \ud55c\ub2e4.\n",
      "\n",
      "\uace0\uc720\uac12-\uace0\uc720\ubca1\ud130\uc758 \uac2f\uc218\ub294 0 ~ \ucd5c\ub300 n \uac1c\uc774\ub2e4.\n",
      "\n",
      "\uace0\uc720\ubca1\ud130\ub97c \uad6c\ud574\ubcf4\uc790. \n",
      "\n",
      "Ax = Lx\n",
      "\n",
      "Ax - Lx = 0\n",
      "\n",
      "(A - LI)x = 0 # \uc2a4\uce7c\ub77c\uac12 L \uc5d0 \ud56d\ub4f1\ud589\ub82c I \ub97c \uacf1\ud574 \ud589\ub82c\ube84\uc148\uc744 \ud55c\ub2e4.\n",
      "\n",
      "\uc5ec\uae30\uc11c (A - LI) \ud589\ub82c\uc774 \ube44\ud2b9\uc774\ud589\ub82c(\uc5ed\ud589\ub82c \uc874\uc7ac)\ud558\uba74,\n",
      "x = 0 \uc774\ub77c\ub294 \uc790\uba85\ud574(trivial solution) \ub9cc \uc874\uc7ac\ud558\uace0,\n",
      "\uace0\uc720\ubca1\ud130\ub294 \uc5c6\ub2e4.\n",
      "\n",
      "(A - LI) \uac00 \ud2b9\uc774\ud589\ub82c(\uc5ed\ud589\ub82cX) \uc774\uba74,\n",
      "x = 0 \uc774\uc678\uc758 \ube44\uc790\uba85\ud574(nontrivial solution) \uc744 \uac00\uc9c0\uac8c \ub41c\ub2e4.\n",
      "\n",
      "(A - LI) \uc758 \ud589\ub82c\uc2dd deteminant \uac12\uc774 0 \uc774 \ub418\ub3c4\ub85d \ud558\ub294 L \uac12\uc744 \uacc4\uc0b0\ud574\uc11c \ub098\uc624\ub294 \uac12\uc774 \uace0\uc720\uac12\uc774\ub2e4.\n"
     ]
    },
    {
     "cell_type": "code",
     "collapsed": false,
     "input": [
      "v, m = sc.linalg.eig(A)\n",
      "v"
     ],
     "language": "python",
     "metadata": {},
     "outputs": [
      {
       "metadata": {},
       "output_type": "pyout",
       "prompt_number": 34,
       "text": [
        "array([ 0.+0.j,  5.+0.j])"
       ]
      }
     ],
     "prompt_number": 34
    },
    {
     "cell_type": "code",
     "collapsed": false,
     "input": [
      "m"
     ],
     "language": "python",
     "metadata": {},
     "outputs": [
      {
       "metadata": {},
       "output_type": "pyout",
       "prompt_number": 35,
       "text": [
        "array([[-0.89442719, -0.4472136 ],\n",
        "       [ 0.4472136 , -0.89442719]])"
       ]
      }
     ],
     "prompt_number": 35
    },
    {
     "cell_type": "markdown",
     "metadata": {},
     "source": [
      "<h5> 3.8 \uc9c1\uad50\ud589\ub82c\uacfc \ub300\uce6d\ud589\ub82c\uc758 \ub300\uac01\ud654 </h5>\n",
      "\n",
      "A \uac00 **\ub300\uce6d\ud589\ub82c**\uc774\uba74, \n",
      "\n",
      "\uace0\uc720\uac12\uc740 \uc2e4\uc218\uc774\uace0, (\ubcf5\uc18c\uc218 \uc544\ub2d8)\n",
      "\n",
      "\uac01 \uace0\uc720\uac12\uc5d0 \ub300\uc751\ub418\ub294 \uace0\uc720\ubca1\ud130\ub294 \uc9c1\uad50(orthogonal) \ud55c\ub2e4.\n",
      "\n",
      "<br/>\n",
      "\n",
      "\uadf8\ub798\uc11c \ubaa8\ub450 \ub2e4\ub978 n \uac1c \uace0\uc720\uac12\uc5d0 \ub300\uc751\ub418\ub294 \uace0\uc720\ubca1\ud130\ub4e4 \n",
      "\n",
      "x<sub>1</sub>,x<sub>2</sub>,...,x<sub>n</sub> \ub85c \uad6c\uc131\ub41c \n",
      "\n",
      "\ud589\ub82c X = (x<sub>1</sub>,x<sub>2</sub>,...,x<sub>n</sub>) \uc740 \n",
      "\n",
      "**\uc9c1\uad50\ud589\ub82c(orthogonal matrix)** \uc774\ub2e4.\n",
      "\n",
      "\ub530\ub77c\uc11c **X \uc758 \uc804\uce58\ud589\ub82c** = **X \uc758 \uc5ed\ud589\ub82c**\uc774\ub2e4.\n",
      "\n",
      "> X'X = XX' = I , X' = X<sup>-1</sup>"
     ]
    },
    {
     "cell_type": "code",
     "collapsed": false,
     "input": [
      "import math\n",
      "a = 1/math.sqrt(2)\n",
      "X = np.array([[a,a],[a,-a]]) # \uc9c1\uad50\ud589\ub82c \uc0dd\uc131"
     ],
     "language": "python",
     "metadata": {},
     "outputs": [],
     "prompt_number": 36
    },
    {
     "cell_type": "code",
     "collapsed": false,
     "input": [
      "np.transpose(X) # \uc804\uce58\ud589\ub82c"
     ],
     "language": "python",
     "metadata": {},
     "outputs": [
      {
       "metadata": {},
       "output_type": "pyout",
       "prompt_number": 37,
       "text": [
        "array([[ 0.70710678,  0.70710678],\n",
        "       [ 0.70710678, -0.70710678]])"
       ]
      }
     ],
     "prompt_number": 37
    },
    {
     "cell_type": "code",
     "collapsed": false,
     "input": [
      "sc.linalg.inv(X) # \uc5ed\ud589\ub82c"
     ],
     "language": "python",
     "metadata": {},
     "outputs": [
      {
       "metadata": {},
       "output_type": "pyout",
       "prompt_number": 38,
       "text": [
        "array([[ 0.70710678,  0.70710678],\n",
        "       [ 0.70710678, -0.70710678]])"
       ]
      }
     ],
     "prompt_number": 38
    },
    {
     "cell_type": "markdown",
     "metadata": {},
     "source": [
      "\ub300\uce6d\ud589\ub82c A \ub294 \uc9c1\uad50\ud589\ub82c X \uac00 \uc874\uc7ac(\uc544\ub9c8\ub3c4 \uace0\uc720\ubca1\ud130\ub4e4\ub85c \uc774\ub8e8\uc5b4\uc9c4 \uc9c1\uad50\ud589\ub82c\uc744 \ub9d0\ud558\ub294 \ub4ef)\ud574\uc11c \n",
      "\n",
      "\uc544\ub798\uc640 \uac19\uc740 \ud615\ud0dc\ub97c \ub9cc\uc871\ud558\ub294 \ud589\ub82c\uc774 \uc874\uc7ac\ud55c\ub2e4.\n",
      "\n",
      "> AX = X A_\n",
      "\n",
      "> X'AX = X'X A_ = A_\n",
      "\n",
      "A_ \ub294 \ub300\uac01\ud589\ub82c\uc774\uace0, \uc774\ub7f0 \ubcc0\ud654\ub97c **\ub300\uce6d\ud589\ub82c\uc758 \ub300\uac01\ud654 (diagonalization)** \uc774\ub77c\uace0 \ud55c\ub2e4.\n",
      "\n",
      "(\uc544\ub9c8\ub3c4 \ub300\uac01\ud654\uc758 \uc7a5\uc810\uc740 \uc5f0\uc0b0\uc758 \ud3b8\ub9ac\uc131\uc778\uac70 \uac19\ub2e4.\n",
      "\n",
      "A = X'A_X \ub85c \ub300\uac01\ud654 \ub418\uc5c8\ub2e4\uba74,\n",
      "\n",
      "A<sup>-1</sup> \uc740 A_ \ub300\uac01\ud589\ub82c\uc758 \ub300\uac01\uc6d0\uc18c\ub4e4\uc744 \uc5ed\uc218\ub85c \ubc14\uafb8\uba74 \ub418\uace0,\n",
      "\n",
      "A<sup>2</sup> \uc740 A_ \ub300\uac01\ud589\ub82c\uc758 \ub300\uac01\uc6d0\uc18c\ub4e4\uc744 \uc81c\uacf1\ud55c \uac83\uacfc \uac19\ub2e4.)"
     ]
    },
    {
     "cell_type": "code",
     "collapsed": false,
     "input": [
      "# \ub300\uce6d\ud589\ub82c\n",
      "A = np.array([[2,1],[1,2]])\n",
      "\n",
      "# \ub300\uac01\ud589\ub82c\uc744 \uad6c\ud574\ubcf4\uc790. (\uace0\uc720\ubca1\ud130\ub97c \uc0ac\uc6a9)\n",
      "_, X = sc.linalg.eig(A)\n",
      "\n",
      "# X'AX\n",
      "sc.dot(sc.dot(np.transpose(X), A), X)"
     ],
     "language": "python",
     "metadata": {},
     "outputs": [
      {
       "metadata": {},
       "output_type": "pyout",
       "prompt_number": 39,
       "text": [
        "array([[ 3.,  0.],\n",
        "       [ 0.,  1.]])"
       ]
      }
     ],
     "prompt_number": 39
    },
    {
     "cell_type": "markdown",
     "metadata": {},
     "source": [
      "**\uc9c1\uad50\ud589\ub82c \uc18d\uc131**\n",
      "\n",
      "> \uc9c1\uad50\ud589\ub82c\uc758 \uace0\uc720\uac12\uc740 +1, -1 \n",
      "\n",
      "> \uc9c1\uad50\ud589\ub82c X \uc758 \uc804\uce58\ud589\ub82c X' \uc640 \uc5ed\ud589\ub82c X^-1^ \ub3c4 \uc9c1\uad50\ud589\ub82c\uc774\ub2e4\n",
      "\n",
      "> \uc9c1\uad50\ud589\ub82c\uc758 \ud589\ub82c\uc2dd\uc740 +1 \uc774\uac70\ub098 -1 \uc774\ub2e4"
     ]
    },
    {
     "cell_type": "markdown",
     "metadata": {},
     "source": [
      "<h5> 3.9 \uba71\ub4f1\ud589\ub82c </h5>\n",
      "\n",
      "A = A' \uc640 A = A<sup>2</sup> \ub97c \ub9cc\uc871\ud558\uba74 **\uba71\ub4f1\ud589\ub82c(idempotent matrix)**\n",
      "\n",
      "0 \ud589\ub82c\uacfc I \ud589\ub82c\uc774 \uba71\ub4f1\ud589\ub82c\uc758 \ub300\ud45c\uc801 \uc608\uc774\ub2e4.\n",
      "\n",
      "\uacc4\ub7c9 \uacbd\uc81c\ud559\uc5d0\uc11c \uac00\uc7a5 \ub9ce\uc774 \uc0ac\uc6a9\ub418\ub294 \uba71\ub4f1\ud589\ub82c M \uc744 \uc608\ub85c \uc0b4\ud3b4\ubcf4\uc790.\n",
      "\n",
      "> M = I - X(X'X)<sup>-1</sup>X'\n",
      "\n",
      "\uc704 \ud589\ub82c M \uc740 \ub300\uce6d\ud589\ub82c\uc774\uc5ec\uc11c M' = M \uc804\uce58\ud589\ub82c\uacfc \uc790\uae30\uc790\uc2e0\uc774 \uac19\ub2e4.\n",
      "\n",
      "\ub610, M = M<sup>2</sup> \uc774\ub2e4."
     ]
    },
    {
     "cell_type": "markdown",
     "metadata": {},
     "source": [
      "**\uba71\ub4f1\ud589\ub82c \uc18d\uc131**\n",
      "\n",
      "> \uba71\ub4f1\ud589\ub82c \uace0\uc720\uac12\uc740 1 \ub610\ub294 0 \uc774\ub2e4\n",
      "\n",
      "> A \uac00 \uba71\ub4f1\ud589\ub82c\uc774\uba74, I - A \ub3c4 \uba71\ub4f1\ud589\ub82c\uc774\ub2e4."
     ]
    },
    {
     "cell_type": "markdown",
     "metadata": {},
     "source": [
      "<h5> 3.10 \uc774\ucc28\ud615\ud0dc </h5>\n",
      "\n",
      "\ud589\ub82c A \uc640 \ubca1\ud130 a, x \uac00 \uc788\ub2e4\uace0 \ud588\uc744\ub54c,\n",
      "\n",
      "<pre>\n",
      "A = [a<sub>11</sub> a<sub>12</sub> ... a<sub>1n</sub>]\n",
      "    [a<sub>21</sub> a<sub>22</sub> ... a<sub>2n</sub>]\n",
      "    [...    ...   ]\n",
      "    [a<sub>n1</sub> a<sub>n2</sub> ... a<sub>nn</sub>]\n",
      "    \n",
      "a = [a<sub>1</sub>]\n",
      "    [a<sub>2</sub>]\n",
      "    [..]\n",
      "    [a<sub>n</sub>]\n",
      "    \n",
      "x = [x<sub>1</sub>]\n",
      "    [x<sub>2</sub>]\n",
      "    [..]\n",
      "    [x<sub>n</sub>]\n",
      "</pre>\n",
      "\n",
      "> L = a'x = a<sub>1</sub>x<sub>1</sub> + a<sub>2</sub>x<sub>2</sub> + ... +  a<sub>n</sub>x<sub>n</sub>\n",
      "\n",
      "L \uc740 x \uc5d0 \uc758\ud55c **\uc77c\ucc28\ud615\ud0dc(linear form)**\uc774\ub77c \ud558\uace0,\n",
      "\n",
      "\ub300\uce6d\ud589\ub82c A \uc640 \ubca1\ud130 x \uc5d0 \uc758\ud574 \uc815\uc758\ub41c \uc2a4\uce7c\ub77c Q\n",
      "\n",
      "> Q = x'Ax\n",
      "\n",
      "Q \ub294 x\uc5d0 \ub300\ud55c **\uc774\ucc28\ud615\ud0dc(quadratic form)**\uc774\ub77c \ud55c\ub2e4.\n",
      "\n",
      "\uc608\ub97c \ub4e4\uc5b4,\n",
      "\n",
      "<pre>\n",
      "A = [a<sub>11</sub> a<sub>12</sub>]  x = [x<sub>1</sub>]\n",
      "    [a<sub>21</sub> a<sub>22</sub>]      [x<sub>2</sub>]\n",
      "\n",
      "\uc5d0 \ub300\ud55c \uc774\ucc28\ud615\ud0dc\ub294 \uc544\ub798\uc640 \uac19\ub2e4.\n",
      "    \n",
      "Q = x'Ax = [x<sub>1</sub> x<sub>2</sub>][a<sub>11</sub> a<sub>12</sub>][x<sub>1</sub>] = a<sub>11</sub>x<sub>1</sub><sup>2</sup> + a<sub>12</sub>x<sub>1</sub>x<sub>2</sub> + a<sub>21</sub>x<sub>1</sub>x<sub>2</sub> + a<sub>22</sub>x<sub>2</sub><sup>2</sup>\n",
      "                 [a<sub>21</sub> a<sub>22</sub>][x<sub>2</sub>]\n",
      "\n",
      "</pre>\n",
      "\n",
      "\ud68c\uadc0\ubaa8\ud615\uc758 \ubaa8\uc218\ub97c \ucd5c\uc18c\uc81c\uacf1\ubc95\uc774\ub098 \ucd5c\uc6b0\ubc95\uc5d0 \uc758\ud574 \ucd94\uc815\ud558\ub294 \uacfc\uc815\uc5d0\uc11c \n",
      "\n",
      "\ubaa8\uc218\ubca1\ud130\uc5d0 \ub300\ud574 \ubaa9\uc801\ud568\uc218\ub97c \ubbf8\ubd84\ud558\ub294 \uac83\uc774 \ud544\uc694\ud558\ubbc0\ub85c\n",
      "\n",
      "\uc77c\ucc28\ud615\ud0dc\uc640 \uc774\ucc28\ud615\ud0dc\uc5d0 \ub300\ud55c \ud3b8\ubbf8\ubd84\uc5d0 \ub300\ud558\uc5ec \uac04\ub2e8\ud788 \uc0b4\ud3b4\ubcf4\uc790. (???)\n",
      "\n",
      "\n",
      "\uc6b0\uc120 \ubca1\ud130 x \uc758 \uac01 \uc6d0\uc18c\uc5d0 \uc758\ud55c \uc77c\ucc28\ud615\ud0dc \ud3b8\ubbf8\ubd84\uc740 \n",
      "\n",
      "dL/dx = a\n",
      "\n",
      "dQ/dx = Ax + A'x = (A + A')x "
     ]
    },
    {
     "cell_type": "markdown",
     "metadata": {},
     "source": [
      "<h5> 3.11 \ud655\ub960\ubcc0\uc218 \uc9d1\ud569\uc758 \uacf5\ubd84\uc0b0\ud589\ub82c </h5>\n",
      "\n",
      "\ud3c9\uade0\uc774 0 \uc774\uace0, \ubd84\uc0b0\uc774 sigma<sup>2</sup> \uc778,\n",
      "\n",
      "\uc11c\ub85c \ub3c5\ub9bd\uc778 n\uac1c \ud655\ub960\ubcc0\uc218(random variables) \uc9d1\ud569 x' = [x<sub>1</sub> x<sub>2</sub> ... x<sub>n</sub>] \uc744 \uc815\uc758\ud558\uc790.\n",
      "\n",
      "\uc774\ub54c \ud655\ub960\ubcc0\uc758 \uae30\ub313\uac12\uc774 0 \uc774\ubbc0\ub85c, \n",
      "\n",
      "\uacf5\ubd84\uc0b0\ud589\ub82c(covariance matrix) \ub294 \ub2e4\uc74c\uacfc \uac19\ub2e4. \n",
      "\n",
      "C = E[xx']\n",
      "\n",
      "\uc5ec\uae30\uc11c E[x<sub>i</sub>x<sub>j</sub>] = {sigma<sup>2</sup>  i = j, 0  i != j} \uc774\ubbc0\ub85c, \uacf5\ubd84\uc0b0\ud589\ub82c\uc740 \ub2e4\uc74c\uacfc \uac19\ub2e4. \n",
      "\n",
      "<pre>\n",
      "C = I sigma<sup>2</sup> =  E [sigma<sup>2</sup> 0 ... 0]\n",
      "                  [0  sigma<sup>2</sup> ... 0]\n",
      "                  [...         ...]\n",
      "                  [0  0 ... sigma<sup>2</sup>]                            \n",
      "</pre>\n",
      "\n",
      "\ubb3c\ub860 \ud655\ub960\ubcc0\uc218\uc758 \uacf5\ubd84\uc0b0\uc774 Cov(x<sub>i</sub>, x<sub>j</sub>) = sigma<sub>ij</sub> \uc778 \uc77c\ubc18\uc801\uc778 \uacbd\uc6b0\uc758 \uacf5\ubd84\uc0b0\ud589\ub82c\uc740 \ub2e4\uc74c\uacfc \uac19\ub2e4. \n",
      "\n",
      "<pre>\n",
      "(a = sigma)\n",
      "\n",
      "C = [a<sub>11</sub> a<sub>12</sub> ... a<sub>1n</sub>]\n",
      "    [a<sub>21</sub> a<sub>22</sub> ... a<sub>2n</sub>]\n",
      "    [...    ...   ]\n",
      "    [a<sub>n1</sub> a<sub>n2</sub> ... a<sub>nn</sub>]\n",
      "</pre>\n",
      "\n",
      "\uacf5\ubd84\uc0b0\ud589\ub82c\uc740 cov \ud568\uc218\ub97c \uc0ac\uc6a9\ud55c\ub2e4."
     ]
    },
    {
     "cell_type": "code",
     "collapsed": false,
     "input": [
      "sc.cov(A)"
     ],
     "language": "python",
     "metadata": {},
     "outputs": [
      {
       "metadata": {},
       "output_type": "pyout",
       "prompt_number": 40,
       "text": [
        "array([[ 0.5, -0.5],\n",
        "       [-0.5,  0.5]])"
       ]
      }
     ],
     "prompt_number": 40
    },
    {
     "cell_type": "markdown",
     "metadata": {},
     "source": [
      "<h5> 3.12 \ucf5c\ub808\uc2a4\ud0a4 \ubd84\ud574 </h5>\n",
      "\n",
      "\ud589\ub82c A \uac00 \uc591\uc758 \uc815\ubd80\ud638(positive definite) \ub300\uce6d\ud589\ub82c\uc774\uba74, (\uc591\uc758 \uc815\ubd80\ud638\ub294 deteminant \uac12\uc744 \ub9d0\ud558\ub294\ub4ef)\n",
      "\n",
      "\uc774 \ud589\ub82c\uc740 U'U \ub85c \ub098\ub204\uc5b4\uc9c4\ub2e4.\n",
      "\n",
      "\uc5ec\uae30\uc11c U \ub294 \uc591\uc758 \ub300\uac01\uc6d0\uc18c\ub97c \uac16\ub294 \uc704\uc0bc\uac01\ud589\ub82c(upper triangle) \uc774\uba70, \n",
      "\n",
      "\uc774\uc640\uac19\uc740 \ubd84\ud574\ub97c **\ucf5c\ub808\uc2a4\ud0a4 \ubd84\ud574(Cholesky decomposition)** \ub77c\uace0 \ud55c\ub2e4.\n",
      "\n",
      "<br/>\n",
      "\n",
      "R \uc740 \ucf5c\ub808\uc2a4\ud0a4 \ubd84\ud574\ub97c \uacc4\uc0b0\ud558\ub294 \ud568\uc218 chol() \uc744 \uc81c\uacf5\ud55c\ub2e4. \n",
      "\n",
      "U <- chol(A)\n",
      "\n",
      "\uc785\ub825\ubcc0\uc218\uc778 A \ub294 n * n \ud589\ub82c\uc774\uba70, \ucd9c\ub825\ubcc0\uc218 U \ub294 A = U'U \ub97c \ub9cc\uc871\ud558\ub294 n * n \uc704\uc0bc\uac01\ud589\ub82c\uc774\ub2e4."
     ]
    },
    {
     "cell_type": "code",
     "collapsed": false,
     "input": [
      "A"
     ],
     "language": "python",
     "metadata": {},
     "outputs": [
      {
       "metadata": {},
       "output_type": "pyout",
       "prompt_number": 41,
       "text": [
        "array([[2, 1],\n",
        "       [1, 2]])"
       ]
      }
     ],
     "prompt_number": 41
    },
    {
     "cell_type": "code",
     "collapsed": false,
     "input": [
      "U = sc.linalg.cholesky(A)\n",
      "U"
     ],
     "language": "python",
     "metadata": {},
     "outputs": [
      {
       "metadata": {},
       "output_type": "pyout",
       "prompt_number": 42,
       "text": [
        "array([[ 1.41421356,  0.70710678],\n",
        "       [ 0.        ,  1.22474487]])"
       ]
      }
     ],
     "prompt_number": 42
    },
    {
     "cell_type": "code",
     "collapsed": false,
     "input": [
      "tr_U = np.transpose(U)\n",
      "tr_U"
     ],
     "language": "python",
     "metadata": {},
     "outputs": [
      {
       "metadata": {},
       "output_type": "pyout",
       "prompt_number": 43,
       "text": [
        "array([[ 1.41421356,  0.        ],\n",
        "       [ 0.70710678,  1.22474487]])"
       ]
      }
     ],
     "prompt_number": 43
    },
    {
     "cell_type": "code",
     "collapsed": false,
     "input": [
      "sc.dot(tr_U, U)"
     ],
     "language": "python",
     "metadata": {},
     "outputs": [
      {
       "metadata": {},
       "output_type": "pyout",
       "prompt_number": 44,
       "text": [
        "array([[ 2.,  1.],\n",
        "       [ 1.,  2.]])"
       ]
      }
     ],
     "prompt_number": 44
    },
    {
     "cell_type": "markdown",
     "metadata": {},
     "source": [
      "<h5> 3.13 QR \ubd84\ud574 </h5>\n",
      "\n",
      "\uacc4\uc218\uac00 p \uc778 n x p \ud589\ub82c A \uac00 \uc874\uc7ac\ud560\ub54c, \n",
      "\n",
      "\ud589\ub82c A \ub294 Q \uc640 R \uc758 \uacf1\uc73c\ub85c \ubd84\ud574\ub420 \uc218 \uc788\ub2e4. \n",
      "\n",
      "\uc774\ub54c, Q \ub294 \ucc28\uc218\uac00 n x p \uc778 \uc9c1\uad50\ud589\ub82c\uc774\uba70, \n",
      "\n",
      "R \uc740 \ucc28\uc218\uac00 p x p \uc778 \uc704\uc0bc\uac01\ud589\ub82c\uc774\ub2e4. \n",
      "\n",
      "> A = QR\n"
     ]
    },
    {
     "cell_type": "code",
     "collapsed": false,
     "input": [
      "A = np.array([[1,1,1,1],\n",
      "              [1,2,2,1],\n",
      "              [2,3,1,6]])\n",
      "A"
     ],
     "language": "python",
     "metadata": {},
     "outputs": [
      {
       "metadata": {},
       "output_type": "pyout",
       "prompt_number": 45,
       "text": [
        "array([[1, 1, 1, 1],\n",
        "       [1, 2, 2, 1],\n",
        "       [2, 3, 1, 6]])"
       ]
      }
     ],
     "prompt_number": 45
    },
    {
     "cell_type": "code",
     "collapsed": false,
     "input": [
      "Q, R = sc.linalg.qr(A)\n",
      "Q # \uc9c1\uad50\ud589\ub82c"
     ],
     "language": "python",
     "metadata": {},
     "outputs": [
      {
       "metadata": {},
       "output_type": "pyout",
       "prompt_number": 46,
       "text": [
        "array([[ -4.08248290e-01,   7.07106781e-01,  -5.77350269e-01],\n",
        "       [ -4.08248290e-01,  -7.07106781e-01,  -5.77350269e-01],\n",
        "       [ -8.16496581e-01,   5.55111512e-16,   5.77350269e-01]])"
       ]
      }
     ],
     "prompt_number": 46
    },
    {
     "cell_type": "code",
     "collapsed": false,
     "input": [
      "R # \uc704\uc0bc\uac01\ud589\ub82c"
     ],
     "language": "python",
     "metadata": {},
     "outputs": [
      {
       "metadata": {},
       "output_type": "pyout",
       "prompt_number": 47,
       "text": [
        "array([[ -2.44948974e+00,  -3.67423461e+00,  -2.04124145e+00,\n",
        "         -5.71547607e+00],\n",
        "       [  0.00000000e+00,  -7.07106781e-01,  -7.07106781e-01,\n",
        "          2.22044605e-15],\n",
        "       [  0.00000000e+00,   0.00000000e+00,  -1.15470054e+00,\n",
        "          2.30940108e+00]])"
       ]
      }
     ],
     "prompt_number": 47
    },
    {
     "cell_type": "code",
     "collapsed": false,
     "input": [
      "sc.dot(Q, R) # \ubd84\ud574 \uc99d\uba85 A = Q*R"
     ],
     "language": "python",
     "metadata": {},
     "outputs": [
      {
       "metadata": {},
       "output_type": "pyout",
       "prompt_number": 48,
       "text": [
        "array([[ 1.,  1.,  1.,  1.],\n",
        "       [ 1.,  2.,  2.,  1.],\n",
        "       [ 2.,  3.,  1.,  6.]])"
       ]
      }
     ],
     "prompt_number": 48
    },
    {
     "cell_type": "markdown",
     "metadata": {},
     "source": [
      "QR \ubd84\ud574\ub294 **\ucd5c\uc18c\uc81c\uacf1\ucd94\uc815\uce58**\ub97c \uad6c\ud560\ub54c \uc720\uc6a9\ud558\ub2e4. \n",
      "\n",
      "\uc989, A \uac00 n x p \ud589\ub82c\uc774\uace0, \uacc4\uc218(rank) \uac00 p \uc774\uba74 \n",
      "\n",
      "\uc9c1\uad50\ud589\ub82c\uc758 \ud2b9\uc131 Q'Q = I \uc744 \uc774\uc6a9\ud574,\n",
      "\n",
      "\uc5f0\ub9bd\ubc29\uc815\uc2dd\uccb4\uacc4 Ax = h \uc758 \ud574\ub97c \uc544\ub798\ucc98\ub7fc \uad6c\ud560 \uc218 \uc788\ub2e4. \n",
      "\n",
      "> Ax = h\n",
      "\n",
      "> x = R<sup>-1</sup> Q' h"
     ]
    },
    {
     "cell_type": "code",
     "collapsed": false,
     "input": [
      "A = np.array([[1,2,3],[4,5,6],[7,8,-9]])\n",
      "h = np.array([[3],[-4],[2]])\n",
      "\n",
      "# x \uad6c\ud558\uae30 \n",
      "Q, R = sc.linalg.qr(A)\n",
      "print sc.linalg.inv(R).dot(np.transpose(Q)).dot(h)\n",
      "\n",
      "# \ud558\uc9c0\ub9cc \ubc14\ub85c \uad6c\ud560 \uc218 \uc788\ub294 solve \ub97c \uc774\uc6a9\ud558\uc790.\n",
      "sc.linalg.solve(A, h)"
     ],
     "language": "python",
     "metadata": {},
     "outputs": [
      {
       "output_type": "stream",
       "stream": "stdout",
       "text": [
        "[[-8.38888889]\n",
        " [ 6.77777778]\n",
        " [-0.72222222]]\n"
       ]
      },
      {
       "metadata": {},
       "output_type": "pyout",
       "prompt_number": 49,
       "text": [
        "array([[-8.38888889],\n",
        "       [ 6.77777778],\n",
        "       [-0.72222222]])"
       ]
      }
     ],
     "prompt_number": 49
    },
    {
     "cell_type": "markdown",
     "metadata": {},
     "source": [
      "<h5> 3.14 \ud2b9\uc774\uac12 \ubd84\ud574 </h5>\n",
      "\n",
      "n x p \ud589\ub82c A \uc77c\ub54c, \n",
      "\n",
      "> A = UDV'\n",
      "\n",
      "\uc774\uc640 \uac19\uc740 \ubd84\ud574\ub97c **\ud2b9\uc774\uac12 \ubd84\ud574 (singular value decomposition) \ub610\ub294 SVD \ubd84\ud574** \ub77c\uace0 \ud55c\ub2e4. \n",
      "\n",
      "U \uc88c\uce21 \ud2b9\uc774\ud589\ub82c n x n \n",
      "V \uc6b0\uce21 \ud2b9\uc774\ud589\ub82c p x p \n",
      "D \ub300\uac01\ud589\ub82c, \uc8fc \ub300\uac01\uc120\uc758 \uac12 \ubaa8\ub450 \uc591\uc758 \uc2e4\uc218 n x p\n",
      "\n",
      "**\uace0\uc720\uac12\ubd84\ud574  vs  SVD \ubd84\ud574**\n",
      "\n",
      "\uace0\uc720\uac12\ubd84\ud574\ub294 \uc815\ubc29\ud589\ub82c\ub9cc \uac00\ub2a5, \n",
      "SVD \ubd84\ud574\ub294 \ubaa8\ub4e0\ud589\ub82c\uc744 \ubd84\ud574\ud560 \uc218 \uc788\ub2e4.\n",
      "\n",
      "A \ud589\ub82c\uc774 \uc591\uc758 \uc815\ubd80\ud638 \ub300\uce6d\ud589\ub82c\uc77c \uacbd\uc6b0 A \uace0\uc720\uac12\ubd84\ud574 = A \ud2b9\uc774\uac12\ubd84\ud574 "
     ]
    },
    {
     "cell_type": "code",
     "collapsed": false,
     "input": [
      "# \uc591\uc758\uc815\ubd80\ud638 \ub300\uce6d\ud589\ub82c\uc77c\ub54c \uace0\uc720\uac12\ubd84\ud574 = SVD\ubd84\ud574 \uc778\uc9c0 \ud655\uc778\ud574\ubcf4\uc790.\n",
      "\n",
      "A = np.array([[4,2,-2],[2,10,2],[-2,2,5]]) # \ub300\uce6d\ud589\ub82c\n",
      "A"
     ],
     "language": "python",
     "metadata": {},
     "outputs": [
      {
       "metadata": {},
       "output_type": "pyout",
       "prompt_number": 50,
       "text": [
        "array([[ 4,  2, -2],\n",
        "       [ 2, 10,  2],\n",
        "       [-2,  2,  5]])"
       ]
      }
     ],
     "prompt_number": 50
    },
    {
     "cell_type": "code",
     "collapsed": false,
     "input": [
      "sc.linalg.det(A) # \uc591\uc758 \uc815\ubd80\ud638"
     ],
     "language": "python",
     "metadata": {},
     "outputs": [
      {
       "metadata": {},
       "output_type": "pyout",
       "prompt_number": 51,
       "text": [
        "108.0"
       ]
      }
     ],
     "prompt_number": 51
    },
    {
     "cell_type": "code",
     "collapsed": false,
     "input": [
      "_, x = sc.linalg.eig(A) # \uace0\uc720\uac12\ubd84\ud574\n",
      "x"
     ],
     "language": "python",
     "metadata": {},
     "outputs": [
      {
       "metadata": {},
       "output_type": "pyout",
       "prompt_number": 52,
       "text": [
        "array([[-0.73475777,  0.64809708,  0.20025282],\n",
        "       [ 0.31458117,  0.06401449,  0.9470696 ],\n",
        "       [-0.60097396, -0.75886252,  0.25091428]])"
       ]
      }
     ],
     "prompt_number": 52
    },
    {
     "cell_type": "code",
     "collapsed": false,
     "input": [
      "u, s, v = sc.linalg.svd(A) # SVD \ubd84\ud574 : \uc5f4 \uc704\uce58\uac00 \ub2e4\ub974\uac70\ub098, \ubc29\ud5a5\uc774 180\ub3c4 \ubc14\ub00c\ub294 \uc815\ub3c4\ub294 \ucc28\uc774\ub09c\ub2e4.\n",
      "u"
     ],
     "language": "python",
     "metadata": {},
     "outputs": [
      {
       "metadata": {},
       "output_type": "pyout",
       "prompt_number": 53,
       "text": [
        "array([[-0.20025282,  0.64809708,  0.73475777],\n",
        "       [-0.9470696 ,  0.06401449, -0.31458117],\n",
        "       [-0.25091428, -0.75886252,  0.60097396]])"
       ]
      }
     ],
     "prompt_number": 53
    },
    {
     "cell_type": "markdown",
     "metadata": {},
     "source": [
      "<h5> 3.15 \ubca1\ud130 \ubc0f \ud589\ub82c \ub178\uc634 </h5>\n",
      "\n",
      "\ub178\uc6c0(norm) \uc774\ub780 \uc77c\ubc18\uc801\uc73c\ub85c \ubca1\ud130\ub098 \ud589\ub82c\uc758 \ud06c\uae30(size)\ub098 \uae38\uc774(length)\ub97c \ub9d0\ud55c\ub2e4.\n",
      "\n",
      "\ubc29\ud5a5\uc740 \uac00\uc9c0\uc9c0 \uc54a\uc544\uc11c \uc591\uc218\uac12\uc774\ub2e4. \n",
      "\n",
      "\ub178\uc634\uc744 \uad6c\ud558\ub294 5\uac00\uc9c0 \ubc29\ubc95 \n",
      "\n",
      "**1. \uc5f4 \ud569\uc758 \uc808\ub300 \ucd5c\ub300\uac12 (maximum absolute colum sum)** \n",
      ": \uc5f4 \uc6d0\uc18c \ud569\uc758 \ucd5c\ub300\uac12\n",
      "\n",
      "**2. \ud589 \ud569\uc758 \uc808\ub300 \ucd5c\ub300\uac12 (maximum absolute row sum)**\n",
      "\n",
      "**3. \ucd5c\ub300 \ubaa8\ub4c8\ub7ec\uc2a4(maximum modulus)**\n",
      ": \ubaa8\ub4e0 \uc6d0\uc18c\uc758 \ucd5c\ub300 \ubaa8\ub4c8\ub7ec\uc2a4\ub97c \ub178\uc634\uc73c\ub85c \ud55c\ub2e4.  \n",
      "\n",
      "**4. \uc720\ud074\ub9ac\ub4dc \ub178\uc634(Euclidean norm) \ub610\ub294 \ud504\ub85c\ubca0\ub2c8\uc6b0\uc2a4 \ub178\uc634(Frobenius norm)**\n",
      ": \ubaa8\ub4e0 \uc6d0\uc18c \uc81c\uacf1\ud569\uc758 \uc81c\uacf1\uadfc\uc744 \ub178\uc634\uc73c\ub85c \ud55c\ub2e4.\n",
      "\n",
      "**5. \uc2a4\ud399\ud2b8\ub7fc \ub178\uc634(spectral norm) \ub610\ub294 2-\ub178\uc634(2-norm)**\n",
      ": \ud2b9\uc774\uac12(singular value) \uc911 \ucd5c\ub300\uac12\n",
      "\n",
      "? \ubaa8\ub4c8\ub7ec\uc2a4 \n",
      "\n",
      "\uc2e4\ud568\uc218(real function)\uc601\uc5ed\uc5d0\uc11c \ucd5c\ub300 \ubaa8\ub4c8\ub7ec\uc2a4 = \uc808\ub300 \ucd5c\ub300\uac12 \uc778\ub370 \ubc18\ud574,\n",
      "\n",
      "\ubcf5\uc18c\ud568\uc218\ub85c \ud655\uc7a5\ub418\uba74, \ucd5c\ub300 \ubaa8\ub4c8\ub7ec\uc2a4 = \ucd5c\ub300 \uc808\ub300\uac12 \uc6d0\ub9ac\n",
      "\n",
      "ex) \ubcf5\uc18c\ud568\uc218 z = a + bi => \ucd5c\ub300 \ubaa8\ub4c8\ub7ec\uc2a4 |z| = root(a<sup>2</sup> + b<sup>2</sup>)\n",
      "\n",
      "\n",
      "norm(v, type=c(\"O\",\"I\",\"F\",\"M\",\"2\"))\n",
      "\n",
      "type \uc740 \uc21c\uc11c\ub300\ub85c \n",
      "\n",
      "\"O\" \uc5f4\ud569\uc758 \ucd5c\ub300\uac12, \"I\" \ud589\ud569\uc758\ucd5c\ub300\uac12, \"F\" \uc720\ud074\ub9ac\ub4dc\ub178\uc634, \"M\" \ucd5c\ub300\ubaa8\ub4c8\ub7ec\uc2a4, \"2\" \uc2a4\ud399\ud2b8\ub7fc\ub178\uc634"
     ]
    },
    {
     "cell_type": "code",
     "collapsed": false,
     "input": [
      "A = np.array([[2,2,2],[5,5,6],[0,-1,-2]])\n",
      "print A\n",
      "\n",
      "sc.linalg.norm(A)"
     ],
     "language": "python",
     "metadata": {},
     "outputs": [
      {
       "output_type": "stream",
       "stream": "stdout",
       "text": [
        "[[ 2  2  2]\n",
        " [ 5  5  6]\n",
        " [ 0 -1 -2]]\n"
       ]
      },
      {
       "metadata": {},
       "output_type": "pyout",
       "prompt_number": 54,
       "text": [
        "10.148891565092219"
       ]
      }
     ],
     "prompt_number": 54
    },
    {
     "cell_type": "code",
     "collapsed": false,
     "input": [
      "sc.linalg.norm(A, 'fro') # \uc81c\uacf1\ud569\uc758 \uc81c\uacf1\uadfc"
     ],
     "language": "python",
     "metadata": {},
     "outputs": [
      {
       "metadata": {},
       "output_type": "pyout",
       "prompt_number": 55,
       "text": [
        "10.148891565092219"
       ]
      }
     ],
     "prompt_number": 55
    },
    {
     "cell_type": "code",
     "collapsed": false,
     "input": [
      "sc.linalg.norm(A, np.inf)  # max(abs(x))"
     ],
     "language": "python",
     "metadata": {},
     "outputs": [
      {
       "metadata": {},
       "output_type": "pyout",
       "prompt_number": 56,
       "text": [
        "16"
       ]
      }
     ],
     "prompt_number": 56
    },
    {
     "cell_type": "code",
     "collapsed": false,
     "input": [
      "sc.linalg.norm(A, -np.inf)  # min(abs(x))"
     ],
     "language": "python",
     "metadata": {},
     "outputs": [
      {
       "metadata": {},
       "output_type": "pyout",
       "prompt_number": 57,
       "text": [
        "3"
       ]
      }
     ],
     "prompt_number": 57
    },
    {
     "cell_type": "code",
     "collapsed": false,
     "input": [
      "sc.linalg.norm(A, 1)  # max(abs(x)) axis=0, column"
     ],
     "language": "python",
     "metadata": {},
     "outputs": [
      {
       "metadata": {},
       "output_type": "pyout",
       "prompt_number": 58,
       "text": [
        "10"
       ]
      }
     ],
     "prompt_number": 58
    },
    {
     "cell_type": "code",
     "collapsed": false,
     "input": [
      "sc.linalg.norm(A, -1)  # min(abs(x)) axis=0, column"
     ],
     "language": "python",
     "metadata": {},
     "outputs": [
      {
       "metadata": {},
       "output_type": "pyout",
       "prompt_number": 59,
       "text": [
        "7"
       ]
      }
     ],
     "prompt_number": 59
    },
    {
     "cell_type": "code",
     "collapsed": false,
     "input": [
      "sc.linalg.norm(A, 2)  # 2-norm, largest sing.value"
     ],
     "language": "python",
     "metadata": {},
     "outputs": [
      {
       "metadata": {},
       "output_type": "pyout",
       "prompt_number": 60,
       "text": [
        "10.064415739871043"
       ]
      }
     ],
     "prompt_number": 60
    },
    {
     "cell_type": "code",
     "collapsed": false,
     "input": [
      "sc.linalg.norm(A, -2)  # smallest sing.value"
     ],
     "language": "python",
     "metadata": {},
     "outputs": [
      {
       "metadata": {},
       "output_type": "pyout",
       "prompt_number": 61,
       "text": [
        "0.15312959981601426"
       ]
      }
     ],
     "prompt_number": 61
    },
    {
     "cell_type": "code",
     "collapsed": false,
     "input": [],
     "language": "python",
     "metadata": {},
     "outputs": []
    }
   ],
   "metadata": {}
  }
 ]
}