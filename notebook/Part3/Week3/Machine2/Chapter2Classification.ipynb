{
 "metadata": {
  "name": "",
  "signature": "sha256:ec921771b3fa530d6854f6b16b7996db6a6db4d63e5249dccf46eefdfaf50a41"
 },
 "nbformat": 3,
 "nbformat_minor": 0,
 "worksheets": [
  {
   "cells": [
    {
     "cell_type": "code",
     "collapsed": false,
     "input": [
      "%pylab\n"
     ],
     "language": "python",
     "metadata": {},
     "outputs": [
      {
       "output_type": "stream",
       "stream": "stdout",
       "text": [
        "Using matplotlib backend: Qt4Agg\n",
        "Populating the interactive namespace from numpy and matplotlib\n"
       ]
      }
     ],
     "prompt_number": 1
    },
    {
     "cell_type": "code",
     "collapsed": false,
     "input": [
      "%matplotlib inline"
     ],
     "language": "python",
     "metadata": {},
     "outputs": [],
     "prompt_number": 2
    },
    {
     "cell_type": "heading",
     "level": 2,
     "metadata": {},
     "source": [
      "2. \uc2e4\uc81c \ub370\uc774\ud130\ub97c \uc774\uc6a9\ud574 \ubd84\ub958\ud574 \ubcf4\uae30"
     ]
    },
    {
     "cell_type": "markdown",
     "metadata": {},
     "source": [
      "\uc774\ubbf8\uc9c0\uc5d0 \uae30\ubc18\ud574\uc11c \uae30\uacc4\uac00 \uaf43\uc758 \ud488\uc885\uc744 \uad6c\ubcc4\ud560 \uc218 \uc788\ub294\uac00?\n",
      "\n",
      "\ud559\uc2b5\ud560 \ub370\uc774\ud130\uc758 \ud488\uc885\uacfc \ud2b9\uc9d5\uc774 \uc8fc\uc5b4\uc838 \uc788\uc74c.(\uc9c0\ub3c4\ud559\uc2b5)\n",
      "\n",
      "\uc2a4\ud338\uba54\uc77c \ubd84\ub958\ub4f1\uc5d0 \uc751\uc6a9\uac00\ub2a5."
     ]
    },
    {
     "cell_type": "heading",
     "level": 3,
     "metadata": {},
     "source": [
      "The Iris dataset"
     ]
    },
    {
     "cell_type": "markdown",
     "metadata": {},
     "source": [
      "\u2022 Sepal length \n"
     ]
    },
    {
     "cell_type": "markdown",
     "metadata": {},
     "source": [
      "\u2022 Sepal width"
     ]
    },
    {
     "cell_type": "markdown",
     "metadata": {},
     "source": [
      "\u2022 Petal length"
     ]
    },
    {
     "cell_type": "markdown",
     "metadata": {},
     "source": [
      "\u2022 Petal width"
     ]
    },
    {
     "cell_type": "markdown",
     "metadata": {},
     "source": [
      "\uac01\uac01 4\uac00\uc9c0\uc758 \ud2b9\uc9d5\uc774 \uc8fc\uc5b4\uc9c4 150\uac00\uc9c0\uc758 \uc608."
     ]
    },
    {
     "cell_type": "heading",
     "level": 3,
     "metadata": {},
     "source": [
      "Visualization"
     ]
    },
    {
     "cell_type": "markdown",
     "metadata": {},
     "source": [
      "<img src=\"images/1.png\">\n",
      "\n",
      "\n",
      "\n",
      "\n",
      "\n",
      "\n"
     ]
    },
    {
     "cell_type": "code",
     "collapsed": false,
     "input": [],
     "language": "python",
     "metadata": {},
     "outputs": []
    },
    {
     "cell_type": "code",
     "collapsed": false,
     "input": [
      "from matplotlib import pyplot as plt\n",
      "from sklearn.datasets import load_iris\n",
      "import numpy as np\n",
      "# We load the data with load_iris from sklearn\n",
      "data = load_iris()\n",
      "features = data['data']\n",
      "feature_names = data['feature_names']\n",
      "target = data['target']\n",
      "for t,marker,c in zip(xrange(3),\">ox\",\"rgb\"):\n",
      "    # We plot each class on its own to get different colored markers\n",
      "    plt.scatter(features[target == t,0],\n",
      "        features[target == t,1],\n",
      "        marker=marker,\n",
      "        c=c)"
     ],
     "language": "python",
     "metadata": {},
     "outputs": [
      {
       "metadata": {},
       "output_type": "display_data",
       "png": "[encoded data removed]",
       "text": [
        "<matplotlib.figure.Figure at 0x150a6160>"
       ]
      }
     ],
     "prompt_number": 3
    },
    {
     "cell_type": "heading",
     "level": 3,
     "metadata": {},
     "source": [
      "\n",
      "First classification model\n",
      "\n"
     ]
    },
    {
     "cell_type": "code",
     "collapsed": false,
     "input": [],
     "language": "python",
     "metadata": {},
     "outputs": []
    },
    {
     "cell_type": "code",
     "collapsed": false,
     "input": [
      "plength = features[:, 2]                    #petal length\n",
      "# use numpy operations to get setosa features\n",
      "is_setosa = ('target_names' == 'setosa')\n",
      "# This is the important step:\n",
      "max_setosa =plength[is_setosa].max()\n",
      "min_non_setosa = plength[~is_setosa].min()\n",
      "print('Maximum of setosa: {0}.'.format(max_setosa))\n",
      "print('Minimum of others: {0}.'.format(min_non_setosa))"
     ],
     "language": "python",
     "metadata": {},
     "outputs": [
      {
       "output_type": "stream",
       "stream": "stdout",
       "text": [
        "Maximum of setosa: 1.4.\n",
        "Minimum of others: 5.1.\n"
       ]
      },
      {
       "output_type": "stream",
       "stream": "stderr",
       "text": [
        "-c:5: DeprecationWarning: using a boolean instead of an integer will result in an error in the future\n"
       ]
      }
     ],
     "prompt_number": 4
    },
    {
     "cell_type": "markdown",
     "metadata": {},
     "source": [
      "\ud06c\uae30 2\ub97c \uae30\uc900\uc744\ub85c setosa\uc640 \ub098\uba38\uc9c0\ub97c \uad6c\ubcc4\ud560 \uc218 \uc788\uc74c."
     ]
    },
    {
     "cell_type": "code",
     "collapsed": false,
     "input": [
      "if features[100,2] < 2: print 'Iris Setosa'\n",
      "else: print 'Iris Virginica or Iris Versicolour'"
     ],
     "language": "python",
     "metadata": {},
     "outputs": [
      {
       "output_type": "stream",
       "stream": "stdout",
       "text": [
        "Iris Virginica or Iris Versicolour\n"
       ]
      }
     ],
     "prompt_number": 5
    },
    {
     "cell_type": "code",
     "collapsed": false,
     "input": [
      "if features[1,2] < 2: print 'Iris Setosa'\n",
      "else: print 'Iris Virginica or Iris Versicolour'"
     ],
     "language": "python",
     "metadata": {},
     "outputs": [
      {
       "output_type": "stream",
       "stream": "stdout",
       "text": [
        "Iris Setosa\n"
       ]
      }
     ],
     "prompt_number": 6
    },
    {
     "cell_type": "markdown",
     "metadata": {},
     "source": [
      "Setosa\uc640 \ub098\uba38\uc9c0 \ub458\uc744 \uad6c\ubd84\ud558\ub294 \ub370\ub294 \uc131\uacf5\uc801\uc784."
     ]
    },
    {
     "cell_type": "code",
     "collapsed": false,
     "input": [
      "data"
     ],
     "language": "python",
     "metadata": {},
     "outputs": [
      {
       "metadata": {},
       "output_type": "pyout",
       "prompt_number": 7,
       "text": [
        "{'DESCR': 'Iris Plants Database\\n\\nNotes\\n-----\\nData Set Characteristics:\\n    :Number of Instances: 150 (50 in each of three classes)\\n    :Number of Attributes: 4 numeric, predictive attributes and the class\\n    :Attribute Information:\\n        - sepal length in cm\\n        - sepal width in cm\\n        - petal length in cm\\n        - petal width in cm\\n        - class:\\n                - Iris-Setosa\\n                - Iris-Versicolour\\n                - Iris-Virginica\\n    :Summary Statistics:\\n    ============== ==== ==== ======= ===== ====================\\n                    Min  Max   Mean    SD   Class Correlation\\n    ============== ==== ==== ======= ===== ====================\\n    sepal length:   4.3  7.9   5.84   0.83    0.7826\\n    sepal width:    2.0  4.4   3.05   0.43   -0.4194\\n    petal length:   1.0  6.9   3.76   1.76    0.9490  (high!)\\n    petal width:    0.1  2.5   1.20  0.76     0.9565  (high!)\\n    ============== ==== ==== ======= ===== ====================\\n    :Missing Attribute Values: None\\n    :Class Distribution: 33.3% for each of 3 classes.\\n    :Creator: R.A. Fisher\\n    :Donor: Michael Marshall (MARSHALL%PLU@io.arc.nasa.gov)\\n    :Date: July, 1988\\n\\nThis is a copy of UCI ML iris datasets.\\nhttp://archive.ics.uci.edu/ml/datasets/Iris\\n\\nThe famous Iris database, first used by Sir R.A Fisher\\n\\nThis is perhaps the best known database to be found in the\\npattern recognition literature.  Fisher\\'s paper is a classic in the field and\\nis referenced frequently to this day.  (See Duda & Hart, for example.)  The\\ndata set contains 3 classes of 50 instances each, where each class refers to a\\ntype of iris plant.  One class is linearly separable from the other 2; the\\nlatter are NOT linearly separable from each other.\\n\\nReferences\\n----------\\n   - Fisher,R.A. \"The use of multiple measurements in taxonomic problems\"\\n     Annual Eugenics, 7, Part II, 179-188 (1936); also in \"Contributions to\\n     Mathematical Statistics\" (John Wiley, NY, 1950).\\n   - Duda,R.O., & Hart,P.E. (1973) Pattern Classification and Scene Analysis.\\n     (Q327.D83) John Wiley & Sons.  ISBN 0-471-22361-1.  See page 218.\\n   - Dasarathy, B.V. (1980) \"Nosing Around the Neighborhood: A New System\\n     Structure and Classification Rule for Recognition in Partially Exposed\\n     Environments\".  IEEE Transactions on Pattern Analysis and Machine\\n     Intelligence, Vol. PAMI-2, No. 1, 67-71.\\n   - Gates, G.W. (1972) \"The Reduced Nearest Neighbor Rule\".  IEEE Transactions\\n     on Information Theory, May 1972, 431-433.\\n   - See also: 1988 MLC Proceedings, 54-64.  Cheeseman et al\"s AUTOCLASS II\\n     conceptual clustering system finds 3 classes in the data.\\n   - Many, many more ...\\n',\n",
        " 'data': array([[ 5.1,  3.5,  1.4,  0.2],\n",
        "        [ 4.9,  3. ,  1.4,  0.2],\n",
        "        [ 4.7,  3.2,  1.3,  0.2],\n",
        "        [ 4.6,  3.1,  1.5,  0.2],\n",
        "        [ 5. ,  3.6,  1.4,  0.2],\n",
        "        [ 5.4,  3.9,  1.7,  0.4],\n",
        "        [ 4.6,  3.4,  1.4,  0.3],\n",
        "        [ 5. ,  3.4,  1.5,  0.2],\n",
        "        [ 4.4,  2.9,  1.4,  0.2],\n",
        "        [ 4.9,  3.1,  1.5,  0.1],\n",
        "        [ 5.4,  3.7,  1.5,  0.2],\n",
        "        [ 4.8,  3.4,  1.6,  0.2],\n",
        "        [ 4.8,  3. ,  1.4,  0.1],\n",
        "        [ 4.3,  3. ,  1.1,  0.1],\n",
        "        [ 5.8,  4. ,  1.2,  0.2],\n",
        "        [ 5.7,  4.4,  1.5,  0.4],\n",
        "        [ 5.4,  3.9,  1.3,  0.4],\n",
        "        [ 5.1,  3.5,  1.4,  0.3],\n",
        "        [ 5.7,  3.8,  1.7,  0.3],\n",
        "        [ 5.1,  3.8,  1.5,  0.3],\n",
        "        [ 5.4,  3.4,  1.7,  0.2],\n",
        "        [ 5.1,  3.7,  1.5,  0.4],\n",
        "        [ 4.6,  3.6,  1. ,  0.2],\n",
        "        [ 5.1,  3.3,  1.7,  0.5],\n",
        "        [ 4.8,  3.4,  1.9,  0.2],\n",
        "        [ 5. ,  3. ,  1.6,  0.2],\n",
        "        [ 5. ,  3.4,  1.6,  0.4],\n",
        "        [ 5.2,  3.5,  1.5,  0.2],\n",
        "        [ 5.2,  3.4,  1.4,  0.2],\n",
        "        [ 4.7,  3.2,  1.6,  0.2],\n",
        "        [ 4.8,  3.1,  1.6,  0.2],\n",
        "        [ 5.4,  3.4,  1.5,  0.4],\n",
        "        [ 5.2,  4.1,  1.5,  0.1],\n",
        "        [ 5.5,  4.2,  1.4,  0.2],\n",
        "        [ 4.9,  3.1,  1.5,  0.1],\n",
        "        [ 5. ,  3.2,  1.2,  0.2],\n",
        "        [ 5.5,  3.5,  1.3,  0.2],\n",
        "        [ 4.9,  3.1,  1.5,  0.1],\n",
        "        [ 4.4,  3. ,  1.3,  0.2],\n",
        "        [ 5.1,  3.4,  1.5,  0.2],\n",
        "        [ 5. ,  3.5,  1.3,  0.3],\n",
        "        [ 4.5,  2.3,  1.3,  0.3],\n",
        "        [ 4.4,  3.2,  1.3,  0.2],\n",
        "        [ 5. ,  3.5,  1.6,  0.6],\n",
        "        [ 5.1,  3.8,  1.9,  0.4],\n",
        "        [ 4.8,  3. ,  1.4,  0.3],\n",
        "        [ 5.1,  3.8,  1.6,  0.2],\n",
        "        [ 4.6,  3.2,  1.4,  0.2],\n",
        "        [ 5.3,  3.7,  1.5,  0.2],\n",
        "        [ 5. ,  3.3,  1.4,  0.2],\n",
        "        [ 7. ,  3.2,  4.7,  1.4],\n",
        "        [ 6.4,  3.2,  4.5,  1.5],\n",
        "        [ 6.9,  3.1,  4.9,  1.5],\n",
        "        [ 5.5,  2.3,  4. ,  1.3],\n",
        "        [ 6.5,  2.8,  4.6,  1.5],\n",
        "        [ 5.7,  2.8,  4.5,  1.3],\n",
        "        [ 6.3,  3.3,  4.7,  1.6],\n",
        "        [ 4.9,  2.4,  3.3,  1. ],\n",
        "        [ 6.6,  2.9,  4.6,  1.3],\n",
        "        [ 5.2,  2.7,  3.9,  1.4],\n",
        "        [ 5. ,  2. ,  3.5,  1. ],\n",
        "        [ 5.9,  3. ,  4.2,  1.5],\n",
        "        [ 6. ,  2.2,  4. ,  1. ],\n",
        "        [ 6.1,  2.9,  4.7,  1.4],\n",
        "        [ 5.6,  2.9,  3.6,  1.3],\n",
        "        [ 6.7,  3.1,  4.4,  1.4],\n",
        "        [ 5.6,  3. ,  4.5,  1.5],\n",
        "        [ 5.8,  2.7,  4.1,  1. ],\n",
        "        [ 6.2,  2.2,  4.5,  1.5],\n",
        "        [ 5.6,  2.5,  3.9,  1.1],\n",
        "        [ 5.9,  3.2,  4.8,  1.8],\n",
        "        [ 6.1,  2.8,  4. ,  1.3],\n",
        "        [ 6.3,  2.5,  4.9,  1.5],\n",
        "        [ 6.1,  2.8,  4.7,  1.2],\n",
        "        [ 6.4,  2.9,  4.3,  1.3],\n",
        "        [ 6.6,  3. ,  4.4,  1.4],\n",
        "        [ 6.8,  2.8,  4.8,  1.4],\n",
        "        [ 6.7,  3. ,  5. ,  1.7],\n",
        "        [ 6. ,  2.9,  4.5,  1.5],\n",
        "        [ 5.7,  2.6,  3.5,  1. ],\n",
        "        [ 5.5,  2.4,  3.8,  1.1],\n",
        "        [ 5.5,  2.4,  3.7,  1. ],\n",
        "        [ 5.8,  2.7,  3.9,  1.2],\n",
        "        [ 6. ,  2.7,  5.1,  1.6],\n",
        "        [ 5.4,  3. ,  4.5,  1.5],\n",
        "        [ 6. ,  3.4,  4.5,  1.6],\n",
        "        [ 6.7,  3.1,  4.7,  1.5],\n",
        "        [ 6.3,  2.3,  4.4,  1.3],\n",
        "        [ 5.6,  3. ,  4.1,  1.3],\n",
        "        [ 5.5,  2.5,  4. ,  1.3],\n",
        "        [ 5.5,  2.6,  4.4,  1.2],\n",
        "        [ 6.1,  3. ,  4.6,  1.4],\n",
        "        [ 5.8,  2.6,  4. ,  1.2],\n",
        "        [ 5. ,  2.3,  3.3,  1. ],\n",
        "        [ 5.6,  2.7,  4.2,  1.3],\n",
        "        [ 5.7,  3. ,  4.2,  1.2],\n",
        "        [ 5.7,  2.9,  4.2,  1.3],\n",
        "        [ 6.2,  2.9,  4.3,  1.3],\n",
        "        [ 5.1,  2.5,  3. ,  1.1],\n",
        "        [ 5.7,  2.8,  4.1,  1.3],\n",
        "        [ 6.3,  3.3,  6. ,  2.5],\n",
        "        [ 5.8,  2.7,  5.1,  1.9],\n",
        "        [ 7.1,  3. ,  5.9,  2.1],\n",
        "        [ 6.3,  2.9,  5.6,  1.8],\n",
        "        [ 6.5,  3. ,  5.8,  2.2],\n",
        "        [ 7.6,  3. ,  6.6,  2.1],\n",
        "        [ 4.9,  2.5,  4.5,  1.7],\n",
        "        [ 7.3,  2.9,  6.3,  1.8],\n",
        "        [ 6.7,  2.5,  5.8,  1.8],\n",
        "        [ 7.2,  3.6,  6.1,  2.5],\n",
        "        [ 6.5,  3.2,  5.1,  2. ],\n",
        "        [ 6.4,  2.7,  5.3,  1.9],\n",
        "        [ 6.8,  3. ,  5.5,  2.1],\n",
        "        [ 5.7,  2.5,  5. ,  2. ],\n",
        "        [ 5.8,  2.8,  5.1,  2.4],\n",
        "        [ 6.4,  3.2,  5.3,  2.3],\n",
        "        [ 6.5,  3. ,  5.5,  1.8],\n",
        "        [ 7.7,  3.8,  6.7,  2.2],\n",
        "        [ 7.7,  2.6,  6.9,  2.3],\n",
        "        [ 6. ,  2.2,  5. ,  1.5],\n",
        "        [ 6.9,  3.2,  5.7,  2.3],\n",
        "        [ 5.6,  2.8,  4.9,  2. ],\n",
        "        [ 7.7,  2.8,  6.7,  2. ],\n",
        "        [ 6.3,  2.7,  4.9,  1.8],\n",
        "        [ 6.7,  3.3,  5.7,  2.1],\n",
        "        [ 7.2,  3.2,  6. ,  1.8],\n",
        "        [ 6.2,  2.8,  4.8,  1.8],\n",
        "        [ 6.1,  3. ,  4.9,  1.8],\n",
        "        [ 6.4,  2.8,  5.6,  2.1],\n",
        "        [ 7.2,  3. ,  5.8,  1.6],\n",
        "        [ 7.4,  2.8,  6.1,  1.9],\n",
        "        [ 7.9,  3.8,  6.4,  2. ],\n",
        "        [ 6.4,  2.8,  5.6,  2.2],\n",
        "        [ 6.3,  2.8,  5.1,  1.5],\n",
        "        [ 6.1,  2.6,  5.6,  1.4],\n",
        "        [ 7.7,  3. ,  6.1,  2.3],\n",
        "        [ 6.3,  3.4,  5.6,  2.4],\n",
        "        [ 6.4,  3.1,  5.5,  1.8],\n",
        "        [ 6. ,  3. ,  4.8,  1.8],\n",
        "        [ 6.9,  3.1,  5.4,  2.1],\n",
        "        [ 6.7,  3.1,  5.6,  2.4],\n",
        "        [ 6.9,  3.1,  5.1,  2.3],\n",
        "        [ 5.8,  2.7,  5.1,  1.9],\n",
        "        [ 6.8,  3.2,  5.9,  2.3],\n",
        "        [ 6.7,  3.3,  5.7,  2.5],\n",
        "        [ 6.7,  3. ,  5.2,  2.3],\n",
        "        [ 6.3,  2.5,  5. ,  1.9],\n",
        "        [ 6.5,  3. ,  5.2,  2. ],\n",
        "        [ 6.2,  3.4,  5.4,  2.3],\n",
        "        [ 5.9,  3. ,  5.1,  1.8]]),\n",
        " 'feature_names': ['sepal length (cm)',\n",
        "  'sepal width (cm)',\n",
        "  'petal length (cm)',\n",
        "  'petal width (cm)'],\n",
        " 'target': array([0, 0, 0, 0, 0, 0, 0, 0, 0, 0, 0, 0, 0, 0, 0, 0, 0, 0, 0, 0, 0, 0, 0,\n",
        "        0, 0, 0, 0, 0, 0, 0, 0, 0, 0, 0, 0, 0, 0, 0, 0, 0, 0, 0, 0, 0, 0, 0,\n",
        "        0, 0, 0, 0, 1, 1, 1, 1, 1, 1, 1, 1, 1, 1, 1, 1, 1, 1, 1, 1, 1, 1, 1,\n",
        "        1, 1, 1, 1, 1, 1, 1, 1, 1, 1, 1, 1, 1, 1, 1, 1, 1, 1, 1, 1, 1, 1, 1,\n",
        "        1, 1, 1, 1, 1, 1, 1, 1, 2, 2, 2, 2, 2, 2, 2, 2, 2, 2, 2, 2, 2, 2, 2,\n",
        "        2, 2, 2, 2, 2, 2, 2, 2, 2, 2, 2, 2, 2, 2, 2, 2, 2, 2, 2, 2, 2, 2, 2,\n",
        "        2, 2, 2, 2, 2, 2, 2, 2, 2, 2, 2, 2]),\n",
        " 'target_names': array(['setosa', 'versicolor', 'virginica'], \n",
        "       dtype='|S10')}"
       ]
      }
     ],
     "prompt_number": 7
    },
    {
     "cell_type": "markdown",
     "metadata": {},
     "source": [
      "labels--->'target_names'"
     ]
    },
    {
     "cell_type": "code",
     "collapsed": false,
     "input": [],
     "language": "python",
     "metadata": {},
     "outputs": []
    },
    {
     "cell_type": "markdown",
     "metadata": {},
     "source": [
      "Iris Virginica\uc640 Iris Versicolor\ub97c \uad6c\ubcc4\ud558\uae30\ub294 \uc27d\uc9c0\uc54a\uc74c. \n",
      "\uc6b0\uc120 non-Setosa \uc758 \ud2b9\uc9d5\uacfc \ub77c\ubca8\uc744 \uc120\ud0dd\ud568."
     ]
    },
    {
     "cell_type": "code",
     "collapsed": false,
     "input": [
      "features = features[~is_setosa]\n",
      "labels = 'target_names'[~is_setosa]\n",
      "virginica = ('target_names' == 'virginica')"
     ],
     "language": "python",
     "metadata": {},
     "outputs": [],
     "prompt_number": 57
    },
    {
     "cell_type": "markdown",
     "metadata": {},
     "source": [
      "\ub354 \uc815\ud655\ud55c \uacb0\uacfc\ub97c \uc5bb\uae30 \uc704\ud574 \uac00\ub2a5\ud55c \ubaa8\ub4e0 feature\uc640 threshold \ub300\ud55c \ub8e8\ud504\ub97c \ub3cc\ub9bc."
     ]
    },
    {
     "cell_type": "code",
     "collapsed": false,
     "input": [
      "best_acc = -1.0\n",
      "for fi in xrange(features.shape[1]):\n",
      "    # We are going to generate all possible threshold for this feature\n",
      "    thresh = features[:,fi].copy()\n",
      "    thresh.sort()\n",
      "    # Now test all thresholds:\n",
      "    for t in thresh:\n",
      "        pred = (features[:,fi] > t)\n",
      "        acc = (pred == virginica).mean()\n",
      "        if acc > best_acc:\n",
      "            best_acc = acc\n",
      "            best_fi = fi\n",
      "            best_t = t"
     ],
     "language": "python",
     "metadata": {},
     "outputs": []
    },
    {
     "cell_type": "markdown",
     "metadata": {},
     "source": [
      "\uc704\uc5d0\uc11c pred\ub97c  \uc2e4\uc81c \ub77c\ubca8\uc778 virginica\uc640 \ube44\uad50\ud568. \n",
      "mean()\uc744 \uacc4\uc0b0\ud568\uc73c\ub85c\uc368 \ub9de\ub294 \uacb0\uacfc\uc758 \ube44\uc728, \uc989 \uc815\ud655\ub3c4\ub97c \uc5bb\uc744 \uc218 \uc788\uc74c."
     ]
    },
    {
     "cell_type": "code",
     "collapsed": false,
     "input": [
      "\uc774\uac83\uc744 \uc801\uc6a9\ud558\uae30 \uc704\ud574\uc11c \uc544\ub798 \ucf54\ub4dc\ub97c \uc2e4\ud589\ud569\ub2c8\ub2e4."
     ],
     "language": "python",
     "metadata": {},
     "outputs": []
    },
    {
     "cell_type": "code",
     "collapsed": false,
     "input": [
      "if example[best_fi] > t: print 'virginica'\n",
      "else: print 'versicolor'scientific"
     ],
     "language": "python",
     "metadata": {},
     "outputs": []
    },
    {
     "cell_type": "code",
     "collapsed": false,
     "input": [
      "\uc704 \ucf54\ub4dc\ub97c \uc804\uccb4 \ub370\uc774\ud130\uc5d0 \ub300\ud574 \uc2e4\ud589\ud558\uba74, \uac00\uc7a5 \uc88b\uc740 \ubaa8\ub378\uc740 petal length\ub85c \ub098\ub204\uc5b4\uc9c0\ub294 \ubaa8\ub378\uc784.\n",
      "\ud770\uc0c9 \uc9c0\uc5ed\uc5d0 \uc788\ub294 \ub370\uc774\ud130\ub294  Iris Virginica\ub85c \ubd84\ub958\ub418\uace0, \uc624\ub978\ucabd \ud68c\uc0c9 \uc9c0\uc5ed\uc740 Iris Verscicolor\ub85c \ubd84\ub958\ub428."
     ],
     "language": "python",
     "metadata": {},
     "outputs": []
    },
    {
     "cell_type": "markdown",
     "metadata": {},
     "source": [
      "<img src=\"images/2.png\">"
     ]
    },
    {
     "cell_type": "heading",
     "level": 3,
     "metadata": {},
     "source": [
      "Evaluation - holding out data and cross-validation"
     ]
    },
    {
     "cell_type": "markdown",
     "metadata": {},
     "source": [
      "\uc704\uc5d0\uc11c\ub294 threshold\ub97c \uc815\uc758\ud558\uae30 \uc704\ud55c \ub370\uc774\ud130\ub97c \uc7ac\uc0ac\uc6a9\ud574\uc11c \ubaa8\ub378\uc744 \ud3c9\uac00\ud558\uc600\uc9c0\ub9cc(circular), \n",
      "\uc815\ub9d0 \ud544\uc694\ud55c \uac83\uc740 \uc0c8\ub85c\uc6b4 \ub370\uc774\ud130\uc5d0 \ubaa8\ub378\uc774 \uc5bc\ub9c8\ub098 \uc798 \uc801\uc6a9\ub418\ub294 \uc9c0\ub97c \uc54c\uc544\uc57c \ud568.\n",
      "\n",
      "\uc774\ubc88\uc5d0\ub294 \ub370\uc774\ud130\ub97c \ub450 \uadf8\ub8f9\uc73c\ub85c \ub098\ub220 \ud55c \uadf8\ub8f9\uc5d0\uc11c\ub294 \ud6c8\ub828\uc744 \ud558\uace0, \ub2e4\ub978 \uadf8\ub8f9\uc5d0\uc11c\ub294 \ud14c\uc2a4\ud2b8\ub97c \ud568.\n",
      "\n",
      "\n",
      "\uc774\uacbd\uc6b0 \ud14c\uc2a4\ud2b8 \uacb0\uacfc\ub294 \ud2b8\ub808\uc774\ub2dd \uacb0\uacfc\ubcf4\ub2e4 \uc815\ud655\ub3c4\uac00 \ub5a8\uc5b4\uc9d1\ub2c8\ub2e4. \n",
      "\n",
      "\n",
      "\ub610\ud55c \ub108\ubb34 \uc801\uc740 \uc218\ub97c \ud14c\uc2a4\ud2b8\uc5d0 \uc0ac\uc6a9\ud558\uac8c \ub418\ub294 \ubb38\uc81c\uc810\uc774 \uc788\uc2b5\ub2c8\ub2e4.\n",
      "\n",
      "\n",
      "\ubaa8\ub4e0 \ub370\uc774\ud130\uac00 \ud6c8\ub828\uacfc \ud14c\uc2a4\ud2b8\uc5d0 \uc0ac\uc6a9\ub418\ub294\uac8c \uc774\uc0c1\uc801\uc784."
     ]
    },
    {
     "cell_type": "code",
     "collapsed": false,
     "input": [],
     "language": "python",
     "metadata": {},
     "outputs": []
    },
    {
     "cell_type": "markdown",
     "metadata": {},
     "source": [
      "\uad50\ucc28\ud3c9\uac00\uc5d0 \uc758\ud574\uc11c \ube44\uc2b7\ud55c \uacb0\uacfc\ub97c \ub0bc \uc218 \uc788\ub294\ub370, \uc544\ub798\uac19\uc740 \uacbd\uc6b0\ub294 \uad50\ucc28\ud3c9\uac00\uc758 \uadf9\ub2e8\uc801\uc778 \uacbd\uc6b0\ub85c \ud55c \uac00\uc9c0 \ub370\uc774\ud130\uac00 \uc5c6\uc774 \ud6c8\ub828\uc744 \uc2e4\uc2dc\ud55c \ud6c4,\n",
      "\ubaa8\ub378\uc774 \uadf8 \ub370\uc774\ud130\ub97c \uc798 \uc608\uce21\ud558\ub294\uc9c0\ub97c \ubd05\ub2c8\ub2e4."
     ]
    },
    {
     "cell_type": "code",
     "collapsed": false,
     "input": [
      "error = 0.0\n",
      "for ei in range(len(features)):\n",
      "    # select all but the one at position 'ei':\n",
      "    training = np.ones(len(features), bool)\n",
      "    training[ei] = False\n",
      "    testing = ~training\n",
      "    model = learn_model(features[training], virginica[training])\n",
      "    predictions = apply_model(features[testing],\n",
      "                    virginica[testing], model)\n",
      "    error += np.sum(predictions != virginica[testing])"
     ],
     "language": "python",
     "metadata": {},
     "outputs": []
    },
    {
     "cell_type": "markdown",
     "metadata": {},
     "source": [
      "\uc704\uc758 \ucf54\ub4dc\uc758 \uacbd\uc6b0 \ubaa8\ub4e0 \uc608\uc5d0 \ub300\ud55c \uc77c\ub828\uc758 \ubaa8\ub378\ub4e4\uc744 \ud14c\uc2a4\ud2b8 \ud558\uc9c0\ub9cc, \n",
      "\uac01\uac01\uc758 \ub370\uc774\ud130\uac00 \uadf8 \ub370\uc774\ud130 \uc5c6\uc774 \ub9cc\ub4e4\uc5b4\uc9c0 \ubaa8\ub378\uc5d0 \uc758\ud574 \ud14c\uc2a4\ud2b8\ub418\uae30 \ub54c\ubb38\uc5d0, circularity \ubb38\uc81c\uac00 \ubc1c\uc0dd\ud558\uc9c0 \uc54a\uc74c.\n",
      "\n",
      "\ub2e8\uc810\uc740 \ub9ce\uc740 \uc5f0\uc0b0\uc774 \ud544\uc694."
     ]
    },
    {
     "cell_type": "markdown",
     "metadata": {},
     "source": [
      "\n",
      "\n",
      "\n",
      "\n",
      "x-fold \uad50\ucc28\ud3c9\uac00\ub97c \uc0ac\uc6a9\ud558\uba74, \uc5f0\uc0b0\uc744 \uc904\uc77c \uc218 \uc788\uc74c."
     ]
    },
    {
     "cell_type": "markdown",
     "metadata": {},
     "source": [
      "<img src=\"images/3.png\">"
     ]
    },
    {
     "cell_type": "markdown",
     "metadata": {},
     "source": [
      "5-fold \uad50\ucc28\ud3c9\uac00"
     ]
    },
    {
     "cell_type": "markdown",
     "metadata": {},
     "source": [
      "\ub370\uc774\ud130\ub97c 5\uac1c \uadf8\ub8f9\uc73c\ub85c \ub098\ub220 5\uac1c \ubaa8\ub378\uc744 \ubc30\uc6b0\ub294\ub370 \uac01\uac01 20%\uc758 \ub370\uc774\ud130\ub97c \ub0a8\uaca8\ub450\uace0 \ud6c8\ub828\uc744 \uc2dc\ud0a4\uace0, \n",
      "\uac01\uac01\uc758 \ubaa8\ub378\uc744 \uadf8 20%\uc758 \ub370\uc774\ud130\ub85c \ud14c\uc2a4\ud2b8\ub97c \uc2dc\ud589(dataset 1,2,3,4,5\uc758 \uc21c\uc11c)\ud558\uace0 \uacb0\uacfc\uc758 \ud3c9\uade0\uc744 \ub0c4."
     ]
    },
    {
     "cell_type": "code",
     "collapsed": false,
     "input": [],
     "language": "python",
     "metadata": {},
     "outputs": []
    },
    {
     "cell_type": "heading",
     "level": 3,
     "metadata": {},
     "source": [
      "Buildeing more complex classifiers"
     ]
    },
    {
     "cell_type": "markdown",
     "metadata": {},
     "source": [
      "\uc774\uc804 \ubaa8\ub378\uc5d0\uc11c\ub294 \uc5ec\ub7ec\ucc28\uc6d0\uc911 \ud55c \ucc28\uc6d0\uc5d0 \ub300\ud55c \ubb38\ud131(threshold)\uc5d0 \ub300\ud55c \uac83\uc774\uc5c8\uc74c.\n",
      "\n",
      "\n",
      "\ubd84\ub958\ubaa8\ub378\uc740\n",
      "\n",
      "\n",
      "\u2022 The structure of the model : \uc5ec\uae30\uc11c\ub294 \ud558\ub098\uc758 \ud2b9\uc9d5\uc5d0 \ub300\ud55c \ubb38\ud131\uc744 \uc774\uc6a9.\n",
      "\n",
      "\u2022 The search prodedure:  \uc5ec\uae30\uc11c\ub294 feature\uc640 threshold\uc758 \ubaa8\ub4e0 \uac00\ub2a5\ud55c \uc870\ud569\uc744 \uc2dc\ub3c4\ud568.\n",
      "\n",
      "\u2022 The loss function: \uc5b4\ub5a4 \uac00\ub2a5\uc131\uc774 \uc880\ub354 \ub35c \ub098\uc05c\uc9c0\ub97c \uacb0\uc815\ud568.(\uc644\ubcbd\ud55c \uc194\ub8e8\uc158\uc740 \uc5c6\uae30\uc5d0...) .training error\ub97c \uc774\uc6a9\ud560 \uc218\ub3c4 \uc788\ub294\ub370, \uadf8\ub0e5 \ucd5c\uace0\uc758 \uc815\ud655\ub3c4\ub9cc\uc744 \ucd94\uad6c\ud55c\ub2e4\uace0 \ub9d0\ud560 \uc218\ub3c4 \uc788\uc74c. \ubcf4\ud1b5\uc740 loss function\uc774 \ucd5c\uc18c\uc778 \uac83\uc774 \uc88b\uc74c."
     ]
    },
    {
     "cell_type": "code",
     "collapsed": false,
     "input": [],
     "language": "python",
     "metadata": {},
     "outputs": []
    },
    {
     "cell_type": "markdown",
     "metadata": {},
     "source": [
      "\ube60\uc9d0\uc5c6\uc774 \uc5f0\uc0b0\ud558\uc5ec \uc5f0\uc0b0\ud558\uc5ec \uc815\ud655\ud55c \uacb0\uacfc\ub97c \uc5bb\ub294 \uac83\uacfc \uc815\ud655\ub3c4\uc740 \ub0ae\ub354\ub77c\ub3c4 \uc801\uc740 \uc591\ub9cc\uc744 \uacc4\uc0b0\ud558\ub294 \uac83\uc758 trade-off\ub97c \uc798 \uc0dd\uac01\ud574\uc57c \ud568.\n",
      "\n",
      "\uac12\uc774 \ub2e4\ub978 loss function\uc744 \uac00\uc9c0\ub294 \uacbd\uc6b0\ub294, \ud55c \uacbd\uc6b0\uc758 error\uac00 \ub2e4\ub978 \uacbd\uc6b0\uc5d0\uc11c\uc758 error\ubcf4\ub2e4 \ub354 \ube44\uc2fc \ub300\uac00\ub97c \uce58\ub8f0 \uc218 \uc788\uc74c.\n"
     ]
    },
    {
     "cell_type": "markdown",
     "metadata": {},
     "source": [
      "\uc608\ub97c \ub4e4\uc5b4, false negatives  =! false positives"
     ]
    },
    {
     "cell_type": "code",
     "collapsed": false,
     "input": [],
     "language": "python",
     "metadata": {},
     "outputs": []
    },
    {
     "cell_type": "markdown",
     "metadata": {},
     "source": [
      "A flase negative\ub294 \ud658\uc790\uac00 \uc2ec\uac01\ud55c \ubcd1\uc744 \uac00\uc9c0\uace0 \uc788\uc74c\uc5d0\ub3c4 \ubd88\uad6c\ud558\uace0 \ud544\uc694\ud55c \uce58\ub8cc\ub97c \ubabb\ubc1b\uac8c \ud558\uc9c0\ub9cc. A flase positive(\ud14c\uc2a4\ud2b8\ub294 \uc591\uc131\uc774\uc9c0\ub9cc, \uc2e4\uc81c \ud658\uc790\ub294 \ubcd1\uc5d0 \uac78\ub9ac\uc9c0 \uc54a\uc558\uc74c.)\uc758 \uacbd\uc6b0\uc5d0\ub294, \ud655\uc9c4\uc744 \uc704\ud55c \ucd94\uac00 \ud14c\uc2a4\ud2b8\ub97c \ubc1b\uac70\ub098, \ubd88\ud544\uc694\ud55c \uce58\ub8cc\ub97c \ubc1b\uac8c \ub428.(\ubb3c\ub860 \uc774\uacbd\uc6b0\uc5d0\ub3c4 \uce58\ub8cc\uc758 \ubd80\uc791\uc6a9\uc774\ub098 \ucd94\uac00\uc801 \ube44\uc6a9\uc774 \ub4e4\uc9c0\ub9cc, \ub300\uccb4\uc801\uc73c\ub85c \ub35c \uce58\uba85\uc801\uc774\ub77c\uace0 \ud560 \uc218 \uc788\uc74c.)"
     ]
    },
    {
     "cell_type": "markdown",
     "metadata": {},
     "source": [
      "\n",
      "\n",
      "\uadf9\ub2e8\uc801 \uacbd\uc6b0, \ubcd1\uc774 \ub9e4\uc6b0 \uce58\uba85\uc801\uc774\uace0 \uadf8 \uce58\ub8cc\ube44\uc6a9\uc774 \ub9e4\uc6b0 \uc2f8\uace0, \ubd80\uc791\uc6a9\ub3c4 \uac70\uc758 \uc5c6\ub2e4\uba74 false negative\ub97c \ucd5c\uc18c\ub85c \ud558\uace0 \uc2f6\uc744 \uac83\uc774\ub2e4.\n",
      "\n",
      "\uc2a4\ud338\uba54\uc77c \ud544\ud130\ub9c1\ub3c4 \ub9c8\ucc2c\uac00\uc9c0\uc778\ub370, \uc2a4\ud338\uba54\uc77c\uc774 \uc544\ub2cc \uba54\uc77c\uc744 \uc798\ubabb\ubd84\ub958\ud574 \uc9c0\uc6b0\ub294 \uacbd\uc6b0 \ub9e4\uc6b0 \uce58\uba85\uc801\uc77c \uc218 \uc788\uc9c0\ub9cc, \uc2a4\ud338\uba54\uc77c\uc744 \uac04\ud639 \ubc1b\ub294 \uac83\uc740 \uadf8\ub0e5 \uadc0\ucc2e\uc740 \uc77c\uc5d0 \ubd88\uacfc \ud560 \uc218\ub3c4 \uc788\ub2e4.\n"
     ]
    },
    {
     "cell_type": "markdown",
     "metadata": {},
     "source": [
      "\n",
      "\uacb0\ub860:cost(loss) function\uc740 \uc5b4\ub5a4 \ubb38\uc81c\ub97c \ud574\uacb0\ud558\ub824 \ud558\ub290\ub0d0\uc5d0 \ub530\ub77c\uc57c \ud568. \ubcf4\ud1b5\uc740 mistakes\uc758 \uc218\ub97c \uc904\uc5ec highets accuracy\ub97c \ub2ec\uc131\ud558\ub824 \ud558\uc9c0\ub9cc, \uc5b4\ub5a4 \uc2e4\uc218\ub4e4\uc740  \ub2e4\ub978 \uac83\ub4e4\ubcf4\ub2e4 \ub354 \ube44\uc6a9\uc774 \ub9ce\uc774 \ub4e4 \uacbd\uc6b0 \ub0ae\uc740 overall accuracy\ub97c \ubc1b\uc544\ub4e4\uc774\uace0 overall cost\ub97c \ucd5c\uc18c\ud654\ud558\ub294 \uac83\uc774 \ub354 \ub0ae\ub2e4."
     ]
    },
    {
     "cell_type": "heading",
     "level": 3,
     "metadata": {},
     "source": [
      "Seeds dataset and feature engineering"
     ]
    },
    {
     "cell_type": "markdown",
     "metadata": {},
     "source": [
      "\u2022 Area (A)\n",
      "\n",
      "\n",
      "\u2022 Perimeter (P)\n",
      "\n",
      "\n",
      "\u2022 Compactness ( C= 4*pi*A/(P*P)  )\n",
      "\n",
      "\n",
      "\u2022 Length of kernel\n",
      "\n",
      "\n",
      "\u2022 Width of kernel\n",
      "\n",
      "\n",
      "\u2022 Asymmetry coefficient\n",
      "\n",
      "\n",
      "\u2022 Length of kernel groove"
     ]
    },
    {
     "cell_type": "code",
     "collapsed": false,
     "input": [],
     "language": "python",
     "metadata": {},
     "outputs": []
    },
    {
     "cell_type": "markdown",
     "metadata": {},
     "source": [
      "\n",
      "\n",
      "\n",
      "\n",
      "Canadian, Komaa, Rosa\uc758 \uc138\uac00\uc9c0 class\ub85c \ubd84\ub958"
     ]
    },
    {
     "cell_type": "code",
     "collapsed": false,
     "input": [],
     "language": "python",
     "metadata": {},
     "outputs": []
    },
    {
     "cell_type": "markdown",
     "metadata": {},
     "source": [
      "\ucc38\uace0:\n",
      "\n",
      "UCI Machine Learning Dataset Repository\n",
      "\n",
      "\n",
      "\n",
      "http://archive.ics.uci.edu/ml/"
     ]
    },
    {
     "cell_type": "code",
     "collapsed": false,
     "input": [],
     "language": "python",
     "metadata": {},
     "outputs": []
    },
    {
     "cell_type": "markdown",
     "metadata": {},
     "source": [
      "compactness\uc758 \uacbd\uc6b0 \uc0c8\ub85c\uc6b4 \uce21\uc815\uce58\uac00 \uc544\ub2c8\ub77c, A\uc640 C\uc758 \ud568\uc218\uc784.\n",
      "\n"
     ]
    },
    {
     "cell_type": "markdown",
     "metadata": {},
     "source": [
      "feature engineering\uc740 \ub54c\ub85c\ub294 \uc54c\uace0\ub9bc\uc998\ubcf4\ub2e4 \ub354 \uc131\ub2a5\uc5d0 \uc788\uc5b4\uc11c \uc911\uc694\ud55c \uc5ed\ud655\uc744 \ud568.(a simple algorithm on well-chosen features\n",
      "will perform better than a fancy algorithm on not-so-good features)."
     ]
    },
    {
     "cell_type": "markdown",
     "metadata": {},
     "source": [
      "compactness\ub294 \ubaa8\uc591\uc774 \uae38\uac70\ub098 \ub465\uadfc \uc815\ub3c4\ub97c \ub098\ud0c0\ub0b4\ub294 \uac83\uc73c\ub85c, \ud06c\uae30\uac00 \ub2e4\ub974\ub354\ub77c\ub3c4 \ubaa8\uc591\uc774 \ube44\uc2b7\ud558\uba74 \uac19\uc740 \uac12\uc744 \uac00\uc9c0\uace0, \ubc18\ub300\ub85c \ud06c\uae30\uac00 \uac19\ub354\ub77c\ub3c4 \ubaa8\uc591\uc774 \ud558\ub098\ub294 \ub465\uae00\uace0 \ud558\ub098\ub294 \uae34\uacbd\uc6b0 \ub2e4\ub978 \uac12\uc744 \uac00\uc9c4\ub2e4."
     ]
    },
    {
     "cell_type": "code",
     "collapsed": false,
     "input": [],
     "language": "python",
     "metadata": {},
     "outputs": []
    },
    {
     "cell_type": "markdown",
     "metadata": {},
     "source": [
      "\uc88b\uc740 feature\ub294 \uc911\uc694\ud55c \ubb38\uc81c\uc758 \ubcc0\ud654\uac00 \uc788\uc744\ub54c \uadf8 \uac12\uc774 \uac19\uc774 \ubcc0\ud654\ud558\uace0, \uadf8\ub807\uc9c0 \uc54a\uc740 \uac83\uc5d0 \ub300\ud574\uc11c\ub294 \ubcc0\ud654\uac00 \uc5c6\uc5b4\uc57c \ud568.\n",
      "\n",
      "compactness\ub294 \ud06c\uae30\ubcc0\ud654\uc5d0\ub294 \uc0c1\uad00\uc5c6\uc774 \ubaa8\uc591\uc5d0 \ub530\ub77c \ubcc0\ud568."
     ]
    },
    {
     "cell_type": "markdown",
     "metadata": {},
     "source": [
      "\ub610\ud55c, \uc704\uc758 \uacbd\uc6b0\uc5d0 feature\uc758 \uc218\uac00 \uc801\uae30 \ub54c\ubb38\uc5d0 \uc5b4\ub5a4\uac83\uc744 \uc120\ud0dd\ud558\ub290\ub0d0\uac00 \ubb38\uc81c\uac00 \ubc1c\uc0dd\ud558\uc9c0 \uc54a\uc9c0\ub9cc,\n",
      "\n",
      "\uc218\ub9ce\uc740 feature\ub97c \uac00\uc9c4 \uacbd\uc6b0 \ub300\ubd80\ubd84\uc744 \ubc84\ub824\uc57c \ub354 \ube60\ub978 \uc131\ub2a5\uc744 \uc5bb\uc744 \uc218 \uc788\uc74c."
     ]
    },
    {
     "cell_type": "heading",
     "level": 3,
     "metadata": {},
     "source": [
      "Nearest neighbor classification"
     ]
    },
    {
     "cell_type": "code",
     "collapsed": false,
     "input": [
      "def distance(p0, p1):\n",
      "    'Computes squared euclidean distance'\n",
      "    return np.sum( (p0-p1)**2)"
     ],
     "language": "python",
     "metadata": {},
     "outputs": [],
     "prompt_number": 1
    },
    {
     "cell_type": "markdown",
     "metadata": {},
     "source": [
      "n\ucc28\uc6d0 \uacf5\uac04\uc5d0\uc11c\uc758 \uac01 \uc608\uac00 n\uac1c\uc758 features\ub85c \ub098\ud0c0\ub0b4\uc5b4\uc9c0\ub294 \uc810\uc73c\ub85c \uc0dd\uac01\ud574\uc11c \uac70\ub9ac\ub97c \uacc4\uc0b0."
     ]
    },
    {
     "cell_type": "code",
     "collapsed": false,
     "input": [
      "def nn_classify(training_set, training_labels, new_example):\n",
      "    dists = np.array([distance(t, new_example)\n",
      "        for t in training_set])\n",
      "    nearest = dists.argmin()\n",
      "    return training_labels[nearest]"
     ],
     "language": "python",
     "metadata": {},
     "outputs": [],
     "prompt_number": 1
    },
    {
     "cell_type": "markdown",
     "metadata": {},
     "source": [
      "\uc0c8\ub85c\uc6b4 \uc608\uac00 \uc8fc\uc5b4\uc9c0\uba74, \ub370\uc774\ud130\uc5d0\uc11c \uac00\uc7a5 \uac00\uae4c\uc6b4 \uc810\uc744 \uad6c\ud574\uc11c \uadf8 \ub77c\ubca8\uc744 \ubd04."
     ]
    },
    {
     "cell_type": "code",
     "collapsed": false,
     "input": [],
     "language": "python",
     "metadata": {},
     "outputs": []
    },
    {
     "cell_type": "markdown",
     "metadata": {},
     "source": [
      "\uac01\uac01\uc758 \uc810\uc5d0 \ub300\ud574 \uac00\uc7a5 \uac00\uae4c\uc6b4 \uc810\uc740 \uc790\uae30 \uc790\uc2e0\uc774\ubbc0\ub85c, \uad50\ucc28 \ud3c9\uac00 \ud504\ub85c\ud1a0\ucf5c\uc744 \uc0ac\uc6a9\ud574\uc57c \ud568.\n",
      "\n",
      "10 fold \uad50\ucc28 \ud3c9\uac00\uc758 \uacbd\uc6b0 88%\uc758 \uc815\ud655\ub3c4\ub97c \uc5bb\uc74c."
     ]
    },
    {
     "cell_type": "markdown",
     "metadata": {},
     "source": [
      "<img src=\"images/4.png\">"
     ]
    },
    {
     "cell_type": "markdown",
     "metadata": {},
     "source": [
      "x=10:22 y=0.75:1.00 \uc774\ubbc0\ub85c x\uc758 \uc791\uc740 \ubcc0\ud654\uac00 y\uc758 \uc791\uc740 \ubcc0\ud654\uc5d0 \ube44\uc5d0 \ud6e8\uc52c \ud07c"
     ]
    },
    {
     "cell_type": "markdown",
     "metadata": {},
     "source": [
      "Z-score\n",
      "\n"
     ]
    },
    {
     "cell_type": "code",
     "collapsed": false,
     "input": [
      "# subtract the mean for each feature:\n",
      "features -= features.mean(axis=0)\n",
      "# divide each feature by its standard deviation\n",
      "features /= features.std(axis=0)"
     ],
     "language": "python",
     "metadata": {},
     "outputs": []
    },
    {
     "cell_type": "markdown",
     "metadata": {},
     "source": [
      "after Z-scoring"
     ]
    },
    {
     "cell_type": "markdown",
     "metadata": {},
     "source": [
      "<img src=\"images/5.png\">"
     ]
    },
    {
     "cell_type": "markdown",
     "metadata": {},
     "source": [
      "\uacbd\uacc4\uac00 \ubcf4\ub2e4 \ubcf5\uc7a1\ud574\uc84c\uace0, \ub450\uac1c\uc758 \ucc28\uc6d0 \uc0ac\uc774\uc758 interaction\uc744 \ubcfc \uc218 \uc788\uc74c.\n",
      "\n",
      "7\ucc28\uc6d0 \uacf5\uac04\uc740 \uc2dc\uac01\ud654\ud558\uae30 \uc5b4\ub835\uaca0\uc9c0\ub9cc, \ub611\uac19\uc740 \uc6d0\ub9ac\uac00 \uc801\uc6a9\uba70, \uc774\uc81c \uac01\uac01\uc758 \uacf5\uac04\uc740 \ub611\uac19\uc740 \uc911\uc694\uc131\uc744 \uac00\uc9d0.\n",
      "\n",
      "\ucc38\uace0: k-nearest neighbor classifier\n",
      "\n"
     ]
    },
    {
     "cell_type": "heading",
     "level": 3,
     "metadata": {},
     "source": [
      "Binary and multiclass classification"
     ]
    },
    {
     "cell_type": "heading",
     "level": 5,
     "metadata": {},
     "source": [
      "multiclass \ubb38\uc81c\ub97c \uc77c\ub828\uc758 binary decisions\uc73c\ub85c \ucabc\uac1c\uae30 "
     ]
    },
    {
     "cell_type": "markdown",
     "metadata": {},
     "source": [
      "\u2022 Is it an Iris Setosa (yes or no)?\n",
      "\n",
      "\n",
      "\u2022 If no, check whether it is an Iris Virginica (yes or no)."
     ]
    },
    {
     "cell_type": "code",
     "collapsed": false,
     "input": [],
     "language": "python",
     "metadata": {},
     "outputs": []
    },
    {
     "cell_type": "markdown",
     "metadata": {},
     "source": [
      "                                        Iris Setosa?\n",
      "\n",
      "                        Iris Virgiinica?            is Iris Setosa\n",
      "\n",
      "\n",
      "    is Iris Virginicais                   Iris Versicolour\n"
     ]
    },
    {
     "cell_type": "markdown",
     "metadata": {},
     "source": [
      "classification tree"
     ]
    },
    {
     "cell_type": "code",
     "collapsed": false,
     "input": [],
     "language": "python",
     "metadata": {},
     "outputs": []
    }
   ],
   "metadata": {}
  }
 ]
}