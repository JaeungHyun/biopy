{
 "metadata": {
  "name": "",
  "signature": "sha256:62ec40f5bc6d02652901d05bbf45f43f893d2f3f6152d6344aca64394633083f"
 },
 "nbformat": 3,
 "nbformat_minor": 0,
 "worksheets": [
  {
   "cells": [
    {
     "cell_type": "heading",
     "level": 2,
     "metadata": {},
     "source": [
      "4.10 Python Basics II"
     ]
    },
    {
     "cell_type": "raw",
     "metadata": {},
     "source": [
      "While loop \ubb38\uc5d0\uc11c \uc870\uac74\uc740 body\uc548\uc5d0\uc11c update \ub418\uace0 \uacb0\uad6d false\uac00 \ub41c\ub2e4. \uac04\ub2e8\ud55c \uc608\uc81c\ub294 \ub2e4\uc74c\uacfc \uac19\ub2e4."
     ]
    },
    {
     "cell_type": "code",
     "collapsed": false,
     "input": [
      "i = 0\n",
      "\n",
      "while (i < 5):\n",
      "    i = i+1 #or i+=1\n",
      "    print i"
     ],
     "language": "python",
     "metadata": {},
     "outputs": [
      {
       "output_type": "stream",
       "stream": "stdout",
       "text": [
        "1\n",
        "2\n",
        "3\n",
        "4\n",
        "5\n"
       ]
      }
     ],
     "prompt_number": 1
    },
    {
     "cell_type": "heading",
     "level": 3,
     "metadata": {},
     "source": [
      "4.10.1 Review and warm-up exercises"
     ]
    },
    {
     "cell_type": "raw",
     "metadata": {},
     "source": [
      "1. \ud130\ubbf8\ub110\uc744 \uc5f4\uace0 \uc704\uce58\ud55c \ub514\ub809\ud1a0\ub9ac\ub97c \ud655\uc778\ud558\uc790. \ud604\uc7ac \ub514\ub809\ud1a0\ub9ac\uc5d0\uc11c \ud30c\uc77c\uc744 list \ud574\ubcf4\uc790. \ub2e4\uc74c\uacfc \uac19\uc740 \uc0c8\ub85c\uc6b4 \ud3f4\ub354\ub97c \ub9cc\ub4e4\uc5b4 \ubcf8\ub2e4. - \u2018folder1/folder2/folder3\u2019. folder2\ub85c \uc774\ub3d9\ud558\uace0 cat \uba85\ub839\uc5b4\ub97c \uc0ac\uc6a9\ud558\uc5ec \"I made this!.\"\ub77c\ub294 \ub0b4\uc6a9\uc73c\ub85c \u201ccatted.txt\u201d\ub77c\ub294 \ud30c\uc77c\uc744 \uc0dd\uc131\ud55c\ub2e4. folder1, folder2, folder3\uc744 \uc81c\uac70\ud55c\ub2e4."
     ]
    },
    {
     "cell_type": "code",
     "collapsed": false,
     "input": [
      "#%bookmark biopython /Users/kkkim/Documents/BioPython\n",
      "#%cd biopython\n",
      "%pwd"
     ],
     "language": "python",
     "metadata": {},
     "outputs": [
      {
       "metadata": {},
       "output_type": "pyout",
       "prompt_number": 2,
       "text": [
        "u'/Users/kkkim/Documents/BioPython/homework'"
       ]
      }
     ],
     "prompt_number": 2
    },
    {
     "cell_type": "code",
     "collapsed": false,
     "input": [
      "%ls"
     ],
     "language": "python",
     "metadata": {},
     "outputs": [
      {
       "output_type": "stream",
       "stream": "stdout",
       "text": [
        "20140617_Python Basic I.ipynb   graffiti3.txt\r\n",
        "20140624_Python Basic II.ipynb  palindromes.txt\r\n",
        "Untitled0.ipynb                 palindromes_len8.txt\r\n",
        "expert.py                       winner.py\r\n",
        "graffiti.txt                    word_count.py\r\n",
        "graffiti2.txt\r\n"
       ]
      }
     ],
     "prompt_number": 3
    },
    {
     "cell_type": "code",
     "collapsed": false,
     "input": [
      "%mkdir folder1\n",
      "%mkdir folder1/folder2\n",
      "%mkdir folder1/folder2/folder3"
     ],
     "language": "python",
     "metadata": {},
     "outputs": [],
     "prompt_number": 4
    },
    {
     "cell_type": "code",
     "collapsed": false,
     "input": [
      "%%writefile folder1/folder2/catted.py\n",
      "\"I made this!.\""
     ],
     "language": "python",
     "metadata": {},
     "outputs": [
      {
       "output_type": "stream",
       "stream": "stdout",
       "text": [
        "Writing folder1/folder2/catted.py\n"
       ]
      }
     ],
     "prompt_number": 5
    },
    {
     "cell_type": "code",
     "collapsed": false,
     "input": [
      "%rm -Rf folder1 #foler1\uc758 \ud558\uc704 \ud3f4\ub354(-R)\ub97c \ud3ec\ud568\ud558\uc5ec \uac15\uc81c\ub85c(-f) \uc81c\uac70"
     ],
     "language": "python",
     "metadata": {},
     "outputs": [],
     "prompt_number": 6
    },
    {
     "cell_type": "raw",
     "metadata": {},
     "source": [
      "2. text editor\ub97c \uc5f4\uc5b4 sequence1.txt \ud30c\uc77c\uc744 \ub85c\ub529\ud55c\ub2e4. \uc591\ucabd\uc5d0\uc11c GAATTC\uc5d0 \uc758\ud574 \uc778\uc2dd\ub418\ub294 EcoRI restriction enzyme \uc5d0 \uc758\ud574 \uc808\ub2e8\ub418\ub294 \uc11c\uc5f4\uc744 \ucc3e\ub294\ub2e4. (again)"
     ]
    },
    {
     "cell_type": "code",
     "collapsed": false,
     "input": [
      "myseq = open('../examples/sequence1.txt', 'rU').read()\n",
      "EcoRI_seq = myseq.split('GAATTC')\n",
      "EcoRI_seq"
     ],
     "language": "python",
     "metadata": {},
     "outputs": [
      {
       "metadata": {},
       "output_type": "pyout",
       "prompt_number": 7,
       "text": [
        "['GCCACAAGTGCCAAACGGGCACGGTCATCGGAGCAGATGAGTTGACAGAAATATTCCGGCGGCAACTGCGTTGGAAGCTTAAGCCTTTGTGTCACTCCTTGATGACTCCGTCACATGAGTCCAGACCGTAAACTTATAGATTATGACGAATGACCAGCAACTTTAGGGGTTCGTAGTGCTTTCGGATCTCAAAACCATTCTCTAGAGCCTCTTGTCATAGGGGCCAGCAACGTCATCGCGGTATTTATTGAAGAGAGATGGCATCACAGTGCCGTAACACGACCGCTTGAAAATGCCCCTTGCCACTAAACGACTTACCTCGACCATAGTCATGTGAGGCCCCTTATTCCTGGGTTGACCACTCGAGCCGCATGGGTGAGCTACTTGTACCATCTCCACGTGTCCAATCAAACCCCTCCCAATTTGGCTTGTGGCTGTGCGACGTCTTGTCAAAAAGACCGTGTACCAAACCACTATTCCGAAGTTTTTACACCTTACCTTTAATCTGAATAACACTACAGCCAAAGCGTCCAGGCCGGAGAGTTCCATGTAAGTGACGCATCTGGGTCAATCCATGATTAGCCTTGAATTTGGGGCGTAAAGCAATGGCTGCCCCTGCCTCGAGGTCTATTTCAACAGTCAGCCGGGACTTCGACACATATTTTCATAGTTGCCTAGTTCCGGGCCCATGATGGCAGGGAGTAGTGTCGCTAAACGATACAGGTGCGTGTTGCCGAGATGATCCGCTCAGCCCGCTGATCCACAATTATGTCCGGATGTTATGCTACCGGCCCCTCCTGCAGGTCCTGAACAGATACTCGCACCATCTTGATACGAACGAGTGTACCATGTCCCCAGCAATACTGGCAAATTAATGGTGTGGAGCAGGGTGGGGGGACAGTAATAAAGACGCCTCGCGAGGTGGAATGCCGGTGTCGGCATTTAAGCACCGCATTTTCTTTACGGGAGTTCTCTAGGTCGTTTAAACCGTGTTTGAGTAGTAACTACCTGATTATTCCCAGAGTTATTCAGCAGGAGCGGTGTTCTCCTTCGGAGGGGTTGCTGTTGGGTTAAACTATGTGCGGACATCTCACGGGGGGAAATCAAACAGTGAAAGCCGTCATCCAATTAAACTCGAGGGCATCGGGACCGTTATGTATTGTGCTCCTGAATACCAGTGAGTCCCAAGAAGAGAGGATGCTTTCAAATCCCAGAGTTGAGGAGGCTTGGCGAAATAAGCATCTGTTGGCTTGACTGTCCTCGTATGCCGCCAAGGGCTATCTGACCGCGGTGATCAATCTGTTTTCTAATGCCCCAGCAATCTTCCGATACCACACTAAGAACTTATGTTATAGCGGTGATCCATCCCGG',\n",
        " 'GGGCTGAAGTTCTCTTCAACGGGGCCCTCCAGGTGAAAACCACGTGCTCTAGTGTCTTCAACCAGTCTTAGGTTCCGATGATCGAGTTCCCCGGACAGTGACCCGCCAAGGTTTTTCAGGAAGAAGCAACGTTTCGCGCCCCACTTTCACCCCCTAATGCGTATAGCCCCCATTAATTTACGGTGCTTCTACGAGGAATTTAGACCTACATTCCAATATCAATTTCTCGGGGGATTTCATGCAGCCCGCACAACCCACTAGACTATCACCACGGGAGAGGATATCGCCGGGGAAGTCACTCTGGAAGTTAAACCCAGAATGATAAATGGTACGGAACCGGAACGCTTGCGACCTTATGTCCTGATTCCCTAGCTACTCAAACACTCGTCCGCTGGGGATTGCGGCTTCTGTATGTGCGTTCCCGTATGAAAGGCTGTTCGGATGTGGGATCGGTTCCCGGACTGCTCCGGGTCTTTTCAAACAATTCGGGCCAACGGTACTTAATTAGTTCGCGCATCCGATGCGCGCCTCACGAGCGCTCACTATGAATTTTGTCAGAAAAATTTACTCGAGTAGGGTACCTTCCGGGGACCGACAGGGACGTAATGCAAGATGAGAGTCTCCTACATCTAACGATGCCAGCTCCACTTATTTACGGATCCAAATCGCCTCTGCGGGCACTATTCGTGGTCAGAGATAGTTGATGGTGACATCACAGTGACAAGTCCGCGCACGAGCGAAAAAGCTCCCTTTCGTTCAACAAATATGTGTATTAAGATTCGTACCTCAAGTAGTAAGACCCTTCTCGCAAGACAGTGCGCCCGGATGGCGACAGGCCTTAATGAGGTCTATATGTTAGTCTAGCTTTTGTGACCTAGTAGGATAACGCGTCCTAATGAGCATTTCACCCATGGGTGGCGTGCGCTTGTTTGCTGGAAATTCTTAATGTTAATAGCTCTTAGCGATAGATGTGTCCGTTATGATATTGACTCCCAGTTTCGTCCGAAACTACATGTTTTCGGCCTCGGGGAACGCTCCCGTCAAATAACGTCTCGCCTAGAGTCGACGAGAGAATCTAGCAACGCATTTAGGTTGTGGCGTTCTATTAACTGGACAAGATCGTTACAGATCAGACCTGAGAGATTAGATGTTGATACGTCACAGACTATAGAAGTAGTGAATGTAGAGCGAGTGATGTCTCTCCGTCCCTGGAGTACCTGGATGATGAACTGCATCGTTATGTCCTAAAGCAGTCTTCAAACCTAGGAATTTAAATGAGCACCAGACTGTTTCCGGAGTGGACCCGGAGACGGAAGGGTTCTCTATGTCCCATTAAAAGCGCGGTCATCAACAAATGATTGGTGGCTTATCGGAAGCCATTTGTCCCTAAATCGTTACGTACCGACGAGCTCGAGCAGGCAAGTTCTCCGGTGTATGTTTGACCTTGTCATTAACGTTTAATAGTTTACCACTTTCTGTGCAGGTTTACAGTTGGACCGAATGACTTTTACCCTTAGTTAGAGATCTTCCGATAGAAGCCGTGTCCACGTAATTTGCTTTTTTTCTACAAGAATCAGGCCTTCAGATTCATAAGCCGGACTAGTATAGAGTAACACTAAGTGTCAATCCCGTTAGTGGCCCCTTCGAGAGTTGACCCGCCTCGTGACCTTGTAGCTCGATATCGTCGCAGAGCGCCTTAAATCGCTTGCTAACAACCTCGCACGGTTCTTCCTTCCTGCAAGGATTACTCCGATGAGCTAGCTTTACTGATGCAAGCCGCCGATACATCCCGCGTGCTGCTACTGGCCGGTCAGATGGGAGAGGGGCCGCCGATCATTGTCTGGCGCCTAGGGAGGGAGCCCTAGCTCGTGTTATATACGATTTTCATACCCCTCGCACGTTACCGTATGGAACAGGGGTCGCGGATGGTAGATTGATTGACGAGGTAACATGACCACGGCATTCTAACAGGCGCCACTACTTCACCCCACCTGGTAGCAAACGGGAAGCCAGGGTGCAGGACTGGTAATGTGCTGACCGGGACAAACCAATCCGTAAGTAGTTCAGGCCACTACCGACCTGGAATTGAGAACCTGTTTGCCCTGGCAAGTTCGCCTCTAGACGTCCTAGACGAATCCGACTCCGTAACGAGGATAAGCCTAAGTACGCGGTAAAAAGTACTCGGAGGAAGGAGGTCTCTACCCAAGACCTATACTCGGGGACAGTTGGATGGACCCATGTCAACTACTGATACGCAAAATAATGCCCACGCACATCAGACCGGTATATTCGCGAGGAGAGATGGTGGCAGGATGGGACTTGCTGCGAAACCAGGACATAATCAGAGTCCTTGTTATCGGACAAGGTGTATACGTATCGTTGGGCTGTCGGGGCGCAATGCCCGAGATATGCGAGCCAAGTCGTTAGGTTCTTATCAACGATTTACTCCTCGCGTAACGACAAGTCTCCACCCTGCTCGGGCGCCAGAAGACTTGAATTTAACATCCGAGATTAAGTGTGTGGCTGTTAGCCGCTATGGGGCGTTTCTAACCGTTGCGCTAGTAAATACCTTGTTTACCCTACGAGTGAGGAGCGCATGCAGCTGCTATGGAGTAGGGCGAACACCCAATCCAGACTGCACTCCGCAACTCCGCAGCCCTCGATGATGGTATAAACGCACACTTCTACACTCCGGTATGTCACATGCAGGGGATGCGGCCCCAACCCCGGTCTCCTTTTTTATTTATACGCCGGTGATCGAGAAGGTATACACGAAGTTGCGTGACTGCGCCCCGCAACACTCCCAATCTGTGTTTCATGATCTTGTTGTGGCCAACCCAACGGCCTGTAGAAGGCGATTAGCCCTCTTTTCTAGAAGATTAGGGAATGCTCAATA',\n",
        " 'AAAGTGCTCTCAGTGACAACAGTGATTCCCTGCGTATGATGACCATACCGCCGGTGGGTAAGTGTAGACGGGCATAACCATGTTAATCATCGTACATCGTTCACGTTTCAGGCCTACCTTTACTGCGGCGATTTGGTTTCTTTTAACATCGCTCTAACCGGCGTTCGGGTAGATCAGGGCGGCAGCGTCAGACACGTTCTGCAAAGCCAACCTCTCCTATCAGGTAGAGTTTTCAAACTCGGCTTTGGTAAAGCAAAAAAGGCCAACTTCTAATTAACTGCTTCGCGCTTGGCCTGTAATCGTCTTGATTAACTTTGATACCGTATTCTCCTCAAAGCTTATAATCTACCCGACCGCAGCATAAACCCCGAGACTAGGCCACAGTAGCTAAAGGCTGAGTCGCTATCTCCAGGGCGTGGCACGAAAACAGGCTCCTTTTATACCGTGTTATTGTGCCCGACTGTTTCTTTTGCCGGAAACATAGCCCAGAAGGCATTCACGGTGAAGTCCCAAATGACCGCCGACCGCGATTTCGTTTGCCTACCCACGGGTAACGCTACACTTCGAAGTCCATTACAGATGTCAAAGCTCATCTGCTCCAAACCGGAGCCGGTGCTCCCTCAAATGGACACAAGTGTCAAATGTTACGGCTCAAGCGCAACTTGATATTCCTCTTAACGTTCGGGCGAATCGGTAGGCAACCACTATAACCCCACAAACTCGTACCATTCCGGCCCTCCGGGTTTTAATCAACGCTAACCTTGTGCACTCGCAAAGATAGAATTTGTCCGTAAAGATGCTAATATAACTCGTCAACATGCTCCAATGATGAGGTCATCGTGTGATGACCACTGTACCAAGCCACTGATGTGTACGTGGTGGCAAGTCTATGGATCAACGAATAGATAAACGCTTCTGTCTAGGCTAAGAACATCTATAGCTGACCTAGAGTCTTATTTAGCGTTAATAGGTCGTTACAGGTCTATAGTGGATCATAGCATAACATTTTTCAACGTGCGGAAATGTTTTTCCCCATCACTTGGCGTCGAATACCGCTCAAGTTCCCCAGTCACCTGGAGCGCTTTGAACCTCGCCCAGTGATCGTGGCCCATCGCTTTTGAGGTGTAGACCGGCTTCTCGTTGGACCCAGGGATGCTACTCACGATAAAGCGGGAGTGATCATCCTCTTCCTAGTGTGCCTAACTGACTCAAGATTTTCGCCCGGGCAGGCACGAGTGACATACGAGTAATGTCACCTCTTGGACTTTAATGAGCTTTTAATGATAATTCTGGGTTCGAAGCTGAGCAACCATAGCTTCCCGCATTATTCGGCACGCTACACCCCGCAGCTAGCTTCGGGGATCCGCGATACTCTAGAGAATCTGCCCGTTTTTGGTACAACCGGTTTGCCCATAGTCGCTCTTTAATCTGAAGAAATTTTCGAACCCTGCAAAGCCAGGAGTTCGAATGACTCTCCCCGTCTTGATCACATAAACCCTTTCGTCTTCACACCACAAATCATGCTGCGATCTGGGACTCTGCTCACTGATAAGAGCGGGTTCAACGAGGCCCTGTAGACGCGTGATACAGAAGCTTTTAAATTCTCGCCCTTGGTGGCGCAGGAATCCACGAGTCGCCGCCGGAACCGTCGAAACACCGGTAGAACAGTTAATTCGCTGCGATCGCGACTTCGTAGGTATTTATACTACATCGTCGCCGACAGAGTCCGTAATGCTTCCATATGCACACCTAGTGAGACAAACCATTTTGTACTCCCTCGGGAGGGACGAGCAAGTATAACATAAAGGCTCAGCCCCGACACTACTCGCGCGCGAGGGCCAACAATTGCGGGCTTGCAGACTGCTTAATGATATGACTACCCGGCCGTCGGGGAAGGAACCAATGCGTTGCCGTGACCATGTTGTCAAGCATCAATGCAGTTTGTCCTGGAGAAAACATAAACTGATCGGAATCTATCTGGCTTTCGCAATCGAATGTTCCTGCATAAGTTACAAGCTTTAGTCATACGAAGGTGAAATACGGAAAAGGGGACAAACCGCGAAAATGTCAGTTGTGCCGTGCTGAAACCAGGGAGGGGTCTTGGGAATTAGCTGTTAGCGAAGGAGATGGAGGCGTAGCTCTGACGGGTTTATGGTTCAGGTAACACCCCGCCCTGGCTAACGAGATAGGGCTACTAACGCTAAGTGCTTGGGTGACCCTTAAGCGAAGGTCCCACATCCATATATCACACACGGTCTACTCTTAAGTTCGCCCGCGAGTGTGACCCAAATCCACCAAGCTTAACGACACGCACAAGGGCACATCGACATAGTAATCGAGGTCCGGTGCGAACTTTTCTCGAAACAGCTGGTGCGCCCAAAGTCCCCGCTGCTACCAGATTGGCAATGTGAGATATTCATGTTAGTCTTCCCCTGCGAGGTTGCTTAATATGGTGCCGTGATCGAACAACACTCCTGATATATCCTGTTAGGGGGTATATACCAAAATTACCATAAGCGCACAGTTTGTAGATATCCCGTCGTACTCTCTGTAGTGATGCTGCTAGCTATCCGTATTCAGCCGTGCGTTGGATGATGGACGAGAATATAGAACCGGCGGTGGGACATTTAGAATACTGTACCGGAGTCAGAATTGAATGCGTACAACGGACTTTATATGGTTCGTGCCCGAGTGTGCTTAGTAGGCTATTTCCCTAATGGAGCAAGCGATTATCTTCGCAAACTCCATCGGTCCGCTACCCCTTACCGTCTTGCAGTAAAAACAAGTTGAGCCCTCGGTGGGATGACAAGCCCTACCGGCTTCGCCAATCCCCCCAGTAAACGCCTAATTGGCGCGGGGCAGCCAAGGCGGTGATGTAGCTTGTTTAGTGGCATATACGTTGATAGCACCTGGGCTAAACCAAGAGTCCTCGAACCCACGTCGACTGACGTGTTGGGGTGTCTGGGC',\n",
        " 'AACACGATAAGTGATAACGTCTTACTCTGGCATGAGCCCCAGGCAGTCCGTTCGCGGATGAGCCTGTACATATGCATTCCCCCTCCGGCTAGAAGGAGTCTTACCTACGACTGCGACGGGGTACTGGGCGATATGTCTCAATGCGGATGACAGCCGCAGATGCACCATCTGCACGTAAGACCAAGCTCGGCGTCTCTTTGGGGATAGACAGAACCGGGATGATGGTGATGGATTTTCGCTAGTCCCAGGATGTGCTACATCGTGGAAGTCCTCATGAGAAATTTTTAAAGCCCGGTTCGCGCGGTTCCCAGCGTACCGCGCCTTTATATGTCTTTGACTAGTGGGTGTTGTATAAAAGAACTCCTCACAAGACGTCTGTGACCGAGACCACGTGACACTTACTGCACCATGACTTTATACCTTGGGGCGCATGTTTCTTGTCATTTGCTGGATTTAACCAGAGCAAGGTTTGGGTTTATGGCTGTAGTATCATCGGTGGCGATGTGCGCTGCGTCCTATGCACGGCTGATTCGACTTGATTAGTATATGTCATAAAGTAAGCGCAGCAATGTGCAAATCTAGCTTAGAGCTGTACTCAGGTCCGAAGGGCCCGGACAATAGTGATTGGGGTACCAAGTAACTAGACGACCACGACAACCGGTTGATCTGCTAGAGGAAGCGGCTAGTACTGTCCTTATTCACAAGAAGGATTTATGTATACTAAACCGCTAACCTTACTTACCGCTCCTCTTCATCTACACCACACCGAGACCCATTCCGCCAGTGCGGGTTTCATGCGCGTAGCCCTACCACGACGGGTTAGAGCGTAGCGGTAATGGGTCTTCGGATGCGGAATTATCCTCTTCATTGGTCTGTGATCCTAGCTGGGAGGCCAGTGGGTGGTAGGGCAACGGCCTCTTAACCCTTGCTATCTCGTCTACACGAGACCGGTAAAGCTGATACTACTAGAAATTCTGTCATTGCCCTAGACCACTCCTTTGCTCATCGATCACAATGGGCGATCGCGTCACAGAAATCAAGTGCGTTCATTATGGGTGCAGCGAATGTAACATGTTCGCATTACCTAGCGCAGCACCTCTGGCACGCTCGTCTTCGACCCACCCGCACGATTTCAAAATTATTCCGTGGGCCTTAGAAAATGTCCCTCAAACGAGTAGACTGTGGATTTTTTCTGGTGGCGGCTGTTGAGCGGCTACAGATAATTAAATGTTAGTGGGTGTGTCTTATGTGCTCTGACACTTCAAGACTAGCGTGTATGATCTAGGCATGTACCGTAGGGAAGGAAATGTAGCTCCAAGGGCGTCAGATGCGGTTCACGTACCCATCACGAATCGGGCGTTTCTTGCCTGGGTGTGGGGCTTATAGGGTTGTCCAAGGGAAAGTCGGTCAGACGCCTAATTACGCGTGAATCGCAGCCAATGCAGAGTCAATCGGGCGGTCGAGAAGGGACGGTGTTCGCGTGTTGTGGTACGACACCTACGGGGCAGATGCCAACCTTGCTAACCATTCCGCGCGGCCAATTCTCAGACAGTGGAGCGGCTCGAGCTTCCTACACTGACAAATCTTCGCACGTTGATTAGACATGCGATACACGCCACTCAGTTTGGTATGTATGAGTAGGGAAGCTAGGTACAGACGAGATCAGTACCTGTACCAATAGGCTCTACAGCTCGAAGTTACCCTTGTTGGAGATGAAATCACGACGTACCCACGTTAAATCTCGCTGACTTTCAAGCGCGAGGTCCTCAAGTCGAAACCCAACCAACCAAGAGC',\n",
        " 'CGGCATCCCGGTCAGATTGCTGCCTTTGTCAGATTTGTGGTGATAGTCTAGGCCTAATTCAAGCTTCGCGCCCACAGGATTCAGATTTCCAGCGGACATGCAGAGAGGTCCCTGCCGCAAGGACCCAAATGAAACAATGGTAGGTGACAAGGAGGAAGTAGTGCCGGCTATATCATAACGCTAATTTGCTACATATCGACTTAACTGTGGTTATGACTGTGGCCGACGAAGTGGCTTACCGATATTGATACAGCTCACTATAAATTAAGATCATGCAGGCCCGCGGGTAGAACCGAGGAACGCCGGGAACAATGGATTGGACCGGATTTAGGAACCTAACGGGGCTTGGAGACTTTGGTAGATATTGTGGGCTCGTCAACGAGGGCGGCATGTGCCCCCCGTGAGTCTGAACCGTCACAAGTTGACAAAATAGGACCGTTACCCTAACATTGGGCCGTGCCCACTACAACAATAGCCCAACCAATACGGACGACGAGCTATTCTGGACTAGTGACGGTTTAGCACCTTACCGAGAAACACTAAACCAACACGGTGGTAATCGCGCCATCCTTAACCTACTCACGGAAGACAGAAAAAGACTTTACACGATGCCTGCCTGAACACCGATTATTTATAAGGAACTCCTTGCGAGCCGGTAGTTTATATCTCTCTTTCACTTGGAGCCCGCGAGTTCAAGCAAGAAGTTAATTCGTTGAGGTCAAAAATATACATAGATGCGTCGTCGACGCGCGATTTAACATGATAACGCACATTGCTGCACTTGCCCATACACAGCCGGGGGATCTCAATGCACCTATCATAGTGAGTCGCTCGTTAAACATGCACCTAATGATTTCGCAGGCGTCCAGGAATAGGAGTCATCAAAGAACCCGGATAGTGTTACTGAACGAATTGTGCCCTTACTTTGGGAAGTCTAGGAGTAAAAGCGCACTCGTCCTCATTGCCGGCATT']"
       ]
      }
     ],
     "prompt_number": 7
    },
    {
     "cell_type": "raw",
     "metadata": {},
     "source": [
      "3. a)for loop\uc640 b)list comprehension\uc744 \uc774\uc6a9\ud558\uc5ec 10\ubcf4\ub2e4 \uc791\uc740 \ubaa8\ub4e0 \uc591\uc758 \uc815\uc218\uc5d0 \ub300\ud55c cube \ub9ac\uc2a4\ud2b8\ub97c \uc0dd\uc131\ud55c\ub2e4. (\uc989 [1,8,27,...,729])"
     ]
    },
    {
     "cell_type": "code",
     "collapsed": false,
     "input": [
      "cubes = [i**3 for i in range(1, 10)]\n",
      "\n",
      "cubes"
     ],
     "language": "python",
     "metadata": {},
     "outputs": [
      {
       "metadata": {},
       "output_type": "pyout",
       "prompt_number": 8,
       "text": [
        "[1, 8, 27, 64, 125, 216, 343, 512, 729]"
       ]
      }
     ],
     "prompt_number": 8
    },
    {
     "cell_type": "raw",
     "metadata": {},
     "source": [
      "4. 'A person who never made a mistake never tried anything new' \ubb38\uc7a5\uc5d0\uc11c \ud55c\ubc88\ub9cc \uc0ac\uc6a9\ub41c \ubaa8\ub4e0 \ubb38\uc790\ub97c \ucc3e\ub294\ub2e4. \ub300\uc18c\ubb38\uc790\ub294 \ubb34\uc2dc\ud55c\ub2e4. \uc989, \u2018A\u2019\uc640 \u2018a\u2019\ub294 \u2018a\u2019\ub85c \ub450\ubc88\uc758 \uacbd\uc6b0\ub85c \uac04\uc8fc\ud55c\ub2e4."
     ]
    },
    {
     "cell_type": "code",
     "collapsed": false,
     "input": [
      "#\ubaa8\ub4c8\uc744 \uc0ac\uc6a9\ud558\ub294 \ubc29\ubc95\n",
      "from collections import Counter\n",
      "mystring = 'A person who never made a mistake never tried anything new'\n",
      "mystring = mystring.lower().replace(' ','')\n",
      "Counter(mystring)"
     ],
     "language": "python",
     "metadata": {},
     "outputs": [
      {
       "metadata": {},
       "output_type": "pyout",
       "prompt_number": 9,
       "text": [
        "Counter({'e': 9, 'n': 6, 'a': 5, 'r': 4, 'i': 3, 't': 3, 'd': 2, 'h': 2, 'm': 2, 'o': 2, 's': 2, 'w': 2, 'v': 2, 'g': 1, 'k': 1, 'p': 1, 'y': 1})"
       ]
      }
     ],
     "prompt_number": 9
    },
    {
     "cell_type": "raw",
     "metadata": {},
     "source": [
      "5. [ 9, 61, 2, 79, 58, 87, 68, 83, 61, 13] \ub9ac\uc2a4\ud2b8\uc5d0\uc11c \ub450\ubc88\uc9f8\ub85c \ud070 \uc22b\uc790\ub97c \ucc3e\ub294\ub2e4."
     ]
    },
    {
     "cell_type": "code",
     "collapsed": false,
     "input": [
      "numlist = [ 9, 61, 2, 79, 58, 87, 68, 83, 61, 13]\n",
      "numlist.sort()\n",
      "numlist"
     ],
     "language": "python",
     "metadata": {},
     "outputs": [
      {
       "metadata": {},
       "output_type": "pyout",
       "prompt_number": 10,
       "text": [
        "[2, 9, 13, 58, 61, 61, 68, 79, 83, 87]"
       ]
      }
     ],
     "prompt_number": 10
    },
    {
     "cell_type": "code",
     "collapsed": false,
     "input": [
      "numlist[1]"
     ],
     "language": "python",
     "metadata": {},
     "outputs": [
      {
       "metadata": {},
       "output_type": "pyout",
       "prompt_number": 11,
       "text": [
        "9"
       ]
      }
     ],
     "prompt_number": 11
    },
    {
     "cell_type": "raw",
     "metadata": {},
     "source": [
      "6. \ub2e4\uc74c \ub450\uac1c\uc758 \ub9ac\uc2a4\ud2b8\uc5d0\uc11c author\ub97c key\ub85c quote\ub97c value\ub85c dictionary\ub97c \ub9cc\ub4e0\ub2e4.\n",
      "authors = [\"Albert Einstein\", \"Richard Feynman\", \"Charles Darwin\"]\n",
      "quotes = [\"Any man who can drive safely while kissing a pretty girl is simply not giving the kiss the attention it deserves\",\n",
      "   \"There is a computer disease that anybody who works with computers knows about. It\u2019s a very serious disease and it interferes completely with the work. The trouble with computers is that you 'play' with them!\", \n",
      "   \"I have tried lately to read Shakespeare, and found it so intolerably dull that it nauseated me\"]"
     ]
    },
    {
     "cell_type": "code",
     "collapsed": false,
     "input": [
      "adict = {}\n",
      "authors = [\"Albert Einstein\", \"Richard Feynman\", \"Charles Darwin\"]\n",
      "quotes = [\"Any man who can drive safely while kissing a pretty girl  is simply not giving the kiss the attention it deserves\", \"There is a computer disease that anybody who works with computers knows about. It's a very serious disease and it interferes completely with the work. The trouble with computers is that you 'play' with them!\", \"I have tried lately to read Shakespeare, and found it so intolerably dull that it nauseated me\"]\n",
      "adict = dict(zip(authors, quotes))\n",
      "adict"
     ],
     "language": "python",
     "metadata": {},
     "outputs": [
      {
       "metadata": {},
       "output_type": "pyout",
       "prompt_number": 12,
       "text": [
        "{'Albert Einstein': 'Any man who can drive safely while kissing a pretty girl  is simply not giving the kiss the attention it deserves',\n",
        " 'Charles Darwin': 'I have tried lately to read Shakespeare, and found it so intolerably dull that it nauseated me',\n",
        " 'Richard Feynman': \"There is a computer disease that anybody who works with computers knows about. It's a very serious disease and it interferes completely with the work. The trouble with computers is that you 'play' with them!\"}"
       ]
      }
     ],
     "prompt_number": 12
    },
    {
     "cell_type": "code",
     "collapsed": false,
     "input": [
      "adict.keys()"
     ],
     "language": "python",
     "metadata": {},
     "outputs": [
      {
       "metadata": {},
       "output_type": "pyout",
       "prompt_number": 13,
       "text": [
        "['Richard Feynman', 'Albert Einstein', 'Charles Darwin']"
       ]
      }
     ],
     "prompt_number": 13
    },
    {
     "cell_type": "code",
     "collapsed": false,
     "input": [
      "adict.values()"
     ],
     "language": "python",
     "metadata": {},
     "outputs": [
      {
       "metadata": {},
       "output_type": "pyout",
       "prompt_number": 14,
       "text": [
        "[\"There is a computer disease that anybody who works with computers knows about. It's a very serious disease and it interferes completely with the work. The trouble with computers is that you 'play' with them!\",\n",
        " 'Any man who can drive safely while kissing a pretty girl  is simply not giving the kiss the attention it deserves',\n",
        " 'I have tried lately to read Shakespeare, and found it so intolerably dull that it nauseated me']"
       ]
      }
     ],
     "prompt_number": 14
    },
    {
     "cell_type": "raw",
     "metadata": {},
     "source": [
      "7. [0,1,2,3,4,5,5,4,3,2,1,0] \ub9ac\uc2a4\ud2b8\ub97c \uc0dd\uc131\ud558\ub294 \ud504\ub85c\uadf8\ub7a8\uc744 \uc791\uc131\ud558\ub77c. \uc791\uc131\ub41c \ud504\ub85c\uadf8\ub7a8\uc740 sinlge integer\ub9cc\uc744 \ud3ec\ud568\ud574\uc57c \ud55c\ub2e4."
     ]
    },
    {
     "cell_type": "code",
     "collapsed": false,
     "input": [
      "mylist = [0,1,2,3,4,5,5,4,3,2,1,0]\n",
      "myset = set(mylist)\n",
      "mynewlist = list(myset)\n",
      "mynewlist"
     ],
     "language": "python",
     "metadata": {},
     "outputs": [
      {
       "metadata": {},
       "output_type": "pyout",
       "prompt_number": 15,
       "text": [
        "[0, 1, 2, 3, 4, 5]"
       ]
      }
     ],
     "prompt_number": 15
    },
    {
     "cell_type": "raw",
     "metadata": {},
     "source": [
      "8. Write a program that uses while\uacfc raw_input\uc744 \uc0ac\uc6a9\ud558\uc5ec \"you win\" \ub2e8\uc5b4\ub97c \ub9cc\ub0a0\ub54c\uae4c\uc9c0 \"who wins?\" \uc9c8\ubb38\uc744 \ubc18\ubcf5\ud558\ub294 \ud504\ub85c\uadf8\ub7a8\uc744 \uc791\uc131\ud558\ub77c. \ub2e4\uc74c\uc740 terminal\uc5d0\uc11c \uc2e4\ud589\ud558\ub294 \uc608\uc774\ub2e4.\n",
      "\n",
      "eris:examples cliburn$ python winner.py who wins? me who wins? cliburn who wins? some-one else who wins? you win"
     ]
    },
    {
     "cell_type": "code",
     "collapsed": false,
     "input": [
      "%%writefile winner.py\n",
      "while(1):\n",
      "    word = raw_input(\"Enter a word: \")\n",
      "    if word != \"you win\":\n",
      "        print \"who wins?\"\n",
      "    else:\n",
      "        break"
     ],
     "language": "python",
     "metadata": {},
     "outputs": [
      {
       "output_type": "stream",
       "stream": "stdout",
       "text": [
        "Overwriting winner.py\n"
       ]
      }
     ],
     "prompt_number": 16
    },
    {
     "cell_type": "code",
     "collapsed": false,
     "input": [
      "%run winner.py"
     ],
     "language": "python",
     "metadata": {},
     "outputs": [
      {
       "name": "stdout",
       "output_type": "stream",
       "stream": "stdout",
       "text": [
        "Enter a word: she wins\n"
       ]
      },
      {
       "output_type": "stream",
       "stream": "stdout",
       "text": [
        "who wins?\n"
       ]
      },
      {
       "name": "stdout",
       "output_type": "stream",
       "stream": "stdout",
       "text": [
        "Enter a word: he wins\n"
       ]
      },
      {
       "output_type": "stream",
       "stream": "stdout",
       "text": [
        "who wins?\n"
       ]
      },
      {
       "name": "stdout",
       "output_type": "stream",
       "stream": "stdout",
       "text": [
        "Enter a word: you win\n"
       ]
      }
     ],
     "prompt_number": 17
    },
    {
     "cell_type": "heading",
     "level": 3,
     "metadata": {},
     "source": [
      "4.10.2 String Interpolation"
     ]
    },
    {
     "cell_type": "raw",
     "metadata": {},
     "source": [
      "We start this session by learning how to construct nicely formatted strings with holes where we want to insert variables. The most convenient way to do this in python is by string interpolation. String interpolation uses codes starting with the % symbol as placeholders for inserting variables within the string. The codes that are most useful are:\n",
      "1. %s for strings 2. %d for integers 3. %f for floats\n",
      "So for example, we can have this string:"
     ]
    },
    {
     "cell_type": "code",
     "collapsed": false,
     "input": [
      "\"%s took %d courses last year and had a %f GPA\" % ('Tome', 4, 3.2)"
     ],
     "language": "python",
     "metadata": {},
     "outputs": [
      {
       "metadata": {},
       "output_type": "pyout",
       "prompt_number": 18,
       "text": [
        "'Tome took 4 courses last year and had a 3.200000 GPA'"
       ]
      }
     ],
     "prompt_number": 18
    },
    {
     "cell_type": "raw",
     "metadata": {},
     "source": [
      "Note that the variables to be inserted into the string are given as a tuple following the % separator. However, the default formatting leaves something to be desired. For numbers, we can specify the minimum width, as well as the number of decimal places when the number is a float."
     ]
    },
    {
     "cell_type": "code",
     "collapsed": false,
     "input": [
      "'%4d' % 123 #4\uc790\ub9ac \uc815\uc218\ub85c \ub9de\ucd98\ub2e4 (\ub0a8\uc740 \uc790\ub9ac\uc218\ub294 \uc88c\uce21\ubd80\ud130 \uacf5\ubc31\uc73c\ub85c \ucc44\uc6b4\ub2e4)"
     ],
     "language": "python",
     "metadata": {},
     "outputs": [
      {
       "metadata": {},
       "output_type": "pyout",
       "prompt_number": 19,
       "text": [
        "' 123'"
       ]
      }
     ],
     "prompt_number": 19
    },
    {
     "cell_type": "code",
     "collapsed": false,
     "input": [
      "'%4d' % 12345"
     ],
     "language": "python",
     "metadata": {},
     "outputs": [
      {
       "metadata": {},
       "output_type": "pyout",
       "prompt_number": 20,
       "text": [
        "'12345'"
       ]
      }
     ],
     "prompt_number": 20
    },
    {
     "cell_type": "code",
     "collapsed": false,
     "input": [
      "'%5f' % 3.14 #5\uc790\ub9ac \uc2e4\uc218\ub85c \ub9de\ucd98\ub2e4 (\ub0a8\uc740 \uc2e4\uc218\uc758 \uc790\ub9ac\uc218\ub294 0\uc73c\ub85c \ucc44\uc6b4\ub2e4)"
     ],
     "language": "python",
     "metadata": {},
     "outputs": [
      {
       "metadata": {},
       "output_type": "pyout",
       "prompt_number": 21,
       "text": [
        "'3.140000'"
       ]
      }
     ],
     "prompt_number": 21
    },
    {
     "cell_type": "code",
     "collapsed": false,
     "input": [
      "'%5.2f' % 3.14 #\uc804\uccb4\ub97c 5\uc790\ub9ac\ub85c \ub9de\ucd98\ub2e4 (\ub0a8\uc740 \uc2e4\uc218\uc758 \uc790\ub9ac\uc218\ub294 0\uc73c\ub85c \ucc44\uc6b4\ub2e4)"
     ],
     "language": "python",
     "metadata": {},
     "outputs": [
      {
       "metadata": {},
       "output_type": "pyout",
       "prompt_number": 22,
       "text": [
        "' 3.14'"
       ]
      }
     ],
     "prompt_number": 22
    },
    {
     "cell_type": "raw",
     "metadata": {},
     "source": [
      "Sometimes it is also convenient to pad strings or change alignment so rows line up nicely using the flags 0 (left pad with zeros), \u2018\u2018 \u2018\u2018 (left pad with space), - (left align) and + (add sign character)."
     ]
    },
    {
     "cell_type": "code",
     "collapsed": false,
     "input": [
      "'%05d' % 23"
     ],
     "language": "python",
     "metadata": {},
     "outputs": [
      {
       "metadata": {},
       "output_type": "pyout",
       "prompt_number": 23,
       "text": [
        "'00023'"
       ]
      }
     ],
     "prompt_number": 23
    },
    {
     "cell_type": "code",
     "collapsed": false,
     "input": [
      "'% 5d' % 23"
     ],
     "language": "python",
     "metadata": {},
     "outputs": [
      {
       "metadata": {},
       "output_type": "pyout",
       "prompt_number": 24,
       "text": [
        "'   23'"
       ]
      }
     ],
     "prompt_number": 24
    },
    {
     "cell_type": "code",
     "collapsed": false,
     "input": [
      "'%-5d' % 23"
     ],
     "language": "python",
     "metadata": {},
     "outputs": [
      {
       "metadata": {},
       "output_type": "pyout",
       "prompt_number": 25,
       "text": [
        "'23   '"
       ]
      }
     ],
     "prompt_number": 25
    },
    {
     "cell_type": "code",
     "collapsed": false,
     "input": [
      "'%+5d' % 23"
     ],
     "language": "python",
     "metadata": {},
     "outputs": [
      {
       "metadata": {},
       "output_type": "pyout",
       "prompt_number": 26,
       "text": [
        "'  +23'"
       ]
      }
     ],
     "prompt_number": 26
    },
    {
     "cell_type": "raw",
     "metadata": {},
     "source": [
      "Simple tables are often created using loops and string interpolation. For example, here is the code to print out the layout of a 96 well plate:"
     ]
    },
    {
     "cell_type": "code",
     "collapsed": false,
     "input": [
      "for r in 'ABCDEF': print ' '.join(['%s%02d' % (r, c) for c in range(1, 13)])"
     ],
     "language": "python",
     "metadata": {},
     "outputs": [
      {
       "output_type": "stream",
       "stream": "stdout",
       "text": [
        "A01 A02 A03 A04 A05 A06 A07 A08 A09 A10 A11 A12\n",
        "B01 B02 B03 B04 B05 B06 B07 B08 B09 B10 B11 B12\n",
        "C01 C02 C03 C04 C05 C06 C07 C08 C09 C10 C11 C12\n",
        "D01 D02 D03 D04 D05 D06 D07 D08 D09 D10 D11 D12\n",
        "E01 E02 E03 E04 E05 E06 E07 E08 E09 E10 E11 E12\n",
        "F01 F02 F03 F04 F05 F06 F07 F08 F09 F10 F11 F12\n"
       ]
      }
     ],
     "prompt_number": 27
    },
    {
     "cell_type": "raw",
     "metadata": {},
     "source": [
      "The join method of a string joins together all the strings in a list, separated by the original string. In this case the original string is a space \u2019 \u2019, so all the strings in the list comprehension will be joined with spaces separating them before being printed. Take your time to deconstruct this short example - it pulls together many concepts - looping, list comprehension, string interpolation and the use of the string method join."
     ]
    },
    {
     "cell_type": "heading",
     "level": 3,
     "metadata": {},
     "source": [
      "4.10.3 Mini-exercise"
     ]
    },
    {
     "cell_type": "raw",
     "metadata": {},
     "source": [
      "1. Write a program that produces these 2 lines of output from range(1,11): 0001 0002 0003 0004 0005 6.00 7.00 8.00 9.00 10.00"
     ]
    },
    {
     "cell_type": "code",
     "collapsed": false,
     "input": [
      "output1 = ' '.join(['%04d' %c for c in range(1, 6)])\n",
      "output2 = ' '.join(['%.2f' %c for c in range(6, 11)])\n",
      "print output1,output2"
     ],
     "language": "python",
     "metadata": {},
     "outputs": [
      {
       "output_type": "stream",
       "stream": "stdout",
       "text": [
        "0001 0002 0003 0004 0005 6.00 7.00 8.00 9.00 10.00\n"
       ]
      }
     ],
     "prompt_number": 28
    },
    {
     "cell_type": "raw",
     "metadata": {},
     "source": [
      "2. Write a program that starts with range(1,6) and ends up with this string '1-one-thousand-2-one-thousand-3-one-thousand-4-one-thousand-5', using a list comprehension, the str() function and a string join."
     ]
    },
    {
     "cell_type": "code",
     "collapsed": false,
     "input": [
      "str = \"-one-thousand-\";\n",
      "seq = (\"12345\"); # This is sequence of strings.\n",
      "print str.join(seq);"
     ],
     "language": "python",
     "metadata": {},
     "outputs": [
      {
       "output_type": "stream",
       "stream": "stdout",
       "text": [
        "1-one-thousand-2-one-thousand-3-one-thousand-4-one-thousand-5\n"
       ]
      }
     ],
     "prompt_number": 32
    },
    {
     "cell_type": "heading",
     "level": 3,
     "metadata": {},
     "source": [
      "4.10.4 Reading from and writing to files"
     ]
    },
    {
     "cell_type": "raw",
     "metadata": {},
     "source": [
      "We open files using the built-in open function. We need to tell the function if the file is to be used for reading, writing or appending with the r, w and a flags. When a file is opened for reading (the default), its contents cannot be altered. When a file is open for writing, if there is an existing file with the same name, its contents are deleted and you can write new content to the file. Opening for appending does not delete pre-existing file contents, but allows addition of new content appended to the existing contents. If you work with files from different operating systems, an additional useful flag is U for universal that handles differences between how Unix, Macs and Windows systems deal with line endings. All the following do the same thing - open the file sequnce1.txt in the examples directory for reading. The last version is the most robust, and will work regardless of whether sequnce1.txt was created on a Unix, Mac or Windows system, while the others only work if the file was created on the same platform as you are currently using."
     ]
    },
    {
     "cell_type": "code",
     "collapsed": false,
     "input": [
      "fin = open('../examples/sequence1.txt')\n",
      "\n",
      "fin = open('../examples/sequence1.txt', 'r') #r: read \ud560 \ud30c\uc77c \uc5f4\uae30\n",
      "\n",
      "fin = open('../examples/sequence1.txt', 'rU')"
     ],
     "language": "python",
     "metadata": {},
     "outputs": [],
     "prompt_number": 33
    },
    {
     "cell_type": "raw",
     "metadata": {},
     "source": [
      "Opening files for writing or appending is similar, but replace the r in the argument with w or a. Remember if you open the file sequence1.txt with the w flag, the current contents are gone forever.\n",
      "OK. Now we will open a file for writing, write some lines, close it, open again for appending more lines, close it, and finally open again for reading."
     ]
    },
    {
     "cell_type": "code",
     "collapsed": false,
     "input": [
      "graffiti = '\\n'.join(['Roses are red', 'Violets are blue', 'The dog is pregnant', 'Thanks to you'])                    "
     ],
     "language": "python",
     "metadata": {},
     "outputs": [],
     "prompt_number": 34
    },
    {
     "cell_type": "code",
     "collapsed": false,
     "input": [
      "fo = open('graffiti.txt', 'w') #w: write \ud560 \ud30c\uc77c \uc5f4\uae30\n",
      "\n",
      "fo.write(graffiti) #\uc704\uc5d0\uc11c \uc5f0 \ud30c\uc77c\uc5d0 graffiti\ub97c wirte\ud558\uae30\n",
      "\n",
      "fo.close() #\ud30c\uc77c \ub2eb\uae30"
     ],
     "language": "python",
     "metadata": {},
     "outputs": [],
     "prompt_number": 35
    },
    {
     "cell_type": "raw",
     "metadata": {},
     "source": [
      "Here, we write some lines of doggerel in a list, join them as separate lines with the newline separator \\n, then write it to a file called directory.txt that has been opened for writing. Sometimes, you will see another newer idiom for opening files:"
     ]
    },
    {
     "cell_type": "code",
     "collapsed": false,
     "input": [
      "with open('graffiti2.txt', 'w') as fo:\n",
      "    fo.write(graffiti)"
     ],
     "language": "python",
     "metadata": {},
     "outputs": [],
     "prompt_number": 36
    },
    {
     "cell_type": "raw",
     "metadata": {},
     "source": [
      "\uc6b4\uc601 \uccb4\uc81c\ub294 \uc720\uc6a9\ud55c \ud30c\uc77c \ud578\ub4e4\ub7ec \uc218\uc5d0 \uc81c\ud55c\uc744 \ub450\uace0, \uadf8 \uc218\uac00 \ucd08\uacfc\ub418\uba74 \uc2dc\uc2a4\ud15c\uc774 crash \ub420 \uac83\uc774\ubbc0\ub85c \uc790\uc6d0\uc744 \uc790\uc720\ub86d\uac8c \ud558\uae30 \uc704\ud574 \ud30c\uc77c \ud578\ub4e4\ub7ec\ub97c \ub2eb\ub294\uac8c \ud544\uc694\ud568. \ubcf5\uc7a1\ud55c \ud504\ub85c\uadf8\ub7a8\uc5d0\uc11c\ub294 with \ubb38\uc7a5\uc744 \uc0ac\uc6a9\ud558\uba74 \ud30c\uc77c \ud578\ub4e4\ub7ec\ub97c \ub2eb\ub294 \uac83\uc744 \uae30\uc5b5\ud560 \ud544\uc694\uac00 \uc5c6\uc74c. \ub610 \ub2e4\ub978 \uc608\ub97c \ubcf4\uc790."
     ]
    },
    {
     "cell_type": "code",
     "collapsed": false,
     "input": [
      "fo = open('graffiti2.txt', 'a')"
     ],
     "language": "python",
     "metadata": {},
     "outputs": [],
     "prompt_number": 37
    },
    {
     "cell_type": "code",
     "collapsed": false,
     "input": [
      "fo.write('\\n' + 'by anonymous college toilet poet')\n",
      "\n",
      "fo.close()"
     ],
     "language": "python",
     "metadata": {},
     "outputs": [],
     "prompt_number": 38
    },
    {
     "cell_type": "raw",
     "metadata": {},
     "source": [
      "Nnewline \\n \ub97c attribution string \uc55e\uc5d0 \ubd99\uc784\uc73c\ub85c\uc368 \uc904 \ubc14\uafc8\uc744 \ud558\uc5ec \ubb38\uc798 \uc744 \uc4f8 \uc218 \uc788\uc74c."
     ]
    },
    {
     "cell_type": "heading",
     "level": 3,
     "metadata": {},
     "source": [
      "4.10.5 Mini-exercise"
     ]
    },
    {
     "cell_type": "raw",
     "metadata": {},
     "source": [
      "1. sequence1.txt\uc758 AT/GC \ube44\uc728\uc744 \uad6c\ud558\ub77c."
     ]
    },
    {
     "cell_type": "code",
     "collapsed": false,
     "input": [
      "myseq = open('../examples/sequence1.txt', 'rU').read()\n",
      "AT_GC_ratio = (myseq.count(\"A\")+myseq.count(\"T\"))/float(myseq.count(\"G\")+myseq.count(\"C\"))\n",
      "AT_GC_ratio"
     ],
     "language": "python",
     "metadata": {},
     "outputs": [
      {
       "metadata": {},
       "output_type": "pyout",
       "prompt_number": 39,
       "text": [
        "1.0019972039145197"
       ]
      }
     ],
     "prompt_number": 39
    },
    {
     "cell_type": "raw",
     "metadata": {},
     "source": [
      "2. sequence1.txt\uc5d0\uc11c \uae38\uc774\uac00 9\uc778 \ubaa8\ub4e0 palindromes\ub97c \ucc3e\uace0 palindromes.txt \ud30c\uc77c\ub85c \uc791\uc131\ud558\ub77c."
     ]
    },
    {
     "cell_type": "code",
     "collapsed": false,
     "input": [
      "len(myseq)"
     ],
     "language": "python",
     "metadata": {},
     "outputs": [
      {
       "metadata": {},
       "output_type": "pyout",
       "prompt_number": 40,
       "text": [
        "10024"
       ]
      }
     ],
     "prompt_number": 40
    },
    {
     "cell_type": "code",
     "collapsed": false,
     "input": [
      "#def palindromes of length 9\n",
      "fo = open(\"palindromes.txt\", 'w')\n",
      "\n",
      "for i in range(len(myseq)-9):\n",
      "    i += 1\n",
      "    seq_len9 = myseq[i:i+9]\n",
      "    if seq_len9 == seq_len9[::-1]:\n",
      "        print seq_len9\n",
      "        fo.write(seq_len9+'\\n')\n",
      "        \n",
      "fo.close()"
     ],
     "language": "python",
     "metadata": {},
     "outputs": [
      {
       "output_type": "stream",
       "stream": "stdout",
       "text": [
        "CCTTATTCC\n",
        "ACCAAACCA\n",
        "TTATGTATT\n",
        "CACTTTCAC\n",
        "ACAGTGACA\n",
        "CGAAAAAGC\n",
        "TATGTGTAT\n",
        "AATTCTTAA\n",
        "GAGCTCGAG\n",
        "CTTTTTTTC\n",
        "TAGCTCGAT\n",
        "AGCCGCCGA\n",
        "GGGAGAGGG\n",
        "AGGGAGGGA\n",
        "GGCTGTCGG\n",
        "CAACCCAAC\n",
        "TTCGCGCTT\n",
        "GCTGAGTCG\n",
        "TGTTATTGT\n",
        "AAGATAGAA\n",
        "AATAGATAA\n",
        "GGACCCAGG\n",
        "ACACGCACA\n",
        "GTAGTGATG\n",
        "GCATATACG\n",
        "GCTACATCG\n",
        "AATTTTTAA\n",
        "TTTGGGTTT\n",
        "ATGCGCGTA\n",
        "GGGTGTGGG\n",
        "GTATGTATG\n",
        "AAGGAGGAA\n",
        "GGATTTAGG\n",
        "AAGACAGAA\n",
        "AGAAAAAGA\n"
       ]
      }
     ],
     "prompt_number": 41
    },
    {
     "cell_type": "raw",
     "metadata": {},
     "source": [
      "3. palindromes.txt\uc744 \ub2e4\uc2dc \uc5f4\uc5b4\uc11c \uae38\uc774\uac00 8\uc778 \ubaa8\ub4e0 palindromes\uc744 \ud30c\uc77c\uc5d0 \uc368\ub77c. (again. palindromes.txt\uc744 \uc5ec\ub294 \uac83\uc778\uc9c0?sequence1.txt\uc744 \uc5ec\ub294 \uac83\uc778\uc9c0?)"
     ]
    },
    {
     "cell_type": "code",
     "collapsed": false,
     "input": [
      "#def palindromes of length 8\n",
      "myseq = open(\"palindromes.txt\", 'rU').read().replace('\\n',\"\")\n",
      "fo = open(\"palindromes_len8.txt\", 'w')\n",
      "\n",
      "#print myseq\n",
      "\n",
      "for i in range(len(myseq)-8):\n",
      "    i += 1\n",
      "    seq_len8 = myseq[i:i+8]\n",
      "    print myseq[i:i+8]\n",
      "    if seq_len8 == myseq[::-1]:\n",
      "        print seq_len8\n",
      "        fo.write(seq_len8+'\\n')\n",
      "        \n",
      "fo.close()"
     ],
     "language": "python",
     "metadata": {},
     "outputs": [
      {
       "output_type": "stream",
       "stream": "stdout",
       "text": [
        "CTTATTCC\n",
        "TTATTCCA\n",
        "TATTCCAC\n",
        "ATTCCACC\n",
        "TTCCACCA\n",
        "TCCACCAA\n",
        "CCACCAAA\n",
        "CACCAAAC\n",
        "ACCAAACC\n",
        "CCAAACCA\n",
        "CAAACCAT\n",
        "AAACCATT\n",
        "AACCATTA\n",
        "ACCATTAT\n",
        "CCATTATG\n",
        "CATTATGT\n",
        "ATTATGTA\n",
        "TTATGTAT\n",
        "TATGTATT\n",
        "ATGTATTC\n",
        "TGTATTCA\n",
        "GTATTCAC\n",
        "TATTCACT\n",
        "ATTCACTT\n",
        "TTCACTTT\n",
        "TCACTTTC\n",
        "CACTTTCA\n",
        "ACTTTCAC\n",
        "CTTTCACA\n",
        "TTTCACAC\n",
        "TTCACACA\n",
        "TCACACAG\n",
        "CACACAGT\n",
        "ACACAGTG\n",
        "CACAGTGA\n",
        "ACAGTGAC\n",
        "CAGTGACA\n",
        "AGTGACAC\n",
        "GTGACACG\n",
        "TGACACGA\n",
        "GACACGAA\n",
        "ACACGAAA\n",
        "CACGAAAA\n",
        "ACGAAAAA\n",
        "CGAAAAAG\n",
        "GAAAAAGC\n",
        "AAAAAGCT\n",
        "AAAAGCTA\n",
        "AAAGCTAT\n",
        "AAGCTATG\n",
        "AGCTATGT\n",
        "GCTATGTG\n",
        "CTATGTGT\n",
        "TATGTGTA\n",
        "ATGTGTAT\n",
        "TGTGTATA\n",
        "GTGTATAA\n",
        "TGTATAAT\n",
        "GTATAATT\n",
        "TATAATTC\n",
        "ATAATTCT\n",
        "TAATTCTT\n",
        "AATTCTTA\n",
        "ATTCTTAA\n",
        "TTCTTAAG\n",
        "TCTTAAGA\n",
        "CTTAAGAG\n",
        "TTAAGAGC\n",
        "TAAGAGCT\n",
        "AAGAGCTC\n",
        "AGAGCTCG\n",
        "GAGCTCGA\n",
        "AGCTCGAG\n",
        "GCTCGAGC\n",
        "CTCGAGCT\n",
        "TCGAGCTT\n",
        "CGAGCTTT\n",
        "GAGCTTTT\n",
        "AGCTTTTT\n",
        "GCTTTTTT\n",
        "CTTTTTTT\n",
        "TTTTTTTC\n",
        "TTTTTTCT\n",
        "TTTTTCTA\n",
        "TTTTCTAG\n",
        "TTTCTAGC\n",
        "TTCTAGCT\n",
        "TCTAGCTC\n",
        "CTAGCTCG\n",
        "TAGCTCGA\n",
        "AGCTCGAT\n",
        "GCTCGATA\n",
        "CTCGATAG\n",
        "TCGATAGC\n",
        "CGATAGCC\n",
        "GATAGCCG\n",
        "ATAGCCGC\n",
        "TAGCCGCC\n",
        "AGCCGCCG\n",
        "GCCGCCGA\n",
        "CCGCCGAG\n",
        "CGCCGAGG\n",
        "GCCGAGGG\n",
        "CCGAGGGA\n",
        "CGAGGGAG\n",
        "GAGGGAGA\n",
        "AGGGAGAG\n",
        "GGGAGAGG\n",
        "GGAGAGGG\n",
        "GAGAGGGA\n",
        "AGAGGGAG\n",
        "GAGGGAGG\n",
        "AGGGAGGG\n",
        "GGGAGGGA\n",
        "GGAGGGAG\n",
        "GAGGGAGG\n",
        "AGGGAGGG\n",
        "GGGAGGGA\n",
        "GGAGGGAG\n",
        "GAGGGAGG\n",
        "AGGGAGGC\n",
        "GGGAGGCT\n",
        "GGAGGCTG\n",
        "GAGGCTGT\n",
        "AGGCTGTC\n",
        "GGCTGTCG\n",
        "GCTGTCGG\n",
        "CTGTCGGC\n",
        "TGTCGGCA\n",
        "GTCGGCAA\n",
        "TCGGCAAC\n",
        "CGGCAACC\n",
        "GGCAACCC\n",
        "GCAACCCA\n",
        "CAACCCAA\n",
        "AACCCAAC\n",
        "ACCCAACT\n",
        "CCCAACTT\n",
        "CCAACTTC\n",
        "CAACTTCG\n",
        "AACTTCGC\n",
        "ACTTCGCG\n",
        "CTTCGCGC\n",
        "TTCGCGCT\n",
        "TCGCGCTT\n",
        "CGCGCTTG\n",
        "GCGCTTGC\n",
        "CGCTTGCT\n",
        "GCTTGCTG\n",
        "CTTGCTGA\n",
        "TTGCTGAG\n",
        "TGCTGAGT\n",
        "GCTGAGTC\n",
        "CTGAGTCG\n",
        "TGAGTCGT\n",
        "GAGTCGTG\n",
        "AGTCGTGT\n",
        "GTCGTGTT\n",
        "TCGTGTTA\n",
        "CGTGTTAT\n",
        "GTGTTATT\n",
        "TGTTATTG\n",
        "GTTATTGT\n",
        "TTATTGTA\n",
        "TATTGTAA\n",
        "ATTGTAAG\n",
        "TTGTAAGA\n",
        "TGTAAGAT\n",
        "GTAAGATA\n",
        "TAAGATAG\n",
        "AAGATAGA\n",
        "AGATAGAA\n",
        "GATAGAAA\n",
        "ATAGAAAA\n",
        "TAGAAAAT\n",
        "AGAAAATA\n",
        "GAAAATAG\n",
        "AAAATAGA\n",
        "AAATAGAT\n",
        "AATAGATA\n",
        "ATAGATAA\n",
        "TAGATAAG\n",
        "AGATAAGG\n",
        "GATAAGGA\n",
        "ATAAGGAC\n",
        "TAAGGACC\n",
        "AAGGACCC\n",
        "AGGACCCA\n",
        "GGACCCAG\n",
        "GACCCAGG\n",
        "ACCCAGGA\n",
        "CCCAGGAC\n",
        "CCAGGACA\n",
        "CAGGACAC\n",
        "AGGACACG\n",
        "GGACACGC\n",
        "GACACGCA\n",
        "ACACGCAC\n",
        "CACGCACA\n",
        "ACGCACAG\n",
        "CGCACAGT\n",
        "GCACAGTA\n",
        "CACAGTAG\n",
        "ACAGTAGT\n",
        "CAGTAGTG\n",
        "AGTAGTGA\n",
        "GTAGTGAT\n",
        "TAGTGATG\n",
        "AGTGATGG\n",
        "GTGATGGC\n",
        "TGATGGCA\n",
        "GATGGCAT\n",
        "ATGGCATA\n",
        "TGGCATAT\n",
        "GGCATATA\n",
        "GCATATAC\n",
        "CATATACG\n",
        "ATATACGG\n",
        "TATACGGC\n",
        "ATACGGCT\n",
        "TACGGCTA\n",
        "ACGGCTAC\n",
        "CGGCTACA\n",
        "GGCTACAT\n",
        "GCTACATC\n",
        "CTACATCG\n",
        "TACATCGA\n",
        "ACATCGAA\n",
        "CATCGAAT\n",
        "ATCGAATT\n",
        "TCGAATTT\n",
        "CGAATTTT\n",
        "GAATTTTT\n",
        "AATTTTTA\n",
        "ATTTTTAA\n",
        "TTTTTAAT\n",
        "TTTTAATT\n",
        "TTTAATTT\n",
        "TTAATTTG\n",
        "TAATTTGG\n",
        "AATTTGGG\n",
        "ATTTGGGT\n",
        "TTTGGGTT\n",
        "TTGGGTTT\n",
        "TGGGTTTA\n",
        "GGGTTTAT\n",
        "GGTTTATG\n",
        "GTTTATGC\n",
        "TTTATGCG\n",
        "TTATGCGC\n",
        "TATGCGCG\n",
        "ATGCGCGT\n",
        "TGCGCGTA\n",
        "GCGCGTAG\n",
        "CGCGTAGG\n",
        "GCGTAGGG\n",
        "CGTAGGGT\n",
        "GTAGGGTG\n",
        "TAGGGTGT\n",
        "AGGGTGTG\n",
        "GGGTGTGG\n",
        "GGTGTGGG\n",
        "GTGTGGGG\n",
        "TGTGGGGT\n",
        "GTGGGGTA\n",
        "TGGGGTAT\n",
        "GGGGTATG\n",
        "GGGTATGT\n",
        "GGTATGTA\n",
        "GTATGTAT\n",
        "TATGTATG\n",
        "ATGTATGA\n",
        "TGTATGAA\n",
        "GTATGAAG\n",
        "TATGAAGG\n",
        "ATGAAGGA\n",
        "TGAAGGAG\n",
        "GAAGGAGG\n",
        "AAGGAGGA\n",
        "AGGAGGAA\n",
        "GGAGGAAG\n",
        "GAGGAAGG\n",
        "AGGAAGGA\n",
        "GGAAGGAT\n",
        "GAAGGATT\n",
        "AAGGATTT\n",
        "AGGATTTA\n",
        "GGATTTAG\n",
        "GATTTAGG\n",
        "ATTTAGGA\n",
        "TTTAGGAA\n",
        "TTAGGAAG\n",
        "TAGGAAGA\n",
        "AGGAAGAC\n",
        "GGAAGACA\n",
        "GAAGACAG\n",
        "AAGACAGA\n",
        "AGACAGAA\n",
        "GACAGAAA\n",
        "ACAGAAAG\n",
        "CAGAAAGA\n",
        "AGAAAGAA\n",
        "GAAAGAAA\n",
        "AAAGAAAA\n",
        "AAGAAAAA\n",
        "AGAAAAAG\n",
        "GAAAAAGA\n"
       ]
      }
     ],
     "prompt_number": 46
    },
    {
     "cell_type": "heading",
     "level": 3,
     "metadata": {},
     "source": [
      "4.10.6 Reading files with read() and readlines()"
     ]
    },
    {
     "cell_type": "raw",
     "metadata": {},
     "source": [
      "read\uc640  readlines \ubc29\ubc95\uc744 \uc0ac\uc6a9\ud558\uc5ec \ud30c\uc77c\uc758 \ub0b4\uc6a9\uc744 \uc800\uc7a5\ud560 \uc218 \uc788\ub2e4. \ub450 \ubc29\ubc95\uc758 \ucc28\uc774\ub294 read\ub294 single string\ub85c \ub0b4\uc6a9\uc744 \ubc18\ud658\ud558\uba70, readlines\ub294 \ub77c\uc778\uc758 \ub9ac\uc2a4\ud2b8\ub85c \ubc18\ud658\ud55c\ub2e4."
     ]
    },
    {
     "cell_type": "code",
     "collapsed": false,
     "input": [
      "poem = open('graffiti.txt', 'rU').read()\n",
      "\n",
      "poem"
     ],
     "language": "python",
     "metadata": {},
     "outputs": [
      {
       "metadata": {},
       "output_type": "pyout",
       "prompt_number": 47,
       "text": [
        "'Roses are red\\nViolets are blue\\nThe dog is pregnant\\nThanks to you'"
       ]
      }
     ],
     "prompt_number": 47
    },
    {
     "cell_type": "code",
     "collapsed": false,
     "input": [
      "poem = open('graffiti.txt', 'rU').readlines()\n",
      "\n",
      "poem"
     ],
     "language": "python",
     "metadata": {},
     "outputs": [
      {
       "metadata": {},
       "output_type": "pyout",
       "prompt_number": 48,
       "text": [
        "['Roses are red\\n',\n",
        " 'Violets are blue\\n',\n",
        " 'The dog is pregnant\\n',\n",
        " 'Thanks to you']"
       ]
      }
     ],
     "prompt_number": 48
    },
    {
     "cell_type": "heading",
     "level": 3,
     "metadata": {},
     "source": [
      "4.10.7 Exercise"
     ]
    },
    {
     "cell_type": "raw",
     "metadata": {},
     "source": [
      "1. \u2018graffit.txt\u2019\ud30c\uc77c\uc758 \ub0b4\uc6a9\uc744 \ubaa8\ub450 \ub300\ubb38\uc790\ub85c \ubcc0\ud658\ud558\ub77c. \uc989, cat\uc774\ub098 less\ub97c \uc0ac\uc6a9\ud558\uc5ec graffit.txt\uc5d0\uc11c \ud504\ub85c\uadf8\ub7a8\uc774 \uc2e4\ud589\ub41c \uc804\ud6c4\uc5d0 \ub2e4\uc74c\uacfc \uac19\uc774 \ud655\uc778\ud560 \uc218 \uc788\ub2e4.\n",
      "\n",
      "BEFORE\n",
      "eris:pcfb cliburn$ cat graffiti.txt Roses are red\n",
      "Violets are blue\n",
      "The dog is pregnant\n",
      "Thanks to you\n",
      "by anonymous college toilet poet\n",
      "\n",
      "AFTER\n",
      "\ufffceris:pcfb cliburn$ cat graffit.txt ROSES ARE RED\n",
      "VIOLETS ARE BLUE\n",
      "THE DOG IS PREGNANT\n",
      "THANKS TO YOU\n",
      "BY ANONYMOUS COLLEGE TOILET POET eris:pcfb cliburn$"
     ]
    },
    {
     "cell_type": "code",
     "collapsed": false,
     "input": [
      "poem = open('graffiti.txt', 'rU').read().upper()\n",
      "print poem\n",
      "fo = open(\"graffiti3.txt\", 'w')\n",
      "fo.write(poem)\n",
      "fo.close()"
     ],
     "language": "python",
     "metadata": {},
     "outputs": [
      {
       "output_type": "stream",
       "stream": "stdout",
       "text": [
        "ROSES ARE RED\n",
        "VIOLETS ARE BLUE\n",
        "THE DOG IS PREGNANT\n",
        "THANKS TO YOU\n"
       ]
      }
     ],
     "prompt_number": 49
    },
    {
     "cell_type": "raw",
     "metadata": {},
     "source": [
      "2. hamlet.txt\uc5d0\uc11c \ubcf4\uc774\ub294 \uac01 \ub2e8\uc5b4\uc758 \uc218\ub97c \uc138\uc5b4\ub77c. \uadf8\ub7ec\uae30 \uc704\ud574 \uacf5\ubc31 (space, tab, newline)\uc5d0 \uc758\ud574 \uad6c\ubd84\ub418\ub294 \ubb38\uc790\uc758 \uc2a4\ud2b8\ub9c1\uc744 \uc815\uc758\ud55c\ub2e4. \ub300\uc18c\ubb38\uc790\ub97c \ubb34\uc2dc\ud558\uace0, \ub2e8\uc5b4\ub97c \uc138\uae30 \uc704\ud574 \ubaa8\ub4e0 \ubb38\uc7a5 \uae30\ud638\ub97c \uc5c6\uc564\ub2e4. \uc138\ubd80 \ud504\ub85c\uadf8\ub798\ubc0d \ub2e8\uacc4\ub294 \ub2e4\uc74c\uacfc \uac19\ub2e4.\n",
      "1) \u2018hamlet.txt\u2019 \ud30c\uc77c\uc744 \uc5f4\uace0 \uadf8 \ub0b4\uc6a9\uc744 single string \ucc98\ub7fc \ubcc0\uc218\uc5d0 \ub123\ub294\ub2e4.\n",
      "2) \uc2a4\ud2b8\ub9c1\uc744 \uc18c\ubb38\uc790\ub85c \ubc14\uafbc\ub2e4.\n",
      "3) string module\uc5d0\uc11c \ucc3e\uc744 \uc218 \uc788\ub294 \ubaa8\ub4e0 \ubb38\uc7a5 \uae30\ud638(\u2018!\u201d#$%&\u2019()*+,- ./:;<=>?@[\\]^_\u2018{|}~\u2019) \ub97c \uc81c\uac70\ud55c\ub2e4.\n",
      "4) \uc2a4\ud2b8\ub9c1\uc744 \uacf5\ubc31\uc73c\ub85c \ub098\ub20c \uc218 \uc788\ub294 \ub2e8\uc5b4 \ub9ac\uc2a4\ud2b8\ub85c \ucabc\uac20\ub2e4.\n",
      "5) \ub2e8\uc5b4\uc758 \uac2f\uc218\ub97c \uc140 \uc218 \uc788\ub294 \ube48 dictionary \ub97c \uc0dd\uc131\ud55c\ub2e4.\n",
      "6) \ub2e8\uc5b4 \ub9ac\uc2a4\ud2b8\uc5d0 \ub300\ud574 Loop\ub97c \ub3cc\uba74\uc11c \ub2e8\uc5b4\ub97c \uc704\ud55c dictionary\ub97c 1\uc529 \uc99d\uac00\ud55c\ub2e4.\n",
      "7) \u2018Hamlet\u2019\uc5d0\uc11c \u2018hamlet\u2019\uc758 \uacbd\uc6b0\uc758 \uc218\ub97c print \ud55c\ub2e4.\n",
      "8) \ud544\uc694\ud558\ub2e4\uba74 \ud30c\uc77c\uc744 \ub2eb\ub294\ub2e4."
     ]
    },
    {
     "cell_type": "code",
     "collapsed": false,
     "input": [
      "# \u2018hamlet.txt\u2019 \ud30c\uc77c\uc744 \uc5f4\uace0 \uadf8 \ub0b4\uc6a9\uc744 single string \ucc98\ub7fc \ubcc0\uc218\uc5d0 \ub123\uace0 \uc2a4\ud2b8\ub9c1\uc744 \uc18c\ubb38\uc790\ub85c \ubc14\uafbc\ub2e4\n",
      "hamlet = open('../examples/hamlet.txt', 'rU').read().lower()\n",
      "#hamlet"
     ],
     "language": "python",
     "metadata": {},
     "outputs": [],
     "prompt_number": 50
    },
    {
     "cell_type": "code",
     "collapsed": false,
     "input": [
      "#string module\uc5d0\uc11c \ucc3e\uc744 \uc218 \uc788\ub294 \ubaa8\ub4e0 \ubb38\uc7a5 \uae30\ud638(\u2018!\u201d#$%&\u2019()*+,- ./:;<=>?@[\\]^_\u2018{|}~\u2019) \ub97c \uc81c\uac70\ud55c\ub2e4.\n",
      "import re #re.sub(pattern, replacement, target[, count=0[, flags=0]])\n",
      "hamlet = re.sub('[\\!\\\"\\#\\$\\%\\&\\'(\\)\\*\\+\\,\\-\\.\\/\\:\\;\\<\\=\\>\\?\\@\\[\\]\\^_\\'\\{\\|\\}\\~\\n]','',hamlet)\n",
      "#hamlet"
     ],
     "language": "python",
     "metadata": {},
     "outputs": [],
     "prompt_number": 51
    },
    {
     "cell_type": "code",
     "collapsed": false,
     "input": [
      "# \uc2a4\ud2b8\ub9c1\uc744 \uacf5\ubc31\uc73c\ub85c \ub098\ub20c \uc218 \uc788\ub294 \ub2e8\uc5b4 \ub9ac\uc2a4\ud2b8\ub85c \ucabc\uac20\ub2e4.\n",
      "hamlet = hamlet.split( )\n",
      "hamlet"
     ],
     "language": "python",
     "metadata": {},
     "outputs": [
      {
       "metadata": {},
       "output_type": "pyout",
       "prompt_number": 52,
       "text": [
        "['hamlet',\n",
        " 'prince',\n",
        " 'of',\n",
        " 'denmarkby',\n",
        " 'william',\n",
        " 'shakespearepersons',\n",
        " 'representedclaudius',\n",
        " 'king',\n",
        " 'of',\n",
        " 'denmarkhamlet',\n",
        " 'son',\n",
        " 'to',\n",
        " 'the',\n",
        " 'former',\n",
        " 'and',\n",
        " 'nephew',\n",
        " 'to',\n",
        " 'the',\n",
        " 'present',\n",
        " 'kingpolonius',\n",
        " 'lord',\n",
        " 'chamberlainhoratio',\n",
        " 'friend',\n",
        " 'to',\n",
        " 'hamletlaertes',\n",
        " 'son',\n",
        " 'to',\n",
        " 'poloniusvoltimand',\n",
        " 'courtiercornelius',\n",
        " 'courtierrosencrantz',\n",
        " 'courtierguildenstern',\n",
        " 'courtierosric',\n",
        " 'courtiera',\n",
        " 'gentleman',\n",
        " 'courtiera',\n",
        " 'priestmarcellus',\n",
        " 'officerbernardo',\n",
        " 'officerfrancisco',\n",
        " 'a',\n",
        " 'soldierreynaldo',\n",
        " 'servant',\n",
        " 'to',\n",
        " 'poloniusplayerstwo',\n",
        " 'clowns',\n",
        " 'gravediggersfortinbras',\n",
        " 'prince',\n",
        " 'of',\n",
        " 'norwaya',\n",
        " 'captainenglish',\n",
        " 'ambassadorsghost',\n",
        " 'of',\n",
        " 'hamlets',\n",
        " 'fathergertrude',\n",
        " 'queen',\n",
        " 'of',\n",
        " 'denmark',\n",
        " 'and',\n",
        " 'mother',\n",
        " 'of',\n",
        " 'hamletophelia',\n",
        " 'daughter',\n",
        " 'to',\n",
        " 'poloniuslords',\n",
        " 'ladies',\n",
        " 'officers',\n",
        " 'soldiers',\n",
        " 'sailors',\n",
        " 'messengers',\n",
        " 'and',\n",
        " 'otherattendantsscene',\n",
        " 'elsinoreact',\n",
        " 'iscene',\n",
        " 'i',\n",
        " 'elsinore',\n",
        " 'a',\n",
        " 'platform',\n",
        " 'before',\n",
        " 'the',\n",
        " 'castlefrancisco',\n",
        " 'at',\n",
        " 'his',\n",
        " 'post',\n",
        " 'enter',\n",
        " 'to',\n",
        " 'him',\n",
        " 'bernardoberwhos',\n",
        " 'therefrannay',\n",
        " 'answer',\n",
        " 'me',\n",
        " 'stand',\n",
        " 'and',\n",
        " 'unfold',\n",
        " 'yourselfberlong',\n",
        " 'live',\n",
        " 'the',\n",
        " 'kingfranbernardoberhefranyou',\n",
        " 'come',\n",
        " 'most',\n",
        " 'carefully',\n",
        " 'upon',\n",
        " 'your',\n",
        " 'hourbertis',\n",
        " 'now',\n",
        " 'struck',\n",
        " 'twelve',\n",
        " 'get',\n",
        " 'thee',\n",
        " 'to',\n",
        " 'bed',\n",
        " 'franciscofranfor',\n",
        " 'this',\n",
        " 'relief',\n",
        " 'much',\n",
        " 'thanks',\n",
        " 'tis',\n",
        " 'bitter',\n",
        " 'coldand',\n",
        " 'i',\n",
        " 'am',\n",
        " 'sick',\n",
        " 'at',\n",
        " 'heartberhave',\n",
        " 'you',\n",
        " 'had',\n",
        " 'quiet',\n",
        " 'guardfrannot',\n",
        " 'a',\n",
        " 'mouse',\n",
        " 'stirringberwell',\n",
        " 'good',\n",
        " 'nightif',\n",
        " 'you',\n",
        " 'do',\n",
        " 'meet',\n",
        " 'horatio',\n",
        " 'and',\n",
        " 'marcellusthe',\n",
        " 'rivals',\n",
        " 'of',\n",
        " 'my',\n",
        " 'watch',\n",
        " 'bid',\n",
        " 'them',\n",
        " 'make',\n",
        " 'hastefrani',\n",
        " 'think',\n",
        " 'i',\n",
        " 'hear',\n",
        " 'themstand',\n",
        " 'ho',\n",
        " 'who',\n",
        " 'is',\n",
        " 'thereenter',\n",
        " 'horatio',\n",
        " 'and',\n",
        " 'marcellushorfriends',\n",
        " 'to',\n",
        " 'this',\n",
        " 'groundmarand',\n",
        " 'liegemen',\n",
        " 'to',\n",
        " 'the',\n",
        " 'danefrangive',\n",
        " 'you',\n",
        " 'goodnightmaro',\n",
        " 'farewell',\n",
        " 'honest',\n",
        " 'soldierwho',\n",
        " 'hath',\n",
        " 'relievd',\n",
        " 'youfranbernardo',\n",
        " 'has',\n",
        " 'my',\n",
        " 'placegive',\n",
        " 'you',\n",
        " 'goodnightexitmarholla',\n",
        " 'bernardobersaywhat',\n",
        " 'is',\n",
        " 'horatio',\n",
        " 'therehora',\n",
        " 'piece',\n",
        " 'of',\n",
        " 'himberwelcome',\n",
        " 'horatiowelcome',\n",
        " 'good',\n",
        " 'marcellusmarwhat',\n",
        " 'has',\n",
        " 'this',\n",
        " 'thing',\n",
        " 'appeard',\n",
        " 'again',\n",
        " 'tonightberi',\n",
        " 'have',\n",
        " 'seen',\n",
        " 'nothingmarhoratio',\n",
        " 'says',\n",
        " 'tis',\n",
        " 'but',\n",
        " 'our',\n",
        " 'fantasyand',\n",
        " 'will',\n",
        " 'not',\n",
        " 'let',\n",
        " 'belief',\n",
        " 'take',\n",
        " 'hold',\n",
        " 'of',\n",
        " 'himtouching',\n",
        " 'this',\n",
        " 'dreaded',\n",
        " 'sight',\n",
        " 'twice',\n",
        " 'seen',\n",
        " 'of',\n",
        " 'ustherefore',\n",
        " 'i',\n",
        " 'have',\n",
        " 'entreated',\n",
        " 'him',\n",
        " 'alongwith',\n",
        " 'us',\n",
        " 'to',\n",
        " 'watch',\n",
        " 'the',\n",
        " 'minutes',\n",
        " 'of',\n",
        " 'this',\n",
        " 'nightthat',\n",
        " 'if',\n",
        " 'again',\n",
        " 'this',\n",
        " 'apparition',\n",
        " 'comehe',\n",
        " 'may',\n",
        " 'approve',\n",
        " 'our',\n",
        " 'eyes',\n",
        " 'and',\n",
        " 'speak',\n",
        " 'to',\n",
        " 'ithortush',\n",
        " 'tush',\n",
        " 'twill',\n",
        " 'not',\n",
        " 'appearbersit',\n",
        " 'down',\n",
        " 'awhileand',\n",
        " 'let',\n",
        " 'us',\n",
        " 'once',\n",
        " 'again',\n",
        " 'assail',\n",
        " 'your',\n",
        " 'earsthat',\n",
        " 'are',\n",
        " 'so',\n",
        " 'fortified',\n",
        " 'against',\n",
        " 'our',\n",
        " 'storywhat',\n",
        " 'we',\n",
        " 'two',\n",
        " 'nights',\n",
        " 'have',\n",
        " 'seenhorwell',\n",
        " 'sit',\n",
        " 'we',\n",
        " 'downand',\n",
        " 'let',\n",
        " 'us',\n",
        " 'hear',\n",
        " 'bernardo',\n",
        " 'speak',\n",
        " 'of',\n",
        " 'thisberlast',\n",
        " 'night',\n",
        " 'of',\n",
        " 'allwhen',\n",
        " 'yond',\n",
        " 'same',\n",
        " 'star',\n",
        " 'thats',\n",
        " 'westward',\n",
        " 'from',\n",
        " 'the',\n",
        " 'polehad',\n",
        " 'made',\n",
        " 'his',\n",
        " 'course',\n",
        " 'to',\n",
        " 'illume',\n",
        " 'that',\n",
        " 'part',\n",
        " 'of',\n",
        " 'heavenwhere',\n",
        " 'now',\n",
        " 'it',\n",
        " 'burns',\n",
        " 'marcellus',\n",
        " 'and',\n",
        " 'myselfthe',\n",
        " 'bell',\n",
        " 'then',\n",
        " 'beating',\n",
        " 'onemarpeace',\n",
        " 'break',\n",
        " 'thee',\n",
        " 'off',\n",
        " 'look',\n",
        " 'where',\n",
        " 'it',\n",
        " 'comes',\n",
        " 'againenter',\n",
        " 'ghost',\n",
        " 'armedberin',\n",
        " 'the',\n",
        " 'same',\n",
        " 'figure',\n",
        " 'like',\n",
        " 'the',\n",
        " 'king',\n",
        " 'thats',\n",
        " 'deadmarthou',\n",
        " 'art',\n",
        " 'a',\n",
        " 'scholar',\n",
        " 'speak',\n",
        " 'to',\n",
        " 'it',\n",
        " 'horatioberlooks',\n",
        " 'it',\n",
        " 'not',\n",
        " 'like',\n",
        " 'the',\n",
        " 'king',\n",
        " 'mark',\n",
        " 'it',\n",
        " 'horatiohormost',\n",
        " 'likeit',\n",
        " 'harrows',\n",
        " 'me',\n",
        " 'with',\n",
        " 'fear',\n",
        " 'and',\n",
        " 'wonderberit',\n",
        " 'would',\n",
        " 'be',\n",
        " 'spoke',\n",
        " 'tomarquestion',\n",
        " 'it',\n",
        " 'horatiohorwhat',\n",
        " 'art',\n",
        " 'thou',\n",
        " 'that',\n",
        " 'usurpst',\n",
        " 'this',\n",
        " 'time',\n",
        " 'of',\n",
        " 'nighttogether',\n",
        " 'with',\n",
        " 'that',\n",
        " 'fair',\n",
        " 'and',\n",
        " 'warlike',\n",
        " 'formin',\n",
        " 'which',\n",
        " 'the',\n",
        " 'majesty',\n",
        " 'of',\n",
        " 'buried',\n",
        " 'denmarkdid',\n",
        " 'sometimes',\n",
        " 'march',\n",
        " 'by',\n",
        " 'heaven',\n",
        " 'i',\n",
        " 'charge',\n",
        " 'thee',\n",
        " 'speakmarit',\n",
        " 'is',\n",
        " 'offendedbersee',\n",
        " 'it',\n",
        " 'stalks',\n",
        " 'awayhorstay',\n",
        " 'speak',\n",
        " 'speak',\n",
        " 'i',\n",
        " 'charge',\n",
        " 'thee',\n",
        " 'speakexit',\n",
        " 'ghostmartis',\n",
        " 'gone',\n",
        " 'and',\n",
        " 'will',\n",
        " 'not',\n",
        " 'answerberhow',\n",
        " 'now',\n",
        " 'horatio',\n",
        " 'you',\n",
        " 'tremble',\n",
        " 'and',\n",
        " 'look',\n",
        " 'paleis',\n",
        " 'not',\n",
        " 'this',\n",
        " 'something',\n",
        " 'more',\n",
        " 'than',\n",
        " 'fantasywhat',\n",
        " 'think',\n",
        " 'you',\n",
        " 'onthorbefore',\n",
        " 'my',\n",
        " 'god',\n",
        " 'i',\n",
        " 'might',\n",
        " 'not',\n",
        " 'this',\n",
        " 'believewithout',\n",
        " 'the',\n",
        " 'sensible',\n",
        " 'and',\n",
        " 'true',\n",
        " 'avouchof',\n",
        " 'mine',\n",
        " 'own',\n",
        " 'eyesmaris',\n",
        " 'it',\n",
        " 'not',\n",
        " 'like',\n",
        " 'the',\n",
        " 'kinghoras',\n",
        " 'thou',\n",
        " 'art',\n",
        " 'to',\n",
        " 'thyselfsuch',\n",
        " 'was',\n",
        " 'the',\n",
        " 'very',\n",
        " 'armour',\n",
        " 'he',\n",
        " 'had',\n",
        " 'onwhen',\n",
        " 'he',\n",
        " 'the',\n",
        " 'ambitious',\n",
        " 'norway',\n",
        " 'combatedso',\n",
        " 'frownd',\n",
        " 'he',\n",
        " 'once',\n",
        " 'when',\n",
        " 'in',\n",
        " 'an',\n",
        " 'angry',\n",
        " 'parlehe',\n",
        " 'smote',\n",
        " 'the',\n",
        " 'sledded',\n",
        " 'polacks',\n",
        " 'on',\n",
        " 'the',\n",
        " 'icetis',\n",
        " 'strangemarthus',\n",
        " 'twice',\n",
        " 'before',\n",
        " 'and',\n",
        " 'jump',\n",
        " 'at',\n",
        " 'this',\n",
        " 'dead',\n",
        " 'hourwith',\n",
        " 'martial',\n",
        " 'stalk',\n",
        " 'hath',\n",
        " 'he',\n",
        " 'gone',\n",
        " 'by',\n",
        " 'our',\n",
        " 'watchhorin',\n",
        " 'what',\n",
        " 'particular',\n",
        " 'thought',\n",
        " 'to',\n",
        " 'work',\n",
        " 'i',\n",
        " 'know',\n",
        " 'notbut',\n",
        " 'in',\n",
        " 'the',\n",
        " 'gross',\n",
        " 'and',\n",
        " 'scope',\n",
        " 'of',\n",
        " 'my',\n",
        " 'opinionthis',\n",
        " 'bodes',\n",
        " 'some',\n",
        " 'strange',\n",
        " 'eruption',\n",
        " 'to',\n",
        " 'our',\n",
        " 'statemargood',\n",
        " 'now',\n",
        " 'sit',\n",
        " 'down',\n",
        " 'and',\n",
        " 'tell',\n",
        " 'me',\n",
        " 'he',\n",
        " 'that',\n",
        " 'knowswhy',\n",
        " 'this',\n",
        " 'same',\n",
        " 'strict',\n",
        " 'and',\n",
        " 'most',\n",
        " 'observant',\n",
        " 'watchso',\n",
        " 'nightly',\n",
        " 'toils',\n",
        " 'the',\n",
        " 'subject',\n",
        " 'of',\n",
        " 'the',\n",
        " 'landand',\n",
        " 'why',\n",
        " 'such',\n",
        " 'daily',\n",
        " 'cast',\n",
        " 'of',\n",
        " 'brazen',\n",
        " 'cannonand',\n",
        " 'foreign',\n",
        " 'mart',\n",
        " 'for',\n",
        " 'implements',\n",
        " 'of',\n",
        " 'warwhy',\n",
        " 'such',\n",
        " 'impress',\n",
        " 'of',\n",
        " 'shipwrights',\n",
        " 'whose',\n",
        " 'sore',\n",
        " 'taskdoes',\n",
        " 'not',\n",
        " 'divide',\n",
        " 'the',\n",
        " 'sunday',\n",
        " 'from',\n",
        " 'the',\n",
        " 'weekwhat',\n",
        " 'might',\n",
        " 'be',\n",
        " 'toward',\n",
        " 'that',\n",
        " 'this',\n",
        " 'sweaty',\n",
        " 'hastedoth',\n",
        " 'make',\n",
        " 'the',\n",
        " 'night',\n",
        " 'jointlabourer',\n",
        " 'with',\n",
        " 'the',\n",
        " 'daywho',\n",
        " 'ist',\n",
        " 'that',\n",
        " 'can',\n",
        " 'inform',\n",
        " 'mehorthat',\n",
        " 'can',\n",
        " 'iat',\n",
        " 'least',\n",
        " 'the',\n",
        " 'whisper',\n",
        " 'goes',\n",
        " 'so',\n",
        " 'our',\n",
        " 'last',\n",
        " 'kingwhose',\n",
        " 'image',\n",
        " 'even',\n",
        " 'but',\n",
        " 'now',\n",
        " 'appeard',\n",
        " 'to',\n",
        " 'uswas',\n",
        " 'as',\n",
        " 'you',\n",
        " 'know',\n",
        " 'by',\n",
        " 'fortinbras',\n",
        " 'of',\n",
        " 'norwaythereto',\n",
        " 'prickd',\n",
        " 'on',\n",
        " 'by',\n",
        " 'a',\n",
        " 'most',\n",
        " 'emulate',\n",
        " 'pridedard',\n",
        " 'to',\n",
        " 'the',\n",
        " 'combat',\n",
        " 'in',\n",
        " 'which',\n",
        " 'our',\n",
        " 'valiant',\n",
        " 'hamletfor',\n",
        " 'so',\n",
        " 'this',\n",
        " 'side',\n",
        " 'of',\n",
        " 'our',\n",
        " 'known',\n",
        " 'world',\n",
        " 'esteemd',\n",
        " 'himdid',\n",
        " 'slay',\n",
        " 'this',\n",
        " 'fortinbras',\n",
        " 'who',\n",
        " 'by',\n",
        " 'a',\n",
        " 'seald',\n",
        " 'compactwell',\n",
        " 'ratified',\n",
        " 'by',\n",
        " 'law',\n",
        " 'and',\n",
        " 'heraldrydid',\n",
        " 'forfeit',\n",
        " 'with',\n",
        " 'his',\n",
        " 'life',\n",
        " 'all',\n",
        " 'those',\n",
        " 'his',\n",
        " 'landswhich',\n",
        " 'he',\n",
        " 'stood',\n",
        " 'seizd',\n",
        " 'of',\n",
        " 'to',\n",
        " 'the',\n",
        " 'conqueroragainst',\n",
        " 'the',\n",
        " 'which',\n",
        " 'a',\n",
        " 'moiety',\n",
        " 'competentwas',\n",
        " 'gaged',\n",
        " 'by',\n",
        " 'our',\n",
        " 'king',\n",
        " 'which',\n",
        " 'had',\n",
        " 'returndto',\n",
        " 'the',\n",
        " 'inheritance',\n",
        " 'of',\n",
        " 'fortinbrashad',\n",
        " 'he',\n",
        " 'been',\n",
        " 'vanquisher',\n",
        " 'as',\n",
        " 'by',\n",
        " 'the',\n",
        " 'same',\n",
        " 'covnantand',\n",
        " 'carriage',\n",
        " 'of',\n",
        " 'the',\n",
        " 'article',\n",
        " 'designdhis',\n",
        " 'fell',\n",
        " 'to',\n",
        " 'hamlet',\n",
        " 'now',\n",
        " 'sir',\n",
        " 'young',\n",
        " 'fortinbrasof',\n",
        " 'unimproved',\n",
        " 'mettle',\n",
        " 'hot',\n",
        " 'and',\n",
        " 'fullhath',\n",
        " 'in',\n",
        " 'the',\n",
        " 'skirts',\n",
        " 'of',\n",
        " 'norway',\n",
        " 'here',\n",
        " 'and',\n",
        " 'theresharkd',\n",
        " 'up',\n",
        " 'a',\n",
        " 'list',\n",
        " 'of',\n",
        " 'lawless',\n",
        " 'resolutesfor',\n",
        " 'food',\n",
        " 'and',\n",
        " 'diet',\n",
        " 'to',\n",
        " 'some',\n",
        " 'enterprisethat',\n",
        " 'hath',\n",
        " 'a',\n",
        " 'stomach',\n",
        " 'int',\n",
        " 'which',\n",
        " 'is',\n",
        " 'no',\n",
        " 'otheras',\n",
        " 'it',\n",
        " 'doth',\n",
        " 'well',\n",
        " 'appear',\n",
        " 'unto',\n",
        " 'our',\n",
        " 'statebut',\n",
        " 'to',\n",
        " 'recover',\n",
        " 'of',\n",
        " 'us',\n",
        " 'by',\n",
        " 'strong',\n",
        " 'handand',\n",
        " 'terms',\n",
        " 'compulsatory',\n",
        " 'those',\n",
        " 'foresaid',\n",
        " 'landsso',\n",
        " 'by',\n",
        " 'his',\n",
        " 'father',\n",
        " 'lost',\n",
        " 'and',\n",
        " 'this',\n",
        " 'i',\n",
        " 'take',\n",
        " 'itis',\n",
        " 'the',\n",
        " 'main',\n",
        " 'motive',\n",
        " 'of',\n",
        " 'our',\n",
        " 'preparationsthe',\n",
        " 'source',\n",
        " 'of',\n",
        " 'this',\n",
        " 'our',\n",
        " 'watch',\n",
        " 'and',\n",
        " 'the',\n",
        " 'chief',\n",
        " 'headof',\n",
        " 'this',\n",
        " 'posthaste',\n",
        " 'and',\n",
        " 'romage',\n",
        " 'in',\n",
        " 'the',\n",
        " 'landberi',\n",
        " 'think',\n",
        " 'it',\n",
        " 'be',\n",
        " 'no',\n",
        " 'other',\n",
        " 'but',\n",
        " 'een',\n",
        " 'sowell',\n",
        " 'may',\n",
        " 'it',\n",
        " 'sort',\n",
        " 'that',\n",
        " 'this',\n",
        " 'portentous',\n",
        " 'figurecomes',\n",
        " 'armed',\n",
        " 'through',\n",
        " 'our',\n",
        " 'watch',\n",
        " 'so',\n",
        " 'like',\n",
        " 'the',\n",
        " 'kingthat',\n",
        " 'was',\n",
        " 'and',\n",
        " 'is',\n",
        " 'the',\n",
        " 'question',\n",
        " 'of',\n",
        " 'these',\n",
        " 'warshora',\n",
        " 'mote',\n",
        " 'it',\n",
        " 'is',\n",
        " 'to',\n",
        " 'trouble',\n",
        " 'the',\n",
        " 'minds',\n",
        " 'eyein',\n",
        " 'the',\n",
        " 'most',\n",
        " 'high',\n",
        " 'and',\n",
        " 'palmy',\n",
        " 'state',\n",
        " 'of',\n",
        " 'romea',\n",
        " 'little',\n",
        " 'ere',\n",
        " 'the',\n",
        " 'mightiest',\n",
        " 'julius',\n",
        " 'fellthe',\n",
        " 'graves',\n",
        " 'stood',\n",
        " 'tenantless',\n",
        " 'and',\n",
        " 'the',\n",
        " 'sheeted',\n",
        " 'deaddid',\n",
        " 'squeak',\n",
        " 'and',\n",
        " 'gibber',\n",
        " 'in',\n",
        " 'the',\n",
        " 'roman',\n",
        " 'streetsas',\n",
        " 'stars',\n",
        " 'with',\n",
        " 'trains',\n",
        " 'of',\n",
        " 'fire',\n",
        " 'and',\n",
        " 'dews',\n",
        " 'of',\n",
        " 'blooddisasters',\n",
        " 'in',\n",
        " 'the',\n",
        " 'sun',\n",
        " 'and',\n",
        " 'the',\n",
        " 'moist',\n",
        " 'starupon',\n",
        " 'whose',\n",
        " 'influence',\n",
        " 'neptunes',\n",
        " 'empire',\n",
        " 'standswas',\n",
        " 'sick',\n",
        " 'almost',\n",
        " 'to',\n",
        " 'doomsday',\n",
        " 'with',\n",
        " 'eclipseand',\n",
        " 'even',\n",
        " 'the',\n",
        " 'like',\n",
        " 'precurse',\n",
        " 'of',\n",
        " 'fierce',\n",
        " 'eventsas',\n",
        " 'harbingers',\n",
        " 'preceding',\n",
        " 'still',\n",
        " 'the',\n",
        " 'fatesand',\n",
        " 'prologue',\n",
        " 'to',\n",
        " 'the',\n",
        " 'omen',\n",
        " 'coming',\n",
        " 'onhave',\n",
        " 'heaven',\n",
        " 'and',\n",
        " 'earth',\n",
        " 'together',\n",
        " 'demonstratedunto',\n",
        " 'our',\n",
        " 'climature',\n",
        " 'and',\n",
        " 'countrymenbut',\n",
        " 'soft',\n",
        " 'behold',\n",
        " 'lo',\n",
        " 'where',\n",
        " 'it',\n",
        " 'comes',\n",
        " 'againreenter',\n",
        " 'ghostill',\n",
        " 'cross',\n",
        " 'it',\n",
        " 'though',\n",
        " 'it',\n",
        " 'blast',\n",
        " 'mestay',\n",
        " 'illusionif',\n",
        " 'thou',\n",
        " 'hast',\n",
        " 'any',\n",
        " 'sound',\n",
        " 'or',\n",
        " 'use',\n",
        " 'of',\n",
        " 'voicespeak',\n",
        " 'to',\n",
        " 'meif',\n",
        " 'there',\n",
        " 'be',\n",
        " 'any',\n",
        " 'good',\n",
        " 'thing',\n",
        " 'to',\n",
        " 'be',\n",
        " 'donethat',\n",
        " 'may',\n",
        " 'to',\n",
        " 'thee',\n",
        " 'do',\n",
        " 'ease',\n",
        " 'and',\n",
        " 'race',\n",
        " 'to',\n",
        " 'mespeak',\n",
        " 'to',\n",
        " 'meif',\n",
        " 'thou',\n",
        " 'art',\n",
        " 'privy',\n",
        " 'to',\n",
        " 'thy',\n",
        " 'countrys',\n",
        " 'fatewhich',\n",
        " 'happily',\n",
        " 'foreknowing',\n",
        " 'may',\n",
        " 'avoido',\n",
        " 'speakor',\n",
        " 'if',\n",
        " 'thou',\n",
        " 'hast',\n",
        " 'uphoarded',\n",
        " 'in',\n",
        " 'thy',\n",
        " 'lifeextorted',\n",
        " 'treasure',\n",
        " 'in',\n",
        " 'the',\n",
        " 'womb',\n",
        " 'of',\n",
        " 'earthfor',\n",
        " 'which',\n",
        " 'they',\n",
        " 'say',\n",
        " 'you',\n",
        " 'spirits',\n",
        " 'oft',\n",
        " 'walk',\n",
        " 'in',\n",
        " 'deaththe',\n",
        " 'cock',\n",
        " 'crowsspeak',\n",
        " 'of',\n",
        " 'itstay',\n",
        " 'and',\n",
        " 'speakstop',\n",
        " 'it',\n",
        " 'marcellusmarshall',\n",
        " 'i',\n",
        " 'strike',\n",
        " 'at',\n",
        " 'it',\n",
        " 'with',\n",
        " 'my',\n",
        " 'partisanhordo',\n",
        " 'if',\n",
        " 'it',\n",
        " 'will',\n",
        " 'not',\n",
        " 'standbertis',\n",
        " 'herehortis',\n",
        " 'heremartis',\n",
        " 'goneexit',\n",
        " 'ghostwe',\n",
        " 'do',\n",
        " 'it',\n",
        " 'wrong',\n",
        " 'being',\n",
        " 'so',\n",
        " 'majesticalto',\n",
        " 'offer',\n",
        " 'it',\n",
        " 'the',\n",
        " 'show',\n",
        " ...]"
       ]
      }
     ],
     "prompt_number": 52
    },
    {
     "cell_type": "code",
     "collapsed": false,
     "input": [
      "wd_dict = dict( [ (i, hamlet.count(i)) for i in set(hamlet) ] )\n",
      "wd_dict"
     ],
     "language": "python",
     "metadata": {},
     "outputs": [
      {
       "metadata": {},
       "output_type": "pyout",
       "prompt_number": 53,
       "text": [
        "{'a': 459,\n",
        " 'abad': 1,\n",
        " 'abate': 1,\n",
        " 'abatements': 1,\n",
        " 'abetter': 1,\n",
        " 'abhorredin': 1,\n",
        " 'ability': 1,\n",
        " 'able': 1,\n",
        " 'aboard': 2,\n",
        " 'aboarddelay': 1,\n",
        " 'abominablyi': 1,\n",
        " 'about': 14,\n",
        " 'aboutmost': 1,\n",
        " 'above': 3,\n",
        " 'abovethere': 1,\n",
        " 'abridgment': 1,\n",
        " 'abroadthe': 1,\n",
        " 'absolute': 1,\n",
        " 'absolutegentleman': 1,\n",
        " 'abstinence': 1,\n",
        " 'abstracts': 1,\n",
        " 'absurd': 2,\n",
        " 'abusd': 1,\n",
        " 'abuse': 1,\n",
        " 'accent': 2,\n",
        " 'accepts': 1,\n",
        " 'access': 1,\n",
        " 'accident': 1,\n",
        " 'accidental': 1,\n",
        " 'accidentlaermy': 1,\n",
        " 'accidentsand': 1,\n",
        " 'accidentthis': 1,\n",
        " 'accord': 1,\n",
        " 'according': 1,\n",
        " 'accounted': 1,\n",
        " 'accountwith': 1,\n",
        " 'accurstnone': 1,\n",
        " 'accuseme': 1,\n",
        " 'ache': 1,\n",
        " 'achievements': 1,\n",
        " 'acquaint': 1,\n",
        " 'acquire': 1,\n",
        " 'acquittance': 1,\n",
        " 'acres': 1,\n",
        " 'acrossplucks': 1,\n",
        " 'act': 6,\n",
        " 'actbe': 1,\n",
        " 'actedor': 1,\n",
        " 'acthad': 1,\n",
        " 'acting': 1,\n",
        " 'action': 6,\n",
        " 'actionit': 1,\n",
        " 'actions': 2,\n",
        " 'actionsoft': 1,\n",
        " 'actionthe': 1,\n",
        " 'actively': 1,\n",
        " 'actor': 2,\n",
        " 'actorhamwhat': 1,\n",
        " 'actors': 2,\n",
        " 'actqueenah': 1,\n",
        " 'actsof': 1,\n",
        " 'acttaint': 1,\n",
        " 'actthat': 3,\n",
        " 'acursing': 1,\n",
        " 'adaisyi': 1,\n",
        " 'adam': 1,\n",
        " 'adams': 1,\n",
        " 'adders': 1,\n",
        " 'addition': 1,\n",
        " 'additionof': 1,\n",
        " 'additionwe': 1,\n",
        " 'addressitself': 1,\n",
        " 'adheres': 1,\n",
        " 'adieu': 4,\n",
        " 'adieuyou': 1,\n",
        " 'adjoind': 1,\n",
        " 'admirable': 1,\n",
        " 'admiration': 1,\n",
        " 'admirationhamo': 1,\n",
        " 'admirationrosshe': 1,\n",
        " 'admit': 1,\n",
        " 'admittance': 1,\n",
        " 'adoption': 1,\n",
        " 'adown': 1,\n",
        " 'adowna': 1,\n",
        " 'adulterate': 1,\n",
        " 'advancd': 1,\n",
        " 'advancement': 1,\n",
        " 'advancementroshow': 1,\n",
        " 'advanceskingmy': 1,\n",
        " 'advantagehe': 1,\n",
        " 'adventurous': 1,\n",
        " 'adviceand': 1,\n",
        " 'advicelet': 1,\n",
        " 'adviceshall': 1,\n",
        " 'advise': 1,\n",
        " 'aeneas': 1,\n",
        " 'aery': 1,\n",
        " 'afar': 1,\n",
        " 'afeard': 1,\n",
        " 'affair': 3,\n",
        " 'affairhami': 1,\n",
        " 'affairs': 1,\n",
        " 'affection': 1,\n",
        " 'affectionout': 1,\n",
        " 'affections': 1,\n",
        " 'affectionwould': 1,\n",
        " 'afflict': 1,\n",
        " 'affliction': 3,\n",
        " 'afflicts': 1,\n",
        " 'affrightedpolwith': 1,\n",
        " 'afooteven': 1,\n",
        " 'afraid': 1,\n",
        " 'after': 10,\n",
        " 'afterexeuntscene': 1,\n",
        " 'afternoonupon': 1,\n",
        " 'afterto': 1,\n",
        " 'afterwards': 1,\n",
        " 'again': 18,\n",
        " 'againand': 1,\n",
        " 'againenter': 1,\n",
        " 'againhori': 1,\n",
        " 'againhormy': 1,\n",
        " 'againill': 1,\n",
        " 'againreenter': 1,\n",
        " 'againrespeaking': 1,\n",
        " 'againseeming': 1,\n",
        " 'against': 17,\n",
        " 'againstood': 1,\n",
        " 'againthe': 1,\n",
        " 'againtherefore': 1,\n",
        " 'againto': 1,\n",
        " 'againwhat': 1,\n",
        " 'age': 6,\n",
        " 'agefor': 1,\n",
        " 'agentlewoman': 1,\n",
        " 'agethe': 1,\n",
        " 'ageto': 1,\n",
        " 'ago': 1,\n",
        " 'agreat': 1,\n",
        " 'agreeingconfederate': 1,\n",
        " 'ah': 1,\n",
        " 'ahrosencrantz': 1,\n",
        " 'aidhamlet': 1,\n",
        " 'aim': 1,\n",
        " 'aimd': 1,\n",
        " 'air': 7,\n",
        " 'airbrief': 1,\n",
        " 'airhamwhat': 1,\n",
        " 'airo': 1,\n",
        " 'airpromisecrammed': 1,\n",
        " 'airs': 1,\n",
        " 'airthe': 1,\n",
        " 'airy': 1,\n",
        " 'aking': 1,\n",
        " 'alack': 1,\n",
        " 'alarm': 1,\n",
        " 'alarmyour': 1,\n",
        " 'alas': 1,\n",
        " 'alashama': 1,\n",
        " 'alexander': 4,\n",
        " 'all': 93,\n",
        " 'alland': 1,\n",
        " 'allbelieve': 1,\n",
        " 'allegiance': 1,\n",
        " 'allenter': 1,\n",
        " 'alleys': 1,\n",
        " 'allgently': 1,\n",
        " 'alli': 4,\n",
        " 'allif': 1,\n",
        " 'allmy': 1,\n",
        " 'allophwill': 1,\n",
        " 'allor': 1,\n",
        " 'allowanceas': 1,\n",
        " 'allowanceoerweigh': 1,\n",
        " 'allowdhorhow': 1,\n",
        " 'allowed': 1,\n",
        " 'allowfarewell': 1,\n",
        " 'alls': 2,\n",
        " 'allthat': 1,\n",
        " 'allto': 2,\n",
        " 'allwhen': 1,\n",
        " 'almost': 8,\n",
        " 'alone': 4,\n",
        " 'alonecan': 1,\n",
        " 'alonedid': 1,\n",
        " 'alonein': 1,\n",
        " 'alonemarlook': 1,\n",
        " 'aloneo': 1,\n",
        " 'along': 1,\n",
        " 'alongor': 1,\n",
        " 'alongwith': 1,\n",
        " 'aloof': 1,\n",
        " 'aloofwhen': 1,\n",
        " 'already': 4,\n",
        " 'alreadyhamindeed': 1,\n",
        " 'alreadyhorso': 1,\n",
        " 'also': 1,\n",
        " 'altogether': 1,\n",
        " 'always': 1,\n",
        " 'am': 54,\n",
        " 'amakingyou': 1,\n",
        " 'amazd': 1,\n",
        " 'amaze': 1,\n",
        " 'amazement': 1,\n",
        " 'ambassador': 1,\n",
        " 'ambassadors': 3,\n",
        " 'ambassadorsghost': 1,\n",
        " 'ambassadorsmy': 1,\n",
        " 'ambassadorthe': 1,\n",
        " 'amber': 1,\n",
        " 'ambiguous': 1,\n",
        " 'ambition': 6,\n",
        " 'ambitious': 3,\n",
        " 'amenexeunt': 1,\n",
        " 'amissgo': 1,\n",
        " 'amissso': 1,\n",
        " 'amitiesand': 1,\n",
        " 'an': 48,\n",
        " 'anact': 1,\n",
        " 'anchors': 1,\n",
        " 'and': 709,\n",
        " 'anddare': 1,\n",
        " 'anddungeons': 1,\n",
        " 'andflowerso': 1,\n",
        " 'andgentlemanpolatcloses': 1,\n",
        " 'andguildensternkingand': 1,\n",
        " 'andhis': 1,\n",
        " 'andinsert': 1,\n",
        " 'andso': 1,\n",
        " 'andtarget': 1,\n",
        " 'andthere': 1,\n",
        " 'andthose': 1,\n",
        " 'andthrough': 1,\n",
        " 'andwe': 1,\n",
        " 'angel': 4,\n",
        " 'angels': 2,\n",
        " 'angerhampale': 1,\n",
        " 'angle': 1,\n",
        " 'angry': 1,\n",
        " 'animals': 1,\n",
        " 'anklepale': 1,\n",
        " 'annexment': 1,\n",
        " 'annual': 1,\n",
        " 'anoint': 1,\n",
        " 'anon': 5,\n",
        " 'another': 12,\n",
        " 'another1': 1,\n",
        " 'anotherhamthis': 1,\n",
        " 'anothers': 1,\n",
        " 'answer': 10,\n",
        " 'answerberhow': 1,\n",
        " 'answerdit': 1,\n",
        " 'answerest': 1,\n",
        " 'answerhamhow': 1,\n",
        " 'ant': 1,\n",
        " 'antic': 1,\n",
        " 'anticipation': 1,\n",
        " 'antique': 2,\n",
        " 'any': 11,\n",
        " 'anyfurther': 1,\n",
        " 'anything': 3,\n",
        " 'anythingbut': 1,\n",
        " 'apart': 1,\n",
        " 'apartmake': 1,\n",
        " 'ape': 1,\n",
        " 'apeto': 1,\n",
        " 'apiece': 2,\n",
        " 'apipe': 1,\n",
        " 'aplentiful': 1,\n",
        " 'apoplexd': 1,\n",
        " 'appal': 1,\n",
        " 'apparel': 1,\n",
        " 'apparition': 2,\n",
        " 'appear': 2,\n",
        " 'appearbersit': 1,\n",
        " 'appeard': 2,\n",
        " 'appeardto': 1,\n",
        " 'appears': 1,\n",
        " 'appearsbut': 1,\n",
        " 'appetite': 1,\n",
        " 'applaud': 1,\n",
        " 'appliance': 1,\n",
        " 'appointment': 1,\n",
        " 'apprehension': 2,\n",
        " 'approve': 2,\n",
        " 'apt': 1,\n",
        " 'aptand': 1,\n",
        " 'aptly': 1,\n",
        " 'ardour': 1,\n",
        " 'are': 116,\n",
        " 'areall': 1,\n",
        " 'aremarried': 1,\n",
        " 'arenow': 1,\n",
        " 'arethe': 1,\n",
        " 'aretheyroseven': 1,\n",
        " 'argal': 2,\n",
        " 'argues': 1,\n",
        " 'argument': 3,\n",
        " 'argumentbut': 1,\n",
        " 'arightto': 1,\n",
        " 'arithmetic': 1,\n",
        " 'arm': 2,\n",
        " 'armand': 2,\n",
        " 'armed': 2,\n",
        " 'armedberin': 1,\n",
        " 'armour': 3,\n",
        " 'arms': 6,\n",
        " 'arms2': 1,\n",
        " 'armsand': 1,\n",
        " 'armsleaps': 1,\n",
        " 'army': 1,\n",
        " 'arraignin': 1,\n",
        " 'arrant': 2,\n",
        " 'arras': 3,\n",
        " 'arrasenter': 1,\n",
        " 'arraspolbehind': 1,\n",
        " 'arresto': 1,\n",
        " 'arrestson': 1,\n",
        " 'arrivd': 1,\n",
        " 'arrow': 1,\n",
        " 'arrows': 1,\n",
        " 'arrowstoo': 1,\n",
        " 'art': 13,\n",
        " 'artery': 1,\n",
        " 'article': 1,\n",
        " 'articles': 1,\n",
        " 'artis': 1,\n",
        " 'artless': 1,\n",
        " 'artmad': 1,\n",
        " 'artpolmadam': 1,\n",
        " 'as': 144,\n",
        " 'ashamed': 1,\n",
        " 'aside': 1,\n",
        " 'asidehere': 1,\n",
        " 'ask': 2,\n",
        " 'asked': 1,\n",
        " 'asking': 1,\n",
        " 'askingthe': 1,\n",
        " 'aslant': 1,\n",
        " 'asleep': 2,\n",
        " 'aspecta': 1,\n",
        " 'aspeech': 1,\n",
        " 'ass': 4,\n",
        " 'assail': 1,\n",
        " 'assaultreybut': 1,\n",
        " 'assay': 2,\n",
        " 'assaybow': 1,\n",
        " 'assayd': 1,\n",
        " 'assays': 1,\n",
        " 'assigns': 1,\n",
        " 'assistant': 2,\n",
        " 'associates': 1,\n",
        " 'asspolthe': 1,\n",
        " 'assume': 3,\n",
        " 'assurance': 2,\n",
        " 'assurd': 1,\n",
        " 'assurdhe': 1,\n",
        " 'assure': 1,\n",
        " 'assweet': 1,\n",
        " 'asthey': 1,\n",
        " 'astrumpet': 1,\n",
        " 'astwere': 1,\n",
        " 'asuit': 1,\n",
        " 'asunderqueenhamlet': 1,\n",
        " 'aswould': 1,\n",
        " 'at': 74,\n",
        " 'atanything': 1,\n",
        " 'ataste': 1,\n",
        " 'atemperance': 1,\n",
        " 'atgravemakinghorcustom': 1,\n",
        " 'attend': 1,\n",
        " 'attendantkingthough': 1,\n",
        " 'attendants': 2,\n",
        " 'attendantsenter': 2,\n",
        " 'attendantshamhe': 1,\n",
        " 'attendantskinghamlet': 1,\n",
        " 'attendantskingwelcome': 1,\n",
        " 'attended': 1,\n",
        " 'attent': 1,\n",
        " 'attractivepolo': 1,\n",
        " 'attributeso': 1,\n",
        " 'atyour': 1,\n",
        " 'audience': 3,\n",
        " 'audiencefor': 1,\n",
        " 'audiencelet': 1,\n",
        " 'audit': 1,\n",
        " 'aught': 8,\n",
        " 'aughtas': 1,\n",
        " 'aughtophmy': 1,\n",
        " 'augury': 1,\n",
        " 'auntmother': 1,\n",
        " 'auspicious': 1,\n",
        " 'author': 1,\n",
        " 'authorities': 1,\n",
        " 'authorof': 1,\n",
        " 'avoid': 2,\n",
        " 'avoido': 1,\n",
        " 'avouchof': 1,\n",
        " 'awake': 1,\n",
        " 'away': 12,\n",
        " 'awayand': 2,\n",
        " 'awayexeunt': 1,\n",
        " 'awaygo': 1,\n",
        " 'awayhorstay': 1,\n",
        " 'awayill': 1,\n",
        " 'awaymy': 2,\n",
        " 'awayrosay': 1,\n",
        " 'awaythe': 1,\n",
        " 'awaywould': 1,\n",
        " 'awe': 1,\n",
        " 'awepays': 1,\n",
        " 'awhile': 3,\n",
        " 'awhileand': 2,\n",
        " 'awhilecomeanother': 1,\n",
        " 'awhilefor': 1,\n",
        " 'awhilemy': 1,\n",
        " 'awhiletill': 1,\n",
        " 'awhilewith': 1,\n",
        " 'awork': 1,\n",
        " 'awryand': 1,\n",
        " 'axe': 1,\n",
        " 'axemy': 1,\n",
        " 'ay': 1,\n",
        " 'aye': 1,\n",
        " 'b': 4,\n",
        " 'babeall': 1,\n",
        " 'baby': 1,\n",
        " 'babythat': 1,\n",
        " 'back': 7,\n",
        " 'backed': 1,\n",
        " 'backor': 1,\n",
        " 'backwardpolaside': 1,\n",
        " 'bad': 5,\n",
        " 'bade': 1,\n",
        " 'bait': 1,\n",
        " 'bakd': 2,\n",
        " 'bakers': 1,\n",
        " 'ban': 1,\n",
        " 'bandsp': 1,\n",
        " 'bank': 1,\n",
        " 'baptista': 1,\n",
        " 'barbary': 2,\n",
        " 'barbers': 1,\n",
        " 'bare': 1,\n",
        " 'barefacd': 1,\n",
        " 'barefoot': 1,\n",
        " 'bark': 1,\n",
        " 'barkd': 1,\n",
        " 'barrdyour': 1,\n",
        " 'barrenspectators': 1,\n",
        " 'base': 4,\n",
        " 'baseness': 1,\n",
        " 'baser': 2,\n",
        " 'baseshows': 1,\n",
        " 'basket': 2,\n",
        " 'bastardcries': 1,\n",
        " 'bat': 2,\n",
        " 'batedno': 1,\n",
        " 'battalions': 1,\n",
        " 'batten': 1,\n",
        " 'battery': 1,\n",
        " 'battlements': 1,\n",
        " 'bawd': 1,\n",
        " 'bawdry': 1,\n",
        " 'bawdsthe': 1,\n",
        " 'bawdy': 1,\n",
        " 'be': 186,\n",
        " 'bea': 1,\n",
        " 'beam': 1,\n",
        " 'bear': 13,\n",
        " 'beard': 5,\n",
        " 'beardprythee': 1,\n",
        " 'beards': 1,\n",
        " 'bearers': 2,\n",
        " 'bearing': 1,\n",
        " 'bears': 1,\n",
        " 'bearto': 1,\n",
        " 'beast': 4,\n",
        " 'beastit': 1,\n",
        " 'beasts': 1,\n",
        " 'beastslast': 1,\n",
        " 'beastwith': 1,\n",
        " 'beaten': 1,\n",
        " 'beating': 3,\n",
        " 'beats': 1,\n",
        " 'beauteous': 1,\n",
        " 'beautied': 1,\n",
        " 'beauties': 1,\n",
        " 'beautified': 1,\n",
        " 'beautifiedopheliathats': 1,\n",
        " 'beauty': 4,\n",
        " 'beautyophcould': 1,\n",
        " 'beaver': 1,\n",
        " 'bebestial': 1,\n",
        " 'bebrought': 1,\n",
        " 'bebut': 1,\n",
        " 'became': 1,\n",
        " 'because': 1,\n",
        " 'beckons': 2,\n",
        " 'beckonsstill': 1,\n",
        " 'becomes': 1,\n",
        " 'becomesthe': 1,\n",
        " 'bed': 2,\n",
        " 'bedand': 2,\n",
        " 'bedassume': 1,\n",
        " 'bedat': 1,\n",
        " 'bedded': 1,\n",
        " 'bedemanded': 1,\n",
        " 'bedhamwe': 1,\n",
        " 'bedkinghow': 1,\n",
        " 'bedp': 1,\n",
        " 'bedpinch': 1,\n",
        " 'bedrid': 1,\n",
        " 'beds': 1,\n",
        " 'bedstewd': 1,\n",
        " 'bedtime': 1,\n",
        " 'been': 24,\n",
        " 'beenas': 1,\n",
        " 'beensince': 1,\n",
        " 'beerbarrel': 1,\n",
        " 'beetles': 1,\n",
        " 'beexeuntscene': 1,\n",
        " 'befallnroswhere': 1,\n",
        " 'befittedto': 1,\n",
        " 'befor': 1,\n",
        " 'before': 16,\n",
        " 'beforeexeunt': 1,\n",
        " 'beg': 4,\n",
        " 'beget': 1,\n",
        " 'beggardwill': 1,\n",
        " 'beggaris': 1,\n",
        " 'beggarkingwhere': 1,\n",
        " 'beggars': 2,\n",
        " 'begin': 2,\n",
        " 'beginand': 2,\n",
        " 'beginantiquity': 1,\n",
        " 'begins': 2,\n",
        " 'begitmight': 1,\n",
        " 'beguile': 1,\n",
        " 'beguilethe': 1,\n",
        " 'begun': 2,\n",
        " 'begunexitscene': 1,\n",
        " 'begunour': 1,\n",
        " 'begyea': 1,\n",
        " 'begyour': 1,\n",
        " 'behavdift': 1,\n",
        " 'behaviour': 1,\n",
        " 'behaviourreymy': 1,\n",
        " 'behind': 3,\n",
        " 'behindhonourd': 1,\n",
        " 'behindone': 1,\n",
        " 'behold': 1,\n",
        " 'behooves': 1,\n",
        " 'behoratio': 1,\n",
        " 'behove': 1,\n",
        " 'being': 9,\n",
        " 'belief': 1,\n",
        " 'believd': 1,\n",
        " 'believe': 12,\n",
        " 'believeit': 1,\n",
        " 'believethe': 1,\n",
        " 'believewithout': 1,\n",
        " 'belike': 1,\n",
        " 'bell': 2,\n",
        " 'bellowed': 1,\n",
        " 'bells': 1,\n",
        " 'belovd': 1,\n",
        " 'below': 2,\n",
        " 'belowwords': 1,\n",
        " 'bemore': 1,\n",
        " 'bemost': 1,\n",
        " 'bend': 3,\n",
        " 'bended': 1,\n",
        " 'beneathhamit': 1,\n",
        " 'benefitand': 1,\n",
        " 'benetted': 1,\n",
        " 'benot': 1,\n",
        " 'bentfor': 1,\n",
        " 'benti': 1,\n",
        " 'bentto': 1,\n",
        " 'berattle': 1,\n",
        " 'berlonger': 1,\n",
        " 'bernardo': 2,\n",
        " 'bernardobersaywhat': 1,\n",
        " 'bernardoberwhos': 1,\n",
        " 'bernardohorhail': 1,\n",
        " 'bernardomy': 1,\n",
        " 'berwe': 1,\n",
        " 'beseech': 7,\n",
        " 'beseechd': 1,\n",
        " 'beshrew': 1,\n",
        " 'besides': 1,\n",
        " 'besleeping': 1,\n",
        " 'besmirchthe': 1,\n",
        " 'bespeaklord': 1,\n",
        " 'best': 11,\n",
        " 'bestow': 3,\n",
        " 'bestowd': 1,\n",
        " 'bestowed': 1,\n",
        " 'beteem': 1,\n",
        " 'bethat': 1,\n",
        " 'bethoughttis': 1,\n",
        " 'betill': 1,\n",
        " 'betimesenter': 1,\n",
        " 'beto': 1,\n",
        " 'betokenthe': 1,\n",
        " 'better': 13,\n",
        " 'betterd': 1,\n",
        " 'bettertheir': 1,\n",
        " 'between': 10,\n",
        " 'betweenhim': 1,\n",
        " 'betweenmuch': 1,\n",
        " 'betweenyour': 1,\n",
        " 'bevy': 1,\n",
        " 'beware': 1,\n",
        " 'bewareof': 1,\n",
        " 'bewept': 1,\n",
        " 'bewhen': 1,\n",
        " 'bewhy': 1,\n",
        " 'beyond': 2,\n",
        " 'biasby': 1,\n",
        " 'bid': 5,\n",
        " 'bier': 1,\n",
        " 'bilboes': 1,\n",
        " 'bird': 2,\n",
        " 'birds': 1,\n",
        " 'birth': 2,\n",
        " 'birthhe': 1,\n",
        " 'birthwherein': 1,\n",
        " 'bisson': 1,\n",
        " 'bites': 1,\n",
        " 'bitter': 3,\n",
        " 'black': 6,\n",
        " 'blackas': 1,\n",
        " 'blackest': 1,\n",
        " 'blacknor': 1,\n",
        " 'blame': 2,\n",
        " 'blamehamthe': 1,\n",
        " 'blank': 1,\n",
        " 'blanket': 1,\n",
        " 'blanks': 1,\n",
        " 'blanktransports': 1,\n",
        " 'blast': 2,\n",
        " 'blasted': 1,\n",
        " 'blastments': 1,\n",
        " 'blasts': 1,\n",
        " 'blazebut': 1,\n",
        " 'blazes': 1,\n",
        " 'blazon': 1,\n",
        " 'bleed': 1,\n",
        " 'bleeding': 1,\n",
        " 'bleedqueenno': 1,\n",
        " 'blenchi': 1,\n",
        " 'blesd': 1,\n",
        " 'blesdill': 1,\n",
        " 'bless': 3,\n",
        " 'blessing': 5,\n",
        " 'blister': 1,\n",
        " 'bloat': 1,\n",
        " 'blood': 9,\n",
        " 'blooda': 1,\n",
        " 'bloodand': 2,\n",
        " 'blooddisasters': 1,\n",
        " 'bloodily': 1,\n",
        " 'bloodis': 1,\n",
        " 'bloodkingwhy': 1,\n",
        " 'bloodlist': 1,\n",
        " 'bloodmake': 1,\n",
        " 'bloodof': 1,\n",
        " 'bloodqueento': 1,\n",
        " 'bloody': 7,\n",
        " 'blossoms': 1,\n",
        " 'blow': 2,\n",
        " 'blown': 2,\n",
        " 'blows': 2,\n",
        " 'blowthem': 1,\n",
        " 'blue': 1,\n",
        " 'blunted': 1,\n",
        " 'blurs': 1,\n",
        " 'blush': 2,\n",
        " 'board': 1,\n",
        " 'bodes': 1,\n",
        " 'bodies': 4,\n",
        " 'bodieshigh': 1,\n",
        " 'bodiessuch': 1,\n",
        " 'bodikin': 1,\n",
        " 'bodiless': 1,\n",
        " 'bodkin': 1,\n",
        " 'body': 8,\n",
        " 'bodyand': 1,\n",
        " 'bodyas': 1,\n",
        " 'bodyhamcompounded': 1,\n",
        " 'bodyhow': 1,\n",
        " 'bodyinto': 1,\n",
        " 'bodylike': 1,\n",
        " 'bodythe': 1,\n",
        " 'bodythus': 1,\n",
        " 'bodywhereof': 1,\n",
        " 'boisterous': 1,\n",
        " 'bold': 2,\n",
        " 'boldmy': 1,\n",
        " 'bonds': 1,\n",
        " 'bones': 2,\n",
        " 'bonesno': 1,\n",
        " 'bonesto': 1,\n",
        " 'bonny': 1,\n",
        " 'book': 1,\n",
        " 'books': 1,\n",
        " 'bookthat': 1,\n",
        " 'bore': 4,\n",
        " 'born': 1,\n",
        " 'borne': 3,\n",
        " 'bornhe': 1,\n",
        " 'bornit': 1,\n",
        " 'borrowd': 1,\n",
        " 'borrower': 1,\n",
        " 'borrowing': 1,\n",
        " 'bosom': 3,\n",
        " 'bosomlet': 1,\n",
        " 'botch': 1,\n",
        " 'both': 18,\n",
        " 'bothbut': 1,\n",
        " 'botheven': 1,\n",
        " 'bothrosas': 1,\n",
        " 'boththat': 1,\n",
        " 'boughs': 1,\n",
        " 'bought': 1,\n",
        " 'bound': 2,\n",
        " 'bounded': 1,\n",
        " 'boundi': 1,\n",
        " 'boundin': 1,\n",
        " 'bounds': 1,\n",
        " 'boundwith': 1,\n",
        " 'bounteousif': 1,\n",
        " 'bounty': 1,\n",
        " 'bournno': 1,\n",
        " 'bout': 1,\n",
        " 'bouts': 1,\n",
        " 'bow': 2,\n",
        " 'bowl': 1,\n",
        " 'box': 1,\n",
        " 'boy': 2,\n",
        " 'boys': 1,\n",
        " 'boythirty': 1,\n",
        " 'brain': 2,\n",
        " 'brainand': 1,\n",
        " 'brainish': 1,\n",
        " 'brains': 3,\n",
        " 'brainshamdo': 1,\n",
        " 'brainsthey': 1,\n",
        " 'brainthat': 1,\n",
        " 'brainthis': 1,\n",
        " 'brainunmixd': 1,\n",
        " 'branches': 1,\n",
        " 'brands': 1,\n",
        " 'brave': 2,\n",
        " 'bravery': 1,\n",
        " 'bravethat': 1,\n",
        " 'bray': 1,\n",
        " 'brazd': 1,\n",
        " 'brazen': 1,\n",
        " 'breach': 1,\n",
        " 'breadthof': 1,\n",
        " 'breadwith': 1,\n",
        " 'break': 5,\n",
        " 'breaking': 1,\n",
        " 'breakpurpose': 1,\n",
        " 'breaks': 2,\n",
        " 'breastin': 1,\n",
        " 'breath': 4,\n",
        " 'breathand': 2,\n",
        " 'breathe': 2,\n",
        " 'breathebut': 1,\n",
        " 'breathes': 1,\n",
        " 'breathewhat': 1,\n",
        " 'breathhere': 1,\n",
        " 'breathing': 1,\n",
        " 'breathno': 1,\n",
        " 'breathosrsirhorist': 1,\n",
        " 'breed': 1,\n",
        " 'breeder': 1,\n",
        " 'breedif': 1,\n",
        " 'brevity': 1,\n",
        " 'bridebed': 1,\n",
        " 'brief': 2,\n",
        " 'briefchronicles': 1,\n",
        " 'briefyour': 1,\n",
        " 'bring': 9,\n",
        " 'bringing': 1,\n",
        " 'brings': 1,\n",
        " 'bringthee': 1,\n",
        " 'broad': 2,\n",
        " 'brokeenter': 1,\n",
        " 'broken': 1,\n",
        " 'brokersnot': 1,\n",
        " 'brokewhen': 1,\n",
        " 'brooch': 1,\n",
        " 'broodand': 1,\n",
        " 'brook': 1,\n",
        " 'brookthat': 1,\n",
        " 'brothelor': 1,\n",
        " 'brother': 6,\n",
        " 'brotherdo': 1,\n",
        " 'brotherlaeri': 1,\n",
        " 'brotherqueenas': 1,\n",
        " 'brothers': 7,\n",
        " 'brotherscould': 1,\n",
        " 'brotherssee': 1,\n",
        " 'brought': 5,\n",
        " 'brow': 1,\n",
        " 'browhe': 1,\n",
        " 'browhyperions': 1,\n",
        " 'browof': 1,\n",
        " 'browsthe': 1,\n",
        " 'bruit': 1,\n",
        " 'brute': 1,\n",
        " 'brutuskilled': 1,\n",
        " 'bubbles': 1,\n",
        " 'budgeyou': 1,\n",
        " 'buffets': 1,\n",
        " 'bugs': 1,\n",
        " 'build': 1,\n",
        " 'builds': 2,\n",
        " 'built': 1,\n",
        " 'bulk': 1,\n",
        " 'bulkand': 1,\n",
        " 'bulwark': 1,\n",
        " 'bungholehortwere': 1,\n",
        " 'burdenpoli': 1,\n",
        " 'burial': 1,\n",
        " 'burial1': 2,\n",
        " 'buriallaermust': 1,\n",
        " 'burialno': 1,\n",
        " 'buried': 6,\n",
        " 'burnand': 1,\n",
        " 'burning': 2,\n",
        " 'burns': 2,\n",
        " 'burnt': 1,\n",
        " 'burst': 3,\n",
        " 'business': 9,\n",
        " 'businesshamsir': 1,\n",
        " 'businessmeantime': 1,\n",
        " 'busy': 1,\n",
        " 'but': 172,\n",
        " 'buttonhamnor': 1,\n",
        " 'buttons': 1,\n",
        " 'buybut': 1,\n",
        " 'buyer': 1,\n",
        " 'buzzers': 1,\n",
        " 'buzzpolupon': 1,\n",
        " 'by': 97,\n",
        " 'byandbyqueencome': 1,\n",
        " 'bypoli': 1,\n",
        " 'byr': 2,\n",
        " 'bythe': 1,\n",
        " 'bythey': 1,\n",
        " 'c': 1,\n",
        " 'c1': 1,\n",
        " 'cabinmy': 1,\n",
        " 'caesar': 2,\n",
        " 'cains': 1,\n",
        " 'calamity': 1,\n",
        " 'calendar': 1,\n",
        " 'calf': 1,\n",
        " 'calfskins': 1,\n",
        " 'call': 21,\n",
        " 'calldunhand': 1,\n",
        " 'called': 1,\n",
        " 'calls': 3,\n",
        " 'callt': 1,\n",
        " 'callthemthat': 1,\n",
        " 'calm': 2,\n",
        " 'calumnious': 1,\n",
        " 'calves': 1,\n",
        " 'came': 8,\n",
        " 'camel': 1,\n",
        " 'camelpolby': 1,\n",
        " 'can': 30,\n",
        " 'candied': 1,\n",
        " 'canker': 2,\n",
        " 'cannon': 4,\n",
        " 'cannonand': 1,\n",
        " 'cannoneer': 1,\n",
        " 'cannons': 1,\n",
        " 'cannot': 23,\n",
        " 'cannotchoose': 1,\n",
        " 'cannotguilwhat': 1,\n",
        " 'cannothami': 2,\n",
        " 'cannottell': 1,\n",
        " 'canon': 1,\n",
        " 'canonizd': 1,\n",
        " 'canopy': 1,\n",
        " 'cansing': 1,\n",
        " 'canst': 3,\n",
        " 'cantranslate': 1,\n",
        " 'cap': 2,\n",
        " 'capability': 1,\n",
        " 'capable': 1,\n",
        " 'capabledo': 1,\n",
        " 'capapeappears': 1,\n",
        " 'capital': 2,\n",
        " 'capitol': 1,\n",
        " 'capons': 1,\n",
        " 'captain': 1,\n",
        " 'captainenglish': 1,\n",
        " 'captainsbear': 1,\n",
        " 'carbuncles': 1,\n",
        " 'card': 2,\n",
        " 'carefully': 1,\n",
        " 'careless': 1,\n",
        " 'carnal': 1,\n",
        " 'carouses': 1,\n",
        " 'carp': 1,\n",
        " 'carpenter1': 1,\n",
        " 'carpenter2': 1,\n",
        " 'carriage': 1,\n",
        " 'carriages': 4,\n",
        " 'carriageshori': 1,\n",
        " 'carried': 1,\n",
        " 'carries': 1,\n",
        " 'carry': 2,\n",
        " 'cart': 1,\n",
        " 'carterskingwe': 1,\n",
        " 'case': 1,\n",
        " 'cases': 1,\n",
        " 'cast': 6,\n",
        " 'castleenter': 14,\n",
        " 'castlefrancisco': 1,\n",
        " 'casual': 1,\n",
        " 'cat': 1,\n",
        " 'cataplasm': 1,\n",
        " 'catch': 2,\n",
        " 'caught': 2,\n",
        " 'cause': 12,\n",
        " 'causeand': 2,\n",
        " 'causeof': 1,\n",
        " 'causethus': 1,\n",
        " 'causewhich': 1,\n",
        " 'cautel': 1,\n",
        " 'cautioni': 1,\n",
        " 'caviare': 1,\n",
        " 'cease': 2,\n",
        " 'celebratedthe': 1,\n",
        " 'celestial': 2,\n",
        " 'cellarageconsent': 1,\n",
        " 'cellthat': 1,\n",
        " 'censure': 4,\n",
        " 'centrekinghow': 1,\n",
        " 'cerements': 1,\n",
        " 'ceremony': 3,\n",
        " 'certain': 3,\n",
        " 'certainconvocation': 1,\n",
        " 'certainhamup': 1,\n",
        " 'certaintyof': 1,\n",
        " 'chalice': 1,\n",
        " 'challenger': 1,\n",
        " 'chamber': 1,\n",
        " 'chamberhamlet': 1,\n",
        " 'chamberlainhoratio': 1,\n",
        " 'chamberlord': 1,\n",
        " 'chameleons': 1,\n",
        " 'chamgood': 1,\n",
        " 'chance': 1,\n",
        " 'chances': 2,\n",
        " 'chancethat': 1,\n",
        " 'change': 2,\n",
        " 'changefor': 1,\n",
        " 'changeling': 1,\n",
        " 'changesand': 1,\n",
        " 'chanson': 1,\n",
        " 'chapel': 1,\n",
        " 'chapelhamdo': 1,\n",
        " 'chapfallen': 1,\n",
        " 'chapless': 1,\n",
        " 'character': 1,\n",
        " 'characternakedand': 1,\n",
        " 'charge': 4,\n",
        " 'chargeled': 1,\n",
        " 'chargesince': 1,\n",
        " 'chargethat': 1,\n",
        " 'chargeyou': 1,\n",
        " 'chariest': 1,\n",
        " 'charitable': 1,\n",
        " 'charitablethou': 1,\n",
        " 'charity': 1,\n",
        " 'charmso': 1,\n",
        " 'chase': 1,\n",
        " 'chaste': 3,\n",
        " 'chaunted': 1,\n",
        " 'checking': 1,\n",
        " 'cheek': 2,\n",
        " 'cheer': 3,\n",
        " 'cheerfully': 2,\n",
        " 'cherub': 1,\n",
        " 'chidethat': 1,\n",
        " 'chief': 3,\n",
        " 'chiefest': 1,\n",
        " 'chiefly': 1,\n",
        " 'child': 1,\n",
        " ...}"
       ]
      }
     ],
     "prompt_number": 53
    },
    {
     "cell_type": "code",
     "collapsed": false,
     "input": [
      "# \u2018Hamlet\u2019\uc5d0\uc11c \u2018hamlet\u2019\uc758 \uacbd\uc6b0\uc758 \uc218\ub97c print \ud55c\ub2e4.\n",
      "hamlet_count = dict( [ (i, hamlet.count(i)) for i in set(hamlet) if i=='hamlet' ] )\n",
      "print hamlet_count\n",
      "\n",
      "# \ud544\uc694\ud558\ub2e4\uba74 \ud30c\uc77c\uc744 \ub2eb\ub294\ub2e4."
     ],
     "language": "python",
     "metadata": {},
     "outputs": [
      {
       "output_type": "stream",
       "stream": "stdout",
       "text": [
        "{'hamlet': 51}\n"
       ]
      }
     ],
     "prompt_number": 54
    },
    {
     "cell_type": "heading",
     "level": 3,
     "metadata": {},
     "source": [
      "4.10.8 Writing your own functions"
     ]
    },
    {
     "cell_type": "raw",
     "metadata": {},
     "source": [
      "We are finally in the home stretch for the Python programming module. \uc0ac\uc6a9\uc790 \uc815\uc758 \ud568\uc218\ub294 \ud504\ub85c\uadf8\ub7a8\uc758 \ubcf5\uc7a1\ub3c4\ub97c \uc99d\uac00 \uc2dc\ud0a8\ub2e4. \ud568\uc218\ub294 \uc5b4\ub5a4 \uc785\ub825\uc744 \ubc1b\uc544\uc11c \ubb34\uc5b8\uac00\ub97c \ud558\uace0 \uc5b4\ub5a4 \uacb0\uacfc\ub97c \ub0b4\ub193\ub294 black box \uc774\ub2e4. \ud568\uc218\ub294 \uc138\ubd80 \uc0ac\ud56d\uc744 \uc228\uae30\uace0, getting bogged down \uc5c6\uc774 \uace0\ucc28\uc6d0\uc5d0\uc11c \ubb38\uc81c\ub97c \ud480\ub3c4\ub85d \ud55c\ub2e4. \ub2e4\uc74c\uc740 built-in \ub367\uc148 \ud568\uc218\uc758 \uc608\uc774\ub2e4."
     ]
    },
    {
     "cell_type": "code",
     "collapsed": false,
     "input": [
      "numbers = [1,6,23,8,1,2,90]\n",
      "\n",
      "sum(numbers)"
     ],
     "language": "python",
     "metadata": {},
     "outputs": [
      {
       "metadata": {},
       "output_type": "pyout",
       "prompt_number": 55,
       "text": [
        "131"
       ]
      }
     ],
     "prompt_number": 55
    },
    {
     "cell_type": "raw",
     "metadata": {},
     "source": [
      "built-in \ub367\uc148 \ud568\uc218\uc758 \uc0ac\uc6a9\uc740 \ud569\uc744 0\uc73c\ub85c \ucd08\uae30\ud654 \ud558\uace0 \ud569\uc758 \ubcc0\uc218\uc5d0 1\uc529 \ub354\ud558\ub294 \uc138\ubd80 \uc0ac\ud56d\uc740 \uc228\uae34\ub2e4. Python\uc740 \ub9ce\uc740 \uc720\uc6a9\ud55c built-in \ud568\uc218\uac00 \uc788\uc9c0\ub9cc \uc790\uc2e0\ub9cc\uc758 \ud568\uc218\ub97c \uc791\uc131\ud560 \ud544\uc694\uc131\uc774 \uc0dd\uae38 \uac83\uc774\ub2e4. \uc77c\ub828\uc758 \uc22b\uc790\uac00 \uc8fc\uc5b4\uc84c\uc744 \ub54c \uc22b\uc790\uc758 \ud569\uc774 \uc544\ub2cc product(\uacf1\uc148) \ud568\uc218\ub97c \uc791\uc131\ud558\ub294 \uc608\ub97c \ubcf4\uc790. examples/functions.py \ud504\ub85c\uadf8\ub7a8\uc5d0 \ud574\ub2f9 \ud568\uc218\ub97c \uc800\uc7a5\ud55c\ub2e4."
     ]
    },
    {
     "cell_type": "code",
     "collapsed": false,
     "input": [
      "%%writefile ../examples/functions.py\n",
      "def sum(xs):\n",
      "    \"\"\"Given a sequence of numbers, return the sum.\"\"\"\n",
      "    s=0\n",
      "    for x in xs:\n",
      "        s += x\n",
      "    return s\n",
      "\n",
      "def prod(xs):\n",
      "    \"\"\"Given a sequence of numbers, return the product.\"\"\"\n",
      "    s=1\n",
      "    for x in xs:\n",
      "        s *= x\n",
      "    return s"
     ],
     "language": "python",
     "metadata": {},
     "outputs": [
      {
       "output_type": "stream",
       "stream": "stdout",
       "text": [
        "Overwriting ../examples/functions.py\n"
       ]
      }
     ],
     "prompt_number": 56
    },
    {
     "cell_type": "raw",
     "metadata": {},
     "source": [
      "\uc804\ud615\uc801\uc778 \ud568\uc218 \ubaa8\uc591\uc740 \ub2e4\uc74c\uacfc \uac19\ub2e4."
     ]
    },
    {
     "cell_type": "raw",
     "metadata": {},
     "source": [
      "def function_name(function_arguments):\n",
      "   \"\"\"Optional string describing the function.\"\"\"\n",
      "   statements ...\n",
      "   return result"
     ]
    },
    {
     "cell_type": "heading",
     "level": 3,
     "metadata": {},
     "source": [
      "4.10.9 Mini-exercise"
     ]
    },
    {
     "cell_type": "raw",
     "metadata": {},
     "source": [
      "1. \ub9ac\uc2a4\ud2b8\uc5d0 \uc788\ub294 \uc22b\uc790\uc5d0 \ub300\ud55c \ub204\uc801 \ud569\uc744 \uad6c\ud558\ub294 \ud568\uc218\ub97c \uc791\uc131\ud558\uc790. \uc608\ub97c \ub4e4\uc5b4 [1, 2, 3, 4, 5]\ub77c\ub294 \ub9ac\uc2a4\ud2b8\uac00 \uc8fc\uc5b4\uc9c0\uba74, \ud568\uc218\uc5d0 \uc758\ud574 [1, 3, 6, 10, 15]\ub77c\ub294 \ub9ac\uc2a4\ud2b8\ub97c \ubc18\ud658\ud574\uc57c \ud55c\ub2e4."
     ]
    },
    {
     "cell_type": "code",
     "collapsed": false,
     "input": [
      "def cumsum1(list):\n",
      "    total = 0\n",
      "    for x in list:\n",
      "        total += x\n",
      "        yield total\n",
      "        \n",
      "list(cumsum1([1, 2, 3, 4, 5]))"
     ],
     "language": "python",
     "metadata": {},
     "outputs": [
      {
       "metadata": {},
       "output_type": "pyout",
       "prompt_number": 61,
       "text": [
        "[1, 3, 6, 10, 15]"
       ]
      }
     ],
     "prompt_number": 61
    },
    {
     "cell_type": "code",
     "collapsed": false,
     "input": [
      "a = [1, 2, 3, 4, 5]\n",
      "\n",
      "[sum(a[:i+1]) for i in xrange(len(a))]"
     ],
     "language": "python",
     "metadata": {},
     "outputs": [
      {
       "metadata": {},
       "output_type": "pyout",
       "prompt_number": 63,
       "text": [
        "[1, 3, 6, 10, 15]"
       ]
      }
     ],
     "prompt_number": 63
    },
    {
     "cell_type": "code",
     "collapsed": false,
     "input": [
      "import numpy as np\n",
      "a = [1, 2, 3, 4, 5]\n",
      "np.cumsum(a)"
     ],
     "language": "python",
     "metadata": {},
     "outputs": [
      {
       "metadata": {},
       "output_type": "pyout",
       "prompt_number": 62,
       "text": [
        "array([ 1,  3,  6, 10, 15])"
       ]
      }
     ],
     "prompt_number": 62
    },
    {
     "cell_type": "raw",
     "metadata": {},
     "source": [
      "2. \ucc98\uc74c n\ubc88\uc9f8\uc758 Fibonacci \uc22b\uc790\ub97c \uc0dd\uc131\ud558\ub294 fib \ud568\uc218\ub97c \uc0dd\uc120\ud55c\ub2e4. Fibonacci \uc22b\uc790\ub294 \ub2e4\uc74c \uc22b\uc790\uac00 \uc55e\uc758 \ub450 \uc22b\uc790\uc758 \ud569\uc778 [1,1,2,3,5,8,13,...]\uac00 \ub420 \uac83\uc774\ub2e4. \ub2e4\uc74c\uc740 \ud574\ub2f9 \ud568\uc218\uac00 \ubcf4\uc5ec\uc904 \uacb0\uacfc\uc758 \uc608\uc774\ub2e4.\n",
      "In [1]: fib(1) Out[1]: [1]\n",
      "In [2]: fib(2) Out[2]: [1, 1]\n",
      "In [3]: fib(3) Out[3]: [1, 1, 2]\n",
      "In [4]: fib(4) Out[4]: [1, 1, 2, 3]\n",
      "In [5]: fib(10)\n",
      "Out[5]: [1, 1, 2, 3, 5, 8, 13, 21, 34, 55]"
     ]
    },
    {
     "cell_type": "code",
     "collapsed": false,
     "input": [
      "def fib2(n):\n",
      "    result = []\n",
      "    a, b = 0, 1\n",
      "    #while b < n: # return Fibonacci series up to n\n",
      "    while len(result) < n: # return Fibonacci length up to n\n",
      "        result.append(b)\n",
      "        a, b = b, a+b\n",
      "    return result\n",
      "    \n",
      "print(fib2(10))"
     ],
     "language": "python",
     "metadata": {},
     "outputs": [
      {
       "output_type": "stream",
       "stream": "stdout",
       "text": [
        "[1, 1, 2, 3, 5, 8, 13, 21, 34, 55]\n"
       ]
      }
     ],
     "prompt_number": 69
    },
    {
     "cell_type": "heading",
     "level": 3,
     "metadata": {},
     "source": [
      "4.10.10 Importing a function from a file (module)"
     ]
    },
    {
     "cell_type": "raw",
     "metadata": {},
     "source": [
      "\uc774\uc81c \uc0ac\uc6a9\uc790\uac00 \uc791\uc131\ud55c prod \ud568\uc218 \ubaa8\ub4c8\uc744 import \ud568\uc73c\ub85c\uc368 built-in \ud568\uc218\ucc98\ub7fc \uc0ac\uc6a9 \uac00\ub2a5\ud558\ub2e4. functions.py\uc640 \uac19\uc740 \ub514\ub809\ud1a0\ub9ac\uc5d0 \uc5c6\ub2e4\uba74, \ubaa8\ub4c8\uc744 \ucc3e\ub294 \ub514\ub809\ud1a0\ub9ac\uc758 \ub9ac\uc2a4\ud2b8\ub97c \uc815\ubcf4\ub97c \uac00\uc9c0\uace0 \uc788\ub294 sys.path\uc5d0 \uc704\uce58\ub97c \ucd94\uac00\ud558\uc5ec \ucc3e\ub3c4\ub85d \ud55c\ub2e4.\n",
      "\uc608\ub97c \ub4e4\uc5b4 \ubcf8\uc778\uc758 mac \ud658\uacbd\uc5d0\uc11c\ub294 \ud130\ubbf8\ub110\uc5d0\uc11c vi ~/.profile\ub85c \ud658\uacbd\ubcc0\uc218 \uc124\uc815 \ud30c\uc77c\uc744 \uc5f4\uace0, \ud574\ub2f9 \ud568\uc218\ub97c \uc791\uc131\ud55c \ud3f4\ub354\ub85c python path\ub97c \ub2e4\uc74c\uacfc \uac19\uc774 \uc791\uc131\ud574 \uc8fc\uc5c8\ub2e4.\n",
      "export PYTHONPATH=/Users/kkkim/Documents/BioPython/examples:$PYTHONPATH\n",
      "\n",
      "\uad04\ud638\uc5d0 \ud568\uc218 \uc774\ub984 \ub2e4\uc74c \uac12\uc744 \uac00\uc9c4 \uad04\ud638\uc744 \ub123\uc74c\uc73c\ub85c\uc368 \ud568\uc218\ub97c \ud638\ucd9c\ud55c\ub2e4."
     ]
    },
    {
     "cell_type": "code",
     "collapsed": false,
     "input": [
      "import functions #\ubbf8\ub9ac \uc704\uc5d0 \ucf54\ub4dc\ub97c \ubcf5\uc0ac\ud558\uc5ec functions.py\ub97c \uc791\uc131\ud574 \ub193\uc73c\uc154\uc57c \ud569\ub2c8\ub2e4.\n",
      "\n",
      "xs = [1,2,3,4]\n",
      "\n",
      "s, p = functions.sum(xs), functions.prod(xs)"
     ],
     "language": "python",
     "metadata": {},
     "outputs": [],
     "prompt_number": 70
    },
    {
     "cell_type": "heading",
     "level": 3,
     "metadata": {},
     "source": [
      "4.10.11 Functions are first class objects"
     ]
    },
    {
     "cell_type": "raw",
     "metadata": {},
     "source": [
      "Python\uc5d0\uc11c \ud568\uc218\ub294 \ub2e4\ub978 \uac1d\uccb4\ucc98\ub7fc \uac04\uc8fc\ub41c\ub2e4. \uc989, \ud568\uc218\ub294 \ubcc0\uc218\uc5d0 \ud560\ub2f9\ub420 \uc218 \uc788\uace0, dictionary\uc758 \uac12\uc73c\ub85c \uc0ac\uc6a9\ud560 \uc218 \uc788\uace0, \ub2e4\ub978 \ud568\uc218\uc758 argument(\uc778\uc790)\ub85c \uc0ac\uc6a9 \uac00\ub2a5\ud558\ub2e4."
     ]
    },
    {
     "cell_type": "code",
     "collapsed": false,
     "input": [
      "foo = functions.sum"
     ],
     "language": "python",
     "metadata": {},
     "outputs": [],
     "prompt_number": 71
    },
    {
     "cell_type": "code",
     "collapsed": false,
     "input": [
      "foo([1,2,3])"
     ],
     "language": "python",
     "metadata": {},
     "outputs": [
      {
       "metadata": {},
       "output_type": "pyout",
       "prompt_number": 72,
       "text": [
        "6"
       ]
      }
     ],
     "prompt_number": 72
    },
    {
     "cell_type": "code",
     "collapsed": false,
     "input": [
      "func_dict = {'plus' : functions.sum, 'times' : functions.prod}"
     ],
     "language": "python",
     "metadata": {},
     "outputs": [],
     "prompt_number": 73
    },
    {
     "cell_type": "code",
     "collapsed": false,
     "input": [
      "xs = [1,2,3,4]"
     ],
     "language": "python",
     "metadata": {},
     "outputs": [],
     "prompt_number": 74
    },
    {
     "cell_type": "code",
     "collapsed": false,
     "input": [
      "func_dict['plus'](xs)"
     ],
     "language": "python",
     "metadata": {},
     "outputs": [
      {
       "metadata": {},
       "output_type": "pyout",
       "prompt_number": 75,
       "text": [
        "10"
       ]
      }
     ],
     "prompt_number": 75
    },
    {
     "cell_type": "code",
     "collapsed": false,
     "input": [
      "func_dict['times'](xs)"
     ],
     "language": "python",
     "metadata": {},
     "outputs": [
      {
       "metadata": {},
       "output_type": "pyout",
       "prompt_number": 76,
       "text": [
        "24"
       ]
      }
     ],
     "prompt_number": 76
    },
    {
     "cell_type": "raw",
     "metadata": {},
     "source": [
      "lamda\ub098 \uc775\uba85\uc758 \ud568\uc218\ub97c \uc0ac\uc6a9\ud568\uc73c\ub85c\uc368 \ud6e8\uc52c \ub354 terser\ud55c \uc9e7\uc740 \u201cthrowaway\u201d \ud568\uc218\ub97c \uc77c\ud68c\uc6a9\uc73c\ub85c \uc0ac\uc6a9 \uac00\ub2a5\ud558\ub2e4."
     ]
    },
    {
     "cell_type": "code",
     "collapsed": false,
     "input": [
      "f = lambda x: x*x"
     ],
     "language": "python",
     "metadata": {},
     "outputs": [],
     "prompt_number": 77
    },
    {
     "cell_type": "code",
     "collapsed": false,
     "input": [
      "f(3)"
     ],
     "language": "python",
     "metadata": {},
     "outputs": [
      {
       "metadata": {},
       "output_type": "pyout",
       "prompt_number": 78,
       "text": [
        "9"
       ]
      }
     ],
     "prompt_number": 78
    },
    {
     "cell_type": "raw",
     "metadata": {},
     "source": [
      "This use of lambda built-in is typically seen in the context of the  higher order functions (functions that take functions as arguments) map and filter."
     ]
    },
    {
     "cell_type": "code",
     "collapsed": false,
     "input": [
      "filter(lambda x: x % 2==0, range(10))"
     ],
     "language": "python",
     "metadata": {},
     "outputs": [
      {
       "metadata": {},
       "output_type": "pyout",
       "prompt_number": 79,
       "text": [
        "[0, 2, 4, 6, 8]"
       ]
      }
     ],
     "prompt_number": 79
    },
    {
     "cell_type": "code",
     "collapsed": false,
     "input": [
      "map(lambda x: x**2, range(5))"
     ],
     "language": "python",
     "metadata": {},
     "outputs": [
      {
       "metadata": {},
       "output_type": "pyout",
       "prompt_number": 80,
       "text": [
        "[0, 1, 4, 9, 16]"
       ]
      }
     ],
     "prompt_number": 80
    },
    {
     "cell_type": "raw",
     "metadata": {},
     "source": [
      "\uc77c\ubc18\uc801\uc73c\ub85c \ud30c\uc774\uc36c \ud504\ub85c\uadf8\ub798\uba38\ub294 \uc775\uba85\uc758 \ud568\uc218\ubcf4\ub2e4\ub294 \uc815\uc758\ub41c \ud568\uc218\ub97c \uc0ac\uc6a9\ud558\ub294 \uac83\uc744 \uc120\ud638\ud558\uace0, map\uc774\ub098 filter\ubcf4\ub2e4\ub294 \ub354 \uba85\ud655\ud558\uace0 \uc774\ud574\ud558\uae30 \uc26c\uc6b4 list comprehension\uc744 \uc0ac\uc6a9\ud55c\ub2e4. \uadf8\ub7ec\ub098 \ucc45\uc774\ub098 web\uc5d0\uc11c lamda, map, filter\ub97c \ub9cc\ub0a0 \uac83\uc774\ub2e4."
     ]
    },
    {
     "cell_type": "heading",
     "level": 3,
     "metadata": {},
     "source": [
      "4.10.12 Mini-Exercise (Unfinished)"
     ]
    },
    {
     "cell_type": "raw",
     "metadata": {},
     "source": [
      "1. \uc704 \uc608\uc81c\uc5d0\uc11c list comprehension\uc744 \uc0ac\uc6a9\ud558\uc5ec filter\uc640 map \uae30\ub2a5\uc744 \ub300\uccb4\ud558\ub77c."
     ]
    },
    {
     "cell_type": "code",
     "collapsed": false,
     "input": [
      "lists = []\n",
      "for x in range(10):\n",
      "    if (x % 2 == 0):\n",
      "        lists.append(x)\n",
      "    \n",
      "print lists"
     ],
     "language": "python",
     "metadata": {},
     "outputs": [
      {
       "output_type": "stream",
       "stream": "stdout",
       "text": [
        "[0, 2, 4, 6, 8]\n"
       ]
      }
     ],
     "prompt_number": 5
    },
    {
     "cell_type": "code",
     "collapsed": false,
     "input": [
      "lists = []\n",
      "for x in range(5):\n",
      "    lists.append(x**2)\n",
      "    \n",
      "print lists"
     ],
     "language": "python",
     "metadata": {},
     "outputs": [
      {
       "output_type": "stream",
       "stream": "stdout",
       "text": [
        "[0, 1, 4, 9, 16]\n"
       ]
      }
     ],
     "prompt_number": 6
    },
    {
     "cell_type": "raw",
     "metadata": {},
     "source": [
      "2. Rewrite f = lambda x: x**2 as a regular function also called f using def."
     ]
    },
    {
     "cell_type": "code",
     "collapsed": false,
     "input": [
      "def squre(n):\n",
      "    lists = []\n",
      "    for x in range(n):\n",
      "        lists.append(x**2)\n",
      "    return lists\n",
      "        \n",
      "squre(5)"
     ],
     "language": "python",
     "metadata": {},
     "outputs": [
      {
       "metadata": {},
       "output_type": "pyout",
       "prompt_number": 7,
       "text": [
        "[0, 1, 4, 9, 16]"
       ]
      }
     ],
     "prompt_number": 7
    },
    {
     "cell_type": "heading",
     "level": 3,
     "metadata": {},
     "source": [
      "4.10.13 Function arguments"
     ]
    },
    {
     "cell_type": "raw",
     "metadata": {},
     "source": [
      "\uc8fc\uc5b4\uc9c4 default \uac12 \ubfd0 \uc544\ub2c8\ub77c \ud558\ub098 \uc774\uc0c1\uc758 \uc778\uc790\ub97c \uac00\uc9c0\uace0 \ud568\uc218\ub97c \uc815\uc758\ud560 \uc218 \uc788\uc74c. \ub610\ud55c, \ud568\uc218\ub97c \ud638\ucd9c\ud560 \ub54c \uc704\uce58\uc640 \uc774\ub984\uc73c\ub85c \uc778\uc790\ub97c \uc81c\uacf5\ud560 \uc218 \uc788\ub2e4. default \uac12\uc744 \uac00\uc9c4 \uc778\uc790\ub4e4\uc740 \ud568\uc218\ub97c \ud638\ucd9c\ud560 \ub54c \uc81c\uacf5\ub420 \ud544\uc694\uac00 \uc5c6\uc9c0\ub9cc, \uac12\uc774 \uc8fc\uc5b4\uc9c0\uba74 default \uac12\uc744 \ub36e\uc5b4\uc4f4\ub2e4."
     ]
    },
    {
     "cell_type": "code",
     "collapsed": false,
     "input": [
      "def f(a, b, c=3, d=100):\n",
      "    print a, b, c, d"
     ],
     "language": "python",
     "metadata": {},
     "outputs": [],
     "prompt_number": 81
    },
    {
     "cell_type": "code",
     "collapsed": false,
     "input": [
      "f(1,2) #\uc55e\uc5d0 \ub450 \ubcc0\uc218\ub294 \uc785\ub825\ub41c \uac12\uc5d0 \uc758\ud574, \ub4a4\uc5d0 \ub450 \ubcc0\uc218 \uac12\uc740 \uae30\uc874\uc5d0 \uc788\ub358 default \uac12\uc744 print"
     ],
     "language": "python",
     "metadata": {},
     "outputs": [
      {
       "output_type": "stream",
       "stream": "stdout",
       "text": [
        "1 2 3 100\n"
       ]
      }
     ],
     "prompt_number": 82
    },
    {
     "cell_type": "code",
     "collapsed": false,
     "input": [
      "f(1,2,3,4) #\uc21c\uc11c\ub300\ub85c \ubcc0\uc218 4\uac1c \ubaa8\ub450 \uc785\ub825\ub41c \uac12\uc744 \ubc1b\uc74c"
     ],
     "language": "python",
     "metadata": {},
     "outputs": [
      {
       "output_type": "stream",
       "stream": "stdout",
       "text": [
        "1 2 3 4\n"
       ]
      }
     ],
     "prompt_number": 83
    },
    {
     "cell_type": "code",
     "collapsed": false,
     "input": [
      "f(d=1, c=2, b=3, a=4) #\ubcc0\uc218 \uc774\ub984\uc744 \uc9c0\uc815\ud574 \uc8fc\uba74 \uc21c\uc11c\ub97c \ubc14\uafc0 \uc218 \uc788\uc74c"
     ],
     "language": "python",
     "metadata": {},
     "outputs": [
      {
       "output_type": "stream",
       "stream": "stdout",
       "text": [
        "4 3 2 1\n"
       ]
      }
     ],
     "prompt_number": 84
    },
    {
     "cell_type": "raw",
     "metadata": {},
     "source": [
      "\uc8fc\uc758: Warning: When you assign a list\ub098 dictionary\uc5d0 \uc8fc\uc5b4\uc9c4 argument(\uc778\uc790)\uc5d0 default \uac12\uc744 \ud560\ub2f9\ud560 \ub54c, list\ub294 \ud568\uc218\uac00 \uc120\uc5b8\ub428\uacfc \ub3d9\uc2dc\uc5d0 \uc0dd\uc131\ub418\uace0, \ub36e\uc5b4 \uc4f0\uc774\uc9c0 \uc54a\ub294\ud55c subsequent \ud568\uc218 \ud638\ucd9c\uc744 \uc720\uc9c0\ud55c\ub2e4. default list\uac00 \uc9c0\uc18d\ub418\uae30\ub97c \uc6d0\ud558\uc9c0 \uc54a\ub294 \uacbd\uc6b0\uc5d0\ub294 \ud574\ub2f9 \uc778\uc790\ub97c default\ub97c None\uc73c\ub85c \uc124\uc815\ud55c \ud6c4, \ud560\ub2f9\uc774 \ub418\uc9c0 \uc54a\uc740\uc9c0 \ud655\uc778 \ud6c4\uc5d0 \ud568\uc218\uc5d0\uc11c \ube48 list\ub97c \uc124\uc815\ud55c\ub2e4. \ub2e4\uc74c \uc608\ub97c \ubcf4\uc790."
     ]
    },
    {
     "cell_type": "code",
     "collapsed": false,
     "input": [
      "# we set b to have a default of an empty list\n",
      "def f(a, b=[]):\n",
      "    b.append(a)\n",
      "    print a, b"
     ],
     "language": "python",
     "metadata": {},
     "outputs": [],
     "prompt_number": 85
    },
    {
     "cell_type": "code",
     "collapsed": false,
     "input": [
      "# but the behavior is rather counter-intuitive\n",
      "f(2)"
     ],
     "language": "python",
     "metadata": {},
     "outputs": [
      {
       "output_type": "stream",
       "stream": "stdout",
       "text": [
        "2 [2]\n"
       ]
      }
     ],
     "prompt_number": 86
    },
    {
     "cell_type": "code",
     "collapsed": false,
     "input": [
      "f(3)"
     ],
     "language": "python",
     "metadata": {},
     "outputs": [
      {
       "output_type": "stream",
       "stream": "stdout",
       "text": [
        "3 [2, 3]\n"
       ]
      }
     ],
     "prompt_number": 87
    },
    {
     "cell_type": "code",
     "collapsed": false,
     "input": [
      "# if we over-write the default argument, everything is OK\n",
      "f(3, [1,2])"
     ],
     "language": "python",
     "metadata": {},
     "outputs": [
      {
       "output_type": "stream",
       "stream": "stdout",
       "text": [
        "3 [1, 2, 3]\n"
       ]
      }
     ],
     "prompt_number": 88
    },
    {
     "cell_type": "code",
     "collapsed": false,
     "input": [
      "# this is the way to get the non-persistent behavior\n",
      "def f(a, b=None):\n",
      "    if b is None:\n",
      "        b = []\n",
      "    b.append(a)\n",
      "    print a, b"
     ],
     "language": "python",
     "metadata": {},
     "outputs": [],
     "prompt_number": 89
    },
    {
     "cell_type": "code",
     "collapsed": false,
     "input": [
      "f(2)"
     ],
     "language": "python",
     "metadata": {},
     "outputs": [
      {
       "output_type": "stream",
       "stream": "stdout",
       "text": [
        "2 [2]\n"
       ]
      }
     ],
     "prompt_number": 90
    },
    {
     "cell_type": "code",
     "collapsed": false,
     "input": [
      "f(3)"
     ],
     "language": "python",
     "metadata": {},
     "outputs": [
      {
       "output_type": "stream",
       "stream": "stdout",
       "text": [
        "3 [3]\n"
       ]
      }
     ],
     "prompt_number": 91
    },
    {
     "cell_type": "heading",
     "level": 3,
     "metadata": {},
     "source": [
      "4.10.14 Exercise"
     ]
    },
    {
     "cell_type": "raw",
     "metadata": {},
     "source": [
      "1. string\uc5d0\uc11c \uae38\uc774\uac00 k\uc778 palindromic sequence\ub97c \ucc3e\ub294 \ud568\uc218\ub97c \uc791\uc131\ud558\uace0, \uadf8 \uae38\uc774\uac00 9\uc778 \ubaa8\ub4e0 \uc11c\uc5f4\uc744 \ucc3e\uc544 examples folder\uc758 sequence1.txt \uc5d0 \uc800\uc7a5\ud55c\ub2e4. \ud568\uc218\ub294 string\uacfc palindrome \uae38\uc774\uc778 k 2\uac1c\uc758 \uc778\uc790\ub97c \ubc1b\ub294\ub2e4.\n",
      "\n",
      "2. \ub2e4\uc74c\uacfc \uac19\uc774 \uc2e4\ud589\ub418\ub294 \uc5b4\ub9b0\uc774 \ucd94\uce21 \uac8c\uc784 \ud504\ub85c\uadf8\ub7a8\uc744 \uc791\uc131\ud558\uc790.\n",
      "\n",
      "eris:examples cliburn$ python guessing.py\n",
      "I\u2019m thinking of a number between 1 and 100. Guess what it is! Guess a number: 50\n",
      "Too small\n",
      "Guess a number: 75\n",
      "Too large\n",
      "Guess a number: 63\n",
      "Too large\n",
      "Guess a number: 56\n",
      "Too small\n",
      "Guess a number: 60\n",
      "Too large\n",
      "Guess a number: 58\n",
      "You\u2019ve guessed it! The number is 58\n",
      "\n",
      "The first 5 lines of the program look like this:\n",
      "\n",
      "import random\n",
      "number = random.randint(1, 101)\n",
      "guess = None\n",
      "print \"I\u2019m thinking of a number between 1 and 100. Guess what it is!\"\n",
      "while guess != number:\n",
      "  YOUR CODE HERE\n"
     ]
    },
    {
     "cell_type": "code",
     "collapsed": false,
     "input": [
      "%%writefile guessing.py\n",
      "import random\n",
      "number = random.randint(1, 101)\n",
      "print \"I'm thinking of a number between 1 and 100. Guess what it is!\"\n",
      "guess = None\n",
      "\n",
      "while guess != number:\n",
      "    guess = raw_input(\"Guess a number: \")\n",
      "    guess = int(guess)\n",
      "\n",
      "    if guess < number:\n",
      "        print('Too small')\n",
      "\n",
      "    if guess > number:\n",
      "        print('Too large')\n",
      "\n",
      "    if guess == number:\n",
      "        break\n",
      "\n",
      "if guess == number:\n",
      "    guess = str(guess)\n",
      "    print(\"You've guessed it! The number is \" + guess)"
     ],
     "language": "python",
     "metadata": {},
     "outputs": [
      {
       "output_type": "stream",
       "stream": "stdout",
       "text": [
        "Overwriting guessing.py\n"
       ]
      }
     ],
     "prompt_number": 13
    },
    {
     "cell_type": "code",
     "collapsed": false,
     "input": [
      "%run guessing.py"
     ],
     "language": "python",
     "metadata": {},
     "outputs": [
      {
       "output_type": "stream",
       "stream": "stdout",
       "text": [
        "I'm thinking of a number between 1 and 100. Guess what it is!\n"
       ]
      },
      {
       "name": "stdout",
       "output_type": "stream",
       "stream": "stdout",
       "text": [
        "Guess a number: 50\n"
       ]
      },
      {
       "output_type": "stream",
       "stream": "stdout",
       "text": [
        "Too small\n"
       ]
      },
      {
       "name": "stdout",
       "output_type": "stream",
       "stream": "stdout",
       "text": [
        "Guess a number: 70\n"
       ]
      },
      {
       "output_type": "stream",
       "stream": "stdout",
       "text": [
        "Too small\n"
       ]
      },
      {
       "name": "stdout",
       "output_type": "stream",
       "stream": "stdout",
       "text": [
        "Guess a number: 90\n"
       ]
      },
      {
       "output_type": "stream",
       "stream": "stdout",
       "text": [
        "You've guessed it! The number is 90\n"
       ]
      }
     ],
     "prompt_number": 14
    },
    {
     "cell_type": "code",
     "collapsed": false,
     "input": [],
     "language": "python",
     "metadata": {},
     "outputs": []
    }
   ],
   "metadata": {}
  }
 ]
}