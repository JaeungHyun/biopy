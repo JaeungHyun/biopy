{
 "metadata": {
  "name": "",
  "signature": "sha256:f262d03f3afbe1755e0101fa936d4d5d678448bef2c0d3953347fe46ca772bc8"
 },
 "nbformat": 3,
 "nbformat_minor": 0,
 "worksheets": [
  {
   "cells": [
    {
     "cell_type": "heading",
     "level": 1,
     "metadata": {},
     "source": [
      "Chapter 5. Searching Data"
     ]
    },
    {
     "cell_type": "heading",
     "level": 3,
     "metadata": {},
     "source": [
      "5.1 In this chapter you will learn                                                                               - How to convert an RNA sequence into a protein sequence\n",
      "    - How to use dictionaries to store and search your data\n",
      "    - How to search through a list of data"
     ]
    },
    {
     "cell_type": "heading",
     "level": 3,
     "metadata": {},
     "source": [
      "5.2 STORY: TRANSLATING AN RNA SEQUENCE INTO THE CORRESPONDING PROTEIN SEQUENCE"
     ]
    },
    {
     "cell_type": "code",
     "collapsed": false,
     "input": [
      "# How to convert an RNA sequence into a protein sequence\n",
      "\n",
      "genetic_code = [('GCU', 'A'), ('GCC', 'A'), ('GCG', 'A'), ('CGU', 'R'),\n",
      "                ('CGC', 'R'), ('CGA', 'R'), ('CGG', 'R'), ('AGA', 'R'),\n",
      "                ('UCU', 'S'), ('UCC', 'S'), ('UCA', 'S'), ('UCG', 'S'),\n",
      "                ('AGU', 'S'), ('AGC', 'S'), ('AUU', 'I'), ('AUA', 'I')....]\n",
      "for codon, amino_acid in genetic_code:\n",
      "    if codon == triplet: \n",
      "        seq = seq + amino_acid"
     ],
     "language": "python",
     "metadata": {},
     "outputs": []
    },
    {
     "cell_type": "code",
     "collapsed": false,
     "input": [
      "import Bio\n",
      "from Bio.Seq import Seq\n",
      "\n",
      "AA = Seq('''ugggaccagucagcagaggcagcgugugugcgcgugcgugugcgugugugugcgugugug\n",
      "uguguacgcuugcauuugugucggguggguaaggagauagagaugggcgggcaguaggcc\n",
      "caggucccgaaggccuugaacccacugguuuggagucuccuaagggcaaugggggccauu\n",
      "gagaagucugaacagggcugugucugaaugugaggucuagaaggauccuccagagaagcc\n",
      "agcucuaaagcuuuugcaaucaucuggugagagaacccagcaaggauggacaggcagaau\n",
      "ggaauagagaugaguuggcagcugaaguggacaggauuugguacuagccugguugugggg\n",
      "agcaagcagaggagaaucugggacucugguggucuggccuggggcagacgggggugucuc\n",
      "aggggcugggagggaugagaguaggaugauacaugguggugucuggcaggaggcgggcaa\n",
      "ggaugacuaugugaaggcacugcccgggcaacugaagccuuuugagacccugcuguccca\n",
      "gaaccagggaggcaagaccuucauugugggagaccaggugagcaucuggcc''')\n",
      "\n",
      "print(AA)"
     ],
     "language": "python",
     "metadata": {},
     "outputs": [
      {
       "output_type": "stream",
       "stream": "stdout",
       "text": [
        "ugggaccagucagcagaggcagcgugugugcgcgugcgugugcgugugugugcgugugug\n",
        "uguguacgcuugcauuugugucggguggguaaggagauagagaugggcgggcaguaggcc\n",
        "caggucccgaaggccuugaacccacugguuuggagucuccuaagggcaaugggggccauu\n",
        "gagaagucugaacagggcugugucugaaugugaggucuagaaggauccuccagagaagcc\n",
        "agcucuaaagcuuuugcaaucaucuggugagagaacccagcaaggauggacaggcagaau\n",
        "ggaauagagaugaguuggcagcugaaguggacaggauuugguacuagccugguugugggg\n",
        "agcaagcagaggagaaucugggacucugguggucuggccuggggcagacgggggugucuc\n",
        "aggggcugggagggaugagaguaggaugauacaugguggugucuggcaggaggcgggcaa\n",
        "ggaugacuaugugaaggcacugcccgggcaacugaagccuuuugagacccugcuguccca\n",
        "gaaccagggaggcaagaccuucauugugggagaccaggugagcaucuggcc\n"
       ]
      }
     ],
     "prompt_number": 39
    },
    {
     "cell_type": "code",
     "collapsed": false,
     "input": [
      "BB = AA.upper()\n",
      "print(BB)"
     ],
     "language": "python",
     "metadata": {},
     "outputs": [
      {
       "output_type": "stream",
       "stream": "stdout",
       "text": [
        "UGGGACCAGUCAGCAGAGGCAGCGUGUGUGCGCGUGCGUGUGCGUGUGUGUGCGUGUGUG\n",
        "UGUGUACGCUUGCAUUUGUGUCGGGUGGGUAAGGAGAUAGAGAUGGGCGGGCAGUAGGCC\n",
        "CAGGUCCCGAAGGCCUUGAACCCACUGGUUUGGAGUCUCCUAAGGGCAAUGGGGGCCAUU\n",
        "GAGAAGUCUGAACAGGGCUGUGUCUGAAUGUGAGGUCUAGAAGGAUCCUCCAGAGAAGCC\n",
        "AGCUCUAAAGCUUUUGCAAUCAUCUGGUGAGAGAACCCAGCAAGGAUGGACAGGCAGAAU\n",
        "GGAAUAGAGAUGAGUUGGCAGCUGAAGUGGACAGGAUUUGGUACUAGCCUGGUUGUGGGG\n",
        "AGCAAGCAGAGGAGAAUCUGGGACUCUGGUGGUCUGGCCUGGGGCAGACGGGGGUGUCUC\n",
        "AGGGGCUGGGAGGGAUGAGAGUAGGAUGAUACAUGGUGGUGUCUGGCAGGAGGCGGGCAA\n",
        "GGAUGACUAUGUGAAGGCACUGCCCGGGCAACUGAAGCCUUUUGAGACCCUGCUGUCCCA\n",
        "GAACCAGGGAGGCAAGACCUUCAUUGUGGGAGACCAGGUGAGCAUCUGGCC\n"
       ]
      }
     ],
     "prompt_number": 42
    },
    {
     "cell_type": "code",
     "collapsed": false,
     "input": [
      "len(BB)"
     ],
     "language": "python",
     "metadata": {},
     "outputs": [
      {
       "metadata": {},
       "output_type": "pyout",
       "prompt_number": 67,
       "text": [
        "600"
       ]
      }
     ],
     "prompt_number": 67
    },
    {
     "cell_type": "code",
     "collapsed": false,
     "input": [
      "ls"
     ],
     "language": "python",
     "metadata": {},
     "outputs": [
      {
       "output_type": "stream",
       "stream": "stdout",
       "text": [
        " C \ub4dc\ub77c\uc774\ube0c\uc758 \ubcfc\ub968\uc5d0\ub294 \uc774\ub984\uc774 \uc5c6\uc2b5\ub2c8\ub2e4.\n",
        " \ubcfc\ub968 \uc77c\ub828 \ubc88\ud638: 76C7-E8D1\n",
        "\n",
        " C:\\Users\\Seulji\\Documents \ub514\ub809\ud130\ub9ac\n",
        "\n",
        "2014-08-04  \uc624\ud6c4 08:18    <DIR>          .\n",
        "2014-08-04  \uc624\ud6c4 08:18    <DIR>          ..\n",
        "2014-06-11  \uc624\uc804 10:52    <DIR>          0.Seulji Chang\n",
        "2014-08-04  \uc624\ud6c4 08:49               611 A06662-RNA.fasta\n",
        "2014-01-24  \uc624\ud6c4 01:07    <DIR>          Add-in Express\n",
        "2014-01-13  \uc624\ud6c4 04:05    <DIR>          OneNote \uc804\uc790 \ud544\uae30\uc7a5\n",
        "2014-08-04  \uc624\ud6c4 08:48             8,912 Python 20140812.ipynb\n",
        "2014-01-12  \uc624\ud6c4 08:19    <DIR>          R\n",
        "2014-07-30  \uc624\ud6c4 12:38    <DIR>          USB backup\n",
        "2014-06-05  \uc624\ud6c4 08:14    <DIR>          Warnings at Waverly Academy\n",
        "2014-01-21  \uc624\ud6c4 05:37    <DIR>          \uc0ac\uc6a9\uc790 \uc9c0\uc815 Office \uc11c\uc2dd \ud30c\uc77c\n",
        "2014-01-12  \uc624\ud6c4 04:27    <DIR>          \uce74\uce74\uc624\ud1a1 \ubc1b\uc740 \ud30c\uc77c\n",
        "               2\uac1c \ud30c\uc77c               9,523 \ubc14\uc774\ud2b8\n",
        "              10\uac1c \ub514\ub809\ud130\ub9ac  403,061,436,416 \ubc14\uc774\ud2b8 \ub0a8\uc74c\n"
       ]
      }
     ],
     "prompt_number": 45
    },
    {
     "cell_type": "code",
     "collapsed": false,
     "input": [
      "# How to use dictionaries to store and search your data\n",
      "codon_table = {\n",
      "    'GCU':'A', 'GCC':'A', 'GCA':'A', 'GCG':'A', 'CGU':'R', 'CGC':'R',   \n",
      "    'CGA':'R', 'CGG':'R', 'AGA':'R', 'AGG':'R', 'UCU':'S', 'UCC':'S',\n",
      "    'UCA':'S', 'UCG':'S', 'AGU':'S', 'AGC':'S', 'AUU':'I', 'AUC':'I',\n",
      "    'AUA':'I', 'UUA':'L', 'UUG':'L', 'CUU':'L', 'CUC':'L', 'CUA':'L',\n",
      "    'CUG':'L', 'GGU':'G', 'GGC':'G', 'GGA':'G', 'GGG':'G', 'GUU':'V',\n",
      "    'GUC':'V', 'GUA':'V', 'GUG':'V', 'ACU':'T', 'ACC':'T', 'ACA':'T',\n",
      "    'ACG':'T', 'CCU':'P', 'CCC':'P', 'CCA':'P', 'CCG':'P', 'AAU':'N',\n",
      "    'AAC':'N', 'GAU':'D', 'GAC':'D', 'UGU':'C', 'UGC':'C', 'CAA':'Q',\n",
      "    'CAG':'Q', 'GAA':'E', 'GAG':'E', 'CAU':'H', 'CAC':'H', 'AAA':'K',\n",
      "    'AAG':'K', 'UUU':'F', 'UUC':'F', 'UAU':'Y', 'UAC':'Y', 'AUG':'M',\n",
      "    'UGG':'W',\n",
      "    'UAG':'STOP', 'UGA':'STOP', 'UAA':'STOP'\n",
      "    }\n",
      "\n",
      "rna=''\n",
      "for line in open('A06662-RNA.fasta'):\n",
      "    if not line.startswith('>'):\n",
      "        rna = rna + line.strip()\n"
     ],
     "language": "python",
     "metadata": {},
     "outputs": [],
     "prompt_number": 33
    },
    {
     "cell_type": "code",
     "collapsed": false,
     "input": [
      "# translate on frame at a time\n",
      "for frame in range(3):\n",
      "    prot=''\n",
      "    print'Reading frame' + str(frame +1)\n",
      "    for i in range(frame, len(rna),3):\n",
      "        codon = rna[i:i + 3]\n",
      "        if codon in codon_table:\n",
      "            if codon_table[codon] == 'STOP':\n",
      "                prot = prot + '*'\n",
      "            else:\n",
      "                prot = prot + codon_table[codon]\n",
      "        else: \n",
      "            # handle too shor codons\n",
      "            prot = prot + '-'\n",
      "                    "
     ],
     "language": "python",
     "metadata": {},
     "outputs": [
      {
       "output_type": "stream",
       "stream": "stdout",
       "text": [
        "Reading frame1\n",
        "Reading frame2\n",
        "Reading frame3\n"
       ]
      }
     ],
     "prompt_number": 52
    },
    {
     "cell_type": "code",
     "collapsed": false,
     "input": [
      "# format to blocks of 48 columns\n",
      "i = 0\n",
      "while i < len(prot):\n",
      "    print prot[i:i + 48]\n",
      "    i=i+48"
     ],
     "language": "python",
     "metadata": {},
     "outputs": [
      {
       "output_type": "stream",
       "stream": "stdout",
       "text": [
        "GPVSRGSVCARACACVCVCVCTLAFVSGG*GDRDGRAVGPGPEGLEPT\n",
        "GLESPKGNGGH*EV*TGLCLNVRSRRILQRSQL*SFCNHLVREPSKDG\n",
        "QAEWNRDELAAEVDRIWY*PGCGEQAEENLGLWWSGLGQTGVSQGLGG\n",
        "MRVG*YMVVSGRRRARMTM*RHCPGN*SLLRPCCPRTREARPSLWETR\n",
        "*ASG-\n"
       ]
      }
     ],
     "prompt_number": 53
    },
    {
     "cell_type": "code",
     "collapsed": false,
     "input": [
      "print prot[0:48]\n",
      "print prot[48:96]\n",
      "print prot[96:144]\n",
      "print prot[144:192]"
     ],
     "language": "python",
     "metadata": {},
     "outputs": [
      {
       "output_type": "stream",
       "stream": "stdout",
       "text": [
        "GPVSRGSVCARACACVCVCVCTLAFVSGG*GDRDGRAVGPGPEGLEPT\n",
        "GLESPKGNGGH*EV*TGLCLNVRSRRILQRSQL*SFCNHLVREPSKDG\n",
        "QAEWNRDELAAEVDRIWY*PGCGEQAEENLGLWWSGLGQTGVSQGLGG\n",
        "MRVG*YMVVSGRRRARMTM*RHCPGN*SLLRPCCPRTREARPSLWETR\n"
       ]
      }
     ],
     "prompt_number": 73
    },
    {
     "cell_type": "code",
     "collapsed": false,
     "input": [
      "# True and False BOOLEAN VALUES:\n",
      "# If or while statement are executed only if the statement returned value is True. \n",
      "\n",
      "n=0\n",
      "while n < 4:\n",
      "    n = n + 1 \n",
      "    print n"
     ],
     "language": "python",
     "metadata": {},
     "outputs": [
      {
       "output_type": "stream",
       "stream": "stdout",
       "text": [
        "1\n",
        "2\n",
        "3\n",
        "4\n"
       ]
      }
     ],
     "prompt_number": 80
    },
    {
     "cell_type": "heading",
     "level": 3,
     "metadata": {},
     "source": [
      "5.3 WHAT DO THE COMMANDS MEAN?"
     ]
    },
    {
     "cell_type": "code",
     "collapsed": false,
     "input": [
      "# Dictionaries\n",
      "# key:value paires {'GCU': 'A', 'GCC':'A'}\n",
      "# key objects are numbers, strings, tuples.\n",
      "\n",
      "print codon_table['GCU']"
     ],
     "language": "python",
     "metadata": {},
     "outputs": [
      {
       "output_type": "stream",
       "stream": "stdout",
       "text": [
        "A\n"
       ]
      }
     ],
     "prompt_number": 7
    },
    {
     "cell_type": "code",
     "collapsed": false,
     "input": [
      "# Other examples of dictionaries_1\n",
      "\n",
      "UniprotAC_Organism = {\n",
      "       'P034388':'D.melanogaster',\n",
      "       'O42785' : 'C.trifolii',\n",
      "       'P01119' : 'S.cerevisiae'\n",
      "}\n",
      "\n",
      "print UniprotAC_Organism['P01119']"
     ],
     "language": "python",
     "metadata": {},
     "outputs": [
      {
       "output_type": "stream",
       "stream": "stdout",
       "text": [
        "S.cerevisiae\n"
       ]
      }
     ],
     "prompt_number": 12
    },
    {
     "cell_type": "code",
     "collapsed": false,
     "input": [
      "# Other examples of dictionaries_numbers\n",
      "\n",
      "propensities = { \n",
      "  'N':0.2299, 'P':0.5523, 'Q': -0.1877, 'A':-0.2615, 'R':-0.1766,\n",
      "  'S': 0.1429, 'C':-0.01515, 'T':0.0089, 'D':0.2276, 'E':-0.2047,\n",
      "  'V':-0.3862, 'F':-0.2256, 'W':-0.2434, 'G':0.4332, 'H':-0.0012,\n",
      "  'Y':-0.2075, 'I':-0.4222, 'K':-0.100092, 'L':0.33793, 'M': -0.22590}\n",
      "\n",
      "print propensities['C']"
     ],
     "language": "python",
     "metadata": {},
     "outputs": [
      {
       "output_type": "stream",
       "stream": "stdout",
       "text": [
        "-0.01515\n"
       ]
      }
     ],
     "prompt_number": 13
    },
    {
     "cell_type": "code",
     "collapsed": false,
     "input": [
      "# Other examples of dictionaries_tuples\n",
      "\n",
      "aa_properties = {\n",
      "  ('A','C','G','I','L','M','P','V') : 'hydrophobic', \n",
      "  ('N','S','Q','T'): 'hydrophilic',\n",
      "  ('H','K','R'): 'pos_charged',\n",
      "  ('D','E',): 'neg_charged',\n",
      "  ('F','W','Y'): 'aromatic'}\n",
      "\n",
      "print aa_properties['F','W','Y']"
     ],
     "language": "python",
     "metadata": {},
     "outputs": [
      {
       "output_type": "stream",
       "stream": "stdout",
       "text": [
        "aromatic\n"
       ]
      }
     ],
     "prompt_number": 17
    },
    {
     "cell_type": "code",
     "collapsed": false,
     "input": [
      "# Create an empty dictionary\n",
      "\n",
      "codon_table = {}\n",
      "codon_table ['GCU']='A'\n",
      "codon_table ['CGA']='R'\n",
      "codon_table"
     ],
     "language": "python",
     "metadata": {},
     "outputs": [
      {
       "metadata": {},
       "output_type": "pyout",
       "prompt_number": 22,
       "text": [
        "{'CGA': 'R', 'GCU': 'A'}"
       ]
      }
     ],
     "prompt_number": 22
    },
    {
     "cell_type": "code",
     "collapsed": false,
     "input": [
      "codon_table = {}\n",
      "codon_table ['GCU']='A'\n",
      "codon_table ['CGA']='R'\n",
      "del codon_table['GCU']\n",
      "codon_table"
     ],
     "language": "python",
     "metadata": {},
     "outputs": [
      {
       "metadata": {},
       "output_type": "pyout",
       "prompt_number": 30,
       "text": [
        "{'CGA': 'R'}"
       ]
      }
     ],
     "prompt_number": 30
    },
    {
     "cell_type": "code",
     "collapsed": false,
     "input": [
      "codon_table = {'UUU':'F', 'UUC':'F', 'UUA':'L', 'UUG':'L',\n",
      "    'UCU':'S', 'UCC':'s', 'UCA':'S', 'UCG':'S',\n",
      "    'UAU':'Y', 'UAC':'Y', 'UAA':'STOP', 'UAG':'STOP',\n",
      "    'UGU':'C', 'UGC':'C', 'UGA':'STOP', 'UGG':'W',\n",
      "    'CUU':'L', 'CUC':'L', 'CUA':'L', 'CUG':'L',\n",
      "    'CCU':'P', 'CCC':'P', 'CCA':'P', 'CCG':'P',\n",
      "    'CAU':'H', 'CAC':'H', 'CAA':'Q', 'CAG':'Q',\n",
      "    'CGU':'R', 'CGC':'R', 'CGA':'R', 'CGG':'R',\n",
      "    'AUU':'I', 'AUC':'I', 'AUA':'I', 'AUG':'M',\n",
      "    'ACU':'T', 'ACC':'T', 'ACA':'T', 'ACG':'T',\n",
      "    'AAU':'N', 'AAC':'N', 'AAA':'K', 'AAG':'K',\n",
      "    'AGU':'S', 'AGC':'S', 'AGA':'R', 'AGG':'R',\n",
      "    'GUU':'V', 'GUC':'V', 'GUA':'V', 'GUG':'V',\n",
      "    'GCU':'A', 'GCC':'A', 'GCA':'A', 'GCG':'A',\n",
      "    'GAU':'D', 'GAC':'D', 'GAA':'E', 'GAG':'E',\n",
      "    'GGU':'G', 'GGC':'G', 'GGA':'G', 'GGG':'G'}\n",
      "\n",
      "codon_table.keys()"
     ],
     "language": "python",
     "metadata": {},
     "outputs": [
      {
       "metadata": {},
       "output_type": "pyout",
       "prompt_number": 32,
       "text": [
        "64"
       ]
      }
     ],
     "prompt_number": 32
    },
    {
     "cell_type": "code",
     "collapsed": false,
     "input": [
      "# Calculate the number of elements of the dictionary\n",
      "len(codon_table)"
     ],
     "language": "python",
     "metadata": {},
     "outputs": [],
     "prompt_number": 31
    },
    {
     "cell_type": "code",
     "collapsed": false,
     "input": [
      "# The while Statement\n",
      "# while loop is a combination of for and if statements.\n",
      "# while <condition>: <statements>\n",
      "\n",
      "# the following while loop is always the Boolean True: Never-ending loop !! caution !! \n",
      "# while:1\n",
      "  # print 'while loop still running'\n",
      "    \n",
      "while:0\n",
      "    print 'while loop will never be excuted even once'\n"
     ],
     "language": "python",
     "metadata": {},
     "outputs": [
      {
       "ename": "SyntaxError",
       "evalue": "invalid syntax (<ipython-input-1-1a74f6445bc3>, line 9)",
       "output_type": "pyerr",
       "traceback": [
        "\u001b[1;36m  File \u001b[1;32m\"<ipython-input-1-1a74f6445bc3>\"\u001b[1;36m, line \u001b[1;32m9\u001b[0m\n\u001b[1;33m    while:0\u001b[0m\n\u001b[1;37m         ^\u001b[0m\n\u001b[1;31mSyntaxError\u001b[0m\u001b[1;31m:\u001b[0m invalid syntax\n"
       ]
      }
     ],
     "prompt_number": 1
    },
    {
     "cell_type": "code",
     "collapsed": false,
     "input": [
      "# Searching with while loop\n",
      "# swissprot fasta database download : http://www.uniprot.org/downloads\n",
      "\n",
      "swissprot = open(\"uniprot_sprot.fasta\")\n",
      "insulin_ac = 'P61981'\n",
      "result = None\n",
      "while result == None:\n",
      "    line = swissprot.next()\n",
      "    if line.startswith('>'):\n",
      "        ac = line.split('|')[1]\n",
      "        if ac == insulin_ac:\n",
      "           result = line.strip()\n",
      "           print result\n",
      "\n",
      "# while condition returns True until result is not empty. \n",
      "# This applies as soon as the insulin record is found, and the corresponding header is printed"
     ],
     "language": "python",
     "metadata": {},
     "outputs": [
      {
       "output_type": "stream",
       "stream": "stdout",
       "text": [
        ">sp|P61981|1433G_HUMAN 14-3-3 protein gamma OS=Homo sapiens GN=YWHAG PE=1 SV=2\n"
       ]
      }
     ],
     "prompt_number": 2
    },
    {
     "cell_type": "code",
     "collapsed": false,
     "input": [
      "# Searching in a List\n",
      "\n",
      "bases = ['A','C','T','G']\n",
      "seq = 'CAGGCCATTRLGL'\n",
      "for i in seq:\n",
      "    if i not in bases:\n",
      "      print i, \"is not a nucleotide\"  \n"
     ],
     "language": "python",
     "metadata": {},
     "outputs": [
      {
       "output_type": "stream",
       "stream": "stdout",
       "text": [
        "R is not a nucleotide\n",
        "L is not a nucleotide\n",
        "L is not a nucleotide\n"
       ]
      }
     ],
     "prompt_number": 13
    },
    {
     "cell_type": "code",
     "collapsed": false,
     "input": [
      "# Example 5.1 \n",
      "# How to fill a dictionary from a FASTA file where the Uniprot ACs are the keys \n",
      "# and the corresponding sequences are their values.\n",
      "\n",
      "sequences = {}\n",
      "ac = ''\n",
      "seq = ''\n",
      "for line in open(\"SwissProt.fasta\"):\n",
      "    \n",
      "    if line.startswith('>')and seq != '':    # != \uac19\uc9c0 \uc54a\ub2e4.\n",
      "        sequences[ac] = seq\n",
      "        seq = ''\n",
      "    if line.startswith('>'):\n",
      "        ac = line.split('|')[1]\n",
      "    else:\n",
      "        seq = seq + line.strip()  #\uc55e\ub4a4 \uacf5\ubc31 \uc5c6\uc560\uc8fc\ub294 \uae30\ub2a5.\n",
      "        sequences[ac]= seq\n",
      "\n",
      "print sequences.keys()\n",
      "print sequences['P31946']\n",
      "\n"
     ],
     "language": "python",
     "metadata": {},
     "outputs": [
      {
       "output_type": "stream",
       "stream": "stdout",
       "text": [
        "['P5524211', 'P31946']\n",
        "ADQLTEEQIAEFKEAFSLFDKDGDGTITTKELGTVMRSLGQNPTEAELQDMINEVDADGNGTIDFPEFLTMMARKMKDTDSEEEIREAFRVFDKDGNGYISAAELRHVMTNLGEKLTDEEVDEMIREADIDGDGQVNYEEFVQMMTAK*\n"
       ]
      }
     ],
     "prompt_number": 24
    },
    {
     "cell_type": "code",
     "collapsed": false,
     "input": [
      "# Example 5.2 How to Write a Simple Protein Sequence Loop Predictor\n",
      "# You can approximate a propensity by the frequency f of finding an amino acid type\n",
      "\n",
      "propensities = { \n",
      "  'N':0.2299, 'P':0.5523, 'Q': -0.1877, 'A':-0.2615, 'R':-0.1766,\n",
      "  'S': 0.1429, 'C':-0.01515, 'T':0.0089, 'D':0.2276, 'E':-0.2047,\n",
      "  'V':-0.3862, 'F':-0.2256, 'W':-0.2434, 'G':0.4332, 'H':-0.0012,\n",
      "  'Y':-0.2075, 'I':-0.4222, 'K':-0.1001, 'L':0.33793, 'M': -0.2259}\n",
      "\n",
      "threshold = 0.3     # disorderd(loop) residues and printed lowercase characters\n",
      "\n",
      "input_seq = \"\"\"IVGGYTCGANTVPYQVSLNSGYHFCGGSLINS\n",
      "             QWVVSAAHCYKSGIQVRLGEDNINVVEGNEQFISASKSIVH\n",
      "             PSYNSNTLNNDIMLIKLKSAASLNSRVASISLPTSCASAGTQ\n",
      "             CLISGWGNTKSSGTSYPDVLKCLKAPILSDSSCKSAYPGQI\n",
      "             TSNMFCAGYLEGGKDSCQGDSGGPVVCSGKLQGIVSWG\n",
      "             SGCAQKNKPGVYTKVCNYVSWIKQTIASN\"\"\"\n",
      "output_seq = \"\"\n",
      "\n",
      "# Cycle over every amino acid in input_seq \n",
      "for res in input_seq:\n",
      "    if res in propensities:\n",
      "        if propensities[res] >= threshold:\n",
      "            output_seq += res.upper()\n",
      "        else: \n",
      "            output_seq += res.lower()\n",
      "    else:\n",
      "        print 'unrecognized character:', res\n",
      "        break\n",
      "\n",
      "print output_seq\n"
     ],
     "language": "python",
     "metadata": {},
     "outputs": [
      {
       "output_type": "stream",
       "stream": "stdout",
       "text": [
        "unrecognized character: \n",
        "\n",
        "ivGGytcGantvPyqvsLnsGyhfcGGsLins\n"
       ]
      }
     ],
     "prompt_number": 29
    },
    {
     "cell_type": "code",
     "collapsed": false,
     "input": [
      "# How to Extract the Amino Acid Sequence from a PDB File\n",
      "# http://www.rcsb.org \uc5d0\uc11c <1TLD> \ub85c \uac80\uc0c9, PDB file \uc744 \ub2e4\uc6b4\ub85c\ub4dc \ubc1b\uc73c\uc138\uc694. \n",
      "# 1TLD.pdb : crystal structure of the bovine beta-tripsin \n",
      "\n",
      "aa_codes = {\n",
      "     'ALA':'A', 'CYS':'C', 'ASP':'D', 'GLU':'E',\n",
      "     'PHE':'F', 'GLY':'G', 'HIS':'H', 'LYS':'K',\n",
      "     'ILE':'I', 'LEU':'L', 'MET':'M', 'ASN':'N',\n",
      "     'PRO':'P', 'GLN':'Q', 'ARG':'R', 'SER':'S',\n",
      "     'THR':'T', 'VAL':'V', 'TYR':'Y', 'TRP':'W'}\n",
      "\n",
      "seq = ''\n",
      "for line in open(\"1TLD.pdb\"):\n",
      "    if line[0:6] == \"SEQRES\":\n",
      "        columns = line.split()\n",
      "        for resname in columns[4:]:        # Residues (in three-letter code) are reported from the 5th column\n",
      "            seq = seq + aa_codes[resname]\n",
      "i = 0\n",
      "print \">1TLD\"\n",
      "while i < len(seq):\n",
      "    print seq[i:i+64]\n",
      "    i = i+64"
     ],
     "language": "python",
     "metadata": {},
     "outputs": [
      {
       "output_type": "stream",
       "stream": "stdout",
       "text": [
        ">1TLD\n",
        "IVGGYTCGANTVPYQVSLNSGYHFCGGSLINSQWVVSAAHCYKSGIQVRLGEDNINVVEGNEQF\n",
        "ISASKSIVHPSYNSNTLNNDIMLIKLKSAASLNSRVASISLPTSCASAGTQCLISGWGNTKSSG\n",
        "TSYPDVLKCLKAPILSDSSCKSAYPGQITSNMFCAGYLEGGKDSCQGDSGGPVVCSGKLQGIVS\n",
        "WGSGCAQKNKPGVYTKVCNYVSWIKQTIASN\n"
       ]
      }
     ],
     "prompt_number": 30
    },
    {
     "cell_type": "code",
     "collapsed": false,
     "input": [],
     "language": "python",
     "metadata": {},
     "outputs": []
    }
   ],
   "metadata": {}
  }
 ]
}