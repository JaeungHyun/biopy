{
 "metadata": {
  "name": "",
  "signature": "sha256:c7553f87521039a829c513c646d9e24ee104447fb1467084e7aacef10fb5ec4c"
 },
 "nbformat": 3,
 "nbformat_minor": 0,
 "worksheets": [
  {
   "cells": [
    {
     "cell_type": "code",
     "collapsed": false,
     "input": [
      "import sys"
     ],
     "language": "python",
     "metadata": {},
     "outputs": [],
     "prompt_number": 1
    },
    {
     "cell_type": "code",
     "collapsed": false,
     "input": [
      "sys.path.append(\"user/junseok/appdata/local/enthought/canopy/user/lib/site-packages/\") "
     ],
     "language": "python",
     "metadata": {},
     "outputs": [],
     "prompt_number": 2
    },
    {
     "cell_type": "code",
     "collapsed": false,
     "input": [
      "import Bio"
     ],
     "language": "python",
     "metadata": {},
     "outputs": [],
     "prompt_number": 3
    },
    {
     "cell_type": "code",
     "collapsed": false,
     "input": [
      "Bio.__version__"
     ],
     "language": "python",
     "metadata": {},
     "outputs": [
      {
       "metadata": {},
       "output_type": "pyout",
       "prompt_number": 4,
       "text": [
        "'1.64'"
       ]
      }
     ],
     "prompt_number": 4
    },
    {
     "cell_type": "markdown",
     "metadata": {},
     "source": [
      "Learning goal : manipulate DNA, RNA, and Protein sequence using Biopython"
     ]
    },
    {
     "cell_type": "heading",
     "level": 1,
     "metadata": {},
     "source": [
      "19.1 In this chapter, you will leran"
     ]
    },
    {
     "cell_type": "markdown",
     "metadata": {},
     "source": [
      "1. How to create a sequence object\n",
      "2. How to reverse and transcirbe a DNA sequence\n",
      "3. How to translate an RNA sequence into a protein sequence\n",
      "4. How to create a sequence record\n",
      "5. How to read sequence files in different formats\n",
      "6. How to wirte formatted sequence files"
     ]
    },
    {
     "cell_type": "heading",
     "level": 1,
     "metadata": {},
     "source": [
      "19.2 Story : How to translate a DNA coding sequence into the corresponding protein sequence and write it to a FASTA file"
     ]
    },
    {
     "cell_type": "heading",
     "level": 2,
     "metadata": {},
     "source": [
      "19.2.1 Problem Description"
     ]
    },
    {
     "cell_type": "markdown",
     "metadata": {},
     "source": [
      "In the following Python session, four modules from the Bio package are used : \n",
      "    1. Seq : sequence object\ub97c \ub9cc\ub4dc\ub294\ub370 \ud544\uc694\n",
      "    2. IUPAC : biological alphabet(A,T,C,G,U)\uc744 sequence object\ub85c assign\ud558\ub294\ub370 \ud544\uc694\n",
      "    3. SeqRecord : ID, annotation, description \ub4f1\uc73c\ub85c \uc124\uba85\ub41c sequence record object\ub97c \ub9cc\ub4dc\ub294\ub370 \ud544\uc694\n",
      "    4. SeqIO : formated sequence files\uc744 read and write"
     ]
    },
    {
     "cell_type": "heading",
     "level": 2,
     "metadata": {},
     "source": [
      "19.2.2 Example Python Session"
     ]
    },
    {
     "cell_type": "code",
     "collapsed": false,
     "input": [
      "import Bio"
     ],
     "language": "python",
     "metadata": {},
     "outputs": [],
     "prompt_number": 5
    },
    {
     "cell_type": "code",
     "collapsed": false,
     "input": [
      "from Bio import Seq\n",
      "from Bio.Alphabet import IUPAC\n",
      "from Bio.SeqRecord import SeqRecord\n",
      "from Bio import SeqIO\n",
      "\n",
      "# read the imput sequence\n",
      "dna = open(\"hemoglobin-gene.txt\").read().strip()\n",
      "dna = Seq.Seq(dna, IUPAC.unambiguous_dna)\n",
      "\n",
      "# transcribe and translate\n",
      "mrna = dna.transcribe()\n",
      "protein = mrna.translate()\n",
      "\n",
      "# write the protein sequence to a file\n",
      "protein_record= SeqRecord(protein, id='sp|P69905.2|HBA_HUMAN',description=\"Hemoglobin subunit alpha,human\")\n",
      "outfile = open(\"HBA_HUMAN.fasta\",'w')\n",
      "SeqIO.write(protein_record, outfile, \"fasta\")\n",
      "outfile.close()"
     ],
     "language": "python",
     "metadata": {},
     "outputs": [],
     "prompt_number": 1
    },
    {
     "cell_type": "code",
     "collapsed": false,
     "input": [
      "mrna"
     ],
     "language": "python",
     "metadata": {},
     "outputs": [
      {
       "metadata": {},
       "output_type": "pyout",
       "prompt_number": 2,
       "text": [
        "Seq('AUGGUGCUGUCUCCUGCCGACAAGACCAACGUCAAGGCCGCCUGGGGUAAGGUC...UAA', IUPACUnambiguousRNA())"
       ]
      }
     ],
     "prompt_number": 2
    },
    {
     "cell_type": "code",
     "collapsed": false,
     "input": [
      "protein"
     ],
     "language": "python",
     "metadata": {},
     "outputs": [
      {
       "metadata": {},
       "output_type": "pyout",
       "prompt_number": 4,
       "text": [
        "Seq('MVLSPADKTNVKAAWGKVGAHAGEYGAEALERMFLSFPTTKTYFPHFDLSHGSA...YR*', HasStopCodon(IUPACProtein(), '*'))"
       ]
      }
     ],
     "prompt_number": 4
    },
    {
     "cell_type": "code",
     "collapsed": false,
     "input": [
      "a= open(\"HBA_HUMAN.fasta\").readlines()\n",
      "a"
     ],
     "language": "python",
     "metadata": {},
     "outputs": [
      {
       "metadata": {},
       "output_type": "pyout",
       "prompt_number": 10,
       "text": [
        "['>sp|P69905.2|HBA_HUMAN Hemoglobin subunit alpha,human\\n',\n",
        " 'MVLSPADKTNVKAAWGKVGAHAGEYGAEALERMFLSFPTTKTYFPHFDLSHGSAQVKGHG\\n',\n",
        " 'KKVADALTNAVAHVDDMPNALSALSDLHAHKLRVDPVNFKLLSHCLLVTLAAHLPAEFTP\\n',\n",
        " 'AVHASLDKFLASVSTVLTSKYR*\\n']"
       ]
      }
     ],
     "prompt_number": 10
    },
    {
     "cell_type": "heading",
     "level": 1,
     "metadata": {},
     "source": [
      "19.3 What do the commands mean?"
     ]
    },
    {
     "cell_type": "heading",
     "level": 2,
     "metadata": {},
     "source": [
      "19.3.1 The Seq Object"
     ]
    },
    {
     "cell_type": "code",
     "collapsed": false,
     "input": [
      "from Bio import Seq"
     ],
     "language": "python",
     "metadata": {},
     "outputs": [],
     "prompt_number": 47
    },
    {
     "cell_type": "code",
     "collapsed": false,
     "input": [
      "Bio.__version__"
     ],
     "language": "python",
     "metadata": {},
     "outputs": [
      {
       "metadata": {},
       "output_type": "pyout",
       "prompt_number": 55,
       "text": [
        "'1.64'"
       ]
      }
     ],
     "prompt_number": 55
    },
    {
     "cell_type": "markdown",
     "metadata": {},
     "source": [
      "(\uc124\uba85) : Seq.Seq class creates a sequence object, \ud558\uc9c0\ub9cc \uc774\ub54c, AGCT\ub294 \uc54c\ud30c\ubcb3"
     ]
    },
    {
     "cell_type": "code",
     "collapsed": false,
     "input": [
      "my_seq = Seq.Seq(\"AGCATCGTAGCATGCAC\")\n",
      "my_seq"
     ],
     "language": "python",
     "metadata": {},
     "outputs": [
      {
       "metadata": {},
       "output_type": "pyout",
       "prompt_number": 13,
       "text": [
        "Seq('AGCATCGTAGCATGCAC', Alphabet())"
       ]
      }
     ],
     "prompt_number": 13
    },
    {
     "cell_type": "markdown",
     "metadata": {},
     "source": [
      "Biopython contains a set of precompiled alphabets that cover all biological sequence type. IUPAC -defiend alphabets are the most frequently used. \n",
      "If you want to use alphabets, you have to import the IUPAC module from the Bio.Alphabet module."
     ]
    },
    {
     "cell_type": "heading",
     "level": 3,
     "metadata": {},
     "source": [
      "- Transcribing and Translating Sequence"
     ]
    },
    {
     "cell_type": "markdown",
     "metadata": {},
     "source": [
      "Method of Seq objects are designed specifically for biological sequence;"
     ]
    },
    {
     "cell_type": "code",
     "collapsed": false,
     "input": [
      "my_seq"
     ],
     "language": "python",
     "metadata": {},
     "outputs": [
      {
       "metadata": {},
       "output_type": "pyout",
       "prompt_number": 14,
       "text": [
        "Seq('AGCATCGTAGCATGCAC', Alphabet())"
       ]
      }
     ],
     "prompt_number": 14
    },
    {
     "cell_type": "code",
     "collapsed": false,
     "input": [
      "my_seq.transcribe()"
     ],
     "language": "python",
     "metadata": {},
     "outputs": [
      {
       "metadata": {},
       "output_type": "pyout",
       "prompt_number": 15,
       "text": [
        "Seq('AGCAUCGUAGCAUGCAC', RNAAlphabet())"
       ]
      }
     ],
     "prompt_number": 15
    },
    {
     "cell_type": "code",
     "collapsed": false,
     "input": [
      "my_seq.reverse_complement()"
     ],
     "language": "python",
     "metadata": {},
     "outputs": [
      {
       "metadata": {},
       "output_type": "pyout",
       "prompt_number": 16,
       "text": [
        "Seq('GTGCATGCTACGATGCT', Alphabet())"
       ]
      }
     ],
     "prompt_number": 16
    },
    {
     "cell_type": "code",
     "collapsed": false,
     "input": [
      "my_seq.transcribe().reverse_complement()"
     ],
     "language": "python",
     "metadata": {},
     "outputs": [
      {
       "metadata": {},
       "output_type": "pyout",
       "prompt_number": 17,
       "text": [
        "Seq('GUGCAUGCUACGAUGCU', RNAAlphabet())"
       ]
      }
     ],
     "prompt_number": 17
    },
    {
     "cell_type": "markdown",
     "metadata": {},
     "source": [
      "- A DNA or RNA sequence object can also be translated into a protein sequence. \n",
      "- To this aim, a number of genetic codes are available thorough the CodonTable module of the Bio.Data module"
     ]
    },
    {
     "cell_type": "code",
     "collapsed": false,
     "input": [
      "from Bio.Data import CodonTable"
     ],
     "language": "python",
     "metadata": {},
     "outputs": [],
     "prompt_number": 18
    },
    {
     "cell_type": "code",
     "collapsed": false,
     "input": [
      "standard_table = CodonTable.unambiguous_dna_by_name[\"Standard\"]\n",
      "print standard_table"
     ],
     "language": "python",
     "metadata": {},
     "outputs": [
      {
       "output_type": "stream",
       "stream": "stdout",
       "text": [
        "Table 1 Standard, SGC0\n",
        "\n",
        "  |  T      |  C      |  A      |  G      |\n",
        "--+---------+---------+---------+---------+--\n",
        "T | TTT F   | TCT S   | TAT Y   | TGT C   | T\n",
        "T | TTC F   | TCC S   | TAC Y   | TGC C   | C\n",
        "T | TTA L   | TCA S   | TAA Stop| TGA Stop| A\n",
        "T | TTG L(s)| TCG S   | TAG Stop| TGG W   | G\n",
        "--+---------+---------+---------+---------+--\n",
        "C | CTT L   | CCT P   | CAT H   | CGT R   | T\n",
        "C | CTC L   | CCC P   | CAC H   | CGC R   | C\n",
        "C | CTA L   | CCA P   | CAA Q   | CGA R   | A\n",
        "C | CTG L(s)| CCG P   | CAG Q   | CGG R   | G\n",
        "--+---------+---------+---------+---------+--\n",
        "A | ATT I   | ACT T   | AAT N   | AGT S   | T\n",
        "A | ATC I   | ACC T   | AAC N   | AGC S   | C\n",
        "A | ATA I   | ACA T   | AAA K   | AGA R   | A\n",
        "A | ATG M(s)| ACG T   | AAG K   | AGG R   | G\n",
        "--+---------+---------+---------+---------+--\n",
        "G | GTT V   | GCT A   | GAT D   | GGT G   | T\n",
        "G | GTC V   | GCC A   | GAC D   | GGC G   | C\n",
        "G | GTA V   | GCA A   | GAA E   | GGA G   | A\n",
        "G | GTG V   | GCG A   | GAG E   | GGG G   | G\n",
        "--+---------+---------+---------+---------+--\n"
       ]
      }
     ],
     "prompt_number": 19
    },
    {
     "cell_type": "code",
     "collapsed": false,
     "input": [
      "print standard_table.start_codons, standard_table.stop_codons"
     ],
     "language": "python",
     "metadata": {},
     "outputs": [
      {
       "output_type": "stream",
       "stream": "stdout",
       "text": [
        "['TTG', 'CTG', 'ATG'] ['TAA', 'TAG', 'TGA']\n"
       ]
      }
     ],
     "prompt_number": 20
    },
    {
     "cell_type": "code",
     "collapsed": false,
     "input": [
      "standard_table = CodonTable.unambiguous_rna_by_name[\"Standard\"]\n",
      "print standard_table"
     ],
     "language": "python",
     "metadata": {},
     "outputs": [
      {
       "output_type": "stream",
       "stream": "stdout",
       "text": [
        "Table 1 Standard, SGC0\n",
        "\n",
        "  |  U      |  C      |  A      |  G      |\n",
        "--+---------+---------+---------+---------+--\n",
        "U | UUU F   | UCU S   | UAU Y   | UGU C   | U\n",
        "U | UUC F   | UCC S   | UAC Y   | UGC C   | C\n",
        "U | UUA L   | UCA S   | UAA Stop| UGA Stop| A\n",
        "U | UUG L(s)| UCG S   | UAG Stop| UGG W   | G\n",
        "--+---------+---------+---------+---------+--\n",
        "C | CUU L   | CCU P   | CAU H   | CGU R   | U\n",
        "C | CUC L   | CCC P   | CAC H   | CGC R   | C\n",
        "C | CUA L   | CCA P   | CAA Q   | CGA R   | A\n",
        "C | CUG L(s)| CCG P   | CAG Q   | CGG R   | G\n",
        "--+---------+---------+---------+---------+--\n",
        "A | AUU I   | ACU T   | AAU N   | AGU S   | U\n",
        "A | AUC I   | ACC T   | AAC N   | AGC S   | C\n",
        "A | AUA I   | ACA T   | AAA K   | AGA R   | A\n",
        "A | AUG M(s)| ACG T   | AAG K   | AGG R   | G\n",
        "--+---------+---------+---------+---------+--\n",
        "G | GUU V   | GCU A   | GAU D   | GGU G   | U\n",
        "G | GUC V   | GCC A   | GAC D   | GGC G   | C\n",
        "G | GUA V   | GCA A   | GAA E   | GGA G   | A\n",
        "G | GUG V   | GCG A   | GAG E   | GGG G   | G\n",
        "--+---------+---------+---------+---------+--\n"
       ]
      }
     ],
     "prompt_number": 77
    },
    {
     "cell_type": "code",
     "collapsed": false,
     "input": [
      "mrna = Seq.Seq('AUGGCCAUUGUAAUGGGCCGCUGAAAGGGAUAG', IUPAC.unambiguous_rna)\n",
      "mrna.translate(table= \"Standard\")"
     ],
     "language": "python",
     "metadata": {},
     "outputs": [
      {
       "metadata": {},
       "output_type": "pyout",
       "prompt_number": 23,
       "text": [
        "Seq('MAIVMGR*KG*', HasStopCodon(IUPACProtein(), '*'))"
       ]
      }
     ],
     "prompt_number": 23
    },
    {
     "cell_type": "code",
     "collapsed": false,
     "input": [
      "mrna.translate(to_stop = True, table = 1)"
     ],
     "language": "python",
     "metadata": {},
     "outputs": [
      {
       "metadata": {},
       "output_type": "pyout",
       "prompt_number": 24,
       "text": [
        "Seq('MAIVMGR', IUPACProtein())"
       ]
      }
     ],
     "prompt_number": 24
    },
    {
     "cell_type": "heading",
     "level": 2,
     "metadata": {},
     "source": [
      "19.3.2 Working with Sequence as String"
     ]
    },
    {
     "cell_type": "markdown",
     "metadata": {},
     "source": [
      "Biopython\uc5d0\uc11c\uc758 sequence objects\ub97c string\ucc98\ub7fc \uc0ac\uc6a9\ud560 \uc218 \uc788\uc2b5\ub2c8\ub2e4. "
     ]
    },
    {
     "cell_type": "code",
     "collapsed": false,
     "input": [
      "from Bio import Seq\n",
      "\n",
      "my_seq = Seq.Seq(\"AGCATCGTA GCATGCAC\")"
     ],
     "language": "python",
     "metadata": {},
     "outputs": [],
     "prompt_number": 24
    },
    {
     "cell_type": "code",
     "collapsed": false,
     "input": [
      "my_seq[0] # indexing"
     ],
     "language": "python",
     "metadata": {},
     "outputs": [
      {
       "metadata": {},
       "output_type": "pyout",
       "prompt_number": 26,
       "text": [
        "'A'"
       ]
      }
     ],
     "prompt_number": 26
    },
    {
     "cell_type": "code",
     "collapsed": false,
     "input": [
      "my_seq[0:3] # slicing"
     ],
     "language": "python",
     "metadata": {},
     "outputs": [
      {
       "metadata": {},
       "output_type": "pyout",
       "prompt_number": 27,
       "text": [
        "Seq('AGC', Alphabet())"
       ]
      }
     ],
     "prompt_number": 27
    },
    {
     "cell_type": "code",
     "collapsed": false,
     "input": [
      "my_seq.split('T') # Split"
     ],
     "language": "python",
     "metadata": {},
     "outputs": [
      {
       "metadata": {},
       "output_type": "pyout",
       "prompt_number": 28,
       "text": [
        "[Seq('AGCA', Alphabet()),\n",
        " Seq('CG', Alphabet()),\n",
        " Seq('A GCA', Alphabet()),\n",
        " Seq('GCAC', Alphabet())]"
       ]
      }
     ],
     "prompt_number": 28
    },
    {
     "cell_type": "markdown",
     "metadata": {},
     "source": [
      "\uc704\uc758 \ub0b4\uc6a9\ucc98\ub7fc, Seq object\ub97c slicing\uc774\ub098 split\ud558\uba74, string\uc73c\ub85c return\ub418\ub294 \uac83\uc774 \uc544\ub2c8\ub77c, Seq object\ub85c return \ub429\ub2c8\ub2e4."
     ]
    },
    {
     "cell_type": "code",
     "collapsed": false,
     "input": [
      "my_seq.count('A') # COUNT"
     ],
     "language": "python",
     "metadata": {},
     "outputs": [
      {
       "metadata": {},
       "output_type": "pyout",
       "prompt_number": 29,
       "text": [
        "5"
       ]
      }
     ],
     "prompt_number": 29
    },
    {
     "cell_type": "code",
     "collapsed": false,
     "input": [
      "my_seq.count('A')/float(len(my_seq)) "
     ],
     "language": "python",
     "metadata": {},
     "outputs": [
      {
       "metadata": {},
       "output_type": "pyout",
       "prompt_number": 30,
       "text": [
        "0.2777777777777778"
       ]
      }
     ],
     "prompt_number": 30
    },
    {
     "cell_type": "code",
     "collapsed": false,
     "input": [
      "from Bio.Alphabet import IUPAC"
     ],
     "language": "python",
     "metadata": {},
     "outputs": [],
     "prompt_number": 32
    },
    {
     "cell_type": "code",
     "collapsed": false,
     "input": [
      "my_seq = Seq.Seq(\"AGCATCGTAGCATGCAC\")"
     ],
     "language": "python",
     "metadata": {},
     "outputs": [],
     "prompt_number": 26
    },
    {
     "cell_type": "code",
     "collapsed": false,
     "input": [
      "my_seq_2 = Seq.Seq(\"CGTC\")"
     ],
     "language": "python",
     "metadata": {},
     "outputs": [],
     "prompt_number": 27
    },
    {
     "cell_type": "code",
     "collapsed": false,
     "input": [
      "my_seq + my_seq_2"
     ],
     "language": "python",
     "metadata": {},
     "outputs": [
      {
       "metadata": {},
       "output_type": "pyout",
       "prompt_number": 28,
       "text": [
        "Seq('AGCATCGTAGCATGCACCGTC', Alphabet())"
       ]
      }
     ],
     "prompt_number": 28
    },
    {
     "cell_type": "code",
     "collapsed": false,
     "input": [
      "my_seq.transcribe()"
     ],
     "language": "python",
     "metadata": {},
     "outputs": [
      {
       "metadata": {},
       "output_type": "pyout",
       "prompt_number": 31,
       "text": [
        "Seq('AGCAUCGUAGCAUGCAC', RNAAlphabet())"
       ]
      }
     ],
     "prompt_number": 31
    },
    {
     "cell_type": "code",
     "collapsed": false,
     "input": [
      "my_seq.translate()"
     ],
     "language": "python",
     "metadata": {},
     "outputs": [
      {
       "metadata": {},
       "output_type": "pyout",
       "prompt_number": 32,
       "text": [
        "Seq('SIVAC', ExtendedIUPACProtein())"
       ]
      }
     ],
     "prompt_number": 32
    },
    {
     "cell_type": "code",
     "collapsed": false,
     "input": [
      "my_seq = Seq.Seq(\"AGCATCGTAGCATGCAC\",IUPAC.unambiguous_dna)"
     ],
     "language": "python",
     "metadata": {},
     "outputs": [],
     "prompt_number": 33
    },
    {
     "cell_type": "code",
     "collapsed": false,
     "input": [
      "my_seq_2 = Seq.Seq(\"CGTC\",IUPAC.unambiguous_dna)"
     ],
     "language": "python",
     "metadata": {},
     "outputs": [],
     "prompt_number": 34
    },
    {
     "cell_type": "code",
     "collapsed": false,
     "input": [
      "my_seq + my_seq_2"
     ],
     "language": "python",
     "metadata": {},
     "outputs": [
      {
       "metadata": {},
       "output_type": "pyout",
       "prompt_number": 35,
       "text": [
        "Seq('AGCATCGTAGCATGCACCGTC', IUPACUnambiguousDNA())"
       ]
      }
     ],
     "prompt_number": 35
    },
    {
     "cell_type": "code",
     "collapsed": false,
     "input": [
      "my_seq.find(\"TCGT\")"
     ],
     "language": "python",
     "metadata": {},
     "outputs": [
      {
       "metadata": {},
       "output_type": "pyout",
       "prompt_number": 36,
       "text": [
        "4"
       ]
      }
     ],
     "prompt_number": 36
    },
    {
     "cell_type": "code",
     "collapsed": false,
     "input": [
      "my_seq.find(\"TTTT\") # subsequence\uac00 \ucc3e\uc544\uc9c0\uc9c0 \uc54a\uc73c\uba74, -1\uc744 \ubc18\ud658"
     ],
     "language": "python",
     "metadata": {},
     "outputs": [
      {
       "metadata": {},
       "output_type": "pyout",
       "prompt_number": 37,
       "text": [
        "-1"
       ]
      }
     ],
     "prompt_number": 37
    },
    {
     "cell_type": "code",
     "collapsed": false,
     "input": [
      "my_seq.transcribe()"
     ],
     "language": "python",
     "metadata": {},
     "outputs": [
      {
       "metadata": {},
       "output_type": "pyout",
       "prompt_number": 38,
       "text": [
        "Seq('AGCAUCGUAGCAUGCAC', IUPACUnambiguousRNA())"
       ]
      }
     ],
     "prompt_number": 38
    },
    {
     "cell_type": "code",
     "collapsed": false,
     "input": [
      "my_seq.translate()"
     ],
     "language": "python",
     "metadata": {},
     "outputs": [
      {
       "metadata": {},
       "output_type": "pyout",
       "prompt_number": 39,
       "text": [
        "Seq('SIVAC', IUPACProtein())"
       ]
      }
     ],
     "prompt_number": 39
    },
    {
     "cell_type": "code",
     "collapsed": false,
     "input": [
      "my_seq.reverse_complement()"
     ],
     "language": "python",
     "metadata": {},
     "outputs": [
      {
       "metadata": {},
       "output_type": "pyout",
       "prompt_number": 40,
       "text": [
        "Seq('GTGCATGCTACGATGCT', IUPACUnambiguousDNA())"
       ]
      }
     ],
     "prompt_number": 40
    },
    {
     "cell_type": "heading",
     "level": 2,
     "metadata": {},
     "source": [
      "19.3.3 The MutableSeq Object"
     ]
    },
    {
     "cell_type": "markdown",
     "metadata": {},
     "source": [
      "Seq object\ub294 \ud30c\uc774\uc36c\uc758 string\uacfc \ube44\uc2b7\ud558\uc9c0\ub9cc, \ubcc0\uacbd\ud560 \uc218\ub294 \uc5c6\uc2b5\ub2c8\ub2e4. \uadf8\ub798\uc11c, \ubcc0\uacbd\ud558\ub824\uace0 \ud558\uba74 Error message\uac00 \ub739\ub2c8\ub2e4. \uadf8\ub798\uc11c \ubc14\uc774\uc624\ud30c\uc774\uc36c\uc740 \ubcc0\uacbd\uc744 \ud560 \uc218 \uc788\ub294 Seq object\uc778 MutableSeq object\ub97c \uc81c\uacf5\ud569\ub2c8\ub2e4"
     ]
    },
    {
     "cell_type": "code",
     "collapsed": false,
     "input": [
      "my_seq"
     ],
     "language": "python",
     "metadata": {},
     "outputs": [
      {
       "metadata": {},
       "output_type": "pyout",
       "prompt_number": 41,
       "text": [
        "Seq('AGCATCGTAGCATGCAC', IUPACUnambiguousDNA())"
       ]
      }
     ],
     "prompt_number": 41
    },
    {
     "cell_type": "code",
     "collapsed": false,
     "input": [
      "my_seq[0]=\"T\""
     ],
     "language": "python",
     "metadata": {},
     "outputs": [
      {
       "ename": "TypeError",
       "evalue": "'Seq' object does not support item assignment",
       "output_type": "pyerr",
       "traceback": [
        "\u001b[1;31m---------------------------------------------------------------------------\u001b[0m\n\u001b[1;31mTypeError\u001b[0m                                 Traceback (most recent call last)",
        "\u001b[1;32m<ipython-input-47-84f3435d2cb3>\u001b[0m in \u001b[0;36m<module>\u001b[1;34m()\u001b[0m\n\u001b[1;32m----> 1\u001b[1;33m \u001b[0mmy_seq\u001b[0m\u001b[1;33m[\u001b[0m\u001b[1;36m0\u001b[0m\u001b[1;33m]\u001b[0m\u001b[1;33m=\u001b[0m\u001b[1;34m\"T\"\u001b[0m\u001b[1;33m\u001b[0m\u001b[0m\n\u001b[0m",
        "\u001b[1;31mTypeError\u001b[0m: 'Seq' object does not support item assignment"
       ]
      }
     ],
     "prompt_number": 47
    },
    {
     "cell_type": "code",
     "collapsed": false,
     "input": [
      "m_my_seq = Seq.MutableSeq(\"AGCATCGTAGCATGCAC\",IUPAC.unambiguous_dna)"
     ],
     "language": "python",
     "metadata": {},
     "outputs": [],
     "prompt_number": 48
    },
    {
     "cell_type": "code",
     "collapsed": false,
     "input": [
      "m_my_seq = my_seq.tomutable() # Seq object\ub97c mutable seq\uc73c\ub85c \ubc14\ub85c \ubcc0\uacbd \ud560 \uc218\ub3c4 \uc788\ub2e4. "
     ],
     "language": "python",
     "metadata": {},
     "outputs": [],
     "prompt_number": 65
    },
    {
     "cell_type": "code",
     "collapsed": false,
     "input": [
      "m_my_seq"
     ],
     "language": "python",
     "metadata": {},
     "outputs": [
      {
       "metadata": {},
       "output_type": "pyout",
       "prompt_number": 49,
       "text": [
        "MutableSeq('AGCATCGTAGCATGCAC', IUPACUnambiguousDNA())"
       ]
      }
     ],
     "prompt_number": 49
    },
    {
     "cell_type": "code",
     "collapsed": false,
     "input": [
      "m_my_seq[0]=\"T\""
     ],
     "language": "python",
     "metadata": {},
     "outputs": [],
     "prompt_number": 50
    },
    {
     "cell_type": "code",
     "collapsed": false,
     "input": [
      "m_my_seq"
     ],
     "language": "python",
     "metadata": {},
     "outputs": [
      {
       "metadata": {},
       "output_type": "pyout",
       "prompt_number": 51,
       "text": [
        "MutableSeq('TGCATCGTAGCATGCAC', IUPACUnambiguousDNA())"
       ]
      }
     ],
     "prompt_number": 51
    },
    {
     "cell_type": "heading",
     "level": 2,
     "metadata": {},
     "source": [
      "19.3.4 The SeqRecord Object"
     ]
    },
    {
     "cell_type": "markdown",
     "metadata": {},
     "source": [
      "SeqRecord : sequence\uc640 its annotation\uc744 \uc704\ud55c container \uc81c\uacf5"
     ]
    },
    {
     "cell_type": "code",
     "collapsed": false,
     "input": [
      "protein"
     ],
     "language": "python",
     "metadata": {},
     "outputs": [
      {
       "metadata": {},
       "output_type": "pyout",
       "prompt_number": 55,
       "text": [
        "Seq('MVLSPADKTNVKAAWGKVGAHAGEYGAEALERMFLSFPTTKTYFPHFDLSHGSA...YR*', HasStopCodon(IUPACProtein(), '*'))"
       ]
      }
     ],
     "prompt_number": 55
    },
    {
     "cell_type": "markdown",
     "metadata": {},
     "source": [
      "protein sequence\ub97c SeqRecord object\ub85c \ubc14\uafd4\uc8fc\uba74,"
     ]
    },
    {
     "cell_type": "code",
     "collapsed": false,
     "input": [
      "protein_record = SeqRecord(protein,id = 'sp|P69905.2|HBA_HUMAN', description = \"Hemoglobin subunit alpha, Homo sapiens\")\n",
      "protein_record"
     ],
     "language": "python",
     "metadata": {},
     "outputs": [
      {
       "metadata": {},
       "output_type": "pyout",
       "prompt_number": 56,
       "text": [
        "SeqRecord(seq=Seq('MVLSPADKTNVKAAWGKVGAHAGEYGAEALERMFLSFPTTKTYFPHFDLSHGSA...YR*', HasStopCodon(IUPACProtein(), '*')), id='sp|P69905.2|HBA_HUMAN', name='<unknown name>', description='Hemoglobin subunit alpha, Homo sapiens', dbxrefs=[])"
       ]
      }
     ],
     "prompt_number": 56
    },
    {
     "cell_type": "markdown",
     "metadata": {},
     "source": [
      "- seq : biological sequence, Seq object\uc758 \ud615\ud0dc\n",
      "- id : sequence\ub97c identify\ud558\uae30 \uc704\ud55c Primary ID\n",
      "- name : molecule \uc774\ub984\n",
      "- description : molecule \uc124\uba85\n",
      "- dbxrefs : This is a list of database cross-reference"
     ]
    },
    {
     "cell_type": "code",
     "collapsed": false,
     "input": [
      "protein_record.id"
     ],
     "language": "python",
     "metadata": {},
     "outputs": [
      {
       "metadata": {},
       "output_type": "pyout",
       "prompt_number": 57,
       "text": [
        "'sp|P69905.2|HBA_HUMAN'"
       ]
      }
     ],
     "prompt_number": 57
    },
    {
     "cell_type": "code",
     "collapsed": false,
     "input": [
      "protein_record.description"
     ],
     "language": "python",
     "metadata": {},
     "outputs": [
      {
       "metadata": {},
       "output_type": "pyout",
       "prompt_number": 58,
       "text": [
        "'Hemoglobin subunit alpha, Homo sapiens'"
       ]
      }
     ],
     "prompt_number": 58
    },
    {
     "cell_type": "code",
     "collapsed": false,
     "input": [
      "protein_record.name"
     ],
     "language": "python",
     "metadata": {},
     "outputs": [
      {
       "metadata": {},
       "output_type": "pyout",
       "prompt_number": 59,
       "text": [
        "'<unknown name>'"
       ]
      }
     ],
     "prompt_number": 59
    },
    {
     "cell_type": "code",
     "collapsed": false,
     "input": [
      "protein_record.name = \"Hemoglobin\"\n",
      "protein_record.name"
     ],
     "language": "python",
     "metadata": {},
     "outputs": [
      {
       "metadata": {},
       "output_type": "pyout",
       "prompt_number": 60,
       "text": [
        "'Hemoglobin'"
       ]
      }
     ],
     "prompt_number": 60
    },
    {
     "cell_type": "code",
     "collapsed": false,
     "input": [
      "protein_record.annotations"
     ],
     "language": "python",
     "metadata": {},
     "outputs": [
      {
       "metadata": {},
       "output_type": "pyout",
       "prompt_number": 61,
       "text": [
        "{}"
       ]
      }
     ],
     "prompt_number": 61
    },
    {
     "cell_type": "code",
     "collapsed": false,
     "input": [
      "protein_record.annotations[\"origin\"] = \"human\"\n",
      "protein_record.annotations[\"subunit\"] = \"alpha\"\n",
      "protein_record.annotations"
     ],
     "language": "python",
     "metadata": {},
     "outputs": [
      {
       "metadata": {},
       "output_type": "pyout",
       "prompt_number": 62,
       "text": [
        "{'origin': 'human', 'subunit': 'alpha'}"
       ]
      }
     ],
     "prompt_number": 62
    },
    {
     "cell_type": "code",
     "collapsed": false,
     "input": [
      "print(protein_record)"
     ],
     "language": "python",
     "metadata": {},
     "outputs": [
      {
       "output_type": "stream",
       "stream": "stdout",
       "text": [
        "ID: sp|P69905.2|HBA_HUMAN\n",
        "Name: Hemoglobin\n",
        "Description: Hemoglobin subunit alpha, Homo sapiens\n",
        "Number of features: 0\n",
        "/origin=human\n",
        "/subunit=alpha\n",
        "Seq('MVLSPADKTNVKAAWGKVGAHAGEYGAEALERMFLSFPTTKTYFPHFDLSHGSA...YR*', HasStopCodon(IUPACProtein(), '*'))\n"
       ]
      }
     ],
     "prompt_number": 63
    },
    {
     "cell_type": "heading",
     "level": 5,
     "metadata": {},
     "source": [
      "Converting SeqRecord Object to File formats"
     ]
    },
    {
     "cell_type": "code",
     "collapsed": false,
     "input": [
      "print protein_record.format(\"fasta\")"
     ],
     "language": "python",
     "metadata": {},
     "outputs": [
      {
       "output_type": "stream",
       "stream": "stdout",
       "text": [
        ">sp|P69905.2|HBA_HUMAN Hemoglobin subunit alpha, Homo sapiens\n",
        "MVLSPADKTNVKAAWGKVGAHAGEYGAEALERMFLSFPTTKTYFPHFDLSHGSAQVKGHG\n",
        "KKVADALTNAVAHVDDMPNALSALSDLHAHKLRVDPVNFKLLSHCLLVTLAAHLPAEFTP\n",
        "AVHASLDKFLASVSTVLTSKYR*\n",
        "\n"
       ]
      }
     ],
     "prompt_number": 64
    },
    {
     "cell_type": "code",
     "collapsed": false,
     "input": [
      "print protein_record.format(\"genbank\")"
     ],
     "language": "python",
     "metadata": {},
     "outputs": [
      {
       "output_type": "stream",
       "stream": "stdout",
       "text": [
        "LOCUS       Hemoglobin               143 aa                     UNK 01-JAN-1980\n",
        "DEFINITION  Hemoglobin subunit alpha, Homo sapiens\n",
        "ACCESSION   sp|P69905\n",
        "VERSION     sp|P69905\n",
        "KEYWORDS    .\n",
        "SOURCE      .\n",
        "  ORGANISM  .\n",
        "            .\n",
        "FEATURES             Location/Qualifiers\n",
        "ORIGIN\n",
        "        1 mvlspadktn vkaawgkvga hageygaeal ermflsfptt ktyfphfdls hgsaqvkghg\n",
        "       61 kkvadaltna vahvddmpna lsalsdlhah klrvdpvnfk llshcllvtl aahlpaeftp\n",
        "      121 avhasldkfl asvstvltsk yr*\n",
        "//\n",
        "\n"
       ]
      }
     ],
     "prompt_number": 65
    },
    {
     "cell_type": "heading",
     "level": 2,
     "metadata": {},
     "source": [
      "19.3.5 The SeqIO Module"
     ]
    },
    {
     "cell_type": "markdown",
     "metadata": {},
     "source": [
      "Here, you will see how to read and write sequence files using Biopython. "
     ]
    },
    {
     "cell_type": "markdown",
     "metadata": {},
     "source": [
      "The SeqIO module is very useful to parse many common file formats and write annotated sequence to standard file formats."
     ]
    },
    {
     "cell_type": "markdown",
     "metadata": {},
     "source": [
      "The Biopython SeqIO module provides parsers for many common file formats. "
     ]
    },
    {
     "cell_type": "markdown",
     "metadata": {},
     "source": [
      "These parsers extract information from an input file (either local or retrieved from a database) and automatically convert it into a SeqRecord object."
     ]
    },
    {
     "cell_type": "markdown",
     "metadata": {},
     "source": [
      "SeqIO provides a mehod to write SeqRecord objects to conveniently formatted files"
     ]
    },
    {
     "cell_type": "heading",
     "level": 5,
     "metadata": {},
     "source": [
      "Parsing Files"
     ]
    },
    {
     "cell_type": "markdown",
     "metadata": {},
     "source": [
      "There are two methods for sequence file parsing : SeqIO.parse() and SeqIO.read()"
     ]
    },
    {
     "cell_type": "markdown",
     "metadata": {},
     "source": [
      "\ud544\uc694\ud55c arguments\n",
      "1. a file \n",
      "2. a string indicating the format of thd data (ex, \"fasta\", \"genbank\")\n",
      "\uc635\uc158\n",
      "1. an argument that specifies the alphabet of the sequence data "
     ]
    },
    {
     "cell_type": "markdown",
     "metadata": {},
     "source": [
      "1. SeqIO.parse : SeqRecord objects\ub97c \uc0dd\uc131\ud558\ub294 iterator\ub97c \ub9ac\ud134\ud55c\ub2e4. iterator\ub97c list\ucc98\ub7fc for\uc640 while loop\ub85c \uc0ac\uc6a9\ud560 \uc218 \uc788\ub2e4. \n",
      "2. SeqIO.read : single record file\uc774\uba74, \uc0ac\uc6a9\uac00\ub2a5\ud558\ub2e4. \uc5ed\uc2dc, SeqRecord object\ub97c \ub9ac\ud134\ud55c\ub2e4. "
     ]
    },
    {
     "cell_type": "heading",
     "level": 5,
     "metadata": {},
     "source": [
      "Parsing Large Sequence Files"
     ]
    },
    {
     "cell_type": "markdown",
     "metadata": {},
     "source": [
      "iterator\ub97c \uc0ac\uc6a9\ud558\uc5ec large momory\uc758 \uc774\uc6a9\uc5c6\uc774 large file\uc744 parse\ud560 \uc218 \uc788\uc2b5\ub2c8\ub2e4. "
     ]
    },
    {
     "cell_type": "markdown",
     "metadata": {},
     "source": [
      "The SeqIO.index : returns a dictionary-like object that gives you access to all records without keeping all data in the memory"
     ]
    },
    {
     "cell_type": "markdown",
     "metadata": {},
     "source": [
      "The dictinary keys are..\n",
      "1. the ID of the record\n",
      "2. the value contatin the entire record"
     ]
    },
    {
     "cell_type": "heading",
     "level": 5,
     "metadata": {},
     "source": [
      "Writing Files"
     ]
    },
    {
     "cell_type": "markdown",
     "metadata": {},
     "source": [
      "SeqIO.write : writes one or more SeqRecord objects to a file in the format specified by the user. \n",
      "This method requires 3 arguments \n",
      "1. one or more SeqRecord objects\n",
      "2. a handle object(i.e, a file opend with the \"w\" modality) or a filenames to write to \n",
      "3. a sequence format (e.g \"fasta\", or \"genbank\")"
     ]
    },
    {
     "cell_type": "heading",
     "level": 6,
     "metadata": {},
     "source": [
      "Concluding Remarks"
     ]
    },
    {
     "cell_type": "markdown",
     "metadata": {},
     "source": [
      "customized parsing\uc744 \ud560\ub54c\ub098, nonstandard format\ub97c parsing \ud560\ub54c\ub294 biopython\uc73c\ub85c\ub294 parsing\uc774 \ubd88\uac00\ub2a5\ud558\uace0 traditional programming\uc744 \ud574\uc57c\ud55c\ub2e4. "
     ]
    },
    {
     "cell_type": "markdown",
     "metadata": {},
     "source": [
      "\ud558\uc9c0\ub9cc, index large file\uc744 parsing\uc744 \ud560 \uacbd\uc6b0, SeqIO module\uc744 \uc774\uc6a9\ud558\uba74 \ud3b8\ud558\ub2e4. "
     ]
    }
   ],
   "metadata": {}
  }
 ]
}