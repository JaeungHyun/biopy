{
 "metadata": {
  "name": "",
  "signature": "sha256:e9908403b207307f89bf730c58c11b29425bb1ab29bb71228e93b72fbe926aab"
 },
 "nbformat": 3,
 "nbformat_minor": 0,
 "worksheets": [
  {
   "cells": [
    {
     "cell_type": "heading",
     "level": 1,
     "metadata": {},
     "source": [
      "Snakemake\uc640 Joblib \uc18c\uac1c - Python\uc744 \uc774\uc6a9\ud55c pipeline"
     ]
    },
    {
     "cell_type": "markdown",
     "metadata": {},
     "source": [
      "Samtools\ub97c \uc774\uc6a9\ud574\uc11c \uc9c4\ud589\ub429\ub2c8\ub2e4.\n",
      "\n",
      "\uc2e4\uc2b5\uc5d0 \ud544\uc694\ud55c \ub370\uc774\ud130\ub294 \uad6c\uae00 \ub4dc\ub77c\uc774\ube0c\uc758 .sam \ud30c\uc77c\ub4e4\uc744 \ub2e4\uc6b4\ubc1b\uc73c\uc2dc\uba74 \ub429\ub2c8\ub2e4.\n",
      "\n",
      "** Snakemake\ub294 python 3 \uc0c1\uc5d0\uc11c \ub3d9\uc791\ud558\ubbc0\ub85c python 3 \ub97c \uae30\ubcf8\uc73c\ub85c \uc0ac\uc6a9\ud558\uc2dc\uc9c0 \uc54a\ub294\ub2e4\uba74 \uc2e4\uc2b5\uc740 \uc544\ub798\uc640 \uac19\uc740 virtualenv\ub97c \uc2e4\ud589\uc2dc\ud0a8 \ud6c4 \uac00\uc0c1\ud658\uacbd\uc0c1\uc5d0\uc11c \uc774\ub8e8\uc5b4\uc838\uc57c \ud569\ub2c8\ub2e4.(linux \uae30\uc900) **"
     ]
    },
    {
     "cell_type": "raw",
     "metadata": {},
     "source": [
      "virtualenv -p /usr/bin/python3 venv"
     ]
    },
    {
     "cell_type": "heading",
     "level": 2,
     "metadata": {},
     "source": [
      "Snakemake - make like pipeline tool"
     ]
    },
    {
     "cell_type": "raw",
     "metadata": {},
     "source": [
      "samtools view -b -S -o sim_reads_aligned.bam sim_reads_aligned.sam\n",
      "samtools sort sim_reads_aligned.bam sim_reads_aligned.sorted\n",
      "samtools index sim_reads_aligned.sorted.bam\n",
      "samtools mpileup -g -f NC_008253.fna sim_reads_aligned.sorted.bam > sim_variants.bcf\n",
      "bcftools view -c -v sim_variants.bcf > sim_variants.vcf"
     ]
    },
    {
     "cell_type": "markdown",
     "metadata": {},
     "source": [
      "samtools \ub97c \uc774\uc6a9\ud574\uc11c .sam \ud3ec\ub9f7\uc758 \ub370\uc774\ud130\ub97c \ucc98\ub9ac\ud558\uae30 \uc704\ud574\uc11c\ub294 \uc704\uc640 \uac19\uc740 \uba85\ub839\uc5b4\uac00 \uc21c\ucc28\uc801\uc73c\ub85c \uc2e4\ud589\ub418\uc5b4\uc57c \ud569\ub2c8\ub2e4.\n",
      "\n",
      "\ud558\uc9c0\ub9cc snakemake\ub97c \uc774\uc6a9\ud558\uba74 \uc544\ub798\uc640 \uac19\uc740 \uc2a4\ud06c\ub9bd\ud2b8\ub97c \uc791\uc131\ud574 \uc804 \uc791\uc5c5\uc744 \uc790\ub3d9\ud654\ud560\uc218 \uc788\uc2b5\ub2c8\ub2e4."
     ]
    },
    {
     "cell_type": "raw",
     "metadata": {},
     "source": [
      "rule all:\n",
      "    input: \"sim_variants.vcf\"\n",
      "\n",
      "rule vcf:\n",
      "    input: \"sim_variants.bcf\"\n",
      "    output: \"sim_variants.vcf\"\n",
      "    shell: \"bcftools view -c -v {input} > {output}\"\n",
      "\n",
      "rule pileup:\n",
      "    input: fna=\"NC_008253.fna\", input=\"sim_reads_aligned.sorted.bam\"\n",
      "    output: \"sim_variants.bcf\"\n",
      "    shell: \"samtools mpileup -g -f {input.fna} {input.input} > {output}\"\n",
      "\n",
      "rule index:\n",
      "    input: \"sim_reads_aligned.sorted.bam\"\n",
      "    shell: \"samtools index {input}\"\n",
      "\n",
      "rule sort:\n",
      "    input: \"sim_reads_aligned.bam\"\n",
      "    output: \"sim_reads_aligned.sorted.bam\"\n",
      "    shell: \"samtools sort {input} sim_reads_aligned.sorted\"\n",
      "\n",
      "rule view:\n",
      "    input: \"sim_reads_aligned.sam\"\n",
      "    output: \"sim_reads_aligned.bam\"\n",
      "    shell: \"samtools view -b -S -o {output} {input}\""
     ]
    },
    {
     "cell_type": "markdown",
     "metadata": {},
     "source": [
      "input output shell \uc774\uc678\uc5d0\ub3c4 run, message, log, threads \ub4f1\uc758 \uad6c\ubb38\uc774 \uc874\uc7ac\ud569\ub2c8\ub2e4\n",
      "\n",
      "run - python \uc2a4\ud06c\ub9bd\ud2b8\ub97c \uc9c1\uc811 \uc785\ub825\n",
      "\n",
      "    run:\n",
      "        for i in input:\n",
      "            f = open(i)\n",
      "            io = f.read()\n",
      "            ...\n",
      "\n",
      "message - \ud574\ub2f9 \uc791\uc5c5\uc774 \uc2dc\uc791\ub420\ub54c \uba54\uc138\uc9c0\ub97c \ucd9c\ub825\n",
      "\n",
      "    message: \"Hello, World!\"\n",
      "\n",
      "log - \ub85c\uadf8 \ud30c\uc77c \ub514\ub809\ud1a0\ub9ac\ub97c \uc9c0\uc815\ud558\uba74 \ud574\ub2f9 \uc791\uc5c5 \uc911\uc758 \ub85c\uadf8\ub97c txt\ud30c\uc77c\ub85c \uc800\uc7a5\n",
      "\n",
      "    log: \"log/log1.txt\"\n",
      "\n",
      "threads - \ub9cc\uc57d \ucee4\ub9e8\ub4dc\ub77c\uc778 \ud234/\ud504\ub85c\uac1c\ub9bc\uc774 \uc2a4\ub808\ub4dc \uac2f\uc218\ub97c \uc9c0\uc815\ud560 \uc218 \uc788\ub3c4\ub85d \ud558\uba74 \ubcc0\uc218 \ud615\ud0dc\ub85c \uc81c\uacf5\n",
      "\n",
      "    threads: 8\n",
      "    shell: \"somecommand --no-thread {threads} {input} {output}\"\n",
      "    ..."
     ]
    },
    {
     "cell_type": "heading",
     "level": 2,
     "metadata": {},
     "source": [
      "Joblib - running python functions as pipeline"
     ]
    },
    {
     "cell_type": "markdown",
     "metadata": {},
     "source": [
      "** Joblib\uc740 pipeline \uc790\uccb4\ub97c \ub9cc\ub4e4\uae30\ubcf4\ub2e4\ub294 pipeline\uc744 \ub9cc\ub4dc\ub294 \uacfc\uc815\uc5d0\uc11c \ud544\uc694\ud55c I/O\ub97c \ube60\ub974\uac8c \ud558\uace0 pipeline\uc744 \ubcd1\ub82c\ud654\ud560\uc218 \uc788\ub3c4\ub85d \ub3c4\uc640\uc8fc\ub294 \uc791\uc740 \ubaa8\ub4c8\uc785\ub2c8\ub2e4. **\n",
      "\n",
      "\uc544\ub798\ub294 \ubb34\uc791\uc704\uc801\uc778 \uc2dc\ud000\uc2a4\ub4e4\uc774 \ub4e4\uc5b4\uc788\ub294 \ud30c\uc77c\uc744 \uc77d\uc5b4\ub4e4\uc5ec sam \ud30c\uc77c\uc758 \uba87\ubc88\uc9f8 \uc904\uacfc \uc77c\uce58\ud558\ub294\uc9c0 \ud655\uc778\ud558\ub294 \ucf54\ub4dc\uc785\ub2c8\ub2e4."
     ]
    },
    {
     "cell_type": "raw",
     "metadata": {},
     "source": [
      "seq_list = []\n",
      "\n",
      "f = open(\"sim_reads_aligned.sam\")\n",
      "while True:\n",
      "    line = f.readline()\n",
      "    if not line:\n",
      "        break\n",
      "    list = line.split(\"\\t\")\n",
      "    seq = list[9]\n",
      "    seq_list.append(seq)\n",
      "f.close()\n",
      "\n",
      "f = open(\"shuffled.sam\")\n",
      "while True:\n",
      "    line = f.readline()\n",
      "    if not line:\n",
      "        break\n",
      "    index = seq_list.index(line)\n",
      "    print line + \"is in line\" + (index+1)\n",
      "f.close()"
     ]
    },
    {
     "cell_type": "markdown",
     "metadata": {},
     "source": [
      "\uc704\uc758 \ubc29\ubc95\uc5d0\uc11c\uc640 \uac19\uc774 \ubaa8\ub4e0 \uc2dc\ud000\uc2a4\ub97c \ubb38\uc790\uc5f4 \ud615\ud0dc\ub85c \uba54\ubaa8\ub9ac\uc5d0 \ubcf4\uad00\ud558\uac8c \ub418\uba74 \ud070 \ud30c\uc77c\uc744 \ub2e4\ub8f0 \uacbd\uc6b0 \ub9ac\uc18c\uc2a4\ub97c \ub9ce\uc774 \uc0ac\uc6a9\ud558\uac8c \ub418\uace0 \uc804\uccb4\uc801\uc778 \uc131\ub2a5 \uc800\ud558\ub85c \uc774\uc5b4\uc9d1\ub2c8\ub2e4.\n",
      "joblib\uc5d0\uc11c \uc81c\uacf5\ub418\ub294 caching \uae30\ub2a5\uc744 \uc0ac\uc6a9\ud558\uc5ec \uc774\ub7ec\ud55c \ubb38\uc81c\ub97c \ud574\uacb0\ud560 \uc218 \uc788\uc2b5\ub2c8\ub2e4."
     ]
    },
    {
     "cell_type": "raw",
     "metadata": {},
     "source": [
      "from tempfile import mkdtemp\n",
      "from joblib import Memory\n",
      "\n",
      "cachedir = mkdtemp()\n",
      "memory = Memory(cachedir=cachedir, verbose=0)\n",
      "\n",
      "@memory.cache\n",
      "def read_ref():\n",
      "    seq_list = []\n",
      "    f = open(\"sim_reads_aligned.sam\")\n",
      "    while True:\n",
      "        line = f.readline()\n",
      "        if not line:\n",
      "            break\n",
      "        if \"@\" in line:\n",
      "            continue\n",
      "        list = line.split(\"\\t\")\n",
      "        seq = list[9].strip()\n",
      "        seq_list.append(seq)\n",
      "    f.close()\n",
      "\n",
      "    return seq_list\n",
      "\n",
      "f = open(\"shuffled.sam\")\n",
      "while True:\n",
      "    line = f.readline()\n",
      "    if not line:\n",
      "        break\n",
      "    try:\n",
      "        line = line.strip()\n",
      "        index = read_ref().index(line)\n",
      "        print line + \"is in line\" + str(index+1)\n",
      "    except ValueError:\n",
      "        pass\n",
      "f.close()"
     ]
    },
    {
     "cell_type": "markdown",
     "metadata": {},
     "source": [
      "\ud639\uc740 \ubcd1\ub82c\uc5f0\uc0b0\uc744 \uac00\ub2a5\ud558\uac8c \ud560 \uc218 \uc788\uc2b5\ub2c8\ub2e4."
     ]
    },
    {
     "cell_type": "raw",
     "metadata": {},
     "source": [
      "from joblib import Parallel, delayed\n",
      "\n",
      "ref_list = []\n",
      "seq_list = []\n",
      "\n",
      "def index_seq(seq):\n",
      "    index = ref_list.index(seq)\n",
      "    print seq + \"is in line\" + (index+1)\n",
      "\n",
      "f = open(\"sim_reads_aligned.sam\")\n",
      "while True:\n",
      "    line = f.readline()\n",
      "    if not line:\n",
      "        break\n",
      "    list = line.split(\"\\t\")\n",
      "    seq = list[9]\n",
      "    seq_list.append(seq)\n",
      "f.close()\n",
      "\n",
      "f = open(\"shuffled.sam\")\n",
      "while True:\n",
      "    line = f.readline()\n",
      "    if not line:\n",
      "        break\n",
      "    seq_list.append(line)\n",
      "f.close()\n",
      "\n",
      "Parallel(n_jobs=4)(delayed(index_seq)(sequence) for sequence in seq_list)"
     ]
    },
    {
     "cell_type": "markdown",
     "metadata": {},
     "source": [
      "\ub610\ud55c joblib\uc758 load\ub97c \uc774\uc6a9\ud558\uba74 \ud30c\uc77c \uc804\uccb4\ub97c python object \ud615\ud0dc\ub85c \uce90\uc2f1\ud560\uc218\uc788\uc2b5\ub2c8\ub2e4.\n",
      "\n",
      "\uc635\uc158\uc744 \uc904 \uacbd\uc6b0 memory mapping\uc744 \ud1b5\ud574\uc11c \ud070 \ud30c\uc77c\ub3c4 \uce90\uc2f1 \ud6c4 \ube60\ub974\uac8c \uc77d\uc744\uc218 \uc788\uc2b5\ub2c8\ub2e4.\n",
      "\n",
      "    file = joblib.load(\"shuffled.sam\", mmap_mode=\"c\")\n",
      "\n",
      "joblib\uc5d0\uc11c \uc81c\uacf5\ub418\ub294 \uae30\ub2a5\ub4e4\uacfc Python script\ub85c pipeline\uc744 \uc9e4 \uc218 \uc788\uc2b5\ub2c8\ub2e4.\n",
      "**\uc258 \uc2a4\ud06c\ub9bd\ud2b8\ub098 \ub2e4\ub978 \ubc29\ubc95\ub4e4\uc5d0 \ube44\ud574\uc11c \ube60\ub974\uac8c**"
     ]
    },
    {
     "cell_type": "code",
     "collapsed": false,
     "input": [],
     "language": "python",
     "metadata": {},
     "outputs": []
    }
   ],
   "metadata": {}
  }
 ]
}