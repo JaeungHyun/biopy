{
 "metadata": {
  "name": "",
  "signature": "sha256:b6547dba6104e2070d9b7ab95ddc415b6c6da6a251e76d53d05599de15b18779"
 },
 "nbformat": 3,
 "nbformat_minor": 0,
 "worksheets": [
  {
   "cells": [
    {
     "cell_type": "heading",
     "level": 1,
     "metadata": {},
     "source": [
      "Ch14.building program pipelines"
     ]
    },
    {
     "cell_type": "markdown",
     "metadata": {},
     "source": [
      "NGS \uc2e4\uc2b5\uc740 biolinux-7 (ubuntu 12.04) \ud658\uacbd\uc5d0\uc11c \uc774\ub8e8\uc5b4 \uc9d1\ub2c8\ub2e4.\n",
      "tophat, cufflinks, samtools\uac00 \uc815\uc0c1\uc801\uc73c\ub85c \uc791\ub3d9\ud558\ub294\uc9c0 \ubbf8\ub9ac \ud655\uc778\ud574\uc8fc\uc2dc\uae30 \ubc14\ub78d\ub2c8\ub2e4."
     ]
    },
    {
     "cell_type": "code",
     "collapsed": false,
     "input": [
      "!ls -lh"
     ],
     "language": "python",
     "metadata": {},
     "outputs": [
      {
       "output_type": "stream",
       "stream": "stdout",
       "text": [
        "total 40K\n",
        "-rw-rw-r-- 1 manager manager  20K Sep 14 15:17 ch14.building program pipelines.ipynb\n",
        "drwxrwxr-x 2 manager manager 4.0K Sep 14 15:10 cufflinks\n",
        "drwxrwxrwx 2 manager manager 4.0K Oct 30  2012 data\n",
        "drwxrwxrwx 2 manager manager 4.0K Sep 14 15:24 ref\n",
        "drwxrwxrwx 7 manager manager 4.0K Sep 14 12:49 RNA-seq\n",
        "drwxrwxr-x 2 manager manager 4.0K Sep 14 15:11 tophat"
       ]
      }
     ],
     "prompt_number": 6
    },
    {
     "cell_type": "code",
     "collapsed": true,
     "input": [
      "!tophat"
     ],
     "language": "python",
     "metadata": {},
     "outputs": [
      {
       "output_type": "stream",
       "stream": "stdout",
       "text": [
        "tophat: \n",
        "TopHat maps short sequences from spliced transcripts to whole genomes.\n",
        "\n",
        "Usage:\n",
        "    tophat [options] <bowtie_index> <reads1[,reads2,...]> [reads1[,reads2,...]] \\\n",
        "                                    [quals1,[quals2,...]] [quals1[,quals2,...]]\n",
        "\n",
        "Options:\n",
        "    -v/--version\n",
        "    -o/--output-dir                <string>    [ default: ./tophat_out         ]\n",
        "    --bowtie1                                  [ default: bowtie2              ]\n",
        "    -N/--read-mismatches           <int>       [ default: 2                    ]\n",
        "    --read-gap-length              <int>       [ default: 2                    ]\n",
        "    --read-edit-dist               <int>       [ default: 2                    ]\n",
        "    --read-realign-edit-dist       <int>       [ default: \"read-edit-dist\" + 1 ]\n",
        "    -a/--min-anchor                <int>       [ default: 8                    ]\n",
        "    -m/--splice-mismatches         <0-2>       [ default: 0                    ]\n",
        "    -i/--min-intron-length         <int>       [ default: 50                   ]\n",
        "    -I/--max-intron-length         <int>       [ default: 500000               ]\n",
        "    -g/--max-multihits             <int>       [ default: 20                   ]\n",
        "    --suppress-hits\n",
        "    -x/--transcriptome-max-hits    <int>       [ default: 60                   ]\n",
        "    -M/--prefilter-multihits                   ( for -G/--GTF option, enable\n",
        "                                                 an initial bowtie search\n",
        "                                                 against the genome )\n",
        "    --max-insertion-length         <int>       [ default: 3                    ]\n",
        "    --max-deletion-length          <int>       [ default: 3                    ]\n",
        "    --solexa-quals\n",
        "    --solexa1.3-quals                          (same as phred64-quals)\n",
        "    --phred64-quals                            (same as solexa1.3-quals)\n",
        "    -Q/--quals\n",
        "    --integer-quals\n",
        "    -C/--color                                 (Solid - color space)\n",
        "    --color-out\n",
        "    --library-type                 <string>    (fr-unstranded, fr-firststrand,\n",
        "                                                fr-secondstrand)\n",
        "    -p/--num-threads               <int>       [ default: 1                   ]\n",
        "    -R/--resume                    <out_dir>   ( try to resume execution )\n",
        "    -G/--GTF                       <filename>  (GTF/GFF with known transcripts)\n",
        "    --transcriptome-index          <bwtidx>    (transcriptome bowtie index)\n",
        "    -T/--transcriptome-only                    (map only to the transcriptome)\n",
        "    -j/--raw-juncs                 <filename>\n",
        "    --insertions                   <filename>\n",
        "    --deletions                    <filename>\n",
        "    -r/--mate-inner-dist           <int>       [ default: 50                  ]\n",
        "    --mate-std-dev                 <int>       [ default: 20                  ]\n",
        "    --no-novel-juncs\n",
        "    --no-novel-indels\n",
        "    --no-gtf-juncs\n",
        "    --no-coverage-search\n",
        "    --coverage-search\n",
        "    --microexon-search\n",
        "    --keep-tmp\n",
        "    --tmp-dir                      <dirname>   [ default: <output_dir>/tmp ]\n",
        "    -z/--zpacker                   <program>   [ default: gzip             ]\n",
        "    -X/--unmapped-fifo                         [use mkfifo to compress more temporary"
       ]
      },
      {
       "output_type": "stream",
       "stream": "stdout",
       "text": [
        "\n",
        "                                                 files for color space reads]\n",
        "\n",
        "Advanced Options:\n",
        "    --report-secondary-alignments\n",
        "    --no-discordant\n",
        "    --no-mixed\n",
        "\n",
        "    --segment-mismatches           <int>       [ default: 2                ]\n",
        "    --segment-length               <int>       [ default: 25               ]\n",
        "\n",
        "    --bowtie-n                                 [ default: bowtie -v        ]\n",
        "    --min-coverage-intron          <int>       [ default: 50               ]\n",
        "    --max-coverage-intron          <int>       [ default: 20000            ]\n",
        "    --min-segment-intron           <int>       [ default: 50               ]\n",
        "    --max-segment-intron           <int>       [ default: 500000           ]\n",
        "    --no-sort-bam                              (Output BAM is not coordinate-sorted)\n",
        "    --no-convert-bam                           (Do not output bam format.\n",
        "                                                Output is <output_dir>/accepted_hit.sam)\n",
        "    --keep-fasta-order\n",
        "    --allow-partial-mapping\n",
        "\n",
        "Bowtie2 related options:\n",
        "  Preset options in --end-to-end mode (local alignment is not used in TopHat2)\n",
        "    --b2-very-fast\n",
        "    --b2-fast\n",
        "    --b2-sensitive\n",
        "    --b2-very-sensitive\n",
        "\n",
        "  Alignment options\n",
        "    --b2-N                         <int>       [ default: 0                ]\n",
        "    --b2-L                         <int>       [ default: 20               ]\n",
        "    --b2-i                         <func>      [ default: S,1,1.25         ]\n",
        "    --b2-n-ceil                    <func>      [ default: L,0,0.15         ]\n",
        "    --b2-gbar                      <int>       [ default: 4                ]\n",
        "\n",
        "  Scoring options\n",
        "    --b2-mp                        <int>,<int> [ default: 6,2              ]\n",
        "    --b2-np                        <int>       [ default: 1                ]\n",
        "    --b2-rdg                       <int>,<int> [ default: 5,3              ]\n",
        "    --b2-rfg                       <int>,<int> [ default: 5,3              ]\n",
        "    --b2-score-min                 <func>      [ default: L,-0.6,-0.6      ]\n",
        "\n",
        "  Effort options\n",
        "    --b2-D                         <int>       [ default: 15               ]\n",
        "    --b2-R                         <int>       [ default: 2                ]\n",
        "\n",
        "Fusion related options:\n",
        "    --fusion-search\n",
        "    --fusion-anchor-length         <int>       [ default: 20               ]\n",
        "    --fusion-min-dist              <int>       [ default: 10000000         ]\n",
        "    --fusion-read-mismatches       <int>       [ default: 2                ]\n",
        "    --fusion-multireads            <int>       [ default: 2                ]\n",
        "    --fusion-multipairs            <int>       [ default: 2                ]\n",
        "    --fusion-ignore-chromosomes    <list>      [ e.g, <chrM,chrX>          ]\n",
        "\n",
        "    --fusion-do-not-resolve-conflicts          [this is for test purposes  ]\n",
        "\n",
        "SAM Header Options (for embedding sequencing run metadata in output):\n",
        "    --rg-id                        <string>    (read group ID)\n",
        "    --rg-sample                    <string>    (sample ID)\n",
        "    --rg-library                   <string>    (library ID)\n",
        "    --rg-description               <string>    (descriptive string, no tabs allowed)\n",
        "    --rg-platform-unit             <string>    (e.g Illumina lane ID)\n",
        "    --rg-center                    <string>    (sequencing center name)\n",
        "    --rg-date                      <string>    (ISO 8601 date of the sequencing run)\n",
        "    --rg-platform                  <string>    (Sequencing platform descriptor)\n",
        "\n",
        "    for detailed help see http://tophat.cbcb.umd.edu/manual.html"
       ]
      }
     ],
     "prompt_number": 3
    },
    {
     "cell_type": "code",
     "collapsed": true,
     "input": [
      "!cufflinks"
     ],
     "language": "python",
     "metadata": {},
     "outputs": [
      {
       "output_type": "stream",
       "stream": "stdout",
       "text": [
        "cufflinks v2.1.1\n",
        "linked against Boost version 104800\n",
        "-----------------------------\n",
        "Usage:   cufflinks [options] <hits.sam>\n",
        "General Options:\n",
        "  -o/--output-dir              write all output files to this directory              [ default:     ./ ]\n",
        "  -p/--num-threads             number of threads used during analysis                [ default:      1 ]\n",
        "  --seed                       value of random number generator seed                 [ default:      0 ]\n",
        "  -G/--GTF                     quantitate against reference transcript annotations                      \n",
        "  -g/--GTF-guide               use reference transcript annotation to guide assembly                   \n",
        "  -M/--mask-file               ignore all alignment within transcripts in this file                     \n",
        "  -b/--frag-bias-correct       use bias correction - reference fasta required        [ default:   NULL ]\n",
        "  -u/--multi-read-correct      use 'rescue method' for multi-reads (more accurate)   [ default:  FALSE ]\n",
        "  --library-type               library prep used for input reads                     [ default:  below ]\n",
        "  --library-norm-method        Method used to normalize library sizes                [ default:  below ]\n",
        "\n",
        "Advanced Abundance Estimation Options:\n",
        "  -m/--frag-len-mean           average fragment length (unpaired reads only)         [ default:    200 ]\n",
        "  -s/--frag-len-std-dev        fragment length std deviation (unpaired reads only)   [ default:     80 ]\n",
        "  --max-mle-iterations         maximum iterations allowed for MLE calculation        [ default:   5000 ]\n",
        "  --compatible-hits-norm       count hits compatible with reference RNAs only        [ default:  FALSE ]\n",
        "  --total-hits-norm            count all hits for normalization                      [ default:  TRUE  ]\n",
        "  --num-frag-count-draws       Number of fragment generation samples                 [ default:    100 ]\n",
        "  --num-frag-assign-draws      Number of fragment assignment samples per generation  [ default:     50 ]\n",
        "  --max-frag-multihits         Maximum number of alignments allowed per fragment     [ default: unlim  ]\n",
        "  --no-effective-length-correction   No effective length correction                  [ default:  FALSE ]\n",
        "  --no-length-correction       No length correction                                  [ default:  FALSE ]\n",
        "  -N/--upper-quartile-norm     Deprecated, use --library-norm-method                 [    DEPRECATED   ]\n",
        "  --raw-mapped-norm            Deprecated, use --library-norm-method                 [    DEPRECATED   ]\n",
        "\n",
        "Advanced Assembly Options:\n",
        "  -L/--label                   assembled transcripts have this ID prefix             [ default:   CUFF ]\n",
        "  -F/--min-isoform-fraction    suppress transcripts below this abundance level       [ default:   0.10 ]\n",
        "  -j/--pre-mrna-fraction       suppress intra-intronic transcripts below this level  [ default:   0.15 ]\n",
        "  -I/--max-intron-length       ignore alignments with gaps longer than this          [ default: 300000 ]\n",
        "  -a/--junc-alpha              alpha for junction binomial test filter               [ default:  0.001 ]\n",
        "  -A/--small-anchor-fraction   percent read overhang taken as 'suspiciously small'   [ default:   0.09 ]\n",
        "  --min-frags-per-transfrag    minimum number of fragments needed for new transfrags [ default:     10 ]\n",
        "  --overhang-tolerance         number of terminal exon bp to tolerate in introns     [ default:      8 ]\n",
        "  --max-bundle-length          maximum genomic length allowed for a given bundle     [ default:3500000 ]\n",
        "  --max-bundle-frags           maximum fragments allowed in a bundle before skipping [ default: 500000 ]\n",
        "  --min-intron-length          minimum intron size allowed in genome                 [ default:     50 ]\n",
        "  --trim-3-avgcov-thresh       minimum avg coverage required to attempt 3' trimming  [ default:     10 ]\n",
        "  --trim-3-dropoff-frac        fraction of avg coverage below which to trim 3' end   [ default:    0.1 ]\n",
        "  --max-multiread-fraction     maximum fraction of allowed multireads per transcript [ default:   0.75 ]\n",
        "  --overlap-radius             maximum gap size to fill between transfrags (in bp)   [ default:     50 ]\n",
        "\n",
        "Advanced Reference Annotation Guided Assembly Options:\n",
        "  --no-faux-reads              disable tiling by faux reads                          [ default:  FALSE ]\n",
        "  --3-overhang-tolerance       overhang allowed on 3' end when merging with reference[ default:    600 ]\n",
        "  --intron-overhang-tolerance  overhang allowed inside reference intron when merging [ default:     30 ]\n",
        "\n",
        "Advanced Program Behavior Options:\n",
        "  -v/--verbose                 log-friendly verbose processing (no progress bar)     [ default:  FALSE ]\n",
        "  -q/--quiet                   log-friendly quiet processing (no progress bar)       [ default:  FALSE ]\n",
        "  --no-update-check            do not contact server to check for update availability[ default:  FALSE ]\n",
        "\n",
        "Supported library types:\n",
        "\tff-firststrand\n",
        "\tff-secondstrand\n",
        "\tff-unstranded\n",
        "\tfr-firststrand\n",
        "\tfr-secondstrand\n",
        "\tfr-unstranded (default)\n",
        "\ttransfrags\n",
        "\n",
        "Supported library normalization methods:\n",
        "\tclassic-fpkm\n",
        "\tpoisson"
       ]
      }
     ],
     "prompt_number": 5
    },
    {
     "cell_type": "code",
     "collapsed": false,
     "input": [
      "import os\n",
      "os.chdir('/home/manager/RNAseq/ref')\n",
      "os.listdir(os.getcwd())"
     ],
     "language": "python",
     "metadata": {},
     "outputs": [
      {
       "metadata": {},
       "output_type": "pyout",
       "prompt_number": 18,
       "text": [
        "['zv.fasta', 'zv.gtf']"
       ]
      }
     ],
     "prompt_number": 18
    },
    {
     "cell_type": "code",
     "collapsed": true,
     "input": [
      "#reference indexing\n",
      "!bowtie2-build zv.fa zv"
     ],
     "language": "python",
     "metadata": {},
     "outputs": [
      {
       "output_type": "stream",
       "stream": "stdout",
       "text": [
        "Settings:\n",
        "  Output files: \"zv.*.bt2\"\n",
        "  Line rate: 6 (line is 64 bytes)\n",
        "  Lines per side: 1 (side is 64 bytes)\n",
        "  Offset rate: 4 (one in 16)\n",
        "  FTable chars: 10\n",
        "  Strings: unpacked\n",
        "  Max bucket size: default\n",
        "  Max bucket size, sqrt multiplier: default\n",
        "  Max bucket size, len divisor: 4\n",
        "  Difference-cover sample period: 1024\n",
        "  Endianness: little\n",
        "  Actual local endianness: little\n",
        "  Sanity checking: disabled\n",
        "  Assertions: disabled\n",
        "  Random seed: 0\n",
        "  Sizeofs: void*:8, int:4, long:8, size_t:8\n",
        "Input files DNA, FASTA:\n",
        "  zv.fasta\n",
        "Reading reference sizes"
       ]
      },
      {
       "output_type": "stream",
       "stream": "stdout",
       "text": [
        "  Time reading reference sizes: 00:00:02\n",
        "Calculating joined length\n",
        "Writing header\n",
        "Reserving space for joined string\n",
        "Joining reference sequences"
       ]
      },
      {
       "output_type": "stream",
       "stream": "stdout",
       "text": [
        "  Time to join reference sequences: 00:00:01\n",
        "bmax according to bmaxDivN setting: 12640127\n",
        "Using parameters --bmax 9480096 --dcv 1024\n",
        "  Doing ahead-of-time memory usage test"
       ]
      },
      {
       "output_type": "stream",
       "stream": "stdout",
       "text": [
        "  Passed!  Constructing with these parameters: --bmax 9480096 --dcv 1024\n",
        "Constructing suffix-array element generator\n",
        "Building DifferenceCoverSample\n",
        "  Building sPrime\n",
        "  Building sPrimeOrder\n",
        "  V-Sorting samples"
       ]
      },
      {
       "output_type": "stream",
       "stream": "stdout",
       "text": [
        "  V-Sorting samples time: 00:00:02\n",
        "  Allocating rank array\n",
        "  Ranking v-sort output"
       ]
      },
      {
       "output_type": "stream",
       "stream": "stdout",
       "text": [
        "  Ranking v-sort output time: 00:00:01\n",
        "  Invoking Larsson-Sadakane on ranks"
       ]
      },
      {
       "output_type": "stream",
       "stream": "stdout",
       "text": [
        "  Invoking Larsson-Sadakane on ranks time: 00:00:01\n",
        "  Sanity-checking and returning\n",
        "Building samples\n",
        "Reserving space for 12 sample suffixes\n",
        "Generating random suffixes\n",
        "QSorting 12 sample offsets, eliminating duplicates\n",
        "QSorting sample offsets, eliminating duplicates time: 00:00:00\n",
        "Multikey QSorting 12 samples\n",
        "  (Using difference cover)\n",
        "  Multikey QSorting samples time: 00:00:00\n",
        "Calculating bucket sizes\n",
        "  Binary sorting into buckets"
       ]
      },
      {
       "output_type": "stream",
       "stream": "stdout",
       "text": [
        "  10%"
       ]
      },
      {
       "output_type": "stream",
       "stream": "stdout",
       "text": [
        "  20%"
       ]
      },
      {
       "output_type": "stream",
       "stream": "stdout",
       "text": [
        "  30%"
       ]
      },
      {
       "output_type": "stream",
       "stream": "stdout",
       "text": [
        "  40%"
       ]
      },
      {
       "output_type": "stream",
       "stream": "stdout",
       "text": [
        "  50%"
       ]
      },
      {
       "output_type": "stream",
       "stream": "stdout",
       "text": [
        "  60%"
       ]
      },
      {
       "output_type": "stream",
       "stream": "stdout",
       "text": [
        "  70%"
       ]
      },
      {
       "output_type": "stream",
       "stream": "stdout",
       "text": [
        "  80%"
       ]
      },
      {
       "output_type": "stream",
       "stream": "stdout",
       "text": [
        "  90%"
       ]
      },
      {
       "output_type": "stream",
       "stream": "stdout",
       "text": [
        "  100%\n",
        "  Binary sorting into buckets time: 00:00:07\n",
        "Splitting and merging\n",
        "  Splitting and merging time: 00:00:00\n",
        "Split 1, merged 5; iterating...\n",
        "  Binary sorting into buckets"
       ]
      },
      {
       "output_type": "stream",
       "stream": "stdout",
       "text": [
        "  10%"
       ]
      },
      {
       "output_type": "stream",
       "stream": "stdout",
       "text": [
        "  20%"
       ]
      },
      {
       "output_type": "stream",
       "stream": "stdout",
       "text": [
        "  30%"
       ]
      },
      {
       "output_type": "stream",
       "stream": "stdout",
       "text": [
        "  40%"
       ]
      },
      {
       "output_type": "stream",
       "stream": "stdout",
       "text": [
        "  50%"
       ]
      },
      {
       "output_type": "stream",
       "stream": "stdout",
       "text": [
        "  60%"
       ]
      },
      {
       "output_type": "stream",
       "stream": "stdout",
       "text": [
        "  70%"
       ]
      },
      {
       "output_type": "stream",
       "stream": "stdout",
       "text": [
        "  80%"
       ]
      },
      {
       "output_type": "stream",
       "stream": "stdout",
       "text": [
        "  90%"
       ]
      },
      {
       "output_type": "stream",
       "stream": "stdout",
       "text": [
        "  100%\n",
        "  Binary sorting into buckets time: 00:00:04\n",
        "Splitting and merging\n",
        "  Splitting and merging time: 00:00:00"
       ]
      },
      {
       "output_type": "stream",
       "stream": "stdout",
       "text": [
        "Avg bucket size: 6.32006e+06 (target: 9480095)\n",
        "Converting suffix-array elements to index image\n",
        "Allocating ftab, absorbFtab\n",
        "Entering Ebwt loop\n",
        "Getting block 1 of 8\n",
        "  Reserving size (9480096) for bucket\n",
        "  Calculating Z arrays\n",
        "  Calculating Z arrays time: 00:00:00\n",
        "  Entering block accumulator loop:"
       ]
      },
      {
       "output_type": "stream",
       "stream": "stdout",
       "text": [
        "  10%"
       ]
      },
      {
       "output_type": "stream",
       "stream": "stdout",
       "text": [
        "  20%"
       ]
      },
      {
       "output_type": "stream",
       "stream": "stdout",
       "text": [
        "  30%"
       ]
      },
      {
       "output_type": "stream",
       "stream": "stdout",
       "text": [
        "  40%"
       ]
      },
      {
       "output_type": "stream",
       "stream": "stdout",
       "text": [
        "  50%"
       ]
      },
      {
       "output_type": "stream",
       "stream": "stdout",
       "text": [
        "  60%"
       ]
      },
      {
       "output_type": "stream",
       "stream": "stdout",
       "text": [
        "  70%"
       ]
      },
      {
       "output_type": "stream",
       "stream": "stdout",
       "text": [
        "  80%"
       ]
      },
      {
       "output_type": "stream",
       "stream": "stdout",
       "text": [
        "  90%"
       ]
      },
      {
       "output_type": "stream",
       "stream": "stdout",
       "text": [
        "  100%\n",
        "  Block accumulator loop time: 00:00:02\n",
        "  Sorting block of length 6990931\n",
        "  (Using difference cover)"
       ]
      },
      {
       "output_type": "stream",
       "stream": "stdout",
       "text": [
        "  Sorting block time: 00:00:08\n",
        "Returning block of 6990932"
       ]
      },
      {
       "output_type": "stream",
       "stream": "stdout",
       "text": [
        "Getting block 2 of 8\n",
        "  Reserving size (9480096) for bucket\n",
        "  Calculating Z arrays\n",
        "  Calculating Z arrays time: 00:00:00\n",
        "  Entering block accumulator loop:"
       ]
      },
      {
       "output_type": "stream",
       "stream": "stdout",
       "text": [
        "  10%"
       ]
      },
      {
       "output_type": "stream",
       "stream": "stdout",
       "text": [
        "  20%"
       ]
      },
      {
       "output_type": "stream",
       "stream": "stdout",
       "text": [
        "  30%"
       ]
      },
      {
       "output_type": "stream",
       "stream": "stdout",
       "text": [
        "  40%"
       ]
      },
      {
       "output_type": "stream",
       "stream": "stdout",
       "text": [
        "  50%"
       ]
      },
      {
       "output_type": "stream",
       "stream": "stdout",
       "text": [
        "  60%"
       ]
      },
      {
       "output_type": "stream",
       "stream": "stdout",
       "text": [
        "  70%"
       ]
      },
      {
       "output_type": "stream",
       "stream": "stdout",
       "text": [
        "  80%"
       ]
      },
      {
       "output_type": "stream",
       "stream": "stdout",
       "text": [
        "  90%"
       ]
      },
      {
       "output_type": "stream",
       "stream": "stdout",
       "text": [
        "  100%\n",
        "  Block accumulator loop time: 00:00:02\n",
        "  Sorting block of length 4417400\n",
        "  (Using difference cover)"
       ]
      },
      {
       "output_type": "stream",
       "stream": "stdout",
       "text": [
        "  Sorting block time: 00:00:03\n",
        "Returning block of 4417401"
       ]
      },
      {
       "output_type": "stream",
       "stream": "stdout",
       "text": [
        "Getting block 3 of 8\n",
        "  Reserving size (9480096) for bucket\n",
        "  Calculating Z arrays\n",
        "  Calculating Z arrays time: 00:00:00"
       ]
      },
      {
       "output_type": "stream",
       "stream": "stdout",
       "text": [
        "\n",
        "  Entering block accumulator loop:"
       ]
      },
      {
       "output_type": "stream",
       "stream": "stdout",
       "text": [
        "  10%"
       ]
      },
      {
       "output_type": "stream",
       "stream": "stdout",
       "text": [
        "  20%"
       ]
      },
      {
       "output_type": "stream",
       "stream": "stdout",
       "text": [
        "  30%"
       ]
      },
      {
       "output_type": "stream",
       "stream": "stdout",
       "text": [
        "  40%"
       ]
      },
      {
       "output_type": "stream",
       "stream": "stdout",
       "text": [
        "  50%"
       ]
      },
      {
       "output_type": "stream",
       "stream": "stdout",
       "text": [
        "  60%"
       ]
      },
      {
       "output_type": "stream",
       "stream": "stdout",
       "text": [
        "  70%"
       ]
      },
      {
       "output_type": "stream",
       "stream": "stdout",
       "text": [
        "  80%"
       ]
      },
      {
       "output_type": "stream",
       "stream": "stdout",
       "text": [
        "  90%"
       ]
      },
      {
       "output_type": "stream",
       "stream": "stdout",
       "text": [
        "  100%\n",
        "  Block accumulator loop time: 00:00:02\n",
        "  Sorting block of length 6291642\n",
        "  (Using difference cover)"
       ]
      },
      {
       "output_type": "stream",
       "stream": "stdout",
       "text": [
        "  Sorting block time: 00:00:08\n",
        "Returning block of 6291643"
       ]
      },
      {
       "output_type": "stream",
       "stream": "stdout",
       "text": [
        "Getting block 4 of 8\n",
        "  Reserving size (9480096) for bucket\n",
        "  Calculating Z arrays\n",
        "  Calculating Z arrays time: 00:00:00\n",
        "  Entering block accumulator loop:"
       ]
      },
      {
       "output_type": "stream",
       "stream": "stdout",
       "text": [
        "  10%"
       ]
      },
      {
       "output_type": "stream",
       "stream": "stdout",
       "text": [
        "  20%"
       ]
      },
      {
       "output_type": "stream",
       "stream": "stdout",
       "text": [
        "  30%"
       ]
      },
      {
       "output_type": "stream",
       "stream": "stdout",
       "text": [
        "  40%"
       ]
      },
      {
       "output_type": "stream",
       "stream": "stdout",
       "text": [
        "  50%"
       ]
      },
      {
       "output_type": "stream",
       "stream": "stdout",
       "text": [
        "  60%"
       ]
      },
      {
       "output_type": "stream",
       "stream": "stdout",
       "text": [
        "  70%"
       ]
      },
      {
       "output_type": "stream",
       "stream": "stdout",
       "text": [
        "  80%"
       ]
      },
      {
       "output_type": "stream",
       "stream": "stdout",
       "text": [
        "  90%"
       ]
      },
      {
       "output_type": "stream",
       "stream": "stdout",
       "text": [
        "  100%\n",
        "  Block accumulator loop time: 00:00:02\n",
        "  Sorting block of length 7533629\n",
        "  (Using difference cover)"
       ]
      },
      {
       "output_type": "stream",
       "stream": "stdout",
       "text": [
        "  Sorting block time: 00:00:09\n",
        "Returning block of 7533630"
       ]
      },
      {
       "output_type": "stream",
       "stream": "stdout",
       "text": [
        "Getting block 5 of 8\n",
        "  Reserving size (9480096) for bucket\n",
        "  Calculating Z arrays\n",
        "  Calculating Z arrays time: 00:00:00\n",
        "  Entering block accumulator loop:"
       ]
      },
      {
       "output_type": "stream",
       "stream": "stdout",
       "text": [
        "  10%"
       ]
      },
      {
       "output_type": "stream",
       "stream": "stdout",
       "text": [
        "  20%"
       ]
      },
      {
       "output_type": "stream",
       "stream": "stdout",
       "text": [
        "  30%"
       ]
      },
      {
       "output_type": "stream",
       "stream": "stdout",
       "text": [
        "  40%"
       ]
      },
      {
       "output_type": "stream",
       "stream": "stdout",
       "text": [
        "  50%"
       ]
      },
      {
       "output_type": "stream",
       "stream": "stdout",
       "text": [
        "  60%"
       ]
      },
      {
       "output_type": "stream",
       "stream": "stdout",
       "text": [
        "  70%"
       ]
      },
      {
       "output_type": "stream",
       "stream": "stdout",
       "text": [
        "  80%"
       ]
      },
      {
       "output_type": "stream",
       "stream": "stdout",
       "text": [
        "  90%"
       ]
      },
      {
       "output_type": "stream",
       "stream": "stdout",
       "text": [
        "  100%\n",
        "  Block accumulator loop time: 00:00:02\n",
        "  Sorting block of length 7160010\n",
        "  (Using difference cover)"
       ]
      },
      {
       "output_type": "stream",
       "stream": "stdout",
       "text": [
        "  Sorting block time: 00:00:09\n",
        "Returning block of 7160011"
       ]
      },
      {
       "output_type": "stream",
       "stream": "stdout",
       "text": [
        "Getting block 6 of 8\n",
        "  Reserving size (9480096) for bucket\n",
        "  Calculating Z arrays\n",
        "  Calculating Z arrays time: 00:00:00\n",
        "  Entering block accumulator loop:"
       ]
      },
      {
       "output_type": "stream",
       "stream": "stdout",
       "text": [
        "  10%"
       ]
      },
      {
       "output_type": "stream",
       "stream": "stdout",
       "text": [
        "  20%"
       ]
      },
      {
       "output_type": "stream",
       "stream": "stdout",
       "text": [
        "  30%"
       ]
      },
      {
       "output_type": "stream",
       "stream": "stdout",
       "text": [
        "  40%"
       ]
      },
      {
       "output_type": "stream",
       "stream": "stdout",
       "text": [
        "  50%"
       ]
      },
      {
       "output_type": "stream",
       "stream": "stdout",
       "text": [
        "  60%"
       ]
      },
      {
       "output_type": "stream",
       "stream": "stdout",
       "text": [
        "  70%"
       ]
      },
      {
       "output_type": "stream",
       "stream": "stdout",
       "text": [
        "  80%"
       ]
      },
      {
       "output_type": "stream",
       "stream": "stdout",
       "text": [
        "  90%"
       ]
      },
      {
       "output_type": "stream",
       "stream": "stdout",
       "text": [
        "  100%\n",
        "  Block accumulator loop time: 00:00:03\n",
        "  Sorting block of length 5101612\n",
        "  (Using difference cover)"
       ]
      },
      {
       "output_type": "stream",
       "stream": "stdout",
       "text": [
        "  Sorting block time: 00:00:04\n",
        "Returning block of 5101613"
       ]
      },
      {
       "output_type": "stream",
       "stream": "stdout",
       "text": [
        "Getting block 7 of 8\n",
        "  Reserving size (9480096) for bucket\n",
        "  Calculating Z arrays\n",
        "  Calculating Z arrays time: 00:00:00\n",
        "  Entering block accumulator loop:"
       ]
      },
      {
       "output_type": "stream",
       "stream": "stdout",
       "text": [
        "  10%"
       ]
      },
      {
       "output_type": "stream",
       "stream": "stdout",
       "text": [
        "  20%"
       ]
      },
      {
       "output_type": "stream",
       "stream": "stdout",
       "text": [
        "  30%"
       ]
      },
      {
       "output_type": "stream",
       "stream": "stdout",
       "text": [
        "  40%"
       ]
      },
      {
       "output_type": "stream",
       "stream": "stdout",
       "text": [
        "  50%"
       ]
      },
      {
       "output_type": "stream",
       "stream": "stdout",
       "text": [
        "  60%"
       ]
      },
      {
       "output_type": "stream",
       "stream": "stdout",
       "text": [
        "  70%"
       ]
      },
      {
       "output_type": "stream",
       "stream": "stdout",
       "text": [
        "  80%"
       ]
      },
      {
       "output_type": "stream",
       "stream": "stdout",
       "text": [
        "  90%"
       ]
      },
      {
       "output_type": "stream",
       "stream": "stdout",
       "text": [
        "  100%\n",
        "  Block accumulator loop time: 00:00:02\n",
        "  Sorting block of length 8951274\n",
        "  (Using difference cover)"
       ]
      },
      {
       "output_type": "stream",
       "stream": "stdout",
       "text": [
        "  Sorting block time: 00:00:08\n",
        "Returning block of 8951275"
       ]
      },
      {
       "output_type": "stream",
       "stream": "stdout",
       "text": [
        "Getting block 8 of 8\n",
        "  Reserving size (9480096) for bucket\n",
        "  Calculating Z arrays\n",
        "  Calculating Z arrays time: 00:00:00\n",
        "  Entering block accumulator loop:"
       ]
      },
      {
       "output_type": "stream",
       "stream": "stdout",
       "text": [
        "  10%"
       ]
      },
      {
       "output_type": "stream",
       "stream": "stdout",
       "text": [
        "  20%"
       ]
      },
      {
       "output_type": "stream",
       "stream": "stdout",
       "text": [
        "  30%"
       ]
      },
      {
       "output_type": "stream",
       "stream": "stdout",
       "text": [
        "  40%"
       ]
      },
      {
       "output_type": "stream",
       "stream": "stdout",
       "text": [
        "  50%"
       ]
      },
      {
       "output_type": "stream",
       "stream": "stdout",
       "text": [
        "  60%"
       ]
      },
      {
       "output_type": "stream",
       "stream": "stdout",
       "text": [
        "  70%"
       ]
      },
      {
       "output_type": "stream",
       "stream": "stdout",
       "text": [
        "  80%"
       ]
      },
      {
       "output_type": "stream",
       "stream": "stdout",
       "text": [
        "  90%"
       ]
      },
      {
       "output_type": "stream",
       "stream": "stdout",
       "text": [
        "  100%\n",
        "  Block accumulator loop time: 00:00:01\n",
        "  Sorting block of length 4114003\n",
        "  (Using difference cover)"
       ]
      },
      {
       "output_type": "stream",
       "stream": "stdout",
       "text": [
        "  Sorting block time: 00:00:04\n",
        "Returning block of 4114004"
       ]
      },
      {
       "output_type": "stream",
       "stream": "stdout",
       "text": [
        "Exited Ebwt loop\n",
        "fchr[A]: 0\n",
        "fchr[C]: 16076836\n",
        "fchr[G]: 25225277\n",
        "fchr[T]: 34418920\n",
        "fchr[$]: 50560508"
       ]
      },
      {
       "output_type": "stream",
       "stream": "stdout",
       "text": [
        "Exiting Ebwt::buildToDisk()\n",
        "Returning from initFromVector\n",
        "Wrote 21065730 bytes to primary EBWT file: zv.1.bt2\n",
        "Wrote 12640132 bytes to secondary EBWT file: zv.2.bt2\n",
        "Re-opening _in1 and _in2 as input streams\n",
        "Returning from Ebwt constructor\n",
        "Headers:\n",
        "    len: 50560508\n",
        "    bwtLen: 50560509\n",
        "    sz: 12640127\n",
        "    bwtSz: 12640128\n",
        "    lineRate: 6\n",
        "    offRate: 4\n",
        "    offMask: 0xfffffff0\n",
        "    ftabChars: 10\n",
        "    eftabLen: 20\n",
        "    eftabSz: 80\n",
        "    ftabLen: 1048577\n",
        "    ftabSz: 4194308\n",
        "    offsLen: 3160032\n",
        "    offsSz: 12640128\n",
        "    lineSz: 64\n",
        "    sideSz: 64\n",
        "    sideBwtSz: 48\n",
        "    sideBwtLen: 192\n",
        "    numSides: 263336\n",
        "    numLines: 263336\n",
        "    ebwtTotLen: 16853504\n",
        "    ebwtTotSz: 16853504\n",
        "    color: 0\n",
        "    reverse: 0\n",
        "Total time for call to driver() for forward index: 00:01:46\n",
        "Reading reference sizes"
       ]
      },
      {
       "output_type": "stream",
       "stream": "stdout",
       "text": [
        "  Time reading reference sizes: 00:00:01\n",
        "Calculating joined length\n",
        "Writing header\n",
        "Reserving space for joined string\n",
        "Joining reference sequences"
       ]
      },
      {
       "output_type": "stream",
       "stream": "stdout",
       "text": [
        "  Time to join reference sequences: 00:00:01"
       ]
      },
      {
       "output_type": "stream",
       "stream": "stdout",
       "text": [
        "  Time to reverse reference sequence: 00:00:00\n",
        "bmax according to bmaxDivN setting: 12640127\n",
        "Using parameters --bmax 9480096 --dcv 1024\n",
        "  Doing ahead-of-time memory usage test"
       ]
      },
      {
       "output_type": "stream",
       "stream": "stdout",
       "text": [
        "  Passed!  Constructing with these parameters: --bmax 9480096 --dcv 1024\n",
        "Constructing suffix-array element generator\n",
        "Building DifferenceCoverSample\n",
        "  Building sPrime"
       ]
      },
      {
       "output_type": "stream",
       "stream": "stdout",
       "text": [
        "  Building sPrimeOrder\n",
        "  V-Sorting samples"
       ]
      },
      {
       "output_type": "stream",
       "stream": "stdout",
       "text": [
        "  V-Sorting samples time: 00:00:03\n",
        "  Allocating rank array\n",
        "  Ranking v-sort output"
       ]
      },
      {
       "output_type": "stream",
       "stream": "stdout",
       "text": [
        "  Ranking v-sort output time: 00:00:00\n",
        "  Invoking Larsson-Sadakane on ranks"
       ]
      },
      {
       "output_type": "stream",
       "stream": "stdout",
       "text": [
        "  Invoking Larsson-Sadakane on ranks time: 00:00:02\n",
        "  Sanity-checking and returning\n",
        "Building samples\n",
        "Reserving space for 12 sample suffixes\n",
        "Generating random suffixes\n",
        "QSorting 12 sample offsets, eliminating duplicates\n",
        "QSorting sample offsets, eliminating duplicates time: 00:00:00\n",
        "Multikey QSorting 12 samples\n",
        "  (Using difference cover)\n",
        "  Multikey QSorting samples time: 00:00:00\n",
        "Calculating bucket sizes\n",
        "  Binary sorting into buckets"
       ]
      },
      {
       "output_type": "stream",
       "stream": "stdout",
       "text": [
        "  10%"
       ]
      },
      {
       "output_type": "stream",
       "stream": "stdout",
       "text": [
        "  20%"
       ]
      },
      {
       "output_type": "stream",
       "stream": "stdout",
       "text": [
        "  30%"
       ]
      },
      {
       "output_type": "stream",
       "stream": "stdout",
       "text": [
        "  40%"
       ]
      },
      {
       "output_type": "stream",
       "stream": "stdout",
       "text": [
        "  50%"
       ]
      },
      {
       "output_type": "stream",
       "stream": "stdout",
       "text": [
        "  60%"
       ]
      },
      {
       "output_type": "stream",
       "stream": "stdout",
       "text": [
        "  70%"
       ]
      },
      {
       "output_type": "stream",
       "stream": "stdout",
       "text": [
        "  80%"
       ]
      },
      {
       "output_type": "stream",
       "stream": "stdout",
       "text": [
        "  90%"
       ]
      },
      {
       "output_type": "stream",
       "stream": "stdout",
       "text": [
        "  100%\n",
        "  Binary sorting into buckets time: 00:00:05\n",
        "Splitting and merging\n",
        "  Splitting and merging time: 00:00:00\n",
        "Split 1, merged 6; iterating...\n",
        "  Binary sorting into buckets"
       ]
      },
      {
       "output_type": "stream",
       "stream": "stdout",
       "text": [
        "  10%"
       ]
      },
      {
       "output_type": "stream",
       "stream": "stdout",
       "text": [
        "  20%"
       ]
      },
      {
       "output_type": "stream",
       "stream": "stdout",
       "text": [
        "  30%"
       ]
      },
      {
       "output_type": "stream",
       "stream": "stdout",
       "text": [
        "  40%"
       ]
      },
      {
       "output_type": "stream",
       "stream": "stdout",
       "text": [
        "  50%"
       ]
      },
      {
       "output_type": "stream",
       "stream": "stdout",
       "text": [
        "  60%"
       ]
      },
      {
       "output_type": "stream",
       "stream": "stdout",
       "text": [
        "  70%"
       ]
      },
      {
       "output_type": "stream",
       "stream": "stdout",
       "text": [
        "  80%"
       ]
      },
      {
       "output_type": "stream",
       "stream": "stdout",
       "text": [
        "  90%"
       ]
      },
      {
       "output_type": "stream",
       "stream": "stdout",
       "text": [
        "  100%\n",
        "  Binary sorting into buckets time: 00:00:05\n",
        "Splitting and merging\n",
        "  Splitting and merging time: 00:00:00\n",
        "Split 1, merged 0; iterating...\n",
        "  Binary sorting into buckets"
       ]
      },
      {
       "output_type": "stream",
       "stream": "stdout",
       "text": [
        "  10%"
       ]
      },
      {
       "output_type": "stream",
       "stream": "stdout",
       "text": [
        "  20%"
       ]
      },
      {
       "output_type": "stream",
       "stream": "stdout",
       "text": [
        "  30%"
       ]
      },
      {
       "output_type": "stream",
       "stream": "stdout",
       "text": [
        "  40%"
       ]
      },
      {
       "output_type": "stream",
       "stream": "stdout",
       "text": [
        "  50%"
       ]
      },
      {
       "output_type": "stream",
       "stream": "stdout",
       "text": [
        "  60%"
       ]
      },
      {
       "output_type": "stream",
       "stream": "stdout",
       "text": [
        "  70%"
       ]
      },
      {
       "output_type": "stream",
       "stream": "stdout",
       "text": [
        "  80%"
       ]
      },
      {
       "output_type": "stream",
       "stream": "stdout",
       "text": [
        "  90%"
       ]
      },
      {
       "output_type": "stream",
       "stream": "stdout",
       "text": [
        "  100%\n",
        "  Binary sorting into buckets time: 00:00:05\n",
        "Splitting and merging\n",
        "  Splitting and merging time: 00:00:00\n",
        "Split 1, merged 1; iterating...\n",
        "  Binary sorting into buckets"
       ]
      },
      {
       "output_type": "stream",
       "stream": "stdout",
       "text": [
        "  10%"
       ]
      },
      {
       "output_type": "stream",
       "stream": "stdout",
       "text": [
        "  20%"
       ]
      },
      {
       "output_type": "stream",
       "stream": "stdout",
       "text": [
        "  30%"
       ]
      },
      {
       "output_type": "stream",
       "stream": "stdout",
       "text": [
        "  40%"
       ]
      },
      {
       "output_type": "stream",
       "stream": "stdout",
       "text": [
        "  50%"
       ]
      },
      {
       "output_type": "stream",
       "stream": "stdout",
       "text": [
        "  60%"
       ]
      },
      {
       "output_type": "stream",
       "stream": "stdout",
       "text": [
        "  70%"
       ]
      },
      {
       "output_type": "stream",
       "stream": "stdout",
       "text": [
        "  80%"
       ]
      },
      {
       "output_type": "stream",
       "stream": "stdout",
       "text": [
        "  90%"
       ]
      },
      {
       "output_type": "stream",
       "stream": "stdout",
       "text": [
        "  100%\n",
        "  Binary sorting into buckets time: 00:00:06\n",
        "Splitting and merging\n",
        "  Splitting and merging time: 00:00:00\n",
        "Split 1, merged 1; iterating...\n",
        "  Binary sorting into buckets"
       ]
      },
      {
       "output_type": "stream",
       "stream": "stdout",
       "text": [
        "  10%"
       ]
      },
      {
       "output_type": "stream",
       "stream": "stdout",
       "text": [
        "  20%"
       ]
      },
      {
       "output_type": "stream",
       "stream": "stdout",
       "text": [
        "  30%"
       ]
      },
      {
       "output_type": "stream",
       "stream": "stdout",
       "text": [
        "  40%"
       ]
      },
      {
       "output_type": "stream",
       "stream": "stdout",
       "text": [
        "  50%"
       ]
      },
      {
       "output_type": "stream",
       "stream": "stdout",
       "text": [
        "  60%"
       ]
      },
      {
       "output_type": "stream",
       "stream": "stdout",
       "text": [
        "  70%"
       ]
      },
      {
       "output_type": "stream",
       "stream": "stdout",
       "text": [
        "  80%"
       ]
      },
      {
       "output_type": "stream",
       "stream": "stdout",
       "text": [
        "  90%"
       ]
      },
      {
       "output_type": "stream",
       "stream": "stdout",
       "text": [
        "  100%\n",
        "  Binary sorting into buckets time: 00:00:06\n",
        "Splitting and merging\n",
        "  Splitting and merging time: 00:00:00\n",
        "Avg bucket size: 5.61783e+06 (target: 9480095)\n",
        "Converting suffix-array elements to index image\n",
        "Allocating ftab, absorbFtab\n",
        "Entering Ebwt loop\n",
        "Getting block 1 of 9\n",
        "  Reserving size (9480096) for bucket\n",
        "  Calculating Z arrays\n",
        "  Calculating Z arrays time: 00:00:00\n",
        "  Entering block accumulator loop:"
       ]
      },
      {
       "output_type": "stream",
       "stream": "stdout",
       "text": [
        "  10%"
       ]
      },
      {
       "output_type": "stream",
       "stream": "stdout",
       "text": [
        "  20%"
       ]
      },
      {
       "output_type": "stream",
       "stream": "stdout",
       "text": [
        "  30%"
       ]
      },
      {
       "output_type": "stream",
       "stream": "stdout",
       "text": [
        "  40%"
       ]
      },
      {
       "output_type": "stream",
       "stream": "stdout",
       "text": [
        "  50%"
       ]
      },
      {
       "output_type": "stream",
       "stream": "stdout",
       "text": [
        "  60%"
       ]
      },
      {
       "output_type": "stream",
       "stream": "stdout",
       "text": [
        "  70%"
       ]
      },
      {
       "output_type": "stream",
       "stream": "stdout",
       "text": [
        "  80%"
       ]
      },
      {
       "output_type": "stream",
       "stream": "stdout",
       "text": [
        "  90%"
       ]
      },
      {
       "output_type": "stream",
       "stream": "stdout",
       "text": [
        "  100%\n",
        "  Block accumulator loop time: 00:00:02\n",
        "  Sorting block of length 1679233\n",
        "  (Using difference cover)"
       ]
      },
      {
       "output_type": "stream",
       "stream": "stdout",
       "text": [
        "  Sorting block time: 00:00:01\n",
        "Returning block of 1679234"
       ]
      },
      {
       "output_type": "stream",
       "stream": "stdout",
       "text": [
        "Getting block 2 of 9\n",
        "  Reserving size (9480096) for bucket\n",
        "  Calculating Z arrays\n",
        "  Calculating Z arrays time: 00:00:00\n",
        "  Entering block accumulator loop:"
       ]
      },
      {
       "output_type": "stream",
       "stream": "stdout",
       "text": [
        "  10%"
       ]
      },
      {
       "output_type": "stream",
       "stream": "stdout",
       "text": [
        "  20%"
       ]
      },
      {
       "output_type": "stream",
       "stream": "stdout",
       "text": [
        "  30%"
       ]
      },
      {
       "output_type": "stream",
       "stream": "stdout",
       "text": [
        "  40%"
       ]
      },
      {
       "output_type": "stream",
       "stream": "stdout",
       "text": [
        "  50%"
       ]
      },
      {
       "output_type": "stream",
       "stream": "stdout",
       "text": [
        "  60%"
       ]
      },
      {
       "output_type": "stream",
       "stream": "stdout",
       "text": [
        "  70%"
       ]
      },
      {
       "output_type": "stream",
       "stream": "stdout",
       "text": [
        "  80%"
       ]
      },
      {
       "output_type": "stream",
       "stream": "stdout",
       "text": [
        "  90%"
       ]
      },
      {
       "output_type": "stream",
       "stream": "stdout",
       "text": [
        "  100%\n",
        "  Block accumulator loop time: 00:00:02\n",
        "  Sorting block of length 9151529\n",
        "  (Using difference cover)"
       ]
      },
      {
       "output_type": "stream",
       "stream": "stdout",
       "text": [
        "  Sorting block time: 00:00:06\n",
        "Returning block of 9151530"
       ]
      },
      {
       "output_type": "stream",
       "stream": "stdout",
       "text": [
        "Getting block 3 of 9\n",
        "  Reserving size (9480096) for bucket\n",
        "  Calculating Z arrays\n",
        "  Calculating Z arrays time: 00:00:00\n",
        "  Entering block accumulator loop:"
       ]
      },
      {
       "output_type": "stream",
       "stream": "stdout",
       "text": [
        "  10%"
       ]
      },
      {
       "output_type": "stream",
       "stream": "stdout",
       "text": [
        "  20%"
       ]
      },
      {
       "output_type": "stream",
       "stream": "stdout",
       "text": [
        "  30%"
       ]
      },
      {
       "output_type": "stream",
       "stream": "stdout",
       "text": [
        "  40%"
       ]
      },
      {
       "output_type": "stream",
       "stream": "stdout",
       "text": [
        "  50%"
       ]
      },
      {
       "output_type": "stream",
       "stream": "stdout",
       "text": [
        "  60%"
       ]
      },
      {
       "output_type": "stream",
       "stream": "stdout",
       "text": [
        "  70%"
       ]
      },
      {
       "output_type": "stream",
       "stream": "stdout",
       "text": [
        "  80%"
       ]
      },
      {
       "output_type": "stream",
       "stream": "stdout",
       "text": [
        "  90%"
       ]
      },
      {
       "output_type": "stream",
       "stream": "stdout",
       "text": [
        "  100%\n",
        "  Block accumulator loop time: 00:00:02\n",
        "  Sorting block of length 5246071\n",
        "  (Using difference cover)"
       ]
      },
      {
       "output_type": "stream",
       "stream": "stdout",
       "text": [
        "  Sorting block time: 00:00:05\n",
        "Returning block of 5246072"
       ]
      },
      {
       "output_type": "stream",
       "stream": "stdout",
       "text": [
        "Getting block 4 of 9\n",
        "  Reserving size (9480096) for bucket\n",
        "  Calculating Z arrays\n",
        "  Calculating Z arrays time: 00:00:00\n",
        "  Entering block accumulator loop:"
       ]
      },
      {
       "output_type": "stream",
       "stream": "stdout",
       "text": [
        "  10%"
       ]
      },
      {
       "output_type": "stream",
       "stream": "stdout",
       "text": [
        "  20%"
       ]
      },
      {
       "output_type": "stream",
       "stream": "stdout",
       "text": [
        "  30%"
       ]
      },
      {
       "output_type": "stream",
       "stream": "stdout",
       "text": [
        "  40%"
       ]
      },
      {
       "output_type": "stream",
       "stream": "stdout",
       "text": [
        "  50%"
       ]
      },
      {
       "output_type": "stream",
       "stream": "stdout",
       "text": [
        "  60%"
       ]
      },
      {
       "output_type": "stream",
       "stream": "stdout",
       "text": [
        "  70%"
       ]
      },
      {
       "output_type": "stream",
       "stream": "stdout",
       "text": [
        "  80%"
       ]
      },
      {
       "output_type": "stream",
       "stream": "stdout",
       "text": [
        "  90%"
       ]
      },
      {
       "output_type": "stream",
       "stream": "stdout",
       "text": [
        "  100%\n",
        "  Block accumulator loop time: 00:00:02\n",
        "  Sorting block of length 6795889\n",
        "  (Using difference cover)"
       ]
      },
      {
       "output_type": "stream",
       "stream": "stdout",
       "text": [
        "  Sorting block time: 00:00:06\n",
        "Returning block of 6795890"
       ]
      },
      {
       "output_type": "stream",
       "stream": "stdout",
       "text": [
        "Getting block 5 of 9\n",
        "  Reserving size (9480096) for bucket\n",
        "  Calculating Z arrays\n",
        "  Calculating Z arrays time: 00:00:00\n",
        "  Entering block accumulator loop:"
       ]
      },
      {
       "output_type": "stream",
       "stream": "stdout",
       "text": [
        "  10%"
       ]
      },
      {
       "output_type": "stream",
       "stream": "stdout",
       "text": [
        "  20%"
       ]
      },
      {
       "output_type": "stream",
       "stream": "stdout",
       "text": [
        "  30%"
       ]
      },
      {
       "output_type": "stream",
       "stream": "stdout",
       "text": [
        "  40%"
       ]
      },
      {
       "output_type": "stream",
       "stream": "stdout",
       "text": [
        "  50%"
       ]
      },
      {
       "output_type": "stream",
       "stream": "stdout",
       "text": [
        "  60%"
       ]
      },
      {
       "output_type": "stream",
       "stream": "stdout",
       "text": [
        "  70%"
       ]
      },
      {
       "output_type": "stream",
       "stream": "stdout",
       "text": [
        "  80%"
       ]
      },
      {
       "output_type": "stream",
       "stream": "stdout",
       "text": [
        "  90%"
       ]
      },
      {
       "output_type": "stream",
       "stream": "stdout",
       "text": [
        "  100%\n",
        "  Block accumulator loop time: 00:00:02\n",
        "  Sorting block of length 3198791\n",
        "  (Using difference cover)"
       ]
      },
      {
       "output_type": "stream",
       "stream": "stdout",
       "text": [
        "  Sorting block time: 00:00:03\n",
        "Returning block of 3198792"
       ]
      },
      {
       "output_type": "stream",
       "stream": "stdout",
       "text": [
        "Getting block 6 of 9\n",
        "  Reserving size (9480096) for bucket\n",
        "  Calculating Z arrays\n",
        "  Calculating Z arrays time: 00:00:00\n",
        "  Entering block accumulator loop:"
       ]
      },
      {
       "output_type": "stream",
       "stream": "stdout",
       "text": [
        "  10%"
       ]
      },
      {
       "output_type": "stream",
       "stream": "stdout",
       "text": [
        "  20%"
       ]
      },
      {
       "output_type": "stream",
       "stream": "stdout",
       "text": [
        "  30%"
       ]
      },
      {
       "output_type": "stream",
       "stream": "stdout",
       "text": [
        "  40%"
       ]
      },
      {
       "output_type": "stream",
       "stream": "stdout",
       "text": [
        "  50%"
       ]
      },
      {
       "output_type": "stream",
       "stream": "stdout",
       "text": [
        "  60%"
       ]
      },
      {
       "output_type": "stream",
       "stream": "stdout",
       "text": [
        "  70%"
       ]
      },
      {
       "output_type": "stream",
       "stream": "stdout",
       "text": [
        "  80%"
       ]
      },
      {
       "output_type": "stream",
       "stream": "stdout",
       "text": [
        "  90%"
       ]
      },
      {
       "output_type": "stream",
       "stream": "stdout",
       "text": [
        "  100%\n",
        "  Block accumulator loop time: 00:00:02\n",
        "  Sorting block of length 6632648\n",
        "  (Using difference cover)"
       ]
      },
      {
       "output_type": "stream",
       "stream": "stdout",
       "text": [
        "  Sorting block time: 00:00:04\n",
        "Returning block of 6632649"
       ]
      },
      {
       "output_type": "stream",
       "stream": "stdout",
       "text": [
        "Getting block 7 of 9\n",
        "  Reserving size (9480096) for bucket\n",
        "  Calculating Z arrays\n",
        "  Calculating Z arrays time: 00:00:00\n",
        "  Entering block accumulator loop:"
       ]
      },
      {
       "output_type": "stream",
       "stream": "stdout",
       "text": [
        "  10%"
       ]
      },
      {
       "output_type": "stream",
       "stream": "stdout",
       "text": [
        "  20%"
       ]
      },
      {
       "output_type": "stream",
       "stream": "stdout",
       "text": [
        "  30%"
       ]
      },
      {
       "output_type": "stream",
       "stream": "stdout",
       "text": [
        "  40%"
       ]
      },
      {
       "output_type": "stream",
       "stream": "stdout",
       "text": [
        "  50%"
       ]
      },
      {
       "output_type": "stream",
       "stream": "stdout",
       "text": [
        "  60%"
       ]
      },
      {
       "output_type": "stream",
       "stream": "stdout",
       "text": [
        "  70%"
       ]
      },
      {
       "output_type": "stream",
       "stream": "stdout",
       "text": [
        "  80%"
       ]
      },
      {
       "output_type": "stream",
       "stream": "stdout",
       "text": [
        "  90%"
       ]
      },
      {
       "output_type": "stream",
       "stream": "stdout",
       "text": [
        "  100%\n",
        "  Block accumulator loop time: 00:00:02\n",
        "  Sorting block of length 6698263\n",
        "  (Using difference cover)"
       ]
      },
      {
       "output_type": "stream",
       "stream": "stdout",
       "text": [
        "  Sorting block time: 00:00:06\n",
        "Returning block of 6698264"
       ]
      },
      {
       "output_type": "stream",
       "stream": "stdout",
       "text": [
        "Getting block 8 of 9\n",
        "  Reserving size (9480096) for bucket\n",
        "  Calculating Z arrays\n",
        "  Calculating Z arrays time: 00:00:00\n",
        "  Entering block accumulator loop:"
       ]
      },
      {
       "output_type": "stream",
       "stream": "stdout",
       "text": [
        "  10%"
       ]
      },
      {
       "output_type": "stream",
       "stream": "stdout",
       "text": [
        "  20%"
       ]
      },
      {
       "output_type": "stream",
       "stream": "stdout",
       "text": [
        "  30%"
       ]
      },
      {
       "output_type": "stream",
       "stream": "stdout",
       "text": [
        "  40%"
       ]
      },
      {
       "output_type": "stream",
       "stream": "stdout",
       "text": [
        "  50%"
       ]
      },
      {
       "output_type": "stream",
       "stream": "stdout",
       "text": [
        "  60%"
       ]
      },
      {
       "output_type": "stream",
       "stream": "stdout",
       "text": [
        "  70%"
       ]
      },
      {
       "output_type": "stream",
       "stream": "stdout",
       "text": [
        "  80%"
       ]
      },
      {
       "output_type": "stream",
       "stream": "stdout",
       "text": [
        "  90%"
       ]
      },
      {
       "output_type": "stream",
       "stream": "stdout",
       "text": [
        "  100%\n",
        "  Block accumulator loop time: 00:00:02\n",
        "  Sorting block of length 5533068\n",
        "  (Using difference cover)"
       ]
      },
      {
       "output_type": "stream",
       "stream": "stdout",
       "text": [
        "  Sorting block time: 00:00:05\n",
        "Returning block of 5533069"
       ]
      },
      {
       "output_type": "stream",
       "stream": "stdout",
       "text": [
        "Getting block 9 of 9\n",
        "  Reserving size (9480096) for bucket\n",
        "  Calculating Z arrays\n",
        "  Calculating Z arrays time: 00:00:00\n",
        "  Entering block accumulator loop:"
       ]
      },
      {
       "output_type": "stream",
       "stream": "stdout",
       "text": [
        "  10%"
       ]
      },
      {
       "output_type": "stream",
       "stream": "stdout",
       "text": [
        "  20%"
       ]
      },
      {
       "output_type": "stream",
       "stream": "stdout",
       "text": [
        "  30%"
       ]
      },
      {
       "output_type": "stream",
       "stream": "stdout",
       "text": [
        "  40%"
       ]
      },
      {
       "output_type": "stream",
       "stream": "stdout",
       "text": [
        "  50%"
       ]
      },
      {
       "output_type": "stream",
       "stream": "stdout",
       "text": [
        "  60%"
       ]
      },
      {
       "output_type": "stream",
       "stream": "stdout",
       "text": [
        "  70%"
       ]
      },
      {
       "output_type": "stream",
       "stream": "stdout",
       "text": [
        "  80%"
       ]
      },
      {
       "output_type": "stream",
       "stream": "stdout",
       "text": [
        "  90%"
       ]
      },
      {
       "output_type": "stream",
       "stream": "stdout",
       "text": [
        "  100%\n",
        "  Block accumulator loop time: 00:00:02\n",
        "  Sorting block of length 5625008\n",
        "  (Using difference cover)"
       ]
      },
      {
       "output_type": "stream",
       "stream": "stdout",
       "text": [
        "  Sorting block time: 00:00:05\n",
        "Returning block of 5625009"
       ]
      },
      {
       "output_type": "stream",
       "stream": "stdout",
       "text": [
        "Exited Ebwt loop\n",
        "fchr[A]: 0\n",
        "fchr[C]: 16076836\n",
        "fchr[G]: 25225277\n",
        "fchr[T]: 34418920\n",
        "fchr[$]: 50560508"
       ]
      },
      {
       "output_type": "stream",
       "stream": "stdout",
       "text": [
        "Exiting Ebwt::buildToDisk()\n",
        "Returning from initFromVector\n",
        "Wrote 21065730 bytes to primary EBWT file: zv.rev.1.bt2\n",
        "Wrote 12640132 bytes to secondary EBWT file: zv.rev.2.bt2\n",
        "Re-opening _in1 and _in2 as input streams\n",
        "Returning from Ebwt constructor\n",
        "Headers:\n",
        "    len: 50560508\n",
        "    bwtLen: 50560509\n",
        "    sz: 12640127\n",
        "    bwtSz: 12640128\n",
        "    lineRate: 6\n",
        "    offRate: 4\n",
        "    offMask: 0xfffffff0\n",
        "    ftabChars: 10\n",
        "    eftabLen: 20\n",
        "    eftabSz: 80\n",
        "    ftabLen: 1048577\n",
        "    ftabSz: 4194308\n",
        "    offsLen: 3160032\n",
        "    offsSz: 12640128\n",
        "    lineSz: 64\n",
        "    sideSz: 64\n",
        "    sideBwtSz: 48\n",
        "    sideBwtLen: 192\n",
        "    numSides: 263336\n",
        "    numLines: 263336\n",
        "    ebwtTotLen: 16853504\n",
        "    ebwtTotSz: 16853504\n",
        "    color: 0\n",
        "    reverse: 1\n",
        "Total time for backward call to driver() for mirror index: 00:01:48"
       ]
      }
     ],
     "prompt_number": 19
    },
    {
     "cell_type": "code",
     "collapsed": false,
     "input": [
      "os.listdir('.')"
     ],
     "language": "python",
     "metadata": {},
     "outputs": [
      {
       "metadata": {},
       "output_type": "pyout",
       "prompt_number": 20,
       "text": [
        "['zv.1.bt2',\n",
        " 'zv.fasta',\n",
        " 'zv.rev.2.bt2',\n",
        " 'zv.rev.1.bt2',\n",
        " 'zv.gtf',\n",
        " 'zv.2.bt2',\n",
        " 'zv.4.bt2',\n",
        " 'zv.3.bt2']"
       ]
      }
     ],
     "prompt_number": 20
    },
    {
     "cell_type": "code",
     "collapsed": false,
     "input": [
      "os.chdir('/home/manager/RNAseq/')\n",
      "\n",
      "!tophat -p 3 -T -G ref/zv.gtf -o tophat/2cells ref/zv data/2cells_1.fastq data/2cells_2.fastq"
     ],
     "language": "python",
     "metadata": {},
     "outputs": [
      {
       "output_type": "stream",
       "stream": "stdout",
       "text": []
      },
      {
       "output_type": "stream",
       "stream": "stdout",
       "text": [
        "[2014-09-14 16:03:15] Beginning TopHat run (v2.0.9)\n",
        "-----------------------------------------------\n",
        "[2014-09-14 16:03:15] Checking for Bowtie\n",
        "\t\t  Bowtie version:\t 2.1.0.0\n",
        "[2014-09-14 16:03:15] Checking for Samtools\n",
        "\t\tSamtools version:\t 0.1.19.0\n",
        "[2014-09-14 16:03:15] Checking for Bowtie index files (genome)..\n",
        "[2014-09-14 16:03:15] Checking for reference FASTA file\n",
        "[2014-09-14 16:03:15] Generating SAM header for ref/zv"
       ]
      },
      {
       "output_type": "stream",
       "stream": "stdout",
       "text": [
        "\tformat:\t\t fastq\n",
        "\tquality scale:\t phred33 (default)\n",
        "[2014-09-14 16:03:15] Reading known junctions from GTF file"
       ]
      },
      {
       "output_type": "stream",
       "stream": "stdout",
       "text": [
        "[2014-09-14 16:03:15] Preparing reads"
       ]
      },
      {
       "output_type": "stream",
       "stream": "stdout",
       "text": [
        "\t left reads: min. length=76, max. length=76, 786595 kept reads (147 discarded)\n",
        "\tright reads: min. length=76, max. length=76, 783800 kept reads (2942 discarded)\n",
        "[2014-09-14 16:04:29] Building transcriptome data files.."
       ]
      },
      {
       "output_type": "stream",
       "stream": "stdout",
       "text": [
        "[2014-09-14 16:04:30] Building Bowtie index from zv.fa"
       ]
      },
      {
       "output_type": "stream",
       "stream": "stdout",
       "text": [
        "[2014-09-14 16:04:47] Mapping left_kept_reads to transcriptome zv with Bowtie2 "
       ]
      },
      {
       "output_type": "stream",
       "stream": "stdout",
       "text": [
        "[2014-09-14 16:05:57] Mapping right_kept_reads to transcriptome zv with Bowtie2 "
       ]
      },
      {
       "output_type": "stream",
       "stream": "stdout",
       "text": [
        "[2014-09-14 16:07:07] Reporting output tracks"
       ]
      },
      {
       "output_type": "stream",
       "stream": "stdout",
       "text": [
        "-----------------------------------------------\n",
        "[2014-09-14 16:09:21] A summary of the alignment counts can be found in tophat/2cells/align_summary.txt\n",
        "[2014-09-14 16:09:21] Run complete: 00:06:05 elapsed"
       ]
      }
     ],
     "prompt_number": 27
    },
    {
     "cell_type": "code",
     "collapsed": true,
     "input": [
      "!cufflinks -p 3 -G ref/zv.gtf -o cufflinks/2cells/ tophat/2cells/accepted_hits.bam"
     ],
     "language": "python",
     "metadata": {},
     "outputs": [
      {
       "output_type": "stream",
       "stream": "stdout",
       "text": [
        "Warning: Your version of Cufflinks is not up-to-date. It is recommended that you upgrade to Cufflinks v2.2.1 to benefit from the most recent features and bug fixes (http://cufflinks.cbcb.umd.edu).\n",
        "[16:12:37] Loading reference annotation."
       ]
      },
      {
       "output_type": "stream",
       "stream": "stdout",
       "text": [
        "[16:12:38] Inspecting reads and determining fragment length distribution.\n",
        "\n",
        "> Processing Locus 12:9744-12421               [                         ]   0%"
       ]
      },
      {
       "output_type": "stream",
       "stream": "stdout",
       "text": [
        "\n",
        "> Processing Locus 12:13020-19331              [                         ]   0%\n",
        "> Processing Locus 12:60926-65852              [                         ]   0%\n",
        "> Processing Locus 12:67544-75100              [                         ]   0%\n",
        "> Processing Locus 12:76855-77855              [                         ]   0%\n",
        "> Processing Locus 12:123320-124786            [                         ]   0%\n",
        "> Processing Locus 12:146320-164385            [                         ]   0%\n",
        "> Processing Locus 12:166218-168805            [                         ]   0%\n",
        "> Processing Locus 12:170940-173483            [                         ]   0%\n",
        "> Processing Locus 12:193337-221746            [                         ]   0%\n",
        "> Processing Locus 12:227140-235068            [                         ]   0%\n",
        "> Processing Locus 12:243755-245102            [                         ]   0%\n",
        "> Processing Locus 12:255852-262584            [                         ]   0%"
       ]
      },
      {
       "output_type": "stream",
       "stream": "stdout",
       "text": [
        "\n",
        "> Processing Locus 12:276710-286621            [                         ]   0%\n",
        "> Processing Locus 12:286933-290974            [                         ]   0%\n",
        "> Processing Locus 12:291810-294220            [                         ]   0%\n",
        "> Processing Locus 12:308608-310111            [                         ]   0%\n",
        "> Processing Locus 12:324151-326612            [                         ]   0%\n",
        "> Processing Locus 12:327932-331844            [                         ]   0%\n",
        "> Processing Locus 12:333834-341979            [                         ]   0%\n",
        "> Processing Locus 12:401969-418038            [                         ]   0%\n",
        "> Processing Locus 12:427677-443023            [                         ]   0%\n",
        "> Processing Locus 12:467425-475881            [                         ]   0%"
       ]
      },
      {
       "output_type": "stream",
       "stream": "stdout",
       "text": [
        "\n",
        "> Processing Locus 12:477574-715250            [                         ]   0%\n",
        "> Processing Locus 12:790715-802675            [                         ]   0%\n",
        "> Processing Locus 12:805223-853452            [                         ]   0%\n",
        "> Processing Locus 12:855598-881371            [                         ]   0%\n",
        "> Processing Locus 12:922360-983336            [                         ]   0%\n",
        "> Processing Locus 12:1001867-1005311          [                         ]   0%"
       ]
      },
      {
       "output_type": "stream",
       "stream": "stdout",
       "text": [
        "\n",
        "> Processing Locus 12:1044227-1047498          [                         ]   0%\n",
        "> Processing Locus 12:1114948-1146977          [                         ]   0%\n",
        "> Processing Locus 12:1150761-1154073          [                         ]   0%\n",
        "> Processing Locus 12:1169792-1176743          [                         ]   0%\n",
        "> Processing Locus 12:1179913-1187113          [                         ]   0%"
       ]
      },
      {
       "output_type": "stream",
       "stream": "stdout",
       "text": [
        "\n",
        "> Processing Locus 12:1189612-1196817          [                         ]   0%\n",
        "> Processing Locus 12:1197580-1207219          [                         ]   0%"
       ]
      },
      {
       "output_type": "stream",
       "stream": "stdout",
       "text": [
        "\n",
        "> Processing Locus 12:1211474-1229025          [                         ]   0%"
       ]
      },
      {
       "output_type": "stream",
       "stream": "stdout",
       "text": [
        "\n",
        "> Processing Locus 12:1235497-1251201          [                         ]   0%\n",
        "> Processing Locus 12:1265809-1275218          [                         ]   0%\n",
        "> Processing Locus 12:1282666-1290341          [                         ]   0%\n",
        "> Processing Locus 12:1302571-1337149          [                         ]   0%\n",
        "> Processing Locus 12:1447223-1447733          [                         ]   0%\n",
        "> Processing Locus 12:1490996-1566132          [                         ]   0%\n",
        "> Processing Locus 12:1576091-1577692          [                         ]   0%\n",
        "> Processing Locus 12:1651261-1659300          [                         ]   0%\n",
        "> Processing Locus 12:1668260-1668377          [                         ]   0%"
       ]
      },
      {
       "output_type": "stream",
       "stream": "stdout",
       "text": [
        "\n",
        "> Processing Locus 12:1670427-1703832          [                         ]   0%\n",
        "> Processing Locus 12:1733462-1734602          [                         ]   0%\n",
        "> Processing Locus 12:1769461-1787100          [                         ]   0%\n",
        "> Processing Locus 12:1930128-1930767          [                         ]   0%\n",
        "> Processing Locus 12:2151821-2157414          [                         ]   0%\n",
        "> Processing Locus 12:2623803-2635119          [                         ]   0%\n",
        "> Processing Locus 12:2645049-2650806          [                         ]   0%\n",
        "> Processing Locus 12:2666839-2683025          [                         ]   0%"
       ]
      },
      {
       "output_type": "stream",
       "stream": "stdout",
       "text": [
        "\n",
        "> Processing Locus 12:2694573-2695341          [                         ]   0%\n",
        "> Processing Locus 12:2711673-2761051          [                         ]   0%\n",
        "> Processing Locus 12:2770277-2787246          [                         ]   0%\n",
        "> Processing Locus 12:2796385-2832924          [                         ]   0%\n",
        "> Processing Locus 12:2841702-2841914          [                         ]   0%\n",
        "> Processing Locus 12:2848500-2848712          [                         ]   0%\n",
        "> Processing Locus 12:2881853-2881999          [                         ]   0%\n",
        "> Processing Locus 12:2883126-2883290          [                         ]   0%\n",
        "> Processing Locus 12:2884417-2884581          [                         ]   0%\n",
        "> Processing Locus 12:2885708-2885872          [                         ]   0%\n",
        "> Processing Locus 12:2887553-2887717          [                         ]   0%\n",
        "> Processing Locus 12:2888844-2889008          [                         ]   0%\n",
        "> Processing Locus 12:2890135-2890299          [                         ]   0%\n",
        "> Processing Locus 12:2891426-2891590          [                         ]   0%\n",
        "> Processing Locus 12:2893276-2893440          [                         ]   0%\n",
        "> Processing Locus 12:2894567-2894731          [                         ]   0%\n",
        "> Processing Locus 12:2895857-2896021          [                         ]   0%\n",
        "> Processing Locus 12:2897148-2897312          [                         ]   0%\n",
        "> Processing Locus 12:2898439-2898603          [                         ]   0%\n",
        "> Processing Locus 12:2899730-2899894          [                         ]   0%\n",
        "> Processing Locus 12:2901021-2901185          [                         ]   0%\n",
        "> Processing Locus 12:2902871-2903035          [                         ]   0%\n",
        "> Processing Locus 12:2904162-2904326          [                         ]   0%\n",
        "> Processing Locus 12:2905453-2905617          [                         ]   0%\n",
        "> Processing Locus 12:2907302-2907466          [                         ]   0%\n",
        "> Processing Locus 12:2908593-2908757          [                         ]   0%\n",
        "> Processing Locus 12:2909884-2910048          [                         ]   0%\n",
        "> Processing Locus 12:2911175-2911339          [                         ]   0%\n",
        "> Processing Locus 12:2912466-2912630          [                         ]   0%\n",
        "> Processing Locus 12:2913757-2913921          [                         ]   0%\n",
        "> Processing Locus 12:2915048-2915212          [                         ]   0%\n",
        "> Processing Locus 12:2916339-2916503          [                         ]   0%\n",
        "> Processing Locus 12:2917630-2917794          [                         ]   0%\n",
        "> Processing Locus 12:2918921-2919085          [                         ]   0%\n",
        "> Processing Locus 12:2920212-2920361          [                         ]   0%\n",
        "> Processing Locus 12:2978981-2980247          [                         ]   0%\n",
        "> Processing Locus 12:2994654-3062179          [                         ]   0%\n",
        "> Processing Locus 12:3071233-3071382          [                         ]   0%\n",
        "> Processing Locus 12:3076672-3076774          [                         ]   0%\n",
        "> Processing Locus 12:3088450-3092807          [                         ]   0%\n",
        "> Processing Locus 12:3099565-3099633          [                         ]   0%\n",
        "> Processing Locus 12:3102450-3102557          [                         ]   0%\n",
        "> Processing Locus 12:3102980-3103086          [                         ]   0%\n",
        "> Processing Locus 12:3103493-3103600          [                         ]   0%\n",
        "> Processing Locus 12:3104022-3104129          [                         ]   0%\n",
        "> Processing Locus 12:3104532-3104639          [                         ]   0%\n",
        "> Processing Locus 12:3105060-3105167          [                         ]   0%"
       ]
      },
      {
       "output_type": "stream",
       "stream": "stdout",
       "text": [
        "\n",
        "> Processing Locus 12:3105589-3105696          [                         ]   0%\n",
        "> Processing Locus 12:3113644-3123671          [                         ]   0%\n",
        "> Processing Locus 12:3146964-3152410          [                         ]   0%\n",
        "> Processing Locus 12:3210070-3223907          [                         ]   0%\n",
        "> Processing Locus 12:3226309-3229543          [                         ]   0%\n",
        "> Processing Locus 12:3238996-3248423          [                         ]   0%\n",
        "> Processing Locus 12:3256043-3322913          [                         ]   0%\n",
        "> Processing Locus 12:3358456-3379126          [                         ]   0%\n",
        "> Processing Locus 12:3382819-3426149          [                         ]   0%\n",
        "> Processing Locus 12:3428429-3447830          [                         ]   0%"
       ]
      },
      {
       "output_type": "stream",
       "stream": "stdout",
       "text": [
        "\n",
        "> Processing Locus 12:3448944-3487535          [                         ]   0%\n",
        "> Processing Locus 12:3498356-3531817          [                         ]   0%\n",
        "> Processing Locus 12:3575076-3575159          [                         ]   0%\n",
        "> Processing Locus 12:3587633-3611303          [                         ]   0%\n",
        "> Processing Locus 12:3614628-3633775          [                         ]   0%\n",
        "> Processing Locus 12:3635054-3645629          [                         ]   0%"
       ]
      },
      {
       "output_type": "stream",
       "stream": "stdout",
       "text": [
        "\n",
        "> Processing Locus 12:3646186-3669142          [                         ]   0%\n",
        "> Processing Locus 12:3669967-3684771          [                         ]   0%\n",
        "> Processing Locus 12:3687445-3725230          [                         ]   0%"
       ]
      },
      {
       "output_type": "stream",
       "stream": "stdout",
       "text": [
        "\n",
        "> Processing Locus 12:3804709-3893083          [                         ]   0%\n",
        "> Processing Locus 12:3895082-3904611          [                         ]   0%\n",
        "> Processing Locus 12:3908437-3972617          [                         ]   0%\n",
        "> Processing Locus 12:3989448-3990759          [                         ]   0%"
       ]
      },
      {
       "output_type": "stream",
       "stream": "stdout",
       "text": [
        "\n",
        "> Processing Locus 12:4106671-4116149          [                         ]   0%\n",
        "> Processing Locus 12:4165758-4168586          [                         ]   0%\n",
        "> Processing Locus 12:4172322-4234230          [                         ]   0%\n",
        "> Processing Locus 12:4246402-4257283          [                         ]   0%\n",
        "> Processing Locus 12:4295286-4295892          [                         ]   0%\n",
        "> Processing Locus 12:4304206-4312087          [                         ]   0%\n",
        "> Processing Locus 12:4314051-4322109          [                         ]   0%"
       ]
      },
      {
       "output_type": "stream",
       "stream": "stdout",
       "text": [
        "\n",
        "> Processing Locus 12:4330734-4346535          [                         ]   0%\n",
        "> Processing Locus 12:4357263-4363999          [                         ]   0%"
       ]
      },
      {
       "output_type": "stream",
       "stream": "stdout",
       "text": [
        "\n",
        "> Processing Locus 12:4472424-4521177          [                         ]   0%"
       ]
      },
      {
       "output_type": "stream",
       "stream": "stdout",
       "text": [
        "\n",
        "> Processing Locus 12:4528621-4542272          [                         ]   0%\n",
        "> Processing Locus 12:4551964-4590070          [                         ]   0%\n",
        "> Processing Locus 12:4593056-4603583          [                         ]   0%\n",
        "> Processing Locus 12:4606663-4621281          [                         ]   0%"
       ]
      },
      {
       "output_type": "stream",
       "stream": "stdout",
       "text": [
        "\n",
        "> Processing Locus 12:4624741-4642885          [                         ]   0%"
       ]
      },
      {
       "output_type": "stream",
       "stream": "stdout",
       "text": [
        "\n",
        "> Processing Locus 12:4644863-4658855          [                         ]   0%\n",
        "> Processing Locus 12:4662406-4672847          [                         ]   0%\n",
        "> Processing Locus 12:4679664-4708549          [                         ]   0%\n",
        "> Processing Locus 12:4716921-4724645          [                         ]   0%\n",
        "> Processing Locus 12:4732692-4750571          [                         ]   0%\n",
        "> Processing Locus 12:4794913-4825546          [                         ]   0%\n",
        "> Processing Locus 12:4851433-4856845          [                         ]   0%\n",
        "> Processing Locus 12:4861211-4865724          [                         ]   0%\n",
        "> Processing Locus 12:4874939-4880241          [                         ]   0%\n",
        "> Processing Locus 12:4882338-4887382          [                         ]   0%\n",
        "> Processing Locus 12:4895557-4919340          [                         ]   0%"
       ]
      },
      {
       "output_type": "stream",
       "stream": "stdout",
       "text": [
        "\n",
        "> Processing Locus 12:4921970-4929515          [                         ]   0%\n",
        "> Processing Locus 12:4941293-4958844          [                         ]   0%\n",
        "> Processing Locus 12:4967080-4967195          [                         ]   0%"
       ]
      },
      {
       "output_type": "stream",
       "stream": "stdout",
       "text": [
        "\n",
        "> Processing Locus 12:4975645-4982067          [                         ]   0%"
       ]
      },
      {
       "output_type": "stream",
       "stream": "stdout",
       "text": [
        "\n",
        "> Processing Locus 12:4989243-4997880          [                         ]   0%\n",
        "> Processing Locus 12:5000892-5011829          [                         ]   0%\n",
        "> Processing Locus 12:5019026-5026800          [                         ]   0%\n",
        "> Processing Locus 12:5041529-5051301          [                         ]   0%\n",
        "> Processing Locus 12:5058010-5064488          [                         ]   0%\n",
        "> Processing Locus 12:5077022-5155903          [                         ]   0%"
       ]
      },
      {
       "output_type": "stream",
       "stream": "stdout",
       "text": [
        "\n",
        "> Processing Locus 12:5161544-5167506          [                         ]   0%\n",
        "> Processing Locus 12:5197474-5249432          [                         ]   0%\n",
        "> Processing Locus 12:5254811-5288928          [                         ]   0%\n",
        "> Processing Locus 12:5306591-5333949          [                         ]   0%"
       ]
      },
      {
       "output_type": "stream",
       "stream": "stdout",
       "text": [
        "\n",
        "> Processing Locus 12:5347852-5377926          [                         ]   0%"
       ]
      },
      {
       "output_type": "stream",
       "stream": "stdout",
       "text": [
        "\n",
        "> Processing Locus 12:5385665-5755325          [                         ]   0%\n",
        "> Processing Locus 12:5758855-5773588          [                         ]   0%"
       ]
      },
      {
       "output_type": "stream",
       "stream": "stdout",
       "text": [
        "\n",
        "> Processing Locus 12:5786161-5809921          [                         ]   0%\n",
        "> Processing Locus 12:5811857-5873392          [                         ]   0%"
       ]
      },
      {
       "output_type": "stream",
       "stream": "stdout",
       "text": [
        "\n",
        "> Processing Locus 12:5895112-5937544          [                         ]   0%\n",
        "> Processing Locus 12:5941025-5946088          [                         ]   0%\n",
        "> Processing Locus 12:5949933-5957014          [                         ]   0%\n",
        "> Processing Locus 12:5964502-5988747          [                         ]   0%\n",
        "> Processing Locus 12:6003439-6012547          [                         ]   0%\n",
        "> Processing Locus 12:6016976-6021136          [                         ]   0%\n",
        "> Processing Locus 12:6022734-6040033          [                         ]   0%\n",
        "> Processing Locus 12:6057526-6066666          [                         ]   0%\n",
        "> Processing Locus 12:6074361-6077882          [                         ]   0%\n",
        "> Processing Locus 12:6089183-6089293          [                         ]   0%\n",
        "> Processing Locus 12:6123104-6201705          [                         ]   0%\n",
        "> Processing Locus 12:6204221-6256035          [                         ]   0%\n",
        "> Processing Locus 12:6281100-6293478          [                         ]   0%\n",
        "> Processing Locus 12:6326578-6327805          [                         ]   0%\n",
        "> Processing Locus 12:6330710-6364880          [                         ]   0%"
       ]
      },
      {
       "output_type": "stream",
       "stream": "stdout",
       "text": [
        "\n",
        "> Processing Locus 12:6367941-6386602          [                         ]   0%\n",
        "> Processing Locus 12:6391776-6427874          [                         ]   0%"
       ]
      },
      {
       "output_type": "stream",
       "stream": "stdout",
       "text": [
        "\n",
        "> Processing Locus 12:6664828-6682434          [                         ]   0%\n",
        "> Processing Locus 12:6686362-6690031          [                         ]   0%"
       ]
      },
      {
       "output_type": "stream",
       "stream": "stdout",
       "text": [
        "\n",
        "> Processing Locus 12:6706733-6717343          [                         ]   0%\n",
        "> Processing Locus 12:6725070-6731782          [                         ]   0%\n",
        "> Processing Locus 12:6732850-6746824          [                         ]   0%\n",
        "> Processing Locus 12:6749156-6797792          [                         ]   0%\n",
        "> Processing Locus 12:6801177-6826667          [                         ]   0%\n",
        "> Processing Locus 12:6844616-6855650          [                         ]   0%\n",
        "> Processing Locus 12:6897536-7134602          [                         ]   0%\n",
        "> Processing Locus 12:7149322-7151441          [                         ]   0%\n",
        "> Processing Locus 12:7226554-7233508          [                         ]   0%\n",
        "> Processing Locus 12:7249998-7502180          [                         ]   0%"
       ]
      },
      {
       "output_type": "stream",
       "stream": "stdout",
       "text": [
        "\n",
        "> Processing Locus 12:7865690-7906665          [                         ]   0%"
       ]
      },
      {
       "output_type": "stream",
       "stream": "stdout",
       "text": [
        "\n",
        "> Processing Locus 12:7909576-7925181          [                         ]   0%\n",
        "> Processing Locus 12:7926022-7935861          [                         ]   0%"
       ]
      },
      {
       "output_type": "stream",
       "stream": "stdout",
       "text": [
        "\n",
        "> Processing Locus 12:7940899-7953126          [                         ]   0%\n",
        "> Processing Locus 12:8012554-8106125          [                         ]   0%\n",
        "> Processing Locus 12:8116233-8184433          [                         ]   0%\n",
        "> Processing Locus 12:8230522-8230660          [                         ]   0%\n",
        "> Processing Locus 12:8248792-8266826          [                         ]   0%"
       ]
      },
      {
       "output_type": "stream",
       "stream": "stdout",
       "text": [
        "\n",
        "> Processing Locus 12:8269641-8299247          [                         ]   0%\n",
        "> Processing Locus 12:8316471-8556992          [                         ]   0%\n",
        "> Processing Locus 12:8666334-8701514          [                         ]   0%\n",
        "> Processing Locus 12:8726451-8733388          [                         ]   0%\n",
        "> Processing Locus 12:8736830-8771779          [                         ]   0%\n",
        "> Processing Locus 12:8809621-8815589          [                         ]   0%"
       ]
      },
      {
       "output_type": "stream",
       "stream": "stdout",
       "text": [
        "\n",
        "> Processing Locus 12:8822179-8854582          [                         ]   0%"
       ]
      },
      {
       "output_type": "stream",
       "stream": "stdout",
       "text": [
        "\n",
        "> Processing Locus 12:8859125-8884567          [                         ]   0%\n",
        "> Processing Locus 12:8926218-9140030          [                         ]   0%\n",
        "> Processing Locus 12:9229069-9230709          [                         ]   0%\n",
        "> Processing Locus 12:9238039-9258480          [                         ]   0%"
       ]
      },
      {
       "output_type": "stream",
       "stream": "stdout",
       "text": [
        "\n",
        "> Processing Locus 12:9323886-9333929          [                         ]   0%\n",
        "> Processing Locus 12:9336268-9572004          [                         ]   0%"
       ]
      },
      {
       "output_type": "stream",
       "stream": "stdout",
       "text": [
        "\n",
        "> Processing Locus 12:9576918-9636388          [                         ]   0%"
       ]
      },
      {
       "output_type": "stream",
       "stream": "stdout",
       "text": [
        "\n",
        "> Processing Locus 12:9708962-9712555          [                         ]   0%"
       ]
      },
      {
       "output_type": "stream",
       "stream": "stdout",
       "text": [
        "\n",
        "> Processing Locus 12:9723647-9841768          [                         ]   0%\n",
        "> Processing Locus 12:9851164-9886884          [                         ]   0%\n",
        "> Processing Locus 12:9937827-9972460          [                         ]   0%\n",
        "> Processing Locus 12:10004830-10006253        [                         ]   0%\n",
        "> Processing Locus 12:10009339-10049021        [                         ]   0%"
       ]
      },
      {
       "output_type": "stream",
       "stream": "stdout",
       "text": [
        "\n",
        "> Processing Locus 12:10060033-10070004        [                         ]   0%\n",
        "> Processing Locus 12:10074986-10101529        [                         ]   0%\n",
        "> Processing Locus 12:10108665-10192429        [                         ]   0%\n",
        "> Processing Locus 12:10203868-10222820        [                         ]   0%"
       ]
      },
      {
       "output_type": "stream",
       "stream": "stdout",
       "text": [
        "\n",
        "> Processing Locus 12:10251847-10264605        [                         ]   0%\n",
        "> Processing Locus 12:10264674-10271183        [                         ]   0%\n",
        "> Processing Locus 12:10273405-10284926        [                         ]   0%"
       ]
      },
      {
       "output_type": "stream",
       "stream": "stdout",
       "text": [
        "\n",
        "> Processing Locus 12:10293248-10335629        [                         ]   0%\n",
        "> Processing Locus 12:10348439-10365535        [                         ]   0%\n",
        "> Processing Locus 12:10367954-10449359        [                         ]   0%\n",
        "> Processing Locus 12:10451824-10751893        [                         ]   0%"
       ]
      },
      {
       "output_type": "stream",
       "stream": "stdout",
       "text": [
        "\n",
        "> Processing Locus 12:10756258-10770972        [                         ]   0%"
       ]
      },
      {
       "output_type": "stream",
       "stream": "stdout",
       "text": [
        "\n",
        "> Processing Locus 12:10792174-10815554        [                         ]   0%"
       ]
      },
      {
       "output_type": "stream",
       "stream": "stdout",
       "text": [
        "\n",
        "> Processing Locus 12:10824210-10850807        [                         ]   0%\n",
        "> Processing Locus 12:10855555-10859059        [                         ]   0%\n",
        "> Processing Locus 12:10925522-10987495        [                         ]   0%\n",
        "> Processing Locus 12:11029477-11060288        [                         ]   0%"
       ]
      },
      {
       "output_type": "stream",
       "stream": "stdout",
       "text": [
        "\n",
        "> Processing Locus 12:11132937-11179590        [                         ]   0%\n",
        "> Processing Locus 12:11195997-11208784        [                         ]   0%\n",
        "> Processing Locus 12:11213660-11240031        [                         ]   0%\n",
        "> Processing Locus 12:11242670-11254577        [                         ]   0%\n",
        "> Processing Locus 12:11278304-11379187        [                         ]   0%\n",
        "> Processing Locus 12:11383809-11392494        [                         ]   0%\n",
        "> Processing Locus 12:11416759-11431087        [                         ]   0%"
       ]
      },
      {
       "output_type": "stream",
       "stream": "stdout",
       "text": [
        "\n",
        "> Processing Locus 12:11432418-11445055        [                         ]   0%"
       ]
      },
      {
       "output_type": "stream",
       "stream": "stdout",
       "text": [
        "\n",
        "> Processing Locus 12:11446921-11459480        [                         ]   0%"
       ]
      },
      {
       "output_type": "stream",
       "stream": "stdout",
       "text": [
        "\n",
        "> Processing Locus 12:11461042-11489056        [                         ]   0%\n",
        "> Processing Locus 12:11491524-11500999        [                         ]   0%\n",
        "> Processing Locus 12:11503761-11520747        [                         ]   0%"
       ]
      },
      {
       "output_type": "stream",
       "stream": "stdout",
       "text": [
        "\n",
        "> Processing Locus 12:11522961-11526255        [                         ]   0%\n",
        "> Processing Locus 12:11527053-11541586        [                         ]   0%"
       ]
      },
      {
       "output_type": "stream",
       "stream": "stdout",
       "text": [
        "\n",
        "> Processing Locus 12:11543982-11555534        [                         ]   0%"
       ]
      },
      {
       "output_type": "stream",
       "stream": "stdout",
       "text": [
        "\n",
        "> Processing Locus 12:11558023-11591997        [                         ]   0%"
       ]
      },
      {
       "output_type": "stream",
       "stream": "stdout",
       "text": [
        "\n",
        "> Processing Locus 12:11596558-11646274        [                         ]   0%\n",
        "> Processing Locus 12:11687820-11688621        [                         ]   0%"
       ]
      },
      {
       "output_type": "stream",
       "stream": "stdout",
       "text": [
        "\n",
        "> Processing Locus 12:11702255-11719558        [                         ]   0%"
       ]
      },
      {
       "output_type": "stream",
       "stream": "stdout",
       "text": [
        "\n",
        "> Processing Locus 12:12186819-12263281        [                         ]   0%\n",
        "> Processing Locus 12:12273913-12304820        [                         ]   0%\n",
        "> Processing Locus 12:12350957-12364448        [                         ]   0%\n",
        "> Processing Locus 12:12368997-12412810        [                         ]   0%"
       ]
      },
      {
       "output_type": "stream",
       "stream": "stdout",
       "text": [
        "\n",
        "> Processing Locus 12:12421892-12455943        [                         ]   0%\n",
        "> Processing Locus 12:12458673-12477335        [                         ]   0%\n",
        "> Processing Locus 12:12494767-12563669        [                         ]   0%\n",
        "> Processing Locus 12:12602783-12699480        [                         ]   0%\n",
        "> Processing Locus 12:12707602-12755734        [                         ]   0%"
       ]
      },
      {
       "output_type": "stream",
       "stream": "stdout",
       "text": [
        "\n",
        "> Processing Locus 12:12756189-12869702        [                         ]   0%\n",
        "> Processing Locus 12:12874157-12874933        [                         ]   0%\n",
        "> Processing Locus 12:13441259-13441375        [                         ]   0%\n",
        "> Processing Locus 12:13608981-13939048        [                         ]   0%\n",
        "> Processing Locus 12:14061723-14149717        [                         ]   0%\n",
        "> Processing Locus 12:14198022-14211632        [                         ]   0%"
       ]
      },
      {
       "output_type": "stream",
       "stream": "stdout",
       "text": [
        "\n",
        "> Processing Locus 12:14224583-14270293        [                         ]   0%\n",
        "> Processing Locus 12:14270749-14282903        [                         ]   0%\n",
        "> Processing Locus 12:14294659-14311898        [                         ]   0%"
       ]
      },
      {
       "output_type": "stream",
       "stream": "stdout",
       "text": [
        "\n",
        "> Processing Locus 12:14311998-14329493        [                         ]   0%\n",
        "> Processing Locus 12:14350469-14367789        [                         ]   0%\n",
        "> Processing Locus 12:14388840-14412927        [                         ]   0%\n",
        "> Processing Locus 12:14417982-14425013        [                         ]   0%\n",
        "> Processing Locus 12:14425175-14443081        [                         ]   0%"
       ]
      },
      {
       "output_type": "stream",
       "stream": "stdout",
       "text": [
        "\n",
        "> Processing Locus 12:14450939-14495828        [                         ]   0%\n",
        "> Processing Locus 12:14511488-14582132        [                         ]   0%\n",
        "> Processing Locus 12:14633465-14655582        [                         ]   0%\n",
        "> Processing Locus 12:14670400-14756344        [                         ]   0%\n",
        "> Processing Locus 12:14761756-14827869        [                         ]   0%"
       ]
      },
      {
       "output_type": "stream",
       "stream": "stdout",
       "text": [
        "\n",
        "> Processing Locus 12:14830592-14835309        [                         ]   0%\n",
        "> Processing Locus 12:14873213-14894393        [                         ]   0%\n",
        "> Processing Locus 12:14914051-14992773        [                         ]   0%\n",
        "> Processing Locus 12:14995962-15007861        [                         ]   0%"
       ]
      },
      {
       "output_type": "stream",
       "stream": "stdout",
       "text": [
        "\n",
        "> Processing Locus 12:15011329-15063081        [                         ]   0%\n",
        "> Processing Locus 12:15067311-15072228        [                         ]   0%\n",
        "> Processing Locus 12:15080443-15180550        [                         ]   0%\n",
        "> Processing Locus 12:15193458-15236502        [                         ]   0%"
       ]
      },
      {
       "output_type": "stream",
       "stream": "stdout",
       "text": [
        "\n",
        "> Processing Locus 12:15256086-15268821        [                         ]   0%"
       ]
      },
      {
       "output_type": "stream",
       "stream": "stdout",
       "text": [
        "\n",
        "> Processing Locus 12:15283494-15317111        [                         ]   0%\n",
        "> Processing Locus 12:15320798-15416005        [                         ]   0%\n",
        "> Processing Locus 12:15513877-15582940        [                         ]   0%\n",
        "> Processing Locus 12:15620662-15624213        [                         ]   0%\n",
        "> Processing Locus 12:15799602-15802414        [                         ]   0%\n",
        "> Processing Locus 12:15845100-15882130        [                         ]   0%\n",
        "> Processing Locus 12:15882267-15890507        [                         ]   0%\n",
        "> Processing Locus 12:16028128-16075734        [                         ]   0%\n",
        "> Processing Locus 12:16077367-16084598        [                         ]   0%"
       ]
      },
      {
       "output_type": "stream",
       "stream": "stdout",
       "text": [
        "\n",
        "> Processing Locus 12:16137531-16158552        [                         ]   0%\n",
        "> Processing Locus 12:16210190-16308190        [                         ]   0%\n",
        "> Processing Locus 12:16369025-16407653        [                         ]   0%\n",
        "> Processing Locus 12:16412071-16413832        [                         ]   0%\n",
        "> Processing Locus 12:16415488-16466818        [                         ]   0%\n",
        "> Processing Locus 12:16469878-16510140        [                         ]   0%\n",
        "> Processing Locus 12:16513676-16523013        [                         ]   0%\n",
        "> Processing Locus 12:16537111-16670195        [                         ]   0%\n",
        "> Processing Locus 12:17134602-17155977        [                         ]   0%"
       ]
      },
      {
       "output_type": "stream",
       "stream": "stdout",
       "text": [
        "\n",
        "> Processing Locus 12:17158556-17173902        [                         ]   0%"
       ]
      },
      {
       "output_type": "stream",
       "stream": "stdout",
       "text": [
        "\n",
        "> Processing Locus 12:17177969-17193993        [                         ]   0%\n",
        "> Processing Locus 12:17206811-17275590        [                         ]   0%\n",
        "> Processing Locus 12:17311638-17349353        [                         ]   0%\n",
        "> Processing Locus 12:17355565-17359765        [                         ]   0%\n",
        "> Processing Locus 12:17404492-17451722        [                         ]   0%\n",
        "> Processing Locus 12:17477079-17506355        [                         ]   0%\n",
        "> Processing Locus 12:17512187-17523634        [                         ]   0%\n",
        "> Processing Locus 12:17524028-17550668        [                         ]   0%\n",
        "> Processing Locus 12:17583550-17586054        [                         ]   0%\n",
        "> Processing Locus 12:17617377-17619247        [                         ]   0%\n",
        "> Processing Locus 12:17648251-17648368        [                         ]   0%\n",
        "> Processing Locus 12:17659766-17662116        [                         ]   0%\n",
        "> Processing Locus 12:17665694-17665809        [                         ]   0%\n",
        "> Processing Locus 12:17684089-17686709        [                         ]   0%\n",
        "> Processing Locus 12:17701517-17703564        [                         ]   0%\n",
        "> Processing Locus 12:17758537-18018797        [                         ]   0%"
       ]
      },
      {
       "output_type": "stream",
       "stream": "stdout",
       "text": [
        "\n",
        "> Processing Locus 12:18020366-18031792        [                         ]   0%\n",
        "> Processing Locus 12:18034666-18053920        [                         ]   0%\n",
        "> Processing Locus 12:18054321-18057848        [                         ]   0%\n",
        "> Processing Locus 12:18087724-18090939        [                         ]   0%\n",
        "> Processing Locus 12:18093073-18094522        [                         ]   0%\n",
        "> Processing Locus 12:18100490-18107181        [                         ]   0%\n",
        "> Processing Locus 12:18109708-18110818        [                         ]   0%"
       ]
      },
      {
       "output_type": "stream",
       "stream": "stdout",
       "text": [
        "\n",
        "> Processing Locus 12:18167910-18183279        [                         ]   0%\n",
        "> Processing Locus 12:18186480-18214945        [                         ]   0%\n",
        "> Processing Locus 12:18222326-18226154        [                         ]   0%\n",
        "> Processing Locus 12:18226190-18268577        [                         ]   0%\n",
        "> Processing Locus 12:18269075-18390890        [                         ]   0%\n",
        "> Processing Locus 12:18413098-18413216        [                         ]   0%"
       ]
      },
      {
       "output_type": "stream",
       "stream": "stdout",
       "text": [
        "\n",
        "> Processing Locus 12:18467400-18491711        [                         ]   0%"
       ]
      },
      {
       "output_type": "stream",
       "stream": "stdout",
       "text": [
        "\n",
        "> Processing Locus 12:18504452-18523624        [                         ]   0%\n",
        "> Processing Locus 12:18526497-18546627        [                         ]   0%\n",
        "> Processing Locus 12:18550155-18560434        [                         ]   0%\n",
        "> Processing Locus 12:18572390-18628451        [                         ]   0%\n",
        "> Processing Locus 12:18638223-18642320        [                         ]   0%"
       ]
      },
      {
       "output_type": "stream",
       "stream": "stdout",
       "text": [
        "\n",
        "> Processing Locus 12:18642460-18670507        [                         ]   0%"
       ]
      },
      {
       "output_type": "stream",
       "stream": "stdout",
       "text": [
        "\n",
        "> Processing Locus 12:18671076-18687073        [                         ]   0%"
       ]
      },
      {
       "output_type": "stream",
       "stream": "stdout",
       "text": [
        "\n",
        "> Processing Locus 12:18687615-18723232        [                         ]   0%"
       ]
      },
      {
       "output_type": "stream",
       "stream": "stdout",
       "text": [
        "\n",
        "> Processing Locus 12:18724772-18753953        [                         ]   0%\n",
        "> Processing Locus 12:18763655-18766066        [                         ]   0%\n",
        "> Processing Locus 12:18772766-18775066        [                         ]   0%\n",
        "> Processing Locus 12:18777973-18780047        [                         ]   0%\n",
        "> Processing Locus 12:18795076-18795200        [                         ]   0%\n",
        "> Processing Locus 12:18822353-18824381        [                         ]   0%"
       ]
      },
      {
       "output_type": "stream",
       "stream": "stdout",
       "text": [
        "\n",
        "> Processing Locus 12:18829496-18865039        [                         ]   0%\n",
        "> Processing Locus 12:18870612-18891767        [                         ]   0%\n",
        "> Processing Locus 12:18894722-18902196        [                         ]   0%\n",
        "> Processing Locus 12:18916675-18924401        [                         ]   0%\n",
        "> Processing Locus 12:18939736-18940692        [                         ]   0%"
       ]
      },
      {
       "output_type": "stream",
       "stream": "stdout",
       "text": [
        "\n",
        "> Processing Locus 12:18958215-19130119        [                         ]   0%"
       ]
      },
      {
       "output_type": "stream",
       "stream": "stdout",
       "text": [
        "\n",
        "> Processing Locus 12:19261370-19372778        [                         ]   0%\n",
        "> Processing Locus 12:19384152-19388117        [                         ]   0%"
       ]
      },
      {
       "output_type": "stream",
       "stream": "stdout",
       "text": [
        "\n",
        "> Processing Locus 12:19402635-19434531        [                         ]   0%"
       ]
      },
      {
       "output_type": "stream",
       "stream": "stdout",
       "text": [
        "\n",
        "> Processing Locus 12:19436572-19440504        [                         ]   0%\n",
        "> Processing Locus 12:19471691-19480386        [                         ]   0%\n",
        "> Processing Locus 12:19484792-19490756        [                         ]   0%\n",
        "> Processing Locus 12:19494642-19540535        [                         ]   0%\n",
        "> Processing Locus 12:19550956-19553182        [                         ]   0%"
       ]
      },
      {
       "output_type": "stream",
       "stream": "stdout",
       "text": [
        "\n",
        "> Processing Locus 12:19555275-19557908        [                         ]   0%\n",
        "> Processing Locus 12:19559159-19569440        [                         ]   0%\n",
        "> Processing Locus 12:19569747-19586399        [                         ]   0%"
       ]
      },
      {
       "output_type": "stream",
       "stream": "stdout",
       "text": [
        "\n",
        "> Processing Locus 12:19591517-19594799        [                         ]   0%"
       ]
      },
      {
       "output_type": "stream",
       "stream": "stdout",
       "text": [
        "\n",
        "> Processing Locus 12:19597419-19604397        [                         ]   0%\n",
        "> Processing Locus 12:19624814-19624929        [                         ]   0%\n",
        "> Processing Locus 12:19632104-19682203        [                         ]   0%\n",
        "> Processing Locus 12:19689380-19692247        [                         ]   0%\n",
        "> Processing Locus 12:19707440-19743624        [                         ]   0%"
       ]
      },
      {
       "output_type": "stream",
       "stream": "stdout",
       "text": [
        "\n",
        "> Processing Locus 12:19758746-19813282        [                         ]   0%\n",
        "> Processing Locus 12:19821708-19898460        [                         ]   0%\n",
        "> Processing Locus 12:19921621-19924440        [                         ]   0%"
       ]
      },
      {
       "output_type": "stream",
       "stream": "stdout",
       "text": [
        "\n",
        "> Processing Locus 12:19925437-19930336        [                         ]   0%"
       ]
      },
      {
       "output_type": "stream",
       "stream": "stdout",
       "text": [
        "\n",
        "> Processing Locus 12:19932455-19939359        [                         ]   0%\n",
        "> Processing Locus 12:19942493-19948227        [                         ]   0%"
       ]
      },
      {
       "output_type": "stream",
       "stream": "stdout",
       "text": [
        "\n",
        "> Processing Locus 12:19953029-20057773        [                         ]   0%"
       ]
      },
      {
       "output_type": "stream",
       "stream": "stdout",
       "text": [
        "\n",
        "> Processing Locus 12:20067174-20084778        [                         ]   0%"
       ]
      },
      {
       "output_type": "stream",
       "stream": "stdout",
       "text": [
        "\n",
        "> Processing Locus 12:20085767-20101940        [                         ]   0%\n",
        "> Processing Locus 12:20104207-20124350        [                         ]   0%\n",
        "> Processing Locus 12:20125566-20131812        [                         ]   0%\n",
        "> Processing Locus 12:20132932-20157715        [                         ]   0%\n",
        "> Processing Locus 12:20161960-20187267        [                         ]   0%\n",
        "> Processing Locus 12:20195547-20199677        [                         ]   0%"
       ]
      },
      {
       "output_type": "stream",
       "stream": "stdout",
       "text": [
        "\n",
        "> Processing Locus 12:20202852-20215498        [                         ]   0%"
       ]
      },
      {
       "output_type": "stream",
       "stream": "stdout",
       "text": [
        "\n",
        "> Processing Locus 12:20234733-20239974        [                         ]   0%\n",
        "> Processing Locus 12:20241114-20249459        [                         ]   0%"
       ]
      },
      {
       "output_type": "stream",
       "stream": "stdout",
       "text": [
        "\n",
        "> Processing Locus 12:20252400-20280910        [                         ]   0%\n",
        "> Processing Locus 12:20284823-20287961        [                         ]   0%"
       ]
      },
      {
       "output_type": "stream",
       "stream": "stdout",
       "text": [
        "\n",
        "> Processing Locus 12:20290317-20300726        [                         ]   0%"
       ]
      },
      {
       "output_type": "stream",
       "stream": "stdout",
       "text": [
        "\n",
        "> Processing Locus 12:20304804-20328658        [                         ]   0%\n",
        "> Processing Locus 12:20333934-20340600        [                         ]   0%\n",
        "> Processing Locus 12:20371742-20375265        [                         ]   0%\n",
        "> Processing Locus 12:20378878-20396632        [                         ]   0%\n",
        "> Processing Locus 12:20401737-20414656        [                         ]   0%"
       ]
      },
      {
       "output_type": "stream",
       "stream": "stdout",
       "text": [
        "\n",
        "> Processing Locus 12:20416938-20436502        [                         ]   0%"
       ]
      },
      {
       "output_type": "stream",
       "stream": "stdout",
       "text": [
        "\n",
        "> Processing Locus 12:20437067-20442960        [                         ]   0%\n",
        "> Processing Locus 12:20444819-20450053        [                         ]   0%\n",
        "> Processing Locus 12:20452904-20458468        [                         ]   0%\n",
        "> Processing Locus 12:20458616-20480227        [                         ]   0%\n",
        "> Processing Locus 12:20480933-20490249        [                         ]   0%"
       ]
      },
      {
       "output_type": "stream",
       "stream": "stdout",
       "text": [
        "\n",
        "> Processing Locus 12:20504976-20755537        [                         ]   0%"
       ]
      },
      {
       "output_type": "stream",
       "stream": "stdout",
       "text": [
        "\n",
        "> Processing Locus 12:20888562-20961867        [                         ]   0%\n",
        "> Processing Locus 12:20963146-21028053        [                         ]   0%"
       ]
      },
      {
       "output_type": "stream",
       "stream": "stdout",
       "text": [
        "\n",
        "> Processing Locus 12:21055318-21070814        [                         ]   0%"
       ]
      },
      {
       "output_type": "stream",
       "stream": "stdout",
       "text": [
        "\n",
        "> Processing Locus 12:21088441-21140514        [                         ]   0%\n",
        "> Processing Locus 12:21156342-21171520        [                         ]   0%"
       ]
      },
      {
       "output_type": "stream",
       "stream": "stdout",
       "text": [
        "\n",
        "> Processing Locus 12:21195126-21216993        [                         ]   0%"
       ]
      },
      {
       "output_type": "stream",
       "stream": "stdout",
       "text": [
        "\n",
        "> Processing Locus 12:21218752-21441409        [                         ]   0%\n",
        "> Processing Locus 12:21473585-21473707        [                         ]   0%\n",
        "> Processing Locus 12:21541661-21541779        [                         ]   0%\n",
        "> Processing Locus 12:21579581-21616760        [                         ]   0%\n",
        "> Processing Locus 12:21688562-21689767        [                         ]   0%\n",
        "> Processing Locus 12:21691905-21693036        [                         ]   0%"
       ]
      },
      {
       "output_type": "stream",
       "stream": "stdout",
       "text": [
        "\n",
        "> Processing Locus 12:21694943-21706034        [                         ]   0%\n",
        "> Processing Locus 12:21707631-21714554        [                         ]   0%\n",
        "> Processing Locus 12:21718601-21725551        [                         ]   0%\n",
        "> Processing Locus 12:21730868-21762245        [                         ]   0%\n",
        "> Processing Locus 12:21765056-21831308        [                         ]   0%\n",
        "> Processing Locus 12:21858930-21860325        [                         ]   0%"
       ]
      },
      {
       "output_type": "stream",
       "stream": "stdout",
       "text": [
        "\n",
        "> Processing Locus 12:21889753-21900218        [                         ]   0%\n",
        "> Processing Locus 12:21904150-21907037        [                         ]   0%\n",
        "> Processing Locus 12:21909236-21913265        [                         ]   0%\n",
        "> Processing Locus 12:21914892-21925154        [                         ]   0%\n",
        "> Processing Locus 12:21929752-21952923        [                         ]   0%"
       ]
      },
      {
       "output_type": "stream",
       "stream": "stdout",
       "text": [
        "\n",
        "> Processing Locus 12:21957737-21968705        [                         ]   0%"
       ]
      },
      {
       "output_type": "stream",
       "stream": "stdout",
       "text": [
        "\n",
        "> Processing Locus 12:21970132-21978175        [                         ]   0%"
       ]
      },
      {
       "output_type": "stream",
       "stream": "stdout",
       "text": [
        "\n",
        "> Processing Locus 12:21980049-21992713        [                         ]   0%"
       ]
      },
      {
       "output_type": "stream",
       "stream": "stdout",
       "text": [
        "\n",
        "> Processing Locus 12:21993646-22003904        [                         ]   0%\n",
        "> Processing Locus 12:22005501-22010830        [                         ]   0%\n",
        "> Processing Locus 12:22015180-22017709        [                         ]   0%\n",
        "> Processing Locus 12:22024147-22028881        [                         ]   0%\n",
        "> Processing Locus 12:22030766-22038169        [                         ]   0%"
       ]
      },
      {
       "output_type": "stream",
       "stream": "stdout",
       "text": [
        "\n",
        "> Processing Locus 12:22043854-22051728        [                         ]   0%\n",
        "> Processing Locus 12:22053505-22148986        [                         ]   0%"
       ]
      },
      {
       "output_type": "stream",
       "stream": "stdout",
       "text": [
        "\n",
        "> Processing Locus 12:22651882-22904552        [                         ]   0%\n",
        "> Processing Locus 12:22925200-22925317        [                         ]   0%\n",
        "> Processing Locus 12:23027492-23039673        [                         ]   0%\n",
        "> Processing Locus 12:23039708-23043505        [                         ]   0%\n",
        "> Processing Locus 12:23053028-23058009        [                         ]   0%\n",
        "> Processing Locus 12:23065123-23069764        [                         ]   0%\n",
        "> Processing Locus 12:23069982-23074104        [                         ]   0%"
       ]
      },
      {
       "output_type": "stream",
       "stream": "stdout",
       "text": [
        "\n",
        "> Processing Locus 12:23077651-23102809        [                         ]   0%\n",
        "> Processing Locus 12:23149419-23149534        [                         ]   0%\n",
        "> Processing Locus 12:23154547-23189395        [                         ]   0%\n",
        "> Processing Locus 12:23310027-23310093        [                         ]   0%\n",
        "> Processing Locus 12:23585829-23593422        [                         ]   0%\n",
        "> Processing Locus 12:23614379-23660460        [                         ]   0%"
       ]
      },
      {
       "output_type": "stream",
       "stream": "stdout",
       "text": [
        "\n",
        "> Processing Locus 12:23669384-23711071        [                         ]   0%"
       ]
      },
      {
       "output_type": "stream",
       "stream": "stdout",
       "text": [
        "\n",
        "> Processing Locus 12:23716966-23752016        [                         ]   0%"
       ]
      },
      {
       "output_type": "stream",
       "stream": "stdout",
       "text": [
        "\n",
        "> Processing Locus 12:23759717-23800679        [                         ]   0%\n",
        "> Processing Locus 12:23807405-23864688        [                         ]   0%\n",
        "> Processing Locus 12:23866633-23880007        [                         ]   0%\n",
        "> Processing Locus 12:23884381-23896562        [                         ]   0%"
       ]
      },
      {
       "output_type": "stream",
       "stream": "stdout",
       "text": [
        "\n",
        "> Processing Locus 12:23915881-23926807        [                         ]   0%"
       ]
      },
      {
       "output_type": "stream",
       "stream": "stdout",
       "text": [
        "\n",
        "> Processing Locus 12:23931326-23959777        [                         ]   0%"
       ]
      },
      {
       "output_type": "stream",
       "stream": "stdout",
       "text": [
        "\n",
        "> Processing Locus 12:23978108-23994121        [                         ]   0%\n",
        "> Processing Locus 12:23994235-24019390        [                         ]   0%"
       ]
      },
      {
       "output_type": "stream",
       "stream": "stdout",
       "text": [
        "\n",
        "> Processing Locus 12:24023395-24027753        [                         ]   0%\n",
        "> Processing Locus 12:24029688-24158892        [                         ]   0%\n",
        "> Processing Locus 12:24219634-24264963        [                         ]   0%\n",
        "> Processing Locus 12:24270739-24282787        [                         ]   0%\n",
        "> Processing Locus 12:24311156-24358575        [                         ]   0%\n",
        "> Processing Locus 12:24376299-24478009        [                         ]   0%"
       ]
      },
      {
       "output_type": "stream",
       "stream": "stdout",
       "text": [
        "\n",
        "> Processing Locus 12:24525224-24788178        [                         ]   0%"
       ]
      },
      {
       "output_type": "stream",
       "stream": "stdout",
       "text": [
        "\n",
        "> Processing Locus 12:24794078-24838501        [                         ]   0%\n",
        "> Processing Locus 12:24846548-24852797        [                         ]   0%\n",
        "> Processing Locus 12:24877169-24945485        [                         ]   0%\n",
        "> Processing Locus 12:24999706-24999832        [                         ]   0%\n",
        "> Processing Locus 12:25070291-25081329        [                         ]   0%\n",
        "> Processing Locus 12:25086775-25097056        [                         ]   0%\n",
        "> Processing Locus 12:25206713-25218348        [                         ]   0%\n",
        "> Processing Locus 12:25234968-25355016        [                         ]   0%"
       ]
      },
      {
       "output_type": "stream",
       "stream": "stdout",
       "text": [
        "\n",
        "> Processing Locus 12:25501737-25562994        [                         ]   0%"
       ]
      },
      {
       "output_type": "stream",
       "stream": "stdout",
       "text": [
        "\n",
        "> Processing Locus 12:25566104-25570463        [                         ]   0%\n",
        "> Processing Locus 12:25570998-25587246        [                         ]   0%\n",
        "> Processing Locus 12:25724505-25724622        [                         ]   0%\n",
        "> Processing Locus 12:25854715-26143639        [                         ]   0%\n",
        "> Processing Locus 12:26245301-26276530        [                         ]   0%\n",
        "> Processing Locus 12:26292703-26292825        [                         ]   0%\n",
        "> Processing Locus 12:26302853-26338637        [                         ]   0%"
       ]
      },
      {
       "output_type": "stream",
       "stream": "stdout",
       "text": [
        "\n",
        "> Processing Locus 12:26349661-26411104        [                         ]   0%\n",
        "> Processing Locus 12:26412445-26434837        [                         ]   0%"
       ]
      },
      {
       "output_type": "stream",
       "stream": "stdout",
       "text": [
        "\n",
        "> Processing Locus 12:26460439-26465160        [                         ]   0%\n",
        "> Processing Locus 12:26569840-26593303        [                         ]   0%\n",
        "> Processing Locus 12:26612193-26618916        [                         ]   0%"
       ]
      },
      {
       "output_type": "stream",
       "stream": "stdout",
       "text": [
        "\n",
        "> Processing Locus 12:26624152-26677931        [                         ]   0%\n",
        "> Processing Locus 12:26725034-26729228        [                         ]   0%\n",
        "> Processing Locus 12:26737661-26744869        [                         ]   0%"
       ]
      },
      {
       "output_type": "stream",
       "stream": "stdout",
       "text": [
        "\n",
        "> Processing Locus 12:26751450-26816373        [                         ]   0%\n",
        "> Processing Locus 12:26820809-26821748        [                         ]   0%"
       ]
      },
      {
       "output_type": "stream",
       "stream": "stdout",
       "text": [
        "\n",
        "> Processing Locus 12:26904290-26907680        [                         ]   0%"
       ]
      },
      {
       "output_type": "stream",
       "stream": "stdout",
       "text": [
        "\n",
        "> Processing Locus 12:26960278-27012961        [                         ]   0%\n",
        "> Processing Locus 12:27128336-27130993        [                         ]   0%\n",
        "> Processing Locus 12:27137670-27139822        [                         ]   0%"
       ]
      },
      {
       "output_type": "stream",
       "stream": "stdout",
       "text": [
        "\n",
        "> Processing Locus 12:27168131-27297935        [                         ]   0%\n",
        "> Processing Locus 12:27303465-27356942        [                         ]   0%"
       ]
      },
      {
       "output_type": "stream",
       "stream": "stdout",
       "text": [
        "\n",
        "> Processing Locus 12:27373145-27454439        [                         ]   0%\n",
        "> Processing Locus 12:27468002-27491023        [                         ]   0%\n",
        "> Processing Locus 12:27505875-27522325        [                         ]   0%\n",
        "> Processing Locus 12:27524433-27594493        [                         ]   0%"
       ]
      },
      {
       "output_type": "stream",
       "stream": "stdout",
       "text": [
        "\n",
        "> Processing Locus 12:27596419-27636335        [                         ]   0%\n",
        "> Processing Locus 12:27656706-27694335        [                         ]   0%\n",
        "> Processing Locus 12:27712035-27712152        [                         ]   0%\n",
        "> Processing Locus 12:27768998-27889467        [                         ]   0%\n",
        "> Processing Locus 12:27956276-27979907        [                         ]   0%\n",
        "> Processing Locus 12:27982171-28001307        [                         ]   0%\n",
        "> Processing Locus 12:28005508-28032775        [                         ]   0%\n",
        "> Processing Locus 12:28038877-28058394        [                         ]   0%\n",
        "> Processing Locus 12:28062719-28065880        [                         ]   0%"
       ]
      },
      {
       "output_type": "stream",
       "stream": "stdout",
       "text": [
        "\n",
        "> Processing Locus 12:28068197-28109854        [                         ]   0%"
       ]
      },
      {
       "output_type": "stream",
       "stream": "stdout",
       "text": [
        "\n",
        "> Processing Locus 12:28110052-28118020        [                         ]   0%\n",
        "> Processing Locus 12:28118318-28129069        [                         ]   0%\n",
        "> Processing Locus 12:28137615-28153501        [                         ]   0%\n",
        "> Processing Locus 12:28165114-28180378        [                         ]   0%\n",
        "> Processing Locus 12:28182465-28191759        [                         ]   0%\n",
        "> Processing Locus 12:28193040-28296812        [                         ]   0%\n",
        "> Processing Locus 12:28321304-28422757        [                         ]   0%\n",
        "> Processing Locus 12:28448411-28536029        [                         ]   0%\n",
        "> Processing Locus 12:28558596-28558713        [                         ]   0%\n",
        "> Processing Locus 12:28595783-28596905        [                         ]   0%"
       ]
      },
      {
       "output_type": "stream",
       "stream": "stdout",
       "text": [
        "\n",
        "> Processing Locus 12:28598341-28602091        [                         ]   0%\n",
        "> Processing Locus 12:28607628-28632372        [                         ]   0%"
       ]
      },
      {
       "output_type": "stream",
       "stream": "stdout",
       "text": [
        "\n",
        "> Processing Locus 12:28635938-28661697        [                         ]   0%\n",
        "> Processing Locus 12:28667865-28686443        [                         ]   0%"
       ]
      },
      {
       "output_type": "stream",
       "stream": "stdout",
       "text": [
        "\n",
        "> Processing Locus 12:28688846-28691064        [                         ]   0%\n",
        "> Processing Locus 12:28698169-28699799        [                         ]   0%\n",
        "> Processing Locus 12:28700689-28702766        [                         ]   0%\n",
        "> Processing Locus 12:28705899-28705998        [                         ]   0%\n",
        "> Processing Locus 12:28712170-28713862        [                         ]   0%"
       ]
      },
      {
       "output_type": "stream",
       "stream": "stdout",
       "text": [
        "\n",
        "> Processing Locus 12:28728025-28783911        [                         ]   0%"
       ]
      },
      {
       "output_type": "stream",
       "stream": "stdout",
       "text": [
        "\n",
        "> Processing Locus 12:28784763-28800889        [                         ]   0%"
       ]
      },
      {
       "output_type": "stream",
       "stream": "stdout",
       "text": [
        "\n",
        "> Processing Locus 12:28802242-28808063        [                         ]   0%\n",
        "> Processing Locus 12:28814089-28816788        [                         ]   0%\n",
        "> Processing Locus 12:28857040-28879625        [                         ]   0%\n",
        "> Processing Locus 12:28902354-28906683        [                         ]   0%\n",
        "> Processing Locus 12:29033255-29040298        [                         ]   0%\n",
        "> Processing Locus 12:29107125-29139725        [                         ]   0%"
       ]
      },
      {
       "output_type": "stream",
       "stream": "stdout",
       "text": [
        "\n",
        "> Processing Locus 12:29141571-29159330        [                         ]   0%\n",
        "> Processing Locus 12:29160684-29236619        [                         ]   0%"
       ]
      },
      {
       "output_type": "stream",
       "stream": "stdout",
       "text": [
        "\n",
        "> Processing Locus 12:29276262-29637717        [                         ]   0%\n",
        "> Processing Locus 12:29681986-29684860        [                         ]   0%\n",
        "> Processing Locus 12:29778775-29897154        [                         ]   0%\n",
        "> Processing Locus 12:29897997-29911272        [                         ]   0%\n",
        "> Processing Locus 12:29915717-29918645        [                         ]   0%"
       ]
      },
      {
       "output_type": "stream",
       "stream": "stdout",
       "text": [
        "\n",
        "> Processing Locus 12:29925906-30085333        [                         ]   0%\n",
        "> Processing Locus 12:30091365-30094031        [                         ]   0%\n",
        "> Processing Locus 12:30109939-30119024        [                         ]   0%\n",
        "> Processing Locus 12:30165378-30226482        [                         ]   0%\n",
        "> Processing Locus 12:30297349-30318978        [                         ]   0%"
       ]
      },
      {
       "output_type": "stream",
       "stream": "stdout",
       "text": [
        "\n",
        "> Processing Locus 12:30321749-30343118        [                         ]   0%"
       ]
      },
      {
       "output_type": "stream",
       "stream": "stdout",
       "text": [
        "\n",
        "> Processing Locus 12:30344782-30347803        [                         ]   0%\n",
        "> Processing Locus 12:30348148-30355345        [                         ]   0%\n",
        "> Processing Locus 12:30356805-30366895        [                         ]   0%\n",
        "> Processing Locus 12:30373954-30383307        [                         ]   0%\n",
        "> Processing Locus 12:30403634-30411637        [                         ]   0%"
       ]
      },
      {
       "output_type": "stream",
       "stream": "stdout",
       "text": [
        "\n",
        "> Processing Locus 12:30418622-30429842        [                         ]   0%"
       ]
      },
      {
       "output_type": "stream",
       "stream": "stdout",
       "text": [
        "\n",
        "> Processing Locus 12:30437135-30449345        [                         ]   0%"
       ]
      },
      {
       "output_type": "stream",
       "stream": "stdout",
       "text": [
        "\n",
        "> Processing Locus 12:30459031-30485308        [                         ]   0%\n",
        "> Processing Locus 12:30493692-30493807        [                         ]   0%\n",
        "> Processing Locus 12:30496408-30501585        [                         ]   0%"
       ]
      },
      {
       "output_type": "stream",
       "stream": "stdout",
       "text": [
        "\n",
        "> Processing Locus 12:30503926-30508794        [                         ]   0%\n",
        "> Processing Locus 12:30510750-30511452        [                         ]   0%\n",
        "> Processing Locus 12:30519496-30531745        [                         ]   0%\n",
        "> Processing Locus 12:30544102-30561053        [                         ]   0%\n",
        "> Processing Locus 12:30561733-30561851        [                         ]   0%\n",
        "> Processing Locus 12:30603303-30759759        [                         ]   0%\n",
        "> Processing Locus 12:30773614-30777631        [                         ]   0%\n",
        "> Processing Locus 12:30784434-30785976        [                         ]   0%"
       ]
      },
      {
       "output_type": "stream",
       "stream": "stdout",
       "text": [
        "\n",
        "> Processing Locus 12:30788284-30818523        [                         ]   0%\n",
        "> Processing Locus 12:30838174-30853381        [                         ]   0%\n",
        "> Processing Locus 12:30882721-30882811        [                         ]   0%\n",
        "> Processing Locus 12:30898859-31172799        [                         ]   0%\n",
        "> Processing Locus 12:31311706-31390202        [                         ]   0%"
       ]
      },
      {
       "output_type": "stream",
       "stream": "stdout",
       "text": [
        "\n",
        "> Processing Locus 12:31416363-31607933        [                         ]   0%\n",
        "> Processing Locus 12:31612179-31619661        [                         ]   0%\n",
        "> Processing Locus 12:31685415-31791644        [                         ]   0%"
       ]
      },
      {
       "output_type": "stream",
       "stream": "stdout",
       "text": [
        "\n",
        "> Processing Locus 12:31810126-31884106        [                         ]   0%\n",
        "> Processing Locus 12:31888089-31914534        [                         ]   0%\n",
        "> Processing Locus 12:31921592-31934556        [                         ]   0%\n",
        "> Processing Locus 12:31937069-31943890        [                         ]   0%"
       ]
      },
      {
       "output_type": "stream",
       "stream": "stdout",
       "text": [
        "\n",
        "> Processing Locus 12:31948124-31993801        [                         ]   0%\n",
        "> Processing Locus 12:32018118-32019291        [                         ]   0%\n",
        "> Processing Locus 12:32037011-32076683        [                         ]   0%\n",
        "> Processing Locus 12:32077010-32079801        [                         ]   0%\n",
        "> Processing Locus 12:32090610-32096441        [                         ]   0%"
       ]
      },
      {
       "output_type": "stream",
       "stream": "stdout",
       "text": [
        "\n",
        "> Processing Locus 12:32098102-32112570        [                         ]   0%\n",
        "> Processing Locus 12:32113012-32151324        [                         ]   0%\n",
        "> Processing Locus 12:32170294-32171515        [                         ]   0%\n",
        "> Processing Locus 12:32200410-32204655        [                         ]   0%\n",
        "> Processing Locus 12:32206782-32213077        [                         ]   0%\n",
        "> Processing Locus 12:32227928-32231832        [                         ]   0%\n",
        "> Processing Locus 12:32233741-32247789        [                         ]   0%\n",
        "> Processing Locus 12:32250713-32282549        [                         ]   0%\n",
        "> Processing Locus 12:32317167-32349242        [                         ]   0%\n",
        "> Processing Locus 12:32369975-32379565        [                         ]   0%\n",
        "> Processing Locus 12:32387906-32441864        [                         ]   0%"
       ]
      },
      {
       "output_type": "stream",
       "stream": "stdout",
       "text": [
        "\n",
        "> Processing Locus 12:32453055-32496034        [                         ]   0%\n",
        "> Processing Locus 12:32525267-32528780        [                         ]   0%"
       ]
      },
      {
       "output_type": "stream",
       "stream": "stdout",
       "text": [
        "\n",
        "> Processing Locus 12:32529924-32533156        [                         ]   0%\n",
        "> Processing Locus 12:32668773-32790417        [                         ]   0%\n",
        "> Processing Locus 12:32845792-33109635        [                         ]   0%\n",
        "> Processing Locus 12:33112565-33125675        [                         ]   0%\n",
        "> Processing Locus 12:33125679-33163215        [                         ]   0%"
       ]
      },
      {
       "output_type": "stream",
       "stream": "stdout",
       "text": [
        "\n",
        "> Processing Locus 12:33163275-33171778        [                         ]   0%\n",
        "> Processing Locus 12:33186400-33186535        [                         ]   0%\n",
        "> Processing Locus 12:33191099-33221664        [                         ]   0%\n",
        "> Processing Locus 12:33296023-33318398        [                         ]   0%"
       ]
      },
      {
       "output_type": "stream",
       "stream": "stdout",
       "text": [
        "\n",
        "> Processing Locus 12:33347691-33397390        [                         ]   0%\n",
        "> Processing Locus 12:33400339-33406787        [                         ]   0%"
       ]
      },
      {
       "output_type": "stream",
       "stream": "stdout",
       "text": [
        "\n",
        "> Processing Locus 12:33407773-33411488        [                         ]   0%\n",
        "> Processing Locus 12:33416598-33449021        [                         ]   0%\n",
        "> Processing Locus 12:33460660-33466267        [                         ]   0%\n",
        "> Processing Locus 12:33470166-33474962        [                         ]   0%\n",
        "> Processing Locus 12:33476481-33482030        [                         ]   0%\n",
        "> Processing Locus 12:33597330-33682941        [                         ]   0%"
       ]
      },
      {
       "output_type": "stream",
       "stream": "stdout",
       "text": [
        "\n",
        "> Processing Locus 12:33726277-33753571        [                         ]   0%\n",
        "> Processing Locus 12:33755394-33760653        [                         ]   0%\n",
        "> Processing Locus 12:33765271-33835397        [                         ]   0%\n",
        "> Processing Locus 12:33846502-33852328        [                         ]   0%\n",
        "> Processing Locus 12:33873572-33873896        [                         ]   0%\n",
        "> Processing Locus 12:34000541-34057155        [                         ]   0%\n",
        "> Processing Locus 12:34077114-34077786        [                         ]   0%\n",
        "> Processing Locus 12:34101460-34108950        [                         ]   0%\n",
        "> Processing Locus 12:34111309-34114559        [                         ]   0%\n",
        "> Processing Locus 12:34288837-34340681        [                         ]   0%\n",
        "> Processing Locus 12:34356065-34356867        [                         ]   0%\n",
        "> Processing Locus 12:34379618-34387160        [                         ]   0%\n",
        "> Processing Locus 12:34389508-34392765        [                         ]   0%\n",
        "> Processing Locus 12:34489633-34562077        [                         ]   0%\n",
        "> Processing Locus 12:34637653-34639232        [                         ]   0%\n",
        "> Processing Locus 12:34653624-34666399        [                         ]   0%"
       ]
      },
      {
       "output_type": "stream",
       "stream": "stdout",
       "text": [
        "\n",
        "> Processing Locus 12:34668798-34675762        [                         ]   0%"
       ]
      },
      {
       "output_type": "stream",
       "stream": "stdout",
       "text": [
        "\n",
        "> Processing Locus 12:34681229-34725417        [                         ]   0%"
       ]
      },
      {
       "output_type": "stream",
       "stream": "stdout",
       "text": [
        "\n",
        "> Processing Locus 12:34784957-34788079        [                         ]   0%\n",
        "> Processing Locus 12:34794034-34809802        [                         ]   0%"
       ]
      },
      {
       "output_type": "stream",
       "stream": "stdout",
       "text": [
        "\n",
        "> Processing Locus 12:34815411-34831695        [                         ]   0%"
       ]
      },
      {
       "output_type": "stream",
       "stream": "stdout",
       "text": [
        "\n",
        "> Processing Locus 12:34840957-34841862        [                         ]   0%"
       ]
      },
      {
       "output_type": "stream",
       "stream": "stdout",
       "text": [
        "\n",
        "> Processing Locus 12:34845163-34854562        [                         ]   0%"
       ]
      },
      {
       "output_type": "stream",
       "stream": "stdout",
       "text": [
        "\n",
        "> Processing Locus 12:34860157-34886418        [                         ]   0%"
       ]
      },
      {
       "output_type": "stream",
       "stream": "stdout",
       "text": [
        "\n",
        "> Processing Locus 12:34890655-34945093        [                         ]   0%"
       ]
      },
      {
       "output_type": "stream",
       "stream": "stdout",
       "text": [
        "\n",
        "> Processing Locus 12:34947822-34954487        [                         ]   0%\n",
        "> Processing Locus 12:34955701-34968937        [                         ]   0%"
       ]
      },
      {
       "output_type": "stream",
       "stream": "stdout",
       "text": [
        "\n",
        "> Processing Locus 12:34979365-35032034        [                         ]   0%"
       ]
      },
      {
       "output_type": "stream",
       "stream": "stdout",
       "text": [
        "\n",
        "> Processing Locus 12:35033588-35053635        [                         ]   0%"
       ]
      },
      {
       "output_type": "stream",
       "stream": "stdout",
       "text": [
        "\n",
        "> Processing Locus 12:35056325-35077290        [                         ]   0%"
       ]
      },
      {
       "output_type": "stream",
       "stream": "stdout",
       "text": [
        "\n",
        "> Processing Locus 12:35101425-35150496        [                         ]   0%\n",
        "> Processing Locus 12:35157190-35198518        [                         ]   0%"
       ]
      },
      {
       "output_type": "stream",
       "stream": "stdout",
       "text": [
        "\n",
        "> Processing Locus 12:35233268-35283975        [                         ]   0%\n",
        "> Processing Locus 12:35285116-35300331        [                         ]   0%\n",
        "> Processing Locus 12:35302234-35309185        [                         ]   0%\n",
        "> Processing Locus 12:35312618-35314365        [                         ]   0%\n",
        "> Processing Locus 12:35327879-35358619        [                         ]   0%"
       ]
      },
      {
       "output_type": "stream",
       "stream": "stdout",
       "text": [
        "\n",
        "> Processing Locus 12:35390900-35411358        [                         ]   0%\n",
        "> Processing Locus 12:35413174-35431310        [                         ]   0%\n",
        "> Processing Locus 12:35462649-35469034        [                         ]   0%"
       ]
      },
      {
       "output_type": "stream",
       "stream": "stdout",
       "text": [
        "\n",
        "> Processing Locus 12:35471374-35485124        [                         ]   0%\n",
        "> Processing Locus 12:35487182-35531581        [                         ]   0%\n",
        "> Processing Locus 12:35615688-35689191        [                         ]   0%\n",
        "> Processing Locus 12:35703130-35729554        [                         ]   0%\n",
        "> Processing Locus 12:35730851-35734728        [                         ]   0%"
       ]
      },
      {
       "output_type": "stream",
       "stream": "stdout",
       "text": [
        "\n",
        "> Processing Locus 12:35740183-35779795        [                         ]   0%"
       ]
      },
      {
       "output_type": "stream",
       "stream": "stdout",
       "text": [
        "\n",
        "> Processing Locus 12:35817382-35975083        [                         ]   0%"
       ]
      },
      {
       "output_type": "stream",
       "stream": "stdout",
       "text": [
        "\n",
        "> Processing Locus 12:35983715-36006062        [                         ]   0%\n",
        "> Processing Locus 12:36123477-36203541        [                         ]   0%\n",
        "> Processing Locus 12:36213654-36213769        [                         ]   0%\n",
        "> Processing Locus 12:36238810-36250264        [                         ]   0%\n",
        "> Processing Locus 12:36269130-36271829        [                         ]   0%"
       ]
      },
      {
       "output_type": "stream",
       "stream": "stdout",
       "text": [
        "\n",
        "> Processing Locus 12:36272046-36276784        [                         ]   0%\n",
        "> Processing Locus 12:36301873-36301972        [                         ]   0%\n",
        "> Processing Locus 12:36309348-36370404        [                         ]   0%\n",
        "> Processing Locus 12:36421613-36426532        [                         ]   0%\n",
        "> Processing Locus 12:36430807-36431869        [                         ]   0%\n",
        "> Processing Locus 12:36438018-36446387        [                         ]   0%\n",
        "> Processing Locus 12:36452903-36468681        [                         ]   0%\n",
        "> Processing Locus 12:36478549-36495568        [                         ]   0%\n",
        "> Processing Locus 12:36500662-36559693        [                         ]   0%\n",
        "> Processing Locus 12:36684765-36758164        [                         ]   0%\n",
        "> Processing Locus 12:36864819-36884234        [                         ]   0%"
       ]
      },
      {
       "output_type": "stream",
       "stream": "stdout",
       "text": [
        "\n",
        "> Processing Locus 12:36888141-36893362        [                         ]   0%"
       ]
      },
      {
       "output_type": "stream",
       "stream": "stdout",
       "text": [
        "\n",
        "> Processing Locus 12:36895908-36906967        [                         ]   0%\n",
        "> Processing Locus 12:36926355-36944716        [                         ]   0%\n",
        "> Processing Locus 12:37046022-37050248        [                         ]   0%\n",
        "> Processing Locus 12:37065404-37083525        [                         ]   0%\n",
        "> Processing Locus 12:37125612-37134954        [                         ]   0%\n",
        "> Processing Locus 12:37137261-37185204        [                         ]   0%"
       ]
      },
      {
       "output_type": "stream",
       "stream": "stdout",
       "text": [
        "\n",
        "> Processing Locus 12:37187319-37231157        [                         ]   0%\n",
        "> Processing Locus 12:37231929-37245271        [                         ]   0%\n",
        "> Processing Locus 12:37262651-37266591        [                         ]   0%\n",
        "> Processing Locus 12:37387320-37391548        [                         ]   0%\n",
        "> Processing Locus 12:37399008-37400292        [                         ]   0%\n",
        "> Processing Locus 12:37500385-37500475        [                         ]   0%\n",
        "> Processing Locus 12:37501578-37551068        [                         ]   0%\n",
        "> Processing Locus 12:37556808-37567357        [                         ]   0%\n",
        "> Processing Locus 12:37600804-37605412        [                         ]   0%\n",
        "> Processing Locus 12:37614855-37636902        [                         ]   0%\n",
        "> Processing Locus 12:37662651-37665169        [                         ]   0%\n",
        "> Processing Locus 12:37671563-37679616        [                         ]   0%"
       ]
      },
      {
       "output_type": "stream",
       "stream": "stdout",
       "text": [
        "\n",
        "> Processing Locus 12:37683213-37704261        [                         ]   0%\n",
        "> Processing Locus 12:37715591-37723218        [                         ]   0%\n",
        "> Processing Locus 12:37732584-37733969        [                         ]   0%\n",
        "> Processing Locus 12:37774789-37818326        [                         ]   0%\n",
        "> Processing Locus 12:37829728-37846338        [                         ]   0%\n",
        "> Processing Locus 12:37860355-37878499        [                         ]   0%"
       ]
      },
      {
       "output_type": "stream",
       "stream": "stdout",
       "text": [
        "\n",
        "> Processing Locus 12:37880888-37907763        [                         ]   0%\n",
        "> Processing Locus 12:37936894-37961516        [                         ]   0%"
       ]
      },
      {
       "output_type": "stream",
       "stream": "stdout",
       "text": [
        "\n",
        "> Processing Locus 12:37984265-38071933        [                         ]   0%\n",
        "> Processing Locus 12:38091992-38143552        [                         ]   0%\n",
        "> Processing Locus 12:38161208-38161325        [                         ]   0%\n",
        "> Processing Locus 12:38208387-38277766        [                         ]   0%\n",
        "> Processing Locus 12:38346902-38347019        [                         ]   0%\n",
        "> Processing Locus 12:38429326-38498369        [                         ]   0%\n",
        "> Processing Locus 12:38509826-38540032        [                         ]   0%\n",
        "> Processing Locus 12:38813179-38837515        [                         ]   0%\n",
        "> Processing Locus 12:38865945-38880343        [                         ]   0%\n",
        "> Processing Locus 12:38939185-38942627        [                         ]   0%\n",
        "> Processing Locus 12:38947810-38948821        [                         ]   0%"
       ]
      },
      {
       "output_type": "stream",
       "stream": "stdout",
       "text": [
        "\n",
        "> Processing Locus 12:39001356-39272817        [                         ]   0%\n",
        "> Processing Locus 12:39329859-39329975        [                         ]   0%\n",
        "> Processing Locus 12:39477404-39478529        [                         ]   0%\n",
        "> Processing Locus 12:40099734-40104569        [                         ]   0%\n",
        "> Processing Locus 12:40106345-40236087        [                         ]   0%\n",
        "> Processing Locus 12:40239462-40255379        [                         ]   0%"
       ]
      },
      {
       "output_type": "stream",
       "stream": "stdout",
       "text": [
        "\n",
        "> Processing Locus 12:40259744-40346684        [                         ]   0%"
       ]
      },
      {
       "output_type": "stream",
       "stream": "stdout",
       "text": [
        "\n",
        "> Processing Locus 12:40351359-40404440        [                         ]   0%\n",
        "> Processing Locus 12:40476499-40603933        [                         ]   0%\n",
        "> Processing Locus 12:40645829-40645915        [                         ]   0%\n",
        "> Processing Locus 12:40903184-40903299        [                         ]   0%\n",
        "> Processing Locus 12:40987994-40988110        [                         ]   0%\n",
        "> Processing Locus 12:41246224-41349008        [                         ]   0%\n",
        "> Processing Locus 12:41690752-41690868        [                         ]   0%\n",
        "> Processing Locus 12:41828864-41828980        [                         ]   0%\n",
        "> Processing Locus 12:42115507-42244621        [                         ]   0%\n",
        "> Processing Locus 12:42684912-42837810        [                         ]   0%\n",
        "> Processing Locus 12:43004464-43004587        [                         ]   0%"
       ]
      },
      {
       "output_type": "stream",
       "stream": "stdout",
       "text": [
        "\n",
        "> Processing Locus 12:43008936-43170897        [                         ]   0%"
       ]
      },
      {
       "output_type": "stream",
       "stream": "stdout",
       "text": [
        "\n",
        "> Processing Locus 12:43175667-43191180        [                         ]   0%\n",
        "> Processing Locus 12:43213084-43218348        [                         ]   0%\n",
        "> Processing Locus 12:43231629-43267962        [                         ]   0%\n",
        "> Processing Locus 12:43289229-43330067        [                         ]   0%\n",
        "> Processing Locus 12:43371974-43420546        [                         ]   0%\n",
        "> Processing Locus 12:43471499-43491034        [                         ]   0%\n",
        "> Processing Locus 12:43752734-43780750        [                         ]   0%\n",
        "> Processing Locus 12:43869463-43928073        [                         ]   0%\n",
        "> Processing Locus 12:44141559-44282638        [                         ]   0%\n",
        "> Processing Locus 12:44322075-44349503        [                         ]   0%"
       ]
      },
      {
       "output_type": "stream",
       "stream": "stdout",
       "text": [
        "\n",
        "> Processing Locus 12:44350855-44354919        [                         ]   0%\n",
        "> Processing Locus 12:44524080-44555496        [                         ]   0%"
       ]
      },
      {
       "output_type": "stream",
       "stream": "stdout",
       "text": [
        "\n",
        "> Processing Locus 12:44601380-44776687        [                         ]   0%\n",
        "> Processing Locus 12:44826932-44872428        [                         ]   0%\n",
        "> Processing Locus 12:45236817-45298485        [                         ]   0%\n",
        "> Processing Locus 12:45467868-45515637        [                         ]   0%\n",
        "> Processing Locus 12:45543310-45679547        [                         ]   0%"
       ]
      },
      {
       "output_type": "stream",
       "stream": "stdout",
       "text": [
        "\n",
        "> Processing Locus 12:45686877-45708977        [                         ]   0%\n",
        "> Processing Locus 12:45791424-45807286        [                         ]   0%\n",
        "> Processing Locus 12:45821458-45852412        [                         ]   0%\n",
        "> Processing Locus 12:45858725-45876322        [                         ]   0%\n",
        "> Processing Locus 12:45877487-45930711        [                         ]   0%\n",
        "> Processing Locus 12:45935176-45952831        [                         ]   0%\n",
        "> Processing Locus 12:45959540-45969379        [                         ]   0%"
       ]
      },
      {
       "output_type": "stream",
       "stream": "stdout",
       "text": [
        "\n",
        "> Processing Locus 12:45972651-45991571        [                         ]   0%"
       ]
      },
      {
       "output_type": "stream",
       "stream": "stdout",
       "text": [
        "\n",
        "> Processing Locus 12:45995275-46038694        [                         ]   0%\n",
        "> Processing Locus 12:46246875-46267495        [                         ]   0%\n",
        "> Processing Locus 12:46340361-46346821        [                         ]   0%\n",
        "> Processing Locus 12:46368055-46374884        [                         ]   0%\n",
        "> Processing Locus 12:46397533-46400704        [                         ]   0%\n",
        "> Processing Locus 12:46407722-46411330        [                         ]   0%\n",
        "> Processing Locus 12:46412815-46412932        [                         ]   0%\n",
        "> Processing Locus 12:46440283-46450045        [                         ]   0%\n",
        "> Processing Locus 12:46486115-46496936        [                         ]   0%"
       ]
      },
      {
       "output_type": "stream",
       "stream": "stdout",
       "text": [
        "\n",
        "> Processing Locus 12:46534913-46571621        [                         ]   0%\n",
        "> Processing Locus 12:46614280-46621453        [                         ]   0%\n",
        "> Processing Locus 12:46629767-46638624        [                         ]   0%\n",
        "> Processing Locus 12:46751978-46827746        [                         ]   0%\n",
        "> Processing Locus 12:46994361-47010486        [                         ]   0%\n",
        "> Processing Locus 12:47019878-47031879        [                         ]   0%\n",
        "> Processing Locus 12:47046978-47066350        [                         ]   0%\n",
        "> Processing Locus 12:47074447-47100259        [                         ]   0%\n",
        "> Processing Locus 12:47107342-47111966        [                         ]   0%\n",
        "> Processing Locus 12:47144407-47148097        [                         ]   0%\n",
        "> Processing Locus 12:47164404-47174311        [                         ]   0%\n",
        "> Processing Locus 12:47186138-47193728        [                         ]   0%\n",
        "> Processing Locus 12:47218463-47227074        [                         ]   0%\n",
        "> Processing Locus 12:47238225-47264986        [                         ]   0%\n",
        "> Processing Locus 12:47274869-47283051        [                         ]   0%\n",
        "> Processing Locus 12:47292553-47302086        [                         ]   0%\n",
        "> Processing Locus 12:47327844-47332575        [                         ]   0%\n",
        "> Processing Locus 12:47349711-47360129        [                         ]   0%\n",
        "> Processing Locus 12:47379868-47395941        [                         ]   0%\n",
        "> Processing Locus 12:47418175-47429262        [                         ]   0%\n",
        "> Processing Locus 12:47463138-47471850        [                         ]   0%\n",
        "> Processing Locus 12:47485939-47489808        [                         ]   0%\n",
        "> Processing Locus 12:47503263-47507180        [                         ]   0%\n",
        "> Processing Locus 12:47524756-47527075        [                         ]   0%\n",
        "> Processing Locus 12:47542433-47546374        [                         ]   0%\n",
        "> Processing Locus 12:47561044-47565018        [                         ]   0%\n",
        "> Processing Locus 12:47582997-47583374        [                         ]   0%\n",
        "> Processing Locus 12:47585629-47586615        [                         ]   0%\n",
        "> Processing Locus 12:47605624-47609528        [                         ]   0%"
       ]
      },
      {
       "output_type": "stream",
       "stream": "stdout",
       "text": [
        "\n",
        "> Processing Locus 12:47613340-47649700        [                         ]   0%\n",
        "> Processing Locus 12:47652494-47673190        [                         ]   0%\n",
        "> Processing Locus 12:47683811-47706837        [                         ]   0%"
       ]
      },
      {
       "output_type": "stream",
       "stream": "stdout",
       "text": [
        "\n",
        "> Processing Locus 12:47709702-47754444        [                         ]   0%\n",
        "> Processing Locus 12:47758182-47771010        [                         ]   0%\n",
        "> Processing Locus 12:47771855-47813366        [                         ]   0%\n",
        "> Processing Locus 12:47820220-47838787        [                         ]   0%"
       ]
      },
      {
       "output_type": "stream",
       "stream": "stdout",
       "text": [
        "\n",
        "> Processing Locus 12:47919623-47945557        [                         ]   0%"
       ]
      },
      {
       "output_type": "stream",
       "stream": "stdout",
       "text": [
        "\n",
        "> Processing Locus 12:47947002-47982244        [                         ]   0%"
       ]
      },
      {
       "output_type": "stream",
       "stream": "stdout",
       "text": [
        "\n",
        "> Processing Locus 12:47985030-48039202        [                         ]   0%\n",
        "> Processing Locus 12:48051829-48061236        [                         ]   0%\n",
        "> Processing Locus 12:48061824-48087137        [                         ]   0%\n",
        "> Processing Locus 12:48161732-48183759        [                         ]   0%"
       ]
      },
      {
       "output_type": "stream",
       "stream": "stdout",
       "text": [
        "\n",
        "> Processing Locus 12:48192147-48266683        [                         ]   0%\n",
        "> Processing Locus 12:48443910-48454306        [                         ]   0%"
       ]
      },
      {
       "output_type": "stream",
       "stream": "stdout",
       "text": [
        "\n",
        "> Processing Locus 12:48470088-48487060        [                         ]   0%"
       ]
      },
      {
       "output_type": "stream",
       "stream": "stdout",
       "text": [
        "\n",
        "> Processing Locus 12:48614756-48706677        [                         ]   0%\n",
        "> Processing Locus 12:48724379-48725885        [                         ]   0%"
       ]
      },
      {
       "output_type": "stream",
       "stream": "stdout",
       "text": [
        "\n",
        "> Processing Locus 12:48745085-48760401        [                         ]   0%\n",
        "> Processing Locus 12:48853943-48864046        [                         ]   0%\n",
        "> Processing Locus 12:48927884-48927999        [                         ]   0%\n",
        "> Processing Locus 12:48932778-48939178        [                         ]   0%\n",
        "> Processing Locus 12:48976626-48987988        [                         ]   0%\n",
        "> Processing Locus 12:48998180-49024161        [                         ]   0%\n",
        "> Processing Locus 12:49031477-49035407        [                         ]   0%\n",
        "> Processing Locus 12:49041229-49046526        [                         ]   0%\n",
        "> Processing Locus 12:49047813-49116389        [                         ]   0%"
       ]
      },
      {
       "output_type": "stream",
       "stream": "stdout",
       "text": [
        "\n",
        "> Processing Locus 12:49124877-49152281        [                         ]   0%\n",
        "> Processing Locus 12:49153042-49153137        [                         ]   0%\n",
        "> Processing Locus 12:49160060-49181616        [                         ]   0%\n",
        "> Processing Locus 12:49198447-49212435        [                         ]   0%\n",
        "> Processing Locus 12:49222791-49275286        [                         ]   0%\n",
        "> Processing Locus 12:49428046-49436463        [                         ]   0%\n",
        "> Processing Locus 12:49440482-49463702        [                         ]   0%\n",
        "> Processing Locus 12:49465175-49475020        [                         ]   0%\n",
        "> Processing Locus 12:49525829-49531261        [                         ]   0%\n",
        "> Processing Locus 12:49544033-49545787        [                         ]   0%"
       ]
      },
      {
       "output_type": "stream",
       "stream": "stdout",
       "text": [
        "\n",
        "> Processing Locus 12:49554093-49606166        [                         ]   0%\n",
        "> Processing Locus 12:49610295-49610834        [                         ]   0%"
       ]
      },
      {
       "output_type": "stream",
       "stream": "stdout",
       "text": [
        "\n",
        "> Processing Locus 12:49612489-49620904        [                         ]   0%"
       ]
      },
      {
       "output_type": "stream",
       "stream": "stdout",
       "text": [
        "\n",
        "> Processing Locus 12:49633437-49635557        [                         ]   0%"
       ]
      },
      {
       "output_type": "stream",
       "stream": "stdout",
       "text": [
        "\n",
        "> Processing Locus 12:49643125-49667966        [                         ]   0%"
       ]
      },
      {
       "output_type": "stream",
       "stream": "stdout",
       "text": [
        "\n",
        "> Processing Locus 12:49684019-49699500        [                         ]   0%\n",
        "> Processing Locus 12:49707840-49760529        [                         ]   0%"
       ]
      },
      {
       "output_type": "stream",
       "stream": "stdout",
       "text": [
        "\n",
        "> Processing Locus 12:49763059-49770336        [                         ]   0%\n",
        "> Processing Locus 12:49802987-49832107        [                         ]   0%\n",
        "> Processing Locus 12:49836390-49845614        [                         ]   0%\n",
        "> Processing Locus 12:49851154-49871433        [                         ]   0%\n",
        "> Processing Locus 12:49873399-49914803        [                         ]   0%\n",
        "> Processing Locus 12:49926444-49951727        [                         ]   0%\n",
        "> Processing Locus 12:50004531-50075404        [                         ]   0%\n",
        "> Processing Locus 12:50107721-50128309        [                         ]   0%\n",
        "> Processing Locus 12:50173492-50187857        [                         ]   0%"
       ]
      },
      {
       "output_type": "stream",
       "stream": "stdout",
       "text": [
        "\n",
        "> Processing Locus 12:50188001-50196421        [                         ]   0%\n",
        "> Processing Locus 12:50199189-50205215        [                         ]   0%\n",
        "> Processing Locus 12:50215339-50233896        [                         ]   0%"
       ]
      },
      {
       "output_type": "stream",
       "stream": "stdout",
       "text": [
        "\n",
        "> Processing Locus 12:50236400-50244430        [                         ]   0%"
       ]
      },
      {
       "output_type": "stream",
       "stream": "stdout",
       "text": [
        "\n",
        "> Processing Locus 12:50249476-50270603        [                         ]   0%\n",
        "> Processing Locus 12:50275023-50289840        [                         ]   0%\n",
        "> Processing Locus 12:50293696-50301119        [                         ]   0%\n",
        "> Processing Locus 12:50312817-50328784        [                         ]   0%\n",
        "> Processing Locus 12:50329855-50330361        [                         ]   0%\n",
        "> Processing Locus 12:50379332-50390278        [                         ]   0%\n",
        "> Processing Locus 12:50392893-50395554        [                         ]   0%\n",
        "> Processing Locus 12:50403310-50408380        [                         ]   0%\n",
        "> Processing Locus 12:50415521-50415901        [                         ]   0%"
       ]
      },
      {
       "output_type": "stream",
       "stream": "stdout",
       "text": [
        "\n",
        "> Processing Locus 12:50425944-50437525        [                         ]   0%\n",
        "> Processing Locus 12:50447861-50448451        [                         ]   0%\n",
        "> Processing Locus 12:50450446-50452333        [                         ]   0%\n",
        "> Processing Locus 12:50478893-50481510        [                         ]   0%\n",
        "> Processing Locus 12:50542144-50549329        [                         ]   0%\n",
        "> Processing Locus 12:50565076-50565636        [                         ]   0%\n",
        "> Processing Locus 12:50570539-50571935        [                         ]   0%\n",
        "> Processing Locus 12:50576675-50581926        [                         ]   0%\n",
        "> Processing Locus 12:50585226-50588390        [                         ]   0%\n",
        "> Processing Locus 12:50590905-50606484        [                         ]   0%\n",
        "> Processing Locus 12:50615115-50616796        [                         ]   0%\n",
        "> Processing Locus 12:50620021-50622464        [                         ]   0%"
       ]
      },
      {
       "output_type": "stream",
       "stream": "stdout",
       "text": [
        "\n",
        "> Processing Locus 12:50644669-50652623        [                         ]   0%"
       ]
      },
      {
       "output_type": "stream",
       "stream": "stdout",
       "text": [
        "\n",
        "> Processing Locus 12:50659370-50663709        [                         ]   0%\n",
        "> Processing Locus 12:50683576-50686698        [                         ]   0%\n",
        "> Processed 895 loci.                          [*************************] 100%\n",
        "> Map Properties:\n",
        ">\tNormalized Map Mass: 678496.61\n",
        ">\tRaw Map Mass: 678496.61\n",
        ">\tFragment Length Distribution: Empirical (learned)\n",
        ">\t              Estimated Mean: 341.67\n",
        ">\t           Estimated Std Dev: 39.76\n",
        "[16:13:01] Estimating transcript abundances.\n",
        "\n",
        "> Processing Locus 12:9744-12421               [                         ]   0%"
       ]
      },
      {
       "output_type": "stream",
       "stream": "stdout",
       "text": [
        "\n",
        "> Processing Locus 12:13020-19331              [                         ]   0%"
       ]
      },
      {
       "output_type": "stream",
       "stream": "stdout",
       "text": [
        "\n",
        "> Processing Locus 12:60926-65852              [                         ]   0%\n",
        "> Processing Locus 12:67544-75100              [                         ]   0%"
       ]
      },
      {
       "output_type": "stream",
       "stream": "stdout",
       "text": [
        "\n",
        "> Processing Locus 12:76855-77855              [                         ]   0%"
       ]
      },
      {
       "output_type": "stream",
       "stream": "stdout",
       "text": [
        "\n",
        "> Processing Locus 12:123320-124786            [                         ]   0%\n",
        "> Processing Locus 12:146320-164385            [                         ]   0%\n",
        "> Processing Locus 12:166218-168805            [                         ]   0%"
       ]
      },
      {
       "output_type": "stream",
       "stream": "stdout",
       "text": [
        "\n",
        "> Processing Locus 12:170940-173483            [                         ]   0%\n",
        "> Processing Locus 12:193337-221746            [                         ]   0%\n",
        "> Processing Locus 12:227140-235068            [                         ]   0%\n",
        "> Processing Locus 12:243755-245102            [                         ]   0%"
       ]
      },
      {
       "output_type": "stream",
       "stream": "stdout",
       "text": [
        "\n",
        "> Processing Locus 12:255852-262584            [                         ]   0%"
       ]
      },
      {
       "output_type": "stream",
       "stream": "stdout",
       "text": [
        "\n",
        "> Processing Locus 12:276710-286621            [                         ]   0%\n",
        "> Processing Locus 12:286933-290974            [                         ]   0%\n",
        "> Processing Locus 12:291810-294220            [                         ]   0%"
       ]
      },
      {
       "output_type": "stream",
       "stream": "stdout",
       "text": [
        "\n",
        "> Processing Locus 12:308608-310111            [                         ]   0%"
       ]
      },
      {
       "output_type": "stream",
       "stream": "stdout",
       "text": [
        "\n",
        "> Processing Locus 12:324151-326612            [                         ]   0%\n",
        "> Processing Locus 12:327932-331844            [                         ]   0%"
       ]
      },
      {
       "output_type": "stream",
       "stream": "stdout",
       "text": [
        "\n",
        "> Processing Locus 12:333834-341979            [                         ]   0%\n",
        "> Processing Locus 12:401969-418038            [                         ]   0%\n",
        "> Processing Locus 12:427677-443023            [                         ]   0%"
       ]
      },
      {
       "output_type": "stream",
       "stream": "stdout",
       "text": [
        "\n",
        "> Processing Locus 12:467425-475881            [                         ]   0%"
       ]
      },
      {
       "output_type": "stream",
       "stream": "stdout",
       "text": [
        "\n",
        "> Processing Locus 12:477574-715250            [                         ]   1%"
       ]
      },
      {
       "output_type": "stream",
       "stream": "stdout",
       "text": [
        "\n",
        "> Processing Locus 12:790715-802675            [                         ]   1%"
       ]
      },
      {
       "output_type": "stream",
       "stream": "stdout",
       "text": [
        "\n",
        "> Processing Locus 12:805223-853452            [                         ]   1%\n",
        "> Processing Locus 12:855598-881371            [                         ]   1%"
       ]
      },
      {
       "output_type": "stream",
       "stream": "stdout",
       "text": [
        "\n",
        "> Processing Locus 12:922360-983336            [                         ]   1%\n",
        "> Processing Locus 12:1001867-1005311          [                         ]   1%"
       ]
      },
      {
       "output_type": "stream",
       "stream": "stdout",
       "text": [
        "\n",
        "> Processing Locus 12:1044227-1047498          [                         ]   1%\n",
        "> Processing Locus 12:1114948-1146977          [                         ]   1%"
       ]
      },
      {
       "output_type": "stream",
       "stream": "stdout",
       "text": [
        "\n",
        "> Processing Locus 12:1150761-1154073          [                         ]   1%"
       ]
      },
      {
       "output_type": "stream",
       "stream": "stdout",
       "text": [
        "\n",
        "> Processing Locus 12:1169792-1176743          [                         ]   1%\n",
        "> Processing Locus 12:1179913-1187113          [                         ]   1%"
       ]
      },
      {
       "output_type": "stream",
       "stream": "stdout",
       "text": [
        "\n",
        "> Processing Locus 12:1189612-1196817          [                         ]   1%\n",
        "> Processing Locus 12:1197580-1207219          [                         ]   1%"
       ]
      },
      {
       "output_type": "stream",
       "stream": "stdout",
       "text": [
        "\n",
        "> Processing Locus 12:1211474-1229025          [                         ]   2%\n",
        "> Processing Locus 12:1235497-1251201          [                         ]   2%\n",
        "> Processing Locus 12:1265809-1275218          [                         ]   2%"
       ]
      },
      {
       "output_type": "stream",
       "stream": "stdout",
       "text": [
        "\n",
        "> Processing Locus 12:1282666-1290341          [                         ]   2%\n",
        "> Processing Locus 12:1302571-1337149          [                         ]   2%"
       ]
      },
      {
       "output_type": "stream",
       "stream": "stdout",
       "text": [
        "\n",
        "> Processing Locus 12:1447223-1447733          [                         ]   2%\n",
        "> Processing Locus 12:1490996-1566132          [                         ]   2%"
       ]
      },
      {
       "output_type": "stream",
       "stream": "stdout",
       "text": [
        "\n",
        "> Processing Locus 12:1576091-1577692          [                         ]   2%\n",
        "> Processing Locus 12:1651261-1659300          [                         ]   2%\n",
        "> Processing Locus 12:1668260-1668377          [                         ]   2%"
       ]
      },
      {
       "output_type": "stream",
       "stream": "stdout",
       "text": [
        "\n",
        "> Processing Locus 12:1670427-1703832          [                         ]   2%\n",
        "> Processing Locus 12:1733462-1734602          [                         ]   2%"
       ]
      },
      {
       "output_type": "stream",
       "stream": "stdout",
       "text": [
        "\n",
        "> Processing Locus 12:1769461-1787100          [                         ]   2%\n",
        "> Processing Locus 12:1930128-1930767          [                         ]   3%"
       ]
      },
      {
       "output_type": "stream",
       "stream": "stdout",
       "text": [
        "\n",
        "> Processing Locus 12:2151821-2157414          [                         ]   3%\n",
        "> Processing Locus 12:2623803-2635119          [                         ]   3%\n",
        "> Processing Locus 12:2645049-2650806          [                         ]   3%\n",
        "> Processing Locus 12:2666839-2683025          [                         ]   3%"
       ]
      },
      {
       "output_type": "stream",
       "stream": "stdout",
       "text": [
        "\n",
        "> Processing Locus 12:2694573-2695341          [                         ]   3%\n",
        "> Processing Locus 12:2711673-2761051          [                         ]   3%\n",
        "> Processing Locus 12:2770277-2787246          [                         ]   3%\n",
        "> Processing Locus 12:2796385-2832924          [                         ]   3%"
       ]
      },
      {
       "output_type": "stream",
       "stream": "stdout",
       "text": [
        "\n",
        "> Processing Locus 12:2841702-2841914          [                         ]   3%\n",
        "> Processing Locus 12:2848500-2848712          [                         ]   3%\n",
        "> Processing Locus 12:2881853-2881999          [                         ]   3%\n",
        "> Processing Locus 12:2883126-2883290          [                         ]   3%\n",
        "> Processing Locus 12:2884417-2884581          [                         ]   3%\n",
        "> Processing Locus 12:2885708-2885872          [                         ]   3%"
       ]
      },
      {
       "output_type": "stream",
       "stream": "stdout",
       "text": [
        "\n",
        "> Processing Locus 12:2887553-2887717          [                         ]   3%\n",
        "> Processing Locus 12:2888844-2889008          [                         ]   3%\n",
        "> Processing Locus 12:2890135-2890299          [                         ]   3%\n",
        "> Processing Locus 12:2891426-2891590          [                         ]   3%\n",
        "> Processing Locus 12:2893276-2893440          [                         ]   3%\n",
        "> Processing Locus 12:2894567-2894731          [                         ]   3%"
       ]
      },
      {
       "output_type": "stream",
       "stream": "stdout",
       "text": [
        "\n",
        "> Processing Locus 12:2895857-2896021          [                         ]   3%\n",
        "> Processing Locus 12:2897148-2897312          [                         ]   3%\n",
        "> Processing Locus 12:2898439-2898603          [                         ]   3%\n",
        "> Processing Locus 12:2899730-2899894          [                         ]   3%\n",
        "> Processing Locus 12:2901021-2901185          [                         ]   3%\n",
        "> Processing Locus 12:2902871-2903035          [                         ]   3%\n",
        "> Processing Locus 12:2904162-2904326          [                         ]   3%"
       ]
      },
      {
       "output_type": "stream",
       "stream": "stdout",
       "text": [
        "\n",
        "> Processing Locus 12:2905453-2905617          [                         ]   3%\n",
        "> Processing Locus 12:2907302-2907466          [                         ]   3%\n",
        "> Processing Locus 12:2908593-2908757          [                         ]   3%\n",
        "> Processing Locus 12:2909884-2910048          [                         ]   3%\n",
        "> Processing Locus 12:2911175-2911339          [                         ]   3%\n",
        "> Processing Locus 12:2912466-2912630          [                         ]   3%\n",
        "> Processing Locus 12:2913757-2913921          [                         ]   3%"
       ]
      },
      {
       "output_type": "stream",
       "stream": "stdout",
       "text": [
        "\n",
        "> Processing Locus 12:2915048-2915212          [                         ]   3%\n",
        "> Processing Locus 12:2916339-2916503          [                         ]   3%\n",
        "> Processing Locus 12:2917630-2917794          [                         ]   3%\n",
        "> Processing Locus 12:2918921-2919085          [                         ]   3%\n",
        "> Processing Locus 12:2920212-2920361          [                         ]   3%\n",
        "> Processing Locus 12:2978981-2980247          [                         ]   3%"
       ]
      },
      {
       "output_type": "stream",
       "stream": "stdout",
       "text": [
        "\n",
        "> Processing Locus 12:2994654-3062179          [                         ]   3%\n",
        "> Processing Locus 12:3071233-3071382          [                         ]   3%\n",
        "> Processing Locus 12:3076672-3076774          [                         ]   3%\n",
        "> Processing Locus 12:3088450-3092807          [                         ]   3%\n",
        "> Processing Locus 12:3099565-3099633          [                         ]   3%"
       ]
      },
      {
       "output_type": "stream",
       "stream": "stdout",
       "text": [
        "\n",
        "> Processing Locus 12:3102450-3102557          [                         ]   3%\n",
        "> Processing Locus 12:3102980-3103086          [                         ]   3%\n",
        "> Processing Locus 12:3103493-3103600          [                         ]   3%\n",
        "> Processing Locus 12:3104022-3104129          [                         ]   3%\n",
        "> Processing Locus 12:3104532-3104639          [                         ]   3%\n",
        "> Processing Locus 12:3105060-3105167          [                         ]   3%"
       ]
      },
      {
       "output_type": "stream",
       "stream": "stdout",
       "text": [
        "\n",
        "> Processing Locus 12:3105589-3105696          [                         ]   3%\n",
        "> Processing Locus 12:3113644-3123671          [                         ]   3%\n",
        "> Processing Locus 12:3146964-3152410          [                         ]   3%\n",
        "> Processing Locus 12:3210070-3223907          [                         ]   3%\n",
        "> Processing Locus 12:3226309-3229543          [                         ]   3%\n",
        "> Processing Locus 12:3238996-3248423          [                         ]   3%"
       ]
      },
      {
       "output_type": "stream",
       "stream": "stdout",
       "text": [
        "\n",
        "> Processing Locus 12:3256043-3322913          [                         ]   3%\n",
        "> Processing Locus 12:3358456-3379126          [                         ]   3%\n",
        "> Processing Locus 12:3382819-3426149          [                         ]   3%"
       ]
      },
      {
       "output_type": "stream",
       "stream": "stdout",
       "text": [
        "\n",
        "> Processing Locus 12:3428429-3447830          [                         ]   3%\n",
        "> Processing Locus 12:3448944-3487535          [                         ]   3%"
       ]
      },
      {
       "output_type": "stream",
       "stream": "stdout",
       "text": [
        "\n",
        "> Processing Locus 12:3498356-3531817          [                         ]   3%\n",
        "> Processing Locus 12:3575076-3575159          [                         ]   3%\n",
        "> Processing Locus 12:3587633-3611303          [                         ]   3%\n",
        "> Processing Locus 12:3614628-3633775          [                         ]   3%\n",
        "> Processing Locus 12:3635054-3645629          [                         ]   3%"
       ]
      },
      {
       "output_type": "stream",
       "stream": "stdout",
       "text": [
        "\n",
        "> Processing Locus 12:3646186-3669142          [                         ]   3%\n",
        "> Processing Locus 12:3669967-3684771          [                         ]   3%\n",
        "> Processing Locus 12:3687445-3725230          [                         ]   3%\n",
        "> Processing Locus 12:3804709-3893083          [                         ]   3%"
       ]
      },
      {
       "output_type": "stream",
       "stream": "stdout",
       "text": [
        "\n",
        "> Processing Locus 12:3895082-3904611          [                         ]   3%\n",
        "> Processing Locus 12:3908437-3972617          [                         ]   3%"
       ]
      },
      {
       "output_type": "stream",
       "stream": "stdout",
       "text": [
        "\n",
        "> Processing Locus 12:3989448-3990759          [                         ]   3%\n",
        "> Processing Locus 12:4106671-4116149          [                         ]   3%"
       ]
      },
      {
       "output_type": "stream",
       "stream": "stdout",
       "text": [
        "\n",
        "> Processing Locus 12:4165758-4168586          [*                        ]   4%\n",
        "> Processing Locus 12:4172322-4234230          [*                        ]   4%\n",
        "> Processing Locus 12:4246402-4257283          [*                        ]   4%"
       ]
      },
      {
       "output_type": "stream",
       "stream": "stdout",
       "text": [
        "\n",
        "> Processing Locus 12:4295286-4295892          [*                        ]   4%\n",
        "> Processing Locus 12:4304206-4312087          [*                        ]   4%\n",
        "> Processing Locus 12:4314051-4322109          [*                        ]   4%\n",
        "> Processing Locus 12:4330734-4346535          [*                        ]   4%\n",
        "> Processing Locus 12:4357263-4363999          [*                        ]   4%"
       ]
      },
      {
       "output_type": "stream",
       "stream": "stdout",
       "text": [
        "\n",
        "> Processing Locus 12:4472424-4521177          [*                        ]   4%\n",
        "> Processing Locus 12:4528621-4542272          [*                        ]   4%\n",
        "> Processing Locus 12:4551964-4590070          [*                        ]   4%"
       ]
      },
      {
       "output_type": "stream",
       "stream": "stdout",
       "text": [
        "\n",
        "> Processing Locus 12:4593056-4603583          [*                        ]   4%\n",
        "> Processing Locus 12:4606663-4621281          [*                        ]   4%"
       ]
      },
      {
       "output_type": "stream",
       "stream": "stdout",
       "text": [
        "\n",
        "> Processing Locus 12:4624741-4642885          [*                        ]   4%"
       ]
      },
      {
       "output_type": "stream",
       "stream": "stdout",
       "text": [
        "\n",
        "> Processing Locus 12:4644863-4658855          [*                        ]   6%\n",
        "> Processing Locus 12:4662406-4672847          [*                        ]   6%\n",
        "> Processing Locus 12:4679664-4708549          [*                        ]   6%"
       ]
      },
      {
       "output_type": "stream",
       "stream": "stdout",
       "text": [
        "\n",
        "> Processing Locus 12:4716921-4724645          [*                        ]   6%\n",
        "> Processing Locus 12:4732692-4750571          [*                        ]   6%\n",
        "> Processing Locus 12:4794913-4825546          [*                        ]   6%"
       ]
      },
      {
       "output_type": "stream",
       "stream": "stdout",
       "text": [
        "\n",
        "> Processing Locus 12:4851433-4856845          [*                        ]   6%\n",
        "> Processing Locus 12:4861211-4865724          [*                        ]   6%\n",
        "> Processing Locus 12:4874939-4880241          [*                        ]   6%\n",
        "> Processing Locus 12:4882338-4887382          [*                        ]   6%"
       ]
      },
      {
       "output_type": "stream",
       "stream": "stdout",
       "text": [
        "\n",
        "> Processing Locus 12:4895557-4919340          [*                        ]   6%"
       ]
      },
      {
       "output_type": "stream",
       "stream": "stdout",
       "text": [
        "\n",
        "> Processing Locus 12:4921970-4929515          [**                       ]   8%\n",
        "> Processing Locus 12:4941293-4958844          [**                       ]   8%\n",
        "> Processing Locus 12:4967080-4967195          [**                       ]   8%"
       ]
      },
      {
       "output_type": "stream",
       "stream": "stdout",
       "text": [
        "\n",
        "> Processing Locus 12:4975645-4982067          [**                       ]   8%\n",
        "> Processing Locus 12:4989243-4997880          [**                       ]   8%\n",
        "> Processing Locus 12:5000892-5011829          [**                       ]   8%"
       ]
      },
      {
       "output_type": "stream",
       "stream": "stdout",
       "text": [
        "\n",
        "> Processing Locus 12:5019026-5026800          [**                       ]   8%\n",
        "> Processing Locus 12:5041529-5051301          [**                       ]   8%"
       ]
      },
      {
       "output_type": "stream",
       "stream": "stdout",
       "text": [
        "\n",
        "> Processing Locus 12:5058010-5064488          [**                       ]   8%\n",
        "> Processing Locus 12:5077022-5155903          [**                       ]   9%"
       ]
      },
      {
       "output_type": "stream",
       "stream": "stdout",
       "text": [
        "\n",
        "> Processing Locus 12:5161544-5167506          [**                       ]   9%\n",
        "> Processing Locus 12:5197474-5249432          [**                       ]   9%\n",
        "> Processing Locus 12:5254811-5288928          [**                       ]   9%"
       ]
      },
      {
       "output_type": "stream",
       "stream": "stdout",
       "text": [
        "\n",
        "> Processing Locus 12:5306591-5333949          [**                       ]   9%\n",
        "> Processing Locus 12:5347852-5377926          [**                       ]   9%"
       ]
      },
      {
       "output_type": "stream",
       "stream": "stdout",
       "text": [
        "\n",
        "> Processing Locus 12:5385665-5755325          [**                       ]   9%\n",
        "> Processing Locus 12:5758855-5773588          [**                       ]   9%"
       ]
      },
      {
       "output_type": "stream",
       "stream": "stdout",
       "text": [
        "\n",
        "> Processing Locus 12:5786161-5809921          [**                       ]  11%\n",
        "> Processing Locus 12:5811857-5873392          [**                       ]  11%"
       ]
      },
      {
       "output_type": "stream",
       "stream": "stdout",
       "text": [
        "\n",
        "> Processing Locus 12:5895112-5937544          [***                      ]  13%\n",
        "> Processing Locus 12:5941025-5946088          [***                      ]  13%\n",
        "> Processing Locus 12:5949933-5957014          [***                      ]  13%"
       ]
      },
      {
       "output_type": "stream",
       "stream": "stdout",
       "text": [
        "\n",
        "> Processing Locus 12:5964502-5988747          [***                      ]  13%\n",
        "> Processing Locus 12:6003439-6012547          [***                      ]  13%"
       ]
      },
      {
       "output_type": "stream",
       "stream": "stdout",
       "text": [
        "\n",
        "> Processing Locus 12:6016976-6021136          [***                      ]  13%"
       ]
      },
      {
       "output_type": "stream",
       "stream": "stdout",
       "text": [
        "\n",
        "> Processing Locus 12:6022734-6040033          [***                      ]  13%\n",
        "> Processing Locus 12:6057526-6066666          [***                      ]  13%"
       ]
      },
      {
       "output_type": "stream",
       "stream": "stdout",
       "text": [
        "\n",
        "> Processing Locus 12:6074361-6077882          [***                      ]  13%"
       ]
      },
      {
       "output_type": "stream",
       "stream": "stdout",
       "text": [
        "\n",
        "> Processing Locus 12:6089183-6089293          [***                      ]  13%\n",
        "> Processing Locus 12:6123104-6201705          [***                      ]  13%\n",
        "> Processing Locus 12:6204221-6256035          [***                      ]  13%"
       ]
      },
      {
       "output_type": "stream",
       "stream": "stdout",
       "text": [
        "\n",
        "> Processing Locus 12:6281100-6293478          [***                      ]  13%\n",
        "> Processing Locus 12:6326578-6327805          [***                      ]  13%\n",
        "> Processing Locus 12:6330710-6364880          [***                      ]  13%\n",
        "> Processing Locus 12:6367941-6386602          [***                      ]  13%"
       ]
      },
      {
       "output_type": "stream",
       "stream": "stdout",
       "text": [
        "\n",
        "> Processing Locus 12:6391776-6427874          [***                      ]  13%"
       ]
      },
      {
       "output_type": "stream",
       "stream": "stdout",
       "text": [
        "\n",
        "> Processing Locus 12:6664828-6682434          [***                      ]  13%\n",
        "> Processing Locus 12:6686362-6690031          [***                      ]  13%\n",
        "> Processing Locus 12:6706733-6717343          [***                      ]  13%"
       ]
      },
      {
       "output_type": "stream",
       "stream": "stdout",
       "text": [
        "\n",
        "> Processing Locus 12:6725070-6731782          [***                      ]  13%\n",
        "> Processing Locus 12:6732850-6746824          [***                      ]  13%"
       ]
      },
      {
       "output_type": "stream",
       "stream": "stdout",
       "text": [
        "\n",
        "> Processing Locus 12:6749156-6797792          [***                      ]  14%\n",
        "> Processing Locus 12:6801177-6826667          [***                      ]  14%"
       ]
      },
      {
       "output_type": "stream",
       "stream": "stdout",
       "text": [
        "\n",
        "> Processing Locus 12:6844616-6855650          [***                      ]  14%\n",
        "> Processing Locus 12:6897536-7134602          [***                      ]  14%\n",
        "> Processing Locus 12:7149322-7151441          [***                      ]  14%\n",
        "> Processing Locus 12:7226554-7233508          [***                      ]  14%"
       ]
      },
      {
       "output_type": "stream",
       "stream": "stdout",
       "text": [
        "\n",
        "> Processing Locus 12:7249998-7502180          [***                      ]  14%"
       ]
      },
      {
       "output_type": "stream",
       "stream": "stdout",
       "text": [
        "\n",
        "> Processing Locus 12:7865690-7906665          [***                      ]  14%\n",
        "> Processing Locus 12:7909576-7925181          [***                      ]  14%\n",
        "> Processing Locus 12:7926022-7935861          [***                      ]  14%"
       ]
      },
      {
       "output_type": "stream",
       "stream": "stdout",
       "text": [
        "\n",
        "> Processing Locus 12:7940899-7953126          [***                      ]  14%\n",
        "> Processing Locus 12:8012554-8106125          [***                      ]  14%\n",
        "> Processing Locus 12:8116233-8184433          [***                      ]  14%"
       ]
      },
      {
       "output_type": "stream",
       "stream": "stdout",
       "text": [
        "\n",
        "> Processing Locus 12:8230522-8230660          [***                      ]  14%\n",
        "> Processing Locus 12:8248792-8266826          [***                      ]  14%"
       ]
      },
      {
       "output_type": "stream",
       "stream": "stdout",
       "text": [
        "\n",
        "> Processing Locus 12:8269641-8299247          [***                      ]  15%\n",
        "> Processing Locus 12:8316471-8556992          [***                      ]  15%\n",
        "> Processing Locus 12:8666334-8701514          [***                      ]  15%"
       ]
      },
      {
       "output_type": "stream",
       "stream": "stdout",
       "text": [
        "\n",
        "> Processing Locus 12:8726451-8733388          [***                      ]  15%\n",
        "> Processing Locus 12:8736830-8771779          [***                      ]  15%\n",
        "> Processing Locus 12:8809621-8815589          [***                      ]  15%"
       ]
      },
      {
       "output_type": "stream",
       "stream": "stdout",
       "text": [
        "\n",
        "> Processing Locus 12:8822179-8854582          [****                     ]  16%\n",
        "> Processing Locus 12:8859125-8884567          [****                     ]  16%"
       ]
      },
      {
       "output_type": "stream",
       "stream": "stdout",
       "text": [
        "\n",
        "> Processing Locus 12:8926218-9140030          [****                     ]  16%\n",
        "> Processing Locus 12:9229069-9230709          [****                     ]  16%\n",
        "> Processing Locus 12:9238039-9258480          [****                     ]  16%"
       ]
      },
      {
       "output_type": "stream",
       "stream": "stdout",
       "text": [
        "\n",
        "> Processing Locus 12:9323886-9333929          [****                     ]  16%\n",
        "> Processing Locus 12:9336268-9572004          [****                     ]  16%"
       ]
      },
      {
       "output_type": "stream",
       "stream": "stdout",
       "text": [
        "\n",
        "> Processing Locus 12:9576918-9636388          [****                     ]  17%\n",
        "> Processing Locus 12:9708962-9712555          [****                     ]  17%\n",
        "> Processing Locus 12:9723647-9841768          [****                     ]  17%"
       ]
      },
      {
       "output_type": "stream",
       "stream": "stdout",
       "text": [
        "\n",
        "> Processing Locus 12:9851164-9886884          [****                     ]  17%"
       ]
      },
      {
       "output_type": "stream",
       "stream": "stdout",
       "text": [
        "\n",
        "> Processing Locus 12:9937827-9972460          [****                     ]  17%\n",
        "> Processing Locus 12:10004830-10006253        [****                     ]  17%"
       ]
      },
      {
       "output_type": "stream",
       "stream": "stdout",
       "text": [
        "\n",
        "> Processing Locus 12:10009339-10049021        [****                     ]  17%\n",
        "> Processing Locus 12:10060033-10070004        [****                     ]  17%\n",
        "> Processing Locus 12:10074986-10101529        [****                     ]  17%\n",
        "> Processing Locus 12:10108665-10192429        [****                     ]  17%"
       ]
      },
      {
       "output_type": "stream",
       "stream": "stdout",
       "text": [
        "\n",
        "> Processing Locus 12:10203868-10222820        [****                     ]  18%\n",
        "> Processing Locus 12:10251847-10264605        [****                     ]  18%\n",
        "> Processing Locus 12:10264674-10271183        [****                     ]  18%\n",
        "> Processing Locus 12:10273405-10284926        [****                     ]  18%"
       ]
      },
      {
       "output_type": "stream",
       "stream": "stdout",
       "text": [
        "\n",
        "> Processing Locus 12:10293248-10335629        [****                     ]  18%\n",
        "> Processing Locus 12:10348439-10365535        [****                     ]  18%\n",
        "> Processing Locus 12:10367954-10449359        [****                     ]  18%\n",
        "> Processing Locus 12:10451824-10751893        [****                     ]  18%"
       ]
      },
      {
       "output_type": "stream",
       "stream": "stdout",
       "text": [
        "\n",
        "> Processing Locus 12:10756258-10770972        [****                     ]  18%\n",
        "> Processing Locus 12:10792174-10815554        [****                     ]  18%"
       ]
      },
      {
       "output_type": "stream",
       "stream": "stdout",
       "text": [
        "\n",
        "> Processing Locus 12:10824210-10850807        [****                     ]  19%\n",
        "> Processing Locus 12:10855555-10859059        [****                     ]  19%\n",
        "> Processing Locus 12:10925522-10987495        [****                     ]  19%\n",
        "> Processing Locus 12:11029477-11060288        [****                     ]  19%"
       ]
      },
      {
       "output_type": "stream",
       "stream": "stdout",
       "text": [
        "\n",
        "> Processing Locus 12:11132937-11179590        [****                     ]  19%\n",
        "> Processing Locus 12:11195997-11208784        [****                     ]  19%\n",
        "> Processing Locus 12:11213660-11240031        [****                     ]  19%\n",
        "> Processing Locus 12:11242670-11254577        [****                     ]  19%\n",
        "> Processing Locus 12:11278304-11379187        [****                     ]  19%\n",
        "> Processing Locus 12:11383809-11392494        [****                     ]  19%"
       ]
      },
      {
       "output_type": "stream",
       "stream": "stdout",
       "text": [
        "\n",
        "> Processing Locus 12:11416759-11431087        [****                     ]  19%"
       ]
      },
      {
       "output_type": "stream",
       "stream": "stdout",
       "text": [
        "\n",
        "> Processing Locus 12:11432418-11445055        [****                     ]  19%"
       ]
      },
      {
       "output_type": "stream",
       "stream": "stdout",
       "text": [
        "\n",
        "> Processing Locus 12:11446921-11459480        [*****                    ]  22%\n",
        "> Processing Locus 12:11461042-11489056        [*****                    ]  22%\n",
        "> Processing Locus 12:11491524-11500999        [*****                    ]  22%"
       ]
      },
      {
       "output_type": "stream",
       "stream": "stdout",
       "text": [
        "\n",
        "> Processing Locus 12:11503761-11520747        [*****                    ]  22%\n",
        "> Processing Locus 12:11522961-11526255        [*****                    ]  22%\n",
        "> Processing Locus 12:11527053-11541586        [*****                    ]  22%"
       ]
      },
      {
       "output_type": "stream",
       "stream": "stdout",
       "text": [
        "\n",
        "> Processing Locus 12:11543982-11555534        [******                   ]  24%"
       ]
      },
      {
       "output_type": "stream",
       "stream": "stdout",
       "text": [
        "\n",
        "> Processing Locus 12:11558023-11591997        [******                   ]  25%"
       ]
      },
      {
       "output_type": "stream",
       "stream": "stdout",
       "text": [
        "\n",
        "> Processing Locus 12:11596558-11646274        [******                   ]  26%"
       ]
      },
      {
       "output_type": "stream",
       "stream": "stdout",
       "text": [
        "\n",
        "> Processing Locus 12:11687820-11688621        [******                   ]  26%"
       ]
      },
      {
       "output_type": "stream",
       "stream": "stdout",
       "text": [
        "\n",
        "> Processing Locus 12:11702255-11719558        [*******                  ]  28%\n",
        "> Processing Locus 12:12186819-12263281        [*******                  ]  28%\n",
        "> Processing Locus 12:12273913-12304820        [*******                  ]  28%\n",
        "> Processing Locus 12:12350957-12364448        [*******                  ]  28%"
       ]
      },
      {
       "output_type": "stream",
       "stream": "stdout",
       "text": [
        "\n",
        "> Processing Locus 12:12368997-12412810        [*******                  ]  28%"
       ]
      },
      {
       "output_type": "stream",
       "stream": "stdout",
       "text": [
        "\n",
        "> Processing Locus 12:12421892-12455943        [*******                  ]  28%\n",
        "> Processing Locus 12:12458673-12477335        [*******                  ]  28%"
       ]
      },
      {
       "output_type": "stream",
       "stream": "stdout",
       "text": [
        "\n",
        "> Processing Locus 12:12494767-12563669        [*******                  ]  28%"
       ]
      },
      {
       "output_type": "stream",
       "stream": "stdout",
       "text": [
        "\n",
        "> Processing Locus 12:12602783-12699480        [*******                  ]  28%\n",
        "> Processing Locus 12:12707602-12755734        [*******                  ]  28%"
       ]
      },
      {
       "output_type": "stream",
       "stream": "stdout",
       "text": [
        "\n",
        "> Processing Locus 12:12756189-12869702        [*******                  ]  30%\n",
        "> Processing Locus 12:12874157-12874933        [*******                  ]  30%\n",
        "> Processing Locus 12:13441259-13441375        [*******                  ]  30%"
       ]
      },
      {
       "output_type": "stream",
       "stream": "stdout",
       "text": [
        "\n",
        "> Processing Locus 12:13608981-13939048        [*******                  ]  30%"
       ]
      },
      {
       "output_type": "stream",
       "stream": "stdout",
       "text": [
        "\n",
        "> Processing Locus 12:14061723-14149717        [*******                  ]  30%"
       ]
      },
      {
       "output_type": "stream",
       "stream": "stdout",
       "text": [
        "\n",
        "> Processing Locus 12:14198022-14211632        [*******                  ]  30%"
       ]
      },
      {
       "output_type": "stream",
       "stream": "stdout",
       "text": [
        "\n",
        "> Processing Locus 12:14224583-14270293        [*******                  ]  30%\n",
        "> Processing Locus 12:14270749-14282903        [*******                  ]  30%\n",
        "> Processing Locus 12:14294659-14311898        [*******                  ]  30%"
       ]
      },
      {
       "output_type": "stream",
       "stream": "stdout",
       "text": [
        "\n",
        "> Processing Locus 12:14311998-14329493        [*******                  ]  31%\n",
        "> Processing Locus 12:14350469-14367789        [*******                  ]  31%"
       ]
      },
      {
       "output_type": "stream",
       "stream": "stdout",
       "text": [
        "\n",
        "> Processing Locus 12:14388840-14412927        [*******                  ]  31%\n",
        "> Processing Locus 12:14417982-14425013        [*******                  ]  31%"
       ]
      },
      {
       "output_type": "stream",
       "stream": "stdout",
       "text": [
        "\n",
        "> Processing Locus 12:14425175-14443081        [*******                  ]  31%"
       ]
      },
      {
       "output_type": "stream",
       "stream": "stdout",
       "text": [
        "\n",
        "> Processing Locus 12:14450939-14495828        [********                 ]  33%\n",
        "> Processing Locus 12:14511488-14582132        [********                 ]  33%\n",
        "> Processing Locus 12:14633465-14655582        [********                 ]  33%"
       ]
      },
      {
       "output_type": "stream",
       "stream": "stdout",
       "text": [
        "\n",
        "> Processing Locus 12:14670400-14756344        [********                 ]  33%\n",
        "> Processing Locus 12:14761756-14827869        [********                 ]  33%"
       ]
      },
      {
       "output_type": "stream",
       "stream": "stdout",
       "text": [
        "\n",
        "> Processing Locus 12:14830592-14835309        [********                 ]  33%"
       ]
      },
      {
       "output_type": "stream",
       "stream": "stdout",
       "text": [
        "\n",
        "> Processing Locus 12:14873213-14894393        [********                 ]  33%\n",
        "> Processing Locus 12:14914051-14992773        [********                 ]  33%"
       ]
      },
      {
       "output_type": "stream",
       "stream": "stdout",
       "text": [
        "\n",
        "> Processing Locus 12:14995962-15007861        [********                 ]  34%"
       ]
      },
      {
       "output_type": "stream",
       "stream": "stdout",
       "text": [
        "\n",
        "> Processing Locus 12:15011329-15063081        [********                 ]  34%\n",
        "> Processing Locus 12:15067311-15072228        [********                 ]  34%\n",
        "> Processing Locus 12:15080443-15180550        [********                 ]  34%"
       ]
      },
      {
       "output_type": "stream",
       "stream": "stdout",
       "text": [
        "\n",
        "> Processing Locus 12:15193458-15236502        [********                 ]  34%"
       ]
      },
      {
       "output_type": "stream",
       "stream": "stdout",
       "text": [
        "\n",
        "> Processing Locus 12:15256086-15268821        [********                 ]  34%\n",
        "> Processing Locus 12:15283494-15317111        [********                 ]  35%\n",
        "> Processing Locus 12:15320798-15416005        [********                 ]  35%"
       ]
      },
      {
       "output_type": "stream",
       "stream": "stdout",
       "text": [
        "\n",
        "> Processing Locus 12:15513877-15582940        [********                 ]  35%\n",
        "> Processing Locus 12:15620662-15624213        [********                 ]  35%"
       ]
      },
      {
       "output_type": "stream",
       "stream": "stdout",
       "text": [
        "\n",
        "> Processing Locus 12:15799602-15802414        [********                 ]  35%\n",
        "> Processing Locus 12:15845100-15882130        [********                 ]  35%\n",
        "> Processing Locus 12:15882267-15890507        [********                 ]  35%\n",
        "> Processing Locus 12:16028128-16075734        [********                 ]  35%"
       ]
      },
      {
       "output_type": "stream",
       "stream": "stdout",
       "text": [
        "\n",
        "> Processing Locus 12:16077367-16084598        [********                 ]  35%\n",
        "> Processing Locus 12:16137531-16158552        [********                 ]  35%\n",
        "> Processing Locus 12:16210190-16308190        [********                 ]  35%"
       ]
      },
      {
       "output_type": "stream",
       "stream": "stdout",
       "text": [
        "\n",
        "> Processing Locus 12:16369025-16407653        [********                 ]  35%\n",
        "> Processing Locus 12:16412071-16413832        [********                 ]  35%\n",
        "> Processing Locus 12:16415488-16466818        [********                 ]  35%\n",
        "> Processing Locus 12:16469878-16510140        [********                 ]  35%"
       ]
      },
      {
       "output_type": "stream",
       "stream": "stdout",
       "text": [
        "\n",
        "> Processing Locus 12:16513676-16523013        [********                 ]  35%\n",
        "> Processing Locus 12:16537111-16670195        [********                 ]  35%\n",
        "> Processing Locus 12:17134602-17155977        [********                 ]  35%"
       ]
      },
      {
       "output_type": "stream",
       "stream": "stdout",
       "text": [
        "\n",
        "> Processing Locus 12:17158556-17173902        [********                 ]  35%\n",
        "> Processing Locus 12:17177969-17193993        [********                 ]  35%\n",
        "> Processing Locus 12:17206811-17275590        [********                 ]  35%\n",
        "> Processing Locus 12:17311638-17349353        [********                 ]  35%\n",
        "> Processing Locus 12:17355565-17359765        [********                 ]  35%\n",
        "> Processing Locus 12:17404492-17451722        [********                 ]  35%"
       ]
      },
      {
       "output_type": "stream",
       "stream": "stdout",
       "text": [
        "\n",
        "> Processing Locus 12:17477079-17506355        [********                 ]  35%\n",
        "> Processing Locus 12:17512187-17523634        [********                 ]  35%\n",
        "> Processing Locus 12:17524028-17550668        [********                 ]  35%"
       ]
      },
      {
       "output_type": "stream",
       "stream": "stdout",
       "text": [
        "\n",
        "> Processing Locus 12:17583550-17586054        [********                 ]  35%\n",
        "> Processing Locus 12:17617377-17619247        [********                 ]  35%\n",
        "> Processing Locus 12:17648251-17648368        [********                 ]  35%\n",
        "> Processing Locus 12:17659766-17662116        [********                 ]  35%"
       ]
      },
      {
       "output_type": "stream",
       "stream": "stdout",
       "text": [
        "\n",
        "> Processing Locus 12:17665694-17665809        [********                 ]  35%\n",
        "> Processing Locus 12:17684089-17686709        [********                 ]  35%\n",
        "> Processing Locus 12:17701517-17703564        [********                 ]  35%\n",
        "> Processing Locus 12:17758537-18018797        [********                 ]  35%"
       ]
      },
      {
       "output_type": "stream",
       "stream": "stdout",
       "text": [
        "\n",
        "> Processing Locus 12:18020366-18031792        [*********                ]  36%\n",
        "> Processing Locus 12:18034666-18053920        [*********                ]  36%"
       ]
      },
      {
       "output_type": "stream",
       "stream": "stdout",
       "text": [
        "\n",
        "> Processing Locus 12:18054321-18057848        [*********                ]  36%\n",
        "> Processing Locus 12:18087724-18090939        [*********                ]  36%\n",
        "> Processing Locus 12:18093073-18094522        [*********                ]  36%\n",
        "> Processing Locus 12:18100490-18107181        [*********                ]  36%"
       ]
      },
      {
       "output_type": "stream",
       "stream": "stdout",
       "text": [
        "\n",
        "> Processing Locus 12:18109708-18110818        [*********                ]  36%\n",
        "> Processing Locus 12:18167910-18183279        [*********                ]  36%\n",
        "> Processing Locus 12:18186480-18214945        [*********                ]  36%\n",
        "> Processing Locus 12:18222326-18226154        [*********                ]  36%\n",
        "> Processing Locus 12:18226190-18268577        [*********                ]  36%\n",
        "> Processing Locus 12:18269075-18390890        [*********                ]  36%\n",
        "> Processing Locus 12:18413098-18413216        [*********                ]  36%"
       ]
      },
      {
       "output_type": "stream",
       "stream": "stdout",
       "text": [
        "\n",
        "> Processing Locus 12:18467400-18491711        [*********                ]  36%\n",
        "> Processing Locus 12:18504452-18523624        [*********                ]  36%\n",
        "> Processing Locus 12:18526497-18546627        [*********                ]  36%"
       ]
      },
      {
       "output_type": "stream",
       "stream": "stdout",
       "text": [
        "\n",
        "> Processing Locus 12:18550155-18560434        [*********                ]  36%\n",
        "> Processing Locus 12:18572390-18628451        [*********                ]  36%"
       ]
      },
      {
       "output_type": "stream",
       "stream": "stdout",
       "text": [
        "\n",
        "> Processing Locus 12:18638223-18642320        [*********                ]  36%\n",
        "> Processing Locus 12:18642460-18670507        [*********                ]  36%"
       ]
      },
      {
       "output_type": "stream",
       "stream": "stdout",
       "text": [
        "\n",
        "> Processing Locus 12:18671076-18687073        [*********                ]  37%"
       ]
      },
      {
       "output_type": "stream",
       "stream": "stdout",
       "text": [
        "\n",
        "> Processing Locus 12:18687615-18723232        [*********                ]  37%"
       ]
      },
      {
       "output_type": "stream",
       "stream": "stdout",
       "text": [
        "\n",
        "> Processing Locus 12:18724772-18753953        [*********                ]  37%\n",
        "> Processing Locus 12:18763655-18766066        [*********                ]  37%\n",
        "> Processing Locus 12:18772766-18775066        [*********                ]  37%"
       ]
      },
      {
       "output_type": "stream",
       "stream": "stdout",
       "text": [
        "\n",
        "> Processing Locus 12:18777973-18780047        [*********                ]  37%\n",
        "> Processing Locus 12:18795076-18795200        [*********                ]  37%\n",
        "> Processing Locus 12:18822353-18824381        [*********                ]  37%\n",
        "> Processing Locus 12:18829496-18865039        [*********                ]  38%"
       ]
      },
      {
       "output_type": "stream",
       "stream": "stdout",
       "text": [
        "\n",
        "> Processing Locus 12:18870612-18891767        [*********                ]  38%\n",
        "> Processing Locus 12:18894722-18902196        [*********                ]  38%\n",
        "> Processing Locus 12:18916675-18924401        [*********                ]  38%\n",
        "> Processing Locus 12:18939736-18940692        [*********                ]  38%"
       ]
      },
      {
       "output_type": "stream",
       "stream": "stdout",
       "text": [
        "\n",
        "> Processing Locus 12:18958215-19130119        [*********                ]  39%\n",
        "> Processing Locus 12:19261370-19372778        [*********                ]  39%\n",
        "> Processing Locus 12:19384152-19388117        [*********                ]  39%"
       ]
      },
      {
       "output_type": "stream",
       "stream": "stdout",
       "text": [
        "\n",
        "> Processing Locus 12:19402635-19434531        [*********                ]  39%\n",
        "> Processing Locus 12:19436572-19440504        [*********                ]  39%"
       ]
      },
      {
       "output_type": "stream",
       "stream": "stdout",
       "text": [
        "\n",
        "> Processing Locus 12:19471691-19480386        [*********                ]  39%"
       ]
      },
      {
       "output_type": "stream",
       "stream": "stdout",
       "text": [
        "\n",
        "> Processing Locus 12:19484792-19490756        [*********                ]  39%\n",
        "> Processing Locus 12:19494642-19540535        [*********                ]  39%\n",
        "> Processing Locus 12:19550956-19553182        [*********                ]  39%"
       ]
      },
      {
       "output_type": "stream",
       "stream": "stdout",
       "text": [
        "\n",
        "> Processing Locus 12:19555275-19557908        [**********               ]  40%\n",
        "> Processing Locus 12:19559159-19569440        [**********               ]  40%\n",
        "> Processing Locus 12:19569747-19586399        [**********               ]  40%"
       ]
      },
      {
       "output_type": "stream",
       "stream": "stdout",
       "text": [
        "\n",
        "> Processing Locus 12:19591517-19594799        [**********               ]  40%"
       ]
      },
      {
       "output_type": "stream",
       "stream": "stdout",
       "text": [
        "\n",
        "> Processing Locus 12:19597419-19604397        [**********               ]  40%\n",
        "> Processing Locus 12:19624814-19624929        [**********               ]  40%\n",
        "> Processing Locus 12:19632104-19682203        [**********               ]  40%\n",
        "> Processing Locus 12:19689380-19692247        [**********               ]  40%\n",
        "> Processing Locus 12:19707440-19743624        [**********               ]  40%\n",
        "> Processing Locus 12:19758746-19813282        [**********               ]  40%"
       ]
      },
      {
       "output_type": "stream",
       "stream": "stdout",
       "text": [
        "\n",
        "> Processing Locus 12:19821708-19898460        [**********               ]  40%\n",
        "> Processing Locus 12:19921621-19924440        [**********               ]  40%"
       ]
      },
      {
       "output_type": "stream",
       "stream": "stdout",
       "text": [
        "\n",
        "> Processing Locus 12:19925437-19930336        [**********               ]  40%\n",
        "> Processing Locus 12:19932455-19939359        [**********               ]  40%\n",
        "> Processing Locus 12:19942493-19948227        [**********               ]  40%"
       ]
      },
      {
       "output_type": "stream",
       "stream": "stdout",
       "text": [
        "\n",
        "> Processing Locus 12:19953029-20057773        [**********               ]  42%"
       ]
      },
      {
       "output_type": "stream",
       "stream": "stdout",
       "text": [
        "\n",
        "> Processing Locus 12:20067174-20084778        [**********               ]  42%\n",
        "> Processing Locus 12:20085767-20101940        [**********               ]  42%\n",
        "> Processing Locus 12:20104207-20124350        [**********               ]  42%"
       ]
      },
      {
       "output_type": "stream",
       "stream": "stdout",
       "text": [
        "\n",
        "> Processing Locus 12:20125566-20131812        [**********               ]  42%\n",
        "> Processing Locus 12:20132932-20157715        [**********               ]  42%\n",
        "> Processing Locus 12:20161960-20187267        [**********               ]  42%\n",
        "> Processing Locus 12:20195547-20199677        [**********               ]  42%"
       ]
      },
      {
       "output_type": "stream",
       "stream": "stdout",
       "text": [
        "\n",
        "> Processing Locus 12:20202852-20215498        [***********              ]  44%\n",
        "> Processing Locus 12:20234733-20239974        [***********              ]  44%\n",
        "> Processing Locus 12:20241114-20249459        [***********              ]  44%"
       ]
      },
      {
       "output_type": "stream",
       "stream": "stdout",
       "text": [
        "\n",
        "> Processing Locus 12:20252400-20280910        [***********              ]  45%\n",
        "> Processing Locus 12:20284823-20287961        [***********              ]  45%"
       ]
      },
      {
       "output_type": "stream",
       "stream": "stdout",
       "text": [
        "\n",
        "> Processing Locus 12:20290317-20300726        [***********              ]  46%"
       ]
      },
      {
       "output_type": "stream",
       "stream": "stdout",
       "text": [
        "\n",
        "> Processing Locus 12:20304804-20328658        [***********              ]  46%"
       ]
      },
      {
       "output_type": "stream",
       "stream": "stdout",
       "text": [
        "\n",
        "> Processing Locus 12:20333934-20340600        [***********              ]  46%\n",
        "> Processing Locus 12:20371742-20375265        [***********              ]  46%\n",
        "> Processing Locus 12:20378878-20396632        [***********              ]  46%\n",
        "> Processing Locus 12:20401737-20414656        [***********              ]  46%"
       ]
      },
      {
       "output_type": "stream",
       "stream": "stdout",
       "text": [
        "\n",
        "> Processing Locus 12:20416938-20436502        [***********              ]  47%\n",
        "> Processing Locus 12:20437067-20442960        [***********              ]  47%\n",
        "> Processing Locus 12:20444819-20450053        [***********              ]  47%\n",
        "> Processing Locus 12:20452904-20458468        [***********              ]  47%"
       ]
      },
      {
       "output_type": "stream",
       "stream": "stdout",
       "text": [
        "\n",
        "> Processing Locus 12:20458616-20480227        [***********              ]  47%\n",
        "> Processing Locus 12:20480933-20490249        [***********              ]  47%"
       ]
      },
      {
       "output_type": "stream",
       "stream": "stdout",
       "text": [
        "\n",
        "> Processing Locus 12:20504976-20755537        [************             ]  48%\n",
        "> Processing Locus 12:20888562-20961867        [************             ]  48%"
       ]
      },
      {
       "output_type": "stream",
       "stream": "stdout",
       "text": [
        "\n",
        "> Processing Locus 12:20963146-21028053        [************             ]  48%"
       ]
      },
      {
       "output_type": "stream",
       "stream": "stdout",
       "text": [
        "\n",
        "> Processing Locus 12:21055318-21070814        [************             ]  48%\n",
        "> Processing Locus 12:21088441-21140514        [************             ]  48%"
       ]
      },
      {
       "output_type": "stream",
       "stream": "stdout",
       "text": [
        "\n",
        "> Processing Locus 12:21156342-21171520        [************             ]  48%\n",
        "> Processing Locus 12:21195126-21216993        [************             ]  49%"
       ]
      },
      {
       "output_type": "stream",
       "stream": "stdout",
       "text": [
        "\n",
        "> Processing Locus 12:21218752-21441409        [************             ]  49%\n",
        "> Processing Locus 12:21473585-21473707        [************             ]  49%\n",
        "> Processing Locus 12:21541661-21541779        [************             ]  49%\n",
        "> Processing Locus 12:21579581-21616760        [************             ]  49%\n",
        "> Processing Locus 12:21688562-21689767        [************             ]  49%\n",
        "> Processing Locus 12:21691905-21693036        [************             ]  49%\n",
        "> Processing Locus 12:21694943-21706034        [************             ]  49%"
       ]
      },
      {
       "output_type": "stream",
       "stream": "stdout",
       "text": [
        "\n",
        "> Processing Locus 12:21707631-21714554        [************             ]  49%\n",
        "> Processing Locus 12:21718601-21725551        [************             ]  49%\n",
        "> Processing Locus 12:21730868-21762245        [************             ]  49%\n",
        "> Processing Locus 12:21765056-21831308        [************             ]  49%"
       ]
      },
      {
       "output_type": "stream",
       "stream": "stdout",
       "text": [
        "\n",
        "> Processing Locus 12:21858930-21860325        [************             ]  49%\n",
        "> Processing Locus 12:21889753-21900218        [************             ]  49%\n",
        "> Processing Locus 12:21904150-21907037        [************             ]  49%"
       ]
      },
      {
       "output_type": "stream",
       "stream": "stdout",
       "text": [
        "\n",
        "> Processing Locus 12:21909236-21913265        [************             ]  49%\n",
        "> Processing Locus 12:21914892-21925154        [************             ]  49%\n",
        "> Processing Locus 12:21929752-21952923        [************             ]  49%"
       ]
      },
      {
       "output_type": "stream",
       "stream": "stdout",
       "text": [
        "\n",
        "> Processing Locus 12:21957737-21968705        [************             ]  50%\n",
        "> Processing Locus 12:21970132-21978175        [************             ]  50%"
       ]
      },
      {
       "output_type": "stream",
       "stream": "stdout",
       "text": [
        "\n",
        "> Processing Locus 12:21980049-21992713        [************             ]  51%\n",
        "> Processing Locus 12:21993646-22003904        [************             ]  51%\n",
        "> Processing Locus 12:22005501-22010830        [************             ]  51%\n",
        "> Processing Locus 12:22015180-22017709        [************             ]  51%"
       ]
      },
      {
       "output_type": "stream",
       "stream": "stdout",
       "text": [
        "\n",
        "> Processing Locus 12:22024147-22028881        [************             ]  51%\n",
        "> Processing Locus 12:22030766-22038169        [************             ]  51%"
       ]
      },
      {
       "output_type": "stream",
       "stream": "stdout",
       "text": [
        "\n",
        "> Processing Locus 12:22043854-22051728        [************             ]  51%\n",
        "> Processing Locus 12:22053505-22148986        [************             ]  51%\n",
        "> Processing Locus 12:22651882-22904552        [************             ]  51%\n",
        "> Processing Locus 12:22925200-22925317        [************             ]  51%"
       ]
      },
      {
       "output_type": "stream",
       "stream": "stdout",
       "text": [
        "\n",
        "> Processing Locus 12:23027492-23039673        [************             ]  51%\n",
        "> Processing Locus 12:23039708-23043505        [************             ]  51%"
       ]
      },
      {
       "output_type": "stream",
       "stream": "stdout",
       "text": [
        "\n",
        "> Processing Locus 12:23053028-23058009        [************             ]  51%\n",
        "> Processing Locus 12:23065123-23069764        [************             ]  51%\n",
        "> Processing Locus 12:23069982-23074104        [************             ]  51%\n",
        "> Processing Locus 12:23077651-23102809        [************             ]  51%\n",
        "> Processing Locus 12:23149419-23149534        [************             ]  51%"
       ]
      },
      {
       "output_type": "stream",
       "stream": "stdout",
       "text": [
        "\n",
        "> Processing Locus 12:23154547-23189395        [************             ]  51%\n",
        "> Processing Locus 12:23310027-23310093        [************             ]  51%\n",
        "> Processing Locus 12:23585829-23593422        [************             ]  51%\n",
        "> Processing Locus 12:23614379-23660460        [************             ]  51%"
       ]
      },
      {
       "output_type": "stream",
       "stream": "stdout",
       "text": [
        "\n",
        "> Processing Locus 12:23669384-23711071        [*************            ]  52%\n",
        "> Processing Locus 12:23716966-23752016        [*************            ]  52%"
       ]
      },
      {
       "output_type": "stream",
       "stream": "stdout",
       "text": [
        "\n",
        "> Processing Locus 12:23759717-23800679        [*************            ]  52%"
       ]
      },
      {
       "output_type": "stream",
       "stream": "stdout",
       "text": [
        "\n",
        "> Processing Locus 12:23807405-23864688        [*************            ]  52%\n",
        "> Processing Locus 12:23866633-23880007        [*************            ]  52%\n",
        "> Processing Locus 12:23884381-23896562        [*************            ]  52%"
       ]
      },
      {
       "output_type": "stream",
       "stream": "stdout",
       "text": [
        "\n",
        "> Processing Locus 12:23915881-23926807        [*************            ]  54%\n",
        "> Processing Locus 12:23931326-23959777        [*************            ]  54%"
       ]
      },
      {
       "output_type": "stream",
       "stream": "stdout",
       "text": [
        "\n",
        "> Processing Locus 12:23978108-23994121        [*************            ]  54%\n",
        "> Processing Locus 12:23994235-24019390        [*************            ]  54%"
       ]
      },
      {
       "output_type": "stream",
       "stream": "stdout",
       "text": [
        "\n",
        "> Processing Locus 12:24023395-24027753        [*************            ]  54%"
       ]
      },
      {
       "output_type": "stream",
       "stream": "stdout",
       "text": [
        "\n",
        "> Processing Locus 12:24029688-24158892        [*************            ]  54%"
       ]
      },
      {
       "output_type": "stream",
       "stream": "stdout",
       "text": [
        "\n",
        "> Processing Locus 12:24219634-24264963        [*************            ]  54%\n",
        "> Processing Locus 12:24270739-24282787        [*************            ]  55%\n",
        "> Processing Locus 12:24311156-24358575        [*************            ]  55%\n",
        "> Processing Locus 12:24376299-24478009        [*************            ]  55%"
       ]
      },
      {
       "output_type": "stream",
       "stream": "stdout",
       "text": [
        "\n",
        "> Processing Locus 12:24525224-24788178        [*************            ]  55%\n",
        "> Processing Locus 12:24794078-24838501        [*************            ]  55%"
       ]
      },
      {
       "output_type": "stream",
       "stream": "stdout",
       "text": [
        "\n",
        "> Processing Locus 12:24846548-24852797        [*************            ]  55%\n",
        "> Processing Locus 12:24877169-24945485        [*************            ]  55%\n",
        "> Processing Locus 12:24999706-24999832        [*************            ]  55%\n",
        "> Processing Locus 12:25070291-25081329        [*************            ]  55%"
       ]
      },
      {
       "output_type": "stream",
       "stream": "stdout",
       "text": [
        "\n",
        "> Processing Locus 12:25086775-25097056        [*************            ]  55%\n",
        "> Processing Locus 12:25206713-25218348        [*************            ]  55%\n",
        "> Processing Locus 12:25234968-25355016        [*************            ]  55%"
       ]
      },
      {
       "output_type": "stream",
       "stream": "stdout",
       "text": [
        "\n",
        "> Processing Locus 12:25501737-25562994        [**************           ]  56%\n",
        "> Processing Locus 12:25566104-25570463        [**************           ]  56%\n",
        "> Processing Locus 12:25570998-25587246        [**************           ]  56%\n",
        "> Processing Locus 12:25724505-25724622        [**************           ]  56%\n",
        "> Processing Locus 12:25854715-26143639        [**************           ]  56%"
       ]
      },
      {
       "output_type": "stream",
       "stream": "stdout",
       "text": [
        "\n",
        "> Processing Locus 12:26245301-26276530        [**************           ]  56%\n",
        "> Processing Locus 12:26292703-26292825        [**************           ]  56%\n",
        "> Processing Locus 12:26302853-26338637        [**************           ]  56%\n",
        "> Processing Locus 12:26349661-26411104        [**************           ]  56%"
       ]
      },
      {
       "output_type": "stream",
       "stream": "stdout",
       "text": [
        "\n",
        "> Processing Locus 12:26412445-26434837        [**************           ]  56%\n",
        "> Processing Locus 12:26460439-26465160        [**************           ]  56%"
       ]
      },
      {
       "output_type": "stream",
       "stream": "stdout",
       "text": [
        "\n",
        "> Processing Locus 12:26569840-26593303        [**************           ]  57%\n",
        "> Processing Locus 12:26612193-26618916        [**************           ]  57%\n",
        "> Processing Locus 12:26624152-26677931        [**************           ]  57%\n",
        "> Processing Locus 12:26725034-26729228        [**************           ]  57%\n",
        "> Processing Locus 12:26737661-26744869        [**************           ]  57%"
       ]
      },
      {
       "output_type": "stream",
       "stream": "stdout",
       "text": [
        "\n",
        "> Processing Locus 12:26751450-26816373        [**************           ]  57%\n",
        "> Processing Locus 12:26820809-26821748        [**************           ]  57%"
       ]
      },
      {
       "output_type": "stream",
       "stream": "stdout",
       "text": [
        "\n",
        "> Processing Locus 12:26904290-26907680        [**************           ]  58%\n",
        "> Processing Locus 12:26960278-27012961        [**************           ]  58%"
       ]
      },
      {
       "output_type": "stream",
       "stream": "stdout",
       "text": [
        "\n",
        "> Processing Locus 12:27128336-27130993        [**************           ]  58%\n",
        "> Processing Locus 12:27137670-27139822        [**************           ]  58%\n",
        "> Processing Locus 12:27168131-27297935        [**************           ]  58%"
       ]
      },
      {
       "output_type": "stream",
       "stream": "stdout",
       "text": [
        "\n",
        "> Processing Locus 12:27303465-27356942        [**************           ]  58%"
       ]
      },
      {
       "output_type": "stream",
       "stream": "stdout",
       "text": [
        "\n",
        "> Processing Locus 12:27373145-27454439        [**************           ]  59%\n",
        "> Processing Locus 12:27468002-27491023        [**************           ]  59%\n",
        "> Processing Locus 12:27505875-27522325        [**************           ]  59%\n",
        "> Processing Locus 12:27524433-27594493        [**************           ]  59%\n",
        "> Processing Locus 12:27596419-27636335        [**************           ]  59%\n",
        "> Processing Locus 12:27656706-27694335        [**************           ]  59%"
       ]
      },
      {
       "output_type": "stream",
       "stream": "stdout",
       "text": [
        "\n",
        "> Processing Locus 12:27712035-27712152        [**************           ]  59%\n",
        "> Processing Locus 12:27768998-27889467        [**************           ]  59%\n",
        "> Processing Locus 12:27956276-27979907        [**************           ]  59%\n",
        "> Processing Locus 12:27982171-28001307        [**************           ]  59%\n",
        "> Processing Locus 12:28005508-28032775        [**************           ]  59%\n",
        "> Processing Locus 12:28038877-28058394        [**************           ]  59%"
       ]
      },
      {
       "output_type": "stream",
       "stream": "stdout",
       "text": [
        "\n",
        "> Processing Locus 12:28062719-28065880        [**************           ]  59%"
       ]
      },
      {
       "output_type": "stream",
       "stream": "stdout",
       "text": [
        "\n",
        "> Processing Locus 12:28068197-28109854        [***************          ]  60%\n",
        "> Processing Locus 12:28110052-28118020        [***************          ]  60%"
       ]
      },
      {
       "output_type": "stream",
       "stream": "stdout",
       "text": [
        "\n",
        "> Processing Locus 12:28118318-28129069        [***************          ]  60%\n",
        "> Processing Locus 12:28137615-28153501        [***************          ]  60%\n",
        "> Processing Locus 12:28165114-28180378        [***************          ]  60%\n",
        "> Processing Locus 12:28182465-28191759        [***************          ]  60%"
       ]
      },
      {
       "output_type": "stream",
       "stream": "stdout",
       "text": [
        "\n",
        "> Processing Locus 12:28193040-28296812        [***************          ]  60%\n",
        "> Processing Locus 12:28321304-28422757        [***************          ]  60%\n",
        "> Processing Locus 12:28448411-28536029        [***************          ]  60%\n",
        "> Processing Locus 12:28558596-28558713        [***************          ]  60%"
       ]
      },
      {
       "output_type": "stream",
       "stream": "stdout",
       "text": [
        "\n",
        "> Processing Locus 12:28595783-28596905        [***************          ]  60%\n",
        "> Processing Locus 12:28598341-28602091        [***************          ]  60%\n",
        "> Processing Locus 12:28607628-28632372        [***************          ]  60%"
       ]
      },
      {
       "output_type": "stream",
       "stream": "stdout",
       "text": [
        "\n",
        "> Processing Locus 12:28635938-28661697        [***************          ]  60%\n",
        "> Processing Locus 12:28667865-28686443        [***************          ]  60%"
       ]
      },
      {
       "output_type": "stream",
       "stream": "stdout",
       "text": [
        "\n",
        "> Processing Locus 12:28688846-28691064        [***************          ]  60%\n",
        "> Processing Locus 12:28698169-28699799        [***************          ]  60%\n",
        "> Processing Locus 12:28700689-28702766        [***************          ]  60%\n",
        "> Processing Locus 12:28705899-28705998        [***************          ]  60%\n",
        "> Processing Locus 12:28712170-28713862        [***************          ]  60%"
       ]
      },
      {
       "output_type": "stream",
       "stream": "stdout",
       "text": [
        "\n",
        "> Processing Locus 12:28728025-28783911        [***************          ]  62%\n",
        "> Processing Locus 12:28784763-28800889        [***************          ]  62%"
       ]
      },
      {
       "output_type": "stream",
       "stream": "stdout",
       "text": [
        "\n",
        "> Processing Locus 12:28802242-28808063        [***************          ]  63%"
       ]
      },
      {
       "output_type": "stream",
       "stream": "stdout",
       "text": [
        "\n",
        "> Processing Locus 12:28814089-28816788        [***************          ]  63%\n",
        "> Processing Locus 12:28857040-28879625        [***************          ]  63%"
       ]
      },
      {
       "output_type": "stream",
       "stream": "stdout",
       "text": [
        "\n",
        "> Processing Locus 12:28902354-28906683        [***************          ]  63%\n",
        "> Processing Locus 12:29033255-29040298        [***************          ]  63%\n",
        "> Processing Locus 12:29107125-29139725        [***************          ]  63%"
       ]
      },
      {
       "output_type": "stream",
       "stream": "stdout",
       "text": [
        "\n",
        "> Processing Locus 12:29141571-29159330        [***************          ]  63%\n",
        "> Processing Locus 12:29160684-29236619        [***************          ]  63%"
       ]
      },
      {
       "output_type": "stream",
       "stream": "stdout",
       "text": [
        "\n",
        "> Processing Locus 12:29276262-29637717        [***************          ]  63%\n",
        "> Processing Locus 12:29681986-29684860        [***************          ]  63%\n",
        "> Processing Locus 12:29778775-29897154        [***************          ]  63%"
       ]
      },
      {
       "output_type": "stream",
       "stream": "stdout",
       "text": [
        "\n",
        "> Processing Locus 12:29897997-29911272        [***************          ]  63%\n",
        "> Processing Locus 12:29915717-29918645        [***************          ]  63%\n",
        "> Processing Locus 12:29925906-30085333        [****************         ]  64%\n",
        "> Processing Locus 12:30091365-30094031        [****************         ]  64%\n",
        "> Processing Locus 12:30109939-30119024        [****************         ]  64%\n",
        "> Processing Locus 12:30165378-30226482        [****************         ]  64%"
       ]
      },
      {
       "output_type": "stream",
       "stream": "stdout",
       "text": [
        "\n",
        "> Processing Locus 12:30297349-30318978        [****************         ]  64%"
       ]
      },
      {
       "output_type": "stream",
       "stream": "stdout",
       "text": [
        "\n",
        "> Processing Locus 12:30321749-30343118        [****************         ]  65%\n",
        "> Processing Locus 12:30344782-30347803        [****************         ]  65%\n",
        "> Processing Locus 12:30348148-30355345        [****************         ]  65%"
       ]
      },
      {
       "output_type": "stream",
       "stream": "stdout",
       "text": [
        "\n",
        "> Processing Locus 12:30356805-30366895        [****************         ]  65%\n",
        "> Processing Locus 12:30373954-30383307        [****************         ]  65%\n",
        "> Processing Locus 12:30403634-30411637        [****************         ]  65%\n",
        "> Processing Locus 12:30418622-30429842        [****************         ]  65%"
       ]
      },
      {
       "output_type": "stream",
       "stream": "stdout",
       "text": [
        "\n",
        "> Processing Locus 12:30437135-30449345        [****************         ]  66%\n",
        "> Processing Locus 12:30459031-30485308        [****************         ]  66%"
       ]
      },
      {
       "output_type": "stream",
       "stream": "stdout",
       "text": [
        "\n",
        "> Processing Locus 12:30493692-30493807        [****************         ]  66%\n",
        "> Processing Locus 12:30496408-30501585        [****************         ]  66%"
       ]
      },
      {
       "output_type": "stream",
       "stream": "stdout",
       "text": [
        "\n",
        "> Processing Locus 12:30503926-30508794        [****************         ]  66%\n",
        "> Processing Locus 12:30510750-30511452        [****************         ]  66%\n",
        "> Processing Locus 12:30519496-30531745        [****************         ]  66%\n",
        "> Processing Locus 12:30544102-30561053        [****************         ]  66%\n",
        "> Processing Locus 12:30561733-30561851        [****************         ]  66%"
       ]
      },
      {
       "output_type": "stream",
       "stream": "stdout",
       "text": [
        "\n",
        "> Processing Locus 12:30603303-30759759        [****************         ]  66%\n",
        "> Processing Locus 12:30773614-30777631        [****************         ]  66%\n",
        "> Processing Locus 12:30784434-30785976        [****************         ]  66%"
       ]
      },
      {
       "output_type": "stream",
       "stream": "stdout",
       "text": [
        "\n",
        "> Processing Locus 12:30788284-30818523        [****************         ]  66%\n",
        "> Processing Locus 12:30838174-30853381        [****************         ]  66%\n",
        "> Processing Locus 12:30882721-30882811        [****************         ]  66%\n",
        "> Processing Locus 12:30898859-31172799        [****************         ]  66%\n",
        "> Processing Locus 12:31311706-31390202        [****************         ]  66%"
       ]
      },
      {
       "output_type": "stream",
       "stream": "stdout",
       "text": [
        "\n",
        "> Processing Locus 12:31416363-31607933        [****************         ]  67%\n",
        "> Processing Locus 12:31612179-31619661        [****************         ]  67%\n",
        "> Processing Locus 12:31685415-31791644        [****************         ]  67%"
       ]
      },
      {
       "output_type": "stream",
       "stream": "stdout",
       "text": [
        "\n",
        "> Processing Locus 12:31810126-31884106        [****************         ]  67%\n",
        "> Processing Locus 12:31888089-31914534        [****************         ]  67%\n",
        "> Processing Locus 12:31921592-31934556        [****************         ]  67%\n",
        "> Processing Locus 12:31937069-31943890        [****************         ]  67%"
       ]
      },
      {
       "output_type": "stream",
       "stream": "stdout",
       "text": [
        "\n",
        "> Processing Locus 12:31948124-31993801        [****************         ]  67%\n",
        "> Processing Locus 12:32018118-32019291        [****************         ]  67%\n",
        "> Processing Locus 12:32037011-32076683        [****************         ]  67%\n",
        "> Processing Locus 12:32077010-32079801        [****************         ]  67%\n",
        "> Processing Locus 12:32090610-32096441        [****************         ]  67%"
       ]
      },
      {
       "output_type": "stream",
       "stream": "stdout",
       "text": [
        "\n",
        "> Processing Locus 12:32098102-32112570        [****************         ]  67%\n",
        "> Processing Locus 12:32113012-32151324        [****************         ]  67%\n",
        "> Processing Locus 12:32170294-32171515        [****************         ]  67%\n",
        "> Processing Locus 12:32200410-32204655        [****************         ]  67%\n",
        "> Processing Locus 12:32206782-32213077        [****************         ]  67%\n",
        "> Processing Locus 12:32227928-32231832        [****************         ]  67%"
       ]
      },
      {
       "output_type": "stream",
       "stream": "stdout",
       "text": [
        "\n",
        "> Processing Locus 12:32233741-32247789        [****************         ]  67%\n",
        "> Processing Locus 12:32250713-32282549        [****************         ]  67%\n",
        "> Processing Locus 12:32317167-32349242        [****************         ]  67%\n",
        "> Processing Locus 12:32369975-32379565        [****************         ]  67%\n",
        "> Processing Locus 12:32387906-32441864        [****************         ]  67%"
       ]
      },
      {
       "output_type": "stream",
       "stream": "stdout",
       "text": [
        "\n",
        "> Processing Locus 12:32453055-32496034        [*****************        ]  68%\n",
        "> Processing Locus 12:32525267-32528780        [*****************        ]  68%\n",
        "> Processing Locus 12:32529924-32533156        [*****************        ]  68%\n",
        "> Processing Locus 12:32668773-32790417        [*****************        ]  68%"
       ]
      },
      {
       "output_type": "stream",
       "stream": "stdout",
       "text": [
        "\n",
        "> Processing Locus 12:32845792-33109635        [*****************        ]  68%\n",
        "> Processing Locus 12:33112565-33125675        [*****************        ]  68%"
       ]
      },
      {
       "output_type": "stream",
       "stream": "stdout",
       "text": [
        "\n",
        "> Processing Locus 12:33125679-33163215        [*****************        ]  69%\n",
        "> Processing Locus 12:33163275-33171778        [*****************        ]  69%\n",
        "> Processing Locus 12:33186400-33186535        [*****************        ]  69%"
       ]
      },
      {
       "output_type": "stream",
       "stream": "stdout",
       "text": [
        "\n",
        "> Processing Locus 12:33191099-33221664        [*****************        ]  69%\n",
        "> Processing Locus 12:33296023-33318398        [*****************        ]  69%"
       ]
      },
      {
       "output_type": "stream",
       "stream": "stdout",
       "text": [
        "\n",
        "> Processing Locus 12:33347691-33397390        [*****************        ]  69%\n",
        "> Processing Locus 12:33400339-33406787        [*****************        ]  69%"
       ]
      },
      {
       "output_type": "stream",
       "stream": "stdout",
       "text": [
        "\n",
        "> Processing Locus 12:33407773-33411488        [*****************        ]  70%\n",
        "> Processing Locus 12:33416598-33449021        [*****************        ]  70%\n",
        "> Processing Locus 12:33460660-33466267        [*****************        ]  70%\n",
        "> Processing Locus 12:33470166-33474962        [*****************        ]  70%\n",
        "> Processing Locus 12:33476481-33482030        [*****************        ]  70%"
       ]
      },
      {
       "output_type": "stream",
       "stream": "stdout",
       "text": [
        "\n",
        "> Processing Locus 12:33597330-33682941        [*****************        ]  70%\n",
        "> Processing Locus 12:33726277-33753571        [*****************        ]  70%\n",
        "> Processing Locus 12:33755394-33760653        [*****************        ]  70%"
       ]
      },
      {
       "output_type": "stream",
       "stream": "stdout",
       "text": [
        "\n",
        "> Processing Locus 12:33765271-33835397        [*****************        ]  70%\n",
        "> Processing Locus 12:33846502-33852328        [*****************        ]  70%\n",
        "> Processing Locus 12:33873572-33873896        [*****************        ]  70%"
       ]
      },
      {
       "output_type": "stream",
       "stream": "stdout",
       "text": [
        "\n",
        "> Processing Locus 12:34000541-34057155        [*****************        ]  70%\n",
        "> Processing Locus 12:34077114-34077786        [*****************        ]  70%\n",
        "> Processing Locus 12:34101460-34108950        [*****************        ]  70%\n",
        "> Processing Locus 12:34111309-34114559        [*****************        ]  70%\n",
        "> Processing Locus 12:34288837-34340681        [*****************        ]  70%"
       ]
      },
      {
       "output_type": "stream",
       "stream": "stdout",
       "text": [
        "\n",
        "> Processing Locus 12:34356065-34356867        [*****************        ]  70%\n",
        "> Processing Locus 12:34379618-34387160        [*****************        ]  70%\n",
        "> Processing Locus 12:34389508-34392765        [*****************        ]  70%\n",
        "> Processing Locus 12:34489633-34562077        [*****************        ]  70%"
       ]
      },
      {
       "output_type": "stream",
       "stream": "stdout",
       "text": [
        "\n",
        "> Processing Locus 12:34637653-34639232        [*****************        ]  70%\n",
        "> Processing Locus 12:34653624-34666399        [*****************        ]  70%\n",
        "> Processing Locus 12:34668798-34675762        [*****************        ]  70%"
       ]
      },
      {
       "output_type": "stream",
       "stream": "stdout",
       "text": [
        "\n",
        "> Processing Locus 12:34681229-34725417        [*****************        ]  71%\n",
        "> Processing Locus 12:34784957-34788079        [*****************        ]  71%\n",
        "> Processing Locus 12:34794034-34809802        [*****************        ]  71%"
       ]
      },
      {
       "output_type": "stream",
       "stream": "stdout",
       "text": [
        "\n",
        "> Processing Locus 12:34815411-34831695        [******************       ]  73%\n",
        "> Processing Locus 12:34840957-34841862        [******************       ]  73%"
       ]
      },
      {
       "output_type": "stream",
       "stream": "stdout",
       "text": [
        "\n",
        "> Processing Locus 12:34845163-34854562        [*******************      ]  79%\n",
        "> Processing Locus 12:34860157-34886418        [*******************      ]  79%"
       ]
      },
      {
       "output_type": "stream",
       "stream": "stdout",
       "text": [
        "\n",
        "> Processing Locus 12:34890655-34945093        [********************     ]  80%\n",
        "> Processing Locus 12:34947822-34954487        [********************     ]  80%"
       ]
      },
      {
       "output_type": "stream",
       "stream": "stdout",
       "text": [
        "\n",
        "> Processing Locus 12:34955701-34968937        [********************     ]  80%"
       ]
      },
      {
       "output_type": "stream",
       "stream": "stdout",
       "text": [
        "\n",
        "> Processing Locus 12:34979365-35032034        [********************     ]  80%"
       ]
      },
      {
       "output_type": "stream",
       "stream": "stdout",
       "text": [
        "\n",
        "> Processing Locus 12:35033588-35053635        [********************     ]  80%"
       ]
      },
      {
       "output_type": "stream",
       "stream": "stdout",
       "text": [
        "\n",
        "> Processing Locus 12:35056325-35077290        [********************     ]  81%"
       ]
      },
      {
       "output_type": "stream",
       "stream": "stdout",
       "text": [
        "\n",
        "> Processing Locus 12:35101425-35150496        [********************     ]  81%"
       ]
      },
      {
       "output_type": "stream",
       "stream": "stdout",
       "text": [
        "\n",
        "> Processing Locus 12:35157190-35198518        [********************     ]  81%"
       ]
      },
      {
       "output_type": "stream",
       "stream": "stdout",
       "text": [
        "\n",
        "> Processing Locus 12:35233268-35283975        [********************     ]  83%\n",
        "> Processing Locus 12:35285116-35300331        [********************     ]  83%\n",
        "> Processing Locus 12:35302234-35309185        [********************     ]  83%\n",
        "> Processing Locus 12:35312618-35314365        [********************     ]  83%\n",
        "> Processing Locus 12:35327879-35358619        [********************     ]  83%"
       ]
      },
      {
       "output_type": "stream",
       "stream": "stdout",
       "text": [
        "\n",
        "> Processing Locus 12:35390900-35411358        [********************     ]  83%\n",
        "> Processing Locus 12:35413174-35431310        [********************     ]  83%"
       ]
      },
      {
       "output_type": "stream",
       "stream": "stdout",
       "text": [
        "\n",
        "> Processing Locus 12:35462649-35469034        [********************     ]  83%"
       ]
      },
      {
       "output_type": "stream",
       "stream": "stdout",
       "text": [
        "\n",
        "> Processing Locus 12:35471374-35485124        [********************     ]  83%\n",
        "> Processing Locus 12:35487182-35531581        [********************     ]  83%\n",
        "> Processing Locus 12:35615688-35689191        [********************     ]  83%"
       ]
      },
      {
       "output_type": "stream",
       "stream": "stdout",
       "text": [
        "\n",
        "> Processing Locus 12:35703130-35729554        [********************     ]  83%\n",
        "> Processing Locus 12:35730851-35734728        [********************     ]  83%"
       ]
      },
      {
       "output_type": "stream",
       "stream": "stdout",
       "text": [
        "\n",
        "> Processing Locus 12:35740183-35779795        [*********************    ]  86%"
       ]
      },
      {
       "output_type": "stream",
       "stream": "stdout",
       "text": [
        "\n",
        "> Processing Locus 12:35817382-35975083        [*********************    ]  86%\n",
        "> Processing Locus 12:35983715-36006062        [*********************    ]  87%"
       ]
      },
      {
       "output_type": "stream",
       "stream": "stdout",
       "text": [
        "\n",
        "> Processing Locus 12:36123477-36203541        [*********************    ]  87%"
       ]
      },
      {
       "output_type": "stream",
       "stream": "stdout",
       "text": [
        "\n",
        "> Processing Locus 12:36213654-36213769        [*********************    ]  87%"
       ]
      },
      {
       "output_type": "stream",
       "stream": "stdout",
       "text": [
        "\n",
        "> Processing Locus 12:36238810-36250264        [*********************    ]  87%\n",
        "> Processing Locus 12:36269130-36271829        [*********************    ]  87%"
       ]
      },
      {
       "output_type": "stream",
       "stream": "stdout",
       "text": [
        "\n",
        "> Processing Locus 12:36272046-36276784        [*********************    ]  87%"
       ]
      },
      {
       "output_type": "stream",
       "stream": "stdout",
       "text": [
        "\n",
        "> Processing Locus 12:36301873-36301972        [*********************    ]  87%"
       ]
      },
      {
       "output_type": "stream",
       "stream": "stdout",
       "text": [
        "\n",
        "> Processing Locus 12:36309348-36370404        [*********************    ]  87%\n",
        "> Processing Locus 12:36421613-36426532        [*********************    ]  87%"
       ]
      },
      {
       "output_type": "stream",
       "stream": "stdout",
       "text": [
        "\n",
        "> Processing Locus 12:36430807-36431869        [*********************    ]  87%\n",
        "> Processing Locus 12:36438018-36446387        [*********************    ]  87%"
       ]
      },
      {
       "output_type": "stream",
       "stream": "stdout",
       "text": [
        "\n",
        "> Processing Locus 12:36452903-36468681        [*********************    ]  87%\n",
        "> Processing Locus 12:36478549-36495568        [*********************    ]  87%"
       ]
      },
      {
       "output_type": "stream",
       "stream": "stdout",
       "text": [
        "\n",
        "> Processing Locus 12:36500662-36559693        [*********************    ]  87%\n",
        "> Processing Locus 12:36684765-36758164        [*********************    ]  87%"
       ]
      },
      {
       "output_type": "stream",
       "stream": "stdout",
       "text": [
        "\n",
        "> Processing Locus 12:36864819-36884234        [*********************    ]  87%"
       ]
      },
      {
       "output_type": "stream",
       "stream": "stdout",
       "text": [
        "\n",
        "> Processing Locus 12:36888141-36893362        [*********************    ]  87%\n",
        "> Processing Locus 12:36895908-36906967        [*********************    ]  87%"
       ]
      },
      {
       "output_type": "stream",
       "stream": "stdout",
       "text": [
        "\n",
        "> Processing Locus 12:36926355-36944716        [*********************    ]  87%"
       ]
      },
      {
       "output_type": "stream",
       "stream": "stdout",
       "text": [
        "\n",
        "> Processing Locus 12:37046022-37050248        [*********************    ]  87%"
       ]
      },
      {
       "output_type": "stream",
       "stream": "stdout",
       "text": [
        "\n",
        "> Processing Locus 12:37065404-37083525        [*********************    ]  87%"
       ]
      },
      {
       "output_type": "stream",
       "stream": "stdout",
       "text": [
        "\n",
        "> Processing Locus 12:37125612-37134954        [*********************    ]  87%\n",
        "> Processing Locus 12:37137261-37185204        [*********************    ]  87%"
       ]
      },
      {
       "output_type": "stream",
       "stream": "stdout",
       "text": [
        "\n",
        "> Processing Locus 12:37187319-37231157        [*********************    ]  87%\n",
        "> Processing Locus 12:37231929-37245271        [*********************    ]  87%"
       ]
      },
      {
       "output_type": "stream",
       "stream": "stdout",
       "text": [
        "\n",
        "> Processing Locus 12:37262651-37266591        [*********************    ]  87%\n",
        "> Processing Locus 12:37387320-37391548        [*********************    ]  87%"
       ]
      },
      {
       "output_type": "stream",
       "stream": "stdout",
       "text": [
        "\n",
        "> Processing Locus 12:37399008-37400292        [*********************    ]  87%\n",
        "> Processing Locus 12:37500385-37500475        [*********************    ]  87%\n",
        "> Processing Locus 12:37501578-37551068        [*********************    ]  87%"
       ]
      },
      {
       "output_type": "stream",
       "stream": "stdout",
       "text": [
        "\n",
        "> Processing Locus 12:37556808-37567357        [*********************    ]  87%\n",
        "> Processing Locus 12:37600804-37605412        [*********************    ]  87%\n",
        "> Processing Locus 12:37614855-37636902        [*********************    ]  87%\n",
        "> Processing Locus 12:37662651-37665169        [*********************    ]  87%"
       ]
      },
      {
       "output_type": "stream",
       "stream": "stdout",
       "text": [
        "\n",
        "> Processing Locus 12:37671563-37679616        [*********************    ]  87%\n",
        "> Processing Locus 12:37683213-37704261        [*********************    ]  87%\n",
        "> Processing Locus 12:37715591-37723218        [*********************    ]  87%"
       ]
      },
      {
       "output_type": "stream",
       "stream": "stdout",
       "text": [
        "\n",
        "> Processing Locus 12:37732584-37733969        [*********************    ]  87%"
       ]
      },
      {
       "output_type": "stream",
       "stream": "stdout",
       "text": [
        "\n",
        "> Processing Locus 12:37774789-37818326        [**********************   ]  88%\n",
        "> Processing Locus 12:37829728-37846338        [**********************   ]  88%"
       ]
      },
      {
       "output_type": "stream",
       "stream": "stdout",
       "text": [
        "\n",
        "> Processing Locus 12:37860355-37878499        [**********************   ]  88%\n",
        "> Processing Locus 12:37880888-37907763        [**********************   ]  88%"
       ]
      },
      {
       "output_type": "stream",
       "stream": "stdout",
       "text": [
        "\n",
        "> Processing Locus 12:37936894-37961516        [**********************   ]  88%"
       ]
      },
      {
       "output_type": "stream",
       "stream": "stdout",
       "text": [
        "\n",
        "> Processing Locus 12:37984265-38071933        [**********************   ]  88%\n",
        "> Processing Locus 12:38091992-38143552        [**********************   ]  88%\n",
        "> Processing Locus 12:38161208-38161325        [**********************   ]  88%\n",
        "> Processing Locus 12:38208387-38277766        [**********************   ]  88%\n",
        "> Processing Locus 12:38346902-38347019        [**********************   ]  88%"
       ]
      },
      {
       "output_type": "stream",
       "stream": "stdout",
       "text": [
        "\n",
        "> Processing Locus 12:38429326-38498369        [**********************   ]  88%\n",
        "> Processing Locus 12:38509826-38540032        [**********************   ]  88%"
       ]
      },
      {
       "output_type": "stream",
       "stream": "stdout",
       "text": [
        "\n",
        "> Processing Locus 12:38813179-38837515        [**********************   ]  88%\n",
        "> Processing Locus 12:38865945-38880343        [**********************   ]  88%"
       ]
      },
      {
       "output_type": "stream",
       "stream": "stdout",
       "text": [
        "\n",
        "> Processing Locus 12:38939185-38942627        [**********************   ]  88%"
       ]
      },
      {
       "output_type": "stream",
       "stream": "stdout",
       "text": [
        "\n",
        "> Processing Locus 12:38947810-38948821        [**********************   ]  88%\n",
        "> Processing Locus 12:39001356-39272817        [**********************   ]  88%\n",
        "> Processing Locus 12:39329859-39329975        [**********************   ]  88%"
       ]
      },
      {
       "output_type": "stream",
       "stream": "stdout",
       "text": [
        "\n",
        "> Processing Locus 12:39477404-39478529        [**********************   ]  88%\n",
        "> Processing Locus 12:40099734-40104569        [**********************   ]  88%"
       ]
      },
      {
       "output_type": "stream",
       "stream": "stdout",
       "text": [
        "\n",
        "> Processing Locus 12:40106345-40236087        [**********************   ]  88%\n",
        "> Processing Locus 12:40239462-40255379        [**********************   ]  88%"
       ]
      },
      {
       "output_type": "stream",
       "stream": "stdout",
       "text": [
        "\n",
        "> Processing Locus 12:40259744-40346684        [**********************   ]  88%"
       ]
      },
      {
       "output_type": "stream",
       "stream": "stdout",
       "text": [
        "\n",
        "> Processing Locus 12:40351359-40404440        [**********************   ]  90%\n",
        "> Processing Locus 12:40476499-40603933        [**********************   ]  90%\n",
        "> Processing Locus 12:40645829-40645915        [**********************   ]  90%"
       ]
      },
      {
       "output_type": "stream",
       "stream": "stdout",
       "text": [
        "\n",
        "> Processing Locus 12:40903184-40903299        [**********************   ]  90%\n",
        "> Processing Locus 12:40987994-40988110        [**********************   ]  90%\n",
        "> Processing Locus 12:41246224-41349008        [**********************   ]  90%\n",
        "> Processing Locus 12:41690752-41690868        [**********************   ]  90%"
       ]
      },
      {
       "output_type": "stream",
       "stream": "stdout",
       "text": [
        "\n",
        "> Processing Locus 12:41828864-41828980        [**********************   ]  90%\n",
        "> Processing Locus 12:42115507-42244621        [**********************   ]  90%\n",
        "> Processing Locus 12:42684912-42837810        [**********************   ]  90%\n",
        "> Processing Locus 12:43004464-43004587        [**********************   ]  90%"
       ]
      },
      {
       "output_type": "stream",
       "stream": "stdout",
       "text": [
        "\n",
        "> Processing Locus 12:43008936-43170897        [**********************   ]  91%\n",
        "> Processing Locus 12:43175667-43191180        [**********************   ]  91%"
       ]
      },
      {
       "output_type": "stream",
       "stream": "stdout",
       "text": [
        "\n",
        "> Processing Locus 12:43213084-43218348        [**********************   ]  91%\n",
        "> Processing Locus 12:43231629-43267962        [**********************   ]  91%"
       ]
      },
      {
       "output_type": "stream",
       "stream": "stdout",
       "text": [
        "\n",
        "> Processing Locus 12:43289229-43330067        [**********************   ]  91%\n",
        "> Processing Locus 12:43371974-43420546        [**********************   ]  91%"
       ]
      },
      {
       "output_type": "stream",
       "stream": "stdout",
       "text": [
        "\n",
        "> Processing Locus 12:43471499-43491034        [**********************   ]  91%\n",
        "> Processing Locus 12:43752734-43780750        [**********************   ]  91%"
       ]
      },
      {
       "output_type": "stream",
       "stream": "stdout",
       "text": [
        "\n",
        "> Processing Locus 12:43869463-43928073        [**********************   ]  91%\n",
        "> Processing Locus 12:44141559-44282638        [**********************   ]  91%\n",
        "> Processing Locus 12:44322075-44349503        [**********************   ]  91%"
       ]
      },
      {
       "output_type": "stream",
       "stream": "stdout",
       "text": [
        "\n",
        "> Processing Locus 12:44350855-44354919        [**********************   ]  91%"
       ]
      },
      {
       "output_type": "stream",
       "stream": "stdout",
       "text": [
        "\n",
        "> Processing Locus 12:44524080-44555496        [**********************   ]  91%"
       ]
      },
      {
       "output_type": "stream",
       "stream": "stdout",
       "text": [
        "\n",
        "> Processing Locus 12:44601380-44776687        [**********************   ]  91%\n",
        "> Processing Locus 12:44826932-44872428        [**********************   ]  91%\n",
        "> Processing Locus 12:45236817-45298485        [**********************   ]  91%\n",
        "> Processing Locus 12:45467868-45515637        [**********************   ]  91%"
       ]
      },
      {
       "output_type": "stream",
       "stream": "stdout",
       "text": [
        "\n",
        "> Processing Locus 12:45543310-45679547        [**********************   ]  91%"
       ]
      },
      {
       "output_type": "stream",
       "stream": "stdout",
       "text": [
        "\n",
        "> Processing Locus 12:45686877-45708977        [***********************  ]  92%\n",
        "> Processing Locus 12:45791424-45807286        [***********************  ]  92%"
       ]
      },
      {
       "output_type": "stream",
       "stream": "stdout",
       "text": [
        "\n",
        "> Processing Locus 12:45821458-45852412        [***********************  ]  92%\n",
        "> Processing Locus 12:45858725-45876322        [***********************  ]  92%\n",
        "> Processing Locus 12:45877487-45930711        [***********************  ]  92%\n",
        "> Processing Locus 12:45935176-45952831        [***********************  ]  92%"
       ]
      },
      {
       "output_type": "stream",
       "stream": "stdout",
       "text": [
        "\n",
        "> Processing Locus 12:45959540-45969379        [***********************  ]  92%"
       ]
      },
      {
       "output_type": "stream",
       "stream": "stdout",
       "text": [
        "\n",
        "> Processing Locus 12:45972651-45991571        [***********************  ]  92%\n",
        "> Processing Locus 12:45995275-46038694        [***********************  ]  92%\n",
        "> Processing Locus 12:46246875-46267495        [***********************  ]  92%"
       ]
      },
      {
       "output_type": "stream",
       "stream": "stdout",
       "text": [
        "\n",
        "> Processing Locus 12:46340361-46346821        [***********************  ]  92%\n",
        "> Processing Locus 12:46368055-46374884        [***********************  ]  92%\n",
        "> Processing Locus 12:46397533-46400704        [***********************  ]  92%\n",
        "> Processing Locus 12:46407722-46411330        [***********************  ]  92%"
       ]
      },
      {
       "output_type": "stream",
       "stream": "stdout",
       "text": [
        "\n",
        "> Processing Locus 12:46412815-46412932        [***********************  ]  92%\n",
        "> Processing Locus 12:46440283-46450045        [***********************  ]  92%\n",
        "> Processing Locus 12:46486115-46496936        [***********************  ]  92%\n",
        "> Processing Locus 12:46534913-46571621        [***********************  ]  92%\n",
        "> Processing Locus 12:46614280-46621453        [***********************  ]  92%\n",
        "> Processing Locus 12:46629767-46638624        [***********************  ]  92%"
       ]
      },
      {
       "output_type": "stream",
       "stream": "stdout",
       "text": [
        "\n",
        "> Processing Locus 12:46751978-46827746        [***********************  ]  92%\n",
        "> Processing Locus 12:46994361-47010486        [***********************  ]  92%\n",
        "> Processing Locus 12:47019878-47031879        [***********************  ]  92%\n",
        "> Processing Locus 12:47046978-47066350        [***********************  ]  92%\n",
        "> Processing Locus 12:47074447-47100259        [***********************  ]  92%\n",
        "> Processing Locus 12:47107342-47111966        [***********************  ]  92%\n",
        "> Processing Locus 12:47144407-47148097        [***********************  ]  92%"
       ]
      },
      {
       "output_type": "stream",
       "stream": "stdout",
       "text": [
        "\n",
        "> Processing Locus 12:47164404-47174311        [***********************  ]  92%\n",
        "> Processing Locus 12:47186138-47193728        [***********************  ]  92%\n",
        "> Processing Locus 12:47218463-47227074        [***********************  ]  92%\n",
        "> Processing Locus 12:47238225-47264986        [***********************  ]  92%\n",
        "> Processing Locus 12:47274869-47283051        [***********************  ]  92%"
       ]
      },
      {
       "output_type": "stream",
       "stream": "stdout",
       "text": [
        "\n",
        "> Processing Locus 12:47292553-47302086        [***********************  ]  92%\n",
        "> Processing Locus 12:47327844-47332575        [***********************  ]  92%\n",
        "> Processing Locus 12:47349711-47360129        [***********************  ]  92%\n",
        "> Processing Locus 12:47379868-47395941        [***********************  ]  92%\n",
        "> Processing Locus 12:47418175-47429262        [***********************  ]  92%\n",
        "> Processing Locus 12:47463138-47471850        [***********************  ]  92%"
       ]
      },
      {
       "output_type": "stream",
       "stream": "stdout",
       "text": [
        "\n",
        "> Processing Locus 12:47485939-47489808        [***********************  ]  92%\n",
        "> Processing Locus 12:47503263-47507180        [***********************  ]  92%\n",
        "> Processing Locus 12:47524756-47527075        [***********************  ]  92%\n",
        "> Processing Locus 12:47542433-47546374        [***********************  ]  92%\n",
        "> Processing Locus 12:47561044-47565018        [***********************  ]  92%\n",
        "> Processing Locus 12:47582997-47583374        [***********************  ]  92%"
       ]
      },
      {
       "output_type": "stream",
       "stream": "stdout",
       "text": [
        "\n",
        "> Processing Locus 12:47585629-47586615        [***********************  ]  92%\n",
        "> Processing Locus 12:47605624-47609528        [***********************  ]  92%\n",
        "> Processing Locus 12:47613340-47649700        [***********************  ]  92%\n",
        "> Processing Locus 12:47652494-47673190        [***********************  ]  92%\n",
        "> Processing Locus 12:47683811-47706837        [***********************  ]  92%"
       ]
      },
      {
       "output_type": "stream",
       "stream": "stdout",
       "text": [
        "\n",
        "> Processing Locus 12:47709702-47754444        [***********************  ]  92%"
       ]
      },
      {
       "output_type": "stream",
       "stream": "stdout",
       "text": [
        "\n",
        "> Processing Locus 12:47758182-47771010        [***********************  ]  92%\n",
        "> Processing Locus 12:47771855-47813366        [***********************  ]  93%\n",
        "> Processing Locus 12:47820220-47838787        [***********************  ]  93%"
       ]
      },
      {
       "output_type": "stream",
       "stream": "stdout",
       "text": [
        "\n",
        "> Processing Locus 12:47919623-47945557        [***********************  ]  93%"
       ]
      },
      {
       "output_type": "stream",
       "stream": "stdout",
       "text": [
        "\n",
        "> Processing Locus 12:47947002-47982244        [***********************  ]  93%\n",
        "> Processing Locus 12:47985030-48039202        [***********************  ]  93%"
       ]
      },
      {
       "output_type": "stream",
       "stream": "stdout",
       "text": [
        "\n",
        "> Processing Locus 12:48051829-48061236        [***********************  ]  93%\n",
        "> Processing Locus 12:48061824-48087137        [***********************  ]  93%"
       ]
      },
      {
       "output_type": "stream",
       "stream": "stdout",
       "text": [
        "\n",
        "> Processing Locus 12:48161732-48183759        [***********************  ]  93%\n",
        "> Processing Locus 12:48192147-48266683        [***********************  ]  94%"
       ]
      },
      {
       "output_type": "stream",
       "stream": "stdout",
       "text": [
        "\n",
        "> Processing Locus 12:48443910-48454306        [***********************  ]  94%\n",
        "> Processing Locus 12:48470088-48487060        [***********************  ]  94%"
       ]
      },
      {
       "output_type": "stream",
       "stream": "stdout",
       "text": [
        "\n",
        "> Processing Locus 12:48614756-48706677        [***********************  ]  95%"
       ]
      },
      {
       "output_type": "stream",
       "stream": "stdout",
       "text": [
        "\n",
        "> Processing Locus 12:48724379-48725885        [***********************  ]  95%\n",
        "> Processing Locus 12:48745085-48760401        [***********************  ]  95%\n",
        "> Processing Locus 12:48853943-48864046        [************************ ]  96%\n",
        "> Processing Locus 12:48927884-48927999        [************************ ]  96%\n",
        "> Processing Locus 12:48932778-48939178        [************************ ]  96%"
       ]
      },
      {
       "output_type": "stream",
       "stream": "stdout",
       "text": [
        "\n",
        "> Processing Locus 12:48976626-48987988        [************************ ]  96%\n",
        "> Processing Locus 12:48998180-49024161        [************************ ]  96%\n",
        "> Processing Locus 12:49031477-49035407        [************************ ]  96%\n",
        "> Processing Locus 12:49041229-49046526        [************************ ]  96%\n",
        "> Processing Locus 12:49047813-49116389        [************************ ]  96%"
       ]
      },
      {
       "output_type": "stream",
       "stream": "stdout",
       "text": [
        "\n",
        "> Processing Locus 12:49124877-49152281        [************************ ]  96%\n",
        "> Processing Locus 12:49153042-49153137        [************************ ]  96%\n",
        "> Processing Locus 12:49160060-49181616        [************************ ]  96%\n",
        "> Processing Locus 12:49198447-49212435        [************************ ]  96%\n",
        "> Processing Locus 12:49222791-49275286        [************************ ]  96%"
       ]
      },
      {
       "output_type": "stream",
       "stream": "stdout",
       "text": [
        "\n",
        "> Processing Locus 12:49428046-49436463        [************************ ]  96%\n",
        "> Processing Locus 12:49440482-49463702        [************************ ]  96%\n",
        "> Processing Locus 12:49465175-49475020        [************************ ]  96%\n",
        "> Processing Locus 12:49525829-49531261        [************************ ]  96%\n",
        "> Processing Locus 12:49544033-49545787        [************************ ]  96%"
       ]
      },
      {
       "output_type": "stream",
       "stream": "stdout",
       "text": [
        "\n",
        "> Processing Locus 12:49554093-49606166        [************************ ]  96%\n",
        "> Processing Locus 12:49610295-49610834        [************************ ]  96%"
       ]
      },
      {
       "output_type": "stream",
       "stream": "stdout",
       "text": [
        "\n",
        "> Processing Locus 12:49612489-49620904        [************************ ]  96%"
       ]
      },
      {
       "output_type": "stream",
       "stream": "stdout",
       "text": [
        "\n",
        "> Processing Locus 12:49633437-49635557        [************************ ]  96%"
       ]
      },
      {
       "output_type": "stream",
       "stream": "stdout",
       "text": [
        "\n",
        "> Processing Locus 12:49643125-49667966        [************************ ]  97%\n",
        "> Processing Locus 12:49684019-49699500        [************************ ]  97%"
       ]
      },
      {
       "output_type": "stream",
       "stream": "stdout",
       "text": [
        "\n",
        "> Processing Locus 12:49707840-49760529        [************************ ]  97%"
       ]
      },
      {
       "output_type": "stream",
       "stream": "stdout",
       "text": [
        "\n",
        "> Processing Locus 12:49763059-49770336        [************************ ]  97%\n",
        "> Processing Locus 12:49802987-49832107        [************************ ]  97%\n",
        "> Processing Locus 12:49836390-49845614        [************************ ]  97%\n",
        "> Processing Locus 12:49851154-49871433        [************************ ]  97%\n",
        "> Processing Locus 12:49873399-49914803        [************************ ]  97%\n",
        "> Processing Locus 12:49926444-49951727        [************************ ]  97%"
       ]
      },
      {
       "output_type": "stream",
       "stream": "stdout",
       "text": [
        "\n",
        "> Processing Locus 12:50004531-50075404        [************************ ]  97%\n",
        "> Processing Locus 12:50107721-50128309        [************************ ]  97%\n",
        "> Processing Locus 12:50173492-50187857        [************************ ]  97%"
       ]
      },
      {
       "output_type": "stream",
       "stream": "stdout",
       "text": [
        "\n",
        "> Processing Locus 12:50188001-50196421        [************************ ]  98%\n",
        "> Processing Locus 12:50199189-50205215        [************************ ]  98%\n",
        "> Processing Locus 12:50215339-50233896        [************************ ]  98%"
       ]
      },
      {
       "output_type": "stream",
       "stream": "stdout",
       "text": [
        "\n",
        "> Processing Locus 12:50236400-50244430        [************************ ]  98%"
       ]
      },
      {
       "output_type": "stream",
       "stream": "stdout",
       "text": [
        "\n",
        "> Processing Locus 12:50249476-50270603        [************************ ]  98%"
       ]
      },
      {
       "output_type": "stream",
       "stream": "stdout",
       "text": [
        "\n",
        "> Processing Locus 12:50275023-50289840        [************************ ]  98%\n",
        "> Processing Locus 12:50293696-50301119        [************************ ]  98%\n",
        "> Processing Locus 12:50312817-50328784        [************************ ]  98%\n",
        "> Processing Locus 12:50329855-50330361        [************************ ]  98%"
       ]
      },
      {
       "output_type": "stream",
       "stream": "stdout",
       "text": [
        "\n",
        "> Processing Locus 12:50379332-50390278        [************************ ]  98%\n",
        "> Processing Locus 12:50392893-50395554        [************************ ]  98%\n",
        "> Processing Locus 12:50403310-50408380        [************************ ]  98%\n",
        "> Processing Locus 12:50415521-50415901        [************************ ]  98%\n",
        "> Processing Locus 12:50425944-50437525        [************************ ]  98%"
       ]
      },
      {
       "output_type": "stream",
       "stream": "stdout",
       "text": [
        "\n",
        "> Processing Locus 12:50447861-50448451        [************************ ]  98%\n",
        "> Processing Locus 12:50450446-50452333        [************************ ]  98%\n",
        "> Processing Locus 12:50478893-50481510        [************************ ]  98%\n",
        "> Processing Locus 12:50542144-50549329        [************************ ]  98%\n",
        "> Processing Locus 12:50565076-50565636        [************************ ]  98%\n",
        "> Processing Locus 12:50570539-50571935        [************************ ]  98%\n",
        "> Processing Locus 12:50576675-50581926        [************************ ]  98%\n",
        "> Processing Locus 12:50585226-50588390        [************************ ]  98%"
       ]
      },
      {
       "output_type": "stream",
       "stream": "stdout",
       "text": [
        "\n",
        "> Processing Locus 12:50590905-50606484        [************************ ]  98%\n",
        "> Processing Locus 12:50615115-50616796        [************************ ]  98%\n",
        "> Processing Locus 12:50620021-50622464        [************************ ]  98%\n",
        "> Processing Locus 12:50644669-50652623        [************************ ]  98%"
       ]
      },
      {
       "output_type": "stream",
       "stream": "stdout",
       "text": [
        "\n",
        "> Processing Locus 12:50659370-50663709        [************************ ]  99%\n",
        "> Processing Locus 12:50683576-50686698        [************************ ]  99%\n",
        "> Waiting for 2 threads to complete.           [************************ ]  99%\n",
        "> Waiting for 1 threads to complete.           [************************ ]  99%"
       ]
      },
      {
       "output_type": "stream",
       "stream": "stdout",
       "text": [
        "\n",
        "> Processed 895 loci.                          [*************************] 100%"
       ]
      }
     ],
     "prompt_number": 28
    },
    {
     "cell_type": "code",
     "collapsed": false,
     "input": [
      "os.path.exists('tophat')"
     ],
     "language": "python",
     "metadata": {},
     "outputs": [
      {
       "metadata": {},
       "output_type": "pyout",
       "prompt_number": 29,
       "text": [
        "True"
       ]
      }
     ],
     "prompt_number": 29
    },
    {
     "cell_type": "code",
     "collapsed": true,
     "input": [
      "if os.path.exists('tophat') and os.path.exists('ref'):\n",
      "    os.system('tophat -p 3 -T -G ref/zv.gtf -o tophat/6h ref/zv data/6h_1.fastq data/6h_2.fastq')\n",
      "else:\n",
      "    print 'You have to create tophat and/or index directories before running your wrapper'"
     ],
     "language": "python",
     "metadata": {},
     "outputs": [],
     "prompt_number": 30
    },
    {
     "cell_type": "code",
     "collapsed": true,
     "input": [
      "#os.system('tophat -p 3 -T -G ref/zv.gtf -o tophat/6h ref/zv data/6h_1.fastq data/6h_2.fastq')\n",
      "lag_file=open('dummy.txt','w')\n",
      "lag_file.write('tophat completed')\n",
      "lag_file.close()\n",
      "if os.path.exists('dummy.txt'):\n",
      "    os.system('cufflinks -p 3 -G ref/zv.gtf -o cufflinks/6h/ tophat/6h/accepted_hits.bam')"
     ],
     "language": "python",
     "metadata": {},
     "outputs": [],
     "prompt_number": 31
    },
    {
     "cell_type": "code",
     "collapsed": true,
     "input": [
      "for sample in ('2cells','6h'):\n",
      "    os.system('tophat -p 3 -T -G ref/zv.gtf -o tophat/'+sample+' ref/zv data/'+sample+'_1.fastq data/'+sample+'_2.fastq')\n",
      "    os.system('cufflinks -p 3 -G ref/zv.gtf -o cufflinks/'+sample+' tophat/'+sample+'/accepted_hits.bam')"
     ],
     "language": "python",
     "metadata": {},
     "outputs": []
    },
    {
     "cell_type": "code",
     "collapsed": true,
     "input": [
      "!cuffdiff -o cuffdiff/ -T ref/zv.gtf tophat/2cells/accepted_hits.bam tophat/6h/accepted_hits.bam"
     ],
     "language": "python",
     "metadata": {},
     "outputs": [
      {
       "output_type": "stream",
       "stream": "stdout",
       "text": [
        "Warning: Your version of Cufflinks is not up-to-date. It is recommended that you upgrade to Cufflinks v2.2.1 to benefit from the most recent features and bug fixes (http://cufflinks.cbcb.umd.edu).\n",
        "[16:34:15] Loading reference annotation."
       ]
      },
      {
       "output_type": "stream",
       "stream": "stdout",
       "text": [
        "Warning: No conditions are replicated, switching to 'blind' dispersion method\n",
        "[16:34:15] Inspecting maps and determining fragment length distributions."
       ]
      },
      {
       "output_type": "stream",
       "stream": "stdout",
       "text": [
        "[16:34:54] Modeling fragment count overdispersion."
       ]
      },
      {
       "output_type": "stream",
       "stream": "stdout",
       "text": [
        "> Map Properties:\n",
        ">\tNormalized Map Mass: 624975.02\n",
        ">\tRaw Map Mass: 673036.74\n",
        ">\tFragment Length Distribution: Empirical (learned)\n",
        ">\t              Estimated Mean: 341.67\n",
        ">\t           Estimated Std Dev: 39.76\n",
        "> Map Properties:\n",
        ">\tNormalized Map Mass: 624975.02\n",
        ">\tRaw Map Mass: 578446.09\n",
        ">\tFragment Length Distribution: Empirical (learned)\n",
        ">\t              Estimated Mean: 381.82\n",
        ">\t           Estimated Std Dev: 47.63\n",
        "[16:38:14] Calculating preliminary abundance estimates\n",
        "[16:38:14] Testing for differential expression and regulation in locus."
       ]
      },
      {
       "output_type": "stream",
       "stream": "stdout",
       "text": [
        "\n",
        "> Processing Locus 12:9744-12421               [                         ]   0%"
       ]
      },
      {
       "output_type": "stream",
       "stream": "stdout",
       "text": [
        "\n",
        "> Processing Locus 12:13020-19331              [                         ]   0%"
       ]
      },
      {
       "output_type": "stream",
       "stream": "stdout",
       "text": [
        "\n",
        "> Processing Locus 12:60926-65852              [                         ]   0%"
       ]
      },
      {
       "output_type": "stream",
       "stream": "stdout",
       "text": [
        "\n",
        "> Processing Locus 12:67544-75100              [                         ]   0%"
       ]
      },
      {
       "output_type": "stream",
       "stream": "stdout",
       "text": [
        "\n",
        "> Processing Locus 12:76855-77855              [                         ]   0%"
       ]
      },
      {
       "output_type": "stream",
       "stream": "stdout",
       "text": [
        "\n",
        "> Processing Locus 12:123320-124786            [                         ]   0%"
       ]
      },
      {
       "output_type": "stream",
       "stream": "stdout",
       "text": [
        "\n",
        "> Processing Locus 12:146320-164385            [                         ]   0%"
       ]
      },
      {
       "output_type": "stream",
       "stream": "stdout",
       "text": [
        "\n",
        "> Processing Locus 12:166218-168805            [                         ]   0%"
       ]
      },
      {
       "output_type": "stream",
       "stream": "stdout",
       "text": [
        "\n",
        "> Processing Locus 12:170940-173483            [                         ]   0%"
       ]
      },
      {
       "output_type": "stream",
       "stream": "stdout",
       "text": [
        "\n",
        "> Processing Locus 12:193337-221746            [                         ]   1%"
       ]
      },
      {
       "output_type": "stream",
       "stream": "stdout",
       "text": [
        "\n",
        "> Processing Locus 12:227140-235068            [                         ]   1%"
       ]
      },
      {
       "output_type": "stream",
       "stream": "stdout",
       "text": [
        "\n",
        "> Processing Locus 12:243755-245102            [                         ]   1%"
       ]
      },
      {
       "output_type": "stream",
       "stream": "stdout",
       "text": [
        "\n",
        "> Processing Locus 12:255852-262584            [                         ]   1%"
       ]
      },
      {
       "output_type": "stream",
       "stream": "stdout",
       "text": [
        "\n",
        "> Processing Locus 12:276710-286621            [                         ]   1%"
       ]
      },
      {
       "output_type": "stream",
       "stream": "stdout",
       "text": [
        "\n",
        "> Processing Locus 12:286933-290974            [                         ]   1%"
       ]
      },
      {
       "output_type": "stream",
       "stream": "stdout",
       "text": [
        "\n",
        "> Processing Locus 12:291810-294220            [                         ]   1%"
       ]
      },
      {
       "output_type": "stream",
       "stream": "stdout",
       "text": [
        "\n",
        "> Processing Locus 12:308608-310111            [                         ]   1%"
       ]
      },
      {
       "output_type": "stream",
       "stream": "stdout",
       "text": [
        "\n",
        "> Processing Locus 12:324151-326612            [                         ]   1%"
       ]
      },
      {
       "output_type": "stream",
       "stream": "stdout",
       "text": [
        "\n",
        "> Processing Locus 12:327932-331844            [                         ]   2%"
       ]
      },
      {
       "output_type": "stream",
       "stream": "stdout",
       "text": [
        "\n",
        "> Processing Locus 12:333834-341979            [                         ]   2%"
       ]
      },
      {
       "output_type": "stream",
       "stream": "stdout",
       "text": [
        "\n",
        "> Processing Locus 12:401969-418038            [                         ]   2%"
       ]
      },
      {
       "output_type": "stream",
       "stream": "stdout",
       "text": [
        "\n",
        "> Processing Locus 12:427677-443023            [                         ]   2%"
       ]
      },
      {
       "output_type": "stream",
       "stream": "stdout",
       "text": [
        "\n",
        "> Processing Locus 12:467425-475881            [                         ]   2%"
       ]
      },
      {
       "output_type": "stream",
       "stream": "stdout",
       "text": [
        "\n",
        "> Processing Locus 12:477574-715250            [                         ]   2%"
       ]
      },
      {
       "output_type": "stream",
       "stream": "stdout",
       "text": [
        "\n",
        "> Processing Locus 12:790715-802675            [                         ]   2%"
       ]
      },
      {
       "output_type": "stream",
       "stream": "stdout",
       "text": [
        "\n",
        "> Processing Locus 12:805223-853452            [                         ]   2%"
       ]
      },
      {
       "output_type": "stream",
       "stream": "stdout",
       "text": [
        "\n",
        "> Processing Locus 12:855598-881371            [                         ]   2%"
       ]
      },
      {
       "output_type": "stream",
       "stream": "stdout",
       "text": [
        "\n",
        "> Processing Locus 12:922360-983336            [                         ]   3%"
       ]
      },
      {
       "output_type": "stream",
       "stream": "stdout",
       "text": [
        "\n",
        "> Processing Locus 12:1001867-1005311          [                         ]   3%"
       ]
      },
      {
       "output_type": "stream",
       "stream": "stdout",
       "text": [
        "\n",
        "> Processing Locus 12:1044227-1047498          [                         ]   3%"
       ]
      },
      {
       "output_type": "stream",
       "stream": "stdout",
       "text": [
        "\n",
        "> Processing Locus 12:1114948-1146977          [                         ]   3%"
       ]
      },
      {
       "output_type": "stream",
       "stream": "stdout",
       "text": [
        "\n",
        "> Processing Locus 12:1150761-1154073          [                         ]   3%"
       ]
      },
      {
       "output_type": "stream",
       "stream": "stdout",
       "text": [
        "\n",
        "> Processing Locus 12:1169792-1176743          [                         ]   3%"
       ]
      },
      {
       "output_type": "stream",
       "stream": "stdout",
       "text": [
        "\n",
        "> Processing Locus 12:1179913-1187113          [                         ]   3%"
       ]
      },
      {
       "output_type": "stream",
       "stream": "stdout",
       "text": [
        "\n",
        "> Processing Locus 12:1189612-1196817          [                         ]   3%"
       ]
      },
      {
       "output_type": "stream",
       "stream": "stdout",
       "text": [
        "\n",
        "> Processing Locus 12:1197580-1207219          [                         ]   3%"
       ]
      },
      {
       "output_type": "stream",
       "stream": "stdout",
       "text": [
        "\n",
        "> Processing Locus 12:1211474-1229025          [*                        ]   4%"
       ]
      },
      {
       "output_type": "stream",
       "stream": "stdout",
       "text": [
        "\n",
        "> Processing Locus 12:1235497-1251201          [*                        ]   4%"
       ]
      },
      {
       "output_type": "stream",
       "stream": "stdout",
       "text": [
        "\n",
        "> Processing Locus 12:1265809-1275218          [*                        ]   4%"
       ]
      },
      {
       "output_type": "stream",
       "stream": "stdout",
       "text": [
        "\n",
        "> Processing Locus 12:1282666-1290341          [*                        ]   4%"
       ]
      },
      {
       "output_type": "stream",
       "stream": "stdout",
       "text": [
        "\n",
        "> Processing Locus 12:1302571-1337149          [*                        ]   4%"
       ]
      },
      {
       "output_type": "stream",
       "stream": "stdout",
       "text": [
        "\n",
        "> Processing Locus 12:1447223-1447733          [*                        ]   4%"
       ]
      },
      {
       "output_type": "stream",
       "stream": "stdout",
       "text": [
        "\n",
        "> Processing Locus 12:1490996-1566132          [*                        ]   4%"
       ]
      },
      {
       "output_type": "stream",
       "stream": "stdout",
       "text": [
        "\n",
        "> Processing Locus 12:1576091-1577692          [*                        ]   4%"
       ]
      },
      {
       "output_type": "stream",
       "stream": "stdout",
       "text": [
        "\n",
        "> Processing Locus 12:1651261-1659300          [*                        ]   4%"
       ]
      },
      {
       "output_type": "stream",
       "stream": "stdout",
       "text": [
        "\n",
        "> Processing Locus 12:1668260-1668377          [*                        ]   5%"
       ]
      },
      {
       "output_type": "stream",
       "stream": "stdout",
       "text": [
        "\n",
        "> Processing Locus 12:1670427-1703832          [*                        ]   5%"
       ]
      },
      {
       "output_type": "stream",
       "stream": "stdout",
       "text": [
        "\n",
        "> Processing Locus 12:1733462-1734602          [*                        ]   5%"
       ]
      },
      {
       "output_type": "stream",
       "stream": "stdout",
       "text": [
        "\n",
        "> Processing Locus 12:1769461-1787100          [*                        ]   5%"
       ]
      },
      {
       "output_type": "stream",
       "stream": "stdout",
       "text": [
        "\n",
        "> Processing Locus 12:1930128-1930767          [*                        ]   5%"
       ]
      },
      {
       "output_type": "stream",
       "stream": "stdout",
       "text": [
        "\n",
        "> Processing Locus 12:2151821-2157414          [*                        ]   5%"
       ]
      },
      {
       "output_type": "stream",
       "stream": "stdout",
       "text": [
        "\n",
        "> Processing Locus 12:2623803-2635119          [*                        ]   5%"
       ]
      },
      {
       "output_type": "stream",
       "stream": "stdout",
       "text": [
        "\n",
        "> Processing Locus 12:2645049-2650806          [*                        ]   5%"
       ]
      },
      {
       "output_type": "stream",
       "stream": "stdout",
       "text": [
        "\n",
        "> Processing Locus 12:2666839-2683025          [*                        ]   5%"
       ]
      },
      {
       "output_type": "stream",
       "stream": "stdout",
       "text": [
        "\n",
        "> Processing Locus 12:2694573-2695341          [*                        ]   6%"
       ]
      },
      {
       "output_type": "stream",
       "stream": "stdout",
       "text": [
        "\n",
        "> Processing Locus 12:2711673-2761051          [*                        ]   6%"
       ]
      },
      {
       "output_type": "stream",
       "stream": "stdout",
       "text": [
        "\n",
        "> Processing Locus 12:2770277-2787246          [*                        ]   6%"
       ]
      },
      {
       "output_type": "stream",
       "stream": "stdout",
       "text": [
        "\n",
        "> Processing Locus 12:2796385-2832924          [*                        ]   6%"
       ]
      },
      {
       "output_type": "stream",
       "stream": "stdout",
       "text": [
        "\n",
        "> Processing Locus 12:2841702-2841914          [*                        ]   6%"
       ]
      },
      {
       "output_type": "stream",
       "stream": "stdout",
       "text": [
        "\n",
        "> Processing Locus 12:2848500-2848712          [*                        ]   6%"
       ]
      },
      {
       "output_type": "stream",
       "stream": "stdout",
       "text": [
        "\n",
        "> Processing Locus 12:2881853-2881999          [*                        ]   6%\n",
        "> Processing Locus 12:2883126-2883290          [*                        ]   6%"
       ]
      },
      {
       "output_type": "stream",
       "stream": "stdout",
       "text": [
        "\n",
        "> Processing Locus 12:2884417-2884581          [*                        ]   6%"
       ]
      },
      {
       "output_type": "stream",
       "stream": "stdout",
       "text": [
        "\n",
        "> Processing Locus 12:2885708-2885872          [*                        ]   7%"
       ]
      },
      {
       "output_type": "stream",
       "stream": "stdout",
       "text": [
        "\n",
        "> Processing Locus 12:2887553-2887717          [*                        ]   7%\n",
        "> Processing Locus 12:2888844-2889008          [*                        ]   7%"
       ]
      },
      {
       "output_type": "stream",
       "stream": "stdout",
       "text": [
        "\n",
        "> Processing Locus 12:2890135-2890299          [*                        ]   7%"
       ]
      },
      {
       "output_type": "stream",
       "stream": "stdout",
       "text": [
        "\n",
        "> Processing Locus 12:2891426-2891590          [*                        ]   7%"
       ]
      },
      {
       "output_type": "stream",
       "stream": "stdout",
       "text": [
        "\n",
        "> Processing Locus 12:2893276-2893440          [*                        ]   7%"
       ]
      },
      {
       "output_type": "stream",
       "stream": "stdout",
       "text": [
        "\n",
        "> Processing Locus 12:2894567-2894731          [*                        ]   7%\n",
        "> Processing Locus 12:2895857-2896021          [*                        ]   7%"
       ]
      },
      {
       "output_type": "stream",
       "stream": "stdout",
       "text": [
        "\n",
        "> Processing Locus 12:2897148-2897312          [*                        ]   7%"
       ]
      },
      {
       "output_type": "stream",
       "stream": "stdout",
       "text": [
        "\n",
        "> Processing Locus 12:2898439-2898603          [**                       ]   8%"
       ]
      },
      {
       "output_type": "stream",
       "stream": "stdout",
       "text": [
        "\n",
        "> Processing Locus 12:2899730-2899894          [**                       ]   8%\n",
        "> Processing Locus 12:2901021-2901185          [**                       ]   8%"
       ]
      },
      {
       "output_type": "stream",
       "stream": "stdout",
       "text": [
        "\n",
        "> Processing Locus 12:2902871-2903035          [**                       ]   8%"
       ]
      },
      {
       "output_type": "stream",
       "stream": "stdout",
       "text": [
        "\n",
        "> Processing Locus 12:2904162-2904326          [**                       ]   8%"
       ]
      },
      {
       "output_type": "stream",
       "stream": "stdout",
       "text": [
        "\n",
        "> Processing Locus 12:2905453-2905617          [**                       ]   8%"
       ]
      },
      {
       "output_type": "stream",
       "stream": "stdout",
       "text": [
        "\n",
        "> Processing Locus 12:2907302-2907466          [**                       ]   8%"
       ]
      },
      {
       "output_type": "stream",
       "stream": "stdout",
       "text": [
        "\n",
        "> Processing Locus 12:2908593-2908757          [**                       ]   8%"
       ]
      },
      {
       "output_type": "stream",
       "stream": "stdout",
       "text": [
        "\n",
        "> Processing Locus 12:2909884-2910048          [**                       ]   8%"
       ]
      },
      {
       "output_type": "stream",
       "stream": "stdout",
       "text": [
        "\n",
        "> Processing Locus 12:2911175-2911339          [**                       ]   9%"
       ]
      },
      {
       "output_type": "stream",
       "stream": "stdout",
       "text": [
        "\n",
        "> Processing Locus 12:2912466-2912630          [**                       ]   9%"
       ]
      },
      {
       "output_type": "stream",
       "stream": "stdout",
       "text": [
        "\n",
        "> Processing Locus 12:2913757-2913921          [**                       ]   9%"
       ]
      },
      {
       "output_type": "stream",
       "stream": "stdout",
       "text": [
        "\n",
        "> Processing Locus 12:2915048-2915212          [**                       ]   9%"
       ]
      },
      {
       "output_type": "stream",
       "stream": "stdout",
       "text": [
        "\n",
        "> Processing Locus 12:2916339-2916503          [**                       ]   9%\n",
        "> Processing Locus 12:2917630-2917794          [**                       ]   9%"
       ]
      },
      {
       "output_type": "stream",
       "stream": "stdout",
       "text": [
        "\n",
        "> Processing Locus 12:2918921-2919085          [**                       ]   9%"
       ]
      },
      {
       "output_type": "stream",
       "stream": "stdout",
       "text": [
        "\n",
        "> Processing Locus 12:2920212-2920361          [**                       ]   9%"
       ]
      },
      {
       "output_type": "stream",
       "stream": "stdout",
       "text": [
        "\n",
        "> Processing Locus 12:2978981-2980247          [**                       ]   9%"
       ]
      },
      {
       "output_type": "stream",
       "stream": "stdout",
       "text": [
        "\n",
        "> Processing Locus 12:2994654-3062179          [**                       ]  10%"
       ]
      },
      {
       "output_type": "stream",
       "stream": "stdout",
       "text": [
        "\n",
        "> Processing Locus 12:3071233-3071382          [**                       ]  10%"
       ]
      },
      {
       "output_type": "stream",
       "stream": "stdout",
       "text": [
        "\n",
        "> Processing Locus 12:3076672-3076774          [**                       ]  10%"
       ]
      },
      {
       "output_type": "stream",
       "stream": "stdout",
       "text": [
        "\n",
        "> Processing Locus 12:3088450-3092807          [**                       ]  10%"
       ]
      },
      {
       "output_type": "stream",
       "stream": "stdout",
       "text": [
        "\n",
        "> Processing Locus 12:3099565-3099633          [**                       ]  10%"
       ]
      },
      {
       "output_type": "stream",
       "stream": "stdout",
       "text": [
        "\n",
        "> Processing Locus 12:3102450-3102557          [**                       ]  10%"
       ]
      },
      {
       "output_type": "stream",
       "stream": "stdout",
       "text": [
        "\n",
        "> Processing Locus 12:3102980-3103086          [**                       ]  10%"
       ]
      },
      {
       "output_type": "stream",
       "stream": "stdout",
       "text": [
        "\n",
        "> Processing Locus 12:3103493-3103600          [**                       ]  10%"
       ]
      },
      {
       "output_type": "stream",
       "stream": "stdout",
       "text": [
        "\n",
        "> Processing Locus 12:3104022-3104129          [**                       ]  10%"
       ]
      },
      {
       "output_type": "stream",
       "stream": "stdout",
       "text": [
        "\n",
        "> Processing Locus 12:3104532-3104639          [**                       ]  11%\n",
        "> Processing Locus 12:3105060-3105167          [**                       ]  11%"
       ]
      },
      {
       "output_type": "stream",
       "stream": "stdout",
       "text": [
        "\n",
        "> Processing Locus 12:3105589-3105696          [**                       ]  11%"
       ]
      },
      {
       "output_type": "stream",
       "stream": "stdout",
       "text": [
        "\n",
        "> Processing Locus 12:3113644-3123671          [**                       ]  11%"
       ]
      },
      {
       "output_type": "stream",
       "stream": "stdout",
       "text": [
        "\n",
        "> Processing Locus 12:3146964-3152410          [**                       ]  11%\n",
        "> Processing Locus 12:3210070-3223907          [**                       ]  11%"
       ]
      },
      {
       "output_type": "stream",
       "stream": "stdout",
       "text": [
        "\n",
        "> Processing Locus 12:3226309-3229543          [**                       ]  11%"
       ]
      },
      {
       "output_type": "stream",
       "stream": "stdout",
       "text": [
        "\n",
        "> Processing Locus 12:3238996-3248423          [**                       ]  11%"
       ]
      },
      {
       "output_type": "stream",
       "stream": "stdout",
       "text": [
        "\n",
        "> Processing Locus 12:3256043-3322913          [**                       ]  11%"
       ]
      },
      {
       "output_type": "stream",
       "stream": "stdout",
       "text": [
        "\n",
        "> Processing Locus 12:3358456-3379126          [***                      ]  12%"
       ]
      },
      {
       "output_type": "stream",
       "stream": "stdout",
       "text": [
        "\n",
        "> Processing Locus 12:3382819-3426149          [***                      ]  12%"
       ]
      },
      {
       "output_type": "stream",
       "stream": "stdout",
       "text": [
        "\n",
        "> Processing Locus 12:3428429-3447830          [***                      ]  12%"
       ]
      },
      {
       "output_type": "stream",
       "stream": "stdout",
       "text": [
        "\n",
        "> Processing Locus 12:3448944-3487535          [***                      ]  12%"
       ]
      },
      {
       "output_type": "stream",
       "stream": "stdout",
       "text": [
        "\n",
        "> Processing Locus 12:3498356-3531817          [***                      ]  12%\n",
        "> Processing Locus 12:3575076-3575159          [***                      ]  12%"
       ]
      },
      {
       "output_type": "stream",
       "stream": "stdout",
       "text": [
        "\n",
        "> Processing Locus 12:3587633-3611303          [***                      ]  12%"
       ]
      },
      {
       "output_type": "stream",
       "stream": "stdout",
       "text": [
        "\n",
        "> Processing Locus 12:3614628-3633775          [***                      ]  12%"
       ]
      },
      {
       "output_type": "stream",
       "stream": "stdout",
       "text": [
        "\n",
        "> Processing Locus 12:3635054-3645629          [***                      ]  12%"
       ]
      },
      {
       "output_type": "stream",
       "stream": "stdout",
       "text": [
        "\n",
        "> Processing Locus 12:3646186-3669142          [***                      ]  13%"
       ]
      },
      {
       "output_type": "stream",
       "stream": "stdout",
       "text": [
        "\n",
        "> Processing Locus 12:3669967-3684771          [***                      ]  13%"
       ]
      },
      {
       "output_type": "stream",
       "stream": "stdout",
       "text": [
        "\n",
        "> Processing Locus 12:3687445-3725230          [***                      ]  13%"
       ]
      },
      {
       "output_type": "stream",
       "stream": "stdout",
       "text": [
        "\n",
        "> Processing Locus 12:3804709-3893083          [***                      ]  13%"
       ]
      },
      {
       "output_type": "stream",
       "stream": "stdout",
       "text": [
        "\n",
        "> Processing Locus 12:3895082-3904611          [***                      ]  13%"
       ]
      },
      {
       "output_type": "stream",
       "stream": "stdout",
       "text": [
        "\n",
        "> Processing Locus 12:3908437-3972617          [***                      ]  13%"
       ]
      },
      {
       "output_type": "stream",
       "stream": "stdout",
       "text": [
        "\n",
        "> Processing Locus 12:3989448-3990759          [***                      ]  13%"
       ]
      },
      {
       "output_type": "stream",
       "stream": "stdout",
       "text": [
        "\n",
        "> Processing Locus 12:4106671-4116149          [***                      ]  13%"
       ]
      },
      {
       "output_type": "stream",
       "stream": "stdout",
       "text": [
        "\n",
        "> Processing Locus 12:4165758-4168586          [***                      ]  13%"
       ]
      },
      {
       "output_type": "stream",
       "stream": "stdout",
       "text": [
        "\n",
        "> Processing Locus 12:4172322-4234230          [***                      ]  14%"
       ]
      },
      {
       "output_type": "stream",
       "stream": "stdout",
       "text": [
        "\n",
        "> Processing Locus 12:4246402-4257283          [***                      ]  14%"
       ]
      },
      {
       "output_type": "stream",
       "stream": "stdout",
       "text": [
        "\n",
        "> Processing Locus 12:4295286-4295892          [***                      ]  14%"
       ]
      },
      {
       "output_type": "stream",
       "stream": "stdout",
       "text": [
        "\n",
        "> Processing Locus 12:4304206-4312087          [***                      ]  14%"
       ]
      },
      {
       "output_type": "stream",
       "stream": "stdout",
       "text": [
        "\n",
        "> Processing Locus 12:4314051-4322109          [***                      ]  14%"
       ]
      },
      {
       "output_type": "stream",
       "stream": "stdout",
       "text": [
        "\n",
        "> Processing Locus 12:4330734-4346535          [***                      ]  14%"
       ]
      },
      {
       "output_type": "stream",
       "stream": "stdout",
       "text": [
        "\n",
        "> Processing Locus 12:4357263-4363999          [***                      ]  14%"
       ]
      },
      {
       "output_type": "stream",
       "stream": "stdout",
       "text": [
        "\n",
        "> Processing Locus 12:4472424-4521177          [***                      ]  14%"
       ]
      },
      {
       "output_type": "stream",
       "stream": "stdout",
       "text": [
        "\n",
        "> Processing Locus 12:4528621-4542272          [***                      ]  14%"
       ]
      },
      {
       "output_type": "stream",
       "stream": "stdout",
       "text": [
        "\n",
        "> Processing Locus 12:4551964-4590070          [***                      ]  15%"
       ]
      },
      {
       "output_type": "stream",
       "stream": "stdout",
       "text": [
        "\n",
        "> Processing Locus 12:4593056-4603583          [***                      ]  15%"
       ]
      },
      {
       "output_type": "stream",
       "stream": "stdout",
       "text": [
        "\n",
        "> Processing Locus 12:4606663-4621281          [***                      ]  15%"
       ]
      },
      {
       "output_type": "stream",
       "stream": "stdout",
       "text": [
        "\n",
        "> Processing Locus 12:4624741-4642885          [***                      ]  15%"
       ]
      },
      {
       "output_type": "stream",
       "stream": "stdout",
       "text": [
        "\n",
        "> Processing Locus 12:4644863-4658855          [***                      ]  15%"
       ]
      },
      {
       "output_type": "stream",
       "stream": "stdout",
       "text": [
        "\n",
        "> Processing Locus 12:4662406-4672847          [***                      ]  15%"
       ]
      },
      {
       "output_type": "stream",
       "stream": "stdout",
       "text": [
        "\n",
        "> Processing Locus 12:4679664-4708549          [***                      ]  15%"
       ]
      },
      {
       "output_type": "stream",
       "stream": "stdout",
       "text": [
        "\n",
        "> Processing Locus 12:4716921-4724645          [***                      ]  15%"
       ]
      },
      {
       "output_type": "stream",
       "stream": "stdout",
       "text": [
        "\n",
        "> Processing Locus 12:4732692-4750571          [***                      ]  15%"
       ]
      },
      {
       "output_type": "stream",
       "stream": "stdout",
       "text": [
        "\n",
        "> Processing Locus 12:4794913-4825546          [****                     ]  16%"
       ]
      },
      {
       "output_type": "stream",
       "stream": "stdout",
       "text": [
        "\n",
        "> Processing Locus 12:4851433-4856845          [****                     ]  16%"
       ]
      },
      {
       "output_type": "stream",
       "stream": "stdout",
       "text": [
        "\n",
        "> Processing Locus 12:4861211-4865724          [****                     ]  16%"
       ]
      },
      {
       "output_type": "stream",
       "stream": "stdout",
       "text": [
        "\n",
        "> Processing Locus 12:4874939-4880241          [****                     ]  16%"
       ]
      },
      {
       "output_type": "stream",
       "stream": "stdout",
       "text": [
        "\n",
        "> Processing Locus 12:4882338-4887382          [****                     ]  16%"
       ]
      },
      {
       "output_type": "stream",
       "stream": "stdout",
       "text": [
        "\n",
        "> Processing Locus 12:4895557-4919340          [****                     ]  16%"
       ]
      },
      {
       "output_type": "stream",
       "stream": "stdout",
       "text": [
        "\n",
        "> Processing Locus 12:4921970-4929515          [****                     ]  16%"
       ]
      },
      {
       "output_type": "stream",
       "stream": "stdout",
       "text": [
        "\n",
        "> Processing Locus 12:4941293-4958844          [****                     ]  16%"
       ]
      },
      {
       "output_type": "stream",
       "stream": "stdout",
       "text": [
        "\n",
        "> Processing Locus 12:4967080-4967195          [****                     ]  16%"
       ]
      },
      {
       "output_type": "stream",
       "stream": "stdout",
       "text": [
        "\n",
        "> Processing Locus 12:4975645-4982067          [****                     ]  17%"
       ]
      },
      {
       "output_type": "stream",
       "stream": "stdout",
       "text": [
        "\n",
        "> Processing Locus 12:4989243-4997880          [****                     ]  17%"
       ]
      },
      {
       "output_type": "stream",
       "stream": "stdout",
       "text": [
        "\n",
        "> Processing Locus 12:5000892-5011829          [****                     ]  17%"
       ]
      },
      {
       "output_type": "stream",
       "stream": "stdout",
       "text": [
        "\n",
        "> Processing Locus 12:5019026-5026800          [****                     ]  17%"
       ]
      },
      {
       "output_type": "stream",
       "stream": "stdout",
       "text": [
        "\n",
        "> Processing Locus 12:5041529-5051301          [****                     ]  17%"
       ]
      },
      {
       "output_type": "stream",
       "stream": "stdout",
       "text": [
        "\n",
        "> Processing Locus 12:5058010-5064488          [****                     ]  17%"
       ]
      },
      {
       "output_type": "stream",
       "stream": "stdout",
       "text": [
        "\n",
        "> Processing Locus 12:5077022-5155903          [****                     ]  17%"
       ]
      },
      {
       "output_type": "stream",
       "stream": "stdout",
       "text": [
        "\n",
        "> Processing Locus 12:5161544-5167506          [****                     ]  17%"
       ]
      },
      {
       "output_type": "stream",
       "stream": "stdout",
       "text": [
        "\n",
        "> Processing Locus 12:5197474-5249432          [****                     ]  17%"
       ]
      },
      {
       "output_type": "stream",
       "stream": "stdout",
       "text": [
        "\n",
        "> Processing Locus 12:5254811-5288928          [****                     ]  18%"
       ]
      },
      {
       "output_type": "stream",
       "stream": "stdout",
       "text": [
        "\n",
        "> Processing Locus 12:5306591-5333949          [****                     ]  18%"
       ]
      },
      {
       "output_type": "stream",
       "stream": "stdout",
       "text": [
        "\n",
        "> Processing Locus 12:5347852-5377926          [****                     ]  18%"
       ]
      },
      {
       "output_type": "stream",
       "stream": "stdout",
       "text": [
        "\n",
        "> Processing Locus 12:5385665-5755325          [****                     ]  18%"
       ]
      },
      {
       "output_type": "stream",
       "stream": "stdout",
       "text": [
        "\n",
        "> Processing Locus 12:5758855-5773588          [****                     ]  18%"
       ]
      },
      {
       "output_type": "stream",
       "stream": "stdout",
       "text": [
        "\n",
        "> Processing Locus 12:5786161-5809921          [****                     ]  18%"
       ]
      },
      {
       "output_type": "stream",
       "stream": "stdout",
       "text": [
        "\n",
        "> Processing Locus 12:5811857-5873392          [****                     ]  18%"
       ]
      },
      {
       "output_type": "stream",
       "stream": "stdout",
       "text": [
        "\n",
        "> Processing Locus 12:5895112-5937544          [****                     ]  18%"
       ]
      },
      {
       "output_type": "stream",
       "stream": "stdout",
       "text": [
        "\n",
        "> Processing Locus 12:5941025-5946088          [****                     ]  18%"
       ]
      },
      {
       "output_type": "stream",
       "stream": "stdout",
       "text": [
        "\n",
        "> Processing Locus 12:5949933-5957014          [****                     ]  19%"
       ]
      },
      {
       "output_type": "stream",
       "stream": "stdout",
       "text": [
        "\n",
        "> Processing Locus 12:5964502-5988747          [****                     ]  19%"
       ]
      },
      {
       "output_type": "stream",
       "stream": "stdout",
       "text": [
        "\n",
        "> Processing Locus 12:6003439-6012547          [****                     ]  19%"
       ]
      },
      {
       "output_type": "stream",
       "stream": "stdout",
       "text": [
        "\n",
        "> Processing Locus 12:6016976-6021136          [****                     ]  19%"
       ]
      },
      {
       "output_type": "stream",
       "stream": "stdout",
       "text": [
        "\n",
        "> Processing Locus 12:6022734-6040033          [****                     ]  19%"
       ]
      },
      {
       "output_type": "stream",
       "stream": "stdout",
       "text": [
        "\n",
        "> Processing Locus 12:6057526-6066666          [****                     ]  19%"
       ]
      },
      {
       "output_type": "stream",
       "stream": "stdout",
       "text": [
        "\n",
        "> Processing Locus 12:6074361-6077882          [****                     ]  19%"
       ]
      },
      {
       "output_type": "stream",
       "stream": "stdout",
       "text": [
        "\n",
        "> Processing Locus 12:6089183-6089293          [****                     ]  19%"
       ]
      },
      {
       "output_type": "stream",
       "stream": "stdout",
       "text": [
        "\n",
        "> Processing Locus 12:6123104-6201705          [*****                    ]  20%"
       ]
      },
      {
       "output_type": "stream",
       "stream": "stdout",
       "text": [
        "\n",
        "> Processing Locus 12:6204221-6256035          [*****                    ]  20%"
       ]
      },
      {
       "output_type": "stream",
       "stream": "stdout",
       "text": [
        "\n",
        "> Processing Locus 12:6281100-6293478          [*****                    ]  20%"
       ]
      },
      {
       "output_type": "stream",
       "stream": "stdout",
       "text": [
        "\n",
        "> Processing Locus 12:6326578-6327805          [*****                    ]  20%"
       ]
      },
      {
       "output_type": "stream",
       "stream": "stdout",
       "text": [
        "\n",
        "> Processing Locus 12:6330710-6364880          [*****                    ]  20%"
       ]
      },
      {
       "output_type": "stream",
       "stream": "stdout",
       "text": [
        "\n",
        "> Processing Locus 12:6367941-6386602          [*****                    ]  20%"
       ]
      },
      {
       "output_type": "stream",
       "stream": "stdout",
       "text": [
        "\n",
        "> Processing Locus 12:6391776-6427874          [*****                    ]  20%"
       ]
      },
      {
       "output_type": "stream",
       "stream": "stdout",
       "text": [
        "\n",
        "> Processing Locus 12:6664828-6682434          [*****                    ]  20%"
       ]
      },
      {
       "output_type": "stream",
       "stream": "stdout",
       "text": [
        "\n",
        "> Processing Locus 12:6686362-6690031          [*****                    ]  20%"
       ]
      },
      {
       "output_type": "stream",
       "stream": "stdout",
       "text": [
        "\n",
        "> Processing Locus 12:6706733-6717343          [*****                    ]  21%"
       ]
      },
      {
       "output_type": "stream",
       "stream": "stdout",
       "text": [
        "\n",
        "> Processing Locus 12:6725070-6731782          [*****                    ]  21%"
       ]
      },
      {
       "output_type": "stream",
       "stream": "stdout",
       "text": [
        "\n",
        "> Processing Locus 12:6732850-6746824          [*****                    ]  21%"
       ]
      },
      {
       "output_type": "stream",
       "stream": "stdout",
       "text": [
        "\n",
        "> Processing Locus 12:6749156-6797792          [*****                    ]  21%"
       ]
      },
      {
       "output_type": "stream",
       "stream": "stdout",
       "text": [
        "\n",
        "> Processing Locus 12:6801177-6826667          [*****                    ]  21%"
       ]
      },
      {
       "output_type": "stream",
       "stream": "stdout",
       "text": [
        "\n",
        "> Processing Locus 12:6844616-6855650          [*****                    ]  21%"
       ]
      },
      {
       "output_type": "stream",
       "stream": "stdout",
       "text": [
        "\n",
        "> Processing Locus 12:6897536-7134602          [*****                    ]  21%"
       ]
      },
      {
       "output_type": "stream",
       "stream": "stdout",
       "text": [
        "\n",
        "> Processing Locus 12:7149322-7151441          [*****                    ]  21%"
       ]
      },
      {
       "output_type": "stream",
       "stream": "stdout",
       "text": [
        "\n",
        "> Processing Locus 12:7226554-7233508          [*****                    ]  21%"
       ]
      },
      {
       "output_type": "stream",
       "stream": "stdout",
       "text": [
        "\n",
        "> Processing Locus 12:7249998-7502180          [*****                    ]  22%"
       ]
      },
      {
       "output_type": "stream",
       "stream": "stdout",
       "text": [
        "\n",
        "> Processing Locus 12:7865690-7906665          [*****                    ]  22%"
       ]
      },
      {
       "output_type": "stream",
       "stream": "stdout",
       "text": [
        "\n",
        "> Processing Locus 12:7909576-7925181          [*****                    ]  22%"
       ]
      },
      {
       "output_type": "stream",
       "stream": "stdout",
       "text": [
        "\n",
        "> Processing Locus 12:7926022-7935861          [*****                    ]  22%"
       ]
      },
      {
       "output_type": "stream",
       "stream": "stdout",
       "text": [
        "\n",
        "> Processing Locus 12:7940899-7953126          [*****                    ]  22%"
       ]
      },
      {
       "output_type": "stream",
       "stream": "stdout",
       "text": [
        "\n",
        "> Processing Locus 12:8012554-8106125          [*****                    ]  22%"
       ]
      },
      {
       "output_type": "stream",
       "stream": "stdout",
       "text": [
        "\n",
        "> Processing Locus 12:8116233-8184433          [*****                    ]  22%"
       ]
      },
      {
       "output_type": "stream",
       "stream": "stdout",
       "text": [
        "\n",
        "> Processing Locus 12:8230522-8230660          [*****                    ]  22%"
       ]
      },
      {
       "output_type": "stream",
       "stream": "stdout",
       "text": [
        "\n",
        "> Processing Locus 12:8248792-8266826          [*****                    ]  22%"
       ]
      },
      {
       "output_type": "stream",
       "stream": "stdout",
       "text": [
        "\n",
        "> Processing Locus 12:8269641-8299247          [*****                    ]  23%"
       ]
      },
      {
       "output_type": "stream",
       "stream": "stdout",
       "text": [
        "\n",
        "> Processing Locus 12:8316471-8556992          [*****                    ]  23%"
       ]
      },
      {
       "output_type": "stream",
       "stream": "stdout",
       "text": [
        "\n",
        "> Processing Locus 12:8666334-8701514          [*****                    ]  23%"
       ]
      },
      {
       "output_type": "stream",
       "stream": "stdout",
       "text": [
        "\n",
        "> Processing Locus 12:8726451-8733388          [*****                    ]  23%"
       ]
      },
      {
       "output_type": "stream",
       "stream": "stdout",
       "text": [
        "\n",
        "> Processing Locus 12:8736830-8771779          [*****                    ]  23%"
       ]
      },
      {
       "output_type": "stream",
       "stream": "stdout",
       "text": [
        "\n",
        "> Processing Locus 12:8809621-8815589          [*****                    ]  23%"
       ]
      },
      {
       "output_type": "stream",
       "stream": "stdout",
       "text": [
        "\n",
        "> Processing Locus 12:8822179-8854582          [*****                    ]  23%"
       ]
      },
      {
       "output_type": "stream",
       "stream": "stdout",
       "text": [
        "\n",
        "> Processing Locus 12:8859125-8884567          [*****                    ]  23%"
       ]
      },
      {
       "output_type": "stream",
       "stream": "stdout",
       "text": [
        "\n",
        "> Processing Locus 12:8926218-9140030          [*****                    ]  23%"
       ]
      },
      {
       "output_type": "stream",
       "stream": "stdout",
       "text": [
        "\n",
        "> Processing Locus 12:9229069-9230709          [******                   ]  24%"
       ]
      },
      {
       "output_type": "stream",
       "stream": "stdout",
       "text": [
        "\n",
        "> Processing Locus 12:9238039-9258480          [******                   ]  24%"
       ]
      },
      {
       "output_type": "stream",
       "stream": "stdout",
       "text": [
        "\n",
        "> Processing Locus 12:9323886-9333929          [******                   ]  24%"
       ]
      },
      {
       "output_type": "stream",
       "stream": "stdout",
       "text": [
        "\n",
        "> Processing Locus 12:9336268-9572004          [******                   ]  24%"
       ]
      },
      {
       "output_type": "stream",
       "stream": "stdout",
       "text": [
        "\n",
        "> Processing Locus 12:9576918-9636388          [******                   ]  24%"
       ]
      },
      {
       "output_type": "stream",
       "stream": "stdout",
       "text": [
        "\n",
        "> Processing Locus 12:9708962-9712555          [******                   ]  24%"
       ]
      },
      {
       "output_type": "stream",
       "stream": "stdout",
       "text": [
        "\n",
        "> Processing Locus 12:9723647-9841768          [******                   ]  24%"
       ]
      },
      {
       "output_type": "stream",
       "stream": "stdout",
       "text": [
        "\n",
        "> Processing Locus 12:9851164-9886884          [******                   ]  24%"
       ]
      },
      {
       "output_type": "stream",
       "stream": "stdout",
       "text": [
        "\n",
        "> Processing Locus 12:9937827-9972460          [******                   ]  24%"
       ]
      },
      {
       "output_type": "stream",
       "stream": "stdout",
       "text": [
        "\n",
        "> Processing Locus 12:10004830-10006253        [******                   ]  25%"
       ]
      },
      {
       "output_type": "stream",
       "stream": "stdout",
       "text": [
        "\n",
        "> Processing Locus 12:10009339-10049021        [******                   ]  25%"
       ]
      },
      {
       "output_type": "stream",
       "stream": "stdout",
       "text": [
        "\n",
        "> Processing Locus 12:10060033-10070004        [******                   ]  25%"
       ]
      },
      {
       "output_type": "stream",
       "stream": "stdout",
       "text": [
        "\n",
        "> Processing Locus 12:10074986-10101529        [******                   ]  25%"
       ]
      },
      {
       "output_type": "stream",
       "stream": "stdout",
       "text": [
        "\n",
        "> Processing Locus 12:10108665-10192429        [******                   ]  25%"
       ]
      },
      {
       "output_type": "stream",
       "stream": "stdout",
       "text": [
        "\n",
        "> Processing Locus 12:10203868-10222820        [******                   ]  25%"
       ]
      },
      {
       "output_type": "stream",
       "stream": "stdout",
       "text": [
        "\n",
        "> Processing Locus 12:10251847-10264605        [******                   ]  25%"
       ]
      },
      {
       "output_type": "stream",
       "stream": "stdout",
       "text": [
        "\n",
        "> Processing Locus 12:10264674-10271183        [******                   ]  25%"
       ]
      },
      {
       "output_type": "stream",
       "stream": "stdout",
       "text": [
        "\n",
        "> Processing Locus 12:10273405-10284926        [******                   ]  25%"
       ]
      },
      {
       "output_type": "stream",
       "stream": "stdout",
       "text": [
        "\n",
        "> Processing Locus 12:10293248-10335629        [******                   ]  26%"
       ]
      },
      {
       "output_type": "stream",
       "stream": "stdout",
       "text": [
        "\n",
        "> Processing Locus 12:10348439-10365535        [******                   ]  26%"
       ]
      },
      {
       "output_type": "stream",
       "stream": "stdout",
       "text": [
        "\n",
        "> Processing Locus 12:10367954-10449359        [******                   ]  26%"
       ]
      },
      {
       "output_type": "stream",
       "stream": "stdout",
       "text": [
        "\n",
        "> Processing Locus 12:10451824-10751893        [******                   ]  26%"
       ]
      },
      {
       "output_type": "stream",
       "stream": "stdout",
       "text": [
        "\n",
        "> Processing Locus 12:10756258-10770972        [******                   ]  26%"
       ]
      },
      {
       "output_type": "stream",
       "stream": "stdout",
       "text": [
        "\n",
        "> Processing Locus 12:10792174-10815554        [******                   ]  26%"
       ]
      },
      {
       "output_type": "stream",
       "stream": "stdout",
       "text": [
        "\n",
        "> Processing Locus 12:10824210-10850807        [******                   ]  26%"
       ]
      },
      {
       "output_type": "stream",
       "stream": "stdout",
       "text": [
        "\n",
        "> Processing Locus 12:10855555-10859059        [******                   ]  26%"
       ]
      },
      {
       "output_type": "stream",
       "stream": "stdout",
       "text": [
        "\n",
        "> Processing Locus 12:10925522-10987495        [******                   ]  26%"
       ]
      },
      {
       "output_type": "stream",
       "stream": "stdout",
       "text": [
        "\n",
        "> Processing Locus 12:11029477-11060288        [******                   ]  27%"
       ]
      },
      {
       "output_type": "stream",
       "stream": "stdout",
       "text": [
        "\n",
        "> Processing Locus 12:11132937-11179590        [******                   ]  27%"
       ]
      },
      {
       "output_type": "stream",
       "stream": "stdout",
       "text": [
        "\n",
        "> Processing Locus 12:11195997-11208784        [******                   ]  27%"
       ]
      },
      {
       "output_type": "stream",
       "stream": "stdout",
       "text": [
        "\n",
        "> Processing Locus 12:11213660-11240031        [******                   ]  27%"
       ]
      },
      {
       "output_type": "stream",
       "stream": "stdout",
       "text": [
        "\n",
        "> Processing Locus 12:11242670-11254577        [******                   ]  27%"
       ]
      },
      {
       "output_type": "stream",
       "stream": "stdout",
       "text": [
        "\n",
        "> Processing Locus 12:11278304-11379187        [******                   ]  27%"
       ]
      },
      {
       "output_type": "stream",
       "stream": "stdout",
       "text": [
        "\n",
        "> Processing Locus 12:11383809-11392494        [******                   ]  27%"
       ]
      },
      {
       "output_type": "stream",
       "stream": "stdout",
       "text": [
        "\n",
        "> Processing Locus 12:11416759-11431087        [******                   ]  27%"
       ]
      },
      {
       "output_type": "stream",
       "stream": "stdout",
       "text": [
        "\n",
        "> Processing Locus 12:11432418-11445055        [******                   ]  27%"
       ]
      },
      {
       "output_type": "stream",
       "stream": "stdout",
       "text": [
        "\n",
        "> Processing Locus 12:11446921-11459480        [*******                  ]  28%"
       ]
      },
      {
       "output_type": "stream",
       "stream": "stdout",
       "text": [
        "\n",
        "> Processing Locus 12:11461042-11489056        [*******                  ]  28%"
       ]
      },
      {
       "output_type": "stream",
       "stream": "stdout",
       "text": [
        "\n",
        "> Processing Locus 12:11491524-11500999        [*******                  ]  28%"
       ]
      },
      {
       "output_type": "stream",
       "stream": "stdout",
       "text": [
        "\n",
        "> Processing Locus 12:11503761-11520747        [*******                  ]  28%"
       ]
      },
      {
       "output_type": "stream",
       "stream": "stdout",
       "text": [
        "\n",
        "> Processing Locus 12:11522961-11526255        [*******                  ]  28%"
       ]
      },
      {
       "output_type": "stream",
       "stream": "stdout",
       "text": [
        "\n",
        "> Processing Locus 12:11527053-11541586        [*******                  ]  28%"
       ]
      },
      {
       "output_type": "stream",
       "stream": "stdout",
       "text": [
        "\n",
        "> Processing Locus 12:11543982-11555534        [*******                  ]  28%"
       ]
      },
      {
       "output_type": "stream",
       "stream": "stdout",
       "text": [
        "\n",
        "> Processing Locus 12:11558023-11591997        [*******                  ]  28%"
       ]
      },
      {
       "output_type": "stream",
       "stream": "stdout",
       "text": [
        "\n",
        "> Processing Locus 12:11596558-11646274        [*******                  ]  28%"
       ]
      },
      {
       "output_type": "stream",
       "stream": "stdout",
       "text": [
        "\n",
        "> Processing Locus 12:11687820-11688621        [*******                  ]  29%"
       ]
      },
      {
       "output_type": "stream",
       "stream": "stdout",
       "text": [
        "\n",
        "> Processing Locus 12:11702255-11719558        [*******                  ]  29%"
       ]
      },
      {
       "output_type": "stream",
       "stream": "stdout",
       "text": [
        "\n",
        "> Processing Locus 12:12186819-12263281        [*******                  ]  29%"
       ]
      },
      {
       "output_type": "stream",
       "stream": "stdout",
       "text": [
        "\n",
        "> Processing Locus 12:12273913-12304820        [*******                  ]  29%"
       ]
      },
      {
       "output_type": "stream",
       "stream": "stdout",
       "text": [
        "\n",
        "> Processing Locus 12:12350957-12364448        [*******                  ]  29%"
       ]
      },
      {
       "output_type": "stream",
       "stream": "stdout",
       "text": [
        "\n",
        "> Processing Locus 12:12368997-12412810        [*******                  ]  29%"
       ]
      },
      {
       "output_type": "stream",
       "stream": "stdout",
       "text": [
        "\n",
        "> Processing Locus 12:12421892-12455943        [*******                  ]  29%"
       ]
      },
      {
       "output_type": "stream",
       "stream": "stdout",
       "text": [
        "\n",
        "> Processing Locus 12:12458673-12477335        [*******                  ]  29%"
       ]
      },
      {
       "output_type": "stream",
       "stream": "stdout",
       "text": [
        "\n",
        "> Processing Locus 12:12494767-12563669        [*******                  ]  29%"
       ]
      },
      {
       "output_type": "stream",
       "stream": "stdout",
       "text": [
        "\n",
        "> Processing Locus 12:12602783-12699480        [*******                  ]  30%"
       ]
      },
      {
       "output_type": "stream",
       "stream": "stdout",
       "text": [
        "\n",
        "> Processing Locus 12:12707602-12755734        [*******                  ]  30%"
       ]
      },
      {
       "output_type": "stream",
       "stream": "stdout",
       "text": [
        "\n",
        "> Processing Locus 12:12756189-12869702        [*******                  ]  30%"
       ]
      },
      {
       "output_type": "stream",
       "stream": "stdout",
       "text": [
        "\n",
        "> Processing Locus 12:12874157-12874933        [*******                  ]  30%"
       ]
      },
      {
       "output_type": "stream",
       "stream": "stdout",
       "text": [
        "\n",
        "> Processing Locus 12:13441259-13441375        [*******                  ]  30%"
       ]
      },
      {
       "output_type": "stream",
       "stream": "stdout",
       "text": [
        "\n",
        "> Processing Locus 12:13608981-13939048        [*******                  ]  30%"
       ]
      },
      {
       "output_type": "stream",
       "stream": "stdout",
       "text": [
        "\n",
        "> Processing Locus 12:14061723-14149717        [*******                  ]  30%"
       ]
      },
      {
       "output_type": "stream",
       "stream": "stdout",
       "text": [
        "\n",
        "> Processing Locus 12:14198022-14211632        [*******                  ]  30%"
       ]
      },
      {
       "output_type": "stream",
       "stream": "stdout",
       "text": [
        "\n",
        "> Processing Locus 12:14224583-14270293        [*******                  ]  30%"
       ]
      },
      {
       "output_type": "stream",
       "stream": "stdout",
       "text": [
        "\n",
        "> Processing Locus 12:14270749-14282903        [*******                  ]  31%"
       ]
      },
      {
       "output_type": "stream",
       "stream": "stdout",
       "text": [
        "\n",
        "> Processing Locus 12:14294659-14311898        [*******                  ]  31%"
       ]
      },
      {
       "output_type": "stream",
       "stream": "stdout",
       "text": [
        "\n",
        "> Processing Locus 12:14311998-14329493        [*******                  ]  31%"
       ]
      },
      {
       "output_type": "stream",
       "stream": "stdout",
       "text": [
        "\n",
        "> Processing Locus 12:14350469-14367789        [*******                  ]  31%"
       ]
      },
      {
       "output_type": "stream",
       "stream": "stdout",
       "text": [
        "\n",
        "> Processing Locus 12:14388840-14412927        [*******                  ]  31%"
       ]
      },
      {
       "output_type": "stream",
       "stream": "stdout",
       "text": [
        "\n",
        "> Processing Locus 12:14417982-14425013        [*******                  ]  31%"
       ]
      },
      {
       "output_type": "stream",
       "stream": "stdout",
       "text": [
        "\n",
        "> Processing Locus 12:14425175-14443081        [*******                  ]  31%"
       ]
      },
      {
       "output_type": "stream",
       "stream": "stdout",
       "text": [
        "\n",
        "> Processing Locus 12:14450939-14495828        [*******                  ]  31%"
       ]
      },
      {
       "output_type": "stream",
       "stream": "stdout",
       "text": [
        "\n",
        "> Processing Locus 12:14511488-14582132        [*******                  ]  31%"
       ]
      },
      {
       "output_type": "stream",
       "stream": "stdout",
       "text": [
        "\n",
        "> Processing Locus 12:14633465-14655582        [********                 ]  32%"
       ]
      },
      {
       "output_type": "stream",
       "stream": "stdout",
       "text": [
        "\n",
        "> Processing Locus 12:14670400-14756344        [********                 ]  32%"
       ]
      },
      {
       "output_type": "stream",
       "stream": "stdout",
       "text": [
        "\n",
        "> Processing Locus 12:14761756-14827869        [********                 ]  32%"
       ]
      },
      {
       "output_type": "stream",
       "stream": "stdout",
       "text": [
        "\n",
        "> Processing Locus 12:14830592-14835309        [********                 ]  32%"
       ]
      },
      {
       "output_type": "stream",
       "stream": "stdout",
       "text": [
        "\n",
        "> Processing Locus 12:14873213-14894393        [********                 ]  32%"
       ]
      },
      {
       "output_type": "stream",
       "stream": "stdout",
       "text": [
        "\n",
        "> Processing Locus 12:14914051-14992773        [********                 ]  32%"
       ]
      },
      {
       "output_type": "stream",
       "stream": "stdout",
       "text": [
        "\n",
        "> Processing Locus 12:14995962-15007861        [********                 ]  32%"
       ]
      },
      {
       "output_type": "stream",
       "stream": "stdout",
       "text": [
        "\n",
        "> Processing Locus 12:15011329-15063081        [********                 ]  32%"
       ]
      },
      {
       "output_type": "stream",
       "stream": "stdout",
       "text": [
        "\n",
        "> Processing Locus 12:15067311-15072228        [********                 ]  32%"
       ]
      },
      {
       "output_type": "stream",
       "stream": "stdout",
       "text": [
        "\n",
        "> Processing Locus 12:15080443-15180550        [********                 ]  33%"
       ]
      },
      {
       "output_type": "stream",
       "stream": "stdout",
       "text": [
        "\n",
        "> Processing Locus 12:15193458-15236502        [********                 ]  33%"
       ]
      },
      {
       "output_type": "stream",
       "stream": "stdout",
       "text": [
        "\n",
        "> Processing Locus 12:15256086-15268821        [********                 ]  33%"
       ]
      },
      {
       "output_type": "stream",
       "stream": "stdout",
       "text": [
        "\n",
        "> Processing Locus 12:15283494-15317111        [********                 ]  33%"
       ]
      },
      {
       "output_type": "stream",
       "stream": "stdout",
       "text": [
        "\n",
        "> Processing Locus 12:15320798-15416005        [********                 ]  33%"
       ]
      },
      {
       "output_type": "stream",
       "stream": "stdout",
       "text": [
        "\n",
        "> Processing Locus 12:15513877-15582940        [********                 ]  33%"
       ]
      },
      {
       "output_type": "stream",
       "stream": "stdout",
       "text": [
        "\n",
        "> Processing Locus 12:15620662-15624213        [********                 ]  33%"
       ]
      },
      {
       "output_type": "stream",
       "stream": "stdout",
       "text": [
        "\n",
        "> Processing Locus 12:15799602-15802414        [********                 ]  33%"
       ]
      },
      {
       "output_type": "stream",
       "stream": "stdout",
       "text": [
        "\n",
        "> Processing Locus 12:15845100-15882130        [********                 ]  33%"
       ]
      },
      {
       "output_type": "stream",
       "stream": "stdout",
       "text": [
        "\n",
        "> Processing Locus 12:15882267-15890507        [********                 ]  34%"
       ]
      },
      {
       "output_type": "stream",
       "stream": "stdout",
       "text": [
        "\n",
        "> Processing Locus 12:16028128-16075734        [********                 ]  34%"
       ]
      },
      {
       "output_type": "stream",
       "stream": "stdout",
       "text": [
        "\n",
        "> Processing Locus 12:16077367-16084598        [********                 ]  34%"
       ]
      },
      {
       "output_type": "stream",
       "stream": "stdout",
       "text": [
        "\n",
        "> Processing Locus 12:16137531-16158552        [********                 ]  34%"
       ]
      },
      {
       "output_type": "stream",
       "stream": "stdout",
       "text": [
        "\n",
        "> Processing Locus 12:16210190-16308190        [********                 ]  34%"
       ]
      },
      {
       "output_type": "stream",
       "stream": "stdout",
       "text": [
        "\n",
        "> Processing Locus 12:16369025-16407653        [********                 ]  34%"
       ]
      },
      {
       "output_type": "stream",
       "stream": "stdout",
       "text": [
        "\n",
        "> Processing Locus 12:16412071-16413832        [********                 ]  34%"
       ]
      },
      {
       "output_type": "stream",
       "stream": "stdout",
       "text": [
        "\n",
        "> Processing Locus 12:16415488-16466818        [********                 ]  34%"
       ]
      },
      {
       "output_type": "stream",
       "stream": "stdout",
       "text": [
        "\n",
        "> Processing Locus 12:16469878-16510140        [********                 ]  34%"
       ]
      },
      {
       "output_type": "stream",
       "stream": "stdout",
       "text": [
        "\n",
        "> Processing Locus 12:16513676-16523013        [********                 ]  35%"
       ]
      },
      {
       "output_type": "stream",
       "stream": "stdout",
       "text": [
        "\n",
        "> Processing Locus 12:16537111-16670195        [********                 ]  35%"
       ]
      },
      {
       "output_type": "stream",
       "stream": "stdout",
       "text": [
        "\n",
        "> Processing Locus 12:17134602-17155977        [********                 ]  35%"
       ]
      },
      {
       "output_type": "stream",
       "stream": "stdout",
       "text": [
        "\n",
        "> Processing Locus 12:17158556-17173902        [********                 ]  35%"
       ]
      },
      {
       "output_type": "stream",
       "stream": "stdout",
       "text": [
        "\n",
        "> Processing Locus 12:17177969-17193993        [********                 ]  35%"
       ]
      },
      {
       "output_type": "stream",
       "stream": "stdout",
       "text": [
        "\n",
        "> Processing Locus 12:17206811-17275590        [********                 ]  35%"
       ]
      },
      {
       "output_type": "stream",
       "stream": "stdout",
       "text": [
        "\n",
        "> Processing Locus 12:17311638-17349353        [********                 ]  35%"
       ]
      },
      {
       "output_type": "stream",
       "stream": "stdout",
       "text": [
        "\n",
        "> Processing Locus 12:17355565-17359765        [********                 ]  35%"
       ]
      },
      {
       "output_type": "stream",
       "stream": "stdout",
       "text": [
        "\n",
        "> Processing Locus 12:17404492-17451722        [********                 ]  35%"
       ]
      },
      {
       "output_type": "stream",
       "stream": "stdout",
       "text": [
        "\n",
        "> Processing Locus 12:17477079-17506355        [*********                ]  36%"
       ]
      },
      {
       "output_type": "stream",
       "stream": "stdout",
       "text": [
        "\n",
        "> Processing Locus 12:17512187-17523634        [*********                ]  36%"
       ]
      },
      {
       "output_type": "stream",
       "stream": "stdout",
       "text": [
        "\n",
        "> Processing Locus 12:17524028-17550668        [*********                ]  36%"
       ]
      },
      {
       "output_type": "stream",
       "stream": "stdout",
       "text": [
        "\n",
        "> Processing Locus 12:17583550-17586054        [*********                ]  36%"
       ]
      },
      {
       "output_type": "stream",
       "stream": "stdout",
       "text": [
        "\n",
        "> Processing Locus 12:17617377-17619247        [*********                ]  36%"
       ]
      },
      {
       "output_type": "stream",
       "stream": "stdout",
       "text": [
        "\n",
        "> Processing Locus 12:17648251-17648368        [*********                ]  36%"
       ]
      },
      {
       "output_type": "stream",
       "stream": "stdout",
       "text": [
        "\n",
        "> Processing Locus 12:17659766-17662116        [*********                ]  36%"
       ]
      },
      {
       "output_type": "stream",
       "stream": "stdout",
       "text": [
        "\n",
        "> Processing Locus 12:17665694-17665809        [*********                ]  36%"
       ]
      },
      {
       "output_type": "stream",
       "stream": "stdout",
       "text": [
        "\n",
        "> Processing Locus 12:17684089-17686709        [*********                ]  36%"
       ]
      },
      {
       "output_type": "stream",
       "stream": "stdout",
       "text": [
        "\n",
        "> Processing Locus 12:17701517-17703564        [*********                ]  37%"
       ]
      },
      {
       "output_type": "stream",
       "stream": "stdout",
       "text": [
        "\n",
        "> Processing Locus 12:17758537-18018797        [*********                ]  37%"
       ]
      },
      {
       "output_type": "stream",
       "stream": "stdout",
       "text": [
        "\n",
        "> Processing Locus 12:18020366-18031792        [*********                ]  37%"
       ]
      },
      {
       "output_type": "stream",
       "stream": "stdout",
       "text": [
        "\n",
        "> Processing Locus 12:18034666-18053920        [*********                ]  37%"
       ]
      },
      {
       "output_type": "stream",
       "stream": "stdout",
       "text": [
        "\n",
        "> Processing Locus 12:18054321-18057848        [*********                ]  37%"
       ]
      },
      {
       "output_type": "stream",
       "stream": "stdout",
       "text": [
        "\n",
        "> Processing Locus 12:18087724-18090939        [*********                ]  37%"
       ]
      },
      {
       "output_type": "stream",
       "stream": "stdout",
       "text": [
        "\n",
        "> Processing Locus 12:18093073-18094522        [*********                ]  37%\n",
        "> Processing Locus 12:18100490-18107181        [*********                ]  37%"
       ]
      },
      {
       "output_type": "stream",
       "stream": "stdout",
       "text": [
        "\n",
        "> Processing Locus 12:18109708-18110818        [*********                ]  37%"
       ]
      },
      {
       "output_type": "stream",
       "stream": "stdout",
       "text": [
        "\n",
        "> Processing Locus 12:18167910-18183279        [*********                ]  38%"
       ]
      },
      {
       "output_type": "stream",
       "stream": "stdout",
       "text": [
        "\n",
        "> Processing Locus 12:18186480-18214945        [*********                ]  38%"
       ]
      },
      {
       "output_type": "stream",
       "stream": "stdout",
       "text": [
        "\n",
        "> Processing Locus 12:18222326-18226154        [*********                ]  38%"
       ]
      },
      {
       "output_type": "stream",
       "stream": "stdout",
       "text": [
        "\n",
        "> Processing Locus 12:18226190-18268577        [*********                ]  38%"
       ]
      },
      {
       "output_type": "stream",
       "stream": "stdout",
       "text": [
        "\n",
        "> Processing Locus 12:18269075-18390890        [*********                ]  38%"
       ]
      },
      {
       "output_type": "stream",
       "stream": "stdout",
       "text": [
        "\n",
        "> Processing Locus 12:18413098-18413216        [*********                ]  38%"
       ]
      },
      {
       "output_type": "stream",
       "stream": "stdout",
       "text": [
        "\n",
        "> Processing Locus 12:18467400-18491711        [*********                ]  38%"
       ]
      },
      {
       "output_type": "stream",
       "stream": "stdout",
       "text": [
        "\n",
        "> Processing Locus 12:18504452-18523624        [*********                ]  38%"
       ]
      },
      {
       "output_type": "stream",
       "stream": "stdout",
       "text": [
        "\n",
        "> Processing Locus 12:18526497-18546627        [*********                ]  38%"
       ]
      },
      {
       "output_type": "stream",
       "stream": "stdout",
       "text": [
        "\n",
        "> Processing Locus 12:18550155-18560434        [*********                ]  39%"
       ]
      },
      {
       "output_type": "stream",
       "stream": "stdout",
       "text": [
        "\n",
        "> Processing Locus 12:18572390-18628451        [*********                ]  39%"
       ]
      },
      {
       "output_type": "stream",
       "stream": "stdout",
       "text": [
        "\n",
        "> Processing Locus 12:18638223-18642320        [*********                ]  39%"
       ]
      },
      {
       "output_type": "stream",
       "stream": "stdout",
       "text": [
        "\n",
        "> Processing Locus 12:18642460-18670507        [*********                ]  39%"
       ]
      },
      {
       "output_type": "stream",
       "stream": "stdout",
       "text": [
        "\n",
        "> Processing Locus 12:18671076-18687073        [*********                ]  39%"
       ]
      },
      {
       "output_type": "stream",
       "stream": "stdout",
       "text": [
        "\n",
        "> Processing Locus 12:18687615-18723232        [*********                ]  39%"
       ]
      },
      {
       "output_type": "stream",
       "stream": "stdout",
       "text": [
        "\n",
        "> Processing Locus 12:18724772-18753953        [*********                ]  39%"
       ]
      },
      {
       "output_type": "stream",
       "stream": "stdout",
       "text": [
        "\n",
        "> Processing Locus 12:18763655-18766066        [*********                ]  39%"
       ]
      },
      {
       "output_type": "stream",
       "stream": "stdout",
       "text": [
        "\n",
        "> Processing Locus 12:18772766-18775066        [**********               ]  40%"
       ]
      },
      {
       "output_type": "stream",
       "stream": "stdout",
       "text": [
        "\n",
        "> Processing Locus 12:18777973-18780047        [**********               ]  40%"
       ]
      },
      {
       "output_type": "stream",
       "stream": "stdout",
       "text": [
        "\n",
        "> Processing Locus 12:18795076-18795200        [**********               ]  40%"
       ]
      },
      {
       "output_type": "stream",
       "stream": "stdout",
       "text": [
        "\n",
        "> Processing Locus 12:18822353-18824381        [**********               ]  40%"
       ]
      },
      {
       "output_type": "stream",
       "stream": "stdout",
       "text": [
        "\n",
        "> Processing Locus 12:18829496-18865039        [**********               ]  40%"
       ]
      },
      {
       "output_type": "stream",
       "stream": "stdout",
       "text": [
        "\n",
        "> Processing Locus 12:18870612-18891767        [**********               ]  40%"
       ]
      },
      {
       "output_type": "stream",
       "stream": "stdout",
       "text": [
        "\n",
        "> Processing Locus 12:18894722-18902196        [**********               ]  40%"
       ]
      },
      {
       "output_type": "stream",
       "stream": "stdout",
       "text": [
        "\n",
        "> Processing Locus 12:18916675-18924401        [**********               ]  40%"
       ]
      },
      {
       "output_type": "stream",
       "stream": "stdout",
       "text": [
        "\n",
        "> Processing Locus 12:18939736-18940692        [**********               ]  40%"
       ]
      },
      {
       "output_type": "stream",
       "stream": "stdout",
       "text": [
        "\n",
        "> Processing Locus 12:18958215-19130119        [**********               ]  41%"
       ]
      },
      {
       "output_type": "stream",
       "stream": "stdout",
       "text": [
        "\n",
        "> Processing Locus 12:19261370-19372778        [**********               ]  41%"
       ]
      },
      {
       "output_type": "stream",
       "stream": "stdout",
       "text": [
        "\n",
        "> Processing Locus 12:19384152-19388117        [**********               ]  41%"
       ]
      },
      {
       "output_type": "stream",
       "stream": "stdout",
       "text": [
        "\n",
        "> Processing Locus 12:19402635-19434531        [**********               ]  41%"
       ]
      },
      {
       "output_type": "stream",
       "stream": "stdout",
       "text": [
        "\n",
        "> Processing Locus 12:19436572-19440504        [**********               ]  41%"
       ]
      },
      {
       "output_type": "stream",
       "stream": "stdout",
       "text": [
        "\n",
        "> Processing Locus 12:19471691-19480386        [**********               ]  41%"
       ]
      },
      {
       "output_type": "stream",
       "stream": "stdout",
       "text": [
        "\n",
        "> Processing Locus 12:19484792-19490756        [**********               ]  41%"
       ]
      },
      {
       "output_type": "stream",
       "stream": "stdout",
       "text": [
        "\n",
        "> Processing Locus 12:19494642-19540535        [**********               ]  41%"
       ]
      },
      {
       "output_type": "stream",
       "stream": "stdout",
       "text": [
        "\n",
        "> Processing Locus 12:19550956-19553182        [**********               ]  41%"
       ]
      },
      {
       "output_type": "stream",
       "stream": "stdout",
       "text": [
        "\n",
        "> Processing Locus 12:19555275-19557908        [**********               ]  42%"
       ]
      },
      {
       "output_type": "stream",
       "stream": "stdout",
       "text": [
        "\n",
        "> Processing Locus 12:19559159-19569440        [**********               ]  42%"
       ]
      },
      {
       "output_type": "stream",
       "stream": "stdout",
       "text": [
        "\n",
        "> Processing Locus 12:19569747-19586399        [**********               ]  42%"
       ]
      },
      {
       "output_type": "stream",
       "stream": "stdout",
       "text": [
        "\n",
        "> Processing Locus 12:19591517-19594799        [**********               ]  42%"
       ]
      },
      {
       "output_type": "stream",
       "stream": "stdout",
       "text": [
        "\n",
        "> Processing Locus 12:19597419-19604397        [**********               ]  42%"
       ]
      },
      {
       "output_type": "stream",
       "stream": "stdout",
       "text": [
        "\n",
        "> Processing Locus 12:19624814-19624929        [**********               ]  42%"
       ]
      },
      {
       "output_type": "stream",
       "stream": "stdout",
       "text": [
        "\n",
        "> Processing Locus 12:19632104-19682203        [**********               ]  42%"
       ]
      },
      {
       "output_type": "stream",
       "stream": "stdout",
       "text": [
        "\n",
        "> Processing Locus 12:19689380-19692247        [**********               ]  42%"
       ]
      },
      {
       "output_type": "stream",
       "stream": "stdout",
       "text": [
        "\n",
        "> Processing Locus 12:19707440-19743624        [**********               ]  42%"
       ]
      },
      {
       "output_type": "stream",
       "stream": "stdout",
       "text": [
        "\n",
        "> Processing Locus 12:19758746-19813282        [**********               ]  43%"
       ]
      },
      {
       "output_type": "stream",
       "stream": "stdout",
       "text": [
        "\n",
        "> Processing Locus 12:19821708-19898460        [**********               ]  43%"
       ]
      },
      {
       "output_type": "stream",
       "stream": "stdout",
       "text": [
        "\n",
        "> Processing Locus 12:19921621-19924440        [**********               ]  43%"
       ]
      },
      {
       "output_type": "stream",
       "stream": "stdout",
       "text": [
        "\n",
        "> Processing Locus 12:19925437-19930336        [**********               ]  43%"
       ]
      },
      {
       "output_type": "stream",
       "stream": "stdout",
       "text": [
        "\n",
        "> Processing Locus 12:19932455-19939359        [**********               ]  43%"
       ]
      },
      {
       "output_type": "stream",
       "stream": "stdout",
       "text": [
        "\n",
        "> Processing Locus 12:19942493-19948227        [**********               ]  43%"
       ]
      },
      {
       "output_type": "stream",
       "stream": "stdout",
       "text": [
        "\n",
        "> Processing Locus 12:19953029-20057773        [**********               ]  43%"
       ]
      },
      {
       "output_type": "stream",
       "stream": "stdout",
       "text": [
        "\n",
        "> Processing Locus 12:20067174-20084778        [**********               ]  43%"
       ]
      },
      {
       "output_type": "stream",
       "stream": "stdout",
       "text": [
        "\n",
        "> Processing Locus 12:20085767-20101940        [**********               ]  43%"
       ]
      },
      {
       "output_type": "stream",
       "stream": "stdout",
       "text": [
        "\n",
        "> Processing Locus 12:20104207-20124350        [***********              ]  44%"
       ]
      },
      {
       "output_type": "stream",
       "stream": "stdout",
       "text": [
        "\n",
        "> Processing Locus 12:20125566-20131812        [***********              ]  44%"
       ]
      },
      {
       "output_type": "stream",
       "stream": "stdout",
       "text": [
        "\n",
        "> Processing Locus 12:20132932-20157715        [***********              ]  44%"
       ]
      },
      {
       "output_type": "stream",
       "stream": "stdout",
       "text": [
        "\n",
        "> Processing Locus 12:20161960-20187267        [***********              ]  44%"
       ]
      },
      {
       "output_type": "stream",
       "stream": "stdout",
       "text": [
        "\n",
        "> Processing Locus 12:20195547-20199677        [***********              ]  44%"
       ]
      },
      {
       "output_type": "stream",
       "stream": "stdout",
       "text": [
        "\n",
        "> Processing Locus 12:20202852-20215498        [***********              ]  44%"
       ]
      },
      {
       "output_type": "stream",
       "stream": "stdout",
       "text": [
        "\n",
        "> Processing Locus 12:20234733-20239974        [***********              ]  44%"
       ]
      },
      {
       "output_type": "stream",
       "stream": "stdout",
       "text": [
        "\n",
        "> Processing Locus 12:20241114-20249459        [***********              ]  44%"
       ]
      },
      {
       "output_type": "stream",
       "stream": "stdout",
       "text": [
        "\n",
        "> Processing Locus 12:20252400-20280910        [***********              ]  44%"
       ]
      },
      {
       "output_type": "stream",
       "stream": "stdout",
       "text": [
        "\n",
        "> Processing Locus 12:20284823-20287961        [***********              ]  45%"
       ]
      },
      {
       "output_type": "stream",
       "stream": "stdout",
       "text": [
        "\n",
        "> Processing Locus 12:20290317-20300726        [***********              ]  45%"
       ]
      },
      {
       "output_type": "stream",
       "stream": "stdout",
       "text": [
        "\n",
        "> Processing Locus 12:20304804-20328658        [***********              ]  45%"
       ]
      },
      {
       "output_type": "stream",
       "stream": "stdout",
       "text": [
        "\n",
        "> Processing Locus 12:20333934-20340600        [***********              ]  45%"
       ]
      },
      {
       "output_type": "stream",
       "stream": "stdout",
       "text": [
        "\n",
        "> Processing Locus 12:20371742-20375265        [***********              ]  45%"
       ]
      },
      {
       "output_type": "stream",
       "stream": "stdout",
       "text": [
        "\n",
        "> Processing Locus 12:20378878-20396632        [***********              ]  45%"
       ]
      },
      {
       "output_type": "stream",
       "stream": "stdout",
       "text": [
        "\n",
        "> Processing Locus 12:20401737-20414656        [***********              ]  45%"
       ]
      },
      {
       "output_type": "stream",
       "stream": "stdout",
       "text": [
        "\n",
        "> Processing Locus 12:20416938-20436502        [***********              ]  45%"
       ]
      },
      {
       "output_type": "stream",
       "stream": "stdout",
       "text": [
        "\n",
        "> Processing Locus 12:20437067-20442960        [***********              ]  45%"
       ]
      },
      {
       "output_type": "stream",
       "stream": "stdout",
       "text": [
        "\n",
        "> Processing Locus 12:20444819-20450053        [***********              ]  46%"
       ]
      },
      {
       "output_type": "stream",
       "stream": "stdout",
       "text": [
        "\n",
        "> Processing Locus 12:20452904-20458468        [***********              ]  46%"
       ]
      },
      {
       "output_type": "stream",
       "stream": "stdout",
       "text": [
        "\n",
        "> Processing Locus 12:20458616-20480227        [***********              ]  46%"
       ]
      },
      {
       "output_type": "stream",
       "stream": "stdout",
       "text": [
        "\n",
        "> Processing Locus 12:20480933-20490249        [***********              ]  46%"
       ]
      },
      {
       "output_type": "stream",
       "stream": "stdout",
       "text": [
        "\n",
        "> Processing Locus 12:20504976-20755537        [***********              ]  46%"
       ]
      },
      {
       "output_type": "stream",
       "stream": "stdout",
       "text": [
        "\n",
        "> Processing Locus 12:20888562-20961867        [***********              ]  46%"
       ]
      },
      {
       "output_type": "stream",
       "stream": "stdout",
       "text": [
        "\n",
        "> Processing Locus 12:20963146-21028053        [***********              ]  46%"
       ]
      },
      {
       "output_type": "stream",
       "stream": "stdout",
       "text": [
        "\n",
        "> Processing Locus 12:21055318-21070814        [***********              ]  46%"
       ]
      },
      {
       "output_type": "stream",
       "stream": "stdout",
       "text": [
        "\n",
        "> Processing Locus 12:21088441-21140514        [***********              ]  46%"
       ]
      },
      {
       "output_type": "stream",
       "stream": "stdout",
       "text": [
        "\n",
        "> Processing Locus 12:21156342-21171520        [***********              ]  47%"
       ]
      },
      {
       "output_type": "stream",
       "stream": "stdout",
       "text": [
        "\n",
        "> Processing Locus 12:21195126-21216993        [***********              ]  47%"
       ]
      },
      {
       "output_type": "stream",
       "stream": "stdout",
       "text": [
        "\n",
        "> Processing Locus 12:21218752-21441409        [***********              ]  47%"
       ]
      },
      {
       "output_type": "stream",
       "stream": "stdout",
       "text": [
        "\n",
        "> Processing Locus 12:21473585-21473707        [***********              ]  47%"
       ]
      },
      {
       "output_type": "stream",
       "stream": "stdout",
       "text": [
        "\n",
        "> Processing Locus 12:21541661-21541779        [***********              ]  47%"
       ]
      },
      {
       "output_type": "stream",
       "stream": "stdout",
       "text": [
        "\n",
        "> Processing Locus 12:21579581-21616760        [***********              ]  47%"
       ]
      },
      {
       "output_type": "stream",
       "stream": "stdout",
       "text": [
        "\n",
        "> Processing Locus 12:21688562-21689767        [***********              ]  47%"
       ]
      },
      {
       "output_type": "stream",
       "stream": "stdout",
       "text": [
        "\n",
        "> Processing Locus 12:21691905-21693036        [***********              ]  47%"
       ]
      },
      {
       "output_type": "stream",
       "stream": "stdout",
       "text": [
        "\n",
        "> Processing Locus 12:21694943-21706034        [***********              ]  47%"
       ]
      },
      {
       "output_type": "stream",
       "stream": "stdout",
       "text": [
        "\n",
        "> Processing Locus 12:21707631-21714554        [************             ]  48%"
       ]
      },
      {
       "output_type": "stream",
       "stream": "stdout",
       "text": [
        "\n",
        "> Processing Locus 12:21718601-21725551        [************             ]  48%"
       ]
      },
      {
       "output_type": "stream",
       "stream": "stdout",
       "text": [
        "\n",
        "> Processing Locus 12:21730868-21762245        [************             ]  48%"
       ]
      },
      {
       "output_type": "stream",
       "stream": "stdout",
       "text": [
        "\n",
        "> Processing Locus 12:21765056-21831308        [************             ]  48%"
       ]
      },
      {
       "output_type": "stream",
       "stream": "stdout",
       "text": [
        "\n",
        "> Processing Locus 12:21858930-21860325        [************             ]  48%"
       ]
      },
      {
       "output_type": "stream",
       "stream": "stdout",
       "text": [
        "\n",
        "> Processing Locus 12:21889753-21900218        [************             ]  48%"
       ]
      },
      {
       "output_type": "stream",
       "stream": "stdout",
       "text": [
        "\n",
        "> Processing Locus 12:21904150-21907037        [************             ]  48%"
       ]
      },
      {
       "output_type": "stream",
       "stream": "stdout",
       "text": [
        "\n",
        "> Processing Locus 12:21909236-21913265        [************             ]  48%"
       ]
      },
      {
       "output_type": "stream",
       "stream": "stdout",
       "text": [
        "\n",
        "> Processing Locus 12:21914892-21925154        [************             ]  48%"
       ]
      },
      {
       "output_type": "stream",
       "stream": "stdout",
       "text": [
        "\n",
        "> Processing Locus 12:21929752-21952923        [************             ]  49%"
       ]
      },
      {
       "output_type": "stream",
       "stream": "stdout",
       "text": [
        "\n",
        "> Processing Locus 12:21957737-21968705        [************             ]  49%"
       ]
      },
      {
       "output_type": "stream",
       "stream": "stdout",
       "text": [
        "\n",
        "> Processing Locus 12:21970132-21978175        [************             ]  49%"
       ]
      },
      {
       "output_type": "stream",
       "stream": "stdout",
       "text": [
        "\n",
        "> Processing Locus 12:21980049-21992713        [************             ]  49%"
       ]
      },
      {
       "output_type": "stream",
       "stream": "stdout",
       "text": [
        "\n",
        "> Processing Locus 12:21993646-22003904        [************             ]  49%"
       ]
      },
      {
       "output_type": "stream",
       "stream": "stdout",
       "text": [
        "\n",
        "> Processing Locus 12:22005501-22010830        [************             ]  49%"
       ]
      },
      {
       "output_type": "stream",
       "stream": "stdout",
       "text": [
        "\n",
        "> Processing Locus 12:22015180-22017709        [************             ]  49%"
       ]
      },
      {
       "output_type": "stream",
       "stream": "stdout",
       "text": [
        "\n",
        "> Processing Locus 12:22024147-22028881        [************             ]  49%"
       ]
      },
      {
       "output_type": "stream",
       "stream": "stdout",
       "text": [
        "\n",
        "> Processing Locus 12:22030766-22038169        [************             ]  49%"
       ]
      },
      {
       "output_type": "stream",
       "stream": "stdout",
       "text": [
        "\n",
        "> Processing Locus 12:22043854-22051728        [************             ]  50%"
       ]
      },
      {
       "output_type": "stream",
       "stream": "stdout",
       "text": [
        "\n",
        "> Processing Locus 12:22053505-22148986        [************             ]  50%"
       ]
      },
      {
       "output_type": "stream",
       "stream": "stdout",
       "text": [
        "\n",
        "> Processing Locus 12:22651882-22904552        [************             ]  50%"
       ]
      },
      {
       "output_type": "stream",
       "stream": "stdout",
       "text": [
        "\n",
        "> Processing Locus 12:22925200-22925317        [************             ]  50%"
       ]
      },
      {
       "output_type": "stream",
       "stream": "stdout",
       "text": [
        "\n",
        "> Processing Locus 12:23027492-23039673        [************             ]  50%"
       ]
      },
      {
       "output_type": "stream",
       "stream": "stdout",
       "text": [
        "\n",
        "> Processing Locus 12:23039708-23043505        [************             ]  50%"
       ]
      },
      {
       "output_type": "stream",
       "stream": "stdout",
       "text": [
        "\n",
        "> Processing Locus 12:23053028-23058009        [************             ]  50%"
       ]
      },
      {
       "output_type": "stream",
       "stream": "stdout",
       "text": [
        "\n",
        "> Processing Locus 12:23065123-23069764        [************             ]  50%"
       ]
      },
      {
       "output_type": "stream",
       "stream": "stdout",
       "text": [
        "\n",
        "> Processing Locus 12:23069982-23074104        [************             ]  50%"
       ]
      },
      {
       "output_type": "stream",
       "stream": "stdout",
       "text": [
        "\n",
        "> Processing Locus 12:23077651-23102809        [************             ]  51%"
       ]
      },
      {
       "output_type": "stream",
       "stream": "stdout",
       "text": [
        "\n",
        "> Processing Locus 12:23149419-23149534        [************             ]  51%"
       ]
      },
      {
       "output_type": "stream",
       "stream": "stdout",
       "text": [
        "\n",
        "> Processing Locus 12:23154547-23189395        [************             ]  51%"
       ]
      },
      {
       "output_type": "stream",
       "stream": "stdout",
       "text": [
        "\n",
        "> Processing Locus 12:23310027-23310093        [************             ]  51%"
       ]
      },
      {
       "output_type": "stream",
       "stream": "stdout",
       "text": [
        "\n",
        "> Processing Locus 12:23585829-23593422        [************             ]  51%"
       ]
      },
      {
       "output_type": "stream",
       "stream": "stdout",
       "text": [
        "\n",
        "> Processing Locus 12:23614379-23660460        [************             ]  51%"
       ]
      },
      {
       "output_type": "stream",
       "stream": "stdout",
       "text": [
        "\n",
        "> Processing Locus 12:23669384-23711071        [************             ]  51%"
       ]
      },
      {
       "output_type": "stream",
       "stream": "stdout",
       "text": [
        "\n",
        "> Processing Locus 12:23716966-23752016        [************             ]  51%"
       ]
      },
      {
       "output_type": "stream",
       "stream": "stdout",
       "text": [
        "\n",
        "> Processing Locus 12:23759717-23800679        [************             ]  51%"
       ]
      },
      {
       "output_type": "stream",
       "stream": "stdout",
       "text": [
        "\n",
        "> Processing Locus 12:23807405-23864688        [*************            ]  52%"
       ]
      },
      {
       "output_type": "stream",
       "stream": "stdout",
       "text": [
        "\n",
        "> Processing Locus 12:23866633-23880007        [*************            ]  52%"
       ]
      },
      {
       "output_type": "stream",
       "stream": "stdout",
       "text": [
        "\n",
        "> Processing Locus 12:23884381-23896562        [*************            ]  52%"
       ]
      },
      {
       "output_type": "stream",
       "stream": "stdout",
       "text": [
        "\n",
        "> Processing Locus 12:23915881-23926807        [*************            ]  52%"
       ]
      },
      {
       "output_type": "stream",
       "stream": "stdout",
       "text": [
        "\n",
        "> Processing Locus 12:23931326-23959777        [*************            ]  52%"
       ]
      },
      {
       "output_type": "stream",
       "stream": "stdout",
       "text": [
        "\n",
        "> Processing Locus 12:23978108-23994121        [*************            ]  52%"
       ]
      },
      {
       "output_type": "stream",
       "stream": "stdout",
       "text": [
        "\n",
        "> Processing Locus 12:23994235-24019390        [*************            ]  52%"
       ]
      },
      {
       "output_type": "stream",
       "stream": "stdout",
       "text": [
        "\n",
        "> Processing Locus 12:24023395-24027753        [*************            ]  52%"
       ]
      },
      {
       "output_type": "stream",
       "stream": "stdout",
       "text": [
        "\n",
        "> Processing Locus 12:24029688-24158892        [*************            ]  52%"
       ]
      },
      {
       "output_type": "stream",
       "stream": "stdout",
       "text": [
        "\n",
        "> Processing Locus 12:24219634-24264963        [*************            ]  53%"
       ]
      },
      {
       "output_type": "stream",
       "stream": "stdout",
       "text": [
        "\n",
        "> Processing Locus 12:24270739-24282787        [*************            ]  53%"
       ]
      },
      {
       "output_type": "stream",
       "stream": "stdout",
       "text": [
        "\n",
        "> Processing Locus 12:24311156-24358575        [*************            ]  53%"
       ]
      },
      {
       "output_type": "stream",
       "stream": "stdout",
       "text": [
        "\n",
        "> Processing Locus 12:24376299-24478009        [*************            ]  53%"
       ]
      },
      {
       "output_type": "stream",
       "stream": "stdout",
       "text": [
        "\n",
        "> Processing Locus 12:24525224-24788178        [*************            ]  53%"
       ]
      },
      {
       "output_type": "stream",
       "stream": "stdout",
       "text": [
        "\n",
        "> Processing Locus 12:24794078-24838501        [*************            ]  53%"
       ]
      },
      {
       "output_type": "stream",
       "stream": "stdout",
       "text": [
        "\n",
        "> Processing Locus 12:24846548-24852797        [*************            ]  53%"
       ]
      },
      {
       "output_type": "stream",
       "stream": "stdout",
       "text": [
        "\n",
        "> Processing Locus 12:24877169-24945485        [*************            ]  53%"
       ]
      },
      {
       "output_type": "stream",
       "stream": "stdout",
       "text": [
        "\n",
        "> Processing Locus 12:24999706-24999832        [*************            ]  53%"
       ]
      },
      {
       "output_type": "stream",
       "stream": "stdout",
       "text": [
        "\n",
        "> Processing Locus 12:25070291-25081329        [*************            ]  54%"
       ]
      },
      {
       "output_type": "stream",
       "stream": "stdout",
       "text": [
        "\n",
        "> Processing Locus 12:25086775-25097056        [*************            ]  54%"
       ]
      },
      {
       "output_type": "stream",
       "stream": "stdout",
       "text": [
        "\n",
        "> Processing Locus 12:25206713-25218348        [*************            ]  54%"
       ]
      },
      {
       "output_type": "stream",
       "stream": "stdout",
       "text": [
        "\n",
        "> Processing Locus 12:25234968-25355016        [*************            ]  54%"
       ]
      },
      {
       "output_type": "stream",
       "stream": "stdout",
       "text": [
        "\n",
        "> Processing Locus 12:25501737-25562994        [*************            ]  54%"
       ]
      },
      {
       "output_type": "stream",
       "stream": "stdout",
       "text": [
        "\n",
        "> Processing Locus 12:25566104-25570463        [*************            ]  54%"
       ]
      },
      {
       "output_type": "stream",
       "stream": "stdout",
       "text": [
        "\n",
        "> Processing Locus 12:25570998-25587246        [*************            ]  54%"
       ]
      },
      {
       "output_type": "stream",
       "stream": "stdout",
       "text": [
        "\n",
        "> Processing Locus 12:25724505-25724622        [*************            ]  54%"
       ]
      },
      {
       "output_type": "stream",
       "stream": "stdout",
       "text": [
        "\n",
        "> Processing Locus 12:25854715-26143639        [*************            ]  54%"
       ]
      },
      {
       "output_type": "stream",
       "stream": "stdout",
       "text": [
        "\n",
        "> Processing Locus 12:26245301-26276530        [*************            ]  55%"
       ]
      },
      {
       "output_type": "stream",
       "stream": "stdout",
       "text": [
        "\n",
        "> Processing Locus 12:26292703-26292825        [*************            ]  55%"
       ]
      },
      {
       "output_type": "stream",
       "stream": "stdout",
       "text": [
        "\n",
        "> Processing Locus 12:26302853-26338637        [*************            ]  55%"
       ]
      },
      {
       "output_type": "stream",
       "stream": "stdout",
       "text": [
        "\n",
        "> Processing Locus 12:26349661-26411104        [*************            ]  55%"
       ]
      },
      {
       "output_type": "stream",
       "stream": "stdout",
       "text": [
        "\n",
        "> Processing Locus 12:26412445-26434837        [*************            ]  55%"
       ]
      },
      {
       "output_type": "stream",
       "stream": "stdout",
       "text": [
        "\n",
        "> Processing Locus 12:26460439-26465160        [*************            ]  55%"
       ]
      },
      {
       "output_type": "stream",
       "stream": "stdout",
       "text": [
        "\n",
        "> Processing Locus 12:26569840-26593303        [*************            ]  55%"
       ]
      },
      {
       "output_type": "stream",
       "stream": "stdout",
       "text": [
        "\n",
        "> Processing Locus 12:26612193-26618916        [*************            ]  55%"
       ]
      },
      {
       "output_type": "stream",
       "stream": "stdout",
       "text": [
        "\n",
        "> Processing Locus 12:26624152-26677931        [*************            ]  55%"
       ]
      },
      {
       "output_type": "stream",
       "stream": "stdout",
       "text": [
        "\n",
        "> Processing Locus 12:26725034-26729228        [**************           ]  56%"
       ]
      },
      {
       "output_type": "stream",
       "stream": "stdout",
       "text": [
        "\n",
        "> Processing Locus 12:26737661-26744869        [**************           ]  56%"
       ]
      },
      {
       "output_type": "stream",
       "stream": "stdout",
       "text": [
        "\n",
        "> Processing Locus 12:26751450-26816373        [**************           ]  56%"
       ]
      },
      {
       "output_type": "stream",
       "stream": "stdout",
       "text": [
        "\n",
        "> Processing Locus 12:26820809-26821748        [**************           ]  56%"
       ]
      },
      {
       "output_type": "stream",
       "stream": "stdout",
       "text": [
        "\n",
        "> Processing Locus 12:26904290-26907680        [**************           ]  56%"
       ]
      },
      {
       "output_type": "stream",
       "stream": "stdout",
       "text": [
        "\n",
        "> Processing Locus 12:26960278-27012961        [**************           ]  56%"
       ]
      },
      {
       "output_type": "stream",
       "stream": "stdout",
       "text": [
        "\n",
        "> Processing Locus 12:27128336-27130993        [**************           ]  56%"
       ]
      },
      {
       "output_type": "stream",
       "stream": "stdout",
       "text": [
        "\n",
        "> Processing Locus 12:27137670-27139822        [**************           ]  56%"
       ]
      },
      {
       "output_type": "stream",
       "stream": "stdout",
       "text": [
        "\n",
        "> Processing Locus 12:27168131-27297935        [**************           ]  56%"
       ]
      },
      {
       "output_type": "stream",
       "stream": "stdout",
       "text": [
        "\n",
        "> Processing Locus 12:27303465-27356942        [**************           ]  57%"
       ]
      },
      {
       "output_type": "stream",
       "stream": "stdout",
       "text": [
        "\n",
        "> Processing Locus 12:27373145-27454439        [**************           ]  57%"
       ]
      },
      {
       "output_type": "stream",
       "stream": "stdout",
       "text": [
        "\n",
        "> Processing Locus 12:27468002-27491023        [**************           ]  57%"
       ]
      },
      {
       "output_type": "stream",
       "stream": "stdout",
       "text": [
        "\n",
        "> Processing Locus 12:27505875-27522325        [**************           ]  57%"
       ]
      },
      {
       "output_type": "stream",
       "stream": "stdout",
       "text": [
        "\n",
        "> Processing Locus 12:27524433-27594493        [**************           ]  57%"
       ]
      },
      {
       "output_type": "stream",
       "stream": "stdout",
       "text": [
        "\n",
        "> Processing Locus 12:27596419-27636335        [**************           ]  57%"
       ]
      },
      {
       "output_type": "stream",
       "stream": "stdout",
       "text": [
        "\n",
        "> Processing Locus 12:27656706-27694335        [**************           ]  57%"
       ]
      },
      {
       "output_type": "stream",
       "stream": "stdout",
       "text": [
        "\n",
        "> Processing Locus 12:27712035-27712152        [**************           ]  57%"
       ]
      },
      {
       "output_type": "stream",
       "stream": "stdout",
       "text": [
        "\n",
        "> Processing Locus 12:27768998-27889467        [**************           ]  57%"
       ]
      },
      {
       "output_type": "stream",
       "stream": "stdout",
       "text": [
        "\n",
        "> Processing Locus 12:27956276-27979907        [**************           ]  58%"
       ]
      },
      {
       "output_type": "stream",
       "stream": "stdout",
       "text": [
        "\n",
        "> Processing Locus 12:27982171-28001307        [**************           ]  58%"
       ]
      },
      {
       "output_type": "stream",
       "stream": "stdout",
       "text": [
        "\n",
        "> Processing Locus 12:28005508-28032775        [**************           ]  58%"
       ]
      },
      {
       "output_type": "stream",
       "stream": "stdout",
       "text": [
        "\n",
        "> Processing Locus 12:28038877-28058394        [**************           ]  58%"
       ]
      },
      {
       "output_type": "stream",
       "stream": "stdout",
       "text": [
        "\n",
        "> Processing Locus 12:28062719-28065880        [**************           ]  58%"
       ]
      },
      {
       "output_type": "stream",
       "stream": "stdout",
       "text": [
        "\n",
        "> Processing Locus 12:28068197-28109854        [**************           ]  58%"
       ]
      },
      {
       "output_type": "stream",
       "stream": "stdout",
       "text": [
        "\n",
        "> Processing Locus 12:28110052-28118020        [**************           ]  58%"
       ]
      },
      {
       "output_type": "stream",
       "stream": "stdout",
       "text": [
        "\n",
        "> Processing Locus 12:28118318-28129069        [**************           ]  58%"
       ]
      },
      {
       "output_type": "stream",
       "stream": "stdout",
       "text": [
        "\n",
        "> Processing Locus 12:28137615-28153501        [**************           ]  58%"
       ]
      },
      {
       "output_type": "stream",
       "stream": "stdout",
       "text": [
        "\n",
        "> Processing Locus 12:28165114-28180378        [**************           ]  59%"
       ]
      },
      {
       "output_type": "stream",
       "stream": "stdout",
       "text": [
        "\n",
        "> Processing Locus 12:28182465-28191759        [**************           ]  59%"
       ]
      },
      {
       "output_type": "stream",
       "stream": "stdout",
       "text": [
        "\n",
        "> Processing Locus 12:28193040-28296812        [**************           ]  59%"
       ]
      },
      {
       "output_type": "stream",
       "stream": "stdout",
       "text": [
        "\n",
        "> Processing Locus 12:28321304-28422757        [**************           ]  59%"
       ]
      },
      {
       "output_type": "stream",
       "stream": "stdout",
       "text": [
        "\n",
        "> Processing Locus 12:28448411-28536029        [**************           ]  59%"
       ]
      },
      {
       "output_type": "stream",
       "stream": "stdout",
       "text": [
        "\n",
        "> Processing Locus 12:28558596-28558713        [**************           ]  59%"
       ]
      },
      {
       "output_type": "stream",
       "stream": "stdout",
       "text": [
        "\n",
        "> Processing Locus 12:28595783-28596905        [**************           ]  59%"
       ]
      },
      {
       "output_type": "stream",
       "stream": "stdout",
       "text": [
        "\n",
        "> Processing Locus 12:28598341-28602091        [**************           ]  59%"
       ]
      },
      {
       "output_type": "stream",
       "stream": "stdout",
       "text": [
        "\n",
        "> Processing Locus 12:28607628-28632372        [***************          ]  60%"
       ]
      },
      {
       "output_type": "stream",
       "stream": "stdout",
       "text": [
        "\n",
        "> Processing Locus 12:28635938-28661697        [***************          ]  60%"
       ]
      },
      {
       "output_type": "stream",
       "stream": "stdout",
       "text": [
        "\n",
        "> Processing Locus 12:28667865-28686443        [***************          ]  60%"
       ]
      },
      {
       "output_type": "stream",
       "stream": "stdout",
       "text": [
        "\n",
        "> Processing Locus 12:28688846-28691064        [***************          ]  60%"
       ]
      },
      {
       "output_type": "stream",
       "stream": "stdout",
       "text": [
        "\n",
        "> Processing Locus 12:28698169-28699799        [***************          ]  60%"
       ]
      },
      {
       "output_type": "stream",
       "stream": "stdout",
       "text": [
        "\n",
        "> Processing Locus 12:28700689-28702766        [***************          ]  60%"
       ]
      },
      {
       "output_type": "stream",
       "stream": "stdout",
       "text": [
        "\n",
        "> Processing Locus 12:28705899-28705998        [***************          ]  60%"
       ]
      },
      {
       "output_type": "stream",
       "stream": "stdout",
       "text": [
        "\n",
        "> Processing Locus 12:28712170-28713862        [***************          ]  60%"
       ]
      },
      {
       "output_type": "stream",
       "stream": "stdout",
       "text": [
        "\n",
        "> Processing Locus 12:28728025-28783911        [***************          ]  60%"
       ]
      },
      {
       "output_type": "stream",
       "stream": "stdout",
       "text": [
        "\n",
        "> Processing Locus 12:28784763-28800889        [***************          ]  61%"
       ]
      },
      {
       "output_type": "stream",
       "stream": "stdout",
       "text": [
        "\n",
        "> Processing Locus 12:28802242-28808063        [***************          ]  61%"
       ]
      },
      {
       "output_type": "stream",
       "stream": "stdout",
       "text": [
        "\n",
        "> Processing Locus 12:28814089-28816788        [***************          ]  61%"
       ]
      },
      {
       "output_type": "stream",
       "stream": "stdout",
       "text": [
        "\n",
        "> Processing Locus 12:28857040-28879625        [***************          ]  61%"
       ]
      },
      {
       "output_type": "stream",
       "stream": "stdout",
       "text": [
        "\n",
        "> Processing Locus 12:28902354-28906683        [***************          ]  61%"
       ]
      },
      {
       "output_type": "stream",
       "stream": "stdout",
       "text": [
        "\n",
        "> Processing Locus 12:29033255-29040298        [***************          ]  61%"
       ]
      },
      {
       "output_type": "stream",
       "stream": "stdout",
       "text": [
        "\n",
        "> Processing Locus 12:29107125-29139725        [***************          ]  61%"
       ]
      },
      {
       "output_type": "stream",
       "stream": "stdout",
       "text": [
        "\n",
        "> Processing Locus 12:29141571-29159330        [***************          ]  61%"
       ]
      },
      {
       "output_type": "stream",
       "stream": "stdout",
       "text": [
        "\n",
        "> Processing Locus 12:29160684-29236619        [***************          ]  61%"
       ]
      },
      {
       "output_type": "stream",
       "stream": "stdout",
       "text": [
        "\n",
        "> Processing Locus 12:29276262-29637717        [***************          ]  62%"
       ]
      },
      {
       "output_type": "stream",
       "stream": "stdout",
       "text": [
        "\n",
        "> Processing Locus 12:29681986-29684860        [***************          ]  62%"
       ]
      },
      {
       "output_type": "stream",
       "stream": "stdout",
       "text": [
        "\n",
        "> Processing Locus 12:29778775-29897154        [***************          ]  62%"
       ]
      },
      {
       "output_type": "stream",
       "stream": "stdout",
       "text": [
        "\n",
        "> Processing Locus 12:29897997-29911272        [***************          ]  62%"
       ]
      },
      {
       "output_type": "stream",
       "stream": "stdout",
       "text": [
        "\n",
        "> Processing Locus 12:29915717-29918645        [***************          ]  62%"
       ]
      },
      {
       "output_type": "stream",
       "stream": "stdout",
       "text": [
        "\n",
        "> Processing Locus 12:29925906-30085333        [***************          ]  62%"
       ]
      },
      {
       "output_type": "stream",
       "stream": "stdout",
       "text": [
        "\n",
        "> Processing Locus 12:30091365-30094031        [***************          ]  62%"
       ]
      },
      {
       "output_type": "stream",
       "stream": "stdout",
       "text": [
        "\n",
        "> Processing Locus 12:30109939-30119024        [***************          ]  62%"
       ]
      },
      {
       "output_type": "stream",
       "stream": "stdout",
       "text": [
        "\n",
        "> Processing Locus 12:30165378-30226482        [***************          ]  62%"
       ]
      },
      {
       "output_type": "stream",
       "stream": "stdout",
       "text": [
        "\n",
        "> Processing Locus 12:30297349-30318978        [***************          ]  63%"
       ]
      },
      {
       "output_type": "stream",
       "stream": "stdout",
       "text": [
        "\n",
        "> Processing Locus 12:30321749-30343118        [***************          ]  63%"
       ]
      },
      {
       "output_type": "stream",
       "stream": "stdout",
       "text": [
        "\n",
        "> Processing Locus 12:30344782-30347803        [***************          ]  63%"
       ]
      },
      {
       "output_type": "stream",
       "stream": "stdout",
       "text": [
        "\n",
        "> Processing Locus 12:30348148-30355345        [***************          ]  63%"
       ]
      },
      {
       "output_type": "stream",
       "stream": "stdout",
       "text": [
        "\n",
        "> Processing Locus 12:30356805-30366895        [***************          ]  63%"
       ]
      },
      {
       "output_type": "stream",
       "stream": "stdout",
       "text": [
        "\n",
        "> Processing Locus 12:30373954-30383307        [***************          ]  63%"
       ]
      },
      {
       "output_type": "stream",
       "stream": "stdout",
       "text": [
        "\n",
        "> Processing Locus 12:30403634-30411637        [***************          ]  63%"
       ]
      },
      {
       "output_type": "stream",
       "stream": "stdout",
       "text": [
        "\n",
        "> Processing Locus 12:30418622-30429842        [***************          ]  63%"
       ]
      },
      {
       "output_type": "stream",
       "stream": "stdout",
       "text": [
        "\n",
        "> Processing Locus 12:30437135-30449345        [***************          ]  63%"
       ]
      },
      {
       "output_type": "stream",
       "stream": "stdout",
       "text": [
        "\n",
        "> Processing Locus 12:30459031-30485308        [****************         ]  64%"
       ]
      },
      {
       "output_type": "stream",
       "stream": "stdout",
       "text": [
        "\n",
        "> Processing Locus 12:30493692-30493807        [****************         ]  64%"
       ]
      },
      {
       "output_type": "stream",
       "stream": "stdout",
       "text": [
        "\n",
        "> Processing Locus 12:30496408-30501585        [****************         ]  64%"
       ]
      },
      {
       "output_type": "stream",
       "stream": "stdout",
       "text": [
        "\n",
        "> Processing Locus 12:30503926-30508794        [****************         ]  64%"
       ]
      },
      {
       "output_type": "stream",
       "stream": "stdout",
       "text": [
        "\n",
        "> Processing Locus 12:30510750-30511452        [****************         ]  64%"
       ]
      },
      {
       "output_type": "stream",
       "stream": "stdout",
       "text": [
        "\n",
        "> Processing Locus 12:30519496-30531745        [****************         ]  64%"
       ]
      },
      {
       "output_type": "stream",
       "stream": "stdout",
       "text": [
        "\n",
        "> Processing Locus 12:30544102-30561053        [****************         ]  64%"
       ]
      },
      {
       "output_type": "stream",
       "stream": "stdout",
       "text": [
        "\n",
        "> Processing Locus 12:30561733-30561851        [****************         ]  64%"
       ]
      },
      {
       "output_type": "stream",
       "stream": "stdout",
       "text": [
        "\n",
        "> Processing Locus 12:30603303-30759759        [****************         ]  64%"
       ]
      },
      {
       "output_type": "stream",
       "stream": "stdout",
       "text": [
        "\n",
        "> Processing Locus 12:30773614-30777631        [****************         ]  65%"
       ]
      },
      {
       "output_type": "stream",
       "stream": "stdout",
       "text": [
        "\n",
        "> Processing Locus 12:30784434-30785976        [****************         ]  65%"
       ]
      },
      {
       "output_type": "stream",
       "stream": "stdout",
       "text": [
        "\n",
        "> Processing Locus 12:30788284-30818523        [****************         ]  65%"
       ]
      },
      {
       "output_type": "stream",
       "stream": "stdout",
       "text": [
        "\n",
        "> Processing Locus 12:30838174-30853381        [****************         ]  65%"
       ]
      },
      {
       "output_type": "stream",
       "stream": "stdout",
       "text": [
        "\n",
        "> Processing Locus 12:30882721-30882811        [****************         ]  65%"
       ]
      },
      {
       "output_type": "stream",
       "stream": "stdout",
       "text": [
        "\n",
        "> Processing Locus 12:30898859-31172799        [****************         ]  65%"
       ]
      },
      {
       "output_type": "stream",
       "stream": "stdout",
       "text": [
        "\n",
        "> Processing Locus 12:31311706-31390202        [****************         ]  65%"
       ]
      },
      {
       "output_type": "stream",
       "stream": "stdout",
       "text": [
        "\n",
        "> Processing Locus 12:31416363-31607933        [****************         ]  65%"
       ]
      },
      {
       "output_type": "stream",
       "stream": "stdout",
       "text": [
        "\n",
        "> Processing Locus 12:31612179-31619661        [****************         ]  65%"
       ]
      },
      {
       "output_type": "stream",
       "stream": "stdout",
       "text": [
        "\n",
        "> Processing Locus 12:31685415-31791644        [****************         ]  66%"
       ]
      },
      {
       "output_type": "stream",
       "stream": "stdout",
       "text": [
        "\n",
        "> Processing Locus 12:31810126-31884106        [****************         ]  66%"
       ]
      },
      {
       "output_type": "stream",
       "stream": "stdout",
       "text": [
        "\n",
        "> Processing Locus 12:31888089-31914534        [****************         ]  66%"
       ]
      },
      {
       "output_type": "stream",
       "stream": "stdout",
       "text": [
        "\n",
        "> Processing Locus 12:31921592-31934556        [****************         ]  66%"
       ]
      },
      {
       "output_type": "stream",
       "stream": "stdout",
       "text": [
        "\n",
        "> Processing Locus 12:31937069-31943890        [****************         ]  66%"
       ]
      },
      {
       "output_type": "stream",
       "stream": "stdout",
       "text": [
        "\n",
        "> Processing Locus 12:31948124-31993801        [****************         ]  66%"
       ]
      },
      {
       "output_type": "stream",
       "stream": "stdout",
       "text": [
        "\n",
        "> Processing Locus 12:32018118-32019291        [****************         ]  66%"
       ]
      },
      {
       "output_type": "stream",
       "stream": "stdout",
       "text": [
        "\n",
        "> Processing Locus 12:32037011-32076683        [****************         ]  66%"
       ]
      },
      {
       "output_type": "stream",
       "stream": "stdout",
       "text": [
        "\n",
        "> Processing Locus 12:32077010-32079801        [****************         ]  66%"
       ]
      },
      {
       "output_type": "stream",
       "stream": "stdout",
       "text": [
        "\n",
        "> Processing Locus 12:32090610-32096441        [****************         ]  67%"
       ]
      },
      {
       "output_type": "stream",
       "stream": "stdout",
       "text": [
        "\n",
        "> Processing Locus 12:32098102-32112570        [****************         ]  67%"
       ]
      },
      {
       "output_type": "stream",
       "stream": "stdout",
       "text": [
        "\n",
        "> Processing Locus 12:32113012-32151324        [****************         ]  67%"
       ]
      },
      {
       "output_type": "stream",
       "stream": "stdout",
       "text": [
        "\n",
        "> Processing Locus 12:32170294-32171515        [****************         ]  67%"
       ]
      },
      {
       "output_type": "stream",
       "stream": "stdout",
       "text": [
        "\n",
        "> Processing Locus 12:32200410-32204655        [****************         ]  67%"
       ]
      },
      {
       "output_type": "stream",
       "stream": "stdout",
       "text": [
        "\n",
        "> Processing Locus 12:32206782-32213077        [****************         ]  67%\n",
        "> Processing Locus 12:32227928-32231832        [****************         ]  67%"
       ]
      },
      {
       "output_type": "stream",
       "stream": "stdout",
       "text": [
        "\n",
        "> Processing Locus 12:32233741-32247789        [****************         ]  67%"
       ]
      },
      {
       "output_type": "stream",
       "stream": "stdout",
       "text": [
        "\n",
        "> Processing Locus 12:32250713-32282549        [****************         ]  67%"
       ]
      },
      {
       "output_type": "stream",
       "stream": "stdout",
       "text": [
        "\n",
        "> Processing Locus 12:32317167-32349242        [*****************        ]  68%"
       ]
      },
      {
       "output_type": "stream",
       "stream": "stdout",
       "text": [
        "\n",
        "> Processing Locus 12:32369975-32379565        [*****************        ]  68%"
       ]
      },
      {
       "output_type": "stream",
       "stream": "stdout",
       "text": [
        "\n",
        "> Processing Locus 12:32387906-32441864        [*****************        ]  68%"
       ]
      },
      {
       "output_type": "stream",
       "stream": "stdout",
       "text": [
        "\n",
        "> Processing Locus 12:32453055-32496034        [*****************        ]  68%"
       ]
      },
      {
       "output_type": "stream",
       "stream": "stdout",
       "text": [
        "\n",
        "> Processing Locus 12:32525267-32528780        [*****************        ]  68%"
       ]
      },
      {
       "output_type": "stream",
       "stream": "stdout",
       "text": [
        "\n",
        "> Processing Locus 12:32529924-32533156        [*****************        ]  68%"
       ]
      },
      {
       "output_type": "stream",
       "stream": "stdout",
       "text": [
        "\n",
        "> Processing Locus 12:32668773-32790417        [*****************        ]  68%"
       ]
      },
      {
       "output_type": "stream",
       "stream": "stdout",
       "text": [
        "\n",
        "> Processing Locus 12:32845792-33109635        [*****************        ]  68%"
       ]
      },
      {
       "output_type": "stream",
       "stream": "stdout",
       "text": [
        "\n",
        "> Processing Locus 12:33112565-33125675        [*****************        ]  68%"
       ]
      },
      {
       "output_type": "stream",
       "stream": "stdout",
       "text": [
        "\n",
        "> Processing Locus 12:33125679-33163215        [*****************        ]  69%"
       ]
      },
      {
       "output_type": "stream",
       "stream": "stdout",
       "text": [
        "\n",
        "> Processing Locus 12:33163275-33171778        [*****************        ]  69%"
       ]
      },
      {
       "output_type": "stream",
       "stream": "stdout",
       "text": [
        "\n",
        "> Processing Locus 12:33186400-33186535        [*****************        ]  69%"
       ]
      },
      {
       "output_type": "stream",
       "stream": "stdout",
       "text": [
        "\n",
        "> Processing Locus 12:33191099-33221664        [*****************        ]  69%"
       ]
      },
      {
       "output_type": "stream",
       "stream": "stdout",
       "text": [
        "\n",
        "> Processing Locus 12:33296023-33318398        [*****************        ]  69%"
       ]
      },
      {
       "output_type": "stream",
       "stream": "stdout",
       "text": [
        "\n",
        "> Processing Locus 12:33347691-33397390        [*****************        ]  69%"
       ]
      },
      {
       "output_type": "stream",
       "stream": "stdout",
       "text": [
        "\n",
        "> Processing Locus 12:33400339-33406787        [*****************        ]  69%"
       ]
      },
      {
       "output_type": "stream",
       "stream": "stdout",
       "text": [
        "\n",
        "> Processing Locus 12:33407773-33411488        [*****************        ]  69%"
       ]
      },
      {
       "output_type": "stream",
       "stream": "stdout",
       "text": [
        "\n",
        "> Processing Locus 12:33416598-33449021        [*****************        ]  69%"
       ]
      },
      {
       "output_type": "stream",
       "stream": "stdout",
       "text": [
        "\n",
        "> Processing Locus 12:33460660-33466267        [*****************        ]  70%"
       ]
      },
      {
       "output_type": "stream",
       "stream": "stdout",
       "text": [
        "\n",
        "> Processing Locus 12:33470166-33474962        [*****************        ]  70%"
       ]
      },
      {
       "output_type": "stream",
       "stream": "stdout",
       "text": [
        "\n",
        "> Processing Locus 12:33476481-33482030        [*****************        ]  70%"
       ]
      },
      {
       "output_type": "stream",
       "stream": "stdout",
       "text": [
        "\n",
        "> Processing Locus 12:33597330-33682941        [*****************        ]  70%"
       ]
      },
      {
       "output_type": "stream",
       "stream": "stdout",
       "text": [
        "\n",
        "> Processing Locus 12:33726277-33753571        [*****************        ]  70%"
       ]
      },
      {
       "output_type": "stream",
       "stream": "stdout",
       "text": [
        "\n",
        "> Processing Locus 12:33755394-33760653        [*****************        ]  70%"
       ]
      },
      {
       "output_type": "stream",
       "stream": "stdout",
       "text": [
        "\n",
        "> Processing Locus 12:33765271-33835397        [*****************        ]  70%"
       ]
      },
      {
       "output_type": "stream",
       "stream": "stdout",
       "text": [
        "\n",
        "> Processing Locus 12:33846502-33852328        [*****************        ]  70%"
       ]
      },
      {
       "output_type": "stream",
       "stream": "stdout",
       "text": [
        "\n",
        "> Processing Locus 12:33873572-33873896        [*****************        ]  70%"
       ]
      },
      {
       "output_type": "stream",
       "stream": "stdout",
       "text": [
        "\n",
        "> Processing Locus 12:34000541-34057155        [*****************        ]  71%"
       ]
      },
      {
       "output_type": "stream",
       "stream": "stdout",
       "text": [
        "\n",
        "> Processing Locus 12:34077114-34077786        [*****************        ]  71%"
       ]
      },
      {
       "output_type": "stream",
       "stream": "stdout",
       "text": [
        "\n",
        "> Processing Locus 12:34101460-34108950        [*****************        ]  71%"
       ]
      },
      {
       "output_type": "stream",
       "stream": "stdout",
       "text": [
        "\n",
        "> Processing Locus 12:34111309-34114559        [*****************        ]  71%"
       ]
      },
      {
       "output_type": "stream",
       "stream": "stdout",
       "text": [
        "\n",
        "> Processing Locus 12:34288837-34340681        [*****************        ]  71%"
       ]
      },
      {
       "output_type": "stream",
       "stream": "stdout",
       "text": [
        "\n",
        "> Processing Locus 12:34356065-34356867        [*****************        ]  71%"
       ]
      },
      {
       "output_type": "stream",
       "stream": "stdout",
       "text": [
        "\n",
        "> Processing Locus 12:34379618-34387160        [*****************        ]  71%"
       ]
      },
      {
       "output_type": "stream",
       "stream": "stdout",
       "text": [
        "\n",
        "> Processing Locus 12:34389508-34392765        [*****************        ]  71%"
       ]
      },
      {
       "output_type": "stream",
       "stream": "stdout",
       "text": [
        "\n",
        "> Processing Locus 12:34489633-34562077        [*****************        ]  71%"
       ]
      },
      {
       "output_type": "stream",
       "stream": "stdout",
       "text": [
        "\n",
        "> Processing Locus 12:34637653-34639232        [******************       ]  72%"
       ]
      },
      {
       "output_type": "stream",
       "stream": "stdout",
       "text": [
        "\n",
        "> Processing Locus 12:34653624-34666399        [******************       ]  72%"
       ]
      },
      {
       "output_type": "stream",
       "stream": "stdout",
       "text": [
        "\n",
        "> Processing Locus 12:34668798-34675762        [******************       ]  72%"
       ]
      },
      {
       "output_type": "stream",
       "stream": "stdout",
       "text": [
        "\n",
        "> Processing Locus 12:34681229-34725417        [******************       ]  72%"
       ]
      },
      {
       "output_type": "stream",
       "stream": "stdout",
       "text": [
        "\n",
        "> Processing Locus 12:34784957-34788079        [******************       ]  72%"
       ]
      },
      {
       "output_type": "stream",
       "stream": "stdout",
       "text": [
        "\n",
        "> Processing Locus 12:34794034-34809802        [******************       ]  72%"
       ]
      },
      {
       "output_type": "stream",
       "stream": "stdout",
       "text": [
        "\n",
        "> Processing Locus 12:34815411-34831695        [******************       ]  72%"
       ]
      },
      {
       "output_type": "stream",
       "stream": "stdout",
       "text": [
        "\n",
        "> Processing Locus 12:34840957-34841862        [******************       ]  72%"
       ]
      },
      {
       "output_type": "stream",
       "stream": "stdout",
       "text": [
        "\n",
        "> Processing Locus 12:34845163-34854562        [******************       ]  72%"
       ]
      },
      {
       "output_type": "stream",
       "stream": "stdout",
       "text": [
        "\n",
        "> Processing Locus 12:34860157-34886418        [******************       ]  73%"
       ]
      },
      {
       "output_type": "stream",
       "stream": "stdout",
       "text": [
        "\n",
        "> Processing Locus 12:34890655-34945093        [******************       ]  73%"
       ]
      },
      {
       "output_type": "stream",
       "stream": "stdout",
       "text": [
        "\n",
        "> Processing Locus 12:34947822-34954487        [******************       ]  73%"
       ]
      },
      {
       "output_type": "stream",
       "stream": "stdout",
       "text": [
        "\n",
        "> Processing Locus 12:34955701-34968937        [******************       ]  73%"
       ]
      },
      {
       "output_type": "stream",
       "stream": "stdout",
       "text": [
        "\n",
        "> Processing Locus 12:34979365-35032034        [******************       ]  73%"
       ]
      },
      {
       "output_type": "stream",
       "stream": "stdout",
       "text": [
        "\n",
        "> Processing Locus 12:35033588-35053635        [******************       ]  73%"
       ]
      },
      {
       "output_type": "stream",
       "stream": "stdout",
       "text": [
        "\n",
        "> Processing Locus 12:35056325-35077290        [******************       ]  73%"
       ]
      },
      {
       "output_type": "stream",
       "stream": "stdout",
       "text": [
        "\n",
        "> Processing Locus 12:35101425-35150496        [******************       ]  73%"
       ]
      },
      {
       "output_type": "stream",
       "stream": "stdout",
       "text": [
        "\n",
        "> Processing Locus 12:35157190-35198518        [******************       ]  73%"
       ]
      },
      {
       "output_type": "stream",
       "stream": "stdout",
       "text": [
        "\n",
        "> Processing Locus 12:35233268-35283975        [******************       ]  74%"
       ]
      },
      {
       "output_type": "stream",
       "stream": "stdout",
       "text": [
        "\n",
        "> Processing Locus 12:35285116-35300331        [******************       ]  74%"
       ]
      },
      {
       "output_type": "stream",
       "stream": "stdout",
       "text": [
        "\n",
        "> Processing Locus 12:35302234-35309185        [******************       ]  74%"
       ]
      },
      {
       "output_type": "stream",
       "stream": "stdout",
       "text": [
        "\n",
        "> Processing Locus 12:35312618-35314365        [******************       ]  74%"
       ]
      },
      {
       "output_type": "stream",
       "stream": "stdout",
       "text": [
        "\n",
        "> Processing Locus 12:35327879-35358619        [******************       ]  74%"
       ]
      },
      {
       "output_type": "stream",
       "stream": "stdout",
       "text": [
        "\n",
        "> Processing Locus 12:35390900-35411358        [******************       ]  74%"
       ]
      },
      {
       "output_type": "stream",
       "stream": "stdout",
       "text": [
        "\n",
        "> Processing Locus 12:35413174-35431310        [******************       ]  74%"
       ]
      },
      {
       "output_type": "stream",
       "stream": "stdout",
       "text": [
        "\n",
        "> Processing Locus 12:35462649-35469034        [******************       ]  74%"
       ]
      },
      {
       "output_type": "stream",
       "stream": "stdout",
       "text": [
        "\n",
        "> Processing Locus 12:35471374-35485124        [******************       ]  74%"
       ]
      },
      {
       "output_type": "stream",
       "stream": "stdout",
       "text": [
        "\n",
        "> Processing Locus 12:35487182-35531581        [******************       ]  75%"
       ]
      },
      {
       "output_type": "stream",
       "stream": "stdout",
       "text": [
        "\n",
        "> Processing Locus 12:35615688-35689191        [******************       ]  75%"
       ]
      },
      {
       "output_type": "stream",
       "stream": "stdout",
       "text": [
        "\n",
        "> Processing Locus 12:35703130-35729554        [******************       ]  75%"
       ]
      },
      {
       "output_type": "stream",
       "stream": "stdout",
       "text": [
        "\n",
        "> Processing Locus 12:35730851-35734728        [******************       ]  75%"
       ]
      },
      {
       "output_type": "stream",
       "stream": "stdout",
       "text": [
        "\n",
        "> Processing Locus 12:35740183-35779795        [******************       ]  75%"
       ]
      },
      {
       "output_type": "stream",
       "stream": "stdout",
       "text": [
        "\n",
        "> Processing Locus 12:35817382-35975083        [******************       ]  75%"
       ]
      },
      {
       "output_type": "stream",
       "stream": "stdout",
       "text": [
        "\n",
        "> Processing Locus 12:35983715-36006062        [******************       ]  75%"
       ]
      },
      {
       "output_type": "stream",
       "stream": "stdout",
       "text": [
        "\n",
        "> Processing Locus 12:36123477-36203541        [******************       ]  75%"
       ]
      },
      {
       "output_type": "stream",
       "stream": "stdout",
       "text": [
        "\n",
        "> Processing Locus 12:36213654-36213769        [******************       ]  75%"
       ]
      },
      {
       "output_type": "stream",
       "stream": "stdout",
       "text": [
        "\n",
        "> Processing Locus 12:36238810-36250264        [*******************      ]  76%"
       ]
      },
      {
       "output_type": "stream",
       "stream": "stdout",
       "text": [
        "\n",
        "> Processing Locus 12:36269130-36271829        [*******************      ]  76%"
       ]
      },
      {
       "output_type": "stream",
       "stream": "stdout",
       "text": [
        "\n",
        "> Processing Locus 12:36272046-36276784        [*******************      ]  76%"
       ]
      },
      {
       "output_type": "stream",
       "stream": "stdout",
       "text": [
        "\n",
        "> Processing Locus 12:36301873-36301972        [*******************      ]  76%"
       ]
      },
      {
       "output_type": "stream",
       "stream": "stdout",
       "text": [
        "\n",
        "> Processing Locus 12:36309348-36370404        [*******************      ]  76%"
       ]
      },
      {
       "output_type": "stream",
       "stream": "stdout",
       "text": [
        "\n",
        "> Processing Locus 12:36421613-36426532        [*******************      ]  76%"
       ]
      },
      {
       "output_type": "stream",
       "stream": "stdout",
       "text": [
        "\n",
        "> Processing Locus 12:36430807-36431869        [*******************      ]  76%"
       ]
      },
      {
       "output_type": "stream",
       "stream": "stdout",
       "text": [
        "\n",
        "> Processing Locus 12:36438018-36446387        [*******************      ]  76%"
       ]
      },
      {
       "output_type": "stream",
       "stream": "stdout",
       "text": [
        "\n",
        "> Processing Locus 12:36452903-36468681        [*******************      ]  76%"
       ]
      },
      {
       "output_type": "stream",
       "stream": "stdout",
       "text": [
        "\n",
        "> Processing Locus 12:36478549-36495568        [*******************      ]  77%"
       ]
      },
      {
       "output_type": "stream",
       "stream": "stdout",
       "text": [
        "\n",
        "> Processing Locus 12:36500662-36559693        [*******************      ]  77%"
       ]
      },
      {
       "output_type": "stream",
       "stream": "stdout",
       "text": [
        "\n",
        "> Processing Locus 12:36684765-36758164        [*******************      ]  77%"
       ]
      },
      {
       "output_type": "stream",
       "stream": "stdout",
       "text": [
        "\n",
        "> Processing Locus 12:36864819-36884234        [*******************      ]  77%"
       ]
      },
      {
       "output_type": "stream",
       "stream": "stdout",
       "text": [
        "\n",
        "> Processing Locus 12:36888141-36893362        [*******************      ]  77%"
       ]
      },
      {
       "output_type": "stream",
       "stream": "stdout",
       "text": [
        "\n",
        "> Processing Locus 12:36895908-36906967        [*******************      ]  77%"
       ]
      },
      {
       "output_type": "stream",
       "stream": "stdout",
       "text": [
        "\n",
        "> Processing Locus 12:36926355-36944716        [*******************      ]  77%"
       ]
      },
      {
       "output_type": "stream",
       "stream": "stdout",
       "text": [
        "\n",
        "> Processing Locus 12:37046022-37050248        [*******************      ]  77%"
       ]
      },
      {
       "output_type": "stream",
       "stream": "stdout",
       "text": [
        "\n",
        "> Processing Locus 12:37065404-37083525        [*******************      ]  77%"
       ]
      },
      {
       "output_type": "stream",
       "stream": "stdout",
       "text": [
        "\n",
        "> Processing Locus 12:37125612-37134954        [*******************      ]  78%"
       ]
      },
      {
       "output_type": "stream",
       "stream": "stdout",
       "text": [
        "\n",
        "> Processing Locus 12:37137261-37185204        [*******************      ]  78%"
       ]
      },
      {
       "output_type": "stream",
       "stream": "stdout",
       "text": [
        "\n",
        "> Processing Locus 12:37187319-37231157        [*******************      ]  78%"
       ]
      },
      {
       "output_type": "stream",
       "stream": "stdout",
       "text": [
        "\n",
        "> Processing Locus 12:37231929-37245271        [*******************      ]  78%"
       ]
      },
      {
       "output_type": "stream",
       "stream": "stdout",
       "text": [
        "\n",
        "> Processing Locus 12:37262651-37266591        [*******************      ]  78%"
       ]
      },
      {
       "output_type": "stream",
       "stream": "stdout",
       "text": [
        "\n",
        "> Processing Locus 12:37387320-37391548        [*******************      ]  78%"
       ]
      },
      {
       "output_type": "stream",
       "stream": "stdout",
       "text": [
        "\n",
        "> Processing Locus 12:37399008-37400292        [*******************      ]  78%"
       ]
      },
      {
       "output_type": "stream",
       "stream": "stdout",
       "text": [
        "\n",
        "> Processing Locus 12:37500385-37500475        [*******************      ]  78%"
       ]
      },
      {
       "output_type": "stream",
       "stream": "stdout",
       "text": [
        "\n",
        "> Processing Locus 12:37501578-37551068        [*******************      ]  78%"
       ]
      },
      {
       "output_type": "stream",
       "stream": "stdout",
       "text": [
        "\n",
        "> Processing Locus 12:37556808-37567357        [*******************      ]  79%"
       ]
      },
      {
       "output_type": "stream",
       "stream": "stdout",
       "text": [
        "\n",
        "> Processing Locus 12:37600804-37605412        [*******************      ]  79%"
       ]
      },
      {
       "output_type": "stream",
       "stream": "stdout",
       "text": [
        "\n",
        "> Processing Locus 12:37614855-37636902        [*******************      ]  79%"
       ]
      },
      {
       "output_type": "stream",
       "stream": "stdout",
       "text": [
        "\n",
        "> Processing Locus 12:37662651-37665169        [*******************      ]  79%"
       ]
      },
      {
       "output_type": "stream",
       "stream": "stdout",
       "text": [
        "\n",
        "> Processing Locus 12:37671563-37679616        [*******************      ]  79%"
       ]
      },
      {
       "output_type": "stream",
       "stream": "stdout",
       "text": [
        "\n",
        "> Processing Locus 12:37683213-37704261        [*******************      ]  79%"
       ]
      },
      {
       "output_type": "stream",
       "stream": "stdout",
       "text": [
        "\n",
        "> Processing Locus 12:37715591-37723218        [*******************      ]  79%"
       ]
      },
      {
       "output_type": "stream",
       "stream": "stdout",
       "text": [
        "\n",
        "> Processing Locus 12:37732584-37733969        [*******************      ]  79%"
       ]
      },
      {
       "output_type": "stream",
       "stream": "stdout",
       "text": [
        "\n",
        "> Processing Locus 12:37774789-37818326        [********************     ]  80%"
       ]
      },
      {
       "output_type": "stream",
       "stream": "stdout",
       "text": [
        "\n",
        "> Processing Locus 12:37829728-37846338        [********************     ]  80%"
       ]
      },
      {
       "output_type": "stream",
       "stream": "stdout",
       "text": [
        "\n",
        "> Processing Locus 12:37860355-37878499        [********************     ]  80%"
       ]
      },
      {
       "output_type": "stream",
       "stream": "stdout",
       "text": [
        "\n",
        "> Processing Locus 12:37880888-37907763        [********************     ]  80%"
       ]
      },
      {
       "output_type": "stream",
       "stream": "stdout",
       "text": [
        "\n",
        "> Processing Locus 12:37936894-37961516        [********************     ]  80%"
       ]
      },
      {
       "output_type": "stream",
       "stream": "stdout",
       "text": [
        "\n",
        "> Processing Locus 12:37984265-38071933        [********************     ]  80%"
       ]
      },
      {
       "output_type": "stream",
       "stream": "stdout",
       "text": [
        "\n",
        "> Processing Locus 12:38091992-38143552        [********************     ]  80%"
       ]
      },
      {
       "output_type": "stream",
       "stream": "stdout",
       "text": [
        "\n",
        "> Processing Locus 12:38161208-38161325        [********************     ]  80%"
       ]
      },
      {
       "output_type": "stream",
       "stream": "stdout",
       "text": [
        "\n",
        "> Processing Locus 12:38208387-38277766        [********************     ]  80%"
       ]
      },
      {
       "output_type": "stream",
       "stream": "stdout",
       "text": [
        "\n",
        "> Processing Locus 12:38346902-38347019        [********************     ]  81%"
       ]
      },
      {
       "output_type": "stream",
       "stream": "stdout",
       "text": [
        "\n",
        "> Processing Locus 12:38429326-38498369        [********************     ]  81%"
       ]
      },
      {
       "output_type": "stream",
       "stream": "stdout",
       "text": [
        "\n",
        "> Processing Locus 12:38509826-38540032        [********************     ]  81%"
       ]
      },
      {
       "output_type": "stream",
       "stream": "stdout",
       "text": [
        "\n",
        "> Processing Locus 12:38813179-38837515        [********************     ]  81%"
       ]
      },
      {
       "output_type": "stream",
       "stream": "stdout",
       "text": [
        "\n",
        "> Processing Locus 12:38865945-38880343        [********************     ]  81%"
       ]
      },
      {
       "output_type": "stream",
       "stream": "stdout",
       "text": [
        "\n",
        "> Processing Locus 12:38939185-38942627        [********************     ]  81%"
       ]
      },
      {
       "output_type": "stream",
       "stream": "stdout",
       "text": [
        "\n",
        "> Processing Locus 12:38947810-38948821        [********************     ]  81%"
       ]
      },
      {
       "output_type": "stream",
       "stream": "stdout",
       "text": [
        "\n",
        "> Processing Locus 12:39001356-39272817        [********************     ]  81%"
       ]
      },
      {
       "output_type": "stream",
       "stream": "stdout",
       "text": [
        "\n",
        "> Processing Locus 12:39329859-39329975        [********************     ]  81%"
       ]
      },
      {
       "output_type": "stream",
       "stream": "stdout",
       "text": [
        "\n",
        "> Processing Locus 12:39477404-39478529        [********************     ]  82%"
       ]
      },
      {
       "output_type": "stream",
       "stream": "stdout",
       "text": [
        "\n",
        "> Processing Locus 12:40099734-40104569        [********************     ]  82%"
       ]
      },
      {
       "output_type": "stream",
       "stream": "stdout",
       "text": [
        "\n",
        "> Processing Locus 12:40106345-40236087        [********************     ]  82%"
       ]
      },
      {
       "output_type": "stream",
       "stream": "stdout",
       "text": [
        "\n",
        "> Processing Locus 12:40239462-40255379        [********************     ]  82%"
       ]
      },
      {
       "output_type": "stream",
       "stream": "stdout",
       "text": [
        "\n",
        "> Processing Locus 12:40259744-40346684        [********************     ]  82%"
       ]
      },
      {
       "output_type": "stream",
       "stream": "stdout",
       "text": [
        "\n",
        "> Processing Locus 12:40351359-40404440        [********************     ]  82%"
       ]
      },
      {
       "output_type": "stream",
       "stream": "stdout",
       "text": [
        "\n",
        "> Processing Locus 12:40476499-40603933        [********************     ]  82%"
       ]
      },
      {
       "output_type": "stream",
       "stream": "stdout",
       "text": [
        "\n",
        "> Processing Locus 12:40645829-40645915        [********************     ]  82%"
       ]
      },
      {
       "output_type": "stream",
       "stream": "stdout",
       "text": [
        "\n",
        "> Processing Locus 12:40903184-40903299        [********************     ]  82%"
       ]
      },
      {
       "output_type": "stream",
       "stream": "stdout",
       "text": [
        "\n",
        "> Processing Locus 12:40987994-40988110        [********************     ]  83%"
       ]
      },
      {
       "output_type": "stream",
       "stream": "stdout",
       "text": [
        "\n",
        "> Processing Locus 12:41246224-41349008        [********************     ]  83%"
       ]
      },
      {
       "output_type": "stream",
       "stream": "stdout",
       "text": [
        "\n",
        "> Processing Locus 12:41690752-41690868        [********************     ]  83%"
       ]
      },
      {
       "output_type": "stream",
       "stream": "stdout",
       "text": [
        "\n",
        "> Processing Locus 12:41828864-41828980        [********************     ]  83%"
       ]
      },
      {
       "output_type": "stream",
       "stream": "stdout",
       "text": [
        "\n",
        "> Processing Locus 12:42115507-42244621        [********************     ]  83%"
       ]
      },
      {
       "output_type": "stream",
       "stream": "stdout",
       "text": [
        "\n",
        "> Processing Locus 12:42684912-42837810        [********************     ]  83%"
       ]
      },
      {
       "output_type": "stream",
       "stream": "stdout",
       "text": [
        "\n",
        "> Processing Locus 12:43004464-43004587        [********************     ]  83%"
       ]
      },
      {
       "output_type": "stream",
       "stream": "stdout",
       "text": [
        "\n",
        "> Processing Locus 12:43008936-43170897        [********************     ]  83%"
       ]
      },
      {
       "output_type": "stream",
       "stream": "stdout",
       "text": [
        "\n",
        "> Processing Locus 12:43175667-43191180        [********************     ]  83%"
       ]
      },
      {
       "output_type": "stream",
       "stream": "stdout",
       "text": [
        "\n",
        "> Processing Locus 12:43213084-43218348        [*********************    ]  84%"
       ]
      },
      {
       "output_type": "stream",
       "stream": "stdout",
       "text": [
        "\n",
        "> Processing Locus 12:43231629-43267962        [*********************    ]  84%"
       ]
      },
      {
       "output_type": "stream",
       "stream": "stdout",
       "text": [
        "\n",
        "> Processing Locus 12:43289229-43330067        [*********************    ]  84%"
       ]
      },
      {
       "output_type": "stream",
       "stream": "stdout",
       "text": [
        "\n",
        "> Processing Locus 12:43371974-43420546        [*********************    ]  84%"
       ]
      },
      {
       "output_type": "stream",
       "stream": "stdout",
       "text": [
        "\n",
        "> Processing Locus 12:43471499-43491034        [*********************    ]  84%"
       ]
      },
      {
       "output_type": "stream",
       "stream": "stdout",
       "text": [
        "\n",
        "> Processing Locus 12:43752734-43780750        [*********************    ]  84%"
       ]
      },
      {
       "output_type": "stream",
       "stream": "stdout",
       "text": [
        "\n",
        "> Processing Locus 12:43869463-43928073        [*********************    ]  84%"
       ]
      },
      {
       "output_type": "stream",
       "stream": "stdout",
       "text": [
        "\n",
        "> Processing Locus 12:44141559-44282638        [*********************    ]  84%"
       ]
      },
      {
       "output_type": "stream",
       "stream": "stdout",
       "text": [
        "\n",
        "> Processing Locus 12:44322075-44349503        [*********************    ]  84%"
       ]
      },
      {
       "output_type": "stream",
       "stream": "stdout",
       "text": [
        "\n",
        "> Processing Locus 12:44350855-44354919        [*********************    ]  85%"
       ]
      },
      {
       "output_type": "stream",
       "stream": "stdout",
       "text": [
        "\n",
        "> Processing Locus 12:44524080-44555496        [*********************    ]  85%"
       ]
      },
      {
       "output_type": "stream",
       "stream": "stdout",
       "text": [
        "\n",
        "> Processing Locus 12:44601380-44776687        [*********************    ]  85%"
       ]
      },
      {
       "output_type": "stream",
       "stream": "stdout",
       "text": [
        "\n",
        "> Processing Locus 12:44826932-44872428        [*********************    ]  85%"
       ]
      },
      {
       "output_type": "stream",
       "stream": "stdout",
       "text": [
        "\n",
        "> Processing Locus 12:45236817-45298485        [*********************    ]  85%"
       ]
      },
      {
       "output_type": "stream",
       "stream": "stdout",
       "text": [
        "\n",
        "> Processing Locus 12:45467868-45515637        [*********************    ]  85%"
       ]
      },
      {
       "output_type": "stream",
       "stream": "stdout",
       "text": [
        "\n",
        "> Processing Locus 12:45543310-45679547        [*********************    ]  85%"
       ]
      },
      {
       "output_type": "stream",
       "stream": "stdout",
       "text": [
        "\n",
        "> Processing Locus 12:45686877-45708977        [*********************    ]  85%"
       ]
      },
      {
       "output_type": "stream",
       "stream": "stdout",
       "text": [
        "\n",
        "> Processing Locus 12:45791424-45807286        [*********************    ]  85%"
       ]
      },
      {
       "output_type": "stream",
       "stream": "stdout",
       "text": [
        "\n",
        "> Processing Locus 12:45821458-45852412        [*********************    ]  86%"
       ]
      },
      {
       "output_type": "stream",
       "stream": "stdout",
       "text": [
        "\n",
        "> Processing Locus 12:45858725-45876322        [*********************    ]  86%"
       ]
      },
      {
       "output_type": "stream",
       "stream": "stdout",
       "text": [
        "\n",
        "> Processing Locus 12:45877487-45930711        [*********************    ]  86%"
       ]
      },
      {
       "output_type": "stream",
       "stream": "stdout",
       "text": [
        "\n",
        "> Processing Locus 12:45935176-45952831        [*********************    ]  86%"
       ]
      },
      {
       "output_type": "stream",
       "stream": "stdout",
       "text": [
        "\n",
        "> Processing Locus 12:45959540-45969379        [*********************    ]  86%"
       ]
      },
      {
       "output_type": "stream",
       "stream": "stdout",
       "text": [
        "\n",
        "> Processing Locus 12:45972651-45991571        [*********************    ]  86%"
       ]
      },
      {
       "output_type": "stream",
       "stream": "stdout",
       "text": [
        "\n",
        "> Processing Locus 12:45995275-46038694        [*********************    ]  86%"
       ]
      },
      {
       "output_type": "stream",
       "stream": "stdout",
       "text": [
        "\n",
        "> Processing Locus 12:46246875-46267495        [*********************    ]  86%"
       ]
      },
      {
       "output_type": "stream",
       "stream": "stdout",
       "text": [
        "\n",
        "> Processing Locus 12:46340361-46346821        [*********************    ]  86%\n",
        "> Processing Locus 12:46368055-46374884        [*********************    ]  87%"
       ]
      },
      {
       "output_type": "stream",
       "stream": "stdout",
       "text": [
        "\n",
        "> Processing Locus 12:46397533-46400704        [*********************    ]  87%"
       ]
      },
      {
       "output_type": "stream",
       "stream": "stdout",
       "text": [
        "\n",
        "> Processing Locus 12:46407722-46411330        [*********************    ]  87%"
       ]
      },
      {
       "output_type": "stream",
       "stream": "stdout",
       "text": [
        "\n",
        "> Processing Locus 12:46412815-46412932        [*********************    ]  87%"
       ]
      },
      {
       "output_type": "stream",
       "stream": "stdout",
       "text": [
        "\n",
        "> Processing Locus 12:46440283-46450045        [*********************    ]  87%"
       ]
      },
      {
       "output_type": "stream",
       "stream": "stdout",
       "text": [
        "\n",
        "> Processing Locus 12:46486115-46496936        [*********************    ]  87%"
       ]
      },
      {
       "output_type": "stream",
       "stream": "stdout",
       "text": [
        "\n",
        "> Processing Locus 12:46534913-46571621        [*********************    ]  87%"
       ]
      },
      {
       "output_type": "stream",
       "stream": "stdout",
       "text": [
        "\n",
        "> Processing Locus 12:46614280-46621453        [*********************    ]  87%"
       ]
      },
      {
       "output_type": "stream",
       "stream": "stdout",
       "text": [
        "\n",
        "> Processing Locus 12:46629767-46638624        [*********************    ]  87%"
       ]
      },
      {
       "output_type": "stream",
       "stream": "stdout",
       "text": [
        "\n",
        "> Processing Locus 12:46751978-46827746        [**********************   ]  88%"
       ]
      },
      {
       "output_type": "stream",
       "stream": "stdout",
       "text": [
        "\n",
        "> Processing Locus 12:46994361-47010486        [**********************   ]  88%"
       ]
      },
      {
       "output_type": "stream",
       "stream": "stdout",
       "text": [
        "\n",
        "> Processing Locus 12:47019878-47031879        [**********************   ]  88%\n",
        "> Processing Locus 12:47046978-47066350        [**********************   ]  88%"
       ]
      },
      {
       "output_type": "stream",
       "stream": "stdout",
       "text": [
        "\n",
        "> Processing Locus 12:47074447-47100259        [**********************   ]  88%"
       ]
      },
      {
       "output_type": "stream",
       "stream": "stdout",
       "text": [
        "\n",
        "> Processing Locus 12:47107342-47111966        [**********************   ]  88%"
       ]
      },
      {
       "output_type": "stream",
       "stream": "stdout",
       "text": [
        "\n",
        "> Processing Locus 12:47144407-47148097        [**********************   ]  88%"
       ]
      },
      {
       "output_type": "stream",
       "stream": "stdout",
       "text": [
        "\n",
        "> Processing Locus 12:47164404-47174311        [**********************   ]  88%\n",
        "> Processing Locus 12:47186138-47193728        [**********************   ]  88%"
       ]
      },
      {
       "output_type": "stream",
       "stream": "stdout",
       "text": [
        "\n",
        "> Processing Locus 12:47218463-47227074        [**********************   ]  89%"
       ]
      },
      {
       "output_type": "stream",
       "stream": "stdout",
       "text": [
        "\n",
        "> Processing Locus 12:47238225-47264986        [**********************   ]  89%"
       ]
      },
      {
       "output_type": "stream",
       "stream": "stdout",
       "text": [
        "\n",
        "> Processing Locus 12:47274869-47283051        [**********************   ]  89%"
       ]
      },
      {
       "output_type": "stream",
       "stream": "stdout",
       "text": [
        "\n",
        "> Processing Locus 12:47292553-47302086        [**********************   ]  89%"
       ]
      },
      {
       "output_type": "stream",
       "stream": "stdout",
       "text": [
        "\n",
        "> Processing Locus 12:47327844-47332575        [**********************   ]  89%"
       ]
      },
      {
       "output_type": "stream",
       "stream": "stdout",
       "text": [
        "\n",
        "> Processing Locus 12:47349711-47360129        [**********************   ]  89%"
       ]
      },
      {
       "output_type": "stream",
       "stream": "stdout",
       "text": [
        "\n",
        "> Processing Locus 12:47379868-47395941        [**********************   ]  89%"
       ]
      },
      {
       "output_type": "stream",
       "stream": "stdout",
       "text": [
        "\n",
        "> Processing Locus 12:47418175-47429262        [**********************   ]  89%"
       ]
      },
      {
       "output_type": "stream",
       "stream": "stdout",
       "text": [
        "\n",
        "> Processing Locus 12:47463138-47471850        [**********************   ]  89%"
       ]
      },
      {
       "output_type": "stream",
       "stream": "stdout",
       "text": [
        "\n",
        "> Processing Locus 12:47485939-47489808        [**********************   ]  90%"
       ]
      },
      {
       "output_type": "stream",
       "stream": "stdout",
       "text": [
        "\n",
        "> Processing Locus 12:47503263-47507180        [**********************   ]  90%"
       ]
      },
      {
       "output_type": "stream",
       "stream": "stdout",
       "text": [
        "\n",
        "> Processing Locus 12:47524756-47527075        [**********************   ]  90%"
       ]
      },
      {
       "output_type": "stream",
       "stream": "stdout",
       "text": [
        "\n",
        "> Processing Locus 12:47542433-47546374        [**********************   ]  90%"
       ]
      },
      {
       "output_type": "stream",
       "stream": "stdout",
       "text": [
        "\n",
        "> Processing Locus 12:47561044-47565018        [**********************   ]  90%"
       ]
      },
      {
       "output_type": "stream",
       "stream": "stdout",
       "text": [
        "\n",
        "> Processing Locus 12:47582997-47583374        [**********************   ]  90%"
       ]
      },
      {
       "output_type": "stream",
       "stream": "stdout",
       "text": [
        "\n",
        "> Processing Locus 12:47585629-47586615        [**********************   ]  90%"
       ]
      },
      {
       "output_type": "stream",
       "stream": "stdout",
       "text": [
        "\n",
        "> Processing Locus 12:47605624-47609528        [**********************   ]  90%"
       ]
      },
      {
       "output_type": "stream",
       "stream": "stdout",
       "text": [
        "\n",
        "> Processing Locus 12:47613340-47649700        [**********************   ]  90%"
       ]
      },
      {
       "output_type": "stream",
       "stream": "stdout",
       "text": [
        "\n",
        "> Processing Locus 12:47652494-47673190        [**********************   ]  91%"
       ]
      },
      {
       "output_type": "stream",
       "stream": "stdout",
       "text": [
        "\n",
        "> Processing Locus 12:47683811-47706837        [**********************   ]  91%"
       ]
      },
      {
       "output_type": "stream",
       "stream": "stdout",
       "text": [
        "\n",
        "> Processing Locus 12:47709702-47754444        [**********************   ]  91%"
       ]
      },
      {
       "output_type": "stream",
       "stream": "stdout",
       "text": [
        "\n",
        "> Processing Locus 12:47758182-47771010        [**********************   ]  91%"
       ]
      },
      {
       "output_type": "stream",
       "stream": "stdout",
       "text": [
        "\n",
        "> Processing Locus 12:47771855-47813366        [**********************   ]  91%"
       ]
      },
      {
       "output_type": "stream",
       "stream": "stdout",
       "text": [
        "\n",
        "> Processing Locus 12:47820220-47838787        [**********************   ]  91%"
       ]
      },
      {
       "output_type": "stream",
       "stream": "stdout",
       "text": [
        "\n",
        "> Processing Locus 12:47919623-47945557        [**********************   ]  91%"
       ]
      },
      {
       "output_type": "stream",
       "stream": "stdout",
       "text": [
        "\n",
        "> Processing Locus 12:47947002-47982244        [**********************   ]  91%"
       ]
      },
      {
       "output_type": "stream",
       "stream": "stdout",
       "text": [
        "\n",
        "> Processing Locus 12:47985030-48039202        [**********************   ]  91%"
       ]
      },
      {
       "output_type": "stream",
       "stream": "stdout",
       "text": [
        "\n",
        "> Processing Locus 12:48051829-48061236        [***********************  ]  92%"
       ]
      },
      {
       "output_type": "stream",
       "stream": "stdout",
       "text": [
        "\n",
        "> Processing Locus 12:48061824-48087137        [***********************  ]  92%"
       ]
      },
      {
       "output_type": "stream",
       "stream": "stdout",
       "text": [
        "\n",
        "> Processing Locus 12:48161732-48183759        [***********************  ]  92%"
       ]
      },
      {
       "output_type": "stream",
       "stream": "stdout",
       "text": [
        "\n",
        "> Processing Locus 12:48192147-48266683        [***********************  ]  92%"
       ]
      },
      {
       "output_type": "stream",
       "stream": "stdout",
       "text": [
        "\n",
        "> Processing Locus 12:48443910-48454306        [***********************  ]  92%"
       ]
      },
      {
       "output_type": "stream",
       "stream": "stdout",
       "text": [
        "\n",
        "> Processing Locus 12:48470088-48487060        [***********************  ]  92%"
       ]
      },
      {
       "output_type": "stream",
       "stream": "stdout",
       "text": [
        "\n",
        "> Processing Locus 12:48614756-48706677        [***********************  ]  92%"
       ]
      },
      {
       "output_type": "stream",
       "stream": "stdout",
       "text": [
        "\n",
        "> Processing Locus 12:48724379-48725885        [***********************  ]  92%"
       ]
      },
      {
       "output_type": "stream",
       "stream": "stdout",
       "text": [
        "\n",
        "> Processing Locus 12:48745085-48760401        [***********************  ]  92%"
       ]
      },
      {
       "output_type": "stream",
       "stream": "stdout",
       "text": [
        "\n",
        "> Processing Locus 12:48853943-48864046        [***********************  ]  93%"
       ]
      },
      {
       "output_type": "stream",
       "stream": "stdout",
       "text": [
        "\n",
        "> Processing Locus 12:48927884-48927999        [***********************  ]  93%"
       ]
      },
      {
       "output_type": "stream",
       "stream": "stdout",
       "text": [
        "\n",
        "> Processing Locus 12:48932778-48939178        [***********************  ]  93%"
       ]
      },
      {
       "output_type": "stream",
       "stream": "stdout",
       "text": [
        "\n",
        "> Processing Locus 12:48976626-48987988        [***********************  ]  93%"
       ]
      },
      {
       "output_type": "stream",
       "stream": "stdout",
       "text": [
        "\n",
        "> Processing Locus 12:48998180-49024161        [***********************  ]  93%"
       ]
      },
      {
       "output_type": "stream",
       "stream": "stdout",
       "text": [
        "\n",
        "> Processing Locus 12:49031477-49035407        [***********************  ]  93%"
       ]
      },
      {
       "output_type": "stream",
       "stream": "stdout",
       "text": [
        "\n",
        "> Processing Locus 12:49041229-49046526        [***********************  ]  93%"
       ]
      },
      {
       "output_type": "stream",
       "stream": "stdout",
       "text": [
        "\n",
        "> Processing Locus 12:49047813-49116389        [***********************  ]  93%"
       ]
      },
      {
       "output_type": "stream",
       "stream": "stdout",
       "text": [
        "\n",
        "> Processing Locus 12:49124877-49152281        [***********************  ]  93%\n",
        "> Processing Locus 12:49153042-49153137        [***********************  ]  94%"
       ]
      },
      {
       "output_type": "stream",
       "stream": "stdout",
       "text": [
        "\n",
        "> Processing Locus 12:49160060-49181616        [***********************  ]  94%"
       ]
      },
      {
       "output_type": "stream",
       "stream": "stdout",
       "text": [
        "\n",
        "> Processing Locus 12:49198447-49212435        [***********************  ]  94%"
       ]
      },
      {
       "output_type": "stream",
       "stream": "stdout",
       "text": [
        "\n",
        "> Processing Locus 12:49222791-49275286        [***********************  ]  94%"
       ]
      },
      {
       "output_type": "stream",
       "stream": "stdout",
       "text": [
        "\n",
        "> Processing Locus 12:49428046-49436463        [***********************  ]  94%"
       ]
      },
      {
       "output_type": "stream",
       "stream": "stdout",
       "text": [
        "\n",
        "> Processing Locus 12:49440482-49463702        [***********************  ]  94%"
       ]
      },
      {
       "output_type": "stream",
       "stream": "stdout",
       "text": [
        "\n",
        "> Processing Locus 12:49465175-49475020        [***********************  ]  94%"
       ]
      },
      {
       "output_type": "stream",
       "stream": "stdout",
       "text": [
        "\n",
        "> Processing Locus 12:49525829-49531261        [***********************  ]  94%"
       ]
      },
      {
       "output_type": "stream",
       "stream": "stdout",
       "text": [
        "\n",
        "> Processing Locus 12:49544033-49545787        [***********************  ]  94%"
       ]
      },
      {
       "output_type": "stream",
       "stream": "stdout",
       "text": [
        "\n",
        "> Processing Locus 12:49554093-49606166        [***********************  ]  95%"
       ]
      },
      {
       "output_type": "stream",
       "stream": "stdout",
       "text": [
        "\n",
        "> Processing Locus 12:49610295-49610834        [***********************  ]  95%"
       ]
      },
      {
       "output_type": "stream",
       "stream": "stdout",
       "text": [
        "\n",
        "> Processing Locus 12:49612489-49620904        [***********************  ]  95%"
       ]
      },
      {
       "output_type": "stream",
       "stream": "stdout",
       "text": [
        "\n",
        "> Processing Locus 12:49633437-49635557        [***********************  ]  95%"
       ]
      },
      {
       "output_type": "stream",
       "stream": "stdout",
       "text": [
        "\n",
        "> Processing Locus 12:49643125-49667966        [***********************  ]  95%"
       ]
      },
      {
       "output_type": "stream",
       "stream": "stdout",
       "text": [
        "\n",
        "> Processing Locus 12:49684019-49699500        [***********************  ]  95%"
       ]
      },
      {
       "output_type": "stream",
       "stream": "stdout",
       "text": [
        "\n",
        "> Processing Locus 12:49707840-49760529        [***********************  ]  95%"
       ]
      },
      {
       "output_type": "stream",
       "stream": "stdout",
       "text": [
        "\n",
        "> Processing Locus 12:49763059-49770336        [***********************  ]  95%"
       ]
      },
      {
       "output_type": "stream",
       "stream": "stdout",
       "text": [
        "\n",
        "> Processing Locus 12:49802987-49832107        [***********************  ]  95%"
       ]
      },
      {
       "output_type": "stream",
       "stream": "stdout",
       "text": [
        "\n",
        "> Processing Locus 12:49836390-49845614        [************************ ]  96%"
       ]
      },
      {
       "output_type": "stream",
       "stream": "stdout",
       "text": [
        "\n",
        "> Processing Locus 12:49851154-49871433        [************************ ]  96%"
       ]
      },
      {
       "output_type": "stream",
       "stream": "stdout",
       "text": [
        "\n",
        "> Processing Locus 12:49873399-49914803        [************************ ]  96%"
       ]
      },
      {
       "output_type": "stream",
       "stream": "stdout",
       "text": [
        "\n",
        "> Processing Locus 12:49926444-49951727        [************************ ]  96%"
       ]
      },
      {
       "output_type": "stream",
       "stream": "stdout",
       "text": [
        "\n",
        "> Processing Locus 12:50004531-50075404        [************************ ]  96%"
       ]
      },
      {
       "output_type": "stream",
       "stream": "stdout",
       "text": [
        "\n",
        "> Processing Locus 12:50107721-50128309        [************************ ]  96%"
       ]
      },
      {
       "output_type": "stream",
       "stream": "stdout",
       "text": [
        "\n",
        "> Processing Locus 12:50173492-50187857        [************************ ]  96%"
       ]
      },
      {
       "output_type": "stream",
       "stream": "stdout",
       "text": [
        "\n",
        "> Processing Locus 12:50188001-50196421        [************************ ]  96%"
       ]
      },
      {
       "output_type": "stream",
       "stream": "stdout",
       "text": [
        "\n",
        "> Processing Locus 12:50199189-50205215        [************************ ]  96%"
       ]
      },
      {
       "output_type": "stream",
       "stream": "stdout",
       "text": [
        "\n",
        "> Processing Locus 12:50215339-50233896        [************************ ]  97%"
       ]
      },
      {
       "output_type": "stream",
       "stream": "stdout",
       "text": [
        "\n",
        "> Processing Locus 12:50236400-50244430        [************************ ]  97%"
       ]
      },
      {
       "output_type": "stream",
       "stream": "stdout",
       "text": [
        "\n",
        "> Processing Locus 12:50249476-50270603        [************************ ]  97%"
       ]
      },
      {
       "output_type": "stream",
       "stream": "stdout",
       "text": [
        "\n",
        "> Processing Locus 12:50275023-50289840        [************************ ]  97%"
       ]
      },
      {
       "output_type": "stream",
       "stream": "stdout",
       "text": [
        "\n",
        "> Processing Locus 12:50293696-50301119        [************************ ]  97%"
       ]
      },
      {
       "output_type": "stream",
       "stream": "stdout",
       "text": [
        "\n",
        "> Processing Locus 12:50312817-50328784        [************************ ]  97%"
       ]
      },
      {
       "output_type": "stream",
       "stream": "stdout",
       "text": [
        "\n",
        "> Processing Locus 12:50329855-50330361        [************************ ]  97%"
       ]
      },
      {
       "output_type": "stream",
       "stream": "stdout",
       "text": [
        "\n",
        "> Processing Locus 12:50379332-50390278        [************************ ]  97%"
       ]
      },
      {
       "output_type": "stream",
       "stream": "stdout",
       "text": [
        "\n",
        "> Processing Locus 12:50392893-50395554        [************************ ]  97%"
       ]
      },
      {
       "output_type": "stream",
       "stream": "stdout",
       "text": [
        "\n",
        "> Processing Locus 12:50403310-50408380        [************************ ]  98%"
       ]
      },
      {
       "output_type": "stream",
       "stream": "stdout",
       "text": [
        "\n",
        "> Processing Locus 12:50415521-50415901        [************************ ]  98%"
       ]
      },
      {
       "output_type": "stream",
       "stream": "stdout",
       "text": [
        "\n",
        "> Processing Locus 12:50425944-50437525        [************************ ]  98%"
       ]
      },
      {
       "output_type": "stream",
       "stream": "stdout",
       "text": [
        "\n",
        "> Processing Locus 12:50447861-50448451        [************************ ]  98%"
       ]
      },
      {
       "output_type": "stream",
       "stream": "stdout",
       "text": [
        "\n",
        "> Processing Locus 12:50450446-50452333        [************************ ]  98%"
       ]
      },
      {
       "output_type": "stream",
       "stream": "stdout",
       "text": [
        "\n",
        "> Processing Locus 12:50478893-50481510        [************************ ]  98%"
       ]
      },
      {
       "output_type": "stream",
       "stream": "stdout",
       "text": [
        "\n",
        "> Processing Locus 12:50542144-50549329        [************************ ]  98%"
       ]
      },
      {
       "output_type": "stream",
       "stream": "stdout",
       "text": [
        "\n",
        "> Processing Locus 12:50565076-50565636        [************************ ]  98%"
       ]
      },
      {
       "output_type": "stream",
       "stream": "stdout",
       "text": [
        "\n",
        "> Processing Locus 12:50570539-50571935        [************************ ]  98%"
       ]
      },
      {
       "output_type": "stream",
       "stream": "stdout",
       "text": [
        "\n",
        "> Processing Locus 12:50576675-50581926        [************************ ]  99%"
       ]
      },
      {
       "output_type": "stream",
       "stream": "stdout",
       "text": [
        "\n",
        "> Processing Locus 12:50585226-50588390        [************************ ]  99%"
       ]
      },
      {
       "output_type": "stream",
       "stream": "stdout",
       "text": [
        "\n",
        "> Processing Locus 12:50590905-50606484        [************************ ]  99%"
       ]
      },
      {
       "output_type": "stream",
       "stream": "stdout",
       "text": [
        "\n",
        "> Processing Locus 12:50615115-50616796        [************************ ]  99%"
       ]
      },
      {
       "output_type": "stream",
       "stream": "stdout",
       "text": [
        "\n",
        "> Processing Locus 12:50620021-50622464        [************************ ]  99%"
       ]
      },
      {
       "output_type": "stream",
       "stream": "stdout",
       "text": [
        "\n",
        "> Processing Locus 12:50644669-50652623        [************************ ]  99%"
       ]
      },
      {
       "output_type": "stream",
       "stream": "stdout",
       "text": [
        "\n",
        "> Processing Locus 12:50659370-50663709        [************************ ]  99%"
       ]
      },
      {
       "output_type": "stream",
       "stream": "stdout",
       "text": [
        "\n",
        "> Processing Locus 12:50683576-50686698        [************************ ]  99%\n",
        "> Processed 895 loci.                          [*************************] 100%\n",
        "Performed 692 isoform-level transcription difference tests"
       ]
      },
      {
       "output_type": "stream",
       "stream": "stdout",
       "text": [
        "Performed 0 tss-level transcription difference tests\n",
        "Performed 536 gene-level transcription difference tests\n",
        "Performed 0 CDS-level transcription difference tests\n",
        "Performed 0 splicing tests\n",
        "Performed 0 promoter preference tests\n",
        "Performing 0 relative CDS output tests\n",
        "Writing isoform-level FPKM tracking\n",
        "Writing TSS group-level FPKM tracking\n",
        "Writing gene-level FPKM tracking\n",
        "Writing CDS-level FPKM tracking\n",
        "Writing isoform-level count tracking"
       ]
      },
      {
       "output_type": "stream",
       "stream": "stdout",
       "text": [
        "Writing TSS group-level count tracking\n",
        "Writing gene-level count tracking\n",
        "Writing CDS-level count tracking\n",
        "Writing isoform-level read group tracking\n",
        "Writing TSS group-level read group tracking\n",
        "Writing gene-level read group tracking"
       ]
      },
      {
       "output_type": "stream",
       "stream": "stdout",
       "text": [
        "Writing CDS-level read group tracking\n",
        "Writing read group info\n",
        "Writing run info"
       ]
      }
     ],
     "prompt_number": 32
    },
    {
     "cell_type": "code",
     "collapsed": false,
     "input": [
      "#sort -t$'\\t' -g -k 13 cuffdiff/gene_exp.diff > cuffdiff/gene_exp_qval.sorted.diff\n",
      "#cut -f 1 cuffdiff/gene_exp_qval.sorted.diff | head -n 100 > cuffdiff/deg_top100.tab"
     ],
     "language": "python",
     "metadata": {},
     "outputs": [
      {
       "output_type": "stream",
       "stream": "stdout",
       "text": [
        "cut: write error: Broken pipe"
       ]
      }
     ],
     "prompt_number": 43
    },
    {
     "cell_type": "heading",
     "level": 2,
     "metadata": {},
     "source": [
      "#Functional Annotation\n",
      "http://david.abcc.ncifcrt.gov"
     ]
    },
    {
     "cell_type": "code",
     "collapsed": false,
     "input": [
      "!cuffcompare cufflinks/2cells/transcripts.gtf cufflinks/6h/transcripts.gtf"
     ],
     "language": "python",
     "metadata": {},
     "outputs": [
      {
       "output_type": "stream",
       "stream": "stdout",
       "text": [
        "Warning: Your version of Cufflinks is not up-to-date. It is recommended that you upgrade to Cufflinks v2.2.1 to benefit from the most recent features and bug fixes (http://cufflinks.cbcb.umd.edu)."
       ]
      }
     ],
     "prompt_number": 44
    },
    {
     "cell_type": "heading",
     "level": 1,
     "metadata": {},
     "source": [
      "BLASTP: align two sequence"
     ]
    },
    {
     "cell_type": "code",
     "collapsed": true,
     "input": [
      "import sys\n",
      "import os\n",
      "import urllib2\n",
      "\n",
      "def run_blastp(seq1,seq2):\n",
      "    os.system(\"blastp -query blastp/\"+seq1+\".fasta -subject blastp/\"+seq2+\".fasta -out \"+seq1+\"=\"+seq2+\".aln\")\n",
      "\n",
      "def get_seq(seq1,seq2):\n",
      "    for seq in (seq1,seq2):\n",
      "        url='http://www.uniprot.org/uniprot/'+seq+'.fasta'\n",
      "        handler=urllib2.urlopen(url)\n",
      "        fasta=handler.read()\n",
      "        out=open('blastp/'+seq+'.fasta','w')\n",
      "        out.write(fasta)\n",
      "        out.close()\n",
      "\n",
      "if __name__=='__main__':\n",
      "    seq1='F1B2B3'\n",
      "    seq2='E2CXB4'\n",
      "\n",
      "    if os.path.exists('blastp/'+seq1+'.fasta') and os.path.exists('blastp/'+seq2+'.fasta'):\n",
      "        run_blastp(seq1, seq2)\n",
      "    else:\n",
      "        get_seq(seq1, seq2)\n",
      "        run_blastp(seq1, seq2)"
     ],
     "language": "python",
     "metadata": {},
     "outputs": [],
     "prompt_number": 54
    },
    {
     "cell_type": "heading",
     "level": 1,
     "metadata": {},
     "source": [
      "Recipe 9: Parsing BLAST XML Output"
     ]
    },
    {
     "cell_type": "markdown",
     "metadata": {},
     "source": [
      "ftp://ftp.ncbi.nlm.nih.gov/blast/db/"
     ]
    },
    {
     "cell_type": "code",
     "collapsed": false,
     "input": [
      "!blastp -query blastp/F1B2B3.fasta -db nr.00 -out blast_output.xml -outfmt 5"
     ],
     "language": "python",
     "metadata": {},
     "outputs": [],
     "prompt_number": 23
    },
    {
     "cell_type": "code",
     "collapsed": false,
     "input": [
      "from Bio.Blast import NCBIXML\n",
      "\n",
      "xml_file=open(\"blast_output.xml\")\n",
      "blast_out=NCBIXML.parse(xml_file)\n",
      "\n",
      "for record in blast_out:\n",
      "    for alignment in record.alignments:\n",
      "        print alignment.title\n",
      "        for hsp in alignment.hsps:\n",
      "            if hsp.expect < 0.01:\n",
      "                print \"score:\", hsp.score\n",
      "                print \"query:\", hsp.query\n",
      "                print \"match:\", hsp.match\n",
      "                print \"sbjct:\", hsp.sbjct\n",
      "                print '#' * 70\n",
      "                print "
     ],
     "language": "python",
     "metadata": {},
     "outputs": [
      {
       "output_type": "stream",
       "stream": "stdout",
       "text": [
        "gi|51094817|gb|EAL24063.1| KIAA1466 protein [Homo sapiens]\n",
        "score: 106.0\n",
        "query: PVVAKEIVASCDKCQLKGEAMHGQVDCSP-GIWQLDCTHLEGKVI--------------LVAIHVASGYIEAEVIPAETGQETAYFLLK-LAGRWPV-XTIHTDNGSNFTSTTVKAACWWAGIKQEFGIPYNPQSQGVVESINKELKKII\n",
        "match: P +     A C++C    +    QV   P GI +   T  E  ++              LV +   SG++EA     E  QE    LLK +  R+ +  T+ +DNG  F +  V+       IK +  I Y+PQS G V+ +N+ LK ++\n",
        "sbjct: PCLTAITRAVCEQCLTCAQNNPWQVPTQPPGIQETGATPCENLLVDFTELPRARGYQYMLVFVCTFSGWVEAFPTRIEKAQEVTRLLLKDIIPRFGLPLTLGSDNGPAFMAEVVQQLSQLLKIKWKLHIVYHPQSSGKVQWMNQTLKHLL\n",
        "######################################################################\n",
        "\n",
        "gi|446840627|ref|WP_000917883.1| MULTISPECIES: ribonuclease H [Enterobacteriaceae] >gi|15799890|ref|NP_285902.1| ribonuclease H [Escherichia coli O157:H7 str. EDL933] >gi|15829464|ref|NP_308237.1| ribonuclease H [Escherichia coli O157:H7 str. Sakai] >gi|16128201|ref|NP_414750.1| ribonuclease HI, degrades RNA of DNA-RNA hybrids [Escherichia coli str. K-12 substr. MG1655] >gi|30061766|ref|NP_835937.1| ribonuclease H [Shigella flexneri 2a str. 2457T] >gi|74310829|ref|YP_309248.1| ribonuclease H [Shigella sonnei Ss046] >gi|82542807|ref|YP_406754.1| ribonuclease H [Shigella boydii Sb227] >gi|82775600|ref|YP_401947.1| ribonuclease H [Shigella dysenteriae Sd197] >gi|157156093|ref|YP_001461380.1| ribonuclease H [Escherichia coli E24377A] >gi|170021438|ref|YP_001726392.1| ribonuclease H [Escherichia coli ATCC 8739] >gi|170079845|ref|YP_001729165.1| ribonuclease H [Escherichia coli str. K-12 substr. DH10B] >gi|170682534|ref|YP_001742337.1| ribonuclease H [Escherichia coli SMS-3-5] >gi|187730560|ref|YP_001879011.1| ribonuclease H [Shigella boydii CDC 3083-94] >gi|209396174|ref|YP_002268817.1| ribonuclease H [Escherichia coli O157:H7 str. EC4115] >gi|209917401|ref|YP_002291485.1| ribonuclease H [Escherichia coli SE11] >gi|218547664|ref|YP_002381455.1| ribonuclease H [Escherichia fergusonii ATCC 35469] >gi|218552789|ref|YP_002385702.1| ribonuclease H [Escherichia coli IAI1] >gi|218557150|ref|YP_002390063.1| ribonuclease H [Escherichia coli S88] >gi|218688084|ref|YP_002396296.1| ribonuclease H [Escherichia coli ED1a] >gi|218698839|ref|YP_002406468.1| ribonuclease H [Escherichia coli IAI39] >gi|218703463|ref|YP_002410982.1| ribonuclease H [Escherichia coli UMN026] >gi|238899607|ref|YP_002925403.1| ribonuclease H [Escherichia coli BW2952] >gi|251783771|ref|YP_002998075.1| RNase HI, degrades RNA of DNA-RNA hybrids, participates in DNA replication [Escherichia coli BL21(DE3)] >gi|253774764|ref|YP_003037595.1| ribonuclease H [Escherichia coli 'BL21-Gold(DE3)pLysS AG'] >gi|254160328|ref|YP_003043436.1| ribonuclease H [Escherichia coli B str. REL606] >gi|254287131|ref|YP_003052879.1| ribonuclease H [Escherichia coli BL21(DE3)] >gi|254791341|ref|YP_003076178.1| ribonuclease H [Escherichia coli O157:H7 str. TW14359] >gi|260853419|ref|YP_003227310.1| ribonuclease H [Escherichia coli O26:H11 str. 11368] >gi|260866357|ref|YP_003232759.1| ribonuclease HI [Escherichia coli O111:H- str. 11128] >gi|291281031|ref|YP_003497849.1| RNase HI [Escherichia coli O55:H7 str. CB9615] >gi|378714453|ref|YP_005279346.1| Ribonuclease H [Escherichia coli KO11FL] >gi|383176817|ref|YP_005454822.1| ribonuclease H [Shigella sonnei 53G] >gi|386596900|ref|YP_006093300.1| Ribonuclease H [Escherichia coli DH1] >gi|386597958|ref|YP_006099464.1| ribonuclease H [Escherichia coli IHE3034] >gi|386605820|ref|YP_006112120.1| ribonuclease H [Escherichia coli UM146] >gi|386607510|ref|YP_006122996.1| ribonuclease HI, degrades RNA of DNA-RNA hybrids [Escherichia coli W] >gi|386612373|ref|YP_006132039.1| ribonuclease HI RnhA [Escherichia coli UMNK88] >gi|386622622|ref|YP_006142350.1| ribonuclease HI, degrades RNA of DNA-RNA hybrids [Escherichia coli O7:K1 str. CE10] >gi|386698707|ref|YP_006162544.1| ribonuclease H [Escherichia coli KO11FL] >gi|386703407|ref|YP_006167254.1| RNase HI [Escherichia coli P12b] >gi|386707937|ref|YP_006171658.1| ribonuclease H [Escherichia coli W] >gi|387505136|ref|YP_006157392.1| ribonuclease H [Escherichia coli O55:H7 str. RM12579] >gi|387605684|ref|YP_006094540.1| ribonuclease HI [Escherichia coli 042] >gi|387610680|ref|YP_006113796.1| ribonuclease HI [Escherichia coli ETEC H10407] >gi|387619976|ref|YP_006127603.1| ribonuclease H [Escherichia coli DH1] >gi|387880767|ref|YP_006311069.1| ribonuclease H [Escherichia coli Xuzhou21] >gi|388476327|ref|YP_488511.1| ribonuclease HI, degrades RNA of DNA-RNA hybrids [Escherichia coli str. K-12 substr. W3110] >gi|443616222|ref|YP_007380078.1| RNase HI [Escherichia coli APEC O78] >gi|471332430|ref|YP_007555907.1| ribonuclease HI, degrades RNA of DNA-RNA hybrids [Escherichia coli str. K-12 substr. MDS42] >gi|544389055|ref|YP_008563356.1| ribonuclease H [Escherichia coli LY180] >gi|544574635|ref|YP_008570159.1| Ribonuclease HI [Escherichia coli PMV-1] >gi|67472286|sp|P0A7Y4.1|RNH_ECOLI RecName: Full=Ribonuclease HI; Short=RNase HI; AltName: Full=Ribonuclease H; Short=RNase H [Escherichia coli K-12] >gi|67472287|sp|P0A7Y5.1|RNH_ECOL6 RecName: Full=Ribonuclease HI; Short=RNase HI [Escherichia coli CFT073] >gi|67472288|sp|P0A7Y6.1|RNH_ECO57 RecName: Full=Ribonuclease HI; Short=RNase HI [Escherichia coli O157:H7] >gi|67472289|sp|P0A7Y7.1|RNH_SHIFL RecName: Full=Ribonuclease HI; Short=RNase HI [Shigella flexneri] >gi|123560512|sp|Q325T2.1|RNH_SHIBS RecName: Full=Ribonuclease H; Short=RNase H [Shigella boydii Sb227] >gi|123563454|sp|Q32JP9.1|RNH_SHIDS RecName: Full=Ribonuclease H; Short=RNase H [Shigella dysenteriae Sd197] >gi|123732410|sp|Q3Z5E9.1|RNH_SHISS RecName: Full=Ribonuclease H; Short=RNase H [Shigella sonnei Ss046] >gi|189043687|sp|A7ZHV1.1|RNH_ECO24 RecName: Full=Ribonuclease H; Short=RNase H [Escherichia coli E24377A] >gi|189043689|sp|B1IPU4.1|RNH_ECOLC RecName: Full=Ribonuclease H; Short=RNase H [Escherichia coli ATCC 8739] >gi|226736830|sp|B7MBJ0.1|RNH_ECO45 RecName: Full=Ribonuclease H; Short=RNase H [Escherichia coli S88] >gi|226736831|sp|B7NKW4.1|RNH_ECO7I RecName: Full=Ribonuclease H; Short=RNase H [Escherichia coli IAI39] >gi|226736832|sp|B7M213.1|RNH_ECO8A RecName: Full=Ribonuclease H; Short=RNase H [Escherichia coli IAI1] >gi|226736833|sp|B7N876.1|RNH_ECOLU RecName: Full=Ribonuclease H; Short=RNase H [Escherichia coli UMN026] >gi|226736834|sp|B1LHM3.1|RNH_ECOSM RecName: Full=Ribonuclease H; Short=RNase H [Escherichia coli SMS-3-5] >gi|226736835|sp|B7LW89.1|RNH_ESCF3 RecName: Full=Ribonuclease H; Short=RNase H [Escherichia fergusonii ATCC 35469] >gi|229564306|sp|B1XD78.1|RNH_ECODH RecName: Full=Ribonuclease H; Short=RNase H [Escherichia coli str. K-12 substr. DH10B] >gi|238056787|sp|B5Z0I8.1|RNH_ECO5E RecName: Full=Ribonuclease H; Short=RNase H [Escherichia coli O157:H7 str. EC4115] >gi|238056788|sp|B6HZS7.1|RNH_ECOSE RecName: Full=Ribonuclease H; Short=RNase H [Escherichia coli SE11] >gi|238689502|sp|B2U352.1|RNH_SHIB3 RecName: Full=Ribonuclease H; Short=RNase H [Shigella boydii CDC 3083-94] >gi|254808026|sp|B7MQ23.1|RNH_ECO81 RecName: Full=Ribonuclease H; Short=RNase H [Escherichia coli ED1a] >gi|259494078|sp|C4ZRV1.1|RNH_ECOBW RecName: Full=Ribonuclease H; Short=RNase H [Escherichia coli BW2952] >gi|157833653|pdb|1RCH|A Chain A, Solution Nmr Structure Of Ribonuclease Hi From Escherichia Coli, 8 Structures >gi|157833661|pdb|1RDD|A Chain A, Crystal Structure Of Escherichia Coli Rnase Hi In Complex With Mg2+ At 2.8 Angstroms Resolution: Proof For A Single Mg2+ Site >gi|157836338|pdb|2RN2|A Chain A, Structural Details Of Ribonuclease H From Escherichia Coli As Refined To An Atomic Resolution >gi|12512942|gb|AAG54510.1|AE005196_8 RNase HI, degrades RNA of DNA-RNA hybrids, participates in DNA replication [Escherichia coli O157:H7 str. EDL933] >gi|42062|emb|CAA27660.1| unnamed protein product [Escherichia coli] >gi|42777|emb|CAA23620.1| ribonuclease H [Escherichia coli] >gi|147680|gb|AAA24565.1| ribonuclease H [Escherichia coli] >gi|1552784|gb|AAB08636.1| ribonuclease H [Escherichia coli] >gi|1786408|gb|AAC73319.1| ribonuclease HI, degrades RNA of DNA-RNA hybrids [Escherichia coli str. K-12 substr. MG1655] >gi|4902951|dbj|BAA77885.1| ribonuclease HI, degrades RNA of DNA-RNA hybrids [Escherichia coli str. K-12 substr. W3110] >gi|13359666|dbj|BAB33633.1| RNase HI [Escherichia coli O157:H7 str. Sakai] >gi|30040008|gb|AAP15742.1| RNase HI [Shigella flexneri 2a str. 2457T] >gi|73854306|gb|AAZ87013.1| RNase HI [Shigella sonnei Ss046] >gi|81239748|gb|ABB60458.1| RNase HI [Shigella dysenteriae Sd197] >gi|81244218|gb|ABB64926.1| RNase HI [Shigella boydii Sb227] >gi|157078123|gb|ABV17831.1| ribonuclease H [Escherichia coli E24377A] >gi|169756366|gb|ACA79065.1| Ribonuclease H [Escherichia coli ATCC 8739] >gi|169887680|gb|ACB01387.1| ribonuclease HI, degrades RNA of DNA-RNA hybrids [Escherichia coli str. K-12 substr. DH10B] >gi|170520252|gb|ACB18430.1| ribonuclease H [Escherichia coli SMS-3-5] >gi|187427552|gb|ACD06826.1| ribonuclease H [Shigella boydii CDC 3083-94] >gi|187768426|gb|EDU32270.1| ribonuclease H [Escherichia coli O157:H7 str. EC4196] >gi|188015545|gb|EDU53667.1| ribonuclease H [Escherichia coli O157:H7 str. EC4113] >gi|188491136|gb|EDU66239.1| ribonuclease H [Escherichia coli 53638] >gi|188999616|gb|EDU68602.1| ribonuclease H [Escherichia coli O157:H7 str. EC4076] >gi|189355700|gb|EDU74119.1| ribonuclease H [Escherichia coli O157:H7 str. EC4401] >gi|189361084|gb|EDU79503.1| ribonuclease H [Escherichia coli O157:H7 str. EC4486] >gi|189366386|gb|EDU84802.1| ribonuclease H [Escherichia coli O157:H7 str. EC4501] >gi|189370760|gb|EDU89176.1| ribonuclease H [Escherichia coli O157:H7 str. EC869] >gi|189377335|gb|EDU95751.1| ribonuclease H [Escherichia coli O157:H7 str. EC508] >gi|190902905|gb|EDV62632.1| ribonuclease H [Escherichia coli B7A] >gi|192958987|gb|EDV89423.1| ribonuclease H [Escherichia coli E110019] >gi|194422876|gb|EDX38871.1| ribonuclease H [Escherichia coli 101-1] >gi|208728093|gb|EDZ77694.1| ribonuclease H [Escherichia coli O157:H7 str. EC4206] >gi|208733274|gb|EDZ81961.1| ribonuclease H [Escherichia coli O157:H7 str. EC4045] >gi|208740821|gb|EDZ88503.1| ribonuclease H [Escherichia coli O157:H7 str. EC4042] >gi|209157574|gb|ACI35007.1| ribonuclease H [Escherichia coli O157:H7 str. EC4115] >gi|209745484|gb|ACI71049.1| RNase HI [Escherichia coli] >gi|209745486|gb|ACI71050.1| RNase HI [Escherichia coli] >gi|209745488|gb|ACI71051.1| RNase HI [Escherichia coli] >gi|209745490|gb|ACI71052.1| RNase HI [Escherichia coli] >gi|209745492|gb|ACI71053.1| RNase HI [Escherichia coli] >gi|209910660|dbj|BAG75734.1| ribonuclease H [Escherichia coli SE11] >gi|217320470|gb|EEC28894.1| ribonuclease H [Escherichia coli O157:H7 str. TW14588] >gi|218355205|emb|CAQ87812.1| ribonuclease HI, degrades RNA of DNA-RNA hybrids [Escherichia fergusonii ATCC 35469] >gi|218359557|emb|CAQ97097.1| ribonuclease HI, degrades RNA of DNA-RNA hybrids [Escherichia coli IAI1] >gi|218363919|emb|CAR01584.1| ribonuclease HI, degrades RNA of DNA-RNA hybrids [Escherichia coli S88] >gi|218368825|emb|CAR16573.1| ribonuclease HI, degrades RNA of DNA-RNA hybrids [Escherichia coli IAI39] >gi|218425648|emb|CAR06435.1| ribonuclease HI, degrades RNA of DNA-RNA hybrids [Escherichia coli ED1a] >gi|218430560|emb|CAR11426.1| ribonuclease HI, degrades RNA of DNA-RNA hybrids [Escherichia coli UMN026] >gi|238863469|gb|ACR65467.1| ribonuclease HI, degrades RNA of DNA-RNA hybrids [Escherichia coli BW2952] >gi|242376044|emb|CAQ30729.1| RNase HI, degrades RNA of DNA-RNA hybrids, participates in DNA replication [Escherichia coli BL21(DE3)] >gi|253325808|gb|ACT30410.1| Ribonuclease H [Escherichia coli 'BL21-Gold(DE3)pLysS AG'] >gi|253972229|gb|ACT37900.1| ribonuclease H [Escherichia coli B str. REL606] >gi|253976438|gb|ACT42108.1| ribonuclease H [Escherichia coli BL21(DE3)] >gi|254590741|gb|ACT70102.1| ribonuclease HI, degrades RNA of DNA-RNA hybrids [Escherichia coli O157:H7 str. TW14359] >gi|257752068|dbj|BAI23570.1| ribonuclease HI [Escherichia coli O26:H11 str. 11368] >gi|257762713|dbj|BAI34208.1| ribonuclease HI [Escherichia coli O111:H- str. 11128] >gi|260450589|gb|ACX41011.1| Ribonuclease H [Escherichia coli DH1] >gi|284919984|emb|CBG33039.1| ribonuclease HI [Escherichia coli 042] >gi|290760904|gb|ADD54865.1| RNase HI [Escherichia coli O55:H7 str. CB9615] >gi|291324836|gb|EFE64251.1| ribonuclease HI [Escherichia coli B088] >gi|291429146|gb|EFF02166.1| rnhA [Escherichia coli FVEC1412] >gi|291433527|gb|EFF06500.1| ribonuclease HI [Escherichia coli B185] >gi|291471481|gb|EFF13964.1| ribonuclease HI [Escherichia coli B354] >gi|294493120|gb|ADE91876.1| ribonuclease H [Escherichia coli IHE3034] >gi|298280020|gb|EFI21524.1| ribonuclease H [Escherichia coli FVEC1302] >gi|299877468|gb|EFI85679.1| ribonuclease HI [Escherichia coli MS 196-1] >gi|300356435|gb|EFJ72305.1| ribonuclease HI [Escherichia coli MS 198-1] >gi|300398082|gb|EFJ81620.1| ribonuclease HI [Escherichia coli MS 69-1] >gi|300402535|gb|EFJ86073.1| ribonuclease HI [Escherichia coli MS 84-1] >gi|300413744|gb|EFJ97054.1| ribonuclease HI [Escherichia coli MS 115-1] >gi|300417424|gb|EFK00735.1| ribonuclease HI [Escherichia coli MS 182-1] >gi|300451237|gb|EFK14857.1| ribonuclease HI [Escherichia coli MS 116-1] >gi|301076260|gb|EFK91066.1| ribonuclease HI [Escherichia coli MS 146-1] >gi|306905815|gb|EFN36340.1| Ribonuclease H [Escherichia coli W] >gi|307628304|gb|ADN72608.1| ribonuclease H [Escherichia coli UM146] >gi|308924689|gb|EFP70184.1| ribonuclease H [Shigella dysenteriae 1617] >gi|309700416|emb|CBI99705.1| ribonuclease HI [Escherichia coli ETEC H10407] >gi|310336961|gb|EFQ02099.1| ribonuclease H [Escherichia coli 1827-70] >gi|313646729|gb|EFS11188.1| ribonuclease H [Shigella flexneri 2a str. 2457T] >gi|315059427|gb|ADT73754.1| ribonuclease HI, degrades RNA of DNA-RNA hybrids [Escherichia coli W] >gi|315134899|dbj|BAJ42058.1| ribonuclease H [Escherichia coli DH1] >gi|315289702|gb|EFU49095.1| ribonuclease HI [Escherichia coli MS 110-3] >gi|315616888|gb|EFU97505.1| ribonuclease H [Escherichia coli 3431] >gi|320173694|gb|EFW48883.1| Ribonuclease HI [Shigella dysenteriae CDC 74-1112] >gi|320179851|gb|EFW54797.1| Ribonuclease HI [Shigella boydii ATCC 9905] >gi|320186398|gb|EFW61130.1| Ribonuclease HI [Shigella flexneri CDC 796-83] >gi|320190265|gb|EFW64915.1| Ribonuclease HI [Escherichia coli O157:H7 str. EC1212] >gi|320638234|gb|EFX07962.1| ribonuclease H [Escherichia coli O157:H7 str. G5101] >gi|320643618|gb|EFX12762.1| ribonuclease H [Escherichia coli O157:H- str. 493-89] >gi|320650354|gb|EFX18831.1| ribonuclease H [Escherichia coli O157:H- str. H 2687] >gi|320654629|gb|EFX22630.1| ribonuclease H [Escherichia coli O55:H7 str. 3256-97 TW 07815] >gi|320660197|gb|EFX27707.1| ribonuclease H [Escherichia coli O55:H7 str. USDA 5905] >gi|320665448|gb|EFX32510.1| ribonuclease H [Escherichia coli O157:H7 str. LSU-61] >gi|323157951|gb|EFZ44053.1| ribonuclease H [Escherichia coli EPECa14] >gi|323176526|gb|EFZ62118.1| ribonuclease H [Escherichia coli OK1180] >gi|323181626|gb|EFZ67041.1| ribonuclease H [Escherichia coli OK1357] >gi|323380014|gb|ADX52282.1| Ribonuclease H [Escherichia coli KO11FL] >gi|323938757|gb|EGB35003.1| RNase H [Escherichia coli E1520] >gi|323943405|gb|EGB39557.1| RNase H [Escherichia coli E482] >gi|323945582|gb|EGB41632.1| RNase H [Escherichia coli H120] >gi|323948752|gb|EGB44652.1| RNase H [Escherichia coli H252] >gi|323958798|gb|EGB54497.1| RNase H [Escherichia coli H263] >gi|323963577|gb|EGB59134.1| RNase H [Escherichia coli H489] >gi|323972506|gb|EGB67712.1| RNase H [Escherichia coli TA007] >gi|323975919|gb|EGB71014.1| RNase H [Escherichia coli TW10509] >gi|324020674|gb|EGB89893.1| ribonuclease HI [Escherichia coli MS 117-3] >gi|324111224|gb|EGC05207.1| RNase H [Escherichia fergusonii B253] >gi|324115458|gb|EGC09400.1| RNase H [Escherichia coli E1167] >gi|325496140|gb|EGC93999.1| ribonuclease H [Escherichia fergusonii ECD227] >gi|326338810|gb|EGD62629.1| Ribonuclease HI [Escherichia coli O157:H7 str. 1044] >gi|326342398|gb|EGD66178.1| Ribonuclease HI [Escherichia coli O157:H7 str. 1125] >gi|330910060|gb|EGH38570.1| ribonuclease H1 [Escherichia coli AA86] >gi|331060007|gb|EGI31971.1| ribonuclease HI [Escherichia coli TA143] >gi|331066300|gb|EGI38178.1| ribonuclease HI [Escherichia coli TA271] >gi|332093750|gb|EGI98805.1| ribonuclease H [Shigella boydii 3594-74] >gi|332341542|gb|AEE54876.1| ribonuclease HI RnhA [Escherichia coli UMNK88] >gi|332754110|gb|EGJ84480.1| ribonuclease H [Shigella flexneri 2747-71] >gi|332761997|gb|EGJ92269.1| ribonuclease H [Shigella flexneri 4343-70] >gi|332764638|gb|EGJ94868.1| ribonuclease H [Shigella flexneri K-671] >gi|332768613|gb|EGJ98794.1| ribonuclease HI [Shigella flexneri 2930-71] >gi|333009001|gb|EGK28460.1| ribonuclease H [Shigella flexneri K-218] >gi|333009687|gb|EGK29137.1| ribonuclease H [Shigella flexneri VA-6] >gi|333010754|gb|EGK30180.1| ribonuclease H [Shigella flexneri K-272] >gi|333021253|gb|EGK40506.1| ribonuclease H [Shigella flexneri K-227] >gi|333022172|gb|EGK41412.1| ribonuclease H [Shigella flexneri K-304] >gi|335578208|gb|EGM63433.1| ribonuclease HI [Shigella flexneri J1713] >gi|338771680|gb|EGP26415.1| Ribonuclease H [Escherichia coli PCN033] >gi|339413196|gb|AEJ54868.1| ribonuclease H (RNase H) [Escherichia coli UMNF18] >gi|342361465|gb|EGU25603.1| ribonuclease H [Escherichia coli XH140A] >gi|344192188|gb|EGV46285.1| ribonuclease H [Escherichia coli XH001] >gi|345341879|gb|EGW74278.1| ribonuclease H [Escherichia coli STEC_C165-02] >gi|345344399|gb|EGW76768.1| ribonuclease H [Escherichia coli STEC_B2F1] >gi|345346189|gb|EGW78525.1| ribonuclease H [Escherichia coli 2534-86] >gi|345354378|gb|EGW86602.1| ribonuclease H [Escherichia coli STEC_94C] >gi|345366210|gb|EGW98306.1| ribonuclease H [Escherichia coli STEC_DG131-3] >gi|345366309|gb|EGW98400.1| ribonuclease H [Escherichia coli STEC_EH250] >gi|345378683|gb|EGX10608.1| ribonuclease H [Escherichia coli STEC_MHI813] >gi|345382590|gb|EGX13464.1| ribonuclease H [Escherichia coli G58-1] >gi|345391377|gb|EGX21169.1| ribonuclease H [Escherichia coli STEC_S1191] >gi|345395797|gb|EGX25535.1| ribonuclease H [Escherichia coli TX1999] >gi|349736360|gb|AEQ11066.1| ribonuclease HI, degrades RNA of DNA-RNA hybrids [Escherichia coli O7:K1 str. CE10] >gi|355353348|gb|EHG02517.1| ribonuclease H [Escherichia coli cloneA_i1] >gi|359331067|dbj|BAL37514.1| ribonuclease HI, degrades RNA of DNA-RNA hybrids [Escherichia coli str. K-12 substr. MDS42] >gi|371592317|gb|EHN81227.1| ribonuclease H [Escherichia coli TA124] >gi|371598254|gb|EHN87064.1| ribonuclease H [Escherichia coli H494] >gi|371612113|gb|EHO00630.1| ribonuclease H [Escherichia coli H397] >gi|371613420|gb|EHO01919.1| ribonuclease H [Escherichia coli E101] >gi|371616095|gb|EHO04467.1| ribonuclease H [Escherichia coli B093] >gi|373243486|gb|EHP62991.1| ribonuclease H [Escherichia coli 4_1_47FAA] >gi|374357130|gb|AEZ38837.1| ribonuclease H [Escherichia coli O55:H7 str. RM12579] >gi|377897009|gb|EHU61397.1| ribonuclease HI [Escherichia coli DEC3A] >gi|377900301|gb|EHU64634.1| ribonuclease HI [Escherichia coli DEC3B] >gi|377902237|gb|EHU66543.1| ribonuclease HI [Escherichia coli DEC3C] >gi|377919477|gb|EHU83519.1| ribonuclease HI [Escherichia coli DEC3D] >gi|377921190|gb|EHU85193.1| ribonuclease HI [Escherichia coli DEC3E] >gi|377923079|gb|EHU87048.1| ribonuclease HI [Escherichia coli DEC4B] >gi|377934139|gb|EHU97976.1| ribonuclease HI [Escherichia coli DEC4A] >gi|377934215|gb|EHU98049.1| ribonuclease HI [Escherichia coli DEC3F] >gi|377946036|gb|EHV09725.1| ribonuclease HI [Escherichia coli DEC4C] >gi|377951718|gb|EHV15332.1| ribonuclease HI [Escherichia coli DEC4D] >gi|377955851|gb|EHV19404.1| ribonuclease HI [Escherichia coli DEC4E] >gi|377965823|gb|EHV29236.1| ribonuclease HI [Escherichia coli DEC5A] >gi|377967105|gb|EHV30511.1| ribonuclease HI [Escherichia coli DEC4F] >gi|377973870|gb|EHV37200.1| ribonuclease HI [Escherichia coli DEC5B] >gi|377982089|gb|EHV45342.1| ribonuclease HI [Escherichia coli DEC5D] >gi|377983173|gb|EHV46418.1| ribonuclease HI [Escherichia coli DEC5C] >gi|377988290|gb|EHV51468.1| ribonuclease HI [Escherichia coli DEC5E] >gi|378000002|gb|EHV63076.1| ribonuclease HI [Escherichia coli DEC6A] >gi|378001971|gb|EHV65026.1| ribonuclease HI [Escherichia coli DEC6B] >gi|378004026|gb|EHV67059.1| ribonuclease HI [Escherichia coli DEC6C] >gi|378015392|gb|EHV78288.1| ribonuclease HI [Escherichia coli DEC6D] >gi|378016941|gb|EHV79816.1| ribonuclease HI [Escherichia coli DEC6E] >gi|378019464|gb|EHV82295.1| ribonuclease HI [Escherichia coli DEC7A] >gi|378019828|gb|EHV82628.1| ribonuclease HI [Escherichia coli DEC7C] >gi|378034317|gb|EHV96883.1| ribonuclease HI [Escherichia coli DEC7D] >gi|378038184|gb|EHW00701.1| ribonuclease HI [Escherichia coli DEC7B] >gi|378040183|gb|EHW02656.1| ribonuclease HI [Escherichia coli DEC8B] >gi|378043022|gb|EHW05461.1| ribonuclease HI [Escherichia coli DEC7E] >gi|378054176|gb|EHW16459.1| ribonuclease HI [Escherichia coli DEC8A] >gi|378063845|gb|EHW26008.1| ribonuclease HI [Escherichia coli DEC8C] >gi|378069632|gb|EHW31721.1| ribonuclease HI [Escherichia coli DEC8D] >gi|378073351|gb|EHW35403.1| ribonuclease HI [Escherichia coli DEC8E] >gi|378082877|gb|EHW44818.1| ribonuclease HI [Escherichia coli DEC9A] >gi|378083321|gb|EHW45255.1| ribonuclease HI [Escherichia coli DEC9B] >gi|378091089|gb|EHW52922.1| ribonuclease HI [Escherichia coli DEC9C] >gi|378095370|gb|EHW57157.1| ribonuclease HI [Escherichia coli DEC9D] >gi|378097237|gb|EHW58994.1| ribonuclease HI [Escherichia coli DEC10A] >gi|378103697|gb|EHW65362.1| ribonuclease HI [Escherichia coli DEC9E] >gi|378106899|gb|EHW68526.1| ribonuclease HI [Escherichia coli DEC10C] >gi|378118160|gb|EHW79668.1| ribonuclease HI [Escherichia coli DEC10B] >gi|378121430|gb|EHW82881.1| ribonuclease HI [Escherichia coli DEC10D] >gi|378140491|gb|EHX01715.1| ribonuclease HI [Escherichia coli DEC10F] >gi|378223136|gb|EHX83365.1| ribonuclease HI [Escherichia coli DEC14A] >gi|378246070|gb|EHY06006.1| ribonuclease HI [Escherichia coli DEC15A] >gi|378248612|gb|EHY08525.1| ribonuclease HI [Escherichia coli DEC15C] >gi|378252322|gb|EHY12215.1| ribonuclease HI [Escherichia coli DEC15B] >gi|378257721|gb|EHY17557.1| ribonuclease HI [Escherichia coli DEC15D] >gi|378261515|gb|EHY21308.1| ribonuclease HI [Escherichia coli DEC15E] >gi|383101575|gb|AFG39084.1| RNase HI [Escherichia coli P12b] >gi|383390234|gb|AFH15192.1| ribonuclease H [Escherichia coli KO11FL] >gi|383403629|gb|AFH09872.1| ribonuclease H [Escherichia coli W] >gi|384377352|gb|EIE35246.1| ribonuclease HI [Escherichia coli J53] >gi|384470801|gb|EIE54897.1| ribonuclease HI [Escherichia coli AI27] >gi|385156121|gb|EIF18120.1| ribonuclease H [Escherichia coli O32:H37 str. P4] >gi|385540300|gb|EIF87122.1| ribonuclease H [Escherichia coli M919] >gi|385705001|gb|EIG42070.1| ribonuclease H [Escherichia coli B799] >gi|385713477|gb|EIG50409.1| ribonuclease H [Escherichia coli H730] >gi|386145036|gb|EIG91500.1| ribonuclease HI [Escherichia coli 97.0246] >gi|386152857|gb|EIH04146.1| ribonuclease HI [Escherichia coli 5.0588] >gi|386159495|gb|EIH15821.1| ribonuclease HI [Escherichia coli 97.0259] >gi|386169244|gb|EIH35752.1| ribonuclease HI [Escherichia coli 96.0497] >gi|386191895|gb|EIH80636.1| ribonuclease HI [Escherichia coli 4.0522] >gi|386193404|gb|EIH87688.1| ribonuclease HI [Escherichia coli JB1-95] >gi|386200009|gb|EIH99000.1| ribonuclease HI [Escherichia coli 96.154] >gi|386206513|gb|EII11019.1| ribonuclease HI [Escherichia coli 5.0959] >gi|386225941|gb|EII48266.1| ribonuclease HI [Escherichia coli 2.3916] >gi|386230720|gb|EII58075.1| ribonuclease HI [Escherichia coli 3.3884] >gi|386233934|gb|EII65914.1| ribonuclease HI [Escherichia coli 2.4168] >gi|386237761|gb|EII74705.1| ribonuclease HI [Escherichia coli 3.2303] >gi|386252524|gb|EIJ02215.1| ribonuclease HI [Escherichia coli B41] >gi|386261268|gb|EIJ16736.1| ribonuclease HI [Escherichia coli 900105 (10e)] >gi|386794225|gb|AFJ27259.1| ribonuclease H [Escherichia coli Xuzhou21] >gi|388335220|gb|EIL01792.1| ribonuclease H [Escherichia coli O111:H11 str. CVM9534] >gi|388347211|gb|EIL12897.1| ribonuclease H [Escherichia coli O111:H8 str. CVM9570] >gi|388352824|gb|EIL17910.1| ribonuclease H [Escherichia coli O111:H11 str. CVM9545] >gi|388357057|gb|EIL21676.1| ribonuclease H [Escherichia coli O111:H8 str. CVM9574] >gi|388367554|gb|EIL31227.1| ribonuclease H [Escherichia coli O26:H11 str. CVM9942] >gi|388371449|gb|EIL34927.1| hypothetical protein ECO10026_29509 [Escherichia coli O26:H11 str. CVM10026] >gi|388393750|gb|EIL55105.1| ribonuclease H [Escherichia coli 541-15] >gi|388394815|gb|EIL56069.1| ribonuclease H [Escherichia coli KD2] >gi|388397995|gb|EIL58948.1| ribonuclease H [Escherichia coli 576-1] >gi|388398538|gb|EIL59421.1| ribonuclease H [Escherichia coli 75] >gi|388421491|gb|EIL81105.1| ribonuclease H [Escherichia coli HM605] >gi|388422427|gb|EIL82007.1| ribonuclease H [Escherichia coli CUMT8] >gi|390651393|gb|EIN29689.1| ribonuclease H [Escherichia coli FRIK1996] >gi|390653967|gb|EIN32042.1| ribonuclease H [Escherichia coli FDA517] >gi|390654049|gb|EIN32112.1| ribonuclease H [Escherichia coli FDA505] >gi|390670748|gb|EIN47259.1| ribonuclease H [Escherichia coli 93-001] >gi|390674552|gb|EIN50736.1| ribonuclease H [Escherichia coli FRIK1990] >gi|390675713|gb|EIN51838.1| ribonuclease H [Escherichia coli FRIK1985] >gi|390689639|gb|EIN64566.1| ribonuclease H [Escherichia coli PA3] >gi|390693233|gb|EIN67870.1| ribonuclease H [Escherichia coli PA9] >gi|390694450|gb|EIN69023.1| ribonuclease H [Escherichia coli PA5] >gi|390709410|gb|EIN82511.1| ribonuclease H [Escherichia coli PA10] >gi|390711539|gb|EIN84511.1| ribonuclease H [Escherichia coli PA15] >gi|390714631|gb|EIN87517.1| ribonuclease H [Escherichia coli PA14] >gi|390720902|gb|EIN93604.1| ribonuclease H [Escherichia coli PA22] >gi|390734648|gb|EIO06138.1| ribonuclease H [Escherichia coli PA25] >gi|390734758|gb|EIO06214.1| ribonuclease H [Escherichia coli PA24] >gi|390737979|gb|EIO09216.1| ribonuclease H [Escherichia coli PA28] >gi|390753138|gb|EIO22888.1| ribonuclease H [Escherichia coli PA31] >gi|390753451|gb|EIO23158.1| ribonuclease H [Escherichia coli PA32] >gi|390757457|gb|EIO26938.1| ribonuclease H [Escherichia coli PA33] >gi|390762768|gb|EIO32023.1| ribonuclease H [Escherichia coli PA40] >gi|390777079|gb|EIO44940.1| ribonuclease H [Escherichia coli PA41] >gi|390779902|gb|EIO47613.1| ribonuclease H [Escherichia coli PA42] >gi|390783172|gb|EIO50783.1| ribonuclease H [Escherichia coli TW06591] >gi|390787527|gb|EIO55010.1| ribonuclease H [Escherichia coli PA39] >gi|390795721|gb|EIO63003.1| ribonuclease H [Escherichia coli TW10246] >gi|390802372|gb|EIO69409.1| ribonuclease H [Escherichia coli TW11039] >gi|390811655|gb|EIO78354.1| ribonuclease H [Escherichia coli TW07945] >gi|390811726|gb|EIO78411.1| ribonuclease H [Escherichia coli TW09109] >gi|390819828|gb|EIO86153.1| ribonuclease H [Escherichia coli TW10119] >gi|390824561|gb|EIO90530.1| ribonuclease H [Escherichia coli TW09098] >gi|390837780|gb|EIP02124.1| ribonuclease H [Escherichia coli EC4203] >gi|390840786|gb|EIP04786.1| ribonuclease H [Escherichia coli TW14313] >gi|390840899|gb|EIP04887.1| ribonuclease H [Escherichia coli EC4196] >gi|390844650|gb|EIP08356.1| ribonuclease H [Escherichia coli TW09195] >gi|390856429|gb|EIP19025.1| ribonuclease H [Escherichia coli TW14301] >gi|390861316|gb|EIP23580.1| ribonuclease H [Escherichia coli EC4421] >gi|390872338|gb|EIP33653.1| ribonuclease H [Escherichia coli EC4422] >gi|390877529|gb|EIP38449.1| ribonuclease H [Escherichia coli EC4013] >gi|390887034|gb|EIP47037.1| ribonuclease H [Escherichia coli EC4402] >gi|390888759|gb|EIP48566.1| ribonuclease H [Escherichia coli EC4439] >gi|390895887|gb|EIP55295.1| ribonuclease H [Escherichia coli EC4436] >gi|390903986|gb|EIP63002.1| ribonuclease H [Escherichia coli EC1738] >gi|390912130|gb|EIP70809.1| ribonuclease H [Escherichia coli EC4437] >gi|390912309|gb|EIP70964.1| ribonuclease H [Escherichia coli EC1734] >gi|390916865|gb|EIP75300.1| ribonuclease H [Escherichia coli EC4448] >gi|390925429|gb|EIP83116.1| ribonuclease H [Escherichia coli EC1863] >gi|390926553|gb|EIP84118.1| ribonuclease H [Escherichia coli EC1845] >gi|391255042|gb|EIQ14195.1| ribonuclease HI [Shigella flexneri 2850-71] >gi|391257742|gb|EIQ16852.1| ribonuclease HI [Shigella flexneri CCH060] >gi|391260821|gb|EIQ19874.1| ribonuclease HI [Shigella flexneri K-1770] >gi|391275105|gb|EIQ33901.1| ribonuclease HI [Shigella flexneri K-404] >gi|391277515|gb|EIQ36254.1| ribonuclease HI [Shigella sonnei 3226-85] >gi|391289985|gb|EIQ48465.1| ribonuclease HI [Shigella sonnei 3233-85] >gi|391297244|gb|EIQ55302.1| ribonuclease HI [Shigella sonnei 4822-66] >gi|391307302|gb|EIQ65039.1| ribonuclease HI [Shigella dysenteriae 225-75] >gi|391310198|gb|EIQ67854.1| ribonuclease HI [Escherichia coli EPECa12] >gi|391320886|gb|EIQ77671.1| ribonuclease HI [Shigella flexneri 1235-66] >gi|394382546|gb|EJE60179.1| RNase HI [Escherichia coli O26:H11 str. CVM10224] >gi|394384028|gb|EJE61602.1| ribonuclease H [Escherichia coli O111:H8 str. CVM9634] >gi|394385323|gb|EJE62860.1| ribonuclease H [Escherichia coli O111:H8 str. CVM9602] >gi|394398561|gb|EJE74726.1| ribonuclease H [Escherichia coli O111:H11 str. CVM9553] >gi|394401790|gb|EJE77563.1| ribonuclease H [Escherichia coli O26:H11 str. CVM10021] >gi|394403132|gb|EJE78801.1| ribonuclease H [Escherichia coli O111:H11 str. CVM9455] >gi|394416827|gb|EJE90594.1| ribonuclease H [Escherichia coli O26:H11 str. CVM10030] >gi|394419613|gb|EJE93199.1| ribonuclease H [Escherichia coli O26:H11 str. CVM9952] >gi|397787072|gb|EJK97902.1| ribonuclease H [Escherichia coli STEC_O31] >gi|397901912|gb|EJL18251.1| ribonuclease HI [Shigella flexneri 6603-63] >gi|397903432|gb|EJL19730.1| ribonuclease HI [Shigella sonnei str. Moseley] >gi|404292972|gb|EJZ49745.1| ribonuclease H [Escherichia sp. 1_1_43] >gi|404342084|gb|EJZ68476.1| ribonuclease HI [Shigella flexneri 1485-80] >gi|408072777|gb|EKH07094.1| ribonuclease H [Escherichia coli PA7] >gi|408077105|gb|EKH11318.1| ribonuclease H [Escherichia coli FRIK920] >gi|408087074|gb|EKH20546.1| ribonuclease H [Escherichia coli PA34] >gi|408091589|gb|EKH24811.1| ribonuclease H [Escherichia coli FDA506] >gi|408097126|gb|EKH30028.1| ribonuclease H [Escherichia coli FDA507] >gi|408103536|gb|EKH35880.1| ribonuclease H [Escherichia coli FDA504] >gi|408111135|gb|EKH42905.1| ribonuclease H [Escherichia coli FRIK1999] >gi|408117240|gb|EKH48446.1| ribonuclease H [Escherichia coli FRIK1997] >gi|408122735|gb|EKH53552.1| ribonuclease H [Escherichia coli NE1487] >gi|408130910|gb|EKH60975.1| ribonuclease H [Escherichia coli NE037] >gi|408132837|gb|EKH62776.1| ribonuclease H [Escherichia coli FRIK2001] >gi|408142027|gb|EKH71433.1| ribonuclease H [Escherichia coli PA4] >gi|408150812|gb|EKH79350.1| ribonuclease H [Escherichia coli PA23] >gi|408154350|gb|EKH82702.1| ribonuclease H [Escherichia coli PA49] >gi|408159318|gb|EKH87391.1| ribonuclease H [Escherichia coli PA45] >gi|408167768|gb|EKH95250.1| ribonuclease H [Escherichia coli TT12B] >gi|408173430|gb|EKI00451.1| ribonuclease H [Escherichia coli MA6] >gi|408175402|gb|EKI02320.1| ribonuclease H [Escherichia coli 5905] >gi|408187807|gb|EKI13716.1| ribonuclease H [Escherichia coli CB7326] >gi|408193393|gb|EKI18930.1| ribonuclease H [Escherichia coli 5412] >gi|408193808|gb|EKI19325.1| ribonuclease H [Escherichia coli EC96038] >gi|408198049|gb|EKI23294.1| ribonuclease H [Escherichia coli TW15901] >gi|408206582|gb|EKI31375.1| ribonuclease H [Escherichia coli TW00353] >gi|408219542|gb|EKI43681.1| ribonuclease H [Escherichia coli 3006] >gi|408232475|gb|EKI55673.1| ribonuclease H [Escherichia coli N1] >gi|408234210|gb|EKI57238.1| ribonuclease H [Escherichia coli PA38] >gi|408240671|gb|EKI63338.1| ribonuclease H [Escherichia coli EC1735] >gi|408250156|gb|EKI72034.1| ribonuclease H [Escherichia coli EC1736] >gi|408254498|gb|EKI76016.1| ribonuclease H [Escherichia coli EC1737] >gi|408260768|gb|EKI81834.1| ribonuclease H [Escherichia coli EC1846] >gi|408269282|gb|EKI89546.1| ribonuclease H [Escherichia coli EC1847] >gi|408271130|gb|EKI91273.1| ribonuclease H [Escherichia coli EC1848] >gi|408280215|gb|EKI99786.1| ribonuclease H [Escherichia coli EC1849] >gi|408286112|gb|EKJ05062.1| ribonuclease H [Escherichia coli EC1850] >gi|408288991|gb|EKJ07775.1| ribonuclease H [Escherichia coli EC1856] >gi|408301652|gb|EKJ19229.1| ribonuclease H [Escherichia coli EC1862] >gi|408301690|gb|EKJ19254.1| ribonuclease H [Escherichia coli EC1864] >gi|408310852|gb|EKJ27892.1| ribonuclease H [Escherichia coli EC1865] >gi|408319350|gb|EKJ35491.1| ribonuclease H [Escherichia coli EC1868] >gi|408319553|gb|EKJ35687.1| ribonuclease H [Escherichia coli EC1866] >gi|408332296|gb|EKJ47349.1| ribonuclease H [Escherichia coli EC1869] >gi|408337893|gb|EKJ52575.1| ribonuclease H [Escherichia coli NE098] >gi|408339499|gb|EKJ54074.1| ribonuclease H [Escherichia coli EC1870] >gi|408348178|gb|EKJ62295.1| ribonuclease H [Escherichia coli 0.1288] >gi|408351024|gb|EKJ64834.1| ribonuclease H [Escherichia coli FRIK523] >gi|408353502|gb|EKJ67003.1| ribonuclease H [Escherichia coli 0.1304] >gi|408456840|gb|EKJ80647.1| ribonuclease HI [Escherichia coli AD30] >gi|408560145|gb|EKK36425.1| RNase H family protein [Escherichia coli 5.2239] >gi|408560189|gb|EKK36456.1| RNase H family protein [Escherichia coli 3.4870] >gi|408561338|gb|EKK37558.1| ribonuclease H [Escherichia coli 6.0172] >gi|408563174|gb|EKK39314.1| ribonuclease H [Escherichia coli 8.0566] >gi|408574182|gb|EKK49976.1| RNase H family protein [Escherichia coli 8.0569] >gi|408585947|gb|EKK60754.1| RNase H family protein [Escherichia coli 8.0586] >gi|408591866|gb|EKK66283.1| RNase H family protein [Escherichia coli 8.2524] >gi|408593252|gb|EKK67578.1| ribonuclease H [Escherichia coli 10.0833] >gi|408605365|gb|EKK78879.1| RNase H family protein [Escherichia coli 10.0869] >gi|408606199|gb|EKK79654.1| ribonuclease H [Escherichia coli 8.0416] >gi|408613319|gb|EKK86625.1| RNase H family protein [Escherichia coli 88.0221] >gi|408617964|gb|EKK91059.1| RNase H family protein [Escherichia coli 10.0821] >gi|412961465|emb|CCK45370.1| RNase HI [Escherichia coli chi7122] >gi|412968067|emb|CCJ42680.1| RNase HI, degrades RNA of DNA-RNA hybrids, participates in DNA replication [Escherichia coli] >gi|421934768|gb|EKT92515.1| RNase HI [Escherichia coli O111:H11 str. CFSAN001630] >gi|421937814|gb|EKT95411.1| RNase HI [Escherichia coli O111:H8 str. CFSAN001632] >gi|421938963|gb|EKT96495.1| RNase HI [Escherichia coli O26:H11 str. CFSAN001629] >gi|427215368|gb|EKV84552.1| RNase H family protein [Escherichia coli 88.1042] >gi|427218816|gb|EKV87801.1| RNase H family protein [Escherichia coli 89.0511] >gi|427218989|gb|EKV87964.1| RNase H family protein [Escherichia coli 88.1467] >gi|427235092|gb|EKW02737.1| RNase H family protein [Escherichia coli 90.2281] >gi|427235205|gb|EKW02843.1| RNase H family protein [Escherichia coli 90.0039] >gi|427237465|gb|EKW05003.1| RNase H family protein [Escherichia coli 90.0091] >gi|427252167|gb|EKW18671.1| RNase H family protein [Escherichia coli 93.0056] >gi|427253851|gb|EKW20239.1| RNase H family protein [Escherichia coli 93.0055] >gi|427254785|gb|EKW21080.1| RNase H family protein [Escherichia coli 94.0618] >gi|427258228|gb|EKW24324.1| RNase H family protein [Escherichia coli 95.1288] >gi|427271399|gb|EKW36217.1| RNase H family protein [Escherichia coli 95.0943] >gi|427271964|gb|EKW36737.1| RNase H family protein [Escherichia coli 95.0183] >gi|427287167|gb|EKW50955.1| RNase H family protein [Escherichia coli 96.0428] >gi|427293100|gb|EKW56376.1| RNase H family protein [Escherichia coli 96.0427] >gi|427294668|gb|EKW57839.1| RNase H family protein [Escherichia coli 96.0939] >gi|427305235|gb|EKW67834.1| RNase H family protein [Escherichia coli 97.0003] >gi|427307544|gb|EKW69986.1| RNase H family protein [Escherichia coli 96.0932] >gi|427311910|gb|EKW74082.1| RNase H family protein [Escherichia coli 96.0107] >gi|427322722|gb|EKW84348.1| RNase H family protein [Escherichia coli 97.1742] >gi|427323373|gb|EKW84949.1| RNase H family protein [Escherichia coli 97.0007] >gi|427335135|gb|EKW96174.1| RNase H family protein [Escherichia coli 99.0713] >gi|427335175|gb|EKW96211.1| ribonuclease H [Escherichia coli 99.0678] >gi|427337189|gb|EKW98112.1| RNase H family protein [Escherichia coli 99.0672] >gi|429260671|gb|EKY44208.1| RNase H family protein [Escherichia coli 96.0109] >gi|429262242|gb|EKY45592.1| RNase H family protein [Escherichia coli 97.0010] >gi|430879380|gb|ELC02711.1| ribonuclease H [Escherichia coli KTE4] >gi|430881421|gb|ELC04675.1| ribonuclease H [Escherichia coli KTE2] >gi|430889375|gb|ELC12041.1| ribonuclease H [Escherichia coli KTE10] >gi|430891228|gb|ELC13764.1| ribonuclease H [Escherichia coli KTE5] >gi|430901624|gb|ELC23521.1| ribonuclease HI [Escherichia coli KTE12] >gi|430918448|gb|ELC39449.1| ribonuclease H [Escherichia coli KTE25] >gi|430922847|gb|ELC43585.1| ribonuclease H [Escherichia coli KTE21] >gi|430930404|gb|ELC50905.1| ribonuclease HI [Escherichia coli KTE26] >gi|430932594|gb|ELC53013.1| ribonuclease H [Escherichia coli KTE28] >gi|430944345|gb|ELC64442.1| ribonuclease H [Escherichia coli KTE44] >gi|430948243|gb|ELC67922.1| ribonuclease H [Escherichia coli KTE181] >gi|430993129|gb|ELD09486.1| ribonuclease H [Escherichia coli KTE204] >gi|430997760|gb|ELD14015.1| ribonuclease H [Escherichia coli KTE205] >gi|431010588|gb|ELD24932.1| ribonuclease H [Escherichia coli KTE210] >gi|431011232|gb|ELD25315.1| ribonuclease HI [Escherichia coli KTE208] >gi|431013980|gb|ELD27695.1| ribonuclease H [Escherichia coli KTE213] >gi|431019506|gb|ELD32902.1| ribonuclease HI [Escherichia coli KTE212] >gi|431045970|gb|ELD56099.1| ribonuclease H [Escherichia coli KTE228] >gi|431057848|gb|ELD67266.1| ribonuclease H [Escherichia coli KTE233] >gi|431064685|gb|ELD73547.1| ribonuclease H [Escherichia coli KTE234] >gi|431065186|gb|ELD73963.1| ribonuclease HI [Escherichia coli KTE235] >gi|431078111|gb|ELD85169.1| ribonuclease H [Escherichia coli KTE236] >gi|431086236|gb|ELD92264.1| ribonuclease H [Escherichia coli KTE237] >gi|431100296|gb|ELE05300.1| ribonuclease H [Escherichia coli KTE51] >gi|431111328|gb|ELE15232.1| ribonuclease H [Escherichia coli KTE55] >gi|431121709|gb|ELE24588.1| ribonuclease H [Escherichia coli KTE57] >gi|431123819|gb|ELE26473.1| ribonuclease H [Escherichia coli KTE58] >gi|431133776|gb|ELE35742.1| ribonuclease H [Escherichia coli KTE62] >gi|431144759|gb|ELE46453.1| ribonuclease HI [Escherichia coli KTE66] >gi|431158720|gb|ELE59318.1| ribonuclease H [Escherichia coli KTE75] >gi|431163239|gb|ELE63673.1| ribonuclease H [Escherichia coli KTE76] >gi|431165667|gb|ELE65999.1| ribonuclease H [Escherichia coli KTE77] >gi|431174794|gb|ELE74830.1| ribonuclease H [Escherichia coli KTE81] >gi|431175086|gb|ELE75107.1| ribonuclease H [Escherichia coli KTE80] >gi|431185804|gb|ELE85497.1| ribonuclease H [Escherichia coli KTE83] >gi|431204298|gb|ELF02871.1| ribonuclease HI [Escherichia coli KTE111] >gi|431205230|gb|ELF03729.1| ribonuclease H [Escherichia coli KTE116] >gi|431207988|gb|ELF06218.1| ribonuclease H [Escherichia coli KTE142] >gi|431214309|gb|ELF12133.1| ribonuclease H [Escherichia coli KTE119] >gi|431225270|gb|ELF22474.1| ribonuclease HI [Escherichia coli KTE143] >gi|431225636|gb|ELF22830.1| ribonuclease H [Escherichia coli KTE156] >gi|431231728|gb|ELF27412.1| ribonuclease H [Escherichia coli KTE161] >gi|431247737|gb|ELF41951.1| ribonuclease HI [Escherichia coli KTE171] >gi|431268557|gb|ELF60026.1| ribonuclease H [Escherichia coli KTE17] >gi|431276415|gb|ELF67435.1| ribonuclease H [Escherichia coli KTE18] >gi|431286118|gb|ELF76944.1| ribonuclease HI [Escherichia coli KTE23] >gi|431287944|gb|ELF78730.1| ribonuclease H [Escherichia coli KTE42] >gi|431301655|gb|ELF90857.1| ribonuclease H [Escherichia coli KTE29] >gi|431305818|gb|ELF94135.1| ribonuclease H [Escherichia coli KTE22] >gi|431319894|gb|ELG07547.1| ribonuclease H [Escherichia coli KTE50] >gi|431321282|gb|ELG08893.1| ribonuclease HI [Escherichia coli KTE54] >gi|431331519|gb|ELG18772.1| ribonuclease H [Escherichia coli KTE59] >gi|431341818|gb|ELG28814.1| ribonuclease HI [Escherichia coli KTE65] >gi|431342235|gb|ELG29214.1| ribonuclease HI [Escherichia coli KTE78] >gi|431345626|gb|ELG32540.1| ribonuclease HI [Escherichia coli KTE79] >gi|431357595|gb|ELG44261.1| ribonuclease HI [Escherichia coli KTE91] >gi|431368738|gb|ELG54969.1| ribonuclease H [Escherichia coli KTE115] >gi|431370562|gb|ELG56355.1| ribonuclease HI [Escherichia coli KTE118] >gi|431375072|gb|ELG60416.1| ribonuclease H [Escherichia coli KTE123] >gi|431379948|gb|ELG64848.1| ribonuclease H [Escherichia coli KTE135] >gi|431388474|gb|ELG72197.1| ribonuclease H [Escherichia coli KTE136] >gi|431392235|gb|ELG75835.1| ribonuclease H [Escherichia coli KTE140] >gi|431405473|gb|ELG88712.1| ribonuclease H [Escherichia coli KTE147] >gi|431414264|gb|ELG97007.1| ribonuclease H [Escherichia coli KTE154] >gi|431420708|gb|ELH02985.1| ribonuclease H [Escherichia coli KTE158] >gi|431425299|gb|ELH07369.1| ribonuclease H [Escherichia coli KTE165] >gi|431448816|gb|ELH29529.1| ribonuclease H [Escherichia coli KTE190] >gi|431456551|gb|ELH36894.1| ribonuclease H [Escherichia coli KTE184] >gi|431463796|gb|ELH43919.1| ribonuclease H [Escherichia coli KTE196] >gi|431472347|gb|ELH52237.1| ribonuclease H [Escherichia coli KTE197] >gi|431475711|gb|ELH55515.1| ribonuclease HI [Escherichia coli KTE203] >gi|431480893|gb|ELH60608.1| ribonuclease H [Escherichia coli KTE202] >gi|431498548|gb|ELH77733.1| ribonuclease HI [Escherichia coli KTE217] >gi|431517073|gb|ELH94595.1| ribonuclease H [Escherichia coli KTE227] >gi|431519170|gb|ELH96622.1| ribonuclease H [Escherichia coli KTE229] >gi|431537890|gb|ELI13999.1| ribonuclease H [Escherichia coli KTE105] >gi|431560861|gb|ELI34367.1| ribonuclease H [Escherichia coli KTE117] >gi|431573772|gb|ELI46567.1| ribonuclease H [Escherichia coli KTE120] >gi|431576273|gb|ELI48965.1| ribonuclease H [Escherichia coli KTE122] >gi|431589120|gb|ELI60337.1| ribonuclease H [Escherichia coli KTE125] >gi|431592895|gb|ELI63463.1| ribonuclease H [Escherichia coli KTE128] >gi|431595440|gb|ELI65438.1| ribonuclease HI [Escherichia coli KTE129] >gi|431615673|gb|ELI84796.1| ribonuclease H [Escherichia coli KTE138] >gi|431632933|gb|ELJ01218.1| ribonuclease H [Escherichia coli KTE150] >gi|431650300|gb|ELJ17635.1| ribonuclease H [Escherichia coli KTE157] >gi|431652127|gb|ELJ19287.1| ribonuclease H [Escherichia coli KTE163] >gi|431663521|gb|ELJ30281.1| ribonuclease HI [Escherichia coli KTE166] >gi|431678857|gb|ELJ44777.1| ribonuclease H [Escherichia coli KTE176] >gi|431683039|gb|ELJ48682.1| ribonuclease H [Escherichia coli KTE177] >gi|431693011|gb|ELJ58431.1| ribonuclease HI [Escherichia coli KTE179] >gi|431694937|gb|ELJ60279.1| ribonuclease H [Escherichia coli KTE180] >gi|431696902|gb|ELJ62052.1| ribonuclease H [Escherichia coli KTE232] >gi|431711488|gb|ELJ75807.1| ribonuclease H [Escherichia coli KTE82] >gi|431712585|gb|ELJ76874.1| ribonuclease H [Escherichia coli KTE85] >gi|431722751|gb|ELJ86714.1| ribonuclease H [Escherichia coli KTE90] >gi|431726889|gb|ELJ90654.1| ribonuclease H [Escherichia coli KTE95] >gi|441609940|emb|CCP94604.1| Ribonuclease HI [Escherichia coli O10:K5(L):H4 str. ATCC 23506] >gi|441655576|emb|CCP99812.1| Ribonuclease HI [Escherichia coli O5:K4(L):H4 str. ATCC 23502] >gi|443420730|gb|AGC85634.1| RNase HI [Escherichia coli APEC O78] >gi|444543302|gb|ELV22577.1| RNase H family protein [Escherichia coli 99.0814] >gi|444551881|gb|ELV29755.1| RNase H family protein [Escherichia coli 09BKT078844] >gi|444552540|gb|ELV30337.1| RNase H family protein [Escherichia coli 99.0815] >gi|444565952|gb|ELV42793.1| RNase H family protein [Escherichia coli 99.0839] >gi|444568227|gb|ELV44915.1| RNase H family protein [Escherichia coli 99.0816] >gi|444572798|gb|ELV49209.1| RNase H family protein [Escherichia coli 99.0848] >gi|444583536|gb|ELV59247.1| RNase H family protein [Escherichia coli 99.1753] >gi|444586400|gb|ELV61908.1| RNase H family protein [Escherichia coli 99.1775] >gi|444586765|gb|ELV62250.1| RNase H family protein [Escherichia coli 99.1793] >gi|444600795|gb|ELV75615.1| RNase H family protein [Escherichia coli ATCC 700728] >gi|444600869|gb|ELV75683.1| RNase H family protein [Escherichia coli PA11] >gi|444609908|gb|ELV84350.1| RNase H family protein [Escherichia coli 99.1805] >gi|444616078|gb|ELV90251.1| RNase H family protein [Escherichia coli PA13] >gi|444616738|gb|ELV90891.1| RNase H family protein [Escherichia coli PA19] >gi|444624402|gb|ELV98287.1| RNase H family protein [Escherichia coli PA2] >gi|444633571|gb|ELW07084.1| RNase H family protein [Escherichia coli PA48] >gi|444633837|gb|ELW07335.1| RNase H family protein [Escherichia coli PA47] >gi|444638709|gb|ELW12037.1| RNase H family protein [Escherichia coli PA8] >gi|444648758|gb|ELW21674.1| RNase H family protein [Escherichia coli 7.1982] >gi|444650905|gb|ELW23719.1| RNase H family protein [Escherichia coli 99.1781] >gi|444654913|gb|ELW27543.1| RNase H family protein [Escherichia coli 99.1762] >gi|444664002|gb|ELW36205.1| RNase H family protein [Escherichia coli PA35] >gi|444668618|gb|ELW40628.1| RNase H family protein [Escherichia coli 3.4880] >gi|444673402|gb|ELW45040.1| RNase H family protein [Escherichia coli 95.0083] >gi|444674833|gb|ELW46330.1| RNase H family protein [Escherichia coli 99.0670] >gi|449323381|gb|EMD13341.1| RNase HI [Escherichia coli O08] >gi|449325248|gb|EMD15160.1| RNase HI [Escherichia coli SEPT362] >gi|449325449|gb|EMD15353.1| RNase HI [Escherichia coli S17] >gi|472415864|gb|EMR98518.1| ribonuclease HI, degrades RNA of DNA-RNA hybrids [Escherichia coli ONT:H33 str. C48/93] >gi|472428186|gb|EMS10470.1| ribonuclease HI, degrades RNA of DNA-RNA hybrids [Escherichia coli O127:H27 str. C43/90] >gi|476040773|gb|EMU66137.1| RNase H family protein [Escherichia coli MP021552.7] >gi|476042356|gb|EMU67674.1| RNase H family protein [Escherichia coli MP021552.11] >gi|476047269|gb|EMU72344.1| RNase H family protein [Escherichia coli MP021552.12] >gi|476060510|gb|EMU85169.1| RNase H family protein [Escherichia coli MP021017.9] >gi|476060753|gb|EMU85406.1| RNase H family protein [Escherichia coli MP021017.5] >gi|476073924|gb|EMU98301.1| RNase H family protein [Escherichia coli MP021017.4] >gi|476076493|gb|EMV00816.1| RNase H family protein [Escherichia coli MP021017.3] >gi|476078331|gb|EMV02573.1| RNase H family protein [Escherichia coli MP021017.2] >gi|476086507|gb|EMV10299.1| RNase H family protein [Escherichia coli MP021017.10] >gi|476090819|gb|EMV14430.1| RNase H family protein [Escherichia coli MP021017.11] >gi|476100804|gb|EMV24153.1| RNase H family protein [Escherichia coli C-34666] >gi|476102798|gb|EMV26085.1| RNase H family protein [Escherichia coli BCE034_MS-14] >gi|476108064|gb|EMV31008.1| RNase H family protein [Escherichia coli MP021017.12] >gi|476114119|gb|EMV36941.1| RNase H family protein [Escherichia coli BCE002_MS12] >gi|476121252|gb|EMV43910.1| RNase H family protein [Escherichia coli 2875000] >gi|476126219|gb|EMV48745.1| RNase H family protein [Escherichia coli BCE019_MS-13] >gi|476127116|gb|EMV49611.1| RNase H family protein [Escherichia coli 2872800] >gi|476142026|gb|EMV63993.1| RNase H family protein [Escherichia coli 2867750] >gi|476143372|gb|EMV65299.1| RNase H family protein [Escherichia coli 2872000] >gi|476143779|gb|EMV65692.1| RNase H family protein [Escherichia coli 2871950] >gi|476158070|gb|EMV79734.1| RNase H family protein [Escherichia coli 2866550] >gi|476158204|gb|EMV79861.1| RNase H family protein [Escherichia coli 2866450] >gi|476159306|gb|EMV80909.1| RNase H family protein [Escherichia coli 2866750] >gi|476169840|gb|EMV91027.1| RNase H family protein [Escherichia coli 2861200] >gi|476174331|gb|EMV95395.1| RNase H family protein [Escherichia coli 2865200] >gi|476176784|gb|EMV97797.1| RNase H family protein [Escherichia coli 2860050] >gi|476188859|gb|EMW09700.1| RNase H family protein [Escherichia coli 2853500] >gi|476188884|gb|EMW09724.1| RNase H family protein [Escherichia coli 2851500] >gi|476191306|gb|EMW12040.1| RNase H family protein [Escherichia coli 2850750] >gi|476205020|gb|EMW25386.1| RNase H family protein [Escherichia coli 2850400] >gi|476205555|gb|EMW25912.1| RNase H family protein [Escherichia coli 2845650] >gi|476208252|gb|EMW28514.1| RNase H family protein [Escherichia coli 2848050] >gi|476218391|gb|EMW38346.1| RNase H family protein [Escherichia coli 2845350] >gi|476224532|gb|EMW44226.1| RNase H family protein [Escherichia coli 2788150] >gi|476233681|gb|EMW53115.1| RNase H family protein [Escherichia coli 2780750] >gi|476238723|gb|EMW58055.1| RNase H family protein [Escherichia coli 2770900] >gi|476245426|gb|EMW64538.1| RNase H family protein [Escherichia coli 2762100] >gi|476246564|gb|EMW65637.1| RNase H family protein [Escherichia coli 2756500] >gi|476253397|gb|EMW72178.1| RNase H family protein [Escherichia coli 2749250] >gi|476262929|gb|EMW81537.1| RNase H family protein [Escherichia coli 2747800] >gi|476269569|gb|EMW88000.1| RNase H family protein [Escherichia coli 2731150] >gi|476272938|gb|EMW91201.1| RNase H family protein [Escherichia coli 180050] >gi|476283828|gb|EMX01940.1| RNase H family protein [Escherichia coli ThroopD] >gi|476291840|gb|EMX09856.1| RNase H family protein [Escherichia coli P0302308.1] >gi|476295039|gb|EMX13016.1| RNase H family protein [Escherichia coli 174750] >gi|476299189|gb|EMX17107.1| RNase H family protein [Escherichia coli P0302293.2] >gi|476305326|gb|EMX23180.1| RNase H family protein [Escherichia coli P0301867.1] >gi|476308953|gb|EMX26744.1| RNase H family protein [Escherichia coli MP021566.1] >gi|476315427|gb|EMX33091.1| RNase H family protein [Escherichia coli MP021561.2] >gi|476325473|gb|EMX43029.1| RNase H family protein [Escherichia coli MP021017.1] >gi|476325647|gb|EMX43199.1| RNase H family protein [Escherichia coli MP021552.8] >gi|476337339|gb|EMX54776.1| RNase H family protein [Escherichia coli MP020980.2] >gi|476340092|gb|EMX57515.1| RNase H family protein [Escherichia coli Jurua 20/10] >gi|476342929|gb|EMX60316.1| RNase H family protein [Escherichia coli MP020940.1] >gi|476358652|gb|EMX75915.1| RNase H family protein [Escherichia coli Envira 10/1] >gi|476361153|gb|EMX78401.1| RNase H family protein [Escherichia coli Envira 8/11] >gi|476374193|gb|EMX91317.1| RNase H family protein [Escherichia coli 2719100] >gi|476377653|gb|EMX94753.1| RNase H family protein [Escherichia coli BCE001_MS16] >gi|476379417|gb|EMX96471.1| RNase H family protein [Escherichia coli 2720900] >gi|476664242|gb|EMZ70207.1| RNase H family protein [Escherichia coli 174900] >gi|476666826|gb|EMZ72693.1| RNase H family protein [Escherichia coli 2735000] >gi|476670748|gb|EMZ76488.1| RNase H family protein [Escherichia coli 2846750] >gi|476682653|gb|EMZ88184.1| RNase H family protein [Escherichia coli p0305293.1] >gi|476683553|gb|EMZ89039.1| RNase H family protein [Escherichia coli 2722950] >gi|476689790|gb|EMZ95112.1| RNase H family protein [Escherichia coli P0305260.1] >gi|476694531|gb|EMZ99775.1| RNase H family protein [Escherichia coli P0304816.1] >gi|476703311|gb|ENA08452.1| RNase H family protein [Escherichia coli P0299438.2] >gi|476705089|gb|ENA10203.1| RNase H family protein [Escherichia coli P0299917.1] >gi|476713651|gb|ENA18655.1| RNase H family protein [Escherichia coli BCE008_MS-13] >gi|476719083|gb|ENA24015.1| RNase H family protein [Escherichia coli P0298942.1] >gi|476720448|gb|ENA25351.1| RNase H family protein [Escherichia coli 201600.1] >gi|476731586|gb|ENA36335.1| RNase H family protein [Escherichia coli BCE007_MS-11] >gi|476737602|gb|ENA42161.1| RNase H family protein [Escherichia coli P0301867.4] >gi|476743431|gb|ENA47746.1| RNase H family protein [Escherichia coli P0301867.2] >gi|476752770|gb|ENA56803.1| RNase H family protein [Escherichia coli 2729250] >gi|476753787|gb|ENA57781.1| RNase H family protein [Escherichia coli 2726950] >gi|476764744|gb|ENA68032.1| RNase H family protein [Escherichia coli 178900] >gi|476767695|gb|ENA70766.1| RNase H family protein [Escherichia coli 179550] >gi|476769144|gb|ENA72031.1| RNase H family protein [Escherichia coli 180200] >gi|476783280|gb|ENA85312.1| RNase H family protein [Escherichia coli 2730450] >gi|476784553|gb|ENA86522.1| RNase H family protein [Escherichia coli 2741950] >gi|476785961|gb|ENA87794.1| RNase H family protein [Escherichia coli 2730350] >gi|476797688|gb|ENA99145.1| RNase H family protein [Escherichia coli 2864350] >gi|476799625|gb|ENB01030.1| RNase H family protein [Escherichia coli 2860650] >gi|476801890|gb|ENB03140.1| RNase H family protein [Escherichia coli 2862600] >gi|476810333|gb|ENB11163.1| RNase H family protein [Escherichia coli 2866350] >gi|476822346|gb|ENB22103.1| RNase H family protein [Escherichia coli BCE008_MS-01] >gi|476826401|gb|ENB25886.1| RNase H family protein [Escherichia coli BCE011_MS-01] >gi|476833421|gb|ENB32494.1| RNase H family protein [Escherichia coli BCE030_MS-09] >gi|476844089|gb|ENB41873.1| RNase H family protein [Escherichia coli BCE032_MS-12] >gi|476848588|gb|ENB43908.1| RNase H family protein [Escherichia coli MP021561.3] >gi|476850902|gb|ENB46123.1| RNase H family protein [Escherichia coli P0298942.10] >gi|476857398|gb|ENB52235.1| RNase H family protein [Escherichia coli P0298942.11] >gi|476874862|gb|ENB67301.1| RNase H family protein [Escherichia coli P0298942.15] >gi|476875554|gb|ENB67966.1| RNase H family protein [Escherichia coli P0298942.6] >gi|476878556|gb|ENB70669.1| RNase H family protein [Escherichia coli P0298942.2] >gi|476891468|gb|ENB82619.1| RNase H family protein [Escherichia coli P0298942.7] >gi|476893930|gb|ENB84920.1| RNase H family protein [Escherichia coli P0298942.8] >gi|476898442|gb|ENB89216.1| RNase H family protein [Escherichia coli P0298942.9] >gi|476900043|gb|ENB90723.1| RNase H family protein [Escherichia coli P0299438.10] >gi|476910609|gb|ENC00677.1| RNase H family protein [Escherichia coli P0299438.11] >gi|476914705|gb|ENC04669.1| RNase H family protein [Escherichia coli P0299438.3] >gi|476918508|gb|ENC08327.1| RNase H family protein [Escherichia coli P0299438.4] >gi|476927465|gb|ENC17073.1| RNase H family protein [Escherichia coli P0299438.5] >gi|476932917|gb|ENC22413.1| RNase H family protein [Escherichia coli P0299438.6] >gi|476934118|gb|ENC23577.1| RNase H family protein [Escherichia coli P0299438.7] >gi|476939718|gb|ENC28984.1| RNase H family protein [Escherichia coli P0299438.8] >gi|476949132|gb|ENC38032.1| RNase H family protein [Escherichia coli P0299438.9] >gi|476949883|gb|ENC38757.1| RNase H family protein [Escherichia coli P02997067.6] >gi|476954251|gb|ENC42799.1| RNase H family protein [Escherichia coli P0299917.10] >gi|476961349|gb|ENC49399.1| RNase H family protein [Escherichia coli P0299917.2] >gi|476972991|gb|ENC60406.1| RNase H family protein [Escherichia coli P0299917.4] >gi|476977611|gb|ENC64813.1| RNase H family protein [Escherichia coli P0299917.5] >gi|476978323|gb|ENC65469.1| RNase H family protein [Escherichia coli P0299917.3] >gi|476990599|gb|ENC77216.1| RNase H family protein [Escherichia coli P0299917.8] >gi|476990910|gb|ENC77520.1| RNase H family protein [Escherichia coli P0299917.6] >gi|476995841|gb|ENC82249.1| RNase H family protein [Escherichia coli P0299917.7] >gi|477000667|gb|ENC86797.1| RNase H family protein [Escherichia coli P0299917.9] >gi|477008170|gb|ENC93890.1| RNase H family protein [Escherichia coli P0301867.11] >gi|477018583|gb|END03843.1| RNase H family protein [Escherichia coli P0302308.10] >gi|477021096|gb|END06163.1| RNase H family protein [Escherichia coli P0302308.11] >gi|477030697|gb|END15435.1| RNase H family protein [Escherichia coli P0301867.8] >gi|477030856|gb|END15586.1| RNase H family protein [Escherichia coli P0302308.3] >gi|477033244|gb|END17816.1| RNase H family protein [Escherichia coli P0302308.2] >gi|477040968|gb|END24951.1| RNase H family protein [Escherichia coli P0302308.5] >gi|477045549|gb|END28976.1| RNase H family protein [Escherichia coli P0302308.4] >gi|477064812|gb|END47087.1| RNase H family protein [Escherichia coli 2733950] >gi|477074547|gb|END56203.1| RNase H family protein [Escherichia coli MP020980.1] >gi|477076589|gb|END58144.1| RNase H family protein [Escherichia coli p0305293.13] >gi|477079437|gb|END60755.1| RNase H family protein [Escherichia coli BCE006_MS-23] >gi|477092847|gb|END73611.1| RNase H family protein [Escherichia coli P0299483.1] >gi|477094934|gb|END75631.1| RNase H family protein [Escherichia coli P0298942.4] >gi|477095055|gb|END75750.1| RNase H family protein [Escherichia coli P0298942.3] >gi|477103510|gb|END83932.1| RNase H family protein [Escherichia coli P0299483.2] >gi|477105958|gb|END86216.1| RNase H family protein [Escherichia coli P0299483.3] >gi|477117387|gb|END97090.1| RNase H family protein [Escherichia coli P0301867.13] >gi|477120228|gb|END99777.1| RNase H family protein [Escherichia coli P0302293.7] >gi|477121166|gb|ENE00697.1| RNase H family protein [Escherichia coli P0301904.3] >gi|477134784|gb|ENE13736.1| RNase H family protein [Escherichia coli P0305260.2] >gi|477136908|gb|ENE15740.1| RNase H family protein [Escherichia coli p0305293.14] >gi|477138459|gb|ENE17083.1| RNase H family protein [Escherichia coli P0304799.3] >gi|477147415|gb|ENE25457.1| RNase H family protein [Escherichia coli P0302293.3] >gi|477153342|gb|ENE31074.1| RNase H family protein [Escherichia coli P0302293.10] >gi|477155264|gb|ENE32886.1| RNase H family protein [Escherichia coli P0302293.4] >gi|477162714|gb|ENE39915.1| RNase H family protein [Escherichia coli P0302293.6] >gi|477169375|gb|ENE46325.1| RNase H family protein [Escherichia coli P0302293.8] >gi|477178487|gb|ENE55148.1| RNase H family protein [Escherichia coli P0302293.9] >gi|477250389|gb|ENF23639.1| RNase H family protein [Escherichia coli P0304816.11] >gi|477254088|gb|ENF27091.1| RNase H family protein [Escherichia coli P0304816.10] >gi|477263256|gb|ENF35838.1| RNase H family protein [Escherichia coli P0304816.12] >gi|477266750|gb|ENF39225.1| RNase H family protein [Escherichia coli P0304816.14] >gi|477270123|gb|ENF42365.1| RNase H family protein [Escherichia coli P0304816.13] >gi|477282908|gb|ENF54774.1| RNase H family protein [Escherichia coli P0304816.15] >gi|477285426|gb|ENF57176.1| RNase H family protein [Escherichia coli P0304816.6] >gi|477285496|gb|ENF57237.1| RNase H family protein [Escherichia coli P0304816.2] >gi|477294026|gb|ENF65095.1| RNase H family protein [Escherichia coli P0304816.7] >gi|477304109|gb|ENF74923.1| RNase H family protein [Escherichia coli P0304816.8] >gi|477307040|gb|ENF77686.1| RNase H family protein [Escherichia coli P0304816.9] >gi|477309469|gb|ENF79997.1| RNase H family protein [Escherichia coli P0305260.10] >gi|477319128|gb|ENF89223.1| RNase H family protein [Escherichia coli P0305260.11] >gi|477322097|gb|ENF92043.1| RNase H family protein [Escherichia coli P0305260.12] >gi|477325012|gb|ENF94828.1| RNase H family protein [Escherichia coli P0305260.13] >gi|477331536|gb|ENG01090.1| RNase H family protein [Escherichia coli P0305260.15] >gi|477338475|gb|ENG07749.1| RNase H family protein [Escherichia coli P0305260.3] >gi|477339328|gb|ENG08576.1| RNase H family protein [Escherichia coli P0305260.4] >gi|477350557|gb|ENG19447.1| RNase H family protein [Escherichia coli P0305260.5] >gi|477354741|gb|ENG23506.1| RNase H family protein [Escherichia coli P0305260.6] >gi|477355194|gb|ENG23949.1| RNase H family protein [Escherichia coli P0305260.7] >gi|477362731|gb|ENG31250.1| RNase H family protein [Escherichia coli P0305260.8] >gi|477368377|gb|ENG36716.1| RNase H family protein [Escherichia coli p0305293.10] >gi|477369758|gb|ENG38047.1| RNase H family protein [Escherichia coli P0305260.9] >gi|477379324|gb|ENG47091.1| RNase H family protein [Escherichia coli p0305293.12] >gi|477380617|gb|ENG48332.1| RNase H family protein [Escherichia coli p0305293.11] >gi|477388983|gb|ENG56278.1| RNase H family protein [Escherichia coli p0305293.15] >gi|477393582|gb|ENG60618.1| RNase H family protein [Escherichia coli p0305293.2] >gi|477399953|gb|ENG66703.1| RNase H family protein [Escherichia coli p0305293.3] >gi|477403458|gb|ENG70014.1| RNase H family protein [Escherichia coli p0305293.4] >gi|477407631|gb|ENG73929.1| RNase H family protein [Escherichia coli p0305293.8] >gi|477414526|gb|ENG80261.1| RNase H family protein [Escherichia coli p0305293.9] >gi|477423390|gb|ENG88357.1| RNase H family protein [Escherichia coli P0298942.12] >gi|477428075|gb|ENG92698.1| RNase H family protein [Escherichia coli P0298942.14] >gi|477436431|gb|ENH00669.1| RNase H family protein [Escherichia coli P0301867.3] >gi|477441410|gb|ENH05384.1| RNase H family protein [Escherichia coli P0301867.5] >gi|477445707|gb|ENH09453.1| RNase H family protein [Escherichia coli 178850] >gi|477445735|gb|ENH09475.1| RNase H family protein [Escherichia coli P0301867.7] >gi|477462419|gb|ENH25301.1| RNase H family protein [Escherichia coli P0302308.14] >gi|477462869|gb|ENH25733.1| RNase H family protein [Escherichia coli P0302308.12] >gi|477463711|gb|ENH26519.1| RNase H family protein [Escherichia coli P0302308.13] >gi|477477314|gb|ENH39488.1| RNase H family protein [Escherichia coli P0304816.3] >gi|477481706|gb|ENH43693.1| RNase H family protein [Escherichia coli P0304816.5] >gi|477486424|gb|ENH48031.1| RNase H family protein [Escherichia coli p0305293.5] >gi|477493684|gb|ENH54819.1| RNase H family protein [Escherichia coli p0305293.7] >gi|477497947|gb|ENH58673.1| RNase H family protein [Escherichia coli p0305293.6] >gi|478694785|gb|ENO06975.1| RNase HI [Escherichia coli O157:H43 str. T22] >gi|500615601|gb|EOQ56154.1| ribonuclease HI [Escherichia coli KTE33] >gi|508254204|gb|EOU27596.1| ribonuclease H [Escherichia coli KTE13] >gi|508265235|gb|EOU38507.1| ribonuclease H [Escherichia coli KTE7] >gi|508267080|gb|EOU40320.1| ribonuclease H [Escherichia coli KTE3] >gi|508282693|gb|EOU55707.1| ribonuclease H [Escherichia coli KTE231] >gi|508283262|gb|EOU56271.1| ribonuclease H [Escherichia coli KTE35] >gi|508298390|gb|EOU70904.1| ribonuclease H [Escherichia coli KTE14] >gi|508300285|gb|EOU72772.1| ribonuclease H [Escherichia coli KTE24] >gi|508300305|gb|EOU72790.1| ribonuclease H [Escherichia coli KTE20] >gi|508310584|gb|EOU82848.1| ribonuclease H [Escherichia coli KTE31] >gi|508312041|gb|EOU84287.1| ribonuclease HI [Escherichia coli KTE27] >gi|508323311|gb|EOU95370.1| ribonuclease H [Escherichia coli KTE36] >gi|508326093|gb|EOU98109.1| ribonuclease H [Escherichia coli KTE37] >gi|508328490|gb|EOV00450.1| ribonuclease H [Escherichia coli KTE34] >gi|508329998|gb|EOV01916.1| ribonuclease HI [Escherichia coli KTE40] >gi|508343099|gb|EOV14772.1| ribonuclease H [Escherichia coli KTE38] >gi|508346251|gb|EOV17858.1| ribonuclease HI [Escherichia coli KTE199] >gi|508355161|gb|EOV26652.1| ribonuclease H [Escherichia coli KTE200] >gi|508359047|gb|EOV30471.1| ribonuclease H [Escherichia coli KTE198] >gi|508366965|gb|EOV38301.1| ribonuclease HI [Escherichia coli KTE222] >gi|508370807|gb|EOV42108.1| ribonuclease H [Escherichia coli KTE219] >gi|508373369|gb|EOV44628.1| ribonuclease H [Escherichia coli KTE221] >gi|508382757|gb|EOV53841.1| ribonuclease H [Escherichia coli KTE68] >gi|508385394|gb|EOV56430.1| ribonuclease HI [Escherichia coli KTE61] >gi|508397588|gb|EOV68378.1| ribonuclease H [Escherichia coli KTE64] >gi|508398572|gb|EOV69331.1| ribonuclease H [Escherichia coli KTE69] >gi|508411088|gb|EOV81573.1| ribonuclease H [Escherichia coli KTE70] >gi|508414369|gb|EOV84769.1| ribonuclease HI [Escherichia coli KTE71] >gi|508426972|gb|EOV97193.1| ribonuclease H [Escherichia coli KTE98] >gi|508428582|gb|EOV98777.1| ribonuclease H [Escherichia coli KTE74] >gi|508441448|gb|EOW11450.1| ribonuclease HI [Escherichia coli KTE100] >gi|508441701|gb|EOW11701.1| ribonuclease H [Escherichia coli KTE102] >gi|508449484|gb|EOW19336.1| ribonuclease HI [Escherichia coli KTE103] >gi|508454246|gb|EOW23991.1| ribonuclease HI [Escherichia coli KTE108] >gi|508454594|gb|EOW24335.1| ribonuclease H [Escherichia coli KTE121] >gi|508458794|gb|EOW28475.1| ribonuclease H [Escherichia coli KTE107] >gi|508473143|gb|EOW42601.1| ribonuclease HI [Escherichia coli KTE127] >gi|508482188|gb|EOW51468.1| ribonuclease HI [Escherichia coli KTE130] >gi|508483144|gb|EOW52413.1| ribonuclease H [Escherichia coli KTE132] >gi|508484624|gb|EOW53869.1| ribonuclease H [Escherichia coli KTE134] >gi|508494767|gb|EOW63897.1| ribonuclease H [Escherichia coli KTE155] >gi|508501571|gb|EOW70614.1| ribonuclease H [Escherichia coli KTE172] >gi|508503118|gb|EOW72137.1| ribonuclease H [Escherichia coli KTE170] >gi|508530437|gb|EOW98954.1| ribonuclease H [Escherichia coli KTE1] >gi|508533434|gb|EOX01898.1| ribonuclease HI [Escherichia coli KTE41] >gi|508533516|gb|EOX01975.1| ribonuclease H [Escherichia coli KTE182] >gi|508544583|gb|EOX12890.1| ribonuclease HI [Escherichia coli KTE225] >gi|508548242|gb|EOX16493.1| ribonuclease H [Escherichia coli KTE240] >gi|508559517|gb|EOX26770.1| ribonuclease H [Escherichia coli KTE186] >gi|514335517|gb|EPH47989.1| Ribonuclease HI [Escherichia coli E2265] >gi|524546886|emb|CDC77365.1| ribonuclease H [Escherichia coli CAG:4] >gi|534547255|gb|EQN06873.1| ribonuclease H [Escherichia coli HVH 1 (4-6876161)] >gi|534549862|gb|EQN09472.1| ribonuclease H [Escherichia coli HVH 3 (4-7276001)] >gi|534562377|gb|EQN21886.1| ribonuclease HI [Escherichia coli HVH 5 (4-7148410)] >gi|534574578|gb|EQN33414.1| ribonuclease HI [Escherichia coli HVH 6 (3-8296502)] >gi|534581407|gb|EQN39989.1| ribonuclease H [Escherichia coli HVH 10 (4-6832164)] >gi|534614912|gb|EQN71806.1| ribonuclease H [Escherichia coli HVH 18 (4-8589585)] >gi|534618089|gb|EQN74924.1| ribonuclease H [Escherichia coli HVH 19 (4-7154984)] >gi|534624086|gb|EQN80886.1| ribonuclease HI [Escherichia coli HVH 22 (4-2258986)] >gi|534643079|gb|EQN99549.1| ribonuclease H [Escherichia coli HVH 26 (4-5703913)] >gi|534648736|gb|EQO05105.1| ribonuclease H [Escherichia coli HVH 25 (4-5851939)] >gi|534649055|gb|EQO05421.1| ribonuclease H [Escherichia coli HVH 29 (4-3418073)] >gi|534667694|gb|EQO23823.1| ribonuclease H [Escherichia coli HVH 30 (4-2661829)] >gi|534670471|gb|EQO26534.1| ribonuclease H [Escherichia coli HVH 32 (4-3773988)] >gi|534679262|gb|EQO35222.1| ribonuclease H [Escherichia coli HVH 35 (4-2962667)] >gi|534679967|gb|EQO35921.1| ribonuclease H [Escherichia coli HVH 33 (4-2174936)] >gi|534706982|gb|EQO60664.1| ribonuclease H [Escherichia coli HVH 43 (4-2173468)] >gi|534711223|gb|EQO64839.1| ribonuclease H [Escherichia coli HVH 42 (4-2100061)] >gi|534720286|gb|EQO73706.1| ribonuclease H [Escherichia coli HVH 41 (4-2677849)] >gi|534723279|gb|EQO76631.1| ribonuclease H [Escherichia coli HVH 44 (4-2298570)] >gi|534727445|gb|EQO80734.1| ribonuclease H [Escherichia coli HVH 45 (4-3129918)] >gi|534733443|gb|EQO86662.1| ribonuclease H [Escherichia coli HVH 48 (4-2658593)] >gi|534745066|gb|EQO98086.1| ribonuclease H [Escherichia coli HVH 53 (4-0631051)] >gi|534774625|gb|EQP27231.1| ribonuclease H [Escherichia coli HVH 63 (4-2542528)] >gi|534775930|gb|EQP28516.1| ribonuclease H [Escherichia coli HVH 59 (4-1119338)] >gi|534786227|gb|EQP38712.1| ribonuclease H [Escherichia coli HVH 69 (4-2837072)] >gi|534791335|gb|EQP43737.1| ribonuclease H [Escherichia coli HVH 65 (4-2262045)] >gi|534802192|gb|EQP54301.1| ribonuclease H [Escherichia coli HVH 73 (4-2393174)] >gi|534811945|gb|EQP63651.1| ribonuclease H [Escherichia coli HVH 76 (4-2538717)] >gi|534828865|gb|EQP80062.1| ribonuclease HI [Escherichia coli HVH 82 (4-2209276)] >gi|534830943|gb|EQP82085.1| ribonuclease H [Escherichia coli HVH 80 (4-2428830)] >gi|534845097|gb|EQP96007.1| ribonuclease H [Escherichia coli HVH 85 (4-0792144)] >gi|534857392|gb|EQQ08315.1| ribonuclease HI [Escherichia coli HVH 88 (4-5854636)] >gi|534865530|gb|EQQ16041.1| ribonuclease H [Escherichia coli HVH 87 (4-5977630)] >gi|534880059|gb|EQQ30263.1| ribonuclease H [Escherichia coli HVH 91 (4-4638751)] >gi|534893423|gb|EQQ43337.1| ribonuclease H [Escherichia coli HVH 102 (4-6906788)] >gi|534910093|gb|EQQ59661.1| ribonuclease H [Escherichia coli HVH 104 (4-6977960)] >gi|534911087|gb|EQQ60643.1| ribonuclease H [Escherichia coli HVH 106 (4-6881831)] >gi|534919756|gb|EQQ69114.1| ribonuclease H [Escherichia coli HVH 110 (4-6978754)] >gi|534932560|gb|EQQ81693.1| ribonuclease H [Escherichia coli HVH 107 (4-5860571)] >gi|534949366|gb|EQQ98237.1| ribonuclease H [Escherichia coli HVH 113 (4-7535473)] >gi|534954448|gb|EQR03195.1| ribonuclease H [Escherichia coli HVH 115 (4-4465989)] >gi|534962471|gb|EQR11051.1| ribonuclease H [Escherichia coli HVH 115 (4-4465997)] >gi|534974817|gb|EQR23268.1| ribonuclease H [Escherichia coli HVH 119 (4-6879578)] >gi|534978507|gb|EQR26902.1| ribonuclease H [Escherichia coli HVH 118 (4-7345399)] >gi|534988371|gb|EQR36642.1| ribonuclease H [Escherichia coli HVH 122 (4-6851606)] >gi|534998301|gb|EQR46394.1| ribonuclease HI [Escherichia coli HVH 121 (4-6877826)] >gi|535003298|gb|EQR51239.1| ribonuclease H [Escherichia coli HVH 126 (4-6034225)] >gi|535008788|gb|EQR56395.1| ribonuclease H [Escherichia coli HVH 127 (4-7303629)] >gi|535016729|gb|EQR64238.1| ribonuclease HI [Escherichia coli HVH 128 (4-7030436)] >gi|535022682|gb|EQR69915.1| ribonuclease H [Escherichia coli HVH 130 (4-7036876)] >gi|535025174|gb|EQR72373.1| ribonuclease H [Escherichia coli HVH 134 (4-6073441)] >gi|535029161|gb|EQR76335.1| ribonuclease H [Escherichia coli HVH 135 (4-4449320)] >gi|535032856|gb|EQR80016.1| ribonuclease H [Escherichia coli HVH 133 (4-4466519)] >gi|535043149|gb|EQR90191.1| ribonuclease HI [Escherichia coli HVH 137 (4-2124971)] >gi|535056862|gb|EQS03702.1| ribonuclease HI [Escherichia coli HVH 139 (4-3192644)] >gi|535061487|gb|EQS08294.1| ribonuclease H [Escherichia coli HVH 140 (4-5894387)] >gi|535074714|gb|EQS21298.1| ribonuclease H [Escherichia coli HVH 145 (4-5672112)] >gi|535104969|gb|EQS51008.1| ribonuclease H [Escherichia coli HVH 151 (4-5755573)] >gi|535113138|gb|EQS59345.1| ribonuclease H [Escherichia coli HVH 150 (4-3258106)] >gi|535128986|gb|EQS74342.1| ribonuclease H [Escherichia coli HVH 163 (4-4697553)] >gi|535138632|gb|EQS83627.1| ribonuclease H [Escherichia coli HVH 164 (4-5953081)] >gi|535141760|gb|EQS86732.1| ribonuclease H [Escherichia coli HVH 162 (4-5627982)] >gi|535145019|gb|EQS89954.1| ribonuclease H [Escherichia coli HVH 167 (4-6073565)] >gi|535158643|gb|EQT03395.1| ribonuclease HI [Escherichia coli HVH 170 (4-3026949)] >gi|535162348|gb|EQT07015.1| ribonuclease H [Escherichia coli HVH 173 (3-9175482)] >gi|535187637|gb|EQT31982.1| ribonuclease H [Escherichia coli HVH 180 (4-3051617)] >gi|535196798|gb|EQT41035.1| ribonuclease H [Escherichia coli HVH 183 (4-3205932)] >gi|535200886|gb|EQT45063.1| ribonuclease H [Escherichia coli HVH 182 (4-0985554)] >gi|535212078|gb|EQT56022.1| ribonuclease HI [Escherichia coli HVH 187 (4-4471660)] >gi|535238118|gb|EQT81915.1| ribonuclease HI [Escherichia coli HVH 189 (4-3220125)] >gi|535242194|gb|EQT85790.1| ribonuclease H [Escherichia coli HVH 191 (3-9341900)] >gi|535243182|gb|EQT86826.1| ribonuclease H [Escherichia coli HVH 192 (4-3054470)] >gi|535257884|gb|EQU01348.1| ribonuclease H [Escherichia coli HVH 196 (4-4530470)] >gi|535259724|gb|EQU03169.1| ribonuclease H [Escherichia coli HVH 195 (3-7155360)] >gi|535271653|gb|EQU14930.1| ribonuclease HI [Escherichia coli HVH 199 (4-5670322)] >gi|535283849|gb|EQU26964.1| ribonuclease H [Escherichia coli HVH 201 (4-4459431)] >gi|535289332|gb|EQU32387.1| ribonuclease HI [Escherichia coli HVH 200 (4-4449924)] >gi|535295368|gb|EQU38375.1| ribonuclease H [Escherichia coli HVH 203 (4-3126218)] >gi|535306502|gb|EQU49393.1| ribonuclease H [Escherichia coli HVH 206 (4-3128229)] >gi|535319551|gb|EQU62347.1| ribonuclease H [Escherichia coli HVH 208 (4-3112292)] >gi|535321790|gb|EQU64575.1| ribonuclease H [Escherichia coli HVH 209 (4-3062651)] >gi|535335852|gb|EQU78465.1| ribonuclease H [Escherichia coli HVH 211 (4-3041891)] >gi|535343423|gb|EQU85968.1| ribonuclease H [Escherichia coli HVH 215 (4-3008371)] >gi|535347473|gb|EQU89931.1| ribonuclease H [Escherichia coli HVH 213 (4-3042928)] >gi|535357122|gb|EQU99480.1| ribonuclease H [Escherichia coli HVH 217 (4-1022806)] >gi|535376649|gb|EQV18604.1| ribonuclease H [Escherichia coli HVH 222 (4-2977443)] >gi|535384614|gb|EQV26436.1| ribonuclease HI [Escherichia coli HVH 223 (4-2976528)] >gi|535396317|gb|EQV37896.1| ribonuclease H [Escherichia coli HVH 225 (4-1273116)] >gi|535396375|gb|EQV37952.1| ribonuclease H [Escherichia coli KOEGE 32 (66a)] >gi|535401841|gb|EQV43277.1| ribonuclease H [Escherichia coli KOEGE 40 (102a)] >gi|535409120|gb|EQV50404.1| ribonuclease H [Escherichia coli KOEGE 33 (68a)] >gi|535443215|gb|EQV83598.1| ribonuclease H [Escherichia coli KOEGE 68 (182a)] >gi|535447914|gb|EQV88189.1| ribonuclease H [Escherichia coli KOEGE 62 (175a)] >gi|535454254|gb|EQV94431.1| ribonuclease H [Escherichia coli KOEGE 71 (186a)] >gi|535463929|gb|EQW04010.1| ribonuclease H [Escherichia coli KOEGE 73 (195a)] >gi|535466219|gb|EQW06312.1| ribonuclease H [Escherichia coli KOEGE 77 (202a)] >gi|535477841|gb|EQW17533.1| ribonuclease H [Escherichia coli KOEGE 131 (358a)] >gi|535493355|gb|EQW32729.1| ribonuclease H [Escherichia coli UMEA 3033-1] >gi|535497839|gb|EQW37183.1| ribonuclease HI [Escherichia coli UMEA 3041-1] >gi|535503306|gb|EQW42481.1| ribonuclease H [Escherichia coli UMEA 3052-1] >gi|535508274|gb|EQW47112.1| ribonuclease HI [Escherichia coli UMEA 3065-1] >gi|535528990|gb|EQW67368.1| ribonuclease H [Escherichia coli UMEA 3088-1] >gi|535551510|gb|EQW89518.1| ribonuclease H [Escherichia coli UMEA 3122-1] >gi|535556997|gb|EQW94849.1| ribonuclease H [Escherichia coli UMEA 3140-1] >gi|535562424|gb|EQX00159.1| ribonuclease H [Escherichia coli UMEA 3139-1] >gi|535595417|gb|EQX32641.1| ribonuclease H [Escherichia coli UMEA 3162-1] >gi|535600257|gb|EQX37414.1| ribonuclease H [Escherichia coli UMEA 3163-1] >gi|535623700|gb|EQX60392.1| ribonuclease H [Escherichia coli UMEA 3174-1] >gi|535631170|gb|EQX67697.1| ribonuclease H [Escherichia coli UMEA 3180-1] >gi|535642115|gb|EQX78424.1| ribonuclease H [Escherichia coli UMEA 3190-1] >gi|535654876|gb|EQX90925.1| ribonuclease H [Escherichia coli UMEA 3200-1] >gi|535669109|gb|EQY04874.1| ribonuclease H [Escherichia coli UMEA 3203-1] >gi|535670892|gb|EQY06585.1| ribonuclease H [Escherichia coli UMEA 3206-1] >gi|535684449|gb|EQY19823.1| ribonuclease H [Escherichia coli UMEA 3215-1] >gi|535693668|gb|EQY28886.1| ribonuclease H [Escherichia coli UMEA 3212-1] >gi|535735293|gb|EQY69659.1| ribonuclease H [Escherichia coli UMEA 3240-1] >gi|535749295|gb|EQY83228.1| ribonuclease H [Escherichia coli UMEA 3317-1] >gi|535758130|gb|EQY91852.1| ribonuclease HI [Escherichia coli UMEA 3304-1] >gi|535759313|gb|EQY92964.1| ribonuclease H [Escherichia coli UMEA 3318-1] >gi|535759593|gb|EQY93232.1| ribonuclease H [Escherichia coli UMEA 3314-1] >gi|535771678|gb|EQZ05105.1| ribonuclease H [Escherichia coli UMEA 3329-1] >gi|535789661|gb|EQZ22789.1| ribonuclease H [Escherichia coli UMEA 3355-1] >gi|535812605|gb|EQZ45210.1| ribonuclease HI [Escherichia coli UMEA 3592-1] >gi|535814641|gb|EQZ47197.1| ribonuclease H [Escherichia coli UMEA 3609-1] >gi|535824502|gb|EQZ56965.1| ribonuclease H [Escherichia coli UMEA 3632-1] >gi|535828601|gb|EQZ61001.1| ribonuclease H [Escherichia coli UMEA 3662-1] >gi|535838948|gb|EQZ71185.1| ribonuclease H [Escherichia coli UMEA 3682-1] >gi|535850558|gb|EQZ82640.1| ribonuclease H [Escherichia coli UMEA 3702-1] >gi|535880017|gb|ERA11497.1| ribonuclease H [Escherichia coli UMEA 3718-1] >gi|535892922|gb|ERA24183.1| ribonuclease H [Escherichia coli UMEA 3889-1] >gi|535894327|gb|ERA25565.1| ribonuclease H [Escherichia coli UMEA 3899-1] >gi|535894914|gb|ERA26147.1| ribonuclease H [Escherichia coli UMEA 3893-1] >gi|535896320|gb|ERA27517.1| ribonuclease H [Escherichia coli UMEA 3834-1] >gi|535930447|gb|ERA60413.1| ribonuclease H [Escherichia coli 95NR1] >gi|535969580|gb|ERA69528.1| ribonuclease H [Escherichia coli HVH 155 (4-4509048)] >gi|535993358|gb|ERA93015.1| ribonuclease H [Escherichia coli HVH 210 (4-3042480)] >gi|536006932|gb|ERB06318.1| ribonuclease H [Escherichia coli KOEGE 3 (4a)] >gi|536010612|gb|ERB09938.1| ribonuclease HI [Escherichia coli KOEGE 7 (16a)] >gi|536015849|gb|ERB15054.1| ribonuclease H [Escherichia coli UMEA 3150-1] >gi|536022955|gb|ERB22063.1| ribonuclease H [Escherichia coli UMEA 3144-1] >gi|536024389|gb|ERB23447.1| ribonuclease H [Escherichia coli UMEA 3151-1] >gi|536036045|gb|ERB34844.1| ribonuclease HI [Escherichia coli UMEA 3271-1] >gi|536039381|gb|ERB38101.1| ribonuclease H [Escherichia coli UMEA 3298-1] >gi|536040729|gb|ERB39410.1| ribonuclease H [Escherichia coli UMEA 3292-1] >gi|536783501|gb|ERB69042.1| RNase H family protein [Escherichia coli 09BKT076207] >gi|536793776|gb|ERB79035.1| RNase H family protein [Escherichia coli B107] >gi|536803710|gb|ERB88641.1| RNase H family protein [Escherichia coli B102] >gi|536806405|gb|ERB91262.1| RNase H family protein [Escherichia coli B26-1] >gi|536815054|gb|ERB99597.1| RNase H family protein [Escherichia coli B26-2] >gi|536823318|gb|ERC07557.1| RNase H family protein [Escherichia coli B28-2] >gi|536823877|gb|ERC08090.1| RNase H family protein [Escherichia coli B28-1] >gi|536831015|gb|ERC14791.1| RNase H family protein [Escherichia coli B29-1] >gi|536840152|gb|ERC23393.1| RNase H family protein [Escherichia coli B29-2] >gi|536844104|gb|ERC27186.1| RNase H family protein [Escherichia coli B36-1] >gi|536848981|gb|ERC31922.1| RNase H family protein [Escherichia coli B36-2] >gi|536855064|gb|ERC37853.1| RNase H family protein [Escherichia coli B7-1] >gi|536863354|gb|ERC45886.1| RNase H family protein [Escherichia coli B7-2] >gi|536864548|gb|ERC47060.1| RNase H family protein [Escherichia coli B95] >gi|536865086|gb|ERC47583.1| RNase H family protein [Escherichia coli B93] >gi|536865163|gb|ERC47657.1| RNase H family protein [Escherichia coli B94] >gi|536890721|gb|ERC72041.1| RNase H family protein [Escherichia coli 08BKT055439] >gi|536893119|gb|ERC74288.1| RNase H family protein [Escherichia coli Bd5610_99] >gi|536897026|gb|ERC77965.1| RNase H family protein [Escherichia coli T1840_97] >gi|536906673|gb|ERC87051.1| RNase H family protein [Escherichia coli T234_00] >gi|536910732|gb|ERC90733.1| RNase H family protein [Escherichia coli T924_01] >gi|536911653|gb|ERC91589.1| RNase H family protein [Escherichia coli 14A] >gi|536925777|gb|ERD04981.1| RNase H family protein [Escherichia coli B104] >gi|536929147|gb|ERD08094.1| RNase H family protein [Escherichia coli B103] >gi|536930291|gb|ERD09141.1| RNase H family protein [Escherichia coli 2886-75] >gi|536942407|gb|ERD20609.1| RNase H family protein [Escherichia coli B105] >gi|536944516|gb|ERD22615.1| RNase H family protein [Escherichia coli B106] >gi|536945711|gb|ERD23781.1| RNase H family protein [Escherichia coli B108] >gi|536957401|gb|ERD34858.1| RNase H family protein [Escherichia coli B109] >gi|536959769|gb|ERD37075.1| RNase H family protein [Escherichia coli B112] >gi|536967390|gb|ERD44310.1| RNase H family protein [Escherichia coli B113] >gi|536976423|gb|ERD52699.1| RNase H family protein [Escherichia coli B114] >gi|536977737|gb|ERD53929.1| RNase H family protein [Escherichia coli B15] >gi|536979516|gb|ERD55592.1| RNase H family protein [Escherichia coli B17] >gi|536994419|gb|ERD68336.1| RNase H family protein [Escherichia coli B40-2] >gi|536998983|gb|ERD72557.1| RNase H family protein [Escherichia coli B40-1] >gi|536999640|gb|ERD73112.1| RNase H family protein [Escherichia coli B49-2] >gi|537010033|gb|ERD83005.1| RNase H family protein [Escherichia coli B5-2] >gi|537015169|gb|ERD87893.1| RNase H family protein [Escherichia coli B83] >gi|537019173|gb|ERD91686.1| RNase H family protein [Escherichia coli B84] >gi|537025466|gb|ERD97577.1| RNase H family protein [Escherichia coli B86] >gi|537025856|gb|ERD97943.1| RNase H family protein [Escherichia coli B85] >gi|537027335|gb|ERD99330.1| ribonuclease H [Escherichia coli 95JB1] >gi|537040509|gb|ERE11557.1| RNase H family protein [Escherichia coli 08BKT77219] >gi|537051120|gb|ERE21483.1| RNase H family protein [Escherichia coli 09BKT024447] >gi|537058616|gb|ERE28652.1| RNase H family protein [Escherichia coli T1282_01] >gi|537066544|gb|ERE36059.1| RNase H family protein [Escherichia coli B89] >gi|537070019|gb|ERE39289.1| RNase H family protein [Escherichia coli B90] >gi|537072836|gb|ERE41931.1| RNase H family protein [Escherichia coli Tx1686] >gi|537076818|gb|ERE45283.1| RNase H family protein [Escherichia coli Tx3800] >gi|540141747|gb|ERF87441.1| ribonuclease H [Escherichia coli O104:H21 str. CFSAN002236] >gi|540144549|gb|ERF90027.1| ribonuclease H [Escherichia coli O104:H21 str. CFSAN002237] >gi|544200980|gb|AGW07672.1| ribonuclease H [Escherichia coli LY180] >gi|544341159|emb|CDH63745.1| Ribonuclease HI [Escherichia coli PMV-1] >gi|549811772|gb|AGX32390.1| ribonuclease HI, degrades RNA of DNA-RNA hybrids [Escherichia coli C321.deltaA] >gi|550204578|gb|ERO95040.1| ribonuclease H [Escherichia coli BIDMC 19C] >gi|553017608|gb|ESA24591.1| Ribonuclease HI [Escherichia coli SCD1] >gi|553347993|gb|ESA75256.1| ribonuclease HI [Escherichia coli 113290] >gi|553352363|gb|ESA79442.1| ribonuclease HI [Escherichia coli 110957] >gi|553357048|gb|ESA83989.1| ribonuclease HI [Escherichia coli 907713] >gi|553373182|gb|ESA99395.1| ribonuclease HI [Escherichia coli 909945-2] >gi|553570642|gb|ESC92491.1| ribonuclease HI [Escherichia coli 113302] >gi|553587441|gb|ESD08678.1| ribonuclease HI [Escherichia coli 907672] >gi|553595950|gb|ESD16849.1| ribonuclease HI [Escherichia coli 907710] >gi|553609124|gb|ESD29418.1| ribonuclease HI [Escherichia coli 907715] >gi|553631265|gb|ESD50492.1| ribonuclease HI [Escherichia coli 908522] >gi|553642283|gb|ESD61066.1| ribonuclease HI [Escherichia coli 908525] >gi|553663387|gb|ESD80969.1| ribonuclease HI [Escherichia coli 908573] >gi|553663417|gb|ESD80998.1| ribonuclease HI [Escherichia coli 908585] >gi|553708913|gb|ESE24271.1| ribonuclease HI [Escherichia coli 908675] >gi|554695628|gb|ESK01199.1| ribonuclease H [Escherichia coli HVH 50 (4-2593475)] >gi|554705219|gb|ESK10691.1| ribonuclease H [Escherichia coli HVH 98 (4-5799287)] >gi|554737700|gb|ESK42825.1| ribonuclease H [Escherichia coli UMEA 3323-1] >gi|554982390|gb|ESL27052.1| ribonuclease H [Escherichia coli BIDMC 39] >gi|554996009|gb|ESL40566.1| ribonuclease HI [Escherichia coli BIDMC 37] >gi|555099240|gb|ESM42342.1| ribonuclease H [Escherichia coli BWH 32] >gi|556121662|gb|ESP10260.1| ribonuclease H [Escherichia coli HVH 36 (4-5675286)] >gi|556130714|gb|ESP19185.1| ribonuclease H [Escherichia coli HVH 136 (4-5970458)] >gi|556134550|gb|ESP22996.1| ribonuclease H [Escherichia coli HVH 12 (4-7653042)] >gi|556144838|gb|ESP33111.1| ribonuclease H [Escherichia coli HVH 148 (4-3192490)] >gi|556145366|gb|ESP33635.1| ribonuclease H [Escherichia coli HVH 178 (4-3189163)] >gi|556160721|gb|ESP48794.1| ribonuclease H [Escherichia coli HVH 108 (4-6924867)] >gi|556161498|gb|ESP49561.1| ribonuclease H [Escherichia coli HVH 152 (4-3447545)] >gi|557270721|emb|CDJ70789.1| ribonuclease H [Escherichia coli str. K-12 substr. MC4100] >gi|557923672|gb|ESS88264.1| Ribonuclease HI [Escherichia coli CE516] >gi|557927727|gb|ESS91885.1| Ribonuclease HI [Escherichia coli CE418] >gi|557928328|gb|ESS92436.1| Ribonuclease HI [Escherichia coli CE549] >gi|558709008|gb|EST60392.1| ribonuclease H [Escherichia coli ECC-Z] >gi|558713672|gb|EST64953.1| ribonuclease H [Escherichia coli P4-96] >gi|558718609|gb|EST69789.1| ribonuclease H [Escherichia coli P4-NR] >gi|558728605|gb|EST78891.1| ribonuclease H [Escherichia coli ECA-727] >gi|558731922|gb|EST81644.1| ribonuclease H [Escherichia coli ECA-0157] >gi|559785050|gb|ESV02235.1| Ribonuclease HI [Escherichia coli E1777] >gi|564851365|gb|ETD61692.1| ribonuclease H [Escherichia coli ATCC BAA-2209] >gi|564907839|gb|ETE08180.1| ribonuclease H [Escherichia coli LAU-EC8] >gi|564925562|gb|ETE20653.1| ribonuclease H [Escherichia coli LAU-EC10] >gi|564941887|gb|ETE36516.1| ribonuclease H [Escherichia coli LAU-EC9] >gi|565513671|gb|ETF25535.1| ribonuclease HI [Escherichia coli HVH 214 (4-3062198)] >gi|566113123|gb|ETI72040.1| ribonuclease H [Escherichia coli ATCC BAA-2196] >gi|566121054|gb|ETI78800.1| ribonuclease H [Escherichia coli ATCC BAA-2219] >gi|566279456|gb|ETJ23084.1| Ribonuclease H [Escherichia coli DORA_A_5_14_21] >gi|566653539|gb|ETJ56387.1| ribonuclease H [Escherichia coli ATCC BAA-2193] >gi|567039225|gb|ETJ70899.1| ribonuclease H [Escherichia coli ATCC 35150] >gi|567044975|gb|ETJ81477.1| ribonuclease H [Escherichia coli ATCC BAA-2192] >gi|568389523|emb|CDK45297.1| Ribonuclease HI [Escherichia coli IS1] >gi|568395313|emb|CDK51231.1| Ribonuclease HI [Escherichia coli IS5] >gi|571179816|emb|CDK80161.1| Ribonuclease HI [Escherichia coli IS25] >gi|571206275|emb|CDK79129.1| Ribonuclease HI [Klebsiella pneumoniae IS22] >gi|572726110|gb|ETS24912.1| ribonuclease H [Escherichia coli O6:H16:CFA/II str. B2C] >gi|573933110|gb|AHG12915.1| Ribonuclease HI [Escherichia coli O145:H28 str. RM13516] >gi|573966658|gb|AHG06923.1| Ribonuclease HI [Escherichia coli O145:H28 str. RM13514] >gi|575576632|gb|ETX76105.1| ribonuclease H [Escherichia coli BIDMC 43b] >gi|575583286|gb|ETX82668.1| ribonuclease H [Escherichia coli BIDMC 43a] >gi|575601002|gb|ETY00196.1| ribonuclease HI [Escherichia coli BIDMC 19B] >gi|575603420|gb|ETY03647.1| ribonuclease H [Escherichia coli BIDMC 19A] >gi|575608911|gb|ETY08033.1| ribonuclease H [Escherichia coli BIDMC 17B] >gi|575619710|gb|ETY18734.1| ribonuclease H [Escherichia coli BIDMC 17A] >gi|575622136|gb|ETY21107.1| ribonuclease H [Escherichia coli BIDMC 15] >gi|575629344|gb|ETY28215.1| ribonuclease H [Escherichia coli BIDMC 9] >gi|575636685|gb|ETY35491.1| ribonuclease HI [Escherichia coli BIDMC 3] >gi|575637382|gb|ETY36185.1| ribonuclease HI [Escherichia coli BIDMC 2B] >gi|575651888|gb|ETY50532.1| ribonuclease H [Escherichia coli BWH 40] >gi|575652900|gb|ETY51523.1| ribonuclease HI [Escherichia coli BIDMC 49b] >gi|575654742|gb|ETY53332.1| ribonuclease H [Escherichia coli BIDMC 49a] >gi|575667512|gb|ETY65933.1| ribonuclease H [Escherichia coli BIDMC 6] >gi|582992981|gb|EWC53674.1| RNase HI [Escherichia coli EC096/10] >gi|595584627|gb|AHM28969.1| ribonuclease H [Escherichia coli] >gi|595592000|gb|AHM35896.1| ribonuclease H [Escherichia coli] >gi|595596598|gb|AHM40493.1| ribonuclease H [Escherichia coli] >gi|595598725|gb|AHM42375.1| ribonuclease H [Escherichia coli] >gi|595603361|gb|AHM47008.1| ribonuclease H [Escherichia coli] >gi|595607911|gb|AHM51557.1| ribonuclease H [Escherichia coli] >gi|597592498|gb|EYB38931.1| ribonuclease H [Escherichia coli] >gi|597601769|gb|EYB47969.1| ribonuclease H [Escherichia coli] >gi|597608273|gb|EYB54354.1| ribonuclease H [Escherichia coli] >gi|598680102|gb|EYD87984.1| RNase H family protein [Escherichia coli 1-176-05_S3_C2] >gi|598683633|gb|EYD91234.1| RNase H family protein [Escherichia coli 1-176-05_S1_C1] >gi|598685016|gb|EYD92447.1| RNase H family protein [Escherichia coli 1-176-05_S3_C1] >gi|598700015|gb|EYE06097.1| RNase H family protein [Escherichia coli 1-110-08_S4_C3] >gi|598701260|gb|EYE07276.1| RNase H family protein [Escherichia coli 1-110-08_S4_C2] >gi|598702231|gb|EYE08141.1| RNase H family protein [Escherichia coli 1-110-08_S4_C1] >gi|598710736|gb|EYE15370.1| RNase H family protein [Escherichia coli 1-110-08_S3_C3] >gi|598725780|gb|EYE29657.1| RNase H family protein [Escherichia coli 1-110-08_S1_C3] >gi|598726500|gb|EYE30329.1| RNase H family protein [Escherichia coli 1-110-08_S3_C2] >gi|598726757|gb|EYE30551.1| RNase H family protein [Escherichia coli 1-110-08_S3_C1] >gi|598737665|gb|EYE40502.1| RNase H family protein [Escherichia coli 1-110-08_S1_C2] >gi|598737921|gb|EYE40729.1| RNase H family protein [Escherichia coli 1-110-08_S1_C1] >gi|606413153|gb|EYU72664.1| ribonuclease H [Escherichia coli O26:NM str. 2010C-4347] >gi|606413505|gb|EYU72984.1| ribonuclease H [Escherichia coli O111:NM str. 2010C-4221] >gi|606420092|gb|EYU79295.1| ribonuclease H [Escherichia coli O121:H19 str. 2010C-4254] >gi|606430335|gb|EYU88923.1| ribonuclease H [Escherichia coli O111:NM str. 2010C-4086] >gi|606433537|gb|EYU91962.1| ribonuclease H [Escherichia coli O111:NM str. 2010C-3977] >gi|606446735|gb|EYV04560.1| ribonuclease H [Escherichia coli O121:H19 str. 2010C-3840] >gi|606449962|gb|EYV07581.1| ribonuclease H [Escherichia coli O145:NM str. 2010C-3526] >gi|606451901|gb|EYV09419.1| ribonuclease H [Escherichia coli O121:H19 str. 2010C-3609] >gi|606457026|gb|EYV14417.1| ribonuclease H [Escherichia coli O145:NM str. 2010C-3521] >gi|606466004|gb|EYV23118.1| ribonuclease H [Escherichia coli O145:NM str. 2010C-3518] >gi|606472146|gb|EYV29037.1| ribonuclease H [Escherichia coli O145:NM str. 2010C-3516] >gi|606474091|gb|EYV30867.1| ribonuclease H [Escherichia coli O145:NM str. 2010C-3517] >gi|606481093|gb|EYV37543.1| ribonuclease H [Escherichia coli O145:NM str. 2010C-3511] >gi|606482514|gb|EYV38875.1| ribonuclease H [Escherichia coli O145:NM str. 2010C-3510] >gi|606486258|gb|EYV42449.1| ribonuclease H [Escherichia coli O145:NM str. 2010C-3509] >gi|606498927|gb|EYV54735.1| ribonuclease H [Escherichia coli O145:NM str. 2010C-3507] >gi|606505063|gb|EYV60648.1| ribonuclease H [Escherichia coli O157:H7 str. 2009EL2109] >gi|606507927|gb|EYV63420.1| ribonuclease H [Escherichia coli O157:H7 str. 2009EL1705] >gi|606509468|gb|EYV64937.1| ribonuclease H [Escherichia coli O103:H11 str. 2010C-3214] >gi|606516519|gb|EYV71497.1| ribonuclease H [Escherichia coli O157:H7 str. K5806] >gi|606518968|gb|EYV73825.1| ribonuclease H [Escherichia coli O121:H19 str. 2009EL1412] >gi|606519976|gb|EYV74787.1| ribonuclease H [Escherichia coli O121:H19 str. 2009C-4659] >gi|606537542|gb|EYV91373.1| ribonuclease H [Escherichia coli O6:H16 str. 99-3165] >gi|606540530|gb|EYV94287.1| ribonuclease H [Escherichia coli O157:H7 str. F7350] >gi|606550236|gb|EYW03189.1| ribonuclease H [Escherichia coli O157:H7 str. 2011EL-2289] >gi|606550420|gb|EYW03367.1| ribonuclease H [Escherichia coli O157:H7 str. 2011EL-2288] >gi|606550757|gb|EYW03687.1| ribonuclease H [Escherichia coli O157:H7 str. 2011EL-2312] >gi|606563882|gb|EYW16167.1| ribonuclease H [Escherichia coli O157:H7 str. 2011EL-2286] >gi|606564794|gb|EYW17031.1| ribonuclease H [Escherichia coli O157:H7 str. 2011EL-2114] >gi|606572074|gb|EYW24122.1| ribonuclease H [Escherichia coli O157:H7 str. 2011EL-2287] >gi|606578714|gb|EYW30187.1| ribonuclease H [Escherichia coli O157:H7 str. 2011EL-2113] >gi|606584793|gb|EYW36049.1| ribonuclease H [Escherichia coli O157:H7 str. 2011EL-2112] >gi|606587921|gb|EYW39117.1| ribonuclease H [Escherichia coli O157:H7 str. 2011EL-2111] >gi|606599731|gb|EYW50137.1| ribonuclease H [Escherichia coli O157:H7 str. 2011EL-2107] >gi|606601759|gb|EYW52103.1| ribonuclease H [Escherichia coli O157:H7 str. 2011EL-2109] >gi|606602139|gb|EYW52477.1| ribonuclease H [Escherichia coli O157:H7 str. 2011EL-2108] >gi|606608443|gb|EYW58359.1| ribonuclease H [Escherichia coli O157:H7 str. 2011EL-2106] >gi|606609808|gb|EYW59590.1| ribonuclease H [Escherichia coli O157:H7 str. 2011EL-2105] >gi|606622819|gb|EYW71969.1| ribonuclease H [Escherichia coli O157:H7 str. 2011EL-2104] >gi|606627727|gb|EYW76525.1| ribonuclease H [Escherichia coli O157:H7 str. 2011EL-2103] >gi|606628794|gb|EYW77555.1| ribonuclease H [Escherichia coli O157:H7 str. 2011EL-2099] >gi|606631272|gb|EYW79943.1| ribonuclease H [Escherichia coli O157:H7 str. 2011EL-2101] >gi|606642942|gb|EYW90824.1| ribonuclease H [Escherichia coli O111:NM str. 08-4487] >gi|606646610|gb|EYW94349.1| ribonuclease H [Escherichia coli O157:H7 str. 08-4169] >gi|606648298|gb|EYW95975.1| ribonuclease H [Escherichia coli O145:NM str. 08-4270] >gi|606654161|gb|EYX01692.1| ribonuclease H [Escherichia coli O118:H16 str. 08-3651] >gi|606660192|gb|EYX07333.1| ribonuclease H [Escherichia coli O157:H7 str. 08-3037] >gi|606661488|gb|EYX08491.1| ribonuclease H [Escherichia coli O157:H7 str. 08-3527] >gi|606668532|gb|EYX15336.1| ribonuclease H [Escherichia coli O69:H11 str. 07-4281] >gi|606680957|gb|EYX27029.1| ribonuclease H [Escherichia coli O157:H7 str. 2011EL-2098] >gi|606683709|gb|EYX29674.1| ribonuclease H [Escherichia coli O157:H7 str. 2011EL-2097] >gi|606685920|gb|EYX31697.1| ribonuclease H [Escherichia coli O157:H7 str. 2011EL-2096] >gi|606691987|gb|EYX37458.1| ribonuclease H [Escherichia coli O157:H7 str. 2011EL-2094] >gi|606700968|gb|EYX46062.1| ribonuclease H [Escherichia coli O157:H7 str. 2011EL-2093] >gi|606702860|gb|EYX47748.1| ribonuclease H [Escherichia coli O157:H7 str. 2011EL-2092] >gi|606706005|gb|EYX50720.1| ribonuclease H [Escherichia coli O157:H7 str. 2011EL-2090] >gi|606706055|gb|EYX50768.1| ribonuclease H [Escherichia coli O157:H7 str. 2011EL-2091] >gi|606715594|gb|EYX59927.1| ribonuclease H [Escherichia coli O157:H7 str. 2011EL-1107] >gi|606726915|gb|EYX70549.1| ribonuclease H [Escherichia coli O111:NM str. 2011C-3679] >gi|606729348|gb|EYX72605.1| ribonuclease H [Escherichia coli O111:NM str. 2011C-3632] >gi|606738149|gb|EYX81034.1| ribonuclease H [Escherichia coli O156:H25 str. 2011C-3602] >gi|606748742|gb|EYX91130.1| ribonuclease H [Escherichia coli O111:NM str. 2011C-3573] >gi|606750603|gb|EYX92809.1| ribonuclease H [Escherichia coli O121:H19 str. 2011C-3537] >gi|606755371|gb|EYX97301.1| ribonuclease H [Escherichia coli O121:H19 str. 2011C-3500] >gi|606764644|gb|EYY06031.1| ribonuclease H [Escherichia coli O111:NM str. 2011C-3362] >gi|606764675|gb|EYY06060.1| ribonuclease H [Escherichia coli O121:H19 str. 2011C-3216] >gi|606776611|gb|EYY17392.1| ribonuclease H [Escherichia coli O111:NM str. 2011C-3170] >gi|606780762|gb|EYY21191.1| ribonuclease H [Escherichia coli O121:H19 str. 2011C-3108] >gi|606787642|gb|EYY27754.1| ribonuclease H [Escherichia coli O121:H19 str. 2011C-3072] >gi|606790531|gb|EYY30570.1| ribonuclease H [Escherichia coli O121:H19 str. 2010EL1058] >gi|606796919|gb|EYY36572.1| ribonuclease H [Escherichia coli O121:H19 str. 2010C-4989] >gi|606806572|gb|EYY45670.1| ribonuclease H [Escherichia coli O157:H7 str. 2010C-4979C1] >gi|606815397|gb|EYY54167.1| ribonuclease H [Escherichia coli O121:H19 str. 2010C-4966] >gi|606816315|gb|EYY55037.1| ribonuclease H [Escherichia coli O121:H19 str. 2010C-4824] >gi|606823341|gb|EYY61520.1| ribonuclease H [Escherichia coli O111:NM str. 2010C-4799] >gi|606825701|gb|EYY63803.1| ribonuclease H [Escherichia coli O111:NM str. 2010C-4818] >gi|606834837|gb|EYY72279.1| ribonuclease H [Escherichia coli O111:NM str. 2010C-4746] >gi|606845347|gb|EYY82259.1| ribonuclease H [Escherichia coli O111:NM str. 2010C-4735] >gi|606845556|gb|EYY82462.1| ribonuclease H [Escherichia coli O26:NM str. 2010C-4788] >gi|606850354|gb|EYY86912.1| ribonuclease H [Escherichia coli O111:NM str. 2010C-4715] >gi|606851917|gb|EYY88293.1| ribonuclease H [Escherichia coli O121:H19 str. 2010C-4732] >gi|606862839|gb|EYY98703.1| ribonuclease H [Escherichia coli O111:NM str. 2010C-4592] >gi|606863203|gb|EYY99050.1| ribonuclease H [Escherichia coli O111:NM str. 2010C-4622] >gi|606874783|gb|EYZ10100.1| ribonuclease H [Escherichia coli O177:NM str. 2010C-4558] >gi|606876671|gb|EYZ11889.1| ribonuclease H [Escherichia coli O103:H25 str. 2010C-4529] >gi|606880403|gb|EYZ15478.1| ribonuclease H [Escherichia coli O145:NM str. 2010C-4557C2] >gi|606894938|gb|EYZ29186.1| ribonuclease H [Escherichia coli O157:H7 str. 06-4039] >gi|606898664|gb|EYZ32819.1| ribonuclease H [Escherichia coli O157:H7 str. 07-3391] >gi|606902338|gb|EYZ36428.1| ribonuclease H [Escherichia coli O157:H7 str. 07-3091] >gi|606918581|gb|EYZ51902.1| ribonuclease H [Escherichia coli O121:H19 str. 06-3822] >gi|606920839|gb|EYZ54048.1| ribonuclease H [Escherichia coli O157:H7 str. 06-3745] >gi|606921875|gb|EYZ54883.1| ribonuclease H [Escherichia coli O118:H16 str. 06-3612] >gi|606923260|gb|EYZ56156.1| ribonuclease H [Escherichia coli O79:H7 str. 06-3501] >gi|606927991|gb|EYZ60722.1| ribonuclease H [Escherichia coli O55:H7 str. 06-3555] >gi|606934964|gb|EYZ67381.1| ribonuclease H [Escherichia coli O145:NM str. 06-3484] >gi|606944813|gb|EYZ76742.1| ribonuclease H [Escherichia coli O69:H11 str. 06-3325] >gi|606953843|gb|EYZ84984.1| ribonuclease H [Escherichia coli O121:H19 str. 06-3003] >gi|606955602|gb|EYZ86688.1| ribonuclease H [Escherichia coli O111:NM str. 04-3211] >gi|606961508|gb|EYZ92393.1| ribonuclease H [Escherichia coli O118:H16 str. 06-3256] >gi|606966381|gb|EYZ97023.1| ribonuclease H [Escherichia coli O111:NM str. 03-3484] >gi|606966719|gb|EYZ97352.1| ribonuclease H [Escherichia coli O174:H21 str. 03-3269] >gi|606978675|gb|EZA08638.1| ribonuclease H [Escherichia coli O121:H19 str. 03-3227] >gi|606983013|gb|EZA12712.1| ribonuclease H [Escherichia coli O81:NM str. 02-3012] >gi|606994612|gb|EZA23627.1| ribonuclease H [Escherichia coli O113:H21 str. 07-4224] >gi|607002714|gb|EZA31418.1| ribonuclease H [Escherichia coli O103:H11 str. 04-3023] >gi|607003522|gb|EZA32170.1| ribonuclease H [Escherichia coli O174:H8 str. 04-3038] >gi|607010987|gb|EZA39375.1| ribonuclease H [Escherichia coli O26:H11 str. 05-3646] >gi|607370724|gb|EZA63677.1| ribonuclease H [Escherichia coli O104:H21 str. 94-3025] >gi|607376180|gb|EZA68793.1| ribonuclease H [Escherichia coli O157:H16 str. 98-3133] >gi|607377859|gb|EZA70397.1| ribonuclease H [Escherichia coli O6:H16 str. F5656C1] >gi|607380199|gb|EZA72693.1| ribonuclease H [Escherichia coli O25:NM str. E2539C1] >gi|607391947|gb|EZA84034.1| ribonuclease H [Escherichia coli O157:H7 str. F6142] >gi|607395504|gb|EZA87509.1| ribonuclease H [Escherichia coli O111:H8 str. F6627] >gi|607402956|gb|EZA94685.1| ribonuclease H [Escherichia coli O121:H19 str. F6714] >gi|607406206|gb|EZA97775.1| ribonuclease H [Escherichia coli O157:H7 str. F6750] >gi|607412311|gb|EZB03731.1| ribonuclease H [Escherichia coli O157:H7 str. F6749] >gi|607417901|gb|EZB09076.1| ribonuclease H [Escherichia coli O157:H7 str. F6751] >gi|607425506|gb|EZB16391.1| ribonuclease H [Escherichia coli O157:H7 str. F7384] >gi|607429029|gb|EZB19801.1| ribonuclease H [Escherichia coli O157:H7 str. F7377] >gi|607430960|gb|EZB21611.1| ribonuclease H [Escherichia coli O169:H41 str. F9792] >gi|607437418|gb|EZB27897.1| ribonuclease H [Escherichia coli O157:H7 str. F7410] >gi|607440432|gb|EZB30872.1| ribonuclease H [Escherichia coli O157:H7 str. G5303] >gi|607448511|gb|EZB38598.1| ribonuclease H [Escherichia coli O157:H7 str. H2495] >gi|607450300|gb|EZB40321.1| ribonuclease H [Escherichia coli O157:H7 str. K1420] >gi|607450657|gb|EZB40671.1| ribonuclease H [Escherichia coli O157:H7 str. H2498] >gi|607461262|gb|EZB51010.1| ribonuclease H [Escherichia coli O157:H7 str. K1792] >gi|607463169|gb|EZB52843.1| ribonuclease H [Escherichia coli O157:H7 str. K1793] >gi|607468952|gb|EZB58501.1| ribonuclease H [Escherichia coli O15:H18 str. K1516] >gi|607479300|gb|EZB68697.1| ribonuclease H [Escherichia coli O157:H7 str. K1795] >gi|607479682|gb|EZB69058.1| ribonuclease H [Escherichia coli O157:H7 str. K1796] >gi|607487853|gb|EZB77102.1| ribonuclease H [Escherichia coli O157:H7 str. K1845] >gi|607494479|gb|EZB83503.1| ribonuclease H [Escherichia coli O157:H7 str. K1921] >gi|607495790|gb|EZB84760.1| ribonuclease H [Escherichia coli O157:H7 str. K1927] >gi|607496253|gb|EZB85212.1| ribonuclease H [Escherichia coli O157:H7 str. K1921] >gi|607496437|gb|EZB85392.1| ribonuclease H [Escherichia coli O157:H7 str. K2188] >gi|607509001|gb|EZB97744.1| ribonuclease H [Escherichia coli O157:H7 str. K2191] >gi|607513015|gb|EZC01629.1| ribonuclease H [Escherichia coli O157:H7 str. K2324] >gi|607514830|gb|EZC03409.1| ribonuclease H [Escherichia coli O157:H7 str. K2192] >gi|607520540|gb|EZC08994.1| ribonuclease H [Escherichia coli O157:H7 str. K2581] >gi|607522805|gb|EZC11199.1| ribonuclease H [Escherichia coli O157:H7 str. K2845] >gi|607525365|gb|EZC13693.1| ribonuclease H [Escherichia coli O157:H7 str. K2622] >gi|607541828|gb|EZC29842.1| ribonuclease H [Escherichia coli O157:H7 str. K2854] >gi|607543516|gb|EZC31481.1| ribonuclease H [Escherichia coli O157:H7 str. K4396] >gi|607546060|gb|EZC33955.1| ribonuclease H [Escherichia coli O157:H7 str. K4405] >gi|607554941|gb|EZC42639.1| ribonuclease H [Escherichia coli O157:H7 str. K4406] >gi|607557267|gb|EZC44834.1| ribonuclease H [Escherichia coli O157:H7 str. K4527] >gi|607563308|gb|EZC50633.1| ribonuclease H [Escherichia coli O121:H19 str. K5269] >gi|607563808|gb|EZC51119.1| ribonuclease H [Escherichia coli O121:H19 str. K5198] >gi|607566055|gb|EZC53312.1| ribonuclease H [Escherichia coli O157:H7 str. K5418] >gi|607576603|gb|EZC63725.1| ribonuclease H [Escherichia coli O157:H7 str. K5453] >gi|607577357|gb|EZC64462.1| ribonuclease H [Escherichia coli O157:H7 str. K5448] >gi|607580375|gb|EZC67403.1| ribonuclease H [Escherichia coli O157:H7 str. K5449] >gi|607586101|gb|EZC73050.1| ribonuclease H [Escherichia coli O157:H7 str. K5460] >gi|607598124|gb|EZC84854.1| ribonuclease H [Escherichia coli O157:H7 str. K5467] >gi|607602425|gb|EZC89036.1| ribonuclease H [Escherichia coli O157:H7 str. K5602] >gi|607604364|gb|EZC90941.1| ribonuclease H [Escherichia coli O157:H7 str. K5607] >gi|607605187|gb|EZC91735.1| ribonuclease H [Escherichia coli O157:H7 str. K5609] >gi|607614903|gb|EZD01233.1| ribonuclease H [Escherichia coli O157:H7 str. K5852] >gi|607624580|gb|EZD10712.1| ribonuclease H [Escherichia coli O157:H7 str. K6676] >gi|607626987|gb|EZD13056.1| ribonuclease H [Escherichia coli O157:H7 str. K6687] >gi|607628794|gb|EZD14839.1| ribonuclease H [Escherichia coli O157:H7 str. K6590] >gi|607635981|gb|EZD21713.1| ribonuclease H [Escherichia coli O111:NM str. K6722] >gi|607637606|gb|EZD23242.1| ribonuclease H [Escherichia coli O111:NM str. K6723] >gi|607650252|gb|EZD35543.1| ribonuclease H [Escherichia coli O111:NM str. K6890] >gi|607650939|gb|EZD36205.1| ribonuclease H [Escherichia coli O111:NM str. K6728] >gi|607659660|gb|EZD44565.1| ribonuclease H [Escherichia coli O111:NM str. K6895] >gi|607664790|gb|EZD49389.1| ribonuclease H [Escherichia coli O111:NM str. K6898] >gi|607667070|gb|EZD51574.1| ribonuclease H [Escherichia coli O111:NM str. K6897] >gi|607668314|gb|EZD52793.1| ribonuclease H [Escherichia coli O111:NM str. K6904] >gi|607674156|gb|EZD58515.1| ribonuclease H [Escherichia coli O111:NM str. K6908] >gi|607686615|gb|EZD70487.1| ribonuclease H [Escherichia coli O111:NM str. K6915] >gi|607687398|gb|EZD71233.1| ribonuclease H [Escherichia coli O157:H7 str. K7140] >gi|607694417|gb|EZD77951.1| ribonuclease H [Escherichia coli O39:NM str. F8704-2] >gi|607697012|gb|EZD80353.1| ribonuclease H [Escherichia coli O157:H7 str. 08-4529] >gi|607704870|gb|EZD88049.1| ribonuclease H [Escherichia coli O157:NM str. 08-4540] >gi|607723556|gb|EZE06082.1| ribonuclease H [Escherichia coli O145:H28 str. 2009C-3292] >gi|607725693|gb|EZE08192.1| ribonuclease H [Escherichia coli O121:H7 str. 2009C-3299] >gi|607729261|gb|EZE11710.1| ribonuclease H [Escherichia coli O69:H11 str. 08-4661] >gi|607740153|gb|EZE21957.1| ribonuclease H [Escherichia coli O123:H11 str. 2009C-3307] >gi|607743596|gb|EZE25337.1| ribonuclease H [Escherichia coli O69:H11 str. 2009C-3601] >gi|607756967|gb|EZE38197.1| ribonuclease H [Escherichia coli O111:NM str. 2009C-4006] >gi|607759709|gb|EZE40802.1| ribonuclease H [Escherichia coli O121:H19 str. 2009C-4050] >gi|607764941|gb|EZE45905.1| ribonuclease H [Escherichia coli O111:NM str. 2009C-4052] >gi|607773896|gb|EZE54521.1| ribonuclease H [Escherichia coli O118:H16 str. 2009C-4446] >gi|607776906|gb|EZE57425.1| ribonuclease H [Escherichia coli O157:H7 str. 2009C-4258] >gi|607778526|gb|EZE58990.1| ribonuclease H [Escherichia coli O91:H21 str. 2009C-4646] >gi|607794651|gb|EZE74679.1| ribonuclease H [Escherichia coli O121:H19 str. 2009C-4750] >gi|607795282|gb|EZE75300.1| ribonuclease H [Escherichia coli O157:H7 str. 2009EL1449] >gi|607800999|gb|EZE80802.1| ribonuclease H [Escherichia coli O157:H7 str. 2009EL1913] >gi|607801832|gb|EZE81616.1| ribonuclease H [Escherichia coli O121:H19 str. 2009EL1302] >gi|607812700|gb|EZE92159.1| ribonuclease H [Escherichia coli O145:NM str. 2010C-3508] >gi|607814750|gb|EZE94059.1| ribonuclease H [Escherichia coli O121:H19 str. 2010C-3794] >gi|607824696|gb|EZF02583.1| ribonuclease H [Escherichia coli O157:H7 str. 2011EL-2290] >gi|607825389|gb|EZF03261.1| ribonuclease H [Escherichia coli O157:H7 str. 2011EL-2313] >gi|608090829|gb|EZG30068.1| ribonuclease H [Escherichia coli E1728] >gi|608654213|gb|EZG49280.1| ribonuclease H [Escherichia coli O26:H11 str. 06-3464] >gi|608655620|gb|EZG50628.1| ribonuclease H [Escherichia coli O26:H11 str. 03-3500] >gi|608661300|gb|EZG55802.1| ribonuclease H [Escherichia coli O26:H11 str. 2010C-4430] >gi|608663460|gb|EZG57638.1| ribonuclease H [Escherichia coli O26:H11 str. 2010C-4819] >gi|608676572|gb|EZG69547.1| ribonuclease H [Escherichia coli O26:H11 str. 2010C-4834] >gi|608681361|gb|EZG74060.1| ribonuclease H [Escherichia coli O26:H11 str. 2010C-5028] >gi|608686839|gb|EZG78979.1| ribonuclease H [Escherichia coli O26:H11 str. 2010EL-1699] >gi|608688639|gb|EZG80482.1| ribonuclease H [Escherichia coli O26:H11 str. 2011C-3270] >gi|608703042|gb|EZG93827.1| ribonuclease H [Escherichia coli O26:H11 str. 2011C-3506] >gi|608703059|gb|EZG93842.1| ribonuclease H [Escherichia coli O26:H11 str. 2011C-3387] >gi|608704440|gb|EZG95148.1| ribonuclease H [Escherichia coli O26:H11 str. 2011C-3282] >gi|608717602|gb|EZH07378.1| ribonuclease H [Escherichia coli O26:H11 str. 2009C-3612] >gi|608718836|gb|EZH08555.1| ribonuclease H [Escherichia coli O26:H11 str. 2009C-3689] >gi|608724367|gb|EZH13906.1| ribonuclease H [Escherichia coli O26:H11 str. 2011C-3655] >gi|608732670|gb|EZH21412.1| ribonuclease H [Escherichia coli O26:H11 str. 2009C-3996] >gi|608742033|gb|EZH30292.1| ribonuclease H [Escherichia coli O26:H11 str. 2009C-4760] >gi|608745803|gb|EZH33917.1| ribonuclease H [Escherichia coli O26:H11 str. 2009C-4826] >gi|608754063|gb|EZH41294.1| ribonuclease H [Escherichia coli O26:H11 str. 2010C-3051] >gi|608755411|gb|EZH42581.1| ribonuclease H [Escherichia coli O26:H11 str. 2010C-3472] >gi|608757847|gb|EZH44861.1| ribonuclease H [Escherichia coli O26:H11 str. 2010C-3871] >gi|608764578|gb|EZH51054.1| ribonuclease H [Escherichia coli O26:H11 str. 2010C-3902] >gi|608766369|gb|EZH52681.1| ribonuclease H [Escherichia coli O26:H11 str. 2010C-4244] >gi|611020163|gb|EZJ24840.1| RNase H family protein [Escherichia coli 1-182-04_S4_C3] >gi|611026547|gb|EZJ31027.1| RNase H family protein [Escherichia coli 1-176-05_S4_C3] >gi|611027300|gb|EZJ31735.1| RNase H family protein [Escherichia coli 1-392-07_S4_C2] >gi|611042308|gb|EZJ46183.1| RNase H family protein [Escherichia coli 1-182-04_S4_C2] >gi|611042734|gb|EZJ46607.1| RNase H family protein [Escherichia coli 2-005-03_S4_C3] >gi|611042766|gb|EZJ46638.1| RNase H family protein [Escherichia coli 1-250-04_S4_C2] >gi|611051359|gb|EZJ54893.1| RNase H family protein [Escherichia coli 2-005-03_S4_C2] >gi|611055000|gb|EZJ58310.1| RNase H family protein [Escherichia coli 1-250-04_S4_C1] >gi|611060213|gb|EZJ63251.1| RNase H family protein [Escherichia coli 1-182-04_S4_C1] >gi|611072930|gb|EZJ75196.1| RNase H family protein [Escherichia coli 1-176-05_S4_C1] >gi|611078132|gb|EZJ79986.1| RNase H family protein [Escherichia coli 1-182-04_S3_C3] >gi|611089302|gb|EZJ90515.1| RNase H family protein [Escherichia coli 1-250-04_S3_C1] >gi|611098923|gb|EZJ99859.1| RNase H family protein [Escherichia coli 1-182-04_S1_C3] >gi|611101646|gb|EZK02454.1| RNase H family protein [Escherichia coli 1-250-04_S1_C3] >gi|611103598|gb|EZK04188.1| RNase H family protein [Escherichia coli 1-182-04_S3_C1] >gi|611110870|gb|EZK10913.1| RNase H family protein [Escherichia coli 1-176-05_S1_C3] >gi|611118262|gb|EZK18014.1| RNase H family protein [Escherichia coli 2-005-03_S1_C3] >gi|611123694|gb|EZK23260.1| RNase H family protein [Escherichia coli 1-176-05_S1_C2] >gi|611127471|gb|EZK26874.1| RNase H family protein [Escherichia coli 2-011-08_S1_C2] >gi|611134422|gb|EZK33649.1| RNase H family protein [Escherichia coli 1-182-04_S1_C1] >gi|611137875|gb|EZK36928.1| RNase H family protein [Escherichia coli 2-005-03_S1_C2] >gi|611154376|gb|EZK53210.1| RNase H family protein [Escherichia coli 2-005-03_S1_C1] >gi|612226696|gb|EZQ21467.1| ribonuclease H [Escherichia coli O111:H8 str. 2009EL-2169] >gi|612226735|gb|EZQ21499.1| ribonuclease H [Escherichia coli O111:NM str. 2010C-3053] >gi|612228666|gb|EZQ23298.1| ribonuclease H [Escherichia coli O26:H1 str. 2009C-4747] >gi|612244701|gb|EZQ38753.1| ribonuclease H [Escherichia coli O111:H8 str. 2009C-4126] >gi|612246732|gb|EZQ40715.1| ribonuclease H [Escherichia coli O157: str. 2010EL-2045] >gi|612253704|gb|EZQ47593.1| ribonuclease H [Escherichia coli O111:H8 str. 2011C-3453] >gi|612258947|gb|EZQ52653.1| ribonuclease H [Escherichia coli O157: str. 2010EL-2044] >gi|612267263|gb|EZQ60803.1| ribonuclease H [Escherichia coli BIDMC 82] >gi|628026789|gb|AHY63256.1| Ribonuclease HI [Escherichia coli O145:H28 str. RM12761] >gi|628075223|gb|AHY68749.1| Ribonuclease HI [Escherichia coli O145:H28 str. RM12581] >gi|632163132|gb|KDA59846.1| RNase H family protein [Escherichia coli 2-011-08_S1_C1] >gi|632168170|gb|KDA64103.1| RNase H family protein [Escherichia coli 2-052-05_S1_C1] >gi|632174918|gb|KDA70306.1| RNase H family protein [Escherichia coli 1-182-04_S1_C2] >gi|632181089|gb|KDA75718.1| RNase H family protein [Escherichia coli 2-005-03_S3_C2] >gi|632187776|gb|KDA81353.1| RNase H family protein [Escherichia coli 2-011-08_S3_C2] >gi|632193798|gb|KDA86653.1| RNase H family protein [Escherichia coli 2-011-08_S3_C3] >gi|632199636|gb|KDA91738.1| RNase H family protein [Escherichia coli 1-176-05_S4_C2] >gi|633879915|emb|CDP68162.1| Ribonuclease H [Escherichia coli D6-113.11] >gi|633883846|emb|CDP78305.1| Putative uncharacterized protein [Escherichia coli D6-117.29] >gi|635791206|gb|KDF72571.1| ribonuclease HI [Escherichia coli BIDMC 59] >gi|635825867|gb|KDG07047.1| ribonuclease HI [Escherichia coli BIDMC 65] >gi|635828455|gb|KDG09601.1| ribonuclease H [Escherichia coli BIDMC 71] >gi|635830408|gb|KDG11535.1| ribonuclease H [Escherichia coli BIDMC 73] >gi|635831142|gb|KDG12268.1| ribonuclease HI [Escherichia coli BIDMC 72] >gi|635834050|gb|KDG15143.1| ribonuclease H [Escherichia coli BIDMC 74] >gi|635856325|gb|KDG37229.1| ribonuclease H [Escherichia coli BIDMC 77] >gi|635879027|gb|KDG59753.1| ribonuclease H [Escherichia coli CHS 77] >gi|635886252|gb|KDG66884.1| ribonuclease H [Escherichia coli MGH 58] >gi|635887202|gb|KDG67822.1| ribonuclease H [Escherichia coli MGH 57] >gi|635900397|gb|KDG80903.1| ribonuclease HI [Escherichia coli UCI 53] >gi|635907474|gb|KDG87927.1| ribonuclease H [Escherichia coli UCI 57] >gi|635911625|gb|KDG92045.1| ribonuclease HI [Escherichia coli UCI 58] >gi|635920909|gb|KDH01273.1| ribonuclease H [Escherichia coli UCI 65] >gi|635921747|gb|KDH02102.1| ribonuclease H [Escherichia coli UCI 66] >gi|636537768|gb|KDM69581.1| ribonuclease H [Escherichia coli] >gi|636540052|gb|KDM71692.1| ribonuclease H [Escherichia coli O145:H28 str. 4865/96] >gi|636543281|gb|KDM74838.1| ribonuclease H [Escherichia coli] >gi|643345919|gb|KDP18102.1| ribonuclease H [Escherichia coli] >gi|649979294|gb|KDT04912.1| RNase H family protein [Escherichia coli 2-011-08_S3_C1] >gi|649981173|gb|KDT06737.1| RNase H family protein [Escherichia coli 2-011-08_S1_C3] >gi|649984032|gb|KDT09408.1| RNase H family protein [Escherichia coli 2-011-08_S4_C1] >gi|649992700|gb|KDT17821.1| RNase H family protein [Escherichia coli 2-052-05_S1_C3] >gi|649998624|gb|KDT23573.1| RNase H family protein [Escherichia coli 2-052-05_S3_C1] >gi|650000087|gb|KDT24956.1| RNase H family protein [Escherichia coli 2-011-08_S4_C3] >gi|650005144|gb|KDT29751.1| RNase H family protein [Escherichia coli 2-052-05_S4_C1] >gi|650009889|gb|KDT34207.1| RNase H family protein [Escherichia coli 3-105-05_S3_C1] >gi|650025249|gb|KDT48901.1| RNase H family protein [Escherichia coli 3-105-05_S4_C3] >gi|650025440|gb|KDT49086.1| RNase H family protein [Escherichia coli 3-105-05_S3_C2] >gi|650034346|gb|KDT57575.1| RNase H family protein [Escherichia coli 3-267-03_S3_C1] >gi|650036086|gb|KDT59208.1| RNase H family protein [Escherichia coli 3-267-03_S1_C3] >gi|650043110|gb|KDT66081.1| RNase H family protein [Escherichia coli 3-373-03_S3_C1] >gi|650050471|gb|KDT73142.1| RNase H family protein [Escherichia coli 3-373-03_S3_C3] >gi|650056900|gb|KDT79263.1| RNase H family protein [Escherichia coli 3-373-03_S1_C2] >gi|650057030|gb|KDT79387.1| RNase H family protein [Escherichia coli 3-475-03_S1_C1] >gi|650058274|gb|KDT80594.1| RNase H family protein [Escherichia coli 3-475-03_S4_C1] >gi|650074676|gb|KDT96615.1| RNase H family protein [Escherichia coli 3-105-05_S4_C1] >gi|650076250|gb|KDT98143.1| RNase H family protein [Escherichia coli 3-267-03_S1_C2] >gi|650078704|gb|KDU00794.1| RNase H family protein [Escherichia coli 3-267-03_S3_C2] >gi|650086397|gb|KDU08103.1| RNase H family protein [Escherichia coli 3-105-05_S3_C3] >gi|650087491|gb|KDU09150.1| RNase H family protein [Escherichia coli 3-373-03_S3_C2] >gi|650096483|gb|KDU17643.1| RNase H family protein [Escherichia coli 3-267-03_S1_C1] >gi|650109458|gb|KDU29943.1| RNase H family protein [Escherichia coli 3-373-03_S4_C2] >gi|650113379|gb|KDU33745.1| RNase H family protein [Escherichia coli 3-073-06_S4_C1] >gi|650115975|gb|KDU36224.1| RNase H family protein [Escherichia coli 3-373-03_S1_C3] >gi|650124272|gb|KDU44358.1| RNase H family protein [Escherichia coli 3-373-03_S1_C1] >gi|650131820|gb|KDU51592.1| RNase H family protein [Escherichia coli 3-373-03_S4_C1] >gi|650139501|gb|KDU59053.1| RNase H family protein [Escherichia coli 4-203-08_S1_C1] >gi|650143700|gb|KDU63136.1| RNase H family protein [Escherichia coli 4-203-08_S4_C3] >gi|651345169|gb|KDV13072.1| ribonuclease H [Escherichia coli O78:H12 str. 00-3279] >gi|651347111|gb|KDV14895.1| ribonuclease H [Escherichia coli O111:NM str. 01-3076] >gi|651649829|gb|KDV32190.1| ribonuclease H [Escherichia coli O69:H11 str. 07-3763] >gi|651653941|gb|KDV36271.1| ribonuclease H [Escherichia coli O145:H25 str. 07-3858] >gi|651657190|gb|KDV39517.1| ribonuclease H [Escherichia coli O146:H21 str. 2010C-3325] >gi|651664171|gb|KDV46442.1| ribonuclease H [Escherichia coli O91:H21 str. 2009C-3740] >gi|651666581|gb|KDV49034.1| ribonuclease H [Escherichia coli O121:H19 str. 2011C-3609] >gi|651685146|gb|KDV67286.1| ribonuclease H [Escherichia coli O26:H11 str. 2011C-3274] >gi|651690785|gb|KDV72895.1| ribonuclease H [Escherichia coli O118:H16 str. 07-4255] >gi|651708339|gb|KDV88152.1| RNase H family protein [Escherichia coli 2-052-05_S4_C2] >gi|651709885|gb|KDV89656.1| RNase H family protein [Escherichia coli 2-052-05_S3_C3] >gi|651713974|gb|KDV93612.1| RNase H family protein [Escherichia coli 2-052-05_S4_C3] >gi|651732221|gb|KDW11159.1| RNase H family protein [Escherichia coli 2-156-04_S1_C3] >gi|651732997|gb|KDW11885.1| RNase H family protein [Escherichia coli 2-156-04_S3_C3] >gi|651744289|gb|KDW22807.1| RNase H family protein [Escherichia coli 2-177-06_S3_C1] >gi|651747281|gb|KDW25696.1| RNase H family protein [Escherichia coli 2-177-06_S1_C1] >gi|651748252|gb|KDW26576.1| RNase H family protein [Escherichia coli 2-156-04_S4_C1] >gi|651756980|gb|KDW34958.1| RNase H family protein [Escherichia coli 2-156-04_S3_C2] >gi|651759563|gb|KDW37404.1| RNase H family protein [Escherichia coli 2-177-06_S1_C2] >gi|651762791|gb|KDW40477.1| RNase H family protein [Escherichia coli 2-177-06_S4_C2] >gi|651766142|gb|KDW43699.1| RNase H family protein [Escherichia coli 2-177-06_S1_C3] >gi|651770781|gb|KDW48013.1| RNase H family protein [Escherichia coli 2-210-07_S1_C3] >gi|651778062|gb|KDW54944.1| RNase H family protein [Escherichia coli 2-005-03_S3_C1] >gi|651787877|gb|KDW64301.1| RNase H family protein [Escherichia coli 2-005-03_S3_C3] >gi|651794451|gb|KDW70500.1| RNase H family protein [Escherichia coli 2-005-03_S4_C1] >gi|651794642|gb|KDW70679.1| RNase H family protein [Escherichia coli 1-392-07_S1_C1] >gi|651802435|gb|KDW78253.1| RNase H family protein [Escherichia coli 1-392-07_S1_C2] >gi|651808312|gb|KDW83893.1| RNase H family protein [Escherichia coli 2-210-07_S4_C1] >gi|651811712|gb|KDW87143.1| RNase H family protein [Escherichia coli 2-210-07_S1_C2] >gi|651822154|gb|KDW96996.1| RNase H family protein [Escherichia coli 2-210-07_S3_C2] >gi|651844272|gb|KDX18118.1| RNase H family protein [Escherichia coli 2-210-07_S3_C3] >gi|652006120|gb|KDX25938.1| RNase H family protein [Escherichia coli 1-250-04_S1_C1] >gi|652006865|gb|KDX26661.1| RNase H family protein [Escherichia coli 1-250-04_S1_C2] >gi|652017837|gb|KDX37269.1| RNase H family protein [Escherichia coli 2-156-04_S4_C2] >gi|652023872|gb|KDX42736.1| RNase H family protein [Escherichia coli 2-177-06_S3_C2] >gi|652028706|gb|KDX47367.1| RNase H family protein [Escherichia coli 2-156-04_S4_C3] >gi|652033731|gb|KDX52081.1| RNase H family protein [Escherichia coli 2-210-07_S3_C1] >gi|652036476|gb|KDX54657.1| RNase H family protein [Escherichia coli 2-210-07_S4_C2] >gi|652042713|gb|KDX60509.1| RNase H family protein [Escherichia coli 2-210-07_S4_C3] >gi|652049507|gb|KDX66954.1| RNase H family protein [Escherichia coli 2-222-05_S1_C1] >gi|652053921|gb|KDX71259.1| RNase H family protein [Escherichia coli 2-222-05_S1_C2] >gi|652058642|gb|KDX75689.1| RNase H family protein [Escherichia coli 2-222-05_S1_C3] >gi|652066384|gb|KDX83009.1| RNase H family protein [Escherichia coli 2-222-05_S3_C3] >gi|652067331|gb|KDX83824.1| RNase H family protein [Escherichia coli 2-222-05_S4_C2] >gi|652076847|gb|KDX92911.1| RNase H family protein [Escherichia coli 2-316-03_S3_C1] >gi|652083054|gb|KDX98860.1| RNase H family protein [Escherichia coli 2-316-03_S3_C2] >gi|652089299|gb|KDY04774.1| RNase H family protein [Escherichia coli 2-316-03_S3_C3] >gi|652093432|gb|KDY08648.1| RNase H family protein [Escherichia coli 2-316-03_S4_C1] >gi|652106445|gb|KDY20945.1| RNase H family protein [Escherichia coli 2-427-07_S1_C2] >gi|652114357|gb|KDY28460.1| RNase H family protein [Escherichia coli 2-427-07_S3_C3] >gi|652115955|gb|KDY30001.1| RNase H family protein [Escherichia coli 2-427-07_S3_C1] >gi|652129198|gb|KDY42461.1| RNase H family protein [Escherichia coli 2-427-07_S4_C1] >gi|652137403|gb|KDY50345.1| RNase H family protein [Escherichia coli 2-460-02_S3_C1] >gi|652145076|gb|KDY57132.1| RNase H family protein [Escherichia coli 2-460-02_S3_C2] >gi|652145978|gb|KDY57938.1| RNase H family protein [Escherichia coli 2-460-02_S3_C3] >gi|652160065|gb|KDY71341.1| RNase H family protein [Escherichia coli 2-460-02_S4_C2] >gi|652161659|gb|KDY72679.1| RNase H family protein [Escherichia coli 2-460-02_S4_C3] >gi|652164201|gb|KDY74981.1| RNase H family protein [Escherichia coli 2-474-04_S1_C1] >gi|652174106|gb|KDY84116.1| RNase H family protein [Escherichia coli 2-474-04_S3_C1] >gi|652175401|gb|KDY85277.1| RNase H family protein [Escherichia coli 2-427-07_S1_C3] >gi|652184556|gb|KDY94113.1| RNase H family protein [Escherichia coli 2-474-04_S3_C2] >gi|652190657|gb|KDY99723.1| RNase H family protein [Escherichia coli 2-474-04_S1_C2] >gi|652193233|gb|KDZ02125.1| RNase H family protein [Escherichia coli 2-474-04_S4_C2] >gi|652201515|gb|KDZ10038.1| RNase H family protein [Escherichia coli 2-474-04_S4_C3] >gi|652203101|gb|KDZ11507.1| RNase H family protein [Escherichia coli 2-474-04_S3_C3] >gi|652210552|gb|KDZ18567.1| RNase H family protein [Escherichia coli 3-020-07_S1_C1] >gi|652212438|gb|KDZ20346.1| RNase H family protein [Escherichia coli 3-020-07_S1_C2] >gi|652221681|gb|KDZ29169.1| RNase H family protein [Escherichia coli 3-020-07_S1_C3] >gi|652228704|gb|KDZ35642.1| RNase H family protein [Escherichia coli 3-020-07_S3_C1] >gi|652230181|gb|KDZ36994.1| RNase H family protein [Escherichia coli 3-020-07_S4_C2] >gi|652247351|gb|KDZ53507.1| RNase H family protein [Escherichia coli 3-020-07_S4_C3] >gi|652254936|gb|KDZ60193.1| RNase H family protein [Escherichia coli 3-073-06_S1_C2] >gi|652257517|gb|KDZ62656.1| RNase H family protein [Escherichia coli 3-073-06_S3_C1] >gi|652257884|gb|KDZ63011.1| RNase H family protein [Escherichia coli 3-073-06_S3_C2] >gi|652274322|gb|KDZ78476.1| RNase H family protein [Escherichia coli 3-105-05_S1_C2] >gi|652277199|gb|KDZ81110.1| RNase H family protein [Escherichia coli 3-073-06_S4_C3] >gi|652288040|gb|KDZ91433.1| RNase H family protein [Escherichia coli 2-427-07_S1_C1] >gi|658690478|gb|KEJ33703.1| RNase H family protein [Escherichia coli 2-316-03_S1_C2] >gi|658690709|gb|KEJ33927.1| RNase H family protein [Escherichia coli 2-316-03_S1_C1] >gi|658710536|gb|KEJ52512.1| RNase H family protein [Escherichia coli 2-427-07_S4_C3] >gi|658712273|gb|KEJ54166.1| RNase H family protein [Escherichia coli 2-460-02_S4_C1] >gi|658725524|gb|KEJ66861.1| RNase H family protein [Escherichia coli 3-267-03_S4_C1] >gi|658730305|gb|KEJ71314.1| RNase H family protein [Escherichia coli 3-020-07_S3_C2] >gi|658740190|gb|KEJ80902.1| RNase H family protein [Escherichia coli 5-366-08_S1_C3] >gi|659977975|gb|KEK77588.1| RNase H family protein [Escherichia coli 3-475-03_S1_C2] >gi|659983340|gb|KEK82857.1| RNase H family protein [Escherichia coli 3-475-03_S3_C2] >gi|659991350|gb|KEK90566.1| RNase H family protein [Escherichia coli 4-203-08_S1_C2] >gi|659992243|gb|KEK91413.1| RNase H family protein [Escherichia coli 4-203-08_S3_C3] >gi|659993074|gb|KEK92219.1| RNase H family protein [Escherichia coli 4-203-08_S1_C3] >gi|660007234|gb|KEL06021.1| RNase H family protein [Escherichia coli 4-203-08_S3_C2] >gi|660007811|gb|KEL06566.1| RNase H family protein [Escherichia coli 4-203-08_S4_C2] >gi|660011001|gb|KEL09676.1| RNase H family protein [Escherichia coli 4-203-08_S3_C1] >gi|660023389|gb|KEL21619.1| RNase H family protein [Escherichia coli 5-172-05_S4_C2] >gi|660024384|gb|KEL22582.1| RNase H family protein [Escherichia coli 5-366-08_S4_C2] >gi|660025557|gb|KEL23731.1| RNase H family protein [Escherichia coli 3-373-03_S4_C3] >gi|660038755|gb|KEL36623.1| RNase H family protein [Escherichia coli 5-172-05_S4_C1] >gi|660047758|gb|KEL44043.1| RNase H family protein [Escherichia coli 5-172-05_S3_C3] >gi|660051296|gb|KEL47478.1| RNase H family protein [Escherichia coli 6-175-07_S1_C1] >gi|660051915|gb|KEL48071.1| RNase H family protein [Escherichia coli 5-172-05_S3_C1] >gi|660059813|gb|KEL55802.1| RNase H family protein [Escherichia coli 5-172-05_S1_C3] >gi|660061629|gb|KEL57499.1| RNase H family protein [Escherichia coli 5-172-05_S4_C3] >gi|660076992|gb|KEL72470.1| RNase H family protein [Escherichia coli 5-366-08_S3_C3] >gi|660094555|gb|KEL89597.1| RNase H family protein [Escherichia coli 5-366-08_S3_C1] >gi|660118250|gb|KEM12927.1| RNase H family protein [Escherichia coli 6-175-07_S4_C2] >gi|660119622|gb|KEM14266.1| RNase H family protein [Escherichia coli 6-175-07_S4_C1] >gi|660122911|gb|KEM17385.1| RNase H family protein [Escherichia coli 6-319-05_S1_C2] >gi|660141731|gb|KEM35741.1| RNase H family protein [Escherichia coli 6-319-05_S1_C3] >gi|660147547|gb|KEM41387.1| RNase H family protein [Escherichia coli 6-319-05_S4_C2] >gi|660150115|gb|KEM43837.1| RNase H family protein [Escherichia coli 6-537-08_S1_C1] >gi|660151617|gb|KEM45183.1| RNase H family protein [Escherichia coli 6-175-07_S4_C3] >gi|660162482|gb|KEM55556.1| RNase H family protein [Escherichia coli 6-175-07_S1_C3] >gi|660174991|gb|KEM67812.1| RNase H family protein [Escherichia coli 7-233-03_S1_C2] >gi|660181709|gb|KEM74360.1| RNase H family protein [Escherichia coli 6-319-05_S4_C3] >gi|660186766|gb|KEM79328.1| RNase H family protein [Escherichia coli 7-233-03_S3_C1] >gi|660188470|gb|KEM80992.1| RNase H family protein [Escherichia coli 6-537-08_S3_C1] >gi|660203077|gb|KEM95108.1| RNase H family protein [Escherichia coli 2-222-05_S4_C1] >gi|660203628|gb|KEM95647.1| RNase H family protein [Escherichia coli 6-537-08_S4_C1] >gi|660213674|gb|KEN05533.1| RNase H family protein [Escherichia coli 7-233-03_S1_C3] >gi|660217600|gb|KEN09361.1| RNase H family protein [Escherichia coli 7-233-03_S3_C3] >gi|660218924|gb|KEN10651.1| RNase H family protein [Escherichia coli 6-319-05_S1_C1] >gi|660224975|gb|KEN16531.1| RNase H family protein [Escherichia coli 7-233-03_S4_C2] >gi|660230968|gb|KEN22384.1| RNase H family protein [Escherichia coli 6-537-08_S3_C2] >gi|660237483|gb|KEN28709.1| RNase H family protein [Escherichia coli 8-415-05_S1_C1] >gi|660238827|gb|KEN29994.1| RNase H family protein [Escherichia coli 7-233-03_S3_C2] >gi|660257810|gb|KEN48408.1| RNase H family protein [Escherichia coli 7-233-03_S4_C1] >gi|660263147|gb|KEN53647.1| RNase H family protein [Escherichia coli 6-537-08_S1_C2] >gi|660269997|gb|KEN60358.1| RNase H family protein [Escherichia coli 6-537-08_S1_C3] >gi|660270888|gb|KEN61234.1| RNase H family protein [Escherichia coli 7-233-03_S4_C3] >gi|660277635|gb|KEN67798.1| RNase H family protein [Escherichia coli 6-537-08_S4_C2] >gi|660285892|gb|KEN75914.1| RNase H family protein [Escherichia coli 1-392-07_S4_C3] >gi|660290314|gb|KEN80214.1| RNase H family protein [Escherichia coli 2-052-05_S3_C2] >gi|660299033|gb|KEN88445.1| RNase H family protein [Escherichia coli 2-474-04_S4_C1] >gi|660304115|gb|KEN92826.1| RNase H family protein [Escherichia coli 2-222-05_S3_C1] >gi|660314538|gb|KEO02664.1| RNase H family protein [Escherichia coli 2-222-05_S3_C2] >gi|660316132|gb|KEO04183.1| RNase H family protein [Escherichia coli 1-392-07_S4_C1] >gi|660327939|gb|KEO15689.1| RNase H family protein [Escherichia coli 8-415-05_S1_C2] >gi|660328905|gb|KEO16622.1| RNase H family protein [Escherichia coli 2-177-06_S3_C3] >gi|660332415|gb|KEO19950.1| RNase H family protein [Escherichia coli 2-222-05_S4_C3] >gi|660341961|gb|KEO29125.1| RNase H family protein [Escherichia coli 5-366-08_S4_C1] >gi|660345067|gb|KEO32150.1| RNase H family protein [Escherichia coli 2-460-02_S1_C1] >gi|660352243|gb|KEO39103.1| RNase H family protein [Escherichia coli 1-250-04_S3_C2] >gi|660655299|gb|KEO94972.1| ribonuclease H [Escherichia coli] >gi|660672432|gb|KEP11917.1| ribonuclease H [Escherichia coli] >gi|660674571|gb|KEP13997.1| ribonuclease H [Escherichia coli] >gi|662006871|gb|KEP83441.1| ribonuclease H [Escherichia coli E1140] >gi|664682652|gb|AIF35603.1| ribonuclease H [Escherichia coli KLY] >gi|664695339|gb|AIF61992.1| ribonuclease HI [Escherichia coli B7A] >gi|665437272|emb|CDU35353.1| Ribonuclease H [Escherichia coli D6-113.11] >gi|666001956|gb|AIF91813.1| Ribonuclease HI [Escherichia coli O157:H7 str. SS17] >gi|667689813|gb|AIG66422.1| Ribonuclease HI [Escherichia coli O157:H7 str. EDL933] >gi|668706098|gb|KFB91996.1| ribonuclease HI [Escherichia coli DSM 30083 = JCM 1649 = ATCC 11775] >gi|669337187|gb|KFD77159.1| ribonuclease H [Escherichia coli] >gi|671393182|gb|KFF39805.1| ribonuclease H [Escherichia coli] >gi|671702696|gb|KFF54655.1| ribonuclease H [Escherichia coli] >gi|672835375|gb|KFH79610.1| ribonuclease H [Escherichia coli] >gi|672848871|gb|KFH92206.1| ribonuclease H [Escherichia coli] >gi|672853593|gb|KFH96728.1| ribonuclease H [Escherichia coli] >gi|675090188|gb|AIL34156.1| ribonuclease HI [Shigella flexneri 2003036] >gi|675096572|gb|AIL39044.1| ribonuclease HI [Shigella flexneri Shi06HN006] >gi|678152808|gb|KFV21447.1| ribonuclease H [Escherichia coli] >gi|678157698|gb|KFV26171.1| ribonuclease H [Escherichia coli] >gi|678159580|gb|KFV27998.1| ribonuclease H [Escherichia coli] >gi|678166356|gb|KFV34588.1| ribonuclease H [Escherichia coli] >gi|678290807|emb|CEE09760.1| ribonuclease HI [Escherichia coli] >gi|682117812|gb|AIN30738.1| ribonuclease HI, degrades RNA of DNA-RNA hybrids [Escherichia coli BW25113]\n",
        "score: 91.0\n",
        "query: GKAGY---VTNKGRQKVVSI--TDTTNQKTELQAILLALQ--DSGLEVNIVTDSQYAL-GIIQ----------AQPDKSESEIVS--QIIEQLIKKEKVYLAWVPAHKGIGGNEQVDKLV\n",
        "match: G  GY   +  +GR+K  S   T TTN + EL A ++AL+      EV + TDSQY   GI Q             DK   + V   Q ++  + + ++   WV  H G   NE+ D+L \n",
        "sbjct: GPGGYGAILRYRGREKTFSAGYTRTTNNRMELMAAIVALEALKEHCEVILSTDSQYVRQGITQWIHNWKKRGWKTADKKPVKNVDLWQRLDAALGQHQIKWEWVKGHAGHPENERCDELA\n",
        "######################################################################\n",
        "\n",
        "gi|488139491|ref|WP_002210699.1| MULTISPECIES: ribonuclease H [Yersinia] >gi|22126971|ref|NP_670394.1| ribonuclease H [Yersinia pestis KIM10+] >gi|45442536|ref|NP_994075.1| ribonuclease H [Yersinia pestis biovar Microtus str. 91001] >gi|51597280|ref|YP_071471.1| ribonuclease H [Yersinia pseudotuberculosis IP 32953] >gi|108806556|ref|YP_650472.1| ribonuclease H [Yersinia pestis Antiqua] >gi|108813077|ref|YP_648844.1| ribonuclease H [Yersinia pestis Nepal516] >gi|145598913|ref|YP_001162989.1| ribonuclease H [Yersinia pestis Pestoides F] >gi|153949812|ref|YP_001400035.1| ribonuclease H [Yersinia pseudotuberculosis IP 31758] >gi|162419608|ref|YP_001607084.1| ribonuclease H [Yersinia pestis Angola] >gi|170023354|ref|YP_001719859.1| ribonuclease H [Yersinia pseudotuberculosis YPIII] >gi|186896385|ref|YP_001873497.1| ribonuclease H [Yersinia pseudotuberculosis PB1/+] >gi|218928250|ref|YP_002346125.1| ribonuclease H [Yersinia pestis CO92] >gi|294503097|ref|YP_003567159.1| ribonuclease H [Yersinia pestis Z176003] >gi|384121538|ref|YP_005504158.1| ribonuclease H [Yersinia pestis D106004] >gi|384125713|ref|YP_005508327.1| ribonuclease H [Yersinia pestis D182038] >gi|384141051|ref|YP_005523753.1| ribonuclease H [Yersinia pestis A1122] >gi|384413713|ref|YP_005623075.1| ribonuclease H [Yersinia pestis biovar Medievalis str. Harbin 35] >gi|21362886|sp|Q8ZH30.1|RNH_YERPE RecName: Full=Ribonuclease HI; Short=RNase HI [Yersinia pestis] >gi|81825740|sp|Q667M7.1|RNH_YERPS RecName: Full=Ribonuclease H; Short=RNase H [Yersinia pseudotuberculosis IP 32953] >gi|122979768|sp|Q1CAJ5.1|RNH_YERPA RecName: Full=Ribonuclease H; Short=RNase H [Yersinia pestis Antiqua] >gi|122980009|sp|Q1CFI6.1|RNH_YERPN RecName: Full=Ribonuclease H; Short=RNase H [Yersinia pestis Nepal516] >gi|189043723|sp|A7FFK7.1|RNH_YERP3 RecName: Full=Ribonuclease H; Short=RNase H [Yersinia pseudotuberculosis IP 31758] >gi|189043724|sp|A4TL54.1|RNH_YERPP RecName: Full=Ribonuclease H; Short=RNase H [Yersinia pestis Pestoides F] >gi|238687260|sp|A9R0G0.1|RNH_YERPG RecName: Full=Ribonuclease H; Short=RNase H [Yersinia pestis Angola] >gi|238688496|sp|B1JR46.1|RNH_YERPY RecName: Full=Ribonuclease H; Short=RNase H [Yersinia pseudotuberculosis YPIII] >gi|238691454|sp|B2KAC9.1|RNH_YERPB RecName: Full=Ribonuclease H; Short=RNase H [Yersinia pseudotuberculosis PB1/+] >gi|21960014|gb|AAM86645.1|AE013910_7 RNase HI [Yersinia pestis KIM10+] >gi|45437401|gb|AAS62952.1| ribonuclease HI [Yersinia pestis biovar Microtus str. 91001] >gi|51590562|emb|CAH22203.1| ribonuclease HI [Yersinia pseudotuberculosis IP 32953] >gi|108776725|gb|ABG19244.1| RNase HI [Yersinia pestis Nepal516] >gi|108778469|gb|ABG12527.1| RNase HI [Yersinia pestis Antiqua] >gi|115346861|emb|CAL19747.1| ribonuclease HI [Yersinia pestis CO92] >gi|145210609|gb|ABP40016.1| RNase HI [Yersinia pestis Pestoides F] >gi|149291290|gb|EDM41365.1| ribonuclease HI [Yersinia pestis CA88-4125] >gi|152961307|gb|ABS48768.1| RNase H [Yersinia pseudotuberculosis IP 31758] >gi|162352423|gb|ABX86371.1| RNase H [Yersinia pestis Angola] >gi|165913674|gb|EDR32293.1| RNase H [Yersinia pestis biovar Orientalis str. IP275] >gi|165923821|gb|EDR40953.1| RNase H [Yersinia pestis biovar Orientalis str. F1991016] >gi|165989141|gb|EDR41442.1| RNase H [Yersinia pestis biovar Antiqua str. E1979001] >gi|166207066|gb|EDR51546.1| RNase H [Yersinia pestis biovar Antiqua str. B42003004] >gi|166962339|gb|EDR58360.1| RNase H [Yersinia pestis biovar Orientalis str. MG05-1020] >gi|167050641|gb|EDR62049.1| RNase H [Yersinia pestis biovar Antiqua str. UG05-0454] >gi|167056769|gb|EDR66532.1| RNase H [Yersinia pestis biovar Mediaevalis str. K1973002] >gi|169749888|gb|ACA67406.1| Ribonuclease H [Yersinia pseudotuberculosis YPIII] >gi|186699411|gb|ACC90040.1| ribonuclease H [Yersinia pseudotuberculosis PB1/+] >gi|229679290|gb|EEO75393.1| ribonuclease HI, degrades RNA of DNA-RNA hybrids [Yersinia pestis Nepal516] >gi|229689464|gb|EEO81525.1| ribonuclease HI, degrades RNA of DNA-RNA hybrids [Yersinia pestis biovar Orientalis str. India 195] >gi|229697378|gb|EEO87425.1| ribonuclease HI, degrades RNA of DNA-RNA hybrids [Yersinia pestis biovar Orientalis str. PEXU2] >gi|229701620|gb|EEO89647.1| ribonuclease HI, degrades RNA of DNA-RNA hybrids [Yersinia pestis Pestoides A] >gi|262361134|gb|ACY57855.1| ribonuclease H [Yersinia pestis D106004] >gi|262365377|gb|ACY61934.1| ribonuclease H [Yersinia pestis D182038] >gi|270335805|gb|EFA46582.1| ribonuclease HI [Yersinia pestis KIM D27] >gi|294353556|gb|ADE63897.1| ribonuclease H [Yersinia pestis Z176003] >gi|320014217|gb|ADV97788.1| ribonuclease H [Yersinia pestis biovar Medievalis str. Harbin 35] >gi|342856180|gb|AEL74733.1| ribonuclease H [Yersinia pestis A1122] >gi|391429918|gb|EIQ91712.1| RNase H family protein [Yersinia pestis PY-01] >gi|391431022|gb|EIQ92653.1| RNase H family protein [Yersinia pestis PY-02] >gi|391446030|gb|EIR06107.1| RNase H family protein [Yersinia pestis PY-04] >gi|391446663|gb|EIR06685.1| RNase H family protein [Yersinia pestis PY-05] >gi|391450639|gb|EIR10253.1| RNase H family protein [Yersinia pestis PY-06] >gi|391462200|gb|EIR20740.1| RNase H family protein [Yersinia pestis PY-07] >gi|391465487|gb|EIR23680.1| RNase H family protein [Yersinia pestis PY-09] >gi|391479986|gb|EIR36707.1| RNase H family protein [Yersinia pestis PY-11] >gi|391480187|gb|EIR36886.1| RNase H family protein [Yersinia pestis PY-12] >gi|391495274|gb|EIR50390.1| RNase H family protein [Yersinia pestis PY-15] >gi|391498088|gb|EIR52884.1| RNase H family protein [Yersinia pestis PY-14] >gi|391510046|gb|EIR63618.1| RNase H family protein [Yersinia pestis PY-16] >gi|391510859|gb|EIR64338.1| RNase H family protein [Yersinia pestis PY-19] >gi|391525570|gb|EIR77701.1| RNase H family protein [Yersinia pestis PY-29] >gi|391528367|gb|EIR80191.1| RNase H family protein [Yersinia pestis PY-34] >gi|391529362|gb|EIR81064.1| RNase H family protein [Yersinia pestis PY-32] >gi|391542101|gb|EIR92592.1| RNase H family protein [Yersinia pestis PY-36] >gi|391543882|gb|EIR94165.1| RNase H family protein [Yersinia pestis PY-42] >gi|391544840|gb|EIR95002.1| RNase H family protein [Yersinia pestis PY-45] >gi|391558964|gb|EIS07798.1| RNase H family protein [Yersinia pestis PY-46] >gi|391559577|gb|EIS08330.1| RNase H family protein [Yersinia pestis PY-47] >gi|391560916|gb|EIS09504.1| RNase H family protein [Yersinia pestis PY-48] >gi|391574188|gb|EIS21129.1| RNase H family protein [Yersinia pestis PY-52] >gi|391574794|gb|EIS21630.1| RNase H family protein [Yersinia pestis PY-53] >gi|391586499|gb|EIS31794.1| RNase H family protein [Yersinia pestis PY-55] >gi|391587115|gb|EIS32329.1| RNase H family protein [Yersinia pestis PY-54] >gi|391590074|gb|EIS34878.1| RNase H family protein [Yersinia pestis PY-56] >gi|391603477|gb|EIS46660.1| RNase H family protein [Yersinia pestis PY-60] >gi|391605021|gb|EIS47956.1| RNase H family protein [Yersinia pestis PY-59] >gi|391617846|gb|EIS59350.1| RNase H family protein [Yersinia pestis PY-61] >gi|391618475|gb|EIS59897.1| RNase H family protein [Yersinia pestis PY-63] >gi|391629537|gb|EIS69456.1| RNase H family protein [Yersinia pestis PY-65] >gi|391640935|gb|EIS79421.1| RNase H family protein [Yersinia pestis PY-71] >gi|391643524|gb|EIS81685.1| RNase H family protein [Yersinia pestis PY-72] >gi|391643592|gb|EIS81748.1| RNase H family protein [Yersinia pestis PY-66] >gi|391663862|gb|EIS99658.1| RNase H family protein [Yersinia pestis PY-89] >gi|391665957|gb|EIT01486.1| RNase H family protein [Yersinia pestis PY-90] >gi|391671984|gb|EIT06872.1| RNase H family protein [Yersinia pestis PY-91] >gi|391684098|gb|EIT17817.1| RNase H family protein [Yersinia pestis PY-93] >gi|391685496|gb|EIT19030.1| RNase H family protein [Yersinia pestis PY-92] >gi|391686389|gb|EIT19817.1| RNase H family protein [Yersinia pestis PY-94] >gi|391698105|gb|EIT30443.1| RNase H family protein [Yersinia pestis PY-95] >gi|391701742|gb|EIT33706.1| RNase H family protein [Yersinia pestis PY-96] >gi|391702752|gb|EIT34604.1| RNase H family protein [Yersinia pestis PY-98] >gi|391712275|gb|EIT43171.1| RNase H family protein [Yersinia pestis PY-99] >gi|391718633|gb|EIT48863.1| RNase H family protein [Yersinia pestis PY-100] >gi|391718999|gb|EIT49187.1| RNase H family protein [Yersinia pestis PY-101] >gi|391729837|gb|EIT58786.1| RNase H family protein [Yersinia pestis PY-102] >gi|391732798|gb|EIT61320.1| RNase H family protein [Yersinia pestis PY-103] >gi|391736442|gb|EIT64467.1| RNase H family protein [Yersinia pestis PY-113] >gi|411176738|gb|EKS46753.1| ribonuclease H [Yersinia pestis INS] >gi|550625168|gb|ERP76183.1| ribonuclease H [Yersinia pestis S3] >gi|550625882|gb|ERP76867.1| ribonuclease H [Yersinia pestis 24H] >gi|550626831|gb|ERP77775.1| ribonuclease H [Yersinia pestis 113] >gi|550633413|gb|ERP83730.1| ribonuclease H [Yersinia pestis 9] >gi|566686641|dbj|GAE10702.1| ribonuclease H [Yersinia pseudotuberculosis NBRC 105692] >gi|594135671|gb|EXU70614.1| ribonuclease H [Yersinia pestis EV NIIEG] >gi|668662420|gb|KFB59007.1| ribonuclease H [Yersinia pestis subsp. pestis] >gi|682101481|gb|AIN13358.1| RNase H family protein [Yersinia pseudotuberculosis]\n",
        "score: 86.0\n",
        "query: TTNQKTELQAILLALQ--DSGLEVNIVTDSQYAL-GIIQ----------AQPDKSESEIVS--QIIEQLIKKEKVYLAWVPAHKGIGGNEQVDKLVSTG\n",
        "match: TTN + EL A ++AL+   S  EV + TDSQY   GI Q             D+     V   Q ++  I+   +   WV  H G   NE+ D+L   G\n",
        "sbjct: TTNNRMELMAAIVALEALTSPCEVTLSTDSQYVRQGITQWIHNWKKRGWKTADRKPVRNVDLWQRLDLAIQSHTIQWEWVKGHAGHPENERCDELARQG\n",
        "######################################################################\n",
        "\n",
        "gi|491139161|ref|WP_004997577.1| MULTISPECIES: ribonuclease H [spotted fever group] >gi|15893031|ref|NP_360745.1| ribonuclease H [Rickettsia conorii str. Malish 7] >gi|341584280|ref|YP_004764771.1| ribonuclease H [Rickettsia heilongjiangensis 054] >gi|350273846|ref|YP_004885159.1| ribonuclease H [Rickettsia japonica YH] >gi|383481977|ref|YP_005390892.1| ribonuclease H [Rickettsia rhipicephali str. 3-7-female6-CWPP] >gi|383482600|ref|YP_005391514.1| ribonuclease H [Rickettsia montanensis str. OSU 85-930] >gi|383751745|ref|YP_005426846.1| ribonuclease H [Rickettsia slovaca str. D-CWPP] >gi|15620232|gb|AAL03646.1| ribonuclease H [Rickettsia conorii str. Malish 7] >gi|28262666|gb|EAA26170.1| ribonuclease H [Rickettsia sibirica 246] >gi|340808505|gb|AEK75093.1| ribonuclease H [Rickettsia heilongjiangensis 054] >gi|348593059|dbj|BAK97020.1| ribonuclease H [Rickettsia japonica YH] >gi|378934316|gb|AFC72819.1| ribonuclease H [Rickettsia rhipicephali str. 3-7-female6-CWPP] >gi|378934954|gb|AFC73455.1| ribonuclease H [Rickettsia montanensis str. OSU 85-930] >gi|379774759|gb|AFD20115.1| ribonuclease H [Rickettsia slovaca str. D-CWPP]\n",
        "gi|499207606|ref|WP_010905146.1| transposase [Lactococcus lactis] >gi|15672119|ref|NP_266293.1| transposase of IS904B [Lactococcus lactis subsp. lactis Il1403] >gi|15672122|ref|NP_266296.1| transposase of IS904C [Lactococcus lactis subsp. lactis Il1403] >gi|15672619|ref|NP_266793.1| transposase of IS904E [Lactococcus lactis subsp. lactis Il1403] >gi|15672804|ref|NP_266978.1| transposase of IS904F [Lactococcus lactis subsp. lactis Il1403] >gi|15674127|ref|NP_268302.1| transposase of IS904I [Lactococcus lactis subsp. lactis Il1403] >gi|125623474|ref|YP_001031957.1| transposase for insertion sequence element IS904B [Lactococcus lactis subsp. cremoris MG1363] >gi|125623512|ref|YP_001031995.1| transposase for insertion sequence element IS904C [Lactococcus lactis subsp. cremoris MG1363] >gi|125624368|ref|YP_001032851.1| transposase for insertion sequence IS904F [Lactococcus lactis subsp. cremoris MG1363] >gi|125624509|ref|YP_001032992.1| transposase for insertion sequence IS904G [Lactococcus lactis subsp. cremoris MG1363] >gi|125624676|ref|YP_001033159.1| transposase for insertion sequence IS904H [Lactococcus lactis subsp. cremoris MG1363] >gi|410687302|ref|YP_006965815.1| IS904 transposase [Lactococcus lactis subsp. cremoris] >gi|410687324|ref|YP_006965838.1| IS904 transposase [Lactococcus lactis subsp. cremoris] >gi|459284776|ref|YP_007507881.1| transposase of IS904I [Lactococcus lactis subsp. lactis IO-1] >gi|549108|sp|P35878.1|T904_LACLA RecName: Full=Transposase for insertion sequence element IS904 [Lactococcus lactis subsp. lactis Il1403] >gi|12722985|gb|AAK04235.1|AE006251_11 transposase of IS904B [Lactococcus lactis subsp. lactis Il1403] >gi|12722988|gb|AAK04238.1|AE006251_14 transposase of IS904C [Lactococcus lactis subsp. lactis Il1403] >gi|12723540|gb|AAK04735.1|AE006296_9 transposase of IS904E [Lactococcus lactis subsp. lactis Il1403] >gi|12723746|gb|AAK04920.1|AE006316_1 transposase of IS904F [Lactococcus lactis subsp. lactis Il1403] >gi|12725204|gb|AAK06243.1|AE006443_1 transposase of IS904I [Lactococcus lactis subsp. lactis Il1403] >gi|149443|gb|AAA25194.1| transposase [Lactococcus lactis subsp. lactis] >gi|149452|gb|AAA25197.1| ORF1 [Lactococcus lactis] >gi|216736|dbj|BAA00601.1| hypothetical protein [Lactococcus lactis] >gi|124492282|emb|CAL97214.1| transposase for insertion sequence element IS904B [Lactococcus lactis subsp. cremoris MG1363] >gi|124492320|emb|CAL97254.1| transposase for insertion sequence element IS904C [Lactococcus lactis subsp. cremoris MG1363] >gi|124493176|emb|CAL98140.1| transposase for insertion sequence IS904F [Lactococcus lactis subsp. cremoris MG1363] >gi|124493317|emb|CAL98288.1| transposase for insertion sequence IS904G [Lactococcus lactis subsp. cremoris MG1363] >gi|124493484|emb|CAL98462.1| transposase for insertion sequence IS904H [Lactococcus lactis subsp. cremoris MG1363] >gi|261036410|gb|ACX54457.1| IS904 transposase [Lactococcus lactis subsp. cremoris] >gi|261036432|gb|ACX54479.1| IS904 transposase [Lactococcus lactis subsp. cremoris] >gi|374672664|dbj|BAL50555.1| transposase of IS904I [Lactococcus lactis subsp. lactis IO-1] >gi|389565832|gb|AFK83773.1| transposase IS904 [Lactococcus lactis subsp. cremoris] >gi|389565836|gb|AFK83777.1| transposase IS904 [Lactococcus lactis subsp. cremoris] >gi|552525538|emb|CDI47656.1| Mobile element protein [Lactococcus lactis subsp. lactis Dephy 1] >gi|657633586|gb|KEH51241.1| transposase [Streptococcus macedonicus]\n",
        "gi|660339543|gb|KEO26752.1| integrase core domain protein, partial [Escherichia coli 2-460-02_S1_C1] >gi|660344842|gb|KEO31929.1| integrase core domain protein, partial [Escherichia coli 2-460-02_S1_C1]"
       ]
      }
     ],
     "prompt_number": 25
    },
    {
     "cell_type": "heading",
     "level": 1,
     "metadata": {},
     "source": [
      "Recipe 5: Calculating a Consensus Sequence from a Multiple Sequence Alignment"
     ]
    },
    {
     "cell_type": "code",
     "collapsed": false,
     "input": [
      "seqs=[\n",
      "      'ATCCAGCT',\n",
      "      'GGGCAACT',\n",
      "      'ATGGATCT',\n",
      "      'AAGCAACC',\n",
      "      'TTGGAACT',\n",
      "      'ATGCCATT',\n",
      "      'ATGGCACT'\n",
      "      ]\n",
      "\n",
      "n=len(seqs[0])\n",
      "profile={'A':[0]*n, 'C':[0]*n, 'G':[0]*n, 'T':[0]*n}\n",
      "\n",
      "for seq in seqs:\n",
      "    for i, char in enumerate(seq):\n",
      "        profile[char][i] += 1\n",
      "        \n",
      "consensus=\"\"\n",
      "for i in range(n):\n",
      "    col = [(profile[nt][i],nt) for nt in 'AGCT']\n",
      "    consensus += max(col)[1]\n",
      "print consensus\n",
      "      "
     ],
     "language": "python",
     "metadata": {},
     "outputs": [
      {
       "output_type": "stream",
       "stream": "stdout",
       "text": [
        "ATGCAACT"
       ]
      }
     ],
     "prompt_number": 5
    },
    {
     "cell_type": "code",
     "collapsed": false,
     "input": [
      "profile"
     ],
     "language": "python",
     "metadata": {},
     "outputs": [
      {
       "metadata": {},
       "output_type": "pyout",
       "prompt_number": 7,
       "text": [
        "{'A': [5, 1, 0, 0, 5, 5, 0, 0],\n",
        " 'C': [0, 0, 1, 4, 2, 0, 6, 1],\n",
        " 'G': [1, 1, 6, 3, 0, 1, 0, 0],\n",
        " 'T': [1, 5, 0, 0, 0, 1, 1, 6]}"
       ]
      }
     ],
     "prompt_number": 7
    },
    {
     "cell_type": "heading",
     "level": 1,
     "metadata": {},
     "source": [
      "Recipe 4: Parsing Multiple Sequence Alignments Using Biopython"
     ]
    },
    {
     "cell_type": "markdown",
     "metadata": {},
     "source": [
      "Pfam Globin Family\n",
      "\n",
      "http://pfam.xfam.org/family/PF00042#tabview=tab0"
     ]
    },
    {
     "cell_type": "code",
     "collapsed": false,
     "input": [
      "from Bio import AlignIO, SeqIO\n",
      "alignment=AlignIO.read(\"PF00042_seed.txt\",\"stockholm\")\n",
      "for record in alignment:\n",
      "    print record.id, record.annotations, record.seq"
     ],
     "language": "python",
     "metadata": {},
     "outputs": [
      {
       "output_type": "stream",
       "stream": "stdout",
       "text": [
        "Q20638_CAEEL/74-184 {'start': 74, 'end': 184, 'accession': 'Q20638.1'} EKELLRRTWSD-EFD------NLYELGSAIYCYIFDHNPNCKQLFP-F-ISKYQGDEWKESKEFRSQALKFVQTLAQVVKNIYHMERTESFLYMVGQKHVKFADRG----FKHEYWDIFQDAME\n",
        "Q19601_CAEEL/105-215 {'start': 105, 'end': 215, 'accession': 'Q19601.2'} ERILLEQSWRK-TRK-----TGADHIGSKIFFMVLTAQPDIKAIFG-L--EKIPTGRLKYDPRFRQHALVYTKTLDFVIRNL---DYPGKLEVYFENLGKRHVAMQG-RGFEPGYWETFAECMT\n",
        "Q18311_CAEEL/32-140 {'start': 32, 'end': 140, 'accession': 'Q18311.1'} TKKLVIQEWPR-VLA------QCPELFTEIWHKSATRSTSIKLAFG-I-AE-N--ESPMQNAAFLGLSSTIQAFFYKLIITYE-L-NDDQVREACEQLGARHVDFIS-RGFNSHFWDIFLVCMA\n",
        "GLB4_LUMTE/11-120 {'start': 11, 'end': 120, 'accession': 'P13579.1'} DRREIRHIWDD-VWSSS-FTDRRVAIVRAVFDDLFKHYPTSKALFERVKIDEP------ESGEFKSHLVRVANGLDLLINLL---DDTLVLQSHLGHLADQHIQRK---GVTKEYFRGIGEAFA\n",
        "GLB3_TYLHE/8-117 {'start': 8, 'end': 117, 'accession': 'P13578.1'} DRHEVLDNWKG-IWSAE-FTGRRVAIGQAIFQELFALDPNAKGVFGRVNVD-K-----PSEADWKAHVIRVINGLDLAVNLL---EDPKALQEELKHLARQHRERS---GVKAVYFDEMEKALL\n",
        "GLB4_TYLHE/8-117 {'start': 8, 'end': 117, 'accession': 'P02220.1'} DRREVQALWRS-IWSAE-DTGRRTLIGRLLFEELFEIDGATKGLFKRVNVDDT------HSPEEFAHVLRVVNGLDTLIGVL--GDSD-TLNSLIDHLAEQHKARA---GFKTVYFKEFGKALN\n",
        "GLB1_TYLHE/7-110 {'start': 7, 'end': 110, 'accession': 'P02219.1'} QRIKVKQQWAQ-VYSV---GESRTDFAIDVFNNFFRTNPDRS-LFNRVNGDNV------YSPEFKAHMVRVFAGFDILISVL---DDKPVLDQALAHYAAFHKQFG----TIP--FKAFGQTMF\n",
        "GLB2_TYLHE/9-115 {'start': 9, 'end': 115, 'accession': 'P09966.1'} QRLKVKQQWAK-AYGV---GHERVELGIALWKSMFAQDNDARDLFKRVHGEDV------HSPAFEAHMARVFNGLDRVISSL---TDEPVLNAQLEHLRQQHIKLG----ITGHMFNLMRTGLA\n",
        "GLB2_LUMTE/8-114 {'start': 8, 'end': 114, 'accession': 'P02218.2'} EGLKVKSEWGR-AYGS---GHDREAFSQAIWRATFAQVPESRSLFKRVHGDDT------SHPAFIAHAERVLGGLDIAISTL---DQPATLKEELDHLQVQHEGRK----IPDNYFDAFKTAIL\n",
        "GLB_TUBTU/6-112 {'start': 6, 'end': 112, 'accession': 'P18202.1'} QRFKVKHQWAE-AFGT---SHHRLDFGLKLWNSIFRDAPEIRGLFKRVDGD-N-----AYSAEFEAHAERVLGGLDMTISLL---DDQAAFDAQLAHLKSQHAERN----IKADYYGVFVNELL\n",
        "GLB3_LAMSP/7-113 {'start': 7, 'end': 113, 'accession': 'P15469.1'} QRLKVKRQWAE-AYGS---GNDREEFGHFIWTHVFKDAPSARDLFKRVRGDNI------HTPAFRAHATRVLGGLDMCIALL---DDEGVLNTQLAHLASQHSSRG----VSAAQYDVVEHSVM\n",
        "GLB_PSEDC/21-134 {'start': 21, 'end': 134, 'accession': 'P26914.1'} TRELCMKSLEH-AKVGT--SKEAKQDGIDLYKHMFEHYPAMKKYFKHR--ENYTPADVQKDPFFIKQGQNILLACHVLCATY---DDRETFDAYVGELMARHERDHV--KIPNDVWNHFWEHFI\n",
        "GLB_ASCSU/21-134 {'start': 21, 'end': 134, 'accession': 'P28316.2'} TRELCMKSLEH-AKVDT--SNEARQDGIDLYKHMFENYPPLRKYFKNR--EEYTAEDVQNDPFFAKQGQKILLACHVLCATY---DDRETFNAYTRELLDRHARDHV--HMPPEVWTDFWKLFE\n",
        "GLBC_NIPBR/21-135 {'start': 21, 'end': 135, 'accession': 'P51536.1'} DVK--KHTVES-MKAVP-VGRDKAQNGIDFYKFFFTHHKDLRKFFKGA--ENFGADDVQKSKRFEKQGTALLLAVHVLANVY---DNQAVFHGFVRELMNRHEKRGVDPKLWKIFFDDVWVPFL\n",
        "GLBH_CAEEL/10-119 {'start': 10, 'end': 119, 'accession': 'P30627.2'} DLC-VKSLEGR-MVGTE--AQNI-ENGNAFYRYFFTNFPDLRVYFKGA--EKYTADDVKKSERFDKQGQRILLACHLLANVY---TNEEVFKGYVRETINRHRIYK----MDPALWMAFFTVFT\n",
        "GLB2_NIPBR/16-114 {'start': 16, 'end': 114, 'accession': 'P51535.1'} PISKAQQ------AQ----------VGKDFYKFFFTNHPDLRKYFKGA--ENFTADDVQKSDRFEKLGSGLLLSVHILANTF---DNEDVFRAFCRETIDRHVGRG----LDPALWKAFWSVWV\n",
        "GLBH_TRICO/30-132 {'start': 30, 'end': 132, 'accession': 'P27613.1'} DVVPLGSTPEK-L-----------ENGREFYKYFFTNHQDLRKYFKGA--ETFTADDIAKSDRFKKLGNQLLLSVHLAADTY---DNEMIFRAFVRDTIDRHVDRG----LDPKLWKEFWSIYQ\n",
        "GLB1_CALSO/5-105 {'start': 5, 'end': 105, 'accession': 'P14805.1'} DIKNVQDTWGK-LYD-----QWDAVHASKFYNKLFKDSEDISEAFVKA--------GTGSGIAMKRQALVFGAILQEFVANL---NDPTALTLKIKGLCATHKTRG----ITN--MELFAFALA\n",
        "GLB2_CALSO/5-108 {'start': 5, 'end': 108, 'accession': 'P14528.1'} DIAAVQTSWRR-CYCS---WDNE--DGLKFYQTLFDSNSKIRHAFESA--------GATNDTEMEKQANLFGLMMTQFIDNL---DDTTALNYKISGLMATHKTRN---VVDPALFAIALNELV\n",
        "HMP_ECOLI/6-103 {'start': 6, 'end': 103, 'accession': 'P24232.1'} TIATVKATIPL-LVE------TGPKLTAHFYDRMFTHNPELKEIFN-M-----------SNQRNGDQREALFNAIAAYASNI---ENLPALLPAVEKIAQKHTSFQ----IKPEQYNIVGEHLL\n",
        "BAHG_VITST/6-103 {'start': 6, 'end': 103, 'accession': 'P04252.1'} TINIIKATVPV-LKE------HGVTITTTFYKNLFAKHPEVRPLFD-M-------GRQESLEQPKALAMTVLAAAQNIENL------P-AILPAVKKIAVKHCQAG----VAAAHYPIVGQELL\n",
        "GLB1_PARCH/17-123 {'start': 17, 'end': 123, 'accession': 'P15161.2'} QKKIVRKTWHQ-LMR------NKTSFVTDLFIRIFAYDPAAQNKFPQM-AGMS-ASQLRSSRQMQAHAIRVSSIMSEYIEEL---DSD-ILPELLATLARTHDLNK----VGPAHYDLFAKVLM\n",
        "Q9ZAX1_MYCBO/42-136 {'start': 42, 'end': 136, 'accession': 'Q9ZAX1.1'} DALRVLQNAFK-L--------DDPELVRRFYAHWFALDASVRDLFP-P----------DMGAQRAAFGQALHWVYGELVAQ---R--AEEPVAFLAQLGRDHRKYG----VLPTQYDTLRRALY\n",
        "HBP2_CASGL/13-122 {'start': 13, 'end': 122, 'accession': 'P23244.1'} QEALVVKSWSA-MKP------NAGELGLKFFLKIFEIAPSAQKLFS-FLKD--SNVPLERNPKLKSHAMSVFLMTCESAVQLRKAGKVTVRESSLKKLGASHFKHG----VADEHFEVTKFALL\n",
        "HBP1_CASGL/7-116 {'start': 7, 'end': 116, 'accession': 'P08054.2'} QEALLKQSWEV-LKQ------NIPAHSLRLFALIIEAAPESKYVFS-FLKD--SNEIPENNPKLKAHAAVIFKTICESATELRQKGHAVWDNNTLKRLGSIHLKNK----ITDPHFEVMKGALL\n",
        "LGB1_LUPLU/8-116 {'start': 8, 'end': 116, 'accession': 'P02239.3'} QVALVKSSFEE-FNA------NIPKNTHRFFTLVLEIAPGAKDLFS-FLKGSS--EVPQNNPDLQAHAGKVFKLTYEAAIQLQVNGAV-ASDATLKSLGSVHVSKG----VVDAHFPVVKEAIL\n",
        "LGB1_MEDSA/7-112 {'start': 7, 'end': 112, 'accession': 'P09187.1'} QEALVNSSWEA-FKQ------NLPRYSVFFYTVVLEKAPAAKGLFS-F---LKNSAEVQDSPQLQAHAEKVFGLVRDSAVQL--R-ATGGVVLGDATLGAIHVRKG----VVDPHFVVVKEALL\n",
        "GLB1_GLYDI/6-111 {'start': 6, 'end': 111, 'accession': 'P02216.2'} QRQVIAATWKD-IAGA----DNGAGVGKDCLIKFLSAHPQMAAVFG-F-SG-------ASDPGVAALGAKVLAQIGVAVSHL---GDEGKMVAQMKAVGVRHKGYGN-KHIKAQYFEPLGASLL\n",
        "GLBP1_GLYDI/7-115 {'start': 7, 'end': 115, 'accession': 'P23216.1'} QVAALKASWPE-VSAG----DGGAQLGLEMFTKYFHENPQMMFIFG-YSGR-T--EALKHSSKLQHHGKVIIDQIGKAVAEM---DNAKQMAGTLHALGVRHKGFG---DIRAEFFPALGMCLL\n",
        "GLB_APLJU/6-113 {'start': 6, 'end': 113, 'accession': 'P14393.1'} DAGLLAQSWAP-VFA------NSDANGASFLVALFTQFPESANFFNDF-KG-KSLADIQASPKLRDVSSRIFARLNEFVSNA---ADAGKMGSMLQQFATEHAGFG----VGSAQFQNVRSMFP\n",
        "GLB3_CHITH/20-120 {'start': 20, 'end': 120, 'accession': 'P02229.2'} QISTVQASFDK-VKG----------DPVGILYAVFKADPSIMAKFTQF-AG-KDLESIKGTAPFEIHANRIVGFFSKIIGEL------PNIEADVNTFVASHKPRG----VTHDQLNNFRAGFV\n",
        "GLB1_CHITH/21-126 {'start': 21, 'end': 126, 'accession': 'P02221.2'} QIAAAKASWNT-VKN----------NQVDILYAVFKANPDIQTAFSQF-AG-KDLDSIKGTPDFSKHAGRVVGLFSEVMDLLGNDANTPTILAKAKDFGKSHKSRA-----SPAQLDNFRKSLV\n",
        "GLB8_CHITH/9-115 {'start': 9, 'end': 115, 'accession': 'P02227.1'} QLALFKSSWNT-VKH----------NEVDILYAVFKANPDIQAKFPQF-AG-KDLDSIKDSADFAVHSGRIVGFFSEVIGLIGNPENRPALKTLIDGLASSHKARG----IEKAQFEEFRASLV\n",
        "GLB2_CHITH/22-128 {'start': 22, 'end': 128, 'accession': 'P02222.2'} EASLVRGSWAQ-VKH----------SEVDILYYIFKANPDIMAKFPQF-AG-KDLETLKGTGQFATHAGRIVGFVSEIVALMGNSANMPAMETLIKDMAANHKARG----IPKAQFNEFRASLV\n",
        "GLB10_CHITH/11-117 {'start': 11, 'end': 117, 'accession': 'P02228.1'} EVEQVQATWKA-VSH----------DEVEILYTVFKAHPDIMAKFPKF-AG-KDLEAIKDTADFAVHASRIIGFFGEYVTLLGSSGNQAAIRTLLHDLGVFHKTRG----ITKAQFGEFRETMT\n",
        "GLB73_CHITH/23-129 {'start': 23, 'end': 129, 'accession': 'P12548.1'} EASLVQSSWKA-VSH----------NEVDILAAVFAAYPDIQAKFPQF-AG-KDLASIKDTGAFATHATRIVSFLSEVIALSGNESNASAVNSLVSKLGDDHKARG----VSAAQFGEFRTALV\n",
        "GLB6_CHITH/22-128 {'start': 22, 'end': 128, 'accession': 'P02224.2'} QADLVKKTWST-VKF----------NEVDILYAVFKAYPDIMAKFPQF-AG-KDLDSIKDSAAFATHATRIVSFLSEVISLAGSDANIPAIQNLAKELATSHKPRG----VSKDQFTEFRTALF\n",
        "HBF1_URECA/7-113 {'start': 7, 'end': 113, 'accession': 'P06148.2'} QIKAIQDHWFLNIKG------CLQAAADSIFFKYLTAYPGDLAFFHKF-SS-VPLYGLRSNPAYKAQTLTVINYLDKVVDAL-----GGNAGALMKAKVPSHDAMG----ITPKHFGQLLKLVG\n",
        "GLBT_CHITH/13-116 {'start': 13, 'end': 116, 'accession': 'P02231.1'} QVAAVKGDWEK-IKG----------SGVEILYFFLNKFPGNFPMFKKL-GN--DLAAAKGTAEFKDQADKIIAFLQGVIEKLG-S-DMGGAKALLNQLGTSHKAMG----ITKDQFDQFRQALT\n",
        "GLB_PAREP/8-117 {'start': 8, 'end': 117, 'accession': 'P80721.2'} QDILLKELGPH-V-DT---PAHIVETGLGAYHALFTAHPQYIIHFSRL-EG-HTIENVMQSEGIKHYARTLTEAIVHMLKEI---SNDAEVKKIAAQYGKDHTSRK----VTKDEFMSGEPIFT\n",
        "Q21978_CAEEL/165-283 {'start': 165, 'end': 283, 'accession': 'Q21978.1'} SCEVVADSWRL-VESRSSAAETSACFGLFVFQRVFSKIPMLRPLFG-L-SESDDVFDLPDNHPVRRHARLFTSILHISVKNV--DELEAQVAPTVFKYGERHYRPDITPHMTEENVRVFCAQIV\n",
        "GLB1B_ANATR/17-122 {'start': 17, 'end': 122, 'accession': 'P04251.3'} QKDLLRLSWGV-LSV------DMEGTGLMLMANLFKTSSAARTKFARL-GDVS---AGKDNSKLRGHSITLMYALQNFIDAL---DNVDRLKCVVEKFAVNHINRQ----ISADEFGEIVGPLR\n",
        "GLB_BUSCA/6-116 {'start': 6, 'end': 116, 'accession': 'P02214.1'} QKTALKESWKV-LGAD---GPTMMKNGSLLFGLLFKTYPDTKKHFKHF--DDATFAAMDTTGVGKAHGVAVFSGLGSMICSI---DDDDCVBGLAKKLSRNHLARG----VSAADFKLLEAVFK\n",
        "GLB_CERRH/6-116 {'start': 6, 'end': 116, 'accession': 'P02215.1'} SKSALASSWKT-LAKD---AATIQNNGATLFSLLFKQFPDTRNYFTHF-GNMS-DAEMKTTGVGKAHSMAVFAGIGSMIDSM---DDADCMNGLALKLSRNHIQRK----IGASRFGEMRQVFP\n",
        "MYG_CYPCA/3-108 {'start': 3, 'end': 108, 'accession': 'P02204.2'} DAELVLKCWGG-VEA------DFEGTGGEVLTRLFKQHPETQKLFPKF-VG-IASNELAGNAAVKAHGATVLKKLGELLKA------RGDHAAILKPLATTHANTH---KIALNNFRLITEVLV\n",
        "MYG_ALLMI/7-113 {'start': 7, 'end': 113, 'accession': 'P02200.1'} EWKHVLDIWTK-VES------KLPEHGHEVIIRLLQEHPETQERFEKF-KHMKTADEMKSSEKMKQHGNTVFTALGNILKQ------KGNHAEVLKPLAKSHALEH---KIPVKYLEFISEIIV\n",
        "MYG_GALGA/3-108 {'start': 3, 'end': 108, 'accession': 'P14397.2'} DWDKVNSVWSA-MEA------NITAVGQNILLRLFEQYPESQSYFPKL-KN-KSLGELKDTADIKAQADTVLKALGNIVKK------KGNHSQPVKALAATHITTH---KIPPHYFTKITTIAV\n",
        "MYG_HETPO/3-108 {'start': 3, 'end': 108, 'accession': 'P02206.2'} EWEHVNKVWAV-VEP------DIPAVGLAILLRLFKEHKETKDLFPKF-KE-IPVQQLGNNEDLRKHGVTVLRALGNILKQ------KGKHSTNVKELADTHINKH---KIPPKNFVLITNIAV\n",
        "HBAM_LITCT/6-102 {'start': 6, 'end': 102, 'accession': 'P02022.1'} EKSAVASLWEK-IAP------QTNKLGAESMERLFKNHPETKSFFSRF--DIS-----PGSQDLLTHGGKIFGALGEAIKSL----------DNLQKYQDLHTNKL---KLSSDHMKLLSAAII\n",
        "HBB_HETPO/7-106 {'start': 7, 'end': 106, 'accession': 'P02143.1'} ELHEITTTWKS-I--------DKHSLGAKALARMFIVYPWTTRYFGNL-KEFT-----ACSYGVKEHAKKVTGALGVAVTHL-----G-DVKSQFTDLSKKHAEEL---HVDVESFKLLAKCFV\n",
        "HBB_SQUAC/7-107 {'start': 7, 'end': 107, 'accession': 'P07409.1'} EKALVNAVWTK-T--------DHQAVVAKALERLFVVYPWTKTYFVKFNGKFH-----ASDSTVQTHAGKVVSALTVAYNHI-----D-DVKPHFVELSKKHYEEL---HVDPENFKLLANCLE\n",
        "HBB2_XENLA/8-112 {'start': 8, 'end': 112, 'accession': 'P02133.2'} EKAAITSVWQK-V--------NVEHDGHDALGRLLIVYPWTQRYFSNF-GNLSNSAAVAGNAKVQAHGKKVLSAVGNAISHI-----D-SVKSSLQQLSKIHATEL---FVDPENFKRFGGVLV\n",
        "HBB0_MOUSE/8-112 {'start': 8, 'end': 112, 'accession': 'P04443.5'} EKAAITSIWDK-V--------DLEKVGGETLGRLLIVYPWTQRFFDKF-GNLSSAQAIMGNPRIKAHGKKVLTSLGLAVKNM-----D-NLKETFAHLSELHCDKL---HADPENFKLLGNMLV\n",
        "HBBN_AMMLE/2-106 {'start': 2, 'end': 106, 'accession': 'P02080.1'} BKALITGFWSK-V--------KVBZVGAZALGRLLVVYPWTZRFFZHF-GBLSSABAVMBBAKVKAHGKKVLBSFSBGLKHL-----B-BLKGAFASLSZLHCBKL---HVBPZBFRLLGBVLV\n",
        "HBB_ALLMI/7-111 {'start': 7, 'end': 111, 'accession': 'P02130.1'} ERKFIVDLWAK-V--------DVAQCGADALSRMLIVYPWKRRYFEHF-GKMCNAHDILHNSKVQEHGKKVLASFGEAVKHL-----D-NIKGHFANLSKLHCEKF---HVDPENFKLLGDIII\n",
        "HBB_LEPPA/7-111 {'start': 7, 'end': 111, 'accession': 'P02138.1'} EKQYIVSVFSK-I--------DVDHVGANTLERVLIVFPWTKRYFNSF-GDLSSPGAIKHNNKVSAHGRKVLAAIIECTRHF-----G-NIKGHLANLSHLHSEKL---HVDPHNFRVLGQCLR\n",
        "HBB1_XENBO/7-111 {'start': 7, 'end': 111, 'accession': 'P07432.2'} DRQLINSTWGK-V--------CAKTIGKEALGRLLWTYPWTQRYFSSF-GNLNSADAVFHNEAVAAHGEKVVTSIGEAIKHM-----D-DIKGYYAQLSKYHSETL---HVDPCNFKRFGGCLS\n",
        "HBB_LITCT/1-105 {'start': 1, 'end': 105, 'accession': 'P02135.1'} GGSDVSAFLAK-V--------DKRAVGGEALARLLIVYPWTQRYFSTF-GNLGSADAISHNSKVLAHGQRVLDSIEEGLKHP-----Z-BLKAYYAKLSERHSGEL---HVDPANFYRLGNVLI\n",
        "HBB1_CYGMA/8-112 {'start': 8, 'end': 112, 'accession': 'P23017.2'} ELTIINDIFSH-L--------DYDDIGPKALSRCLIVYPWTQRHFSGF-GNLYNAEAIIGNANVAAHGIKVLHGLDRGLKNM-----D-NIVDAYAELSTLHSEKL---HVDPDNFKLLSDCIT\n",
        "HBA_CATCL/6-107 {'start': 6, 'end': 107, 'accession': 'P02017.1'} DKADVKIAWAK-ISP------RADEIGAEALGRMLTVYPQTKTYFAHW-ADLS-----PGSGPVKHGKKVIMGAIGDAVTKF-----D-DLLGGLASLSELHASKL---RVDPSNFKILANCIT\n",
        "HBAT_HORSE/7-107 {'start': 7, 'end': 107, 'accession': 'P06714.2'} DRATVRALWKK-MGS------NVGVYATEALERMFLGFPSTTTYFLHL--DLS-----LGSTQVKAHGQKVADALTLAVEHL-----E-DLPRALSALRHRHVREL---RVDPASFQLLGHCLL\n",
        "HBA1_BOSMU/6-106 {'start': 6, 'end': 106, 'accession': 'P01967.1'} DKGNVKAAWGK-VGG------HAAEYGAEALERMFLSFPTTKTYFPHF--DLS-----QGSAQVKGHGAKVAAALTKAVEHL-----D-DLPGALSELSDLHAHKL---RVDPVNFKLLSHSLL\n",
        "HBA1_IGUIG/6-106 {'start': 6, 'end': 106, 'accession': 'P18974.1'} DKNHIRAIWGH-VDN------NPEAFGVEALTRLFLAYPATKTYFAHF--DLN-----PGSAQIKAHGKKVVDALTQAVNNL-----D-DIPDALAKLADLHAEKL---RVDPVNFGLLGHCIL\n",
        "HBA1_PLEWA/7-107 {'start': 7, 'end': 107, 'accession': 'P06639.4'} DKHNVKAIWDH-VKG------HEEAIGAEALYRMFCCMPTTRIYFP-A-KDLS-----ERSSYLHSHGKKVVGALTNAVAHI-----D-DIDTAFSKLSDKHAEEL---MVDPANFPKLAHNIL\n",
        "HBA1_XENBO/7-107 {'start': 7, 'end': 107, 'accession': 'P07430.2'} DKKHIKAIMPS-IAA------HGDKFGGEALYRMFLVNPKTKTYFPTF--DFH-----HNSKQISAHGKKVVDALNEASNHL-----D-NIAGSLSKLSDLHAYDL---RVDPGNFPLLAHNIL\n",
        "HBAZ_CAPHI/7-107 {'start': 7, 'end': 107, 'accession': 'P13786.2'} ERTIILSLWSK-IST------QADVIGTETLERLFSCYPQAKTYFPHF--DLH-----SGSAQLRAHGSKVVAAVGDAVKSI-----D-NVTSALSKLSELHAYVL---RVDPVNFKFLSHCLL\n",
        "HBA3_PLEWA/7-107 {'start': 7, 'end': 107, 'accession': 'P11896.1'} EKALVVGLCGK-ISG------HCDALGGEALDRLFASFGQTRTYFSHF--DLS-----PGSADVKRHGGKVLSAIGEAAKHI-----D-SMDQALSKLSDLHAYNL---RVDPGNFQLLSHCIQ\n",
        "HBAD_LIOMI/6-106 {'start': 6, 'end': 106, 'accession': 'P16417.1'} DRRLLQASVGK-LGC------RLEDIGADALNRLLITFPQSKTYFSHF--NLS-----PGSKDIIHQGEKVGKALDSALKHL-----D-DIRGTLSQLSDLHAYNL---RVDPVNFQLLSKCIH\n",
        "HBAD_PASMO/6-106 {'start': 6, 'end': 106, 'accession': 'P07413.1'} DKKLIQQIWGK-LGG------AEEEIGADALWRMFHSYPSTKTYFPHF--DLS-----QGSDQIRGHGKKVVAALSNAIKNL-----D-NLSQALSELSNLHAYNL---RVDPVNFKFLSQCLQ\n",
        "HBA_LEPPA/7-108 {'start': 7, 'end': 108, 'accession': 'P02020.1'} DEVLIKEAWGL-L-H------QIPNAGGEALARMFSCYPGTKSYFPHFGHDFS-----ANNEKVKHHGKKVVDAIGQGVQHL-----H-DLSSCLHTLSEKHAREL---MVDPCNFQYLIEAIM\n",
        "HBA_HETPO/13-114 {'start': 13, 'end': 114, 'accession': 'P02021.1'} DRAELAALSKV-LAQ------NAEAFGAEALARMFTVYAATKSYFKDY-KDFT-----AAAPSIKAHGAKVVTALAKACDHL-----D-DLKTHLHKLATFHGSEL---KVDPANFQYLSYCLE\n",
        "HBA_SQUAC/6-107 {'start': 6, 'end': 107, 'accession': 'P07408.1'} DKTAIKHLTGS-LRT------NAEAWGAESLARMFATTPSTKTYFSKF-TDFS-----ANGKRVKAHGGKVLNAVADATDHL-----D-NVAGHLDPLAVLHGTTL---CVDPHNFPLLTQCIL\n",
        "HBA1_TORMA/6-107 {'start': 6, 'end': 107, 'accession': 'P20244.1'} NKKAIKNLLQK-IHS------QTEVLGAEALARLFECHPQTKSYFPKF-SGFS-----ANDKRVKHHGALVLKALVDTNKHL-----D-DLPHHLNKLAEKHGKGL---LVDPHNFKLFSDCIA"
       ]
      }
     ],
     "prompt_number": 4
    }
   ],
   "metadata": {}
  }
 ]
}