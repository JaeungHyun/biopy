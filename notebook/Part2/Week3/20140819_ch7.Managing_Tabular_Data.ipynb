{
 "metadata": {
  "name": "20140819 ch7. managing tabular data_2.ipynb",
  "signature": "sha256:d843a98ea9683806419c79682b289b3b37739a7fb694beb891a1af15a16b18e8"
 },
 "nbformat": 3,
 "nbformat_minor": 0,
 "worksheets": [
  {
   "cells": [
    {
     "cell_type": "markdown",
     "metadata": {},
     "source": [
      "# Chapter 7. Managing Tabular Data\n",
      "### in this capter\n",
      "STORY : How can the table with the original data(Table 7.1) be converted to the simpler one(Table 7.2)?\n",
      "\n",
      "<img src=\"D:/PythonStudy/201408 EHH/table 7.1.png\", width=500 height=100/>\n",
      "<img src=\"D:/PythonStudy/201408 EHH/table 7.2.png\", width=400 height=80/>"
     ]
    },
    {
     "cell_type": "markdown",
     "metadata": {},
     "source": [
      "#### 'Nested list' means a list of lists"
     ]
    },
    {
     "cell_type": "code",
     "collapsed": false,
     "input": [
      "table = [\n",
      "         ['protein', 'ext1', 'ext2', 'ext3'],\n",
      "         [0.16, 0.038, 0.044, 0.040],\n",
      "         [0.33, 0.089, 0.095, 0.091],\n",
      "         [0.66, 0.184, 0.191, 0.191],\n",
      "         [1.00, 0.280, 0.292, 0.283],\n",
      "         [1.32, 0.365, 0.367, 0.365],\n",
      "         [1.66, 0.441, 0.443, 0.444],\n",
      "         ]"
     ],
     "language": "python",
     "metadata": {},
     "outputs": [],
     "prompt_number": 1
    },
    {
     "cell_type": "code",
     "collapsed": false,
     "input": [
      "# Accessing Rows and Single Cells by an index\n",
      "second_row = table[1]\n",
      "second_row_third_column = table[1][2]\n",
      "table[1][2]"
     ],
     "language": "python",
     "metadata": {},
     "outputs": [
      {
       "metadata": {},
       "output_type": "pyout",
       "prompt_number": 2,
       "text": [
        "0.044"
       ]
      }
     ],
     "prompt_number": 2
    },
    {
     "cell_type": "code",
     "collapsed": false,
     "input": [
      "table[1][2] = 0.123\n",
      "table[1][2]"
     ],
     "language": "python",
     "metadata": {},
     "outputs": [
      {
       "metadata": {},
       "output_type": "pyout",
       "prompt_number": 3,
       "text": [
        "0.123"
       ]
      }
     ],
     "prompt_number": 3
    },
    {
     "cell_type": "code",
     "collapsed": false,
     "input": [
      "table"
     ],
     "language": "python",
     "metadata": {},
     "outputs": [
      {
       "metadata": {},
       "output_type": "pyout",
       "prompt_number": 4,
       "text": [
        "[['protein', 'ext1', 'ext2', 'ext3'],\n",
        " [0.16, 0.038, 0.123, 0.04],\n",
        " [0.33, 0.089, 0.095, 0.091],\n",
        " [0.66, 0.184, 0.191, 0.191],\n",
        " [1.0, 0.28, 0.292, 0.283],\n",
        " [1.32, 0.365, 0.367, 0.365],\n",
        " [1.66, 0.441, 0.443, 0.444]]"
       ]
      }
     ],
     "prompt_number": 4
    },
    {
     "cell_type": "code",
     "collapsed": false,
     "input": [
      "# remove the first row by slicing\n",
      "R_table = table[1:]\n",
      "# Alternatively, use the pop() method\n",
      "# talbe.pop(0)"
     ],
     "language": "python",
     "metadata": {},
     "outputs": [],
     "prompt_number": 5
    },
    {
     "cell_type": "code",
     "collapsed": false,
     "input": [
      "# insert a new row using 'insert' or 'appnd'\n",
      "# table.insert(2, [0.55, 0.123, 0.122, 0.145])\n",
      "# table.append([0.55, 0.123, 0.122, 0.145])"
     ],
     "language": "python",
     "metadata": {},
     "outputs": [],
     "prompt_number": 6
    },
    {
     "cell_type": "markdown",
     "metadata": {},
     "source": [
      "#### Disadvantage of nested list : accessing columns is less straightforward\n",
      "* The zip() function pairs items from lists like a zipper\n",
      "* '*' symbol unzip table\n",
      "* a very common usase of zip() is to rotate tables"
     ]
    },
    {
     "cell_type": "code",
     "collapsed": false,
     "input": [
      "zip([1,2,3], [4,5,6])"
     ],
     "language": "python",
     "metadata": {},
     "outputs": [
      {
       "metadata": {},
       "output_type": "pyout",
       "prompt_number": 7,
       "text": [
        "[(1, 4), (2, 5), (3, 6)]"
       ]
      }
     ],
     "prompt_number": 7
    },
    {
     "cell_type": "code",
     "collapsed": false,
     "input": [
      "zip([1,2,3], [4,5,6], [7,8,9])"
     ],
     "language": "python",
     "metadata": {},
     "outputs": [
      {
       "metadata": {},
       "output_type": "pyout",
       "prompt_number": 8,
       "text": [
        "[(1, 4, 7), (2, 5, 8), (3, 6, 9)]"
       ]
      }
     ],
     "prompt_number": 8
    },
    {
     "cell_type": "code",
     "collapsed": false,
     "input": [
      "# unzip trial 1\n",
      "zip(table[0], table[1], table[2], table[3], table[4], table[5])"
     ],
     "language": "python",
     "metadata": {},
     "outputs": [
      {
       "metadata": {},
       "output_type": "pyout",
       "prompt_number": 9,
       "text": [
        "[('protein', 0.16, 0.33, 0.66, 1.0, 1.32),\n",
        " ('ext1', 0.038, 0.089, 0.184, 0.28, 0.365),\n",
        " ('ext2', 0.123, 0.095, 0.191, 0.292, 0.367),\n",
        " ('ext3', 0.04, 0.091, 0.191, 0.283, 0.365)]"
       ]
      }
     ],
     "prompt_number": 9
    },
    {
     "cell_type": "code",
     "collapsed": false,
     "input": [
      "# unzip trial 2\n",
      "zip(*table)"
     ],
     "language": "python",
     "metadata": {},
     "outputs": [
      {
       "metadata": {},
       "output_type": "pyout",
       "prompt_number": 10,
       "text": [
        "[('protein', 0.16, 0.33, 0.66, 1.0, 1.32, 1.66),\n",
        " ('ext1', 0.038, 0.089, 0.184, 0.28, 0.365, 0.441),\n",
        " ('ext2', 0.123, 0.095, 0.191, 0.292, 0.367, 0.443),\n",
        " ('ext3', 0.04, 0.091, 0.191, 0.283, 0.365, 0.444)]"
       ]
      }
     ],
     "prompt_number": 10
    },
    {
     "cell_type": "code",
     "collapsed": false,
     "input": [
      "table = zip(*table)\n",
      "table.append(['ext4', 0, 0, 0, 0, 0, 0])\n",
      "table = zip(*table)\n",
      "table"
     ],
     "language": "python",
     "metadata": {},
     "outputs": [
      {
       "metadata": {},
       "output_type": "pyout",
       "prompt_number": 11,
       "text": [
        "[('protein', 'ext1', 'ext2', 'ext3', 'ext4'),\n",
        " (0.16, 0.038, 0.123, 0.04, 0),\n",
        " (0.33, 0.089, 0.095, 0.091, 0),\n",
        " (0.66, 0.184, 0.191, 0.191, 0),\n",
        " (1.0, 0.28, 0.292, 0.283, 0),\n",
        " (1.32, 0.365, 0.367, 0.365, 0),\n",
        " (1.66, 0.441, 0.443, 0.444, 0)]"
       ]
      }
     ],
     "prompt_number": 11
    },
    {
     "cell_type": "code",
     "collapsed": false,
     "input": [
      "table = zip(*table)\n",
      "table.pop(4)\n",
      "table = zip(*table)\n",
      "table"
     ],
     "language": "python",
     "metadata": {},
     "outputs": [
      {
       "metadata": {},
       "output_type": "pyout",
       "prompt_number": 12,
       "text": [
        "[('protein', 'ext1', 'ext2', 'ext3'),\n",
        " (0.16, 0.038, 0.123, 0.04),\n",
        " (0.33, 0.089, 0.095, 0.091),\n",
        " (0.66, 0.184, 0.191, 0.191),\n",
        " (1.0, 0.28, 0.292, 0.283),\n",
        " (1.32, 0.365, 0.367, 0.365),\n",
        " (1.66, 0.441, 0.443, 0.444)]"
       ]
      }
     ],
     "prompt_number": 12
    },
    {
     "cell_type": "markdown",
     "metadata": {},
     "source": [
      "<img src=\"D:/PythonStudy/201408 EHH/figure 7.2_1.png\">\n",
      "<img src=\"D:/PythonStudy/201408 EHH/figure 7.2_2.png\">"
     ]
    },
    {
     "cell_type": "markdown",
     "metadata": {},
     "source": [
      "#### Edit table\n",
      "* unzip table\n",
      "* the extincion columns are copied into a single tuple\n",
      "* the protein column is extended\n",
      "* both columns are combined"
     ]
    },
    {
     "cell_type": "code",
     "collapsed": false,
     "input": [
      "# unzip list by zip(*)\n",
      "protein, ext1, ext2, ext3 = zip(*R_table)"
     ],
     "language": "python",
     "metadata": {},
     "outputs": [],
     "prompt_number": 13
    },
    {
     "cell_type": "code",
     "collapsed": false,
     "input": [
      "# extinction columns are copied into a single tuple\n",
      "extinction = ext1 + ext2 + ext3"
     ],
     "language": "python",
     "metadata": {},
     "outputs": [],
     "prompt_number": 14
    },
    {
     "cell_type": "code",
     "collapsed": false,
     "input": [
      "# protein column is extended (repeat three times)\n",
      "protein = protein * 3"
     ],
     "language": "python",
     "metadata": {},
     "outputs": [],
     "prompt_number": 15
    },
    {
     "cell_type": "code",
     "collapsed": false,
     "input": [
      "# merge two columns --> new 2D table\n",
      "final_table = zip(protein, extinction)"
     ],
     "language": "python",
     "metadata": {},
     "outputs": [],
     "prompt_number": 16
    },
    {
     "cell_type": "code",
     "collapsed": false,
     "input": [
      "final_table"
     ],
     "language": "python",
     "metadata": {},
     "outputs": [
      {
       "metadata": {},
       "output_type": "pyout",
       "prompt_number": 17,
       "text": [
        "[(0.16, 0.038),\n",
        " (0.33, 0.089),\n",
        " (0.66, 0.184),\n",
        " (1.0, 0.28),\n",
        " (1.32, 0.365),\n",
        " (1.66, 0.441),\n",
        " (0.16, 0.123),\n",
        " (0.33, 0.095),\n",
        " (0.66, 0.191),\n",
        " (1.0, 0.292),\n",
        " (1.32, 0.367),\n",
        " (1.66, 0.443),\n",
        " (0.16, 0.04),\n",
        " (0.33, 0.091),\n",
        " (0.66, 0.191),\n",
        " (1.0, 0.283),\n",
        " (1.32, 0.365),\n",
        " (1.66, 0.444)]"
       ]
      }
     ],
     "prompt_number": 17
    },
    {
     "cell_type": "code",
     "collapsed": false,
     "input": [
      "final_table.insert(0, ['Protein', 'Extinction'])"
     ],
     "language": "python",
     "metadata": {},
     "outputs": [],
     "prompt_number": 18
    },
    {
     "cell_type": "code",
     "collapsed": false,
     "input": [
      "for prot, extinction in final_table :\n",
      "    print prot, extinction"
     ],
     "language": "python",
     "metadata": {},
     "outputs": [
      {
       "output_type": "stream",
       "stream": "stdout",
       "text": [
        "Protein Extinction\n",
        "0.16 0.038\n",
        "0.33 0.089\n",
        "0.66 0.184\n",
        "1.0 0.28\n",
        "1.32 0.365\n",
        "1.66 0.441\n",
        "0.16 0.123\n",
        "0.33 0.095\n",
        "0.66 0.191\n",
        "1.0 0.292\n",
        "1.32 0.367\n",
        "1.66 0.443\n",
        "0.16 0.04\n",
        "0.33 0.091\n",
        "0.66 0.191\n",
        "1.0 0.283\n",
        "1.32 0.365\n",
        "1.66 0.444\n"
       ]
      }
     ],
     "prompt_number": 19
    },
    {
     "cell_type": "code",
     "collapsed": false,
     "input": [],
     "language": "python",
     "metadata": {},
     "outputs": []
    }
   ],
   "metadata": {}
  }
 ]
}