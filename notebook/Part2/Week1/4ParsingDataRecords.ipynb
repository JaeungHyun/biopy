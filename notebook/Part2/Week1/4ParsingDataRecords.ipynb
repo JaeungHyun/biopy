{
 "metadata": {
  "name": "",
  "signature": "sha256:d483f0855635253e82634cf6b24984ae857b78144ea6f5a5772c21d5e192162a"
 },
 "nbformat": 3,
 "nbformat_minor": 0,
 "worksheets": [
  {
   "cells": [
    {
     "cell_type": "heading",
     "level": 1,
     "metadata": {},
     "source": [
      "Parsing Data Records"
     ]
    },
    {
     "cell_type": "markdown",
     "metadata": {},
     "source": [
      "\ub450\uac1c\uc774\uc0c1\uc758 \ud30c\uc77c\uc5d0\uc11c \ub370\uc774\ud130\ub97c \ube44\uad50\ud558\uace0 \ubd84\uc11d.\n"
     ]
    },
    {
     "cell_type": "markdown",
     "metadata": {},
     "source": [
      "\uc9c8\ub7c9\ubd84\uc11d\uc5d0 \uc758\ud574 \uc554\uc138\ud3ec\ub4f1 \ud2b9\uc815\uc138\ud3ec\uc5d0\uc11c \ubc1c\uacac\ub418\ub294 \ub2e8\ubc31\uc9c8(list_b)\uacfc \ud2b9\uc815\ud55c \ub300\uc0ac\uacbd\ub85c\ub098 \uc870\uc815\uacbd\ub85c(ex.cell cycle)\uc5d0 \uc18d\ud558\ub294 \ub2e8\ubc31\uc9c8(list_a)\uc744 \ube44\uad50\ud558\uace0 \n",
      "\uacf5\ud1b5\uc801\uc73c\ub85c \ub098\ud0c0\ub098\ub294 \ub2e8\ubc31\uc9c8\uc744 \ucc3e\uc544\ub0c4"
     ]
    },
    {
     "cell_type": "markdown",
     "metadata": {},
     "source": [
      "\ucc38\uace0  http://www.uniprot.org/      (UniProt)\n",
      "      http://www.ncbi.nlm.nih.gov/  (NCBI)"
     ]
    },
    {
     "cell_type": "code",
     "collapsed": false,
     "input": [
      "# proteins  participating in cell cycle\n",
      "list_a = []\n",
      "for line in open(\"cell_cycle_proteins.txt\"):\n",
      "    list_a.append(line.strip())\n",
      "print list_a\n",
      "\n",
      "#protein expressed in a given cancer cell\n",
      "list_b =[]\n",
      "for line in open(\"cancer_cell_proteins.txt\"):\n",
      "    list_b.append(line.strip())\n",
      "print list_b\n",
      "\n",
      "for protein in list_a:\n",
      "    if protein in list_b:\n",
      "        print protein,    '    detected in the cancer cell'\n",
      "    else:\n",
      "        print protein,     '%30s' %('not observed')\n",
      "        "
     ],
     "language": "python",
     "metadata": {},
     "outputs": [
      {
       "output_type": "stream",
       "stream": "stdout",
       "text": [
        "['A', 'B', 'C', 'D', 'E', 'F', 'G', 'H', 'I', 'J', 'Q', 'R']\n",
        "['H', 'I', 'J', 'K', 'L', 'M', 'N', 'O', 'P', 'Q', 'R', 'S']\n",
        "A                   not observed\n",
        "B                   not observed\n",
        "C                   not observed\n",
        "D                   not observed\n",
        "E                   not observed\n",
        "F                   not observed\n",
        "G                   not observed\n",
        "H     detected in the cancer cell\n",
        "I     detected in the cancer cell\n",
        "J     detected in the cancer cell\n",
        "Q     detected in the cancer cell\n",
        "R     detected in the cancer cell\n"
       ]
      }
     ],
     "prompt_number": 14
    },
    {
     "cell_type": "markdown",
     "metadata": {},
     "source": [
      "P\ub85c \uc2dc\uc791\ud558\ub294 Access Codes\ub97c \uc54c\ud30c\ubcb3\uc73c\ub85c \ub300\uccb4\ud588\uc74c."
     ]
    },
    {
     "cell_type": "raw",
     "metadata": {},
     "source": [
      "if <condition1>:\n",
      "    <statement 1>\n",
      "[elif <condition 2>:\n",
      "    <statement 2>]\n",
      "[elif <condition 3>:\n",
      "    <statement 3>]\n",
      "...\n",
      "[else:\n",
      "     <statement N>]\n",
      "         \n",
      "         \n",
      "\uac19\uc740 \ube14\ub85d\ub0b4\uc5b4\uc11c\ub294 \uac19\uc740 \ub2e8\uacc4\uc774\ubbc0\ub85c \uc21c\uc11c\ub300\ub85c \uc2e4\ud589\ub428.\n"
     ]
    },
    {
     "cell_type": "code",
     "collapsed": false,
     "input": [],
     "language": "python",
     "metadata": {},
     "outputs": [],
     "prompt_number": 9
    },
    {
     "cell_type": "code",
     "collapsed": false,
     "input": [
      "seq= \"MGSNKSKPKDASQRRRSLEPAENVHGAGGGA\\\n",
      "FPASQTPSKPASADGHRGPSAAFAPAAAE\"\n",
      "\n",
      "if 'GGG' in seq and 'RRR' in seq:\n",
      "    print 'GGG is at position: ', seq.find('GGG')\n",
      "    print 'RRR is at position: ', seq.find('RRR') "
     ],
     "language": "python",
     "metadata": {},
     "outputs": [
      {
       "output_type": "stream",
       "stream": "stdout",
       "text": [
        "GGG is at position:  27\n",
        "RRR is at position:  13\n"
       ]
      }
     ],
     "prompt_number": 16
    },
    {
     "cell_type": "code",
     "collapsed": false,
     "input": [
      "if 'WWW' in seq or 'AAA' in seq:\n",
      "    print 'Either WWW or AAA occur in the sequence'\n",
      "if 'AAA' in seq and not 'PPP' in seq:\n",
      "    print 'AAA occur in the sequencw but not PPP'"
     ],
     "language": "python",
     "metadata": {},
     "outputs": [
      {
       "output_type": "stream",
       "stream": "stdout",
       "text": [
        "Either WWW or AAA occur in the sequence\n",
        "AAA occur in the sequencw but not PPP\n"
       ]
      }
     ],
     "prompt_number": 21
    },
    {
     "cell_type": "markdown",
     "metadata": {},
     "source": [
      "if \uad6c\ubb38\uc740 boolean(True,False)\uac12\uc744 \ubc18\ud658"
     ]
    },
    {
     "cell_type": "code",
     "collapsed": false,
     "input": [
      "if 1:                                     # nonempty object ane 1 -----> True\n",
      "    print 'This is True!'"
     ],
     "language": "python",
     "metadata": {},
     "outputs": [
      {
       "output_type": "stream",
       "stream": "stdout",
       "text": [
        "This is True!\n"
       ]
      }
     ],
     "prompt_number": 22
    },
    {
     "cell_type": "code",
     "collapsed": false,
     "input": [
      "if '':                                     # empty object and 0 ---->False\n",
      "    print 'nothing will be printed'"
     ],
     "language": "python",
     "metadata": {},
     "outputs": [],
     "prompt_number": 23
    },
    {
     "cell_type": "code",
     "collapsed": false,
     "input": [],
     "language": "python",
     "metadata": {},
     "outputs": [],
     "prompt_number": 23
    },
    {
     "cell_type": "heading",
     "level": 3,
     "metadata": {},
     "source": [
      "List"
     ]
    },
    {
     "cell_type": "code",
     "collapsed": false,
     "input": [
      "#\uac1d\uccb4\ub4e4\uc758 \uc9d1\ud569\uc73c\ub85c \ub0b4\uc6a9\uc774 \ubc14\ub014\uc218 \uc788\uc73c\uba70 \uc21c\uc11c\ub97c \uac00\uc9c0\uace0 \uc788\uc74c.\n",
      "#\uc5b4\ub5a4 \uc885\ub958\uc758 \uac1d\uccb4\ub3c4 \uba64\ubc84\uac00 \ub420 \uc218 \uc788\uc74c.\n",
      "\n",
      "\n",
      "d1=[]\n",
      "d2=[1, \"hello\", 12.1, [1, 2, \"three\"], \"seq\", (1,2)]"
     ],
     "language": "python",
     "metadata": {},
     "outputs": [],
     "prompt_number": 2
    },
    {
     "cell_type": "heading",
     "level": 3,
     "metadata": {},
     "source": [
      "Tuples"
     ]
    },
    {
     "cell_type": "raw",
     "metadata": {},
     "source": [
      "\uc21c\uc11c\uac00 \uc788\uace0 \ubcc0\uacbd\ud560 \uc218 \uc5c6\uc74c.\n",
      "\n",
      "data= (1,2,3)  or data= 1,2,3   # \uad04\ud638\ub294 \uc120\ud0dd\uc0ac\ud56d\n",
      "\n",
      "data= (1,)  or data = 1,    # tuple of singe item"
     ]
    },
    {
     "cell_type": "heading",
     "level": 3,
     "metadata": {},
     "source": [
      "List part2"
     ]
    },
    {
     "cell_type": "code",
     "collapsed": false,
     "input": [
      "d2[0]"
     ],
     "language": "python",
     "metadata": {},
     "outputs": [
      {
       "metadata": {},
       "output_type": "pyout",
       "prompt_number": 3,
       "text": [
        "1"
       ]
      }
     ],
     "prompt_number": 3
    },
    {
     "cell_type": "code",
     "collapsed": false,
     "input": [
      "d2[2:]"
     ],
     "language": "python",
     "metadata": {},
     "outputs": [
      {
       "metadata": {},
       "output_type": "pyout",
       "prompt_number": 4,
       "text": [
        "[12.1, [1, 2, 'three'], 'seq', (1, 2)]"
       ]
      }
     ],
     "prompt_number": 4
    },
    {
     "cell_type": "code",
     "collapsed": false,
     "input": [
      "d2[-1]"
     ],
     "language": "python",
     "metadata": {},
     "outputs": [
      {
       "metadata": {},
       "output_type": "pyout",
       "prompt_number": 5,
       "text": [
        "(1, 2)"
       ]
      }
     ],
     "prompt_number": 5
    },
    {
     "cell_type": "code",
     "collapsed": false,
     "input": [
      "d2[3][2]"
     ],
     "language": "python",
     "metadata": {},
     "outputs": [
      {
       "metadata": {},
       "output_type": "pyout",
       "prompt_number": 6,
       "text": [
        "'three'"
       ]
      }
     ],
     "prompt_number": 6
    },
    {
     "cell_type": "code",
     "collapsed": false,
     "input": [
      "d2[3][2][0]"
     ],
     "language": "python",
     "metadata": {},
     "outputs": [
      {
       "metadata": {},
       "output_type": "pyout",
       "prompt_number": 7,
       "text": [
        "'t'"
       ]
      }
     ],
     "prompt_number": 7
    },
    {
     "cell_type": "code",
     "collapsed": false,
     "input": [
      "data=[0,1,2,3,4]\n",
      "data[0]='a'\n",
      "data"
     ],
     "language": "python",
     "metadata": {},
     "outputs": [
      {
       "metadata": {},
       "output_type": "pyout",
       "prompt_number": 8,
       "text": [
        "['a', 1, 2, 3, 4]"
       ]
      }
     ],
     "prompt_number": 8
    },
    {
     "cell_type": "code",
     "collapsed": false,
     "input": [
      "data.append(5)       # the method append() of the list data"
     ],
     "language": "python",
     "metadata": {},
     "outputs": [],
     "prompt_number": 9
    },
    {
     "cell_type": "code",
     "collapsed": false,
     "input": [
      "data"
     ],
     "language": "python",
     "metadata": {},
     "outputs": [
      {
       "metadata": {},
       "output_type": "pyout",
       "prompt_number": 10,
       "text": [
        "['a', 1, 2, 3, 4, 5]"
       ]
      }
     ],
     "prompt_number": 10
    },
    {
     "cell_type": "code",
     "collapsed": false,
     "input": [
      "range(3)         # i\ub294 \ub9cc\ub4e4\uc5b4\uc9c0\ub294 \uc815\uc218\uc758 \uac1c\uc218"
     ],
     "language": "python",
     "metadata": {},
     "outputs": [
      {
       "metadata": {},
       "output_type": "pyout",
       "prompt_number": 1,
       "text": [
        "[0, 1, 2]"
       ]
      }
     ],
     "prompt_number": 1
    },
    {
     "cell_type": "code",
     "collapsed": false,
     "input": [
      "data =[0.0]*10\n",
      "data"
     ],
     "language": "python",
     "metadata": {},
     "outputs": [
      {
       "metadata": {},
       "output_type": "pyout",
       "prompt_number": 3,
       "text": [
        "[0.0, 0.0, 0.0, 0.0, 0.0, 0.0, 0.0, 0.0, 0.0, 0.0]"
       ]
      }
     ],
     "prompt_number": 3
    },
    {
     "cell_type": "code",
     "collapsed": false,
     "input": [
      "data = [x**2 for x in range(5)]\n",
      "data"
     ],
     "language": "python",
     "metadata": {},
     "outputs": [
      {
       "metadata": {},
       "output_type": "pyout",
       "prompt_number": 4,
       "text": [
        "[0, 1, 4, 9, 16]"
       ]
      }
     ],
     "prompt_number": 4
    },
    {
     "cell_type": "code",
     "collapsed": false,
     "input": [
      "bases =['A', 'C', 'T', 'G']\n",
      "seq= 'GGACXCAGXXGATT'\n",
      "seqlist = [base for base in seq if base in bases]\n",
      "print seqlist"
     ],
     "language": "python",
     "metadata": {},
     "outputs": [
      {
       "output_type": "stream",
       "stream": "stdout",
       "text": [
        "['G', 'G', 'A', 'C', 'C', 'A', 'G', 'G', 'A', 'T', 'T']\n"
       ]
      }
     ],
     "prompt_number": 9
    },
    {
     "cell_type": "markdown",
     "metadata": {},
     "source": [
      "fasta\ud30c\uc77c header\uc77d\uae30"
     ]
    },
    {
     "cell_type": "code",
     "collapsed": false,
     "input": [
      "fasta_file = open('SwissProt.fasta','r')\n",
      "out_file = open('SwissProt.header','w')\n",
      "for line in fasta_file:\n",
      "    if line[0:1] == '>':\n",
      "        out_file.write(line)\n",
      "out_file.close()\n"
     ],
     "language": "python",
     "metadata": {},
     "outputs": [],
     "prompt_number": 2
    },
    {
     "cell_type": "markdown",
     "metadata": {},
     "source": [
      "fasta \ud30c\uc77c Access Codes \uc77d\uae30"
     ]
    },
    {
     "cell_type": "code",
     "collapsed": false,
     "input": [
      "input_file = open(\"SwissProt.fasta\", \"r\")\n",
      "ac_list =[]\n",
      "for line in input_file:\n",
      "    if line[0] == '>':\n",
      "        fields = line.split('|')         # list \ubc18\ud658\n",
      "        ac_list.append(fields[1])\n",
      "print ac_list"
     ],
     "language": "python",
     "metadata": {},
     "outputs": [
      {
       "output_type": "stream",
       "stream": "stdout",
       "text": [
        "['P5524211', 'P31946']\n"
       ]
      }
     ],
     "prompt_number": 3
    },
    {
     "cell_type": "markdown",
     "metadata": {},
     "source": [
      "Sequence identifier"
     ]
    },
    {
     "cell_type": "raw",
     "metadata": {},
     "source": [
      " GenBank                           gi|gi-number|gb|accession|locus\n",
      " EMBL Data Library                 gi|gi-number|emb|accession|locus\n",
      " DDBJ, DNA Database of Japan       gi|gi-number|dbj|accession|locus\n",
      " NBRF PIR                          pir||entry\n",
      " Protein Research Foundation       prf||name\n",
      " SWISS-PROT                        sp|accession|name\n",
      " Brookhaven Protein Data Bank (1)  pdb|entry|chain\n",
      " Brookhaven Protein Data Bank (2)  entry:chain|PDBID|CHAIN|SEQUENCE\n",
      " Patents                           pat|country|number\n",
      " GenInfo Backbone Id               bbs|number\n",
      " General database identifier       gnl|database|identifier\n",
      " NCBI Reference Sequence           ref|accession|locus\n",
      " Local Sequence identifier         lcl|identifier"
     ]
    },
    {
     "cell_type": "code",
     "collapsed": false,
     "input": [],
     "language": "python",
     "metadata": {},
     "outputs": []
    },
    {
     "cell_type": "markdown",
     "metadata": {},
     "source": [
      "Parsing GenBank Sequence Records"
     ]
    },
    {
     "cell_type": "raw",
     "metadata": {},
     "source": [
      "GenBank Entry\n",
      "\n",
      "\n",
      "LOCUS       SCU49845     5028 bp    DNA             PLN       21-JUN-1999\n",
      "DEFINITION  Saccharomyces cerevisiae TCP1-beta gene, partial cds, and Axl2p\n",
      "            (AXL2) and Rev7p (REV7) genes, complete cds.\n",
      "ACCESSION   U49845\n",
      "VERSION     U49845.1  GI:1293613\n",
      "KEYWORDS    .\n",
      ".....\n",
      ".....\n",
      "ORIGIN\n",
      "        1 gatcctccat atacaacggt atctccacct caggtttaga tctcaacaac ggaaccattg\n",
      "       61 ccgacatgag acagttaggt atcgtcgaga gttacaagct aaaacgagca gtagtcagct\n",
      "      121 ctgcatctga agccgctgaa gttctactaa gggtggataa catcatccgt gcaagaccaa\n",
      ".....\n",
      "...."
     ]
    },
    {
     "cell_type": "markdown",
     "metadata": {},
     "source": [
      "genbank entry\ub97c \uc77d\uc5b4\uc11c \uc5fc\uae30\uc11c\uc5f4\uc744 FASTA\ud3ec\ub9f7\uc758 \uc0c8 \ud30c\uc77c\ub85c \uc4f0\uae30"
     ]
    },
    {
     "cell_type": "code",
     "collapsed": false,
     "input": [
      "InputFile = open(\"ggg.gbk\")\n",
      "OutputFile = open(\"bbb.fasta\",\"w\")\n",
      "flag=0\n",
      "for line in InputFile:\n",
      "    if line[0:9]== 'ACCESSION':\n",
      "        AC = line.split()[1].strip()\n",
      "        OutputFile.write('>'+AC+'\\n')\n",
      "    elif line[0:6] == 'ORIGIN':\n",
      "        flag=1                               #ORIGIN \ub77c\uc778 \uae4c\uc9c0 \uc624\uba74 flag=1 \uc774\ub428\n",
      "    elif flag==1:\n",
      "        fields = line.split()                #list\ubc18\ud658\n",
      "        if fields != []:\n",
      "            seq = ''.join(fields[1:])         #\uc22b\uc790\uc81c\uc678\ud558\uace0 \uacf5\ubc31\uc5c6\uc774 \uc5f0\uacb0\ud568\n",
      "            OutputFile.write(seq.upper()+ '\\n')\n",
      "InputFile.close()\n",
      "OutputFile.close()"
     ],
     "language": "python",
     "metadata": {},
     "outputs": [],
     "prompt_number": 1
    },
    {
     "cell_type": "markdown",
     "metadata": {},
     "source": [
      "Fasta\ub97c \uc77d\uc5b4\uc11c Homo sapiens\uc758 \uae30\ub85d\ub9cc \ucc3e\uc544\uc11c \uc0c8 \ud30c\uc77c\ub85c \uc4f0\uae30"
     ]
    },
    {
     "cell_type": "code",
     "collapsed": false,
     "input": [
      "fasta_file =open('SwissProt.fasta','r')\n",
      "out_file = open('Human.fasta','w')\n",
      "seq=''\n",
      "for line in fasta_file:\n",
      "    if line[0] =='>' and seq == '':\n",
      "        header = line                      #string\n",
      "    elif line [0] != '>':\n",
      "            seq= seq +line\n",
      "    elif line[0] =='>' and seq!='':\n",
      "            if \"Homo sapiens\" in header:\n",
      "                out_file.write(header+seq)\n",
      "            seq=''\n",
      "            header = line\n",
      "if \"Homo sapiens\" in header:\n",
      "    out_file.write(header+seq)\n",
      "out_file.close()\n",
      "                    \n",
      "            "
     ],
     "language": "python",
     "metadata": {},
     "outputs": [],
     "prompt_number": 7
    },
    {
     "cell_type": "code",
     "collapsed": false,
     "input": [],
     "language": "python",
     "metadata": {},
     "outputs": []
    }
   ],
   "metadata": {}
  }
 ]
}