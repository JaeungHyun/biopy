{
 "metadata": {
  "name": "",
  "signature": "sha256:e3ddad7bcb459219731a395e87ca000974086162949f1c77a6c161ad7e340cc4"
 },
 "nbformat": 3,
 "nbformat_minor": 0,
 "worksheets": [
  {
   "cells": [
    {
     "cell_type": "heading",
     "level": 1,
     "metadata": {},
     "source": [
      "1. The Python Shell\n",
      "\n",
      "\n"
     ]
    },
    {
     "cell_type": "markdown",
     "metadata": {},
     "source": [
      "1.\ud30c\uc774\uc36c \uc124\uce58\n",
      "\n",
      "\ub9ac\ub205\uc2a4\uc5d4 \uae30\ubcf8\uc801\uc73c\ub85c \uc124\uce58\n",
      "\n",
      "windows   https://www.python.org/downloads/\n",
      "\n",
      "\n",
      "\n",
      "\n",
      "\n",
      "\n",
      "2.ipython \uc124\uce58\uc2dc\n",
      "\n",
      "http://ipython.org/install.html   \n",
      "\n",
      "anaconda \uc124\uce58\ub97c \uad8c\uc7a5\n",
      "\n",
      "\n",
      "\n",
      "\n",
      "\n"
     ]
    },
    {
     "cell_type": "markdown",
     "metadata": {},
     "source": [
      "\n",
      "\n",
      "\n",
      "\n"
     ]
    },
    {
     "cell_type": "markdown",
     "metadata": {},
     "source": [
      "\n",
      "\n",
      "\n",
      "\n",
      "\n",
      "\n"
     ]
    },
    {
     "cell_type": "markdown",
     "metadata": {},
     "source": [
      "\n",
      "\n",
      "\n",
      "ATP \uac00\uc218\ubd84\ud574\uc2dc dG \uacc4\uc0b0\n",
      "\n",
      "ATP --> ADP + P(i)\n",
      "\n",
      "dG = dG0 +RT*ln( [ADP] * [P(i)] / [ATP] )\n",
      "\n"
     ]
    },
    {
     "cell_type": "code",
     "collapsed": false,
     "input": [
      "ATP = 3.5\n",
      "ADP = 1.8\n",
      "P(i) = 5.0\n",
      "R = 0.00831\n",
      "T = 298\n",
      "deltaG0 = -30.5\n",
      "\n",
      "import math\n",
      "deltaG0 + R *T * math.log(ADP * P(i) / ATP)"
     ],
     "language": "python",
     "metadata": {},
     "outputs": [
      {
       "metadata": {},
       "output_type": "pyout",
       "prompt_number": 16,
       "text": [
        "-28.161154161098693"
       ]
      }
     ],
     "prompt_number": 16
    },
    {
     "cell_type": "markdown",
     "metadata": {},
     "source": []
    },
    {
     "cell_type": "heading",
     "level": 3,
     "metadata": {},
     "source": [
      "import \uc640 \ubaa8\ub4c8"
     ]
    },
    {
     "cell_type": "code",
     "collapsed": false,
     "input": [
      "import math\n",
      "dir(math)"
     ],
     "language": "python",
     "metadata": {},
     "outputs": [
      {
       "metadata": {},
       "output_type": "pyout",
       "prompt_number": 2,
       "text": [
        "['__doc__',\n",
        " '__name__',\n",
        " '__package__',\n",
        " 'acos',\n",
        " 'acosh',\n",
        " 'asin',\n",
        " 'asinh',\n",
        " 'atan',\n",
        " 'atan2',\n",
        " 'atanh',\n",
        " 'ceil',\n",
        " 'copysign',\n",
        " 'cos',\n",
        " 'cosh',\n",
        " 'degrees',\n",
        " 'e',\n",
        " 'erf',\n",
        " 'erfc',\n",
        " 'exp',\n",
        " 'expm1',\n",
        " 'fabs',\n",
        " 'factorial',\n",
        " 'floor',\n",
        " 'fmod',\n",
        " 'frexp',\n",
        " 'fsum',\n",
        " 'gamma',\n",
        " 'hypot',\n",
        " 'isinf',\n",
        " 'isnan',\n",
        " 'ldexp',\n",
        " 'lgamma',\n",
        " 'log',\n",
        " 'log10',\n",
        " 'log1p',\n",
        " 'modf',\n",
        " 'pi',\n",
        " 'pow',\n",
        " 'radians',\n",
        " 'sin',\n",
        " 'sinh',\n",
        " 'sqrt',\n",
        " 'tan',\n",
        " 'tanh',\n",
        " 'trunc']"
       ]
      }
     ],
     "prompt_number": 2
    },
    {
     "cell_type": "code",
     "collapsed": false,
     "input": [
      "help(math.log)"
     ],
     "language": "python",
     "metadata": {},
     "outputs": [
      {
       "output_type": "stream",
       "stream": "stdout",
       "text": [
        "Help on built-in function log in module math:\n",
        "\n",
        "log(...)\n",
        "    log(x[, base])\n",
        "    \n",
        "    Return the logarithm of x to the given base.\n",
        "    If the base not specified, returns the natural logarithm (base e) of x.\n",
        "\n"
       ]
      }
     ],
     "prompt_number": 1
    },
    {
     "cell_type": "code",
     "collapsed": false,
     "input": [
      "math.log"
     ],
     "language": "python",
     "metadata": {},
     "outputs": [
      {
       "metadata": {},
       "output_type": "pyout",
       "prompt_number": 2,
       "text": [
        "<function math.log>"
       ]
      }
     ],
     "prompt_number": 2
    },
    {
     "cell_type": "code",
     "collapsed": false,
     "input": [
      "from math import log"
     ],
     "language": "python",
     "metadata": {},
     "outputs": [],
     "prompt_number": 3
    },
    {
     "cell_type": "markdown",
     "metadata": {},
     "source": [
      "math. \uc5c6\uc774 log\ub97c \ubc14\ub85c\uc0ac\uc6a9. namespace \ucc38\uc870"
     ]
    },
    {
     "cell_type": "heading",
     "level": 3,
     "metadata": {},
     "source": [
      "\uacc4\uc0b0,\ubcc0\uc218"
     ]
    },
    {
     "cell_type": "code",
     "collapsed": false,
     "input": [
      "ATP=3.5\n",
      "ATP"
     ],
     "language": "python",
     "metadata": {},
     "outputs": [
      {
       "metadata": {},
       "output_type": "pyout",
       "prompt_number": 3,
       "text": [
        "3.5"
       ]
      }
     ],
     "prompt_number": 3
    },
    {
     "cell_type": "code",
     "collapsed": false,
     "input": [
      "3*4"
     ],
     "language": "python",
     "metadata": {},
     "outputs": [
      {
       "metadata": {},
       "output_type": "pyout",
       "prompt_number": 4,
       "text": [
        "12"
       ]
      }
     ],
     "prompt_number": 4
    },
    {
     "cell_type": "markdown",
     "metadata": {},
     "source": [
      "\uacc4\uc0b0\uc911 \uc2e4\uc218\ud615\uc774 \ud55c\uac1c\uc774\uc0c1 \ud3ec\ud568\ub418\uc5b4 \uc788\uc73c\uba74 \uacb0\uacfc\ub3c4 \uc2e4\uc218\ud615\uc774 \ub428."
     ]
    },
    {
     "cell_type": "code",
     "collapsed": false,
     "input": [
      "125/0.5"
     ],
     "language": "python",
     "metadata": {},
     "outputs": [
      {
       "metadata": {},
       "output_type": "pyout",
       "prompt_number": 5,
       "text": [
        "250.0"
       ]
      }
     ],
     "prompt_number": 5
    },
    {
     "cell_type": "code",
     "collapsed": false,
     "input": [
      "(12.5/0.5)*100"
     ],
     "language": "python",
     "metadata": {},
     "outputs": [
      {
       "metadata": {},
       "output_type": "pyout",
       "prompt_number": 6,
       "text": [
        "2500.0"
       ]
      }
     ],
     "prompt_number": 6
    },
    {
     "cell_type": "code",
     "collapsed": false,
     "input": [
      "3**4"
     ],
     "language": "python",
     "metadata": {},
     "outputs": [
      {
       "metadata": {},
       "output_type": "pyout",
       "prompt_number": 7,
       "text": [
        "81"
       ]
      }
     ],
     "prompt_number": 7
    },
    {
     "cell_type": "code",
     "collapsed": false,
     "input": [
      "3**(4+2)"
     ],
     "language": "python",
     "metadata": {},
     "outputs": [
      {
       "metadata": {},
       "output_type": "pyout",
       "prompt_number": 1,
       "text": [
        "729"
       ]
      }
     ],
     "prompt_number": 1
    },
    {
     "cell_type": "code",
     "collapsed": false,
     "input": [
      "4/3"
     ],
     "language": "python",
     "metadata": {},
     "outputs": [
      {
       "metadata": {},
       "output_type": "pyout",
       "prompt_number": 14,
       "text": [
        "1"
       ]
      }
     ],
     "prompt_number": 14
    },
    {
     "cell_type": "code",
     "collapsed": false,
     "input": [
      "4.0/3"
     ],
     "language": "python",
     "metadata": {},
     "outputs": [
      {
       "metadata": {},
       "output_type": "pyout",
       "prompt_number": 15,
       "text": [
        "1.3333333333333333"
       ]
      }
     ],
     "prompt_number": 15
    },
    {
     "cell_type": "markdown",
     "metadata": {},
     "source": [
      "1. \ud30c\uc774\uc36c\uc5d0\uc11c \uc774\ubbf8 \uc0ac\uc6a9\ub418\ub294 \uc608\uc57d\uc5b4\ub4e4\uc740 \ubcc0\uc218\uba85\uc73c\ub85c \uc0ac\uc6a9\ud560 \uc218 \uc5c6\uc74c.\n",
      "\n",
      "2. \ubcc0\uc218\uc758 \uccab\ubc88\uc9f8 \uae00\uc790\ub294 \uc22b\uc790\uac00 \ub420 \uc218 \uc5c6\uc74c.\n",
      "\n",
      "3. \ub300,\uc18c\ubb38\uc790 \uad6c\ubcc4\n",
      "\n",
      "4. $%@?\\.,[](){} \ub4f1 \ub300\ubd80\ubd84\uc758 \ud2b9\uc218\ubb38\uc790\ub4e4\uc740 \ubcc0\uc218\uba85\uc73c\ub85c \ud5c8\uc6a9\ub418\uc9c0 \uc54a\uc74c. "
     ]
    },
    {
     "cell_type": "markdown",
     "metadata": {},
     "source": [
      "\ubbf8\ub9ac \ubcc0\uc218\ud615\ub97c \uc120\uc5b8\ud558\uace0 \uc0ac\uc6a9\ud560 \ud544\uc694\uac00 \uc5c6\uc74c. \ubcc0\uc218 \uc0ac\uc6a9\uc2dc\ub9c8\ub2e4 \uc778\ud130\ud504\ub9ac\ud130\uac00 \ub3d9\uc801\uc73c\ub85c \uc778\uc2dd\ud558\uace0 \uba54\ubaa8\ub9ac\ub97c \ud560\ub2f9\ud574\uc90c. (object)\n",
      "\n",
      "\ubcc0\uc218\ud0c0\uc785\uc5d0 \ub530\ub978 \uc5f0\uc0b0\ub3c4\uad6c\ub97c \uc790\ub3d9\uc801\uc73c\ub85c \uc0ac\uc6a9\ud560 \uc218 \uc788\uc74c(+,-,*.....)\n",
      "\n",
      "\ud30c\uc774\uc36c \uc778\ud130\ud504\ub9ac\ud130\ub294  \ubaa8\ub4e0\uac83\uc744 \uac1d\uccb4\ub85c \ucc98\ub9ac\ud558\uae30 \ub54c\ubb38\uc5d0, \uc0c8\ub85c\uc6b4 \ubcc0\uc218\ub97c \uc0ac\uc6a9\ud560 \ub54c\ub9c8\ub2e4 \uadf8 \uc790\ub8cc\ud615\uc744 \uc800\uc808\ub85c \uc778\uc0c9\ud574\uc11c \uba54\ubaa8\ub9ac\ub97c \ud560\ub2f9\ud574 \uc90c. "
     ]
    },
    {
     "cell_type": "code",
     "collapsed": false,
     "input": [
      "a=10\n",
      "b=5\n",
      "a+b"
     ],
     "language": "python",
     "metadata": {},
     "outputs": [
      {
       "metadata": {},
       "output_type": "pyout",
       "prompt_number": 13,
       "text": [
        "15"
       ]
      }
     ],
     "prompt_number": 13
    },
    {
     "cell_type": "code",
     "collapsed": false,
     "input": [],
     "language": "python",
     "metadata": {},
     "outputs": []
    },
    {
     "cell_type": "markdown",
     "metadata": {},
     "source": []
    },
    {
     "cell_type": "code",
     "collapsed": false,
     "input": [],
     "language": "python",
     "metadata": {},
     "outputs": []
    },
    {
     "cell_type": "heading",
     "level": 3,
     "metadata": {},
     "source": [
      "NAMESPACE"
     ]
    },
    {
     "cell_type": "code",
     "collapsed": false,
     "input": [
      "import math"
     ],
     "language": "python",
     "metadata": {},
     "outputs": [],
     "prompt_number": 4
    },
    {
     "cell_type": "code",
     "collapsed": false,
     "input": [
      "sqrt(16)"
     ],
     "language": "python",
     "metadata": {},
     "outputs": [
      {
       "metadata": {},
       "output_type": "pyout",
       "prompt_number": 5,
       "text": [
        "4.0"
       ]
      }
     ],
     "prompt_number": 5
    },
    {
     "cell_type": "markdown",
     "metadata": {},
     "source": [
      "\uc5d0\ub7ec\uac00 \ub098\uc57c\ud568"
     ]
    },
    {
     "cell_type": "code",
     "collapsed": false,
     "input": [
      "math.sqrt(16)"
     ],
     "language": "python",
     "metadata": {},
     "outputs": [
      {
       "metadata": {},
       "output_type": "pyout",
       "prompt_number": 6,
       "text": [
        "4.0"
       ]
      }
     ],
     "prompt_number": 6
    },
    {
     "cell_type": "code",
     "collapsed": false,
     "input": [
      "from math import sqrt"
     ],
     "language": "python",
     "metadata": {},
     "outputs": [],
     "prompt_number": 7
    },
    {
     "cell_type": "code",
     "collapsed": false,
     "input": [
      "sqrt(16)"
     ],
     "language": "python",
     "metadata": {},
     "outputs": [
      {
       "metadata": {},
       "output_type": "pyout",
       "prompt_number": 8,
       "text": [
        "4.0"
       ]
      }
     ],
     "prompt_number": 8
    },
    {
     "cell_type": "code",
     "collapsed": false,
     "input": [
      "math naemspace\uc640 Python Shell namespace \uac00 \ud569\uccd0\uc9c0\ub294 \uacbd\uc6b0"
     ],
     "language": "python",
     "metadata": {},
     "outputs": []
    },
    {
     "cell_type": "code",
     "collapsed": false,
     "input": [
      "from math import *\n"
     ],
     "language": "python",
     "metadata": {},
     "outputs": [],
     "prompt_number": 9
    },
    {
     "cell_type": "code",
     "collapsed": false,
     "input": [
      "pi"
     ],
     "language": "python",
     "metadata": {},
     "outputs": [
      {
       "metadata": {},
       "output_type": "pyout",
       "prompt_number": 10,
       "text": [
        "3.141592653589793"
       ]
      }
     ],
     "prompt_number": 10
    },
    {
     "cell_type": "markdown",
     "metadata": {},
     "source": [
      "overwring"
     ]
    },
    {
     "cell_type": "code",
     "collapsed": false,
     "input": [
      "pi=100"
     ],
     "language": "python",
     "metadata": {},
     "outputs": [],
     "prompt_number": 11
    },
    {
     "cell_type": "code",
     "collapsed": false,
     "input": [
      "pi"
     ],
     "language": "python",
     "metadata": {},
     "outputs": [
      {
       "metadata": {},
       "output_type": "pyout",
       "prompt_number": 12,
       "text": [
        "100"
       ]
      }
     ],
     "prompt_number": 12
    },
    {
     "cell_type": "heading",
     "level": 4,
     "metadata": {},
     "source": [
      "\ub450 \uc810 \uc0ac\uc774\uc758 \uac70\ub9ac"
     ]
    },
    {
     "cell_type": "code",
     "collapsed": false,
     "input": [
      "from math import *\n",
      "x1,y1,z1 = 0.1, 0.0, -0.7\n",
      "x2,y2,z2 = 0.5, -1.0, 2.7\n",
      "dx = x1-x2\n",
      "dy = y1-y2\n",
      "dz = z1-z2\n",
      "dsquare = pow(dx,2) + pow(dy,2) + pow(dz,2)\n",
      "d= sqrt(dsquare)\n",
      "d"
     ],
     "language": "python",
     "metadata": {},
     "outputs": [
      {
       "metadata": {},
       "output_type": "pyout",
       "prompt_number": 17,
       "text": [
        "3.566510900025402"
       ]
      }
     ],
     "prompt_number": 17
    },
    {
     "cell_type": "heading",
     "level": 4,
     "metadata": {},
     "source": [
      "\ubaa8\ub4c8 \ub9cc\ub4e4\uae30  "
     ]
    },
    {
     "cell_type": "markdown",
     "metadata": {},
     "source": [
      ".py \ud30c\uc77c\uc744 \ub9cc\ub4e4\uc5b4\uc11c \uc0c1\uc218\ub098 \ud568\uc218\ub97c \uc815\uc758\ud574 import\ud574\uc11c \uc0ac\uc6a9"
     ]
    },
    {
     "cell_type": "markdown",
     "metadata": {},
     "source": [
      "hydro.py"
     ]
    },
    {
     "cell_type": "markdown",
     "metadata": {},
     "source": [
      "ATP = -30.5"
     ]
    },
    {
     "cell_type": "markdown",
     "metadata": {},
     "source": [
      "import hydro \ub610\ub294"
     ]
    },
    {
     "cell_type": "markdown",
     "metadata": {},
     "source": [
      "from hydro import ATP"
     ]
    },
    {
     "cell_type": "markdown",
     "metadata": {},
     "source": [
      "\uc5f0\uc2b5"
     ]
    },
    {
     "cell_type": "markdown",
     "metadata": {},
     "source": [
      "E.coli \ubc15\ud14c\ub9ac\ub294 20\ubd84\ub9c8\ub2e4 \uadf8 \uc218\uac00 2\ubc30\ub85c\ub298\uc5b4\ub09c\ub2e4.1\ub9c8\ub9ac\uac00 6\uc2dc\uac04 \ud6c4\uc5d0\ub294 \uba87 \ub9c8\ub9ac\uac00 \ub418\uc5b4 \uc788\uaca0\ub294\uac00?"
     ]
    },
    {
     "cell_type": "code",
     "collapsed": false,
     "input": [],
     "language": "python",
     "metadata": {},
     "outputs": []
    }
   ],
   "metadata": {}
  }
 ]
}