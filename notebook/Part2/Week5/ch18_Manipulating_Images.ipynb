{
 "metadata": {
  "name": "",
  "signature": "sha256:e1d799fa087398bd78ddaea2c67ab161341cd44b0284bf6782c2120c05c17e1f"
 },
 "nbformat": 3,
 "nbformat_minor": 0,
 "worksheets": [
  {
   "cells": [
    {
     "cell_type": "markdown",
     "metadata": {},
     "source": [
      "# 18. Manipulating Images"
     ]
    },
    {
     "cell_type": "code",
     "collapsed": false,
     "input": [
      "from PIL import Image, ImageDraw\n",
      "import math\n",
      "\n",
      "PLASMID_LENGTH = 4361\n",
      "SIZE = (500, 500)\n",
      "CENTER = (250, 250)\n",
      "\n",
      "pBR322 = Image.new('RGB', SIZE, 'white')\n",
      "DRAW = ImageDraw.Draw(pBR322)\n",
      "\n",
      "def get_angle(bp, length=PLASMID_LENGTH):\n",
      "    \"\"\"Converts base position into an angle.\"\"\"\n",
      "    return bp * 360 / length\n",
      "\n",
      "def coord(angle, center, radius):\n",
      "    \"\"\"Return (x,y) coordinates of a point in a circle.\"\"\"\n",
      "    rad = math.radians(90 - angle)\n",
      "    x = int(center[0] + math.sin(rad) * radius)\n",
      "    y = int(center[1] + math.cos(rad) * radius)\n",
      "    return x, y\n",
      "\n",
      "def draw_arrow_tip(start, direction, color):\n",
      "    \"\"\"Draws a triangle at the given start angle.\"\"\"\n",
      "    p1 = coord(start + direction, CENTER, 185)\n",
      "    p2 = coord(start, CENTER, 160)\n",
      "    p3 = coord(start, CENTER, 210)\n",
      "    DRAW.polygon((p1, p2, p3), fill=color)\n",
      "\n",
      "\n",
      "TET_START, TET_END = get_angle(88), get_angle(1276)\n",
      "AMP_START, AMP_END = get_angle(3293), get_angle(4153)\n",
      "ORI_START, ORI_END = get_angle(2519), get_angle(3133)\n",
      "\n",
      "# drawing the plasmid\n",
      "BOX = (50, 50, 450, 450)\n",
      "DRAW.pieslice(BOX, 0, 360, fill='gray')\n",
      "DRAW.pieslice(BOX, TET_START, TET_END, fill='blue')\n",
      "DRAW.pieslice(BOX, AMP_START, AMP_END, fill='orange')\n",
      "DRAW.pieslice(BOX, ORI_START, ORI_END, fill='darkmagenta')\n",
      "\n",
      "DRAW.pieslice((80, 80, 420, 420), 0, 360, fill='white')\n",
      "\n",
      "draw_arrow_tip(TET_END, 10, 'blue')\n",
      "draw_arrow_tip(AMP_START, -10, 'orange')\n",
      "draw_arrow_tip(ORI_START, -10, 'darkmagenta')\n",
      "\n",
      "pBR322.save('plasmid_pBR322.png')\n",
      "\n",
      "### TET_START, TET_END = get_angle(\uc2dc\uc791 bp), get_angle(\ub05d bp)\n",
      "### draw_arrow_tip(\uc2dc\uc791\uc704\uce58, \ud654\uc0b4\ud45c \ud06c\uae30, \uc0c9)"
     ],
     "language": "python",
     "metadata": {},
     "outputs": [],
     "prompt_number": 4
    },
    {
     "cell_type": "markdown",
     "metadata": {},
     "source": [
      "<img src = \"files/image/plasmid_pBR322.png\" />"
     ]
    },
    {
     "cell_type": "code",
     "collapsed": false,
     "input": [
      "## resize\n",
      "import Image\n",
      "image = Image.open('plasmid_pBR322.png')\n",
      "small = image.resize((100,100))\n",
      "small.save('small_pBR322.png')"
     ],
     "language": "python",
     "metadata": {},
     "outputs": [],
     "prompt_number": 1
    },
    {
     "cell_type": "markdown",
     "metadata": {},
     "source": [
      "<img src = \"files/image/small_pBR322.png\" />"
     ]
    },
    {
     "cell_type": "markdown",
     "metadata": {},
     "source": [
      "<img src = \"files/image/original_pBR322.png\" />"
     ]
    },
    {
     "cell_type": "markdown",
     "metadata": {},
     "source": [
      "# \uc720\uc804\uc790 \uc7ac\uc870\ud569"
     ]
    },
    {
     "cell_type": "markdown",
     "metadata": {},
     "source": [
      "### 1. Recombinant DNA\n",
      "<img src = \"files/image/Recombinant_DNA.png\" />"
     ]
    },
    {
     "cell_type": "markdown",
     "metadata": {},
     "source": [
      "## 2. Transformation, Transduction, Conjugation\n",
      "<img src = \"files/image/TF.jpg\" />"
     ]
    },
    {
     "cell_type": "markdown",
     "metadata": {},
     "source": [
      "## 3. Transfection\n",
      "<img src = \"files/image/Transfection.png\" />"
     ]
    },
    {
     "cell_type": "markdown",
     "metadata": {},
     "source": [
      "# \ud558\uc9c0\ub9cc \uc774\uc81c \ub300\uc138\ub294 TALEN and CRISPR-Cas9 !!!"
     ]
    },
    {
     "cell_type": "code",
     "collapsed": false,
     "input": [],
     "language": "python",
     "metadata": {},
     "outputs": []
    }
   ],
   "metadata": {}
  }
 ]
}