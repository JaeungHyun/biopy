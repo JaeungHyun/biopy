{
 "metadata": {
  "name": "",
  "signature": "sha256:a58f40e53100df11bf7e956f573d4fcb1840a7fe1d11acacf531c10c67bc2d29"
 },
 "nbformat": 3,
 "nbformat_minor": 0,
 "worksheets": [
  {
   "cells": [
    {
     "cell_type": "markdown",
     "metadata": {},
     "source": [
      "# R8. Parsing RNA 2D Structure in the Vienna Format"
     ]
    },
    {
     "cell_type": "markdown",
     "metadata": {},
     "source": [
      "### 1. RNA Folding\n",
      "<img src = \"files/Rf_1.png\"/>"
     ]
    },
    {
     "cell_type": "markdown",
     "metadata": {},
     "source": [
      "### 2. RNA 2D structure\n",
      "<img src = \"files/2nd_Str.png\"/>\n",
      "<img src = \"files/2nd_Str_1.png\"/>"
     ]
    },
    {
     "cell_type": "markdown",
     "metadata": {},
     "source": [
      "### 3. Vienna format\n",
      "http://pseudoviewer.inha.ac.kr/"
     ]
    },
    {
     "cell_type": "code",
     "collapsed": false,
     "input": [
      "class RNAStructure:\n",
      "    \n",
      "    def __init__(self, vienna):\n",
      "        lines = vienna.split('\\n')\n",
      "        self.name = lines[0].strip()\n",
      "        self.sequence = lines[1].strip()\n",
      "        self.basepairs = sorted(self.parse_basepairs(lines[2].strip()))\n",
      "        \n",
      "    def parse_basepairs(self, dotbracket):\n",
      "        stack = []\n",
      "        for i, char in enumerate(dotbracket):\n",
      "            if char == '(':\n",
      "                stack.append(i)\n",
      "            elif char == ')':\n",
      "                j = stack.pop()\n",
      "        yield j, i\n",
      "            \n",
      "vienna = '''> two hairpin loops\n",
      "AAACCCCGUUUCGGGGAACCACCA\n",
      "((((...)))).((((..)).)).\n",
      "'''\n",
      "\n",
      "rna = RNAStructure(vienna)\n",
      "\n",
      "print rna.name\n",
      "print rna.sequence\n",
      "for base1, base2 in rna.basepairs:\n",
      "    print '(%i, %i)'%(base1, base2)"
     ],
     "language": "python",
     "metadata": {},
     "outputs": [
      {
       "output_type": "stream",
       "stream": "stdout",
       "text": [
        "> two hairpin loops\n",
        "AAACCCCGUUUCGGGGAACCACCA\n",
        "(12, 23)\n"
       ]
      }
     ],
     "prompt_number": 6
    },
    {
     "cell_type": "code",
     "collapsed": false,
     "input": [],
     "language": "python",
     "metadata": {},
     "outputs": []
    }
   ],
   "metadata": {}
  }
 ]
}