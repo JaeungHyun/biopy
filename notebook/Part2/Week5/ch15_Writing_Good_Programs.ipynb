{
 "metadata": {
  "name": "",
  "signature": "sha256:8a11072bbdc69aa12aab9f45c488024a07e5a3a7682f77a8c6f3b9e8bd5bf606"
 },
 "nbformat": 3,
 "nbformat_minor": 0,
 "worksheets": [
  {
   "cells": [
    {
     "cell_type": "markdown",
     "metadata": {},
     "source": [
      "# Chapter 15. Writing Good Programs\n",
      "\n",
      "## You will learn\n",
      "\n",
      "- How to divide a project into smaller tasks\n",
      "- How to divide a program into functions and classes\n",
      "- How to use pylint to improve your program code\n",
      "- How to use Mercurial to keep track of program versions(git \ubc30\uc6e0\uc73c\ub2c8 pass)\n",
      "- How to share your program with other people\n",
      "- How to improve a program iteratively\n",
      "- How to build your own modules and packages\n",
      "\n",
      "## 15.2 Problem description: uncertainty\n",
      "\n",
      "### 15.2.1 There is Uncertainty in Writing Programs\n",
      "\n",
      "### 15.2.2 Example Programming Project\n",
      "\n",
      "## 15.3 SOFTWAR ENGINEERING\n",
      "\n",
      "- First, make it work\n",
      "- Second, make it nice.\n",
      "- Third, and only if it is really necessary, make it fast.\n",
      "\n",
      "\n",
      "- \uc774\uc804 \uc7a5: to write working program\n",
      "- \uc774\ubc88 \uc7a5: writing clean, transparent programs\n",
      "- Third: \uae4a\uc740 \uc54c\uace0\ub9ac\uc998 \uac19\uc740 \uc9c0\uc2dd \ud544\uc694\n",
      "\n",
      "### 15.3.1 Dividing a Programming Project into Smaller Tasks\n",
      "\n",
      "- \ud504\ub85c\uadf8\ub7a8\uc774 \uc5b4\ub5a4\uac78 \ud558\ub0d0?\n",
      "- \uc774 \ud504\ub85c\uadf8\ub7a8\uc774 \uc8fc\ub294 \uc774\uc775\uc774 \ubb50\ub0d0?\n",
      "- \uc5bc\ub9c8\ub098 \ud6a8\uacfc\uc801\uc778\uac00 \ud655\uc778\ud558\ub77c\n",
      "- \ubaa9\ud45c\ub97c \uc815\ud655\ud788 \uc815\ud574\uc57c \ud55c\ub2e4. \ub2f9\uc7a5 \uc368\ub77c\n",
      "- FASTA files\uc640 aaRS protein sequences\uc744 \uae68\ub057\uc774 \ud574\ub77c. sequence alignment\ub97c \ub9cc\ub4dc\ub294\ub370 \uc0ac\uc6a9\ub420 \uac83\n",
      "- \ubaa9\ud45c\ub97c \uba85\ud655\ud788 \ud574\uc57c \uc2dc\uac04\uc744 \uc904\uc77c \uc218 \uc788\ub2e4.\n",
      "\n",
      "#### What is the input?\n",
      "\n",
      "- \ud504\ub85c\uadf8\ub7a8\uc774 \uc77d\uae30 \uc704\ud574\uc11c\ub294 \uc5b4\ub5a4 \ub370\uc774\ud130\uac00 \ud544\uc694\ud55c\uac00?\n",
      "\n",
      "- \ud504\ub85c\uadf8\ub7a8\uc740 \ub514\ub809\ud1a0\ub9ac \uc548\uc758 \ub9ce\uc740 FASTA files\uc774 \ud3ec\ud568\ud558\uace0 \uc788\ub294 protein sequences\ub97c \uc77d\uc744 \uac83\uc774\ub2e4. \uc774 sequence \ud3ec\ub9f7\uc740\n",
      "\n",
      "```gi|sequence name|species name\n",
      "AMINQACIDSEQUENCE\n",
      "```\n",
      "\n",
      "- file\uc744 \uc77d\uae30 \uc704\ud55c \ud568\uc218\ub97c \uc791\uc131\ud560 \uc218 \uc788\ub2e4. \uadf8\ub7ec\ub098 \uc544\uc9c1 \uc2dc\uc791\ud558\uc9c0\ub9c8!\n",
      "\n",
      "#### What is the output?\n",
      "\n",
      "- \uc774 \ud30c\uc77c\ub4e4\uc740 \uc5b4\ub5a4 \ud504\ub85c\uadf8\ub7a8\ub4e4\uc744 \uc0dd\uc0b0\ud558\ub098?\n",
      "- \uc790\uc138\ud55c logfile\uc744 \uc4f0\uae30 \uc704\ud574 \ubb34\uc5c7\uc774 \ud544\uc694\ud55c\uac00?\n",
      "- windows\uc744 \uc5f4\uae30 \uc704\ud574 \ud544\uc694\ud55c \uac83\uc740? graphics \uc744 \ub9cc\ub4e4\uae30 \uc704\ud574 \ud544\uc694\ud55c \uac83\uc740?\n",
      "- \uc785\ub825\ud558\ub294 \ub370\uc774\ud130\ub098 \ud30c\ub77c\ubbf8\ud130\uac00 \ubc14\ub00c\uba74 \ubb34\uc2a8 \uc77c\uc774 \uc77c\uc5b4\ub098\ub294\uac00?\n",
      "- The program writes a single FASTA file with aaRS sequences.\n",
      "\n",
      "\n",
      "- First, the format of the FASTA file should be the same as it is in the input.\n",
      "- Second, the order of the sequences in the output does not matter.\n",
      "- Third, the format described for the FASTA output must be readable by the program used for creating a sequence alignment.\n",
      "- \uadf8\uac83\ub4e4\uc758 \ucd94\uc815\uc744 \uc368\ubd10\ub77c. \uccb4\ud06c\ud558\uace0 \ud504\ub85c\uc81d\ud2b8 \uad00\uacc4\uc790\uc640 \uc758\ub17c\ud574\ub77c.\n",
      "- \uae68\ub057\ud558\uac8c \ud558\ub294 \uac83\uc774\ub098 \uc790\uc138\ud55c \uac83\uc740 \uc774 \uc2dc\uae30\uc5d0 \ud558\uc9c0 \ub9c8\ub77c. \ub098\uc911\uc5d0 \ud574\ub77c.\n",
      "\n",
      "#### What should happen between input and output?\n",
      "\n",
      "##### aaRS program needs to do following:\n",
      "\n",
      "- Remove all sequences that do not have Phenylalanine or Phe in its name.\n",
      "- Remove all duplicate sequence entries(identical sequences).\n",
      "\n",
      "- duplicate entires\uac00 \ubb54 \ub73b\uc774\ub0d0? Does it mean that the sequence is identical or that the description is identical? Or both?\n",
      "- \uc815\ud655\ud788 \uc815\uc758\ub97c \ud558\uace0 \uac00\uc790. \uc758\uc2ec\uc774 \uc0dd\uae30\uba74 \uba3c\uc800 \ubb3c\uc5b4\ubcf4\ub77c. \ud504\ub85c\uadf8\ub7a8\uc740 \ub098\uc911\uc774\ub2e4.\n",
      "\n",
      "- collecting requirements\n",
      "- user story\n",
      "- \uba85\ud655\ud55c \uc694\uad6c\uc0ac\ud56d\uc740 \ub108\uc758 \ud504\ub85c\uadf8\ub798\ubc0d \uc2dc\uac04\uc744 \uc904\uc5ec\uc904 \uac83\uc774\ub2e4."
     ]
    },
    {
     "cell_type": "markdown",
     "metadata": {},
     "source": [
      "### 15.3.2 Split a Program into Functions and Classes\n",
      "\n",
      "- \uc9e7\uc740 \ud504\ub85c\uadf8\ub7a8\uc774\ub77c\uba74 \ubc14\ub85c \ucf54\ub529\ud560 \uc218 \uc788\ub2e4.\n",
      "- \ud070 \ud504\ub85c\uadf8\ub7a8\uc774\ub77c\uba74 trouble\uc744 \ud53c\ud560 \uc218 \uc788\uc5b4\uc57c \ud55c\ub2e4.\n",
      "- \uba3c\uc800 \uc9c0\uc9c0\ub300\ub97c \uc124\uce58\ud558\ub77c: functions\uacfc classes\ub97c \ub514\uc790\uc778\ud558\ub77c\n",
      "- \uc88b\uc740 \uc804\ub7b5\uc740 input, output, work\uc744 \uc704\ud55c functions\uc744 \ub098\ub204\uc5b4 \uc815\uc758"
     ]
    },
    {
     "cell_type": "code",
     "collapsed": false,
     "input": [
      "def read_fasta_files(directory):\n",
      "    '''\n",
      "    Reads a directory with many FASTA files containing\n",
      "    protein sequences.\n",
      "    '''\n",
      "    pass\n",
      "\n",
      "def filter_phe(sequences):\n",
      "    '''\n",
      "    Removes all sequences that do not have\n",
      "    Phenylalanine or Phe in their name.\n",
      "    '''\n",
      "    pass\n",
      "\n",
      "def remove_duplicates(sequences):\n",
      "    '''\n",
      "    Remove all sequence records, having an identical\n",
      "    sequence.\n",
      "    '''\n",
      "    pass\n",
      "\n",
      "def write_fasta(sequences, filename):\n",
      "    '''\n",
      "    Writes a single FASTA file with aaRS sequences.\n",
      "    '''\n",
      "    pass\n",
      "\n",
      "if __name__ == '__main__':\n",
      "    INPUT_DIR = 'aars/'\n",
      "    OUTPUT_FILE = 'phe_filtered.fasta'\n",
      "    seq = read_fasta_files(INPUT_DIR)\n",
      "    filter_phe(seq)\n",
      "    remove_duplicates(seq)\n",
      "    write_fasta(seq, OUTPUT_FILE)"
     ],
     "language": "python",
     "metadata": {},
     "outputs": [],
     "prompt_number": 1
    },
    {
     "cell_type": "markdown",
     "metadata": {},
     "source": [
      "---\n",
      "#### \uadfc\ub370 \ud504\ub85c\uadf8\ub798\ubc0d\uc744 \ucc98\uc74c\ubd80\ud130 \uc774\ub807\uac8c \uad6c\uc870\uc801\uc73c\ub85c \uc9e4 \uc218 \uc788\ub098?\n",
      "\n",
      "- \ub098\ub3c4 \uc774\ub807\uac8c \uc9dc\ub294\ub370 \uad49\uc7a5\ud788 \uc624\ub79c \uc2dc\uac04\uc774 \uac78\ub838\ub294\ub370??\n",
      "\n",
      "\n",
      "1. \ub0b4\uac00 \uc811\ud588\ub358 \ubc29\ubc95\uc740 \ucc98\uc74c\uc5d4 \ubb34\uc870\uac74 \ub3d9\uc791\ud558\uac8c\ub054 \ud55c\ub2e4(\uc608\uc678\ucc98\ub9ac \uc804\ud600\uc5c6\uc774)\n",
      "2. \uadf8 \uc77c\ubd80\ubd84\uc744 \ud568\uc218\ub85c \ub9cc\ub4e4\uc5b4 \ub5bc\ub0b8\ub2e4.\n",
      "3. Exception handling\uc744 \ucd94\uac00\ud55c\ub2e4.\n",
      "4. Test code\ub97c \uc791\uc131\ud55c\ub2e4.\n",
      "\n",
      "\n",
      "- \uc774\ub7f0 \ub85c\uc9c1\uc778\ub370.. \uc800\ub807\uac8c \uad6c\uc870\uc801\uc73c\ub85c \uc54c\ub824\uc900\ub2e4\uace0 \ud574\ub3c4 \ucc98\uc74c\ubd80\ud130 \uad6c\uc870\uc801\uc73c\ub85c \uc9e4 \uc218 \uc5c6\ub2e4. \ucc28\ucc28 \ub098\uc544\uc9c0\ub294 \uac70\ub2e4.\n",
      "- \uadf8\ub7f0\ub370 \uc0dd\uac01\ud558\ub294 \ubc29\ubc95\uc740 \ub9ce\uc774 \ubc30\uc6b8 \uc218 \uc788\uc73c\ub2c8 \ud544\ud788 \ub9c8\uc2a4\ud130\ud558\uc790.\n",
      "\n",
      "----"
     ]
    },
    {
     "cell_type": "markdown",
     "metadata": {},
     "source": [
      "- \uc9e7\uc740 \ucf54\ub4dc\uc77c\uc218\ub85d \ub514\ubc84\uae45\uc774 \uc27d\ub2e4.\n",
      "- \ud604\uc7ac \uc774 \ucf54\ub4dc\ub294 \uc544\ubb34\uc77c\ub3c4 \uc548\ud55c\ub2e4. \ud558\uc9c0\ub9cc \uc774\ub807\uac8c \uad6c\uc870\uc801\uc73c\ub85c \uc9dc\ub193\uac8c \ub418\uba74 \uc0b4\ub9cc \ub367\ubd99\uc774\uba74 \ub418\uae30 \ub54c\ubb38\uc5d0 \ud6e8\uc52c \uc27d\uac8c \ucf54\ub529\uc774 \uac00\ub2a5\ud558\ub2e4(\uc694\uc998\uc5d0 \uc640\uc11c \uae68\ub2ec\uc740 \uc0ac\ud56d: \uc608\uc804\uc5d0 \uc774\ub7f0 \ub0b4\uc6a9\uc744 \ub9ce\uc774 \ubd24\uc73c\uba74 '\ucc38 \uc88b\uc558\uaca0\ub2e4'\ub77c\ub294 \uc0dd\uac01 \uc7a0\uae50 \ud568. \uadf8\ub7f0\ub370 \uc0bd\uc9c8\uc744 \ud588\uc73c\ub2c8 \uadf8\uac8c \uc911\uc694\ud558\ub2e4\uace0 \uae68\ub2ec\uc740\uac70\uc9c0. \uadf8\ub0e5 \ud3b8\ud788 \uc654\uc73c\uba74 \uadf8\ub0e5 \uadf8\ub7ec\ub824\ub2c8 \ud588\uc744\uac83 \uac19\uc74c)\n",
      "\n",
      "### BOX 15.1 Writing smaller programs\n",
      "\n",
      "- \"Today I had a successful day at program: I deleted 300 lines of code\"\n",
      "- \ud504\ub85c\uadf8\ub798\ubc0d\uc758 \ubbf8\ub355: \uc5d0\ub7ec\ub97c \uc27d\uac8c \ucc3e\uc744 \uc218 \uc788\uc5b4\uc57c \ud55c\ub2e4.\n",
      "- [Master Foo and the Ten Thousand Lines](http://www.catb.org/esr/writings/unix-koans/ten-thousand.html)\n",
      "- \ud30c\uc774\uc36c \ucca0\ud559: \uac04\ub2e8\ud55c \uac83\uc774 \ub354 \uc88b\ub2e4.\n",
      "\n",
      "\n",
      "> python program1.py\n",
      "\n",
      "> python program2.py\n",
      "\n",
      "> python program3.py\n",
      "\n",
      "- \uac71\uc815\ud558\uc9c0 \ub9c8\ub77c. \uc774\ub807\uac8c \uad6c\uc870\ud654\ub97c \uba3c\uc800 \ud558\ub294\uac70\ub2e4.\n",
      "\n",
      "- \ub098\uc911\uc5d0\n",
      "\n",
      "```python\n",
      "import program1\n",
      "import program2\n",
      "import program3\n",
      "```\n",
      "\n",
      "- \uc774\ub807\uac8c \ud574\uc8fc\uba74 \ub418\uba74 \uc798 \uc815\uc758\ub41c component \ud504\ub85c\uadf8\ub7a8\uc774 \ub418\ub294 \uac83\uc774\ub2e4.\n",
      "\n",
      "\n",
      "- \uc9e7\uc740 \ud504\ub85c\uadf8\ub7a8\uc73c\ub85c \ub098\ub204\ub294 \uac83\uc740 art\ub2e4."
     ]
    },
    {
     "cell_type": "markdown",
     "metadata": {},
     "source": [
      "### 15.3.3 Writing Well-Formatted Code\n",
      "\n",
      "#### PEP8: standardized convention to format code\n",
      "\n",
      "- You should add a space after commas and arithmetic operators\n",
      "- Variables in functions should have lowercase names.\n",
      "- Constans in modules should have uppercase names.\n",
      "- After each function there should be two empty lines.(\uc751? \ud55c\uc904\ub85c \uc54c\uace0 \uc788\ub294\ub370 [Code Like a Pythonista: Idiomatic Python](http://coreapython.hosting.paran.com/etc/Code%20Like%20a%20Pythonista%20Idiomatic%20Python.htm)\n",
      ")\n",
      "- Each function should have a documentation string as a comment.\n",
      "\n",
      "\n",
      "- [pylint](http://www.pylint.org/): check how well the Python code complies with the PEP8 convention.\n",
      "- 7.0~9.0 \uc0ac\uc774\ub9cc \uc720\uc9c0\ud558\uba74 \ub41c\ub2e4. \uaf2d 10\uc810 \ub9de\uc73c\ub824\uace0 \ud558\uc9c0 \uc54a\uc544\ub3c4 \ub41c\ub2e4.\n",
      "- [pylint | Kang Sung Jin](http://ujuc.kr/tag/pylint/)\n",
      "\n",
      "#### pylint \uc7a5\uc810\n",
      "\n",
      "- IDE\uc5d0\uc11c \uc791\uc131\ud558\uba74 \uc5b4\ub290\uc815\ub3c4\uc758 Python PEP 8\ubb38\uc11c\uc758 \ub0b4\uc6a9\ub4e4\uacfc \ub3d9\uc77c\ud558\uac8c \uc7a1\uc544\uc8fc\uc9c0\ub9cc\u2026\n",
      "- \ubabb\uc7a1\uc544\uc8fc\ub294 \uc544\uc774\ub4e4\uc744 \uc7a1\uc544\uc900\ub2e4.\n",
      "- \ubaa8\ub4c8 \uc774\ub984\ub3c4 \uc774\ub807\uac8c \ud574\ub77c \uc800\ub807\uac8c\ud574\ub77c..\n",
      "- \ud568\uc218\ub0b4\uc5d0 \ub108\ubb34 \ub9ce\uc774 \ubb58\ud558\uace0 \uc788\ub2e4..\ub4f1\ub4f1\u2026\n",
      "- \uc791\uac8c \uc791\uac8c \uc9dc\ub97c\uc218 \uc788\ub3c4\ub85d \uc138\ud305\uc744 \ud560\uc218 \uc788\ub3c4\ub85d \ud574\uc8fc\ub294\uac8c \uc88b\uc74c.\n",
      "\n",
      "#### pylint \ub2e8\uc810\n",
      "\n",
      "- \uadc0\ucc2e\uc744 \uc218\ub3c4 \uc788\ub2e4...\n",
      "- \uc5b5\uc218\ub85c \uadc0\ucc2e\ub2e4......."
     ]
    },
    {
     "cell_type": "code",
     "collapsed": false,
     "input": [
      "!pylint 12-debugging/handling_exceptions_else.py"
     ],
     "language": "python",
     "metadata": {},
     "outputs": [
      {
       "output_type": "stream",
       "stream": "stdout",
       "text": [
        "No config file found, using default configuration\r\n",
        "************* Module handling_exceptions_else\r\n",
        "C: 15, 4: Invalid constant name \"filename\" (invalid-name)\r\n",
        "C: 16, 4: Invalid constant name \"in_file\" (invalid-name)\r\n",
        "\r\n",
        "\r\n",
        "Report\r\n",
        "======\r\n",
        "10 statements analysed.\r\n",
        "\r\n",
        "Messages by category\r\n",
        "--------------------\r\n",
        "\r\n",
        "+-----------+-------+---------+-----------+\r\n",
        "|type       |number |previous |difference |\r\n",
        "+===========+=======+=========+===========+\r\n",
        "|convention |2      |NC       |NC         |\r\n",
        "+-----------+-------+---------+-----------+\r\n",
        "|refactor   |0      |NC       |NC         |\r\n",
        "+-----------+-------+---------+-----------+\r\n",
        "|warning    |0      |NC       |NC         |\r\n",
        "+-----------+-------+---------+-----------+\r\n",
        "|error      |0      |NC       |NC         |\r\n",
        "+-----------+-------+---------+-----------+\r\n",
        "\r\n",
        "\r\n",
        "\r\n",
        "Messages\r\n",
        "--------\r\n",
        "\r\n",
        "+-------------+------------+\r\n",
        "|message id   |occurrences |\r\n",
        "+=============+============+\r\n",
        "|invalid-name |2           |\r\n",
        "+-------------+------------+\r\n",
        "\r\n",
        "\r\n",
        "\r\n",
        "Global evaluation\r\n",
        "-----------------\r\n",
        "Your code has been rated at 8.00/10\r\n",
        "\r\n",
        "Raw metrics\r\n",
        "-----------\r\n",
        "\r\n",
        "+----------+-------+------+---------+-----------+\r\n",
        "|type      |number |%     |previous |difference |\r\n",
        "+==========+=======+======+=========+===========+\r\n",
        "|code      |11     |44.00 |NC       |NC         |\r\n",
        "+----------+-------+------+---------+-----------+\r\n",
        "|docstring |12     |48.00 |NC       |NC         |\r\n",
        "+----------+-------+------+---------+-----------+\r\n",
        "|comment   |0      |0.00  |NC       |NC         |\r\n",
        "+----------+-------+------+---------+-----------+\r\n",
        "|empty     |2      |8.00  |NC       |NC         |\r\n",
        "+----------+-------+------+---------+-----------+\r\n",
        "\r\n",
        "\r\n",
        "\r\n",
        "Statistics by type\r\n",
        "------------------\r\n",
        "\r\n",
        "+---------+-------+-----------+-----------+------------+---------+\r\n",
        "|type     |number |old number |difference |%documented |%badname |\r\n",
        "+=========+=======+===========+===========+============+=========+\r\n",
        "|module   |1      |NC         |NC         |100.00      |0.00     |\r\n",
        "+---------+-------+-----------+-----------+------------+---------+\r\n",
        "|class    |0      |NC         |NC         |0           |0        |\r\n",
        "+---------+-------+-----------+-----------+------------+---------+\r\n",
        "|method   |0      |NC         |NC         |0           |0        |\r\n",
        "+---------+-------+-----------+-----------+------------+---------+\r\n",
        "|function |0      |NC         |NC         |0           |0        |\r\n",
        "+---------+-------+-----------+-----------+------------+---------+\r\n",
        "\r\n",
        "\r\n",
        "\r\n",
        "Duplication\r\n",
        "-----------\r\n",
        "\r\n",
        "+-------------------------+------+---------+-----------+\r\n",
        "|                         |now   |previous |difference |\r\n",
        "+=========================+======+=========+===========+\r\n",
        "|nb duplicated lines      |0     |NC       |NC         |\r\n",
        "+-------------------------+------+---------+-----------+\r\n",
        "|percent duplicated lines |0.000 |NC       |NC         |\r\n",
        "+-------------------------+------+---------+-----------+\r\n",
        "\r\n",
        "\r\n",
        "\r\n"
       ]
      }
     ],
     "prompt_number": 3
    },
    {
     "cell_type": "code",
     "collapsed": false,
     "input": [
      "!pylint 10-functions/calc_distance.py"
     ],
     "language": "python",
     "metadata": {},
     "outputs": [
      {
       "output_type": "stream",
       "stream": "stdout",
       "text": [
        "No config file found, using default configuration\r\n"
       ]
      },
      {
       "output_type": "stream",
       "stream": "stdout",
       "text": [
        "************* Module 10-functions.calc_distance\r\n",
        "C: 18, 0: Trailing whitespace (trailing-whitespace)\r\n",
        "C: 16, 0: Invalid argument name \"p1\" (invalid-name)\r\n",
        "C: 16, 0: Invalid argument name \"p2\" (invalid-name)\r\n",
        "C: 18, 4: Invalid variable name \"dx\" (invalid-name)\r\n",
        "C: 19, 4: Invalid variable name \"dy\" (invalid-name)\r\n",
        "C: 20, 4: Invalid variable name \"dz\" (invalid-name)\r\n",
        "\r\n",
        "\r\n",
        "Report\r\n",
        "======\r\n",
        "10 statements analysed.\r\n",
        "\r\n",
        "Duplication\r\n",
        "-----------\r\n",
        "\r\n",
        "+-------------------------+------+---------+-----------+\r\n",
        "|                         |now   |previous |difference |\r\n",
        "+=========================+======+=========+===========+\r\n",
        "|nb duplicated lines      |0     |0        |=          |\r\n",
        "+-------------------------+------+---------+-----------+\r\n",
        "|percent duplicated lines |0.000 |0.000    |=          |\r\n",
        "+-------------------------+------+---------+-----------+\r\n",
        "\r\n",
        "\r\n",
        "\r\n",
        "Messages by category\r\n",
        "--------------------\r\n",
        "\r\n",
        "+-----------+-------+---------+-----------+\r\n",
        "|type       |number |previous |difference |\r\n",
        "+===========+=======+=========+===========+\r\n",
        "|convention |6      |5        |+1.00      |\r\n",
        "+-----------+-------+---------+-----------+\r\n",
        "|refactor   |0      |0        |=          |\r\n",
        "+-----------+-------+---------+-----------+\r\n",
        "|warning    |0      |0        |=          |\r\n",
        "+-----------+-------+---------+-----------+\r\n",
        "|error      |0      |0        |=          |\r\n",
        "+-----------+-------+---------+-----------+\r\n",
        "\r\n",
        "\r\n",
        "\r\n",
        "Messages\r\n",
        "--------\r\n",
        "\r\n",
        "+--------------------+------------+\r\n",
        "|message id          |occurrences |\r\n",
        "+====================+============+\r\n",
        "|invalid-name        |5           |\r\n",
        "+--------------------+------------+\r\n",
        "|trailing-whitespace |1           |\r\n",
        "+--------------------+------------+\r\n",
        "\r\n",
        "\r\n",
        "\r\n",
        "Global evaluation\r\n",
        "-----------------\r\n",
        "Your code has been rated at 4.00/10 (previous run: 5.00/10, -1.00)\r\n",
        "\r\n",
        "Raw metrics\r\n",
        "-----------\r\n",
        "\r\n",
        "+----------+-------+------+---------+-----------+\r\n",
        "|type      |number |%     |previous |difference |\r\n",
        "+==========+=======+======+=========+===========+\r\n",
        "|code      |9      |37.50 |9        |=          |\r\n",
        "+----------+-------+------+---------+-----------+\r\n",
        "|docstring |13     |54.17 |13       |=          |\r\n",
        "+----------+-------+------+---------+-----------+\r\n",
        "|comment   |0      |0.00  |0        |=          |\r\n",
        "+----------+-------+------+---------+-----------+\r\n",
        "|empty     |2      |8.33  |2        |=          |\r\n",
        "+----------+-------+------+---------+-----------+\r\n",
        "\r\n",
        "\r\n",
        "\r\n",
        "Statistics by type\r\n",
        "------------------\r\n",
        "\r\n",
        "+---------+-------+-----------+-----------+------------+---------+\r\n",
        "|type     |number |old number |difference |%documented |%badname |\r\n",
        "+=========+=======+===========+===========+============+=========+\r\n",
        "|module   |1      |1          |=          |100.00      |0.00     |\r\n",
        "+---------+-------+-----------+-----------+------------+---------+\r\n",
        "|class    |0      |0          |=          |0           |0        |\r\n",
        "+---------+-------+-----------+-----------+------------+---------+\r\n",
        "|method   |0      |0          |=          |0           |0        |\r\n",
        "+---------+-------+-----------+-----------+------------+---------+\r\n",
        "|function |1      |1          |=          |100.00      |0.00     |\r\n",
        "+---------+-------+-----------+-----------+------------+---------+\r\n",
        "\r\n",
        "\r\n",
        "\r\n"
       ]
      }
     ],
     "prompt_number": 6
    },
    {
     "cell_type": "markdown",
     "metadata": {},
     "source": [
      "### Docstrings\n",
      "\n",
      "- \uac01 function\uc774\ub098 class \uc548\uc5d0 triple-quoted\ub85c \uac10\uc2f8\uc838\uc788\ub294 comment\uac00 docstring \uc774\ub2e4.\n",
      "\n",
      "```python\n",
      "class AARSFilter(object):\n",
      "    '''\n",
      "    Reads a set of FASTA files and remove duplicate\n",
      "    sequence entires.\n",
      "    '''\n",
      "    pass\n",
      "```\n",
      "\n",
      "### comments\n",
      "\n",
      "- #\uc774 \uc55e\uc5d0 \uc788\uc73c\uba74 \uc778\ud130\ud504\ub9ac\ud130\ub294 \ubb34\uc2dc\ud55c\ub2e4. \uadf8\ub798\uc11c \uc8fc\uc11d\uc774 \ub41c\ub2e4.\n",
      "- \uc8fc\uc11d\uc740 \uc9e7\uac8c \uc4f0\uace0 \uac00\uc7a5 \uc911\uc694\ud55c \uc815\ubcf4\ub97c \uc904 \uc218 \uc788\ub2e4.\n",
      "- \ud504\ub85c\uadf8\ub7a8\uc744 \uc218\uc815\ud558\uace0 \uc8fc\uc11d\ub3c4 \uac19\uc774 \uc218\uc815\ud558\uc790. \uadf8\ub807\uc9c0 \uc54a\uc73c\uba74 \ub098\uc911\uc5d0 \uc218\uc815\ud560 \ub54c \uad49\uc7a5\ud788 \ud5f7\uac08\ub9b4 \uc218 \uc788\ub2e4.\n",
      "\n",
      "### 15.3.4 Using a Repository to Control Program Versions\n",
      "\n",
      "- \ubb54\uac00 \uc798\ubabb\ub410\uc744 \ub54c \uc6d0\ub798\ub300\ub85c \ub3cc\uc544\uac08 \uc218 \uc788\ub294\uac00?\n",
      "- \uc774\uac74 git \ud558\uba74\uc11c \ub9ce\uc774 \ud588\uc73c\ub2c8 pass~\n",
      "\n",
      "### 15.3.5 How to Release Your Program to Other People\n",
      "\n",
      "- release: To distribute a program, you create a stable version\n",
      "- First, set a version number: \uacf5\ub3d9\uc791\uc5c5\uc790\uc640 \uc791\uc5c5\ud560 \ub54c \ub3c4\uc6c0\uc744 \uc904 \uac83\n",
      "- Second, Write a short README.TXT file\n",
      "  - What is the name of the program?\n",
      "  - What is your name and how can you be contacted?\n",
      "  - What is the version number?\n",
      "  - What is the program good for? Descibe it in 50-100 words.\n",
      "  - How can the program be used? A good idea is to include a simple command-line example.\n",
      "  - Under what conditions can the program be distributed? For example, \n",
      "    - \"All rights reserved\".\n",
      "    - \"Distributed under the conditions of the Python license\"\n",
      "    - \uc774\ubc16\uc5d0\ub3c4 \ub9ce\uc740 \uc18c\ud504\ud2b8\uc6e8\uc5b4 \ub77c\uc774\uc13c\uc2a4\ub4e4\uc774 \uc788\ub2e4.\n",
      "    \n",
      "- Finally, create a zip file out of the directory with the program, including the README.TXT file.\n",
      "\n",
      "#### \uba87\uac00\uc9c0 release \ubc29\ubc95\n",
      "\n",
      "- distutils library\ub97c \uc0ac\uc6a9\ud574\uc11c install script\ub97c \uc790\ub3d9 \uc0dd\uc131\n",
      "- py2exe\ub97c \uc0ac\uc6a9\ud574\uc11c Windows\uc758 \uc2e4\ud589\uac00\ub2a5\ud55c \ud30c\uc77c\uc744 \ub9cc\ub4e0\ub2e4. \uc774\ub807\uac8c \ub9cc\ub4e4\uba74 \uc0ac\uc6a9\uc790\ub4e4\uc740 python\uc744 \uc124\uce58\ud558\uc9c0 \uc54a\uc544\ub3c4 \ud504\ub85c\uadf8\ub7a8\uc744 \uc0ac\uc6a9\ud560 \uc218 \uc788\ub2e4.\n",
      "- sourceforge\ub098 github account\ub97c \ud65c\uc6a9\n",
      "- [1. An Introduction to Distutils \u2014 Python v2.7.8 documentation](https://docs.python.org/2/distutils/introduction.html)\n",
      "\n",
      "![The cycle of software development](files/images/cycle_software.png)"
     ]
    },
    {
     "cell_type": "markdown",
     "metadata": {},
     "source": [
      "### 15.3.6 The Cycle of Software Development\n",
      "\n",
      "- Plan: You first need to have a rough idea what your program should do.\n",
      "- Program: Next you need to implement the plan. Create the functions, classes, and moduels that realize your initial idea.\n",
      "\n",
      "### BOX 15.2 SMALL DATA FILES FOR TESTING\n",
      "\n",
      "- input\uc744 \uc904\uc5ec\uc11c \ud14c\uc2a4\ud2b8 \ud574\ubd10\ub77c.\n",
      "- \uadf8\ub807\ub2e4\uba74 \ud655\uc778\ud574\uc57c \ud560 output\ub3c4 \uc904\uc5b4\ub4dc\ub2c8 \ud504\ub85c\uadf8\ub7a8 \ubd84\uc11d\uc774 \uc6a9\uc774\ud558\ub2e4.\n",
      "\n",
      "#### input - 9\uac1c\n",
      "\n",
      "```\n",
      "Primary\t441.462\n",
      "Secondary\t29.031\n",
      "Secondary\t46.009\n",
      "Secondary\t40.932\n",
      "Secondary\t34.952\n",
      "Primary\t139.907\n",
      "Secondary\t82.248\n",
      "Secondary\t39.819\n",
      "Secondary\t144.143\n",
      "```\n",
      "\n",
      "#### output - 9\uac1c\n",
      "```\n",
      "category <100 100-300 >300\n",
      "Primary :     1     1     1\n",
      "Secondary:    2     2     2\n",
      "```\n",
      "\n",
      "- Prove: \ub108\uc758 \ud504\ub85c\uadf8\ub7a8\uc744 \ub9ac\uc5bc \uc6d4\ub4dc\uc5d0 \ub4dc\ub7ec\ub0b4\ub77c. \uc720\uc6a9\ud55c\uac00? feedback\uc744 \ubc1b\uc544\ub77c. \n",
      "\n",
      "![circle](files/images/circle.png)\n",
      "\n",
      "#### Manifesto for Agile Software Development\n",
      "\n",
      "1. individuals and interactions over processes and tools\n",
      "2. working software over comprehensive documentation\n",
      "3. customer collaboration over contract negotiation\n",
      "4. responding to change over following a plan\n",
      "\n",
      "\n",
      "- [Scrump](http://www.scrum.org)\n",
      "- [eXtreme Programming](http://www.extremeprogramming.org)\n",
      "- [Crystal](http://www.agilekiwi.com/other/agile/crystal-clear-methodology/)\n",
      "\n",
      "- toolbox of software engineering techniques\uc774 bio informatics research, \uc790\ub3d9\ud654\ub41c test, code reviews, user stories has been described\uc5d0 \uc0ac\uc6a9\ub41c\ub2e4."
     ]
    },
    {
     "cell_type": "markdown",
     "metadata": {},
     "source": [
      "## 15.4 Examples\n",
      "\n",
      "### Examples 15.1 Creating Your Own Module\n",
      "\n",
      "- \ud070 \ud30c\uc77c\uc740 \uc77d\uae30 \uc5b4\ub824\uc6b0\ub098 \uc791\uc740 \uc5ec\ub7ec \ud30c\uc77c\ub85c \ucabc\uac1c\ub77c.\n",
      "- \uac01 \ubaa8\ub4c8\ub4e4\uc740 \uc4f0\uae30 \uc27d\ub2e4.\n",
      "\n",
      "- Collect all functions for file parsing in one module.\n",
      "- Collect all functions for creating output in one module.\n",
      "- Create a module for constants like filenames and parameters.\n",
      "- Assign the paths of your data files to variable names in a separate module"
     ]
    },
    {
     "cell_type": "code",
     "collapsed": false,
     "input": [
      "!pwd"
     ],
     "language": "python",
     "metadata": {},
     "outputs": [
      {
       "output_type": "stream",
       "stream": "stdout",
       "text": [
        "/Users/re4lfl0w/Documents/ipython/books/Managing_Your_Biological_Data_with_Python\r\n"
       ]
      }
     ],
     "prompt_number": 7
    },
    {
     "cell_type": "code",
     "collapsed": false,
     "input": [
      "import sys\n",
      "sys.path.append('/Users/re4lfl0w/Documents/ipython/books/Managing_Your_Biological_Data_with_Python/10-functions/')\n",
      "import calc_distance"
     ],
     "language": "python",
     "metadata": {},
     "outputs": [
      {
       "output_type": "stream",
       "stream": "stdout",
       "text": [
        "10.3923048454\n"
       ]
      }
     ],
     "prompt_number": 10
    },
    {
     "cell_type": "code",
     "collapsed": false,
     "input": [
      "%%writefile tmp/neuron_count.py\n",
      "#"
     ],
     "language": "python",
     "metadata": {},
     "outputs": [
      {
       "output_type": "stream",
       "stream": "stdout",
       "text": [
        "Writing tmp/neuron_count.py\n"
       ]
      }
     ],
     "prompt_number": 14
    },
    {
     "cell_type": "code",
     "collapsed": false,
     "input": [
      "%%writefile tmp/shrink_images.py\n",
      "#"
     ],
     "language": "python",
     "metadata": {},
     "outputs": [
      {
       "output_type": "stream",
       "stream": "stdout",
       "text": [
        "Writing tmp/shrink_images.py\n"
       ]
      }
     ],
     "prompt_number": 15
    },
    {
     "cell_type": "code",
     "collapsed": false,
     "input": [
      "!ls -l tmp"
     ],
     "language": "python",
     "metadata": {},
     "outputs": [
      {
       "output_type": "stream",
       "stream": "stdout",
       "text": [
        "total 24\r\n",
        "-rw-r--r--  1 re4lfl0w  staff    0 Aug 25 04:40 __init__.py\r\n",
        "-rw-r--r--  1 root      staff  102 Aug 25 04:40 __init__.pyc\r\n",
        "-rw-r--r--  1 root      staff    1 Aug 26 17:31 neuron_count.py\r\n",
        "-rw-r--r--  1 root      staff    1 Aug 26 17:31 shrink_images.py\r\n"
       ]
      }
     ],
     "prompt_number": 23
    },
    {
     "cell_type": "code",
     "collapsed": false,
     "input": [
      "!ls -l tmp2"
     ],
     "language": "python",
     "metadata": {},
     "outputs": [
      {
       "output_type": "stream",
       "stream": "stdout",
       "text": [
        "total 24\r\n",
        "-rw-r--r--  1 root  staff    0 Aug 26 17:31 __init__.py\r\n",
        "-rw-r--r--  1 root  staff  103 Aug 26 17:32 __init__.pyc\r\n",
        "-rw-r--r--  1 root  staff    1 Aug 26 17:31 neuron_count.py\r\n",
        "-rw-r--r--  1 root  staff    1 Aug 26 17:31 shrink_images.py\r\n"
       ]
      }
     ],
     "prompt_number": 24
    },
    {
     "cell_type": "code",
     "collapsed": false,
     "input": [
      "!ls -l"
     ],
     "language": "python",
     "metadata": {},
     "outputs": [
      {
       "output_type": "stream",
       "stream": "stdout",
       "text": [
        "total 6472\r\n",
        "-rw-r--r--@  1 re4lfl0w  staff     6148 Aug 23 02:06 .DS_Store\r\n",
        "drwxr-xr-x   6 root      staff      204 Aug 26 15:11 \u001b[1m\u001b[34m.ipynb_checkpoints\u001b[m\u001b[m\r\n",
        "drwxr-xr-x   6 re4lfl0w  staff      204 Aug 23 00:48 \u001b[1m\u001b[34m01-the_Python_shell\u001b[m\u001b[m\r\n",
        "drwxr-xr-x   7 re4lfl0w  staff      238 Aug 23 00:48 \u001b[1m\u001b[34m02-your_first_program\u001b[m\u001b[m\r\n",
        "drwxr-xr-x  11 re4lfl0w  staff      374 Aug 23 00:48 \u001b[1m\u001b[34m03-data_columns\u001b[m\u001b[m\r\n",
        "drwxr-xr-x  15 re4lfl0w  staff      510 Aug 23 00:48 \u001b[1m\u001b[34m04-parsing_data\u001b[m\u001b[m\r\n",
        "drwxr-xr-x  12 re4lfl0w  staff      408 Aug 23 00:48 \u001b[1m\u001b[34m05-searching_data\u001b[m\u001b[m\r\n",
        "drwxr-xr-x  18 re4lfl0w  staff      612 Aug 23 00:48 \u001b[1m\u001b[34m06-filtering_data\u001b[m\u001b[m\r\n",
        "drwxr-xr-x  11 re4lfl0w  staff      374 Aug 23 00:48 \u001b[1m\u001b[34m07-tabular_data\u001b[m\u001b[m\r\n",
        "drwxr-xr-x  12 re4lfl0w  staff      408 Aug 23 00:48 \u001b[1m\u001b[34m08-sorting_data\u001b[m\u001b[m\r\n",
        "drwxr-xr-x  14 re4lfl0w  staff      476 Aug 23 00:48 \u001b[1m\u001b[34m09-pattern_matching\u001b[m\u001b[m\r\n",
        "drwxr-xr-x  26 re4lfl0w  staff      884 Aug 26 17:25 \u001b[1m\u001b[34m10-functions\u001b[m\u001b[m\r\n",
        "drwxr-xr-x   8 re4lfl0w  staff      272 Aug 23 00:48 \u001b[1m\u001b[34m11-classes\u001b[m\u001b[m\r\n",
        "drwxr-xr-x   7 re4lfl0w  staff      238 Aug 26 16:23 \u001b[1m\u001b[34m12-debugging\u001b[m\u001b[m\r\n",
        "drwxr-xr-x  10 re4lfl0w  staff      340 Aug 23 00:48 \u001b[1m\u001b[34m13-R_and_Python\u001b[m\u001b[m\r\n",
        "drwxr-xr-x  10 re4lfl0w  staff      340 Aug 23 00:48 \u001b[1m\u001b[34m14-building_pipelines\u001b[m\u001b[m\r\n",
        "drwxr-xr-x   8 re4lfl0w  staff      272 Aug 23 00:48 \u001b[1m\u001b[34m16-plotting_diagrams\u001b[m\u001b[m\r\n",
        "drwxr-xr-x   9 re4lfl0w  staff      306 Aug 23 00:48 \u001b[1m\u001b[34m17-PyMOL\u001b[m\u001b[m\r\n",
        "drwxr-xr-x  11 re4lfl0w  staff      374 Aug 23 00:48 \u001b[1m\u001b[34m18-image_manipulation\u001b[m\u001b[m\r\n",
        "drwxr-xr-x  12 re4lfl0w  staff      408 Aug 23 00:48 \u001b[1m\u001b[34m19-sequences\u001b[m\u001b[m\r\n",
        "drwxr-xr-x   8 re4lfl0w  staff      272 Aug 23 00:48 \u001b[1m\u001b[34m20-web_retrieval\u001b[m\u001b[m\r\n",
        "drwxr-xr-x   9 re4lfl0w  staff      306 Aug 23 00:49 \u001b[1m\u001b[34m21-pdb_structures\u001b[m\u001b[m\r\n",
        "-rw-r--r--   1 root      staff  3201368 Aug 26 08:40 ch10.ipynb\r\n",
        "-rw-r--r--   1 root      staff    59324 Aug 26 17:10 ch12.ipynb\r\n",
        "-rw-r--r--   1 root      staff    31242 Aug 26 17:31 ch15.ipynb\r\n",
        "drwxr-xr-x  12 re4lfl0w  staff      408 Aug 26 17:15 \u001b[1m\u001b[34mimages\u001b[m\u001b[m\r\n",
        "-rw-r--r--   1 root      staff      331 Aug 25 09:35 test_my_range.py\r\n",
        "-rw-r--r--   1 re4lfl0w  staff      747 Aug 25 05:09 test_my_range.pyc\r\n",
        "drwxr-xr-x   6 re4lfl0w  staff      204 Aug 26 17:31 \u001b[1m\u001b[34mtmp\u001b[m\u001b[m\r\n",
        "drwxr-xr-x   6 root      staff      204 Aug 26 17:31 \u001b[1m\u001b[34mtmp2\u001b[m\u001b[m\r\n"
       ]
      }
     ],
     "prompt_number": 20
    },
    {
     "cell_type": "markdown",
     "metadata": {},
     "source": [
      "### Example 15.2 Creating Your Own Package\n",
      "\n",
      "- package: folder \uac1c\ub150\n",
      "- group\uc744 \ub9cc\ub4e4\uc5b4\uc11c package\ub85c \ub9cc\ub4e4\ub824\uba74 \uac19\uc740 \uc704\uce58\uc5d0 \uc788\uc73c\uba74 \ub41c\ub2e4.\n",
      "- \ub610\ud55c \uac01 \uc11c\ube0c \ub514\ub809\ud1a0\ub9ac\uc5d0 \\_\\_init\\_\\_.py \uc744 \ucd94\uac00\ud574\uc918\uc57c \ud55c\ub2e4. init.py\ub294 empty \ud30c\uc77c\uc774\uba74 \ub41c\ub2e4.\n",
      "\n"
     ]
    },
    {
     "cell_type": "code",
     "collapsed": false,
     "input": [
      "# \ub514\ub809\ud1a0\ub9ac\ub3c4 import \ud560 \uc218 \uc788\ub2e4.\n",
      "import tmp2"
     ],
     "language": "python",
     "metadata": {},
     "outputs": [],
     "prompt_number": 22
    },
    {
     "cell_type": "code",
     "collapsed": false,
     "input": [
      "from tmp2 import neuron_count"
     ],
     "language": "python",
     "metadata": {},
     "outputs": [],
     "prompt_number": 25
    },
    {
     "cell_type": "code",
     "collapsed": false,
     "input": [
      "from tmp2.shrink_images import *"
     ],
     "language": "python",
     "metadata": {},
     "outputs": [],
     "prompt_number": 26
    },
    {
     "cell_type": "code",
     "collapsed": false,
     "input": [
      "!ls -l /Library/Python/2.7/site-packages/ | grep __init__.py"
     ],
     "language": "python",
     "metadata": {},
     "outputs": [],
     "prompt_number": 29
    },
    {
     "cell_type": "code",
     "collapsed": false,
     "input": [
      "!ls -l /Library/Python/2.7/site-packages/sklearn | grep __init__.py"
     ],
     "language": "python",
     "metadata": {},
     "outputs": [
      {
       "output_type": "stream",
       "stream": "stdout",
       "text": [
        "-rw-r--r--   1 root  wheel    2805 Dec 14  2013 __init__.py\r\n",
        "-rw-r--r--   1 root  wheel    2821 Dec 14  2013 __init__.pyc\r\n"
       ]
      }
     ],
     "prompt_number": 30
    },
    {
     "cell_type": "markdown",
     "metadata": {},
     "source": [
      "#### \\_\\_init\\_\\_.py \uc874\uc7ac\n",
      "\n",
      "- site-packages\uc5d0\uc11c\ub3c4 \uc774\ub807\uac8c \ud65c\uc6a9\ud558\uace0 \uc788\ub2e4."
     ]
    },
    {
     "cell_type": "markdown",
     "metadata": {},
     "source": [
      "#### Q&A: What does python do if modules import each other in a circular manner?\n",
      "\n",
      "- A imports B\n",
      "- B imports C\n",
      "- C imports A again\n",
      "- \ubcf5\uc7a1\ud55c \uac83\uc774 \ubb38\uc81c\uac00 \ub420 \uc218 \uc788\uc73c\ub2c8, \ube44\uc21c\ud658 \uadf8\ub798\ud504\ub97c \uadf8\ub9ac\uace0 \uba85\ud655\ud558\uac8c \uacc4\uce35 \uad6c\uc870\ub97c \ubcf4\uc5ec\uc900\ub2e4.\n",
      "- [Design Patterns](http://sourcemaking.com/)"
     ]
    },
    {
     "cell_type": "markdown",
     "metadata": {},
     "source": [
      "## 15.5 Testing yourself\n",
      "\n",
      "### Exercise 15.1 Data Types\n",
      "\n",
      "### Exercise 15.2 Prediction of Transmembrane Helices\n",
      "\n",
      "### Exercise 15.3 Create a Scaffolding\n",
      "\n",
      "### Exercise 15.4 Implement the Program\n",
      "\n",
      "### Exercise 15.5 Run pylint"
     ]
    },
    {
     "cell_type": "code",
     "collapsed": false,
     "input": [],
     "language": "python",
     "metadata": {},
     "outputs": []
    }
   ],
   "metadata": {}
  }
 ]
}