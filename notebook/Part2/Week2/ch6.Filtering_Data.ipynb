{
 "metadata": {
  "name": "",
  "signature": "sha256:4aa7c2f3133a2d806b67fc80fb54698500f63bec3bfd36fa2c1c72299700653b"
 },
 "nbformat": 3,
 "nbformat_minor": 0,
 "worksheets": [
  {
   "cells": [
    {
     "cell_type": "heading",
     "level": 1,
     "metadata": {},
     "source": [
      "6.1 In this Chapter you will lerarn.."
     ]
    },
    {
     "cell_type": "markdown",
     "metadata": {},
     "source": [
      "1. \ub450 \uac1c \uc774\uc0c1\uc758 data sets\uc5d0\uc11c common items\uc744 \ucc3e\ub294 \ubc29\ubc95\n",
      "2. data sets\uc744 merge\ud558\ub294 \ubc29\ubc95\n",
      "3. data sets\uc5d0\uc11c duplicates\ub97c \uc81c\uac70\ud558\ub294 \ubc29\ubc95\n",
      "4. set data structure\uc5d0\uc11c data set overlaps, intersections, differneces\ub97c \ucc3e\ub294 \ubc29\ubc95\n",
      "5. NGS raw data\uc5d0\uc11c noise\ub97c \uc81c\uac70\ud558\ub294 \ubc29\ubc95"
     ]
    },
    {
     "cell_type": "heading",
     "level": 1,
     "metadata": {},
     "source": [
      "6.2 Story : Working with RNA-seq Output Data"
     ]
    },
    {
     "cell_type": "heading",
     "level": 2,
     "metadata": {},
     "source": [
      "6.2.1 Problem Description"
     ]
    },
    {
     "cell_type": "markdown",
     "metadata": {},
     "source": [
      "- NGS\ub85c RNA-seq\uc744 \ub3cc\ub9b0 \ud6c4, Cuffcompare tool\ub85c \ubd84\uc11d\ud558\uc5ec \ub098\uc624\ub294 output : transcripts.tracking \uc608\uc81c, 3\uac1c\uc758 sample,q1,q2,q3)\n",
      "- The output file(transcripts.tracking) consists of a matrix table \n",
      " 1. each row corresponds to a single transcript \n",
      " 2. the (tap-seperated) columns contain information about different sampels. \n",
      " \n",
      " \ud558\ub098\uc758 transcript\ub97c \uc608\ub85c\ubcf4\uba74.."
     ]
    },
    {
     "cell_type": "markdown",
     "metadata": {},
     "source": [
      "\n",
      "\n",
      "q1:NSC.P419.228 | uc007afh.1 | 100 | 35.109496 | 34.188903 | 36. 030089 | 397.404732 | 2433 \n",
      "\n",
      "1. q1 : sample label\n",
      "1. NSC.P419.228 : transcript ID \n",
      "2. uc007afh.1 : gene ID \n",
      "3. 100 : FMI (fraction of the major isoform)\n",
      "4. 35.109496 : FPKM (expression mean value) \n",
      "5. 34.188903 : min expression values \n",
      "6. 36.030089 : max expression values \n",
      "7. 397.404732 : transcript coverage \n",
      "8. 2433 : transcript length  \n"
     ]
    },
    {
     "cell_type": "heading",
     "level": 2,
     "metadata": {},
     "source": [
      "6.2.2 Example Python Session"
     ]
    },
    {
     "cell_type": "markdown",
     "metadata": {},
     "source": [
      "3\uac1c\uc758 sample\ub85c RNA-seq\uc744 \ub3cc\ub838\uc744\ub54c, \ubaa8\ub4e0 transcript\uc5d0\uc11c FPKM\uac12\uc774 \uc5bb\uc5b4\uc9c0\ub294 \uac83\uc774 \uc544\ub2d9\ub2c8\ub2e4. \n",
      "\uadf8\ub798\uc11c, \ucd5c\uc18c 2\uac1c\uc774\uc0c1\uc758 FPKM\uac12\uc774 \uad6c\ud574\uc9c4 transcript\ub9cc \uc120\ud0dd\ud558\ub294 \uacfc\uc815\uc774 \ud544\uc694\ud569\ub2c8\ub2e4. "
     ]
    },
    {
     "cell_type": "code",
     "collapsed": false,
     "input": [
      "tracking = open('transcripts.tracking','r')\n",
      "out_file = open('transcripts-filtered.tracking','w')\n",
      "for track in tracking:\n",
      "    # split tab-separated columns\n",
      "    columns = track.strip().split('\\t')\n",
      "    wildtype = columns[4:7].count('-')\n",
      "    treatment = columns[7:10].count('-')\n",
      "    if wildtype < 2 and treatment < 2:\n",
      "        out_file.write(track)\n",
      "tracking.close()\n",
      "out_file.close()"
     ],
     "language": "python",
     "metadata": {},
     "outputs": [],
     "prompt_number": 11
    },
    {
     "cell_type": "heading",
     "level": 1,
     "metadata": {},
     "source": [
      "6.3 What do the commands mean?"
     ]
    },
    {
     "cell_type": "heading",
     "level": 2,
     "metadata": {},
     "source": [
      "6.3.1 Filtering with a Simple for...if Combination"
     ]
    },
    {
     "cell_type": "code",
     "collapsed": false,
     "input": [
      "output_file = open('transcripts-filtered_2.tracking', 'w')\n",
      "\n",
      "for track in open('transcripts.tracking'):\n",
      "    columns = track.strip().split('\\t')\n",
      "    wt = 0\n",
      "    t = 0\n",
      "    if columns[4] != '-': wt += 1\n",
      "    if columns[5] != '-': wt += 1\n",
      "    if columns[6] != '-': wt += 1\n",
      "    if wt > 1 :\n",
      "        output_file.write(track)\n",
      "\n",
      "output_file.close()"
     ],
     "language": "python",
     "metadata": {},
     "outputs": [],
     "prompt_number": 2
    },
    {
     "cell_type": "markdown",
     "metadata": {},
     "source": [
      "The same result could be achieved with a more explicit code, replacing the count() function with a series of if statements"
     ]
    },
    {
     "cell_type": "heading",
     "level": 2,
     "metadata": {},
     "source": [
      "6.3.2 Combining Two Data Set"
     ]
    },
    {
     "cell_type": "markdown",
     "metadata": {},
     "source": [
      "\ub450 data set\uc5d0\uc11c \uad50\uc9d1\ud569 \uad6c\ud558\uae30"
     ]
    },
    {
     "cell_type": "code",
     "collapsed": false,
     "input": [
      "data_a = [1,2,3,4,5,6]\n",
      "data_b = [1,5,7,8,9]\n",
      "a_and_b = []\n",
      "for num in data_a:\n",
      "    if num in data_b:\n",
      "        a_and_b.append(num)\n",
      "print(a_and_b)"
     ],
     "language": "python",
     "metadata": {},
     "outputs": [
      {
       "output_type": "stream",
       "stream": "stdout",
       "text": [
        "[1, 5]\n"
       ]
      }
     ],
     "prompt_number": 3
    },
    {
     "cell_type": "markdown",
     "metadata": {},
     "source": [
      "set\uc744 \uc774\uc6a9\ud558\uba74 intersection\uc744 \uc0ac\uc6a9\ud558\uc5ec \ub354 \uac04\ub2e8\ud788 \uad50\uc9d1\ud569\uc744 \uad6c\ud560 \uc218 \uc788\uc2b5\ub2c8\ub2e4. \ud558\uc9c0\ub9cc order lose"
     ]
    },
    {
     "cell_type": "code",
     "collapsed": false,
     "input": [
      "data_a = set([1,2,3,4,5,6])\n",
      "data_b = set([1,5,7,8,9])\n",
      "a_and_b = data_a.intersection(data_b)\n",
      "print(a_and_b)"
     ],
     "language": "python",
     "metadata": {},
     "outputs": [
      {
       "output_type": "stream",
       "stream": "stdout",
       "text": [
        "set([1, 5])\n"
       ]
      }
     ],
     "prompt_number": 4
    },
    {
     "cell_type": "heading",
     "level": 2,
     "metadata": {},
     "source": [
      "6.3.3 Differences between Two Data Sets"
     ]
    },
    {
     "cell_type": "markdown",
     "metadata": {},
     "source": [
      "\ub450 lists\uc5d0\uc11c \ub2e4\ub978 elements \uad6c\ud558\uae30"
     ]
    },
    {
     "cell_type": "code",
     "collapsed": false,
     "input": [
      "data_a = [1,2,3,4,5,6]\n",
      "data_b = [1,5,7,8,9]\n",
      "a_not_b = []\n",
      "b_not_a = []\n",
      "for num in data_a:\n",
      "    if num not in data_b:\n",
      "        a_not_b.append(num)\n",
      "for num in data_b:\n",
      "    if num not in data_a:\n",
      "        b_not_a.append(num)\n",
      "print(a_not_b, b_not_a)"
     ],
     "language": "python",
     "metadata": {},
     "outputs": [
      {
       "output_type": "stream",
       "stream": "stdout",
       "text": [
        "([2, 3, 4, 6], [7, 8, 9])\n"
       ]
      }
     ],
     "prompt_number": 7
    },
    {
     "cell_type": "code",
     "collapsed": false,
     "input": [
      "data_a = set([1,2,3,4,5,6])\n",
      "data_b = set([1,5,7,8,9])\n",
      "a_not_b = data_a.difference(data_b)\n",
      "b_not_a = data_b.difference(data_a)\n",
      "print(a_not_b, b_not_a)"
     ],
     "language": "python",
     "metadata": {},
     "outputs": [
      {
       "output_type": "stream",
       "stream": "stdout",
       "text": [
        "(set([2, 3, 4, 6]), set([8, 9, 7]))\n"
       ]
      }
     ],
     "prompt_number": 27
    },
    {
     "cell_type": "markdown",
     "metadata": {},
     "source": [
      "set\uc744 \uc0ac\uc6a9\ud588\uae30 \ub54c\ubb38\uc5d0, code\ub294 \ub354 \uac04\ub2e8\ud574 \uc84c\uc9c0\ub9cc, order\ub97c \uc783\uc5b4\uc11c call\ud560 \uc218 \uc5c6\uc2b5\ub2c8\ub2e4. "
     ]
    },
    {
     "cell_type": "code",
     "collapsed": false,
     "input": [
      "data_a(1)"
     ],
     "language": "python",
     "metadata": {},
     "outputs": [
      {
       "ename": "TypeError",
       "evalue": "'set' object is not callable",
       "output_type": "pyerr",
       "traceback": [
        "\u001b[1;31m---------------------------------------------------------------------------\u001b[0m\n\u001b[1;31mTypeError\u001b[0m                                 Traceback (most recent call last)",
        "\u001b[1;32m<ipython-input-28-c63564000f02>\u001b[0m in \u001b[0;36m<module>\u001b[1;34m()\u001b[0m\n\u001b[1;32m----> 1\u001b[1;33m \u001b[0mdata_a\u001b[0m\u001b[1;33m(\u001b[0m\u001b[1;36m1\u001b[0m\u001b[1;33m)\u001b[0m\u001b[1;33m\u001b[0m\u001b[0m\n\u001b[0m",
        "\u001b[1;31mTypeError\u001b[0m: 'set' object is not callable"
       ]
      }
     ],
     "prompt_number": 28
    },
    {
     "cell_type": "heading",
     "level": 2,
     "metadata": {},
     "source": [
      "6.3.4 Removing from Lists, Dictionaries, and Files"
     ]
    },
    {
     "cell_type": "heading",
     "level": 3,
     "metadata": {},
     "source": [
      "- Removing Elements from Lists"
     ]
    },
    {
     "cell_type": "markdown",
     "metadata": {},
     "source": [
      "pop()\uc740 \uadf8\uac83\uc744 \uc9c0\uc6b0\uae30 \uc804\uc5d0 elements\uc758 \uac12\uc744 \uac00\uc838\uc635\ub2c8\ub2e4. \uadf8\ub9ac\uace0 data\ub294 \ud574\ub2f9 elements\ub294 \uc81c\uac70\ub418\uc5b4 \uc788\uc2b5\ub2c8\ub2e4"
     ]
    },
    {
     "cell_type": "code",
     "collapsed": false,
     "input": [
      "data = [1,2,3,6,2,3,5,7]\n",
      "data.pop(3)"
     ],
     "language": "python",
     "metadata": {},
     "outputs": [
      {
       "metadata": {},
       "output_type": "pyout",
       "prompt_number": 8,
       "text": [
        "6"
       ]
      }
     ],
     "prompt_number": 8
    },
    {
     "cell_type": "code",
     "collapsed": false,
     "input": [
      "data"
     ],
     "language": "python",
     "metadata": {},
     "outputs": [
      {
       "metadata": {},
       "output_type": "pyout",
       "prompt_number": 9,
       "text": [
        "[1, 2, 3, 2, 3, 5, 7]"
       ]
      }
     ],
     "prompt_number": 9
    },
    {
     "cell_type": "markdown",
     "metadata": {},
     "source": [
      "slicing\uc73c\ub85c\ub3c4 \ud2b9\uc815 \uc704\uce58\uc758 \uac12\uc744 \uc81c\uac70\ud560 \uc218 \uc788\uc2b5\ub2c8\ub2e4"
     ]
    },
    {
     "cell_type": "code",
     "collapsed": false,
     "input": [
      "data = [1,2,3,6,2,3,5,7]\n",
      "data2 = data[:3]+data[4:]\n",
      "data2"
     ],
     "language": "python",
     "metadata": {},
     "outputs": [
      {
       "metadata": {},
       "output_type": "pyout",
       "prompt_number": 42,
       "text": [
        "[1, 2, 3, 2, 3, 5, 7]"
       ]
      }
     ],
     "prompt_number": 42
    },
    {
     "cell_type": "markdown",
     "metadata": {},
     "source": [
      "\uc6d0\ud558\ub294 elements\uac00 \uc9c0\uc6cc\uc9c4 list\ub97c \uac00\uc9c0\uace0 \uc624\ub294 \uac83\uc740 del \ud568\uc218\uac00 \uc788\uc2b5\ub2c8\ub2e4"
     ]
    },
    {
     "cell_type": "code",
     "collapsed": false,
     "input": [
      "data = [1,2,3,6,2,3,5,7]\n",
      "del(data[0])\n",
      "data"
     ],
     "language": "python",
     "metadata": {},
     "outputs": [
      {
       "metadata": {},
       "output_type": "pyout",
       "prompt_number": 10,
       "text": [
        "[2, 3, 6, 2, 3, 5, 7]"
       ]
      }
     ],
     "prompt_number": 10
    },
    {
     "cell_type": "markdown",
     "metadata": {},
     "source": [
      "\ub9cc\uc57d, \ud2b9\uc815\ud55c \uac12\uc744 \uc81c\uac70\ud558\uace0 \uc2f6\ub2e4\uba74 remove \uba54\uc3d8\ub4dc\ub97c \uc4f0\uc2dc\uba74 \ub429\ub2c8\ub2e4. \uac00\uc7a5 \uc55e\uc5d0 \uc704\uce58\ud55c \uac12 \ud55c \uac1c\ub9cc \uc81c\uac70\ub429\ub2c8\ub2e4"
     ]
    },
    {
     "cell_type": "code",
     "collapsed": false,
     "input": [
      "data = [1,2,3,6,2,3,5,7]\n",
      "data.remove(3)\n",
      "print(data)"
     ],
     "language": "python",
     "metadata": {},
     "outputs": [
      {
       "output_type": "stream",
       "stream": "stdout",
       "text": [
        "[1, 2, 6, 2, 3, 5, 7]\n"
       ]
      }
     ],
     "prompt_number": 35
    },
    {
     "cell_type": "markdown",
     "metadata": {},
     "source": [
      "\ub9cc\uc57d, \ubaa8\ub4e0 3\uc744 \uc81c\uac70\ud558\uace0 \uc2f6\ub2e4\uba74, list \ub0b4\uc5d0 for if \ub97c\uc368\uc11c 3\uc774 \uc544\ub2cc\uac12\ub9cc \ubd88\ub7ec\ub0c5\ub2c8\ub2e4"
     ]
    },
    {
     "cell_type": "code",
     "collapsed": false,
     "input": [
      "data = [1,2,3,6,2,3,5,7]\n",
      "data = [x for x in data if x !=3]\n",
      "print(data)"
     ],
     "language": "python",
     "metadata": {},
     "outputs": [
      {
       "output_type": "stream",
       "stream": "stdout",
       "text": [
        "[1, 2, 6, 2, 5, 7]\n"
       ]
      }
     ],
     "prompt_number": 11
    },
    {
     "cell_type": "heading",
     "level": 3,
     "metadata": {},
     "source": [
      "- Removing Elements from Dictionaries"
     ]
    },
    {
     "cell_type": "markdown",
     "metadata": {},
     "source": [
      "dictionaries\uc5d0\uc11c\ub3c4 pop()\uc744 \uc4f8 \uc218 \uc788\uc2b5\ub2c8\ub2e4."
     ]
    },
    {
     "cell_type": "code",
     "collapsed": false,
     "input": [
      "d = {'a':1, 'b':2, 'c':3}\n",
      "d.pop('a')"
     ],
     "language": "python",
     "metadata": {},
     "outputs": [
      {
       "metadata": {},
       "output_type": "pyout",
       "prompt_number": 12,
       "text": [
        "1"
       ]
      }
     ],
     "prompt_number": 12
    },
    {
     "cell_type": "code",
     "collapsed": false,
     "input": [
      "d"
     ],
     "language": "python",
     "metadata": {},
     "outputs": [
      {
       "metadata": {},
       "output_type": "pyout",
       "prompt_number": 13,
       "text": [
        "{'b': 2, 'c': 3}"
       ]
      }
     ],
     "prompt_number": 13
    },
    {
     "cell_type": "markdown",
     "metadata": {},
     "source": [
      "\uadf8\ub7f0\ub370, list\uc5d0\uc11c  \uc37c\uc744\ub54c\uc640 \ub2e4\ub978\uc810\uc740 arguments \uc5c6\uc774 pop\uc744 \uc0ac\uc6a9\ud560 \uc218 \uc5c6\ub2e4\ub294 \uac83\uc785\ub2c8\ub2e4. "
     ]
    },
    {
     "cell_type": "code",
     "collapsed": false,
     "input": [
      "d.pop()"
     ],
     "language": "python",
     "metadata": {},
     "outputs": [
      {
       "ename": "TypeError",
       "evalue": "pop expected at least 1 arguments, got 0",
       "output_type": "pyerr",
       "traceback": [
        "\u001b[1;31m---------------------------------------------------------------------------\u001b[0m\n\u001b[1;31mTypeError\u001b[0m                                 Traceback (most recent call last)",
        "\u001b[1;32m<ipython-input-50-c3f74e487764>\u001b[0m in \u001b[0;36m<module>\u001b[1;34m()\u001b[0m\n\u001b[1;32m----> 1\u001b[1;33m \u001b[0md\u001b[0m\u001b[1;33m.\u001b[0m\u001b[0mpop\u001b[0m\u001b[1;33m(\u001b[0m\u001b[1;33m)\u001b[0m\u001b[1;33m\u001b[0m\u001b[0m\n\u001b[0m",
        "\u001b[1;31mTypeError\u001b[0m: pop expected at least 1 arguments, got 0"
       ]
      }
     ],
     "prompt_number": 50
    },
    {
     "cell_type": "markdown",
     "metadata": {},
     "source": [
      "list\uc5d0\uc11c\ub294 arguments\uc5c6\uc774 pop\uc744 \uc4f0\uba74, 0\uc73c\ub85c \uc778\uc2dd\ud558\uc5ec \uac00\uc7a5 \uccab \uc22b\uc790\ub97c \uc81c\uac70\ud569\ub2c8\ub2e4"
     ]
    },
    {
     "cell_type": "code",
     "collapsed": false,
     "input": [
      "data = [1,2,3,6,2,3,5,7]\n",
      "data.pop(0)"
     ],
     "language": "python",
     "metadata": {},
     "outputs": [
      {
       "metadata": {},
       "output_type": "pyout",
       "prompt_number": 15,
       "text": [
        "1"
       ]
      }
     ],
     "prompt_number": 15
    },
    {
     "cell_type": "heading",
     "level": 3,
     "metadata": {},
     "source": [
      "- Deleting Particular Lines from a Text File"
     ]
    },
    {
     "cell_type": "markdown",
     "metadata": {},
     "source": [
      "text file\uc5d0 \ud2b9\uc815 line\uc744 filtering\ud558\ub294 \ubc29\ubc95\uc785\ub2c8\ub2e4. "
     ]
    },
    {
     "cell_type": "code",
     "collapsed": false,
     "input": [
      "lines = open('text.txt').readlines()\n",
      "open('new.txt','w').writelines(lines[2:4]+lines[6:])"
     ],
     "language": "python",
     "metadata": {},
     "outputs": [],
     "prompt_number": 18
    },
    {
     "cell_type": "heading",
     "level": 2,
     "metadata": {},
     "source": [
      "6.3.5 Removing Duplicates Preserving and Not Preserving Order"
     ]
    },
    {
     "cell_type": "heading",
     "level": 3,
     "metadata": {},
     "source": [
      "- Selectively Remoce Duplicate Records from a Text File Preserving Order"
     ]
    },
    {
     "cell_type": "code",
     "collapsed": false,
     "input": [
      "input_file = open('UniprotID.txt')\n",
      "output_file = open('UniprotID_unique.txt','w')\n",
      "unique = []\n",
      "for line in input_file:\n",
      "    if line not in unique:\n",
      "        output_file.write(line)\n",
      "        unique.append(line)\n",
      "output_file.close()"
     ],
     "language": "python",
     "metadata": {},
     "outputs": [],
     "prompt_number": 19
    },
    {
     "cell_type": "code",
     "collapsed": false,
     "input": [
      "a = open('UniprotID.txt')\n",
      "a.readlines()"
     ],
     "language": "python",
     "metadata": {},
     "outputs": [
      {
       "metadata": {},
       "output_type": "pyout",
       "prompt_number": 24,
       "text": [
        "['P04637\\n',\n",
        " 'P02340\\n',\n",
        " 'P10361\\n',\n",
        " 'Q29537\\n',\n",
        " 'P04637\\n',\n",
        " 'P10361\\n',\n",
        " 'P10361\\n',\n",
        " 'P02340\\n']"
       ]
      }
     ],
     "prompt_number": 24
    },
    {
     "cell_type": "code",
     "collapsed": true,
     "input": [
      "b = open('UniprotID_unique.txt')\n",
      "b.readlines()"
     ],
     "language": "python",
     "metadata": {},
     "outputs": [
      {
       "metadata": {},
       "output_type": "pyout",
       "prompt_number": 25,
       "text": [
        "['P04637\\n', 'P02340\\n', 'P10361\\n', 'Q29537\\n']"
       ]
      }
     ],
     "prompt_number": 25
    },
    {
     "cell_type": "heading",
     "level": 3,
     "metadata": {},
     "source": [
      " - Selectively Remove Duplicate Records from a Text File w/o Preserving Order"
     ]
    },
    {
     "cell_type": "heading",
     "level": 4,
     "metadata": {},
     "source": [
      "\ub9cc\uc57d elements\uc758 \uc21c\uc11c\uac00 \uad00\uacc4\uc5c6\ub2e4\uba74, set\uc744 \uc4f0\uc154\uc11c \uac04\ub2e8\ud558\uac8c duplicate\ub97c \uc81c\uac70\ud560 \uc218 \uc788\uc2b5\ub2c8\ub2e4. "
     ]
    },
    {
     "cell_type": "code",
     "collapsed": false,
     "input": [
      "input_file = open('UniprotID.txt')\n",
      "output_file = open('UniprotID_unique_2.txt','w')\n",
      "unique = set(input_file)\n",
      "for line in unique:\n",
      "    output_file.write(line)\n",
      "    "
     ],
     "language": "python",
     "metadata": {},
     "outputs": [],
     "prompt_number": 90
    },
    {
     "cell_type": "code",
     "collapsed": false,
     "input": [
      "a = open('UniprotID_unique_2.txt')\n",
      "a.readlines()"
     ],
     "language": "python",
     "metadata": {},
     "outputs": [
      {
       "metadata": {},
       "output_type": "pyout",
       "prompt_number": 92,
       "text": [
        "['Q29537\\n', 'P04637\\n', 'P02340\\n', 'P10361\\n']"
       ]
      }
     ],
     "prompt_number": 92
    },
    {
     "cell_type": "heading",
     "level": 2,
     "metadata": {},
     "source": [
      "6.3.6 Sets"
     ]
    },
    {
     "cell_type": "heading",
     "level": 3,
     "metadata": {},
     "source": [
      "- Creating a Set"
     ]
    },
    {
     "cell_type": "markdown",
     "metadata": {},
     "source": [
      "set\uc740 unique elemets\uc758 \uc9d1\ud569\uc774\uae30 \ub54c\ubb38\uc5d0, \uc911\ubcf5\ub418\ub294 elements\ub4e4\uc740 \uc790\ub3d9\uc73c\ub85c \uc81c\uac70\ub41c\ucc44 set\uc774 \ub9cc\ub4e4\uc5b4\uc9d1\ub2c8\ub2e4. "
     ]
    },
    {
     "cell_type": "code",
     "collapsed": false,
     "input": [
      "set('MGSNKSKPKDASQ')"
     ],
     "language": "python",
     "metadata": {},
     "outputs": [
      {
       "metadata": {},
       "output_type": "pyout",
       "prompt_number": 98,
       "text": [
        "{'A', 'D', 'G', 'K', 'M', 'N', 'P', 'Q', 'S'}"
       ]
      }
     ],
     "prompt_number": 98
    },
    {
     "cell_type": "heading",
     "level": 3,
     "metadata": {},
     "source": [
      "- Methods of Sets"
     ]
    },
    {
     "cell_type": "code",
     "collapsed": false,
     "input": [
      "s1 = set([1,2,3])\n",
      "s1.add(4)\n",
      "s1"
     ],
     "language": "python",
     "metadata": {},
     "outputs": [
      {
       "metadata": {},
       "output_type": "pyout",
       "prompt_number": 27,
       "text": [
        "{1, 2, 3, 4}"
       ]
      }
     ],
     "prompt_number": 27
    },
    {
     "cell_type": "markdown",
     "metadata": {},
     "source": [
      " \ub2e8, \uc5ec\ub7ec elements\ub97c \ub123\uc744\ub54c\ub294, list\ud615\uc2dd\uc73c\ub85c \uc9d1\uc5b4 \ub123\uc5b4\uc57c \ud55c\ub2e4."
     ]
    },
    {
     "cell_type": "code",
     "collapsed": false,
     "input": [
      "s1.update([5,6,7])\n",
      "s1"
     ],
     "language": "python",
     "metadata": {},
     "outputs": [
      {
       "metadata": {},
       "output_type": "pyout",
       "prompt_number": 28,
       "text": [
        "{1, 2, 3, 4, 5, 6, 7}"
       ]
      }
     ],
     "prompt_number": 28
    },
    {
     "cell_type": "heading",
     "level": 3,
     "metadata": {},
     "source": [
      "- Checking Set Membership"
     ]
    },
    {
     "cell_type": "code",
     "collapsed": false,
     "input": [
      "print(5 in s1, 9 in s1)"
     ],
     "language": "python",
     "metadata": {},
     "outputs": [
      {
       "output_type": "stream",
       "stream": "stdout",
       "text": [
        "(True, False)\n"
       ]
      }
     ],
     "prompt_number": 29
    },
    {
     "cell_type": "heading",
     "level": 3,
     "metadata": {},
     "source": [
      "- Use Sets Determine Data Overlap/Differences"
     ]
    },
    {
     "cell_type": "heading",
     "level": 4,
     "metadata": {},
     "source": [
      "a) \ud569\uc9d1\ud569 \uad6c\ud558\uae30"
     ]
    },
    {
     "cell_type": "code",
     "collapsed": false,
     "input": [
      "s1 = set(['a','b','c'])\n",
      "s2 = set(['c','d','e'])\n",
      "s1.union(s2)"
     ],
     "language": "python",
     "metadata": {},
     "outputs": [
      {
       "metadata": {},
       "output_type": "pyout",
       "prompt_number": 2,
       "text": [
        "{'a', 'b', 'c', 'd', 'e'}"
       ]
      }
     ],
     "prompt_number": 2
    },
    {
     "cell_type": "heading",
     "level": 4,
     "metadata": {},
     "source": [
      "b) \uad50\uc9d1\ud569 \uad6c\ud558\uae30"
     ]
    },
    {
     "cell_type": "code",
     "collapsed": false,
     "input": [
      "s1.intersection(s2)"
     ],
     "language": "python",
     "metadata": {},
     "outputs": [
      {
       "metadata": {},
       "output_type": "pyout",
       "prompt_number": 4,
       "text": [
        "{'c'}"
       ]
      }
     ],
     "prompt_number": 4
    },
    {
     "cell_type": "heading",
     "level": 4,
     "metadata": {},
     "source": [
      "c) \uad50\uc9d1\ud569\uc744 \ube80 \ub098\uba38\uc9c0 \uad6c\ud558\uae30"
     ]
    },
    {
     "cell_type": "code",
     "collapsed": false,
     "input": [
      "s1.symmetric_difference(s2)"
     ],
     "language": "python",
     "metadata": {},
     "outputs": [
      {
       "metadata": {},
       "output_type": "pyout",
       "prompt_number": 9,
       "text": [
        "{'a', 'b', 'd', 'e'}"
       ]
      }
     ],
     "prompt_number": 9
    },
    {
     "cell_type": "heading",
     "level": 4,
     "metadata": {},
     "source": [
      "d) difference \uad6c\ud558\uae30"
     ]
    },
    {
     "cell_type": "code",
     "collapsed": false,
     "input": [
      "print(s1.difference(s2), s2.difference(s1))"
     ],
     "language": "python",
     "metadata": {},
     "outputs": [
      {
       "output_type": "stream",
       "stream": "stdout",
       "text": [
        "(set(['a', 'b']), set(['e', 'd']))\n"
       ]
      }
     ],
     "prompt_number": 11
    }
   ],
   "metadata": {}
  }
 ]
}