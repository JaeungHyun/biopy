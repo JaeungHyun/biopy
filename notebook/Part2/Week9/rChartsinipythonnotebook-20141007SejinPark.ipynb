{
 "metadata": {
  "name": "",
  "signature": "sha256:fd4f855f03ea93f49067d91482cb7d3b1b6a78bd82bf3ed68c0788159d976381"
 },
 "nbformat": 3,
 "nbformat_minor": 0,
 "worksheets": [
  {
   "cells": [
    {
     "cell_type": "raw",
     "metadata": {},
     "source": [
      "https://www.facebook.com/biospintalk\n",
      "\ubc14\uc774\uc624\uc2a4\ud540 - \ubc14\uc774\uc624 \ud30c\uc774\uc36c \uc2a4\ud130\ub514\n",
      "\ubc1c\ud45c\uc77c\uc790 : 2014.10.7\n",
      "\ubc1c\ud45c\uc790 : \ubc15\uc138\uc9c4"
     ]
    },
    {
     "cell_type": "code",
     "collapsed": false,
     "input": [
      "%load_ext rpy2.ipython"
     ],
     "language": "python",
     "metadata": {},
     "outputs": [],
     "prompt_number": 1
    },
    {
     "cell_type": "code",
     "collapsed": false,
     "input": [
      "require(devtools)\n",
      "install_github('ramnathv/rCharts')"
     ],
     "language": "python",
     "metadata": {},
     "outputs": []
    },
    {
     "cell_type": "code",
     "collapsed": false,
     "input": [
      "CRAN\uc5d0 \uc62c\ub77c\uc640\uc788\uc9c0 \uc54a\uace0 github\uc5d0 \uc788\ub294 \ud328\ud0a4\uc9c0\ub97c \uc124\uce58\ud558\uae30 \uc704\ud574\uc11c\ub294 \n",
      "devtools \ub77c\uc774\ube0c\ub7ec\ub9ac\uac00 \ud544\uc694\ud569\ub2c8\ub2e4."
     ],
     "language": "python",
     "metadata": {},
     "outputs": []
    },
    {
     "cell_type": "code",
     "collapsed": false,
     "input": [
      "http://www.rstudio.com/products/rpackages/devtools/"
     ],
     "language": "python",
     "metadata": {},
     "outputs": []
    },
    {
     "cell_type": "raw",
     "metadata": {},
     "source": [
      "devtools\ub97c \uc124\uce58\ud558\uae30\uc704\ud574\uc11c\ub294 \uc6b4\uc601\uccb4\uc81c\ub9c8\ub2e4 \ud544\uc694\ud55c \uc0ac\ud56d\ub4e4\uc774 \uc788\uc2b5\ub2c8\ub2e4."
     ]
    },
    {
     "cell_type": "heading",
     "level": 3,
     "metadata": {},
     "source": [
      "Windows"
     ]
    },
    {
     "cell_type": "raw",
     "metadata": {},
     "source": [
      "http://cran.r-project.org/bin/windows/Rtools/"
     ]
    },
    {
     "cell_type": "raw",
     "metadata": {},
     "source": [
      "Rtools\ub97c \uc790\uc2e0\uc758 R\ubc84\uc804\uc5d0 \ub9de\uac8c \uc124\uce58"
     ]
    },
    {
     "cell_type": "raw",
     "metadata": {},
     "source": [
      "R \uc5d0\uc11c\n",
      "require(devtools)\n",
      "install_github('ramnathv/rCharts')"
     ]
    },
    {
     "cell_type": "heading",
     "level": 1,
     "metadata": {},
     "source": [
      "rCharts"
     ]
    },
    {
     "cell_type": "markdown",
     "metadata": {},
     "source": [
      "https://github.com/ramnathv/rCharts"
     ]
    },
    {
     "cell_type": "code",
     "collapsed": false,
     "input": [
      "%%R\n",
      "library(rCharts)\n",
      "hair_eye_male = subset(as.data.frame(HairEyeColor), Sex == \"Male\")\n",
      "n1 <- nPlot(Freq ~ Hair, group = 'Eye',\n",
      "data = hair_eye_male, type = 'multiBarChart'\n",
      "           )\n",
      "n1$set(width = 600)\n"
     ],
     "language": "python",
     "metadata": {},
     "outputs": [],
     "prompt_number": 2
    },
    {
     "cell_type": "code",
     "collapsed": false,
     "input": [
      "%%R\n",
      "\n",
      "library(\"knitr\")\n",
      "opts_chunk$set(comment = NA, results = \"asis\", comment = NA, tidy = F)"
     ],
     "language": "python",
     "metadata": {},
     "outputs": [],
     "prompt_number": 3
    },
    {
     "cell_type": "code",
     "collapsed": false,
     "input": [
      "%%R\n",
      "\n",
      "n1$save('rChart_bar.html',cdn=TRUE)"
     ],
     "language": "python",
     "metadata": {},
     "outputs": [],
     "prompt_number": 5
    },
    {
     "cell_type": "code",
     "collapsed": false,
     "input": [
      "ls *html"
     ],
     "language": "python",
     "metadata": {},
     "outputs": [
      {
       "output_type": "stream",
       "stream": "stdout",
       "text": [
        "rChart_bar.html\r\n"
       ]
      }
     ],
     "prompt_number": 6
    },
    {
     "cell_type": "code",
     "collapsed": false,
     "input": [
      "def display_rchart(filename):\n",
      "  from IPython.display import display, HTML, Javascript\n",
      "  display(HTML(\"<iframe src=./\" + filename + \" width=850 height=430 seamless></iframe>\"))"
     ],
     "language": "python",
     "metadata": {},
     "outputs": [],
     "prompt_number": 7
    },
    {
     "cell_type": "code",
     "collapsed": false,
     "input": [
      "display_rchart('./rChart_bar.html')"
     ],
     "language": "python",
     "metadata": {},
     "outputs": [
      {
       "html": [
        "<iframe src=././rChart_bar.html width=850 height=430 seamless></iframe>"
       ],
       "metadata": {},
       "output_type": "display_data",
       "text": [
        "<IPython.core.display.HTML at 0x369f9d0>"
       ]
      }
     ],
     "prompt_number": 8
    },
    {
     "cell_type": "code",
     "collapsed": false,
     "input": [],
     "language": "python",
     "metadata": {},
     "outputs": []
    }
   ],
   "metadata": {}
  }
 ]
}