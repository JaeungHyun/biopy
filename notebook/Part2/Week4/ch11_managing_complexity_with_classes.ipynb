{
 "metadata": {
  "name": "ch11_managing_complexity_with_classes.ipynb",
  "signature": "sha256:f262d03f3afbe1755e0101fa936d4d5d678448bef2c0d3953347fe46ca772bc8"
 },
 "nbformat": 3,
 "nbformat_minor": 0,
 "worksheets": [
  {
   "cells": [
    {
     "cell_type": "markdown",
     "metadata": {},
     "source": [
      "#Chapter 11. Managing Complexity with Classes"
     ]
    },
    {
     "cell_type": "markdown",
     "metadata": {},
     "source": [
      "###11.1 In this chapter you will learn\n",
      "    - How to represent complex things by a Python class\n",
      "    - How to create objects from a class\n",
      "    - How to use a class as a data container\n",
      "    - How to define methods for classes\n",
      "    - How to print objects using the __repr__ class method\n",
      "    - How to build complex structures involving more than one class\n",
      "    \n",
      "    > Class\ub780 \ud568\uc218\ub098 \ubcc0\uc218 \ub4f1\uc744 \ud3ec\ud568\ud558\uace0 \uc788\ub294 \uc9d1\ud569\uccb4\ub97c \uc758\ubbf8\ud558\uba70, \uc774\ub294 \uc77c\ubc18 \ud568\uc218\uc640\ub294 \ub2ec\ub9ac \ub2e4\uc591\ud55c \uc6a9\ub3c4\ub85c \uc0ac\uc6a9 \uac00\ub2a5\ud558\ub2e4.\n",
      "    > Class\ub97c \uc774\uc6a9\ud558\uba74 \uc804\uc5ed\ubcc0\uc218\ub97c \uc4f8 \ud544\uc694\uac00 \uc5c6\ub2e4.\n",
      "    > Class\ub77c\ub294 \uc124\uacc4\ub3c4\ub97c \ud1b5\ud574 \ub9cc\ub4e4\uc5b4\uc9c4 Instance\ub77c\ub294 \uac83\uc744 \uc911\uc2ec\uc73c\ub85c \ud504\ub85c\uadf8\ub7a8\uc744 \uc791\uc131\ud560 \uc218 \uc788\uae30 \ub54c\ubb38\uc5d0 \uac1d\uccb4\uc911\uc2ec\uc758 \ub3c5\ub9bd\uc801\uc778\n",
      "      \ud504\ub85c\uadf8\ub7a8\ubc0d\uc774 \uac00\ub2a5\ud558\ub2e4.   "
     ]
    },
    {
     "cell_type": "markdown",
     "metadata": {},
     "source": [
      "###11.2 STORY: MENDELIAN INHERITANCE"
     ]
    },
    {
     "cell_type": "code",
     "collapsed": false,
     "input": [
      "# Example of Gregor Mendel Experiment\n",
      "\n",
      "class Pea:\n",
      "    def __init__(self, genotype):\n",
      "        self.genotype = genotype\n",
      "    \n",
      "    def get_phenotype(self):\n",
      "        if \"G\" in self.genotype:\n",
      "            return \"yellow\"\n",
      "        else:\n",
      "            return \"green\"\n",
      "        \n",
      "    def create_offspring(self, other):\n",
      "        offspring = []\n",
      "        new_genotype = \"\"\n",
      "        for haplo1 in self.genotype:\n",
      "            for haplo2 in other.genotype:\n",
      "                new_genotype = haplo1 + haplo2\n",
      "                offspring.append(Pea(new_genotype))\n",
      "        return offspring\n",
      "    \n",
      "    def __repr__(self):\n",
      "        return self.get_phenotype() + ' [%s]' % self.genotype\n",
      "    "
     ],
     "language": "python",
     "metadata": {},
     "outputs": [],
     "prompt_number": 84
    },
    {
     "cell_type": "code",
     "collapsed": false,
     "input": [
      "yellow = Pea(\"GG\")\n",
      "green = Pea(\"gg\")\n",
      "f1 = yellow.create_offspring(green)\n",
      "f2 = f1[0].create_offspring(f1[1])\n",
      "print f1\n",
      "print f2"
     ],
     "language": "python",
     "metadata": {},
     "outputs": [
      {
       "output_type": "stream",
       "stream": "stdout",
       "text": [
        "[yellow [Gg], yellow [Gg], yellow [Gg], yellow [Gg]]\n",
        "[yellow [GG], yellow [Gg], yellow [gG], green [gg]]\n"
       ]
      }
     ],
     "prompt_number": 17
    },
    {
     "cell_type": "markdown",
     "metadata": {},
     "source": [
      "###11.3 WHAT DO THE COMMANDS MEAN?"
     ]
    },
    {
     "cell_type": "code",
     "collapsed": false,
     "input": [
      "# 11.3.1 Classes are used to create Instances\n",
      "\n",
      "# Defining a Class & Creating Instance\n",
      "# Class: \ud568\uc218\ub098 \ubcc0\uc218\ub4e4\uc744 \ubaa8\uc544\ub193\uc740 \uc9d1\ud569\uccb4, Class\ub97c \uc5b4\ub5bb\uac8c \uc124\uacc4\ud558\uace0 \uad00\uacc4\ub97c \uc5b4\ub5bb\uac8c \uc124\uc815\ud558\ub294\uc9c0\uc5d0 \ub530\ub77c \ubcf5\uc7a1\ud55c\uac83\uc744\n",
      "#        \uac04\ub2e8\ud558\uac8c \ud45c\ud604\ud560 \uc218 \uc788\ub2e4.\n",
      "# Instance: Class\uc5d0 \uc758\ud574\uc11c \ub9cc\ub4e4\uc5b4\uc9c4 \uac1d\uccb4(Objects)\ub85c, \ud55c\uac1c\uc758 Class\ub294 \ubb34\uc218\ud788 \ub9ce\uc740 Instances\ub9cc\ub4e4 \uc218 \uc788\ub2e4\n",
      "\n",
      "class Pea1:\n",
      "    Description = \"It is Algorism of the monk Gregor Mendel Experiment, using Python 'Class'.\""
     ],
     "language": "python",
     "metadata": {},
     "outputs": [],
     "prompt_number": 1
    },
    {
     "cell_type": "code",
     "collapsed": false,
     "input": [
      "A = Pea1()\n",
      "print A.Description\n",
      "type(A)"
     ],
     "language": "python",
     "metadata": {},
     "outputs": [
      {
       "output_type": "stream",
       "stream": "stdout",
       "text": [
        "It is Algorism of the monk Gregor Mendel Experiment, using Python 'Class'.\n"
       ]
      },
      {
       "metadata": {},
       "output_type": "pyout",
       "prompt_number": 72,
       "text": [
        "instance"
       ]
      }
     ],
     "prompt_number": 72
    },
    {
     "cell_type": "code",
     "collapsed": false,
     "input": [
      "# 11.3.3 Classes contain Methods\n",
      "class Pea2:\n",
      "    Description = \"It is Algorism of the monk Gregor Mendel Experiment, using Python 'Class'.\"\n",
      "    def set_genotype(self, genotype):\n",
      "        self.genotype = genotype\n",
      "    def sum(self, a, b):\n",
      "        result = a + b\n",
      "        print(\"%s, %s + %s = %s.\" %(self.genotype, a, b, result))\n",
      "    def get_phenotype(self):\n",
      "        if \"G\" in self.genotype:\n",
      "            return \"yellow\"\n",
      "        else:\n",
      "            return \"green\"\n"
     ],
     "language": "python",
     "metadata": {},
     "outputs": [],
     "prompt_number": 2
    },
    {
     "cell_type": "code",
     "collapsed": false,
     "input": [
      "yellow = Pea2()\n",
      "yellow.set_genotype(\"GG\")\n",
      "yellow.sum(4,6)\n",
      "print yellow.get_phenotype()\n",
      "\n",
      "#error\n",
      "green = Pea2()\n",
      "green.sum(6,4)\n",
      "print green.get_phenotype()"
     ],
     "language": "python",
     "metadata": {},
     "outputs": [
      {
       "ename": "AttributeError",
       "evalue": "Pea2 instance has no attribute 'genotype'",
       "output_type": "pyerr",
       "traceback": [
        "\u001b[1;31m---------------------------------------------------------------------------\u001b[0m\n\u001b[1;31mAttributeError\u001b[0m                            Traceback (most recent call last)",
        "\u001b[1;32m<ipython-input-5-e9d088efe575>\u001b[0m in \u001b[0;36m<module>\u001b[1;34m()\u001b[0m\n\u001b[0;32m      6\u001b[0m \u001b[1;31m#error\u001b[0m\u001b[1;33m\u001b[0m\u001b[1;33m\u001b[0m\u001b[0m\n\u001b[0;32m      7\u001b[0m \u001b[0mgreen\u001b[0m \u001b[1;33m=\u001b[0m \u001b[0mPea2\u001b[0m\u001b[1;33m(\u001b[0m\u001b[1;33m)\u001b[0m\u001b[1;33m\u001b[0m\u001b[0m\n\u001b[1;32m----> 8\u001b[1;33m \u001b[0mgreen\u001b[0m\u001b[1;33m.\u001b[0m\u001b[0msum\u001b[0m\u001b[1;33m(\u001b[0m\u001b[1;36m6\u001b[0m\u001b[1;33m,\u001b[0m\u001b[1;36m4\u001b[0m\u001b[1;33m)\u001b[0m\u001b[1;33m\u001b[0m\u001b[0m\n\u001b[0m\u001b[0;32m      9\u001b[0m \u001b[1;32mprint\u001b[0m \u001b[0mgreen\u001b[0m\u001b[1;33m.\u001b[0m\u001b[0mget_phenotype\u001b[0m\u001b[1;33m(\u001b[0m\u001b[1;33m)\u001b[0m\u001b[1;33m\u001b[0m\u001b[0m\n",
        "\u001b[1;32m<ipython-input-2-14959a1a609c>\u001b[0m in \u001b[0;36msum\u001b[1;34m(self, a, b)\u001b[0m\n\u001b[0;32m      6\u001b[0m     \u001b[1;32mdef\u001b[0m \u001b[0msum\u001b[0m\u001b[1;33m(\u001b[0m\u001b[0mself\u001b[0m\u001b[1;33m,\u001b[0m \u001b[0ma\u001b[0m\u001b[1;33m,\u001b[0m \u001b[0mb\u001b[0m\u001b[1;33m)\u001b[0m\u001b[1;33m:\u001b[0m\u001b[1;33m\u001b[0m\u001b[0m\n\u001b[0;32m      7\u001b[0m         \u001b[0mresult\u001b[0m \u001b[1;33m=\u001b[0m \u001b[0ma\u001b[0m \u001b[1;33m+\u001b[0m \u001b[0mb\u001b[0m\u001b[1;33m\u001b[0m\u001b[0m\n\u001b[1;32m----> 8\u001b[1;33m         \u001b[1;32mprint\u001b[0m\u001b[1;33m(\u001b[0m\u001b[1;34m\"%s, %s + %s = %s.\"\u001b[0m \u001b[1;33m%\u001b[0m\u001b[1;33m(\u001b[0m\u001b[0mself\u001b[0m\u001b[1;33m.\u001b[0m\u001b[0mgenotype\u001b[0m\u001b[1;33m,\u001b[0m \u001b[0ma\u001b[0m\u001b[1;33m,\u001b[0m \u001b[0mb\u001b[0m\u001b[1;33m,\u001b[0m \u001b[0mresult\u001b[0m\u001b[1;33m)\u001b[0m\u001b[1;33m)\u001b[0m\u001b[1;33m\u001b[0m\u001b[0m\n\u001b[0m\u001b[0;32m      9\u001b[0m     \u001b[1;32mdef\u001b[0m \u001b[0mget_phenotype\u001b[0m\u001b[1;33m(\u001b[0m\u001b[0mself\u001b[0m\u001b[1;33m)\u001b[0m\u001b[1;33m:\u001b[0m\u001b[1;33m\u001b[0m\u001b[0m\n\u001b[0;32m     10\u001b[0m         \u001b[1;32mif\u001b[0m \u001b[1;34m\"G\"\u001b[0m \u001b[1;32min\u001b[0m \u001b[0mself\u001b[0m\u001b[1;33m.\u001b[0m\u001b[0mgenotype\u001b[0m\u001b[1;33m:\u001b[0m\u001b[1;33m\u001b[0m\u001b[0m\n",
        "\u001b[1;31mAttributeError\u001b[0m: Pea2 instance has no attribute 'genotype'"
       ]
      },
      {
       "output_type": "stream",
       "stream": "stdout",
       "text": [
        "GG, 4 + 6 = 10.\n",
        "yellow\n"
       ]
      }
     ],
     "prompt_number": 5
    },
    {
     "cell_type": "code",
     "collapsed": false,
     "input": [
      "# The constructor __init__()\n",
      "# __init__: \uc704\uc5d0\uc11c set_genotype\uc774\ub780 \ud568\uc218\ub85c genotype\ub97c \uc9c0\uc815\ud574\uc8fc\uace0 phenotype\uc744 \uc54c\uc544 \ubcf4\uc558\ub2e4.\n",
      "#           \ud558\uc9c0\ub9cc, \ub9ce\uc740 \uc218\uc758 Instance\ub97c \uc0ac\uc6a9\ud560 \uacbd\uc6b0 set_genotype\uc744 \ubc18\ubcf5\uc801\uc73c\ub85c \uc0ac\uc6a9\ud574\uc57c \ud55c\ub2e4.\n",
      "#           \uc774\ub7ec\ud55c \ubd88\ud544\uc694\ud55c \ubd80\ubd84\uc744 \uc0dd\ub7b5\ud558\uae30 \uc704\ud574 Instance\ub97c \ub9cc\ub4dc\ub294 \uc21c\uac04 set_genotype\ud568\uc218\ub97c \uc790\uc6a9\uc73c\ub85c \uc2e4\ud589.\n",
      "class Pea3:\n",
      "    Description = \"It is Algorism of the monk Gregor Mendel Experiment, using Python 'Class'.\"\n",
      "    def __init__(self, genotype):\n",
      "        self.genotype = genotype\n",
      "    def sum(self, a, b):\n",
      "        result = a + b\n",
      "        print(\"%s, %s + %s = %s.\" %(self.genotype, a, b, result))\n",
      "    def get_phenotype(self):\n",
      "        if \"G\" in self.genotype:\n",
      "            return \"yellow\"\n",
      "        else:\n",
      "            return \"green\""
     ],
     "language": "python",
     "metadata": {},
     "outputs": [],
     "prompt_number": 47
    },
    {
     "cell_type": "code",
     "collapsed": false,
     "input": [
      "yellow = Pea3(\"GG\")\n",
      "yellow.sum(4,6)\n",
      "print yellow.get_phenotype()\n",
      "\n",
      "green = Pea3(\"gg\")\n",
      "green.sum(6,4)\n",
      "print green.get_phenotype()"
     ],
     "language": "python",
     "metadata": {},
     "outputs": [
      {
       "output_type": "stream",
       "stream": "stdout",
       "text": [
        "GG, 4 + 6 = 10.\n",
        "yellow\n",
        "gg, 6 + 4 = 10.\n",
        "green\n"
       ]
      }
     ],
     "prompt_number": 52
    },
    {
     "cell_type": "code",
     "collapsed": false,
     "input": [
      "# The parameter 'self'\n",
      "# self\ub294 \ud30c\uc774\uc36c\ub9cc\uc758 \ub3c5\ud2b9\ud55c \ubcc0\uc218, Class\ub0b4\uc758 \ud568\uc218\uc758 \uccab\ubc88\uc9f8 \uc778\uc790\ub294 \ubb34\uc870\uac74 'self'\ub85c \uc0ac\uc6a9\uc744 \ud574\uc57c Instance\uc758\n",
      "# \ud568\uc218\ub85c \uc0ac\uc6a9\ud560 \uc218 \uc788\ub2e4.\n",
      "\n",
      "class Add:\n",
      "    Description = \"This is addition machine.\"\n",
      "    def setdata(self, first, second):\n",
      "        self.first = first\n",
      "        self.second = second\n",
      "    def sum(self):\n",
      "        result = self.first + self.second\n",
      "        return result"
     ],
     "language": "python",
     "metadata": {},
     "outputs": [],
     "prompt_number": 78
    },
    {
     "cell_type": "code",
     "collapsed": false,
     "input": [
      "a = Add()\n",
      "a.setdata(7,8)\n",
      "# a\ub77c\ub294 instance\uac00 define\ub418\uace0 a.setdata(7,8)\uc744 \uc785\ub825\ud558\uba74 Add\ub77c\ub294 Class\uc758 setdata\ud568\uc218\uac00 \ud638\ucd9c\ub41c\ub2e4\n",
      "# setdata\ud568\uc218\uc758 \uccab \ubc88\uc9f8 \uc778\uc218\uc5d0\ub294 \uc790\ub3d9\uc73c\ub85c a\ub77c\ub294 Instance\uac00 \uc785\ub825\ub418\uae30 \ub54c\ubb38\uc5d0 setdata\uc5d0 \ub450\uac1c\uc758 \uac12\ub9cc \uc785\ub825\ud558\uba74\ub41c\ub2e4\n",
      "# self.first = first  ->  a.first = first  ->  a.first = 7\n",
      "# self.second = second  ->  a.second = second  ->  a.second = 8\n",
      "print(a.first)\n",
      "print(a.second)\n",
      "print(a.sum())\n",
      "# result = self.first + self.second  ->  result = a.first + a.second\n",
      "# a.first=7, a.second=8  ->  result = 7 + 8"
     ],
     "language": "python",
     "metadata": {},
     "outputs": [
      {
       "output_type": "stream",
       "stream": "stdout",
       "text": [
        "7\n",
        "8\n",
        "15\n"
       ]
      }
     ],
     "prompt_number": 80
    },
    {
     "cell_type": "code",
     "collapsed": false,
     "input": [
      "# 11.3.4 The __repr__Method makes Classes and Instances printable\n",
      "def __repr__(self):\n",
      "        return self.get_phenotype() + ' [%s]' % self.genotype\n",
      "\n",
      "# __repr__()\ub97c \uc0ac\uc6a9\ud558\ubbc0\ub85c\uc368, object\ub97c \uc880 \ub354 \uc758\ubbf8\uc788\uac8c print\ud560 \uc218 \uc788\ub2e4\n",
      "# Pea Instance\ub97c print\ud560\ub54c\ub9c8\ub2e4, __repr__\ub294 \uc790\ub3d9\uc801\uc73c\ub85c \uc2e4\ud589\ub41c\ub2e4\n",
      "# __repr__\ub294 \uc785\ub825\ud558\uc5ec \uacc4\uc0b0\ub41c data\ub97c \ud6a8\uacfc\uc801\uc778 \ud615\ud0dc\ub85c \ubcf4\uc5ec\uc8fc\ub294\ub370 \ub3c4\uc6c0\uc744 \uc900\ub2e4"
     ],
     "language": "python",
     "metadata": {},
     "outputs": [],
     "prompt_number": 83
    },
    {
     "cell_type": "markdown",
     "metadata": {},
     "source": [
      "### 11.4 EXAMPLES"
     ]
    },
    {
     "cell_type": "code",
     "collapsed": false,
     "input": [
      "# Example 11.2 Combining Two Classes\n",
      "class Pea:\n",
      "    def __init__(self, genotype):\n",
      "        self.genotype = genotype\n",
      "    \n",
      "    def get_phenotype(self):\n",
      "        if \"G\" in self.genotype:\n",
      "            return \"yellow\"\n",
      "        else:\n",
      "            return \"green\"\n",
      "        \n",
      "    def create_offspring(self, other):\n",
      "        offspring = []\n",
      "        new_genotype = \"\"\n",
      "        for haplo1 in self.genotype:\n",
      "            for haplo2 in other.genotype:\n",
      "                new_genotype = haplo1 + haplo2\n",
      "                offspring.append(Pea(new_genotype))\n",
      "        return offspring\n",
      "    \n",
      "    def __repr__(self):\n",
      "        return self.get_phenotype() + ' [%s]' % self.genotype\n",
      "    \n",
      "class PeaStrain:\n",
      "    def __init__(self, peas):\n",
      "        self.peas = peas\n",
      "    def __repr__(self):\n",
      "        return \"strain with %i peas\" %(len(self.peas))"
     ],
     "language": "python",
     "metadata": {},
     "outputs": [],
     "prompt_number": 86
    },
    {
     "cell_type": "code",
     "collapsed": false,
     "input": [
      "yellow = Pea(\"GG\")\n",
      "green = Pea(\"gg\")\n",
      "strain = PeaStrain([yellow, green])\n",
      "print strain"
     ],
     "language": "python",
     "metadata": {},
     "outputs": [
      {
       "output_type": "stream",
       "stream": "stdout",
       "text": [
        "strain with 2 peas\n"
       ]
      }
     ],
     "prompt_number": 87
    },
    {
     "cell_type": "code",
     "collapsed": false,
     "input": [
      "# Example 11.3 Creating Subclasses(Inheritance)\n",
      "# \uc0c8\ub85c\uc6b4 Class\ub97c \ub9cc\ub4e4\ub54c \ub9c8\ub2e4 \ub2e4\ub978 Class\uc758 \uae30\ub2a5\uc744 \uc0c1\uc18d \ubc1b\uc744 \uc218 \uc788\ub2e4\n",
      "class Pea:\n",
      "    def __init__(self, genotype):\n",
      "        self.genotype = genotype\n",
      "    \n",
      "    def get_phenotype(self):\n",
      "        if \"G\" in self.genotype:\n",
      "            return \"yellow\"\n",
      "        else:\n",
      "            return \"green\"\n",
      "        \n",
      "    def create_offspring(self, other):\n",
      "        offspring = []\n",
      "        new_genotype = \"\"\n",
      "        for haplo1 in self.genotype:\n",
      "            for haplo2 in other.genotype:\n",
      "                new_genotype = haplo1 + haplo2\n",
      "                offspring.append(Pea(new_genotype))\n",
      "        return offspring\n",
      "    \n",
      "    def __repr__(self):\n",
      "        return self.get_phenotype() + ' [%s]' % self.genotype\n",
      "\n",
      "class CommentedPea(Pea):\n",
      "    def __init__(self, genotype, comment):\n",
      "        Pea.__init__(self, genotype)\n",
      "        self.comment = comment\n",
      "    def __repr__(self):\n",
      "        return \"%s [%s] (%s)\" %(self.get_phenotype(), self.genotype, self.comment)"
     ],
     "language": "python",
     "metadata": {},
     "outputs": [],
     "prompt_number": 95
    },
    {
     "cell_type": "code",
     "collapsed": false,
     "input": [
      "yellow1 = CommentedPea(\"GG\", \"homozygote\")\n",
      "yellow2 = CommentedPea(\"Gg\", \"heterozygote\")\n",
      "print yellow1\n",
      "print yellow2"
     ],
     "language": "python",
     "metadata": {},
     "outputs": [
      {
       "output_type": "stream",
       "stream": "stdout",
       "text": [
        "yellow [GG] (homozygote)\n",
        "yellow [Gg] (heterozygote)\n"
       ]
      }
     ],
     "prompt_number": 96
    },
    {
     "cell_type": "code",
     "collapsed": false,
     "input": [],
     "language": "python",
     "metadata": {},
     "outputs": []
    },
    {
     "cell_type": "code",
     "collapsed": false,
     "input": [],
     "language": "python",
     "metadata": {},
     "outputs": []
    },
    {
     "cell_type": "code",
     "collapsed": false,
     "input": [],
     "language": "python",
     "metadata": {},
     "outputs": []
    },
    {
     "cell_type": "code",
     "collapsed": false,
     "input": [],
     "language": "python",
     "metadata": {},
     "outputs": []
    },
    {
     "cell_type": "code",
     "collapsed": false,
     "input": [],
     "language": "python",
     "metadata": {},
     "outputs": []
    },
    {
     "cell_type": "code",
     "collapsed": false,
     "input": [],
     "language": "python",
     "metadata": {},
     "outputs": []
    },
    {
     "cell_type": "code",
     "collapsed": false,
     "input": [],
     "language": "python",
     "metadata": {},
     "outputs": []
    },
    {
     "cell_type": "code",
     "collapsed": false,
     "input": [],
     "language": "python",
     "metadata": {},
     "outputs": []
    },
    {
     "cell_type": "code",
     "collapsed": false,
     "input": [],
     "language": "python",
     "metadata": {},
     "outputs": []
    }
   ],
   "metadata": {}
  }
 ]
}