{
 "metadata": {
  "name": "",
  "signature": "sha256:8a305ff11ba3047afd25fd20d05f09e7d5ad7865f879bf9b33b9e77f712ec1d4"
 },
 "nbformat": 3,
 "nbformat_minor": 0,
 "worksheets": [
  {
   "cells": [
    {
     "cell_type": "heading",
     "level": 1,
     "metadata": {},
     "source": [
      "Analyzing a Data Column"
     ]
    },
    {
     "cell_type": "markdown",
     "metadata": {},
     "source": []
    },
    {
     "cell_type": "code",
     "collapsed": false,
     "input": [
      "data = []\n",
      "for line in open('neuron_data.txt'):\n",
      "    length = float(line.strip())\n",
      "    data.append(length)\n",
      "    \n",
      "n_item = len(data)\n",
      "total = sum(data)\n",
      "shortest = min(data)\n",
      "longest = max(data)\n",
      "\n",
      "data.sort()\n",
      "\n",
      "output = open(\"results.txt\",\"w\")\n",
      "output.write(\"number of dendritic length  : %4i \\n\"%(n_item))\n",
      "output.write(\"total dendritic length      : %6.1f \\n\"%(total))\n",
      "output.write(\"shortest dendritic length   : %7.2f \\n\"%(shortest))\n",
      "output.write(\"longets dendritic length    : %7.2f \\n\"%(longest))\n",
      "output.write(\"%37.2f\\n%37.2f\"%(data[-2],data[-3]))\n",
      "output.close()\n"
     ],
     "language": "python",
     "metadata": {},
     "outputs": [],
     "prompt_number": 1
    },
    {
     "cell_type": "markdown",
     "metadata": {},
     "source": [
      "reading"
     ]
    },
    {
     "cell_type": "code",
     "collapsed": false,
     "input": [
      "text_file = open('neuron_data.txt')\n",
      "lines = text_file.readlines()                      #  \ub77c\uc778\ubcc4\ub85c \uc77d\uc5b4 string\ub4e4\uc758 list\ub97c \ubc18\ud658\n",
      "text_file.close()"
     ],
     "language": "python",
     "metadata": {},
     "outputs": [],
     "prompt_number": 9
    },
    {
     "cell_type": "code",
     "collapsed": false,
     "input": [
      "lines"
     ],
     "language": "python",
     "metadata": {},
     "outputs": [
      {
       "metadata": {},
       "output_type": "pyout",
       "prompt_number": 10,
       "text": [
        "['16.38\\n',\n",
        " '139.90\\n',\n",
        " '441.46\\n',\n",
        " '29.03\\n',\n",
        " '40.93\\n',\n",
        " '202.07\\n',\n",
        " '142.30\\n',\n",
        " '346.00\\n',\n",
        " '300.00']"
       ]
      }
     ],
     "prompt_number": 10
    },
    {
     "cell_type": "code",
     "collapsed": false,
     "input": [
      "text_file = open('neuron_data.txt')\n",
      "lines = text_file.read()                      #  \uc804\uc81c \ud30c\uc77c\uc744 \ud558\ub098\uc758 string\uc73c\ub85c \uc77d\uc74c.\n",
      "text_file.close()"
     ],
     "language": "python",
     "metadata": {},
     "outputs": [],
     "prompt_number": 15
    },
    {
     "cell_type": "code",
     "collapsed": false,
     "input": [
      "lines"
     ],
     "language": "python",
     "metadata": {},
     "outputs": [
      {
       "metadata": {},
       "output_type": "pyout",
       "prompt_number": 16,
       "text": [
        "'16.38\\n139.90\\n441.46\\n29.03\\n40.93\\n202.07\\n142.30\\n346.00\\n300.00'"
       ]
      }
     ],
     "prompt_number": 16
    },
    {
     "cell_type": "markdown",
     "metadata": {},
     "source": [
      "Writing Text Files"
     ]
    },
    {
     "cell_type": "code",
     "collapsed": false,
     "input": [
      "f= open ('count.txt', 'w')\n",
      "f.write('this is just a dummy test')\n",
      "f.close()\n",
      "g= open('count.txt')\n",
      "g.read()"
     ],
     "language": "python",
     "metadata": {},
     "outputs": [
      {
       "metadata": {},
       "output_type": "pyout",
       "prompt_number": 21,
       "text": [
        "'this is just a dummy test'"
       ]
      }
     ],
     "prompt_number": 21
    },
    {
     "cell_type": "heading",
     "level": 3,
     "metadata": {},
     "source": [
      "Converting Numbers to Text"
     ]
    },
    {
     "cell_type": "code",
     "collapsed": false,
     "input": [
      "'result:%3i' %(17)"
     ],
     "language": "python",
     "metadata": {},
     "outputs": [
      {
       "metadata": {},
       "output_type": "pyout",
       "prompt_number": 30,
       "text": [
        "'result: 17'"
       ]
      }
     ],
     "prompt_number": 30
    },
    {
     "cell_type": "code",
     "collapsed": false,
     "input": [
      "'%8.3f' %(12.3456)"
     ],
     "language": "python",
     "metadata": {},
     "outputs": [
      {
       "metadata": {},
       "output_type": "pyout",
       "prompt_number": 31,
       "text": [
        "'  12.346'"
       ]
      }
     ],
     "prompt_number": 31
    },
    {
     "cell_type": "code",
     "collapsed": false,
     "input": [
      "name='E.coli'"
     ],
     "language": "python",
     "metadata": {},
     "outputs": [],
     "prompt_number": 32
    },
    {
     "cell_type": "code",
     "collapsed": false,
     "input": [
      "'Hello, %s' % (name)"
     ],
     "language": "python",
     "metadata": {},
     "outputs": [
      {
       "metadata": {},
       "output_type": "pyout",
       "prompt_number": 34,
       "text": [
        "'Hello, E.coli'"
       ]
      }
     ],
     "prompt_number": 34
    },
    {
     "cell_type": "heading",
     "level": 3,
     "metadata": {},
     "source": [
      "Writing a Data column to a Text File"
     ]
    },
    {
     "cell_type": "code",
     "collapsed": false,
     "input": [
      "data = [16.38, 139.90, 441.46, 29.03, 40.93, 202.07, 142.30, 346.00, 300.00]\n",
      "out=[]\n",
      "for value in data:\n",
      "    out.append(str(value)+ '\\n')\n",
      "open('results.txt', 'w').writelines(out)\n"
     ],
     "language": "python",
     "metadata": {},
     "outputs": [],
     "prompt_number": 40
    },
    {
     "cell_type": "markdown",
     "metadata": {},
     "source": [
      "string\ub4e4\uc758 list\ub97c \ud30c\uc77c\uc5d0 \uc4f0\uae30 \uc704\ud574\uc11c\ub294 writelines()\ud568\uc218\ub97c \uc0ac\uc6a9\ud568"
     ]
    },
    {
     "cell_type": "code",
     "collapsed": false,
     "input": [
      "out = []                                         #list\n",
      "for value in data:\n",
      "    out.append(str(value))\n",
      "out= '\\n'.join(out)                              #string\n",
      "open('results.txt', 'w').write(out)\n"
     ],
     "language": "python",
     "metadata": {},
     "outputs": [],
     "prompt_number": 41
    },
    {
     "cell_type": "code",
     "collapsed": false,
     "input": [
      "L=['1','2','3','4']\n",
      "'+'.join(L)\n"
     ],
     "language": "python",
     "metadata": {},
     "outputs": [
      {
       "metadata": {},
       "output_type": "pyout",
       "prompt_number": 42,
       "text": [
        "'1+2+3+4'"
       ]
      }
     ],
     "prompt_number": 42
    },
    {
     "cell_type": "heading",
     "level": 3,
     "metadata": {},
     "source": []
    },
    {
     "cell_type": "code",
     "collapsed": false,
     "input": [
      "data= [3.53, 3.45, 3.52, 3.72, 3.43]\n",
      "average = sum(data)/len(data)\n",
      "print average                             #\ud3c9\uade0"
     ],
     "language": "python",
     "metadata": {},
     "outputs": [
      {
       "output_type": "stream",
       "stream": "stdout",
       "text": [
        "3.53\n"
       ]
      }
     ],
     "prompt_number": 43
    },
    {
     "cell_type": "code",
     "collapsed": false,
     "input": [
      "import math\n",
      "total = 0.0\n",
      "for value in data:\n",
      "    total += (value -average)**2\n",
      "stddev =math.sqrt(total/len(data))\n",
      "print stddev                            #\ud45c\uc900\ud3b8\ucc28"
     ],
     "language": "python",
     "metadata": {},
     "outputs": [
      {
       "output_type": "stream",
       "stream": "stdout",
       "text": [
        "0.10256705124\n"
       ]
      }
     ],
     "prompt_number": 44
    },
    {
     "cell_type": "code",
     "collapsed": false,
     "input": [
      "data.sort()\n",
      "mid = len(data)/2\n",
      "if len(data) %2==0:\n",
      "    mwdian = (data[mid-1]+data[mid]) /2.0\n",
      "else:\n",
      "    median = data[mid]\n",
      "print median                           #\uc911\uc559\uac12"
     ],
     "language": "python",
     "metadata": {},
     "outputs": [
      {
       "output_type": "stream",
       "stream": "stdout",
       "text": [
        "3.52\n"
       ]
      }
     ],
     "prompt_number": 45
    },
    {
     "cell_type": "heading",
     "level": 3,
     "metadata": {},
     "source": []
    },
    {
     "cell_type": "code",
     "collapsed": false,
     "input": [],
     "language": "python",
     "metadata": {},
     "outputs": []
    }
   ],
   "metadata": {}
  }
 ]
}