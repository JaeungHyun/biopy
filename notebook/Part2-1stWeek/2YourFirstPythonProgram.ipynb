{
 "metadata": {
  "name": "",
  "signature": "sha256:23d955f27e810764693b1eb57a7bd37e8dadde4731001ab7f5ab900e60ea51e5"
 },
 "nbformat": 3,
 "nbformat_minor": 0,
 "worksheets": [
  {
   "cells": [
    {
     "cell_type": "heading",
     "level": 1,
     "metadata": {},
     "source": [
      "Your First Python Program"
     ]
    },
    {
     "cell_type": "code",
     "collapsed": false,
     "input": [],
     "language": "python",
     "metadata": {},
     "outputs": []
    },
    {
     "cell_type": "heading",
     "level": 3,
     "metadata": {},
     "source": [
      "How to calulate the amino acid frequency in the sequence of insulin"
     ]
    },
    {
     "cell_type": "code",
     "collapsed": false,
     "input": [],
     "language": "python",
     "metadata": {},
     "outputs": []
    },
    {
     "cell_type": "markdown",
     "metadata": {},
     "source": [
      "\n",
      "\n",
      "\uc778\uc290\ub9b0: 21\uac1c\uc758 \uc544\ubbf8\ub178\uc0b0\uc73c\ub85c \uad6c\uc131\ub41c A\uc0ac\uc2ac\uacfc 30\uac1c\uc758 \uc544\ubbf8\ub178\uc0b0\uc73c\ub85c \uad6c\uc131\ub41c B\uc0ac\uc2ac\uc774 s-s\uacb0\ud569(\uc774\ud669\ud654\uacb0\ud569)\uc73c\ub85c \uc5f0\uacb0\ub41c \uad6c\uc870\ub97c \uac00\uc9c4 \ud638\ub974\ubaac\n",
      "\n",
      "20\uac1c\uc758 \uc544\ubbf8\ub178\uc0b0\uc774 \uc778\uc290\ub9b0 \ub2e8\ubc31\uc9c8\uc5d0  \uba87\uac1c\uc529 \uc788\ub294\uc9c0 \uc788\ub294\uc9c0 \uc54c \uc218 \uc788\uc74c."
     ]
    },
    {
     "cell_type": "heading",
     "level": 4,
     "metadata": {},
     "source": [
      "\ub2e8\ubc31\uc9c8\uc758 amio acid frequency\ub97c \ubd84\uc11d\ud568\uc73c\uc368 \uc54c \uc218 \uc788\ub294 \uac83\ub4e4"
     ]
    },
    {
     "cell_type": "markdown",
     "metadata": {},
     "source": [
      "\n",
      "\n",
      "\n",
      "\n",
      "\n",
      "\uc2dc\uc2a4\ud14c\uc778\uc73c\ub85c \uc778\ud574 \uac00\ub2a5\ud55c \uc774\ud669\ud654\uacb0\ud569\uc758 \uc218,\n",
      "\n",
      "\uc774\uc0c1\uc801\uc73c\ub85c \ub9ce\uc740 \uc18c\uc218\uc131 \uacc1\uc0ac\uc2ac(\uc18c\uc218\uc131 \uc544\ubbf8\ub178\uc0b0)\uc740 \ub9c9\uad00\ud1b5\uc601\uc5ed\uc744 \uc554\uc2dc\ud568\n",
      "\n",
      "\ud575\uc0b0 binding\uc5d0 \uad00\uc5ec\ud560 \uc218 \uc788\ub294 \uadf9\uc131(+) \uacc1\uc0ac\uc2ac\uc758 \uc218. \ub4f1\n"
     ]
    },
    {
     "cell_type": "code",
     "collapsed": false,
     "input": [],
     "language": "python",
     "metadata": {},
     "outputs": [],
     "prompt_number": 0
    },
    {
     "cell_type": "code",
     "collapsed": false,
     "input": [
      "# insulin [Homo sapience]  GI:386828\n",
      "# extracted 51 amino acids of A+B chain\n",
      "\n",
      "insulin =\"GIVEQCCTSICSLYQLENYNFVNQHLCGSHL    \\VEALYLVCGERGFFYTPKT\"\n",
      "for amino_acid in \"ACDEFGHI KLMNPQRSTVWY\":\n",
      "    number = insulin.count(amino_acid)\n",
      "    print amino_acid, number\n",
      "   "
     ],
     "language": "python",
     "metadata": {},
     "outputs": [
      {
       "output_type": "stream",
       "stream": "stdout",
       "text": [
        "A 1\n",
        "C 5\n",
        "D 0\n",
        "E 4\n",
        "F 3\n",
        "G 4\n",
        "H 2\n",
        "I 2\n",
        "  4\n",
        "K 1\n",
        "L 6\n",
        "M 0\n",
        "N 3\n",
        "P 1\n",
        "Q 3\n",
        "R 1\n",
        "S 3\n",
        "T 3\n",
        "V 4\n",
        "W 0\n",
        "Y 4\n"
       ]
      }
     ],
     "prompt_number": 18
    },
    {
     "cell_type": "markdown",
     "metadata": {},
     "source": [
      "IDLE editor \uc0ac\uc6a9\n",
      "\n",
      "IDLE \uc5d0\uc11c create a new file\n",
      "\n",
      "F5 \ub610\ub294 Run-->Run Module"
     ]
    },
    {
     "cell_type": "markdown",
     "metadata": {},
     "source": [
      "\ub610\ub294 aa_count.py\ub85c \uc800\uc7a5\ud6c4\n",
      "\ud130\ubbf8\ub110\uc5d0\uc11c python aa_count.py"
     ]
    },
    {
     "cell_type": "heading",
     "level": 3,
     "metadata": {},
     "source": [
      "String"
     ]
    },
    {
     "cell_type": "code",
     "collapsed": false,
     "input": [
      "a='ggggggg'\n",
      "b=\"abcd\"\n",
      "c=\"\"\"gef\"\"\"\n",
      "d='''origin'''\n"
     ],
     "language": "python",
     "metadata": {},
     "outputs": [],
     "prompt_number": 34
    },
    {
     "cell_type": "code",
     "collapsed": false,
     "input": [
      "print  a,b,c,d\n"
     ],
     "language": "python",
     "metadata": {},
     "outputs": [
      {
       "output_type": "stream",
       "stream": "stdout",
       "text": [
        "ggggggg abcd gef origin\n"
       ]
      }
     ],
     "prompt_number": 36
    },
    {
     "cell_type": "code",
     "collapsed": false,
     "input": [
      "text= '''abcdefg\n",
      "hijklmn      \n",
      "opqurst\n",
      "\n",
      "dfdfkjdkjf'''"
     ],
     "language": "python",
     "metadata": {},
     "outputs": [],
     "prompt_number": 37
    },
    {
     "cell_type": "code",
     "collapsed": false,
     "input": [
      "print text"
     ],
     "language": "python",
     "metadata": {},
     "outputs": [
      {
       "output_type": "stream",
       "stream": "stdout",
       "text": [
        "abcdefg\n",
        "hijklmn      \n",
        "opqurst\n",
        "\n",
        "dfdfkjdkjf\n"
       ]
      }
     ],
     "prompt_number": 38
    },
    {
     "cell_type": "markdown",
     "metadata": {},
     "source": [
      "@ \ud55c\ubc88 \ub9cc\ub4e4\uc5b4\uc9c4 string\uc740 \ubc14\ub014\uc218 \uc5c6\uc74c"
     ]
    },
    {
     "cell_type": "markdown",
     "metadata": {},
     "source": []
    },
    {
     "cell_type": "markdown",
     "metadata": {},
     "source": [
      "indexing"
     ]
    },
    {
     "cell_type": "code",
     "collapsed": false,
     "input": [
      "'Protein'[0]"
     ],
     "language": "python",
     "metadata": {},
     "outputs": [
      {
       "metadata": {},
       "output_type": "pyout",
       "prompt_number": 1,
       "text": [
        "'P'"
       ]
      }
     ],
     "prompt_number": 1
    },
    {
     "cell_type": "code",
     "collapsed": false,
     "input": [
      "'Protein'[1]"
     ],
     "language": "python",
     "metadata": {},
     "outputs": [
      {
       "metadata": {},
       "output_type": "pyout",
       "prompt_number": 2,
       "text": [
        "'r'"
       ]
      }
     ],
     "prompt_number": 2
    },
    {
     "cell_type": "code",
     "collapsed": false,
     "input": [
      "'Protein'[-1]"
     ],
     "language": "python",
     "metadata": {},
     "outputs": [
      {
       "metadata": {},
       "output_type": "pyout",
       "prompt_number": 4,
       "text": [
        "'n'"
       ]
      }
     ],
     "prompt_number": 4
    },
    {
     "cell_type": "code",
     "collapsed": false,
     "input": [
      "'Protein'[-2]"
     ],
     "language": "python",
     "metadata": {},
     "outputs": [
      {
       "metadata": {},
       "output_type": "pyout",
       "prompt_number": 5,
       "text": [
        "'i'"
       ]
      }
     ],
     "prompt_number": 5
    },
    {
     "cell_type": "markdown",
     "metadata": {},
     "source": [
      "slicing"
     ]
    },
    {
     "cell_type": "code",
     "collapsed": false,
     "input": [
      "'Protein'[0:3]"
     ],
     "language": "python",
     "metadata": {},
     "outputs": [
      {
       "metadata": {},
       "output_type": "pyout",
       "prompt_number": 6,
       "text": [
        "'Pro'"
       ]
      }
     ],
     "prompt_number": 6
    },
    {
     "cell_type": "code",
     "collapsed": false,
     "input": [
      "'Protein'[1:]"
     ],
     "language": "python",
     "metadata": {},
     "outputs": [
      {
       "metadata": {},
       "output_type": "pyout",
       "prompt_number": 7,
       "text": [
        "'rotein'"
       ]
      }
     ],
     "prompt_number": 7
    },
    {
     "cell_type": "markdown",
     "metadata": {},
     "source": [
      "String Arithmetics"
     ]
    },
    {
     "cell_type": "code",
     "collapsed": false,
     "input": [
      "'Protein'+' '+'degradation'"
     ],
     "language": "python",
     "metadata": {},
     "outputs": [
      {
       "metadata": {},
       "output_type": "pyout",
       "prompt_number": 10,
       "text": [
        "'Protein degradation'"
       ]
      }
     ],
     "prompt_number": 10
    },
    {
     "cell_type": "code",
     "collapsed": false,
     "input": [
      "'Protein'*2"
     ],
     "language": "python",
     "metadata": {},
     "outputs": [
      {
       "metadata": {},
       "output_type": "pyout",
       "prompt_number": 11,
       "text": [
        "'ProteinProtein'"
       ]
      }
     ],
     "prompt_number": 11
    },
    {
     "cell_type": "code",
     "collapsed": false,
     "input": [
      "'*'*20"
     ],
     "language": "python",
     "metadata": {},
     "outputs": [
      {
       "metadata": {},
       "output_type": "pyout",
       "prompt_number": 13,
       "text": [
        "'********************'"
       ]
      }
     ],
     "prompt_number": 13
    },
    {
     "cell_type": "markdown",
     "metadata": {},
     "source": [
      "string\ub3c4\uba54\uc778\uc758 \uc5f0\uc0b0\uc790\ub294 string object\uace0\uc720\uc758 \uc5f0\uc0b0\uc790\ub85c \uc218 \uc5f0\uc0b0\uacfc\ub294 \uc758\ubbf8\ub294 \ube44\uc2b7\ud558\uc9c0\ub9cc \ubcc4\uac1c\uc758 \uac83\uc784."
     ]
    },
    {
     "cell_type": "code",
     "collapsed": false,
     "input": [],
     "language": "python",
     "metadata": {},
     "outputs": [],
     "prompt_number": 13
    },
    {
     "cell_type": "code",
     "collapsed": false,
     "input": [
      "len('Protein') # built-in function"
     ],
     "language": "python",
     "metadata": {},
     "outputs": [
      {
       "metadata": {},
       "output_type": "pyout",
       "prompt_number": 16,
       "text": [
        "7"
       ]
      }
     ],
     "prompt_number": 16
    },
    {
     "cell_type": "markdown",
     "metadata": {},
     "source": [
      "counting characters"
     ]
    },
    {
     "cell_type": "code",
     "collapsed": false,
     "input": [
      "'Protein'.count('r') #method"
     ],
     "language": "python",
     "metadata": {},
     "outputs": [
      {
       "metadata": {},
       "output_type": "pyout",
       "prompt_number": 15,
       "text": [
        "1"
       ]
      }
     ],
     "prompt_number": 15
    },
    {
     "cell_type": "markdown",
     "metadata": {},
     "source": []
    },
    {
     "cell_type": "heading",
     "level": 3,
     "metadata": {},
     "source": [
      "Loops with for"
     ]
    },
    {
     "cell_type": "markdown",
     "metadata": {},
     "source": [
      "sequence-like object\uac00 \ud544\uc694\ud568"
     ]
    },
    {
     "cell_type": "code",
     "collapsed": false,
     "input": [
      "for character in 'hemoglobin': #string\n",
      "    print character,"
     ],
     "language": "python",
     "metadata": {},
     "outputs": [
      {
       "output_type": "stream",
       "stream": "stdout",
       "text": [
        "h e m o g l o b i n\n"
       ]
      }
     ],
     "prompt_number": 18
    },
    {
     "cell_type": "code",
     "collapsed": false,
     "input": [
      "for  i  in [1,2,3,4,5]:    #list of numbers\n",
      "    print i,"
     ],
     "language": "python",
     "metadata": {},
     "outputs": [
      {
       "output_type": "stream",
       "stream": "stdout",
       "text": [
        "1 2 3 4 5\n"
       ]
      }
     ],
     "prompt_number": 23
    },
    {
     "cell_type": "code",
     "collapsed": false,
     "input": [],
     "language": "python",
     "metadata": {},
     "outputs": []
    },
    {
     "cell_type": "code",
     "collapsed": false,
     "input": [
      "for number in range(10):  #function\n",
      "    print number,"
     ],
     "language": "python",
     "metadata": {},
     "outputs": [
      {
       "output_type": "stream",
       "stream": "stdout",
       "text": [
        "0 1 2 3 4 5 6 7 8 9\n"
       ]
      }
     ],
     "prompt_number": 25
    },
    {
     "cell_type": "heading",
     "level": 3,
     "metadata": {},
     "source": [
      "\ub4e4\uc5ec\uc4f0\uae30"
     ]
    },
    {
     "cell_type": "markdown",
     "metadata": {},
     "source": [
      "\ud568\uaed8 \uc218\ud589\ub418\ub294 '\ucf54\ub4dc\ube14\ub7ed'\uc744 \ud45c\uc2dc\ud558\uae30 \uc704\ud574 \ub4e4\uc5ec\uc4f0\uae30\ub97c \ud574\uc57c\ud568."
     ]
    },
    {
     "cell_type": "markdown",
     "metadata": {},
     "source": [
      "\ucf54\ub4dc\ube14\ub7ed\uc740 \ucf5c\ub860(:)\uc73c\ub85c \uc2dc\uc791\ud558\uace0 \uac19\uc740\ud06c\uae30\ub9cc\ud07c \ub4e4\uc5ec\uc4f0\uae30\ub41c \uba85\ub839\uc5b4\ub4e4\uc774 \ub4a4\ub530\ub77c\uc634"
     ]
    },
    {
     "cell_type": "markdown",
     "metadata": {},
     "source": [
      "\ucf54\ub4dc\ube14\ub7ed\uc740 loops\ubfd0\ub9cc \uc544\ub2c8\ub77c \uc870\uac74\ubb38, \ud568\uc218, \ud074\ub798\uc2a4\ub4f1\uc5d0 \uc0ac\uc6a9\ub428."
     ]
    },
    {
     "cell_type": "heading",
     "level": 3,
     "metadata": {},
     "source": [
      "Print"
     ]
    },
    {
     "cell_type": "code",
     "collapsed": false,
     "input": [
      "print 7\n"
     ],
     "language": "python",
     "metadata": {},
     "outputs": [
      {
       "output_type": "stream",
       "stream": "stdout",
       "text": [
        "7\n"
       ]
      }
     ],
     "prompt_number": 35
    },
    {
     "cell_type": "code",
     "collapsed": false,
     "input": [
      "print 'insulin'"
     ],
     "language": "python",
     "metadata": {},
     "outputs": [
      {
       "output_type": "stream",
       "stream": "stdout",
       "text": [
        "insulin\n"
       ]
      }
     ],
     "prompt_number": 36
    },
    {
     "cell_type": "code",
     "collapsed": false,
     "input": [
      "a='insulin'\n",
      "print a"
     ],
     "language": "python",
     "metadata": {},
     "outputs": [
      {
       "output_type": "stream",
       "stream": "stdout",
       "text": [
        "insulin\n"
       ]
      }
     ],
     "prompt_number": 40
    },
    {
     "cell_type": "code",
     "collapsed": false,
     "input": [
      "print 7, 'protein:' , a"
     ],
     "language": "python",
     "metadata": {},
     "outputs": [
      {
       "output_type": "stream",
       "stream": "stdout",
       "text": [
        "7 protein: insulin\n"
       ]
      }
     ],
     "prompt_number": 42
    },
    {
     "cell_type": "code",
     "collapsed": false,
     "input": [
      "print 7, 'protein:'\n",
      "print a"
     ],
     "language": "python",
     "metadata": {},
     "outputs": [
      {
       "output_type": "stream",
       "stream": "stdout",
       "text": [
        "7 protein:\n",
        "insulin\n"
       ]
      }
     ],
     "prompt_number": 49
    },
    {
     "cell_type": "code",
     "collapsed": false,
     "input": [
      "print 7, 'protein:' ,\n",
      "print a"
     ],
     "language": "python",
     "metadata": {},
     "outputs": [
      {
       "output_type": "stream",
       "stream": "stdout",
       "text": [
        "7 protein: insulin\n"
       ]
      }
     ],
     "prompt_number": 58
    },
    {
     "cell_type": "heading",
     "level": 3,
     "metadata": {},
     "source": [
      "\n"
     ]
    },
    {
     "cell_type": "raw",
     "metadata": {},
     "source": [
      "\ub79c\ub364 \uc2dc\ud000\uc2a4"
     ]
    },
    {
     "cell_type": "code",
     "collapsed": false,
     "input": [
      "import random\n",
      "alphabet =\"AGCT\"\n",
      "sequence =\"\"\n",
      "for i in range(10):\n",
      "    index = random.randint(0,3)\n",
      "    sequence =sequence + alphabet[index]\n",
      "print sequence"
     ],
     "language": "python",
     "metadata": {},
     "outputs": [
      {
       "output_type": "stream",
       "stream": "stdout",
       "text": [
        "CAACAGATCT\n"
       ]
      }
     ],
     "prompt_number": 76
    },
    {
     "cell_type": "raw",
     "metadata": {},
     "source": [
      "\uc2ac\ub77c\uc774\ub529 \uc708\ub3c4"
     ]
    },
    {
     "cell_type": "code",
     "collapsed": false,
     "input": [
      "seq= \"PROTEINSEQUENCE\"\n",
      "for i in range(len(seq)-4):\n",
      "    print seq[i:i+5]"
     ],
     "language": "python",
     "metadata": {},
     "outputs": [
      {
       "output_type": "stream",
       "stream": "stdout",
       "text": [
        "PROTE\n",
        "ROTEI\n",
        "OTEIN\n",
        "TEINS\n",
        "EINSE\n",
        "INSEQ\n",
        "NSEQU\n",
        "SEQUE\n",
        "EQUEN\n",
        "QUENC\n",
        "UENCE\n"
       ]
      }
     ],
     "prompt_number": 80
    },
    {
     "cell_type": "markdown",
     "metadata": {},
     "source": [
      "\uc5f0\uc2b5"
     ]
    },
    {
     "cell_type": "code",
     "collapsed": false,
     "input": [
      "insulin =\"GIVEQCCTSICSLYQLENYNFVNQHLCGSHLVEALYLVCGERGFFYTPKT\""
     ],
     "language": "python",
     "metadata": {},
     "outputs": [
      {
       "output_type": "stream",
       "stream": "stdout",
       "text": [
        "\n",
        "G\n",
        "GI\n",
        "GIV\n",
        "GIVE\n",
        "GIVEQ\n",
        "GIVEQC\n",
        "GIVEQCC\n",
        "GIVEQCCT\n",
        "GIVEQCCTS\n",
        "GIVEQCCTSI\n",
        "GIVEQCCTSIC\n",
        "GIVEQCCTSICS\n",
        "GIVEQCCTSICSL\n",
        "GIVEQCCTSICSLY\n",
        "GIVEQCCTSICSLYQ\n",
        "GIVEQCCTSICSLYQL\n",
        "GIVEQCCTSICSLYQLE\n",
        "GIVEQCCTSICSLYQLEN\n",
        "GIVEQCCTSICSLYQLENY\n",
        "GIVEQCCTSICSLYQLENYN\n",
        "GIVEQCCTSICSLYQLENYNF\n",
        "GIVEQCCTSICSLYQLENYNFV\n",
        "GIVEQCCTSICSLYQLENYNFVN\n",
        "GIVEQCCTSICSLYQLENYNFVNQ\n",
        "GIVEQCCTSICSLYQLENYNFVNQH\n",
        "GIVEQCCTSICSLYQLENYNFVNQHL\n",
        "GIVEQCCTSICSLYQLENYNFVNQHLC\n",
        "GIVEQCCTSICSLYQLENYNFVNQHLCG\n",
        "GIVEQCCTSICSLYQLENYNFVNQHLCGS\n",
        "GIVEQCCTSICSLYQLENYNFVNQHLCGSH\n",
        "GIVEQCCTSICSLYQLENYNFVNQHLCGSHL\n",
        "GIVEQCCTSICSLYQLENYNFVNQHLCGSHLV\n",
        "GIVEQCCTSICSLYQLENYNFVNQHLCGSHLVE\n",
        "GIVEQCCTSICSLYQLENYNFVNQHLCGSHLVEA\n",
        "GIVEQCCTSICSLYQLENYNFVNQHLCGSHLVEAL\n",
        "GIVEQCCTSICSLYQLENYNFVNQHLCGSHLVEALY\n",
        "GIVEQCCTSICSLYQLENYNFVNQHLCGSHLVEALYL\n",
        "GIVEQCCTSICSLYQLENYNFVNQHLCGSHLVEALYLV\n",
        "GIVEQCCTSICSLYQLENYNFVNQHLCGSHLVEALYLVC\n",
        "GIVEQCCTSICSLYQLENYNFVNQHLCGSHLVEALYLVCG\n",
        "GIVEQCCTSICSLYQLENYNFVNQHLCGSHLVEALYLVCGE\n",
        "GIVEQCCTSICSLYQLENYNFVNQHLCGSHLVEALYLVCGER\n",
        "GIVEQCCTSICSLYQLENYNFVNQHLCGSHLVEALYLVCGERG\n",
        "GIVEQCCTSICSLYQLENYNFVNQHLCGSHLVEALYLVCGERGF\n",
        "GIVEQCCTSICSLYQLENYNFVNQHLCGSHLVEALYLVCGERGFF\n",
        "GIVEQCCTSICSLYQLENYNFVNQHLCGSHLVEALYLVCGERGFFY\n",
        "GIVEQCCTSICSLYQLENYNFVNQHLCGSHLVEALYLVCGERGFFYT\n",
        "GIVEQCCTSICSLYQLENYNFVNQHLCGSHLVEALYLVCGERGFFYTP\n",
        "GIVEQCCTSICSLYQLENYNFVNQHLCGSHLVEALYLVCGERGFFYTPK\n"
       ]
      }
     ],
     "prompt_number": 81
    },
    {
     "cell_type": "code",
     "collapsed": false,
     "input": [],
     "language": "python",
     "metadata": {},
     "outputs": []
    }
   ],
   "metadata": {}
  }
 ]
}