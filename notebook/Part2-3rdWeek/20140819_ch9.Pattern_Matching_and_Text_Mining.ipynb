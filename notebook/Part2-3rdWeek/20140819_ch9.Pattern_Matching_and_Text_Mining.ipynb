{
 "metadata": {
  "name": "20140819 ch9. pattern matching and text mining.ipynb",
  "signature": "sha256:d843a98ea9683806419c79682b289b3b37739a7fb694beb891a1af15a16b18e8"
 },
 "nbformat": 3,
 "nbformat_minor": 0,
 "worksheets": [
  {
   "cells": [
    {
     "cell_type": "markdown",
     "metadata": {},
     "source": [
      "# Chapter 9. Pattern Matching and Text Mining\n",
      "### in this capter\n",
      "STORY : Search a phosphorylation motif in a protein sequence\n",
      "\n",
      "* There are several publicly available resources dedicated to functional motifs\n",
      "    - ELM : http://elm.eu.org\n",
      "    - PROSITE : http://prosite.expasy.org\n",
      "* Sequence functional motifs can be represented using a special notation called 'regular expressions'\n",
      "* A regular expression (regexp) is a string syntax composed of characters and metacharacters that represent sets of strings\n",
      "* The built-in 're' module provides metacharacters, rules, and functionalities to write and interpret regular expressions and match them to string variables."
     ]
    },
    {
     "cell_type": "markdown",
     "metadata": {},
     "source": [
      "#### Example Python Session"
     ]
    },
    {
     "cell_type": "code",
     "collapsed": false,
     "input": [
      "import re\n",
      "seq = 'VSVLTMFRYAGWLDRLYMLVGTQLAAIIHGVALPLMMLI'\n",
      "pattern = re.compile('[ST]Q')\n",
      "match = pattern.search(seq)\n",
      "if match:\n",
      "    print '%10s' % (seq[match.start() - 4: match.end() + 4])\n",
      "    print '%6s' % match.group()\n",
      "else:\n",
      "    print \"no match\""
     ],
     "language": "python",
     "metadata": {},
     "outputs": [
      {
       "output_type": "stream",
       "stream": "stdout",
       "text": [
        "MLVGTQLAAI\n",
        "    TQ\n"
       ]
      }
     ],
     "prompt_number": 1
    },
    {
     "cell_type": "markdown",
     "metadata": {},
     "source": [
      "#### Compiling Regular Expressions\n",
      "* the method to compile a string and convert it into a regular expression object"
     ]
    },
    {
     "cell_type": "code",
     "collapsed": false,
     "input": [
      "import re\n",
      "seq = 'SRQSAMGSNKSKPKDASQRRRSLEPAENVHGAGGGAFPASQRPSKP'\n",
      "# ignore uppercase and lowercase\n",
      "motif = 'r.[st][^P]'\n",
      "regexp = re.compile(motif, re.IGNORECASE)\n",
      "print regexp"
     ],
     "language": "python",
     "metadata": {},
     "outputs": [
      {
       "output_type": "stream",
       "stream": "stdout",
       "text": [
        "<_sre.SRE_Pattern object at 0x0000000007C75F30>\n"
       ]
      }
     ],
     "prompt_number": 2
    },
    {
     "cell_type": "markdown",
     "metadata": {},
     "source": [
      "#### Pattern Matching\n",
      "* search() : looking for a location where the regular expression matches for the first time\n",
      "* match() : finding the regular expression match starting at the first position of a sequence\n",
      "* group() : returns the first matching substing\n",
      "* start() : returns the start position of the match\n",
      "* end() : returns the end position of the match\n",
      "* span() : returns a tuple containing the (start, end) positions of the match\n",
      "* findall() : returns a list containint all the matching substings\n",
      "* finditer() : finds all the match objects and returns them in the form of an iterator"
     ]
    },
    {
     "cell_type": "code",
     "collapsed": false,
     "input": [
      "match = regexp.search(seq)\n",
      "print match\n",
      "print match.group()\n",
      "print match.start()\n",
      "print match.end()\n",
      "print match.span()"
     ],
     "language": "python",
     "metadata": {},
     "outputs": [
      {
       "output_type": "stream",
       "stream": "stdout",
       "text": [
        "<_sre.SRE_Match object at 0x0000000007C56C60>\n",
        "RQSA\n",
        "1\n",
        "5\n",
        "(1, 5)\n"
       ]
      }
     ],
     "prompt_number": 3
    },
    {
     "cell_type": "code",
     "collapsed": false,
     "input": [
      "match1 = regexp.match(seq)\n",
      "if match1:\n",
      "    print match1(group)\n",
      "else:\n",
      "    print \"no match\""
     ],
     "language": "python",
     "metadata": {},
     "outputs": [
      {
       "output_type": "stream",
       "stream": "stdout",
       "text": [
        "no match\n"
       ]
      }
     ],
     "prompt_number": 4
    },
    {
     "cell_type": "code",
     "collapsed": false,
     "input": [
      "iter = regexp.finditer(seq)\n",
      "iter"
     ],
     "language": "python",
     "metadata": {},
     "outputs": [
      {
       "metadata": {},
       "output_type": "pyout",
       "prompt_number": 5,
       "text": [
        "<callable-iterator at 0x7c765c0>"
       ]
      }
     ],
     "prompt_number": 5
    },
    {
     "cell_type": "code",
     "collapsed": false,
     "input": [
      "for i in iter:\n",
      "    print i.group()\n",
      "    print i.start()\n",
      "    print i.end()\n",
      "    print i.span()"
     ],
     "language": "python",
     "metadata": {},
     "outputs": [
      {
       "output_type": "stream",
       "stream": "stdout",
       "text": [
        "RQSA\n",
        "1\n",
        "5\n",
        "(1, 5)\n",
        "RRSL\n",
        "19\n",
        "23\n",
        "(19, 23)\n",
        "RPSK\n",
        "41\n",
        "45\n",
        "(41, 45)\n"
       ]
      }
     ],
     "prompt_number": 6
    },
    {
     "cell_type": "code",
     "collapsed": false,
     "input": [
      "all = regexp.findall(seq)\n",
      "all"
     ],
     "language": "python",
     "metadata": {},
     "outputs": [
      {
       "metadata": {},
       "output_type": "pyout",
       "prompt_number": 7,
       "text": [
        "['RQSA', 'RRSL', 'RPSK']"
       ]
      }
     ],
     "prompt_number": 7
    },
    {
     "cell_type": "code",
     "collapsed": false,
     "input": [
      "for a in all:\n",
      "    print a.group()\n",
      "    print a.start()\n",
      "    print a.end()\n",
      "    print a.span()"
     ],
     "language": "python",
     "metadata": {},
     "outputs": [
      {
       "ename": "AttributeError",
       "evalue": "'str' object has no attribute 'group'",
       "output_type": "pyerr",
       "traceback": [
        "\u001b[1;31m---------------------------------------------------------------------------\u001b[0m\n\u001b[1;31mAttributeError\u001b[0m                            Traceback (most recent call last)",
        "\u001b[1;32m<ipython-input-8-b9349e614161>\u001b[0m in \u001b[0;36m<module>\u001b[1;34m()\u001b[0m\n\u001b[0;32m      1\u001b[0m \u001b[1;32mfor\u001b[0m \u001b[0ma\u001b[0m \u001b[1;32min\u001b[0m \u001b[0mall\u001b[0m\u001b[1;33m:\u001b[0m\u001b[1;33m\u001b[0m\u001b[0m\n\u001b[1;32m----> 2\u001b[1;33m     \u001b[1;32mprint\u001b[0m \u001b[0ma\u001b[0m\u001b[1;33m.\u001b[0m\u001b[0mgroup\u001b[0m\u001b[1;33m(\u001b[0m\u001b[1;33m)\u001b[0m\u001b[1;33m\u001b[0m\u001b[0m\n\u001b[0m\u001b[0;32m      3\u001b[0m     \u001b[1;32mprint\u001b[0m \u001b[0ma\u001b[0m\u001b[1;33m.\u001b[0m\u001b[0mstart\u001b[0m\u001b[1;33m(\u001b[0m\u001b[1;33m)\u001b[0m\u001b[1;33m\u001b[0m\u001b[0m\n\u001b[0;32m      4\u001b[0m     \u001b[1;32mprint\u001b[0m \u001b[0ma\u001b[0m\u001b[1;33m.\u001b[0m\u001b[0mend\u001b[0m\u001b[1;33m(\u001b[0m\u001b[1;33m)\u001b[0m\u001b[1;33m\u001b[0m\u001b[0m\n\u001b[0;32m      5\u001b[0m     \u001b[1;32mprint\u001b[0m \u001b[0ma\u001b[0m\u001b[1;33m.\u001b[0m\u001b[0mspan\u001b[0m\u001b[1;33m(\u001b[0m\u001b[1;33m)\u001b[0m\u001b[1;33m\u001b[0m\u001b[0m\n",
        "\u001b[1;31mAttributeError\u001b[0m: 'str' object has no attribute 'group'"
       ]
      }
     ],
     "prompt_number": 8
    },
    {
     "cell_type": "markdown",
     "metadata": {},
     "source": [
      "#### Grouping\n",
      "* '()' makes group\n",
      "* The group() method with no argument or the argument '0' returns the complete matching substing\n",
      "* subgroups are numbered from left to right (starting with 1)\n",
      "* groups() : returns a tuple with the all substings\n",
      "* ?P<name> : labels group"
     ]
    },
    {
     "cell_type": "code",
     "collapsed": false,
     "input": [
      "p1 = re.compile('a(bc)(d)')\n",
      "m1 = p1.match('abcd')\n",
      "print m1.group(0)\n",
      "print m1.group(1)\n",
      "print m1.group(2)"
     ],
     "language": "python",
     "metadata": {},
     "outputs": [
      {
       "output_type": "stream",
       "stream": "stdout",
       "text": [
        "abcd\n",
        "bc\n",
        "d\n"
       ]
      }
     ],
     "prompt_number": 9
    },
    {
     "cell_type": "code",
     "collapsed": false,
     "input": [
      "p2 = re.compile('(a(b)c)d')\n",
      "m2 = p2.match('abcd')\n",
      "print m2.group(0)\n",
      "print m2.group(1)\n",
      "print m2.group(2)"
     ],
     "language": "python",
     "metadata": {},
     "outputs": [
      {
       "output_type": "stream",
       "stream": "stdout",
       "text": [
        "abcd\n",
        "abc\n",
        "b\n"
       ]
      }
     ],
     "prompt_number": 10
    },
    {
     "cell_type": "code",
     "collapsed": false,
     "input": [
      "m1.groups()"
     ],
     "language": "python",
     "metadata": {},
     "outputs": [
      {
       "metadata": {},
       "output_type": "pyout",
       "prompt_number": 11,
       "text": [
        "('bc', 'd')"
       ]
      }
     ],
     "prompt_number": 11
    },
    {
     "cell_type": "code",
     "collapsed": false,
     "input": [
      "m2.groups()"
     ],
     "language": "python",
     "metadata": {},
     "outputs": [
      {
       "metadata": {},
       "output_type": "pyout",
       "prompt_number": 12,
       "text": [
        "('abc', 'b')"
       ]
      }
     ],
     "prompt_number": 12
    },
    {
     "cell_type": "code",
     "collapsed": false,
     "input": [
      "p3 = re.compile('(?P<w1>a(?P<w2>b)c)(?P<w3>d)')\n",
      "m3 = p3.match('abcd')\n",
      "print m3.group('w1')\n",
      "print m3.group('w2')"
     ],
     "language": "python",
     "metadata": {},
     "outputs": [
      {
       "output_type": "stream",
       "stream": "stdout",
       "text": [
        "abc\n",
        "b\n"
       ]
      }
     ],
     "prompt_number": 13
    },
    {
     "cell_type": "markdown",
     "metadata": {},
     "source": [
      "#### Modifying Strings\n",
      "* split(s) : splits the string s at the matches of a regular expression\n",
      "* sub(r, s, [c]) : returns a new string in which a given pattern in the s are all replaced with the value of r\n",
      "* subn(r, s, [c]) : returns a tuple of two elements, where the first element is the new string and the second is the number of replacements\n",
      "* and the optional argument c is the maximum number of pattern occurrences to be replaced"
     ]
    },
    {
     "cell_type": "code",
     "collapsed": false,
     "input": [
      "import re\n",
      "separator = re.compile('\\|')\n",
      "annotation = 'ATOM:CA|RES:ALA|CHAIN:B|NUMBERS:166'\n",
      "columns = separator.split(annotation)\n",
      "print columns"
     ],
     "language": "python",
     "metadata": {},
     "outputs": [
      {
       "output_type": "stream",
       "stream": "stdout",
       "text": [
        "['ATOM:CA', 'RES:ALA', 'CHAIN:B', 'NUMBERS:166']\n"
       ]
      }
     ],
     "prompt_number": 14
    },
    {
     "cell_type": "code",
     "collapsed": false,
     "input": [
      "new_annotation = separator.sub('@', annotation, 2)\n",
      "print new_annotation"
     ],
     "language": "python",
     "metadata": {},
     "outputs": [
      {
       "output_type": "stream",
       "stream": "stdout",
       "text": [
        "ATOM:CA@RES:ALA@CHAIN:B|NUMBERS:166\n"
       ]
      }
     ],
     "prompt_number": 15
    },
    {
     "cell_type": "code",
     "collapsed": false,
     "input": [
      "new_annotation2 = separator.subn('@', annotation)\n",
      "print new_annotation2"
     ],
     "language": "python",
     "metadata": {},
     "outputs": [
      {
       "output_type": "stream",
       "stream": "stdout",
       "text": [
        "('ATOM:CA@RES:ALA@CHAIN:B@NUMBERS:166', 3)\n"
       ]
      }
     ],
     "prompt_number": 16
    },
    {
     "cell_type": "markdown",
     "metadata": {},
     "source": [
      "#### Application example\n",
      "* the Transcription Factor Database file format (http://cmgm.stanford.edu/help/manual/databases/tfd.html)\n",
      "<img src = 'D:/PythonStudy/201408 EHH/example 9.2 TFBS DB format.png'>"
     ]
    }
   ],
   "metadata": {}
  }
 ]
}